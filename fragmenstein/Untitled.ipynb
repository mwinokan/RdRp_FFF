{
 "cells": [
  {
   "cell_type": "code",
   "execution_count": 1,
   "id": "54b68e2e-d6a0-4aa0-92a1-d3b99ea499bd",
   "metadata": {},
   "outputs": [
    {
     "name": "stdout",
     "output_type": "stream",
     "text": [
      "\u001b[2mDEBUG: matplotlib data path: /opt/xchem-fragalysis-2/maxwin/conda_slurm/lib/python3.11/site-packages/matplotlib/mpl-data\u001b[0m\n",
      "\u001b[2mDEBUG: CONFIGDIR=/opt/xchem-fragalysis-2/maxwin/.config/matplotlib\u001b[0m\n",
      "\u001b[2mDEBUG: interactive is False\u001b[0m\n",
      "\u001b[2mDEBUG: platform is linux\u001b[0m\n"
     ]
    },
    {
     "name": "stderr",
     "output_type": "stream",
     "text": [
      "/opt/xchem-fragalysis-2/maxwin/conda_slurm/lib/python3.11/site-packages/fragmenstein/igor/pyrosetta_import.py:38: RuntimeWarning:\n",
      "\n",
      "PyRosetta is not installed. A mock object is loaded. Any Igor calls will fail.\n",
      "\n"
     ]
    },
    {
     "data": {
      "application/vnd.jupyter.widget-view+json": {
       "model_id": "7737e85e7561430dadd1039eda270d44",
       "version_major": 2,
       "version_minor": 0
      },
      "text/plain": []
     },
     "metadata": {},
     "output_type": "display_data"
    },
    {
     "name": "stdout",
     "output_type": "stream",
     "text": [
      "\u001b[2mDEBUG: Changing app registry from <pint.registry.LazyRegistry object at 0x7fbf8f5f1990> to <openff.units.units.UnitRegistry object at 0x7fbf8f4ac150>.\u001b[0m\n"
     ]
    }
   ],
   "source": [
    "# %load_ext autoreload\n",
    "# %autoreload 2\n",
    "# from fragmenstein import Wictor, Laboratory\n",
    "# from fragmenstein.laboratory.validator import place_input_validator\n",
    "from pathlib import Path\n",
    "import logging\n",
    "from hippo.fstein import setup_wictor_laboratory, pure_merge"
   ]
  },
  {
   "cell_type": "code",
   "execution_count": 2,
   "id": "4f4506d8-fb70-413f-978a-fb281f5d48aa",
   "metadata": {
    "scrolled": true
   },
   "outputs": [],
   "source": [
    "lab = setup_wictor_laboratory(scratch_dir=Path(\"fstein_scratch\"), protein_path=Path(\"../Flavi_NS5_RdRp/aligned_files/6izx-a/6izx-a_apo-desolv.pdb\"))"
   ]
  },
  {
   "cell_type": "code",
   "execution_count": 3,
   "id": "01fae81d-37b4-446d-abe8-0378f10d7e5b",
   "metadata": {},
   "outputs": [],
   "source": [
    "import hippo"
   ]
  },
  {
   "cell_type": "code",
   "execution_count": 4,
   "id": "45316594-7167-45cb-8685-2f9d79ce31d5",
   "metadata": {},
   "outputs": [
    {
     "data": {
      "text/html": [
       "<pre style=\"white-space:pre;overflow-x:auto;line-height:normal;font-family:Menlo,'DejaVu Sans Mono',consolas,'Courier New',monospace\"><span style=\"font-weight: bold\"> Creating HIPPO animal</span>\n",
       "</pre>\n"
      ],
      "text/plain": [
       "\u001b[1m Creating HIPPO animal\u001b[0m\n"
      ]
     },
     "metadata": {},
     "output_type": "display_data"
    },
    {
     "data": {
      "text/html": [
       "<pre style=\"white-space:pre;overflow-x:auto;line-height:normal;font-family:Menlo,'DejaVu Sans Mono',consolas,'Courier New',monospace\"><span style=\"color: #008080; text-decoration-color: #008080; font-weight: bold\">name</span> = <span style=\"color: #00d7af; text-decoration-color: #00d7af\">RdRp_FFF</span>\n",
       "</pre>\n"
      ],
      "text/plain": [
       "\u001b[1;36mname\u001b[0m = \u001b[38;5;43mRdRp_FFF\u001b[0m\n"
      ]
     },
     "metadata": {},
     "output_type": "display_data"
    },
    {
     "data": {
      "text/html": [
       "<pre style=\"white-space:pre;overflow-x:auto;line-height:normal;font-family:Menlo,'DejaVu Sans Mono',consolas,'Courier New',monospace\"><span style=\"color: #008080; text-decoration-color: #008080; font-weight: bold\">db_path</span> = <span style=\"color: #d7af00; text-decoration-color: #d7af00\">../../BulkDock/TARGETS/Flavi_NS5_RdRp/Flavi_NS5_RdRp.sqlite</span>\n",
       "</pre>\n"
      ],
      "text/plain": [
       "\u001b[1;36mdb_path\u001b[0m = \u001b[38;5;178m../../BulkDock/TARGETS/Flavi_NS5_RdRp/Flavi_NS5_RdRp.sqlite\u001b[0m\n"
      ]
     },
     "metadata": {},
     "output_type": "display_data"
    },
    {
     "data": {
      "text/html": [
       "<pre style=\"white-space:pre;overflow-x:auto;line-height:normal;font-family:Menlo,'DejaVu Sans Mono',consolas,'Courier New',monospace\"><span style=\"color: #808080; text-decoration-color: #808080\">DEBUG: hippo.Database.__init__()</span>\n",
       "</pre>\n"
      ],
      "text/plain": [
       "\u001b[90mDEBUG: hippo.Database.__init__()\u001b[0m\n"
      ]
     },
     "metadata": {},
     "output_type": "display_data"
    },
    {
     "data": {
      "text/html": [
       "<pre style=\"white-space:pre;overflow-x:auto;line-height:normal;font-family:Menlo,'DejaVu Sans Mono',consolas,'Courier New',monospace\"><span style=\"color: #808080; text-decoration-color: #808080\">DEBUG: Database.path = ../../BulkDock/TARGETS/Flavi_NS5_RdRp/Flavi_NS5_RdRp.sqlite</span>\n",
       "</pre>\n"
      ],
      "text/plain": [
       "\u001b[90mDEBUG: Database.path = ../../BulkDock/TARGETS/Flavi_NS5_RdRp/Flavi_NS5_RdRp.sqlite\u001b[0m\n"
      ]
     },
     "metadata": {},
     "output_type": "display_data"
    },
    {
     "data": {
      "text/html": [
       "<pre style=\"white-space:pre;overflow-x:auto;line-height:normal;font-family:Menlo,'DejaVu Sans Mono',consolas,'Courier New',monospace\"><span style=\"color: #808080; text-decoration-color: #808080\">DEBUG: hippo.Database.connect()</span>\n",
       "</pre>\n"
      ],
      "text/plain": [
       "\u001b[90mDEBUG: hippo.Database.connect()\u001b[0m\n"
      ]
     },
     "metadata": {},
     "output_type": "display_data"
    },
    {
     "data": {
      "text/html": [
       "<pre style=\"white-space:pre;overflow-x:auto;line-height:normal;font-family:Menlo,'DejaVu Sans Mono',consolas,'Courier New',monospace\"><span style=\"color: #808080; text-decoration-color: #808080\">DEBUG: sqlite3.version='2.6.0'</span>\n",
       "</pre>\n"
      ],
      "text/plain": [
       "\u001b[90mDEBUG: sqlite3.version='2.6.0'\u001b[0m\n"
      ]
     },
     "metadata": {},
     "output_type": "display_data"
    },
    {
     "data": {
      "text/html": [
       "<pre style=\"white-space:pre;overflow-x:auto;line-height:normal;font-family:Menlo,'DejaVu Sans Mono',consolas,'Courier New',monospace\"><span style=\"background-color: #008000; font-weight: bold\"> Success </span><span style=\"color: #008000; text-decoration-color: #008000; font-weight: bold\"> Database connected @</span><span style=\"color: #d7af00; text-decoration-color: #d7af00; font-weight: bold\"> ../../BulkDock/TARGETS/Flavi_NS5_RdRp/Flavi_NS5_RdRp.sqlite!</span>\n",
       "</pre>\n"
      ],
      "text/plain": [
       "\u001b[1;7;32m Success \u001b[0m\u001b[1;32m Database connected @\u001b[0m\u001b[1;38;5;178m ../../BulkDock/TARGETS/Flavi_NS5_RdRp/Flavi_NS5_RdRp.sqlite!\u001b[0m\n"
      ]
     },
     "metadata": {},
     "output_type": "display_data"
    },
    {
     "data": {
      "text/html": [
       "<pre style=\"white-space:pre;overflow-x:auto;line-height:normal;font-family:Menlo,'DejaVu Sans Mono',consolas,'Courier New',monospace\"><span style=\"background-color: #008000; font-weight: bold\"> Success </span><span style=\"color: #008000; text-decoration-color: #008000; font-weight: bold\"> Initialised animal</span><span style=\"color: #008080; text-decoration-color: #008080; font-weight: bold\"> HIPPO(\"RdRp_FFF\")!</span>\n",
       "</pre>\n"
      ],
      "text/plain": [
       "\u001b[1;7;32m Success \u001b[0m\u001b[1;32m Initialised animal\u001b[0m\u001b[1;36m HIPPO(\"RdRp_FFF\")!\u001b[0m\n"
      ]
     },
     "metadata": {},
     "output_type": "display_data"
    }
   ],
   "source": [
    "animal = hippo.HIPPO(\"RdRp_FFF\", \"../../BulkDock/TARGETS/Flavi_NS5_RdRp/Flavi_NS5_RdRp.sqlite\")"
   ]
  },
  {
   "cell_type": "code",
   "execution_count": 5,
   "id": "c473aa55-76ad-4a8e-885b-7485cd9305ba",
   "metadata": {},
   "outputs": [],
   "source": [
    "hits = animal.poses(tag='[Other] Cavity B (S3) (P2)')"
   ]
  },
  {
   "cell_type": "code",
   "execution_count": null,
   "id": "6f9ecfe8-b4cd-47c3-b45f-53703c0e1b38",
   "metadata": {},
   "outputs": [
    {
     "name": "stdout",
     "output_type": "stream",
     "text": [
      "[2024-12-02 11:52:27,592] CRITICAL - Absorption required for the atom pairs: [[41, 35]]\n",
      "\u001b[7m\u001b[31;1m CRITICAL \u001b[0m\u001b[31;1m Absorption required for the atom pairs: [[41, 35]]!\u001b[0m\n",
      "[2024-12-02 11:52:27,782] CRITICAL - Absorption required for the atom pairs: [[18, 8]]\n",
      "\u001b[7m\u001b[31;1m CRITICAL \u001b[0m\u001b[31;1m Absorption required for the atom pairs: [[18, 8]]!\u001b[0m\n",
      "[2024-12-02 11:52:33,943] CRITICAL - Absorption required for the atom pairs: [[15, 6]]\n",
      "\u001b[7m\u001b[31;1m CRITICAL \u001b[0m\u001b[31;1m Absorption required for the atom pairs: [[15, 6]]!\u001b[0m\n",
      "[2024-12-02 11:52:57,709] CRITICAL - Absorption required for the atom pairs: [[18, 1]]\n",
      "\u001b[7m\u001b[31;1m CRITICAL \u001b[0m\u001b[31;1m Absorption required for the atom pairs: [[18, 1]]!\u001b[0m\n",
      "[2024-12-02 11:53:13,003] CRITICAL - Absorption required for the atom pairs: [[27, 11], [27, 30]]\n",
      "\u001b[7m\u001b[31;1m CRITICAL \u001b[0m\u001b[31;1m Absorption required for the atom pairs: [[27, 11], [27, 30]]!\u001b[0m\n",
      "[2024-12-02 11:53:31,761] CRITICAL - Absorption required for the atom pairs: [[20, 26], [40, 3], [40, 4]]\n",
      "\u001b[7m\u001b[31;1m CRITICAL \u001b[0m\u001b[31;1m Absorption required for the atom pairs: [[20, 26], [40, 3], [40, 4]]!\u001b[0m\n",
      "[2024-12-02 11:53:34,694] CRITICAL - Absorption required for the atom pairs: [[19, 1]]\n",
      "\u001b[7m\u001b[31;1m CRITICAL \u001b[0m\u001b[31;1m Absorption required for the atom pairs: [[19, 1]]!\u001b[0m\n",
      "[2024-12-02 11:58:53,711] CRITICAL - This is impossible. [(2, 1, 10, 21, 20), (7, 8, 9, 10, 11, 12), (19, 20, 21, 10, 22, 23)] share [10] with [] in the inside and [10] on the edge?\n",
      "\u001b[7m\u001b[31;1m CRITICAL \u001b[0m\u001b[31;1m This is impossible. [(2, 1, 10, 21, 20), (7, 8, 9, 10, 11, 12), (19, 20, 21, 10, 22, 23)] share [10] with [] in the inside and [10] on the edge?!\u001b[0m\n",
      "[2024-12-02 11:58:53,719] CRITICAL - This is impossible. [(2, 1, 10, 21, 20), (7, 8, 9, 10, 11, 12), (19, 20, 21, 10, 22, 23)] share [10] with [] in the inside and [10] on the edge?\n",
      "\u001b[7m\u001b[31;1m CRITICAL \u001b[0m\u001b[31;1m This is impossible. [(2, 1, 10, 21, 20), (7, 8, 9, 10, 11, 12), (19, 20, 21, 10, 22, 23)] share [10] with [] in the inside and [10] on the edge?!\u001b[0m\n",
      "[2024-12-02 11:58:53,725] CRITICAL - This is impossible. [(2, 1, 10, 21, 20), (7, 8, 9, 10, 11, 12), (19, 20, 21, 10, 22, 23)] share [10] with [] in the inside and [10] on the edge?\n",
      "\u001b[7m\u001b[31;1m CRITICAL \u001b[0m\u001b[31;1m This is impossible. [(2, 1, 10, 21, 20), (7, 8, 9, 10, 11, 12), (19, 20, 21, 10, 22, 23)] share [10] with [] in the inside and [10] on the edge?!\u001b[0m\n",
      "[2024-12-02 11:59:05,344] CRITICAL - Absorption required for the atom pairs: [[17, 5]]\n",
      "\u001b[7m\u001b[31;1m CRITICAL \u001b[0m\u001b[31;1m Absorption required for the atom pairs: [[17, 5]]!\u001b[0m\n",
      "[2024-12-02 12:00:01,595] CRITICAL - Absorption required for the atom pairs: [[45, 19], [23, 5], [23, 21], [14, 32], [14, 36]]\n",
      "\u001b[7m\u001b[31;1m CRITICAL \u001b[0m\u001b[31;1m Absorption required for the atom pairs: [[45, 19], [23, 5], [23, 21], [14, 32], [14, 36]]!\u001b[0m\n",
      "[2024-12-02 12:00:07,646] CRITICAL - Absorption required for the atom pairs: [[14, 8]]\n",
      "\u001b[7m\u001b[31;1m CRITICAL \u001b[0m\u001b[31;1m Absorption required for the atom pairs: [[14, 8]]!\u001b[0m\n",
      "[2024-12-02 12:00:12,371] CRITICAL - Absorption required for the atom pairs: [[10, 3]]\n",
      "\u001b[7m\u001b[31;1m CRITICAL \u001b[0m\u001b[31;1m Absorption required for the atom pairs: [[10, 3]]!\u001b[0m\n",
      "[2024-12-02 12:00:25,377] CRITICAL - Absorption required for the atom pairs: [[9, 24], [35, 33], [1, 42], [21, 17], [21, 40]]\n",
      "\u001b[7m\u001b[31;1m CRITICAL \u001b[0m\u001b[31;1m Absorption required for the atom pairs: [[9, 24], [35, 33], [1, 42], [21, 17], [21, 40]]!\u001b[0m\n",
      "[2024-12-02 12:00:46,164] CRITICAL - Recursion limit in rectifier\n",
      "\u001b[7m\u001b[31;1m CRITICAL \u001b[0m\u001b[31;1m Recursion limit in rectifier!\u001b[0m\n",
      "[2024-12-02 12:00:49,768] CRITICAL - Absorption required for the atom pairs: [[7, 4]]\n",
      "\u001b[7m\u001b[31;1m CRITICAL \u001b[0m\u001b[31;1m Absorption required for the atom pairs: [[7, 4]]!\u001b[0m\n",
      "[2024-12-02 12:00:50,888] CRITICAL - Absorption required for the atom pairs: [[6, 20]]\n",
      "\u001b[7m\u001b[31;1m CRITICAL \u001b[0m\u001b[31;1m Absorption required for the atom pairs: [[6, 20]]!\u001b[0m\n",
      "[2024-12-02 12:01:12,460] CRITICAL - Absorption required for the atom pairs: [[21, 30]]\n",
      "\u001b[7m\u001b[31;1m CRITICAL \u001b[0m\u001b[31;1m Absorption required for the atom pairs: [[21, 30]]!\u001b[0m\n",
      "[2024-12-02 12:04:29,884] CRITICAL - Absorption required for the atom pairs: [[1, 5], [0, 6]]\n",
      "\u001b[7m\u001b[31;1m CRITICAL \u001b[0m\u001b[31;1m Absorption required for the atom pairs: [[1, 5], [0, 6]]!\u001b[0m\n",
      "[2024-12-02 12:04:43,403] CRITICAL - Absorption required for the atom pairs: [[5, 48]]\n",
      "\u001b[7m\u001b[31;1m CRITICAL \u001b[0m\u001b[31;1m Absorption required for the atom pairs: [[5, 48]]!\u001b[0m\n",
      "[2024-12-02 12:04:43,432] CRITICAL - This is impossible. [(17, 18, 19, 20, 8), (7, 8, 9, 10, 5, 6), (21, 22, 8, 7, 6, 5, 23), (21, 22, 8, 9, 10, 5, 23)] share [8] with [] in the inside and [8] on the edge?\n",
      "\u001b[7m\u001b[31;1m CRITICAL \u001b[0m\u001b[31;1m This is impossible. [(17, 18, 19, 20, 8), (7, 8, 9, 10, 5, 6), (21, 22, 8, 7, 6, 5, 23), (21, 22, 8, 9, 10, 5, 23)] share [8] with [] in the inside and [8] on the edge?!\u001b[0m\n",
      "[2024-12-02 12:04:43,439] CRITICAL - This is impossible. [(17, 18, 19, 20, 8), (7, 8, 9, 10, 5, 6), (21, 22, 8, 7, 6, 5, 23), (21, 22, 8, 9, 10, 5, 23)] share [8] with [] in the inside and [8] on the edge?\n",
      "\u001b[7m\u001b[31;1m CRITICAL \u001b[0m\u001b[31;1m This is impossible. [(17, 18, 19, 20, 8), (7, 8, 9, 10, 5, 6), (21, 22, 8, 7, 6, 5, 23), (21, 22, 8, 9, 10, 5, 23)] share [8] with [] in the inside and [8] on the edge?!\u001b[0m\n",
      "[2024-12-02 12:04:43,447] CRITICAL - This is impossible. [(17, 18, 19, 20, 8), (7, 8, 9, 10, 5, 6), (21, 22, 8, 7, 6, 5, 23), (21, 22, 8, 9, 10, 5, 23)] share [8] with [] in the inside and [8] on the edge?\n",
      "\u001b[7m\u001b[31;1m CRITICAL \u001b[0m\u001b[31;1m This is impossible. [(17, 18, 19, 20, 8), (7, 8, 9, 10, 5, 6), (21, 22, 8, 7, 6, 5, 23), (21, 22, 8, 9, 10, 5, 23)] share [8] with [] in the inside and [8] on the edge?!\u001b[0m\n",
      "[2024-12-02 12:04:43,453] CRITICAL - This is impossible. [(17, 18, 19, 20, 8), (7, 8, 9, 10, 5, 6), (21, 22, 8, 7, 6, 5, 23), (21, 22, 8, 9, 10, 5, 23)] share [8] with [] in the inside and [8] on the edge?\n",
      "\u001b[7m\u001b[31;1m CRITICAL \u001b[0m\u001b[31;1m This is impossible. [(17, 18, 19, 20, 8), (7, 8, 9, 10, 5, 6), (21, 22, 8, 7, 6, 5, 23), (21, 22, 8, 9, 10, 5, 23)] share [8] with [] in the inside and [8] on the edge?!\u001b[0m\n",
      "[2024-12-02 12:04:43,458] CRITICAL - This is impossible. [(17, 18, 19, 20, 8), (7, 8, 9, 10, 5, 6), (21, 22, 8, 7, 6, 5, 23), (21, 22, 8, 9, 10, 5, 23)] share [8] with [] in the inside and [8] on the edge?\n",
      "\u001b[7m\u001b[31;1m CRITICAL \u001b[0m\u001b[31;1m This is impossible. [(17, 18, 19, 20, 8), (7, 8, 9, 10, 5, 6), (21, 22, 8, 7, 6, 5, 23), (21, 22, 8, 9, 10, 5, 23)] share [8] with [] in the inside and [8] on the edge?!\u001b[0m\n",
      "[2024-12-02 12:04:43,463] CRITICAL - This is impossible. [(17, 18, 19, 20, 8), (7, 8, 9, 10, 5, 6), (21, 22, 8, 7, 6, 5, 23), (21, 22, 8, 9, 10, 5, 23)] share [8] with [] in the inside and [8] on the edge?\n",
      "\u001b[7m\u001b[31;1m CRITICAL \u001b[0m\u001b[31;1m This is impossible. [(17, 18, 19, 20, 8), (7, 8, 9, 10, 5, 6), (21, 22, 8, 7, 6, 5, 23), (21, 22, 8, 9, 10, 5, 23)] share [8] with [] in the inside and [8] on the edge?!\u001b[0m\n",
      "[2024-12-02 12:04:43,468] CRITICAL - This is impossible. [(17, 18, 19, 20, 8), (7, 8, 9, 10, 5, 6), (21, 22, 8, 7, 6, 5, 23), (21, 22, 8, 9, 10, 5, 23)] share [8] with [] in the inside and [8] on the edge?\n",
      "\u001b[7m\u001b[31;1m CRITICAL \u001b[0m\u001b[31;1m This is impossible. [(17, 18, 19, 20, 8), (7, 8, 9, 10, 5, 6), (21, 22, 8, 7, 6, 5, 23), (21, 22, 8, 9, 10, 5, 23)] share [8] with [] in the inside and [8] on the edge?!\u001b[0m\n",
      "[2024-12-02 12:04:43,474] CRITICAL - This is impossible. [(17, 18, 19, 20, 8), (7, 8, 9, 10, 5, 6), (21, 22, 8, 7, 6, 5, 23), (21, 22, 8, 9, 10, 5, 23)] share [8] with [] in the inside and [8] on the edge?\n",
      "\u001b[7m\u001b[31;1m CRITICAL \u001b[0m\u001b[31;1m This is impossible. [(17, 18, 19, 20, 8), (7, 8, 9, 10, 5, 6), (21, 22, 8, 7, 6, 5, 23), (21, 22, 8, 9, 10, 5, 23)] share [8] with [] in the inside and [8] on the edge?!\u001b[0m\n",
      "[2024-12-02 12:04:43,479] CRITICAL - This is impossible. [(17, 18, 19, 20, 8), (7, 8, 9, 10, 5, 6), (21, 22, 8, 7, 6, 5, 23), (21, 22, 8, 9, 10, 5, 23)] share [8] with [] in the inside and [8] on the edge?\n",
      "\u001b[7m\u001b[31;1m CRITICAL \u001b[0m\u001b[31;1m This is impossible. [(17, 18, 19, 20, 8), (7, 8, 9, 10, 5, 6), (21, 22, 8, 7, 6, 5, 23), (21, 22, 8, 9, 10, 5, 23)] share [8] with [] in the inside and [8] on the edge?!\u001b[0m\n",
      "[2024-12-02 12:04:43,483] CRITICAL - This is impossible. [(17, 18, 19, 20, 8), (7, 8, 9, 10, 5, 6), (21, 22, 8, 7, 6, 5, 23), (21, 22, 8, 9, 10, 5, 23)] share [8] with [] in the inside and [8] on the edge?\n",
      "\u001b[7m\u001b[31;1m CRITICAL \u001b[0m\u001b[31;1m This is impossible. [(17, 18, 19, 20, 8), (7, 8, 9, 10, 5, 6), (21, 22, 8, 7, 6, 5, 23), (21, 22, 8, 9, 10, 5, 23)] share [8] with [] in the inside and [8] on the edge?!\u001b[0m\n",
      "[2024-12-02 12:04:43,487] CRITICAL - This is impossible. [(17, 18, 19, 20, 8), (7, 8, 9, 10, 5, 6), (21, 22, 8, 7, 6, 5, 23), (21, 22, 8, 9, 10, 5, 23)] share [8] with [] in the inside and [8] on the edge?\n",
      "\u001b[7m\u001b[31;1m CRITICAL \u001b[0m\u001b[31;1m This is impossible. [(17, 18, 19, 20, 8), (7, 8, 9, 10, 5, 6), (21, 22, 8, 7, 6, 5, 23), (21, 22, 8, 9, 10, 5, 23)] share [8] with [] in the inside and [8] on the edge?!\u001b[0m\n",
      "[2024-12-02 12:04:43,493] CRITICAL - This is impossible. [(17, 18, 19, 20, 8), (7, 8, 9, 10, 5, 6), (21, 22, 8, 7, 6, 5, 23), (21, 22, 8, 9, 10, 5, 23)] share [8] with [] in the inside and [8] on the edge?\n",
      "\u001b[7m\u001b[31;1m CRITICAL \u001b[0m\u001b[31;1m This is impossible. [(17, 18, 19, 20, 8), (7, 8, 9, 10, 5, 6), (21, 22, 8, 7, 6, 5, 23), (21, 22, 8, 9, 10, 5, 23)] share [8] with [] in the inside and [8] on the edge?!\u001b[0m\n",
      "[2024-12-02 12:04:43,498] CRITICAL - This is impossible. [(17, 18, 19, 20, 8), (7, 8, 9, 10, 5, 6), (21, 22, 8, 7, 6, 5, 23), (21, 22, 8, 9, 10, 5, 23)] share [8] with [] in the inside and [8] on the edge?\n",
      "\u001b[7m\u001b[31;1m CRITICAL \u001b[0m\u001b[31;1m This is impossible. [(17, 18, 19, 20, 8), (7, 8, 9, 10, 5, 6), (21, 22, 8, 7, 6, 5, 23), (21, 22, 8, 9, 10, 5, 23)] share [8] with [] in the inside and [8] on the edge?!\u001b[0m\n",
      "[2024-12-02 12:04:43,501] CRITICAL - This is impossible. [(17, 18, 19, 20, 8), (7, 8, 9, 10, 5, 6), (21, 22, 8, 7, 6, 5, 23), (21, 22, 8, 9, 10, 5, 23)] share [8] with [] in the inside and [8] on the edge?\n",
      "\u001b[7m\u001b[31;1m CRITICAL \u001b[0m\u001b[31;1m This is impossible. [(17, 18, 19, 20, 8), (7, 8, 9, 10, 5, 6), (21, 22, 8, 7, 6, 5, 23), (21, 22, 8, 9, 10, 5, 23)] share [8] with [] in the inside and [8] on the edge?!\u001b[0m\n",
      "[2024-12-02 12:04:43,506] CRITICAL - This is impossible. [(17, 18, 19, 20, 8), (7, 8, 9, 10, 5, 6), (21, 22, 8, 7, 6, 5, 23), (21, 22, 8, 9, 10, 5, 23)] share [8] with [] in the inside and [8] on the edge?\n",
      "\u001b[7m\u001b[31;1m CRITICAL \u001b[0m\u001b[31;1m This is impossible. [(17, 18, 19, 20, 8), (7, 8, 9, 10, 5, 6), (21, 22, 8, 7, 6, 5, 23), (21, 22, 8, 9, 10, 5, 23)] share [8] with [] in the inside and [8] on the edge?!\u001b[0m\n",
      "[2024-12-02 12:04:43,512] CRITICAL - This is impossible. [(17, 18, 19, 20, 8), (7, 8, 9, 10, 5, 6), (21, 22, 8, 7, 6, 5, 23), (21, 22, 8, 9, 10, 5, 23)] share [8] with [] in the inside and [8] on the edge?\n",
      "\u001b[7m\u001b[31;1m CRITICAL \u001b[0m\u001b[31;1m This is impossible. [(17, 18, 19, 20, 8), (7, 8, 9, 10, 5, 6), (21, 22, 8, 7, 6, 5, 23), (21, 22, 8, 9, 10, 5, 23)] share [8] with [] in the inside and [8] on the edge?!\u001b[0m\n",
      "[2024-12-02 12:04:43,519] CRITICAL - This is impossible. [(17, 18, 19, 20, 8), (7, 8, 9, 10, 5, 6), (21, 22, 8, 7, 6, 5, 23), (21, 22, 8, 9, 10, 5, 23)] share [8] with [] in the inside and [8] on the edge?\n",
      "\u001b[7m\u001b[31;1m CRITICAL \u001b[0m\u001b[31;1m This is impossible. [(17, 18, 19, 20, 8), (7, 8, 9, 10, 5, 6), (21, 22, 8, 7, 6, 5, 23), (21, 22, 8, 9, 10, 5, 23)] share [8] with [] in the inside and [8] on the edge?!\u001b[0m\n",
      "[2024-12-02 12:04:43,523] CRITICAL - This is impossible. [(17, 18, 19, 20, 8), (7, 8, 9, 10, 5, 6), (21, 22, 8, 7, 6, 5, 23), (21, 22, 8, 9, 10, 5, 23)] share [8] with [] in the inside and [8] on the edge?\n",
      "\u001b[7m\u001b[31;1m CRITICAL \u001b[0m\u001b[31;1m This is impossible. [(17, 18, 19, 20, 8), (7, 8, 9, 10, 5, 6), (21, 22, 8, 7, 6, 5, 23), (21, 22, 8, 9, 10, 5, 23)] share [8] with [] in the inside and [8] on the edge?!\u001b[0m\n",
      "[2024-12-02 12:04:43,527] CRITICAL - This is impossible. [(17, 18, 19, 20, 8), (7, 8, 9, 10, 5, 6), (21, 22, 8, 7, 6, 5, 23), (21, 22, 8, 9, 10, 5, 23)] share [8] with [] in the inside and [8] on the edge?\n",
      "\u001b[7m\u001b[31;1m CRITICAL \u001b[0m\u001b[31;1m This is impossible. [(17, 18, 19, 20, 8), (7, 8, 9, 10, 5, 6), (21, 22, 8, 7, 6, 5, 23), (21, 22, 8, 9, 10, 5, 23)] share [8] with [] in the inside and [8] on the edge?!\u001b[0m\n",
      "[2024-12-02 12:04:43,531] CRITICAL - This is impossible. [(17, 18, 19, 20, 8), (7, 8, 9, 10, 5, 6), (21, 22, 8, 7, 6, 5, 23), (21, 22, 8, 9, 10, 5, 23)] share [8] with [] in the inside and [8] on the edge?\n",
      "\u001b[7m\u001b[31;1m CRITICAL \u001b[0m\u001b[31;1m This is impossible. [(17, 18, 19, 20, 8), (7, 8, 9, 10, 5, 6), (21, 22, 8, 7, 6, 5, 23), (21, 22, 8, 9, 10, 5, 23)] share [8] with [] in the inside and [8] on the edge?!\u001b[0m\n",
      "[2024-12-02 12:04:43,537] CRITICAL - This is impossible. [(17, 18, 19, 20, 8), (7, 8, 9, 10, 5, 6), (21, 22, 8, 7, 6, 5, 23), (21, 22, 8, 9, 10, 5, 23)] share [8] with [] in the inside and [8] on the edge?\n",
      "\u001b[7m\u001b[31;1m CRITICAL \u001b[0m\u001b[31;1m This is impossible. [(17, 18, 19, 20, 8), (7, 8, 9, 10, 5, 6), (21, 22, 8, 7, 6, 5, 23), (21, 22, 8, 9, 10, 5, 23)] share [8] with [] in the inside and [8] on the edge?!\u001b[0m\n",
      "[2024-12-02 12:04:43,541] CRITICAL - This is impossible. [(17, 18, 19, 20, 8), (7, 8, 9, 10, 5, 6), (21, 22, 8, 7, 6, 5, 23), (21, 22, 8, 9, 10, 5, 23)] share [8] with [] in the inside and [8] on the edge?\n",
      "\u001b[7m\u001b[31;1m CRITICAL \u001b[0m\u001b[31;1m This is impossible. [(17, 18, 19, 20, 8), (7, 8, 9, 10, 5, 6), (21, 22, 8, 7, 6, 5, 23), (21, 22, 8, 9, 10, 5, 23)] share [8] with [] in the inside and [8] on the edge?!\u001b[0m\n",
      "[2024-12-02 12:04:43,546] CRITICAL - This is impossible. [(17, 18, 19, 20, 8), (7, 8, 9, 10, 5, 6), (21, 22, 8, 7, 6, 5, 23), (21, 22, 8, 9, 10, 5, 23)] share [8] with [] in the inside and [8] on the edge?\n",
      "\u001b[7m\u001b[31;1m CRITICAL \u001b[0m\u001b[31;1m This is impossible. [(17, 18, 19, 20, 8), (7, 8, 9, 10, 5, 6), (21, 22, 8, 7, 6, 5, 23), (21, 22, 8, 9, 10, 5, 23)] share [8] with [] in the inside and [8] on the edge?!\u001b[0m\n",
      "[2024-12-02 12:04:43,550] CRITICAL - This is impossible. [(17, 18, 19, 20, 8), (7, 8, 9, 10, 5, 6), (21, 22, 8, 7, 6, 5, 23), (21, 22, 8, 9, 10, 5, 23)] share [8] with [] in the inside and [8] on the edge?\n",
      "\u001b[7m\u001b[31;1m CRITICAL \u001b[0m\u001b[31;1m This is impossible. [(17, 18, 19, 20, 8), (7, 8, 9, 10, 5, 6), (21, 22, 8, 7, 6, 5, 23), (21, 22, 8, 9, 10, 5, 23)] share [8] with [] in the inside and [8] on the edge?!\u001b[0m\n",
      "[2024-12-02 12:04:43,556] CRITICAL - This is impossible. [(17, 18, 19, 20, 8), (7, 8, 9, 10, 5, 6), (21, 22, 8, 7, 6, 5, 23), (21, 22, 8, 9, 10, 5, 23)] share [8] with [] in the inside and [8] on the edge?\n",
      "\u001b[7m\u001b[31;1m CRITICAL \u001b[0m\u001b[31;1m This is impossible. [(17, 18, 19, 20, 8), (7, 8, 9, 10, 5, 6), (21, 22, 8, 7, 6, 5, 23), (21, 22, 8, 9, 10, 5, 23)] share [8] with [] in the inside and [8] on the edge?!\u001b[0m\n",
      "[2024-12-02 12:04:43,560] CRITICAL - This is impossible. [(17, 18, 19, 20, 8), (7, 8, 9, 10, 5, 6), (21, 22, 8, 7, 6, 5, 23), (21, 22, 8, 9, 10, 5, 23)] share [8] with [] in the inside and [8] on the edge?\n",
      "\u001b[7m\u001b[31;1m CRITICAL \u001b[0m\u001b[31;1m This is impossible. [(17, 18, 19, 20, 8), (7, 8, 9, 10, 5, 6), (21, 22, 8, 7, 6, 5, 23), (21, 22, 8, 9, 10, 5, 23)] share [8] with [] in the inside and [8] on the edge?!\u001b[0m\n",
      "[2024-12-02 12:04:43,564] CRITICAL - This is impossible. [(17, 18, 19, 20, 8), (7, 8, 9, 10, 5, 6), (21, 22, 8, 7, 6, 5, 23), (21, 22, 8, 9, 10, 5, 23)] share [8] with [] in the inside and [8] on the edge?\n",
      "\u001b[7m\u001b[31;1m CRITICAL \u001b[0m\u001b[31;1m This is impossible. [(17, 18, 19, 20, 8), (7, 8, 9, 10, 5, 6), (21, 22, 8, 7, 6, 5, 23), (21, 22, 8, 9, 10, 5, 23)] share [8] with [] in the inside and [8] on the edge?!\u001b[0m\n",
      "[2024-12-02 12:04:43,569] CRITICAL - This is impossible. [(17, 18, 19, 20, 8), (7, 8, 9, 10, 5, 6), (21, 22, 8, 7, 6, 5, 23), (21, 22, 8, 9, 10, 5, 23)] share [8] with [] in the inside and [8] on the edge?\n",
      "\u001b[7m\u001b[31;1m CRITICAL \u001b[0m\u001b[31;1m This is impossible. [(17, 18, 19, 20, 8), (7, 8, 9, 10, 5, 6), (21, 22, 8, 7, 6, 5, 23), (21, 22, 8, 9, 10, 5, 23)] share [8] with [] in the inside and [8] on the edge?!\u001b[0m\n",
      "[2024-12-02 12:04:43,576] CRITICAL - This is impossible. [(17, 18, 19, 20, 8), (7, 8, 9, 10, 5, 6), (21, 22, 8, 7, 6, 5, 23), (21, 22, 8, 9, 10, 5, 23)] share [8] with [] in the inside and [8] on the edge?\n",
      "\u001b[7m\u001b[31;1m CRITICAL \u001b[0m\u001b[31;1m This is impossible. [(17, 18, 19, 20, 8), (7, 8, 9, 10, 5, 6), (21, 22, 8, 7, 6, 5, 23), (21, 22, 8, 9, 10, 5, 23)] share [8] with [] in the inside and [8] on the edge?!\u001b[0m\n",
      "[2024-12-02 12:04:43,582] CRITICAL - This is impossible. [(17, 18, 19, 20, 8), (7, 8, 9, 10, 5, 6), (21, 22, 8, 7, 6, 5, 23), (21, 22, 8, 9, 10, 5, 23)] share [8] with [] in the inside and [8] on the edge?\n",
      "\u001b[7m\u001b[31;1m CRITICAL \u001b[0m\u001b[31;1m This is impossible. [(17, 18, 19, 20, 8), (7, 8, 9, 10, 5, 6), (21, 22, 8, 7, 6, 5, 23), (21, 22, 8, 9, 10, 5, 23)] share [8] with [] in the inside and [8] on the edge?!\u001b[0m\n",
      "[2024-12-02 12:04:43,586] CRITICAL - This is impossible. [(17, 18, 19, 20, 8), (7, 8, 9, 10, 5, 6), (21, 22, 8, 7, 6, 5, 23), (21, 22, 8, 9, 10, 5, 23)] share [8] with [] in the inside and [8] on the edge?\n",
      "\u001b[7m\u001b[31;1m CRITICAL \u001b[0m\u001b[31;1m This is impossible. [(17, 18, 19, 20, 8), (7, 8, 9, 10, 5, 6), (21, 22, 8, 7, 6, 5, 23), (21, 22, 8, 9, 10, 5, 23)] share [8] with [] in the inside and [8] on the edge?!\u001b[0m\n",
      "[2024-12-02 12:04:43,592] CRITICAL - This is impossible. [(17, 18, 19, 20, 8), (7, 8, 9, 10, 5, 6), (21, 22, 8, 7, 6, 5, 23), (21, 22, 8, 9, 10, 5, 23)] share [8] with [] in the inside and [8] on the edge?\n",
      "\u001b[7m\u001b[31;1m CRITICAL \u001b[0m\u001b[31;1m This is impossible. [(17, 18, 19, 20, 8), (7, 8, 9, 10, 5, 6), (21, 22, 8, 7, 6, 5, 23), (21, 22, 8, 9, 10, 5, 23)] share [8] with [] in the inside and [8] on the edge?!\u001b[0m\n",
      "[2024-12-02 12:04:43,596] CRITICAL - This is impossible. [(17, 18, 19, 20, 8), (7, 8, 9, 10, 5, 6), (21, 22, 8, 7, 6, 5, 23), (21, 22, 8, 9, 10, 5, 23)] share [8] with [] in the inside and [8] on the edge?\n",
      "\u001b[7m\u001b[31;1m CRITICAL \u001b[0m\u001b[31;1m This is impossible. [(17, 18, 19, 20, 8), (7, 8, 9, 10, 5, 6), (21, 22, 8, 7, 6, 5, 23), (21, 22, 8, 9, 10, 5, 23)] share [8] with [] in the inside and [8] on the edge?!\u001b[0m\n",
      "[2024-12-02 12:04:43,603] CRITICAL - This is impossible. [(17, 18, 19, 20, 8), (7, 8, 9, 10, 5, 6), (21, 22, 8, 7, 6, 5, 23), (21, 22, 8, 9, 10, 5, 23)] share [8] with [] in the inside and [8] on the edge?\n",
      "\u001b[7m\u001b[31;1m CRITICAL \u001b[0m\u001b[31;1m This is impossible. [(17, 18, 19, 20, 8), (7, 8, 9, 10, 5, 6), (21, 22, 8, 7, 6, 5, 23), (21, 22, 8, 9, 10, 5, 23)] share [8] with [] in the inside and [8] on the edge?!\u001b[0m\n",
      "[2024-12-02 12:04:43,607] CRITICAL - This is impossible. [(17, 18, 19, 20, 8), (7, 8, 9, 10, 5, 6), (21, 22, 8, 7, 6, 5, 23), (21, 22, 8, 9, 10, 5, 23)] share [8] with [] in the inside and [8] on the edge?\n",
      "\u001b[7m\u001b[31;1m CRITICAL \u001b[0m\u001b[31;1m This is impossible. [(17, 18, 19, 20, 8), (7, 8, 9, 10, 5, 6), (21, 22, 8, 7, 6, 5, 23), (21, 22, 8, 9, 10, 5, 23)] share [8] with [] in the inside and [8] on the edge?!\u001b[0m\n",
      "[2024-12-02 12:04:43,611] CRITICAL - This is impossible. [(17, 18, 19, 20, 8), (7, 8, 9, 10, 5, 6), (21, 22, 8, 7, 6, 5, 23), (21, 22, 8, 9, 10, 5, 23)] share [8] with [] in the inside and [8] on the edge?\n",
      "\u001b[7m\u001b[31;1m CRITICAL \u001b[0m\u001b[31;1m This is impossible. [(17, 18, 19, 20, 8), (7, 8, 9, 10, 5, 6), (21, 22, 8, 7, 6, 5, 23), (21, 22, 8, 9, 10, 5, 23)] share [8] with [] in the inside and [8] on the edge?!\u001b[0m\n",
      "[2024-12-02 12:04:43,616] CRITICAL - This is impossible. [(17, 18, 19, 20, 8), (7, 8, 9, 10, 5, 6), (21, 22, 8, 7, 6, 5, 23), (21, 22, 8, 9, 10, 5, 23)] share [8] with [] in the inside and [8] on the edge?\n",
      "\u001b[7m\u001b[31;1m CRITICAL \u001b[0m\u001b[31;1m This is impossible. [(17, 18, 19, 20, 8), (7, 8, 9, 10, 5, 6), (21, 22, 8, 7, 6, 5, 23), (21, 22, 8, 9, 10, 5, 23)] share [8] with [] in the inside and [8] on the edge?!\u001b[0m\n",
      "[2024-12-02 12:04:43,622] CRITICAL - This is impossible. [(17, 18, 19, 20, 8), (7, 8, 9, 10, 5, 6), (21, 22, 8, 7, 6, 5, 23), (21, 22, 8, 9, 10, 5, 23)] share [8] with [] in the inside and [8] on the edge?\n",
      "\u001b[7m\u001b[31;1m CRITICAL \u001b[0m\u001b[31;1m This is impossible. [(17, 18, 19, 20, 8), (7, 8, 9, 10, 5, 6), (21, 22, 8, 7, 6, 5, 23), (21, 22, 8, 9, 10, 5, 23)] share [8] with [] in the inside and [8] on the edge?!\u001b[0m\n",
      "[2024-12-02 12:04:43,626] CRITICAL - This is impossible. [(17, 18, 19, 20, 8), (7, 8, 9, 10, 5, 6), (21, 22, 8, 7, 6, 5, 23), (21, 22, 8, 9, 10, 5, 23)] share [8] with [] in the inside and [8] on the edge?\n",
      "\u001b[7m\u001b[31;1m CRITICAL \u001b[0m\u001b[31;1m This is impossible. [(17, 18, 19, 20, 8), (7, 8, 9, 10, 5, 6), (21, 22, 8, 7, 6, 5, 23), (21, 22, 8, 9, 10, 5, 23)] share [8] with [] in the inside and [8] on the edge?!\u001b[0m\n",
      "[2024-12-02 12:04:43,630] CRITICAL - This is impossible. [(17, 18, 19, 20, 8), (7, 8, 9, 10, 5, 6), (21, 22, 8, 7, 6, 5, 23), (21, 22, 8, 9, 10, 5, 23)] share [8] with [] in the inside and [8] on the edge?\n",
      "\u001b[7m\u001b[31;1m CRITICAL \u001b[0m\u001b[31;1m This is impossible. [(17, 18, 19, 20, 8), (7, 8, 9, 10, 5, 6), (21, 22, 8, 7, 6, 5, 23), (21, 22, 8, 9, 10, 5, 23)] share [8] with [] in the inside and [8] on the edge?!\u001b[0m\n",
      "[2024-12-02 12:04:43,634] CRITICAL - This is impossible. [(17, 18, 19, 20, 8), (7, 8, 9, 10, 5, 6), (21, 22, 8, 7, 6, 5, 23), (21, 22, 8, 9, 10, 5, 23)] share [8] with [] in the inside and [8] on the edge?\n",
      "\u001b[7m\u001b[31;1m CRITICAL \u001b[0m\u001b[31;1m This is impossible. [(17, 18, 19, 20, 8), (7, 8, 9, 10, 5, 6), (21, 22, 8, 7, 6, 5, 23), (21, 22, 8, 9, 10, 5, 23)] share [8] with [] in the inside and [8] on the edge?!\u001b[0m\n",
      "[2024-12-02 12:04:43,641] CRITICAL - This is impossible. [(17, 18, 19, 20, 8), (7, 8, 9, 10, 5, 6), (21, 22, 8, 7, 6, 5, 23), (21, 22, 8, 9, 10, 5, 23)] share [8] with [] in the inside and [8] on the edge?\n",
      "\u001b[7m\u001b[31;1m CRITICAL \u001b[0m\u001b[31;1m This is impossible. [(17, 18, 19, 20, 8), (7, 8, 9, 10, 5, 6), (21, 22, 8, 7, 6, 5, 23), (21, 22, 8, 9, 10, 5, 23)] share [8] with [] in the inside and [8] on the edge?!\u001b[0m\n",
      "[2024-12-02 12:04:43,647] CRITICAL - This is impossible. [(17, 18, 19, 20, 8), (7, 8, 9, 10, 5, 6), (21, 22, 8, 7, 6, 5, 23), (21, 22, 8, 9, 10, 5, 23)] share [8] with [] in the inside and [8] on the edge?\n",
      "\u001b[7m\u001b[31;1m CRITICAL \u001b[0m\u001b[31;1m This is impossible. [(17, 18, 19, 20, 8), (7, 8, 9, 10, 5, 6), (21, 22, 8, 7, 6, 5, 23), (21, 22, 8, 9, 10, 5, 23)] share [8] with [] in the inside and [8] on the edge?!\u001b[0m\n",
      "[2024-12-02 12:04:43,654] CRITICAL - This is impossible. [(17, 18, 19, 20, 8), (7, 8, 9, 10, 5, 6), (21, 22, 8, 7, 6, 5, 23), (21, 22, 8, 9, 10, 5, 23)] share [8] with [] in the inside and [8] on the edge?\n",
      "\u001b[7m\u001b[31;1m CRITICAL \u001b[0m\u001b[31;1m This is impossible. [(17, 18, 19, 20, 8), (7, 8, 9, 10, 5, 6), (21, 22, 8, 7, 6, 5, 23), (21, 22, 8, 9, 10, 5, 23)] share [8] with [] in the inside and [8] on the edge?!\u001b[0m\n",
      "[2024-12-02 12:04:43,658] CRITICAL - This is impossible. [(17, 18, 19, 20, 8), (7, 8, 9, 10, 5, 6), (21, 22, 8, 7, 6, 5, 23), (21, 22, 8, 9, 10, 5, 23)] share [8] with [] in the inside and [8] on the edge?\n",
      "\u001b[7m\u001b[31;1m CRITICAL \u001b[0m\u001b[31;1m This is impossible. [(17, 18, 19, 20, 8), (7, 8, 9, 10, 5, 6), (21, 22, 8, 7, 6, 5, 23), (21, 22, 8, 9, 10, 5, 23)] share [8] with [] in the inside and [8] on the edge?!\u001b[0m\n",
      "[2024-12-02 12:04:43,662] CRITICAL - This is impossible. [(17, 18, 19, 20, 8), (7, 8, 9, 10, 5, 6), (21, 22, 8, 7, 6, 5, 23), (21, 22, 8, 9, 10, 5, 23)] share [8] with [] in the inside and [8] on the edge?\n",
      "\u001b[7m\u001b[31;1m CRITICAL \u001b[0m\u001b[31;1m This is impossible. [(17, 18, 19, 20, 8), (7, 8, 9, 10, 5, 6), (21, 22, 8, 7, 6, 5, 23), (21, 22, 8, 9, 10, 5, 23)] share [8] with [] in the inside and [8] on the edge?!\u001b[0m\n",
      "[2024-12-02 12:04:43,666] CRITICAL - This is impossible. [(17, 18, 19, 20, 8), (7, 8, 9, 10, 5, 6), (21, 22, 8, 7, 6, 5, 23), (21, 22, 8, 9, 10, 5, 23)] share [8] with [] in the inside and [8] on the edge?\n",
      "\u001b[7m\u001b[31;1m CRITICAL \u001b[0m\u001b[31;1m This is impossible. [(17, 18, 19, 20, 8), (7, 8, 9, 10, 5, 6), (21, 22, 8, 7, 6, 5, 23), (21, 22, 8, 9, 10, 5, 23)] share [8] with [] in the inside and [8] on the edge?!\u001b[0m\n",
      "[2024-12-02 12:04:43,672] CRITICAL - This is impossible. [(17, 18, 19, 20, 8), (7, 8, 9, 10, 5, 6), (21, 22, 8, 7, 6, 5, 23), (21, 22, 8, 9, 10, 5, 23)] share [8] with [] in the inside and [8] on the edge?\n",
      "\u001b[7m\u001b[31;1m CRITICAL \u001b[0m\u001b[31;1m This is impossible. [(17, 18, 19, 20, 8), (7, 8, 9, 10, 5, 6), (21, 22, 8, 7, 6, 5, 23), (21, 22, 8, 9, 10, 5, 23)] share [8] with [] in the inside and [8] on the edge?!\u001b[0m\n",
      "[2024-12-02 12:04:43,676] CRITICAL - This is impossible. [(17, 18, 19, 20, 8), (7, 8, 9, 10, 5, 6), (21, 22, 8, 7, 6, 5, 23), (21, 22, 8, 9, 10, 5, 23)] share [8] with [] in the inside and [8] on the edge?\n",
      "\u001b[7m\u001b[31;1m CRITICAL \u001b[0m\u001b[31;1m This is impossible. [(17, 18, 19, 20, 8), (7, 8, 9, 10, 5, 6), (21, 22, 8, 7, 6, 5, 23), (21, 22, 8, 9, 10, 5, 23)] share [8] with [] in the inside and [8] on the edge?!\u001b[0m\n",
      "[2024-12-02 12:04:43,680] CRITICAL - This is impossible. [(17, 18, 19, 20, 8), (7, 8, 9, 10, 5, 6), (21, 22, 8, 7, 6, 5, 23), (21, 22, 8, 9, 10, 5, 23)] share [8] with [] in the inside and [8] on the edge?\n",
      "\u001b[7m\u001b[31;1m CRITICAL \u001b[0m\u001b[31;1m This is impossible. [(17, 18, 19, 20, 8), (7, 8, 9, 10, 5, 6), (21, 22, 8, 7, 6, 5, 23), (21, 22, 8, 9, 10, 5, 23)] share [8] with [] in the inside and [8] on the edge?!\u001b[0m\n",
      "[2024-12-02 12:04:43,684] CRITICAL - This is impossible. [(17, 18, 19, 20, 8), (7, 8, 9, 10, 5, 6), (21, 22, 8, 7, 6, 5, 23), (21, 22, 8, 9, 10, 5, 23)] share [8] with [] in the inside and [8] on the edge?\n",
      "\u001b[7m\u001b[31;1m CRITICAL \u001b[0m\u001b[31;1m This is impossible. [(17, 18, 19, 20, 8), (7, 8, 9, 10, 5, 6), (21, 22, 8, 7, 6, 5, 23), (21, 22, 8, 9, 10, 5, 23)] share [8] with [] in the inside and [8] on the edge?!\u001b[0m\n",
      "[2024-12-02 12:04:43,690] CRITICAL - This is impossible. [(17, 18, 19, 20, 8), (7, 8, 9, 10, 5, 6), (21, 22, 8, 7, 6, 5, 23), (21, 22, 8, 9, 10, 5, 23)] share [8] with [] in the inside and [8] on the edge?\n",
      "\u001b[7m\u001b[31;1m CRITICAL \u001b[0m\u001b[31;1m This is impossible. [(17, 18, 19, 20, 8), (7, 8, 9, 10, 5, 6), (21, 22, 8, 7, 6, 5, 23), (21, 22, 8, 9, 10, 5, 23)] share [8] with [] in the inside and [8] on the edge?!\u001b[0m\n",
      "[2024-12-02 12:04:43,694] CRITICAL - This is impossible. [(17, 18, 19, 20, 8), (7, 8, 9, 10, 5, 6), (21, 22, 8, 7, 6, 5, 23), (21, 22, 8, 9, 10, 5, 23)] share [8] with [] in the inside and [8] on the edge?\n",
      "\u001b[7m\u001b[31;1m CRITICAL \u001b[0m\u001b[31;1m This is impossible. [(17, 18, 19, 20, 8), (7, 8, 9, 10, 5, 6), (21, 22, 8, 7, 6, 5, 23), (21, 22, 8, 9, 10, 5, 23)] share [8] with [] in the inside and [8] on the edge?!\u001b[0m\n",
      "[2024-12-02 12:04:43,698] CRITICAL - This is impossible. [(17, 18, 19, 20, 8), (7, 8, 9, 10, 5, 6), (21, 22, 8, 7, 6, 5, 23), (21, 22, 8, 9, 10, 5, 23)] share [8] with [] in the inside and [8] on the edge?\n",
      "\u001b[7m\u001b[31;1m CRITICAL \u001b[0m\u001b[31;1m This is impossible. [(17, 18, 19, 20, 8), (7, 8, 9, 10, 5, 6), (21, 22, 8, 7, 6, 5, 23), (21, 22, 8, 9, 10, 5, 23)] share [8] with [] in the inside and [8] on the edge?!\u001b[0m\n",
      "[2024-12-02 12:04:43,702] CRITICAL - This is impossible. [(17, 18, 19, 20, 8), (7, 8, 9, 10, 5, 6), (21, 22, 8, 7, 6, 5, 23), (21, 22, 8, 9, 10, 5, 23)] share [8] with [] in the inside and [8] on the edge?\n",
      "\u001b[7m\u001b[31;1m CRITICAL \u001b[0m\u001b[31;1m This is impossible. [(17, 18, 19, 20, 8), (7, 8, 9, 10, 5, 6), (21, 22, 8, 7, 6, 5, 23), (21, 22, 8, 9, 10, 5, 23)] share [8] with [] in the inside and [8] on the edge?!\u001b[0m\n",
      "[2024-12-02 12:04:43,708] CRITICAL - This is impossible. [(17, 18, 19, 20, 8), (7, 8, 9, 10, 5, 6), (21, 22, 8, 7, 6, 5, 23), (21, 22, 8, 9, 10, 5, 23)] share [8] with [] in the inside and [8] on the edge?\n",
      "\u001b[7m\u001b[31;1m CRITICAL \u001b[0m\u001b[31;1m This is impossible. [(17, 18, 19, 20, 8), (7, 8, 9, 10, 5, 6), (21, 22, 8, 7, 6, 5, 23), (21, 22, 8, 9, 10, 5, 23)] share [8] with [] in the inside and [8] on the edge?!\u001b[0m\n",
      "[2024-12-02 12:04:43,715] CRITICAL - This is impossible. [(17, 18, 19, 20, 8), (7, 8, 9, 10, 5, 6), (21, 22, 8, 7, 6, 5, 23), (21, 22, 8, 9, 10, 5, 23)] share [8] with [] in the inside and [8] on the edge?\n",
      "\u001b[7m\u001b[31;1m CRITICAL \u001b[0m\u001b[31;1m This is impossible. [(17, 18, 19, 20, 8), (7, 8, 9, 10, 5, 6), (21, 22, 8, 7, 6, 5, 23), (21, 22, 8, 9, 10, 5, 23)] share [8] with [] in the inside and [8] on the edge?!\u001b[0m\n",
      "[2024-12-02 12:04:43,719] CRITICAL - This is impossible. [(17, 18, 19, 20, 8), (7, 8, 9, 10, 5, 6), (21, 22, 8, 7, 6, 5, 23), (21, 22, 8, 9, 10, 5, 23)] share [8] with [] in the inside and [8] on the edge?\n",
      "\u001b[7m\u001b[31;1m CRITICAL \u001b[0m\u001b[31;1m This is impossible. [(17, 18, 19, 20, 8), (7, 8, 9, 10, 5, 6), (21, 22, 8, 7, 6, 5, 23), (21, 22, 8, 9, 10, 5, 23)] share [8] with [] in the inside and [8] on the edge?!\u001b[0m\n",
      "[2024-12-02 12:04:43,723] CRITICAL - This is impossible. [(17, 18, 19, 20, 8), (7, 8, 9, 10, 5, 6), (21, 22, 8, 7, 6, 5, 23), (21, 22, 8, 9, 10, 5, 23)] share [8] with [] in the inside and [8] on the edge?\n",
      "\u001b[7m\u001b[31;1m CRITICAL \u001b[0m\u001b[31;1m This is impossible. [(17, 18, 19, 20, 8), (7, 8, 9, 10, 5, 6), (21, 22, 8, 7, 6, 5, 23), (21, 22, 8, 9, 10, 5, 23)] share [8] with [] in the inside and [8] on the edge?!\u001b[0m\n",
      "[2024-12-02 12:04:43,727] CRITICAL - This is impossible. [(17, 18, 19, 20, 8), (7, 8, 9, 10, 5, 6), (21, 22, 8, 7, 6, 5, 23), (21, 22, 8, 9, 10, 5, 23)] share [8] with [] in the inside and [8] on the edge?\n",
      "\u001b[7m\u001b[31;1m CRITICAL \u001b[0m\u001b[31;1m This is impossible. [(17, 18, 19, 20, 8), (7, 8, 9, 10, 5, 6), (21, 22, 8, 7, 6, 5, 23), (21, 22, 8, 9, 10, 5, 23)] share [8] with [] in the inside and [8] on the edge?!\u001b[0m\n",
      "[2024-12-02 12:04:43,734] CRITICAL - This is impossible. [(17, 18, 19, 20, 8), (7, 8, 9, 10, 5, 6), (21, 22, 8, 7, 6, 5, 23), (21, 22, 8, 9, 10, 5, 23)] share [8] with [] in the inside and [8] on the edge?\n",
      "\u001b[7m\u001b[31;1m CRITICAL \u001b[0m\u001b[31;1m This is impossible. [(17, 18, 19, 20, 8), (7, 8, 9, 10, 5, 6), (21, 22, 8, 7, 6, 5, 23), (21, 22, 8, 9, 10, 5, 23)] share [8] with [] in the inside and [8] on the edge?!\u001b[0m\n",
      "[2024-12-02 12:04:43,737] CRITICAL - This is impossible. [(17, 18, 19, 20, 8), (7, 8, 9, 10, 5, 6), (21, 22, 8, 7, 6, 5, 23), (21, 22, 8, 9, 10, 5, 23)] share [8] with [] in the inside and [8] on the edge?\n",
      "\u001b[7m\u001b[31;1m CRITICAL \u001b[0m\u001b[31;1m This is impossible. [(17, 18, 19, 20, 8), (7, 8, 9, 10, 5, 6), (21, 22, 8, 7, 6, 5, 23), (21, 22, 8, 9, 10, 5, 23)] share [8] with [] in the inside and [8] on the edge?!\u001b[0m\n",
      "[2024-12-02 12:04:43,741] CRITICAL - This is impossible. [(17, 18, 19, 20, 8), (7, 8, 9, 10, 5, 6), (21, 22, 8, 7, 6, 5, 23), (21, 22, 8, 9, 10, 5, 23)] share [8] with [] in the inside and [8] on the edge?\n",
      "\u001b[7m\u001b[31;1m CRITICAL \u001b[0m\u001b[31;1m This is impossible. [(17, 18, 19, 20, 8), (7, 8, 9, 10, 5, 6), (21, 22, 8, 7, 6, 5, 23), (21, 22, 8, 9, 10, 5, 23)] share [8] with [] in the inside and [8] on the edge?!\u001b[0m\n",
      "[2024-12-02 12:04:43,745] CRITICAL - This is impossible. [(17, 18, 19, 20, 8), (7, 8, 9, 10, 5, 6), (21, 22, 8, 7, 6, 5, 23), (21, 22, 8, 9, 10, 5, 23)] share [8] with [] in the inside and [8] on the edge?\n",
      "\u001b[7m\u001b[31;1m CRITICAL \u001b[0m\u001b[31;1m This is impossible. [(17, 18, 19, 20, 8), (7, 8, 9, 10, 5, 6), (21, 22, 8, 7, 6, 5, 23), (21, 22, 8, 9, 10, 5, 23)] share [8] with [] in the inside and [8] on the edge?!\u001b[0m\n",
      "[2024-12-02 12:04:43,752] CRITICAL - This is impossible. [(17, 18, 19, 20, 8), (7, 8, 9, 10, 5, 6), (21, 22, 8, 7, 6, 5, 23), (21, 22, 8, 9, 10, 5, 23)] share [8] with [] in the inside and [8] on the edge?\n",
      "\u001b[7m\u001b[31;1m CRITICAL \u001b[0m\u001b[31;1m This is impossible. [(17, 18, 19, 20, 8), (7, 8, 9, 10, 5, 6), (21, 22, 8, 7, 6, 5, 23), (21, 22, 8, 9, 10, 5, 23)] share [8] with [] in the inside and [8] on the edge?!\u001b[0m\n",
      "[2024-12-02 12:04:43,756] CRITICAL - This is impossible. [(17, 18, 19, 20, 8), (7, 8, 9, 10, 5, 6), (21, 22, 8, 7, 6, 5, 23), (21, 22, 8, 9, 10, 5, 23)] share [8] with [] in the inside and [8] on the edge?\n",
      "\u001b[7m\u001b[31;1m CRITICAL \u001b[0m\u001b[31;1m This is impossible. [(17, 18, 19, 20, 8), (7, 8, 9, 10, 5, 6), (21, 22, 8, 7, 6, 5, 23), (21, 22, 8, 9, 10, 5, 23)] share [8] with [] in the inside and [8] on the edge?!\u001b[0m\n",
      "[2024-12-02 12:04:43,759] CRITICAL - This is impossible. [(17, 18, 19, 20, 8), (7, 8, 9, 10, 5, 6), (21, 22, 8, 7, 6, 5, 23), (21, 22, 8, 9, 10, 5, 23)] share [8] with [] in the inside and [8] on the edge?\n",
      "\u001b[7m\u001b[31;1m CRITICAL \u001b[0m\u001b[31;1m This is impossible. [(17, 18, 19, 20, 8), (7, 8, 9, 10, 5, 6), (21, 22, 8, 7, 6, 5, 23), (21, 22, 8, 9, 10, 5, 23)] share [8] with [] in the inside and [8] on the edge?!\u001b[0m\n",
      "[2024-12-02 12:04:43,763] CRITICAL - This is impossible. [(17, 18, 19, 20, 8), (7, 8, 9, 10, 5, 6), (21, 22, 8, 7, 6, 5, 23), (21, 22, 8, 9, 10, 5, 23)] share [8] with [] in the inside and [8] on the edge?\n",
      "\u001b[7m\u001b[31;1m CRITICAL \u001b[0m\u001b[31;1m This is impossible. [(17, 18, 19, 20, 8), (7, 8, 9, 10, 5, 6), (21, 22, 8, 7, 6, 5, 23), (21, 22, 8, 9, 10, 5, 23)] share [8] with [] in the inside and [8] on the edge?!\u001b[0m\n",
      "[2024-12-02 12:04:43,770] CRITICAL - This is impossible. [(17, 18, 19, 20, 8), (7, 8, 9, 10, 5, 6), (21, 22, 8, 7, 6, 5, 23), (21, 22, 8, 9, 10, 5, 23)] share [8] with [] in the inside and [8] on the edge?\n",
      "\u001b[7m\u001b[31;1m CRITICAL \u001b[0m\u001b[31;1m This is impossible. [(17, 18, 19, 20, 8), (7, 8, 9, 10, 5, 6), (21, 22, 8, 7, 6, 5, 23), (21, 22, 8, 9, 10, 5, 23)] share [8] with [] in the inside and [8] on the edge?!\u001b[0m\n",
      "[2024-12-02 12:04:43,776] CRITICAL - This is impossible. [(17, 18, 19, 20, 8), (7, 8, 9, 10, 5, 6), (21, 22, 8, 7, 6, 5, 23), (21, 22, 8, 9, 10, 5, 23)] share [8] with [] in the inside and [8] on the edge?\n",
      "\u001b[7m\u001b[31;1m CRITICAL \u001b[0m\u001b[31;1m This is impossible. [(17, 18, 19, 20, 8), (7, 8, 9, 10, 5, 6), (21, 22, 8, 7, 6, 5, 23), (21, 22, 8, 9, 10, 5, 23)] share [8] with [] in the inside and [8] on the edge?!\u001b[0m\n",
      "[2024-12-02 12:04:43,780] CRITICAL - This is impossible. [(17, 18, 19, 20, 8), (7, 8, 9, 10, 5, 6), (21, 22, 8, 7, 6, 5, 23), (21, 22, 8, 9, 10, 5, 23)] share [8] with [] in the inside and [8] on the edge?\n",
      "\u001b[7m\u001b[31;1m CRITICAL \u001b[0m\u001b[31;1m This is impossible. [(17, 18, 19, 20, 8), (7, 8, 9, 10, 5, 6), (21, 22, 8, 7, 6, 5, 23), (21, 22, 8, 9, 10, 5, 23)] share [8] with [] in the inside and [8] on the edge?!\u001b[0m\n",
      "[2024-12-02 12:04:43,784] CRITICAL - This is impossible. [(17, 18, 19, 20, 8), (7, 8, 9, 10, 5, 6), (21, 22, 8, 7, 6, 5, 23), (21, 22, 8, 9, 10, 5, 23)] share [8] with [] in the inside and [8] on the edge?\n",
      "\u001b[7m\u001b[31;1m CRITICAL \u001b[0m\u001b[31;1m This is impossible. [(17, 18, 19, 20, 8), (7, 8, 9, 10, 5, 6), (21, 22, 8, 7, 6, 5, 23), (21, 22, 8, 9, 10, 5, 23)] share [8] with [] in the inside and [8] on the edge?!\u001b[0m\n",
      "[2024-12-02 12:04:43,788] CRITICAL - This is impossible. [(17, 18, 19, 20, 8), (7, 8, 9, 10, 5, 6), (21, 22, 8, 7, 6, 5, 23), (21, 22, 8, 9, 10, 5, 23)] share [8] with [] in the inside and [8] on the edge?\n",
      "\u001b[7m\u001b[31;1m CRITICAL \u001b[0m\u001b[31;1m This is impossible. [(17, 18, 19, 20, 8), (7, 8, 9, 10, 5, 6), (21, 22, 8, 7, 6, 5, 23), (21, 22, 8, 9, 10, 5, 23)] share [8] with [] in the inside and [8] on the edge?!\u001b[0m\n",
      "[2024-12-02 12:04:43,794] CRITICAL - This is impossible. [(17, 18, 19, 20, 8), (7, 8, 9, 10, 5, 6), (21, 22, 8, 7, 6, 5, 23), (21, 22, 8, 9, 10, 5, 23)] share [8] with [] in the inside and [8] on the edge?\n",
      "\u001b[7m\u001b[31;1m CRITICAL \u001b[0m\u001b[31;1m This is impossible. [(17, 18, 19, 20, 8), (7, 8, 9, 10, 5, 6), (21, 22, 8, 7, 6, 5, 23), (21, 22, 8, 9, 10, 5, 23)] share [8] with [] in the inside and [8] on the edge?!\u001b[0m\n",
      "[2024-12-02 12:04:43,798] CRITICAL - This is impossible. [(17, 18, 19, 20, 8), (7, 8, 9, 10, 5, 6), (21, 22, 8, 7, 6, 5, 23), (21, 22, 8, 9, 10, 5, 23)] share [8] with [] in the inside and [8] on the edge?\n",
      "\u001b[7m\u001b[31;1m CRITICAL \u001b[0m\u001b[31;1m This is impossible. [(17, 18, 19, 20, 8), (7, 8, 9, 10, 5, 6), (21, 22, 8, 7, 6, 5, 23), (21, 22, 8, 9, 10, 5, 23)] share [8] with [] in the inside and [8] on the edge?!\u001b[0m\n",
      "[2024-12-02 12:04:43,802] CRITICAL - This is impossible. [(17, 18, 19, 20, 8), (7, 8, 9, 10, 5, 6), (21, 22, 8, 7, 6, 5, 23), (21, 22, 8, 9, 10, 5, 23)] share [8] with [] in the inside and [8] on the edge?\n",
      "\u001b[7m\u001b[31;1m CRITICAL \u001b[0m\u001b[31;1m This is impossible. [(17, 18, 19, 20, 8), (7, 8, 9, 10, 5, 6), (21, 22, 8, 7, 6, 5, 23), (21, 22, 8, 9, 10, 5, 23)] share [8] with [] in the inside and [8] on the edge?!\u001b[0m\n",
      "[2024-12-02 12:04:43,806] CRITICAL - This is impossible. [(17, 18, 19, 20, 8), (7, 8, 9, 10, 5, 6), (21, 22, 8, 7, 6, 5, 23), (21, 22, 8, 9, 10, 5, 23)] share [8] with [] in the inside and [8] on the edge?\n",
      "\u001b[7m\u001b[31;1m CRITICAL \u001b[0m\u001b[31;1m This is impossible. [(17, 18, 19, 20, 8), (7, 8, 9, 10, 5, 6), (21, 22, 8, 7, 6, 5, 23), (21, 22, 8, 9, 10, 5, 23)] share [8] with [] in the inside and [8] on the edge?!\u001b[0m\n",
      "[2024-12-02 12:04:43,813] CRITICAL - This is impossible. [(17, 18, 19, 20, 8), (7, 8, 9, 10, 5, 6), (21, 22, 8, 7, 6, 5, 23), (21, 22, 8, 9, 10, 5, 23)] share [8] with [] in the inside and [8] on the edge?\n",
      "\u001b[7m\u001b[31;1m CRITICAL \u001b[0m\u001b[31;1m This is impossible. [(17, 18, 19, 20, 8), (7, 8, 9, 10, 5, 6), (21, 22, 8, 7, 6, 5, 23), (21, 22, 8, 9, 10, 5, 23)] share [8] with [] in the inside and [8] on the edge?!\u001b[0m\n",
      "[2024-12-02 12:04:43,816] CRITICAL - This is impossible. [(17, 18, 19, 20, 8), (7, 8, 9, 10, 5, 6), (21, 22, 8, 7, 6, 5, 23), (21, 22, 8, 9, 10, 5, 23)] share [8] with [] in the inside and [8] on the edge?\n",
      "\u001b[7m\u001b[31;1m CRITICAL \u001b[0m\u001b[31;1m This is impossible. [(17, 18, 19, 20, 8), (7, 8, 9, 10, 5, 6), (21, 22, 8, 7, 6, 5, 23), (21, 22, 8, 9, 10, 5, 23)] share [8] with [] in the inside and [8] on the edge?!\u001b[0m\n",
      "[2024-12-02 12:04:43,820] CRITICAL - This is impossible. [(17, 18, 19, 20, 8), (7, 8, 9, 10, 5, 6), (21, 22, 8, 7, 6, 5, 23), (21, 22, 8, 9, 10, 5, 23)] share [8] with [] in the inside and [8] on the edge?\n",
      "\u001b[7m\u001b[31;1m CRITICAL \u001b[0m\u001b[31;1m This is impossible. [(17, 18, 19, 20, 8), (7, 8, 9, 10, 5, 6), (21, 22, 8, 7, 6, 5, 23), (21, 22, 8, 9, 10, 5, 23)] share [8] with [] in the inside and [8] on the edge?!\u001b[0m\n",
      "[2024-12-02 12:04:43,825] CRITICAL - This is impossible. [(17, 18, 19, 20, 8), (7, 8, 9, 10, 5, 6), (21, 22, 8, 7, 6, 5, 23), (21, 22, 8, 9, 10, 5, 23)] share [8] with [] in the inside and [8] on the edge?\n",
      "\u001b[7m\u001b[31;1m CRITICAL \u001b[0m\u001b[31;1m This is impossible. [(17, 18, 19, 20, 8), (7, 8, 9, 10, 5, 6), (21, 22, 8, 7, 6, 5, 23), (21, 22, 8, 9, 10, 5, 23)] share [8] with [] in the inside and [8] on the edge?!\u001b[0m\n",
      "[2024-12-02 12:04:43,831] CRITICAL - This is impossible. [(17, 18, 19, 20, 8), (7, 8, 9, 10, 5, 6), (21, 22, 8, 7, 6, 5, 23), (21, 22, 8, 9, 10, 5, 23)] share [8] with [] in the inside and [8] on the edge?\n",
      "\u001b[7m\u001b[31;1m CRITICAL \u001b[0m\u001b[31;1m This is impossible. [(17, 18, 19, 20, 8), (7, 8, 9, 10, 5, 6), (21, 22, 8, 7, 6, 5, 23), (21, 22, 8, 9, 10, 5, 23)] share [8] with [] in the inside and [8] on the edge?!\u001b[0m\n",
      "[2024-12-02 12:04:43,837] CRITICAL - This is impossible. [(17, 18, 19, 20, 8), (7, 8, 9, 10, 5, 6), (21, 22, 8, 7, 6, 5, 23), (21, 22, 8, 9, 10, 5, 23)] share [8] with [] in the inside and [8] on the edge?\n",
      "\u001b[7m\u001b[31;1m CRITICAL \u001b[0m\u001b[31;1m This is impossible. [(17, 18, 19, 20, 8), (7, 8, 9, 10, 5, 6), (21, 22, 8, 7, 6, 5, 23), (21, 22, 8, 9, 10, 5, 23)] share [8] with [] in the inside and [8] on the edge?!\u001b[0m\n",
      "[2024-12-02 12:04:43,844] CRITICAL - This is impossible. [(17, 18, 19, 20, 8), (7, 8, 9, 10, 5, 6), (21, 22, 8, 7, 6, 5, 23), (21, 22, 8, 9, 10, 5, 23)] share [8] with [] in the inside and [8] on the edge?\n",
      "\u001b[7m\u001b[31;1m CRITICAL \u001b[0m\u001b[31;1m This is impossible. [(17, 18, 19, 20, 8), (7, 8, 9, 10, 5, 6), (21, 22, 8, 7, 6, 5, 23), (21, 22, 8, 9, 10, 5, 23)] share [8] with [] in the inside and [8] on the edge?!\u001b[0m\n",
      "[2024-12-02 12:04:43,848] CRITICAL - This is impossible. [(17, 18, 19, 20, 8), (7, 8, 9, 10, 5, 6), (21, 22, 8, 7, 6, 5, 23), (21, 22, 8, 9, 10, 5, 23)] share [8] with [] in the inside and [8] on the edge?\n",
      "\u001b[7m\u001b[31;1m CRITICAL \u001b[0m\u001b[31;1m This is impossible. [(17, 18, 19, 20, 8), (7, 8, 9, 10, 5, 6), (21, 22, 8, 7, 6, 5, 23), (21, 22, 8, 9, 10, 5, 23)] share [8] with [] in the inside and [8] on the edge?!\u001b[0m\n",
      "[2024-12-02 12:04:43,851] CRITICAL - This is impossible. [(17, 18, 19, 20, 8), (7, 8, 9, 10, 5, 6), (21, 22, 8, 7, 6, 5, 23), (21, 22, 8, 9, 10, 5, 23)] share [8] with [] in the inside and [8] on the edge?\n",
      "\u001b[7m\u001b[31;1m CRITICAL \u001b[0m\u001b[31;1m This is impossible. [(17, 18, 19, 20, 8), (7, 8, 9, 10, 5, 6), (21, 22, 8, 7, 6, 5, 23), (21, 22, 8, 9, 10, 5, 23)] share [8] with [] in the inside and [8] on the edge?!\u001b[0m\n",
      "[2024-12-02 12:04:43,855] CRITICAL - This is impossible. [(17, 18, 19, 20, 8), (7, 8, 9, 10, 5, 6), (21, 22, 8, 7, 6, 5, 23), (21, 22, 8, 9, 10, 5, 23)] share [8] with [] in the inside and [8] on the edge?\n",
      "\u001b[7m\u001b[31;1m CRITICAL \u001b[0m\u001b[31;1m This is impossible. [(17, 18, 19, 20, 8), (7, 8, 9, 10, 5, 6), (21, 22, 8, 7, 6, 5, 23), (21, 22, 8, 9, 10, 5, 23)] share [8] with [] in the inside and [8] on the edge?!\u001b[0m\n",
      "[2024-12-02 12:04:43,862] CRITICAL - This is impossible. [(17, 18, 19, 20, 8), (7, 8, 9, 10, 5, 6), (21, 22, 8, 7, 6, 5, 23), (21, 22, 8, 9, 10, 5, 23)] share [8] with [] in the inside and [8] on the edge?\n",
      "\u001b[7m\u001b[31;1m CRITICAL \u001b[0m\u001b[31;1m This is impossible. [(17, 18, 19, 20, 8), (7, 8, 9, 10, 5, 6), (21, 22, 8, 7, 6, 5, 23), (21, 22, 8, 9, 10, 5, 23)] share [8] with [] in the inside and [8] on the edge?!\u001b[0m\n",
      "[2024-12-02 12:04:43,866] CRITICAL - This is impossible. [(17, 18, 19, 20, 8), (7, 8, 9, 10, 5, 6), (21, 22, 8, 7, 6, 5, 23), (21, 22, 8, 9, 10, 5, 23)] share [8] with [] in the inside and [8] on the edge?\n",
      "\u001b[7m\u001b[31;1m CRITICAL \u001b[0m\u001b[31;1m This is impossible. [(17, 18, 19, 20, 8), (7, 8, 9, 10, 5, 6), (21, 22, 8, 7, 6, 5, 23), (21, 22, 8, 9, 10, 5, 23)] share [8] with [] in the inside and [8] on the edge?!\u001b[0m\n",
      "[2024-12-02 12:04:43,870] CRITICAL - This is impossible. [(17, 18, 19, 20, 8), (7, 8, 9, 10, 5, 6), (21, 22, 8, 7, 6, 5, 23), (21, 22, 8, 9, 10, 5, 23)] share [8] with [] in the inside and [8] on the edge?\n",
      "\u001b[7m\u001b[31;1m CRITICAL \u001b[0m\u001b[31;1m This is impossible. [(17, 18, 19, 20, 8), (7, 8, 9, 10, 5, 6), (21, 22, 8, 7, 6, 5, 23), (21, 22, 8, 9, 10, 5, 23)] share [8] with [] in the inside and [8] on the edge?!\u001b[0m\n",
      "[2024-12-02 12:04:43,874] CRITICAL - This is impossible. [(17, 18, 19, 20, 8), (7, 8, 9, 10, 5, 6), (21, 22, 8, 7, 6, 5, 23), (21, 22, 8, 9, 10, 5, 23)] share [8] with [] in the inside and [8] on the edge?\n",
      "\u001b[7m\u001b[31;1m CRITICAL \u001b[0m\u001b[31;1m This is impossible. [(17, 18, 19, 20, 8), (7, 8, 9, 10, 5, 6), (21, 22, 8, 7, 6, 5, 23), (21, 22, 8, 9, 10, 5, 23)] share [8] with [] in the inside and [8] on the edge?!\u001b[0m\n",
      "[2024-12-02 12:04:43,880] CRITICAL - This is impossible. [(17, 18, 19, 20, 8), (7, 8, 9, 10, 5, 6), (21, 22, 8, 7, 6, 5, 23), (21, 22, 8, 9, 10, 5, 23)] share [8] with [] in the inside and [8] on the edge?\n",
      "\u001b[7m\u001b[31;1m CRITICAL \u001b[0m\u001b[31;1m This is impossible. [(17, 18, 19, 20, 8), (7, 8, 9, 10, 5, 6), (21, 22, 8, 7, 6, 5, 23), (21, 22, 8, 9, 10, 5, 23)] share [8] with [] in the inside and [8] on the edge?!\u001b[0m\n",
      "[2024-12-02 12:04:43,884] CRITICAL - This is impossible. [(17, 18, 19, 20, 8), (7, 8, 9, 10, 5, 6), (21, 22, 8, 7, 6, 5, 23), (21, 22, 8, 9, 10, 5, 23)] share [8] with [] in the inside and [8] on the edge?\n",
      "\u001b[7m\u001b[31;1m CRITICAL \u001b[0m\u001b[31;1m This is impossible. [(17, 18, 19, 20, 8), (7, 8, 9, 10, 5, 6), (21, 22, 8, 7, 6, 5, 23), (21, 22, 8, 9, 10, 5, 23)] share [8] with [] in the inside and [8] on the edge?!\u001b[0m\n",
      "[2024-12-02 12:04:43,888] CRITICAL - This is impossible. [(17, 18, 19, 20, 8), (7, 8, 9, 10, 5, 6), (21, 22, 8, 7, 6, 5, 23), (21, 22, 8, 9, 10, 5, 23)] share [8] with [] in the inside and [8] on the edge?\n",
      "\u001b[7m\u001b[31;1m CRITICAL \u001b[0m\u001b[31;1m This is impossible. [(17, 18, 19, 20, 8), (7, 8, 9, 10, 5, 6), (21, 22, 8, 7, 6, 5, 23), (21, 22, 8, 9, 10, 5, 23)] share [8] with [] in the inside and [8] on the edge?!\u001b[0m\n",
      "[2024-12-02 12:04:43,892] CRITICAL - This is impossible. [(17, 18, 19, 20, 8), (7, 8, 9, 10, 5, 6), (21, 22, 8, 7, 6, 5, 23), (21, 22, 8, 9, 10, 5, 23)] share [8] with [] in the inside and [8] on the edge?\n",
      "\u001b[7m\u001b[31;1m CRITICAL \u001b[0m\u001b[31;1m This is impossible. [(17, 18, 19, 20, 8), (7, 8, 9, 10, 5, 6), (21, 22, 8, 7, 6, 5, 23), (21, 22, 8, 9, 10, 5, 23)] share [8] with [] in the inside and [8] on the edge?!\u001b[0m\n",
      "[2024-12-02 12:04:43,898] CRITICAL - This is impossible. [(17, 18, 19, 20, 8), (7, 8, 9, 10, 5, 6), (21, 22, 8, 7, 6, 5, 23), (21, 22, 8, 9, 10, 5, 23)] share [8] with [] in the inside and [8] on the edge?\n",
      "\u001b[7m\u001b[31;1m CRITICAL \u001b[0m\u001b[31;1m This is impossible. [(17, 18, 19, 20, 8), (7, 8, 9, 10, 5, 6), (21, 22, 8, 7, 6, 5, 23), (21, 22, 8, 9, 10, 5, 23)] share [8] with [] in the inside and [8] on the edge?!\u001b[0m\n",
      "[2024-12-02 12:04:43,904] CRITICAL - This is impossible. [(17, 18, 19, 20, 8), (7, 8, 9, 10, 5, 6), (21, 22, 8, 7, 6, 5, 23), (21, 22, 8, 9, 10, 5, 23)] share [8] with [] in the inside and [8] on the edge?\n",
      "\u001b[7m\u001b[31;1m CRITICAL \u001b[0m\u001b[31;1m This is impossible. [(17, 18, 19, 20, 8), (7, 8, 9, 10, 5, 6), (21, 22, 8, 7, 6, 5, 23), (21, 22, 8, 9, 10, 5, 23)] share [8] with [] in the inside and [8] on the edge?!\u001b[0m\n",
      "[2024-12-02 12:04:43,908] CRITICAL - This is impossible. [(17, 18, 19, 20, 8), (7, 8, 9, 10, 5, 6), (21, 22, 8, 7, 6, 5, 23), (21, 22, 8, 9, 10, 5, 23)] share [8] with [] in the inside and [8] on the edge?\n",
      "\u001b[7m\u001b[31;1m CRITICAL \u001b[0m\u001b[31;1m This is impossible. [(17, 18, 19, 20, 8), (7, 8, 9, 10, 5, 6), (21, 22, 8, 7, 6, 5, 23), (21, 22, 8, 9, 10, 5, 23)] share [8] with [] in the inside and [8] on the edge?!\u001b[0m\n",
      "[2024-12-02 12:04:43,912] CRITICAL - This is impossible. [(17, 18, 19, 20, 8), (7, 8, 9, 10, 5, 6), (21, 22, 8, 7, 6, 5, 23), (21, 22, 8, 9, 10, 5, 23)] share [8] with [] in the inside and [8] on the edge?\n",
      "\u001b[7m\u001b[31;1m CRITICAL \u001b[0m\u001b[31;1m This is impossible. [(17, 18, 19, 20, 8), (7, 8, 9, 10, 5, 6), (21, 22, 8, 7, 6, 5, 23), (21, 22, 8, 9, 10, 5, 23)] share [8] with [] in the inside and [8] on the edge?!\u001b[0m\n",
      "[2024-12-02 12:04:43,916] CRITICAL - This is impossible. [(17, 18, 19, 20, 8), (7, 8, 9, 10, 5, 6), (21, 22, 8, 7, 6, 5, 23), (21, 22, 8, 9, 10, 5, 23)] share [8] with [] in the inside and [8] on the edge?\n",
      "\u001b[7m\u001b[31;1m CRITICAL \u001b[0m\u001b[31;1m This is impossible. [(17, 18, 19, 20, 8), (7, 8, 9, 10, 5, 6), (21, 22, 8, 7, 6, 5, 23), (21, 22, 8, 9, 10, 5, 23)] share [8] with [] in the inside and [8] on the edge?!\u001b[0m\n",
      "[2024-12-02 12:04:43,923] CRITICAL - This is impossible. [(17, 18, 19, 20, 8), (7, 8, 9, 10, 5, 6), (21, 22, 8, 7, 6, 5, 23), (21, 22, 8, 9, 10, 5, 23)] share [8] with [] in the inside and [8] on the edge?\n",
      "\u001b[7m\u001b[31;1m CRITICAL \u001b[0m\u001b[31;1m This is impossible. [(17, 18, 19, 20, 8), (7, 8, 9, 10, 5, 6), (21, 22, 8, 7, 6, 5, 23), (21, 22, 8, 9, 10, 5, 23)] share [8] with [] in the inside and [8] on the edge?!\u001b[0m\n",
      "[2024-12-02 12:04:43,927] CRITICAL - This is impossible. [(17, 18, 19, 20, 8), (7, 8, 9, 10, 5, 6), (21, 22, 8, 7, 6, 5, 23), (21, 22, 8, 9, 10, 5, 23)] share [8] with [] in the inside and [8] on the edge?\n",
      "\u001b[7m\u001b[31;1m CRITICAL \u001b[0m\u001b[31;1m This is impossible. [(17, 18, 19, 20, 8), (7, 8, 9, 10, 5, 6), (21, 22, 8, 7, 6, 5, 23), (21, 22, 8, 9, 10, 5, 23)] share [8] with [] in the inside and [8] on the edge?!\u001b[0m\n",
      "[2024-12-02 12:04:43,931] CRITICAL - This is impossible. [(17, 18, 19, 20, 8), (7, 8, 9, 10, 5, 6), (21, 22, 8, 7, 6, 5, 23), (21, 22, 8, 9, 10, 5, 23)] share [8] with [] in the inside and [8] on the edge?\n",
      "\u001b[7m\u001b[31;1m CRITICAL \u001b[0m\u001b[31;1m This is impossible. [(17, 18, 19, 20, 8), (7, 8, 9, 10, 5, 6), (21, 22, 8, 7, 6, 5, 23), (21, 22, 8, 9, 10, 5, 23)] share [8] with [] in the inside and [8] on the edge?!\u001b[0m\n",
      "[2024-12-02 12:04:43,935] CRITICAL - This is impossible. [(17, 18, 19, 20, 8), (7, 8, 9, 10, 5, 6), (21, 22, 8, 7, 6, 5, 23), (21, 22, 8, 9, 10, 5, 23)] share [8] with [] in the inside and [8] on the edge?\n",
      "\u001b[7m\u001b[31;1m CRITICAL \u001b[0m\u001b[31;1m This is impossible. [(17, 18, 19, 20, 8), (7, 8, 9, 10, 5, 6), (21, 22, 8, 7, 6, 5, 23), (21, 22, 8, 9, 10, 5, 23)] share [8] with [] in the inside and [8] on the edge?!\u001b[0m\n",
      "[2024-12-02 12:04:43,941] CRITICAL - This is impossible. [(17, 18, 19, 20, 8), (7, 8, 9, 10, 5, 6), (21, 22, 8, 7, 6, 5, 23), (21, 22, 8, 9, 10, 5, 23)] share [8] with [] in the inside and [8] on the edge?\n",
      "\u001b[7m\u001b[31;1m CRITICAL \u001b[0m\u001b[31;1m This is impossible. [(17, 18, 19, 20, 8), (7, 8, 9, 10, 5, 6), (21, 22, 8, 7, 6, 5, 23), (21, 22, 8, 9, 10, 5, 23)] share [8] with [] in the inside and [8] on the edge?!\u001b[0m\n",
      "[2024-12-02 12:04:43,945] CRITICAL - This is impossible. [(17, 18, 19, 20, 8), (7, 8, 9, 10, 5, 6), (21, 22, 8, 7, 6, 5, 23), (21, 22, 8, 9, 10, 5, 23)] share [8] with [] in the inside and [8] on the edge?\n",
      "\u001b[7m\u001b[31;1m CRITICAL \u001b[0m\u001b[31;1m This is impossible. [(17, 18, 19, 20, 8), (7, 8, 9, 10, 5, 6), (21, 22, 8, 7, 6, 5, 23), (21, 22, 8, 9, 10, 5, 23)] share [8] with [] in the inside and [8] on the edge?!\u001b[0m\n",
      "[2024-12-02 12:04:43,949] CRITICAL - This is impossible. [(17, 18, 19, 20, 8), (7, 8, 9, 10, 5, 6), (21, 22, 8, 7, 6, 5, 23), (21, 22, 8, 9, 10, 5, 23)] share [8] with [] in the inside and [8] on the edge?\n",
      "\u001b[7m\u001b[31;1m CRITICAL \u001b[0m\u001b[31;1m This is impossible. [(17, 18, 19, 20, 8), (7, 8, 9, 10, 5, 6), (21, 22, 8, 7, 6, 5, 23), (21, 22, 8, 9, 10, 5, 23)] share [8] with [] in the inside and [8] on the edge?!\u001b[0m\n",
      "[2024-12-02 12:04:43,953] CRITICAL - This is impossible. [(17, 18, 19, 20, 8), (7, 8, 9, 10, 5, 6), (21, 22, 8, 7, 6, 5, 23), (21, 22, 8, 9, 10, 5, 23)] share [8] with [] in the inside and [8] on the edge?\n",
      "\u001b[7m\u001b[31;1m CRITICAL \u001b[0m\u001b[31;1m This is impossible. [(17, 18, 19, 20, 8), (7, 8, 9, 10, 5, 6), (21, 22, 8, 7, 6, 5, 23), (21, 22, 8, 9, 10, 5, 23)] share [8] with [] in the inside and [8] on the edge?!\u001b[0m\n",
      "[2024-12-02 12:04:43,959] CRITICAL - This is impossible. [(17, 18, 19, 20, 8), (7, 8, 9, 10, 5, 6), (21, 22, 8, 7, 6, 5, 23), (21, 22, 8, 9, 10, 5, 23)] share [8] with [] in the inside and [8] on the edge?\n",
      "\u001b[7m\u001b[31;1m CRITICAL \u001b[0m\u001b[31;1m This is impossible. [(17, 18, 19, 20, 8), (7, 8, 9, 10, 5, 6), (21, 22, 8, 7, 6, 5, 23), (21, 22, 8, 9, 10, 5, 23)] share [8] with [] in the inside and [8] on the edge?!\u001b[0m\n",
      "[2024-12-02 12:04:43,966] CRITICAL - This is impossible. [(17, 18, 19, 20, 8), (7, 8, 9, 10, 5, 6), (21, 22, 8, 7, 6, 5, 23), (21, 22, 8, 9, 10, 5, 23)] share [8] with [] in the inside and [8] on the edge?\n",
      "\u001b[7m\u001b[31;1m CRITICAL \u001b[0m\u001b[31;1m This is impossible. [(17, 18, 19, 20, 8), (7, 8, 9, 10, 5, 6), (21, 22, 8, 7, 6, 5, 23), (21, 22, 8, 9, 10, 5, 23)] share [8] with [] in the inside and [8] on the edge?!\u001b[0m\n",
      "[2024-12-02 12:04:43,970] CRITICAL - This is impossible. [(17, 18, 19, 20, 8), (7, 8, 9, 10, 5, 6), (21, 22, 8, 7, 6, 5, 23), (21, 22, 8, 9, 10, 5, 23)] share [8] with [] in the inside and [8] on the edge?\n",
      "\u001b[7m\u001b[31;1m CRITICAL \u001b[0m\u001b[31;1m This is impossible. [(17, 18, 19, 20, 8), (7, 8, 9, 10, 5, 6), (21, 22, 8, 7, 6, 5, 23), (21, 22, 8, 9, 10, 5, 23)] share [8] with [] in the inside and [8] on the edge?!\u001b[0m\n",
      "[2024-12-02 12:04:43,974] CRITICAL - This is impossible. [(17, 18, 19, 20, 8), (7, 8, 9, 10, 5, 6), (21, 22, 8, 7, 6, 5, 23), (21, 22, 8, 9, 10, 5, 23)] share [8] with [] in the inside and [8] on the edge?\n",
      "\u001b[7m\u001b[31;1m CRITICAL \u001b[0m\u001b[31;1m This is impossible. [(17, 18, 19, 20, 8), (7, 8, 9, 10, 5, 6), (21, 22, 8, 7, 6, 5, 23), (21, 22, 8, 9, 10, 5, 23)] share [8] with [] in the inside and [8] on the edge?!\u001b[0m\n",
      "[2024-12-02 12:04:43,978] CRITICAL - This is impossible. [(17, 18, 19, 20, 8), (7, 8, 9, 10, 5, 6), (21, 22, 8, 7, 6, 5, 23), (21, 22, 8, 9, 10, 5, 23)] share [8] with [] in the inside and [8] on the edge?\n",
      "\u001b[7m\u001b[31;1m CRITICAL \u001b[0m\u001b[31;1m This is impossible. [(17, 18, 19, 20, 8), (7, 8, 9, 10, 5, 6), (21, 22, 8, 7, 6, 5, 23), (21, 22, 8, 9, 10, 5, 23)] share [8] with [] in the inside and [8] on the edge?!\u001b[0m\n",
      "[2024-12-02 12:04:43,984] CRITICAL - This is impossible. [(17, 18, 19, 20, 8), (7, 8, 9, 10, 5, 6), (21, 22, 8, 7, 6, 5, 23), (21, 22, 8, 9, 10, 5, 23)] share [8] with [] in the inside and [8] on the edge?\n",
      "\u001b[7m\u001b[31;1m CRITICAL \u001b[0m\u001b[31;1m This is impossible. [(17, 18, 19, 20, 8), (7, 8, 9, 10, 5, 6), (21, 22, 8, 7, 6, 5, 23), (21, 22, 8, 9, 10, 5, 23)] share [8] with [] in the inside and [8] on the edge?!\u001b[0m\n",
      "[2024-12-02 12:04:43,988] CRITICAL - This is impossible. [(17, 18, 19, 20, 8), (7, 8, 9, 10, 5, 6), (21, 22, 8, 7, 6, 5, 23), (21, 22, 8, 9, 10, 5, 23)] share [8] with [] in the inside and [8] on the edge?\n",
      "\u001b[7m\u001b[31;1m CRITICAL \u001b[0m\u001b[31;1m This is impossible. [(17, 18, 19, 20, 8), (7, 8, 9, 10, 5, 6), (21, 22, 8, 7, 6, 5, 23), (21, 22, 8, 9, 10, 5, 23)] share [8] with [] in the inside and [8] on the edge?!\u001b[0m\n",
      "[2024-12-02 12:04:43,992] CRITICAL - This is impossible. [(17, 18, 19, 20, 8), (7, 8, 9, 10, 5, 6), (21, 22, 8, 7, 6, 5, 23), (21, 22, 8, 9, 10, 5, 23)] share [8] with [] in the inside and [8] on the edge?\n",
      "\u001b[7m\u001b[31;1m CRITICAL \u001b[0m\u001b[31;1m This is impossible. [(17, 18, 19, 20, 8), (7, 8, 9, 10, 5, 6), (21, 22, 8, 7, 6, 5, 23), (21, 22, 8, 9, 10, 5, 23)] share [8] with [] in the inside and [8] on the edge?!\u001b[0m\n",
      "[2024-12-02 12:04:43,996] CRITICAL - This is impossible. [(17, 18, 19, 20, 8), (7, 8, 9, 10, 5, 6), (21, 22, 8, 7, 6, 5, 23), (21, 22, 8, 9, 10, 5, 23)] share [8] with [] in the inside and [8] on the edge?\n",
      "\u001b[7m\u001b[31;1m CRITICAL \u001b[0m\u001b[31;1m This is impossible. [(17, 18, 19, 20, 8), (7, 8, 9, 10, 5, 6), (21, 22, 8, 7, 6, 5, 23), (21, 22, 8, 9, 10, 5, 23)] share [8] with [] in the inside and [8] on the edge?!\u001b[0m\n",
      "[2024-12-02 12:04:44,003] CRITICAL - This is impossible. [(17, 18, 19, 20, 8), (7, 8, 9, 10, 5, 6), (21, 22, 8, 7, 6, 5, 23), (21, 22, 8, 9, 10, 5, 23)] share [8] with [] in the inside and [8] on the edge?\n",
      "\u001b[7m\u001b[31;1m CRITICAL \u001b[0m\u001b[31;1m This is impossible. [(17, 18, 19, 20, 8), (7, 8, 9, 10, 5, 6), (21, 22, 8, 7, 6, 5, 23), (21, 22, 8, 9, 10, 5, 23)] share [8] with [] in the inside and [8] on the edge?!\u001b[0m\n",
      "[2024-12-02 12:04:44,007] CRITICAL - This is impossible. [(17, 18, 19, 20, 8), (7, 8, 9, 10, 5, 6), (21, 22, 8, 7, 6, 5, 23), (21, 22, 8, 9, 10, 5, 23)] share [8] with [] in the inside and [8] on the edge?\n",
      "\u001b[7m\u001b[31;1m CRITICAL \u001b[0m\u001b[31;1m This is impossible. [(17, 18, 19, 20, 8), (7, 8, 9, 10, 5, 6), (21, 22, 8, 7, 6, 5, 23), (21, 22, 8, 9, 10, 5, 23)] share [8] with [] in the inside and [8] on the edge?!\u001b[0m\n",
      "[2024-12-02 12:04:44,011] CRITICAL - This is impossible. [(17, 18, 19, 20, 8), (7, 8, 9, 10, 5, 6), (21, 22, 8, 7, 6, 5, 23), (21, 22, 8, 9, 10, 5, 23)] share [8] with [] in the inside and [8] on the edge?\n",
      "\u001b[7m\u001b[31;1m CRITICAL \u001b[0m\u001b[31;1m This is impossible. [(17, 18, 19, 20, 8), (7, 8, 9, 10, 5, 6), (21, 22, 8, 7, 6, 5, 23), (21, 22, 8, 9, 10, 5, 23)] share [8] with [] in the inside and [8] on the edge?!\u001b[0m\n",
      "[2024-12-02 12:05:23,839] CRITICAL - Absorption required for the atom pairs: [[17, 2]]\n",
      "\u001b[7m\u001b[31;1m CRITICAL \u001b[0m\u001b[31;1m Absorption required for the atom pairs: [[17, 2]]!\u001b[0m\n",
      "[2024-12-02 12:05:47,192] CRITICAL - Absorption required for the atom pairs: [[10, 20]]\n",
      "\u001b[7m\u001b[31;1m CRITICAL \u001b[0m\u001b[31;1m Absorption required for the atom pairs: [[10, 20]]!\u001b[0m\n",
      "[2024-12-02 12:05:52,786] CRITICAL - Absorption required for the atom pairs: [[28, 23]]\n",
      "\u001b[7m\u001b[31;1m CRITICAL \u001b[0m\u001b[31;1m Absorption required for the atom pairs: [[28, 23]]!\u001b[0m\n",
      "[2024-12-02 12:05:52,806] CRITICAL - This is impossible. [(9, 10, 11, 12, 5), (6, 7, 8, 27, 14, 5), (13, 14, 27, 8, 15, 16)] share [5] with [] in the inside and [5] on the edge?\n",
      "\u001b[7m\u001b[31;1m CRITICAL \u001b[0m\u001b[31;1m This is impossible. [(9, 10, 11, 12, 5), (6, 7, 8, 27, 14, 5), (13, 14, 27, 8, 15, 16)] share [5] with [] in the inside and [5] on the edge?!\u001b[0m\n",
      "[2024-12-02 12:05:52,812] CRITICAL - This is impossible. [(9, 10, 11, 12, 5), (6, 7, 8, 27, 14, 5), (13, 14, 27, 8, 15, 16)] share [5] with [] in the inside and [5] on the edge?\n",
      "\u001b[7m\u001b[31;1m CRITICAL \u001b[0m\u001b[31;1m This is impossible. [(9, 10, 11, 12, 5), (6, 7, 8, 27, 14, 5), (13, 14, 27, 8, 15, 16)] share [5] with [] in the inside and [5] on the edge?!\u001b[0m\n",
      "[2024-12-02 12:05:52,819] CRITICAL - This is impossible. [(9, 10, 11, 12, 5), (6, 7, 8, 27, 14, 5), (13, 14, 27, 8, 15, 16)] share [5] with [] in the inside and [5] on the edge?\n",
      "\u001b[7m\u001b[31;1m CRITICAL \u001b[0m\u001b[31;1m This is impossible. [(9, 10, 11, 12, 5), (6, 7, 8, 27, 14, 5), (13, 14, 27, 8, 15, 16)] share [5] with [] in the inside and [5] on the edge?!\u001b[0m\n",
      "[2024-12-02 12:05:52,824] CRITICAL - This is impossible. [(9, 10, 11, 12, 5), (6, 7, 8, 27, 14, 5), (13, 14, 27, 8, 15, 16)] share [5] with [] in the inside and [5] on the edge?\n",
      "\u001b[7m\u001b[31;1m CRITICAL \u001b[0m\u001b[31;1m This is impossible. [(9, 10, 11, 12, 5), (6, 7, 8, 27, 14, 5), (13, 14, 27, 8, 15, 16)] share [5] with [] in the inside and [5] on the edge?!\u001b[0m\n",
      "[2024-12-02 12:06:10,331] CRITICAL - This is impossible. [(5, 10, 9, 8, 4, 0), (6, 4, 7, 25)] share [4] with [] in the inside and [4] on the edge?\n",
      "\u001b[7m\u001b[31;1m CRITICAL \u001b[0m\u001b[31;1m This is impossible. [(5, 10, 9, 8, 4, 0), (6, 4, 7, 25)] share [4] with [] in the inside and [4] on the edge?!\u001b[0m\n",
      "[2024-12-02 12:06:10,649] CRITICAL - Absorption required for the atom pairs: [[6, 26], [32, 23], [32, 28], [48, 8], [54, 11], [54, 30], [25, 6], [25, 7], [7, 48]]\n",
      "\u001b[7m\u001b[31;1m CRITICAL \u001b[0m\u001b[31;1m Absorption required for the atom pairs: [[6, 26], [32, 23], [32, 28], [48, 8], [54, 11], [54, 30], [25, 6], [25, 7], [7, 48]]!\u001b[0m\n",
      "[2024-12-02 12:06:10,682] CRITICAL - Absorption required for the atom pairs: [[58, 44], [48, 45], [48, 19], [8, 59], [47, 8], [47, 19], [47, 59]]\n",
      "\u001b[7m\u001b[31;1m CRITICAL \u001b[0m\u001b[31;1m Absorption required for the atom pairs: [[58, 44], [48, 45], [48, 19], [8, 59], [47, 8], [47, 19], [47, 59]]!\u001b[0m\n",
      "[2024-12-02 12:06:10,721] CRITICAL - This is impossible. [(8, 42, 43, 11, 10, 9), (53, 55, 43, 54)] share [43] with [] in the inside and [43] on the edge?\n",
      "\u001b[7m\u001b[31;1m CRITICAL \u001b[0m\u001b[31;1m This is impossible. [(8, 42, 43, 11, 10, 9), (53, 55, 43, 54)] share [43] with [] in the inside and [43] on the edge?!\u001b[0m\n",
      "[2024-12-02 12:06:10,739] CRITICAL - Absorption required for the atom pairs: [[21, 19], [20, 22], [21, 20], [21, 22]]\n"
     ]
    }
   ],
   "source": [
    "pure_merge(lab, hits.mols)"
   ]
  },
  {
   "cell_type": "code",
   "execution_count": null,
   "id": "7a3f3972-5854-4eca-ba9c-170b1ecf3bd6",
   "metadata": {},
   "outputs": [],
   "source": []
  }
 ],
 "metadata": {
  "kernelspec": {
   "display_name": "Python [conda env:base] *",
   "language": "python",
   "name": "conda-base-py"
  },
  "language_info": {
   "codemirror_mode": {
    "name": "ipython",
    "version": 3
   },
   "file_extension": ".py",
   "mimetype": "text/x-python",
   "name": "python",
   "nbconvert_exporter": "python",
   "pygments_lexer": "ipython3",
   "version": "3.11.6"
  }
 },
 "nbformat": 4,
 "nbformat_minor": 5
}
