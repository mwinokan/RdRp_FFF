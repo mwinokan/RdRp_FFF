{
 "cells": [
  {
   "cell_type": "code",
   "execution_count": 1,
   "id": "9f9ace7e-83a1-453f-862d-45d562e843c0",
   "metadata": {},
   "outputs": [],
   "source": [
    "%load_ext autoreload\n",
    "%autoreload 2\n",
    "import hippo\n",
    "import mrich\n",
    "from rich import print\n",
    "import molparse as mp\n",
    "import plotly.express as px\n",
    "import pandas as pd\n",
    "from pathlib import Path\n",
    "import json"
   ]
  },
  {
   "cell_type": "code",
   "execution_count": 2,
   "id": "d2c1a1d8-b29f-498d-bf92-3b29c2b3fdcf",
   "metadata": {},
   "outputs": [
    {
     "data": {
      "text/html": [
       "<pre style=\"white-space:pre;overflow-x:auto;line-height:normal;font-family:Menlo,'DejaVu Sans Mono',consolas,'Courier New',monospace;margin:0px\"><span style=\"font-weight: bold\"> Creating HIPPO animal</span>\n",
       "</pre>\n"
      ],
      "text/plain": [
       "\u001b[1m Creating HIPPO animal\u001b[0m\n"
      ]
     },
     "metadata": {},
     "output_type": "display_data"
    },
    {
     "data": {
      "text/html": [
       "<pre style=\"white-space:pre;overflow-x:auto;line-height:normal;font-family:Menlo,'DejaVu Sans Mono',consolas,'Courier New',monospace;margin:0px\"><span style=\"color: #008080; text-decoration-color: #008080; font-weight: bold\">name</span> = <span style=\"color: #00d7af; text-decoration-color: #00d7af\">RdRp_FFF</span>\n",
       "</pre>\n"
      ],
      "text/plain": [
       "\u001b[1;36mname\u001b[0m = \u001b[38;5;43mRdRp_FFF\u001b[0m\n"
      ]
     },
     "metadata": {},
     "output_type": "display_data"
    },
    {
     "data": {
      "text/html": [
       "<pre style=\"white-space:pre;overflow-x:auto;line-height:normal;font-family:Menlo,'DejaVu Sans Mono',consolas,'Courier New',monospace;margin:0px\"><span style=\"color: #008080; text-decoration-color: #008080; font-weight: bold\">db_path</span> = <span style=\"color: #d7af00; text-decoration-color: #d7af00\">../../BulkDock/TARGETS/Flavi_NS5_RdRp/Flavi_NS5_RdRp.sqlite</span>\n",
       "</pre>\n"
      ],
      "text/plain": [
       "\u001b[1;36mdb_path\u001b[0m = \u001b[38;5;178m../../BulkDock/TARGETS/Flavi_NS5_RdRp/Flavi_NS5_RdRp.sqlite\u001b[0m\n"
      ]
     },
     "metadata": {},
     "output_type": "display_data"
    },
    {
     "data": {
      "text/html": [
       "<pre style=\"white-space:pre;overflow-x:auto;line-height:normal;font-family:Menlo,'DejaVu Sans Mono',consolas,'Courier New',monospace;margin:0px\"><span style=\"color: #808080; text-decoration-color: #808080\">DEBUG: hippo.Database.__init__()</span>\n",
       "</pre>\n"
      ],
      "text/plain": [
       "\u001b[90mDEBUG: hippo.Database.__init__()\u001b[0m\n"
      ]
     },
     "metadata": {},
     "output_type": "display_data"
    },
    {
     "data": {
      "text/html": [
       "<pre style=\"white-space:pre;overflow-x:auto;line-height:normal;font-family:Menlo,'DejaVu Sans Mono',consolas,'Courier New',monospace;margin:0px\"><span style=\"color: #808080; text-decoration-color: #808080\">DEBUG: Database.path = ../../BulkDock/TARGETS/Flavi_NS5_RdRp/Flavi_NS5_RdRp.sqlite</span>\n",
       "</pre>\n"
      ],
      "text/plain": [
       "\u001b[90mDEBUG: Database.path = ../../BulkDock/TARGETS/Flavi_NS5_RdRp/Flavi_NS5_RdRp.sqlite\u001b[0m\n"
      ]
     },
     "metadata": {},
     "output_type": "display_data"
    },
    {
     "data": {
      "text/html": [
       "<pre style=\"white-space:pre;overflow-x:auto;line-height:normal;font-family:Menlo,'DejaVu Sans Mono',consolas,'Courier New',monospace;margin:0px\"><span style=\"color: #808080; text-decoration-color: #808080\">DEBUG: hippo.Database.connect()</span>\n",
       "</pre>\n"
      ],
      "text/plain": [
       "\u001b[90mDEBUG: hippo.Database.connect()\u001b[0m\n"
      ]
     },
     "metadata": {},
     "output_type": "display_data"
    },
    {
     "data": {
      "text/html": [
       "<pre style=\"white-space:pre;overflow-x:auto;line-height:normal;font-family:Menlo,'DejaVu Sans Mono',consolas,'Courier New',monospace;margin:0px\"><span style=\"color: #808080; text-decoration-color: #808080\">DEBUG: sqlite3.version='2.6.0'</span>\n",
       "</pre>\n"
      ],
      "text/plain": [
       "\u001b[90mDEBUG: sqlite3.version='2.6.0'\u001b[0m\n"
      ]
     },
     "metadata": {},
     "output_type": "display_data"
    },
    {
     "data": {
      "text/html": [
       "<pre style=\"white-space:pre;overflow-x:auto;line-height:normal;font-family:Menlo,'DejaVu Sans Mono',consolas,'Courier New',monospace;margin:0px\"><span style=\"background-color: #008000; font-weight: bold\"> Success </span><span style=\"color: #008000; text-decoration-color: #008000; font-weight: bold\"> Database connected @</span><span style=\"color: #d7af00; text-decoration-color: #d7af00; font-weight: bold\"> ../../BulkDock/TARGETS/Flavi_NS5_RdRp/Flavi_NS5_RdRp.sqlite!</span>\n",
       "</pre>\n"
      ],
      "text/plain": [
       "\u001b[1;7;32m Success \u001b[0m\u001b[1;32m Database connected @\u001b[0m\u001b[1;38;5;178m ../../BulkDock/TARGETS/Flavi_NS5_RdRp/Flavi_NS5_RdRp.sqlite!\u001b[0m\n"
      ]
     },
     "metadata": {},
     "output_type": "display_data"
    },
    {
     "data": {
      "text/html": [
       "<pre style=\"white-space:pre;overflow-x:auto;line-height:normal;font-family:Menlo,'DejaVu Sans Mono',consolas,'Courier New',monospace;margin:0px\"><span style=\"background-color: #008000; font-weight: bold\"> Success </span><span style=\"color: #008000; text-decoration-color: #008000; font-weight: bold\"> Initialised animal</span><span style=\"color: #008080; text-decoration-color: #008080; font-weight: bold\"> HIPPO(\"RdRp_FFF\")!</span>\n",
       "</pre>\n"
      ],
      "text/plain": [
       "\u001b[1;7;32m Success \u001b[0m\u001b[1;32m Initialised animal\u001b[0m\u001b[1;36m HIPPO(\"RdRp_FFF\")!\u001b[0m\n"
      ]
     },
     "metadata": {},
     "output_type": "display_data"
    }
   ],
   "source": [
    "animal = hippo.HIPPO(\"RdRp_FFF\", \"../../BulkDock/TARGETS/Flavi_NS5_RdRp/Flavi_NS5_RdRp.sqlite\")"
   ]
  },
  {
   "cell_type": "code",
   "execution_count": 3,
   "id": "f9ca326b-2e38-49e3-8b2b-60d21004a8e6",
   "metadata": {
    "scrolled": true
   },
   "outputs": [
    {
     "data": {
      "text/html": [
       "<pre style=\"white-space:pre;overflow-x:auto;line-height:normal;font-family:Menlo,'DejaVu Sans Mono',consolas,'Courier New',monospace;margin:0px\"><span style=\"background-color: #d7af00; font-weight: bold\"> DISK </span> Writing <span style=\"color: #d7af00; text-decoration-color: #d7af00\">/opt/xchem-fragalysis-2/maxwin/BulkDock/TARGETS/Flavi_NS5_RdRp/Flavi_NS5_RdRp_0L1DXM2.sqlite</span>...\n",
       "</pre>\n"
      ],
      "text/plain": [
       "\u001b[1;7;38;5;178m DISK \u001b[0m Writing \u001b[38;5;178m/opt/xchem-fragalysis-2/maxwin/BulkDock/TARGETS/Flavi_NS5_RdRp/Flavi_NS5_RdRp_0L1DXM2.sqlite\u001b[0m...\n"
      ]
     },
     "metadata": {},
     "output_type": "display_data"
    },
    {
     "data": {
      "application/vnd.jupyter.widget-view+json": {
       "model_id": "830b071e641f42f4a1ede19453341c2e",
       "version_major": 2,
       "version_minor": 0
      },
      "text/plain": [
       "Output()"
      ]
     },
     "metadata": {},
     "output_type": "display_data"
    },
    {
     "data": {
      "text/html": [
       "<pre style=\"white-space:pre;overflow-x:auto;line-height:normal;font-family:Menlo,'DejaVu Sans Mono',consolas,'Courier New',monospace;margin:0px\"><span style=\"color: #808080; text-decoration-color: #808080\">DEBUG: Copied 10000 of 519130 pages...</span>\n",
       "</pre>\n"
      ],
      "text/plain": [
       "\u001b[90mDEBUG: Copied 10000 of 519130 pages...\u001b[0m\n"
      ]
     },
     "metadata": {},
     "output_type": "display_data"
    },
    {
     "data": {
      "text/html": [
       "<pre style=\"white-space:pre;overflow-x:auto;line-height:normal;font-family:Menlo,'DejaVu Sans Mono',consolas,'Courier New',monospace;margin:0px\"><span style=\"color: #808080; text-decoration-color: #808080\">DEBUG: Copied 20000 of 519130 pages...</span>\n",
       "</pre>\n"
      ],
      "text/plain": [
       "\u001b[90mDEBUG: Copied 20000 of 519130 pages...\u001b[0m\n"
      ]
     },
     "metadata": {},
     "output_type": "display_data"
    },
    {
     "data": {
      "text/html": [
       "<pre style=\"white-space:pre;overflow-x:auto;line-height:normal;font-family:Menlo,'DejaVu Sans Mono',consolas,'Courier New',monospace;margin:0px\"><span style=\"color: #808080; text-decoration-color: #808080\">DEBUG: Copied 30000 of 519130 pages...</span>\n",
       "</pre>\n"
      ],
      "text/plain": [
       "\u001b[90mDEBUG: Copied 30000 of 519130 pages...\u001b[0m\n"
      ]
     },
     "metadata": {},
     "output_type": "display_data"
    },
    {
     "data": {
      "text/html": [
       "<pre style=\"white-space:pre;overflow-x:auto;line-height:normal;font-family:Menlo,'DejaVu Sans Mono',consolas,'Courier New',monospace;margin:0px\"><span style=\"color: #808080; text-decoration-color: #808080\">DEBUG: Copied 40000 of 519130 pages...</span>\n",
       "</pre>\n"
      ],
      "text/plain": [
       "\u001b[90mDEBUG: Copied 40000 of 519130 pages...\u001b[0m\n"
      ]
     },
     "metadata": {},
     "output_type": "display_data"
    },
    {
     "data": {
      "text/html": [
       "<pre style=\"white-space:pre;overflow-x:auto;line-height:normal;font-family:Menlo,'DejaVu Sans Mono',consolas,'Courier New',monospace;margin:0px\"><span style=\"color: #808080; text-decoration-color: #808080\">DEBUG: Copied 50000 of 519130 pages...</span>\n",
       "</pre>\n"
      ],
      "text/plain": [
       "\u001b[90mDEBUG: Copied 50000 of 519130 pages...\u001b[0m\n"
      ]
     },
     "metadata": {},
     "output_type": "display_data"
    },
    {
     "data": {
      "text/html": [
       "<pre style=\"white-space:pre;overflow-x:auto;line-height:normal;font-family:Menlo,'DejaVu Sans Mono',consolas,'Courier New',monospace;margin:0px\"><span style=\"color: #808080; text-decoration-color: #808080\">DEBUG: Copied 60000 of 519130 pages...</span>\n",
       "</pre>\n"
      ],
      "text/plain": [
       "\u001b[90mDEBUG: Copied 60000 of 519130 pages...\u001b[0m\n"
      ]
     },
     "metadata": {},
     "output_type": "display_data"
    },
    {
     "data": {
      "text/html": [
       "<pre style=\"white-space:pre;overflow-x:auto;line-height:normal;font-family:Menlo,'DejaVu Sans Mono',consolas,'Courier New',monospace;margin:0px\"><span style=\"color: #808080; text-decoration-color: #808080\">DEBUG: Copied 70000 of 519130 pages...</span>\n",
       "</pre>\n"
      ],
      "text/plain": [
       "\u001b[90mDEBUG: Copied 70000 of 519130 pages...\u001b[0m\n"
      ]
     },
     "metadata": {},
     "output_type": "display_data"
    },
    {
     "data": {
      "text/html": [
       "<pre style=\"white-space:pre;overflow-x:auto;line-height:normal;font-family:Menlo,'DejaVu Sans Mono',consolas,'Courier New',monospace;margin:0px\"><span style=\"color: #808080; text-decoration-color: #808080\">DEBUG: Copied 80000 of 519130 pages...</span>\n",
       "</pre>\n"
      ],
      "text/plain": [
       "\u001b[90mDEBUG: Copied 80000 of 519130 pages...\u001b[0m\n"
      ]
     },
     "metadata": {},
     "output_type": "display_data"
    },
    {
     "data": {
      "text/html": [
       "<pre style=\"white-space:pre;overflow-x:auto;line-height:normal;font-family:Menlo,'DejaVu Sans Mono',consolas,'Courier New',monospace;margin:0px\"><span style=\"color: #808080; text-decoration-color: #808080\">DEBUG: Copied 90000 of 519130 pages...</span>\n",
       "</pre>\n"
      ],
      "text/plain": [
       "\u001b[90mDEBUG: Copied 90000 of 519130 pages...\u001b[0m\n"
      ]
     },
     "metadata": {},
     "output_type": "display_data"
    },
    {
     "data": {
      "text/html": [
       "<pre style=\"white-space:pre;overflow-x:auto;line-height:normal;font-family:Menlo,'DejaVu Sans Mono',consolas,'Courier New',monospace;margin:0px\"><span style=\"color: #808080; text-decoration-color: #808080\">DEBUG: Copied 100000 of 519130 pages...</span>\n",
       "</pre>\n"
      ],
      "text/plain": [
       "\u001b[90mDEBUG: Copied 100000 of 519130 pages...\u001b[0m\n"
      ]
     },
     "metadata": {},
     "output_type": "display_data"
    },
    {
     "data": {
      "text/html": [
       "<pre style=\"white-space:pre;overflow-x:auto;line-height:normal;font-family:Menlo,'DejaVu Sans Mono',consolas,'Courier New',monospace;margin:0px\"><span style=\"color: #808080; text-decoration-color: #808080\">DEBUG: Copied 110000 of 519130 pages...</span>\n",
       "</pre>\n"
      ],
      "text/plain": [
       "\u001b[90mDEBUG: Copied 110000 of 519130 pages...\u001b[0m\n"
      ]
     },
     "metadata": {},
     "output_type": "display_data"
    },
    {
     "data": {
      "text/html": [
       "<pre style=\"white-space:pre;overflow-x:auto;line-height:normal;font-family:Menlo,'DejaVu Sans Mono',consolas,'Courier New',monospace;margin:0px\"><span style=\"color: #808080; text-decoration-color: #808080\">DEBUG: Copied 120000 of 519130 pages...</span>\n",
       "</pre>\n"
      ],
      "text/plain": [
       "\u001b[90mDEBUG: Copied 120000 of 519130 pages...\u001b[0m\n"
      ]
     },
     "metadata": {},
     "output_type": "display_data"
    },
    {
     "data": {
      "text/html": [
       "<pre style=\"white-space:pre;overflow-x:auto;line-height:normal;font-family:Menlo,'DejaVu Sans Mono',consolas,'Courier New',monospace;margin:0px\"><span style=\"color: #808080; text-decoration-color: #808080\">DEBUG: Copied 130000 of 519130 pages...</span>\n",
       "</pre>\n"
      ],
      "text/plain": [
       "\u001b[90mDEBUG: Copied 130000 of 519130 pages...\u001b[0m\n"
      ]
     },
     "metadata": {},
     "output_type": "display_data"
    },
    {
     "data": {
      "text/html": [
       "<pre style=\"white-space:pre;overflow-x:auto;line-height:normal;font-family:Menlo,'DejaVu Sans Mono',consolas,'Courier New',monospace;margin:0px\"><span style=\"color: #808080; text-decoration-color: #808080\">DEBUG: Copied 140000 of 519130 pages...</span>\n",
       "</pre>\n"
      ],
      "text/plain": [
       "\u001b[90mDEBUG: Copied 140000 of 519130 pages...\u001b[0m\n"
      ]
     },
     "metadata": {},
     "output_type": "display_data"
    },
    {
     "data": {
      "text/html": [
       "<pre style=\"white-space:pre;overflow-x:auto;line-height:normal;font-family:Menlo,'DejaVu Sans Mono',consolas,'Courier New',monospace;margin:0px\"><span style=\"color: #808080; text-decoration-color: #808080\">DEBUG: Copied 150000 of 519130 pages...</span>\n",
       "</pre>\n"
      ],
      "text/plain": [
       "\u001b[90mDEBUG: Copied 150000 of 519130 pages...\u001b[0m\n"
      ]
     },
     "metadata": {},
     "output_type": "display_data"
    },
    {
     "data": {
      "text/html": [
       "<pre style=\"white-space:pre;overflow-x:auto;line-height:normal;font-family:Menlo,'DejaVu Sans Mono',consolas,'Courier New',monospace;margin:0px\"><span style=\"color: #808080; text-decoration-color: #808080\">DEBUG: Copied 160000 of 519130 pages...</span>\n",
       "</pre>\n"
      ],
      "text/plain": [
       "\u001b[90mDEBUG: Copied 160000 of 519130 pages...\u001b[0m\n"
      ]
     },
     "metadata": {},
     "output_type": "display_data"
    },
    {
     "data": {
      "text/html": [
       "<pre style=\"white-space:pre;overflow-x:auto;line-height:normal;font-family:Menlo,'DejaVu Sans Mono',consolas,'Courier New',monospace;margin:0px\"><span style=\"color: #808080; text-decoration-color: #808080\">DEBUG: Copied 170000 of 519130 pages...</span>\n",
       "</pre>\n"
      ],
      "text/plain": [
       "\u001b[90mDEBUG: Copied 170000 of 519130 pages...\u001b[0m\n"
      ]
     },
     "metadata": {},
     "output_type": "display_data"
    },
    {
     "data": {
      "text/html": [
       "<pre style=\"white-space:pre;overflow-x:auto;line-height:normal;font-family:Menlo,'DejaVu Sans Mono',consolas,'Courier New',monospace;margin:0px\"><span style=\"color: #808080; text-decoration-color: #808080\">DEBUG: Copied 180000 of 519130 pages...</span>\n",
       "</pre>\n"
      ],
      "text/plain": [
       "\u001b[90mDEBUG: Copied 180000 of 519130 pages...\u001b[0m\n"
      ]
     },
     "metadata": {},
     "output_type": "display_data"
    },
    {
     "data": {
      "text/html": [
       "<pre style=\"white-space:pre;overflow-x:auto;line-height:normal;font-family:Menlo,'DejaVu Sans Mono',consolas,'Courier New',monospace;margin:0px\"><span style=\"color: #808080; text-decoration-color: #808080\">DEBUG: Copied 190000 of 519130 pages...</span>\n",
       "</pre>\n"
      ],
      "text/plain": [
       "\u001b[90mDEBUG: Copied 190000 of 519130 pages...\u001b[0m\n"
      ]
     },
     "metadata": {},
     "output_type": "display_data"
    },
    {
     "data": {
      "text/html": [
       "<pre style=\"white-space:pre;overflow-x:auto;line-height:normal;font-family:Menlo,'DejaVu Sans Mono',consolas,'Courier New',monospace;margin:0px\"><span style=\"color: #808080; text-decoration-color: #808080\">DEBUG: Copied 200000 of 519130 pages...</span>\n",
       "</pre>\n"
      ],
      "text/plain": [
       "\u001b[90mDEBUG: Copied 200000 of 519130 pages...\u001b[0m\n"
      ]
     },
     "metadata": {},
     "output_type": "display_data"
    },
    {
     "data": {
      "text/html": [
       "<pre style=\"white-space:pre;overflow-x:auto;line-height:normal;font-family:Menlo,'DejaVu Sans Mono',consolas,'Courier New',monospace;margin:0px\"><span style=\"color: #808080; text-decoration-color: #808080\">DEBUG: Copied 210000 of 519130 pages...</span>\n",
       "</pre>\n"
      ],
      "text/plain": [
       "\u001b[90mDEBUG: Copied 210000 of 519130 pages...\u001b[0m\n"
      ]
     },
     "metadata": {},
     "output_type": "display_data"
    },
    {
     "data": {
      "text/html": [
       "<pre style=\"white-space:pre;overflow-x:auto;line-height:normal;font-family:Menlo,'DejaVu Sans Mono',consolas,'Courier New',monospace;margin:0px\"><span style=\"color: #808080; text-decoration-color: #808080\">DEBUG: Copied 220000 of 519130 pages...</span>\n",
       "</pre>\n"
      ],
      "text/plain": [
       "\u001b[90mDEBUG: Copied 220000 of 519130 pages...\u001b[0m\n"
      ]
     },
     "metadata": {},
     "output_type": "display_data"
    },
    {
     "data": {
      "text/html": [
       "<pre style=\"white-space:pre;overflow-x:auto;line-height:normal;font-family:Menlo,'DejaVu Sans Mono',consolas,'Courier New',monospace;margin:0px\"><span style=\"color: #808080; text-decoration-color: #808080\">DEBUG: Copied 230000 of 519130 pages...</span>\n",
       "</pre>\n"
      ],
      "text/plain": [
       "\u001b[90mDEBUG: Copied 230000 of 519130 pages...\u001b[0m\n"
      ]
     },
     "metadata": {},
     "output_type": "display_data"
    },
    {
     "data": {
      "text/html": [
       "<pre style=\"white-space:pre;overflow-x:auto;line-height:normal;font-family:Menlo,'DejaVu Sans Mono',consolas,'Courier New',monospace;margin:0px\"><span style=\"color: #808080; text-decoration-color: #808080\">DEBUG: Copied 240000 of 519130 pages...</span>\n",
       "</pre>\n"
      ],
      "text/plain": [
       "\u001b[90mDEBUG: Copied 240000 of 519130 pages...\u001b[0m\n"
      ]
     },
     "metadata": {},
     "output_type": "display_data"
    },
    {
     "data": {
      "text/html": [
       "<pre style=\"white-space:pre;overflow-x:auto;line-height:normal;font-family:Menlo,'DejaVu Sans Mono',consolas,'Courier New',monospace;margin:0px\"><span style=\"color: #808080; text-decoration-color: #808080\">DEBUG: Copied 250000 of 519130 pages...</span>\n",
       "</pre>\n"
      ],
      "text/plain": [
       "\u001b[90mDEBUG: Copied 250000 of 519130 pages...\u001b[0m\n"
      ]
     },
     "metadata": {},
     "output_type": "display_data"
    },
    {
     "data": {
      "text/html": [
       "<pre style=\"white-space:pre;overflow-x:auto;line-height:normal;font-family:Menlo,'DejaVu Sans Mono',consolas,'Courier New',monospace;margin:0px\"><span style=\"color: #808080; text-decoration-color: #808080\">DEBUG: Copied 260000 of 519130 pages...</span>\n",
       "</pre>\n"
      ],
      "text/plain": [
       "\u001b[90mDEBUG: Copied 260000 of 519130 pages...\u001b[0m\n"
      ]
     },
     "metadata": {},
     "output_type": "display_data"
    },
    {
     "data": {
      "text/html": [
       "<pre style=\"white-space:pre;overflow-x:auto;line-height:normal;font-family:Menlo,'DejaVu Sans Mono',consolas,'Courier New',monospace;margin:0px\"><span style=\"color: #808080; text-decoration-color: #808080\">DEBUG: Copied 270000 of 519130 pages...</span>\n",
       "</pre>\n"
      ],
      "text/plain": [
       "\u001b[90mDEBUG: Copied 270000 of 519130 pages...\u001b[0m\n"
      ]
     },
     "metadata": {},
     "output_type": "display_data"
    },
    {
     "data": {
      "text/html": [
       "<pre style=\"white-space:pre;overflow-x:auto;line-height:normal;font-family:Menlo,'DejaVu Sans Mono',consolas,'Courier New',monospace;margin:0px\"><span style=\"color: #808080; text-decoration-color: #808080\">DEBUG: Copied 280000 of 519130 pages...</span>\n",
       "</pre>\n"
      ],
      "text/plain": [
       "\u001b[90mDEBUG: Copied 280000 of 519130 pages...\u001b[0m\n"
      ]
     },
     "metadata": {},
     "output_type": "display_data"
    },
    {
     "data": {
      "text/html": [
       "<pre style=\"white-space:pre;overflow-x:auto;line-height:normal;font-family:Menlo,'DejaVu Sans Mono',consolas,'Courier New',monospace;margin:0px\"><span style=\"color: #808080; text-decoration-color: #808080\">DEBUG: Copied 290000 of 519130 pages...</span>\n",
       "</pre>\n"
      ],
      "text/plain": [
       "\u001b[90mDEBUG: Copied 290000 of 519130 pages...\u001b[0m\n"
      ]
     },
     "metadata": {},
     "output_type": "display_data"
    },
    {
     "data": {
      "text/html": [
       "<pre style=\"white-space:pre;overflow-x:auto;line-height:normal;font-family:Menlo,'DejaVu Sans Mono',consolas,'Courier New',monospace;margin:0px\"><span style=\"color: #808080; text-decoration-color: #808080\">DEBUG: Copied 300000 of 519130 pages...</span>\n",
       "</pre>\n"
      ],
      "text/plain": [
       "\u001b[90mDEBUG: Copied 300000 of 519130 pages...\u001b[0m\n"
      ]
     },
     "metadata": {},
     "output_type": "display_data"
    },
    {
     "data": {
      "text/html": [
       "<pre style=\"white-space:pre;overflow-x:auto;line-height:normal;font-family:Menlo,'DejaVu Sans Mono',consolas,'Courier New',monospace;margin:0px\"><span style=\"color: #808080; text-decoration-color: #808080\">DEBUG: Copied 310000 of 519130 pages...</span>\n",
       "</pre>\n"
      ],
      "text/plain": [
       "\u001b[90mDEBUG: Copied 310000 of 519130 pages...\u001b[0m\n"
      ]
     },
     "metadata": {},
     "output_type": "display_data"
    },
    {
     "data": {
      "text/html": [
       "<pre style=\"white-space:pre;overflow-x:auto;line-height:normal;font-family:Menlo,'DejaVu Sans Mono',consolas,'Courier New',monospace;margin:0px\"><span style=\"color: #808080; text-decoration-color: #808080\">DEBUG: Copied 320000 of 519130 pages...</span>\n",
       "</pre>\n"
      ],
      "text/plain": [
       "\u001b[90mDEBUG: Copied 320000 of 519130 pages...\u001b[0m\n"
      ]
     },
     "metadata": {},
     "output_type": "display_data"
    },
    {
     "data": {
      "text/html": [
       "<pre style=\"white-space:pre;overflow-x:auto;line-height:normal;font-family:Menlo,'DejaVu Sans Mono',consolas,'Courier New',monospace;margin:0px\"><span style=\"color: #808080; text-decoration-color: #808080\">DEBUG: Copied 330000 of 519130 pages...</span>\n",
       "</pre>\n"
      ],
      "text/plain": [
       "\u001b[90mDEBUG: Copied 330000 of 519130 pages...\u001b[0m\n"
      ]
     },
     "metadata": {},
     "output_type": "display_data"
    },
    {
     "data": {
      "text/html": [
       "<pre style=\"white-space:pre;overflow-x:auto;line-height:normal;font-family:Menlo,'DejaVu Sans Mono',consolas,'Courier New',monospace;margin:0px\"><span style=\"color: #808080; text-decoration-color: #808080\">DEBUG: Copied 340000 of 519130 pages...</span>\n",
       "</pre>\n"
      ],
      "text/plain": [
       "\u001b[90mDEBUG: Copied 340000 of 519130 pages...\u001b[0m\n"
      ]
     },
     "metadata": {},
     "output_type": "display_data"
    },
    {
     "data": {
      "text/html": [
       "<pre style=\"white-space:pre;overflow-x:auto;line-height:normal;font-family:Menlo,'DejaVu Sans Mono',consolas,'Courier New',monospace;margin:0px\"><span style=\"color: #808080; text-decoration-color: #808080\">DEBUG: Copied 350000 of 519130 pages...</span>\n",
       "</pre>\n"
      ],
      "text/plain": [
       "\u001b[90mDEBUG: Copied 350000 of 519130 pages...\u001b[0m\n"
      ]
     },
     "metadata": {},
     "output_type": "display_data"
    },
    {
     "data": {
      "text/html": [
       "<pre style=\"white-space:pre;overflow-x:auto;line-height:normal;font-family:Menlo,'DejaVu Sans Mono',consolas,'Courier New',monospace;margin:0px\"><span style=\"color: #808080; text-decoration-color: #808080\">DEBUG: Copied 360000 of 519130 pages...</span>\n",
       "</pre>\n"
      ],
      "text/plain": [
       "\u001b[90mDEBUG: Copied 360000 of 519130 pages...\u001b[0m\n"
      ]
     },
     "metadata": {},
     "output_type": "display_data"
    },
    {
     "data": {
      "text/html": [
       "<pre style=\"white-space:pre;overflow-x:auto;line-height:normal;font-family:Menlo,'DejaVu Sans Mono',consolas,'Courier New',monospace;margin:0px\"><span style=\"color: #808080; text-decoration-color: #808080\">DEBUG: Copied 370000 of 519130 pages...</span>\n",
       "</pre>\n"
      ],
      "text/plain": [
       "\u001b[90mDEBUG: Copied 370000 of 519130 pages...\u001b[0m\n"
      ]
     },
     "metadata": {},
     "output_type": "display_data"
    },
    {
     "data": {
      "text/html": [
       "<pre style=\"white-space:pre;overflow-x:auto;line-height:normal;font-family:Menlo,'DejaVu Sans Mono',consolas,'Courier New',monospace;margin:0px\"><span style=\"color: #808080; text-decoration-color: #808080\">DEBUG: Copied 380000 of 519130 pages...</span>\n",
       "</pre>\n"
      ],
      "text/plain": [
       "\u001b[90mDEBUG: Copied 380000 of 519130 pages...\u001b[0m\n"
      ]
     },
     "metadata": {},
     "output_type": "display_data"
    },
    {
     "data": {
      "text/html": [
       "<pre style=\"white-space:pre;overflow-x:auto;line-height:normal;font-family:Menlo,'DejaVu Sans Mono',consolas,'Courier New',monospace;margin:0px\"><span style=\"color: #808080; text-decoration-color: #808080\">DEBUG: Copied 390000 of 519130 pages...</span>\n",
       "</pre>\n"
      ],
      "text/plain": [
       "\u001b[90mDEBUG: Copied 390000 of 519130 pages...\u001b[0m\n"
      ]
     },
     "metadata": {},
     "output_type": "display_data"
    },
    {
     "data": {
      "text/html": [
       "<pre style=\"white-space:pre;overflow-x:auto;line-height:normal;font-family:Menlo,'DejaVu Sans Mono',consolas,'Courier New',monospace;margin:0px\"><span style=\"color: #808080; text-decoration-color: #808080\">DEBUG: Copied 400000 of 519130 pages...</span>\n",
       "</pre>\n"
      ],
      "text/plain": [
       "\u001b[90mDEBUG: Copied 400000 of 519130 pages...\u001b[0m\n"
      ]
     },
     "metadata": {},
     "output_type": "display_data"
    },
    {
     "data": {
      "text/html": [
       "<pre style=\"white-space:pre;overflow-x:auto;line-height:normal;font-family:Menlo,'DejaVu Sans Mono',consolas,'Courier New',monospace;margin:0px\"><span style=\"color: #808080; text-decoration-color: #808080\">DEBUG: Copied 410000 of 519130 pages...</span>\n",
       "</pre>\n"
      ],
      "text/plain": [
       "\u001b[90mDEBUG: Copied 410000 of 519130 pages...\u001b[0m\n"
      ]
     },
     "metadata": {},
     "output_type": "display_data"
    },
    {
     "data": {
      "text/html": [
       "<pre style=\"white-space:pre;overflow-x:auto;line-height:normal;font-family:Menlo,'DejaVu Sans Mono',consolas,'Courier New',monospace;margin:0px\"><span style=\"color: #808080; text-decoration-color: #808080\">DEBUG: Copied 420000 of 519130 pages...</span>\n",
       "</pre>\n"
      ],
      "text/plain": [
       "\u001b[90mDEBUG: Copied 420000 of 519130 pages...\u001b[0m\n"
      ]
     },
     "metadata": {},
     "output_type": "display_data"
    },
    {
     "data": {
      "text/html": [
       "<pre style=\"white-space:pre;overflow-x:auto;line-height:normal;font-family:Menlo,'DejaVu Sans Mono',consolas,'Courier New',monospace;margin:0px\"><span style=\"color: #808080; text-decoration-color: #808080\">DEBUG: Copied 430000 of 519130 pages...</span>\n",
       "</pre>\n"
      ],
      "text/plain": [
       "\u001b[90mDEBUG: Copied 430000 of 519130 pages...\u001b[0m\n"
      ]
     },
     "metadata": {},
     "output_type": "display_data"
    },
    {
     "data": {
      "text/html": [
       "<pre style=\"white-space:pre;overflow-x:auto;line-height:normal;font-family:Menlo,'DejaVu Sans Mono',consolas,'Courier New',monospace;margin:0px\"><span style=\"color: #808080; text-decoration-color: #808080\">DEBUG: Copied 440000 of 519130 pages...</span>\n",
       "</pre>\n"
      ],
      "text/plain": [
       "\u001b[90mDEBUG: Copied 440000 of 519130 pages...\u001b[0m\n"
      ]
     },
     "metadata": {},
     "output_type": "display_data"
    },
    {
     "data": {
      "text/html": [
       "<pre style=\"white-space:pre;overflow-x:auto;line-height:normal;font-family:Menlo,'DejaVu Sans Mono',consolas,'Courier New',monospace;margin:0px\"><span style=\"color: #808080; text-decoration-color: #808080\">DEBUG: Copied 450000 of 519130 pages...</span>\n",
       "</pre>\n"
      ],
      "text/plain": [
       "\u001b[90mDEBUG: Copied 450000 of 519130 pages...\u001b[0m\n"
      ]
     },
     "metadata": {},
     "output_type": "display_data"
    },
    {
     "data": {
      "text/html": [
       "<pre style=\"white-space:pre;overflow-x:auto;line-height:normal;font-family:Menlo,'DejaVu Sans Mono',consolas,'Courier New',monospace;margin:0px\"><span style=\"color: #808080; text-decoration-color: #808080\">DEBUG: Copied 460000 of 519130 pages...</span>\n",
       "</pre>\n"
      ],
      "text/plain": [
       "\u001b[90mDEBUG: Copied 460000 of 519130 pages...\u001b[0m\n"
      ]
     },
     "metadata": {},
     "output_type": "display_data"
    },
    {
     "data": {
      "text/html": [
       "<pre style=\"white-space:pre;overflow-x:auto;line-height:normal;font-family:Menlo,'DejaVu Sans Mono',consolas,'Courier New',monospace;margin:0px\"><span style=\"color: #808080; text-decoration-color: #808080\">DEBUG: Copied 470000 of 519130 pages...</span>\n",
       "</pre>\n"
      ],
      "text/plain": [
       "\u001b[90mDEBUG: Copied 470000 of 519130 pages...\u001b[0m\n"
      ]
     },
     "metadata": {},
     "output_type": "display_data"
    },
    {
     "data": {
      "text/html": [
       "<pre style=\"white-space:pre;overflow-x:auto;line-height:normal;font-family:Menlo,'DejaVu Sans Mono',consolas,'Courier New',monospace;margin:0px\"><span style=\"color: #808080; text-decoration-color: #808080\">DEBUG: Copied 480000 of 519130 pages...</span>\n",
       "</pre>\n"
      ],
      "text/plain": [
       "\u001b[90mDEBUG: Copied 480000 of 519130 pages...\u001b[0m\n"
      ]
     },
     "metadata": {},
     "output_type": "display_data"
    },
    {
     "data": {
      "text/html": [
       "<pre style=\"white-space:pre;overflow-x:auto;line-height:normal;font-family:Menlo,'DejaVu Sans Mono',consolas,'Courier New',monospace;margin:0px\"><span style=\"color: #808080; text-decoration-color: #808080\">DEBUG: Copied 490000 of 519130 pages...</span>\n",
       "</pre>\n"
      ],
      "text/plain": [
       "\u001b[90mDEBUG: Copied 490000 of 519130 pages...\u001b[0m\n"
      ]
     },
     "metadata": {},
     "output_type": "display_data"
    },
    {
     "data": {
      "text/html": [
       "<pre style=\"white-space:pre;overflow-x:auto;line-height:normal;font-family:Menlo,'DejaVu Sans Mono',consolas,'Courier New',monospace;margin:0px\"><span style=\"color: #808080; text-decoration-color: #808080\">DEBUG: Copied 500000 of 519130 pages...</span>\n",
       "</pre>\n"
      ],
      "text/plain": [
       "\u001b[90mDEBUG: Copied 500000 of 519130 pages...\u001b[0m\n"
      ]
     },
     "metadata": {},
     "output_type": "display_data"
    },
    {
     "data": {
      "text/html": [
       "<pre style=\"white-space:pre;overflow-x:auto;line-height:normal;font-family:Menlo,'DejaVu Sans Mono',consolas,'Courier New',monospace;margin:0px\"><span style=\"color: #808080; text-decoration-color: #808080\">DEBUG: Copied 510000 of 519130 pages...</span>\n",
       "</pre>\n"
      ],
      "text/plain": [
       "\u001b[90mDEBUG: Copied 510000 of 519130 pages...\u001b[0m\n"
      ]
     },
     "metadata": {},
     "output_type": "display_data"
    },
    {
     "data": {
      "text/html": [
       "<pre style=\"white-space:pre;overflow-x:auto;line-height:normal;font-family:Menlo,'DejaVu Sans Mono',consolas,'Courier New',monospace;margin:0px\"><span style=\"color: #808080; text-decoration-color: #808080\">DEBUG: Copied 519130 of 519130 pages...</span>\n",
       "</pre>\n"
      ],
      "text/plain": [
       "\u001b[90mDEBUG: Copied 519130 of 519130 pages...\u001b[0m\n"
      ]
     },
     "metadata": {},
     "output_type": "display_data"
    },
    {
     "data": {
      "text/html": [
       "<pre style=\"white-space:pre;overflow-x:auto;line-height:normal;font-family:Menlo,'DejaVu Sans Mono',consolas,'Courier New',monospace;margin:0px\"></pre>\n"
      ],
      "text/plain": []
     },
     "metadata": {},
     "output_type": "display_data"
    }
   ],
   "source": [
    "animal.db.backup()"
   ]
  },
  {
   "cell_type": "code",
   "execution_count": 6,
   "id": "ebde0cc0-a66e-4810-b202-356f6cfa97dd",
   "metadata": {},
   "outputs": [],
   "source": [
    "scaffold = animal.compounds[\"ASAP-0037733\"]"
   ]
  },
  {
   "cell_type": "code",
   "execution_count": 12,
   "id": "62674f1a-ee56-4e33-ad5b-4d8ec4a4dd68",
   "metadata": {},
   "outputs": [],
   "source": [
    "scaffold_reaction = animal.reactions[429]"
   ]
  },
  {
   "cell_type": "code",
   "execution_count": 19,
   "id": "ef0a035b-49a3-499f-bf46-09d5292f8586",
   "metadata": {},
   "outputs": [],
   "source": [
    "scaffold_reactants = scaffold_reaction.reactants\n",
    "scaffold_reactants_ids = set(scaffold_reactants.ids)"
   ]
  },
  {
   "cell_type": "code",
   "execution_count": 18,
   "id": "34ca6347-46b5-4b2d-a016-228595891149",
   "metadata": {},
   "outputs": [],
   "source": [
    "elabs = scaffold.elabs"
   ]
  },
  {
   "cell_type": "code",
   "execution_count": 28,
   "id": "d156cc6f-b7e2-42e3-a640-a6acedc4d5ec",
   "metadata": {},
   "outputs": [],
   "source": [
    "reaction_map = animal.db.get_reaction_map_from_products(elabs.ids)\n",
    "reaction_map = { k[1]:list(v.values())[0] for k,v in reaction_map.items() }"
   ]
  },
  {
   "cell_type": "code",
   "execution_count": 29,
   "id": "18055923-5544-4cde-b3cd-1669ef285897",
   "metadata": {
    "scrolled": true
   },
   "outputs": [
    {
     "data": {
      "text/plain": [
       "{77413: {70030, 77227},\n",
       " 77414: {70030, 77228},\n",
       " 77415: {70030, 77229},\n",
       " 77416: {70030, 77230},\n",
       " 77417: {70030, 77231},\n",
       " 77418: {70030, 77232},\n",
       " 77419: {70030, 77233},\n",
       " 77420: {70030, 77234},\n",
       " 77421: {70030, 77235},\n",
       " 77422: {70030, 77236},\n",
       " 77423: {70030, 77237},\n",
       " 77424: {70030, 77238},\n",
       " 77425: {70030, 77239},\n",
       " 77426: {70030, 77240},\n",
       " 77427: {70030, 77241},\n",
       " 77428: {70030, 77242},\n",
       " 77429: {70030, 77243},\n",
       " 77430: {70030, 77244},\n",
       " 77431: {70030, 77245},\n",
       " 77432: {69755, 77326},\n",
       " 77433: {69755, 77327},\n",
       " 77434: {69755, 77328},\n",
       " 77435: {69755, 77329},\n",
       " 77436: {69755, 77330},\n",
       " 77437: {69755, 77331},\n",
       " 77438: {69755, 77332},\n",
       " 77439: {69755, 77333},\n",
       " 77440: {69755, 77334},\n",
       " 77441: {70030, 77246},\n",
       " 77442: {70030, 77247},\n",
       " 77443: {70030, 77248},\n",
       " 77444: {70030, 77249},\n",
       " 77445: {70030, 77250},\n",
       " 77446: {77240, 77333},\n",
       " 77447: {70030, 77251},\n",
       " 77448: {70030, 77252},\n",
       " 77449: {70030, 77253},\n",
       " 77450: {70030, 77254},\n",
       " 77451: {70030, 77255},\n",
       " 77452: {77227, 77333},\n",
       " 77453: {77227, 77331},\n",
       " 77454: {77240, 77331},\n",
       " 77455: {77227, 77332},\n",
       " 77456: {77227, 77326},\n",
       " 77457: {77227, 77330},\n",
       " 77458: {77227, 77327},\n",
       " 77459: {70030, 77256},\n",
       " 77460: {77227, 77329},\n",
       " 77461: {77227, 77334},\n",
       " 77462: {77240, 77329},\n",
       " 77463: {77235, 77332},\n",
       " 77464: {77235, 77328},\n",
       " 77465: {77235, 77326},\n",
       " 77466: {77235, 77330},\n",
       " 77467: {77235, 77327},\n",
       " 77468: {77235, 77329},\n",
       " 77469: {70030, 77257},\n",
       " 77470: {70030, 77258},\n",
       " 77471: {70030, 77259},\n",
       " 77472: {70030, 77260},\n",
       " 77473: {70030, 77261},\n",
       " 77474: {77240, 77334},\n",
       " 77475: {77235, 77334},\n",
       " 77476: {77240, 77332},\n",
       " 77477: {77240, 77328},\n",
       " 77478: {77240, 77326},\n",
       " 77479: {77240, 77330},\n",
       " 77480: {77240, 77327},\n",
       " 77481: {77235, 77331},\n",
       " 77482: {70030, 77262},\n",
       " 77483: {70030, 77263},\n",
       " 77484: {70030, 77264},\n",
       " 77485: {70030, 77265},\n",
       " 77486: {70030, 77266},\n",
       " 77487: {77235, 77333},\n",
       " 77488: {70030, 77267},\n",
       " 77489: {70030, 77268},\n",
       " 77490: {70030, 77269},\n",
       " 77491: {77236, 77333},\n",
       " 77492: {77236, 77331},\n",
       " 77493: {77236, 77334},\n",
       " 77494: {70030, 77270},\n",
       " 77495: {77236, 77329},\n",
       " 77496: {77236, 77328},\n",
       " 77497: {77236, 77326},\n",
       " 77498: {77236, 77330},\n",
       " 77499: {77236, 77327},\n",
       " 77500: {77236, 77332},\n",
       " 77501: {70030, 77271},\n",
       " 77502: {70030, 77272},\n",
       " 77503: {70030, 77273},\n",
       " 77504: {70030, 77274},\n",
       " 77505: {77244, 77333},\n",
       " 77506: {77244, 77331},\n",
       " 77507: {77244, 77334},\n",
       " 77508: {77244, 77329},\n",
       " 77509: {77244, 77332},\n",
       " 77510: {77244, 77328},\n",
       " 77511: {77244, 77326},\n",
       " 77512: {77244, 77330},\n",
       " 77513: {77244, 77327},\n",
       " 77514: {70030, 77275},\n",
       " 77515: {70030, 77276},\n",
       " 77516: {70030, 77277},\n",
       " 77517: {70030, 77278},\n",
       " 77518: {70030, 77279},\n",
       " 77519: {70030, 77280},\n",
       " 77520: {77230, 77333},\n",
       " 77521: {77230, 77331},\n",
       " 77522: {77230, 77334},\n",
       " 77523: {77230, 77332},\n",
       " 77524: {77230, 77328},\n",
       " 77525: {77230, 77326},\n",
       " 77526: {77230, 77330},\n",
       " 77527: {77230, 77327},\n",
       " 77528: {77230, 77329},\n",
       " 77529: {70030, 77281},\n",
       " 77530: {70030, 77282},\n",
       " 77531: {70030, 77283},\n",
       " 77532: {70030, 77284},\n",
       " 77533: {70030, 77285},\n",
       " 77534: {77241, 77333},\n",
       " 77535: {77241, 77331},\n",
       " 77536: {77241, 77334},\n",
       " 77537: {77241, 77329},\n",
       " 77538: {77241, 77332},\n",
       " 77539: {77241, 77328},\n",
       " 77540: {77241, 77326},\n",
       " 77541: {77241, 77330},\n",
       " 77542: {77241, 77327},\n",
       " 77543: {77228, 77333},\n",
       " 77544: {77228, 77331},\n",
       " 77545: {77245, 77327},\n",
       " 77546: {77245, 77330},\n",
       " 77547: {77245, 77326},\n",
       " 77548: {77245, 77328},\n",
       " 77549: {77245, 77332},\n",
       " 77550: {77245, 77329},\n",
       " 77551: {77245, 77334},\n",
       " 77552: {77245, 77333},\n",
       " 77553: {77245, 77331},\n",
       " 77554: {77234, 77333},\n",
       " 77555: {77234, 77331},\n",
       " 77556: {77234, 77334},\n",
       " 77557: {77234, 77329},\n",
       " 77558: {77234, 77332},\n",
       " 77559: {77234, 77328},\n",
       " 77560: {77234, 77326},\n",
       " 77561: {77234, 77330},\n",
       " 77562: {77234, 77327},\n",
       " 77563: {70030, 77286},\n",
       " 77564: {77237, 77327},\n",
       " 77565: {77237, 77326},\n",
       " 77566: {77231, 77333},\n",
       " 77567: {77229, 77333},\n",
       " 77568: {77229, 77331},\n",
       " 77569: {77231, 77331},\n",
       " 77570: {77229, 77334},\n",
       " 77571: {77229, 77332},\n",
       " 77572: {77229, 77328},\n",
       " 77573: {77229, 77326},\n",
       " 77574: {77229, 77330},\n",
       " 77575: {77229, 77327},\n",
       " 77576: {77229, 77329},\n",
       " 77577: {77231, 77334},\n",
       " 77578: {77231, 77329},\n",
       " 77579: {77231, 77332},\n",
       " 77580: {77237, 77328},\n",
       " 77581: {77237, 77332},\n",
       " 77582: {77237, 77329},\n",
       " 77583: {77237, 77334},\n",
       " 77584: {77237, 77331},\n",
       " 77585: {77237, 77333},\n",
       " 77586: {77231, 77327},\n",
       " 77587: {77231, 77330},\n",
       " 77588: {77231, 77326},\n",
       " 77589: {77231, 77328},\n",
       " 77590: {77237, 77330},\n",
       " 77591: {70030, 77287},\n",
       " 77592: {70030, 77288},\n",
       " 77593: {70030, 77289},\n",
       " 77594: {77233, 77331},\n",
       " 77595: {77233, 77334},\n",
       " 77596: {77233, 77329},\n",
       " 77597: {77233, 77332},\n",
       " 77598: {77233, 77328},\n",
       " 77599: {77233, 77326},\n",
       " 77600: {77233, 77333},\n",
       " 77601: {77233, 77330},\n",
       " 77602: {70030, 77290},\n",
       " 77603: {77233, 77327},\n",
       " 77604: {70030, 77291},\n",
       " 77605: {70030, 77292},\n",
       " 77606: {70030, 77293},\n",
       " 77607: {77228, 77334},\n",
       " 77608: {77228, 77329},\n",
       " 77609: {77228, 77332},\n",
       " 77610: {77228, 77328},\n",
       " 77611: {77228, 77326},\n",
       " 77612: {77228, 77330},\n",
       " 77613: {77228, 77327},\n",
       " 77614: {70030, 77294},\n",
       " 77615: {70030, 77295},\n",
       " 77616: {70030, 77296},\n",
       " 77617: {70030, 77297},\n",
       " 77618: {70030, 77298},\n",
       " 77619: {70030, 77299},\n",
       " 77620: {70030, 77300},\n",
       " 77621: {70030, 77301},\n",
       " 77622: {77242, 77333},\n",
       " 77623: {77232, 77333},\n",
       " 77624: {77232, 77331},\n",
       " 77625: {77232, 77334},\n",
       " 77626: {77232, 77329},\n",
       " 77627: {77232, 77332},\n",
       " 77628: {77232, 77328},\n",
       " 77629: {77232, 77326},\n",
       " 77630: {77232, 77330},\n",
       " 77631: {77232, 77327},\n",
       " 77632: {70030, 77302},\n",
       " 77633: {70030, 77303},\n",
       " 77634: {70030, 77304},\n",
       " 77635: {70030, 77305},\n",
       " 77636: {77242, 77331},\n",
       " 77637: {77242, 77334},\n",
       " 77638: {77242, 77329},\n",
       " 77639: {77242, 77332},\n",
       " 77640: {77242, 77328},\n",
       " 77641: {77242, 77326},\n",
       " 77642: {77242, 77330},\n",
       " 77643: {77242, 77327},\n",
       " 77644: {70030, 77306},\n",
       " 77645: {70030, 77307},\n",
       " 77646: {70030, 77308},\n",
       " 77647: {70030, 77309},\n",
       " 77648: {77227, 77328},\n",
       " 77649: {77238, 77327},\n",
       " 77650: {77243, 77334},\n",
       " 77651: {77238, 77330},\n",
       " 77652: {77238, 77326},\n",
       " 77653: {70030, 77310},\n",
       " 77654: {70030, 77311},\n",
       " 77655: {77238, 77328},\n",
       " 77656: {77238, 77329},\n",
       " 77657: {77238, 77334},\n",
       " 77658: {77238, 77331},\n",
       " 77659: {77238, 77333},\n",
       " 77660: {77243, 77329},\n",
       " 77661: {77243, 77332},\n",
       " 77662: {77243, 77328},\n",
       " 77663: {77243, 77326},\n",
       " 77664: {77243, 77330},\n",
       " 77665: {77243, 77327},\n",
       " 77666: {70030, 77312},\n",
       " 77667: {70030, 77313},\n",
       " 77668: {70030, 77314},\n",
       " 77669: {70030, 77315},\n",
       " 77670: {77239, 77333},\n",
       " 77671: {77239, 77331},\n",
       " 77672: {77239, 77334},\n",
       " 77673: {77239, 77329},\n",
       " 77674: {77239, 77332},\n",
       " 77675: {77239, 77328},\n",
       " 77676: {77239, 77326},\n",
       " 77677: {77239, 77330},\n",
       " 77678: {77243, 77333},\n",
       " 77679: {77243, 77331},\n",
       " 77680: {70030, 77316},\n",
       " 77681: {70030, 77317},\n",
       " 77682: {70030, 77318},\n",
       " 77683: {77239, 77327},\n",
       " 77684: {70030, 77319},\n",
       " 77685: {77238, 77332},\n",
       " 77686: {69755, 77335},\n",
       " 77687: {70030, 77320},\n",
       " 77688: {70030, 77321},\n",
       " 77689: {70030, 77322},\n",
       " 77690: {70030, 77323},\n",
       " 77691: {69755, 77336},\n",
       " 77692: {69755, 77337},\n",
       " 77693: {70030, 77324},\n",
       " 77694: {69755, 77338},\n",
       " 77695: {69755, 77339},\n",
       " 77696: {69755, 77340},\n",
       " 77697: {69755, 77341},\n",
       " 77698: {69755, 77342},\n",
       " 77699: {70030, 77325},\n",
       " 77700: {69755, 77343},\n",
       " 77701: {69755, 77344},\n",
       " 77702: {77316, 77334},\n",
       " 77703: {77293, 77327},\n",
       " 77704: {77291, 77329},\n",
       " 77705: {77293, 77330},\n",
       " 77706: {77293, 77326},\n",
       " 77707: {77293, 77328},\n",
       " 77708: {77301, 77332},\n",
       " 77709: {77291, 77332},\n",
       " 77710: {77293, 77332},\n",
       " 77711: {77293, 77329},\n",
       " 77712: {77293, 77334},\n",
       " 77713: {77293, 77331},\n",
       " 77714: {77301, 77328},\n",
       " 77715: {77293, 77333},\n",
       " 77716: {77316, 77329},\n",
       " 77717: {77291, 77328},\n",
       " 77718: {77291, 77326},\n",
       " 77719: {77291, 77330},\n",
       " 77720: {77291, 77327},\n",
       " 77721: {77292, 77333},\n",
       " 77722: {77290, 77332},\n",
       " 77723: {77298, 77333},\n",
       " 77724: {77298, 77327},\n",
       " 77725: {77298, 77330},\n",
       " 77726: {77298, 77326},\n",
       " 77727: {77301, 77333},\n",
       " 77728: {77301, 77331},\n",
       " 77729: {77301, 77334},\n",
       " 77730: {77298, 77328},\n",
       " 77731: {77298, 77332},\n",
       " 77732: {77301, 77329},\n",
       " 77733: {77298, 77329},\n",
       " 77734: {77298, 77334},\n",
       " 77735: {77298, 77331},\n",
       " 77736: {77291, 77334},\n",
       " 77737: {77316, 77332},\n",
       " 77738: {77291, 77331},\n",
       " 77739: {77316, 77331},\n",
       " 77740: {77291, 77333},\n",
       " 77741: {77292, 77328},\n",
       " 77742: {77292, 77332},\n",
       " 77743: {77292, 77329},\n",
       " 77744: {77290, 77331},\n",
       " 77745: {77290, 77333},\n",
       " 77746: {77292, 77326},\n",
       " 77747: {77292, 77330},\n",
       " 77748: {77292, 77327},\n",
       " 77749: {77290, 77328},\n",
       " 77750: {77290, 77326},\n",
       " 77751: {77290, 77330},\n",
       " 77752: {77290, 77327},\n",
       " 77753: {77290, 77334},\n",
       " 77754: {77299, 77327},\n",
       " 77755: {77318, 77330},\n",
       " 77756: {77318, 77331},\n",
       " 77757: {77318, 77333},\n",
       " 77758: {77301, 77327},\n",
       " 77759: {77301, 77330},\n",
       " 77760: {77301, 77326},\n",
       " 77761: {77316, 77333},\n",
       " 77762: {77292, 77334},\n",
       " 77763: {77292, 77331},\n",
       " 77764: {77290, 77329},\n",
       " 77765: {77318, 77334},\n",
       " 77766: {77318, 77329},\n",
       " 77767: {77318, 77326},\n",
       " 77768: {77318, 77328},\n",
       " 77769: {77318, 77332},\n",
       " 77770: {77299, 77330},\n",
       " 77771: {77299, 77326},\n",
       " 77772: {77299, 77328},\n",
       " 77773: {77318, 77327},\n",
       " 77774: {77299, 77332},\n",
       " 77775: {77299, 77334},\n",
       " 77776: {77299, 77331},\n",
       " 77777: {77299, 77333},\n",
       " 77778: {77299, 77329},\n",
       " 77779: {77296, 77327},\n",
       " 77780: {77296, 77326},\n",
       " 77781: {77259, 77331},\n",
       " 77782: {77259, 77333},\n",
       " 77783: {77324, 77331},\n",
       " 77784: {77258, 77333},\n",
       " 77785: {77258, 77331},\n",
       " 77786: {77258, 77334},\n",
       " 77787: {77258, 77329},\n",
       " 77788: {77258, 77332},\n",
       " 77789: {77258, 77328},\n",
       " 77790: {77258, 77326},\n",
       " 77791: {77258, 77330},\n",
       " 77792: {77258, 77327},\n",
       " 77793: {77259, 77326},\n",
       " 77794: {77259, 77328},\n",
       " 77795: {77259, 77332},\n",
       " 77796: {77259, 77329},\n",
       " 77797: {77259, 77334},\n",
       " 77798: {77324, 77334},\n",
       " 77799: {77260, 77333},\n",
       " 77800: {77260, 77331},\n",
       " 77801: {77260, 77334},\n",
       " 77802: {77260, 77329},\n",
       " 77803: {77260, 77332},\n",
       " 77804: {77260, 77328},\n",
       " 77805: {77260, 77326},\n",
       " 77806: {77260, 77330},\n",
       " 77807: {77260, 77327},\n",
       " 77808: {77259, 77330},\n",
       " 77809: {77320, 77332},\n",
       " 77810: {77320, 77329},\n",
       " 77811: {77320, 77334},\n",
       " 77812: {77320, 77331},\n",
       " 77813: {77257, 77330},\n",
       " 77814: {77257, 77327},\n",
       " 77815: {77320, 77328},\n",
       " 77816: {77320, 77326},\n",
       " 77817: {77320, 77327},\n",
       " 77818: {77324, 77333},\n",
       " 77819: {77257, 77333},\n",
       " 77820: {77257, 77331},\n",
       " 77821: {77257, 77334},\n",
       " 77822: {77257, 77329},\n",
       " 77823: {77257, 77332},\n",
       " 77824: {77257, 77328},\n",
       " 77825: {77320, 77330},\n",
       " 77826: {77296, 77330},\n",
       " 77827: {77259, 77327},\n",
       " 77828: {77300, 77333},\n",
       " 77829: {77296, 77333},\n",
       " 77830: {77316, 77326},\n",
       " 77831: {77316, 77330},\n",
       " 77832: {77295, 77333},\n",
       " 77833: {77316, 77327},\n",
       " 77834: {77296, 77328},\n",
       " 77835: {77296, 77332},\n",
       " 77836: {77296, 77329},\n",
       " 77837: {77296, 77334},\n",
       " 77838: {77296, 77331},\n",
       " 77839: {77316, 77328},\n",
       " 77840: {77297, 77333},\n",
       " 77841: {77297, 77331},\n",
       " 77842: {77297, 77334},\n",
       " 77843: {77297, 77329},\n",
       " 77844: {77297, 77332},\n",
       " 77845: {77297, 77328},\n",
       " 77846: {77297, 77326},\n",
       " 77847: {77297, 77330},\n",
       " 77848: {77297, 77327},\n",
       " 77849: {77324, 77327},\n",
       " 77850: {77324, 77326},\n",
       " 77851: {77261, 77334},\n",
       " 77852: {77261, 77329},\n",
       " 77853: {77261, 77332},\n",
       " 77854: {77261, 77328},\n",
       " 77855: {77261, 77326},\n",
       " 77856: {77261, 77330},\n",
       " 77857: {77261, 77327},\n",
       " 77858: {77261, 77331},\n",
       " 77859: {77324, 77330},\n",
       " 77860: {77324, 77329},\n",
       " 77861: {77324, 77328},\n",
       " 77862: {77324, 77332},\n",
       " 77863: {77295, 77331},\n",
       " 77864: {77295, 77334},\n",
       " 77865: {77295, 77329},\n",
       " 77866: {77295, 77332},\n",
       " 77867: {77295, 77328},\n",
       " 77868: {77295, 77326},\n",
       " 77869: {77295, 77330},\n",
       " 77870: {77295, 77327},\n",
       " 77871: {77261, 77333},\n",
       " 77872: {77306, 77329},\n",
       " 77873: {77300, 77334},\n",
       " 77874: {77245, 77341},\n",
       " 77875: {77245, 77340},\n",
       " 77876: {77245, 77339},\n",
       " 77877: {77245, 77338},\n",
       " 77878: {77245, 77335},\n",
       " 77879: {77245, 77337},\n",
       " 77880: {77245, 77336},\n",
       " 77881: {77286, 77333},\n",
       " 77882: {77286, 77331},\n",
       " 77883: {77286, 77334},\n",
       " 77884: {77286, 77329},\n",
       " 77885: {77310, 77331},\n",
       " 77886: {77245, 77344},\n",
       " 77887: {77245, 77343},\n",
       " 77888: {77245, 77342},\n",
       " 77889: {77310, 77334},\n",
       " 77890: {77310, 77329},\n",
       " 77891: {77310, 77332},\n",
       " 77892: {77310, 77328},\n",
       " 77893: {77310, 77326},\n",
       " 77894: {77310, 77330},\n",
       " 77895: {77310, 77327},\n",
       " 77896: {77286, 77332},\n",
       " 77897: {77286, 77328},\n",
       " 77898: {77286, 77326},\n",
       " 77899: {77286, 77330},\n",
       " 77900: {77323, 77327},\n",
       " 77901: {77288, 77333},\n",
       " 77902: {77288, 77331},\n",
       " 77903: {77288, 77334},\n",
       " 77904: {77288, 77329},\n",
       " 77905: {77288, 77332},\n",
       " 77906: {77288, 77328},\n",
       " 77907: {77288, 77326},\n",
       " 77908: {77288, 77330},\n",
       " 77909: {77288, 77327},\n",
       " 77910: {77310, 77333},\n",
       " 77911: {77287, 77327},\n",
       " 77912: {77286, 77327},\n",
       " 77913: {77287, 77333},\n",
       " 77914: {77287, 77331},\n",
       " 77915: {77287, 77334},\n",
       " 77916: {77287, 77329},\n",
       " 77917: {77287, 77332},\n",
       " 77918: {77287, 77328},\n",
       " 77919: {77287, 77326},\n",
       " 77920: {77287, 77330},\n",
       " 77921: {77311, 77333},\n",
       " 77922: {77311, 77331},\n",
       " 77923: {77325, 77332},\n",
       " 77924: {77325, 77329},\n",
       " 77925: {77325, 77334},\n",
       " 77926: {77325, 77331},\n",
       " 77927: {77325, 77333},\n",
       " 77928: {77231, 77344},\n",
       " 77929: {77231, 77343},\n",
       " 77930: {77231, 77342},\n",
       " 77931: {77231, 77341},\n",
       " 77932: {77231, 77340},\n",
       " 77933: {77231, 77339},\n",
       " 77934: {77325, 77328},\n",
       " 77935: {77231, 77338},\n",
       " 77936: {77325, 77326},\n",
       " 77937: {77325, 77327},\n",
       " 77938: {77229, 77344},\n",
       " 77939: {77229, 77343},\n",
       " 77940: {77229, 77342},\n",
       " 77941: {77229, 77341},\n",
       " 77942: {77229, 77340},\n",
       " 77943: {77229, 77339},\n",
       " 77944: {77229, 77338},\n",
       " 77945: {77229, 77335},\n",
       " 77946: {77229, 77337},\n",
       " 77947: {77229, 77336},\n",
       " 77948: {77325, 77330},\n",
       " 77949: {77231, 77335},\n",
       " 77950: {77237, 77340},\n",
       " 77951: {77237, 77339},\n",
       " 77952: {77237, 77338},\n",
       " 77953: {77237, 77335},\n",
       " 77954: {77237, 77337},\n",
       " 77955: {77237, 77336},\n",
       " 77956: {77311, 77327},\n",
       " 77957: {77311, 77330},\n",
       " 77958: {77311, 77326},\n",
       " 77959: {77311, 77328},\n",
       " 77960: {77311, 77332},\n",
       " 77961: {77311, 77329},\n",
       " 77962: {77311, 77334},\n",
       " 77963: {77237, 77341},\n",
       " 77964: {77231, 77337},\n",
       " 77965: {77237, 77342},\n",
       " 77966: {77237, 77344},\n",
       " 77967: {77231, 77336},\n",
       " 77968: {77319, 77327},\n",
       " 77969: {77319, 77330},\n",
       " 77970: {77319, 77326},\n",
       " 77971: {77319, 77328},\n",
       " 77972: {77319, 77332},\n",
       " 77973: {77319, 77329},\n",
       " 77974: {77319, 77334},\n",
       " 77975: {77319, 77331},\n",
       " 77976: {77319, 77333},\n",
       " 77977: {77237, 77343},\n",
       " 77978: {77307, 77331},\n",
       " 77979: {77307, 77334},\n",
       " 77980: {77307, 77329},\n",
       " 77981: {77307, 77332},\n",
       " 77982: {77307, 77328},\n",
       " 77983: {77307, 77326},\n",
       " 77984: {77307, 77330},\n",
       " 77985: {77307, 77327},\n",
       " 77986: {77323, 77333},\n",
       " 77987: {77306, 77333},\n",
       " 77988: {77306, 77331},\n",
       " 77989: {77307, 77333},\n",
       " 77990: {77308, 77333},\n",
       " 77991: {77323, 77331},\n",
       " 77992: {77305, 77333},\n",
       " 77993: {77305, 77331},\n",
       " 77994: {77305, 77334},\n",
       " 77995: {77305, 77329},\n",
       " 77996: {77305, 77332},\n",
       " 77997: {77305, 77328},\n",
       " 77998: {77305, 77326},\n",
       " 77999: {77305, 77330},\n",
       " 78000: {77305, 77327},\n",
       " 78001: {77306, 77334},\n",
       " 78002: {77300, 77327},\n",
       " 78003: {77300, 77330},\n",
       " 78004: {77300, 77326},\n",
       " 78005: {77300, 77328},\n",
       " 78006: {77300, 77332},\n",
       " 78007: {77300, 77329},\n",
       " 78008: {77306, 77327},\n",
       " 78009: {77306, 77326},\n",
       " 78010: {77322, 77327},\n",
       " 78011: {77322, 77330},\n",
       " 78012: {77322, 77326},\n",
       " 78013: {77322, 77328},\n",
       " 78014: {77322, 77332},\n",
       " 78015: {77322, 77329},\n",
       " 78016: {77322, 77334},\n",
       " 78017: {77322, 77331},\n",
       " 78018: {77322, 77333},\n",
       " 78019: {77306, 77332},\n",
       " 78020: {77306, 77328},\n",
       " 78021: {77306, 77330},\n",
       " 78022: {77300, 77331},\n",
       " 78023: {77308, 77331},\n",
       " 78024: {77308, 77329},\n",
       " 78025: {77302, 77329},\n",
       " 78026: {77302, 77332},\n",
       " 78027: {77302, 77328},\n",
       " 78028: {77302, 77326},\n",
       " 78029: {77302, 77330},\n",
       " 78030: {77302, 77327},\n",
       " 78031: {77323, 77328},\n",
       " 78032: {77323, 77332},\n",
       " 78033: {77323, 77329},\n",
       " 78034: {77323, 77334},\n",
       " 78035: {77303, 77333},\n",
       " 78036: {77302, 77334},\n",
       " 78037: {77302, 77331},\n",
       " 78038: {77302, 77333},\n",
       " 78039: {77289, 77327},\n",
       " 78040: {77289, 77330},\n",
       " 78041: {77289, 77326},\n",
       " 78042: {77289, 77328},\n",
       " 78043: {77289, 77332},\n",
       " 78044: {77289, 77329},\n",
       " 78045: {77289, 77334},\n",
       " 78046: {77289, 77331},\n",
       " 78047: {77289, 77333},\n",
       " 78048: {77323, 77330},\n",
       " 78049: {77323, 77326},\n",
       " 78050: {77308, 77334},\n",
       " 78051: {77303, 77331},\n",
       " 78052: {77303, 77329},\n",
       " 78053: {77308, 77327},\n",
       " 78054: {77308, 77330},\n",
       " 78055: {77308, 77326},\n",
       " 78056: {77308, 77328},\n",
       " 78057: {77308, 77332},\n",
       " 78058: {77304, 77327},\n",
       " 78059: {77303, 77334},\n",
       " 78060: {77304, 77330},\n",
       " 78061: {77304, 77328},\n",
       " 78062: {77303, 77332},\n",
       " 78063: {77303, 77328},\n",
       " 78064: {77303, 77326},\n",
       " 78065: {77303, 77330},\n",
       " 78066: {77303, 77327},\n",
       " 78067: {77304, 77333},\n",
       " 78068: {77304, 77331},\n",
       " 78069: {77304, 77334},\n",
       " 78070: {77304, 77329},\n",
       " 78071: {77304, 77332},\n",
       " 78072: {77304, 77326},\n",
       " 78073: {77309, 77330},\n",
       " 78074: {77265, 77330},\n",
       " 78075: {77314, 77327},\n",
       " 78076: {77282, 77333},\n",
       " 78077: {77282, 77331},\n",
       " 78078: {77282, 77334},\n",
       " 78079: {77282, 77329},\n",
       " 78080: {77282, 77332},\n",
       " 78081: {77282, 77328},\n",
       " 78082: {77282, 77326},\n",
       " 78083: {77282, 77330},\n",
       " 78084: {77282, 77327},\n",
       " 78085: {77283, 77333},\n",
       " 78086: {77283, 77331},\n",
       " 78087: {77283, 77334},\n",
       " 78088: {77283, 77329},\n",
       " 78089: {77283, 77332},\n",
       " 78090: {77283, 77328},\n",
       " 78091: {77283, 77326},\n",
       " 78092: {77283, 77330},\n",
       " 78093: {77283, 77327},\n",
       " 78094: {77314, 77328},\n",
       " 78095: {77314, 77332},\n",
       " 78096: {77314, 77329},\n",
       " 78097: {77314, 77334},\n",
       " 78098: {77314, 77331},\n",
       " 78099: {77314, 77333},\n",
       " 78100: {77315, 77333},\n",
       " 78101: {77315, 77331},\n",
       " 78102: {77315, 77334},\n",
       " 78103: {77315, 77329},\n",
       " 78104: {77315, 77332},\n",
       " 78105: {77315, 77328},\n",
       " 78106: {77315, 77326},\n",
       " 78107: {77275, 77327},\n",
       " 78108: {77275, 77330},\n",
       " 78109: {77275, 77326},\n",
       " 78110: {77275, 77328},\n",
       " 78111: {77275, 77332},\n",
       " 78112: {77281, 77327},\n",
       " 78113: {77281, 77330},\n",
       " 78114: {77281, 77326},\n",
       " 78115: {77281, 77328},\n",
       " 78116: {77281, 77332},\n",
       " 78117: {77281, 77329},\n",
       " 78118: {77281, 77334},\n",
       " 78119: {77281, 77331},\n",
       " 78120: {77281, 77333},\n",
       " 78121: {77314, 77330},\n",
       " 78122: {77314, 77326},\n",
       " 78123: {77275, 77333},\n",
       " 78124: {77275, 77331},\n",
       " 78125: {77275, 77334},\n",
       " 78126: {77275, 77329},\n",
       " 78127: {77284, 77327},\n",
       " 78128: {77285, 77327},\n",
       " 78129: {77276, 77333},\n",
       " 78130: {77276, 77331},\n",
       " 78131: {77276, 77334},\n",
       " 78132: {77276, 77329},\n",
       " 78133: {77276, 77332},\n",
       " 78134: {77276, 77328},\n",
       " 78135: {77276, 77326},\n",
       " 78136: {77276, 77330},\n",
       " 78137: {77276, 77327},\n",
       " 78138: {77277, 77333},\n",
       " 78139: {77277, 77331},\n",
       " 78140: {77277, 77334},\n",
       " 78141: {77277, 77329},\n",
       " 78142: {77277, 77332},\n",
       " 78143: {77277, 77328},\n",
       " 78144: {77277, 77326},\n",
       " 78145: {77277, 77330},\n",
       " 78146: {77277, 77327},\n",
       " 78147: {77285, 77332},\n",
       " 78148: {77285, 77329},\n",
       " 78149: {77285, 77334},\n",
       " 78150: {77285, 77331},\n",
       " 78151: {77285, 77333},\n",
       " 78152: {77284, 77333},\n",
       " 78153: {77284, 77331},\n",
       " 78154: {77284, 77334},\n",
       " 78155: {77284, 77329},\n",
       " 78156: {77284, 77332},\n",
       " 78157: {77284, 77328},\n",
       " 78158: {77284, 77326},\n",
       " 78159: {77284, 77330},\n",
       " 78160: {77285, 77328},\n",
       " 78161: {77285, 77326},\n",
       " 78162: {77285, 77330},\n",
       " 78163: {77317, 77327},\n",
       " 78164: {77317, 77330},\n",
       " 78165: {77317, 77326},\n",
       " 78166: {77317, 77328},\n",
       " 78167: {77317, 77332},\n",
       " 78168: {77317, 77329},\n",
       " 78169: {77317, 77334},\n",
       " 78170: {77317, 77333},\n",
       " 78171: {77317, 77331},\n",
       " 78172: {77273, 77327},\n",
       " 78173: {77273, 77330},\n",
       " 78174: {77273, 77326},\n",
       " 78175: {77273, 77328},\n",
       " 78176: {77273, 77332},\n",
       " 78177: {77273, 77329},\n",
       " 78178: {77273, 77334},\n",
       " 78179: {77273, 77331},\n",
       " 78180: {77273, 77333},\n",
       " 78181: {77272, 77333},\n",
       " 78182: {77272, 77331},\n",
       " 78183: {77274, 77333},\n",
       " 78184: {77274, 77331},\n",
       " 78185: {77274, 77334},\n",
       " 78186: {77274, 77329},\n",
       " 78187: {77274, 77332},\n",
       " 78188: {77274, 77328},\n",
       " 78189: {77274, 77326},\n",
       " 78190: {77274, 77330},\n",
       " 78191: {77274, 77327},\n",
       " 78192: {77272, 77334},\n",
       " 78193: {77272, 77329},\n",
       " 78194: {77272, 77332},\n",
       " 78195: {77309, 77333},\n",
       " 78196: {77309, 77331},\n",
       " 78197: {77309, 77334},\n",
       " 78198: {77309, 77329},\n",
       " 78199: {77309, 77332},\n",
       " 78200: {77309, 77328},\n",
       " 78201: {77309, 77326},\n",
       " 78202: {77294, 77327},\n",
       " 78203: {77294, 77330},\n",
       " 78204: {77294, 77326},\n",
       " 78205: {77272, 77328},\n",
       " 78206: {77272, 77326},\n",
       " 78207: {77272, 77330},\n",
       " 78208: {77272, 77327},\n",
       " 78209: {77294, 77333},\n",
       " 78210: {77294, 77331},\n",
       " 78211: {77294, 77334},\n",
       " 78212: {77294, 77329},\n",
       " 78213: {77294, 77332},\n",
       " 78214: {77294, 77328},\n",
       " 78215: {77315, 77327},\n",
       " 78216: {77268, 77333},\n",
       " 78217: {77268, 77331},\n",
       " 78218: {77268, 77334},\n",
       " 78219: {77268, 77329},\n",
       " 78220: {77268, 77332},\n",
       " 78221: {77268, 77328},\n",
       " 78222: {77268, 77326},\n",
       " 78223: {77268, 77330},\n",
       " 78224: {77268, 77327},\n",
       " 78225: {77315, 77330},\n",
       " 78226: {77269, 77333},\n",
       " 78227: {77269, 77331},\n",
       " 78228: {77269, 77334},\n",
       " 78229: {77269, 77329},\n",
       " 78230: {77269, 77332},\n",
       " 78231: {77269, 77328},\n",
       " 78232: {77269, 77330},\n",
       " 78233: {77269, 77327},\n",
       " 78234: {77269, 77326},\n",
       " 78235: {77267, 77327},\n",
       " 78236: {77267, 77326},\n",
       " 78237: {77271, 77333},\n",
       " 78238: {77271, 77331},\n",
       " 78239: {77271, 77334},\n",
       " 78240: {77271, 77329},\n",
       " 78241: {77271, 77332},\n",
       " 78242: {77271, 77328},\n",
       " 78243: {77271, 77326},\n",
       " 78244: {77271, 77330},\n",
       " 78245: {77271, 77327},\n",
       " 78246: {77267, 77328},\n",
       " 78247: {77267, 77332},\n",
       " 78248: {77267, 77329},\n",
       " 78249: {77267, 77334},\n",
       " 78250: {77267, 77331},\n",
       " 78251: {77267, 77333},\n",
       " 78252: {77270, 77333},\n",
       " 78253: {77267, 77330},\n",
       " 78254: {77270, 77334},\n",
       " 78255: {77270, 77329},\n",
       " 78256: {77270, 77332},\n",
       " 78257: {77270, 77328},\n",
       " 78258: {77270, 77326},\n",
       " 78259: {77270, 77330},\n",
       " 78260: {77270, 77327},\n",
       " 78261: {77270, 77331},\n",
       " 78262: {77278, 77327},\n",
       " 78263: {77278, 77330},\n",
       " 78264: {77312, 77327},\n",
       " 78265: {77246, 77333},\n",
       " 78266: {77246, 77331},\n",
       " 78267: {77246, 77334},\n",
       " 78268: {77246, 77329},\n",
       " 78269: {77246, 77332},\n",
       " 78270: {77246, 77328},\n",
       " 78271: {77246, 77326},\n",
       " 78272: {77246, 77330},\n",
       " 78273: {77246, 77327},\n",
       " 78274: {77249, 77330},\n",
       " 78275: {77250, 77329},\n",
       " 78276: {77250, 77334},\n",
       " 78277: {77250, 77331},\n",
       " 78278: {77250, 77333},\n",
       " 78279: {77249, 77333},\n",
       " 78280: {77249, 77331},\n",
       " 78281: {77249, 77334},\n",
       " 78282: {77249, 77329},\n",
       " 78283: {77249, 77332},\n",
       " 78284: {77249, 77328},\n",
       " 78285: {77249, 77326},\n",
       " 78286: {77249, 77327},\n",
       " 78287: {77247, 77332},\n",
       " 78288: {77247, 77329},\n",
       " 78289: {77247, 77334},\n",
       " 78290: {77247, 77331},\n",
       " 78291: {77247, 77333},\n",
       " 78292: {77312, 77326},\n",
       " 78293: {77312, 77328},\n",
       " 78294: {77251, 77333},\n",
       " 78295: {77251, 77331},\n",
       " 78296: {77251, 77334},\n",
       " 78297: {77248, 77327},\n",
       " 78298: {77248, 77330},\n",
       " 78299: {77248, 77326},\n",
       " 78300: {77247, 77327},\n",
       " 78301: {77247, 77330},\n",
       " 78302: {77247, 77326},\n",
       " 78303: {77312, 77330},\n",
       " 78304: {77248, 77333},\n",
       " 78305: {77248, 77331},\n",
       " 78306: {77248, 77334},\n",
       " 78307: {77248, 77329},\n",
       " 78308: {77248, 77332},\n",
       " 78309: {77248, 77328},\n",
       " 78310: {77247, 77328},\n",
       " 78311: {77265, 77331},\n",
       " 78312: {77265, 77333},\n",
       " 78313: {77264, 77333},\n",
       " 78314: {77264, 77331},\n",
       " 78315: {77264, 77334},\n",
       " 78316: {77264, 77329},\n",
       " 78317: {77264, 77332},\n",
       " 78318: {77264, 77328},\n",
       " 78319: {77264, 77326},\n",
       " 78320: {77264, 77330},\n",
       " 78321: {77264, 77327},\n",
       " 78322: {77265, 77334},\n",
       " 78323: {77265, 77326},\n",
       " 78324: {77265, 77328},\n",
       " 78325: {77265, 77332},\n",
       " 78326: {77265, 77329},\n",
       " 78327: {77320, 77333},\n",
       " 78328: {77266, 77333},\n",
       " 78329: {77266, 77331},\n",
       " 78330: {77266, 77334},\n",
       " 78331: {77266, 77332},\n",
       " 78332: {77266, 77328},\n",
       " 78333: {77266, 77326},\n",
       " 78334: {77266, 77330},\n",
       " 78335: {77266, 77327},\n",
       " 78336: {77309, 77327},\n",
       " 78337: {77266, 77329},\n",
       " 78338: {77251, 77329},\n",
       " 78339: {77250, 77327},\n",
       " 78340: {77250, 77330},\n",
       " 78341: {77250, 77326},\n",
       " 78342: {77250, 77328},\n",
       " 78343: {77250, 77332},\n",
       " 78344: {77262, 77333},\n",
       " 78345: {77262, 77331},\n",
       " 78346: {77262, 77334},\n",
       " 78347: {77262, 77329},\n",
       " 78348: {77262, 77332},\n",
       " 78349: {77262, 77328},\n",
       " 78350: {77262, 77326},\n",
       " 78351: {77262, 77330},\n",
       " 78352: {77262, 77327},\n",
       " 78353: {77263, 77333},\n",
       " 78354: {77263, 77331},\n",
       " 78355: {77263, 77334},\n",
       " 78356: {77263, 77329},\n",
       " 78357: {77263, 77332},\n",
       " 78358: {77263, 77328},\n",
       " 78359: {77263, 77326},\n",
       " 78360: {77263, 77330},\n",
       " 78361: {77263, 77327},\n",
       " 78362: {77265, 77327},\n",
       " 78363: {77312, 77332},\n",
       " 78364: {77312, 77334},\n",
       " 78365: {77321, 77327},\n",
       " 78366: {77321, 77330},\n",
       " 78367: {77321, 77326},\n",
       " 78368: {77321, 77328},\n",
       " 78369: {77321, 77332},\n",
       " 78370: {77321, 77329},\n",
       " 78371: {77321, 77334},\n",
       " 78372: {77321, 77331},\n",
       " 78373: {77321, 77333},\n",
       " 78374: {77252, 77333},\n",
       " 78375: {77252, 77331},\n",
       " 78376: {77252, 77334},\n",
       " 78377: {77252, 77329},\n",
       " 78378: {77252, 77332},\n",
       " 78379: {77252, 77328},\n",
       " 78380: {77252, 77326},\n",
       " 78381: {77252, 77330},\n",
       " 78382: {77252, 77327},\n",
       " 78383: {77279, 77328},\n",
       " 78384: {77279, 77332},\n",
       " 78385: {77279, 77329},\n",
       " 78386: {77279, 77334},\n",
       " 78387: {77279, 77331},\n",
       " 78388: {77279, 77333},\n",
       " 78389: {77278, 77333},\n",
       " 78390: {77278, 77331},\n",
       " 78391: {77278, 77334},\n",
       " 78392: {77278, 77329},\n",
       " 78393: {77278, 77332},\n",
       " 78394: {77278, 77328},\n",
       " 78395: {77278, 77326},\n",
       " 78396: {77279, 77326},\n",
       " 78397: {77279, 77327},\n",
       " 78398: {77279, 77330},\n",
       " 78399: {77280, 77333},\n",
       " 78400: {77280, 77331},\n",
       " 78401: {77280, 77334},\n",
       " 78402: {77280, 77332},\n",
       " 78403: {77280, 77328},\n",
       " 78404: {77280, 77326},\n",
       " 78405: {77280, 77330},\n",
       " 78406: {77280, 77327},\n",
       " 78407: {77280, 77329},\n",
       " 78408: {77256, 77327},\n",
       " 78409: {77256, 77330},\n",
       " 78410: {77256, 77326},\n",
       " 78411: {77313, 77327},\n",
       " 78412: {77255, 77333},\n",
       " ...}"
      ]
     },
     "execution_count": 29,
     "metadata": {},
     "output_type": "execute_result"
    }
   ],
   "source": [
    "reaction_map"
   ]
  },
  {
   "cell_type": "code",
   "execution_count": 33,
   "id": "d779cac4-d068-4ce3-bf87-ce9eba0fec7c",
   "metadata": {},
   "outputs": [
    {
     "data": {
      "application/vnd.jupyter.widget-view+json": {
       "model_id": "cfdf6907893d4c6faa80580c8407549d",
       "version_major": 2,
       "version_minor": 0
      },
      "text/plain": [
       "Output()"
      ]
     },
     "metadata": {},
     "output_type": "display_data"
    },
    {
     "data": {
      "text/html": [
       "<pre style=\"white-space:pre;overflow-x:auto;line-height:normal;font-family:Menlo,'DejaVu Sans Mono',consolas,'Courier New',monospace;margin:0px\"></pre>\n"
      ],
      "text/plain": []
     },
     "metadata": {},
     "output_type": "display_data"
    }
   ],
   "source": [
    "picks = set()\n",
    "\n",
    "for elab_id in mrich.track(elabs.ids):\n",
    "\n",
    "    # r = elab.reactions[0]\n",
    "\n",
    "    reactants = reaction_map[elab_id]\n",
    "\n",
    "    n_shared = len(reactants.intersection(scaffold_reactants_ids))\n",
    "\n",
    "    match n_shared:\n",
    "        case 0:\n",
    "            # print(elab, r, \"NO\")\n",
    "            continue\n",
    "        case 1:\n",
    "            # print(elab, r, \"YES\")\n",
    "            picks.add(elab_id)\n",
    "        case 2:\n",
    "            # print(elab, r, \"SCAFFOLD\")\n",
    "            continue\n",
    "\n",
    "picks = animal.compounds[picks]"
   ]
  },
  {
   "cell_type": "code",
   "execution_count": 35,
   "id": "c6824195-dec8-48a0-a59e-c6675bbcefaa",
   "metadata": {
    "scrolled": true
   },
   "outputs": [
    {
     "name": "stderr",
     "output_type": "stream",
     "text": [
      "/opt/xchem-fragalysis-2/maxwin/conda/lib/python3.12/site-packages/rdkit/Chem/Draw/IPythonConsole.py:344: UserWarning:\n",
      "\n",
      "Truncating the list of molecules to be displayed to 50. Change the maxMols value to display more.\n",
      "\n"
     ]
    },
    {
     "data": {
      "image/png": "[encoded data removed]",
      "text/plain": [
       "<IPython.core.display.Image object>"
      ]
     },
     "metadata": {},
     "output_type": "display_data"
    }
   ],
   "source": [
    "picks.draw()"
   ]
  },
  {
   "cell_type": "code",
   "execution_count": 36,
   "id": "991cd06e-cc80-48e5-aede-5160c2fc2aba",
   "metadata": {
    "scrolled": true
   },
   "outputs": [
    {
     "data": {
      "text/html": [
       "<pre style=\"white-space:pre;overflow-x:auto;line-height:normal;font-family:Menlo,'DejaVu Sans Mono',consolas,'Courier New',monospace;margin:0px\"><span style=\"color: #008080; text-decoration-color: #008080; font-weight: bold\">#compounds</span> = <span style=\"color: #008080; text-decoration-color: #008080; font-weight: bold\">186</span>\n",
       "</pre>\n"
      ],
      "text/plain": [
       "\u001b[1;36m#compounds\u001b[0m = \u001b[1;36m186\u001b[0m\n"
      ]
     },
     "metadata": {},
     "output_type": "display_data"
    },
    {
     "data": {
      "application/vnd.jupyter.widget-view+json": {
       "model_id": "bea97c0fa70942589b0848e730877a92",
       "version_major": 2,
       "version_minor": 0
      },
      "text/plain": [
       "Output()"
      ]
     },
     "metadata": {},
     "output_type": "display_data"
    },
    {
     "data": {
      "text/html": [
       "<pre style=\"white-space:pre;overflow-x:auto;line-height:normal;font-family:Menlo,'DejaVu Sans Mono',consolas,'Courier New',monospace;margin:0px\"><span style=\"background-color: #008000; font-weight: bold\"> Success </span><span style=\"color: #008000; text-decoration-color: #008000; font-weight: bold\"> Found solution for compound=C77413!</span>\n",
       "</pre>\n"
      ],
      "text/plain": [
       "\u001b[1;7;32m Success \u001b[0m\u001b[1;32m Found solution for compound=C77413!\u001b[0m\n"
      ]
     },
     "metadata": {},
     "output_type": "display_data"
    },
    {
     "data": {
      "text/html": [
       "<pre style=\"white-space:pre;overflow-x:auto;line-height:normal;font-family:Menlo,'DejaVu Sans Mono',consolas,'Courier New',monospace;margin:0px\"><span style=\"background-color: #008000; font-weight: bold\"> Success </span><span style=\"color: #008000; text-decoration-color: #008000; font-weight: bold\"> Found solution for compound=C77414!</span>\n",
       "</pre>\n"
      ],
      "text/plain": [
       "\u001b[1;7;32m Success \u001b[0m\u001b[1;32m Found solution for compound=C77414!\u001b[0m\n"
      ]
     },
     "metadata": {},
     "output_type": "display_data"
    },
    {
     "data": {
      "text/html": [
       "<pre style=\"white-space:pre;overflow-x:auto;line-height:normal;font-family:Menlo,'DejaVu Sans Mono',consolas,'Courier New',monospace;margin:0px\"><span style=\"background-color: #008000; font-weight: bold\"> Success </span><span style=\"color: #008000; text-decoration-color: #008000; font-weight: bold\"> Found solution for compound=C77415!</span>\n",
       "</pre>\n"
      ],
      "text/plain": [
       "\u001b[1;7;32m Success \u001b[0m\u001b[1;32m Found solution for compound=C77415!\u001b[0m\n"
      ]
     },
     "metadata": {},
     "output_type": "display_data"
    },
    {
     "data": {
      "text/html": [
       "<pre style=\"white-space:pre;overflow-x:auto;line-height:normal;font-family:Menlo,'DejaVu Sans Mono',consolas,'Courier New',monospace;margin:0px\"><span style=\"background-color: #008000; font-weight: bold\"> Success </span><span style=\"color: #008000; text-decoration-color: #008000; font-weight: bold\"> Found solution for compound=C77416!</span>\n",
       "</pre>\n"
      ],
      "text/plain": [
       "\u001b[1;7;32m Success \u001b[0m\u001b[1;32m Found solution for compound=C77416!\u001b[0m\n"
      ]
     },
     "metadata": {},
     "output_type": "display_data"
    },
    {
     "data": {
      "text/html": [
       "<pre style=\"white-space:pre;overflow-x:auto;line-height:normal;font-family:Menlo,'DejaVu Sans Mono',consolas,'Courier New',monospace;margin:0px\"><span style=\"background-color: #008000; font-weight: bold\"> Success </span><span style=\"color: #008000; text-decoration-color: #008000; font-weight: bold\"> Found solution for compound=C77417!</span>\n",
       "</pre>\n"
      ],
      "text/plain": [
       "\u001b[1;7;32m Success \u001b[0m\u001b[1;32m Found solution for compound=C77417!\u001b[0m\n"
      ]
     },
     "metadata": {},
     "output_type": "display_data"
    },
    {
     "data": {
      "text/html": [
       "<pre style=\"white-space:pre;overflow-x:auto;line-height:normal;font-family:Menlo,'DejaVu Sans Mono',consolas,'Courier New',monospace;margin:0px\"><span style=\"background-color: #008000; font-weight: bold\"> Success </span><span style=\"color: #008000; text-decoration-color: #008000; font-weight: bold\"> Found solution for compound=C77418!</span>\n",
       "</pre>\n"
      ],
      "text/plain": [
       "\u001b[1;7;32m Success \u001b[0m\u001b[1;32m Found solution for compound=C77418!\u001b[0m\n"
      ]
     },
     "metadata": {},
     "output_type": "display_data"
    },
    {
     "data": {
      "text/html": [
       "<pre style=\"white-space:pre;overflow-x:auto;line-height:normal;font-family:Menlo,'DejaVu Sans Mono',consolas,'Courier New',monospace;margin:0px\"><span style=\"background-color: #008000; font-weight: bold\"> Success </span><span style=\"color: #008000; text-decoration-color: #008000; font-weight: bold\"> Found solution for compound=C77419!</span>\n",
       "</pre>\n"
      ],
      "text/plain": [
       "\u001b[1;7;32m Success \u001b[0m\u001b[1;32m Found solution for compound=C77419!\u001b[0m\n"
      ]
     },
     "metadata": {},
     "output_type": "display_data"
    },
    {
     "data": {
      "text/html": [
       "<pre style=\"white-space:pre;overflow-x:auto;line-height:normal;font-family:Menlo,'DejaVu Sans Mono',consolas,'Courier New',monospace;margin:0px\"><span style=\"background-color: #008000; font-weight: bold\"> Success </span><span style=\"color: #008000; text-decoration-color: #008000; font-weight: bold\"> Found solution for compound=C77420!</span>\n",
       "</pre>\n"
      ],
      "text/plain": [
       "\u001b[1;7;32m Success \u001b[0m\u001b[1;32m Found solution for compound=C77420!\u001b[0m\n"
      ]
     },
     "metadata": {},
     "output_type": "display_data"
    },
    {
     "data": {
      "text/html": [
       "<pre style=\"white-space:pre;overflow-x:auto;line-height:normal;font-family:Menlo,'DejaVu Sans Mono',consolas,'Courier New',monospace;margin:0px\"><span style=\"background-color: #008000; font-weight: bold\"> Success </span><span style=\"color: #008000; text-decoration-color: #008000; font-weight: bold\"> Found solution for compound=C77421!</span>\n",
       "</pre>\n"
      ],
      "text/plain": [
       "\u001b[1;7;32m Success \u001b[0m\u001b[1;32m Found solution for compound=C77421!\u001b[0m\n"
      ]
     },
     "metadata": {},
     "output_type": "display_data"
    },
    {
     "data": {
      "text/html": [
       "<pre style=\"white-space:pre;overflow-x:auto;line-height:normal;font-family:Menlo,'DejaVu Sans Mono',consolas,'Courier New',monospace;margin:0px\"><span style=\"background-color: #008000; font-weight: bold\"> Success </span><span style=\"color: #008000; text-decoration-color: #008000; font-weight: bold\"> Found solution for compound=C77422!</span>\n",
       "</pre>\n"
      ],
      "text/plain": [
       "\u001b[1;7;32m Success \u001b[0m\u001b[1;32m Found solution for compound=C77422!\u001b[0m\n"
      ]
     },
     "metadata": {},
     "output_type": "display_data"
    },
    {
     "data": {
      "text/html": [
       "<pre style=\"white-space:pre;overflow-x:auto;line-height:normal;font-family:Menlo,'DejaVu Sans Mono',consolas,'Courier New',monospace;margin:0px\"><span style=\"background-color: #008000; font-weight: bold\"> Success </span><span style=\"color: #008000; text-decoration-color: #008000; font-weight: bold\"> Found solution for compound=C77423!</span>\n",
       "</pre>\n"
      ],
      "text/plain": [
       "\u001b[1;7;32m Success \u001b[0m\u001b[1;32m Found solution for compound=C77423!\u001b[0m\n"
      ]
     },
     "metadata": {},
     "output_type": "display_data"
    },
    {
     "data": {
      "text/html": [
       "<pre style=\"white-space:pre;overflow-x:auto;line-height:normal;font-family:Menlo,'DejaVu Sans Mono',consolas,'Courier New',monospace;margin:0px\"><span style=\"background-color: #008000; font-weight: bold\"> Success </span><span style=\"color: #008000; text-decoration-color: #008000; font-weight: bold\"> Found solution for compound=C77424!</span>\n",
       "</pre>\n"
      ],
      "text/plain": [
       "\u001b[1;7;32m Success \u001b[0m\u001b[1;32m Found solution for compound=C77424!\u001b[0m\n"
      ]
     },
     "metadata": {},
     "output_type": "display_data"
    },
    {
     "data": {
      "text/html": [
       "<pre style=\"white-space:pre;overflow-x:auto;line-height:normal;font-family:Menlo,'DejaVu Sans Mono',consolas,'Courier New',monospace;margin:0px\"><span style=\"background-color: #008000; font-weight: bold\"> Success </span><span style=\"color: #008000; text-decoration-color: #008000; font-weight: bold\"> Found solution for compound=C77425!</span>\n",
       "</pre>\n"
      ],
      "text/plain": [
       "\u001b[1;7;32m Success \u001b[0m\u001b[1;32m Found solution for compound=C77425!\u001b[0m\n"
      ]
     },
     "metadata": {},
     "output_type": "display_data"
    },
    {
     "data": {
      "text/html": [
       "<pre style=\"white-space:pre;overflow-x:auto;line-height:normal;font-family:Menlo,'DejaVu Sans Mono',consolas,'Courier New',monospace;margin:0px\"><span style=\"background-color: #008000; font-weight: bold\"> Success </span><span style=\"color: #008000; text-decoration-color: #008000; font-weight: bold\"> Found solution for compound=C77426!</span>\n",
       "</pre>\n"
      ],
      "text/plain": [
       "\u001b[1;7;32m Success \u001b[0m\u001b[1;32m Found solution for compound=C77426!\u001b[0m\n"
      ]
     },
     "metadata": {},
     "output_type": "display_data"
    },
    {
     "data": {
      "text/html": [
       "<pre style=\"white-space:pre;overflow-x:auto;line-height:normal;font-family:Menlo,'DejaVu Sans Mono',consolas,'Courier New',monospace;margin:0px\"><span style=\"background-color: #008000; font-weight: bold\"> Success </span><span style=\"color: #008000; text-decoration-color: #008000; font-weight: bold\"> Found solution for compound=C77427!</span>\n",
       "</pre>\n"
      ],
      "text/plain": [
       "\u001b[1;7;32m Success \u001b[0m\u001b[1;32m Found solution for compound=C77427!\u001b[0m\n"
      ]
     },
     "metadata": {},
     "output_type": "display_data"
    },
    {
     "data": {
      "text/html": [
       "<pre style=\"white-space:pre;overflow-x:auto;line-height:normal;font-family:Menlo,'DejaVu Sans Mono',consolas,'Courier New',monospace;margin:0px\"><span style=\"background-color: #008000; font-weight: bold\"> Success </span><span style=\"color: #008000; text-decoration-color: #008000; font-weight: bold\"> Found solution for compound=C77428!</span>\n",
       "</pre>\n"
      ],
      "text/plain": [
       "\u001b[1;7;32m Success \u001b[0m\u001b[1;32m Found solution for compound=C77428!\u001b[0m\n"
      ]
     },
     "metadata": {},
     "output_type": "display_data"
    },
    {
     "data": {
      "text/html": [
       "<pre style=\"white-space:pre;overflow-x:auto;line-height:normal;font-family:Menlo,'DejaVu Sans Mono',consolas,'Courier New',monospace;margin:0px\"><span style=\"background-color: #008000; font-weight: bold\"> Success </span><span style=\"color: #008000; text-decoration-color: #008000; font-weight: bold\"> Found solution for compound=C77429!</span>\n",
       "</pre>\n"
      ],
      "text/plain": [
       "\u001b[1;7;32m Success \u001b[0m\u001b[1;32m Found solution for compound=C77429!\u001b[0m\n"
      ]
     },
     "metadata": {},
     "output_type": "display_data"
    },
    {
     "data": {
      "text/html": [
       "<pre style=\"white-space:pre;overflow-x:auto;line-height:normal;font-family:Menlo,'DejaVu Sans Mono',consolas,'Courier New',monospace;margin:0px\"><span style=\"background-color: #008000; font-weight: bold\"> Success </span><span style=\"color: #008000; text-decoration-color: #008000; font-weight: bold\"> Found solution for compound=C77430!</span>\n",
       "</pre>\n"
      ],
      "text/plain": [
       "\u001b[1;7;32m Success \u001b[0m\u001b[1;32m Found solution for compound=C77430!\u001b[0m\n"
      ]
     },
     "metadata": {},
     "output_type": "display_data"
    },
    {
     "data": {
      "text/html": [
       "<pre style=\"white-space:pre;overflow-x:auto;line-height:normal;font-family:Menlo,'DejaVu Sans Mono',consolas,'Courier New',monospace;margin:0px\"><span style=\"background-color: #008000; font-weight: bold\"> Success </span><span style=\"color: #008000; text-decoration-color: #008000; font-weight: bold\"> Found solution for compound=C77431!</span>\n",
       "</pre>\n"
      ],
      "text/plain": [
       "\u001b[1;7;32m Success \u001b[0m\u001b[1;32m Found solution for compound=C77431!\u001b[0m\n"
      ]
     },
     "metadata": {},
     "output_type": "display_data"
    },
    {
     "data": {
      "text/html": [
       "<pre style=\"white-space:pre;overflow-x:auto;line-height:normal;font-family:Menlo,'DejaVu Sans Mono',consolas,'Courier New',monospace;margin:0px\"><span style=\"background-color: #008000; font-weight: bold\"> Success </span><span style=\"color: #008000; text-decoration-color: #008000; font-weight: bold\"> Found solution for compound=C77432!</span>\n",
       "</pre>\n"
      ],
      "text/plain": [
       "\u001b[1;7;32m Success \u001b[0m\u001b[1;32m Found solution for compound=C77432!\u001b[0m\n"
      ]
     },
     "metadata": {},
     "output_type": "display_data"
    },
    {
     "data": {
      "text/html": [
       "<pre style=\"white-space:pre;overflow-x:auto;line-height:normal;font-family:Menlo,'DejaVu Sans Mono',consolas,'Courier New',monospace;margin:0px\"><span style=\"background-color: #008000; font-weight: bold\"> Success </span><span style=\"color: #008000; text-decoration-color: #008000; font-weight: bold\"> Found solution for compound=C77433!</span>\n",
       "</pre>\n"
      ],
      "text/plain": [
       "\u001b[1;7;32m Success \u001b[0m\u001b[1;32m Found solution for compound=C77433!\u001b[0m\n"
      ]
     },
     "metadata": {},
     "output_type": "display_data"
    },
    {
     "data": {
      "text/html": [
       "<pre style=\"white-space:pre;overflow-x:auto;line-height:normal;font-family:Menlo,'DejaVu Sans Mono',consolas,'Courier New',monospace;margin:0px\"><span style=\"background-color: #008000; font-weight: bold\"> Success </span><span style=\"color: #008000; text-decoration-color: #008000; font-weight: bold\"> Found solution for compound=C77434!</span>\n",
       "</pre>\n"
      ],
      "text/plain": [
       "\u001b[1;7;32m Success \u001b[0m\u001b[1;32m Found solution for compound=C77434!\u001b[0m\n"
      ]
     },
     "metadata": {},
     "output_type": "display_data"
    },
    {
     "data": {
      "text/html": [
       "<pre style=\"white-space:pre;overflow-x:auto;line-height:normal;font-family:Menlo,'DejaVu Sans Mono',consolas,'Courier New',monospace;margin:0px\"><span style=\"background-color: #008000; font-weight: bold\"> Success </span><span style=\"color: #008000; text-decoration-color: #008000; font-weight: bold\"> Found solution for compound=C77435!</span>\n",
       "</pre>\n"
      ],
      "text/plain": [
       "\u001b[1;7;32m Success \u001b[0m\u001b[1;32m Found solution for compound=C77435!\u001b[0m\n"
      ]
     },
     "metadata": {},
     "output_type": "display_data"
    },
    {
     "data": {
      "text/html": [
       "<pre style=\"white-space:pre;overflow-x:auto;line-height:normal;font-family:Menlo,'DejaVu Sans Mono',consolas,'Courier New',monospace;margin:0px\"><span style=\"background-color: #008000; font-weight: bold\"> Success </span><span style=\"color: #008000; text-decoration-color: #008000; font-weight: bold\"> Found solution for compound=C77436!</span>\n",
       "</pre>\n"
      ],
      "text/plain": [
       "\u001b[1;7;32m Success \u001b[0m\u001b[1;32m Found solution for compound=C77436!\u001b[0m\n"
      ]
     },
     "metadata": {},
     "output_type": "display_data"
    },
    {
     "data": {
      "text/html": [
       "<pre style=\"white-space:pre;overflow-x:auto;line-height:normal;font-family:Menlo,'DejaVu Sans Mono',consolas,'Courier New',monospace;margin:0px\"><span style=\"background-color: #008000; font-weight: bold\"> Success </span><span style=\"color: #008000; text-decoration-color: #008000; font-weight: bold\"> Found solution for compound=C77437!</span>\n",
       "</pre>\n"
      ],
      "text/plain": [
       "\u001b[1;7;32m Success \u001b[0m\u001b[1;32m Found solution for compound=C77437!\u001b[0m\n"
      ]
     },
     "metadata": {},
     "output_type": "display_data"
    },
    {
     "data": {
      "text/html": [
       "<pre style=\"white-space:pre;overflow-x:auto;line-height:normal;font-family:Menlo,'DejaVu Sans Mono',consolas,'Courier New',monospace;margin:0px\"><span style=\"background-color: #008000; font-weight: bold\"> Success </span><span style=\"color: #008000; text-decoration-color: #008000; font-weight: bold\"> Found solution for compound=C77438!</span>\n",
       "</pre>\n"
      ],
      "text/plain": [
       "\u001b[1;7;32m Success \u001b[0m\u001b[1;32m Found solution for compound=C77438!\u001b[0m\n"
      ]
     },
     "metadata": {},
     "output_type": "display_data"
    },
    {
     "data": {
      "text/html": [
       "<pre style=\"white-space:pre;overflow-x:auto;line-height:normal;font-family:Menlo,'DejaVu Sans Mono',consolas,'Courier New',monospace;margin:0px\"><span style=\"background-color: #008000; font-weight: bold\"> Success </span><span style=\"color: #008000; text-decoration-color: #008000; font-weight: bold\"> Found solution for compound=C77439!</span>\n",
       "</pre>\n"
      ],
      "text/plain": [
       "\u001b[1;7;32m Success \u001b[0m\u001b[1;32m Found solution for compound=C77439!\u001b[0m\n"
      ]
     },
     "metadata": {},
     "output_type": "display_data"
    },
    {
     "data": {
      "text/html": [
       "<pre style=\"white-space:pre;overflow-x:auto;line-height:normal;font-family:Menlo,'DejaVu Sans Mono',consolas,'Courier New',monospace;margin:0px\"><span style=\"background-color: #008000; font-weight: bold\"> Success </span><span style=\"color: #008000; text-decoration-color: #008000; font-weight: bold\"> Found solution for compound=C77440!</span>\n",
       "</pre>\n"
      ],
      "text/plain": [
       "\u001b[1;7;32m Success \u001b[0m\u001b[1;32m Found solution for compound=C77440!\u001b[0m\n"
      ]
     },
     "metadata": {},
     "output_type": "display_data"
    },
    {
     "data": {
      "text/html": [
       "<pre style=\"white-space:pre;overflow-x:auto;line-height:normal;font-family:Menlo,'DejaVu Sans Mono',consolas,'Courier New',monospace;margin:0px\"><span style=\"background-color: #008000; font-weight: bold\"> Success </span><span style=\"color: #008000; text-decoration-color: #008000; font-weight: bold\"> Found solution for compound=C77441!</span>\n",
       "</pre>\n"
      ],
      "text/plain": [
       "\u001b[1;7;32m Success \u001b[0m\u001b[1;32m Found solution for compound=C77441!\u001b[0m\n"
      ]
     },
     "metadata": {},
     "output_type": "display_data"
    },
    {
     "data": {
      "text/html": [
       "<pre style=\"white-space:pre;overflow-x:auto;line-height:normal;font-family:Menlo,'DejaVu Sans Mono',consolas,'Courier New',monospace;margin:0px\"><span style=\"background-color: #008000; font-weight: bold\"> Success </span><span style=\"color: #008000; text-decoration-color: #008000; font-weight: bold\"> Found solution for compound=C77442!</span>\n",
       "</pre>\n"
      ],
      "text/plain": [
       "\u001b[1;7;32m Success \u001b[0m\u001b[1;32m Found solution for compound=C77442!\u001b[0m\n"
      ]
     },
     "metadata": {},
     "output_type": "display_data"
    },
    {
     "data": {
      "text/html": [
       "<pre style=\"white-space:pre;overflow-x:auto;line-height:normal;font-family:Menlo,'DejaVu Sans Mono',consolas,'Courier New',monospace;margin:0px\"><span style=\"background-color: #008000; font-weight: bold\"> Success </span><span style=\"color: #008000; text-decoration-color: #008000; font-weight: bold\"> Found solution for compound=C77443!</span>\n",
       "</pre>\n"
      ],
      "text/plain": [
       "\u001b[1;7;32m Success \u001b[0m\u001b[1;32m Found solution for compound=C77443!\u001b[0m\n"
      ]
     },
     "metadata": {},
     "output_type": "display_data"
    },
    {
     "data": {
      "text/html": [
       "<pre style=\"white-space:pre;overflow-x:auto;line-height:normal;font-family:Menlo,'DejaVu Sans Mono',consolas,'Courier New',monospace;margin:0px\"><span style=\"background-color: #008000; font-weight: bold\"> Success </span><span style=\"color: #008000; text-decoration-color: #008000; font-weight: bold\"> Found solution for compound=C77444!</span>\n",
       "</pre>\n"
      ],
      "text/plain": [
       "\u001b[1;7;32m Success \u001b[0m\u001b[1;32m Found solution for compound=C77444!\u001b[0m\n"
      ]
     },
     "metadata": {},
     "output_type": "display_data"
    },
    {
     "data": {
      "text/html": [
       "<pre style=\"white-space:pre;overflow-x:auto;line-height:normal;font-family:Menlo,'DejaVu Sans Mono',consolas,'Courier New',monospace;margin:0px\"><span style=\"background-color: #008000; font-weight: bold\"> Success </span><span style=\"color: #008000; text-decoration-color: #008000; font-weight: bold\"> Found solution for compound=C77445!</span>\n",
       "</pre>\n"
      ],
      "text/plain": [
       "\u001b[1;7;32m Success \u001b[0m\u001b[1;32m Found solution for compound=C77445!\u001b[0m\n"
      ]
     },
     "metadata": {},
     "output_type": "display_data"
    },
    {
     "data": {
      "text/html": [
       "<pre style=\"white-space:pre;overflow-x:auto;line-height:normal;font-family:Menlo,'DejaVu Sans Mono',consolas,'Courier New',monospace;margin:0px\"><span style=\"background-color: #008000; font-weight: bold\"> Success </span><span style=\"color: #008000; text-decoration-color: #008000; font-weight: bold\"> Found solution for compound=C77447!</span>\n",
       "</pre>\n"
      ],
      "text/plain": [
       "\u001b[1;7;32m Success \u001b[0m\u001b[1;32m Found solution for compound=C77447!\u001b[0m\n"
      ]
     },
     "metadata": {},
     "output_type": "display_data"
    },
    {
     "data": {
      "text/html": [
       "<pre style=\"white-space:pre;overflow-x:auto;line-height:normal;font-family:Menlo,'DejaVu Sans Mono',consolas,'Courier New',monospace;margin:0px\"><span style=\"background-color: #008000; font-weight: bold\"> Success </span><span style=\"color: #008000; text-decoration-color: #008000; font-weight: bold\"> Found solution for compound=C77448!</span>\n",
       "</pre>\n"
      ],
      "text/plain": [
       "\u001b[1;7;32m Success \u001b[0m\u001b[1;32m Found solution for compound=C77448!\u001b[0m\n"
      ]
     },
     "metadata": {},
     "output_type": "display_data"
    },
    {
     "data": {
      "text/html": [
       "<pre style=\"white-space:pre;overflow-x:auto;line-height:normal;font-family:Menlo,'DejaVu Sans Mono',consolas,'Courier New',monospace;margin:0px\"><span style=\"background-color: #008000; font-weight: bold\"> Success </span><span style=\"color: #008000; text-decoration-color: #008000; font-weight: bold\"> Found solution for compound=C77449!</span>\n",
       "</pre>\n"
      ],
      "text/plain": [
       "\u001b[1;7;32m Success \u001b[0m\u001b[1;32m Found solution for compound=C77449!\u001b[0m\n"
      ]
     },
     "metadata": {},
     "output_type": "display_data"
    },
    {
     "data": {
      "text/html": [
       "<pre style=\"white-space:pre;overflow-x:auto;line-height:normal;font-family:Menlo,'DejaVu Sans Mono',consolas,'Courier New',monospace;margin:0px\"><span style=\"background-color: #008000; font-weight: bold\"> Success </span><span style=\"color: #008000; text-decoration-color: #008000; font-weight: bold\"> Found solution for compound=C77450!</span>\n",
       "</pre>\n"
      ],
      "text/plain": [
       "\u001b[1;7;32m Success \u001b[0m\u001b[1;32m Found solution for compound=C77450!\u001b[0m\n"
      ]
     },
     "metadata": {},
     "output_type": "display_data"
    },
    {
     "data": {
      "text/html": [
       "<pre style=\"white-space:pre;overflow-x:auto;line-height:normal;font-family:Menlo,'DejaVu Sans Mono',consolas,'Courier New',monospace;margin:0px\"><span style=\"background-color: #008000; font-weight: bold\"> Success </span><span style=\"color: #008000; text-decoration-color: #008000; font-weight: bold\"> Found solution for compound=C77451!</span>\n",
       "</pre>\n"
      ],
      "text/plain": [
       "\u001b[1;7;32m Success \u001b[0m\u001b[1;32m Found solution for compound=C77451!\u001b[0m\n"
      ]
     },
     "metadata": {},
     "output_type": "display_data"
    },
    {
     "data": {
      "text/html": [
       "<pre style=\"white-space:pre;overflow-x:auto;line-height:normal;font-family:Menlo,'DejaVu Sans Mono',consolas,'Courier New',monospace;margin:0px\"><span style=\"background-color: #008000; font-weight: bold\"> Success </span><span style=\"color: #008000; text-decoration-color: #008000; font-weight: bold\"> Found solution for compound=C77459!</span>\n",
       "</pre>\n"
      ],
      "text/plain": [
       "\u001b[1;7;32m Success \u001b[0m\u001b[1;32m Found solution for compound=C77459!\u001b[0m\n"
      ]
     },
     "metadata": {},
     "output_type": "display_data"
    },
    {
     "data": {
      "text/html": [
       "<pre style=\"white-space:pre;overflow-x:auto;line-height:normal;font-family:Menlo,'DejaVu Sans Mono',consolas,'Courier New',monospace;margin:0px\"><span style=\"background-color: #008000; font-weight: bold\"> Success </span><span style=\"color: #008000; text-decoration-color: #008000; font-weight: bold\"> Found solution for compound=C77469!</span>\n",
       "</pre>\n"
      ],
      "text/plain": [
       "\u001b[1;7;32m Success \u001b[0m\u001b[1;32m Found solution for compound=C77469!\u001b[0m\n"
      ]
     },
     "metadata": {},
     "output_type": "display_data"
    },
    {
     "data": {
      "text/html": [
       "<pre style=\"white-space:pre;overflow-x:auto;line-height:normal;font-family:Menlo,'DejaVu Sans Mono',consolas,'Courier New',monospace;margin:0px\"><span style=\"background-color: #008000; font-weight: bold\"> Success </span><span style=\"color: #008000; text-decoration-color: #008000; font-weight: bold\"> Found solution for compound=C77470!</span>\n",
       "</pre>\n"
      ],
      "text/plain": [
       "\u001b[1;7;32m Success \u001b[0m\u001b[1;32m Found solution for compound=C77470!\u001b[0m\n"
      ]
     },
     "metadata": {},
     "output_type": "display_data"
    },
    {
     "data": {
      "text/html": [
       "<pre style=\"white-space:pre;overflow-x:auto;line-height:normal;font-family:Menlo,'DejaVu Sans Mono',consolas,'Courier New',monospace;margin:0px\"><span style=\"background-color: #008000; font-weight: bold\"> Success </span><span style=\"color: #008000; text-decoration-color: #008000; font-weight: bold\"> Found solution for compound=C77471!</span>\n",
       "</pre>\n"
      ],
      "text/plain": [
       "\u001b[1;7;32m Success \u001b[0m\u001b[1;32m Found solution for compound=C77471!\u001b[0m\n"
      ]
     },
     "metadata": {},
     "output_type": "display_data"
    },
    {
     "data": {
      "text/html": [
       "<pre style=\"white-space:pre;overflow-x:auto;line-height:normal;font-family:Menlo,'DejaVu Sans Mono',consolas,'Courier New',monospace;margin:0px\"><span style=\"background-color: #008000; font-weight: bold\"> Success </span><span style=\"color: #008000; text-decoration-color: #008000; font-weight: bold\"> Found solution for compound=C77472!</span>\n",
       "</pre>\n"
      ],
      "text/plain": [
       "\u001b[1;7;32m Success \u001b[0m\u001b[1;32m Found solution for compound=C77472!\u001b[0m\n"
      ]
     },
     "metadata": {},
     "output_type": "display_data"
    },
    {
     "data": {
      "text/html": [
       "<pre style=\"white-space:pre;overflow-x:auto;line-height:normal;font-family:Menlo,'DejaVu Sans Mono',consolas,'Courier New',monospace;margin:0px\"><span style=\"background-color: #008000; font-weight: bold\"> Success </span><span style=\"color: #008000; text-decoration-color: #008000; font-weight: bold\"> Found solution for compound=C77473!</span>\n",
       "</pre>\n"
      ],
      "text/plain": [
       "\u001b[1;7;32m Success \u001b[0m\u001b[1;32m Found solution for compound=C77473!\u001b[0m\n"
      ]
     },
     "metadata": {},
     "output_type": "display_data"
    },
    {
     "data": {
      "text/html": [
       "<pre style=\"white-space:pre;overflow-x:auto;line-height:normal;font-family:Menlo,'DejaVu Sans Mono',consolas,'Courier New',monospace;margin:0px\"><span style=\"background-color: #008000; font-weight: bold\"> Success </span><span style=\"color: #008000; text-decoration-color: #008000; font-weight: bold\"> Found solution for compound=C77482!</span>\n",
       "</pre>\n"
      ],
      "text/plain": [
       "\u001b[1;7;32m Success \u001b[0m\u001b[1;32m Found solution for compound=C77482!\u001b[0m\n"
      ]
     },
     "metadata": {},
     "output_type": "display_data"
    },
    {
     "data": {
      "text/html": [
       "<pre style=\"white-space:pre;overflow-x:auto;line-height:normal;font-family:Menlo,'DejaVu Sans Mono',consolas,'Courier New',monospace;margin:0px\"><span style=\"background-color: #008000; font-weight: bold\"> Success </span><span style=\"color: #008000; text-decoration-color: #008000; font-weight: bold\"> Found solution for compound=C77483!</span>\n",
       "</pre>\n"
      ],
      "text/plain": [
       "\u001b[1;7;32m Success \u001b[0m\u001b[1;32m Found solution for compound=C77483!\u001b[0m\n"
      ]
     },
     "metadata": {},
     "output_type": "display_data"
    },
    {
     "data": {
      "text/html": [
       "<pre style=\"white-space:pre;overflow-x:auto;line-height:normal;font-family:Menlo,'DejaVu Sans Mono',consolas,'Courier New',monospace;margin:0px\"><span style=\"background-color: #008000; font-weight: bold\"> Success </span><span style=\"color: #008000; text-decoration-color: #008000; font-weight: bold\"> Found solution for compound=C77484!</span>\n",
       "</pre>\n"
      ],
      "text/plain": [
       "\u001b[1;7;32m Success \u001b[0m\u001b[1;32m Found solution for compound=C77484!\u001b[0m\n"
      ]
     },
     "metadata": {},
     "output_type": "display_data"
    },
    {
     "data": {
      "text/html": [
       "<pre style=\"white-space:pre;overflow-x:auto;line-height:normal;font-family:Menlo,'DejaVu Sans Mono',consolas,'Courier New',monospace;margin:0px\"><span style=\"background-color: #008000; font-weight: bold\"> Success </span><span style=\"color: #008000; text-decoration-color: #008000; font-weight: bold\"> Found solution for compound=C77485!</span>\n",
       "</pre>\n"
      ],
      "text/plain": [
       "\u001b[1;7;32m Success \u001b[0m\u001b[1;32m Found solution for compound=C77485!\u001b[0m\n"
      ]
     },
     "metadata": {},
     "output_type": "display_data"
    },
    {
     "data": {
      "text/html": [
       "<pre style=\"white-space:pre;overflow-x:auto;line-height:normal;font-family:Menlo,'DejaVu Sans Mono',consolas,'Courier New',monospace;margin:0px\"><span style=\"background-color: #008000; font-weight: bold\"> Success </span><span style=\"color: #008000; text-decoration-color: #008000; font-weight: bold\"> Found solution for compound=C77486!</span>\n",
       "</pre>\n"
      ],
      "text/plain": [
       "\u001b[1;7;32m Success \u001b[0m\u001b[1;32m Found solution for compound=C77486!\u001b[0m\n"
      ]
     },
     "metadata": {},
     "output_type": "display_data"
    },
    {
     "data": {
      "text/html": [
       "<pre style=\"white-space:pre;overflow-x:auto;line-height:normal;font-family:Menlo,'DejaVu Sans Mono',consolas,'Courier New',monospace;margin:0px\"><span style=\"background-color: #008000; font-weight: bold\"> Success </span><span style=\"color: #008000; text-decoration-color: #008000; font-weight: bold\"> Found solution for compound=C77488!</span>\n",
       "</pre>\n"
      ],
      "text/plain": [
       "\u001b[1;7;32m Success \u001b[0m\u001b[1;32m Found solution for compound=C77488!\u001b[0m\n"
      ]
     },
     "metadata": {},
     "output_type": "display_data"
    },
    {
     "data": {
      "text/html": [
       "<pre style=\"white-space:pre;overflow-x:auto;line-height:normal;font-family:Menlo,'DejaVu Sans Mono',consolas,'Courier New',monospace;margin:0px\"><span style=\"background-color: #008000; font-weight: bold\"> Success </span><span style=\"color: #008000; text-decoration-color: #008000; font-weight: bold\"> Found solution for compound=C77489!</span>\n",
       "</pre>\n"
      ],
      "text/plain": [
       "\u001b[1;7;32m Success \u001b[0m\u001b[1;32m Found solution for compound=C77489!\u001b[0m\n"
      ]
     },
     "metadata": {},
     "output_type": "display_data"
    },
    {
     "data": {
      "text/html": [
       "<pre style=\"white-space:pre;overflow-x:auto;line-height:normal;font-family:Menlo,'DejaVu Sans Mono',consolas,'Courier New',monospace;margin:0px\"><span style=\"background-color: #008000; font-weight: bold\"> Success </span><span style=\"color: #008000; text-decoration-color: #008000; font-weight: bold\"> Found solution for compound=C77490!</span>\n",
       "</pre>\n"
      ],
      "text/plain": [
       "\u001b[1;7;32m Success \u001b[0m\u001b[1;32m Found solution for compound=C77490!\u001b[0m\n"
      ]
     },
     "metadata": {},
     "output_type": "display_data"
    },
    {
     "data": {
      "text/html": [
       "<pre style=\"white-space:pre;overflow-x:auto;line-height:normal;font-family:Menlo,'DejaVu Sans Mono',consolas,'Courier New',monospace;margin:0px\"><span style=\"background-color: #008000; font-weight: bold\"> Success </span><span style=\"color: #008000; text-decoration-color: #008000; font-weight: bold\"> Found solution for compound=C77494!</span>\n",
       "</pre>\n"
      ],
      "text/plain": [
       "\u001b[1;7;32m Success \u001b[0m\u001b[1;32m Found solution for compound=C77494!\u001b[0m\n"
      ]
     },
     "metadata": {},
     "output_type": "display_data"
    },
    {
     "data": {
      "text/html": [
       "<pre style=\"white-space:pre;overflow-x:auto;line-height:normal;font-family:Menlo,'DejaVu Sans Mono',consolas,'Courier New',monospace;margin:0px\"><span style=\"background-color: #008000; font-weight: bold\"> Success </span><span style=\"color: #008000; text-decoration-color: #008000; font-weight: bold\"> Found solution for compound=C77501!</span>\n",
       "</pre>\n"
      ],
      "text/plain": [
       "\u001b[1;7;32m Success \u001b[0m\u001b[1;32m Found solution for compound=C77501!\u001b[0m\n"
      ]
     },
     "metadata": {},
     "output_type": "display_data"
    },
    {
     "data": {
      "text/html": [
       "<pre style=\"white-space:pre;overflow-x:auto;line-height:normal;font-family:Menlo,'DejaVu Sans Mono',consolas,'Courier New',monospace;margin:0px\"><span style=\"background-color: #008000; font-weight: bold\"> Success </span><span style=\"color: #008000; text-decoration-color: #008000; font-weight: bold\"> Found solution for compound=C77502!</span>\n",
       "</pre>\n"
      ],
      "text/plain": [
       "\u001b[1;7;32m Success \u001b[0m\u001b[1;32m Found solution for compound=C77502!\u001b[0m\n"
      ]
     },
     "metadata": {},
     "output_type": "display_data"
    },
    {
     "data": {
      "text/html": [
       "<pre style=\"white-space:pre;overflow-x:auto;line-height:normal;font-family:Menlo,'DejaVu Sans Mono',consolas,'Courier New',monospace;margin:0px\"><span style=\"background-color: #008000; font-weight: bold\"> Success </span><span style=\"color: #008000; text-decoration-color: #008000; font-weight: bold\"> Found solution for compound=C77503!</span>\n",
       "</pre>\n"
      ],
      "text/plain": [
       "\u001b[1;7;32m Success \u001b[0m\u001b[1;32m Found solution for compound=C77503!\u001b[0m\n"
      ]
     },
     "metadata": {},
     "output_type": "display_data"
    },
    {
     "data": {
      "text/html": [
       "<pre style=\"white-space:pre;overflow-x:auto;line-height:normal;font-family:Menlo,'DejaVu Sans Mono',consolas,'Courier New',monospace;margin:0px\"><span style=\"background-color: #008000; font-weight: bold\"> Success </span><span style=\"color: #008000; text-decoration-color: #008000; font-weight: bold\"> Found solution for compound=C77504!</span>\n",
       "</pre>\n"
      ],
      "text/plain": [
       "\u001b[1;7;32m Success \u001b[0m\u001b[1;32m Found solution for compound=C77504!\u001b[0m\n"
      ]
     },
     "metadata": {},
     "output_type": "display_data"
    },
    {
     "data": {
      "text/html": [
       "<pre style=\"white-space:pre;overflow-x:auto;line-height:normal;font-family:Menlo,'DejaVu Sans Mono',consolas,'Courier New',monospace;margin:0px\"><span style=\"background-color: #008000; font-weight: bold\"> Success </span><span style=\"color: #008000; text-decoration-color: #008000; font-weight: bold\"> Found solution for compound=C77514!</span>\n",
       "</pre>\n"
      ],
      "text/plain": [
       "\u001b[1;7;32m Success \u001b[0m\u001b[1;32m Found solution for compound=C77514!\u001b[0m\n"
      ]
     },
     "metadata": {},
     "output_type": "display_data"
    },
    {
     "data": {
      "text/html": [
       "<pre style=\"white-space:pre;overflow-x:auto;line-height:normal;font-family:Menlo,'DejaVu Sans Mono',consolas,'Courier New',monospace;margin:0px\"><span style=\"background-color: #008000; font-weight: bold\"> Success </span><span style=\"color: #008000; text-decoration-color: #008000; font-weight: bold\"> Found solution for compound=C77515!</span>\n",
       "</pre>\n"
      ],
      "text/plain": [
       "\u001b[1;7;32m Success \u001b[0m\u001b[1;32m Found solution for compound=C77515!\u001b[0m\n"
      ]
     },
     "metadata": {},
     "output_type": "display_data"
    },
    {
     "data": {
      "text/html": [
       "<pre style=\"white-space:pre;overflow-x:auto;line-height:normal;font-family:Menlo,'DejaVu Sans Mono',consolas,'Courier New',monospace;margin:0px\"><span style=\"background-color: #008000; font-weight: bold\"> Success </span><span style=\"color: #008000; text-decoration-color: #008000; font-weight: bold\"> Found solution for compound=C77516!</span>\n",
       "</pre>\n"
      ],
      "text/plain": [
       "\u001b[1;7;32m Success \u001b[0m\u001b[1;32m Found solution for compound=C77516!\u001b[0m\n"
      ]
     },
     "metadata": {},
     "output_type": "display_data"
    },
    {
     "data": {
      "text/html": [
       "<pre style=\"white-space:pre;overflow-x:auto;line-height:normal;font-family:Menlo,'DejaVu Sans Mono',consolas,'Courier New',monospace;margin:0px\"><span style=\"background-color: #008000; font-weight: bold\"> Success </span><span style=\"color: #008000; text-decoration-color: #008000; font-weight: bold\"> Found solution for compound=C77517!</span>\n",
       "</pre>\n"
      ],
      "text/plain": [
       "\u001b[1;7;32m Success \u001b[0m\u001b[1;32m Found solution for compound=C77517!\u001b[0m\n"
      ]
     },
     "metadata": {},
     "output_type": "display_data"
    },
    {
     "data": {
      "text/html": [
       "<pre style=\"white-space:pre;overflow-x:auto;line-height:normal;font-family:Menlo,'DejaVu Sans Mono',consolas,'Courier New',monospace;margin:0px\"><span style=\"background-color: #008000; font-weight: bold\"> Success </span><span style=\"color: #008000; text-decoration-color: #008000; font-weight: bold\"> Found solution for compound=C77518!</span>\n",
       "</pre>\n"
      ],
      "text/plain": [
       "\u001b[1;7;32m Success \u001b[0m\u001b[1;32m Found solution for compound=C77518!\u001b[0m\n"
      ]
     },
     "metadata": {},
     "output_type": "display_data"
    },
    {
     "data": {
      "text/html": [
       "<pre style=\"white-space:pre;overflow-x:auto;line-height:normal;font-family:Menlo,'DejaVu Sans Mono',consolas,'Courier New',monospace;margin:0px\"><span style=\"background-color: #008000; font-weight: bold\"> Success </span><span style=\"color: #008000; text-decoration-color: #008000; font-weight: bold\"> Found solution for compound=C77519!</span>\n",
       "</pre>\n"
      ],
      "text/plain": [
       "\u001b[1;7;32m Success \u001b[0m\u001b[1;32m Found solution for compound=C77519!\u001b[0m\n"
      ]
     },
     "metadata": {},
     "output_type": "display_data"
    },
    {
     "data": {
      "text/html": [
       "<pre style=\"white-space:pre;overflow-x:auto;line-height:normal;font-family:Menlo,'DejaVu Sans Mono',consolas,'Courier New',monospace;margin:0px\"><span style=\"background-color: #008000; font-weight: bold\"> Success </span><span style=\"color: #008000; text-decoration-color: #008000; font-weight: bold\"> Found solution for compound=C77529!</span>\n",
       "</pre>\n"
      ],
      "text/plain": [
       "\u001b[1;7;32m Success \u001b[0m\u001b[1;32m Found solution for compound=C77529!\u001b[0m\n"
      ]
     },
     "metadata": {},
     "output_type": "display_data"
    },
    {
     "data": {
      "text/html": [
       "<pre style=\"white-space:pre;overflow-x:auto;line-height:normal;font-family:Menlo,'DejaVu Sans Mono',consolas,'Courier New',monospace;margin:0px\"><span style=\"background-color: #008000; font-weight: bold\"> Success </span><span style=\"color: #008000; text-decoration-color: #008000; font-weight: bold\"> Found solution for compound=C77530!</span>\n",
       "</pre>\n"
      ],
      "text/plain": [
       "\u001b[1;7;32m Success \u001b[0m\u001b[1;32m Found solution for compound=C77530!\u001b[0m\n"
      ]
     },
     "metadata": {},
     "output_type": "display_data"
    },
    {
     "data": {
      "text/html": [
       "<pre style=\"white-space:pre;overflow-x:auto;line-height:normal;font-family:Menlo,'DejaVu Sans Mono',consolas,'Courier New',monospace;margin:0px\"><span style=\"background-color: #008000; font-weight: bold\"> Success </span><span style=\"color: #008000; text-decoration-color: #008000; font-weight: bold\"> Found solution for compound=C77531!</span>\n",
       "</pre>\n"
      ],
      "text/plain": [
       "\u001b[1;7;32m Success \u001b[0m\u001b[1;32m Found solution for compound=C77531!\u001b[0m\n"
      ]
     },
     "metadata": {},
     "output_type": "display_data"
    },
    {
     "data": {
      "text/html": [
       "<pre style=\"white-space:pre;overflow-x:auto;line-height:normal;font-family:Menlo,'DejaVu Sans Mono',consolas,'Courier New',monospace;margin:0px\"><span style=\"background-color: #008000; font-weight: bold\"> Success </span><span style=\"color: #008000; text-decoration-color: #008000; font-weight: bold\"> Found solution for compound=C77532!</span>\n",
       "</pre>\n"
      ],
      "text/plain": [
       "\u001b[1;7;32m Success \u001b[0m\u001b[1;32m Found solution for compound=C77532!\u001b[0m\n"
      ]
     },
     "metadata": {},
     "output_type": "display_data"
    },
    {
     "data": {
      "text/html": [
       "<pre style=\"white-space:pre;overflow-x:auto;line-height:normal;font-family:Menlo,'DejaVu Sans Mono',consolas,'Courier New',monospace;margin:0px\"><span style=\"background-color: #008000; font-weight: bold\"> Success </span><span style=\"color: #008000; text-decoration-color: #008000; font-weight: bold\"> Found solution for compound=C77533!</span>\n",
       "</pre>\n"
      ],
      "text/plain": [
       "\u001b[1;7;32m Success \u001b[0m\u001b[1;32m Found solution for compound=C77533!\u001b[0m\n"
      ]
     },
     "metadata": {},
     "output_type": "display_data"
    },
    {
     "data": {
      "text/html": [
       "<pre style=\"white-space:pre;overflow-x:auto;line-height:normal;font-family:Menlo,'DejaVu Sans Mono',consolas,'Courier New',monospace;margin:0px\"><span style=\"background-color: #008000; font-weight: bold\"> Success </span><span style=\"color: #008000; text-decoration-color: #008000; font-weight: bold\"> Found solution for compound=C77563!</span>\n",
       "</pre>\n"
      ],
      "text/plain": [
       "\u001b[1;7;32m Success \u001b[0m\u001b[1;32m Found solution for compound=C77563!\u001b[0m\n"
      ]
     },
     "metadata": {},
     "output_type": "display_data"
    },
    {
     "data": {
      "text/html": [
       "<pre style=\"white-space:pre;overflow-x:auto;line-height:normal;font-family:Menlo,'DejaVu Sans Mono',consolas,'Courier New',monospace;margin:0px\"><span style=\"background-color: #008000; font-weight: bold\"> Success </span><span style=\"color: #008000; text-decoration-color: #008000; font-weight: bold\"> Found solution for compound=C77591!</span>\n",
       "</pre>\n"
      ],
      "text/plain": [
       "\u001b[1;7;32m Success \u001b[0m\u001b[1;32m Found solution for compound=C77591!\u001b[0m\n"
      ]
     },
     "metadata": {},
     "output_type": "display_data"
    },
    {
     "data": {
      "text/html": [
       "<pre style=\"white-space:pre;overflow-x:auto;line-height:normal;font-family:Menlo,'DejaVu Sans Mono',consolas,'Courier New',monospace;margin:0px\"><span style=\"background-color: #008000; font-weight: bold\"> Success </span><span style=\"color: #008000; text-decoration-color: #008000; font-weight: bold\"> Found solution for compound=C77592!</span>\n",
       "</pre>\n"
      ],
      "text/plain": [
       "\u001b[1;7;32m Success \u001b[0m\u001b[1;32m Found solution for compound=C77592!\u001b[0m\n"
      ]
     },
     "metadata": {},
     "output_type": "display_data"
    },
    {
     "data": {
      "text/html": [
       "<pre style=\"white-space:pre;overflow-x:auto;line-height:normal;font-family:Menlo,'DejaVu Sans Mono',consolas,'Courier New',monospace;margin:0px\"><span style=\"background-color: #008000; font-weight: bold\"> Success </span><span style=\"color: #008000; text-decoration-color: #008000; font-weight: bold\"> Found solution for compound=C77593!</span>\n",
       "</pre>\n"
      ],
      "text/plain": [
       "\u001b[1;7;32m Success \u001b[0m\u001b[1;32m Found solution for compound=C77593!\u001b[0m\n"
      ]
     },
     "metadata": {},
     "output_type": "display_data"
    },
    {
     "data": {
      "text/html": [
       "<pre style=\"white-space:pre;overflow-x:auto;line-height:normal;font-family:Menlo,'DejaVu Sans Mono',consolas,'Courier New',monospace;margin:0px\"><span style=\"background-color: #008000; font-weight: bold\"> Success </span><span style=\"color: #008000; text-decoration-color: #008000; font-weight: bold\"> Found solution for compound=C77602!</span>\n",
       "</pre>\n"
      ],
      "text/plain": [
       "\u001b[1;7;32m Success \u001b[0m\u001b[1;32m Found solution for compound=C77602!\u001b[0m\n"
      ]
     },
     "metadata": {},
     "output_type": "display_data"
    },
    {
     "data": {
      "text/html": [
       "<pre style=\"white-space:pre;overflow-x:auto;line-height:normal;font-family:Menlo,'DejaVu Sans Mono',consolas,'Courier New',monospace;margin:0px\"><span style=\"background-color: #008000; font-weight: bold\"> Success </span><span style=\"color: #008000; text-decoration-color: #008000; font-weight: bold\"> Found solution for compound=C77604!</span>\n",
       "</pre>\n"
      ],
      "text/plain": [
       "\u001b[1;7;32m Success \u001b[0m\u001b[1;32m Found solution for compound=C77604!\u001b[0m\n"
      ]
     },
     "metadata": {},
     "output_type": "display_data"
    },
    {
     "data": {
      "text/html": [
       "<pre style=\"white-space:pre;overflow-x:auto;line-height:normal;font-family:Menlo,'DejaVu Sans Mono',consolas,'Courier New',monospace;margin:0px\"><span style=\"background-color: #008000; font-weight: bold\"> Success </span><span style=\"color: #008000; text-decoration-color: #008000; font-weight: bold\"> Found solution for compound=C77605!</span>\n",
       "</pre>\n"
      ],
      "text/plain": [
       "\u001b[1;7;32m Success \u001b[0m\u001b[1;32m Found solution for compound=C77605!\u001b[0m\n"
      ]
     },
     "metadata": {},
     "output_type": "display_data"
    },
    {
     "data": {
      "text/html": [
       "<pre style=\"white-space:pre;overflow-x:auto;line-height:normal;font-family:Menlo,'DejaVu Sans Mono',consolas,'Courier New',monospace;margin:0px\"><span style=\"background-color: #008000; font-weight: bold\"> Success </span><span style=\"color: #008000; text-decoration-color: #008000; font-weight: bold\"> Found solution for compound=C77606!</span>\n",
       "</pre>\n"
      ],
      "text/plain": [
       "\u001b[1;7;32m Success \u001b[0m\u001b[1;32m Found solution for compound=C77606!\u001b[0m\n"
      ]
     },
     "metadata": {},
     "output_type": "display_data"
    },
    {
     "data": {
      "text/html": [
       "<pre style=\"white-space:pre;overflow-x:auto;line-height:normal;font-family:Menlo,'DejaVu Sans Mono',consolas,'Courier New',monospace;margin:0px\"><span style=\"background-color: #008000; font-weight: bold\"> Success </span><span style=\"color: #008000; text-decoration-color: #008000; font-weight: bold\"> Found solution for compound=C77614!</span>\n",
       "</pre>\n"
      ],
      "text/plain": [
       "\u001b[1;7;32m Success \u001b[0m\u001b[1;32m Found solution for compound=C77614!\u001b[0m\n"
      ]
     },
     "metadata": {},
     "output_type": "display_data"
    },
    {
     "data": {
      "text/html": [
       "<pre style=\"white-space:pre;overflow-x:auto;line-height:normal;font-family:Menlo,'DejaVu Sans Mono',consolas,'Courier New',monospace;margin:0px\"><span style=\"background-color: #008000; font-weight: bold\"> Success </span><span style=\"color: #008000; text-decoration-color: #008000; font-weight: bold\"> Found solution for compound=C77615!</span>\n",
       "</pre>\n"
      ],
      "text/plain": [
       "\u001b[1;7;32m Success \u001b[0m\u001b[1;32m Found solution for compound=C77615!\u001b[0m\n"
      ]
     },
     "metadata": {},
     "output_type": "display_data"
    },
    {
     "data": {
      "text/html": [
       "<pre style=\"white-space:pre;overflow-x:auto;line-height:normal;font-family:Menlo,'DejaVu Sans Mono',consolas,'Courier New',monospace;margin:0px\"><span style=\"background-color: #008000; font-weight: bold\"> Success </span><span style=\"color: #008000; text-decoration-color: #008000; font-weight: bold\"> Found solution for compound=C77616!</span>\n",
       "</pre>\n"
      ],
      "text/plain": [
       "\u001b[1;7;32m Success \u001b[0m\u001b[1;32m Found solution for compound=C77616!\u001b[0m\n"
      ]
     },
     "metadata": {},
     "output_type": "display_data"
    },
    {
     "data": {
      "text/html": [
       "<pre style=\"white-space:pre;overflow-x:auto;line-height:normal;font-family:Menlo,'DejaVu Sans Mono',consolas,'Courier New',monospace;margin:0px\"><span style=\"background-color: #008000; font-weight: bold\"> Success </span><span style=\"color: #008000; text-decoration-color: #008000; font-weight: bold\"> Found solution for compound=C77617!</span>\n",
       "</pre>\n"
      ],
      "text/plain": [
       "\u001b[1;7;32m Success \u001b[0m\u001b[1;32m Found solution for compound=C77617!\u001b[0m\n"
      ]
     },
     "metadata": {},
     "output_type": "display_data"
    },
    {
     "data": {
      "text/html": [
       "<pre style=\"white-space:pre;overflow-x:auto;line-height:normal;font-family:Menlo,'DejaVu Sans Mono',consolas,'Courier New',monospace;margin:0px\"><span style=\"background-color: #008000; font-weight: bold\"> Success </span><span style=\"color: #008000; text-decoration-color: #008000; font-weight: bold\"> Found solution for compound=C77618!</span>\n",
       "</pre>\n"
      ],
      "text/plain": [
       "\u001b[1;7;32m Success \u001b[0m\u001b[1;32m Found solution for compound=C77618!\u001b[0m\n"
      ]
     },
     "metadata": {},
     "output_type": "display_data"
    },
    {
     "data": {
      "text/html": [
       "<pre style=\"white-space:pre;overflow-x:auto;line-height:normal;font-family:Menlo,'DejaVu Sans Mono',consolas,'Courier New',monospace;margin:0px\"><span style=\"background-color: #008000; font-weight: bold\"> Success </span><span style=\"color: #008000; text-decoration-color: #008000; font-weight: bold\"> Found solution for compound=C77619!</span>\n",
       "</pre>\n"
      ],
      "text/plain": [
       "\u001b[1;7;32m Success \u001b[0m\u001b[1;32m Found solution for compound=C77619!\u001b[0m\n"
      ]
     },
     "metadata": {},
     "output_type": "display_data"
    },
    {
     "data": {
      "text/html": [
       "<pre style=\"white-space:pre;overflow-x:auto;line-height:normal;font-family:Menlo,'DejaVu Sans Mono',consolas,'Courier New',monospace;margin:0px\"><span style=\"background-color: #008000; font-weight: bold\"> Success </span><span style=\"color: #008000; text-decoration-color: #008000; font-weight: bold\"> Found solution for compound=C77620!</span>\n",
       "</pre>\n"
      ],
      "text/plain": [
       "\u001b[1;7;32m Success \u001b[0m\u001b[1;32m Found solution for compound=C77620!\u001b[0m\n"
      ]
     },
     "metadata": {},
     "output_type": "display_data"
    },
    {
     "data": {
      "text/html": [
       "<pre style=\"white-space:pre;overflow-x:auto;line-height:normal;font-family:Menlo,'DejaVu Sans Mono',consolas,'Courier New',monospace;margin:0px\"><span style=\"background-color: #008000; font-weight: bold\"> Success </span><span style=\"color: #008000; text-decoration-color: #008000; font-weight: bold\"> Found solution for compound=C77621!</span>\n",
       "</pre>\n"
      ],
      "text/plain": [
       "\u001b[1;7;32m Success \u001b[0m\u001b[1;32m Found solution for compound=C77621!\u001b[0m\n"
      ]
     },
     "metadata": {},
     "output_type": "display_data"
    },
    {
     "data": {
      "text/html": [
       "<pre style=\"white-space:pre;overflow-x:auto;line-height:normal;font-family:Menlo,'DejaVu Sans Mono',consolas,'Courier New',monospace;margin:0px\"><span style=\"background-color: #008000; font-weight: bold\"> Success </span><span style=\"color: #008000; text-decoration-color: #008000; font-weight: bold\"> Found solution for compound=C77632!</span>\n",
       "</pre>\n"
      ],
      "text/plain": [
       "\u001b[1;7;32m Success \u001b[0m\u001b[1;32m Found solution for compound=C77632!\u001b[0m\n"
      ]
     },
     "metadata": {},
     "output_type": "display_data"
    },
    {
     "data": {
      "text/html": [
       "<pre style=\"white-space:pre;overflow-x:auto;line-height:normal;font-family:Menlo,'DejaVu Sans Mono',consolas,'Courier New',monospace;margin:0px\"><span style=\"background-color: #008000; font-weight: bold\"> Success </span><span style=\"color: #008000; text-decoration-color: #008000; font-weight: bold\"> Found solution for compound=C77633!</span>\n",
       "</pre>\n"
      ],
      "text/plain": [
       "\u001b[1;7;32m Success \u001b[0m\u001b[1;32m Found solution for compound=C77633!\u001b[0m\n"
      ]
     },
     "metadata": {},
     "output_type": "display_data"
    },
    {
     "data": {
      "text/html": [
       "<pre style=\"white-space:pre;overflow-x:auto;line-height:normal;font-family:Menlo,'DejaVu Sans Mono',consolas,'Courier New',monospace;margin:0px\"><span style=\"background-color: #008000; font-weight: bold\"> Success </span><span style=\"color: #008000; text-decoration-color: #008000; font-weight: bold\"> Found solution for compound=C77634!</span>\n",
       "</pre>\n"
      ],
      "text/plain": [
       "\u001b[1;7;32m Success \u001b[0m\u001b[1;32m Found solution for compound=C77634!\u001b[0m\n"
      ]
     },
     "metadata": {},
     "output_type": "display_data"
    },
    {
     "data": {
      "text/html": [
       "<pre style=\"white-space:pre;overflow-x:auto;line-height:normal;font-family:Menlo,'DejaVu Sans Mono',consolas,'Courier New',monospace;margin:0px\"><span style=\"background-color: #008000; font-weight: bold\"> Success </span><span style=\"color: #008000; text-decoration-color: #008000; font-weight: bold\"> Found solution for compound=C77635!</span>\n",
       "</pre>\n"
      ],
      "text/plain": [
       "\u001b[1;7;32m Success \u001b[0m\u001b[1;32m Found solution for compound=C77635!\u001b[0m\n"
      ]
     },
     "metadata": {},
     "output_type": "display_data"
    },
    {
     "data": {
      "text/html": [
       "<pre style=\"white-space:pre;overflow-x:auto;line-height:normal;font-family:Menlo,'DejaVu Sans Mono',consolas,'Courier New',monospace;margin:0px\"><span style=\"background-color: #008000; font-weight: bold\"> Success </span><span style=\"color: #008000; text-decoration-color: #008000; font-weight: bold\"> Found solution for compound=C77644!</span>\n",
       "</pre>\n"
      ],
      "text/plain": [
       "\u001b[1;7;32m Success \u001b[0m\u001b[1;32m Found solution for compound=C77644!\u001b[0m\n"
      ]
     },
     "metadata": {},
     "output_type": "display_data"
    },
    {
     "data": {
      "text/html": [
       "<pre style=\"white-space:pre;overflow-x:auto;line-height:normal;font-family:Menlo,'DejaVu Sans Mono',consolas,'Courier New',monospace;margin:0px\"><span style=\"background-color: #008000; font-weight: bold\"> Success </span><span style=\"color: #008000; text-decoration-color: #008000; font-weight: bold\"> Found solution for compound=C77645!</span>\n",
       "</pre>\n"
      ],
      "text/plain": [
       "\u001b[1;7;32m Success \u001b[0m\u001b[1;32m Found solution for compound=C77645!\u001b[0m\n"
      ]
     },
     "metadata": {},
     "output_type": "display_data"
    },
    {
     "data": {
      "text/html": [
       "<pre style=\"white-space:pre;overflow-x:auto;line-height:normal;font-family:Menlo,'DejaVu Sans Mono',consolas,'Courier New',monospace;margin:0px\"><span style=\"background-color: #008000; font-weight: bold\"> Success </span><span style=\"color: #008000; text-decoration-color: #008000; font-weight: bold\"> Found solution for compound=C77647!</span>\n",
       "</pre>\n"
      ],
      "text/plain": [
       "\u001b[1;7;32m Success \u001b[0m\u001b[1;32m Found solution for compound=C77647!\u001b[0m\n"
      ]
     },
     "metadata": {},
     "output_type": "display_data"
    },
    {
     "data": {
      "text/html": [
       "<pre style=\"white-space:pre;overflow-x:auto;line-height:normal;font-family:Menlo,'DejaVu Sans Mono',consolas,'Courier New',monospace;margin:0px\"><span style=\"background-color: #008000; font-weight: bold\"> Success </span><span style=\"color: #008000; text-decoration-color: #008000; font-weight: bold\"> Found solution for compound=C77653!</span>\n",
       "</pre>\n"
      ],
      "text/plain": [
       "\u001b[1;7;32m Success \u001b[0m\u001b[1;32m Found solution for compound=C77653!\u001b[0m\n"
      ]
     },
     "metadata": {},
     "output_type": "display_data"
    },
    {
     "data": {
      "text/html": [
       "<pre style=\"white-space:pre;overflow-x:auto;line-height:normal;font-family:Menlo,'DejaVu Sans Mono',consolas,'Courier New',monospace;margin:0px\"><span style=\"background-color: #008000; font-weight: bold\"> Success </span><span style=\"color: #008000; text-decoration-color: #008000; font-weight: bold\"> Found solution for compound=C77654!</span>\n",
       "</pre>\n"
      ],
      "text/plain": [
       "\u001b[1;7;32m Success \u001b[0m\u001b[1;32m Found solution for compound=C77654!\u001b[0m\n"
      ]
     },
     "metadata": {},
     "output_type": "display_data"
    },
    {
     "data": {
      "text/html": [
       "<pre style=\"white-space:pre;overflow-x:auto;line-height:normal;font-family:Menlo,'DejaVu Sans Mono',consolas,'Courier New',monospace;margin:0px\"><span style=\"background-color: #008000; font-weight: bold\"> Success </span><span style=\"color: #008000; text-decoration-color: #008000; font-weight: bold\"> Found solution for compound=C77666!</span>\n",
       "</pre>\n"
      ],
      "text/plain": [
       "\u001b[1;7;32m Success \u001b[0m\u001b[1;32m Found solution for compound=C77666!\u001b[0m\n"
      ]
     },
     "metadata": {},
     "output_type": "display_data"
    },
    {
     "data": {
      "text/html": [
       "<pre style=\"white-space:pre;overflow-x:auto;line-height:normal;font-family:Menlo,'DejaVu Sans Mono',consolas,'Courier New',monospace;margin:0px\"><span style=\"background-color: #008000; font-weight: bold\"> Success </span><span style=\"color: #008000; text-decoration-color: #008000; font-weight: bold\"> Found solution for compound=C77667!</span>\n",
       "</pre>\n"
      ],
      "text/plain": [
       "\u001b[1;7;32m Success \u001b[0m\u001b[1;32m Found solution for compound=C77667!\u001b[0m\n"
      ]
     },
     "metadata": {},
     "output_type": "display_data"
    },
    {
     "data": {
      "text/html": [
       "<pre style=\"white-space:pre;overflow-x:auto;line-height:normal;font-family:Menlo,'DejaVu Sans Mono',consolas,'Courier New',monospace;margin:0px\"><span style=\"background-color: #008000; font-weight: bold\"> Success </span><span style=\"color: #008000; text-decoration-color: #008000; font-weight: bold\"> Found solution for compound=C77668!</span>\n",
       "</pre>\n"
      ],
      "text/plain": [
       "\u001b[1;7;32m Success \u001b[0m\u001b[1;32m Found solution for compound=C77668!\u001b[0m\n"
      ]
     },
     "metadata": {},
     "output_type": "display_data"
    },
    {
     "data": {
      "text/html": [
       "<pre style=\"white-space:pre;overflow-x:auto;line-height:normal;font-family:Menlo,'DejaVu Sans Mono',consolas,'Courier New',monospace;margin:0px\"><span style=\"background-color: #008000; font-weight: bold\"> Success </span><span style=\"color: #008000; text-decoration-color: #008000; font-weight: bold\"> Found solution for compound=C77669!</span>\n",
       "</pre>\n"
      ],
      "text/plain": [
       "\u001b[1;7;32m Success \u001b[0m\u001b[1;32m Found solution for compound=C77669!\u001b[0m\n"
      ]
     },
     "metadata": {},
     "output_type": "display_data"
    },
    {
     "data": {
      "text/html": [
       "<pre style=\"white-space:pre;overflow-x:auto;line-height:normal;font-family:Menlo,'DejaVu Sans Mono',consolas,'Courier New',monospace;margin:0px\"><span style=\"background-color: #008000; font-weight: bold\"> Success </span><span style=\"color: #008000; text-decoration-color: #008000; font-weight: bold\"> Found solution for compound=C77680!</span>\n",
       "</pre>\n"
      ],
      "text/plain": [
       "\u001b[1;7;32m Success \u001b[0m\u001b[1;32m Found solution for compound=C77680!\u001b[0m\n"
      ]
     },
     "metadata": {},
     "output_type": "display_data"
    },
    {
     "data": {
      "text/html": [
       "<pre style=\"white-space:pre;overflow-x:auto;line-height:normal;font-family:Menlo,'DejaVu Sans Mono',consolas,'Courier New',monospace;margin:0px\"><span style=\"background-color: #008000; font-weight: bold\"> Success </span><span style=\"color: #008000; text-decoration-color: #008000; font-weight: bold\"> Found solution for compound=C77681!</span>\n",
       "</pre>\n"
      ],
      "text/plain": [
       "\u001b[1;7;32m Success \u001b[0m\u001b[1;32m Found solution for compound=C77681!\u001b[0m\n"
      ]
     },
     "metadata": {},
     "output_type": "display_data"
    },
    {
     "data": {
      "text/html": [
       "<pre style=\"white-space:pre;overflow-x:auto;line-height:normal;font-family:Menlo,'DejaVu Sans Mono',consolas,'Courier New',monospace;margin:0px\"><span style=\"background-color: #008000; font-weight: bold\"> Success </span><span style=\"color: #008000; text-decoration-color: #008000; font-weight: bold\"> Found solution for compound=C77682!</span>\n",
       "</pre>\n"
      ],
      "text/plain": [
       "\u001b[1;7;32m Success \u001b[0m\u001b[1;32m Found solution for compound=C77682!\u001b[0m\n"
      ]
     },
     "metadata": {},
     "output_type": "display_data"
    },
    {
     "data": {
      "text/html": [
       "<pre style=\"white-space:pre;overflow-x:auto;line-height:normal;font-family:Menlo,'DejaVu Sans Mono',consolas,'Courier New',monospace;margin:0px\"><span style=\"background-color: #008000; font-weight: bold\"> Success </span><span style=\"color: #008000; text-decoration-color: #008000; font-weight: bold\"> Found solution for compound=C77684!</span>\n",
       "</pre>\n"
      ],
      "text/plain": [
       "\u001b[1;7;32m Success \u001b[0m\u001b[1;32m Found solution for compound=C77684!\u001b[0m\n"
      ]
     },
     "metadata": {},
     "output_type": "display_data"
    },
    {
     "data": {
      "text/html": [
       "<pre style=\"white-space:pre;overflow-x:auto;line-height:normal;font-family:Menlo,'DejaVu Sans Mono',consolas,'Courier New',monospace;margin:0px\"><span style=\"background-color: #008000; font-weight: bold\"> Success </span><span style=\"color: #008000; text-decoration-color: #008000; font-weight: bold\"> Found solution for compound=C77686!</span>\n",
       "</pre>\n"
      ],
      "text/plain": [
       "\u001b[1;7;32m Success \u001b[0m\u001b[1;32m Found solution for compound=C77686!\u001b[0m\n"
      ]
     },
     "metadata": {},
     "output_type": "display_data"
    },
    {
     "data": {
      "text/html": [
       "<pre style=\"white-space:pre;overflow-x:auto;line-height:normal;font-family:Menlo,'DejaVu Sans Mono',consolas,'Courier New',monospace;margin:0px\"><span style=\"background-color: #008000; font-weight: bold\"> Success </span><span style=\"color: #008000; text-decoration-color: #008000; font-weight: bold\"> Found solution for compound=C77687!</span>\n",
       "</pre>\n"
      ],
      "text/plain": [
       "\u001b[1;7;32m Success \u001b[0m\u001b[1;32m Found solution for compound=C77687!\u001b[0m\n"
      ]
     },
     "metadata": {},
     "output_type": "display_data"
    },
    {
     "data": {
      "text/html": [
       "<pre style=\"white-space:pre;overflow-x:auto;line-height:normal;font-family:Menlo,'DejaVu Sans Mono',consolas,'Courier New',monospace;margin:0px\"><span style=\"background-color: #008000; font-weight: bold\"> Success </span><span style=\"color: #008000; text-decoration-color: #008000; font-weight: bold\"> Found solution for compound=C77688!</span>\n",
       "</pre>\n"
      ],
      "text/plain": [
       "\u001b[1;7;32m Success \u001b[0m\u001b[1;32m Found solution for compound=C77688!\u001b[0m\n"
      ]
     },
     "metadata": {},
     "output_type": "display_data"
    },
    {
     "data": {
      "text/html": [
       "<pre style=\"white-space:pre;overflow-x:auto;line-height:normal;font-family:Menlo,'DejaVu Sans Mono',consolas,'Courier New',monospace;margin:0px\"><span style=\"background-color: #008000; font-weight: bold\"> Success </span><span style=\"color: #008000; text-decoration-color: #008000; font-weight: bold\"> Found solution for compound=C77689!</span>\n",
       "</pre>\n"
      ],
      "text/plain": [
       "\u001b[1;7;32m Success \u001b[0m\u001b[1;32m Found solution for compound=C77689!\u001b[0m\n"
      ]
     },
     "metadata": {},
     "output_type": "display_data"
    },
    {
     "data": {
      "text/html": [
       "<pre style=\"white-space:pre;overflow-x:auto;line-height:normal;font-family:Menlo,'DejaVu Sans Mono',consolas,'Courier New',monospace;margin:0px\"><span style=\"background-color: #008000; font-weight: bold\"> Success </span><span style=\"color: #008000; text-decoration-color: #008000; font-weight: bold\"> Found solution for compound=C77690!</span>\n",
       "</pre>\n"
      ],
      "text/plain": [
       "\u001b[1;7;32m Success \u001b[0m\u001b[1;32m Found solution for compound=C77690!\u001b[0m\n"
      ]
     },
     "metadata": {},
     "output_type": "display_data"
    },
    {
     "data": {
      "text/html": [
       "<pre style=\"white-space:pre;overflow-x:auto;line-height:normal;font-family:Menlo,'DejaVu Sans Mono',consolas,'Courier New',monospace;margin:0px\"><span style=\"background-color: #008000; font-weight: bold\"> Success </span><span style=\"color: #008000; text-decoration-color: #008000; font-weight: bold\"> Found solution for compound=C77691!</span>\n",
       "</pre>\n"
      ],
      "text/plain": [
       "\u001b[1;7;32m Success \u001b[0m\u001b[1;32m Found solution for compound=C77691!\u001b[0m\n"
      ]
     },
     "metadata": {},
     "output_type": "display_data"
    },
    {
     "data": {
      "text/html": [
       "<pre style=\"white-space:pre;overflow-x:auto;line-height:normal;font-family:Menlo,'DejaVu Sans Mono',consolas,'Courier New',monospace;margin:0px\"><span style=\"background-color: #008000; font-weight: bold\"> Success </span><span style=\"color: #008000; text-decoration-color: #008000; font-weight: bold\"> Found solution for compound=C77692!</span>\n",
       "</pre>\n"
      ],
      "text/plain": [
       "\u001b[1;7;32m Success \u001b[0m\u001b[1;32m Found solution for compound=C77692!\u001b[0m\n"
      ]
     },
     "metadata": {},
     "output_type": "display_data"
    },
    {
     "data": {
      "text/html": [
       "<pre style=\"white-space:pre;overflow-x:auto;line-height:normal;font-family:Menlo,'DejaVu Sans Mono',consolas,'Courier New',monospace;margin:0px\"><span style=\"background-color: #008000; font-weight: bold\"> Success </span><span style=\"color: #008000; text-decoration-color: #008000; font-weight: bold\"> Found solution for compound=C77693!</span>\n",
       "</pre>\n"
      ],
      "text/plain": [
       "\u001b[1;7;32m Success \u001b[0m\u001b[1;32m Found solution for compound=C77693!\u001b[0m\n"
      ]
     },
     "metadata": {},
     "output_type": "display_data"
    },
    {
     "data": {
      "text/html": [
       "<pre style=\"white-space:pre;overflow-x:auto;line-height:normal;font-family:Menlo,'DejaVu Sans Mono',consolas,'Courier New',monospace;margin:0px\"><span style=\"background-color: #008000; font-weight: bold\"> Success </span><span style=\"color: #008000; text-decoration-color: #008000; font-weight: bold\"> Found solution for compound=C77694!</span>\n",
       "</pre>\n"
      ],
      "text/plain": [
       "\u001b[1;7;32m Success \u001b[0m\u001b[1;32m Found solution for compound=C77694!\u001b[0m\n"
      ]
     },
     "metadata": {},
     "output_type": "display_data"
    },
    {
     "data": {
      "text/html": [
       "<pre style=\"white-space:pre;overflow-x:auto;line-height:normal;font-family:Menlo,'DejaVu Sans Mono',consolas,'Courier New',monospace;margin:0px\"><span style=\"background-color: #008000; font-weight: bold\"> Success </span><span style=\"color: #008000; text-decoration-color: #008000; font-weight: bold\"> Found solution for compound=C77695!</span>\n",
       "</pre>\n"
      ],
      "text/plain": [
       "\u001b[1;7;32m Success \u001b[0m\u001b[1;32m Found solution for compound=C77695!\u001b[0m\n"
      ]
     },
     "metadata": {},
     "output_type": "display_data"
    },
    {
     "data": {
      "text/html": [
       "<pre style=\"white-space:pre;overflow-x:auto;line-height:normal;font-family:Menlo,'DejaVu Sans Mono',consolas,'Courier New',monospace;margin:0px\"><span style=\"background-color: #008000; font-weight: bold\"> Success </span><span style=\"color: #008000; text-decoration-color: #008000; font-weight: bold\"> Found solution for compound=C77696!</span>\n",
       "</pre>\n"
      ],
      "text/plain": [
       "\u001b[1;7;32m Success \u001b[0m\u001b[1;32m Found solution for compound=C77696!\u001b[0m\n"
      ]
     },
     "metadata": {},
     "output_type": "display_data"
    },
    {
     "data": {
      "text/html": [
       "<pre style=\"white-space:pre;overflow-x:auto;line-height:normal;font-family:Menlo,'DejaVu Sans Mono',consolas,'Courier New',monospace;margin:0px\"><span style=\"background-color: #008000; font-weight: bold\"> Success </span><span style=\"color: #008000; text-decoration-color: #008000; font-weight: bold\"> Found solution for compound=C77697!</span>\n",
       "</pre>\n"
      ],
      "text/plain": [
       "\u001b[1;7;32m Success \u001b[0m\u001b[1;32m Found solution for compound=C77697!\u001b[0m\n"
      ]
     },
     "metadata": {},
     "output_type": "display_data"
    },
    {
     "data": {
      "text/html": [
       "<pre style=\"white-space:pre;overflow-x:auto;line-height:normal;font-family:Menlo,'DejaVu Sans Mono',consolas,'Courier New',monospace;margin:0px\"><span style=\"background-color: #008000; font-weight: bold\"> Success </span><span style=\"color: #008000; text-decoration-color: #008000; font-weight: bold\"> Found solution for compound=C77698!</span>\n",
       "</pre>\n"
      ],
      "text/plain": [
       "\u001b[1;7;32m Success \u001b[0m\u001b[1;32m Found solution for compound=C77698!\u001b[0m\n"
      ]
     },
     "metadata": {},
     "output_type": "display_data"
    },
    {
     "data": {
      "text/html": [
       "<pre style=\"white-space:pre;overflow-x:auto;line-height:normal;font-family:Menlo,'DejaVu Sans Mono',consolas,'Courier New',monospace;margin:0px\"><span style=\"background-color: #008000; font-weight: bold\"> Success </span><span style=\"color: #008000; text-decoration-color: #008000; font-weight: bold\"> Found solution for compound=C77699!</span>\n",
       "</pre>\n"
      ],
      "text/plain": [
       "\u001b[1;7;32m Success \u001b[0m\u001b[1;32m Found solution for compound=C77699!\u001b[0m\n"
      ]
     },
     "metadata": {},
     "output_type": "display_data"
    },
    {
     "data": {
      "text/html": [
       "<pre style=\"white-space:pre;overflow-x:auto;line-height:normal;font-family:Menlo,'DejaVu Sans Mono',consolas,'Courier New',monospace;margin:0px\"><span style=\"background-color: #008000; font-weight: bold\"> Success </span><span style=\"color: #008000; text-decoration-color: #008000; font-weight: bold\"> Found solution for compound=C77700!</span>\n",
       "</pre>\n"
      ],
      "text/plain": [
       "\u001b[1;7;32m Success \u001b[0m\u001b[1;32m Found solution for compound=C77700!\u001b[0m\n"
      ]
     },
     "metadata": {},
     "output_type": "display_data"
    },
    {
     "data": {
      "text/html": [
       "<pre style=\"white-space:pre;overflow-x:auto;line-height:normal;font-family:Menlo,'DejaVu Sans Mono',consolas,'Courier New',monospace;margin:0px\"><span style=\"background-color: #008000; font-weight: bold\"> Success </span><span style=\"color: #008000; text-decoration-color: #008000; font-weight: bold\"> Found solution for compound=C77701!</span>\n",
       "</pre>\n"
      ],
      "text/plain": [
       "\u001b[1;7;32m Success \u001b[0m\u001b[1;32m Found solution for compound=C77701!\u001b[0m\n"
      ]
     },
     "metadata": {},
     "output_type": "display_data"
    },
    {
     "data": {
      "text/html": [
       "<pre style=\"white-space:pre;overflow-x:auto;line-height:normal;font-family:Menlo,'DejaVu Sans Mono',consolas,'Courier New',monospace;margin:0px\"><span style=\"background-color: #008000; font-weight: bold\"> Success </span><span style=\"color: #008000; text-decoration-color: #008000; font-weight: bold\"> Found solution for compound=C78594!</span>\n",
       "</pre>\n"
      ],
      "text/plain": [
       "\u001b[1;7;32m Success \u001b[0m\u001b[1;32m Found solution for compound=C78594!\u001b[0m\n"
      ]
     },
     "metadata": {},
     "output_type": "display_data"
    },
    {
     "data": {
      "text/html": [
       "<pre style=\"white-space:pre;overflow-x:auto;line-height:normal;font-family:Menlo,'DejaVu Sans Mono',consolas,'Courier New',monospace;margin:0px\"><span style=\"background-color: #008000; font-weight: bold\"> Success </span><span style=\"color: #008000; text-decoration-color: #008000; font-weight: bold\"> Found solution for compound=C78595!</span>\n",
       "</pre>\n"
      ],
      "text/plain": [
       "\u001b[1;7;32m Success \u001b[0m\u001b[1;32m Found solution for compound=C78595!\u001b[0m\n"
      ]
     },
     "metadata": {},
     "output_type": "display_data"
    },
    {
     "data": {
      "text/html": [
       "<pre style=\"white-space:pre;overflow-x:auto;line-height:normal;font-family:Menlo,'DejaVu Sans Mono',consolas,'Courier New',monospace;margin:0px\"><span style=\"background-color: #008000; font-weight: bold\"> Success </span><span style=\"color: #008000; text-decoration-color: #008000; font-weight: bold\"> Found solution for compound=C78596!</span>\n",
       "</pre>\n"
      ],
      "text/plain": [
       "\u001b[1;7;32m Success \u001b[0m\u001b[1;32m Found solution for compound=C78596!\u001b[0m\n"
      ]
     },
     "metadata": {},
     "output_type": "display_data"
    },
    {
     "data": {
      "text/html": [
       "<pre style=\"white-space:pre;overflow-x:auto;line-height:normal;font-family:Menlo,'DejaVu Sans Mono',consolas,'Courier New',monospace;margin:0px\"><span style=\"background-color: #008000; font-weight: bold\"> Success </span><span style=\"color: #008000; text-decoration-color: #008000; font-weight: bold\"> Found solution for compound=C78597!</span>\n",
       "</pre>\n"
      ],
      "text/plain": [
       "\u001b[1;7;32m Success \u001b[0m\u001b[1;32m Found solution for compound=C78597!\u001b[0m\n"
      ]
     },
     "metadata": {},
     "output_type": "display_data"
    },
    {
     "data": {
      "text/html": [
       "<pre style=\"white-space:pre;overflow-x:auto;line-height:normal;font-family:Menlo,'DejaVu Sans Mono',consolas,'Courier New',monospace;margin:0px\"><span style=\"background-color: #008000; font-weight: bold\"> Success </span><span style=\"color: #008000; text-decoration-color: #008000; font-weight: bold\"> Found solution for compound=C78598!</span>\n",
       "</pre>\n"
      ],
      "text/plain": [
       "\u001b[1;7;32m Success \u001b[0m\u001b[1;32m Found solution for compound=C78598!\u001b[0m\n"
      ]
     },
     "metadata": {},
     "output_type": "display_data"
    },
    {
     "data": {
      "text/html": [
       "<pre style=\"white-space:pre;overflow-x:auto;line-height:normal;font-family:Menlo,'DejaVu Sans Mono',consolas,'Courier New',monospace;margin:0px\"><span style=\"background-color: #008000; font-weight: bold\"> Success </span><span style=\"color: #008000; text-decoration-color: #008000; font-weight: bold\"> Found solution for compound=C78599!</span>\n",
       "</pre>\n"
      ],
      "text/plain": [
       "\u001b[1;7;32m Success \u001b[0m\u001b[1;32m Found solution for compound=C78599!\u001b[0m\n"
      ]
     },
     "metadata": {},
     "output_type": "display_data"
    },
    {
     "data": {
      "text/html": [
       "<pre style=\"white-space:pre;overflow-x:auto;line-height:normal;font-family:Menlo,'DejaVu Sans Mono',consolas,'Courier New',monospace;margin:0px\"><span style=\"background-color: #008000; font-weight: bold\"> Success </span><span style=\"color: #008000; text-decoration-color: #008000; font-weight: bold\"> Found solution for compound=C78600!</span>\n",
       "</pre>\n"
      ],
      "text/plain": [
       "\u001b[1;7;32m Success \u001b[0m\u001b[1;32m Found solution for compound=C78600!\u001b[0m\n"
      ]
     },
     "metadata": {},
     "output_type": "display_data"
    },
    {
     "data": {
      "text/html": [
       "<pre style=\"white-space:pre;overflow-x:auto;line-height:normal;font-family:Menlo,'DejaVu Sans Mono',consolas,'Courier New',monospace;margin:0px\"><span style=\"background-color: #008000; font-weight: bold\"> Success </span><span style=\"color: #008000; text-decoration-color: #008000; font-weight: bold\"> Found solution for compound=C78601!</span>\n",
       "</pre>\n"
      ],
      "text/plain": [
       "\u001b[1;7;32m Success \u001b[0m\u001b[1;32m Found solution for compound=C78601!\u001b[0m\n"
      ]
     },
     "metadata": {},
     "output_type": "display_data"
    },
    {
     "data": {
      "text/html": [
       "<pre style=\"white-space:pre;overflow-x:auto;line-height:normal;font-family:Menlo,'DejaVu Sans Mono',consolas,'Courier New',monospace;margin:0px\"><span style=\"background-color: #008000; font-weight: bold\"> Success </span><span style=\"color: #008000; text-decoration-color: #008000; font-weight: bold\"> Found solution for compound=C78602!</span>\n",
       "</pre>\n"
      ],
      "text/plain": [
       "\u001b[1;7;32m Success \u001b[0m\u001b[1;32m Found solution for compound=C78602!\u001b[0m\n"
      ]
     },
     "metadata": {},
     "output_type": "display_data"
    },
    {
     "data": {
      "text/html": [
       "<pre style=\"white-space:pre;overflow-x:auto;line-height:normal;font-family:Menlo,'DejaVu Sans Mono',consolas,'Courier New',monospace;margin:0px\"><span style=\"background-color: #008000; font-weight: bold\"> Success </span><span style=\"color: #008000; text-decoration-color: #008000; font-weight: bold\"> Found solution for compound=C78603!</span>\n",
       "</pre>\n"
      ],
      "text/plain": [
       "\u001b[1;7;32m Success \u001b[0m\u001b[1;32m Found solution for compound=C78603!\u001b[0m\n"
      ]
     },
     "metadata": {},
     "output_type": "display_data"
    },
    {
     "data": {
      "text/html": [
       "<pre style=\"white-space:pre;overflow-x:auto;line-height:normal;font-family:Menlo,'DejaVu Sans Mono',consolas,'Courier New',monospace;margin:0px\"><span style=\"background-color: #008000; font-weight: bold\"> Success </span><span style=\"color: #008000; text-decoration-color: #008000; font-weight: bold\"> Found solution for compound=C79528!</span>\n",
       "</pre>\n"
      ],
      "text/plain": [
       "\u001b[1;7;32m Success \u001b[0m\u001b[1;32m Found solution for compound=C79528!\u001b[0m\n"
      ]
     },
     "metadata": {},
     "output_type": "display_data"
    },
    {
     "data": {
      "text/html": [
       "<pre style=\"white-space:pre;overflow-x:auto;line-height:normal;font-family:Menlo,'DejaVu Sans Mono',consolas,'Courier New',monospace;margin:0px\"><span style=\"background-color: #008000; font-weight: bold\"> Success </span><span style=\"color: #008000; text-decoration-color: #008000; font-weight: bold\"> Found solution for compound=C79529!</span>\n",
       "</pre>\n"
      ],
      "text/plain": [
       "\u001b[1;7;32m Success \u001b[0m\u001b[1;32m Found solution for compound=C79529!\u001b[0m\n"
      ]
     },
     "metadata": {},
     "output_type": "display_data"
    },
    {
     "data": {
      "text/html": [
       "<pre style=\"white-space:pre;overflow-x:auto;line-height:normal;font-family:Menlo,'DejaVu Sans Mono',consolas,'Courier New',monospace;margin:0px\"><span style=\"background-color: #008000; font-weight: bold\"> Success </span><span style=\"color: #008000; text-decoration-color: #008000; font-weight: bold\"> Found solution for compound=C79532!</span>\n",
       "</pre>\n"
      ],
      "text/plain": [
       "\u001b[1;7;32m Success \u001b[0m\u001b[1;32m Found solution for compound=C79532!\u001b[0m\n"
      ]
     },
     "metadata": {},
     "output_type": "display_data"
    },
    {
     "data": {
      "text/html": [
       "<pre style=\"white-space:pre;overflow-x:auto;line-height:normal;font-family:Menlo,'DejaVu Sans Mono',consolas,'Courier New',monospace;margin:0px\"><span style=\"background-color: #008000; font-weight: bold\"> Success </span><span style=\"color: #008000; text-decoration-color: #008000; font-weight: bold\"> Found solution for compound=C79541!</span>\n",
       "</pre>\n"
      ],
      "text/plain": [
       "\u001b[1;7;32m Success \u001b[0m\u001b[1;32m Found solution for compound=C79541!\u001b[0m\n"
      ]
     },
     "metadata": {},
     "output_type": "display_data"
    },
    {
     "data": {
      "text/html": [
       "<pre style=\"white-space:pre;overflow-x:auto;line-height:normal;font-family:Menlo,'DejaVu Sans Mono',consolas,'Courier New',monospace;margin:0px\"><span style=\"background-color: #008000; font-weight: bold\"> Success </span><span style=\"color: #008000; text-decoration-color: #008000; font-weight: bold\"> Found solution for compound=C79542!</span>\n",
       "</pre>\n"
      ],
      "text/plain": [
       "\u001b[1;7;32m Success \u001b[0m\u001b[1;32m Found solution for compound=C79542!\u001b[0m\n"
      ]
     },
     "metadata": {},
     "output_type": "display_data"
    },
    {
     "data": {
      "text/html": [
       "<pre style=\"white-space:pre;overflow-x:auto;line-height:normal;font-family:Menlo,'DejaVu Sans Mono',consolas,'Courier New',monospace;margin:0px\"><span style=\"background-color: #008000; font-weight: bold\"> Success </span><span style=\"color: #008000; text-decoration-color: #008000; font-weight: bold\"> Found solution for compound=C79556!</span>\n",
       "</pre>\n"
      ],
      "text/plain": [
       "\u001b[1;7;32m Success \u001b[0m\u001b[1;32m Found solution for compound=C79556!\u001b[0m\n"
      ]
     },
     "metadata": {},
     "output_type": "display_data"
    },
    {
     "data": {
      "text/html": [
       "<pre style=\"white-space:pre;overflow-x:auto;line-height:normal;font-family:Menlo,'DejaVu Sans Mono',consolas,'Courier New',monospace;margin:0px\"><span style=\"background-color: #008000; font-weight: bold\"> Success </span><span style=\"color: #008000; text-decoration-color: #008000; font-weight: bold\"> Found solution for compound=C79557!</span>\n",
       "</pre>\n"
      ],
      "text/plain": [
       "\u001b[1;7;32m Success \u001b[0m\u001b[1;32m Found solution for compound=C79557!\u001b[0m\n"
      ]
     },
     "metadata": {},
     "output_type": "display_data"
    },
    {
     "data": {
      "text/html": [
       "<pre style=\"white-space:pre;overflow-x:auto;line-height:normal;font-family:Menlo,'DejaVu Sans Mono',consolas,'Courier New',monospace;margin:0px\"><span style=\"background-color: #008000; font-weight: bold\"> Success </span><span style=\"color: #008000; text-decoration-color: #008000; font-weight: bold\"> Found solution for compound=C79558!</span>\n",
       "</pre>\n"
      ],
      "text/plain": [
       "\u001b[1;7;32m Success \u001b[0m\u001b[1;32m Found solution for compound=C79558!\u001b[0m\n"
      ]
     },
     "metadata": {},
     "output_type": "display_data"
    },
    {
     "data": {
      "text/html": [
       "<pre style=\"white-space:pre;overflow-x:auto;line-height:normal;font-family:Menlo,'DejaVu Sans Mono',consolas,'Courier New',monospace;margin:0px\"><span style=\"background-color: #008000; font-weight: bold\"> Success </span><span style=\"color: #008000; text-decoration-color: #008000; font-weight: bold\"> Found solution for compound=C79560!</span>\n",
       "</pre>\n"
      ],
      "text/plain": [
       "\u001b[1;7;32m Success \u001b[0m\u001b[1;32m Found solution for compound=C79560!\u001b[0m\n"
      ]
     },
     "metadata": {},
     "output_type": "display_data"
    },
    {
     "data": {
      "text/html": [
       "<pre style=\"white-space:pre;overflow-x:auto;line-height:normal;font-family:Menlo,'DejaVu Sans Mono',consolas,'Courier New',monospace;margin:0px\"><span style=\"background-color: #008000; font-weight: bold\"> Success </span><span style=\"color: #008000; text-decoration-color: #008000; font-weight: bold\"> Found solution for compound=C79580!</span>\n",
       "</pre>\n"
      ],
      "text/plain": [
       "\u001b[1;7;32m Success \u001b[0m\u001b[1;32m Found solution for compound=C79580!\u001b[0m\n"
      ]
     },
     "metadata": {},
     "output_type": "display_data"
    },
    {
     "data": {
      "text/html": [
       "<pre style=\"white-space:pre;overflow-x:auto;line-height:normal;font-family:Menlo,'DejaVu Sans Mono',consolas,'Courier New',monospace;margin:0px\"><span style=\"background-color: #008000; font-weight: bold\"> Success </span><span style=\"color: #008000; text-decoration-color: #008000; font-weight: bold\"> Found solution for compound=C79581!</span>\n",
       "</pre>\n"
      ],
      "text/plain": [
       "\u001b[1;7;32m Success \u001b[0m\u001b[1;32m Found solution for compound=C79581!\u001b[0m\n"
      ]
     },
     "metadata": {},
     "output_type": "display_data"
    },
    {
     "data": {
      "text/html": [
       "<pre style=\"white-space:pre;overflow-x:auto;line-height:normal;font-family:Menlo,'DejaVu Sans Mono',consolas,'Courier New',monospace;margin:0px\"><span style=\"background-color: #008000; font-weight: bold\"> Success </span><span style=\"color: #008000; text-decoration-color: #008000; font-weight: bold\"> Found solution for compound=C79582!</span>\n",
       "</pre>\n"
      ],
      "text/plain": [
       "\u001b[1;7;32m Success \u001b[0m\u001b[1;32m Found solution for compound=C79582!\u001b[0m\n"
      ]
     },
     "metadata": {},
     "output_type": "display_data"
    },
    {
     "data": {
      "text/html": [
       "<pre style=\"white-space:pre;overflow-x:auto;line-height:normal;font-family:Menlo,'DejaVu Sans Mono',consolas,'Courier New',monospace;margin:0px\"><span style=\"background-color: #008000; font-weight: bold\"> Success </span><span style=\"color: #008000; text-decoration-color: #008000; font-weight: bold\"> Found solution for compound=C79583!</span>\n",
       "</pre>\n"
      ],
      "text/plain": [
       "\u001b[1;7;32m Success \u001b[0m\u001b[1;32m Found solution for compound=C79583!\u001b[0m\n"
      ]
     },
     "metadata": {},
     "output_type": "display_data"
    },
    {
     "data": {
      "text/html": [
       "<pre style=\"white-space:pre;overflow-x:auto;line-height:normal;font-family:Menlo,'DejaVu Sans Mono',consolas,'Courier New',monospace;margin:0px\"><span style=\"background-color: #008000; font-weight: bold\"> Success </span><span style=\"color: #008000; text-decoration-color: #008000; font-weight: bold\"> Found solution for compound=C79584!</span>\n",
       "</pre>\n"
      ],
      "text/plain": [
       "\u001b[1;7;32m Success \u001b[0m\u001b[1;32m Found solution for compound=C79584!\u001b[0m\n"
      ]
     },
     "metadata": {},
     "output_type": "display_data"
    },
    {
     "data": {
      "text/html": [
       "<pre style=\"white-space:pre;overflow-x:auto;line-height:normal;font-family:Menlo,'DejaVu Sans Mono',consolas,'Courier New',monospace;margin:0px\"><span style=\"background-color: #008000; font-weight: bold\"> Success </span><span style=\"color: #008000; text-decoration-color: #008000; font-weight: bold\"> Found solution for compound=C79586!</span>\n",
       "</pre>\n"
      ],
      "text/plain": [
       "\u001b[1;7;32m Success \u001b[0m\u001b[1;32m Found solution for compound=C79586!\u001b[0m\n"
      ]
     },
     "metadata": {},
     "output_type": "display_data"
    },
    {
     "data": {
      "text/html": [
       "<pre style=\"white-space:pre;overflow-x:auto;line-height:normal;font-family:Menlo,'DejaVu Sans Mono',consolas,'Courier New',monospace;margin:0px\"><span style=\"background-color: #008000; font-weight: bold\"> Success </span><span style=\"color: #008000; text-decoration-color: #008000; font-weight: bold\"> Found solution for compound=C79587!</span>\n",
       "</pre>\n"
      ],
      "text/plain": [
       "\u001b[1;7;32m Success \u001b[0m\u001b[1;32m Found solution for compound=C79587!\u001b[0m\n"
      ]
     },
     "metadata": {},
     "output_type": "display_data"
    },
    {
     "data": {
      "text/html": [
       "<pre style=\"white-space:pre;overflow-x:auto;line-height:normal;font-family:Menlo,'DejaVu Sans Mono',consolas,'Courier New',monospace;margin:0px\"><span style=\"background-color: #008000; font-weight: bold\"> Success </span><span style=\"color: #008000; text-decoration-color: #008000; font-weight: bold\"> Found solution for compound=C79588!</span>\n",
       "</pre>\n"
      ],
      "text/plain": [
       "\u001b[1;7;32m Success \u001b[0m\u001b[1;32m Found solution for compound=C79588!\u001b[0m\n"
      ]
     },
     "metadata": {},
     "output_type": "display_data"
    },
    {
     "data": {
      "text/html": [
       "<pre style=\"white-space:pre;overflow-x:auto;line-height:normal;font-family:Menlo,'DejaVu Sans Mono',consolas,'Courier New',monospace;margin:0px\"><span style=\"background-color: #008000; font-weight: bold\"> Success </span><span style=\"color: #008000; text-decoration-color: #008000; font-weight: bold\"> Found solution for compound=C79589!</span>\n",
       "</pre>\n"
      ],
      "text/plain": [
       "\u001b[1;7;32m Success \u001b[0m\u001b[1;32m Found solution for compound=C79589!\u001b[0m\n"
      ]
     },
     "metadata": {},
     "output_type": "display_data"
    },
    {
     "data": {
      "text/html": [
       "<pre style=\"white-space:pre;overflow-x:auto;line-height:normal;font-family:Menlo,'DejaVu Sans Mono',consolas,'Courier New',monospace;margin:0px\"><span style=\"background-color: #008000; font-weight: bold\"> Success </span><span style=\"color: #008000; text-decoration-color: #008000; font-weight: bold\"> Found solution for compound=C79590!</span>\n",
       "</pre>\n"
      ],
      "text/plain": [
       "\u001b[1;7;32m Success \u001b[0m\u001b[1;32m Found solution for compound=C79590!\u001b[0m\n"
      ]
     },
     "metadata": {},
     "output_type": "display_data"
    },
    {
     "data": {
      "text/html": [
       "<pre style=\"white-space:pre;overflow-x:auto;line-height:normal;font-family:Menlo,'DejaVu Sans Mono',consolas,'Courier New',monospace;margin:0px\"><span style=\"background-color: #008000; font-weight: bold\"> Success </span><span style=\"color: #008000; text-decoration-color: #008000; font-weight: bold\"> Found solution for compound=C79591!</span>\n",
       "</pre>\n"
      ],
      "text/plain": [
       "\u001b[1;7;32m Success \u001b[0m\u001b[1;32m Found solution for compound=C79591!\u001b[0m\n"
      ]
     },
     "metadata": {},
     "output_type": "display_data"
    },
    {
     "data": {
      "text/html": [
       "<pre style=\"white-space:pre;overflow-x:auto;line-height:normal;font-family:Menlo,'DejaVu Sans Mono',consolas,'Courier New',monospace;margin:0px\"><span style=\"background-color: #008000; font-weight: bold\"> Success </span><span style=\"color: #008000; text-decoration-color: #008000; font-weight: bold\"> Found solution for compound=C79592!</span>\n",
       "</pre>\n"
      ],
      "text/plain": [
       "\u001b[1;7;32m Success \u001b[0m\u001b[1;32m Found solution for compound=C79592!\u001b[0m\n"
      ]
     },
     "metadata": {},
     "output_type": "display_data"
    },
    {
     "data": {
      "text/html": [
       "<pre style=\"white-space:pre;overflow-x:auto;line-height:normal;font-family:Menlo,'DejaVu Sans Mono',consolas,'Courier New',monospace;margin:0px\"><span style=\"background-color: #008000; font-weight: bold\"> Success </span><span style=\"color: #008000; text-decoration-color: #008000; font-weight: bold\"> Found solution for compound=C79593!</span>\n",
       "</pre>\n"
      ],
      "text/plain": [
       "\u001b[1;7;32m Success \u001b[0m\u001b[1;32m Found solution for compound=C79593!\u001b[0m\n"
      ]
     },
     "metadata": {},
     "output_type": "display_data"
    },
    {
     "data": {
      "text/html": [
       "<pre style=\"white-space:pre;overflow-x:auto;line-height:normal;font-family:Menlo,'DejaVu Sans Mono',consolas,'Courier New',monospace;margin:0px\"><span style=\"background-color: #008000; font-weight: bold\"> Success </span><span style=\"color: #008000; text-decoration-color: #008000; font-weight: bold\"> Found solution for compound=C79811!</span>\n",
       "</pre>\n"
      ],
      "text/plain": [
       "\u001b[1;7;32m Success \u001b[0m\u001b[1;32m Found solution for compound=C79811!\u001b[0m\n"
      ]
     },
     "metadata": {},
     "output_type": "display_data"
    },
    {
     "data": {
      "text/html": [
       "<pre style=\"white-space:pre;overflow-x:auto;line-height:normal;font-family:Menlo,'DejaVu Sans Mono',consolas,'Courier New',monospace;margin:0px\"><span style=\"background-color: #008000; font-weight: bold\"> Success </span><span style=\"color: #008000; text-decoration-color: #008000; font-weight: bold\"> Found solution for compound=C79826!</span>\n",
       "</pre>\n"
      ],
      "text/plain": [
       "\u001b[1;7;32m Success \u001b[0m\u001b[1;32m Found solution for compound=C79826!\u001b[0m\n"
      ]
     },
     "metadata": {},
     "output_type": "display_data"
    },
    {
     "data": {
      "text/html": [
       "<pre style=\"white-space:pre;overflow-x:auto;line-height:normal;font-family:Menlo,'DejaVu Sans Mono',consolas,'Courier New',monospace;margin:0px\"><span style=\"background-color: #008000; font-weight: bold\"> Success </span><span style=\"color: #008000; text-decoration-color: #008000; font-weight: bold\"> Found solution for compound=C79827!</span>\n",
       "</pre>\n"
      ],
      "text/plain": [
       "\u001b[1;7;32m Success \u001b[0m\u001b[1;32m Found solution for compound=C79827!\u001b[0m\n"
      ]
     },
     "metadata": {},
     "output_type": "display_data"
    },
    {
     "data": {
      "text/html": [
       "<pre style=\"white-space:pre;overflow-x:auto;line-height:normal;font-family:Menlo,'DejaVu Sans Mono',consolas,'Courier New',monospace;margin:0px\"><span style=\"background-color: #008000; font-weight: bold\"> Success </span><span style=\"color: #008000; text-decoration-color: #008000; font-weight: bold\"> Found solution for compound=C79828!</span>\n",
       "</pre>\n"
      ],
      "text/plain": [
       "\u001b[1;7;32m Success \u001b[0m\u001b[1;32m Found solution for compound=C79828!\u001b[0m\n"
      ]
     },
     "metadata": {},
     "output_type": "display_data"
    },
    {
     "data": {
      "text/html": [
       "<pre style=\"white-space:pre;overflow-x:auto;line-height:normal;font-family:Menlo,'DejaVu Sans Mono',consolas,'Courier New',monospace;margin:0px\"><span style=\"background-color: #008000; font-weight: bold\"> Success </span><span style=\"color: #008000; text-decoration-color: #008000; font-weight: bold\"> Found solution for compound=C79829!</span>\n",
       "</pre>\n"
      ],
      "text/plain": [
       "\u001b[1;7;32m Success \u001b[0m\u001b[1;32m Found solution for compound=C79829!\u001b[0m\n"
      ]
     },
     "metadata": {},
     "output_type": "display_data"
    },
    {
     "data": {
      "text/html": [
       "<pre style=\"white-space:pre;overflow-x:auto;line-height:normal;font-family:Menlo,'DejaVu Sans Mono',consolas,'Courier New',monospace;margin:0px\"><span style=\"background-color: #008000; font-weight: bold\"> Success </span><span style=\"color: #008000; text-decoration-color: #008000; font-weight: bold\"> Found solution for compound=C79830!</span>\n",
       "</pre>\n"
      ],
      "text/plain": [
       "\u001b[1;7;32m Success \u001b[0m\u001b[1;32m Found solution for compound=C79830!\u001b[0m\n"
      ]
     },
     "metadata": {},
     "output_type": "display_data"
    },
    {
     "data": {
      "text/html": [
       "<pre style=\"white-space:pre;overflow-x:auto;line-height:normal;font-family:Menlo,'DejaVu Sans Mono',consolas,'Courier New',monospace;margin:0px\"><span style=\"background-color: #008000; font-weight: bold\"> Success </span><span style=\"color: #008000; text-decoration-color: #008000; font-weight: bold\"> Found solution for compound=C79831!</span>\n",
       "</pre>\n"
      ],
      "text/plain": [
       "\u001b[1;7;32m Success \u001b[0m\u001b[1;32m Found solution for compound=C79831!\u001b[0m\n"
      ]
     },
     "metadata": {},
     "output_type": "display_data"
    },
    {
     "data": {
      "text/html": [
       "<pre style=\"white-space:pre;overflow-x:auto;line-height:normal;font-family:Menlo,'DejaVu Sans Mono',consolas,'Courier New',monospace;margin:0px\"><span style=\"background-color: #008000; font-weight: bold\"> Success </span><span style=\"color: #008000; text-decoration-color: #008000; font-weight: bold\"> Found solution for compound=C79832!</span>\n",
       "</pre>\n"
      ],
      "text/plain": [
       "\u001b[1;7;32m Success \u001b[0m\u001b[1;32m Found solution for compound=C79832!\u001b[0m\n"
      ]
     },
     "metadata": {},
     "output_type": "display_data"
    },
    {
     "data": {
      "text/html": [
       "<pre style=\"white-space:pre;overflow-x:auto;line-height:normal;font-family:Menlo,'DejaVu Sans Mono',consolas,'Courier New',monospace;margin:0px\"><span style=\"background-color: #008000; font-weight: bold\"> Success </span><span style=\"color: #008000; text-decoration-color: #008000; font-weight: bold\"> Found solution for compound=C79833!</span>\n",
       "</pre>\n"
      ],
      "text/plain": [
       "\u001b[1;7;32m Success \u001b[0m\u001b[1;32m Found solution for compound=C79833!\u001b[0m\n"
      ]
     },
     "metadata": {},
     "output_type": "display_data"
    },
    {
     "data": {
      "text/html": [
       "<pre style=\"white-space:pre;overflow-x:auto;line-height:normal;font-family:Menlo,'DejaVu Sans Mono',consolas,'Courier New',monospace;margin:0px\"><span style=\"background-color: #008000; font-weight: bold\"> Success </span><span style=\"color: #008000; text-decoration-color: #008000; font-weight: bold\"> Found solution for compound=C79834!</span>\n",
       "</pre>\n"
      ],
      "text/plain": [
       "\u001b[1;7;32m Success \u001b[0m\u001b[1;32m Found solution for compound=C79834!\u001b[0m\n"
      ]
     },
     "metadata": {},
     "output_type": "display_data"
    },
    {
     "data": {
      "text/html": [
       "<pre style=\"white-space:pre;overflow-x:auto;line-height:normal;font-family:Menlo,'DejaVu Sans Mono',consolas,'Courier New',monospace;margin:0px\"><span style=\"background-color: #008000; font-weight: bold\"> Success </span><span style=\"color: #008000; text-decoration-color: #008000; font-weight: bold\"> Found solution for compound=C79835!</span>\n",
       "</pre>\n"
      ],
      "text/plain": [
       "\u001b[1;7;32m Success \u001b[0m\u001b[1;32m Found solution for compound=C79835!\u001b[0m\n"
      ]
     },
     "metadata": {},
     "output_type": "display_data"
    },
    {
     "data": {
      "text/html": [
       "<pre style=\"white-space:pre;overflow-x:auto;line-height:normal;font-family:Menlo,'DejaVu Sans Mono',consolas,'Courier New',monospace;margin:0px\"><span style=\"background-color: #008000; font-weight: bold\"> Success </span><span style=\"color: #008000; text-decoration-color: #008000; font-weight: bold\"> Found solution for compound=C79836!</span>\n",
       "</pre>\n"
      ],
      "text/plain": [
       "\u001b[1;7;32m Success \u001b[0m\u001b[1;32m Found solution for compound=C79836!\u001b[0m\n"
      ]
     },
     "metadata": {},
     "output_type": "display_data"
    },
    {
     "data": {
      "text/html": [
       "<pre style=\"white-space:pre;overflow-x:auto;line-height:normal;font-family:Menlo,'DejaVu Sans Mono',consolas,'Courier New',monospace;margin:0px\"><span style=\"background-color: #008000; font-weight: bold\"> Success </span><span style=\"color: #008000; text-decoration-color: #008000; font-weight: bold\"> Found solution for compound=C79837!</span>\n",
       "</pre>\n"
      ],
      "text/plain": [
       "\u001b[1;7;32m Success \u001b[0m\u001b[1;32m Found solution for compound=C79837!\u001b[0m\n"
      ]
     },
     "metadata": {},
     "output_type": "display_data"
    },
    {
     "data": {
      "text/html": [
       "<pre style=\"white-space:pre;overflow-x:auto;line-height:normal;font-family:Menlo,'DejaVu Sans Mono',consolas,'Courier New',monospace;margin:0px\"><span style=\"background-color: #008000; font-weight: bold\"> Success </span><span style=\"color: #008000; text-decoration-color: #008000; font-weight: bold\"> Found solution for compound=C79839!</span>\n",
       "</pre>\n"
      ],
      "text/plain": [
       "\u001b[1;7;32m Success \u001b[0m\u001b[1;32m Found solution for compound=C79839!\u001b[0m\n"
      ]
     },
     "metadata": {},
     "output_type": "display_data"
    },
    {
     "data": {
      "text/html": [
       "<pre style=\"white-space:pre;overflow-x:auto;line-height:normal;font-family:Menlo,'DejaVu Sans Mono',consolas,'Courier New',monospace;margin:0px\"><span style=\"background-color: #008000; font-weight: bold\"> Success </span><span style=\"color: #008000; text-decoration-color: #008000; font-weight: bold\"> Found solution for compound=C79926!</span>\n",
       "</pre>\n"
      ],
      "text/plain": [
       "\u001b[1;7;32m Success \u001b[0m\u001b[1;32m Found solution for compound=C79926!\u001b[0m\n"
      ]
     },
     "metadata": {},
     "output_type": "display_data"
    },
    {
     "data": {
      "text/html": [
       "<pre style=\"white-space:pre;overflow-x:auto;line-height:normal;font-family:Menlo,'DejaVu Sans Mono',consolas,'Courier New',monospace;margin:0px\"><span style=\"background-color: #008000; font-weight: bold\"> Success </span><span style=\"color: #008000; text-decoration-color: #008000; font-weight: bold\"> Found solution for compound=C79927!</span>\n",
       "</pre>\n"
      ],
      "text/plain": [
       "\u001b[1;7;32m Success \u001b[0m\u001b[1;32m Found solution for compound=C79927!\u001b[0m\n"
      ]
     },
     "metadata": {},
     "output_type": "display_data"
    },
    {
     "data": {
      "text/html": [
       "<pre style=\"white-space:pre;overflow-x:auto;line-height:normal;font-family:Menlo,'DejaVu Sans Mono',consolas,'Courier New',monospace;margin:0px\"><span style=\"background-color: #008000; font-weight: bold\"> Success </span><span style=\"color: #008000; text-decoration-color: #008000; font-weight: bold\"> Found solution for compound=C79928!</span>\n",
       "</pre>\n"
      ],
      "text/plain": [
       "\u001b[1;7;32m Success \u001b[0m\u001b[1;32m Found solution for compound=C79928!\u001b[0m\n"
      ]
     },
     "metadata": {},
     "output_type": "display_data"
    },
    {
     "data": {
      "text/html": [
       "<pre style=\"white-space:pre;overflow-x:auto;line-height:normal;font-family:Menlo,'DejaVu Sans Mono',consolas,'Courier New',monospace;margin:0px\"><span style=\"background-color: #008000; font-weight: bold\"> Success </span><span style=\"color: #008000; text-decoration-color: #008000; font-weight: bold\"> Found solution for compound=C79929!</span>\n",
       "</pre>\n"
      ],
      "text/plain": [
       "\u001b[1;7;32m Success \u001b[0m\u001b[1;32m Found solution for compound=C79929!\u001b[0m\n"
      ]
     },
     "metadata": {},
     "output_type": "display_data"
    },
    {
     "data": {
      "text/html": [
       "<pre style=\"white-space:pre;overflow-x:auto;line-height:normal;font-family:Menlo,'DejaVu Sans Mono',consolas,'Courier New',monospace;margin:0px\"><span style=\"background-color: #008000; font-weight: bold\"> Success </span><span style=\"color: #008000; text-decoration-color: #008000; font-weight: bold\"> Found solution for compound=C79942!</span>\n",
       "</pre>\n"
      ],
      "text/plain": [
       "\u001b[1;7;32m Success \u001b[0m\u001b[1;32m Found solution for compound=C79942!\u001b[0m\n"
      ]
     },
     "metadata": {},
     "output_type": "display_data"
    },
    {
     "data": {
      "text/html": [
       "<pre style=\"white-space:pre;overflow-x:auto;line-height:normal;font-family:Menlo,'DejaVu Sans Mono',consolas,'Courier New',monospace;margin:0px\"><span style=\"background-color: #008000; font-weight: bold\"> Success </span><span style=\"color: #008000; text-decoration-color: #008000; font-weight: bold\"> Found solution for compound=C79946!</span>\n",
       "</pre>\n"
      ],
      "text/plain": [
       "\u001b[1;7;32m Success \u001b[0m\u001b[1;32m Found solution for compound=C79946!\u001b[0m\n"
      ]
     },
     "metadata": {},
     "output_type": "display_data"
    },
    {
     "data": {
      "text/html": [
       "<pre style=\"white-space:pre;overflow-x:auto;line-height:normal;font-family:Menlo,'DejaVu Sans Mono',consolas,'Courier New',monospace;margin:0px\"><span style=\"background-color: #008000; font-weight: bold\"> Success </span><span style=\"color: #008000; text-decoration-color: #008000; font-weight: bold\"> Found solution for compound=C79947!</span>\n",
       "</pre>\n"
      ],
      "text/plain": [
       "\u001b[1;7;32m Success \u001b[0m\u001b[1;32m Found solution for compound=C79947!\u001b[0m\n"
      ]
     },
     "metadata": {},
     "output_type": "display_data"
    },
    {
     "data": {
      "text/html": [
       "<pre style=\"white-space:pre;overflow-x:auto;line-height:normal;font-family:Menlo,'DejaVu Sans Mono',consolas,'Courier New',monospace;margin:0px\"><span style=\"background-color: #008000; font-weight: bold\"> Success </span><span style=\"color: #008000; text-decoration-color: #008000; font-weight: bold\"> Found solution for compound=C79949!</span>\n",
       "</pre>\n"
      ],
      "text/plain": [
       "\u001b[1;7;32m Success \u001b[0m\u001b[1;32m Found solution for compound=C79949!\u001b[0m\n"
      ]
     },
     "metadata": {},
     "output_type": "display_data"
    },
    {
     "data": {
      "text/html": [
       "<pre style=\"white-space:pre;overflow-x:auto;line-height:normal;font-family:Menlo,'DejaVu Sans Mono',consolas,'Courier New',monospace;margin:0px\"><span style=\"background-color: #008000; font-weight: bold\"> Success </span><span style=\"color: #008000; text-decoration-color: #008000; font-weight: bold\"> Found solution for compound=C79950!</span>\n",
       "</pre>\n"
      ],
      "text/plain": [
       "\u001b[1;7;32m Success \u001b[0m\u001b[1;32m Found solution for compound=C79950!\u001b[0m\n"
      ]
     },
     "metadata": {},
     "output_type": "display_data"
    },
    {
     "data": {
      "text/html": [
       "<pre style=\"white-space:pre;overflow-x:auto;line-height:normal;font-family:Menlo,'DejaVu Sans Mono',consolas,'Courier New',monospace;margin:0px\"><span style=\"background-color: #008000; font-weight: bold\"> Success </span><span style=\"color: #008000; text-decoration-color: #008000; font-weight: bold\"> Found solution for compound=C79951!</span>\n",
       "</pre>\n"
      ],
      "text/plain": [
       "\u001b[1;7;32m Success \u001b[0m\u001b[1;32m Found solution for compound=C79951!\u001b[0m\n"
      ]
     },
     "metadata": {},
     "output_type": "display_data"
    },
    {
     "data": {
      "text/html": [
       "<pre style=\"white-space:pre;overflow-x:auto;line-height:normal;font-family:Menlo,'DejaVu Sans Mono',consolas,'Courier New',monospace;margin:0px\"><span style=\"background-color: #008000; font-weight: bold\"> Success </span><span style=\"color: #008000; text-decoration-color: #008000; font-weight: bold\"> Found solution for compound=C79952!</span>\n",
       "</pre>\n"
      ],
      "text/plain": [
       "\u001b[1;7;32m Success \u001b[0m\u001b[1;32m Found solution for compound=C79952!\u001b[0m\n"
      ]
     },
     "metadata": {},
     "output_type": "display_data"
    },
    {
     "data": {
      "text/html": [
       "<pre style=\"white-space:pre;overflow-x:auto;line-height:normal;font-family:Menlo,'DejaVu Sans Mono',consolas,'Courier New',monospace;margin:0px\"><span style=\"background-color: #008000; font-weight: bold\"> Success </span><span style=\"color: #008000; text-decoration-color: #008000; font-weight: bold\"> Found solution for compound=C79953!</span>\n",
       "</pre>\n"
      ],
      "text/plain": [
       "\u001b[1;7;32m Success \u001b[0m\u001b[1;32m Found solution for compound=C79953!\u001b[0m\n"
      ]
     },
     "metadata": {},
     "output_type": "display_data"
    },
    {
     "data": {
      "text/html": [
       "<pre style=\"white-space:pre;overflow-x:auto;line-height:normal;font-family:Menlo,'DejaVu Sans Mono',consolas,'Courier New',monospace;margin:0px\"><span style=\"background-color: #008000; font-weight: bold\"> Success </span><span style=\"color: #008000; text-decoration-color: #008000; font-weight: bold\"> Found solution for compound=C79954!</span>\n",
       "</pre>\n"
      ],
      "text/plain": [
       "\u001b[1;7;32m Success \u001b[0m\u001b[1;32m Found solution for compound=C79954!\u001b[0m\n"
      ]
     },
     "metadata": {},
     "output_type": "display_data"
    },
    {
     "data": {
      "text/html": [
       "<pre style=\"white-space:pre;overflow-x:auto;line-height:normal;font-family:Menlo,'DejaVu Sans Mono',consolas,'Courier New',monospace;margin:0px\"><span style=\"background-color: #008000; font-weight: bold\"> Success </span><span style=\"color: #008000; text-decoration-color: #008000; font-weight: bold\"> Found solution for compound=C79955!</span>\n",
       "</pre>\n"
      ],
      "text/plain": [
       "\u001b[1;7;32m Success \u001b[0m\u001b[1;32m Found solution for compound=C79955!\u001b[0m\n"
      ]
     },
     "metadata": {},
     "output_type": "display_data"
    },
    {
     "data": {
      "text/html": [
       "<pre style=\"white-space:pre;overflow-x:auto;line-height:normal;font-family:Menlo,'DejaVu Sans Mono',consolas,'Courier New',monospace;margin:0px\"><span style=\"background-color: #008000; font-weight: bold\"> Success </span><span style=\"color: #008000; text-decoration-color: #008000; font-weight: bold\"> Found solution for compound=C79956!</span>\n",
       "</pre>\n"
      ],
      "text/plain": [
       "\u001b[1;7;32m Success \u001b[0m\u001b[1;32m Found solution for compound=C79956!\u001b[0m\n"
      ]
     },
     "metadata": {},
     "output_type": "display_data"
    },
    {
     "data": {
      "text/html": [
       "<pre style=\"white-space:pre;overflow-x:auto;line-height:normal;font-family:Menlo,'DejaVu Sans Mono',consolas,'Courier New',monospace;margin:0px\"><span style=\"background-color: #008000; font-weight: bold\"> Success </span><span style=\"color: #008000; text-decoration-color: #008000; font-weight: bold\"> Found solution for compound=C79957!</span>\n",
       "</pre>\n"
      ],
      "text/plain": [
       "\u001b[1;7;32m Success \u001b[0m\u001b[1;32m Found solution for compound=C79957!\u001b[0m\n"
      ]
     },
     "metadata": {},
     "output_type": "display_data"
    },
    {
     "data": {
      "text/html": [
       "<pre style=\"white-space:pre;overflow-x:auto;line-height:normal;font-family:Menlo,'DejaVu Sans Mono',consolas,'Courier New',monospace;margin:0px\"><span style=\"background-color: #008000; font-weight: bold\"> Success </span><span style=\"color: #008000; text-decoration-color: #008000; font-weight: bold\"> Found solution for compound=C79958!</span>\n",
       "</pre>\n"
      ],
      "text/plain": [
       "\u001b[1;7;32m Success \u001b[0m\u001b[1;32m Found solution for compound=C79958!\u001b[0m\n"
      ]
     },
     "metadata": {},
     "output_type": "display_data"
    },
    {
     "data": {
      "text/html": [
       "<pre style=\"white-space:pre;overflow-x:auto;line-height:normal;font-family:Menlo,'DejaVu Sans Mono',consolas,'Courier New',monospace;margin:0px\"><span style=\"background-color: #008000; font-weight: bold\"> Success </span><span style=\"color: #008000; text-decoration-color: #008000; font-weight: bold\"> Found solution for compound=C79959!</span>\n",
       "</pre>\n"
      ],
      "text/plain": [
       "\u001b[1;7;32m Success \u001b[0m\u001b[1;32m Found solution for compound=C79959!\u001b[0m\n"
      ]
     },
     "metadata": {},
     "output_type": "display_data"
    },
    {
     "data": {
      "text/html": [
       "<pre style=\"white-space:pre;overflow-x:auto;line-height:normal;font-family:Menlo,'DejaVu Sans Mono',consolas,'Courier New',monospace;margin:0px\"><span style=\"background-color: #008000; font-weight: bold\"> Success </span><span style=\"color: #008000; text-decoration-color: #008000; font-weight: bold\"> Found solution for compound=C79960!</span>\n",
       "</pre>\n"
      ],
      "text/plain": [
       "\u001b[1;7;32m Success \u001b[0m\u001b[1;32m Found solution for compound=C79960!\u001b[0m\n"
      ]
     },
     "metadata": {},
     "output_type": "display_data"
    },
    {
     "data": {
      "text/html": [
       "<pre style=\"white-space:pre;overflow-x:auto;line-height:normal;font-family:Menlo,'DejaVu Sans Mono',consolas,'Courier New',monospace;margin:0px\"><span style=\"background-color: #008000; font-weight: bold\"> Success </span><span style=\"color: #008000; text-decoration-color: #008000; font-weight: bold\"> Found solution for compound=C79961!</span>\n",
       "</pre>\n"
      ],
      "text/plain": [
       "\u001b[1;7;32m Success \u001b[0m\u001b[1;32m Found solution for compound=C79961!\u001b[0m\n"
      ]
     },
     "metadata": {},
     "output_type": "display_data"
    },
    {
     "data": {
      "text/html": [
       "<pre style=\"white-space:pre;overflow-x:auto;line-height:normal;font-family:Menlo,'DejaVu Sans Mono',consolas,'Courier New',monospace;margin:0px\"><span style=\"background-color: #008000; font-weight: bold\"> Success </span><span style=\"color: #008000; text-decoration-color: #008000; font-weight: bold\"> Found solution for compound=C79962!</span>\n",
       "</pre>\n"
      ],
      "text/plain": [
       "\u001b[1;7;32m Success \u001b[0m\u001b[1;32m Found solution for compound=C79962!\u001b[0m\n"
      ]
     },
     "metadata": {},
     "output_type": "display_data"
    },
    {
     "data": {
      "text/html": [
       "<pre style=\"white-space:pre;overflow-x:auto;line-height:normal;font-family:Menlo,'DejaVu Sans Mono',consolas,'Courier New',monospace;margin:0px\"><span style=\"background-color: #008000; font-weight: bold\"> Success </span><span style=\"color: #008000; text-decoration-color: #008000; font-weight: bold\"> Found solution for compound=C79963!</span>\n",
       "</pre>\n"
      ],
      "text/plain": [
       "\u001b[1;7;32m Success \u001b[0m\u001b[1;32m Found solution for compound=C79963!\u001b[0m\n"
      ]
     },
     "metadata": {},
     "output_type": "display_data"
    },
    {
     "data": {
      "text/html": [
       "<pre style=\"white-space:pre;overflow-x:auto;line-height:normal;font-family:Menlo,'DejaVu Sans Mono',consolas,'Courier New',monospace;margin:0px\"></pre>\n"
      ],
      "text/plain": []
     },
     "metadata": {},
     "output_type": "display_data"
    },
    {
     "data": {
      "text/html": [
       "<pre style=\"white-space:pre;overflow-x:auto;line-height:normal;font-family:Menlo,'DejaVu Sans Mono',consolas,'Courier New',monospace;margin:0px\">Solving recipe combinations<span style=\"color: #808000; text-decoration-color: #808000\">...</span>\n",
       "</pre>\n"
      ],
      "text/plain": [
       "Solving recipe combinations\u001b[33m...\u001b[0m\n"
      ]
     },
     "metadata": {},
     "output_type": "display_data"
    },
    {
     "data": {
      "text/html": [
       "<pre style=\"white-space:pre;overflow-x:auto;line-height:normal;font-family:Menlo,'DejaVu Sans Mono',consolas,'Courier New',monospace;margin:0px\">\n",
       "</pre>\n"
      ],
      "text/plain": [
       "\n"
      ]
     },
     "metadata": {},
     "output_type": "display_data"
    },
    {
     "data": {
      "application/vnd.jupyter.widget-view+json": {
       "model_id": "891caf7ba8294c51a40b497d178d8341",
       "version_major": 2,
       "version_minor": 0
      },
      "text/plain": [
       "Output()"
      ]
     },
     "metadata": {},
     "output_type": "display_data"
    },
    {
     "data": {
      "text/html": [
       "<pre style=\"white-space:pre;overflow-x:auto;line-height:normal;font-family:Menlo,'DejaVu Sans Mono',consolas,'Courier New',monospace;margin:0px\"></pre>\n"
      ],
      "text/plain": []
     },
     "metadata": {},
     "output_type": "display_data"
    }
   ],
   "source": [
    "recipes = hippo.Recipe.from_compounds(picks, quoted_only=False, pick_first=False, pick_cheapest=False)"
   ]
  },
  {
   "cell_type": "code",
   "execution_count": 41,
   "id": "1ac490c0-c0c0-4506-bfe5-4495c0b39a36",
   "metadata": {},
   "outputs": [
    {
     "data": {
      "text/plain": [
       "\u001b[1m\u001b[4mRecipe({Ingredient × 188} --> {Ingredient × 186} via {R × 186})\u001b[22m\u001b[24m"
      ]
     },
     "execution_count": 41,
     "metadata": {},
     "output_type": "execute_result"
    }
   ],
   "source": [
    "recipe = recipes[0]\n",
    "recipe"
   ]
  },
  {
   "cell_type": "code",
   "execution_count": 39,
   "id": "09f7bf6c-ade7-49b9-9fd5-3605b042a4e6",
   "metadata": {
    "scrolled": true
   },
   "outputs": [
    {
     "data": {
      "text/html": [
       "<pre style=\"white-space:pre;overflow-x:auto;line-height:normal;font-family:Menlo,'DejaVu Sans Mono',consolas,'Courier New',monospace;margin:0px\"><span style=\"background-color: #ff8700; font-weight: bold\"> Warning </span><span style=\"color: #ff8700; text-decoration-color: #ff8700\"> NULL Quote:</span><span style=\"color: #ff8700; text-decoration-color: #ff8700; font-weight: bold; text-decoration: underline\"> 1.00mg of C77233!</span>\n",
       "</pre>\n"
      ],
      "text/plain": [
       "\u001b[1;7;38;5;208m Warning \u001b[0m\u001b[38;5;208m NULL Quote:\u001b[0m\u001b[1;4;38;5;208m 1.00mg of C77233!\u001b[0m\n"
      ]
     },
     "metadata": {},
     "output_type": "display_data"
    },
    {
     "data": {
      "text/html": [
       "<pre style=\"white-space:pre;overflow-x:auto;line-height:normal;font-family:Menlo,'DejaVu Sans Mono',consolas,'Courier New',monospace;margin:0px\"><span style=\"background-color: #ff8700; font-weight: bold\"> Warning </span><span style=\"color: #ff8700; text-decoration-color: #ff8700\"> NULL Quote:</span><span style=\"color: #ff8700; text-decoration-color: #ff8700; font-weight: bold; text-decoration: underline\"> 1.00mg of C77238!</span>\n",
       "</pre>\n"
      ],
      "text/plain": [
       "\u001b[1;7;38;5;208m Warning \u001b[0m\u001b[38;5;208m NULL Quote:\u001b[0m\u001b[1;4;38;5;208m 1.00mg of C77238!\u001b[0m\n"
      ]
     },
     "metadata": {},
     "output_type": "display_data"
    },
    {
     "data": {
      "text/html": [
       "<pre style=\"white-space:pre;overflow-x:auto;line-height:normal;font-family:Menlo,'DejaVu Sans Mono',consolas,'Courier New',monospace;margin:0px\"><span style=\"background-color: #ff8700; font-weight: bold\"> Warning </span><span style=\"color: #ff8700; text-decoration-color: #ff8700\"> NULL Quote:</span><span style=\"color: #ff8700; text-decoration-color: #ff8700; font-weight: bold; text-decoration: underline\"> 1.00mg of C77240!</span>\n",
       "</pre>\n"
      ],
      "text/plain": [
       "\u001b[1;7;38;5;208m Warning \u001b[0m\u001b[38;5;208m NULL Quote:\u001b[0m\u001b[1;4;38;5;208m 1.00mg of C77240!\u001b[0m\n"
      ]
     },
     "metadata": {},
     "output_type": "display_data"
    },
    {
     "data": {
      "text/html": [
       "<pre style=\"white-space:pre;overflow-x:auto;line-height:normal;font-family:Menlo,'DejaVu Sans Mono',consolas,'Courier New',monospace;margin:0px\"><span style=\"background-color: #ff8700; font-weight: bold\"> Warning </span><span style=\"color: #ff8700; text-decoration-color: #ff8700\"> NULL Quote:</span><span style=\"color: #ff8700; text-decoration-color: #ff8700; font-weight: bold; text-decoration: underline\"> 1.00mg of C77326!</span>\n",
       "</pre>\n"
      ],
      "text/plain": [
       "\u001b[1;7;38;5;208m Warning \u001b[0m\u001b[38;5;208m NULL Quote:\u001b[0m\u001b[1;4;38;5;208m 1.00mg of C77326!\u001b[0m\n"
      ]
     },
     "metadata": {},
     "output_type": "display_data"
    },
    {
     "data": {
      "text/html": [
       "<pre style=\"white-space:pre;overflow-x:auto;line-height:normal;font-family:Menlo,'DejaVu Sans Mono',consolas,'Courier New',monospace;margin:0px\"><span style=\"background-color: #ff8700; font-weight: bold\"> Warning </span><span style=\"color: #ff8700; text-decoration-color: #ff8700\"> NULL Quote:</span><span style=\"color: #ff8700; text-decoration-color: #ff8700; font-weight: bold; text-decoration: underline\"> 1.00mg of C77327!</span>\n",
       "</pre>\n"
      ],
      "text/plain": [
       "\u001b[1;7;38;5;208m Warning \u001b[0m\u001b[38;5;208m NULL Quote:\u001b[0m\u001b[1;4;38;5;208m 1.00mg of C77327!\u001b[0m\n"
      ]
     },
     "metadata": {},
     "output_type": "display_data"
    },
    {
     "data": {
      "text/html": [
       "<pre style=\"white-space:pre;overflow-x:auto;line-height:normal;font-family:Menlo,'DejaVu Sans Mono',consolas,'Courier New',monospace;margin:0px\"><span style=\"background-color: #ff8700; font-weight: bold\"> Warning </span><span style=\"color: #ff8700; text-decoration-color: #ff8700\"> NULL Quote:</span><span style=\"color: #ff8700; text-decoration-color: #ff8700; font-weight: bold; text-decoration: underline\"> 1.00mg of C77330!</span>\n",
       "</pre>\n"
      ],
      "text/plain": [
       "\u001b[1;7;38;5;208m Warning \u001b[0m\u001b[38;5;208m NULL Quote:\u001b[0m\u001b[1;4;38;5;208m 1.00mg of C77330!\u001b[0m\n"
      ]
     },
     "metadata": {},
     "output_type": "display_data"
    },
    {
     "data": {
      "text/html": [
       "<pre style=\"white-space:pre;overflow-x:auto;line-height:normal;font-family:Menlo,'DejaVu Sans Mono',consolas,'Courier New',monospace;margin:0px\"><span style=\"background-color: #ff8700; font-weight: bold\"> Warning </span><span style=\"color: #ff8700; text-decoration-color: #ff8700\"> NULL Quote:</span><span style=\"color: #ff8700; text-decoration-color: #ff8700; font-weight: bold; text-decoration: underline\"> 1.00mg of C77331!</span>\n",
       "</pre>\n"
      ],
      "text/plain": [
       "\u001b[1;7;38;5;208m Warning \u001b[0m\u001b[38;5;208m NULL Quote:\u001b[0m\u001b[1;4;38;5;208m 1.00mg of C77331!\u001b[0m\n"
      ]
     },
     "metadata": {},
     "output_type": "display_data"
    },
    {
     "data": {
      "text/html": [
       "<pre style=\"white-space:pre;overflow-x:auto;line-height:normal;font-family:Menlo,'DejaVu Sans Mono',consolas,'Courier New',monospace;margin:0px\"><span style=\"background-color: #ff8700; font-weight: bold\"> Warning </span><span style=\"color: #ff8700; text-decoration-color: #ff8700\"> NULL Quote:</span><span style=\"color: #ff8700; text-decoration-color: #ff8700; font-weight: bold; text-decoration: underline\"> 1.00mg of C77333!</span>\n",
       "</pre>\n"
      ],
      "text/plain": [
       "\u001b[1;7;38;5;208m Warning \u001b[0m\u001b[38;5;208m NULL Quote:\u001b[0m\u001b[1;4;38;5;208m 1.00mg of C77333!\u001b[0m\n"
      ]
     },
     "metadata": {},
     "output_type": "display_data"
    },
    {
     "data": {
      "text/html": [
       "<pre style=\"white-space:pre;overflow-x:auto;line-height:normal;font-family:Menlo,'DejaVu Sans Mono',consolas,'Courier New',monospace;margin:0px\"><span style=\"background-color: #ff8700; font-weight: bold\"> Warning </span><span style=\"color: #ff8700; text-decoration-color: #ff8700\"> NULL Quote:</span><span style=\"color: #ff8700; text-decoration-color: #ff8700; font-weight: bold; text-decoration: underline\"> 1.00mg of C77334!</span>\n",
       "</pre>\n"
      ],
      "text/plain": [
       "\u001b[1;7;38;5;208m Warning \u001b[0m\u001b[38;5;208m NULL Quote:\u001b[0m\u001b[1;4;38;5;208m 1.00mg of C77334!\u001b[0m\n"
      ]
     },
     "metadata": {},
     "output_type": "display_data"
    },
    {
     "data": {
      "text/html": [
       "<pre style=\"white-space:pre;overflow-x:auto;line-height:normal;font-family:Menlo,'DejaVu Sans Mono',consolas,'Courier New',monospace;margin:0px\"><span style=\"background-color: #ff8700; font-weight: bold\"> Warning </span><span style=\"color: #ff8700; text-decoration-color: #ff8700\"> NULL Quote:</span><span style=\"color: #ff8700; text-decoration-color: #ff8700; font-weight: bold; text-decoration: underline\"> 1.00mg of C77246!</span>\n",
       "</pre>\n"
      ],
      "text/plain": [
       "\u001b[1;7;38;5;208m Warning \u001b[0m\u001b[38;5;208m NULL Quote:\u001b[0m\u001b[1;4;38;5;208m 1.00mg of C77246!\u001b[0m\n"
      ]
     },
     "metadata": {},
     "output_type": "display_data"
    },
    {
     "data": {
      "text/html": [
       "<pre style=\"white-space:pre;overflow-x:auto;line-height:normal;font-family:Menlo,'DejaVu Sans Mono',consolas,'Courier New',monospace;margin:0px\"><span style=\"background-color: #ff8700; font-weight: bold\"> Warning </span><span style=\"color: #ff8700; text-decoration-color: #ff8700\"> NULL Quote:</span><span style=\"color: #ff8700; text-decoration-color: #ff8700; font-weight: bold; text-decoration: underline\"> 1.00mg of C77248!</span>\n",
       "</pre>\n"
      ],
      "text/plain": [
       "\u001b[1;7;38;5;208m Warning \u001b[0m\u001b[38;5;208m NULL Quote:\u001b[0m\u001b[1;4;38;5;208m 1.00mg of C77248!\u001b[0m\n"
      ]
     },
     "metadata": {},
     "output_type": "display_data"
    },
    {
     "data": {
      "text/html": [
       "<pre style=\"white-space:pre;overflow-x:auto;line-height:normal;font-family:Menlo,'DejaVu Sans Mono',consolas,'Courier New',monospace;margin:0px\"><span style=\"background-color: #ff8700; font-weight: bold\"> Warning </span><span style=\"color: #ff8700; text-decoration-color: #ff8700\"> NULL Quote:</span><span style=\"color: #ff8700; text-decoration-color: #ff8700; font-weight: bold; text-decoration: underline\"> 1.00mg of C77252!</span>\n",
       "</pre>\n"
      ],
      "text/plain": [
       "\u001b[1;7;38;5;208m Warning \u001b[0m\u001b[38;5;208m NULL Quote:\u001b[0m\u001b[1;4;38;5;208m 1.00mg of C77252!\u001b[0m\n"
      ]
     },
     "metadata": {},
     "output_type": "display_data"
    },
    {
     "data": {
      "text/html": [
       "<pre style=\"white-space:pre;overflow-x:auto;line-height:normal;font-family:Menlo,'DejaVu Sans Mono',consolas,'Courier New',monospace;margin:0px\"><span style=\"background-color: #ff8700; font-weight: bold\"> Warning </span><span style=\"color: #ff8700; text-decoration-color: #ff8700\"> NULL Quote:</span><span style=\"color: #ff8700; text-decoration-color: #ff8700; font-weight: bold; text-decoration: underline\"> 1.00mg of C77253!</span>\n",
       "</pre>\n"
      ],
      "text/plain": [
       "\u001b[1;7;38;5;208m Warning \u001b[0m\u001b[38;5;208m NULL Quote:\u001b[0m\u001b[1;4;38;5;208m 1.00mg of C77253!\u001b[0m\n"
      ]
     },
     "metadata": {},
     "output_type": "display_data"
    },
    {
     "data": {
      "text/html": [
       "<pre style=\"white-space:pre;overflow-x:auto;line-height:normal;font-family:Menlo,'DejaVu Sans Mono',consolas,'Courier New',monospace;margin:0px\"><span style=\"background-color: #ff8700; font-weight: bold\"> Warning </span><span style=\"color: #ff8700; text-decoration-color: #ff8700\"> NULL Quote:</span><span style=\"color: #ff8700; text-decoration-color: #ff8700; font-weight: bold; text-decoration: underline\"> 1.00mg of C77254!</span>\n",
       "</pre>\n"
      ],
      "text/plain": [
       "\u001b[1;7;38;5;208m Warning \u001b[0m\u001b[38;5;208m NULL Quote:\u001b[0m\u001b[1;4;38;5;208m 1.00mg of C77254!\u001b[0m\n"
      ]
     },
     "metadata": {},
     "output_type": "display_data"
    },
    {
     "data": {
      "text/html": [
       "<pre style=\"white-space:pre;overflow-x:auto;line-height:normal;font-family:Menlo,'DejaVu Sans Mono',consolas,'Courier New',monospace;margin:0px\"><span style=\"background-color: #ff8700; font-weight: bold\"> Warning </span><span style=\"color: #ff8700; text-decoration-color: #ff8700\"> NULL Quote:</span><span style=\"color: #ff8700; text-decoration-color: #ff8700; font-weight: bold; text-decoration: underline\"> 1.00mg of C77255!</span>\n",
       "</pre>\n"
      ],
      "text/plain": [
       "\u001b[1;7;38;5;208m Warning \u001b[0m\u001b[38;5;208m NULL Quote:\u001b[0m\u001b[1;4;38;5;208m 1.00mg of C77255!\u001b[0m\n"
      ]
     },
     "metadata": {},
     "output_type": "display_data"
    },
    {
     "data": {
      "text/html": [
       "<pre style=\"white-space:pre;overflow-x:auto;line-height:normal;font-family:Menlo,'DejaVu Sans Mono',consolas,'Courier New',monospace;margin:0px\"><span style=\"background-color: #ff8700; font-weight: bold\"> Warning </span><span style=\"color: #ff8700; text-decoration-color: #ff8700\"> NULL Quote:</span><span style=\"color: #ff8700; text-decoration-color: #ff8700; font-weight: bold; text-decoration: underline\"> 1.00mg of C77257!</span>\n",
       "</pre>\n"
      ],
      "text/plain": [
       "\u001b[1;7;38;5;208m Warning \u001b[0m\u001b[38;5;208m NULL Quote:\u001b[0m\u001b[1;4;38;5;208m 1.00mg of C77257!\u001b[0m\n"
      ]
     },
     "metadata": {},
     "output_type": "display_data"
    },
    {
     "data": {
      "text/html": [
       "<pre style=\"white-space:pre;overflow-x:auto;line-height:normal;font-family:Menlo,'DejaVu Sans Mono',consolas,'Courier New',monospace;margin:0px\"><span style=\"background-color: #ff8700; font-weight: bold\"> Warning </span><span style=\"color: #ff8700; text-decoration-color: #ff8700\"> NULL Quote:</span><span style=\"color: #ff8700; text-decoration-color: #ff8700; font-weight: bold; text-decoration: underline\"> 1.00mg of C77258!</span>\n",
       "</pre>\n"
      ],
      "text/plain": [
       "\u001b[1;7;38;5;208m Warning \u001b[0m\u001b[38;5;208m NULL Quote:\u001b[0m\u001b[1;4;38;5;208m 1.00mg of C77258!\u001b[0m\n"
      ]
     },
     "metadata": {},
     "output_type": "display_data"
    },
    {
     "data": {
      "text/html": [
       "<pre style=\"white-space:pre;overflow-x:auto;line-height:normal;font-family:Menlo,'DejaVu Sans Mono',consolas,'Courier New',monospace;margin:0px\"><span style=\"background-color: #ff8700; font-weight: bold\"> Warning </span><span style=\"color: #ff8700; text-decoration-color: #ff8700\"> NULL Quote:</span><span style=\"color: #ff8700; text-decoration-color: #ff8700; font-weight: bold; text-decoration: underline\"> 1.00mg of C77259!</span>\n",
       "</pre>\n"
      ],
      "text/plain": [
       "\u001b[1;7;38;5;208m Warning \u001b[0m\u001b[38;5;208m NULL Quote:\u001b[0m\u001b[1;4;38;5;208m 1.00mg of C77259!\u001b[0m\n"
      ]
     },
     "metadata": {},
     "output_type": "display_data"
    },
    {
     "data": {
      "text/html": [
       "<pre style=\"white-space:pre;overflow-x:auto;line-height:normal;font-family:Menlo,'DejaVu Sans Mono',consolas,'Courier New',monospace;margin:0px\"><span style=\"background-color: #ff8700; font-weight: bold\"> Warning </span><span style=\"color: #ff8700; text-decoration-color: #ff8700\"> NULL Quote:</span><span style=\"color: #ff8700; text-decoration-color: #ff8700; font-weight: bold; text-decoration: underline\"> 1.00mg of C77263!</span>\n",
       "</pre>\n"
      ],
      "text/plain": [
       "\u001b[1;7;38;5;208m Warning \u001b[0m\u001b[38;5;208m NULL Quote:\u001b[0m\u001b[1;4;38;5;208m 1.00mg of C77263!\u001b[0m\n"
      ]
     },
     "metadata": {},
     "output_type": "display_data"
    },
    {
     "data": {
      "text/html": [
       "<pre style=\"white-space:pre;overflow-x:auto;line-height:normal;font-family:Menlo,'DejaVu Sans Mono',consolas,'Courier New',monospace;margin:0px\"><span style=\"background-color: #ff8700; font-weight: bold\"> Warning </span><span style=\"color: #ff8700; text-decoration-color: #ff8700\"> NULL Quote:</span><span style=\"color: #ff8700; text-decoration-color: #ff8700; font-weight: bold; text-decoration: underline\"> 1.00mg of C77264!</span>\n",
       "</pre>\n"
      ],
      "text/plain": [
       "\u001b[1;7;38;5;208m Warning \u001b[0m\u001b[38;5;208m NULL Quote:\u001b[0m\u001b[1;4;38;5;208m 1.00mg of C77264!\u001b[0m\n"
      ]
     },
     "metadata": {},
     "output_type": "display_data"
    },
    {
     "data": {
      "text/html": [
       "<pre style=\"white-space:pre;overflow-x:auto;line-height:normal;font-family:Menlo,'DejaVu Sans Mono',consolas,'Courier New',monospace;margin:0px\"><span style=\"background-color: #ff8700; font-weight: bold\"> Warning </span><span style=\"color: #ff8700; text-decoration-color: #ff8700\"> NULL Quote:</span><span style=\"color: #ff8700; text-decoration-color: #ff8700; font-weight: bold; text-decoration: underline\"> 1.00mg of C77266!</span>\n",
       "</pre>\n"
      ],
      "text/plain": [
       "\u001b[1;7;38;5;208m Warning \u001b[0m\u001b[38;5;208m NULL Quote:\u001b[0m\u001b[1;4;38;5;208m 1.00mg of C77266!\u001b[0m\n"
      ]
     },
     "metadata": {},
     "output_type": "display_data"
    },
    {
     "data": {
      "text/html": [
       "<pre style=\"white-space:pre;overflow-x:auto;line-height:normal;font-family:Menlo,'DejaVu Sans Mono',consolas,'Courier New',monospace;margin:0px\"><span style=\"background-color: #ff8700; font-weight: bold\"> Warning </span><span style=\"color: #ff8700; text-decoration-color: #ff8700\"> NULL Quote:</span><span style=\"color: #ff8700; text-decoration-color: #ff8700; font-weight: bold; text-decoration: underline\"> 1.00mg of C77267!</span>\n",
       "</pre>\n"
      ],
      "text/plain": [
       "\u001b[1;7;38;5;208m Warning \u001b[0m\u001b[38;5;208m NULL Quote:\u001b[0m\u001b[1;4;38;5;208m 1.00mg of C77267!\u001b[0m\n"
      ]
     },
     "metadata": {},
     "output_type": "display_data"
    },
    {
     "data": {
      "text/html": [
       "<pre style=\"white-space:pre;overflow-x:auto;line-height:normal;font-family:Menlo,'DejaVu Sans Mono',consolas,'Courier New',monospace;margin:0px\"><span style=\"background-color: #ff8700; font-weight: bold\"> Warning </span><span style=\"color: #ff8700; text-decoration-color: #ff8700\"> NULL Quote:</span><span style=\"color: #ff8700; text-decoration-color: #ff8700; font-weight: bold; text-decoration: underline\"> 1.00mg of C77271!</span>\n",
       "</pre>\n"
      ],
      "text/plain": [
       "\u001b[1;7;38;5;208m Warning \u001b[0m\u001b[38;5;208m NULL Quote:\u001b[0m\u001b[1;4;38;5;208m 1.00mg of C77271!\u001b[0m\n"
      ]
     },
     "metadata": {},
     "output_type": "display_data"
    },
    {
     "data": {
      "text/html": [
       "<pre style=\"white-space:pre;overflow-x:auto;line-height:normal;font-family:Menlo,'DejaVu Sans Mono',consolas,'Courier New',monospace;margin:0px\"><span style=\"background-color: #ff8700; font-weight: bold\"> Warning </span><span style=\"color: #ff8700; text-decoration-color: #ff8700\"> NULL Quote:</span><span style=\"color: #ff8700; text-decoration-color: #ff8700; font-weight: bold; text-decoration: underline\"> 1.00mg of C77274!</span>\n",
       "</pre>\n"
      ],
      "text/plain": [
       "\u001b[1;7;38;5;208m Warning \u001b[0m\u001b[38;5;208m NULL Quote:\u001b[0m\u001b[1;4;38;5;208m 1.00mg of C77274!\u001b[0m\n"
      ]
     },
     "metadata": {},
     "output_type": "display_data"
    },
    {
     "data": {
      "text/html": [
       "<pre style=\"white-space:pre;overflow-x:auto;line-height:normal;font-family:Menlo,'DejaVu Sans Mono',consolas,'Courier New',monospace;margin:0px\"><span style=\"background-color: #ff8700; font-weight: bold\"> Warning </span><span style=\"color: #ff8700; text-decoration-color: #ff8700\"> NULL Quote:</span><span style=\"color: #ff8700; text-decoration-color: #ff8700; font-weight: bold; text-decoration: underline\"> 1.00mg of C77276!</span>\n",
       "</pre>\n"
      ],
      "text/plain": [
       "\u001b[1;7;38;5;208m Warning \u001b[0m\u001b[38;5;208m NULL Quote:\u001b[0m\u001b[1;4;38;5;208m 1.00mg of C77276!\u001b[0m\n"
      ]
     },
     "metadata": {},
     "output_type": "display_data"
    },
    {
     "data": {
      "text/html": [
       "<pre style=\"white-space:pre;overflow-x:auto;line-height:normal;font-family:Menlo,'DejaVu Sans Mono',consolas,'Courier New',monospace;margin:0px\"><span style=\"background-color: #ff8700; font-weight: bold\"> Warning </span><span style=\"color: #ff8700; text-decoration-color: #ff8700\"> NULL Quote:</span><span style=\"color: #ff8700; text-decoration-color: #ff8700; font-weight: bold; text-decoration: underline\"> 1.00mg of C77279!</span>\n",
       "</pre>\n"
      ],
      "text/plain": [
       "\u001b[1;7;38;5;208m Warning \u001b[0m\u001b[38;5;208m NULL Quote:\u001b[0m\u001b[1;4;38;5;208m 1.00mg of C77279!\u001b[0m\n"
      ]
     },
     "metadata": {},
     "output_type": "display_data"
    },
    {
     "data": {
      "text/html": [
       "<pre style=\"white-space:pre;overflow-x:auto;line-height:normal;font-family:Menlo,'DejaVu Sans Mono',consolas,'Courier New',monospace;margin:0px\"><span style=\"background-color: #ff8700; font-weight: bold\"> Warning </span><span style=\"color: #ff8700; text-decoration-color: #ff8700\"> NULL Quote:</span><span style=\"color: #ff8700; text-decoration-color: #ff8700; font-weight: bold; text-decoration: underline\"> 1.00mg of C77281!</span>\n",
       "</pre>\n"
      ],
      "text/plain": [
       "\u001b[1;7;38;5;208m Warning \u001b[0m\u001b[38;5;208m NULL Quote:\u001b[0m\u001b[1;4;38;5;208m 1.00mg of C77281!\u001b[0m\n"
      ]
     },
     "metadata": {},
     "output_type": "display_data"
    },
    {
     "data": {
      "text/html": [
       "<pre style=\"white-space:pre;overflow-x:auto;line-height:normal;font-family:Menlo,'DejaVu Sans Mono',consolas,'Courier New',monospace;margin:0px\"><span style=\"background-color: #ff8700; font-weight: bold\"> Warning </span><span style=\"color: #ff8700; text-decoration-color: #ff8700\"> NULL Quote:</span><span style=\"color: #ff8700; text-decoration-color: #ff8700; font-weight: bold; text-decoration: underline\"> 1.00mg of C77282!</span>\n",
       "</pre>\n"
      ],
      "text/plain": [
       "\u001b[1;7;38;5;208m Warning \u001b[0m\u001b[38;5;208m NULL Quote:\u001b[0m\u001b[1;4;38;5;208m 1.00mg of C77282!\u001b[0m\n"
      ]
     },
     "metadata": {},
     "output_type": "display_data"
    },
    {
     "data": {
      "text/html": [
       "<pre style=\"white-space:pre;overflow-x:auto;line-height:normal;font-family:Menlo,'DejaVu Sans Mono',consolas,'Courier New',monospace;margin:0px\"><span style=\"background-color: #ff8700; font-weight: bold\"> Warning </span><span style=\"color: #ff8700; text-decoration-color: #ff8700\"> NULL Quote:</span><span style=\"color: #ff8700; text-decoration-color: #ff8700; font-weight: bold; text-decoration: underline\"> 1.00mg of C77283!</span>\n",
       "</pre>\n"
      ],
      "text/plain": [
       "\u001b[1;7;38;5;208m Warning \u001b[0m\u001b[38;5;208m NULL Quote:\u001b[0m\u001b[1;4;38;5;208m 1.00mg of C77283!\u001b[0m\n"
      ]
     },
     "metadata": {},
     "output_type": "display_data"
    },
    {
     "data": {
      "text/html": [
       "<pre style=\"white-space:pre;overflow-x:auto;line-height:normal;font-family:Menlo,'DejaVu Sans Mono',consolas,'Courier New',monospace;margin:0px\"><span style=\"background-color: #ff8700; font-weight: bold\"> Warning </span><span style=\"color: #ff8700; text-decoration-color: #ff8700\"> NULL Quote:</span><span style=\"color: #ff8700; text-decoration-color: #ff8700; font-weight: bold; text-decoration: underline\"> 1.00mg of C77284!</span>\n",
       "</pre>\n"
      ],
      "text/plain": [
       "\u001b[1;7;38;5;208m Warning \u001b[0m\u001b[38;5;208m NULL Quote:\u001b[0m\u001b[1;4;38;5;208m 1.00mg of C77284!\u001b[0m\n"
      ]
     },
     "metadata": {},
     "output_type": "display_data"
    },
    {
     "data": {
      "text/html": [
       "<pre style=\"white-space:pre;overflow-x:auto;line-height:normal;font-family:Menlo,'DejaVu Sans Mono',consolas,'Courier New',monospace;margin:0px\"><span style=\"background-color: #ff8700; font-weight: bold\"> Warning </span><span style=\"color: #ff8700; text-decoration-color: #ff8700\"> NULL Quote:</span><span style=\"color: #ff8700; text-decoration-color: #ff8700; font-weight: bold; text-decoration: underline\"> 1.00mg of C77286!</span>\n",
       "</pre>\n"
      ],
      "text/plain": [
       "\u001b[1;7;38;5;208m Warning \u001b[0m\u001b[38;5;208m NULL Quote:\u001b[0m\u001b[1;4;38;5;208m 1.00mg of C77286!\u001b[0m\n"
      ]
     },
     "metadata": {},
     "output_type": "display_data"
    },
    {
     "data": {
      "text/html": [
       "<pre style=\"white-space:pre;overflow-x:auto;line-height:normal;font-family:Menlo,'DejaVu Sans Mono',consolas,'Courier New',monospace;margin:0px\"><span style=\"background-color: #ff8700; font-weight: bold\"> Warning </span><span style=\"color: #ff8700; text-decoration-color: #ff8700\"> NULL Quote:</span><span style=\"color: #ff8700; text-decoration-color: #ff8700; font-weight: bold; text-decoration: underline\"> 1.00mg of C77287!</span>\n",
       "</pre>\n"
      ],
      "text/plain": [
       "\u001b[1;7;38;5;208m Warning \u001b[0m\u001b[38;5;208m NULL Quote:\u001b[0m\u001b[1;4;38;5;208m 1.00mg of C77287!\u001b[0m\n"
      ]
     },
     "metadata": {},
     "output_type": "display_data"
    },
    {
     "data": {
      "text/html": [
       "<pre style=\"white-space:pre;overflow-x:auto;line-height:normal;font-family:Menlo,'DejaVu Sans Mono',consolas,'Courier New',monospace;margin:0px\"><span style=\"background-color: #ff8700; font-weight: bold\"> Warning </span><span style=\"color: #ff8700; text-decoration-color: #ff8700\"> NULL Quote:</span><span style=\"color: #ff8700; text-decoration-color: #ff8700; font-weight: bold; text-decoration: underline\"> 1.00mg of C77288!</span>\n",
       "</pre>\n"
      ],
      "text/plain": [
       "\u001b[1;7;38;5;208m Warning \u001b[0m\u001b[38;5;208m NULL Quote:\u001b[0m\u001b[1;4;38;5;208m 1.00mg of C77288!\u001b[0m\n"
      ]
     },
     "metadata": {},
     "output_type": "display_data"
    },
    {
     "data": {
      "text/html": [
       "<pre style=\"white-space:pre;overflow-x:auto;line-height:normal;font-family:Menlo,'DejaVu Sans Mono',consolas,'Courier New',monospace;margin:0px\"><span style=\"background-color: #ff8700; font-weight: bold\"> Warning </span><span style=\"color: #ff8700; text-decoration-color: #ff8700\"> NULL Quote:</span><span style=\"color: #ff8700; text-decoration-color: #ff8700; font-weight: bold; text-decoration: underline\"> 1.00mg of C77290!</span>\n",
       "</pre>\n"
      ],
      "text/plain": [
       "\u001b[1;7;38;5;208m Warning \u001b[0m\u001b[38;5;208m NULL Quote:\u001b[0m\u001b[1;4;38;5;208m 1.00mg of C77290!\u001b[0m\n"
      ]
     },
     "metadata": {},
     "output_type": "display_data"
    },
    {
     "data": {
      "text/html": [
       "<pre style=\"white-space:pre;overflow-x:auto;line-height:normal;font-family:Menlo,'DejaVu Sans Mono',consolas,'Courier New',monospace;margin:0px\"><span style=\"background-color: #ff8700; font-weight: bold\"> Warning </span><span style=\"color: #ff8700; text-decoration-color: #ff8700\"> NULL Quote:</span><span style=\"color: #ff8700; text-decoration-color: #ff8700; font-weight: bold; text-decoration: underline\"> 1.00mg of C77291!</span>\n",
       "</pre>\n"
      ],
      "text/plain": [
       "\u001b[1;7;38;5;208m Warning \u001b[0m\u001b[38;5;208m NULL Quote:\u001b[0m\u001b[1;4;38;5;208m 1.00mg of C77291!\u001b[0m\n"
      ]
     },
     "metadata": {},
     "output_type": "display_data"
    },
    {
     "data": {
      "text/html": [
       "<pre style=\"white-space:pre;overflow-x:auto;line-height:normal;font-family:Menlo,'DejaVu Sans Mono',consolas,'Courier New',monospace;margin:0px\"><span style=\"background-color: #ff8700; font-weight: bold\"> Warning </span><span style=\"color: #ff8700; text-decoration-color: #ff8700\"> NULL Quote:</span><span style=\"color: #ff8700; text-decoration-color: #ff8700; font-weight: bold; text-decoration: underline\"> 1.00mg of C77292!</span>\n",
       "</pre>\n"
      ],
      "text/plain": [
       "\u001b[1;7;38;5;208m Warning \u001b[0m\u001b[38;5;208m NULL Quote:\u001b[0m\u001b[1;4;38;5;208m 1.00mg of C77292!\u001b[0m\n"
      ]
     },
     "metadata": {},
     "output_type": "display_data"
    },
    {
     "data": {
      "text/html": [
       "<pre style=\"white-space:pre;overflow-x:auto;line-height:normal;font-family:Menlo,'DejaVu Sans Mono',consolas,'Courier New',monospace;margin:0px\"><span style=\"background-color: #ff8700; font-weight: bold\"> Warning </span><span style=\"color: #ff8700; text-decoration-color: #ff8700\"> NULL Quote:</span><span style=\"color: #ff8700; text-decoration-color: #ff8700; font-weight: bold; text-decoration: underline\"> 1.00mg of C77293!</span>\n",
       "</pre>\n"
      ],
      "text/plain": [
       "\u001b[1;7;38;5;208m Warning \u001b[0m\u001b[38;5;208m NULL Quote:\u001b[0m\u001b[1;4;38;5;208m 1.00mg of C77293!\u001b[0m\n"
      ]
     },
     "metadata": {},
     "output_type": "display_data"
    },
    {
     "data": {
      "text/html": [
       "<pre style=\"white-space:pre;overflow-x:auto;line-height:normal;font-family:Menlo,'DejaVu Sans Mono',consolas,'Courier New',monospace;margin:0px\"><span style=\"background-color: #ff8700; font-weight: bold\"> Warning </span><span style=\"color: #ff8700; text-decoration-color: #ff8700\"> NULL Quote:</span><span style=\"color: #ff8700; text-decoration-color: #ff8700; font-weight: bold; text-decoration: underline\"> 1.00mg of C77298!</span>\n",
       "</pre>\n"
      ],
      "text/plain": [
       "\u001b[1;7;38;5;208m Warning \u001b[0m\u001b[38;5;208m NULL Quote:\u001b[0m\u001b[1;4;38;5;208m 1.00mg of C77298!\u001b[0m\n"
      ]
     },
     "metadata": {},
     "output_type": "display_data"
    },
    {
     "data": {
      "text/html": [
       "<pre style=\"white-space:pre;overflow-x:auto;line-height:normal;font-family:Menlo,'DejaVu Sans Mono',consolas,'Courier New',monospace;margin:0px\"><span style=\"background-color: #ff8700; font-weight: bold\"> Warning </span><span style=\"color: #ff8700; text-decoration-color: #ff8700\"> NULL Quote:</span><span style=\"color: #ff8700; text-decoration-color: #ff8700; font-weight: bold; text-decoration: underline\"> 1.00mg of C77300!</span>\n",
       "</pre>\n"
      ],
      "text/plain": [
       "\u001b[1;7;38;5;208m Warning \u001b[0m\u001b[38;5;208m NULL Quote:\u001b[0m\u001b[1;4;38;5;208m 1.00mg of C77300!\u001b[0m\n"
      ]
     },
     "metadata": {},
     "output_type": "display_data"
    },
    {
     "data": {
      "text/html": [
       "<pre style=\"white-space:pre;overflow-x:auto;line-height:normal;font-family:Menlo,'DejaVu Sans Mono',consolas,'Courier New',monospace;margin:0px\"><span style=\"background-color: #ff8700; font-weight: bold\"> Warning </span><span style=\"color: #ff8700; text-decoration-color: #ff8700\"> NULL Quote:</span><span style=\"color: #ff8700; text-decoration-color: #ff8700; font-weight: bold; text-decoration: underline\"> 1.00mg of C77301!</span>\n",
       "</pre>\n"
      ],
      "text/plain": [
       "\u001b[1;7;38;5;208m Warning \u001b[0m\u001b[38;5;208m NULL Quote:\u001b[0m\u001b[1;4;38;5;208m 1.00mg of C77301!\u001b[0m\n"
      ]
     },
     "metadata": {},
     "output_type": "display_data"
    },
    {
     "data": {
      "text/html": [
       "<pre style=\"white-space:pre;overflow-x:auto;line-height:normal;font-family:Menlo,'DejaVu Sans Mono',consolas,'Courier New',monospace;margin:0px\"><span style=\"background-color: #ff8700; font-weight: bold\"> Warning </span><span style=\"color: #ff8700; text-decoration-color: #ff8700\"> NULL Quote:</span><span style=\"color: #ff8700; text-decoration-color: #ff8700; font-weight: bold; text-decoration: underline\"> 1.00mg of C77305!</span>\n",
       "</pre>\n"
      ],
      "text/plain": [
       "\u001b[1;7;38;5;208m Warning \u001b[0m\u001b[38;5;208m NULL Quote:\u001b[0m\u001b[1;4;38;5;208m 1.00mg of C77305!\u001b[0m\n"
      ]
     },
     "metadata": {},
     "output_type": "display_data"
    },
    {
     "data": {
      "text/html": [
       "<pre style=\"white-space:pre;overflow-x:auto;line-height:normal;font-family:Menlo,'DejaVu Sans Mono',consolas,'Courier New',monospace;margin:0px\"><span style=\"background-color: #ff8700; font-weight: bold\"> Warning </span><span style=\"color: #ff8700; text-decoration-color: #ff8700\"> NULL Quote:</span><span style=\"color: #ff8700; text-decoration-color: #ff8700; font-weight: bold; text-decoration: underline\"> 1.00mg of C77306!</span>\n",
       "</pre>\n"
      ],
      "text/plain": [
       "\u001b[1;7;38;5;208m Warning \u001b[0m\u001b[38;5;208m NULL Quote:\u001b[0m\u001b[1;4;38;5;208m 1.00mg of C77306!\u001b[0m\n"
      ]
     },
     "metadata": {},
     "output_type": "display_data"
    },
    {
     "data": {
      "text/html": [
       "<pre style=\"white-space:pre;overflow-x:auto;line-height:normal;font-family:Menlo,'DejaVu Sans Mono',consolas,'Courier New',monospace;margin:0px\"><span style=\"background-color: #ff8700; font-weight: bold\"> Warning </span><span style=\"color: #ff8700; text-decoration-color: #ff8700\"> NULL Quote:</span><span style=\"color: #ff8700; text-decoration-color: #ff8700; font-weight: bold; text-decoration: underline\"> 1.00mg of C77313!</span>\n",
       "</pre>\n"
      ],
      "text/plain": [
       "\u001b[1;7;38;5;208m Warning \u001b[0m\u001b[38;5;208m NULL Quote:\u001b[0m\u001b[1;4;38;5;208m 1.00mg of C77313!\u001b[0m\n"
      ]
     },
     "metadata": {},
     "output_type": "display_data"
    },
    {
     "data": {
      "text/html": [
       "<pre style=\"white-space:pre;overflow-x:auto;line-height:normal;font-family:Menlo,'DejaVu Sans Mono',consolas,'Courier New',monospace;margin:0px\"><span style=\"background-color: #ff8700; font-weight: bold\"> Warning </span><span style=\"color: #ff8700; text-decoration-color: #ff8700\"> NULL Quote:</span><span style=\"color: #ff8700; text-decoration-color: #ff8700; font-weight: bold; text-decoration: underline\"> 1.00mg of C77314!</span>\n",
       "</pre>\n"
      ],
      "text/plain": [
       "\u001b[1;7;38;5;208m Warning \u001b[0m\u001b[38;5;208m NULL Quote:\u001b[0m\u001b[1;4;38;5;208m 1.00mg of C77314!\u001b[0m\n"
      ]
     },
     "metadata": {},
     "output_type": "display_data"
    },
    {
     "data": {
      "text/html": [
       "<pre style=\"white-space:pre;overflow-x:auto;line-height:normal;font-family:Menlo,'DejaVu Sans Mono',consolas,'Courier New',monospace;margin:0px\"><span style=\"background-color: #ff8700; font-weight: bold\"> Warning </span><span style=\"color: #ff8700; text-decoration-color: #ff8700\"> NULL Quote:</span><span style=\"color: #ff8700; text-decoration-color: #ff8700; font-weight: bold; text-decoration: underline\"> 1.00mg of C77335!</span>\n",
       "</pre>\n"
      ],
      "text/plain": [
       "\u001b[1;7;38;5;208m Warning \u001b[0m\u001b[38;5;208m NULL Quote:\u001b[0m\u001b[1;4;38;5;208m 1.00mg of C77335!\u001b[0m\n"
      ]
     },
     "metadata": {},
     "output_type": "display_data"
    },
    {
     "data": {
      "text/html": [
       "<pre style=\"white-space:pre;overflow-x:auto;line-height:normal;font-family:Menlo,'DejaVu Sans Mono',consolas,'Courier New',monospace;margin:0px\"><span style=\"background-color: #ff8700; font-weight: bold\"> Warning </span><span style=\"color: #ff8700; text-decoration-color: #ff8700\"> NULL Quote:</span><span style=\"color: #ff8700; text-decoration-color: #ff8700; font-weight: bold; text-decoration: underline\"> 1.00mg of C77320!</span>\n",
       "</pre>\n"
      ],
      "text/plain": [
       "\u001b[1;7;38;5;208m Warning \u001b[0m\u001b[38;5;208m NULL Quote:\u001b[0m\u001b[1;4;38;5;208m 1.00mg of C77320!\u001b[0m\n"
      ]
     },
     "metadata": {},
     "output_type": "display_data"
    },
    {
     "data": {
      "text/html": [
       "<pre style=\"white-space:pre;overflow-x:auto;line-height:normal;font-family:Menlo,'DejaVu Sans Mono',consolas,'Courier New',monospace;margin:0px\"><span style=\"background-color: #ff8700; font-weight: bold\"> Warning </span><span style=\"color: #ff8700; text-decoration-color: #ff8700\"> NULL Quote:</span><span style=\"color: #ff8700; text-decoration-color: #ff8700; font-weight: bold; text-decoration: underline\"> 1.00mg of C77336!</span>\n",
       "</pre>\n"
      ],
      "text/plain": [
       "\u001b[1;7;38;5;208m Warning \u001b[0m\u001b[38;5;208m NULL Quote:\u001b[0m\u001b[1;4;38;5;208m 1.00mg of C77336!\u001b[0m\n"
      ]
     },
     "metadata": {},
     "output_type": "display_data"
    },
    {
     "data": {
      "text/html": [
       "<pre style=\"white-space:pre;overflow-x:auto;line-height:normal;font-family:Menlo,'DejaVu Sans Mono',consolas,'Courier New',monospace;margin:0px\"><span style=\"background-color: #ff8700; font-weight: bold\"> Warning </span><span style=\"color: #ff8700; text-decoration-color: #ff8700\"> NULL Quote:</span><span style=\"color: #ff8700; text-decoration-color: #ff8700; font-weight: bold; text-decoration: underline\"> 1.00mg of C77337!</span>\n",
       "</pre>\n"
      ],
      "text/plain": [
       "\u001b[1;7;38;5;208m Warning \u001b[0m\u001b[38;5;208m NULL Quote:\u001b[0m\u001b[1;4;38;5;208m 1.00mg of C77337!\u001b[0m\n"
      ]
     },
     "metadata": {},
     "output_type": "display_data"
    },
    {
     "data": {
      "text/html": [
       "<pre style=\"white-space:pre;overflow-x:auto;line-height:normal;font-family:Menlo,'DejaVu Sans Mono',consolas,'Courier New',monospace;margin:0px\"><span style=\"background-color: #ff8700; font-weight: bold\"> Warning </span><span style=\"color: #ff8700; text-decoration-color: #ff8700\"> NULL Quote:</span><span style=\"color: #ff8700; text-decoration-color: #ff8700; font-weight: bold; text-decoration: underline\"> 1.00mg of C77338!</span>\n",
       "</pre>\n"
      ],
      "text/plain": [
       "\u001b[1;7;38;5;208m Warning \u001b[0m\u001b[38;5;208m NULL Quote:\u001b[0m\u001b[1;4;38;5;208m 1.00mg of C77338!\u001b[0m\n"
      ]
     },
     "metadata": {},
     "output_type": "display_data"
    },
    {
     "data": {
      "text/html": [
       "<pre style=\"white-space:pre;overflow-x:auto;line-height:normal;font-family:Menlo,'DejaVu Sans Mono',consolas,'Courier New',monospace;margin:0px\"><span style=\"background-color: #ff8700; font-weight: bold\"> Warning </span><span style=\"color: #ff8700; text-decoration-color: #ff8700\"> NULL Quote:</span><span style=\"color: #ff8700; text-decoration-color: #ff8700; font-weight: bold; text-decoration: underline\"> 1.00mg of C77339!</span>\n",
       "</pre>\n"
      ],
      "text/plain": [
       "\u001b[1;7;38;5;208m Warning \u001b[0m\u001b[38;5;208m NULL Quote:\u001b[0m\u001b[1;4;38;5;208m 1.00mg of C77339!\u001b[0m\n"
      ]
     },
     "metadata": {},
     "output_type": "display_data"
    },
    {
     "data": {
      "text/html": [
       "<pre style=\"white-space:pre;overflow-x:auto;line-height:normal;font-family:Menlo,'DejaVu Sans Mono',consolas,'Courier New',monospace;margin:0px\"><span style=\"background-color: #ff8700; font-weight: bold\"> Warning </span><span style=\"color: #ff8700; text-decoration-color: #ff8700\"> NULL Quote:</span><span style=\"color: #ff8700; text-decoration-color: #ff8700; font-weight: bold; text-decoration: underline\"> 1.00mg of C77340!</span>\n",
       "</pre>\n"
      ],
      "text/plain": [
       "\u001b[1;7;38;5;208m Warning \u001b[0m\u001b[38;5;208m NULL Quote:\u001b[0m\u001b[1;4;38;5;208m 1.00mg of C77340!\u001b[0m\n"
      ]
     },
     "metadata": {},
     "output_type": "display_data"
    },
    {
     "data": {
      "text/html": [
       "<pre style=\"white-space:pre;overflow-x:auto;line-height:normal;font-family:Menlo,'DejaVu Sans Mono',consolas,'Courier New',monospace;margin:0px\"><span style=\"background-color: #ff8700; font-weight: bold\"> Warning </span><span style=\"color: #ff8700; text-decoration-color: #ff8700\"> NULL Quote:</span><span style=\"color: #ff8700; text-decoration-color: #ff8700; font-weight: bold; text-decoration: underline\"> 1.00mg of C77341!</span>\n",
       "</pre>\n"
      ],
      "text/plain": [
       "\u001b[1;7;38;5;208m Warning \u001b[0m\u001b[38;5;208m NULL Quote:\u001b[0m\u001b[1;4;38;5;208m 1.00mg of C77341!\u001b[0m\n"
      ]
     },
     "metadata": {},
     "output_type": "display_data"
    },
    {
     "data": {
      "text/html": [
       "<pre style=\"white-space:pre;overflow-x:auto;line-height:normal;font-family:Menlo,'DejaVu Sans Mono',consolas,'Courier New',monospace;margin:0px\"><span style=\"background-color: #ff8700; font-weight: bold\"> Warning </span><span style=\"color: #ff8700; text-decoration-color: #ff8700\"> NULL Quote:</span><span style=\"color: #ff8700; text-decoration-color: #ff8700; font-weight: bold; text-decoration: underline\"> 1.00mg of C77342!</span>\n",
       "</pre>\n"
      ],
      "text/plain": [
       "\u001b[1;7;38;5;208m Warning \u001b[0m\u001b[38;5;208m NULL Quote:\u001b[0m\u001b[1;4;38;5;208m 1.00mg of C77342!\u001b[0m\n"
      ]
     },
     "metadata": {},
     "output_type": "display_data"
    },
    {
     "data": {
      "text/html": [
       "<pre style=\"white-space:pre;overflow-x:auto;line-height:normal;font-family:Menlo,'DejaVu Sans Mono',consolas,'Courier New',monospace;margin:0px\"><span style=\"background-color: #ff8700; font-weight: bold\"> Warning </span><span style=\"color: #ff8700; text-decoration-color: #ff8700\"> NULL Quote:</span><span style=\"color: #ff8700; text-decoration-color: #ff8700; font-weight: bold; text-decoration: underline\"> 1.00mg of C77343!</span>\n",
       "</pre>\n"
      ],
      "text/plain": [
       "\u001b[1;7;38;5;208m Warning \u001b[0m\u001b[38;5;208m NULL Quote:\u001b[0m\u001b[1;4;38;5;208m 1.00mg of C77343!\u001b[0m\n"
      ]
     },
     "metadata": {},
     "output_type": "display_data"
    },
    {
     "data": {
      "text/html": [
       "<pre style=\"white-space:pre;overflow-x:auto;line-height:normal;font-family:Menlo,'DejaVu Sans Mono',consolas,'Courier New',monospace;margin:0px\"><span style=\"background-color: #ff8700; font-weight: bold\"> Warning </span><span style=\"color: #ff8700; text-decoration-color: #ff8700\"> NULL Quote:</span><span style=\"color: #ff8700; text-decoration-color: #ff8700; font-weight: bold; text-decoration: underline\"> 1.00mg of C77344!</span>\n",
       "</pre>\n"
      ],
      "text/plain": [
       "\u001b[1;7;38;5;208m Warning \u001b[0m\u001b[38;5;208m NULL Quote:\u001b[0m\u001b[1;4;38;5;208m 1.00mg of C77344!\u001b[0m\n"
      ]
     },
     "metadata": {},
     "output_type": "display_data"
    },
    {
     "data": {
      "text/html": [
       "<pre style=\"white-space:pre;overflow-x:auto;line-height:normal;font-family:Menlo,'DejaVu Sans Mono',consolas,'Courier New',monospace;margin:0px\"><span style=\"background-color: #ff8700; font-weight: bold\"> Warning </span><span style=\"color: #ff8700; text-decoration-color: #ff8700\"> NULL Quote:</span><span style=\"color: #ff8700; text-decoration-color: #ff8700; font-weight: bold; text-decoration: underline\"> 1.00mg of C77345!</span>\n",
       "</pre>\n"
      ],
      "text/plain": [
       "\u001b[1;7;38;5;208m Warning \u001b[0m\u001b[38;5;208m NULL Quote:\u001b[0m\u001b[1;4;38;5;208m 1.00mg of C77345!\u001b[0m\n"
      ]
     },
     "metadata": {},
     "output_type": "display_data"
    },
    {
     "data": {
      "text/html": [
       "<pre style=\"white-space:pre;overflow-x:auto;line-height:normal;font-family:Menlo,'DejaVu Sans Mono',consolas,'Courier New',monospace;margin:0px\"><span style=\"background-color: #ff8700; font-weight: bold\"> Warning </span><span style=\"color: #ff8700; text-decoration-color: #ff8700\"> NULL Quote:</span><span style=\"color: #ff8700; text-decoration-color: #ff8700; font-weight: bold; text-decoration: underline\"> 1.00mg of C77346!</span>\n",
       "</pre>\n"
      ],
      "text/plain": [
       "\u001b[1;7;38;5;208m Warning \u001b[0m\u001b[38;5;208m NULL Quote:\u001b[0m\u001b[1;4;38;5;208m 1.00mg of C77346!\u001b[0m\n"
      ]
     },
     "metadata": {},
     "output_type": "display_data"
    },
    {
     "data": {
      "text/html": [
       "<pre style=\"white-space:pre;overflow-x:auto;line-height:normal;font-family:Menlo,'DejaVu Sans Mono',consolas,'Courier New',monospace;margin:0px\"><span style=\"background-color: #ff8700; font-weight: bold\"> Warning </span><span style=\"color: #ff8700; text-decoration-color: #ff8700\"> NULL Quote:</span><span style=\"color: #ff8700; text-decoration-color: #ff8700; font-weight: bold; text-decoration: underline\"> 1.00mg of C77347!</span>\n",
       "</pre>\n"
      ],
      "text/plain": [
       "\u001b[1;7;38;5;208m Warning \u001b[0m\u001b[38;5;208m NULL Quote:\u001b[0m\u001b[1;4;38;5;208m 1.00mg of C77347!\u001b[0m\n"
      ]
     },
     "metadata": {},
     "output_type": "display_data"
    },
    {
     "data": {
      "text/html": [
       "<pre style=\"white-space:pre;overflow-x:auto;line-height:normal;font-family:Menlo,'DejaVu Sans Mono',consolas,'Courier New',monospace;margin:0px\"><span style=\"background-color: #ff8700; font-weight: bold\"> Warning </span><span style=\"color: #ff8700; text-decoration-color: #ff8700\"> NULL Quote:</span><span style=\"color: #ff8700; text-decoration-color: #ff8700; font-weight: bold; text-decoration: underline\"> 1.00mg of C77348!</span>\n",
       "</pre>\n"
      ],
      "text/plain": [
       "\u001b[1;7;38;5;208m Warning \u001b[0m\u001b[38;5;208m NULL Quote:\u001b[0m\u001b[1;4;38;5;208m 1.00mg of C77348!\u001b[0m\n"
      ]
     },
     "metadata": {},
     "output_type": "display_data"
    },
    {
     "data": {
      "text/html": [
       "<pre style=\"white-space:pre;overflow-x:auto;line-height:normal;font-family:Menlo,'DejaVu Sans Mono',consolas,'Courier New',monospace;margin:0px\"><span style=\"background-color: #ff8700; font-weight: bold\"> Warning </span><span style=\"color: #ff8700; text-decoration-color: #ff8700\"> NULL Quote:</span><span style=\"color: #ff8700; text-decoration-color: #ff8700; font-weight: bold; text-decoration: underline\"> 1.00mg of C77349!</span>\n",
       "</pre>\n"
      ],
      "text/plain": [
       "\u001b[1;7;38;5;208m Warning \u001b[0m\u001b[38;5;208m NULL Quote:\u001b[0m\u001b[1;4;38;5;208m 1.00mg of C77349!\u001b[0m\n"
      ]
     },
     "metadata": {},
     "output_type": "display_data"
    },
    {
     "data": {
      "text/html": [
       "<pre style=\"white-space:pre;overflow-x:auto;line-height:normal;font-family:Menlo,'DejaVu Sans Mono',consolas,'Courier New',monospace;margin:0px\"><span style=\"background-color: #ff8700; font-weight: bold\"> Warning </span><span style=\"color: #ff8700; text-decoration-color: #ff8700\"> NULL Quote:</span><span style=\"color: #ff8700; text-decoration-color: #ff8700; font-weight: bold; text-decoration: underline\"> 1.00mg of C77350!</span>\n",
       "</pre>\n"
      ],
      "text/plain": [
       "\u001b[1;7;38;5;208m Warning \u001b[0m\u001b[38;5;208m NULL Quote:\u001b[0m\u001b[1;4;38;5;208m 1.00mg of C77350!\u001b[0m\n"
      ]
     },
     "metadata": {},
     "output_type": "display_data"
    },
    {
     "data": {
      "text/html": [
       "<pre style=\"white-space:pre;overflow-x:auto;line-height:normal;font-family:Menlo,'DejaVu Sans Mono',consolas,'Courier New',monospace;margin:0px\"><span style=\"background-color: #ff8700; font-weight: bold\"> Warning </span><span style=\"color: #ff8700; text-decoration-color: #ff8700\"> NULL Quote:</span><span style=\"color: #ff8700; text-decoration-color: #ff8700; font-weight: bold; text-decoration: underline\"> 1.00mg of C77351!</span>\n",
       "</pre>\n"
      ],
      "text/plain": [
       "\u001b[1;7;38;5;208m Warning \u001b[0m\u001b[38;5;208m NULL Quote:\u001b[0m\u001b[1;4;38;5;208m 1.00mg of C77351!\u001b[0m\n"
      ]
     },
     "metadata": {},
     "output_type": "display_data"
    },
    {
     "data": {
      "text/html": [
       "<pre style=\"white-space:pre;overflow-x:auto;line-height:normal;font-family:Menlo,'DejaVu Sans Mono',consolas,'Courier New',monospace;margin:0px\"><span style=\"background-color: #ff8700; font-weight: bold\"> Warning </span><span style=\"color: #ff8700; text-decoration-color: #ff8700\"> NULL Quote:</span><span style=\"color: #ff8700; text-decoration-color: #ff8700; font-weight: bold; text-decoration: underline\"> 1.00mg of C77352!</span>\n",
       "</pre>\n"
      ],
      "text/plain": [
       "\u001b[1;7;38;5;208m Warning \u001b[0m\u001b[38;5;208m NULL Quote:\u001b[0m\u001b[1;4;38;5;208m 1.00mg of C77352!\u001b[0m\n"
      ]
     },
     "metadata": {},
     "output_type": "display_data"
    },
    {
     "data": {
      "text/html": [
       "<pre style=\"white-space:pre;overflow-x:auto;line-height:normal;font-family:Menlo,'DejaVu Sans Mono',consolas,'Courier New',monospace;margin:0px\"><span style=\"background-color: #ff8700; font-weight: bold\"> Warning </span><span style=\"color: #ff8700; text-decoration-color: #ff8700\"> NULL Quote:</span><span style=\"color: #ff8700; text-decoration-color: #ff8700; font-weight: bold; text-decoration: underline\"> 1.00mg of C77353!</span>\n",
       "</pre>\n"
      ],
      "text/plain": [
       "\u001b[1;7;38;5;208m Warning \u001b[0m\u001b[38;5;208m NULL Quote:\u001b[0m\u001b[1;4;38;5;208m 1.00mg of C77353!\u001b[0m\n"
      ]
     },
     "metadata": {},
     "output_type": "display_data"
    },
    {
     "data": {
      "text/html": [
       "<pre style=\"white-space:pre;overflow-x:auto;line-height:normal;font-family:Menlo,'DejaVu Sans Mono',consolas,'Courier New',monospace;margin:0px\"><span style=\"background-color: #ff8700; font-weight: bold\"> Warning </span><span style=\"color: #ff8700; text-decoration-color: #ff8700\"> NULL Quote:</span><span style=\"color: #ff8700; text-decoration-color: #ff8700; font-weight: bold; text-decoration: underline\"> 1.00mg of C77354!</span>\n",
       "</pre>\n"
      ],
      "text/plain": [
       "\u001b[1;7;38;5;208m Warning \u001b[0m\u001b[38;5;208m NULL Quote:\u001b[0m\u001b[1;4;38;5;208m 1.00mg of C77354!\u001b[0m\n"
      ]
     },
     "metadata": {},
     "output_type": "display_data"
    },
    {
     "data": {
      "text/html": [
       "<pre style=\"white-space:pre;overflow-x:auto;line-height:normal;font-family:Menlo,'DejaVu Sans Mono',consolas,'Courier New',monospace;margin:0px\"><span style=\"background-color: #ff8700; font-weight: bold\"> Warning </span><span style=\"color: #ff8700; text-decoration-color: #ff8700\"> NULL Quote:</span><span style=\"color: #ff8700; text-decoration-color: #ff8700; font-weight: bold; text-decoration: underline\"> 1.00mg of C77355!</span>\n",
       "</pre>\n"
      ],
      "text/plain": [
       "\u001b[1;7;38;5;208m Warning \u001b[0m\u001b[38;5;208m NULL Quote:\u001b[0m\u001b[1;4;38;5;208m 1.00mg of C77355!\u001b[0m\n"
      ]
     },
     "metadata": {},
     "output_type": "display_data"
    },
    {
     "data": {
      "text/html": [
       "<pre style=\"white-space:pre;overflow-x:auto;line-height:normal;font-family:Menlo,'DejaVu Sans Mono',consolas,'Courier New',monospace;margin:0px\"><span style=\"background-color: #ff8700; font-weight: bold\"> Warning </span><span style=\"color: #ff8700; text-decoration-color: #ff8700\"> NULL Quote:</span><span style=\"color: #ff8700; text-decoration-color: #ff8700; font-weight: bold; text-decoration: underline\"> 1.00mg of C77356!</span>\n",
       "</pre>\n"
      ],
      "text/plain": [
       "\u001b[1;7;38;5;208m Warning \u001b[0m\u001b[38;5;208m NULL Quote:\u001b[0m\u001b[1;4;38;5;208m 1.00mg of C77356!\u001b[0m\n"
      ]
     },
     "metadata": {},
     "output_type": "display_data"
    },
    {
     "data": {
      "text/html": [
       "<pre style=\"white-space:pre;overflow-x:auto;line-height:normal;font-family:Menlo,'DejaVu Sans Mono',consolas,'Courier New',monospace;margin:0px\"><span style=\"background-color: #ff8700; font-weight: bold\"> Warning </span><span style=\"color: #ff8700; text-decoration-color: #ff8700\"> NULL Quote:</span><span style=\"color: #ff8700; text-decoration-color: #ff8700; font-weight: bold; text-decoration: underline\"> 1.00mg of C77357!</span>\n",
       "</pre>\n"
      ],
      "text/plain": [
       "\u001b[1;7;38;5;208m Warning \u001b[0m\u001b[38;5;208m NULL Quote:\u001b[0m\u001b[1;4;38;5;208m 1.00mg of C77357!\u001b[0m\n"
      ]
     },
     "metadata": {},
     "output_type": "display_data"
    },
    {
     "data": {
      "text/html": [
       "<pre style=\"white-space:pre;overflow-x:auto;line-height:normal;font-family:Menlo,'DejaVu Sans Mono',consolas,'Courier New',monospace;margin:0px\"><span style=\"background-color: #ff8700; font-weight: bold\"> Warning </span><span style=\"color: #ff8700; text-decoration-color: #ff8700\"> NULL Quote:</span><span style=\"color: #ff8700; text-decoration-color: #ff8700; font-weight: bold; text-decoration: underline\"> 1.00mg of C77358!</span>\n",
       "</pre>\n"
      ],
      "text/plain": [
       "\u001b[1;7;38;5;208m Warning \u001b[0m\u001b[38;5;208m NULL Quote:\u001b[0m\u001b[1;4;38;5;208m 1.00mg of C77358!\u001b[0m\n"
      ]
     },
     "metadata": {},
     "output_type": "display_data"
    },
    {
     "data": {
      "text/html": [
       "<pre style=\"white-space:pre;overflow-x:auto;line-height:normal;font-family:Menlo,'DejaVu Sans Mono',consolas,'Courier New',monospace;margin:0px\"><span style=\"background-color: #ff8700; font-weight: bold\"> Warning </span><span style=\"color: #ff8700; text-decoration-color: #ff8700\"> NULL Quote:</span><span style=\"color: #ff8700; text-decoration-color: #ff8700; font-weight: bold; text-decoration: underline\"> 1.00mg of C77359!</span>\n",
       "</pre>\n"
      ],
      "text/plain": [
       "\u001b[1;7;38;5;208m Warning \u001b[0m\u001b[38;5;208m NULL Quote:\u001b[0m\u001b[1;4;38;5;208m 1.00mg of C77359!\u001b[0m\n"
      ]
     },
     "metadata": {},
     "output_type": "display_data"
    },
    {
     "data": {
      "text/html": [
       "<pre style=\"white-space:pre;overflow-x:auto;line-height:normal;font-family:Menlo,'DejaVu Sans Mono',consolas,'Courier New',monospace;margin:0px\"><span style=\"background-color: #ff8700; font-weight: bold\"> Warning </span><span style=\"color: #ff8700; text-decoration-color: #ff8700\"> NULL Quote:</span><span style=\"color: #ff8700; text-decoration-color: #ff8700; font-weight: bold; text-decoration: underline\"> 1.00mg of C77360!</span>\n",
       "</pre>\n"
      ],
      "text/plain": [
       "\u001b[1;7;38;5;208m Warning \u001b[0m\u001b[38;5;208m NULL Quote:\u001b[0m\u001b[1;4;38;5;208m 1.00mg of C77360!\u001b[0m\n"
      ]
     },
     "metadata": {},
     "output_type": "display_data"
    },
    {
     "data": {
      "text/html": [
       "<pre style=\"white-space:pre;overflow-x:auto;line-height:normal;font-family:Menlo,'DejaVu Sans Mono',consolas,'Courier New',monospace;margin:0px\"><span style=\"background-color: #ff8700; font-weight: bold\"> Warning </span><span style=\"color: #ff8700; text-decoration-color: #ff8700\"> NULL Quote:</span><span style=\"color: #ff8700; text-decoration-color: #ff8700; font-weight: bold; text-decoration: underline\"> 1.00mg of C77361!</span>\n",
       "</pre>\n"
      ],
      "text/plain": [
       "\u001b[1;7;38;5;208m Warning \u001b[0m\u001b[38;5;208m NULL Quote:\u001b[0m\u001b[1;4;38;5;208m 1.00mg of C77361!\u001b[0m\n"
      ]
     },
     "metadata": {},
     "output_type": "display_data"
    },
    {
     "data": {
      "text/html": [
       "<pre style=\"white-space:pre;overflow-x:auto;line-height:normal;font-family:Menlo,'DejaVu Sans Mono',consolas,'Courier New',monospace;margin:0px\"><span style=\"background-color: #ff8700; font-weight: bold\"> Warning </span><span style=\"color: #ff8700; text-decoration-color: #ff8700\"> NULL Quote:</span><span style=\"color: #ff8700; text-decoration-color: #ff8700; font-weight: bold; text-decoration: underline\"> 1.00mg of C77362!</span>\n",
       "</pre>\n"
      ],
      "text/plain": [
       "\u001b[1;7;38;5;208m Warning \u001b[0m\u001b[38;5;208m NULL Quote:\u001b[0m\u001b[1;4;38;5;208m 1.00mg of C77362!\u001b[0m\n"
      ]
     },
     "metadata": {},
     "output_type": "display_data"
    },
    {
     "data": {
      "text/html": [
       "<pre style=\"white-space:pre;overflow-x:auto;line-height:normal;font-family:Menlo,'DejaVu Sans Mono',consolas,'Courier New',monospace;margin:0px\"><span style=\"background-color: #ff8700; font-weight: bold\"> Warning </span><span style=\"color: #ff8700; text-decoration-color: #ff8700\"> NULL Quote:</span><span style=\"color: #ff8700; text-decoration-color: #ff8700; font-weight: bold; text-decoration: underline\"> 1.00mg of C77363!</span>\n",
       "</pre>\n"
      ],
      "text/plain": [
       "\u001b[1;7;38;5;208m Warning \u001b[0m\u001b[38;5;208m NULL Quote:\u001b[0m\u001b[1;4;38;5;208m 1.00mg of C77363!\u001b[0m\n"
      ]
     },
     "metadata": {},
     "output_type": "display_data"
    },
    {
     "data": {
      "text/html": [
       "<pre style=\"white-space:pre;overflow-x:auto;line-height:normal;font-family:Menlo,'DejaVu Sans Mono',consolas,'Courier New',monospace;margin:0px\"><span style=\"background-color: #ff8700; font-weight: bold\"> Warning </span><span style=\"color: #ff8700; text-decoration-color: #ff8700\"> NULL Quote:</span><span style=\"color: #ff8700; text-decoration-color: #ff8700; font-weight: bold; text-decoration: underline\"> 1.00mg of C77364!</span>\n",
       "</pre>\n"
      ],
      "text/plain": [
       "\u001b[1;7;38;5;208m Warning \u001b[0m\u001b[38;5;208m NULL Quote:\u001b[0m\u001b[1;4;38;5;208m 1.00mg of C77364!\u001b[0m\n"
      ]
     },
     "metadata": {},
     "output_type": "display_data"
    },
    {
     "data": {
      "text/html": [
       "<pre style=\"white-space:pre;overflow-x:auto;line-height:normal;font-family:Menlo,'DejaVu Sans Mono',consolas,'Courier New',monospace;margin:0px\"><span style=\"background-color: #ff8700; font-weight: bold\"> Warning </span><span style=\"color: #ff8700; text-decoration-color: #ff8700\"> NULL Quote:</span><span style=\"color: #ff8700; text-decoration-color: #ff8700; font-weight: bold; text-decoration: underline\"> 1.00mg of C77365!</span>\n",
       "</pre>\n"
      ],
      "text/plain": [
       "\u001b[1;7;38;5;208m Warning \u001b[0m\u001b[38;5;208m NULL Quote:\u001b[0m\u001b[1;4;38;5;208m 1.00mg of C77365!\u001b[0m\n"
      ]
     },
     "metadata": {},
     "output_type": "display_data"
    },
    {
     "data": {
      "text/html": [
       "<pre style=\"white-space:pre;overflow-x:auto;line-height:normal;font-family:Menlo,'DejaVu Sans Mono',consolas,'Courier New',monospace;margin:0px\"><span style=\"background-color: #ff8700; font-weight: bold\"> Warning </span><span style=\"color: #ff8700; text-decoration-color: #ff8700\"> NULL Quote:</span><span style=\"color: #ff8700; text-decoration-color: #ff8700; font-weight: bold; text-decoration: underline\"> 1.00mg of C77366!</span>\n",
       "</pre>\n"
      ],
      "text/plain": [
       "\u001b[1;7;38;5;208m Warning \u001b[0m\u001b[38;5;208m NULL Quote:\u001b[0m\u001b[1;4;38;5;208m 1.00mg of C77366!\u001b[0m\n"
      ]
     },
     "metadata": {},
     "output_type": "display_data"
    },
    {
     "data": {
      "text/html": [
       "<pre style=\"white-space:pre;overflow-x:auto;line-height:normal;font-family:Menlo,'DejaVu Sans Mono',consolas,'Courier New',monospace;margin:0px\"><span style=\"background-color: #ff8700; font-weight: bold\"> Warning </span><span style=\"color: #ff8700; text-decoration-color: #ff8700\"> NULL Quote:</span><span style=\"color: #ff8700; text-decoration-color: #ff8700; font-weight: bold; text-decoration: underline\"> 1.00mg of C77367!</span>\n",
       "</pre>\n"
      ],
      "text/plain": [
       "\u001b[1;7;38;5;208m Warning \u001b[0m\u001b[38;5;208m NULL Quote:\u001b[0m\u001b[1;4;38;5;208m 1.00mg of C77367!\u001b[0m\n"
      ]
     },
     "metadata": {},
     "output_type": "display_data"
    },
    {
     "data": {
      "text/html": [
       "<pre style=\"white-space:pre;overflow-x:auto;line-height:normal;font-family:Menlo,'DejaVu Sans Mono',consolas,'Courier New',monospace;margin:0px\"><span style=\"background-color: #ff8700; font-weight: bold\"> Warning </span><span style=\"color: #ff8700; text-decoration-color: #ff8700\"> NULL Quote:</span><span style=\"color: #ff8700; text-decoration-color: #ff8700; font-weight: bold; text-decoration: underline\"> 1.00mg of C77368!</span>\n",
       "</pre>\n"
      ],
      "text/plain": [
       "\u001b[1;7;38;5;208m Warning \u001b[0m\u001b[38;5;208m NULL Quote:\u001b[0m\u001b[1;4;38;5;208m 1.00mg of C77368!\u001b[0m\n"
      ]
     },
     "metadata": {},
     "output_type": "display_data"
    },
    {
     "data": {
      "text/html": [
       "<pre style=\"white-space:pre;overflow-x:auto;line-height:normal;font-family:Menlo,'DejaVu Sans Mono',consolas,'Courier New',monospace;margin:0px\"><span style=\"background-color: #ff8700; font-weight: bold\"> Warning </span><span style=\"color: #ff8700; text-decoration-color: #ff8700\"> NULL Quote:</span><span style=\"color: #ff8700; text-decoration-color: #ff8700; font-weight: bold; text-decoration: underline\"> 1.00mg of C77369!</span>\n",
       "</pre>\n"
      ],
      "text/plain": [
       "\u001b[1;7;38;5;208m Warning \u001b[0m\u001b[38;5;208m NULL Quote:\u001b[0m\u001b[1;4;38;5;208m 1.00mg of C77369!\u001b[0m\n"
      ]
     },
     "metadata": {},
     "output_type": "display_data"
    },
    {
     "data": {
      "text/html": [
       "<pre style=\"white-space:pre;overflow-x:auto;line-height:normal;font-family:Menlo,'DejaVu Sans Mono',consolas,'Courier New',monospace;margin:0px\"><span style=\"background-color: #ff8700; font-weight: bold\"> Warning </span><span style=\"color: #ff8700; text-decoration-color: #ff8700\"> NULL Quote:</span><span style=\"color: #ff8700; text-decoration-color: #ff8700; font-weight: bold; text-decoration: underline\"> 1.00mg of C77370!</span>\n",
       "</pre>\n"
      ],
      "text/plain": [
       "\u001b[1;7;38;5;208m Warning \u001b[0m\u001b[38;5;208m NULL Quote:\u001b[0m\u001b[1;4;38;5;208m 1.00mg of C77370!\u001b[0m\n"
      ]
     },
     "metadata": {},
     "output_type": "display_data"
    },
    {
     "data": {
      "text/html": [
       "<pre style=\"white-space:pre;overflow-x:auto;line-height:normal;font-family:Menlo,'DejaVu Sans Mono',consolas,'Courier New',monospace;margin:0px\"><span style=\"background-color: #ff8700; font-weight: bold\"> Warning </span><span style=\"color: #ff8700; text-decoration-color: #ff8700\"> NULL Quote:</span><span style=\"color: #ff8700; text-decoration-color: #ff8700; font-weight: bold; text-decoration: underline\"> 1.00mg of C77371!</span>\n",
       "</pre>\n"
      ],
      "text/plain": [
       "\u001b[1;7;38;5;208m Warning \u001b[0m\u001b[38;5;208m NULL Quote:\u001b[0m\u001b[1;4;38;5;208m 1.00mg of C77371!\u001b[0m\n"
      ]
     },
     "metadata": {},
     "output_type": "display_data"
    },
    {
     "data": {
      "text/html": [
       "<pre style=\"white-space:pre;overflow-x:auto;line-height:normal;font-family:Menlo,'DejaVu Sans Mono',consolas,'Courier New',monospace;margin:0px\"><span style=\"background-color: #ff8700; font-weight: bold\"> Warning </span><span style=\"color: #ff8700; text-decoration-color: #ff8700\"> NULL Quote:</span><span style=\"color: #ff8700; text-decoration-color: #ff8700; font-weight: bold; text-decoration: underline\"> 1.00mg of C77372!</span>\n",
       "</pre>\n"
      ],
      "text/plain": [
       "\u001b[1;7;38;5;208m Warning \u001b[0m\u001b[38;5;208m NULL Quote:\u001b[0m\u001b[1;4;38;5;208m 1.00mg of C77372!\u001b[0m\n"
      ]
     },
     "metadata": {},
     "output_type": "display_data"
    },
    {
     "data": {
      "text/html": [
       "<pre style=\"white-space:pre;overflow-x:auto;line-height:normal;font-family:Menlo,'DejaVu Sans Mono',consolas,'Courier New',monospace;margin:0px\"><span style=\"background-color: #ff8700; font-weight: bold\"> Warning </span><span style=\"color: #ff8700; text-decoration-color: #ff8700\"> NULL Quote:</span><span style=\"color: #ff8700; text-decoration-color: #ff8700; font-weight: bold; text-decoration: underline\"> 1.00mg of C77373!</span>\n",
       "</pre>\n"
      ],
      "text/plain": [
       "\u001b[1;7;38;5;208m Warning \u001b[0m\u001b[38;5;208m NULL Quote:\u001b[0m\u001b[1;4;38;5;208m 1.00mg of C77373!\u001b[0m\n"
      ]
     },
     "metadata": {},
     "output_type": "display_data"
    },
    {
     "data": {
      "text/html": [
       "<pre style=\"white-space:pre;overflow-x:auto;line-height:normal;font-family:Menlo,'DejaVu Sans Mono',consolas,'Courier New',monospace;margin:0px\"><span style=\"background-color: #ff8700; font-weight: bold\"> Warning </span><span style=\"color: #ff8700; text-decoration-color: #ff8700\"> NULL Quote:</span><span style=\"color: #ff8700; text-decoration-color: #ff8700; font-weight: bold; text-decoration: underline\"> 1.00mg of C77374!</span>\n",
       "</pre>\n"
      ],
      "text/plain": [
       "\u001b[1;7;38;5;208m Warning \u001b[0m\u001b[38;5;208m NULL Quote:\u001b[0m\u001b[1;4;38;5;208m 1.00mg of C77374!\u001b[0m\n"
      ]
     },
     "metadata": {},
     "output_type": "display_data"
    },
    {
     "data": {
      "text/html": [
       "<pre style=\"white-space:pre;overflow-x:auto;line-height:normal;font-family:Menlo,'DejaVu Sans Mono',consolas,'Courier New',monospace;margin:0px\"><span style=\"background-color: #ff8700; font-weight: bold\"> Warning </span><span style=\"color: #ff8700; text-decoration-color: #ff8700\"> NULL Quote:</span><span style=\"color: #ff8700; text-decoration-color: #ff8700; font-weight: bold; text-decoration: underline\"> 1.00mg of C77375!</span>\n",
       "</pre>\n"
      ],
      "text/plain": [
       "\u001b[1;7;38;5;208m Warning \u001b[0m\u001b[38;5;208m NULL Quote:\u001b[0m\u001b[1;4;38;5;208m 1.00mg of C77375!\u001b[0m\n"
      ]
     },
     "metadata": {},
     "output_type": "display_data"
    },
    {
     "data": {
      "text/html": [
       "<pre style=\"white-space:pre;overflow-x:auto;line-height:normal;font-family:Menlo,'DejaVu Sans Mono',consolas,'Courier New',monospace;margin:0px\"><span style=\"background-color: #ff8700; font-weight: bold\"> Warning </span><span style=\"color: #ff8700; text-decoration-color: #ff8700\"> NULL Quote:</span><span style=\"color: #ff8700; text-decoration-color: #ff8700; font-weight: bold; text-decoration: underline\"> 1.00mg of C77376!</span>\n",
       "</pre>\n"
      ],
      "text/plain": [
       "\u001b[1;7;38;5;208m Warning \u001b[0m\u001b[38;5;208m NULL Quote:\u001b[0m\u001b[1;4;38;5;208m 1.00mg of C77376!\u001b[0m\n"
      ]
     },
     "metadata": {},
     "output_type": "display_data"
    },
    {
     "data": {
      "text/html": [
       "<pre style=\"white-space:pre;overflow-x:auto;line-height:normal;font-family:Menlo,'DejaVu Sans Mono',consolas,'Courier New',monospace;margin:0px\"><span style=\"background-color: #ff8700; font-weight: bold\"> Warning </span><span style=\"color: #ff8700; text-decoration-color: #ff8700\"> NULL Quote:</span><span style=\"color: #ff8700; text-decoration-color: #ff8700; font-weight: bold; text-decoration: underline\"> 1.00mg of C77377!</span>\n",
       "</pre>\n"
      ],
      "text/plain": [
       "\u001b[1;7;38;5;208m Warning \u001b[0m\u001b[38;5;208m NULL Quote:\u001b[0m\u001b[1;4;38;5;208m 1.00mg of C77377!\u001b[0m\n"
      ]
     },
     "metadata": {},
     "output_type": "display_data"
    },
    {
     "data": {
      "text/html": [
       "<pre style=\"white-space:pre;overflow-x:auto;line-height:normal;font-family:Menlo,'DejaVu Sans Mono',consolas,'Courier New',monospace;margin:0px\"><span style=\"background-color: #ff8700; font-weight: bold\"> Warning </span><span style=\"color: #ff8700; text-decoration-color: #ff8700\"> NULL Quote:</span><span style=\"color: #ff8700; text-decoration-color: #ff8700; font-weight: bold; text-decoration: underline\"> 1.00mg of C77378!</span>\n",
       "</pre>\n"
      ],
      "text/plain": [
       "\u001b[1;7;38;5;208m Warning \u001b[0m\u001b[38;5;208m NULL Quote:\u001b[0m\u001b[1;4;38;5;208m 1.00mg of C77378!\u001b[0m\n"
      ]
     },
     "metadata": {},
     "output_type": "display_data"
    },
    {
     "data": {
      "text/html": [
       "<pre style=\"white-space:pre;overflow-x:auto;line-height:normal;font-family:Menlo,'DejaVu Sans Mono',consolas,'Courier New',monospace;margin:0px\"><span style=\"background-color: #ff8700; font-weight: bold\"> Warning </span><span style=\"color: #ff8700; text-decoration-color: #ff8700\"> NULL Quote:</span><span style=\"color: #ff8700; text-decoration-color: #ff8700; font-weight: bold; text-decoration: underline\"> 1.00mg of C77379!</span>\n",
       "</pre>\n"
      ],
      "text/plain": [
       "\u001b[1;7;38;5;208m Warning \u001b[0m\u001b[38;5;208m NULL Quote:\u001b[0m\u001b[1;4;38;5;208m 1.00mg of C77379!\u001b[0m\n"
      ]
     },
     "metadata": {},
     "output_type": "display_data"
    },
    {
     "data": {
      "text/html": [
       "<pre style=\"white-space:pre;overflow-x:auto;line-height:normal;font-family:Menlo,'DejaVu Sans Mono',consolas,'Courier New',monospace;margin:0px\"><span style=\"background-color: #ff8700; font-weight: bold\"> Warning </span><span style=\"color: #ff8700; text-decoration-color: #ff8700\"> NULL Quote:</span><span style=\"color: #ff8700; text-decoration-color: #ff8700; font-weight: bold; text-decoration: underline\"> 1.00mg of C77380!</span>\n",
       "</pre>\n"
      ],
      "text/plain": [
       "\u001b[1;7;38;5;208m Warning \u001b[0m\u001b[38;5;208m NULL Quote:\u001b[0m\u001b[1;4;38;5;208m 1.00mg of C77380!\u001b[0m\n"
      ]
     },
     "metadata": {},
     "output_type": "display_data"
    },
    {
     "data": {
      "text/html": [
       "<pre style=\"white-space:pre;overflow-x:auto;line-height:normal;font-family:Menlo,'DejaVu Sans Mono',consolas,'Courier New',monospace;margin:0px\"><span style=\"background-color: #ff8700; font-weight: bold\"> Warning </span><span style=\"color: #ff8700; text-decoration-color: #ff8700\"> NULL Quote:</span><span style=\"color: #ff8700; text-decoration-color: #ff8700; font-weight: bold; text-decoration: underline\"> 1.00mg of C77381!</span>\n",
       "</pre>\n"
      ],
      "text/plain": [
       "\u001b[1;7;38;5;208m Warning \u001b[0m\u001b[38;5;208m NULL Quote:\u001b[0m\u001b[1;4;38;5;208m 1.00mg of C77381!\u001b[0m\n"
      ]
     },
     "metadata": {},
     "output_type": "display_data"
    },
    {
     "data": {
      "text/html": [
       "<pre style=\"white-space:pre;overflow-x:auto;line-height:normal;font-family:Menlo,'DejaVu Sans Mono',consolas,'Courier New',monospace;margin:0px\"><span style=\"background-color: #ff8700; font-weight: bold\"> Warning </span><span style=\"color: #ff8700; text-decoration-color: #ff8700\"> NULL Quote:</span><span style=\"color: #ff8700; text-decoration-color: #ff8700; font-weight: bold; text-decoration: underline\"> 1.00mg of C77382!</span>\n",
       "</pre>\n"
      ],
      "text/plain": [
       "\u001b[1;7;38;5;208m Warning \u001b[0m\u001b[38;5;208m NULL Quote:\u001b[0m\u001b[1;4;38;5;208m 1.00mg of C77382!\u001b[0m\n"
      ]
     },
     "metadata": {},
     "output_type": "display_data"
    },
    {
     "data": {
      "text/html": [
       "<pre style=\"white-space:pre;overflow-x:auto;line-height:normal;font-family:Menlo,'DejaVu Sans Mono',consolas,'Courier New',monospace;margin:0px\"><span style=\"background-color: #ff8700; font-weight: bold\"> Warning </span><span style=\"color: #ff8700; text-decoration-color: #ff8700\"> NULL Quote:</span><span style=\"color: #ff8700; text-decoration-color: #ff8700; font-weight: bold; text-decoration: underline\"> 1.00mg of C77383!</span>\n",
       "</pre>\n"
      ],
      "text/plain": [
       "\u001b[1;7;38;5;208m Warning \u001b[0m\u001b[38;5;208m NULL Quote:\u001b[0m\u001b[1;4;38;5;208m 1.00mg of C77383!\u001b[0m\n"
      ]
     },
     "metadata": {},
     "output_type": "display_data"
    },
    {
     "data": {
      "text/html": [
       "<pre style=\"white-space:pre;overflow-x:auto;line-height:normal;font-family:Menlo,'DejaVu Sans Mono',consolas,'Courier New',monospace;margin:0px\"><span style=\"background-color: #ff8700; font-weight: bold\"> Warning </span><span style=\"color: #ff8700; text-decoration-color: #ff8700\"> NULL Quote:</span><span style=\"color: #ff8700; text-decoration-color: #ff8700; font-weight: bold; text-decoration: underline\"> 1.00mg of C77384!</span>\n",
       "</pre>\n"
      ],
      "text/plain": [
       "\u001b[1;7;38;5;208m Warning \u001b[0m\u001b[38;5;208m NULL Quote:\u001b[0m\u001b[1;4;38;5;208m 1.00mg of C77384!\u001b[0m\n"
      ]
     },
     "metadata": {},
     "output_type": "display_data"
    },
    {
     "data": {
      "text/html": [
       "<pre style=\"white-space:pre;overflow-x:auto;line-height:normal;font-family:Menlo,'DejaVu Sans Mono',consolas,'Courier New',monospace;margin:0px\"><span style=\"background-color: #ff8700; font-weight: bold\"> Warning </span><span style=\"color: #ff8700; text-decoration-color: #ff8700\"> NULL Quote:</span><span style=\"color: #ff8700; text-decoration-color: #ff8700; font-weight: bold; text-decoration: underline\"> 1.00mg of C77385!</span>\n",
       "</pre>\n"
      ],
      "text/plain": [
       "\u001b[1;7;38;5;208m Warning \u001b[0m\u001b[38;5;208m NULL Quote:\u001b[0m\u001b[1;4;38;5;208m 1.00mg of C77385!\u001b[0m\n"
      ]
     },
     "metadata": {},
     "output_type": "display_data"
    },
    {
     "data": {
      "text/html": [
       "<pre style=\"white-space:pre;overflow-x:auto;line-height:normal;font-family:Menlo,'DejaVu Sans Mono',consolas,'Courier New',monospace;margin:0px\"><span style=\"background-color: #ff8700; font-weight: bold\"> Warning </span><span style=\"color: #ff8700; text-decoration-color: #ff8700\"> NULL Quote:</span><span style=\"color: #ff8700; text-decoration-color: #ff8700; font-weight: bold; text-decoration: underline\"> 1.00mg of C77386!</span>\n",
       "</pre>\n"
      ],
      "text/plain": [
       "\u001b[1;7;38;5;208m Warning \u001b[0m\u001b[38;5;208m NULL Quote:\u001b[0m\u001b[1;4;38;5;208m 1.00mg of C77386!\u001b[0m\n"
      ]
     },
     "metadata": {},
     "output_type": "display_data"
    },
    {
     "data": {
      "text/html": [
       "<pre style=\"white-space:pre;overflow-x:auto;line-height:normal;font-family:Menlo,'DejaVu Sans Mono',consolas,'Courier New',monospace;margin:0px\"><span style=\"background-color: #ff8700; font-weight: bold\"> Warning </span><span style=\"color: #ff8700; text-decoration-color: #ff8700\"> NULL Quote:</span><span style=\"color: #ff8700; text-decoration-color: #ff8700; font-weight: bold; text-decoration: underline\"> 1.00mg of C77387!</span>\n",
       "</pre>\n"
      ],
      "text/plain": [
       "\u001b[1;7;38;5;208m Warning \u001b[0m\u001b[38;5;208m NULL Quote:\u001b[0m\u001b[1;4;38;5;208m 1.00mg of C77387!\u001b[0m\n"
      ]
     },
     "metadata": {},
     "output_type": "display_data"
    },
    {
     "data": {
      "text/html": [
       "<pre style=\"white-space:pre;overflow-x:auto;line-height:normal;font-family:Menlo,'DejaVu Sans Mono',consolas,'Courier New',monospace;margin:0px\"><span style=\"background-color: #ff8700; font-weight: bold\"> Warning </span><span style=\"color: #ff8700; text-decoration-color: #ff8700\"> NULL Quote:</span><span style=\"color: #ff8700; text-decoration-color: #ff8700; font-weight: bold; text-decoration: underline\"> 1.00mg of C77388!</span>\n",
       "</pre>\n"
      ],
      "text/plain": [
       "\u001b[1;7;38;5;208m Warning \u001b[0m\u001b[38;5;208m NULL Quote:\u001b[0m\u001b[1;4;38;5;208m 1.00mg of C77388!\u001b[0m\n"
      ]
     },
     "metadata": {},
     "output_type": "display_data"
    },
    {
     "data": {
      "text/html": [
       "<pre style=\"white-space:pre;overflow-x:auto;line-height:normal;font-family:Menlo,'DejaVu Sans Mono',consolas,'Courier New',monospace;margin:0px\"><span style=\"background-color: #ff8700; font-weight: bold\"> Warning </span><span style=\"color: #ff8700; text-decoration-color: #ff8700\"> NULL Quote:</span><span style=\"color: #ff8700; text-decoration-color: #ff8700; font-weight: bold; text-decoration: underline\"> 1.00mg of C77389!</span>\n",
       "</pre>\n"
      ],
      "text/plain": [
       "\u001b[1;7;38;5;208m Warning \u001b[0m\u001b[38;5;208m NULL Quote:\u001b[0m\u001b[1;4;38;5;208m 1.00mg of C77389!\u001b[0m\n"
      ]
     },
     "metadata": {},
     "output_type": "display_data"
    },
    {
     "data": {
      "text/html": [
       "<pre style=\"white-space:pre;overflow-x:auto;line-height:normal;font-family:Menlo,'DejaVu Sans Mono',consolas,'Courier New',monospace;margin:0px\"><span style=\"background-color: #ff8700; font-weight: bold\"> Warning </span><span style=\"color: #ff8700; text-decoration-color: #ff8700\"> NULL Quote:</span><span style=\"color: #ff8700; text-decoration-color: #ff8700; font-weight: bold; text-decoration: underline\"> 1.00mg of C77390!</span>\n",
       "</pre>\n"
      ],
      "text/plain": [
       "\u001b[1;7;38;5;208m Warning \u001b[0m\u001b[38;5;208m NULL Quote:\u001b[0m\u001b[1;4;38;5;208m 1.00mg of C77390!\u001b[0m\n"
      ]
     },
     "metadata": {},
     "output_type": "display_data"
    },
    {
     "data": {
      "text/html": [
       "<pre style=\"white-space:pre;overflow-x:auto;line-height:normal;font-family:Menlo,'DejaVu Sans Mono',consolas,'Courier New',monospace;margin:0px\"><span style=\"background-color: #ff8700; font-weight: bold\"> Warning </span><span style=\"color: #ff8700; text-decoration-color: #ff8700\"> NULL Quote:</span><span style=\"color: #ff8700; text-decoration-color: #ff8700; font-weight: bold; text-decoration: underline\"> 1.00mg of C77391!</span>\n",
       "</pre>\n"
      ],
      "text/plain": [
       "\u001b[1;7;38;5;208m Warning \u001b[0m\u001b[38;5;208m NULL Quote:\u001b[0m\u001b[1;4;38;5;208m 1.00mg of C77391!\u001b[0m\n"
      ]
     },
     "metadata": {},
     "output_type": "display_data"
    },
    {
     "data": {
      "text/html": [
       "<pre style=\"white-space:pre;overflow-x:auto;line-height:normal;font-family:Menlo,'DejaVu Sans Mono',consolas,'Courier New',monospace;margin:0px\"><span style=\"background-color: #ff8700; font-weight: bold\"> Warning </span><span style=\"color: #ff8700; text-decoration-color: #ff8700\"> NULL Quote:</span><span style=\"color: #ff8700; text-decoration-color: #ff8700; font-weight: bold; text-decoration: underline\"> 1.00mg of C77392!</span>\n",
       "</pre>\n"
      ],
      "text/plain": [
       "\u001b[1;7;38;5;208m Warning \u001b[0m\u001b[38;5;208m NULL Quote:\u001b[0m\u001b[1;4;38;5;208m 1.00mg of C77392!\u001b[0m\n"
      ]
     },
     "metadata": {},
     "output_type": "display_data"
    },
    {
     "data": {
      "text/html": [
       "<pre style=\"white-space:pre;overflow-x:auto;line-height:normal;font-family:Menlo,'DejaVu Sans Mono',consolas,'Courier New',monospace;margin:0px\"><span style=\"background-color: #ff8700; font-weight: bold\"> Warning </span><span style=\"color: #ff8700; text-decoration-color: #ff8700\"> NULL Quote:</span><span style=\"color: #ff8700; text-decoration-color: #ff8700; font-weight: bold; text-decoration: underline\"> 1.00mg of C77393!</span>\n",
       "</pre>\n"
      ],
      "text/plain": [
       "\u001b[1;7;38;5;208m Warning \u001b[0m\u001b[38;5;208m NULL Quote:\u001b[0m\u001b[1;4;38;5;208m 1.00mg of C77393!\u001b[0m\n"
      ]
     },
     "metadata": {},
     "output_type": "display_data"
    },
    {
     "data": {
      "text/html": [
       "<pre style=\"white-space:pre;overflow-x:auto;line-height:normal;font-family:Menlo,'DejaVu Sans Mono',consolas,'Courier New',monospace;margin:0px\"><span style=\"background-color: #ff8700; font-weight: bold\"> Warning </span><span style=\"color: #ff8700; text-decoration-color: #ff8700\"> NULL Quote:</span><span style=\"color: #ff8700; text-decoration-color: #ff8700; font-weight: bold; text-decoration: underline\"> 1.00mg of C77394!</span>\n",
       "</pre>\n"
      ],
      "text/plain": [
       "\u001b[1;7;38;5;208m Warning \u001b[0m\u001b[38;5;208m NULL Quote:\u001b[0m\u001b[1;4;38;5;208m 1.00mg of C77394!\u001b[0m\n"
      ]
     },
     "metadata": {},
     "output_type": "display_data"
    },
    {
     "data": {
      "text/html": [
       "<pre style=\"white-space:pre;overflow-x:auto;line-height:normal;font-family:Menlo,'DejaVu Sans Mono',consolas,'Courier New',monospace;margin:0px\"><span style=\"background-color: #ff8700; font-weight: bold\"> Warning </span><span style=\"color: #ff8700; text-decoration-color: #ff8700\"> NULL Quote:</span><span style=\"color: #ff8700; text-decoration-color: #ff8700; font-weight: bold; text-decoration: underline\"> 1.00mg of C77395!</span>\n",
       "</pre>\n"
      ],
      "text/plain": [
       "\u001b[1;7;38;5;208m Warning \u001b[0m\u001b[38;5;208m NULL Quote:\u001b[0m\u001b[1;4;38;5;208m 1.00mg of C77395!\u001b[0m\n"
      ]
     },
     "metadata": {},
     "output_type": "display_data"
    },
    {
     "data": {
      "text/html": [
       "<pre style=\"white-space:pre;overflow-x:auto;line-height:normal;font-family:Menlo,'DejaVu Sans Mono',consolas,'Courier New',monospace;margin:0px\"><span style=\"background-color: #ff8700; font-weight: bold\"> Warning </span><span style=\"color: #ff8700; text-decoration-color: #ff8700\"> NULL Quote:</span><span style=\"color: #ff8700; text-decoration-color: #ff8700; font-weight: bold; text-decoration: underline\"> 1.00mg of C77396!</span>\n",
       "</pre>\n"
      ],
      "text/plain": [
       "\u001b[1;7;38;5;208m Warning \u001b[0m\u001b[38;5;208m NULL Quote:\u001b[0m\u001b[1;4;38;5;208m 1.00mg of C77396!\u001b[0m\n"
      ]
     },
     "metadata": {},
     "output_type": "display_data"
    },
    {
     "data": {
      "text/html": [
       "<pre style=\"white-space:pre;overflow-x:auto;line-height:normal;font-family:Menlo,'DejaVu Sans Mono',consolas,'Courier New',monospace;margin:0px\"><span style=\"background-color: #ff8700; font-weight: bold\"> Warning </span><span style=\"color: #ff8700; text-decoration-color: #ff8700\"> NULL Quote:</span><span style=\"color: #ff8700; text-decoration-color: #ff8700; font-weight: bold; text-decoration: underline\"> 1.00mg of C77397!</span>\n",
       "</pre>\n"
      ],
      "text/plain": [
       "\u001b[1;7;38;5;208m Warning \u001b[0m\u001b[38;5;208m NULL Quote:\u001b[0m\u001b[1;4;38;5;208m 1.00mg of C77397!\u001b[0m\n"
      ]
     },
     "metadata": {},
     "output_type": "display_data"
    },
    {
     "data": {
      "text/html": [
       "<pre style=\"white-space:pre;overflow-x:auto;line-height:normal;font-family:Menlo,'DejaVu Sans Mono',consolas,'Courier New',monospace;margin:0px\"><span style=\"background-color: #ff8700; font-weight: bold\"> Warning </span><span style=\"color: #ff8700; text-decoration-color: #ff8700\"> NULL Quote:</span><span style=\"color: #ff8700; text-decoration-color: #ff8700; font-weight: bold; text-decoration: underline\"> 1.00mg of C77398!</span>\n",
       "</pre>\n"
      ],
      "text/plain": [
       "\u001b[1;7;38;5;208m Warning \u001b[0m\u001b[38;5;208m NULL Quote:\u001b[0m\u001b[1;4;38;5;208m 1.00mg of C77398!\u001b[0m\n"
      ]
     },
     "metadata": {},
     "output_type": "display_data"
    },
    {
     "data": {
      "text/html": [
       "<pre style=\"white-space:pre;overflow-x:auto;line-height:normal;font-family:Menlo,'DejaVu Sans Mono',consolas,'Courier New',monospace;margin:0px\"><span style=\"background-color: #ff8700; font-weight: bold\"> Warning </span><span style=\"color: #ff8700; text-decoration-color: #ff8700\"> NULL Quote:</span><span style=\"color: #ff8700; text-decoration-color: #ff8700; font-weight: bold; text-decoration: underline\"> 1.00mg of C77399!</span>\n",
       "</pre>\n"
      ],
      "text/plain": [
       "\u001b[1;7;38;5;208m Warning \u001b[0m\u001b[38;5;208m NULL Quote:\u001b[0m\u001b[1;4;38;5;208m 1.00mg of C77399!\u001b[0m\n"
      ]
     },
     "metadata": {},
     "output_type": "display_data"
    },
    {
     "data": {
      "text/html": [
       "<pre style=\"white-space:pre;overflow-x:auto;line-height:normal;font-family:Menlo,'DejaVu Sans Mono',consolas,'Courier New',monospace;margin:0px\"><span style=\"background-color: #ff8700; font-weight: bold\"> Warning </span><span style=\"color: #ff8700; text-decoration-color: #ff8700\"> NULL Quote:</span><span style=\"color: #ff8700; text-decoration-color: #ff8700; font-weight: bold; text-decoration: underline\"> 1.00mg of C77400!</span>\n",
       "</pre>\n"
      ],
      "text/plain": [
       "\u001b[1;7;38;5;208m Warning \u001b[0m\u001b[38;5;208m NULL Quote:\u001b[0m\u001b[1;4;38;5;208m 1.00mg of C77400!\u001b[0m\n"
      ]
     },
     "metadata": {},
     "output_type": "display_data"
    },
    {
     "data": {
      "text/html": [
       "<pre style=\"white-space:pre;overflow-x:auto;line-height:normal;font-family:Menlo,'DejaVu Sans Mono',consolas,'Courier New',monospace;margin:0px\"><span style=\"background-color: #ff8700; font-weight: bold\"> Warning </span><span style=\"color: #ff8700; text-decoration-color: #ff8700\"> NULL Quote:</span><span style=\"color: #ff8700; text-decoration-color: #ff8700; font-weight: bold; text-decoration: underline\"> 1.00mg of C77401!</span>\n",
       "</pre>\n"
      ],
      "text/plain": [
       "\u001b[1;7;38;5;208m Warning \u001b[0m\u001b[38;5;208m NULL Quote:\u001b[0m\u001b[1;4;38;5;208m 1.00mg of C77401!\u001b[0m\n"
      ]
     },
     "metadata": {},
     "output_type": "display_data"
    },
    {
     "data": {
      "text/html": [
       "<pre style=\"white-space:pre;overflow-x:auto;line-height:normal;font-family:Menlo,'DejaVu Sans Mono',consolas,'Courier New',monospace;margin:0px\"><span style=\"background-color: #ff8700; font-weight: bold\"> Warning </span><span style=\"color: #ff8700; text-decoration-color: #ff8700\"> NULL Quote:</span><span style=\"color: #ff8700; text-decoration-color: #ff8700; font-weight: bold; text-decoration: underline\"> 1.00mg of C77402!</span>\n",
       "</pre>\n"
      ],
      "text/plain": [
       "\u001b[1;7;38;5;208m Warning \u001b[0m\u001b[38;5;208m NULL Quote:\u001b[0m\u001b[1;4;38;5;208m 1.00mg of C77402!\u001b[0m\n"
      ]
     },
     "metadata": {},
     "output_type": "display_data"
    },
    {
     "data": {
      "text/html": [
       "<pre style=\"white-space:pre;overflow-x:auto;line-height:normal;font-family:Menlo,'DejaVu Sans Mono',consolas,'Courier New',monospace;margin:0px\"><span style=\"background-color: #ff8700; font-weight: bold\"> Warning </span><span style=\"color: #ff8700; text-decoration-color: #ff8700\"> NULL Quote:</span><span style=\"color: #ff8700; text-decoration-color: #ff8700; font-weight: bold; text-decoration: underline\"> 1.00mg of C77403!</span>\n",
       "</pre>\n"
      ],
      "text/plain": [
       "\u001b[1;7;38;5;208m Warning \u001b[0m\u001b[38;5;208m NULL Quote:\u001b[0m\u001b[1;4;38;5;208m 1.00mg of C77403!\u001b[0m\n"
      ]
     },
     "metadata": {},
     "output_type": "display_data"
    },
    {
     "data": {
      "text/html": [
       "<pre style=\"white-space:pre;overflow-x:auto;line-height:normal;font-family:Menlo,'DejaVu Sans Mono',consolas,'Courier New',monospace;margin:0px\"><span style=\"background-color: #ff8700; font-weight: bold\"> Warning </span><span style=\"color: #ff8700; text-decoration-color: #ff8700\"> NULL Quote:</span><span style=\"color: #ff8700; text-decoration-color: #ff8700; font-weight: bold; text-decoration: underline\"> 1.00mg of C77404!</span>\n",
       "</pre>\n"
      ],
      "text/plain": [
       "\u001b[1;7;38;5;208m Warning \u001b[0m\u001b[38;5;208m NULL Quote:\u001b[0m\u001b[1;4;38;5;208m 1.00mg of C77404!\u001b[0m\n"
      ]
     },
     "metadata": {},
     "output_type": "display_data"
    },
    {
     "data": {
      "text/html": [
       "<pre style=\"white-space:pre;overflow-x:auto;line-height:normal;font-family:Menlo,'DejaVu Sans Mono',consolas,'Courier New',monospace;margin:0px\"><span style=\"background-color: #ff8700; font-weight: bold\"> Warning </span><span style=\"color: #ff8700; text-decoration-color: #ff8700\"> NULL Quote:</span><span style=\"color: #ff8700; text-decoration-color: #ff8700; font-weight: bold; text-decoration: underline\"> 1.00mg of C77405!</span>\n",
       "</pre>\n"
      ],
      "text/plain": [
       "\u001b[1;7;38;5;208m Warning \u001b[0m\u001b[38;5;208m NULL Quote:\u001b[0m\u001b[1;4;38;5;208m 1.00mg of C77405!\u001b[0m\n"
      ]
     },
     "metadata": {},
     "output_type": "display_data"
    },
    {
     "data": {
      "text/html": [
       "<pre style=\"white-space:pre;overflow-x:auto;line-height:normal;font-family:Menlo,'DejaVu Sans Mono',consolas,'Courier New',monospace;margin:0px\"><span style=\"background-color: #ff8700; font-weight: bold\"> Warning </span><span style=\"color: #ff8700; text-decoration-color: #ff8700\"> NULL Quote:</span><span style=\"color: #ff8700; text-decoration-color: #ff8700; font-weight: bold; text-decoration: underline\"> 1.00mg of C77406!</span>\n",
       "</pre>\n"
      ],
      "text/plain": [
       "\u001b[1;7;38;5;208m Warning \u001b[0m\u001b[38;5;208m NULL Quote:\u001b[0m\u001b[1;4;38;5;208m 1.00mg of C77406!\u001b[0m\n"
      ]
     },
     "metadata": {},
     "output_type": "display_data"
    },
    {
     "data": {
      "text/html": [
       "<pre style=\"white-space:pre;overflow-x:auto;line-height:normal;font-family:Menlo,'DejaVu Sans Mono',consolas,'Courier New',monospace;margin:0px\"><span style=\"background-color: #ff8700; font-weight: bold\"> Warning </span><span style=\"color: #ff8700; text-decoration-color: #ff8700\"> NULL Quote:</span><span style=\"color: #ff8700; text-decoration-color: #ff8700; font-weight: bold; text-decoration: underline\"> 1.00mg of C77407!</span>\n",
       "</pre>\n"
      ],
      "text/plain": [
       "\u001b[1;7;38;5;208m Warning \u001b[0m\u001b[38;5;208m NULL Quote:\u001b[0m\u001b[1;4;38;5;208m 1.00mg of C77407!\u001b[0m\n"
      ]
     },
     "metadata": {},
     "output_type": "display_data"
    },
    {
     "data": {
      "text/html": [
       "<pre style=\"white-space:pre;overflow-x:auto;line-height:normal;font-family:Menlo,'DejaVu Sans Mono',consolas,'Courier New',monospace;margin:0px\"><span style=\"background-color: #ff8700; font-weight: bold\"> Warning </span><span style=\"color: #ff8700; text-decoration-color: #ff8700\"> NULL Quote:</span><span style=\"color: #ff8700; text-decoration-color: #ff8700; font-weight: bold; text-decoration: underline\"> 1.00mg of C77408!</span>\n",
       "</pre>\n"
      ],
      "text/plain": [
       "\u001b[1;7;38;5;208m Warning \u001b[0m\u001b[38;5;208m NULL Quote:\u001b[0m\u001b[1;4;38;5;208m 1.00mg of C77408!\u001b[0m\n"
      ]
     },
     "metadata": {},
     "output_type": "display_data"
    },
    {
     "data": {
      "text/html": [
       "<pre style=\"white-space:pre;overflow-x:auto;line-height:normal;font-family:Menlo,'DejaVu Sans Mono',consolas,'Courier New',monospace;margin:0px\"><span style=\"background-color: #ff8700; font-weight: bold\"> Warning </span><span style=\"color: #ff8700; text-decoration-color: #ff8700\"> NULL Quote:</span><span style=\"color: #ff8700; text-decoration-color: #ff8700; font-weight: bold; text-decoration: underline\"> 1.00mg of C77409!</span>\n",
       "</pre>\n"
      ],
      "text/plain": [
       "\u001b[1;7;38;5;208m Warning \u001b[0m\u001b[38;5;208m NULL Quote:\u001b[0m\u001b[1;4;38;5;208m 1.00mg of C77409!\u001b[0m\n"
      ]
     },
     "metadata": {},
     "output_type": "display_data"
    },
    {
     "data": {
      "text/html": [
       "<pre style=\"white-space:pre;overflow-x:auto;line-height:normal;font-family:Menlo,'DejaVu Sans Mono',consolas,'Courier New',monospace;margin:0px\"><span style=\"background-color: #ff8700; font-weight: bold\"> Warning </span><span style=\"color: #ff8700; text-decoration-color: #ff8700\"> NULL Quote:</span><span style=\"color: #ff8700; text-decoration-color: #ff8700; font-weight: bold; text-decoration: underline\"> 1.00mg of C77410!</span>\n",
       "</pre>\n"
      ],
      "text/plain": [
       "\u001b[1;7;38;5;208m Warning \u001b[0m\u001b[38;5;208m NULL Quote:\u001b[0m\u001b[1;4;38;5;208m 1.00mg of C77410!\u001b[0m\n"
      ]
     },
     "metadata": {},
     "output_type": "display_data"
    },
    {
     "data": {
      "text/html": [
       "<pre style=\"white-space:pre;overflow-x:auto;line-height:normal;font-family:Menlo,'DejaVu Sans Mono',consolas,'Courier New',monospace;margin:0px\"><span style=\"background-color: #ff8700; font-weight: bold\"> Warning </span><span style=\"color: #ff8700; text-decoration-color: #ff8700\"> NULL Quote:</span><span style=\"color: #ff8700; text-decoration-color: #ff8700; font-weight: bold; text-decoration: underline\"> 1.00mg of C77411!</span>\n",
       "</pre>\n"
      ],
      "text/plain": [
       "\u001b[1;7;38;5;208m Warning \u001b[0m\u001b[38;5;208m NULL Quote:\u001b[0m\u001b[1;4;38;5;208m 1.00mg of C77411!\u001b[0m\n"
      ]
     },
     "metadata": {},
     "output_type": "display_data"
    },
    {
     "data": {
      "text/html": [
       "<pre style=\"white-space:pre;overflow-x:auto;line-height:normal;font-family:Menlo,'DejaVu Sans Mono',consolas,'Courier New',monospace;margin:0px\"><span style=\"background-color: #ff8700; font-weight: bold\"> Warning </span><span style=\"color: #ff8700; text-decoration-color: #ff8700\"> NULL Quote:</span><span style=\"color: #ff8700; text-decoration-color: #ff8700; font-weight: bold; text-decoration: underline\"> 1.00mg of C77412!</span>\n",
       "</pre>\n"
      ],
      "text/plain": [
       "\u001b[1;7;38;5;208m Warning \u001b[0m\u001b[38;5;208m NULL Quote:\u001b[0m\u001b[1;4;38;5;208m 1.00mg of C77412!\u001b[0m\n"
      ]
     },
     "metadata": {},
     "output_type": "display_data"
    },
    {
     "data": {
      "text/html": [
       "<pre style=\"white-space:pre;overflow-x:auto;line-height:normal;font-family:Menlo,'DejaVu Sans Mono',consolas,'Courier New',monospace;margin:0px\"><span style=\"background-color: #d7af00; font-weight: bold\"> DISK </span> Writing <span style=\"color: #d7af00; text-decoration-color: #d7af00\">RdRp_t3c_i2a_C29639.json</span>...\n",
       "</pre>\n"
      ],
      "text/plain": [
       "\u001b[1;7;38;5;178m DISK \u001b[0m Writing \u001b[38;5;178mRdRp_t3c_i2a_C29639.json\u001b[0m...\n"
      ]
     },
     "metadata": {},
     "output_type": "display_data"
    }
   ],
   "source": [
    "recipe.write_json(\"RdRp_t3c_i2a_C29639.json\")"
   ]
  },
  {
   "cell_type": "code",
   "execution_count": 40,
   "id": "8d3126b9-75c5-45ab-beee-6db18627ad0d",
   "metadata": {},
   "outputs": [
    {
     "data": {
      "text/html": [
       "<pre style=\"white-space:pre;overflow-x:auto;line-height:normal;font-family:Menlo,'DejaVu Sans Mono',consolas,'Courier New',monospace;margin:0px\"><span style=\"color: #808080; text-decoration-color: #808080\">DEBUG: Querying database for routes</span>\n",
       "</pre>\n"
      ],
      "text/plain": [
       "\u001b[90mDEBUG: Querying database for routes\u001b[0m\n"
      ]
     },
     "metadata": {},
     "output_type": "display_data"
    },
    {
     "data": {
      "text/html": [
       "<pre style=\"white-space:pre;overflow-x:auto;line-height:normal;font-family:Menlo,'DejaVu Sans Mono',consolas,'Courier New',monospace;margin:0px\"><span style=\"color: #808080; text-decoration-color: #808080\">DEBUG: Assembling route dictionary</span>\n",
       "</pre>\n"
      ],
      "text/plain": [
       "\u001b[90mDEBUG: Assembling route dictionary\u001b[0m\n"
      ]
     },
     "metadata": {},
     "output_type": "display_data"
    },
    {
     "data": {
      "text/html": [
       "<pre style=\"white-space:pre;overflow-x:auto;line-height:normal;font-family:Menlo,'DejaVu Sans Mono',consolas,'Courier New',monospace;margin:0px\"><span style=\"color: #808080; text-decoration-color: #808080\">DEBUG: Checking availability</span>\n",
       "</pre>\n"
      ],
      "text/plain": [
       "\u001b[90mDEBUG: Checking availability\u001b[0m\n"
      ]
     },
     "metadata": {},
     "output_type": "display_data"
    },
    {
     "data": {
      "application/vnd.jupyter.widget-view+json": {
       "model_id": "8d1600a838fe4ce996d7d5ae59472b7e",
       "version_major": 2,
       "version_minor": 0
      },
      "text/plain": [
       "Output()"
      ]
     },
     "metadata": {},
     "output_type": "display_data"
    },
    {
     "data": {
      "text/html": [
       "<pre style=\"white-space:pre;overflow-x:auto;line-height:normal;font-family:Menlo,'DejaVu Sans Mono',consolas,'Courier New',monospace;margin:0px\"></pre>\n"
      ],
      "text/plain": []
     },
     "metadata": {},
     "output_type": "display_data"
    },
    {
     "data": {
      "text/html": [
       "<pre style=\"white-space:pre;overflow-x:auto;line-height:normal;font-family:Menlo,'DejaVu Sans Mono',consolas,'Courier New',monospace;margin:0px\"><span style=\"background-color: #d7af00; font-weight: bold\"> DISK </span> Writing <span style=\"color: #d7af00; text-decoration-color: #d7af00\">/opt/xchem-fragalysis-2/maxwin/RdRp_FFF/hippo/RdRp_t3c_i2a_C29639_CAR_1steps.csv</span>...\n",
       "</pre>\n"
      ],
      "text/plain": [
       "\u001b[1;7;38;5;178m DISK \u001b[0m Writing \u001b[38;5;178m/opt/xchem-fragalysis-2/maxwin/RdRp_FFF/hippo/RdRp_t3c_i2a_C29639_CAR_1steps.csv\u001b[0m...\n"
      ]
     },
     "metadata": {},
     "output_type": "display_data"
    },
    {
     "data": {
      "text/html": [
       "<pre style=\"white-space:pre;overflow-x:auto;line-height:normal;font-family:Menlo,'DejaVu Sans Mono',consolas,'Courier New',monospace;margin:0px\"><span style=\"background-color: #d7af00; font-weight: bold\"> DISK </span> Writing <span style=\"color: #d7af00; text-decoration-color: #d7af00\">/opt/xchem-fragalysis-2/maxwin/RdRp_FFF/hippo/RdRp_t3c_i2a_C29639_CAR.csv</span>...\n",
       "</pre>\n"
      ],
      "text/plain": [
       "\u001b[1;7;38;5;178m DISK \u001b[0m Writing \u001b[38;5;178m/opt/xchem-fragalysis-2/maxwin/RdRp_FFF/hippo/RdRp_t3c_i2a_C29639_CAR.csv\u001b[0m...\n"
      ]
     },
     "metadata": {},
     "output_type": "display_data"
    },
    {
     "data": {
      "text/html": [
       "<div>\n",
       "<style scoped>\n",
       "    .dataframe tbody tr th:only-of-type {\n",
       "        vertical-align: middle;\n",
       "    }\n",
       "\n",
       "    .dataframe tbody tr th {\n",
       "        vertical-align: top;\n",
       "    }\n",
       "\n",
       "    .dataframe thead th {\n",
       "        text-align: right;\n",
       "    }\n",
       "</style>\n",
       "<table border=\"1\" class=\"dataframe\">\n",
       "  <thead>\n",
       "    <tr style=\"text-align: right;\">\n",
       "      <th></th>\n",
       "      <th>target-names</th>\n",
       "      <th>no-steps</th>\n",
       "      <th>concentration-required-mM</th>\n",
       "      <th>amount-required-uL</th>\n",
       "      <th>batch-tag</th>\n",
       "      <th>reactant-1-1</th>\n",
       "      <th>reactant-2-1</th>\n",
       "      <th>reaction-product-smiles-1</th>\n",
       "      <th>reaction-name-1</th>\n",
       "      <th>reaction-recipe-1</th>\n",
       "      <th>reaction-groupby-column-1</th>\n",
       "    </tr>\n",
       "  </thead>\n",
       "  <tbody>\n",
       "    <tr>\n",
       "      <th>0</th>\n",
       "      <td>C77517</td>\n",
       "      <td>1</td>\n",
       "      <td>None</td>\n",
       "      <td>None</td>\n",
       "      <td>None</td>\n",
       "      <td>Nc1ccc(Cl)c2ncccc12</td>\n",
       "      <td>O=C(O)c1c(F)cncc1F</td>\n",
       "      <td>O=C(Nc1ccc(Cl)c2ncccc12)c1c(F)cncc1F</td>\n",
       "      <td>Amidation</td>\n",
       "      <td>None</td>\n",
       "      <td>None</td>\n",
       "    </tr>\n",
       "    <tr>\n",
       "      <th>1</th>\n",
       "      <td>C77519</td>\n",
       "      <td>1</td>\n",
       "      <td>None</td>\n",
       "      <td>None</td>\n",
       "      <td>None</td>\n",
       "      <td>Nc1ccc(Cl)c2ncccc12</td>\n",
       "      <td>O=C(O)c1ccnc(I)c1F</td>\n",
       "      <td>O=C(Nc1ccc(Cl)c2ncccc12)c1ccnc(I)c1F</td>\n",
       "      <td>Amidation</td>\n",
       "      <td>None</td>\n",
       "      <td>None</td>\n",
       "    </tr>\n",
       "    <tr>\n",
       "      <th>2</th>\n",
       "      <td>C77533</td>\n",
       "      <td>1</td>\n",
       "      <td>None</td>\n",
       "      <td>None</td>\n",
       "      <td>None</td>\n",
       "      <td>Nc1ccc(Cl)c2ncccc12</td>\n",
       "      <td>O=C(O)c1cc(F)ncc1Cl</td>\n",
       "      <td>O=C(Nc1ccc(Cl)c2ncccc12)c1cc(F)ncc1Cl</td>\n",
       "      <td>Amidation</td>\n",
       "      <td>None</td>\n",
       "      <td>None</td>\n",
       "    </tr>\n",
       "    <tr>\n",
       "      <th>3</th>\n",
       "      <td>C77593</td>\n",
       "      <td>1</td>\n",
       "      <td>None</td>\n",
       "      <td>None</td>\n",
       "      <td>None</td>\n",
       "      <td>Nc1ccc(Cl)c2ncccc12</td>\n",
       "      <td>Nc1cc(C(=O)O)c(Br)cn1</td>\n",
       "      <td>Nc1cc(C(=O)Nc2ccc(Cl)c3ncccc23)c(Br)cn1</td>\n",
       "      <td>Amidation</td>\n",
       "      <td>None</td>\n",
       "      <td>None</td>\n",
       "    </tr>\n",
       "    <tr>\n",
       "      <th>4</th>\n",
       "      <td>C77614</td>\n",
       "      <td>1</td>\n",
       "      <td>None</td>\n",
       "      <td>None</td>\n",
       "      <td>None</td>\n",
       "      <td>Nc1ccc(Cl)c2ncccc12</td>\n",
       "      <td>Nc1cc(C(=O)O)cc(F)n1</td>\n",
       "      <td>Nc1cc(C(=O)Nc2ccc(Cl)c3ncccc23)cc(F)n1</td>\n",
       "      <td>Amidation</td>\n",
       "      <td>None</td>\n",
       "      <td>None</td>\n",
       "    </tr>\n",
       "    <tr>\n",
       "      <th>...</th>\n",
       "      <td>...</td>\n",
       "      <td>...</td>\n",
       "      <td>...</td>\n",
       "      <td>...</td>\n",
       "      <td>...</td>\n",
       "      <td>...</td>\n",
       "      <td>...</td>\n",
       "      <td>...</td>\n",
       "      <td>...</td>\n",
       "      <td>...</td>\n",
       "      <td>...</td>\n",
       "    </tr>\n",
       "    <tr>\n",
       "      <th>58</th>\n",
       "      <td>C77494</td>\n",
       "      <td>1</td>\n",
       "      <td>None</td>\n",
       "      <td>None</td>\n",
       "      <td>None</td>\n",
       "      <td>Nc1ccc(Cl)c2ncccc12</td>\n",
       "      <td>CNc1cc(C(=O)O)ccn1</td>\n",
       "      <td>CNc1cc(C(=O)Nc2ccc(Cl)c3ncccc23)ccn1</td>\n",
       "      <td>Amidation</td>\n",
       "      <td>None</td>\n",
       "      <td>None</td>\n",
       "    </tr>\n",
       "    <tr>\n",
       "      <th>59</th>\n",
       "      <td>C77502</td>\n",
       "      <td>1</td>\n",
       "      <td>None</td>\n",
       "      <td>None</td>\n",
       "      <td>None</td>\n",
       "      <td>Nc1ccc(Cl)c2ncccc12</td>\n",
       "      <td>COc1cnccc1C(=O)O</td>\n",
       "      <td>COc1cnccc1C(=O)Nc1ccc(Cl)c2ncccc12</td>\n",
       "      <td>Amidation</td>\n",
       "      <td>None</td>\n",
       "      <td>None</td>\n",
       "    </tr>\n",
       "    <tr>\n",
       "      <th>60</th>\n",
       "      <td>C77503</td>\n",
       "      <td>1</td>\n",
       "      <td>None</td>\n",
       "      <td>None</td>\n",
       "      <td>None</td>\n",
       "      <td>Nc1ccc(Cl)c2ncccc12</td>\n",
       "      <td>O=C(O)c1ccnc(Cl)c1I</td>\n",
       "      <td>O=C(Nc1ccc(Cl)c2ncccc12)c1ccnc(Cl)c1I</td>\n",
       "      <td>Amidation</td>\n",
       "      <td>None</td>\n",
       "      <td>None</td>\n",
       "    </tr>\n",
       "    <tr>\n",
       "      <th>61</th>\n",
       "      <td>C77514</td>\n",
       "      <td>1</td>\n",
       "      <td>None</td>\n",
       "      <td>None</td>\n",
       "      <td>None</td>\n",
       "      <td>Nc1ccc(Cl)c2ncccc12</td>\n",
       "      <td>CNc1cnccc1C(=O)O</td>\n",
       "      <td>CNc1cnccc1C(=O)Nc1ccc(Cl)c2ncccc12</td>\n",
       "      <td>Amidation</td>\n",
       "      <td>None</td>\n",
       "      <td>None</td>\n",
       "    </tr>\n",
       "    <tr>\n",
       "      <th>62</th>\n",
       "      <td>C77516</td>\n",
       "      <td>1</td>\n",
       "      <td>None</td>\n",
       "      <td>None</td>\n",
       "      <td>None</td>\n",
       "      <td>Nc1ccc(Cl)c2ncccc12</td>\n",
       "      <td>N#Cc1cc(C(=O)O)ccn1</td>\n",
       "      <td>N#Cc1cc(C(=O)Nc2ccc(Cl)c3ncccc23)ccn1</td>\n",
       "      <td>Amidation</td>\n",
       "      <td>None</td>\n",
       "      <td>None</td>\n",
       "    </tr>\n",
       "  </tbody>\n",
       "</table>\n",
       "<p>63 rows × 11 columns</p>\n",
       "</div>"
      ],
      "text/plain": [
       "   target-names  no-steps concentration-required-mM amount-required-uL  \\\n",
       "0        C77517         1                      None               None   \n",
       "1        C77519         1                      None               None   \n",
       "2        C77533         1                      None               None   \n",
       "3        C77593         1                      None               None   \n",
       "4        C77614         1                      None               None   \n",
       "..          ...       ...                       ...                ...   \n",
       "58       C77494         1                      None               None   \n",
       "59       C77502         1                      None               None   \n",
       "60       C77503         1                      None               None   \n",
       "61       C77514         1                      None               None   \n",
       "62       C77516         1                      None               None   \n",
       "\n",
       "   batch-tag         reactant-1-1           reactant-2-1  \\\n",
       "0       None  Nc1ccc(Cl)c2ncccc12     O=C(O)c1c(F)cncc1F   \n",
       "1       None  Nc1ccc(Cl)c2ncccc12     O=C(O)c1ccnc(I)c1F   \n",
       "2       None  Nc1ccc(Cl)c2ncccc12    O=C(O)c1cc(F)ncc1Cl   \n",
       "3       None  Nc1ccc(Cl)c2ncccc12  Nc1cc(C(=O)O)c(Br)cn1   \n",
       "4       None  Nc1ccc(Cl)c2ncccc12   Nc1cc(C(=O)O)cc(F)n1   \n",
       "..       ...                  ...                    ...   \n",
       "58      None  Nc1ccc(Cl)c2ncccc12     CNc1cc(C(=O)O)ccn1   \n",
       "59      None  Nc1ccc(Cl)c2ncccc12       COc1cnccc1C(=O)O   \n",
       "60      None  Nc1ccc(Cl)c2ncccc12    O=C(O)c1ccnc(Cl)c1I   \n",
       "61      None  Nc1ccc(Cl)c2ncccc12       CNc1cnccc1C(=O)O   \n",
       "62      None  Nc1ccc(Cl)c2ncccc12    N#Cc1cc(C(=O)O)ccn1   \n",
       "\n",
       "                  reaction-product-smiles-1 reaction-name-1 reaction-recipe-1  \\\n",
       "0      O=C(Nc1ccc(Cl)c2ncccc12)c1c(F)cncc1F       Amidation              None   \n",
       "1      O=C(Nc1ccc(Cl)c2ncccc12)c1ccnc(I)c1F       Amidation              None   \n",
       "2     O=C(Nc1ccc(Cl)c2ncccc12)c1cc(F)ncc1Cl       Amidation              None   \n",
       "3   Nc1cc(C(=O)Nc2ccc(Cl)c3ncccc23)c(Br)cn1       Amidation              None   \n",
       "4    Nc1cc(C(=O)Nc2ccc(Cl)c3ncccc23)cc(F)n1       Amidation              None   \n",
       "..                                      ...             ...               ...   \n",
       "58     CNc1cc(C(=O)Nc2ccc(Cl)c3ncccc23)ccn1       Amidation              None   \n",
       "59       COc1cnccc1C(=O)Nc1ccc(Cl)c2ncccc12       Amidation              None   \n",
       "60    O=C(Nc1ccc(Cl)c2ncccc12)c1ccnc(Cl)c1I       Amidation              None   \n",
       "61       CNc1cnccc1C(=O)Nc1ccc(Cl)c2ncccc12       Amidation              None   \n",
       "62    N#Cc1cc(C(=O)Nc2ccc(Cl)c3ncccc23)ccn1       Amidation              None   \n",
       "\n",
       "   reaction-groupby-column-1  \n",
       "0                       None  \n",
       "1                       None  \n",
       "2                       None  \n",
       "3                       None  \n",
       "4                       None  \n",
       "..                       ...  \n",
       "58                      None  \n",
       "59                      None  \n",
       "60                      None  \n",
       "61                      None  \n",
       "62                      None  \n",
       "\n",
       "[63 rows x 11 columns]"
      ]
     },
     "execution_count": 40,
     "metadata": {},
     "output_type": "execute_result"
    }
   ],
   "source": [
    "recipe.write_CAR_csv(\"RdRp_t3c_i2a_C29639_CAR.csv\")"
   ]
  },
  {
   "cell_type": "code",
   "execution_count": 42,
   "id": "4b4e1bd0-ca36-47ff-ac21-88c583ac1008",
   "metadata": {},
   "outputs": [
    {
     "data": {
      "text/html": [
       "<pre style=\"white-space:pre;overflow-x:auto;line-height:normal;font-family:Menlo,'DejaVu Sans Mono',consolas,'Courier New',monospace;margin:0px\"><span style=\"color: #808080; text-decoration-color: #808080\">DEBUG: Querying database for routes</span>\n",
       "</pre>\n"
      ],
      "text/plain": [
       "\u001b[90mDEBUG: Querying database for routes\u001b[0m\n"
      ]
     },
     "metadata": {},
     "output_type": "display_data"
    },
    {
     "data": {
      "text/html": [
       "<pre style=\"white-space:pre;overflow-x:auto;line-height:normal;font-family:Menlo,'DejaVu Sans Mono',consolas,'Courier New',monospace;margin:0px\"><span style=\"color: #808080; text-decoration-color: #808080\">DEBUG: Assembling route dictionary</span>\n",
       "</pre>\n"
      ],
      "text/plain": [
       "\u001b[90mDEBUG: Assembling route dictionary\u001b[0m\n"
      ]
     },
     "metadata": {},
     "output_type": "display_data"
    },
    {
     "data": {
      "text/html": [
       "<pre style=\"white-space:pre;overflow-x:auto;line-height:normal;font-family:Menlo,'DejaVu Sans Mono',consolas,'Courier New',monospace;margin:0px\"><span style=\"color: #808080; text-decoration-color: #808080\">DEBUG: Checking availability</span>\n",
       "</pre>\n"
      ],
      "text/plain": [
       "\u001b[90mDEBUG: Checking availability\u001b[0m\n"
      ]
     },
     "metadata": {},
     "output_type": "display_data"
    },
    {
     "data": {
      "application/vnd.jupyter.widget-view+json": {
       "model_id": "de3c1ec311e54d4593a615e47a97bbbd",
       "version_major": 2,
       "version_minor": 0
      },
      "text/plain": [
       "Output()"
      ]
     },
     "metadata": {},
     "output_type": "display_data"
    },
    {
     "data": {
      "text/html": [
       "<pre style=\"white-space:pre;overflow-x:auto;line-height:normal;font-family:Menlo,'DejaVu Sans Mono',consolas,'Courier New',monospace;margin:0px\"></pre>\n"
      ],
      "text/plain": []
     },
     "metadata": {},
     "output_type": "display_data"
    },
    {
     "data": {
      "application/vnd.jupyter.widget-view+json": {
       "model_id": "e86d57b028ad4f699503a0a41d04ac23",
       "version_major": 2,
       "version_minor": 0
      },
      "text/plain": [
       "Output()"
      ]
     },
     "metadata": {},
     "output_type": "display_data"
    },
    {
     "data": {
      "text/html": [
       "<pre style=\"white-space:pre;overflow-x:auto;line-height:normal;font-family:Menlo,'DejaVu Sans Mono',consolas,'Courier New',monospace;margin:0px\"><span style=\"background-color: #800000; font-weight: bold\"> ERROR </span><span style=\"color: #800000; text-decoration-color: #800000; font-weight: bold\"> No downstream products for</span><span style=\"color: #800000; text-decoration-color: #800000; font-weight: bold; text-decoration: underline\"> 1.00mg of C77233!</span>\n",
       "</pre>\n"
      ],
      "text/plain": [
       "\u001b[1;7;31m ERROR \u001b[0m\u001b[1;31m No downstream products for\u001b[0m\u001b[1;4;31m 1.00mg of C77233!\u001b[0m\n"
      ]
     },
     "metadata": {},
     "output_type": "display_data"
    },
    {
     "data": {
      "text/html": [
       "<pre style=\"white-space:pre;overflow-x:auto;line-height:normal;font-family:Menlo,'DejaVu Sans Mono',consolas,'Courier New',monospace;margin:0px\"><span style=\"background-color: #800000; font-weight: bold\"> ERROR </span><span style=\"color: #800000; text-decoration-color: #800000; font-weight: bold\"> No downstream products for</span><span style=\"color: #800000; text-decoration-color: #800000; font-weight: bold; text-decoration: underline\"> 1.00mg of C77238!</span>\n",
       "</pre>\n"
      ],
      "text/plain": [
       "\u001b[1;7;31m ERROR \u001b[0m\u001b[1;31m No downstream products for\u001b[0m\u001b[1;4;31m 1.00mg of C77238!\u001b[0m\n"
      ]
     },
     "metadata": {},
     "output_type": "display_data"
    },
    {
     "data": {
      "text/html": [
       "<pre style=\"white-space:pre;overflow-x:auto;line-height:normal;font-family:Menlo,'DejaVu Sans Mono',consolas,'Courier New',monospace;margin:0px\"><span style=\"background-color: #800000; font-weight: bold\"> ERROR </span><span style=\"color: #800000; text-decoration-color: #800000; font-weight: bold\"> No downstream products for</span><span style=\"color: #800000; text-decoration-color: #800000; font-weight: bold; text-decoration: underline\"> 1.00mg of C77240!</span>\n",
       "</pre>\n"
      ],
      "text/plain": [
       "\u001b[1;7;31m ERROR \u001b[0m\u001b[1;31m No downstream products for\u001b[0m\u001b[1;4;31m 1.00mg of C77240!\u001b[0m\n"
      ]
     },
     "metadata": {},
     "output_type": "display_data"
    },
    {
     "data": {
      "text/html": [
       "<pre style=\"white-space:pre;overflow-x:auto;line-height:normal;font-family:Menlo,'DejaVu Sans Mono',consolas,'Courier New',monospace;margin:0px\"><span style=\"background-color: #800000; font-weight: bold\"> ERROR </span><span style=\"color: #800000; text-decoration-color: #800000; font-weight: bold\"> No downstream products for</span><span style=\"color: #800000; text-decoration-color: #800000; font-weight: bold; text-decoration: underline\"> 1.00mg of C77326!</span>\n",
       "</pre>\n"
      ],
      "text/plain": [
       "\u001b[1;7;31m ERROR \u001b[0m\u001b[1;31m No downstream products for\u001b[0m\u001b[1;4;31m 1.00mg of C77326!\u001b[0m\n"
      ]
     },
     "metadata": {},
     "output_type": "display_data"
    },
    {
     "data": {
      "text/html": [
       "<pre style=\"white-space:pre;overflow-x:auto;line-height:normal;font-family:Menlo,'DejaVu Sans Mono',consolas,'Courier New',monospace;margin:0px\"><span style=\"background-color: #800000; font-weight: bold\"> ERROR </span><span style=\"color: #800000; text-decoration-color: #800000; font-weight: bold\"> No downstream products for</span><span style=\"color: #800000; text-decoration-color: #800000; font-weight: bold; text-decoration: underline\"> 1.00mg of C77327!</span>\n",
       "</pre>\n"
      ],
      "text/plain": [
       "\u001b[1;7;31m ERROR \u001b[0m\u001b[1;31m No downstream products for\u001b[0m\u001b[1;4;31m 1.00mg of C77327!\u001b[0m\n"
      ]
     },
     "metadata": {},
     "output_type": "display_data"
    },
    {
     "data": {
      "text/html": [
       "<pre style=\"white-space:pre;overflow-x:auto;line-height:normal;font-family:Menlo,'DejaVu Sans Mono',consolas,'Courier New',monospace;margin:0px\"><span style=\"background-color: #800000; font-weight: bold\"> ERROR </span><span style=\"color: #800000; text-decoration-color: #800000; font-weight: bold\"> No downstream products for</span><span style=\"color: #800000; text-decoration-color: #800000; font-weight: bold; text-decoration: underline\"> 1.00mg of C77330!</span>\n",
       "</pre>\n"
      ],
      "text/plain": [
       "\u001b[1;7;31m ERROR \u001b[0m\u001b[1;31m No downstream products for\u001b[0m\u001b[1;4;31m 1.00mg of C77330!\u001b[0m\n"
      ]
     },
     "metadata": {},
     "output_type": "display_data"
    },
    {
     "data": {
      "text/html": [
       "<pre style=\"white-space:pre;overflow-x:auto;line-height:normal;font-family:Menlo,'DejaVu Sans Mono',consolas,'Courier New',monospace;margin:0px\"><span style=\"background-color: #800000; font-weight: bold\"> ERROR </span><span style=\"color: #800000; text-decoration-color: #800000; font-weight: bold\"> No downstream products for</span><span style=\"color: #800000; text-decoration-color: #800000; font-weight: bold; text-decoration: underline\"> 1.00mg of C77331!</span>\n",
       "</pre>\n"
      ],
      "text/plain": [
       "\u001b[1;7;31m ERROR \u001b[0m\u001b[1;31m No downstream products for\u001b[0m\u001b[1;4;31m 1.00mg of C77331!\u001b[0m\n"
      ]
     },
     "metadata": {},
     "output_type": "display_data"
    },
    {
     "data": {
      "text/html": [
       "<pre style=\"white-space:pre;overflow-x:auto;line-height:normal;font-family:Menlo,'DejaVu Sans Mono',consolas,'Courier New',monospace;margin:0px\"><span style=\"background-color: #800000; font-weight: bold\"> ERROR </span><span style=\"color: #800000; text-decoration-color: #800000; font-weight: bold\"> No downstream products for</span><span style=\"color: #800000; text-decoration-color: #800000; font-weight: bold; text-decoration: underline\"> 1.00mg of C77333!</span>\n",
       "</pre>\n"
      ],
      "text/plain": [
       "\u001b[1;7;31m ERROR \u001b[0m\u001b[1;31m No downstream products for\u001b[0m\u001b[1;4;31m 1.00mg of C77333!\u001b[0m\n"
      ]
     },
     "metadata": {},
     "output_type": "display_data"
    },
    {
     "data": {
      "text/html": [
       "<pre style=\"white-space:pre;overflow-x:auto;line-height:normal;font-family:Menlo,'DejaVu Sans Mono',consolas,'Courier New',monospace;margin:0px\"><span style=\"background-color: #800000; font-weight: bold\"> ERROR </span><span style=\"color: #800000; text-decoration-color: #800000; font-weight: bold\"> No downstream products for</span><span style=\"color: #800000; text-decoration-color: #800000; font-weight: bold; text-decoration: underline\"> 1.00mg of C77334!</span>\n",
       "</pre>\n"
      ],
      "text/plain": [
       "\u001b[1;7;31m ERROR \u001b[0m\u001b[1;31m No downstream products for\u001b[0m\u001b[1;4;31m 1.00mg of C77334!\u001b[0m\n"
      ]
     },
     "metadata": {},
     "output_type": "display_data"
    },
    {
     "data": {
      "text/html": [
       "<pre style=\"white-space:pre;overflow-x:auto;line-height:normal;font-family:Menlo,'DejaVu Sans Mono',consolas,'Courier New',monospace;margin:0px\"><span style=\"background-color: #800000; font-weight: bold\"> ERROR </span><span style=\"color: #800000; text-decoration-color: #800000; font-weight: bold\"> No downstream products for</span><span style=\"color: #800000; text-decoration-color: #800000; font-weight: bold; text-decoration: underline\"> 1.00mg of C77246!</span>\n",
       "</pre>\n"
      ],
      "text/plain": [
       "\u001b[1;7;31m ERROR \u001b[0m\u001b[1;31m No downstream products for\u001b[0m\u001b[1;4;31m 1.00mg of C77246!\u001b[0m\n"
      ]
     },
     "metadata": {},
     "output_type": "display_data"
    },
    {
     "data": {
      "text/html": [
       "<pre style=\"white-space:pre;overflow-x:auto;line-height:normal;font-family:Menlo,'DejaVu Sans Mono',consolas,'Courier New',monospace;margin:0px\"><span style=\"background-color: #800000; font-weight: bold\"> ERROR </span><span style=\"color: #800000; text-decoration-color: #800000; font-weight: bold\"> No downstream products for</span><span style=\"color: #800000; text-decoration-color: #800000; font-weight: bold; text-decoration: underline\"> 1.00mg of C77248!</span>\n",
       "</pre>\n"
      ],
      "text/plain": [
       "\u001b[1;7;31m ERROR \u001b[0m\u001b[1;31m No downstream products for\u001b[0m\u001b[1;4;31m 1.00mg of C77248!\u001b[0m\n"
      ]
     },
     "metadata": {},
     "output_type": "display_data"
    },
    {
     "data": {
      "text/html": [
       "<pre style=\"white-space:pre;overflow-x:auto;line-height:normal;font-family:Menlo,'DejaVu Sans Mono',consolas,'Courier New',monospace;margin:0px\"><span style=\"background-color: #800000; font-weight: bold\"> ERROR </span><span style=\"color: #800000; text-decoration-color: #800000; font-weight: bold\"> No downstream products for</span><span style=\"color: #800000; text-decoration-color: #800000; font-weight: bold; text-decoration: underline\"> 1.00mg of C77252!</span>\n",
       "</pre>\n"
      ],
      "text/plain": [
       "\u001b[1;7;31m ERROR \u001b[0m\u001b[1;31m No downstream products for\u001b[0m\u001b[1;4;31m 1.00mg of C77252!\u001b[0m\n"
      ]
     },
     "metadata": {},
     "output_type": "display_data"
    },
    {
     "data": {
      "text/html": [
       "<pre style=\"white-space:pre;overflow-x:auto;line-height:normal;font-family:Menlo,'DejaVu Sans Mono',consolas,'Courier New',monospace;margin:0px\"><span style=\"background-color: #800000; font-weight: bold\"> ERROR </span><span style=\"color: #800000; text-decoration-color: #800000; font-weight: bold\"> No downstream products for</span><span style=\"color: #800000; text-decoration-color: #800000; font-weight: bold; text-decoration: underline\"> 1.00mg of C77253!</span>\n",
       "</pre>\n"
      ],
      "text/plain": [
       "\u001b[1;7;31m ERROR \u001b[0m\u001b[1;31m No downstream products for\u001b[0m\u001b[1;4;31m 1.00mg of C77253!\u001b[0m\n"
      ]
     },
     "metadata": {},
     "output_type": "display_data"
    },
    {
     "data": {
      "text/html": [
       "<pre style=\"white-space:pre;overflow-x:auto;line-height:normal;font-family:Menlo,'DejaVu Sans Mono',consolas,'Courier New',monospace;margin:0px\"><span style=\"background-color: #800000; font-weight: bold\"> ERROR </span><span style=\"color: #800000; text-decoration-color: #800000; font-weight: bold\"> No downstream products for</span><span style=\"color: #800000; text-decoration-color: #800000; font-weight: bold; text-decoration: underline\"> 1.00mg of C77254!</span>\n",
       "</pre>\n"
      ],
      "text/plain": [
       "\u001b[1;7;31m ERROR \u001b[0m\u001b[1;31m No downstream products for\u001b[0m\u001b[1;4;31m 1.00mg of C77254!\u001b[0m\n"
      ]
     },
     "metadata": {},
     "output_type": "display_data"
    },
    {
     "data": {
      "text/html": [
       "<pre style=\"white-space:pre;overflow-x:auto;line-height:normal;font-family:Menlo,'DejaVu Sans Mono',consolas,'Courier New',monospace;margin:0px\"><span style=\"background-color: #800000; font-weight: bold\"> ERROR </span><span style=\"color: #800000; text-decoration-color: #800000; font-weight: bold\"> No downstream products for</span><span style=\"color: #800000; text-decoration-color: #800000; font-weight: bold; text-decoration: underline\"> 1.00mg of C77255!</span>\n",
       "</pre>\n"
      ],
      "text/plain": [
       "\u001b[1;7;31m ERROR \u001b[0m\u001b[1;31m No downstream products for\u001b[0m\u001b[1;4;31m 1.00mg of C77255!\u001b[0m\n"
      ]
     },
     "metadata": {},
     "output_type": "display_data"
    },
    {
     "data": {
      "text/html": [
       "<pre style=\"white-space:pre;overflow-x:auto;line-height:normal;font-family:Menlo,'DejaVu Sans Mono',consolas,'Courier New',monospace;margin:0px\"><span style=\"background-color: #800000; font-weight: bold\"> ERROR </span><span style=\"color: #800000; text-decoration-color: #800000; font-weight: bold\"> No downstream products for</span><span style=\"color: #800000; text-decoration-color: #800000; font-weight: bold; text-decoration: underline\"> 1.00mg of C77257!</span>\n",
       "</pre>\n"
      ],
      "text/plain": [
       "\u001b[1;7;31m ERROR \u001b[0m\u001b[1;31m No downstream products for\u001b[0m\u001b[1;4;31m 1.00mg of C77257!\u001b[0m\n"
      ]
     },
     "metadata": {},
     "output_type": "display_data"
    },
    {
     "data": {
      "text/html": [
       "<pre style=\"white-space:pre;overflow-x:auto;line-height:normal;font-family:Menlo,'DejaVu Sans Mono',consolas,'Courier New',monospace;margin:0px\"><span style=\"background-color: #800000; font-weight: bold\"> ERROR </span><span style=\"color: #800000; text-decoration-color: #800000; font-weight: bold\"> No downstream products for</span><span style=\"color: #800000; text-decoration-color: #800000; font-weight: bold; text-decoration: underline\"> 1.00mg of C77258!</span>\n",
       "</pre>\n"
      ],
      "text/plain": [
       "\u001b[1;7;31m ERROR \u001b[0m\u001b[1;31m No downstream products for\u001b[0m\u001b[1;4;31m 1.00mg of C77258!\u001b[0m\n"
      ]
     },
     "metadata": {},
     "output_type": "display_data"
    },
    {
     "data": {
      "text/html": [
       "<pre style=\"white-space:pre;overflow-x:auto;line-height:normal;font-family:Menlo,'DejaVu Sans Mono',consolas,'Courier New',monospace;margin:0px\"><span style=\"background-color: #800000; font-weight: bold\"> ERROR </span><span style=\"color: #800000; text-decoration-color: #800000; font-weight: bold\"> No downstream products for</span><span style=\"color: #800000; text-decoration-color: #800000; font-weight: bold; text-decoration: underline\"> 1.00mg of C77259!</span>\n",
       "</pre>\n"
      ],
      "text/plain": [
       "\u001b[1;7;31m ERROR \u001b[0m\u001b[1;31m No downstream products for\u001b[0m\u001b[1;4;31m 1.00mg of C77259!\u001b[0m\n"
      ]
     },
     "metadata": {},
     "output_type": "display_data"
    },
    {
     "data": {
      "text/html": [
       "<pre style=\"white-space:pre;overflow-x:auto;line-height:normal;font-family:Menlo,'DejaVu Sans Mono',consolas,'Courier New',monospace;margin:0px\"></pre>\n"
      ],
      "text/plain": []
     },
     "metadata": {},
     "output_type": "display_data"
    },
    {
     "name": "stderr",
     "output_type": "stream",
     "text": [
      "\n",
      "KeyboardInterrupt\n",
      "\n"
     ]
    }
   ],
   "source": [
    "recipe.write_reactant_csv(\"RdRp_t3c_i2a_C29639_reactants.csv\")"
   ]
  },
  {
   "cell_type": "code",
   "execution_count": 53,
   "id": "eacf0266-1e34-40f9-bbf5-f7f8a0656cf0",
   "metadata": {},
   "outputs": [],
   "source": [
    "df = recipe.reactants.df#[[\"compound_id\", \"amount\"]]\n",
    "df[\"smiles\"] = df[\"compound_id\"].apply(lambda x: animal.compounds[x].smiles)\n",
    "df = df.set_index(\"compound_id\")\n",
    "df[[\"smiles\", \"amount\"]].to_csv(\"RdRp_t3c_i2a_C29639_reactants.csv\")"
   ]
  },
  {
   "cell_type": "code",
   "execution_count": null,
   "id": "ef7c5e6a-a74e-4199-af83-196aa215986f",
   "metadata": {},
   "outputs": [],
   "source": []
  }
 ],
 "metadata": {
  "kernelspec": {
   "display_name": "Python 3 (ipykernel)",
   "language": "python",
   "name": "python3"
  },
  "language_info": {
   "codemirror_mode": {
    "name": "ipython",
    "version": 3
   },
   "file_extension": ".py",
   "mimetype": "text/x-python",
   "name": "python",
   "nbconvert_exporter": "python",
   "pygments_lexer": "ipython3",
   "version": "3.12.8"
  }
 },
 "nbformat": 4,
 "nbformat_minor": 5
}
