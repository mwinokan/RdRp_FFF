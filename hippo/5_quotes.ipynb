{
 "cells": [
  {
   "cell_type": "code",
   "execution_count": 2,
   "id": "8c4f3250-38f0-4a37-b262-fb272477850f",
   "metadata": {},
   "outputs": [],
   "source": [
    "%load_ext autoreload\n",
    "%autoreload 2\n",
    "from pathlib import Path\n",
    "import pandas as pd\n",
    "from mrich import print\n",
    "import mrich\n",
    "import molparse as mp\n",
    "import hippo\n",
    "import plotly.express as px\n",
    "from hippo.plotting import plot_compound_tsnee"
   ]
  },
  {
   "cell_type": "code",
   "execution_count": 3,
   "id": "2e00fc91-ac90-4f47-afef-82f50253b7a3",
   "metadata": {},
   "outputs": [
    {
     "data": {
      "text/html": [
       "<pre style=\"white-space:pre;overflow-x:auto;line-height:normal;font-family:Menlo,'DejaVu Sans Mono',consolas,'Courier New',monospace;margin:0px\"><span style=\"font-weight: bold\"> Creating HIPPO animal</span>\n",
       "</pre>\n"
      ],
      "text/plain": [
       "\u001b[1m Creating HIPPO animal\u001b[0m\n"
      ]
     },
     "metadata": {},
     "output_type": "display_data"
    },
    {
     "data": {
      "text/html": [
       "<pre style=\"white-space:pre;overflow-x:auto;line-height:normal;font-family:Menlo,'DejaVu Sans Mono',consolas,'Courier New',monospace;margin:0px\"><span style=\"color: #008080; text-decoration-color: #008080; font-weight: bold\">name</span> = <span style=\"color: #00d7af; text-decoration-color: #00d7af\">RdRp_FFF</span>\n",
       "</pre>\n"
      ],
      "text/plain": [
       "\u001b[1;36mname\u001b[0m = \u001b[38;5;43mRdRp_FFF\u001b[0m\n"
      ]
     },
     "metadata": {},
     "output_type": "display_data"
    },
    {
     "data": {
      "text/html": [
       "<pre style=\"white-space:pre;overflow-x:auto;line-height:normal;font-family:Menlo,'DejaVu Sans Mono',consolas,'Courier New',monospace;margin:0px\"><span style=\"color: #008080; text-decoration-color: #008080; font-weight: bold\">db_path</span> = <span style=\"color: #d7af00; text-decoration-color: #d7af00\">../../BulkDock/TARGETS/Flavi_NS5_RdRp/Flavi_NS5_RdRp.sqlite</span>\n",
       "</pre>\n"
      ],
      "text/plain": [
       "\u001b[1;36mdb_path\u001b[0m = \u001b[38;5;178m../../BulkDock/TARGETS/Flavi_NS5_RdRp/Flavi_NS5_RdRp.sqlite\u001b[0m\n"
      ]
     },
     "metadata": {},
     "output_type": "display_data"
    },
    {
     "data": {
      "text/html": [
       "<pre style=\"white-space:pre;overflow-x:auto;line-height:normal;font-family:Menlo,'DejaVu Sans Mono',consolas,'Courier New',monospace;margin:0px\"><span style=\"color: #808080; text-decoration-color: #808080\">DEBUG: hippo.Database.__init__()</span>\n",
       "</pre>\n"
      ],
      "text/plain": [
       "\u001b[90mDEBUG: hippo.Database.__init__()\u001b[0m\n"
      ]
     },
     "metadata": {},
     "output_type": "display_data"
    },
    {
     "data": {
      "text/html": [
       "<pre style=\"white-space:pre;overflow-x:auto;line-height:normal;font-family:Menlo,'DejaVu Sans Mono',consolas,'Courier New',monospace;margin:0px\"><span style=\"color: #808080; text-decoration-color: #808080\">DEBUG: Database.path = ../../BulkDock/TARGETS/Flavi_NS5_RdRp/Flavi_NS5_RdRp.sqlite</span>\n",
       "</pre>\n"
      ],
      "text/plain": [
       "\u001b[90mDEBUG: Database.path = ../../BulkDock/TARGETS/Flavi_NS5_RdRp/Flavi_NS5_RdRp.sqlite\u001b[0m\n"
      ]
     },
     "metadata": {},
     "output_type": "display_data"
    },
    {
     "data": {
      "text/html": [
       "<pre style=\"white-space:pre;overflow-x:auto;line-height:normal;font-family:Menlo,'DejaVu Sans Mono',consolas,'Courier New',monospace;margin:0px\"><span style=\"color: #808080; text-decoration-color: #808080\">DEBUG: hippo.Database.connect()</span>\n",
       "</pre>\n"
      ],
      "text/plain": [
       "\u001b[90mDEBUG: hippo.Database.connect()\u001b[0m\n"
      ]
     },
     "metadata": {},
     "output_type": "display_data"
    },
    {
     "data": {
      "text/html": [
       "<pre style=\"white-space:pre;overflow-x:auto;line-height:normal;font-family:Menlo,'DejaVu Sans Mono',consolas,'Courier New',monospace;margin:0px\"><span style=\"color: #808080; text-decoration-color: #808080\">DEBUG: sqlite3.version='2.6.0'</span>\n",
       "</pre>\n"
      ],
      "text/plain": [
       "\u001b[90mDEBUG: sqlite3.version='2.6.0'\u001b[0m\n"
      ]
     },
     "metadata": {},
     "output_type": "display_data"
    },
    {
     "data": {
      "text/html": [
       "<pre style=\"white-space:pre;overflow-x:auto;line-height:normal;font-family:Menlo,'DejaVu Sans Mono',consolas,'Courier New',monospace;margin:0px\"><span style=\"background-color: #008000; font-weight: bold\"> Success </span><span style=\"color: #008000; text-decoration-color: #008000; font-weight: bold\"> Database connected @</span><span style=\"color: #d7af00; text-decoration-color: #d7af00; font-weight: bold\"> ../../BulkDock/TARGETS/Flavi_NS5_RdRp/Flavi_NS5_RdRp.sqlite!</span>\n",
       "</pre>\n"
      ],
      "text/plain": [
       "\u001b[1;7;32m Success \u001b[0m\u001b[1;32m Database connected @\u001b[0m\u001b[1;38;5;178m ../../BulkDock/TARGETS/Flavi_NS5_RdRp/Flavi_NS5_RdRp.sqlite!\u001b[0m\n"
      ]
     },
     "metadata": {},
     "output_type": "display_data"
    },
    {
     "data": {
      "text/html": [
       "<pre style=\"white-space:pre;overflow-x:auto;line-height:normal;font-family:Menlo,'DejaVu Sans Mono',consolas,'Courier New',monospace;margin:0px\"><span style=\"background-color: #008000; font-weight: bold\"> Success </span><span style=\"color: #008000; text-decoration-color: #008000; font-weight: bold\"> Initialised animal</span><span style=\"color: #008080; text-decoration-color: #008080; font-weight: bold\"> HIPPO(\"RdRp_FFF\")!</span>\n",
       "</pre>\n"
      ],
      "text/plain": [
       "\u001b[1;7;32m Success \u001b[0m\u001b[1;32m Initialised animal\u001b[0m\u001b[1;36m HIPPO(\"RdRp_FFF\")!\u001b[0m\n"
      ]
     },
     "metadata": {},
     "output_type": "display_data"
    }
   ],
   "source": [
    "animal = hippo.HIPPO(\"RdRp_FFF\", \"../../BulkDock/TARGETS/Flavi_NS5_RdRp/Flavi_NS5_RdRp.sqlite\")"
   ]
  },
  {
   "cell_type": "markdown",
   "id": "74667a60-39b5-495b-b9ea-ccc2c5fb9830",
   "metadata": {
    "jp-MarkdownHeadingCollapsed": true
   },
   "source": [
    "## Elab statistics"
   ]
  },
  {
   "cell_type": "code",
   "execution_count": 4,
   "id": "0ed34bcb-b8e4-4569-b8d6-716e0a24a9f9",
   "metadata": {},
   "outputs": [
    {
     "data": {
      "application/vnd.jupyter.widget-view+json": {
       "model_id": "2ae21803ee574d798a592ab409b151c2",
       "version_major": 2,
       "version_minor": 0
      },
      "text/plain": [
       "VBox(children=(BoundedIntText(value=0, description='Comp (/232):', max=231), GridBox(children=(Checkbox(value=…"
      ]
     },
     "metadata": {},
     "output_type": "display_data"
    },
    {
     "data": {
      "application/vnd.jupyter.widget-view+json": {
       "model_id": "f943c659f0fe475bb40cb922a6c8ce71",
       "version_major": 2,
       "version_minor": 0
      },
      "text/plain": [
       "Output()"
      ]
     },
     "metadata": {},
     "output_type": "display_data"
    }
   ],
   "source": [
    "scaffolds = animal.poses(tag=\"iter1 scaffolds\").compounds\n",
    "scaffolds.interactive()"
   ]
  },
  {
   "cell_type": "code",
   "execution_count": 5,
   "id": "5bdf087f-a5ea-4837-b380-51f686df87d4",
   "metadata": {
    "scrolled": true
   },
   "outputs": [
    {
     "data": {
      "text/html": [
       "<pre style=\"white-space:pre;overflow-x:auto;line-height:normal;font-family:Menlo,'DejaVu Sans Mono',consolas,'Courier New',monospace;margin:0px\"><span style=\"font-weight: bold; text-decoration: underline\">C734 </span><span style=\"color: #008000; text-decoration-color: #008000; font-weight: bold; text-decoration: underline\">\"QOAMYTSWHMHASV-UHFFFAOYSA-N\"</span> <span style=\"font-weight: bold; text-decoration: underline\">elaborations of C734: {C × </span><span style=\"color: #008080; text-decoration-color: #008080; font-weight: bold; text-decoration: underline\">628</span><span style=\"font-weight: bold; text-decoration: underline\">}</span>\n",
       "</pre>\n"
      ],
      "text/plain": [
       "\u001b[1;4mC734 \u001b[0m\u001b[1;4;32m\"QOAMYTSWHMHASV-UHFFFAOYSA-N\"\u001b[0m \u001b[1;4melaborations of C734: \u001b[0m\u001b[1;4m{\u001b[0m\u001b[1;4mC × \u001b[0m\u001b[1;4;36m628\u001b[0m\u001b[1;4m}\u001b[0m\n"
      ]
     },
     "metadata": {},
     "output_type": "display_data"
    },
    {
     "data": {
      "text/html": [
       "<pre style=\"white-space:pre;overflow-x:auto;line-height:normal;font-family:Menlo,'DejaVu Sans Mono',consolas,'Courier New',monospace;margin:0px\"><span style=\"font-weight: bold; text-decoration: underline\">C772 </span><span style=\"color: #008000; text-decoration-color: #008000; font-weight: bold; text-decoration: underline\">\"VJAXJNJKELENHP-UHFFFAOYSA-N\"</span> <span style=\"color: #800080; text-decoration-color: #800080; font-style: italic\">None</span>\n",
       "</pre>\n"
      ],
      "text/plain": [
       "\u001b[1;4mC772 \u001b[0m\u001b[1;4;32m\"VJAXJNJKELENHP-UHFFFAOYSA-N\"\u001b[0m \u001b[3;35mNone\u001b[0m\n"
      ]
     },
     "metadata": {},
     "output_type": "display_data"
    },
    {
     "data": {
      "text/html": [
       "<pre style=\"white-space:pre;overflow-x:auto;line-height:normal;font-family:Menlo,'DejaVu Sans Mono',consolas,'Courier New',monospace;margin:0px\"><span style=\"font-weight: bold; text-decoration: underline\">C791 </span><span style=\"color: #008000; text-decoration-color: #008000; font-weight: bold; text-decoration: underline\">\"VUWLOCLKMVGYPC-UHFFFAOYSA-N\"</span> <span style=\"color: #800080; text-decoration-color: #800080; font-style: italic\">None</span>\n",
       "</pre>\n"
      ],
      "text/plain": [
       "\u001b[1;4mC791 \u001b[0m\u001b[1;4;32m\"VUWLOCLKMVGYPC-UHFFFAOYSA-N\"\u001b[0m \u001b[3;35mNone\u001b[0m\n"
      ]
     },
     "metadata": {},
     "output_type": "display_data"
    },
    {
     "data": {
      "text/html": [
       "<pre style=\"white-space:pre;overflow-x:auto;line-height:normal;font-family:Menlo,'DejaVu Sans Mono',consolas,'Courier New',monospace;margin:0px\"><span style=\"font-weight: bold; text-decoration: underline\">C808 </span><span style=\"color: #008000; text-decoration-color: #008000; font-weight: bold; text-decoration: underline\">\"KYKFBYOZGOXJTI-UHFFFAOYSA-N\"</span> <span style=\"color: #800080; text-decoration-color: #800080; font-style: italic\">None</span>\n",
       "</pre>\n"
      ],
      "text/plain": [
       "\u001b[1;4mC808 \u001b[0m\u001b[1;4;32m\"KYKFBYOZGOXJTI-UHFFFAOYSA-N\"\u001b[0m \u001b[3;35mNone\u001b[0m\n"
      ]
     },
     "metadata": {},
     "output_type": "display_data"
    },
    {
     "data": {
      "text/html": [
       "<pre style=\"white-space:pre;overflow-x:auto;line-height:normal;font-family:Menlo,'DejaVu Sans Mono',consolas,'Courier New',monospace;margin:0px\"><span style=\"font-weight: bold; text-decoration: underline\">C850 </span><span style=\"color: #008000; text-decoration-color: #008000; font-weight: bold; text-decoration: underline\">\"JSMASCHCFMRBQP-UHFFFAOYSA-N\"</span> <span style=\"color: #800080; text-decoration-color: #800080; font-style: italic\">None</span>\n",
       "</pre>\n"
      ],
      "text/plain": [
       "\u001b[1;4mC850 \u001b[0m\u001b[1;4;32m\"JSMASCHCFMRBQP-UHFFFAOYSA-N\"\u001b[0m \u001b[3;35mNone\u001b[0m\n"
      ]
     },
     "metadata": {},
     "output_type": "display_data"
    },
    {
     "data": {
      "text/html": [
       "<pre style=\"white-space:pre;overflow-x:auto;line-height:normal;font-family:Menlo,'DejaVu Sans Mono',consolas,'Courier New',monospace;margin:0px\"><span style=\"font-weight: bold; text-decoration: underline\">C852 </span><span style=\"color: #008000; text-decoration-color: #008000; font-weight: bold; text-decoration: underline\">\"YCSYUEQAYOMAGE-UHFFFAOYSA-N\"</span> <span style=\"color: #800080; text-decoration-color: #800080; font-style: italic\">None</span>\n",
       "</pre>\n"
      ],
      "text/plain": [
       "\u001b[1;4mC852 \u001b[0m\u001b[1;4;32m\"YCSYUEQAYOMAGE-UHFFFAOYSA-N\"\u001b[0m \u001b[3;35mNone\u001b[0m\n"
      ]
     },
     "metadata": {},
     "output_type": "display_data"
    },
    {
     "data": {
      "text/html": [
       "<pre style=\"white-space:pre;overflow-x:auto;line-height:normal;font-family:Menlo,'DejaVu Sans Mono',consolas,'Courier New',monospace;margin:0px\"><span style=\"font-weight: bold; text-decoration: underline\">C856 </span><span style=\"color: #008000; text-decoration-color: #008000; font-weight: bold; text-decoration: underline\">\"RWOAYQXMDLLTCN-UHFFFAOYSA-N\"</span> <span style=\"color: #800080; text-decoration-color: #800080; font-style: italic\">None</span>\n",
       "</pre>\n"
      ],
      "text/plain": [
       "\u001b[1;4mC856 \u001b[0m\u001b[1;4;32m\"RWOAYQXMDLLTCN-UHFFFAOYSA-N\"\u001b[0m \u001b[3;35mNone\u001b[0m\n"
      ]
     },
     "metadata": {},
     "output_type": "display_data"
    },
    {
     "data": {
      "text/html": [
       "<pre style=\"white-space:pre;overflow-x:auto;line-height:normal;font-family:Menlo,'DejaVu Sans Mono',consolas,'Courier New',monospace;margin:0px\"><span style=\"font-weight: bold; text-decoration: underline\">C885 </span><span style=\"color: #008000; text-decoration-color: #008000; font-weight: bold; text-decoration: underline\">\"CZXIYJPCHZSMDX-UHFFFAOYSA-N\"</span> <span style=\"color: #800080; text-decoration-color: #800080; font-style: italic\">None</span>\n",
       "</pre>\n"
      ],
      "text/plain": [
       "\u001b[1;4mC885 \u001b[0m\u001b[1;4;32m\"CZXIYJPCHZSMDX-UHFFFAOYSA-N\"\u001b[0m \u001b[3;35mNone\u001b[0m\n"
      ]
     },
     "metadata": {},
     "output_type": "display_data"
    },
    {
     "data": {
      "text/html": [
       "<pre style=\"white-space:pre;overflow-x:auto;line-height:normal;font-family:Menlo,'DejaVu Sans Mono',consolas,'Courier New',monospace;margin:0px\"><span style=\"font-weight: bold; text-decoration: underline\">C886 </span><span style=\"color: #008000; text-decoration-color: #008000; font-weight: bold; text-decoration: underline\">\"QXEWTLBETOJJBD-UHFFFAOYSA-N\"</span> <span style=\"color: #800080; text-decoration-color: #800080; font-style: italic\">None</span>\n",
       "</pre>\n"
      ],
      "text/plain": [
       "\u001b[1;4mC886 \u001b[0m\u001b[1;4;32m\"QXEWTLBETOJJBD-UHFFFAOYSA-N\"\u001b[0m \u001b[3;35mNone\u001b[0m\n"
      ]
     },
     "metadata": {},
     "output_type": "display_data"
    },
    {
     "data": {
      "text/html": [
       "<pre style=\"white-space:pre;overflow-x:auto;line-height:normal;font-family:Menlo,'DejaVu Sans Mono',consolas,'Courier New',monospace;margin:0px\"><span style=\"font-weight: bold; text-decoration: underline\">C890 </span><span style=\"color: #008000; text-decoration-color: #008000; font-weight: bold; text-decoration: underline\">\"XDGUIPBTSIDPMH-UHFFFAOYSA-N\"</span> <span style=\"color: #800080; text-decoration-color: #800080; font-style: italic\">None</span>\n",
       "</pre>\n"
      ],
      "text/plain": [
       "\u001b[1;4mC890 \u001b[0m\u001b[1;4;32m\"XDGUIPBTSIDPMH-UHFFFAOYSA-N\"\u001b[0m \u001b[3;35mNone\u001b[0m\n"
      ]
     },
     "metadata": {},
     "output_type": "display_data"
    },
    {
     "data": {
      "text/html": [
       "<pre style=\"white-space:pre;overflow-x:auto;line-height:normal;font-family:Menlo,'DejaVu Sans Mono',consolas,'Courier New',monospace;margin:0px\"><span style=\"font-weight: bold; text-decoration: underline\">C897 </span><span style=\"color: #008000; text-decoration-color: #008000; font-weight: bold; text-decoration: underline\">\"ZPBHINXHGPMFIS-UHFFFAOYSA-N\"</span> <span style=\"color: #800080; text-decoration-color: #800080; font-style: italic\">None</span>\n",
       "</pre>\n"
      ],
      "text/plain": [
       "\u001b[1;4mC897 \u001b[0m\u001b[1;4;32m\"ZPBHINXHGPMFIS-UHFFFAOYSA-N\"\u001b[0m \u001b[3;35mNone\u001b[0m\n"
      ]
     },
     "metadata": {},
     "output_type": "display_data"
    },
    {
     "data": {
      "text/html": [
       "<pre style=\"white-space:pre;overflow-x:auto;line-height:normal;font-family:Menlo,'DejaVu Sans Mono',consolas,'Courier New',monospace;margin:0px\"><span style=\"font-weight: bold; text-decoration: underline\">C915 </span><span style=\"color: #008000; text-decoration-color: #008000; font-weight: bold; text-decoration: underline\">\"BCMFRBFZBGDNRH-UHFFFAOYSA-N\"</span> <span style=\"color: #800080; text-decoration-color: #800080; font-style: italic\">None</span>\n",
       "</pre>\n"
      ],
      "text/plain": [
       "\u001b[1;4mC915 \u001b[0m\u001b[1;4;32m\"BCMFRBFZBGDNRH-UHFFFAOYSA-N\"\u001b[0m \u001b[3;35mNone\u001b[0m\n"
      ]
     },
     "metadata": {},
     "output_type": "display_data"
    },
    {
     "data": {
      "text/html": [
       "<pre style=\"white-space:pre;overflow-x:auto;line-height:normal;font-family:Menlo,'DejaVu Sans Mono',consolas,'Courier New',monospace;margin:0px\"><span style=\"font-weight: bold; text-decoration: underline\">C1226 </span><span style=\"color: #008000; text-decoration-color: #008000; font-weight: bold; text-decoration: underline\">\"LGAJFWJWFLCBPR-UHFFFAOYSA-N\"</span> <span style=\"color: #800080; text-decoration-color: #800080; font-style: italic\">None</span>\n",
       "</pre>\n"
      ],
      "text/plain": [
       "\u001b[1;4mC1226 \u001b[0m\u001b[1;4;32m\"LGAJFWJWFLCBPR-UHFFFAOYSA-N\"\u001b[0m \u001b[3;35mNone\u001b[0m\n"
      ]
     },
     "metadata": {},
     "output_type": "display_data"
    },
    {
     "data": {
      "text/html": [
       "<pre style=\"white-space:pre;overflow-x:auto;line-height:normal;font-family:Menlo,'DejaVu Sans Mono',consolas,'Courier New',monospace;margin:0px\"><span style=\"font-weight: bold; text-decoration: underline\">C1345 </span><span style=\"color: #008000; text-decoration-color: #008000; font-weight: bold; text-decoration: underline\">\"KUNYWHXFLWUFPB-UHFFFAOYSA-N\"</span> <span style=\"color: #800080; text-decoration-color: #800080; font-style: italic\">None</span>\n",
       "</pre>\n"
      ],
      "text/plain": [
       "\u001b[1;4mC1345 \u001b[0m\u001b[1;4;32m\"KUNYWHXFLWUFPB-UHFFFAOYSA-N\"\u001b[0m \u001b[3;35mNone\u001b[0m\n"
      ]
     },
     "metadata": {},
     "output_type": "display_data"
    },
    {
     "data": {
      "text/html": [
       "<pre style=\"white-space:pre;overflow-x:auto;line-height:normal;font-family:Menlo,'DejaVu Sans Mono',consolas,'Courier New',monospace;margin:0px\"><span style=\"font-weight: bold; text-decoration: underline\">C1443 </span><span style=\"color: #008000; text-decoration-color: #008000; font-weight: bold; text-decoration: underline\">\"IQFFGYDSWILZBZ-UHFFFAOYSA-N\"</span> <span style=\"font-weight: bold; text-decoration: underline\">elaborations of C1443: {C × </span><span style=\"color: #008080; text-decoration-color: #008080; font-weight: bold; text-decoration: underline\">4471</span><span style=\"font-weight: bold; text-decoration: underline\">}</span>\n",
       "</pre>\n"
      ],
      "text/plain": [
       "\u001b[1;4mC1443 \u001b[0m\u001b[1;4;32m\"IQFFGYDSWILZBZ-UHFFFAOYSA-N\"\u001b[0m \u001b[1;4melaborations of C1443: \u001b[0m\u001b[1;4m{\u001b[0m\u001b[1;4mC × \u001b[0m\u001b[1;4;36m4471\u001b[0m\u001b[1;4m}\u001b[0m\n"
      ]
     },
     "metadata": {},
     "output_type": "display_data"
    },
    {
     "data": {
      "text/html": [
       "<pre style=\"white-space:pre;overflow-x:auto;line-height:normal;font-family:Menlo,'DejaVu Sans Mono',consolas,'Courier New',monospace;margin:0px\"><span style=\"font-weight: bold; text-decoration: underline\">C2576 </span><span style=\"color: #008000; text-decoration-color: #008000; font-weight: bold; text-decoration: underline\">\"HCFQKVQSVAJCEG-UHFFFAOYSA-N\"</span> <span style=\"font-weight: bold; text-decoration: underline\">elaborations of C2576: {C × </span><span style=\"color: #008080; text-decoration-color: #008080; font-weight: bold; text-decoration: underline\">1367</span><span style=\"font-weight: bold; text-decoration: underline\">}</span>\n",
       "</pre>\n"
      ],
      "text/plain": [
       "\u001b[1;4mC2576 \u001b[0m\u001b[1;4;32m\"HCFQKVQSVAJCEG-UHFFFAOYSA-N\"\u001b[0m \u001b[1;4melaborations of C2576: \u001b[0m\u001b[1;4m{\u001b[0m\u001b[1;4mC × \u001b[0m\u001b[1;4;36m1367\u001b[0m\u001b[1;4m}\u001b[0m\n"
      ]
     },
     "metadata": {},
     "output_type": "display_data"
    },
    {
     "data": {
      "text/html": [
       "<pre style=\"white-space:pre;overflow-x:auto;line-height:normal;font-family:Menlo,'DejaVu Sans Mono',consolas,'Courier New',monospace;margin:0px\"><span style=\"font-weight: bold; text-decoration: underline\">C2664 </span><span style=\"color: #008000; text-decoration-color: #008000; font-weight: bold; text-decoration: underline\">\"XXQBDXPESCLSQC-UHFFFAOYSA-N\"</span> <span style=\"color: #800080; text-decoration-color: #800080; font-style: italic\">None</span>\n",
       "</pre>\n"
      ],
      "text/plain": [
       "\u001b[1;4mC2664 \u001b[0m\u001b[1;4;32m\"XXQBDXPESCLSQC-UHFFFAOYSA-N\"\u001b[0m \u001b[3;35mNone\u001b[0m\n"
      ]
     },
     "metadata": {},
     "output_type": "display_data"
    },
    {
     "data": {
      "text/html": [
       "<pre style=\"white-space:pre;overflow-x:auto;line-height:normal;font-family:Menlo,'DejaVu Sans Mono',consolas,'Courier New',monospace;margin:0px\"><span style=\"font-weight: bold; text-decoration: underline\">C2829 </span><span style=\"color: #008000; text-decoration-color: #008000; font-weight: bold; text-decoration: underline\">\"RHYGREJDHHQRDC-UHFFFAOYSA-N\"</span> <span style=\"color: #800080; text-decoration-color: #800080; font-style: italic\">None</span>\n",
       "</pre>\n"
      ],
      "text/plain": [
       "\u001b[1;4mC2829 \u001b[0m\u001b[1;4;32m\"RHYGREJDHHQRDC-UHFFFAOYSA-N\"\u001b[0m \u001b[3;35mNone\u001b[0m\n"
      ]
     },
     "metadata": {},
     "output_type": "display_data"
    },
    {
     "data": {
      "text/html": [
       "<pre style=\"white-space:pre;overflow-x:auto;line-height:normal;font-family:Menlo,'DejaVu Sans Mono',consolas,'Courier New',monospace;margin:0px\"><span style=\"font-weight: bold; text-decoration: underline\">C3075 </span><span style=\"color: #008000; text-decoration-color: #008000; font-weight: bold; text-decoration: underline\">\"FOZSYKGVMKDKBV-UHFFFAOYSA-N\"</span> <span style=\"color: #800080; text-decoration-color: #800080; font-style: italic\">None</span>\n",
       "</pre>\n"
      ],
      "text/plain": [
       "\u001b[1;4mC3075 \u001b[0m\u001b[1;4;32m\"FOZSYKGVMKDKBV-UHFFFAOYSA-N\"\u001b[0m \u001b[3;35mNone\u001b[0m\n"
      ]
     },
     "metadata": {},
     "output_type": "display_data"
    },
    {
     "data": {
      "text/html": [
       "<pre style=\"white-space:pre;overflow-x:auto;line-height:normal;font-family:Menlo,'DejaVu Sans Mono',consolas,'Courier New',monospace;margin:0px\"><span style=\"font-weight: bold; text-decoration: underline\">C3098 </span><span style=\"color: #008000; text-decoration-color: #008000; font-weight: bold; text-decoration: underline\">\"KAFGNTYOOWFSHX-UHFFFAOYSA-N\"</span> <span style=\"font-weight: bold; text-decoration: underline\">elaborations of C3098: {C × </span><span style=\"color: #008080; text-decoration-color: #008080; font-weight: bold; text-decoration: underline\">616</span><span style=\"font-weight: bold; text-decoration: underline\">}</span>\n",
       "</pre>\n"
      ],
      "text/plain": [
       "\u001b[1;4mC3098 \u001b[0m\u001b[1;4;32m\"KAFGNTYOOWFSHX-UHFFFAOYSA-N\"\u001b[0m \u001b[1;4melaborations of C3098: \u001b[0m\u001b[1;4m{\u001b[0m\u001b[1;4mC × \u001b[0m\u001b[1;4;36m616\u001b[0m\u001b[1;4m}\u001b[0m\n"
      ]
     },
     "metadata": {},
     "output_type": "display_data"
    },
    {
     "data": {
      "text/html": [
       "<pre style=\"white-space:pre;overflow-x:auto;line-height:normal;font-family:Menlo,'DejaVu Sans Mono',consolas,'Courier New',monospace;margin:0px\"><span style=\"font-weight: bold; text-decoration: underline\">C4091 </span><span style=\"color: #008000; text-decoration-color: #008000; font-weight: bold; text-decoration: underline\">\"PPLQPJVUYBOHPD-UHFFFAOYSA-N\"</span> <span style=\"font-weight: bold; text-decoration: underline\">elaborations of C4091: {C × </span><span style=\"color: #008080; text-decoration-color: #008080; font-weight: bold; text-decoration: underline\">489</span><span style=\"font-weight: bold; text-decoration: underline\">}</span>\n",
       "</pre>\n"
      ],
      "text/plain": [
       "\u001b[1;4mC4091 \u001b[0m\u001b[1;4;32m\"PPLQPJVUYBOHPD-UHFFFAOYSA-N\"\u001b[0m \u001b[1;4melaborations of C4091: \u001b[0m\u001b[1;4m{\u001b[0m\u001b[1;4mC × \u001b[0m\u001b[1;4;36m489\u001b[0m\u001b[1;4m}\u001b[0m\n"
      ]
     },
     "metadata": {},
     "output_type": "display_data"
    },
    {
     "data": {
      "text/html": [
       "<pre style=\"white-space:pre;overflow-x:auto;line-height:normal;font-family:Menlo,'DejaVu Sans Mono',consolas,'Courier New',monospace;margin:0px\"><span style=\"font-weight: bold; text-decoration: underline\">C4093 </span><span style=\"color: #008000; text-decoration-color: #008000; font-weight: bold; text-decoration: underline\">\"GEKOBKXDLILBGR-UHFFFAOYSA-N\"</span> <span style=\"font-weight: bold; text-decoration: underline\">elaborations of C4093: {C × </span><span style=\"color: #008080; text-decoration-color: #008080; font-weight: bold; text-decoration: underline\">2415</span><span style=\"font-weight: bold; text-decoration: underline\">}</span>\n",
       "</pre>\n"
      ],
      "text/plain": [
       "\u001b[1;4mC4093 \u001b[0m\u001b[1;4;32m\"GEKOBKXDLILBGR-UHFFFAOYSA-N\"\u001b[0m \u001b[1;4melaborations of C4093: \u001b[0m\u001b[1;4m{\u001b[0m\u001b[1;4mC × \u001b[0m\u001b[1;4;36m2415\u001b[0m\u001b[1;4m}\u001b[0m\n"
      ]
     },
     "metadata": {},
     "output_type": "display_data"
    },
    {
     "data": {
      "text/html": [
       "<pre style=\"white-space:pre;overflow-x:auto;line-height:normal;font-family:Menlo,'DejaVu Sans Mono',consolas,'Courier New',monospace;margin:0px\"><span style=\"font-weight: bold; text-decoration: underline\">C4109 </span><span style=\"color: #008000; text-decoration-color: #008000; font-weight: bold; text-decoration: underline\">\"WDWYXIDACVPHLO-UHFFFAOYSA-N\"</span> <span style=\"font-weight: bold; text-decoration: underline\">elaborations of C4109: {C × </span><span style=\"color: #008080; text-decoration-color: #008080; font-weight: bold; text-decoration: underline\">1594</span><span style=\"font-weight: bold; text-decoration: underline\">}</span>\n",
       "</pre>\n"
      ],
      "text/plain": [
       "\u001b[1;4mC4109 \u001b[0m\u001b[1;4;32m\"WDWYXIDACVPHLO-UHFFFAOYSA-N\"\u001b[0m \u001b[1;4melaborations of C4109: \u001b[0m\u001b[1;4m{\u001b[0m\u001b[1;4mC × \u001b[0m\u001b[1;4;36m1594\u001b[0m\u001b[1;4m}\u001b[0m\n"
      ]
     },
     "metadata": {},
     "output_type": "display_data"
    },
    {
     "data": {
      "text/html": [
       "<pre style=\"white-space:pre;overflow-x:auto;line-height:normal;font-family:Menlo,'DejaVu Sans Mono',consolas,'Courier New',monospace;margin:0px\"><span style=\"font-weight: bold; text-decoration: underline\">C5550 </span><span style=\"color: #008000; text-decoration-color: #008000; font-weight: bold; text-decoration: underline\">\"CVLSHSMLHFDUPS-UHFFFAOYSA-N\"</span> <span style=\"color: #800080; text-decoration-color: #800080; font-style: italic\">None</span>\n",
       "</pre>\n"
      ],
      "text/plain": [
       "\u001b[1;4mC5550 \u001b[0m\u001b[1;4;32m\"CVLSHSMLHFDUPS-UHFFFAOYSA-N\"\u001b[0m \u001b[3;35mNone\u001b[0m\n"
      ]
     },
     "metadata": {},
     "output_type": "display_data"
    },
    {
     "data": {
      "text/html": [
       "<pre style=\"white-space:pre;overflow-x:auto;line-height:normal;font-family:Menlo,'DejaVu Sans Mono',consolas,'Courier New',monospace;margin:0px\"><span style=\"font-weight: bold; text-decoration: underline\">C6353 </span><span style=\"color: #008000; text-decoration-color: #008000; font-weight: bold; text-decoration: underline\">\"BXUSHCNUMJPCGE-UHFFFAOYSA-N\"</span> <span style=\"color: #800080; text-decoration-color: #800080; font-style: italic\">None</span>\n",
       "</pre>\n"
      ],
      "text/plain": [
       "\u001b[1;4mC6353 \u001b[0m\u001b[1;4;32m\"BXUSHCNUMJPCGE-UHFFFAOYSA-N\"\u001b[0m \u001b[3;35mNone\u001b[0m\n"
      ]
     },
     "metadata": {},
     "output_type": "display_data"
    },
    {
     "data": {
      "text/html": [
       "<pre style=\"white-space:pre;overflow-x:auto;line-height:normal;font-family:Menlo,'DejaVu Sans Mono',consolas,'Courier New',monospace;margin:0px\"><span style=\"font-weight: bold; text-decoration: underline\">C6527 </span><span style=\"color: #008000; text-decoration-color: #008000; font-weight: bold; text-decoration: underline\">\"XVUBRPZAPHYKMV-UHFFFAOYSA-N\"</span> <span style=\"color: #800080; text-decoration-color: #800080; font-style: italic\">None</span>\n",
       "</pre>\n"
      ],
      "text/plain": [
       "\u001b[1;4mC6527 \u001b[0m\u001b[1;4;32m\"XVUBRPZAPHYKMV-UHFFFAOYSA-N\"\u001b[0m \u001b[3;35mNone\u001b[0m\n"
      ]
     },
     "metadata": {},
     "output_type": "display_data"
    },
    {
     "data": {
      "text/html": [
       "<pre style=\"white-space:pre;overflow-x:auto;line-height:normal;font-family:Menlo,'DejaVu Sans Mono',consolas,'Courier New',monospace;margin:0px\"><span style=\"font-weight: bold; text-decoration: underline\">C6950 </span><span style=\"color: #008000; text-decoration-color: #008000; font-weight: bold; text-decoration: underline\">\"KGPMAROHLPCGEI-UHFFFAOYSA-N\"</span> <span style=\"color: #800080; text-decoration-color: #800080; font-style: italic\">None</span>\n",
       "</pre>\n"
      ],
      "text/plain": [
       "\u001b[1;4mC6950 \u001b[0m\u001b[1;4;32m\"KGPMAROHLPCGEI-UHFFFAOYSA-N\"\u001b[0m \u001b[3;35mNone\u001b[0m\n"
      ]
     },
     "metadata": {},
     "output_type": "display_data"
    },
    {
     "data": {
      "text/html": [
       "<pre style=\"white-space:pre;overflow-x:auto;line-height:normal;font-family:Menlo,'DejaVu Sans Mono',consolas,'Courier New',monospace;margin:0px\"><span style=\"font-weight: bold; text-decoration: underline\">C6954 </span><span style=\"color: #008000; text-decoration-color: #008000; font-weight: bold; text-decoration: underline\">\"PXNMOXNSHAKQAT-UHFFFAOYSA-N\"</span> <span style=\"color: #800080; text-decoration-color: #800080; font-style: italic\">None</span>\n",
       "</pre>\n"
      ],
      "text/plain": [
       "\u001b[1;4mC6954 \u001b[0m\u001b[1;4;32m\"PXNMOXNSHAKQAT-UHFFFAOYSA-N\"\u001b[0m \u001b[3;35mNone\u001b[0m\n"
      ]
     },
     "metadata": {},
     "output_type": "display_data"
    },
    {
     "data": {
      "text/html": [
       "<pre style=\"white-space:pre;overflow-x:auto;line-height:normal;font-family:Menlo,'DejaVu Sans Mono',consolas,'Courier New',monospace;margin:0px\"><span style=\"font-weight: bold; text-decoration: underline\">C7755 </span><span style=\"color: #008000; text-decoration-color: #008000; font-weight: bold; text-decoration: underline\">\"IYFJGUVPMIFAOX-UHFFFAOYSA-N\"</span> <span style=\"color: #800080; text-decoration-color: #800080; font-style: italic\">None</span>\n",
       "</pre>\n"
      ],
      "text/plain": [
       "\u001b[1;4mC7755 \u001b[0m\u001b[1;4;32m\"IYFJGUVPMIFAOX-UHFFFAOYSA-N\"\u001b[0m \u001b[3;35mNone\u001b[0m\n"
      ]
     },
     "metadata": {},
     "output_type": "display_data"
    },
    {
     "data": {
      "text/html": [
       "<pre style=\"white-space:pre;overflow-x:auto;line-height:normal;font-family:Menlo,'DejaVu Sans Mono',consolas,'Courier New',monospace;margin:0px\"><span style=\"font-weight: bold; text-decoration: underline\">C7817 </span><span style=\"color: #008000; text-decoration-color: #008000; font-weight: bold; text-decoration: underline\">\"KCOFJMZABDSXHW-UHFFFAOYSA-N\"</span> <span style=\"font-weight: bold; text-decoration: underline\">elaborations of C7817: {C × </span><span style=\"color: #008080; text-decoration-color: #008080; font-weight: bold; text-decoration: underline\">115</span><span style=\"font-weight: bold; text-decoration: underline\">}</span>\n",
       "</pre>\n"
      ],
      "text/plain": [
       "\u001b[1;4mC7817 \u001b[0m\u001b[1;4;32m\"KCOFJMZABDSXHW-UHFFFAOYSA-N\"\u001b[0m \u001b[1;4melaborations of C7817: \u001b[0m\u001b[1;4m{\u001b[0m\u001b[1;4mC × \u001b[0m\u001b[1;4;36m115\u001b[0m\u001b[1;4m}\u001b[0m\n"
      ]
     },
     "metadata": {},
     "output_type": "display_data"
    },
    {
     "data": {
      "text/html": [
       "<pre style=\"white-space:pre;overflow-x:auto;line-height:normal;font-family:Menlo,'DejaVu Sans Mono',consolas,'Courier New',monospace;margin:0px\"><span style=\"font-weight: bold; text-decoration: underline\">C8588 </span><span style=\"color: #008000; text-decoration-color: #008000; font-weight: bold; text-decoration: underline\">\"ZGDMPLGTNQKCSV-UHFFFAOYSA-N\"</span> <span style=\"color: #800080; text-decoration-color: #800080; font-style: italic\">None</span>\n",
       "</pre>\n"
      ],
      "text/plain": [
       "\u001b[1;4mC8588 \u001b[0m\u001b[1;4;32m\"ZGDMPLGTNQKCSV-UHFFFAOYSA-N\"\u001b[0m \u001b[3;35mNone\u001b[0m\n"
      ]
     },
     "metadata": {},
     "output_type": "display_data"
    },
    {
     "data": {
      "text/html": [
       "<pre style=\"white-space:pre;overflow-x:auto;line-height:normal;font-family:Menlo,'DejaVu Sans Mono',consolas,'Courier New',monospace;margin:0px\"><span style=\"font-weight: bold; text-decoration: underline\">C8715 </span><span style=\"color: #008000; text-decoration-color: #008000; font-weight: bold; text-decoration: underline\">\"AJQQGJNKKDEODG-UHFFFAOYSA-N\"</span> <span style=\"color: #800080; text-decoration-color: #800080; font-style: italic\">None</span>\n",
       "</pre>\n"
      ],
      "text/plain": [
       "\u001b[1;4mC8715 \u001b[0m\u001b[1;4;32m\"AJQQGJNKKDEODG-UHFFFAOYSA-N\"\u001b[0m \u001b[3;35mNone\u001b[0m\n"
      ]
     },
     "metadata": {},
     "output_type": "display_data"
    },
    {
     "data": {
      "text/html": [
       "<pre style=\"white-space:pre;overflow-x:auto;line-height:normal;font-family:Menlo,'DejaVu Sans Mono',consolas,'Courier New',monospace;margin:0px\"><span style=\"font-weight: bold; text-decoration: underline\">C9237 </span><span style=\"color: #008000; text-decoration-color: #008000; font-weight: bold; text-decoration: underline\">\"RVTMFWDQLFZZMH-UHFFFAOYSA-N\"</span> <span style=\"font-weight: bold; text-decoration: underline\">elaborations of C9237: {C × </span><span style=\"color: #008080; text-decoration-color: #008080; font-weight: bold; text-decoration: underline\">91</span><span style=\"font-weight: bold; text-decoration: underline\">}</span>\n",
       "</pre>\n"
      ],
      "text/plain": [
       "\u001b[1;4mC9237 \u001b[0m\u001b[1;4;32m\"RVTMFWDQLFZZMH-UHFFFAOYSA-N\"\u001b[0m \u001b[1;4melaborations of C9237: \u001b[0m\u001b[1;4m{\u001b[0m\u001b[1;4mC × \u001b[0m\u001b[1;4;36m91\u001b[0m\u001b[1;4m}\u001b[0m\n"
      ]
     },
     "metadata": {},
     "output_type": "display_data"
    },
    {
     "data": {
      "text/html": [
       "<pre style=\"white-space:pre;overflow-x:auto;line-height:normal;font-family:Menlo,'DejaVu Sans Mono',consolas,'Courier New',monospace;margin:0px\"><span style=\"font-weight: bold; text-decoration: underline\">C9420 </span><span style=\"color: #008000; text-decoration-color: #008000; font-weight: bold; text-decoration: underline\">\"MKHBBPCZLAEZGC-UHFFFAOYSA-N\"</span> <span style=\"color: #800080; text-decoration-color: #800080; font-style: italic\">None</span>\n",
       "</pre>\n"
      ],
      "text/plain": [
       "\u001b[1;4mC9420 \u001b[0m\u001b[1;4;32m\"MKHBBPCZLAEZGC-UHFFFAOYSA-N\"\u001b[0m \u001b[3;35mNone\u001b[0m\n"
      ]
     },
     "metadata": {},
     "output_type": "display_data"
    },
    {
     "data": {
      "text/html": [
       "<pre style=\"white-space:pre;overflow-x:auto;line-height:normal;font-family:Menlo,'DejaVu Sans Mono',consolas,'Courier New',monospace;margin:0px\"><span style=\"font-weight: bold; text-decoration: underline\">C10275 </span><span style=\"color: #008000; text-decoration-color: #008000; font-weight: bold; text-decoration: underline\">\"DFFAHRILMAZSJI-UHFFFAOYSA-N\"</span> <span style=\"font-weight: bold; text-decoration: underline\">elaborations of C10275: {C × </span><span style=\"color: #008080; text-decoration-color: #008080; font-weight: bold; text-decoration: underline\">937</span><span style=\"font-weight: bold; text-decoration: underline\">}</span>\n",
       "</pre>\n"
      ],
      "text/plain": [
       "\u001b[1;4mC10275 \u001b[0m\u001b[1;4;32m\"DFFAHRILMAZSJI-UHFFFAOYSA-N\"\u001b[0m \u001b[1;4melaborations of C10275: \u001b[0m\u001b[1;4m{\u001b[0m\u001b[1;4mC × \u001b[0m\u001b[1;4;36m937\u001b[0m\u001b[1;4m}\u001b[0m\n"
      ]
     },
     "metadata": {},
     "output_type": "display_data"
    },
    {
     "data": {
      "text/html": [
       "<pre style=\"white-space:pre;overflow-x:auto;line-height:normal;font-family:Menlo,'DejaVu Sans Mono',consolas,'Courier New',monospace;margin:0px\"><span style=\"font-weight: bold; text-decoration: underline\">C10412 </span><span style=\"color: #008000; text-decoration-color: #008000; font-weight: bold; text-decoration: underline\">\"NMMXOIPTLDWKIW-UHFFFAOYSA-N\"</span> <span style=\"color: #800080; text-decoration-color: #800080; font-style: italic\">None</span>\n",
       "</pre>\n"
      ],
      "text/plain": [
       "\u001b[1;4mC10412 \u001b[0m\u001b[1;4;32m\"NMMXOIPTLDWKIW-UHFFFAOYSA-N\"\u001b[0m \u001b[3;35mNone\u001b[0m\n"
      ]
     },
     "metadata": {},
     "output_type": "display_data"
    },
    {
     "data": {
      "text/html": [
       "<pre style=\"white-space:pre;overflow-x:auto;line-height:normal;font-family:Menlo,'DejaVu Sans Mono',consolas,'Courier New',monospace;margin:0px\"><span style=\"font-weight: bold; text-decoration: underline\">C12483 </span><span style=\"color: #008000; text-decoration-color: #008000; font-weight: bold; text-decoration: underline\">\"FJIZSRBICNYNGK-UHFFFAOYSA-N\"</span> <span style=\"font-weight: bold; text-decoration: underline\">elaborations of C12483: {C × </span><span style=\"color: #008080; text-decoration-color: #008080; font-weight: bold; text-decoration: underline\">114</span><span style=\"font-weight: bold; text-decoration: underline\">}</span>\n",
       "</pre>\n"
      ],
      "text/plain": [
       "\u001b[1;4mC12483 \u001b[0m\u001b[1;4;32m\"FJIZSRBICNYNGK-UHFFFAOYSA-N\"\u001b[0m \u001b[1;4melaborations of C12483: \u001b[0m\u001b[1;4m{\u001b[0m\u001b[1;4mC × \u001b[0m\u001b[1;4;36m114\u001b[0m\u001b[1;4m}\u001b[0m\n"
      ]
     },
     "metadata": {},
     "output_type": "display_data"
    },
    {
     "data": {
      "text/html": [
       "<pre style=\"white-space:pre;overflow-x:auto;line-height:normal;font-family:Menlo,'DejaVu Sans Mono',consolas,'Courier New',monospace;margin:0px\"><span style=\"font-weight: bold; text-decoration: underline\">C12548 </span><span style=\"color: #008000; text-decoration-color: #008000; font-weight: bold; text-decoration: underline\">\"DJVQSQXCKGQNJE-UHFFFAOYSA-N\"</span> <span style=\"font-weight: bold; text-decoration: underline\">elaborations of C12548: {C × </span><span style=\"color: #008080; text-decoration-color: #008080; font-weight: bold; text-decoration: underline\">1220</span><span style=\"font-weight: bold; text-decoration: underline\">}</span>\n",
       "</pre>\n"
      ],
      "text/plain": [
       "\u001b[1;4mC12548 \u001b[0m\u001b[1;4;32m\"DJVQSQXCKGQNJE-UHFFFAOYSA-N\"\u001b[0m \u001b[1;4melaborations of C12548: \u001b[0m\u001b[1;4m{\u001b[0m\u001b[1;4mC × \u001b[0m\u001b[1;4;36m1220\u001b[0m\u001b[1;4m}\u001b[0m\n"
      ]
     },
     "metadata": {},
     "output_type": "display_data"
    },
    {
     "data": {
      "text/html": [
       "<pre style=\"white-space:pre;overflow-x:auto;line-height:normal;font-family:Menlo,'DejaVu Sans Mono',consolas,'Courier New',monospace;margin:0px\"><span style=\"font-weight: bold; text-decoration: underline\">C12690 </span><span style=\"color: #008000; text-decoration-color: #008000; font-weight: bold; text-decoration: underline\">\"CJNBNTYLNLSYBI-UHFFFAOYSA-N\"</span> <span style=\"font-weight: bold; text-decoration: underline\">elaborations of C12690: {C × </span><span style=\"color: #008080; text-decoration-color: #008080; font-weight: bold; text-decoration: underline\">878</span><span style=\"font-weight: bold; text-decoration: underline\">}</span>\n",
       "</pre>\n"
      ],
      "text/plain": [
       "\u001b[1;4mC12690 \u001b[0m\u001b[1;4;32m\"CJNBNTYLNLSYBI-UHFFFAOYSA-N\"\u001b[0m \u001b[1;4melaborations of C12690: \u001b[0m\u001b[1;4m{\u001b[0m\u001b[1;4mC × \u001b[0m\u001b[1;4;36m878\u001b[0m\u001b[1;4m}\u001b[0m\n"
      ]
     },
     "metadata": {},
     "output_type": "display_data"
    },
    {
     "data": {
      "text/html": [
       "<pre style=\"white-space:pre;overflow-x:auto;line-height:normal;font-family:Menlo,'DejaVu Sans Mono',consolas,'Courier New',monospace;margin:0px\"><span style=\"font-weight: bold; text-decoration: underline\">C13699 </span><span style=\"color: #008000; text-decoration-color: #008000; font-weight: bold; text-decoration: underline\">\"BOFHQGWPXCOGTN-UHFFFAOYSA-N\"</span> <span style=\"color: #800080; text-decoration-color: #800080; font-style: italic\">None</span>\n",
       "</pre>\n"
      ],
      "text/plain": [
       "\u001b[1;4mC13699 \u001b[0m\u001b[1;4;32m\"BOFHQGWPXCOGTN-UHFFFAOYSA-N\"\u001b[0m \u001b[3;35mNone\u001b[0m\n"
      ]
     },
     "metadata": {},
     "output_type": "display_data"
    },
    {
     "data": {
      "text/html": [
       "<pre style=\"white-space:pre;overflow-x:auto;line-height:normal;font-family:Menlo,'DejaVu Sans Mono',consolas,'Courier New',monospace;margin:0px\"><span style=\"font-weight: bold; text-decoration: underline\">C13884 </span><span style=\"color: #008000; text-decoration-color: #008000; font-weight: bold; text-decoration: underline\">\"HGMRINZTTPAZBD-UHFFFAOYSA-N\"</span> <span style=\"font-weight: bold; text-decoration: underline\">elaborations of C13884: {C × </span><span style=\"color: #008080; text-decoration-color: #008080; font-weight: bold; text-decoration: underline\">232</span><span style=\"font-weight: bold; text-decoration: underline\">}</span>\n",
       "</pre>\n"
      ],
      "text/plain": [
       "\u001b[1;4mC13884 \u001b[0m\u001b[1;4;32m\"HGMRINZTTPAZBD-UHFFFAOYSA-N\"\u001b[0m \u001b[1;4melaborations of C13884: \u001b[0m\u001b[1;4m{\u001b[0m\u001b[1;4mC × \u001b[0m\u001b[1;4;36m232\u001b[0m\u001b[1;4m}\u001b[0m\n"
      ]
     },
     "metadata": {},
     "output_type": "display_data"
    },
    {
     "data": {
      "text/html": [
       "<pre style=\"white-space:pre;overflow-x:auto;line-height:normal;font-family:Menlo,'DejaVu Sans Mono',consolas,'Courier New',monospace;margin:0px\"><span style=\"font-weight: bold; text-decoration: underline\">C16080 </span><span style=\"color: #008000; text-decoration-color: #008000; font-weight: bold; text-decoration: underline\">\"QAXRUQAZQORQFQ-UHFFFAOYSA-N\"</span> <span style=\"font-weight: bold; text-decoration: underline\">elaborations of C16080: {C × </span><span style=\"color: #008080; text-decoration-color: #008080; font-weight: bold; text-decoration: underline\">212</span><span style=\"font-weight: bold; text-decoration: underline\">}</span>\n",
       "</pre>\n"
      ],
      "text/plain": [
       "\u001b[1;4mC16080 \u001b[0m\u001b[1;4;32m\"QAXRUQAZQORQFQ-UHFFFAOYSA-N\"\u001b[0m \u001b[1;4melaborations of C16080: \u001b[0m\u001b[1;4m{\u001b[0m\u001b[1;4mC × \u001b[0m\u001b[1;4;36m212\u001b[0m\u001b[1;4m}\u001b[0m\n"
      ]
     },
     "metadata": {},
     "output_type": "display_data"
    },
    {
     "data": {
      "text/html": [
       "<pre style=\"white-space:pre;overflow-x:auto;line-height:normal;font-family:Menlo,'DejaVu Sans Mono',consolas,'Courier New',monospace;margin:0px\"><span style=\"font-weight: bold; text-decoration: underline\">C19774 </span><span style=\"color: #008000; text-decoration-color: #008000; font-weight: bold; text-decoration: underline\">\"DNLUSRYLIQAQAE-UHFFFAOYSA-N\"</span> <span style=\"font-weight: bold; text-decoration: underline\">elaborations of C19774: {C × </span><span style=\"color: #008080; text-decoration-color: #008080; font-weight: bold; text-decoration: underline\">5127</span><span style=\"font-weight: bold; text-decoration: underline\">}</span>\n",
       "</pre>\n"
      ],
      "text/plain": [
       "\u001b[1;4mC19774 \u001b[0m\u001b[1;4;32m\"DNLUSRYLIQAQAE-UHFFFAOYSA-N\"\u001b[0m \u001b[1;4melaborations of C19774: \u001b[0m\u001b[1;4m{\u001b[0m\u001b[1;4mC × \u001b[0m\u001b[1;4;36m5127\u001b[0m\u001b[1;4m}\u001b[0m\n"
      ]
     },
     "metadata": {},
     "output_type": "display_data"
    },
    {
     "data": {
      "text/html": [
       "<pre style=\"white-space:pre;overflow-x:auto;line-height:normal;font-family:Menlo,'DejaVu Sans Mono',consolas,'Courier New',monospace;margin:0px\"><span style=\"font-weight: bold; text-decoration: underline\">C20299 </span><span style=\"color: #008000; text-decoration-color: #008000; font-weight: bold; text-decoration: underline\">\"OUADHXQUGPVFPL-UHFFFAOYSA-N\"</span> <span style=\"font-weight: bold; text-decoration: underline\">elaborations of C20299: {C × </span><span style=\"color: #008080; text-decoration-color: #008080; font-weight: bold; text-decoration: underline\">1439</span><span style=\"font-weight: bold; text-decoration: underline\">}</span>\n",
       "</pre>\n"
      ],
      "text/plain": [
       "\u001b[1;4mC20299 \u001b[0m\u001b[1;4;32m\"OUADHXQUGPVFPL-UHFFFAOYSA-N\"\u001b[0m \u001b[1;4melaborations of C20299: \u001b[0m\u001b[1;4m{\u001b[0m\u001b[1;4mC × \u001b[0m\u001b[1;4;36m1439\u001b[0m\u001b[1;4m}\u001b[0m\n"
      ]
     },
     "metadata": {},
     "output_type": "display_data"
    },
    {
     "data": {
      "text/html": [
       "<pre style=\"white-space:pre;overflow-x:auto;line-height:normal;font-family:Menlo,'DejaVu Sans Mono',consolas,'Courier New',monospace;margin:0px\"><span style=\"font-weight: bold; text-decoration: underline\">C21233 </span><span style=\"color: #008000; text-decoration-color: #008000; font-weight: bold; text-decoration: underline\">\"SSVXXQWWLAHTNL-UHFFFAOYSA-N\"</span> <span style=\"color: #800080; text-decoration-color: #800080; font-style: italic\">None</span>\n",
       "</pre>\n"
      ],
      "text/plain": [
       "\u001b[1;4mC21233 \u001b[0m\u001b[1;4;32m\"SSVXXQWWLAHTNL-UHFFFAOYSA-N\"\u001b[0m \u001b[3;35mNone\u001b[0m\n"
      ]
     },
     "metadata": {},
     "output_type": "display_data"
    },
    {
     "data": {
      "text/html": [
       "<pre style=\"white-space:pre;overflow-x:auto;line-height:normal;font-family:Menlo,'DejaVu Sans Mono',consolas,'Courier New',monospace;margin:0px\"><span style=\"font-weight: bold; text-decoration: underline\">C23289 </span><span style=\"color: #008000; text-decoration-color: #008000; font-weight: bold; text-decoration: underline\">\"ZTHISXNUAOFTJB-UHFFFAOYSA-N\"</span> <span style=\"font-weight: bold; text-decoration: underline\">elaborations of C23289: {C × </span><span style=\"color: #008080; text-decoration-color: #008080; font-weight: bold; text-decoration: underline\">771</span><span style=\"font-weight: bold; text-decoration: underline\">}</span>\n",
       "</pre>\n"
      ],
      "text/plain": [
       "\u001b[1;4mC23289 \u001b[0m\u001b[1;4;32m\"ZTHISXNUAOFTJB-UHFFFAOYSA-N\"\u001b[0m \u001b[1;4melaborations of C23289: \u001b[0m\u001b[1;4m{\u001b[0m\u001b[1;4mC × \u001b[0m\u001b[1;4;36m771\u001b[0m\u001b[1;4m}\u001b[0m\n"
      ]
     },
     "metadata": {},
     "output_type": "display_data"
    },
    {
     "data": {
      "text/html": [
       "<pre style=\"white-space:pre;overflow-x:auto;line-height:normal;font-family:Menlo,'DejaVu Sans Mono',consolas,'Courier New',monospace;margin:0px\"><span style=\"font-weight: bold; text-decoration: underline\">C27417 </span><span style=\"color: #008000; text-decoration-color: #008000; font-weight: bold; text-decoration: underline\">\"XKPKUAISYUPFGS-UHFFFAOYSA-N\"</span> <span style=\"color: #800080; text-decoration-color: #800080; font-style: italic\">None</span>\n",
       "</pre>\n"
      ],
      "text/plain": [
       "\u001b[1;4mC27417 \u001b[0m\u001b[1;4;32m\"XKPKUAISYUPFGS-UHFFFAOYSA-N\"\u001b[0m \u001b[3;35mNone\u001b[0m\n"
      ]
     },
     "metadata": {},
     "output_type": "display_data"
    },
    {
     "data": {
      "text/html": [
       "<pre style=\"white-space:pre;overflow-x:auto;line-height:normal;font-family:Menlo,'DejaVu Sans Mono',consolas,'Courier New',monospace;margin:0px\"><span style=\"font-weight: bold; text-decoration: underline\">C28013 </span><span style=\"color: #008000; text-decoration-color: #008000; font-weight: bold; text-decoration: underline\">\"IMMHZJLASOVDCS-UHFFFAOYSA-N\"</span> <span style=\"font-weight: bold; text-decoration: underline\">elaborations of C28013: {C × </span><span style=\"color: #008080; text-decoration-color: #008080; font-weight: bold; text-decoration: underline\">559</span><span style=\"font-weight: bold; text-decoration: underline\">}</span>\n",
       "</pre>\n"
      ],
      "text/plain": [
       "\u001b[1;4mC28013 \u001b[0m\u001b[1;4;32m\"IMMHZJLASOVDCS-UHFFFAOYSA-N\"\u001b[0m \u001b[1;4melaborations of C28013: \u001b[0m\u001b[1;4m{\u001b[0m\u001b[1;4mC × \u001b[0m\u001b[1;4;36m559\u001b[0m\u001b[1;4m}\u001b[0m\n"
      ]
     },
     "metadata": {},
     "output_type": "display_data"
    },
    {
     "data": {
      "text/html": [
       "<pre style=\"white-space:pre;overflow-x:auto;line-height:normal;font-family:Menlo,'DejaVu Sans Mono',consolas,'Courier New',monospace;margin:0px\"><span style=\"font-weight: bold; text-decoration: underline\">C28106 </span><span style=\"color: #008000; text-decoration-color: #008000; font-weight: bold; text-decoration: underline\">\"SGOQIRYDERXCCT-UHFFFAOYSA-N\"</span> <span style=\"font-weight: bold; text-decoration: underline\">elaborations of C28106: {C × </span><span style=\"color: #008080; text-decoration-color: #008080; font-weight: bold; text-decoration: underline\">98</span><span style=\"font-weight: bold; text-decoration: underline\">}</span>\n",
       "</pre>\n"
      ],
      "text/plain": [
       "\u001b[1;4mC28106 \u001b[0m\u001b[1;4;32m\"SGOQIRYDERXCCT-UHFFFAOYSA-N\"\u001b[0m \u001b[1;4melaborations of C28106: \u001b[0m\u001b[1;4m{\u001b[0m\u001b[1;4mC × \u001b[0m\u001b[1;4;36m98\u001b[0m\u001b[1;4m}\u001b[0m\n"
      ]
     },
     "metadata": {},
     "output_type": "display_data"
    },
    {
     "data": {
      "text/html": [
       "<pre style=\"white-space:pre;overflow-x:auto;line-height:normal;font-family:Menlo,'DejaVu Sans Mono',consolas,'Courier New',monospace;margin:0px\"><span style=\"font-weight: bold; text-decoration: underline\">C28301 </span><span style=\"color: #008000; text-decoration-color: #008000; font-weight: bold; text-decoration: underline\">\"SEXBZMJMGRUWGS-UHFFFAOYSA-N\"</span> <span style=\"font-weight: bold; text-decoration: underline\">elaborations of C28301: {C × </span><span style=\"color: #008080; text-decoration-color: #008080; font-weight: bold; text-decoration: underline\">168</span><span style=\"font-weight: bold; text-decoration: underline\">}</span>\n",
       "</pre>\n"
      ],
      "text/plain": [
       "\u001b[1;4mC28301 \u001b[0m\u001b[1;4;32m\"SEXBZMJMGRUWGS-UHFFFAOYSA-N\"\u001b[0m \u001b[1;4melaborations of C28301: \u001b[0m\u001b[1;4m{\u001b[0m\u001b[1;4mC × \u001b[0m\u001b[1;4;36m168\u001b[0m\u001b[1;4m}\u001b[0m\n"
      ]
     },
     "metadata": {},
     "output_type": "display_data"
    },
    {
     "data": {
      "text/html": [
       "<pre style=\"white-space:pre;overflow-x:auto;line-height:normal;font-family:Menlo,'DejaVu Sans Mono',consolas,'Courier New',monospace;margin:0px\"><span style=\"font-weight: bold; text-decoration: underline\">C28628 </span><span style=\"color: #008000; text-decoration-color: #008000; font-weight: bold; text-decoration: underline\">\"DHXCDLUKFAKLSY-UHFFFAOYSA-N\"</span> <span style=\"font-weight: bold; text-decoration: underline\">elaborations of C28628: {C × </span><span style=\"color: #008080; text-decoration-color: #008080; font-weight: bold; text-decoration: underline\">789</span><span style=\"font-weight: bold; text-decoration: underline\">}</span>\n",
       "</pre>\n"
      ],
      "text/plain": [
       "\u001b[1;4mC28628 \u001b[0m\u001b[1;4;32m\"DHXCDLUKFAKLSY-UHFFFAOYSA-N\"\u001b[0m \u001b[1;4melaborations of C28628: \u001b[0m\u001b[1;4m{\u001b[0m\u001b[1;4mC × \u001b[0m\u001b[1;4;36m789\u001b[0m\u001b[1;4m}\u001b[0m\n"
      ]
     },
     "metadata": {},
     "output_type": "display_data"
    },
    {
     "data": {
      "text/html": [
       "<pre style=\"white-space:pre;overflow-x:auto;line-height:normal;font-family:Menlo,'DejaVu Sans Mono',consolas,'Courier New',monospace;margin:0px\"><span style=\"font-weight: bold; text-decoration: underline\">C29639 </span><span style=\"color: #008000; text-decoration-color: #008000; font-weight: bold; text-decoration: underline\">\"YAOSTISNIUSXMX-UHFFFAOYSA-N\"</span> <span style=\"font-weight: bold; text-decoration: underline\">elaborations of C29639: {C × </span><span style=\"color: #008080; text-decoration-color: #008080; font-weight: bold; text-decoration: underline\">381</span><span style=\"font-weight: bold; text-decoration: underline\">}</span>\n",
       "</pre>\n"
      ],
      "text/plain": [
       "\u001b[1;4mC29639 \u001b[0m\u001b[1;4;32m\"YAOSTISNIUSXMX-UHFFFAOYSA-N\"\u001b[0m \u001b[1;4melaborations of C29639: \u001b[0m\u001b[1;4m{\u001b[0m\u001b[1;4mC × \u001b[0m\u001b[1;4;36m381\u001b[0m\u001b[1;4m}\u001b[0m\n"
      ]
     },
     "metadata": {},
     "output_type": "display_data"
    },
    {
     "data": {
      "text/html": [
       "<pre style=\"white-space:pre;overflow-x:auto;line-height:normal;font-family:Menlo,'DejaVu Sans Mono',consolas,'Courier New',monospace;margin:0px\"><span style=\"font-weight: bold; text-decoration: underline\">C29796 </span><span style=\"color: #008000; text-decoration-color: #008000; font-weight: bold; text-decoration: underline\">\"LZEZZOBYMRLTRX-UHFFFAOYSA-N\"</span> <span style=\"color: #800080; text-decoration-color: #800080; font-style: italic\">None</span>\n",
       "</pre>\n"
      ],
      "text/plain": [
       "\u001b[1;4mC29796 \u001b[0m\u001b[1;4;32m\"LZEZZOBYMRLTRX-UHFFFAOYSA-N\"\u001b[0m \u001b[3;35mNone\u001b[0m\n"
      ]
     },
     "metadata": {},
     "output_type": "display_data"
    },
    {
     "data": {
      "text/html": [
       "<pre style=\"white-space:pre;overflow-x:auto;line-height:normal;font-family:Menlo,'DejaVu Sans Mono',consolas,'Courier New',monospace;margin:0px\"><span style=\"font-weight: bold; text-decoration: underline\">C29852 </span><span style=\"color: #008000; text-decoration-color: #008000; font-weight: bold; text-decoration: underline\">\"QVGDSEZSJSHRTO-UHFFFAOYSA-N\"</span> <span style=\"color: #800080; text-decoration-color: #800080; font-style: italic\">None</span>\n",
       "</pre>\n"
      ],
      "text/plain": [
       "\u001b[1;4mC29852 \u001b[0m\u001b[1;4;32m\"QVGDSEZSJSHRTO-UHFFFAOYSA-N\"\u001b[0m \u001b[3;35mNone\u001b[0m\n"
      ]
     },
     "metadata": {},
     "output_type": "display_data"
    },
    {
     "data": {
      "text/html": [
       "<pre style=\"white-space:pre;overflow-x:auto;line-height:normal;font-family:Menlo,'DejaVu Sans Mono',consolas,'Courier New',monospace;margin:0px\"><span style=\"font-weight: bold; text-decoration: underline\">C30341 </span><span style=\"color: #008000; text-decoration-color: #008000; font-weight: bold; text-decoration: underline\">\"RYINUJYFPYCEFQ-UHFFFAOYSA-N\"</span> <span style=\"color: #800080; text-decoration-color: #800080; font-style: italic\">None</span>\n",
       "</pre>\n"
      ],
      "text/plain": [
       "\u001b[1;4mC30341 \u001b[0m\u001b[1;4;32m\"RYINUJYFPYCEFQ-UHFFFAOYSA-N\"\u001b[0m \u001b[3;35mNone\u001b[0m\n"
      ]
     },
     "metadata": {},
     "output_type": "display_data"
    },
    {
     "data": {
      "text/html": [
       "<pre style=\"white-space:pre;overflow-x:auto;line-height:normal;font-family:Menlo,'DejaVu Sans Mono',consolas,'Courier New',monospace;margin:0px\"><span style=\"font-weight: bold; text-decoration: underline\">C32376 </span><span style=\"color: #008000; text-decoration-color: #008000; font-weight: bold; text-decoration: underline\">\"ZLBFYANSAYZPQU-UHFFFAOYSA-N\"</span> <span style=\"font-weight: bold; text-decoration: underline\">elaborations of C32376: {C × </span><span style=\"color: #008080; text-decoration-color: #008080; font-weight: bold; text-decoration: underline\">6213</span><span style=\"font-weight: bold; text-decoration: underline\">}</span>\n",
       "</pre>\n"
      ],
      "text/plain": [
       "\u001b[1;4mC32376 \u001b[0m\u001b[1;4;32m\"ZLBFYANSAYZPQU-UHFFFAOYSA-N\"\u001b[0m \u001b[1;4melaborations of C32376: \u001b[0m\u001b[1;4m{\u001b[0m\u001b[1;4mC × \u001b[0m\u001b[1;4;36m6213\u001b[0m\u001b[1;4m}\u001b[0m\n"
      ]
     },
     "metadata": {},
     "output_type": "display_data"
    },
    {
     "data": {
      "text/html": [
       "<pre style=\"white-space:pre;overflow-x:auto;line-height:normal;font-family:Menlo,'DejaVu Sans Mono',consolas,'Courier New',monospace;margin:0px\"><span style=\"font-weight: bold; text-decoration: underline\">C33380 </span><span style=\"color: #008000; text-decoration-color: #008000; font-weight: bold; text-decoration: underline\">\"KDLJKMCSUJXXOQ-UHFFFAOYSA-N\"</span> <span style=\"color: #800080; text-decoration-color: #800080; font-style: italic\">None</span>\n",
       "</pre>\n"
      ],
      "text/plain": [
       "\u001b[1;4mC33380 \u001b[0m\u001b[1;4;32m\"KDLJKMCSUJXXOQ-UHFFFAOYSA-N\"\u001b[0m \u001b[3;35mNone\u001b[0m\n"
      ]
     },
     "metadata": {},
     "output_type": "display_data"
    },
    {
     "data": {
      "text/html": [
       "<pre style=\"white-space:pre;overflow-x:auto;line-height:normal;font-family:Menlo,'DejaVu Sans Mono',consolas,'Courier New',monospace;margin:0px\"><span style=\"font-weight: bold; text-decoration: underline\">C33434 </span><span style=\"color: #008000; text-decoration-color: #008000; font-weight: bold; text-decoration: underline\">\"SHENAZADMNUPGS-UHFFFAOYSA-N\"</span> <span style=\"font-weight: bold; text-decoration: underline\">elaborations of C33434: {C × </span><span style=\"color: #008080; text-decoration-color: #008080; font-weight: bold; text-decoration: underline\">600</span><span style=\"font-weight: bold; text-decoration: underline\">}</span>\n",
       "</pre>\n"
      ],
      "text/plain": [
       "\u001b[1;4mC33434 \u001b[0m\u001b[1;4;32m\"SHENAZADMNUPGS-UHFFFAOYSA-N\"\u001b[0m \u001b[1;4melaborations of C33434: \u001b[0m\u001b[1;4m{\u001b[0m\u001b[1;4mC × \u001b[0m\u001b[1;4;36m600\u001b[0m\u001b[1;4m}\u001b[0m\n"
      ]
     },
     "metadata": {},
     "output_type": "display_data"
    },
    {
     "data": {
      "text/html": [
       "<pre style=\"white-space:pre;overflow-x:auto;line-height:normal;font-family:Menlo,'DejaVu Sans Mono',consolas,'Courier New',monospace;margin:0px\"><span style=\"font-weight: bold; text-decoration: underline\">C34583 </span><span style=\"color: #008000; text-decoration-color: #008000; font-weight: bold; text-decoration: underline\">\"RMDDLTVCDWQPGN-UHFFFAOYSA-N\"</span> <span style=\"font-weight: bold; text-decoration: underline\">elaborations of C34583: {C × </span><span style=\"color: #008080; text-decoration-color: #008080; font-weight: bold; text-decoration: underline\">3073</span><span style=\"font-weight: bold; text-decoration: underline\">}</span>\n",
       "</pre>\n"
      ],
      "text/plain": [
       "\u001b[1;4mC34583 \u001b[0m\u001b[1;4;32m\"RMDDLTVCDWQPGN-UHFFFAOYSA-N\"\u001b[0m \u001b[1;4melaborations of C34583: \u001b[0m\u001b[1;4m{\u001b[0m\u001b[1;4mC × \u001b[0m\u001b[1;4;36m3073\u001b[0m\u001b[1;4m}\u001b[0m\n"
      ]
     },
     "metadata": {},
     "output_type": "display_data"
    },
    {
     "data": {
      "text/html": [
       "<pre style=\"white-space:pre;overflow-x:auto;line-height:normal;font-family:Menlo,'DejaVu Sans Mono',consolas,'Courier New',monospace;margin:0px\"><span style=\"font-weight: bold; text-decoration: underline\">C34650 </span><span style=\"color: #008000; text-decoration-color: #008000; font-weight: bold; text-decoration: underline\">\"COECYTDITAWNNP-UHFFFAOYSA-N\"</span> <span style=\"font-weight: bold; text-decoration: underline\">elaborations of C34650: {C × </span><span style=\"color: #008080; text-decoration-color: #008080; font-weight: bold; text-decoration: underline\">589</span><span style=\"font-weight: bold; text-decoration: underline\">}</span>\n",
       "</pre>\n"
      ],
      "text/plain": [
       "\u001b[1;4mC34650 \u001b[0m\u001b[1;4;32m\"COECYTDITAWNNP-UHFFFAOYSA-N\"\u001b[0m \u001b[1;4melaborations of C34650: \u001b[0m\u001b[1;4m{\u001b[0m\u001b[1;4mC × \u001b[0m\u001b[1;4;36m589\u001b[0m\u001b[1;4m}\u001b[0m\n"
      ]
     },
     "metadata": {},
     "output_type": "display_data"
    },
    {
     "data": {
      "text/html": [
       "<pre style=\"white-space:pre;overflow-x:auto;line-height:normal;font-family:Menlo,'DejaVu Sans Mono',consolas,'Courier New',monospace;margin:0px\"><span style=\"font-weight: bold; text-decoration: underline\">C34701 </span><span style=\"color: #008000; text-decoration-color: #008000; font-weight: bold; text-decoration: underline\">\"XYRDJRCBUAYREB-UHFFFAOYSA-N\"</span> <span style=\"font-weight: bold; text-decoration: underline\">elaborations of C34701: {C × </span><span style=\"color: #008080; text-decoration-color: #008080; font-weight: bold; text-decoration: underline\">691</span><span style=\"font-weight: bold; text-decoration: underline\">}</span>\n",
       "</pre>\n"
      ],
      "text/plain": [
       "\u001b[1;4mC34701 \u001b[0m\u001b[1;4;32m\"XYRDJRCBUAYREB-UHFFFAOYSA-N\"\u001b[0m \u001b[1;4melaborations of C34701: \u001b[0m\u001b[1;4m{\u001b[0m\u001b[1;4mC × \u001b[0m\u001b[1;4;36m691\u001b[0m\u001b[1;4m}\u001b[0m\n"
      ]
     },
     "metadata": {},
     "output_type": "display_data"
    },
    {
     "data": {
      "text/html": [
       "<pre style=\"white-space:pre;overflow-x:auto;line-height:normal;font-family:Menlo,'DejaVu Sans Mono',consolas,'Courier New',monospace;margin:0px\"><span style=\"font-weight: bold; text-decoration: underline\">C35145 </span><span style=\"color: #008000; text-decoration-color: #008000; font-weight: bold; text-decoration: underline\">\"OXHXBAHSHMBTDQ-UHFFFAOYSA-N\"</span> <span style=\"font-weight: bold; text-decoration: underline\">elaborations of C35145: {C × </span><span style=\"color: #008080; text-decoration-color: #008080; font-weight: bold; text-decoration: underline\">203</span><span style=\"font-weight: bold; text-decoration: underline\">}</span>\n",
       "</pre>\n"
      ],
      "text/plain": [
       "\u001b[1;4mC35145 \u001b[0m\u001b[1;4;32m\"OXHXBAHSHMBTDQ-UHFFFAOYSA-N\"\u001b[0m \u001b[1;4melaborations of C35145: \u001b[0m\u001b[1;4m{\u001b[0m\u001b[1;4mC × \u001b[0m\u001b[1;4;36m203\u001b[0m\u001b[1;4m}\u001b[0m\n"
      ]
     },
     "metadata": {},
     "output_type": "display_data"
    },
    {
     "data": {
      "text/html": [
       "<pre style=\"white-space:pre;overflow-x:auto;line-height:normal;font-family:Menlo,'DejaVu Sans Mono',consolas,'Courier New',monospace;margin:0px\"><span style=\"font-weight: bold; text-decoration: underline\">C35920 </span><span style=\"color: #008000; text-decoration-color: #008000; font-weight: bold; text-decoration: underline\">\"XPDDKFHYDJHELS-UHFFFAOYSA-N\"</span> <span style=\"font-weight: bold; text-decoration: underline\">elaborations of C35920: {C × </span><span style=\"color: #008080; text-decoration-color: #008080; font-weight: bold; text-decoration: underline\">666</span><span style=\"font-weight: bold; text-decoration: underline\">}</span>\n",
       "</pre>\n"
      ],
      "text/plain": [
       "\u001b[1;4mC35920 \u001b[0m\u001b[1;4;32m\"XPDDKFHYDJHELS-UHFFFAOYSA-N\"\u001b[0m \u001b[1;4melaborations of C35920: \u001b[0m\u001b[1;4m{\u001b[0m\u001b[1;4mC × \u001b[0m\u001b[1;4;36m666\u001b[0m\u001b[1;4m}\u001b[0m\n"
      ]
     },
     "metadata": {},
     "output_type": "display_data"
    },
    {
     "data": {
      "text/html": [
       "<pre style=\"white-space:pre;overflow-x:auto;line-height:normal;font-family:Menlo,'DejaVu Sans Mono',consolas,'Courier New',monospace;margin:0px\"><span style=\"font-weight: bold; text-decoration: underline\">C36233 </span><span style=\"color: #008000; text-decoration-color: #008000; font-weight: bold; text-decoration: underline\">\"KJOJCYOZXQMGKF-UHFFFAOYSA-N\"</span> <span style=\"font-weight: bold; text-decoration: underline\">elaborations of C36233: {C × </span><span style=\"color: #008080; text-decoration-color: #008080; font-weight: bold; text-decoration: underline\">516</span><span style=\"font-weight: bold; text-decoration: underline\">}</span>\n",
       "</pre>\n"
      ],
      "text/plain": [
       "\u001b[1;4mC36233 \u001b[0m\u001b[1;4;32m\"KJOJCYOZXQMGKF-UHFFFAOYSA-N\"\u001b[0m \u001b[1;4melaborations of C36233: \u001b[0m\u001b[1;4m{\u001b[0m\u001b[1;4mC × \u001b[0m\u001b[1;4;36m516\u001b[0m\u001b[1;4m}\u001b[0m\n"
      ]
     },
     "metadata": {},
     "output_type": "display_data"
    },
    {
     "data": {
      "text/html": [
       "<pre style=\"white-space:pre;overflow-x:auto;line-height:normal;font-family:Menlo,'DejaVu Sans Mono',consolas,'Courier New',monospace;margin:0px\"><span style=\"font-weight: bold; text-decoration: underline\">C36458 </span><span style=\"color: #008000; text-decoration-color: #008000; font-weight: bold; text-decoration: underline\">\"DEGPAYOEPZCOBR-UHFFFAOYSA-N\"</span> <span style=\"font-weight: bold; text-decoration: underline\">elaborations of C36458: {C × </span><span style=\"color: #008080; text-decoration-color: #008080; font-weight: bold; text-decoration: underline\">7424</span><span style=\"font-weight: bold; text-decoration: underline\">}</span>\n",
       "</pre>\n"
      ],
      "text/plain": [
       "\u001b[1;4mC36458 \u001b[0m\u001b[1;4;32m\"DEGPAYOEPZCOBR-UHFFFAOYSA-N\"\u001b[0m \u001b[1;4melaborations of C36458: \u001b[0m\u001b[1;4m{\u001b[0m\u001b[1;4mC × \u001b[0m\u001b[1;4;36m7424\u001b[0m\u001b[1;4m}\u001b[0m\n"
      ]
     },
     "metadata": {},
     "output_type": "display_data"
    },
    {
     "data": {
      "text/html": [
       "<pre style=\"white-space:pre;overflow-x:auto;line-height:normal;font-family:Menlo,'DejaVu Sans Mono',consolas,'Courier New',monospace;margin:0px\"><span style=\"font-weight: bold; text-decoration: underline\">C36844 </span><span style=\"color: #008000; text-decoration-color: #008000; font-weight: bold; text-decoration: underline\">\"UBFVZJDSFUAJAS-UHFFFAOYSA-N\"</span> <span style=\"color: #800080; text-decoration-color: #800080; font-style: italic\">None</span>\n",
       "</pre>\n"
      ],
      "text/plain": [
       "\u001b[1;4mC36844 \u001b[0m\u001b[1;4;32m\"UBFVZJDSFUAJAS-UHFFFAOYSA-N\"\u001b[0m \u001b[3;35mNone\u001b[0m\n"
      ]
     },
     "metadata": {},
     "output_type": "display_data"
    },
    {
     "data": {
      "text/html": [
       "<pre style=\"white-space:pre;overflow-x:auto;line-height:normal;font-family:Menlo,'DejaVu Sans Mono',consolas,'Courier New',monospace;margin:0px\"><span style=\"font-weight: bold; text-decoration: underline\">C37157 </span><span style=\"color: #008000; text-decoration-color: #008000; font-weight: bold; text-decoration: underline\">\"JLMNNNUCENKWBV-UHFFFAOYSA-N\"</span> <span style=\"color: #800080; text-decoration-color: #800080; font-style: italic\">None</span>\n",
       "</pre>\n"
      ],
      "text/plain": [
       "\u001b[1;4mC37157 \u001b[0m\u001b[1;4;32m\"JLMNNNUCENKWBV-UHFFFAOYSA-N\"\u001b[0m \u001b[3;35mNone\u001b[0m\n"
      ]
     },
     "metadata": {},
     "output_type": "display_data"
    },
    {
     "data": {
      "text/html": [
       "<pre style=\"white-space:pre;overflow-x:auto;line-height:normal;font-family:Menlo,'DejaVu Sans Mono',consolas,'Courier New',monospace;margin:0px\"><span style=\"font-weight: bold; text-decoration: underline\">C37461 </span><span style=\"color: #008000; text-decoration-color: #008000; font-weight: bold; text-decoration: underline\">\"ZUCZAINLLDMSCJ-UHFFFAOYSA-N\"</span> <span style=\"font-weight: bold; text-decoration: underline\">elaborations of C37461: {C × </span><span style=\"color: #008080; text-decoration-color: #008080; font-weight: bold; text-decoration: underline\">336</span><span style=\"font-weight: bold; text-decoration: underline\">}</span>\n",
       "</pre>\n"
      ],
      "text/plain": [
       "\u001b[1;4mC37461 \u001b[0m\u001b[1;4;32m\"ZUCZAINLLDMSCJ-UHFFFAOYSA-N\"\u001b[0m \u001b[1;4melaborations of C37461: \u001b[0m\u001b[1;4m{\u001b[0m\u001b[1;4mC × \u001b[0m\u001b[1;4;36m336\u001b[0m\u001b[1;4m}\u001b[0m\n"
      ]
     },
     "metadata": {},
     "output_type": "display_data"
    },
    {
     "data": {
      "text/html": [
       "<pre style=\"white-space:pre;overflow-x:auto;line-height:normal;font-family:Menlo,'DejaVu Sans Mono',consolas,'Courier New',monospace;margin:0px\"><span style=\"font-weight: bold; text-decoration: underline\">C37923 </span><span style=\"color: #008000; text-decoration-color: #008000; font-weight: bold; text-decoration: underline\">\"VDFCXTONXACPCO-UHFFFAOYSA-N\"</span> <span style=\"font-weight: bold; text-decoration: underline\">elaborations of C37923: {C × </span><span style=\"color: #008080; text-decoration-color: #008080; font-weight: bold; text-decoration: underline\">2154</span><span style=\"font-weight: bold; text-decoration: underline\">}</span>\n",
       "</pre>\n"
      ],
      "text/plain": [
       "\u001b[1;4mC37923 \u001b[0m\u001b[1;4;32m\"VDFCXTONXACPCO-UHFFFAOYSA-N\"\u001b[0m \u001b[1;4melaborations of C37923: \u001b[0m\u001b[1;4m{\u001b[0m\u001b[1;4mC × \u001b[0m\u001b[1;4;36m2154\u001b[0m\u001b[1;4m}\u001b[0m\n"
      ]
     },
     "metadata": {},
     "output_type": "display_data"
    },
    {
     "data": {
      "text/html": [
       "<pre style=\"white-space:pre;overflow-x:auto;line-height:normal;font-family:Menlo,'DejaVu Sans Mono',consolas,'Courier New',monospace;margin:0px\"><span style=\"font-weight: bold; text-decoration: underline\">C40440 </span><span style=\"color: #008000; text-decoration-color: #008000; font-weight: bold; text-decoration: underline\">\"OPBKSEQHWDGWCG-UHFFFAOYSA-N\"</span> <span style=\"color: #800080; text-decoration-color: #800080; font-style: italic\">None</span>\n",
       "</pre>\n"
      ],
      "text/plain": [
       "\u001b[1;4mC40440 \u001b[0m\u001b[1;4;32m\"OPBKSEQHWDGWCG-UHFFFAOYSA-N\"\u001b[0m \u001b[3;35mNone\u001b[0m\n"
      ]
     },
     "metadata": {},
     "output_type": "display_data"
    },
    {
     "data": {
      "text/html": [
       "<pre style=\"white-space:pre;overflow-x:auto;line-height:normal;font-family:Menlo,'DejaVu Sans Mono',consolas,'Courier New',monospace;margin:0px\"><span style=\"font-weight: bold; text-decoration: underline\">C40797 </span><span style=\"color: #008000; text-decoration-color: #008000; font-weight: bold; text-decoration: underline\">\"FOFIBXNPNXTDPY-UHFFFAOYSA-N\"</span> <span style=\"color: #800080; text-decoration-color: #800080; font-style: italic\">None</span>\n",
       "</pre>\n"
      ],
      "text/plain": [
       "\u001b[1;4mC40797 \u001b[0m\u001b[1;4;32m\"FOFIBXNPNXTDPY-UHFFFAOYSA-N\"\u001b[0m \u001b[3;35mNone\u001b[0m\n"
      ]
     },
     "metadata": {},
     "output_type": "display_data"
    },
    {
     "data": {
      "text/html": [
       "<pre style=\"white-space:pre;overflow-x:auto;line-height:normal;font-family:Menlo,'DejaVu Sans Mono',consolas,'Courier New',monospace;margin:0px\"><span style=\"font-weight: bold; text-decoration: underline\">C41552 </span><span style=\"color: #008000; text-decoration-color: #008000; font-weight: bold; text-decoration: underline\">\"MOWNOSLAQYMJTK-UHFFFAOYSA-N\"</span> <span style=\"font-weight: bold; text-decoration: underline\">elaborations of C41552: {C × </span><span style=\"color: #008080; text-decoration-color: #008080; font-weight: bold; text-decoration: underline\">1184</span><span style=\"font-weight: bold; text-decoration: underline\">}</span>\n",
       "</pre>\n"
      ],
      "text/plain": [
       "\u001b[1;4mC41552 \u001b[0m\u001b[1;4;32m\"MOWNOSLAQYMJTK-UHFFFAOYSA-N\"\u001b[0m \u001b[1;4melaborations of C41552: \u001b[0m\u001b[1;4m{\u001b[0m\u001b[1;4mC × \u001b[0m\u001b[1;4;36m1184\u001b[0m\u001b[1;4m}\u001b[0m\n"
      ]
     },
     "metadata": {},
     "output_type": "display_data"
    },
    {
     "data": {
      "text/html": [
       "<pre style=\"white-space:pre;overflow-x:auto;line-height:normal;font-family:Menlo,'DejaVu Sans Mono',consolas,'Courier New',monospace;margin:0px\"><span style=\"font-weight: bold; text-decoration: underline\">C41689 </span><span style=\"color: #008000; text-decoration-color: #008000; font-weight: bold; text-decoration: underline\">\"JQFOUHQLNJADNF-UHFFFAOYSA-N\"</span> <span style=\"color: #800080; text-decoration-color: #800080; font-style: italic\">None</span>\n",
       "</pre>\n"
      ],
      "text/plain": [
       "\u001b[1;4mC41689 \u001b[0m\u001b[1;4;32m\"JQFOUHQLNJADNF-UHFFFAOYSA-N\"\u001b[0m \u001b[3;35mNone\u001b[0m\n"
      ]
     },
     "metadata": {},
     "output_type": "display_data"
    },
    {
     "data": {
      "text/html": [
       "<pre style=\"white-space:pre;overflow-x:auto;line-height:normal;font-family:Menlo,'DejaVu Sans Mono',consolas,'Courier New',monospace;margin:0px\"><span style=\"font-weight: bold; text-decoration: underline\">C43135 </span><span style=\"color: #008000; text-decoration-color: #008000; font-weight: bold; text-decoration: underline\">\"PGVYGILCFWWCGJ-UHFFFAOYSA-N\"</span> <span style=\"font-weight: bold; text-decoration: underline\">elaborations of C43135: {C × </span><span style=\"color: #008080; text-decoration-color: #008080; font-weight: bold; text-decoration: underline\">422</span><span style=\"font-weight: bold; text-decoration: underline\">}</span>\n",
       "</pre>\n"
      ],
      "text/plain": [
       "\u001b[1;4mC43135 \u001b[0m\u001b[1;4;32m\"PGVYGILCFWWCGJ-UHFFFAOYSA-N\"\u001b[0m \u001b[1;4melaborations of C43135: \u001b[0m\u001b[1;4m{\u001b[0m\u001b[1;4mC × \u001b[0m\u001b[1;4;36m422\u001b[0m\u001b[1;4m}\u001b[0m\n"
      ]
     },
     "metadata": {},
     "output_type": "display_data"
    },
    {
     "data": {
      "text/html": [
       "<pre style=\"white-space:pre;overflow-x:auto;line-height:normal;font-family:Menlo,'DejaVu Sans Mono',consolas,'Courier New',monospace;margin:0px\"><span style=\"font-weight: bold; text-decoration: underline\">C43155 </span><span style=\"color: #008000; text-decoration-color: #008000; font-weight: bold; text-decoration: underline\">\"AQCOXBPIGUJRMX-UHFFFAOYSA-N\"</span> <span style=\"font-weight: bold; text-decoration: underline\">elaborations of C43155: {C × </span><span style=\"color: #008080; text-decoration-color: #008080; font-weight: bold; text-decoration: underline\">952</span><span style=\"font-weight: bold; text-decoration: underline\">}</span>\n",
       "</pre>\n"
      ],
      "text/plain": [
       "\u001b[1;4mC43155 \u001b[0m\u001b[1;4;32m\"AQCOXBPIGUJRMX-UHFFFAOYSA-N\"\u001b[0m \u001b[1;4melaborations of C43155: \u001b[0m\u001b[1;4m{\u001b[0m\u001b[1;4mC × \u001b[0m\u001b[1;4;36m952\u001b[0m\u001b[1;4m}\u001b[0m\n"
      ]
     },
     "metadata": {},
     "output_type": "display_data"
    },
    {
     "data": {
      "text/html": [
       "<pre style=\"white-space:pre;overflow-x:auto;line-height:normal;font-family:Menlo,'DejaVu Sans Mono',consolas,'Courier New',monospace;margin:0px\"><span style=\"font-weight: bold; text-decoration: underline\">C43304 </span><span style=\"color: #008000; text-decoration-color: #008000; font-weight: bold; text-decoration: underline\">\"UCXOUSGPQWXLPI-UHFFFAOYSA-N\"</span> <span style=\"color: #800080; text-decoration-color: #800080; font-style: italic\">None</span>\n",
       "</pre>\n"
      ],
      "text/plain": [
       "\u001b[1;4mC43304 \u001b[0m\u001b[1;4;32m\"UCXOUSGPQWXLPI-UHFFFAOYSA-N\"\u001b[0m \u001b[3;35mNone\u001b[0m\n"
      ]
     },
     "metadata": {},
     "output_type": "display_data"
    },
    {
     "data": {
      "text/html": [
       "<pre style=\"white-space:pre;overflow-x:auto;line-height:normal;font-family:Menlo,'DejaVu Sans Mono',consolas,'Courier New',monospace;margin:0px\"><span style=\"font-weight: bold; text-decoration: underline\">C43742 </span><span style=\"color: #008000; text-decoration-color: #008000; font-weight: bold; text-decoration: underline\">\"VWFMTHAJPOZZPN-UHFFFAOYSA-N\"</span> <span style=\"color: #800080; text-decoration-color: #800080; font-style: italic\">None</span>\n",
       "</pre>\n"
      ],
      "text/plain": [
       "\u001b[1;4mC43742 \u001b[0m\u001b[1;4;32m\"VWFMTHAJPOZZPN-UHFFFAOYSA-N\"\u001b[0m \u001b[3;35mNone\u001b[0m\n"
      ]
     },
     "metadata": {},
     "output_type": "display_data"
    },
    {
     "data": {
      "text/html": [
       "<pre style=\"white-space:pre;overflow-x:auto;line-height:normal;font-family:Menlo,'DejaVu Sans Mono',consolas,'Courier New',monospace;margin:0px\"><span style=\"font-weight: bold; text-decoration: underline\">C44380 </span><span style=\"color: #008000; text-decoration-color: #008000; font-weight: bold; text-decoration: underline\">\"WZJPHEKPHALAMW-UHFFFAOYSA-N\"</span> <span style=\"font-weight: bold; text-decoration: underline\">elaborations of C44380: {C × </span><span style=\"color: #008080; text-decoration-color: #008080; font-weight: bold; text-decoration: underline\">1635</span><span style=\"font-weight: bold; text-decoration: underline\">}</span>\n",
       "</pre>\n"
      ],
      "text/plain": [
       "\u001b[1;4mC44380 \u001b[0m\u001b[1;4;32m\"WZJPHEKPHALAMW-UHFFFAOYSA-N\"\u001b[0m \u001b[1;4melaborations of C44380: \u001b[0m\u001b[1;4m{\u001b[0m\u001b[1;4mC × \u001b[0m\u001b[1;4;36m1635\u001b[0m\u001b[1;4m}\u001b[0m\n"
      ]
     },
     "metadata": {},
     "output_type": "display_data"
    },
    {
     "data": {
      "text/html": [
       "<pre style=\"white-space:pre;overflow-x:auto;line-height:normal;font-family:Menlo,'DejaVu Sans Mono',consolas,'Courier New',monospace;margin:0px\"><span style=\"font-weight: bold; text-decoration: underline\">C44522 </span><span style=\"color: #008000; text-decoration-color: #008000; font-weight: bold; text-decoration: underline\">\"MBBYSNDXNBICSA-UHFFFAOYSA-N\"</span> <span style=\"color: #800080; text-decoration-color: #800080; font-style: italic\">None</span>\n",
       "</pre>\n"
      ],
      "text/plain": [
       "\u001b[1;4mC44522 \u001b[0m\u001b[1;4;32m\"MBBYSNDXNBICSA-UHFFFAOYSA-N\"\u001b[0m \u001b[3;35mNone\u001b[0m\n"
      ]
     },
     "metadata": {},
     "output_type": "display_data"
    },
    {
     "data": {
      "text/html": [
       "<pre style=\"white-space:pre;overflow-x:auto;line-height:normal;font-family:Menlo,'DejaVu Sans Mono',consolas,'Courier New',monospace;margin:0px\"><span style=\"font-weight: bold; text-decoration: underline\">C45268 </span><span style=\"color: #008000; text-decoration-color: #008000; font-weight: bold; text-decoration: underline\">\"TVYONTJMTVLWBP-UHFFFAOYSA-N\"</span> <span style=\"color: #800080; text-decoration-color: #800080; font-style: italic\">None</span>\n",
       "</pre>\n"
      ],
      "text/plain": [
       "\u001b[1;4mC45268 \u001b[0m\u001b[1;4;32m\"TVYONTJMTVLWBP-UHFFFAOYSA-N\"\u001b[0m \u001b[3;35mNone\u001b[0m\n"
      ]
     },
     "metadata": {},
     "output_type": "display_data"
    },
    {
     "data": {
      "text/html": [
       "<pre style=\"white-space:pre;overflow-x:auto;line-height:normal;font-family:Menlo,'DejaVu Sans Mono',consolas,'Courier New',monospace;margin:0px\"><span style=\"font-weight: bold; text-decoration: underline\">C45327 </span><span style=\"color: #008000; text-decoration-color: #008000; font-weight: bold; text-decoration: underline\">\"MERWPLCUOCXLGQ-UHFFFAOYSA-N\"</span> <span style=\"font-weight: bold; text-decoration: underline\">elaborations of C45327: {C × </span><span style=\"color: #008080; text-decoration-color: #008080; font-weight: bold; text-decoration: underline\">673</span><span style=\"font-weight: bold; text-decoration: underline\">}</span>\n",
       "</pre>\n"
      ],
      "text/plain": [
       "\u001b[1;4mC45327 \u001b[0m\u001b[1;4;32m\"MERWPLCUOCXLGQ-UHFFFAOYSA-N\"\u001b[0m \u001b[1;4melaborations of C45327: \u001b[0m\u001b[1;4m{\u001b[0m\u001b[1;4mC × \u001b[0m\u001b[1;4;36m673\u001b[0m\u001b[1;4m}\u001b[0m\n"
      ]
     },
     "metadata": {},
     "output_type": "display_data"
    },
    {
     "data": {
      "text/html": [
       "<pre style=\"white-space:pre;overflow-x:auto;line-height:normal;font-family:Menlo,'DejaVu Sans Mono',consolas,'Courier New',monospace;margin:0px\"><span style=\"font-weight: bold; text-decoration: underline\">C45330 </span><span style=\"color: #008000; text-decoration-color: #008000; font-weight: bold; text-decoration: underline\">\"YNGYAVXHTVNYBC-UHFFFAOYSA-N\"</span> <span style=\"font-weight: bold; text-decoration: underline\">elaborations of C45330: {C × </span><span style=\"color: #008080; text-decoration-color: #008080; font-weight: bold; text-decoration: underline\">436</span><span style=\"font-weight: bold; text-decoration: underline\">}</span>\n",
       "</pre>\n"
      ],
      "text/plain": [
       "\u001b[1;4mC45330 \u001b[0m\u001b[1;4;32m\"YNGYAVXHTVNYBC-UHFFFAOYSA-N\"\u001b[0m \u001b[1;4melaborations of C45330: \u001b[0m\u001b[1;4m{\u001b[0m\u001b[1;4mC × \u001b[0m\u001b[1;4;36m436\u001b[0m\u001b[1;4m}\u001b[0m\n"
      ]
     },
     "metadata": {},
     "output_type": "display_data"
    },
    {
     "data": {
      "text/html": [
       "<pre style=\"white-space:pre;overflow-x:auto;line-height:normal;font-family:Menlo,'DejaVu Sans Mono',consolas,'Courier New',monospace;margin:0px\"><span style=\"font-weight: bold; text-decoration: underline\">C46539 </span><span style=\"color: #008000; text-decoration-color: #008000; font-weight: bold; text-decoration: underline\">\"IANQXEAOAZTNLW-UHFFFAOYSA-N\"</span> <span style=\"font-weight: bold; text-decoration: underline\">elaborations of C46539: {C × </span><span style=\"color: #008080; text-decoration-color: #008080; font-weight: bold; text-decoration: underline\">2274</span><span style=\"font-weight: bold; text-decoration: underline\">}</span>\n",
       "</pre>\n"
      ],
      "text/plain": [
       "\u001b[1;4mC46539 \u001b[0m\u001b[1;4;32m\"IANQXEAOAZTNLW-UHFFFAOYSA-N\"\u001b[0m \u001b[1;4melaborations of C46539: \u001b[0m\u001b[1;4m{\u001b[0m\u001b[1;4mC × \u001b[0m\u001b[1;4;36m2274\u001b[0m\u001b[1;4m}\u001b[0m\n"
      ]
     },
     "metadata": {},
     "output_type": "display_data"
    },
    {
     "data": {
      "text/html": [
       "<pre style=\"white-space:pre;overflow-x:auto;line-height:normal;font-family:Menlo,'DejaVu Sans Mono',consolas,'Courier New',monospace;margin:0px\"><span style=\"font-weight: bold; text-decoration: underline\">C47311 </span><span style=\"color: #008000; text-decoration-color: #008000; font-weight: bold; text-decoration: underline\">\"HLLOFLRBSYUORH-UHFFFAOYSA-N\"</span> <span style=\"font-weight: bold; text-decoration: underline\">elaborations of C47311: {C × </span><span style=\"color: #008080; text-decoration-color: #008080; font-weight: bold; text-decoration: underline\">3165</span><span style=\"font-weight: bold; text-decoration: underline\">}</span>\n",
       "</pre>\n"
      ],
      "text/plain": [
       "\u001b[1;4mC47311 \u001b[0m\u001b[1;4;32m\"HLLOFLRBSYUORH-UHFFFAOYSA-N\"\u001b[0m \u001b[1;4melaborations of C47311: \u001b[0m\u001b[1;4m{\u001b[0m\u001b[1;4mC × \u001b[0m\u001b[1;4;36m3165\u001b[0m\u001b[1;4m}\u001b[0m\n"
      ]
     },
     "metadata": {},
     "output_type": "display_data"
    },
    {
     "data": {
      "text/html": [
       "<pre style=\"white-space:pre;overflow-x:auto;line-height:normal;font-family:Menlo,'DejaVu Sans Mono',consolas,'Courier New',monospace;margin:0px\"><span style=\"font-weight: bold; text-decoration: underline\">C47542 </span><span style=\"color: #008000; text-decoration-color: #008000; font-weight: bold; text-decoration: underline\">\"VAVBTJKEPGWLEX-UHFFFAOYSA-N\"</span> <span style=\"color: #800080; text-decoration-color: #800080; font-style: italic\">None</span>\n",
       "</pre>\n"
      ],
      "text/plain": [
       "\u001b[1;4mC47542 \u001b[0m\u001b[1;4;32m\"VAVBTJKEPGWLEX-UHFFFAOYSA-N\"\u001b[0m \u001b[3;35mNone\u001b[0m\n"
      ]
     },
     "metadata": {},
     "output_type": "display_data"
    },
    {
     "data": {
      "text/html": [
       "<pre style=\"white-space:pre;overflow-x:auto;line-height:normal;font-family:Menlo,'DejaVu Sans Mono',consolas,'Courier New',monospace;margin:0px\"><span style=\"font-weight: bold; text-decoration: underline\">C48477 </span><span style=\"color: #008000; text-decoration-color: #008000; font-weight: bold; text-decoration: underline\">\"MKYSFVXFAWJDCJ-UHFFFAOYSA-N\"</span> <span style=\"font-weight: bold; text-decoration: underline\">elaborations of C48477: {C × </span><span style=\"color: #008080; text-decoration-color: #008080; font-weight: bold; text-decoration: underline\">5777</span><span style=\"font-weight: bold; text-decoration: underline\">}</span>\n",
       "</pre>\n"
      ],
      "text/plain": [
       "\u001b[1;4mC48477 \u001b[0m\u001b[1;4;32m\"MKYSFVXFAWJDCJ-UHFFFAOYSA-N\"\u001b[0m \u001b[1;4melaborations of C48477: \u001b[0m\u001b[1;4m{\u001b[0m\u001b[1;4mC × \u001b[0m\u001b[1;4;36m5777\u001b[0m\u001b[1;4m}\u001b[0m\n"
      ]
     },
     "metadata": {},
     "output_type": "display_data"
    },
    {
     "data": {
      "text/html": [
       "<pre style=\"white-space:pre;overflow-x:auto;line-height:normal;font-family:Menlo,'DejaVu Sans Mono',consolas,'Courier New',monospace;margin:0px\"><span style=\"font-weight: bold; text-decoration: underline\">C48706 </span><span style=\"color: #008000; text-decoration-color: #008000; font-weight: bold; text-decoration: underline\">\"YLNUDNTUPQXQBM-UHFFFAOYSA-N\"</span> <span style=\"color: #800080; text-decoration-color: #800080; font-style: italic\">None</span>\n",
       "</pre>\n"
      ],
      "text/plain": [
       "\u001b[1;4mC48706 \u001b[0m\u001b[1;4;32m\"YLNUDNTUPQXQBM-UHFFFAOYSA-N\"\u001b[0m \u001b[3;35mNone\u001b[0m\n"
      ]
     },
     "metadata": {},
     "output_type": "display_data"
    },
    {
     "data": {
      "text/html": [
       "<pre style=\"white-space:pre;overflow-x:auto;line-height:normal;font-family:Menlo,'DejaVu Sans Mono',consolas,'Courier New',monospace;margin:0px\"><span style=\"font-weight: bold; text-decoration: underline\">C49374 </span><span style=\"color: #008000; text-decoration-color: #008000; font-weight: bold; text-decoration: underline\">\"WXCSLBRGRKDJSX-UHFFFAOYSA-N\"</span> <span style=\"font-weight: bold; text-decoration: underline\">elaborations of C49374: {C × </span><span style=\"color: #008080; text-decoration-color: #008080; font-weight: bold; text-decoration: underline\">3965</span><span style=\"font-weight: bold; text-decoration: underline\">}</span>\n",
       "</pre>\n"
      ],
      "text/plain": [
       "\u001b[1;4mC49374 \u001b[0m\u001b[1;4;32m\"WXCSLBRGRKDJSX-UHFFFAOYSA-N\"\u001b[0m \u001b[1;4melaborations of C49374: \u001b[0m\u001b[1;4m{\u001b[0m\u001b[1;4mC × \u001b[0m\u001b[1;4;36m3965\u001b[0m\u001b[1;4m}\u001b[0m\n"
      ]
     },
     "metadata": {},
     "output_type": "display_data"
    },
    {
     "data": {
      "text/html": [
       "<pre style=\"white-space:pre;overflow-x:auto;line-height:normal;font-family:Menlo,'DejaVu Sans Mono',consolas,'Courier New',monospace;margin:0px\"><span style=\"font-weight: bold; text-decoration: underline\">C49455 </span><span style=\"color: #008000; text-decoration-color: #008000; font-weight: bold; text-decoration: underline\">\"BXXSTDNXQYXVHZ-UHFFFAOYSA-N\"</span> <span style=\"font-weight: bold; text-decoration: underline\">elaborations of C49455: {C × </span><span style=\"color: #008080; text-decoration-color: #008080; font-weight: bold; text-decoration: underline\">120</span><span style=\"font-weight: bold; text-decoration: underline\">}</span>\n",
       "</pre>\n"
      ],
      "text/plain": [
       "\u001b[1;4mC49455 \u001b[0m\u001b[1;4;32m\"BXXSTDNXQYXVHZ-UHFFFAOYSA-N\"\u001b[0m \u001b[1;4melaborations of C49455: \u001b[0m\u001b[1;4m{\u001b[0m\u001b[1;4mC × \u001b[0m\u001b[1;4;36m120\u001b[0m\u001b[1;4m}\u001b[0m\n"
      ]
     },
     "metadata": {},
     "output_type": "display_data"
    },
    {
     "data": {
      "text/html": [
       "<pre style=\"white-space:pre;overflow-x:auto;line-height:normal;font-family:Menlo,'DejaVu Sans Mono',consolas,'Courier New',monospace;margin:0px\"><span style=\"font-weight: bold; text-decoration: underline\">C49503 </span><span style=\"color: #008000; text-decoration-color: #008000; font-weight: bold; text-decoration: underline\">\"QYRRPPSGQNMPRP-UHFFFAOYSA-N\"</span> <span style=\"font-weight: bold; text-decoration: underline\">elaborations of C49503: {C × </span><span style=\"color: #008080; text-decoration-color: #008080; font-weight: bold; text-decoration: underline\">544</span><span style=\"font-weight: bold; text-decoration: underline\">}</span>\n",
       "</pre>\n"
      ],
      "text/plain": [
       "\u001b[1;4mC49503 \u001b[0m\u001b[1;4;32m\"QYRRPPSGQNMPRP-UHFFFAOYSA-N\"\u001b[0m \u001b[1;4melaborations of C49503: \u001b[0m\u001b[1;4m{\u001b[0m\u001b[1;4mC × \u001b[0m\u001b[1;4;36m544\u001b[0m\u001b[1;4m}\u001b[0m\n"
      ]
     },
     "metadata": {},
     "output_type": "display_data"
    },
    {
     "data": {
      "text/html": [
       "<pre style=\"white-space:pre;overflow-x:auto;line-height:normal;font-family:Menlo,'DejaVu Sans Mono',consolas,'Courier New',monospace;margin:0px\"><span style=\"font-weight: bold; text-decoration: underline\">C49559 </span><span style=\"color: #008000; text-decoration-color: #008000; font-weight: bold; text-decoration: underline\">\"VVUKYTGIGYABGZ-UHFFFAOYSA-N\"</span> <span style=\"color: #800080; text-decoration-color: #800080; font-style: italic\">None</span>\n",
       "</pre>\n"
      ],
      "text/plain": [
       "\u001b[1;4mC49559 \u001b[0m\u001b[1;4;32m\"VVUKYTGIGYABGZ-UHFFFAOYSA-N\"\u001b[0m \u001b[3;35mNone\u001b[0m\n"
      ]
     },
     "metadata": {},
     "output_type": "display_data"
    },
    {
     "data": {
      "text/html": [
       "<pre style=\"white-space:pre;overflow-x:auto;line-height:normal;font-family:Menlo,'DejaVu Sans Mono',consolas,'Courier New',monospace;margin:0px\"><span style=\"font-weight: bold; text-decoration: underline\">C49677 </span><span style=\"color: #008000; text-decoration-color: #008000; font-weight: bold; text-decoration: underline\">\"KIWLUFFHGMQEGP-UHFFFAOYSA-N\"</span> <span style=\"color: #800080; text-decoration-color: #800080; font-style: italic\">None</span>\n",
       "</pre>\n"
      ],
      "text/plain": [
       "\u001b[1;4mC49677 \u001b[0m\u001b[1;4;32m\"KIWLUFFHGMQEGP-UHFFFAOYSA-N\"\u001b[0m \u001b[3;35mNone\u001b[0m\n"
      ]
     },
     "metadata": {},
     "output_type": "display_data"
    },
    {
     "data": {
      "text/html": [
       "<pre style=\"white-space:pre;overflow-x:auto;line-height:normal;font-family:Menlo,'DejaVu Sans Mono',consolas,'Courier New',monospace;margin:0px\"><span style=\"font-weight: bold; text-decoration: underline\">C49938 </span><span style=\"color: #008000; text-decoration-color: #008000; font-weight: bold; text-decoration: underline\">\"UFFLSBNXFSNCOZ-UHFFFAOYSA-N\"</span> <span style=\"color: #800080; text-decoration-color: #800080; font-style: italic\">None</span>\n",
       "</pre>\n"
      ],
      "text/plain": [
       "\u001b[1;4mC49938 \u001b[0m\u001b[1;4;32m\"UFFLSBNXFSNCOZ-UHFFFAOYSA-N\"\u001b[0m \u001b[3;35mNone\u001b[0m\n"
      ]
     },
     "metadata": {},
     "output_type": "display_data"
    },
    {
     "data": {
      "text/html": [
       "<pre style=\"white-space:pre;overflow-x:auto;line-height:normal;font-family:Menlo,'DejaVu Sans Mono',consolas,'Courier New',monospace;margin:0px\"><span style=\"font-weight: bold; text-decoration: underline\">C50922 </span><span style=\"color: #008000; text-decoration-color: #008000; font-weight: bold; text-decoration: underline\">\"HMCRTDAZYKANIV-UHFFFAOYSA-N\"</span> <span style=\"font-weight: bold; text-decoration: underline\">elaborations of C50922: {C × </span><span style=\"color: #008080; text-decoration-color: #008080; font-weight: bold; text-decoration: underline\">4084</span><span style=\"font-weight: bold; text-decoration: underline\">}</span>\n",
       "</pre>\n"
      ],
      "text/plain": [
       "\u001b[1;4mC50922 \u001b[0m\u001b[1;4;32m\"HMCRTDAZYKANIV-UHFFFAOYSA-N\"\u001b[0m \u001b[1;4melaborations of C50922: \u001b[0m\u001b[1;4m{\u001b[0m\u001b[1;4mC × \u001b[0m\u001b[1;4;36m4084\u001b[0m\u001b[1;4m}\u001b[0m\n"
      ]
     },
     "metadata": {},
     "output_type": "display_data"
    },
    {
     "data": {
      "text/html": [
       "<pre style=\"white-space:pre;overflow-x:auto;line-height:normal;font-family:Menlo,'DejaVu Sans Mono',consolas,'Courier New',monospace;margin:0px\"><span style=\"font-weight: bold; text-decoration: underline\">C52471 </span><span style=\"color: #008000; text-decoration-color: #008000; font-weight: bold; text-decoration: underline\">\"XWUQVDZICNOZJP-UHFFFAOYSA-N\"</span> <span style=\"font-weight: bold; text-decoration: underline\">elaborations of C52471: {C × </span><span style=\"color: #008080; text-decoration-color: #008080; font-weight: bold; text-decoration: underline\">1596</span><span style=\"font-weight: bold; text-decoration: underline\">}</span>\n",
       "</pre>\n"
      ],
      "text/plain": [
       "\u001b[1;4mC52471 \u001b[0m\u001b[1;4;32m\"XWUQVDZICNOZJP-UHFFFAOYSA-N\"\u001b[0m \u001b[1;4melaborations of C52471: \u001b[0m\u001b[1;4m{\u001b[0m\u001b[1;4mC × \u001b[0m\u001b[1;4;36m1596\u001b[0m\u001b[1;4m}\u001b[0m\n"
      ]
     },
     "metadata": {},
     "output_type": "display_data"
    },
    {
     "data": {
      "text/html": [
       "<pre style=\"white-space:pre;overflow-x:auto;line-height:normal;font-family:Menlo,'DejaVu Sans Mono',consolas,'Courier New',monospace;margin:0px\"><span style=\"font-weight: bold; text-decoration: underline\">C53809 </span><span style=\"color: #008000; text-decoration-color: #008000; font-weight: bold; text-decoration: underline\">\"UKWFLRZSMSDWTC-UHFFFAOYSA-N\"</span> <span style=\"font-weight: bold; text-decoration: underline\">elaborations of C53809: {C × </span><span style=\"color: #008080; text-decoration-color: #008080; font-weight: bold; text-decoration: underline\">360</span><span style=\"font-weight: bold; text-decoration: underline\">}</span>\n",
       "</pre>\n"
      ],
      "text/plain": [
       "\u001b[1;4mC53809 \u001b[0m\u001b[1;4;32m\"UKWFLRZSMSDWTC-UHFFFAOYSA-N\"\u001b[0m \u001b[1;4melaborations of C53809: \u001b[0m\u001b[1;4m{\u001b[0m\u001b[1;4mC × \u001b[0m\u001b[1;4;36m360\u001b[0m\u001b[1;4m}\u001b[0m\n"
      ]
     },
     "metadata": {},
     "output_type": "display_data"
    },
    {
     "data": {
      "text/html": [
       "<pre style=\"white-space:pre;overflow-x:auto;line-height:normal;font-family:Menlo,'DejaVu Sans Mono',consolas,'Courier New',monospace;margin:0px\"><span style=\"font-weight: bold; text-decoration: underline\">C54123 </span><span style=\"color: #008000; text-decoration-color: #008000; font-weight: bold; text-decoration: underline\">\"DBRZTKKVIQOBQT-UHFFFAOYSA-N\"</span> <span style=\"color: #800080; text-decoration-color: #800080; font-style: italic\">None</span>\n",
       "</pre>\n"
      ],
      "text/plain": [
       "\u001b[1;4mC54123 \u001b[0m\u001b[1;4;32m\"DBRZTKKVIQOBQT-UHFFFAOYSA-N\"\u001b[0m \u001b[3;35mNone\u001b[0m\n"
      ]
     },
     "metadata": {},
     "output_type": "display_data"
    },
    {
     "data": {
      "text/html": [
       "<pre style=\"white-space:pre;overflow-x:auto;line-height:normal;font-family:Menlo,'DejaVu Sans Mono',consolas,'Courier New',monospace;margin:0px\"><span style=\"font-weight: bold; text-decoration: underline\">C54733 </span><span style=\"color: #008000; text-decoration-color: #008000; font-weight: bold; text-decoration: underline\">\"OHJDLUXFTXKBRG-UHFFFAOYSA-N\"</span> <span style=\"font-weight: bold; text-decoration: underline\">elaborations of C54733: {C × </span><span style=\"color: #008080; text-decoration-color: #008080; font-weight: bold; text-decoration: underline\">2696</span><span style=\"font-weight: bold; text-decoration: underline\">}</span>\n",
       "</pre>\n"
      ],
      "text/plain": [
       "\u001b[1;4mC54733 \u001b[0m\u001b[1;4;32m\"OHJDLUXFTXKBRG-UHFFFAOYSA-N\"\u001b[0m \u001b[1;4melaborations of C54733: \u001b[0m\u001b[1;4m{\u001b[0m\u001b[1;4mC × \u001b[0m\u001b[1;4;36m2696\u001b[0m\u001b[1;4m}\u001b[0m\n"
      ]
     },
     "metadata": {},
     "output_type": "display_data"
    },
    {
     "data": {
      "text/html": [
       "<pre style=\"white-space:pre;overflow-x:auto;line-height:normal;font-family:Menlo,'DejaVu Sans Mono',consolas,'Courier New',monospace;margin:0px\"><span style=\"font-weight: bold; text-decoration: underline\">C54862 </span><span style=\"color: #008000; text-decoration-color: #008000; font-weight: bold; text-decoration: underline\">\"NQDDIJLQMDSXML-UHFFFAOYSA-N\"</span> <span style=\"font-weight: bold; text-decoration: underline\">elaborations of C54862: {C × </span><span style=\"color: #008080; text-decoration-color: #008080; font-weight: bold; text-decoration: underline\">1222</span><span style=\"font-weight: bold; text-decoration: underline\">}</span>\n",
       "</pre>\n"
      ],
      "text/plain": [
       "\u001b[1;4mC54862 \u001b[0m\u001b[1;4;32m\"NQDDIJLQMDSXML-UHFFFAOYSA-N\"\u001b[0m \u001b[1;4melaborations of C54862: \u001b[0m\u001b[1;4m{\u001b[0m\u001b[1;4mC × \u001b[0m\u001b[1;4;36m1222\u001b[0m\u001b[1;4m}\u001b[0m\n"
      ]
     },
     "metadata": {},
     "output_type": "display_data"
    },
    {
     "data": {
      "text/html": [
       "<pre style=\"white-space:pre;overflow-x:auto;line-height:normal;font-family:Menlo,'DejaVu Sans Mono',consolas,'Courier New',monospace;margin:0px\"><span style=\"font-weight: bold; text-decoration: underline\">C54938 </span><span style=\"color: #008000; text-decoration-color: #008000; font-weight: bold; text-decoration: underline\">\"FRNXPLHZHRXKEC-UHFFFAOYSA-N\"</span> <span style=\"font-weight: bold; text-decoration: underline\">elaborations of C54938: {C × </span><span style=\"color: #008080; text-decoration-color: #008080; font-weight: bold; text-decoration: underline\">1448</span><span style=\"font-weight: bold; text-decoration: underline\">}</span>\n",
       "</pre>\n"
      ],
      "text/plain": [
       "\u001b[1;4mC54938 \u001b[0m\u001b[1;4;32m\"FRNXPLHZHRXKEC-UHFFFAOYSA-N\"\u001b[0m \u001b[1;4melaborations of C54938: \u001b[0m\u001b[1;4m{\u001b[0m\u001b[1;4mC × \u001b[0m\u001b[1;4;36m1448\u001b[0m\u001b[1;4m}\u001b[0m\n"
      ]
     },
     "metadata": {},
     "output_type": "display_data"
    },
    {
     "data": {
      "text/html": [
       "<pre style=\"white-space:pre;overflow-x:auto;line-height:normal;font-family:Menlo,'DejaVu Sans Mono',consolas,'Courier New',monospace;margin:0px\"><span style=\"font-weight: bold; text-decoration: underline\">C54945 </span><span style=\"color: #008000; text-decoration-color: #008000; font-weight: bold; text-decoration: underline\">\"GZPXXQDQKSPFSB-UHFFFAOYSA-N\"</span> <span style=\"font-weight: bold; text-decoration: underline\">elaborations of C54945: {C × </span><span style=\"color: #008080; text-decoration-color: #008080; font-weight: bold; text-decoration: underline\">52</span><span style=\"font-weight: bold; text-decoration: underline\">}</span>\n",
       "</pre>\n"
      ],
      "text/plain": [
       "\u001b[1;4mC54945 \u001b[0m\u001b[1;4;32m\"GZPXXQDQKSPFSB-UHFFFAOYSA-N\"\u001b[0m \u001b[1;4melaborations of C54945: \u001b[0m\u001b[1;4m{\u001b[0m\u001b[1;4mC × \u001b[0m\u001b[1;4;36m52\u001b[0m\u001b[1;4m}\u001b[0m\n"
      ]
     },
     "metadata": {},
     "output_type": "display_data"
    },
    {
     "data": {
      "text/html": [
       "<pre style=\"white-space:pre;overflow-x:auto;line-height:normal;font-family:Menlo,'DejaVu Sans Mono',consolas,'Courier New',monospace;margin:0px\"><span style=\"font-weight: bold; text-decoration: underline\">C55149 </span><span style=\"color: #008000; text-decoration-color: #008000; font-weight: bold; text-decoration: underline\">\"UIINRFUWBVLBNK-UHFFFAOYSA-N\"</span> <span style=\"font-weight: bold; text-decoration: underline\">elaborations of C55149: {C × </span><span style=\"color: #008080; text-decoration-color: #008080; font-weight: bold; text-decoration: underline\">4084</span><span style=\"font-weight: bold; text-decoration: underline\">}</span>\n",
       "</pre>\n"
      ],
      "text/plain": [
       "\u001b[1;4mC55149 \u001b[0m\u001b[1;4;32m\"UIINRFUWBVLBNK-UHFFFAOYSA-N\"\u001b[0m \u001b[1;4melaborations of C55149: \u001b[0m\u001b[1;4m{\u001b[0m\u001b[1;4mC × \u001b[0m\u001b[1;4;36m4084\u001b[0m\u001b[1;4m}\u001b[0m\n"
      ]
     },
     "metadata": {},
     "output_type": "display_data"
    },
    {
     "data": {
      "text/html": [
       "<pre style=\"white-space:pre;overflow-x:auto;line-height:normal;font-family:Menlo,'DejaVu Sans Mono',consolas,'Courier New',monospace;margin:0px\"><span style=\"font-weight: bold; text-decoration: underline\">C55155 </span><span style=\"color: #008000; text-decoration-color: #008000; font-weight: bold; text-decoration: underline\">\"VEAPMNAYWNOMRJ-UHFFFAOYSA-N\"</span> <span style=\"font-weight: bold; text-decoration: underline\">elaborations of C55155: {C × </span><span style=\"color: #008080; text-decoration-color: #008080; font-weight: bold; text-decoration: underline\">2491</span><span style=\"font-weight: bold; text-decoration: underline\">}</span>\n",
       "</pre>\n"
      ],
      "text/plain": [
       "\u001b[1;4mC55155 \u001b[0m\u001b[1;4;32m\"VEAPMNAYWNOMRJ-UHFFFAOYSA-N\"\u001b[0m \u001b[1;4melaborations of C55155: \u001b[0m\u001b[1;4m{\u001b[0m\u001b[1;4mC × \u001b[0m\u001b[1;4;36m2491\u001b[0m\u001b[1;4m}\u001b[0m\n"
      ]
     },
     "metadata": {},
     "output_type": "display_data"
    },
    {
     "data": {
      "text/html": [
       "<pre style=\"white-space:pre;overflow-x:auto;line-height:normal;font-family:Menlo,'DejaVu Sans Mono',consolas,'Courier New',monospace;margin:0px\"><span style=\"font-weight: bold; text-decoration: underline\">C55156 </span><span style=\"color: #008000; text-decoration-color: #008000; font-weight: bold; text-decoration: underline\">\"WXJNUXZTXDROIJ-UHFFFAOYSA-N\"</span> <span style=\"font-weight: bold; text-decoration: underline\">elaborations of C55156: {C × </span><span style=\"color: #008080; text-decoration-color: #008080; font-weight: bold; text-decoration: underline\">1237</span><span style=\"font-weight: bold; text-decoration: underline\">}</span>\n",
       "</pre>\n"
      ],
      "text/plain": [
       "\u001b[1;4mC55156 \u001b[0m\u001b[1;4;32m\"WXJNUXZTXDROIJ-UHFFFAOYSA-N\"\u001b[0m \u001b[1;4melaborations of C55156: \u001b[0m\u001b[1;4m{\u001b[0m\u001b[1;4mC × \u001b[0m\u001b[1;4;36m1237\u001b[0m\u001b[1;4m}\u001b[0m\n"
      ]
     },
     "metadata": {},
     "output_type": "display_data"
    },
    {
     "data": {
      "text/html": [
       "<pre style=\"white-space:pre;overflow-x:auto;line-height:normal;font-family:Menlo,'DejaVu Sans Mono',consolas,'Courier New',monospace;margin:0px\"><span style=\"font-weight: bold; text-decoration: underline\">C55174 </span><span style=\"color: #008000; text-decoration-color: #008000; font-weight: bold; text-decoration: underline\">\"VRFUMBMWIYOQKS-UHFFFAOYSA-N\"</span> <span style=\"font-weight: bold; text-decoration: underline\">elaborations of C55174: {C × </span><span style=\"color: #008080; text-decoration-color: #008080; font-weight: bold; text-decoration: underline\">840</span><span style=\"font-weight: bold; text-decoration: underline\">}</span>\n",
       "</pre>\n"
      ],
      "text/plain": [
       "\u001b[1;4mC55174 \u001b[0m\u001b[1;4;32m\"VRFUMBMWIYOQKS-UHFFFAOYSA-N\"\u001b[0m \u001b[1;4melaborations of C55174: \u001b[0m\u001b[1;4m{\u001b[0m\u001b[1;4mC × \u001b[0m\u001b[1;4;36m840\u001b[0m\u001b[1;4m}\u001b[0m\n"
      ]
     },
     "metadata": {},
     "output_type": "display_data"
    },
    {
     "data": {
      "text/html": [
       "<pre style=\"white-space:pre;overflow-x:auto;line-height:normal;font-family:Menlo,'DejaVu Sans Mono',consolas,'Courier New',monospace;margin:0px\"><span style=\"font-weight: bold; text-decoration: underline\">C55262 </span><span style=\"color: #008000; text-decoration-color: #008000; font-weight: bold; text-decoration: underline\">\"WVGFLLFSIMGYJN-UHFFFAOYSA-N\"</span> <span style=\"font-weight: bold; text-decoration: underline\">elaborations of C55262: {C × </span><span style=\"color: #008080; text-decoration-color: #008080; font-weight: bold; text-decoration: underline\">715</span><span style=\"font-weight: bold; text-decoration: underline\">}</span>\n",
       "</pre>\n"
      ],
      "text/plain": [
       "\u001b[1;4mC55262 \u001b[0m\u001b[1;4;32m\"WVGFLLFSIMGYJN-UHFFFAOYSA-N\"\u001b[0m \u001b[1;4melaborations of C55262: \u001b[0m\u001b[1;4m{\u001b[0m\u001b[1;4mC × \u001b[0m\u001b[1;4;36m715\u001b[0m\u001b[1;4m}\u001b[0m\n"
      ]
     },
     "metadata": {},
     "output_type": "display_data"
    },
    {
     "data": {
      "text/html": [
       "<pre style=\"white-space:pre;overflow-x:auto;line-height:normal;font-family:Menlo,'DejaVu Sans Mono',consolas,'Courier New',monospace;margin:0px\"><span style=\"font-weight: bold; text-decoration: underline\">C55535 </span><span style=\"color: #008000; text-decoration-color: #008000; font-weight: bold; text-decoration: underline\">\"ZAXPKNMZZARUDB-UHFFFAOYSA-N\"</span> <span style=\"font-weight: bold; text-decoration: underline\">elaborations of C55535: {C × </span><span style=\"color: #008080; text-decoration-color: #008080; font-weight: bold; text-decoration: underline\">6261</span><span style=\"font-weight: bold; text-decoration: underline\">}</span>\n",
       "</pre>\n"
      ],
      "text/plain": [
       "\u001b[1;4mC55535 \u001b[0m\u001b[1;4;32m\"ZAXPKNMZZARUDB-UHFFFAOYSA-N\"\u001b[0m \u001b[1;4melaborations of C55535: \u001b[0m\u001b[1;4m{\u001b[0m\u001b[1;4mC × \u001b[0m\u001b[1;4;36m6261\u001b[0m\u001b[1;4m}\u001b[0m\n"
      ]
     },
     "metadata": {},
     "output_type": "display_data"
    },
    {
     "data": {
      "text/html": [
       "<pre style=\"white-space:pre;overflow-x:auto;line-height:normal;font-family:Menlo,'DejaVu Sans Mono',consolas,'Courier New',monospace;margin:0px\"><span style=\"font-weight: bold; text-decoration: underline\">C55598 </span><span style=\"color: #008000; text-decoration-color: #008000; font-weight: bold; text-decoration: underline\">\"QLFFONPVDDKJCE-UHFFFAOYSA-N\"</span> <span style=\"font-weight: bold; text-decoration: underline\">elaborations of C55598: {C × </span><span style=\"color: #008080; text-decoration-color: #008080; font-weight: bold; text-decoration: underline\">4177</span><span style=\"font-weight: bold; text-decoration: underline\">}</span>\n",
       "</pre>\n"
      ],
      "text/plain": [
       "\u001b[1;4mC55598 \u001b[0m\u001b[1;4;32m\"QLFFONPVDDKJCE-UHFFFAOYSA-N\"\u001b[0m \u001b[1;4melaborations of C55598: \u001b[0m\u001b[1;4m{\u001b[0m\u001b[1;4mC × \u001b[0m\u001b[1;4;36m4177\u001b[0m\u001b[1;4m}\u001b[0m\n"
      ]
     },
     "metadata": {},
     "output_type": "display_data"
    },
    {
     "data": {
      "text/html": [
       "<pre style=\"white-space:pre;overflow-x:auto;line-height:normal;font-family:Menlo,'DejaVu Sans Mono',consolas,'Courier New',monospace;margin:0px\"><span style=\"font-weight: bold; text-decoration: underline\">C55856 </span><span style=\"color: #008000; text-decoration-color: #008000; font-weight: bold; text-decoration: underline\">\"LYBJDPXLKAGWQA-UHFFFAOYSA-N\"</span> <span style=\"font-weight: bold; text-decoration: underline\">elaborations of C55856: {C × </span><span style=\"color: #008080; text-decoration-color: #008080; font-weight: bold; text-decoration: underline\">903</span><span style=\"font-weight: bold; text-decoration: underline\">}</span>\n",
       "</pre>\n"
      ],
      "text/plain": [
       "\u001b[1;4mC55856 \u001b[0m\u001b[1;4;32m\"LYBJDPXLKAGWQA-UHFFFAOYSA-N\"\u001b[0m \u001b[1;4melaborations of C55856: \u001b[0m\u001b[1;4m{\u001b[0m\u001b[1;4mC × \u001b[0m\u001b[1;4;36m903\u001b[0m\u001b[1;4m}\u001b[0m\n"
      ]
     },
     "metadata": {},
     "output_type": "display_data"
    },
    {
     "data": {
      "text/html": [
       "<pre style=\"white-space:pre;overflow-x:auto;line-height:normal;font-family:Menlo,'DejaVu Sans Mono',consolas,'Courier New',monospace;margin:0px\"><span style=\"font-weight: bold; text-decoration: underline\">C55996 </span><span style=\"color: #008000; text-decoration-color: #008000; font-weight: bold; text-decoration: underline\">\"FGZCUNYQGFTGLS-UHFFFAOYSA-N\"</span> <span style=\"font-weight: bold; text-decoration: underline\">elaborations of C55996: {C × </span><span style=\"color: #008080; text-decoration-color: #008080; font-weight: bold; text-decoration: underline\">1548</span><span style=\"font-weight: bold; text-decoration: underline\">}</span>\n",
       "</pre>\n"
      ],
      "text/plain": [
       "\u001b[1;4mC55996 \u001b[0m\u001b[1;4;32m\"FGZCUNYQGFTGLS-UHFFFAOYSA-N\"\u001b[0m \u001b[1;4melaborations of C55996: \u001b[0m\u001b[1;4m{\u001b[0m\u001b[1;4mC × \u001b[0m\u001b[1;4;36m1548\u001b[0m\u001b[1;4m}\u001b[0m\n"
      ]
     },
     "metadata": {},
     "output_type": "display_data"
    },
    {
     "data": {
      "text/html": [
       "<pre style=\"white-space:pre;overflow-x:auto;line-height:normal;font-family:Menlo,'DejaVu Sans Mono',consolas,'Courier New',monospace;margin:0px\"><span style=\"font-weight: bold; text-decoration: underline\">C56537 </span><span style=\"color: #008000; text-decoration-color: #008000; font-weight: bold; text-decoration: underline\">\"ZFGFQBONQPPJMM-UHFFFAOYSA-N\"</span> <span style=\"font-weight: bold; text-decoration: underline\">elaborations of C56537: {C × </span><span style=\"color: #008080; text-decoration-color: #008080; font-weight: bold; text-decoration: underline\">634</span><span style=\"font-weight: bold; text-decoration: underline\">}</span>\n",
       "</pre>\n"
      ],
      "text/plain": [
       "\u001b[1;4mC56537 \u001b[0m\u001b[1;4;32m\"ZFGFQBONQPPJMM-UHFFFAOYSA-N\"\u001b[0m \u001b[1;4melaborations of C56537: \u001b[0m\u001b[1;4m{\u001b[0m\u001b[1;4mC × \u001b[0m\u001b[1;4;36m634\u001b[0m\u001b[1;4m}\u001b[0m\n"
      ]
     },
     "metadata": {},
     "output_type": "display_data"
    },
    {
     "data": {
      "text/html": [
       "<pre style=\"white-space:pre;overflow-x:auto;line-height:normal;font-family:Menlo,'DejaVu Sans Mono',consolas,'Courier New',monospace;margin:0px\"><span style=\"font-weight: bold; text-decoration: underline\">C56548 </span><span style=\"color: #008000; text-decoration-color: #008000; font-weight: bold; text-decoration: underline\">\"GLKYHQBKOTZYGD-UHFFFAOYSA-N\"</span> <span style=\"font-weight: bold; text-decoration: underline\">elaborations of C56548: {C × </span><span style=\"color: #008080; text-decoration-color: #008080; font-weight: bold; text-decoration: underline\">2581</span><span style=\"font-weight: bold; text-decoration: underline\">}</span>\n",
       "</pre>\n"
      ],
      "text/plain": [
       "\u001b[1;4mC56548 \u001b[0m\u001b[1;4;32m\"GLKYHQBKOTZYGD-UHFFFAOYSA-N\"\u001b[0m \u001b[1;4melaborations of C56548: \u001b[0m\u001b[1;4m{\u001b[0m\u001b[1;4mC × \u001b[0m\u001b[1;4;36m2581\u001b[0m\u001b[1;4m}\u001b[0m\n"
      ]
     },
     "metadata": {},
     "output_type": "display_data"
    },
    {
     "data": {
      "text/html": [
       "<pre style=\"white-space:pre;overflow-x:auto;line-height:normal;font-family:Menlo,'DejaVu Sans Mono',consolas,'Courier New',monospace;margin:0px\"><span style=\"font-weight: bold; text-decoration: underline\">C56765 </span><span style=\"color: #008000; text-decoration-color: #008000; font-weight: bold; text-decoration: underline\">\"GTOPDHADXIWWQI-UHFFFAOYSA-N\"</span> <span style=\"font-weight: bold; text-decoration: underline\">elaborations of C56765: {C × </span><span style=\"color: #008080; text-decoration-color: #008080; font-weight: bold; text-decoration: underline\">716</span><span style=\"font-weight: bold; text-decoration: underline\">}</span>\n",
       "</pre>\n"
      ],
      "text/plain": [
       "\u001b[1;4mC56765 \u001b[0m\u001b[1;4;32m\"GTOPDHADXIWWQI-UHFFFAOYSA-N\"\u001b[0m \u001b[1;4melaborations of C56765: \u001b[0m\u001b[1;4m{\u001b[0m\u001b[1;4mC × \u001b[0m\u001b[1;4;36m716\u001b[0m\u001b[1;4m}\u001b[0m\n"
      ]
     },
     "metadata": {},
     "output_type": "display_data"
    },
    {
     "data": {
      "text/html": [
       "<pre style=\"white-space:pre;overflow-x:auto;line-height:normal;font-family:Menlo,'DejaVu Sans Mono',consolas,'Courier New',monospace;margin:0px\"><span style=\"font-weight: bold; text-decoration: underline\">C56786 </span><span style=\"color: #008000; text-decoration-color: #008000; font-weight: bold; text-decoration: underline\">\"LQQWCINYCCMFRV-UHFFFAOYSA-N\"</span> <span style=\"font-weight: bold; text-decoration: underline\">elaborations of C56786: {C × </span><span style=\"color: #008080; text-decoration-color: #008080; font-weight: bold; text-decoration: underline\">69</span><span style=\"font-weight: bold; text-decoration: underline\">}</span>\n",
       "</pre>\n"
      ],
      "text/plain": [
       "\u001b[1;4mC56786 \u001b[0m\u001b[1;4;32m\"LQQWCINYCCMFRV-UHFFFAOYSA-N\"\u001b[0m \u001b[1;4melaborations of C56786: \u001b[0m\u001b[1;4m{\u001b[0m\u001b[1;4mC × \u001b[0m\u001b[1;4;36m69\u001b[0m\u001b[1;4m}\u001b[0m\n"
      ]
     },
     "metadata": {},
     "output_type": "display_data"
    },
    {
     "data": {
      "text/html": [
       "<pre style=\"white-space:pre;overflow-x:auto;line-height:normal;font-family:Menlo,'DejaVu Sans Mono',consolas,'Courier New',monospace;margin:0px\"><span style=\"font-weight: bold; text-decoration: underline\">C60663 </span><span style=\"color: #008000; text-decoration-color: #008000; font-weight: bold; text-decoration: underline\">\"WNOQDDCSSLWEEK-UHFFFAOYSA-N\"</span> <span style=\"font-weight: bold; text-decoration: underline\">elaborations of C60663: {C × </span><span style=\"color: #008080; text-decoration-color: #008080; font-weight: bold; text-decoration: underline\">109</span><span style=\"font-weight: bold; text-decoration: underline\">}</span>\n",
       "</pre>\n"
      ],
      "text/plain": [
       "\u001b[1;4mC60663 \u001b[0m\u001b[1;4;32m\"WNOQDDCSSLWEEK-UHFFFAOYSA-N\"\u001b[0m \u001b[1;4melaborations of C60663: \u001b[0m\u001b[1;4m{\u001b[0m\u001b[1;4mC × \u001b[0m\u001b[1;4;36m109\u001b[0m\u001b[1;4m}\u001b[0m\n"
      ]
     },
     "metadata": {},
     "output_type": "display_data"
    },
    {
     "data": {
      "text/html": [
       "<pre style=\"white-space:pre;overflow-x:auto;line-height:normal;font-family:Menlo,'DejaVu Sans Mono',consolas,'Courier New',monospace;margin:0px\"><span style=\"font-weight: bold; text-decoration: underline\">C60687 </span><span style=\"color: #008000; text-decoration-color: #008000; font-weight: bold; text-decoration: underline\">\"AWQDWKYDKALBOD-UHFFFAOYSA-N\"</span> <span style=\"font-weight: bold; text-decoration: underline\">elaborations of C60687: {C × </span><span style=\"color: #008080; text-decoration-color: #008080; font-weight: bold; text-decoration: underline\">5020</span><span style=\"font-weight: bold; text-decoration: underline\">}</span>\n",
       "</pre>\n"
      ],
      "text/plain": [
       "\u001b[1;4mC60687 \u001b[0m\u001b[1;4;32m\"AWQDWKYDKALBOD-UHFFFAOYSA-N\"\u001b[0m \u001b[1;4melaborations of C60687: \u001b[0m\u001b[1;4m{\u001b[0m\u001b[1;4mC × \u001b[0m\u001b[1;4;36m5020\u001b[0m\u001b[1;4m}\u001b[0m\n"
      ]
     },
     "metadata": {},
     "output_type": "display_data"
    },
    {
     "data": {
      "text/html": [
       "<pre style=\"white-space:pre;overflow-x:auto;line-height:normal;font-family:Menlo,'DejaVu Sans Mono',consolas,'Courier New',monospace;margin:0px\"><span style=\"font-weight: bold; text-decoration: underline\">C61134 </span><span style=\"color: #008000; text-decoration-color: #008000; font-weight: bold; text-decoration: underline\">\"ZOPZYWPRKRGGTC-UHFFFAOYSA-N\"</span> <span style=\"color: #800080; text-decoration-color: #800080; font-style: italic\">None</span>\n",
       "</pre>\n"
      ],
      "text/plain": [
       "\u001b[1;4mC61134 \u001b[0m\u001b[1;4;32m\"ZOPZYWPRKRGGTC-UHFFFAOYSA-N\"\u001b[0m \u001b[3;35mNone\u001b[0m\n"
      ]
     },
     "metadata": {},
     "output_type": "display_data"
    },
    {
     "data": {
      "text/html": [
       "<pre style=\"white-space:pre;overflow-x:auto;line-height:normal;font-family:Menlo,'DejaVu Sans Mono',consolas,'Courier New',monospace;margin:0px\"><span style=\"font-weight: bold; text-decoration: underline\">C61200 </span><span style=\"color: #008000; text-decoration-color: #008000; font-weight: bold; text-decoration: underline\">\"YSLWXKCPGGRUHP-UHFFFAOYSA-N\"</span> <span style=\"color: #800080; text-decoration-color: #800080; font-style: italic\">None</span>\n",
       "</pre>\n"
      ],
      "text/plain": [
       "\u001b[1;4mC61200 \u001b[0m\u001b[1;4;32m\"YSLWXKCPGGRUHP-UHFFFAOYSA-N\"\u001b[0m \u001b[3;35mNone\u001b[0m\n"
      ]
     },
     "metadata": {},
     "output_type": "display_data"
    },
    {
     "data": {
      "text/html": [
       "<pre style=\"white-space:pre;overflow-x:auto;line-height:normal;font-family:Menlo,'DejaVu Sans Mono',consolas,'Courier New',monospace;margin:0px\"><span style=\"font-weight: bold; text-decoration: underline\">C61386 </span><span style=\"color: #008000; text-decoration-color: #008000; font-weight: bold; text-decoration: underline\">\"KSLLTEVDKMOHSW-UHFFFAOYSA-N\"</span> <span style=\"font-weight: bold; text-decoration: underline\">elaborations of C61386: {C × </span><span style=\"color: #008080; text-decoration-color: #008080; font-weight: bold; text-decoration: underline\">170</span><span style=\"font-weight: bold; text-decoration: underline\">}</span>\n",
       "</pre>\n"
      ],
      "text/plain": [
       "\u001b[1;4mC61386 \u001b[0m\u001b[1;4;32m\"KSLLTEVDKMOHSW-UHFFFAOYSA-N\"\u001b[0m \u001b[1;4melaborations of C61386: \u001b[0m\u001b[1;4m{\u001b[0m\u001b[1;4mC × \u001b[0m\u001b[1;4;36m170\u001b[0m\u001b[1;4m}\u001b[0m\n"
      ]
     },
     "metadata": {},
     "output_type": "display_data"
    },
    {
     "data": {
      "text/html": [
       "<pre style=\"white-space:pre;overflow-x:auto;line-height:normal;font-family:Menlo,'DejaVu Sans Mono',consolas,'Courier New',monospace;margin:0px\"><span style=\"font-weight: bold; text-decoration: underline\">C65168 </span><span style=\"color: #008000; text-decoration-color: #008000; font-weight: bold; text-decoration: underline\">\"CQQPOEPVLMKPHG-UHFFFAOYSA-N\"</span> <span style=\"color: #800080; text-decoration-color: #800080; font-style: italic\">None</span>\n",
       "</pre>\n"
      ],
      "text/plain": [
       "\u001b[1;4mC65168 \u001b[0m\u001b[1;4;32m\"CQQPOEPVLMKPHG-UHFFFAOYSA-N\"\u001b[0m \u001b[3;35mNone\u001b[0m\n"
      ]
     },
     "metadata": {},
     "output_type": "display_data"
    },
    {
     "data": {
      "text/html": [
       "<pre style=\"white-space:pre;overflow-x:auto;line-height:normal;font-family:Menlo,'DejaVu Sans Mono',consolas,'Courier New',monospace;margin:0px\"><span style=\"font-weight: bold; text-decoration: underline\">C65250 </span><span style=\"color: #008000; text-decoration-color: #008000; font-weight: bold; text-decoration: underline\">\"YJLPYZNIZMWRSU-UHFFFAOYSA-N\"</span> <span style=\"color: #800080; text-decoration-color: #800080; font-style: italic\">None</span>\n",
       "</pre>\n"
      ],
      "text/plain": [
       "\u001b[1;4mC65250 \u001b[0m\u001b[1;4;32m\"YJLPYZNIZMWRSU-UHFFFAOYSA-N\"\u001b[0m \u001b[3;35mNone\u001b[0m\n"
      ]
     },
     "metadata": {},
     "output_type": "display_data"
    },
    {
     "data": {
      "text/html": [
       "<pre style=\"white-space:pre;overflow-x:auto;line-height:normal;font-family:Menlo,'DejaVu Sans Mono',consolas,'Courier New',monospace;margin:0px\"><span style=\"font-weight: bold; text-decoration: underline\">C65264 </span><span style=\"color: #008000; text-decoration-color: #008000; font-weight: bold; text-decoration: underline\">\"KOQNTKIDGWWPRP-UHFFFAOYSA-N\"</span> <span style=\"color: #800080; text-decoration-color: #800080; font-style: italic\">None</span>\n",
       "</pre>\n"
      ],
      "text/plain": [
       "\u001b[1;4mC65264 \u001b[0m\u001b[1;4;32m\"KOQNTKIDGWWPRP-UHFFFAOYSA-N\"\u001b[0m \u001b[3;35mNone\u001b[0m\n"
      ]
     },
     "metadata": {},
     "output_type": "display_data"
    },
    {
     "data": {
      "text/html": [
       "<pre style=\"white-space:pre;overflow-x:auto;line-height:normal;font-family:Menlo,'DejaVu Sans Mono',consolas,'Courier New',monospace;margin:0px\"><span style=\"font-weight: bold; text-decoration: underline\">C65404 </span><span style=\"color: #008000; text-decoration-color: #008000; font-weight: bold; text-decoration: underline\">\"XZCHKOUIHXKRTC-UHFFFAOYSA-N\"</span> <span style=\"font-weight: bold; text-decoration: underline\">elaborations of C65404: {C × </span><span style=\"color: #008080; text-decoration-color: #008080; font-weight: bold; text-decoration: underline\">198</span><span style=\"font-weight: bold; text-decoration: underline\">}</span>\n",
       "</pre>\n"
      ],
      "text/plain": [
       "\u001b[1;4mC65404 \u001b[0m\u001b[1;4;32m\"XZCHKOUIHXKRTC-UHFFFAOYSA-N\"\u001b[0m \u001b[1;4melaborations of C65404: \u001b[0m\u001b[1;4m{\u001b[0m\u001b[1;4mC × \u001b[0m\u001b[1;4;36m198\u001b[0m\u001b[1;4m}\u001b[0m\n"
      ]
     },
     "metadata": {},
     "output_type": "display_data"
    },
    {
     "data": {
      "text/html": [
       "<pre style=\"white-space:pre;overflow-x:auto;line-height:normal;font-family:Menlo,'DejaVu Sans Mono',consolas,'Courier New',monospace;margin:0px\"><span style=\"font-weight: bold; text-decoration: underline\">C65434 </span><span style=\"color: #008000; text-decoration-color: #008000; font-weight: bold; text-decoration: underline\">\"GNOBTQCXYBMFAB-UHFFFAOYSA-N\"</span> <span style=\"font-weight: bold; text-decoration: underline\">elaborations of C65434: {C × </span><span style=\"color: #008080; text-decoration-color: #008080; font-weight: bold; text-decoration: underline\">446</span><span style=\"font-weight: bold; text-decoration: underline\">}</span>\n",
       "</pre>\n"
      ],
      "text/plain": [
       "\u001b[1;4mC65434 \u001b[0m\u001b[1;4;32m\"GNOBTQCXYBMFAB-UHFFFAOYSA-N\"\u001b[0m \u001b[1;4melaborations of C65434: \u001b[0m\u001b[1;4m{\u001b[0m\u001b[1;4mC × \u001b[0m\u001b[1;4;36m446\u001b[0m\u001b[1;4m}\u001b[0m\n"
      ]
     },
     "metadata": {},
     "output_type": "display_data"
    },
    {
     "data": {
      "text/html": [
       "<pre style=\"white-space:pre;overflow-x:auto;line-height:normal;font-family:Menlo,'DejaVu Sans Mono',consolas,'Courier New',monospace;margin:0px\"><span style=\"font-weight: bold; text-decoration: underline\">C65515 </span><span style=\"color: #008000; text-decoration-color: #008000; font-weight: bold; text-decoration: underline\">\"JQYMVSWSAPDAIV-UHFFFAOYSA-N\"</span> <span style=\"font-weight: bold; text-decoration: underline\">elaborations of C65515: {C × </span><span style=\"color: #008080; text-decoration-color: #008080; font-weight: bold; text-decoration: underline\">734</span><span style=\"font-weight: bold; text-decoration: underline\">}</span>\n",
       "</pre>\n"
      ],
      "text/plain": [
       "\u001b[1;4mC65515 \u001b[0m\u001b[1;4;32m\"JQYMVSWSAPDAIV-UHFFFAOYSA-N\"\u001b[0m \u001b[1;4melaborations of C65515: \u001b[0m\u001b[1;4m{\u001b[0m\u001b[1;4mC × \u001b[0m\u001b[1;4;36m734\u001b[0m\u001b[1;4m}\u001b[0m\n"
      ]
     },
     "metadata": {},
     "output_type": "display_data"
    },
    {
     "data": {
      "text/html": [
       "<pre style=\"white-space:pre;overflow-x:auto;line-height:normal;font-family:Menlo,'DejaVu Sans Mono',consolas,'Courier New',monospace;margin:0px\"><span style=\"font-weight: bold; text-decoration: underline\">C65644 </span><span style=\"color: #008000; text-decoration-color: #008000; font-weight: bold; text-decoration: underline\">\"UITHGRVXYULYQA-UHFFFAOYSA-N\"</span> <span style=\"color: #800080; text-decoration-color: #800080; font-style: italic\">None</span>\n",
       "</pre>\n"
      ],
      "text/plain": [
       "\u001b[1;4mC65644 \u001b[0m\u001b[1;4;32m\"UITHGRVXYULYQA-UHFFFAOYSA-N\"\u001b[0m \u001b[3;35mNone\u001b[0m\n"
      ]
     },
     "metadata": {},
     "output_type": "display_data"
    },
    {
     "data": {
      "text/html": [
       "<pre style=\"white-space:pre;overflow-x:auto;line-height:normal;font-family:Menlo,'DejaVu Sans Mono',consolas,'Courier New',monospace;margin:0px\"><span style=\"font-weight: bold; text-decoration: underline\">C65691 </span><span style=\"color: #008000; text-decoration-color: #008000; font-weight: bold; text-decoration: underline\">\"NLPSSNMFGBLZAP-UHFFFAOYSA-N\"</span> <span style=\"font-weight: bold; text-decoration: underline\">elaborations of C65691: {C × </span><span style=\"color: #008080; text-decoration-color: #008080; font-weight: bold; text-decoration: underline\">355</span><span style=\"font-weight: bold; text-decoration: underline\">}</span>\n",
       "</pre>\n"
      ],
      "text/plain": [
       "\u001b[1;4mC65691 \u001b[0m\u001b[1;4;32m\"NLPSSNMFGBLZAP-UHFFFAOYSA-N\"\u001b[0m \u001b[1;4melaborations of C65691: \u001b[0m\u001b[1;4m{\u001b[0m\u001b[1;4mC × \u001b[0m\u001b[1;4;36m355\u001b[0m\u001b[1;4m}\u001b[0m\n"
      ]
     },
     "metadata": {},
     "output_type": "display_data"
    },
    {
     "data": {
      "text/html": [
       "<pre style=\"white-space:pre;overflow-x:auto;line-height:normal;font-family:Menlo,'DejaVu Sans Mono',consolas,'Courier New',monospace;margin:0px\"><span style=\"font-weight: bold; text-decoration: underline\">C66258 </span><span style=\"color: #008000; text-decoration-color: #008000; font-weight: bold; text-decoration: underline\">\"FLAVI-RDRP-DLS-JA001\"</span> <span style=\"color: #800080; text-decoration-color: #800080; font-style: italic\">None</span>\n",
       "</pre>\n"
      ],
      "text/plain": [
       "\u001b[1;4mC66258 \u001b[0m\u001b[1;4;32m\"FLAVI-RDRP-DLS-JA001\"\u001b[0m \u001b[3;35mNone\u001b[0m\n"
      ]
     },
     "metadata": {},
     "output_type": "display_data"
    },
    {
     "data": {
      "text/html": [
       "<pre style=\"white-space:pre;overflow-x:auto;line-height:normal;font-family:Menlo,'DejaVu Sans Mono',consolas,'Courier New',monospace;margin:0px\"><span style=\"font-weight: bold; text-decoration: underline\">C66259 </span><span style=\"color: #008000; text-decoration-color: #008000; font-weight: bold; text-decoration: underline\">\"FLAVI-RDRP-DLS-JA002\"</span> <span style=\"font-weight: bold; text-decoration: underline\">elaborations of C66259: {C × </span><span style=\"color: #008080; text-decoration-color: #008080; font-weight: bold; text-decoration: underline\">452</span><span style=\"font-weight: bold; text-decoration: underline\">}</span>\n",
       "</pre>\n"
      ],
      "text/plain": [
       "\u001b[1;4mC66259 \u001b[0m\u001b[1;4;32m\"FLAVI-RDRP-DLS-JA002\"\u001b[0m \u001b[1;4melaborations of C66259: \u001b[0m\u001b[1;4m{\u001b[0m\u001b[1;4mC × \u001b[0m\u001b[1;4;36m452\u001b[0m\u001b[1;4m}\u001b[0m\n"
      ]
     },
     "metadata": {},
     "output_type": "display_data"
    },
    {
     "data": {
      "text/html": [
       "<pre style=\"white-space:pre;overflow-x:auto;line-height:normal;font-family:Menlo,'DejaVu Sans Mono',consolas,'Courier New',monospace;margin:0px\"><span style=\"font-weight: bold; text-decoration: underline\">C66260 </span><span style=\"color: #008000; text-decoration-color: #008000; font-weight: bold; text-decoration: underline\">\"FLAVI-RDRP-DLS-JA003\"</span> <span style=\"color: #800080; text-decoration-color: #800080; font-style: italic\">None</span>\n",
       "</pre>\n"
      ],
      "text/plain": [
       "\u001b[1;4mC66260 \u001b[0m\u001b[1;4;32m\"FLAVI-RDRP-DLS-JA003\"\u001b[0m \u001b[3;35mNone\u001b[0m\n"
      ]
     },
     "metadata": {},
     "output_type": "display_data"
    },
    {
     "data": {
      "text/html": [
       "<pre style=\"white-space:pre;overflow-x:auto;line-height:normal;font-family:Menlo,'DejaVu Sans Mono',consolas,'Courier New',monospace;margin:0px\"><span style=\"font-weight: bold; text-decoration: underline\">C66262 </span><span style=\"color: #008000; text-decoration-color: #008000; font-weight: bold; text-decoration: underline\">\"FLAVI-RDRP-DLS-JA005\"</span> <span style=\"color: #800080; text-decoration-color: #800080; font-style: italic\">None</span>\n",
       "</pre>\n"
      ],
      "text/plain": [
       "\u001b[1;4mC66262 \u001b[0m\u001b[1;4;32m\"FLAVI-RDRP-DLS-JA005\"\u001b[0m \u001b[3;35mNone\u001b[0m\n"
      ]
     },
     "metadata": {},
     "output_type": "display_data"
    },
    {
     "data": {
      "text/html": [
       "<pre style=\"white-space:pre;overflow-x:auto;line-height:normal;font-family:Menlo,'DejaVu Sans Mono',consolas,'Courier New',monospace;margin:0px\"><span style=\"font-weight: bold; text-decoration: underline\">C66263 </span><span style=\"color: #008000; text-decoration-color: #008000; font-weight: bold; text-decoration: underline\">\"FLAVI-RDRP-DLS-JA006\"</span> <span style=\"color: #800080; text-decoration-color: #800080; font-style: italic\">None</span>\n",
       "</pre>\n"
      ],
      "text/plain": [
       "\u001b[1;4mC66263 \u001b[0m\u001b[1;4;32m\"FLAVI-RDRP-DLS-JA006\"\u001b[0m \u001b[3;35mNone\u001b[0m\n"
      ]
     },
     "metadata": {},
     "output_type": "display_data"
    },
    {
     "data": {
      "text/html": [
       "<pre style=\"white-space:pre;overflow-x:auto;line-height:normal;font-family:Menlo,'DejaVu Sans Mono',consolas,'Courier New',monospace;margin:0px\"><span style=\"font-weight: bold; text-decoration: underline\">C66264 </span><span style=\"color: #008000; text-decoration-color: #008000; font-weight: bold; text-decoration: underline\">\"FLAVI-RDRP-DLS-JA007\"</span> <span style=\"color: #800080; text-decoration-color: #800080; font-style: italic\">None</span>\n",
       "</pre>\n"
      ],
      "text/plain": [
       "\u001b[1;4mC66264 \u001b[0m\u001b[1;4;32m\"FLAVI-RDRP-DLS-JA007\"\u001b[0m \u001b[3;35mNone\u001b[0m\n"
      ]
     },
     "metadata": {},
     "output_type": "display_data"
    },
    {
     "data": {
      "text/html": [
       "<pre style=\"white-space:pre;overflow-x:auto;line-height:normal;font-family:Menlo,'DejaVu Sans Mono',consolas,'Courier New',monospace;margin:0px\"><span style=\"font-weight: bold; text-decoration: underline\">C66267 </span><span style=\"color: #008000; text-decoration-color: #008000; font-weight: bold; text-decoration: underline\">\"FLAVI-RDRP-DLS-JA010\"</span> <span style=\"color: #800080; text-decoration-color: #800080; font-style: italic\">None</span>\n",
       "</pre>\n"
      ],
      "text/plain": [
       "\u001b[1;4mC66267 \u001b[0m\u001b[1;4;32m\"FLAVI-RDRP-DLS-JA010\"\u001b[0m \u001b[3;35mNone\u001b[0m\n"
      ]
     },
     "metadata": {},
     "output_type": "display_data"
    },
    {
     "data": {
      "text/html": [
       "<pre style=\"white-space:pre;overflow-x:auto;line-height:normal;font-family:Menlo,'DejaVu Sans Mono',consolas,'Courier New',monospace;margin:0px\"><span style=\"font-weight: bold; text-decoration: underline\">C66268 </span><span style=\"color: #008000; text-decoration-color: #008000; font-weight: bold; text-decoration: underline\">\"FLAVI-RDRP-DLS-JA011\"</span> <span style=\"color: #800080; text-decoration-color: #800080; font-style: italic\">None</span>\n",
       "</pre>\n"
      ],
      "text/plain": [
       "\u001b[1;4mC66268 \u001b[0m\u001b[1;4;32m\"FLAVI-RDRP-DLS-JA011\"\u001b[0m \u001b[3;35mNone\u001b[0m\n"
      ]
     },
     "metadata": {},
     "output_type": "display_data"
    },
    {
     "data": {
      "text/html": [
       "<pre style=\"white-space:pre;overflow-x:auto;line-height:normal;font-family:Menlo,'DejaVu Sans Mono',consolas,'Courier New',monospace;margin:0px\"><span style=\"font-weight: bold; text-decoration: underline\">C66269 </span><span style=\"color: #008000; text-decoration-color: #008000; font-weight: bold; text-decoration: underline\">\"FLAVI-RDRP-DLS-JA012\"</span> <span style=\"color: #800080; text-decoration-color: #800080; font-style: italic\">None</span>\n",
       "</pre>\n"
      ],
      "text/plain": [
       "\u001b[1;4mC66269 \u001b[0m\u001b[1;4;32m\"FLAVI-RDRP-DLS-JA012\"\u001b[0m \u001b[3;35mNone\u001b[0m\n"
      ]
     },
     "metadata": {},
     "output_type": "display_data"
    },
    {
     "data": {
      "text/html": [
       "<pre style=\"white-space:pre;overflow-x:auto;line-height:normal;font-family:Menlo,'DejaVu Sans Mono',consolas,'Courier New',monospace;margin:0px\"><span style=\"font-weight: bold; text-decoration: underline\">C66270 </span><span style=\"color: #008000; text-decoration-color: #008000; font-weight: bold; text-decoration: underline\">\"FLAVI-RDRP-DLS-JA013\"</span> <span style=\"color: #800080; text-decoration-color: #800080; font-style: italic\">None</span>\n",
       "</pre>\n"
      ],
      "text/plain": [
       "\u001b[1;4mC66270 \u001b[0m\u001b[1;4;32m\"FLAVI-RDRP-DLS-JA013\"\u001b[0m \u001b[3;35mNone\u001b[0m\n"
      ]
     },
     "metadata": {},
     "output_type": "display_data"
    },
    {
     "data": {
      "text/html": [
       "<pre style=\"white-space:pre;overflow-x:auto;line-height:normal;font-family:Menlo,'DejaVu Sans Mono',consolas,'Courier New',monospace;margin:0px\"><span style=\"font-weight: bold; text-decoration: underline\">C66271 </span><span style=\"color: #008000; text-decoration-color: #008000; font-weight: bold; text-decoration: underline\">\"FLAVI-RDRP-DLS-JA014\"</span> <span style=\"color: #800080; text-decoration-color: #800080; font-style: italic\">None</span>\n",
       "</pre>\n"
      ],
      "text/plain": [
       "\u001b[1;4mC66271 \u001b[0m\u001b[1;4;32m\"FLAVI-RDRP-DLS-JA014\"\u001b[0m \u001b[3;35mNone\u001b[0m\n"
      ]
     },
     "metadata": {},
     "output_type": "display_data"
    },
    {
     "data": {
      "text/html": [
       "<pre style=\"white-space:pre;overflow-x:auto;line-height:normal;font-family:Menlo,'DejaVu Sans Mono',consolas,'Courier New',monospace;margin:0px\"><span style=\"font-weight: bold; text-decoration: underline\">C66272 </span><span style=\"color: #008000; text-decoration-color: #008000; font-weight: bold; text-decoration: underline\">\"FLAVI-RDRP-DLS-JA015\"</span> <span style=\"color: #800080; text-decoration-color: #800080; font-style: italic\">None</span>\n",
       "</pre>\n"
      ],
      "text/plain": [
       "\u001b[1;4mC66272 \u001b[0m\u001b[1;4;32m\"FLAVI-RDRP-DLS-JA015\"\u001b[0m \u001b[3;35mNone\u001b[0m\n"
      ]
     },
     "metadata": {},
     "output_type": "display_data"
    },
    {
     "data": {
      "text/html": [
       "<pre style=\"white-space:pre;overflow-x:auto;line-height:normal;font-family:Menlo,'DejaVu Sans Mono',consolas,'Courier New',monospace;margin:0px\"><span style=\"font-weight: bold; text-decoration: underline\">C66273 </span><span style=\"color: #008000; text-decoration-color: #008000; font-weight: bold; text-decoration: underline\">\"FLAVI-RDRP-DLS-JA016\"</span> <span style=\"color: #800080; text-decoration-color: #800080; font-style: italic\">None</span>\n",
       "</pre>\n"
      ],
      "text/plain": [
       "\u001b[1;4mC66273 \u001b[0m\u001b[1;4;32m\"FLAVI-RDRP-DLS-JA016\"\u001b[0m \u001b[3;35mNone\u001b[0m\n"
      ]
     },
     "metadata": {},
     "output_type": "display_data"
    },
    {
     "data": {
      "text/html": [
       "<pre style=\"white-space:pre;overflow-x:auto;line-height:normal;font-family:Menlo,'DejaVu Sans Mono',consolas,'Courier New',monospace;margin:0px\"><span style=\"font-weight: bold; text-decoration: underline\">C66274 </span><span style=\"color: #008000; text-decoration-color: #008000; font-weight: bold; text-decoration: underline\">\"FLAVI-RDRP-DLS-JA017\"</span> <span style=\"color: #800080; text-decoration-color: #800080; font-style: italic\">None</span>\n",
       "</pre>\n"
      ],
      "text/plain": [
       "\u001b[1;4mC66274 \u001b[0m\u001b[1;4;32m\"FLAVI-RDRP-DLS-JA017\"\u001b[0m \u001b[3;35mNone\u001b[0m\n"
      ]
     },
     "metadata": {},
     "output_type": "display_data"
    },
    {
     "data": {
      "text/html": [
       "<pre style=\"white-space:pre;overflow-x:auto;line-height:normal;font-family:Menlo,'DejaVu Sans Mono',consolas,'Courier New',monospace;margin:0px\"><span style=\"font-weight: bold; text-decoration: underline\">C66275 </span><span style=\"color: #008000; text-decoration-color: #008000; font-weight: bold; text-decoration: underline\">\"FLAVI-RDRP-DLS-JA018\"</span> <span style=\"color: #800080; text-decoration-color: #800080; font-style: italic\">None</span>\n",
       "</pre>\n"
      ],
      "text/plain": [
       "\u001b[1;4mC66275 \u001b[0m\u001b[1;4;32m\"FLAVI-RDRP-DLS-JA018\"\u001b[0m \u001b[3;35mNone\u001b[0m\n"
      ]
     },
     "metadata": {},
     "output_type": "display_data"
    },
    {
     "data": {
      "text/html": [
       "<pre style=\"white-space:pre;overflow-x:auto;line-height:normal;font-family:Menlo,'DejaVu Sans Mono',consolas,'Courier New',monospace;margin:0px\"><span style=\"font-weight: bold; text-decoration: underline\">C66276 </span><span style=\"color: #008000; text-decoration-color: #008000; font-weight: bold; text-decoration: underline\">\"FLAVI-RDRP-DLS-JA019\"</span> <span style=\"color: #800080; text-decoration-color: #800080; font-style: italic\">None</span>\n",
       "</pre>\n"
      ],
      "text/plain": [
       "\u001b[1;4mC66276 \u001b[0m\u001b[1;4;32m\"FLAVI-RDRP-DLS-JA019\"\u001b[0m \u001b[3;35mNone\u001b[0m\n"
      ]
     },
     "metadata": {},
     "output_type": "display_data"
    },
    {
     "data": {
      "text/html": [
       "<pre style=\"white-space:pre;overflow-x:auto;line-height:normal;font-family:Menlo,'DejaVu Sans Mono',consolas,'Courier New',monospace;margin:0px\"><span style=\"font-weight: bold; text-decoration: underline\">C66277 </span><span style=\"color: #008000; text-decoration-color: #008000; font-weight: bold; text-decoration: underline\">\"FLAVI-RDRP-DLS-JA020\"</span> <span style=\"color: #800080; text-decoration-color: #800080; font-style: italic\">None</span>\n",
       "</pre>\n"
      ],
      "text/plain": [
       "\u001b[1;4mC66277 \u001b[0m\u001b[1;4;32m\"FLAVI-RDRP-DLS-JA020\"\u001b[0m \u001b[3;35mNone\u001b[0m\n"
      ]
     },
     "metadata": {},
     "output_type": "display_data"
    },
    {
     "data": {
      "text/html": [
       "<pre style=\"white-space:pre;overflow-x:auto;line-height:normal;font-family:Menlo,'DejaVu Sans Mono',consolas,'Courier New',monospace;margin:0px\"><span style=\"font-weight: bold; text-decoration: underline\">C66278 </span><span style=\"color: #008000; text-decoration-color: #008000; font-weight: bold; text-decoration: underline\">\"FLAVI-RDRP-DLS-JA021\"</span> <span style=\"color: #800080; text-decoration-color: #800080; font-style: italic\">None</span>\n",
       "</pre>\n"
      ],
      "text/plain": [
       "\u001b[1;4mC66278 \u001b[0m\u001b[1;4;32m\"FLAVI-RDRP-DLS-JA021\"\u001b[0m \u001b[3;35mNone\u001b[0m\n"
      ]
     },
     "metadata": {},
     "output_type": "display_data"
    },
    {
     "data": {
      "text/html": [
       "<pre style=\"white-space:pre;overflow-x:auto;line-height:normal;font-family:Menlo,'DejaVu Sans Mono',consolas,'Courier New',monospace;margin:0px\"><span style=\"font-weight: bold; text-decoration: underline\">C66279 </span><span style=\"color: #008000; text-decoration-color: #008000; font-weight: bold; text-decoration: underline\">\"FLAVI-RDRP-DLS-JA024\"</span> <span style=\"color: #800080; text-decoration-color: #800080; font-style: italic\">None</span>\n",
       "</pre>\n"
      ],
      "text/plain": [
       "\u001b[1;4mC66279 \u001b[0m\u001b[1;4;32m\"FLAVI-RDRP-DLS-JA024\"\u001b[0m \u001b[3;35mNone\u001b[0m\n"
      ]
     },
     "metadata": {},
     "output_type": "display_data"
    },
    {
     "data": {
      "text/html": [
       "<pre style=\"white-space:pre;overflow-x:auto;line-height:normal;font-family:Menlo,'DejaVu Sans Mono',consolas,'Courier New',monospace;margin:0px\"><span style=\"font-weight: bold; text-decoration: underline\">C66280 </span><span style=\"color: #008000; text-decoration-color: #008000; font-weight: bold; text-decoration: underline\">\"FLAVI-RDRP-DLS-JA023\"</span> <span style=\"color: #800080; text-decoration-color: #800080; font-style: italic\">None</span>\n",
       "</pre>\n"
      ],
      "text/plain": [
       "\u001b[1;4mC66280 \u001b[0m\u001b[1;4;32m\"FLAVI-RDRP-DLS-JA023\"\u001b[0m \u001b[3;35mNone\u001b[0m\n"
      ]
     },
     "metadata": {},
     "output_type": "display_data"
    },
    {
     "data": {
      "text/html": [
       "<pre style=\"white-space:pre;overflow-x:auto;line-height:normal;font-family:Menlo,'DejaVu Sans Mono',consolas,'Courier New',monospace;margin:0px\"><span style=\"font-weight: bold; text-decoration: underline\">C66281 </span><span style=\"color: #008000; text-decoration-color: #008000; font-weight: bold; text-decoration: underline\">\"FLAVI-RDRP-DLS-JA025\"</span> <span style=\"color: #800080; text-decoration-color: #800080; font-style: italic\">None</span>\n",
       "</pre>\n"
      ],
      "text/plain": [
       "\u001b[1;4mC66281 \u001b[0m\u001b[1;4;32m\"FLAVI-RDRP-DLS-JA025\"\u001b[0m \u001b[3;35mNone\u001b[0m\n"
      ]
     },
     "metadata": {},
     "output_type": "display_data"
    },
    {
     "data": {
      "text/html": [
       "<pre style=\"white-space:pre;overflow-x:auto;line-height:normal;font-family:Menlo,'DejaVu Sans Mono',consolas,'Courier New',monospace;margin:0px\"><span style=\"font-weight: bold; text-decoration: underline\">C66282 </span><span style=\"color: #008000; text-decoration-color: #008000; font-weight: bold; text-decoration: underline\">\"FLAVI-RDRP-DLS-JA026\"</span> <span style=\"color: #800080; text-decoration-color: #800080; font-style: italic\">None</span>\n",
       "</pre>\n"
      ],
      "text/plain": [
       "\u001b[1;4mC66282 \u001b[0m\u001b[1;4;32m\"FLAVI-RDRP-DLS-JA026\"\u001b[0m \u001b[3;35mNone\u001b[0m\n"
      ]
     },
     "metadata": {},
     "output_type": "display_data"
    },
    {
     "data": {
      "text/html": [
       "<pre style=\"white-space:pre;overflow-x:auto;line-height:normal;font-family:Menlo,'DejaVu Sans Mono',consolas,'Courier New',monospace;margin:0px\"><span style=\"font-weight: bold; text-decoration: underline\">C66283 </span><span style=\"color: #008000; text-decoration-color: #008000; font-weight: bold; text-decoration: underline\">\"FLAVI-RDRP-DLS-JA027\"</span> <span style=\"color: #800080; text-decoration-color: #800080; font-style: italic\">None</span>\n",
       "</pre>\n"
      ],
      "text/plain": [
       "\u001b[1;4mC66283 \u001b[0m\u001b[1;4;32m\"FLAVI-RDRP-DLS-JA027\"\u001b[0m \u001b[3;35mNone\u001b[0m\n"
      ]
     },
     "metadata": {},
     "output_type": "display_data"
    },
    {
     "data": {
      "text/html": [
       "<pre style=\"white-space:pre;overflow-x:auto;line-height:normal;font-family:Menlo,'DejaVu Sans Mono',consolas,'Courier New',monospace;margin:0px\"><span style=\"font-weight: bold; text-decoration: underline\">C66284 </span><span style=\"color: #008000; text-decoration-color: #008000; font-weight: bold; text-decoration: underline\">\"FLAVI-RDRP-DLS-JA028\"</span> <span style=\"color: #800080; text-decoration-color: #800080; font-style: italic\">None</span>\n",
       "</pre>\n"
      ],
      "text/plain": [
       "\u001b[1;4mC66284 \u001b[0m\u001b[1;4;32m\"FLAVI-RDRP-DLS-JA028\"\u001b[0m \u001b[3;35mNone\u001b[0m\n"
      ]
     },
     "metadata": {},
     "output_type": "display_data"
    },
    {
     "data": {
      "text/html": [
       "<pre style=\"white-space:pre;overflow-x:auto;line-height:normal;font-family:Menlo,'DejaVu Sans Mono',consolas,'Courier New',monospace;margin:0px\"><span style=\"font-weight: bold; text-decoration: underline\">C66285 </span><span style=\"color: #008000; text-decoration-color: #008000; font-weight: bold; text-decoration: underline\">\"FLAVI-RDRP-DLS-JA029\"</span> <span style=\"color: #800080; text-decoration-color: #800080; font-style: italic\">None</span>\n",
       "</pre>\n"
      ],
      "text/plain": [
       "\u001b[1;4mC66285 \u001b[0m\u001b[1;4;32m\"FLAVI-RDRP-DLS-JA029\"\u001b[0m \u001b[3;35mNone\u001b[0m\n"
      ]
     },
     "metadata": {},
     "output_type": "display_data"
    },
    {
     "data": {
      "text/html": [
       "<pre style=\"white-space:pre;overflow-x:auto;line-height:normal;font-family:Menlo,'DejaVu Sans Mono',consolas,'Courier New',monospace;margin:0px\"><span style=\"font-weight: bold; text-decoration: underline\">C66286 </span><span style=\"color: #008000; text-decoration-color: #008000; font-weight: bold; text-decoration: underline\">\"FLAVI-RDRP-DLS-JA030\"</span> <span style=\"color: #800080; text-decoration-color: #800080; font-style: italic\">None</span>\n",
       "</pre>\n"
      ],
      "text/plain": [
       "\u001b[1;4mC66286 \u001b[0m\u001b[1;4;32m\"FLAVI-RDRP-DLS-JA030\"\u001b[0m \u001b[3;35mNone\u001b[0m\n"
      ]
     },
     "metadata": {},
     "output_type": "display_data"
    },
    {
     "data": {
      "text/html": [
       "<pre style=\"white-space:pre;overflow-x:auto;line-height:normal;font-family:Menlo,'DejaVu Sans Mono',consolas,'Courier New',monospace;margin:0px\"><span style=\"font-weight: bold; text-decoration: underline\">C66287 </span><span style=\"color: #008000; text-decoration-color: #008000; font-weight: bold; text-decoration: underline\">\"FLAVI-RDRP-DLS-JA031\"</span> <span style=\"color: #800080; text-decoration-color: #800080; font-style: italic\">None</span>\n",
       "</pre>\n"
      ],
      "text/plain": [
       "\u001b[1;4mC66287 \u001b[0m\u001b[1;4;32m\"FLAVI-RDRP-DLS-JA031\"\u001b[0m \u001b[3;35mNone\u001b[0m\n"
      ]
     },
     "metadata": {},
     "output_type": "display_data"
    },
    {
     "data": {
      "text/html": [
       "<pre style=\"white-space:pre;overflow-x:auto;line-height:normal;font-family:Menlo,'DejaVu Sans Mono',consolas,'Courier New',monospace;margin:0px\"><span style=\"font-weight: bold; text-decoration: underline\">C66288 </span><span style=\"color: #008000; text-decoration-color: #008000; font-weight: bold; text-decoration: underline\">\"FLAVI-RDRP-DLS-JA032\"</span> <span style=\"color: #800080; text-decoration-color: #800080; font-style: italic\">None</span>\n",
       "</pre>\n"
      ],
      "text/plain": [
       "\u001b[1;4mC66288 \u001b[0m\u001b[1;4;32m\"FLAVI-RDRP-DLS-JA032\"\u001b[0m \u001b[3;35mNone\u001b[0m\n"
      ]
     },
     "metadata": {},
     "output_type": "display_data"
    },
    {
     "data": {
      "text/html": [
       "<pre style=\"white-space:pre;overflow-x:auto;line-height:normal;font-family:Menlo,'DejaVu Sans Mono',consolas,'Courier New',monospace;margin:0px\"><span style=\"font-weight: bold; text-decoration: underline\">C66289 </span><span style=\"color: #008000; text-decoration-color: #008000; font-weight: bold; text-decoration: underline\">\"CZPICAMLPOGNFV-UHFFFAOYSA-N\"</span> <span style=\"font-weight: bold; text-decoration: underline\">elaborations of C66289: {C × </span><span style=\"color: #008080; text-decoration-color: #008080; font-weight: bold; text-decoration: underline\">243</span><span style=\"font-weight: bold; text-decoration: underline\">}</span>\n",
       "</pre>\n"
      ],
      "text/plain": [
       "\u001b[1;4mC66289 \u001b[0m\u001b[1;4;32m\"CZPICAMLPOGNFV-UHFFFAOYSA-N\"\u001b[0m \u001b[1;4melaborations of C66289: \u001b[0m\u001b[1;4m{\u001b[0m\u001b[1;4mC × \u001b[0m\u001b[1;4;36m243\u001b[0m\u001b[1;4m}\u001b[0m\n"
      ]
     },
     "metadata": {},
     "output_type": "display_data"
    },
    {
     "data": {
      "text/html": [
       "<pre style=\"white-space:pre;overflow-x:auto;line-height:normal;font-family:Menlo,'DejaVu Sans Mono',consolas,'Courier New',monospace;margin:0px\"><span style=\"font-weight: bold; text-decoration: underline\">C67390 </span><span style=\"color: #008000; text-decoration-color: #008000; font-weight: bold; text-decoration: underline\">\"TUHJHFXLPDHAOH-UHFFFAOYSA-N\"</span> <span style=\"color: #800080; text-decoration-color: #800080; font-style: italic\">None</span>\n",
       "</pre>\n"
      ],
      "text/plain": [
       "\u001b[1;4mC67390 \u001b[0m\u001b[1;4;32m\"TUHJHFXLPDHAOH-UHFFFAOYSA-N\"\u001b[0m \u001b[3;35mNone\u001b[0m\n"
      ]
     },
     "metadata": {},
     "output_type": "display_data"
    },
    {
     "data": {
      "text/html": [
       "<pre style=\"white-space:pre;overflow-x:auto;line-height:normal;font-family:Menlo,'DejaVu Sans Mono',consolas,'Courier New',monospace;margin:0px\"><span style=\"font-weight: bold; text-decoration: underline\">C67398 </span><span style=\"color: #008000; text-decoration-color: #008000; font-weight: bold; text-decoration: underline\">\"PXZGBQYNYITACE-UHFFFAOYSA-N\"</span> <span style=\"color: #800080; text-decoration-color: #800080; font-style: italic\">None</span>\n",
       "</pre>\n"
      ],
      "text/plain": [
       "\u001b[1;4mC67398 \u001b[0m\u001b[1;4;32m\"PXZGBQYNYITACE-UHFFFAOYSA-N\"\u001b[0m \u001b[3;35mNone\u001b[0m\n"
      ]
     },
     "metadata": {},
     "output_type": "display_data"
    },
    {
     "data": {
      "text/html": [
       "<pre style=\"white-space:pre;overflow-x:auto;line-height:normal;font-family:Menlo,'DejaVu Sans Mono',consolas,'Courier New',monospace;margin:0px\"><span style=\"font-weight: bold; text-decoration: underline\">C67403 </span><span style=\"color: #008000; text-decoration-color: #008000; font-weight: bold; text-decoration: underline\">\"DF-RdRp-NP024\"</span> <span style=\"color: #800080; text-decoration-color: #800080; font-style: italic\">None</span>\n",
       "</pre>\n"
      ],
      "text/plain": [
       "\u001b[1;4mC67403 \u001b[0m\u001b[1;4;32m\"DF-RdRp-NP024\"\u001b[0m \u001b[3;35mNone\u001b[0m\n"
      ]
     },
     "metadata": {},
     "output_type": "display_data"
    },
    {
     "data": {
      "text/html": [
       "<pre style=\"white-space:pre;overflow-x:auto;line-height:normal;font-family:Menlo,'DejaVu Sans Mono',consolas,'Courier New',monospace;margin:0px\"><span style=\"font-weight: bold; text-decoration: underline\">C67405 </span><span style=\"color: #008000; text-decoration-color: #008000; font-weight: bold; text-decoration: underline\">\"DF-RdRp-NP040\"</span> <span style=\"color: #800080; text-decoration-color: #800080; font-style: italic\">None</span>\n",
       "</pre>\n"
      ],
      "text/plain": [
       "\u001b[1;4mC67405 \u001b[0m\u001b[1;4;32m\"DF-RdRp-NP040\"\u001b[0m \u001b[3;35mNone\u001b[0m\n"
      ]
     },
     "metadata": {},
     "output_type": "display_data"
    },
    {
     "data": {
      "text/html": [
       "<pre style=\"white-space:pre;overflow-x:auto;line-height:normal;font-family:Menlo,'DejaVu Sans Mono',consolas,'Courier New',monospace;margin:0px\"><span style=\"font-weight: bold; text-decoration: underline\">C67410 </span><span style=\"color: #008000; text-decoration-color: #008000; font-weight: bold; text-decoration: underline\">\"FRJYLRUVCPPIIC-UHFFFAOYSA-N\"</span> <span style=\"color: #800080; text-decoration-color: #800080; font-style: italic\">None</span>\n",
       "</pre>\n"
      ],
      "text/plain": [
       "\u001b[1;4mC67410 \u001b[0m\u001b[1;4;32m\"FRJYLRUVCPPIIC-UHFFFAOYSA-N\"\u001b[0m \u001b[3;35mNone\u001b[0m\n"
      ]
     },
     "metadata": {},
     "output_type": "display_data"
    },
    {
     "data": {
      "text/html": [
       "<pre style=\"white-space:pre;overflow-x:auto;line-height:normal;font-family:Menlo,'DejaVu Sans Mono',consolas,'Courier New',monospace;margin:0px\"><span style=\"font-weight: bold; text-decoration: underline\">C67424 </span><span style=\"color: #008000; text-decoration-color: #008000; font-weight: bold; text-decoration: underline\">\"DF-RdRp-NP029\"</span> <span style=\"color: #800080; text-decoration-color: #800080; font-style: italic\">None</span>\n",
       "</pre>\n"
      ],
      "text/plain": [
       "\u001b[1;4mC67424 \u001b[0m\u001b[1;4;32m\"DF-RdRp-NP029\"\u001b[0m \u001b[3;35mNone\u001b[0m\n"
      ]
     },
     "metadata": {},
     "output_type": "display_data"
    },
    {
     "data": {
      "text/html": [
       "<pre style=\"white-space:pre;overflow-x:auto;line-height:normal;font-family:Menlo,'DejaVu Sans Mono',consolas,'Courier New',monospace;margin:0px\"><span style=\"font-weight: bold; text-decoration: underline\">C67427 </span><span style=\"color: #008000; text-decoration-color: #008000; font-weight: bold; text-decoration: underline\">\"DF-RdRp-NP030\"</span> <span style=\"font-weight: bold; text-decoration: underline\">elaborations of C67427: {C × </span><span style=\"color: #008080; text-decoration-color: #008080; font-weight: bold; text-decoration: underline\">51</span><span style=\"font-weight: bold; text-decoration: underline\">}</span>\n",
       "</pre>\n"
      ],
      "text/plain": [
       "\u001b[1;4mC67427 \u001b[0m\u001b[1;4;32m\"DF-RdRp-NP030\"\u001b[0m \u001b[1;4melaborations of C67427: \u001b[0m\u001b[1;4m{\u001b[0m\u001b[1;4mC × \u001b[0m\u001b[1;4;36m51\u001b[0m\u001b[1;4m}\u001b[0m\n"
      ]
     },
     "metadata": {},
     "output_type": "display_data"
    },
    {
     "data": {
      "text/html": [
       "<pre style=\"white-space:pre;overflow-x:auto;line-height:normal;font-family:Menlo,'DejaVu Sans Mono',consolas,'Courier New',monospace;margin:0px\"><span style=\"font-weight: bold; text-decoration: underline\">C67659 </span><span style=\"color: #008000; text-decoration-color: #008000; font-weight: bold; text-decoration: underline\">\"RIGFXPYYCKCHGJ-UHFFFAOYSA-N\"</span> <span style=\"color: #800080; text-decoration-color: #800080; font-style: italic\">None</span>\n",
       "</pre>\n"
      ],
      "text/plain": [
       "\u001b[1;4mC67659 \u001b[0m\u001b[1;4;32m\"RIGFXPYYCKCHGJ-UHFFFAOYSA-N\"\u001b[0m \u001b[3;35mNone\u001b[0m\n"
      ]
     },
     "metadata": {},
     "output_type": "display_data"
    },
    {
     "data": {
      "text/html": [
       "<pre style=\"white-space:pre;overflow-x:auto;line-height:normal;font-family:Menlo,'DejaVu Sans Mono',consolas,'Courier New',monospace;margin:0px\"><span style=\"font-weight: bold; text-decoration: underline\">C67721 </span><span style=\"color: #008000; text-decoration-color: #008000; font-weight: bold; text-decoration: underline\">\"KPCMUKYNNKXHMF-UHFFFAOYSA-N\"</span> <span style=\"color: #800080; text-decoration-color: #800080; font-style: italic\">None</span>\n",
       "</pre>\n"
      ],
      "text/plain": [
       "\u001b[1;4mC67721 \u001b[0m\u001b[1;4;32m\"KPCMUKYNNKXHMF-UHFFFAOYSA-N\"\u001b[0m \u001b[3;35mNone\u001b[0m\n"
      ]
     },
     "metadata": {},
     "output_type": "display_data"
    },
    {
     "data": {
      "text/html": [
       "<pre style=\"white-space:pre;overflow-x:auto;line-height:normal;font-family:Menlo,'DejaVu Sans Mono',consolas,'Courier New',monospace;margin:0px\"><span style=\"font-weight: bold; text-decoration: underline\">C68384 </span><span style=\"color: #008000; text-decoration-color: #008000; font-weight: bold; text-decoration: underline\">\"KZGPDDSEMZONAM-UHFFFAOYSA-N\"</span> <span style=\"font-weight: bold; text-decoration: underline\">elaborations of C68384: {C × </span><span style=\"color: #008080; text-decoration-color: #008080; font-weight: bold; text-decoration: underline\">69</span><span style=\"font-weight: bold; text-decoration: underline\">}</span>\n",
       "</pre>\n"
      ],
      "text/plain": [
       "\u001b[1;4mC68384 \u001b[0m\u001b[1;4;32m\"KZGPDDSEMZONAM-UHFFFAOYSA-N\"\u001b[0m \u001b[1;4melaborations of C68384: \u001b[0m\u001b[1;4m{\u001b[0m\u001b[1;4mC × \u001b[0m\u001b[1;4;36m69\u001b[0m\u001b[1;4m}\u001b[0m\n"
      ]
     },
     "metadata": {},
     "output_type": "display_data"
    },
    {
     "data": {
      "text/html": [
       "<pre style=\"white-space:pre;overflow-x:auto;line-height:normal;font-family:Menlo,'DejaVu Sans Mono',consolas,'Courier New',monospace;margin:0px\"><span style=\"font-weight: bold; text-decoration: underline\">C68667 </span><span style=\"color: #008000; text-decoration-color: #008000; font-weight: bold; text-decoration: underline\">\"FAQQMENBAAMZPE-UHFFFAOYSA-N\"</span> <span style=\"color: #800080; text-decoration-color: #800080; font-style: italic\">None</span>\n",
       "</pre>\n"
      ],
      "text/plain": [
       "\u001b[1;4mC68667 \u001b[0m\u001b[1;4;32m\"FAQQMENBAAMZPE-UHFFFAOYSA-N\"\u001b[0m \u001b[3;35mNone\u001b[0m\n"
      ]
     },
     "metadata": {},
     "output_type": "display_data"
    },
    {
     "data": {
      "text/html": [
       "<pre style=\"white-space:pre;overflow-x:auto;line-height:normal;font-family:Menlo,'DejaVu Sans Mono',consolas,'Courier New',monospace;margin:0px\"><span style=\"font-weight: bold; text-decoration: underline\">C69322 </span><span style=\"color: #008000; text-decoration-color: #008000; font-weight: bold; text-decoration: underline\">\"YCJFKKPTJKKHNY-UHFFFAOYSA-N\"</span> <span style=\"color: #800080; text-decoration-color: #800080; font-style: italic\">None</span>\n",
       "</pre>\n"
      ],
      "text/plain": [
       "\u001b[1;4mC69322 \u001b[0m\u001b[1;4;32m\"YCJFKKPTJKKHNY-UHFFFAOYSA-N\"\u001b[0m \u001b[3;35mNone\u001b[0m\n"
      ]
     },
     "metadata": {},
     "output_type": "display_data"
    },
    {
     "data": {
      "text/html": [
       "<pre style=\"white-space:pre;overflow-x:auto;line-height:normal;font-family:Menlo,'DejaVu Sans Mono',consolas,'Courier New',monospace;margin:0px\"><span style=\"font-weight: bold; text-decoration: underline\">C70786 </span><span style=\"color: #008000; text-decoration-color: #008000; font-weight: bold; text-decoration: underline\">\"z0211a_z0764a_1\"</span> <span style=\"color: #800080; text-decoration-color: #800080; font-style: italic\">None</span>\n",
       "</pre>\n"
      ],
      "text/plain": [
       "\u001b[1;4mC70786 \u001b[0m\u001b[1;4;32m\"z0211a_z0764a_1\"\u001b[0m \u001b[3;35mNone\u001b[0m\n"
      ]
     },
     "metadata": {},
     "output_type": "display_data"
    },
    {
     "data": {
      "text/html": [
       "<pre style=\"white-space:pre;overflow-x:auto;line-height:normal;font-family:Menlo,'DejaVu Sans Mono',consolas,'Courier New',monospace;margin:0px\"><span style=\"font-weight: bold; text-decoration: underline\">C70787 </span><span style=\"color: #008000; text-decoration-color: #008000; font-weight: bold; text-decoration: underline\">\"z0211a_z0764a_2\"</span> <span style=\"color: #800080; text-decoration-color: #800080; font-style: italic\">None</span>\n",
       "</pre>\n"
      ],
      "text/plain": [
       "\u001b[1;4mC70787 \u001b[0m\u001b[1;4;32m\"z0211a_z0764a_2\"\u001b[0m \u001b[3;35mNone\u001b[0m\n"
      ]
     },
     "metadata": {},
     "output_type": "display_data"
    },
    {
     "data": {
      "text/html": [
       "<pre style=\"white-space:pre;overflow-x:auto;line-height:normal;font-family:Menlo,'DejaVu Sans Mono',consolas,'Courier New',monospace;margin:0px\"><span style=\"font-weight: bold; text-decoration: underline\">C70788 </span><span style=\"color: #008000; text-decoration-color: #008000; font-weight: bold; text-decoration: underline\">\"z0211a_z0764a_3\"</span> <span style=\"color: #800080; text-decoration-color: #800080; font-style: italic\">None</span>\n",
       "</pre>\n"
      ],
      "text/plain": [
       "\u001b[1;4mC70788 \u001b[0m\u001b[1;4;32m\"z0211a_z0764a_3\"\u001b[0m \u001b[3;35mNone\u001b[0m\n"
      ]
     },
     "metadata": {},
     "output_type": "display_data"
    },
    {
     "data": {
      "text/html": [
       "<pre style=\"white-space:pre;overflow-x:auto;line-height:normal;font-family:Menlo,'DejaVu Sans Mono',consolas,'Courier New',monospace;margin:0px\"><span style=\"font-weight: bold; text-decoration: underline\">C70789 </span><span style=\"color: #008000; text-decoration-color: #008000; font-weight: bold; text-decoration: underline\">\"z0483a_z0764a_1\"</span> <span style=\"color: #800080; text-decoration-color: #800080; font-style: italic\">None</span>\n",
       "</pre>\n"
      ],
      "text/plain": [
       "\u001b[1;4mC70789 \u001b[0m\u001b[1;4;32m\"z0483a_z0764a_1\"\u001b[0m \u001b[3;35mNone\u001b[0m\n"
      ]
     },
     "metadata": {},
     "output_type": "display_data"
    },
    {
     "data": {
      "text/html": [
       "<pre style=\"white-space:pre;overflow-x:auto;line-height:normal;font-family:Menlo,'DejaVu Sans Mono',consolas,'Courier New',monospace;margin:0px\"><span style=\"font-weight: bold; text-decoration: underline\">C70790 </span><span style=\"color: #008000; text-decoration-color: #008000; font-weight: bold; text-decoration: underline\">\"z0483a_z0764a_10\"</span> <span style=\"color: #800080; text-decoration-color: #800080; font-style: italic\">None</span>\n",
       "</pre>\n"
      ],
      "text/plain": [
       "\u001b[1;4mC70790 \u001b[0m\u001b[1;4;32m\"z0483a_z0764a_10\"\u001b[0m \u001b[3;35mNone\u001b[0m\n"
      ]
     },
     "metadata": {},
     "output_type": "display_data"
    },
    {
     "data": {
      "text/html": [
       "<pre style=\"white-space:pre;overflow-x:auto;line-height:normal;font-family:Menlo,'DejaVu Sans Mono',consolas,'Courier New',monospace;margin:0px\"><span style=\"font-weight: bold; text-decoration: underline\">C70791 </span><span style=\"color: #008000; text-decoration-color: #008000; font-weight: bold; text-decoration: underline\">\"z0483a_z0764a_2\"</span> <span style=\"color: #800080; text-decoration-color: #800080; font-style: italic\">None</span>\n",
       "</pre>\n"
      ],
      "text/plain": [
       "\u001b[1;4mC70791 \u001b[0m\u001b[1;4;32m\"z0483a_z0764a_2\"\u001b[0m \u001b[3;35mNone\u001b[0m\n"
      ]
     },
     "metadata": {},
     "output_type": "display_data"
    },
    {
     "data": {
      "text/html": [
       "<pre style=\"white-space:pre;overflow-x:auto;line-height:normal;font-family:Menlo,'DejaVu Sans Mono',consolas,'Courier New',monospace;margin:0px\"><span style=\"font-weight: bold; text-decoration: underline\">C70792 </span><span style=\"color: #008000; text-decoration-color: #008000; font-weight: bold; text-decoration: underline\">\"z0483a_z0764a_3\"</span> <span style=\"color: #800080; text-decoration-color: #800080; font-style: italic\">None</span>\n",
       "</pre>\n"
      ],
      "text/plain": [
       "\u001b[1;4mC70792 \u001b[0m\u001b[1;4;32m\"z0483a_z0764a_3\"\u001b[0m \u001b[3;35mNone\u001b[0m\n"
      ]
     },
     "metadata": {},
     "output_type": "display_data"
    },
    {
     "data": {
      "text/html": [
       "<pre style=\"white-space:pre;overflow-x:auto;line-height:normal;font-family:Menlo,'DejaVu Sans Mono',consolas,'Courier New',monospace;margin:0px\"><span style=\"font-weight: bold; text-decoration: underline\">C70793 </span><span style=\"color: #008000; text-decoration-color: #008000; font-weight: bold; text-decoration: underline\">\"z0483a_z0764a_4\"</span> <span style=\"color: #800080; text-decoration-color: #800080; font-style: italic\">None</span>\n",
       "</pre>\n"
      ],
      "text/plain": [
       "\u001b[1;4mC70793 \u001b[0m\u001b[1;4;32m\"z0483a_z0764a_4\"\u001b[0m \u001b[3;35mNone\u001b[0m\n"
      ]
     },
     "metadata": {},
     "output_type": "display_data"
    },
    {
     "data": {
      "text/html": [
       "<pre style=\"white-space:pre;overflow-x:auto;line-height:normal;font-family:Menlo,'DejaVu Sans Mono',consolas,'Courier New',monospace;margin:0px\"><span style=\"font-weight: bold; text-decoration: underline\">C70794 </span><span style=\"color: #008000; text-decoration-color: #008000; font-weight: bold; text-decoration: underline\">\"z0483a_z0764a_5\"</span> <span style=\"color: #800080; text-decoration-color: #800080; font-style: italic\">None</span>\n",
       "</pre>\n"
      ],
      "text/plain": [
       "\u001b[1;4mC70794 \u001b[0m\u001b[1;4;32m\"z0483a_z0764a_5\"\u001b[0m \u001b[3;35mNone\u001b[0m\n"
      ]
     },
     "metadata": {},
     "output_type": "display_data"
    },
    {
     "data": {
      "text/html": [
       "<pre style=\"white-space:pre;overflow-x:auto;line-height:normal;font-family:Menlo,'DejaVu Sans Mono',consolas,'Courier New',monospace;margin:0px\"><span style=\"font-weight: bold; text-decoration: underline\">C70795 </span><span style=\"color: #008000; text-decoration-color: #008000; font-weight: bold; text-decoration: underline\">\"z0483a_z0764a_6\"</span> <span style=\"color: #800080; text-decoration-color: #800080; font-style: italic\">None</span>\n",
       "</pre>\n"
      ],
      "text/plain": [
       "\u001b[1;4mC70795 \u001b[0m\u001b[1;4;32m\"z0483a_z0764a_6\"\u001b[0m \u001b[3;35mNone\u001b[0m\n"
      ]
     },
     "metadata": {},
     "output_type": "display_data"
    },
    {
     "data": {
      "text/html": [
       "<pre style=\"white-space:pre;overflow-x:auto;line-height:normal;font-family:Menlo,'DejaVu Sans Mono',consolas,'Courier New',monospace;margin:0px\"><span style=\"font-weight: bold; text-decoration: underline\">C70796 </span><span style=\"color: #008000; text-decoration-color: #008000; font-weight: bold; text-decoration: underline\">\"z0483a_z0764a_7\"</span> <span style=\"color: #800080; text-decoration-color: #800080; font-style: italic\">None</span>\n",
       "</pre>\n"
      ],
      "text/plain": [
       "\u001b[1;4mC70796 \u001b[0m\u001b[1;4;32m\"z0483a_z0764a_7\"\u001b[0m \u001b[3;35mNone\u001b[0m\n"
      ]
     },
     "metadata": {},
     "output_type": "display_data"
    },
    {
     "data": {
      "text/html": [
       "<pre style=\"white-space:pre;overflow-x:auto;line-height:normal;font-family:Menlo,'DejaVu Sans Mono',consolas,'Courier New',monospace;margin:0px\"><span style=\"font-weight: bold; text-decoration: underline\">C70797 </span><span style=\"color: #008000; text-decoration-color: #008000; font-weight: bold; text-decoration: underline\">\"z0483a_z0764a_8\"</span> <span style=\"color: #800080; text-decoration-color: #800080; font-style: italic\">None</span>\n",
       "</pre>\n"
      ],
      "text/plain": [
       "\u001b[1;4mC70797 \u001b[0m\u001b[1;4;32m\"z0483a_z0764a_8\"\u001b[0m \u001b[3;35mNone\u001b[0m\n"
      ]
     },
     "metadata": {},
     "output_type": "display_data"
    },
    {
     "data": {
      "text/html": [
       "<pre style=\"white-space:pre;overflow-x:auto;line-height:normal;font-family:Menlo,'DejaVu Sans Mono',consolas,'Courier New',monospace;margin:0px\"><span style=\"font-weight: bold; text-decoration: underline\">C70798 </span><span style=\"color: #008000; text-decoration-color: #008000; font-weight: bold; text-decoration: underline\">\"z0483a_z0764a_9\"</span> <span style=\"color: #800080; text-decoration-color: #800080; font-style: italic\">None</span>\n",
       "</pre>\n"
      ],
      "text/plain": [
       "\u001b[1;4mC70798 \u001b[0m\u001b[1;4;32m\"z0483a_z0764a_9\"\u001b[0m \u001b[3;35mNone\u001b[0m\n"
      ]
     },
     "metadata": {},
     "output_type": "display_data"
    },
    {
     "data": {
      "text/html": [
       "<pre style=\"white-space:pre;overflow-x:auto;line-height:normal;font-family:Menlo,'DejaVu Sans Mono',consolas,'Courier New',monospace;margin:0px\"><span style=\"font-weight: bold; text-decoration: underline\">C70799 </span><span style=\"color: #008000; text-decoration-color: #008000; font-weight: bold; text-decoration: underline\">\"z0483a_z0936a_1\"</span> <span style=\"color: #800080; text-decoration-color: #800080; font-style: italic\">None</span>\n",
       "</pre>\n"
      ],
      "text/plain": [
       "\u001b[1;4mC70799 \u001b[0m\u001b[1;4;32m\"z0483a_z0936a_1\"\u001b[0m \u001b[3;35mNone\u001b[0m\n"
      ]
     },
     "metadata": {},
     "output_type": "display_data"
    },
    {
     "data": {
      "text/html": [
       "<pre style=\"white-space:pre;overflow-x:auto;line-height:normal;font-family:Menlo,'DejaVu Sans Mono',consolas,'Courier New',monospace;margin:0px\"><span style=\"font-weight: bold; text-decoration: underline\">C70800 </span><span style=\"color: #008000; text-decoration-color: #008000; font-weight: bold; text-decoration: underline\">\"z0483a_z0936a_2\"</span> <span style=\"color: #800080; text-decoration-color: #800080; font-style: italic\">None</span>\n",
       "</pre>\n"
      ],
      "text/plain": [
       "\u001b[1;4mC70800 \u001b[0m\u001b[1;4;32m\"z0483a_z0936a_2\"\u001b[0m \u001b[3;35mNone\u001b[0m\n"
      ]
     },
     "metadata": {},
     "output_type": "display_data"
    },
    {
     "data": {
      "text/html": [
       "<pre style=\"white-space:pre;overflow-x:auto;line-height:normal;font-family:Menlo,'DejaVu Sans Mono',consolas,'Courier New',monospace;margin:0px\"><span style=\"font-weight: bold; text-decoration: underline\">C70801 </span><span style=\"color: #008000; text-decoration-color: #008000; font-weight: bold; text-decoration: underline\">\"z0483a_z0936a_3\"</span> <span style=\"color: #800080; text-decoration-color: #800080; font-style: italic\">None</span>\n",
       "</pre>\n"
      ],
      "text/plain": [
       "\u001b[1;4mC70801 \u001b[0m\u001b[1;4;32m\"z0483a_z0936a_3\"\u001b[0m \u001b[3;35mNone\u001b[0m\n"
      ]
     },
     "metadata": {},
     "output_type": "display_data"
    },
    {
     "data": {
      "text/html": [
       "<pre style=\"white-space:pre;overflow-x:auto;line-height:normal;font-family:Menlo,'DejaVu Sans Mono',consolas,'Courier New',monospace;margin:0px\"><span style=\"font-weight: bold; text-decoration: underline\">C70802 </span><span style=\"color: #008000; text-decoration-color: #008000; font-weight: bold; text-decoration: underline\">\"z0483a_z0936a_4\"</span> <span style=\"color: #800080; text-decoration-color: #800080; font-style: italic\">None</span>\n",
       "</pre>\n"
      ],
      "text/plain": [
       "\u001b[1;4mC70802 \u001b[0m\u001b[1;4;32m\"z0483a_z0936a_4\"\u001b[0m \u001b[3;35mNone\u001b[0m\n"
      ]
     },
     "metadata": {},
     "output_type": "display_data"
    },
    {
     "data": {
      "text/html": [
       "<pre style=\"white-space:pre;overflow-x:auto;line-height:normal;font-family:Menlo,'DejaVu Sans Mono',consolas,'Courier New',monospace;margin:0px\"><span style=\"font-weight: bold; text-decoration: underline\">C70803 </span><span style=\"color: #008000; text-decoration-color: #008000; font-weight: bold; text-decoration: underline\">\"z0496a_z0936a_1\"</span> <span style=\"color: #800080; text-decoration-color: #800080; font-style: italic\">None</span>\n",
       "</pre>\n"
      ],
      "text/plain": [
       "\u001b[1;4mC70803 \u001b[0m\u001b[1;4;32m\"z0496a_z0936a_1\"\u001b[0m \u001b[3;35mNone\u001b[0m\n"
      ]
     },
     "metadata": {},
     "output_type": "display_data"
    },
    {
     "data": {
      "text/html": [
       "<pre style=\"white-space:pre;overflow-x:auto;line-height:normal;font-family:Menlo,'DejaVu Sans Mono',consolas,'Courier New',monospace;margin:0px\"><span style=\"font-weight: bold; text-decoration: underline\">C70804 </span><span style=\"color: #008000; text-decoration-color: #008000; font-weight: bold; text-decoration: underline\">\"z0519a_z0936a_1\"</span> <span style=\"color: #800080; text-decoration-color: #800080; font-style: italic\">None</span>\n",
       "</pre>\n"
      ],
      "text/plain": [
       "\u001b[1;4mC70804 \u001b[0m\u001b[1;4;32m\"z0519a_z0936a_1\"\u001b[0m \u001b[3;35mNone\u001b[0m\n"
      ]
     },
     "metadata": {},
     "output_type": "display_data"
    },
    {
     "data": {
      "text/html": [
       "<pre style=\"white-space:pre;overflow-x:auto;line-height:normal;font-family:Menlo,'DejaVu Sans Mono',consolas,'Courier New',monospace;margin:0px\"><span style=\"font-weight: bold; text-decoration: underline\">C70805 </span><span style=\"color: #008000; text-decoration-color: #008000; font-weight: bold; text-decoration: underline\">\"z0519a_z0936a_2\"</span> <span style=\"color: #800080; text-decoration-color: #800080; font-style: italic\">None</span>\n",
       "</pre>\n"
      ],
      "text/plain": [
       "\u001b[1;4mC70805 \u001b[0m\u001b[1;4;32m\"z0519a_z0936a_2\"\u001b[0m \u001b[3;35mNone\u001b[0m\n"
      ]
     },
     "metadata": {},
     "output_type": "display_data"
    },
    {
     "data": {
      "text/html": [
       "<pre style=\"white-space:pre;overflow-x:auto;line-height:normal;font-family:Menlo,'DejaVu Sans Mono',consolas,'Courier New',monospace;margin:0px\"><span style=\"font-weight: bold; text-decoration: underline\">C70806 </span><span style=\"color: #008000; text-decoration-color: #008000; font-weight: bold; text-decoration: underline\">\"z0519a_z0936a_3\"</span> <span style=\"color: #800080; text-decoration-color: #800080; font-style: italic\">None</span>\n",
       "</pre>\n"
      ],
      "text/plain": [
       "\u001b[1;4mC70806 \u001b[0m\u001b[1;4;32m\"z0519a_z0936a_3\"\u001b[0m \u001b[3;35mNone\u001b[0m\n"
      ]
     },
     "metadata": {},
     "output_type": "display_data"
    },
    {
     "data": {
      "text/html": [
       "<pre style=\"white-space:pre;overflow-x:auto;line-height:normal;font-family:Menlo,'DejaVu Sans Mono',consolas,'Courier New',monospace;margin:0px\"><span style=\"font-weight: bold; text-decoration: underline\">C70807 </span><span style=\"color: #008000; text-decoration-color: #008000; font-weight: bold; text-decoration: underline\">\"z0900b_z0936a_1\"</span> <span style=\"color: #800080; text-decoration-color: #800080; font-style: italic\">None</span>\n",
       "</pre>\n"
      ],
      "text/plain": [
       "\u001b[1;4mC70807 \u001b[0m\u001b[1;4;32m\"z0900b_z0936a_1\"\u001b[0m \u001b[3;35mNone\u001b[0m\n"
      ]
     },
     "metadata": {},
     "output_type": "display_data"
    },
    {
     "data": {
      "text/html": [
       "<pre style=\"white-space:pre;overflow-x:auto;line-height:normal;font-family:Menlo,'DejaVu Sans Mono',consolas,'Courier New',monospace;margin:0px\"><span style=\"font-weight: bold; text-decoration: underline\">C70808 </span><span style=\"color: #008000; text-decoration-color: #008000; font-weight: bold; text-decoration: underline\">\"z0900b_z0936a_2\"</span> <span style=\"color: #800080; text-decoration-color: #800080; font-style: italic\">None</span>\n",
       "</pre>\n"
      ],
      "text/plain": [
       "\u001b[1;4mC70808 \u001b[0m\u001b[1;4;32m\"z0900b_z0936a_2\"\u001b[0m \u001b[3;35mNone\u001b[0m\n"
      ]
     },
     "metadata": {},
     "output_type": "display_data"
    },
    {
     "data": {
      "text/html": [
       "<pre style=\"white-space:pre;overflow-x:auto;line-height:normal;font-family:Menlo,'DejaVu Sans Mono',consolas,'Courier New',monospace;margin:0px\"><span style=\"font-weight: bold; text-decoration: underline\">C70809 </span><span style=\"color: #008000; text-decoration-color: #008000; font-weight: bold; text-decoration: underline\">\"z0900b_z0936a_3\"</span> <span style=\"color: #800080; text-decoration-color: #800080; font-style: italic\">None</span>\n",
       "</pre>\n"
      ],
      "text/plain": [
       "\u001b[1;4mC70809 \u001b[0m\u001b[1;4;32m\"z0900b_z0936a_3\"\u001b[0m \u001b[3;35mNone\u001b[0m\n"
      ]
     },
     "metadata": {},
     "output_type": "display_data"
    },
    {
     "data": {
      "text/html": [
       "<pre style=\"white-space:pre;overflow-x:auto;line-height:normal;font-family:Menlo,'DejaVu Sans Mono',consolas,'Courier New',monospace;margin:0px\"><span style=\"font-weight: bold; text-decoration: underline\">C70810 </span><span style=\"color: #008000; text-decoration-color: #008000; font-weight: bold; text-decoration: underline\">\"z0900b_z0936a_4\"</span> <span style=\"color: #800080; text-decoration-color: #800080; font-style: italic\">None</span>\n",
       "</pre>\n"
      ],
      "text/plain": [
       "\u001b[1;4mC70810 \u001b[0m\u001b[1;4;32m\"z0900b_z0936a_4\"\u001b[0m \u001b[3;35mNone\u001b[0m\n"
      ]
     },
     "metadata": {},
     "output_type": "display_data"
    },
    {
     "data": {
      "text/html": [
       "<pre style=\"white-space:pre;overflow-x:auto;line-height:normal;font-family:Menlo,'DejaVu Sans Mono',consolas,'Courier New',monospace;margin:0px\"><span style=\"font-weight: bold; text-decoration: underline\">C70811 </span><span style=\"color: #008000; text-decoration-color: #008000; font-weight: bold; text-decoration: underline\">\"DF-RdRp-NP001\"</span> <span style=\"color: #800080; text-decoration-color: #800080; font-style: italic\">None</span>\n",
       "</pre>\n"
      ],
      "text/plain": [
       "\u001b[1;4mC70811 \u001b[0m\u001b[1;4;32m\"DF-RdRp-NP001\"\u001b[0m \u001b[3;35mNone\u001b[0m\n"
      ]
     },
     "metadata": {},
     "output_type": "display_data"
    },
    {
     "data": {
      "text/html": [
       "<pre style=\"white-space:pre;overflow-x:auto;line-height:normal;font-family:Menlo,'DejaVu Sans Mono',consolas,'Courier New',monospace;margin:0px\"><span style=\"font-weight: bold; text-decoration: underline\">C70812 </span><span style=\"color: #008000; text-decoration-color: #008000; font-weight: bold; text-decoration: underline\">\"DF-RdRp-NP002\"</span> <span style=\"color: #800080; text-decoration-color: #800080; font-style: italic\">None</span>\n",
       "</pre>\n"
      ],
      "text/plain": [
       "\u001b[1;4mC70812 \u001b[0m\u001b[1;4;32m\"DF-RdRp-NP002\"\u001b[0m \u001b[3;35mNone\u001b[0m\n"
      ]
     },
     "metadata": {},
     "output_type": "display_data"
    },
    {
     "data": {
      "text/html": [
       "<pre style=\"white-space:pre;overflow-x:auto;line-height:normal;font-family:Menlo,'DejaVu Sans Mono',consolas,'Courier New',monospace;margin:0px\"><span style=\"font-weight: bold; text-decoration: underline\">C70813 </span><span style=\"color: #008000; text-decoration-color: #008000; font-weight: bold; text-decoration: underline\">\"DF-RdRp-NP003\"</span> <span style=\"color: #800080; text-decoration-color: #800080; font-style: italic\">None</span>\n",
       "</pre>\n"
      ],
      "text/plain": [
       "\u001b[1;4mC70813 \u001b[0m\u001b[1;4;32m\"DF-RdRp-NP003\"\u001b[0m \u001b[3;35mNone\u001b[0m\n"
      ]
     },
     "metadata": {},
     "output_type": "display_data"
    },
    {
     "data": {
      "text/html": [
       "<pre style=\"white-space:pre;overflow-x:auto;line-height:normal;font-family:Menlo,'DejaVu Sans Mono',consolas,'Courier New',monospace;margin:0px\"><span style=\"font-weight: bold; text-decoration: underline\">C70814 </span><span style=\"color: #008000; text-decoration-color: #008000; font-weight: bold; text-decoration: underline\">\"DF-RdRp-NP004\"</span> <span style=\"color: #800080; text-decoration-color: #800080; font-style: italic\">None</span>\n",
       "</pre>\n"
      ],
      "text/plain": [
       "\u001b[1;4mC70814 \u001b[0m\u001b[1;4;32m\"DF-RdRp-NP004\"\u001b[0m \u001b[3;35mNone\u001b[0m\n"
      ]
     },
     "metadata": {},
     "output_type": "display_data"
    },
    {
     "data": {
      "text/html": [
       "<pre style=\"white-space:pre;overflow-x:auto;line-height:normal;font-family:Menlo,'DejaVu Sans Mono',consolas,'Courier New',monospace;margin:0px\"><span style=\"font-weight: bold; text-decoration: underline\">C70815 </span><span style=\"color: #008000; text-decoration-color: #008000; font-weight: bold; text-decoration: underline\">\"DF-RdRp-NP005\"</span> <span style=\"color: #800080; text-decoration-color: #800080; font-style: italic\">None</span>\n",
       "</pre>\n"
      ],
      "text/plain": [
       "\u001b[1;4mC70815 \u001b[0m\u001b[1;4;32m\"DF-RdRp-NP005\"\u001b[0m \u001b[3;35mNone\u001b[0m\n"
      ]
     },
     "metadata": {},
     "output_type": "display_data"
    },
    {
     "data": {
      "text/html": [
       "<pre style=\"white-space:pre;overflow-x:auto;line-height:normal;font-family:Menlo,'DejaVu Sans Mono',consolas,'Courier New',monospace;margin:0px\"><span style=\"font-weight: bold; text-decoration: underline\">C70816 </span><span style=\"color: #008000; text-decoration-color: #008000; font-weight: bold; text-decoration: underline\">\"DF-RdRp-NP006\"</span> <span style=\"color: #800080; text-decoration-color: #800080; font-style: italic\">None</span>\n",
       "</pre>\n"
      ],
      "text/plain": [
       "\u001b[1;4mC70816 \u001b[0m\u001b[1;4;32m\"DF-RdRp-NP006\"\u001b[0m \u001b[3;35mNone\u001b[0m\n"
      ]
     },
     "metadata": {},
     "output_type": "display_data"
    },
    {
     "data": {
      "text/html": [
       "<pre style=\"white-space:pre;overflow-x:auto;line-height:normal;font-family:Menlo,'DejaVu Sans Mono',consolas,'Courier New',monospace;margin:0px\"><span style=\"font-weight: bold; text-decoration: underline\">C70817 </span><span style=\"color: #008000; text-decoration-color: #008000; font-weight: bold; text-decoration: underline\">\"DF-RdRp-NP007\"</span> <span style=\"color: #800080; text-decoration-color: #800080; font-style: italic\">None</span>\n",
       "</pre>\n"
      ],
      "text/plain": [
       "\u001b[1;4mC70817 \u001b[0m\u001b[1;4;32m\"DF-RdRp-NP007\"\u001b[0m \u001b[3;35mNone\u001b[0m\n"
      ]
     },
     "metadata": {},
     "output_type": "display_data"
    },
    {
     "data": {
      "text/html": [
       "<pre style=\"white-space:pre;overflow-x:auto;line-height:normal;font-family:Menlo,'DejaVu Sans Mono',consolas,'Courier New',monospace;margin:0px\"><span style=\"font-weight: bold; text-decoration: underline\">C70818 </span><span style=\"color: #008000; text-decoration-color: #008000; font-weight: bold; text-decoration: underline\">\"DF-RdRp-NP008\"</span> <span style=\"color: #800080; text-decoration-color: #800080; font-style: italic\">None</span>\n",
       "</pre>\n"
      ],
      "text/plain": [
       "\u001b[1;4mC70818 \u001b[0m\u001b[1;4;32m\"DF-RdRp-NP008\"\u001b[0m \u001b[3;35mNone\u001b[0m\n"
      ]
     },
     "metadata": {},
     "output_type": "display_data"
    },
    {
     "data": {
      "text/html": [
       "<pre style=\"white-space:pre;overflow-x:auto;line-height:normal;font-family:Menlo,'DejaVu Sans Mono',consolas,'Courier New',monospace;margin:0px\"><span style=\"font-weight: bold; text-decoration: underline\">C70819 </span><span style=\"color: #008000; text-decoration-color: #008000; font-weight: bold; text-decoration: underline\">\"DF-RdRp-NP009\"</span> <span style=\"color: #800080; text-decoration-color: #800080; font-style: italic\">None</span>\n",
       "</pre>\n"
      ],
      "text/plain": [
       "\u001b[1;4mC70819 \u001b[0m\u001b[1;4;32m\"DF-RdRp-NP009\"\u001b[0m \u001b[3;35mNone\u001b[0m\n"
      ]
     },
     "metadata": {},
     "output_type": "display_data"
    },
    {
     "data": {
      "text/html": [
       "<pre style=\"white-space:pre;overflow-x:auto;line-height:normal;font-family:Menlo,'DejaVu Sans Mono',consolas,'Courier New',monospace;margin:0px\"><span style=\"font-weight: bold; text-decoration: underline\">C70820 </span><span style=\"color: #008000; text-decoration-color: #008000; font-weight: bold; text-decoration: underline\">\"DF-RdRp-NP010\"</span> <span style=\"color: #800080; text-decoration-color: #800080; font-style: italic\">None</span>\n",
       "</pre>\n"
      ],
      "text/plain": [
       "\u001b[1;4mC70820 \u001b[0m\u001b[1;4;32m\"DF-RdRp-NP010\"\u001b[0m \u001b[3;35mNone\u001b[0m\n"
      ]
     },
     "metadata": {},
     "output_type": "display_data"
    },
    {
     "data": {
      "text/html": [
       "<pre style=\"white-space:pre;overflow-x:auto;line-height:normal;font-family:Menlo,'DejaVu Sans Mono',consolas,'Courier New',monospace;margin:0px\"><span style=\"font-weight: bold; text-decoration: underline\">C70821 </span><span style=\"color: #008000; text-decoration-color: #008000; font-weight: bold; text-decoration: underline\">\"DF-RdRp-NP011\"</span> <span style=\"color: #800080; text-decoration-color: #800080; font-style: italic\">None</span>\n",
       "</pre>\n"
      ],
      "text/plain": [
       "\u001b[1;4mC70821 \u001b[0m\u001b[1;4;32m\"DF-RdRp-NP011\"\u001b[0m \u001b[3;35mNone\u001b[0m\n"
      ]
     },
     "metadata": {},
     "output_type": "display_data"
    },
    {
     "data": {
      "text/html": [
       "<pre style=\"white-space:pre;overflow-x:auto;line-height:normal;font-family:Menlo,'DejaVu Sans Mono',consolas,'Courier New',monospace;margin:0px\"><span style=\"font-weight: bold; text-decoration: underline\">C70822 </span><span style=\"color: #008000; text-decoration-color: #008000; font-weight: bold; text-decoration: underline\">\"DF-RdRp-NP012\"</span> <span style=\"color: #800080; text-decoration-color: #800080; font-style: italic\">None</span>\n",
       "</pre>\n"
      ],
      "text/plain": [
       "\u001b[1;4mC70822 \u001b[0m\u001b[1;4;32m\"DF-RdRp-NP012\"\u001b[0m \u001b[3;35mNone\u001b[0m\n"
      ]
     },
     "metadata": {},
     "output_type": "display_data"
    },
    {
     "data": {
      "text/html": [
       "<pre style=\"white-space:pre;overflow-x:auto;line-height:normal;font-family:Menlo,'DejaVu Sans Mono',consolas,'Courier New',monospace;margin:0px\"><span style=\"font-weight: bold; text-decoration: underline\">C70823 </span><span style=\"color: #008000; text-decoration-color: #008000; font-weight: bold; text-decoration: underline\">\"DF-RdRp-NP013\"</span> <span style=\"color: #800080; text-decoration-color: #800080; font-style: italic\">None</span>\n",
       "</pre>\n"
      ],
      "text/plain": [
       "\u001b[1;4mC70823 \u001b[0m\u001b[1;4;32m\"DF-RdRp-NP013\"\u001b[0m \u001b[3;35mNone\u001b[0m\n"
      ]
     },
     "metadata": {},
     "output_type": "display_data"
    },
    {
     "data": {
      "text/html": [
       "<pre style=\"white-space:pre;overflow-x:auto;line-height:normal;font-family:Menlo,'DejaVu Sans Mono',consolas,'Courier New',monospace;margin:0px\"><span style=\"font-weight: bold; text-decoration: underline\">C70824 </span><span style=\"color: #008000; text-decoration-color: #008000; font-weight: bold; text-decoration: underline\">\"DF-RdRp-NP014\"</span> <span style=\"color: #800080; text-decoration-color: #800080; font-style: italic\">None</span>\n",
       "</pre>\n"
      ],
      "text/plain": [
       "\u001b[1;4mC70824 \u001b[0m\u001b[1;4;32m\"DF-RdRp-NP014\"\u001b[0m \u001b[3;35mNone\u001b[0m\n"
      ]
     },
     "metadata": {},
     "output_type": "display_data"
    },
    {
     "data": {
      "text/html": [
       "<pre style=\"white-space:pre;overflow-x:auto;line-height:normal;font-family:Menlo,'DejaVu Sans Mono',consolas,'Courier New',monospace;margin:0px\"><span style=\"font-weight: bold; text-decoration: underline\">C70825 </span><span style=\"color: #008000; text-decoration-color: #008000; font-weight: bold; text-decoration: underline\">\"DF-RdRp-NP015\"</span> <span style=\"color: #800080; text-decoration-color: #800080; font-style: italic\">None</span>\n",
       "</pre>\n"
      ],
      "text/plain": [
       "\u001b[1;4mC70825 \u001b[0m\u001b[1;4;32m\"DF-RdRp-NP015\"\u001b[0m \u001b[3;35mNone\u001b[0m\n"
      ]
     },
     "metadata": {},
     "output_type": "display_data"
    },
    {
     "data": {
      "text/html": [
       "<pre style=\"white-space:pre;overflow-x:auto;line-height:normal;font-family:Menlo,'DejaVu Sans Mono',consolas,'Courier New',monospace;margin:0px\"><span style=\"font-weight: bold; text-decoration: underline\">C70826 </span><span style=\"color: #008000; text-decoration-color: #008000; font-weight: bold; text-decoration: underline\">\"DF-RdRp-NP016\"</span> <span style=\"color: #800080; text-decoration-color: #800080; font-style: italic\">None</span>\n",
       "</pre>\n"
      ],
      "text/plain": [
       "\u001b[1;4mC70826 \u001b[0m\u001b[1;4;32m\"DF-RdRp-NP016\"\u001b[0m \u001b[3;35mNone\u001b[0m\n"
      ]
     },
     "metadata": {},
     "output_type": "display_data"
    },
    {
     "data": {
      "text/html": [
       "<pre style=\"white-space:pre;overflow-x:auto;line-height:normal;font-family:Menlo,'DejaVu Sans Mono',consolas,'Courier New',monospace;margin:0px\"><span style=\"font-weight: bold; text-decoration: underline\">C70827 </span><span style=\"color: #008000; text-decoration-color: #008000; font-weight: bold; text-decoration: underline\">\"DF-RdRp-NP017\"</span> <span style=\"color: #800080; text-decoration-color: #800080; font-style: italic\">None</span>\n",
       "</pre>\n"
      ],
      "text/plain": [
       "\u001b[1;4mC70827 \u001b[0m\u001b[1;4;32m\"DF-RdRp-NP017\"\u001b[0m \u001b[3;35mNone\u001b[0m\n"
      ]
     },
     "metadata": {},
     "output_type": "display_data"
    },
    {
     "data": {
      "text/html": [
       "<pre style=\"white-space:pre;overflow-x:auto;line-height:normal;font-family:Menlo,'DejaVu Sans Mono',consolas,'Courier New',monospace;margin:0px\"><span style=\"font-weight: bold; text-decoration: underline\">C70828 </span><span style=\"color: #008000; text-decoration-color: #008000; font-weight: bold; text-decoration: underline\">\"DF-RdRp-NP018\"</span> <span style=\"color: #800080; text-decoration-color: #800080; font-style: italic\">None</span>\n",
       "</pre>\n"
      ],
      "text/plain": [
       "\u001b[1;4mC70828 \u001b[0m\u001b[1;4;32m\"DF-RdRp-NP018\"\u001b[0m \u001b[3;35mNone\u001b[0m\n"
      ]
     },
     "metadata": {},
     "output_type": "display_data"
    },
    {
     "data": {
      "text/html": [
       "<pre style=\"white-space:pre;overflow-x:auto;line-height:normal;font-family:Menlo,'DejaVu Sans Mono',consolas,'Courier New',monospace;margin:0px\"><span style=\"font-weight: bold; text-decoration: underline\">C70829 </span><span style=\"color: #008000; text-decoration-color: #008000; font-weight: bold; text-decoration: underline\">\"DF-RdRp-NP019\"</span> <span style=\"color: #800080; text-decoration-color: #800080; font-style: italic\">None</span>\n",
       "</pre>\n"
      ],
      "text/plain": [
       "\u001b[1;4mC70829 \u001b[0m\u001b[1;4;32m\"DF-RdRp-NP019\"\u001b[0m \u001b[3;35mNone\u001b[0m\n"
      ]
     },
     "metadata": {},
     "output_type": "display_data"
    },
    {
     "data": {
      "text/html": [
       "<pre style=\"white-space:pre;overflow-x:auto;line-height:normal;font-family:Menlo,'DejaVu Sans Mono',consolas,'Courier New',monospace;margin:0px\"><span style=\"font-weight: bold; text-decoration: underline\">C70830 </span><span style=\"color: #008000; text-decoration-color: #008000; font-weight: bold; text-decoration: underline\">\"DF-RdRp-NP020\"</span> <span style=\"color: #800080; text-decoration-color: #800080; font-style: italic\">None</span>\n",
       "</pre>\n"
      ],
      "text/plain": [
       "\u001b[1;4mC70830 \u001b[0m\u001b[1;4;32m\"DF-RdRp-NP020\"\u001b[0m \u001b[3;35mNone\u001b[0m\n"
      ]
     },
     "metadata": {},
     "output_type": "display_data"
    },
    {
     "data": {
      "text/html": [
       "<pre style=\"white-space:pre;overflow-x:auto;line-height:normal;font-family:Menlo,'DejaVu Sans Mono',consolas,'Courier New',monospace;margin:0px\"><span style=\"font-weight: bold; text-decoration: underline\">C70831 </span><span style=\"color: #008000; text-decoration-color: #008000; font-weight: bold; text-decoration: underline\">\"DF-RdRp-NP021\"</span> <span style=\"color: #800080; text-decoration-color: #800080; font-style: italic\">None</span>\n",
       "</pre>\n"
      ],
      "text/plain": [
       "\u001b[1;4mC70831 \u001b[0m\u001b[1;4;32m\"DF-RdRp-NP021\"\u001b[0m \u001b[3;35mNone\u001b[0m\n"
      ]
     },
     "metadata": {},
     "output_type": "display_data"
    },
    {
     "data": {
      "text/html": [
       "<pre style=\"white-space:pre;overflow-x:auto;line-height:normal;font-family:Menlo,'DejaVu Sans Mono',consolas,'Courier New',monospace;margin:0px\"><span style=\"font-weight: bold; text-decoration: underline\">C70832 </span><span style=\"color: #008000; text-decoration-color: #008000; font-weight: bold; text-decoration: underline\">\"DF-RdRp-NP023\"</span> <span style=\"font-weight: bold; text-decoration: underline\">elaborations of C70832: {C × </span><span style=\"color: #008080; text-decoration-color: #008080; font-weight: bold; text-decoration: underline\">2463</span><span style=\"font-weight: bold; text-decoration: underline\">}</span>\n",
       "</pre>\n"
      ],
      "text/plain": [
       "\u001b[1;4mC70832 \u001b[0m\u001b[1;4;32m\"DF-RdRp-NP023\"\u001b[0m \u001b[1;4melaborations of C70832: \u001b[0m\u001b[1;4m{\u001b[0m\u001b[1;4mC × \u001b[0m\u001b[1;4;36m2463\u001b[0m\u001b[1;4m}\u001b[0m\n"
      ]
     },
     "metadata": {},
     "output_type": "display_data"
    },
    {
     "data": {
      "text/html": [
       "<pre style=\"white-space:pre;overflow-x:auto;line-height:normal;font-family:Menlo,'DejaVu Sans Mono',consolas,'Courier New',monospace;margin:0px\"><span style=\"font-weight: bold; text-decoration: underline\">C70833 </span><span style=\"color: #008000; text-decoration-color: #008000; font-weight: bold; text-decoration: underline\">\"DF-RdRp-NP025\"</span> <span style=\"color: #800080; text-decoration-color: #800080; font-style: italic\">None</span>\n",
       "</pre>\n"
      ],
      "text/plain": [
       "\u001b[1;4mC70833 \u001b[0m\u001b[1;4;32m\"DF-RdRp-NP025\"\u001b[0m \u001b[3;35mNone\u001b[0m\n"
      ]
     },
     "metadata": {},
     "output_type": "display_data"
    },
    {
     "data": {
      "text/html": [
       "<pre style=\"white-space:pre;overflow-x:auto;line-height:normal;font-family:Menlo,'DejaVu Sans Mono',consolas,'Courier New',monospace;margin:0px\"><span style=\"font-weight: bold; text-decoration: underline\">C70834 </span><span style=\"color: #008000; text-decoration-color: #008000; font-weight: bold; text-decoration: underline\">\"DF-RdRp-NP026\"</span> <span style=\"color: #800080; text-decoration-color: #800080; font-style: italic\">None</span>\n",
       "</pre>\n"
      ],
      "text/plain": [
       "\u001b[1;4mC70834 \u001b[0m\u001b[1;4;32m\"DF-RdRp-NP026\"\u001b[0m \u001b[3;35mNone\u001b[0m\n"
      ]
     },
     "metadata": {},
     "output_type": "display_data"
    },
    {
     "data": {
      "text/html": [
       "<pre style=\"white-space:pre;overflow-x:auto;line-height:normal;font-family:Menlo,'DejaVu Sans Mono',consolas,'Courier New',monospace;margin:0px\"><span style=\"font-weight: bold; text-decoration: underline\">C70835 </span><span style=\"color: #008000; text-decoration-color: #008000; font-weight: bold; text-decoration: underline\">\"DF-RdRp-NP027\"</span> <span style=\"color: #800080; text-decoration-color: #800080; font-style: italic\">None</span>\n",
       "</pre>\n"
      ],
      "text/plain": [
       "\u001b[1;4mC70835 \u001b[0m\u001b[1;4;32m\"DF-RdRp-NP027\"\u001b[0m \u001b[3;35mNone\u001b[0m\n"
      ]
     },
     "metadata": {},
     "output_type": "display_data"
    },
    {
     "data": {
      "text/html": [
       "<pre style=\"white-space:pre;overflow-x:auto;line-height:normal;font-family:Menlo,'DejaVu Sans Mono',consolas,'Courier New',monospace;margin:0px\"><span style=\"font-weight: bold; text-decoration: underline\">C70836 </span><span style=\"color: #008000; text-decoration-color: #008000; font-weight: bold; text-decoration: underline\">\"DF-RdRp-NP028\"</span> <span style=\"color: #800080; text-decoration-color: #800080; font-style: italic\">None</span>\n",
       "</pre>\n"
      ],
      "text/plain": [
       "\u001b[1;4mC70836 \u001b[0m\u001b[1;4;32m\"DF-RdRp-NP028\"\u001b[0m \u001b[3;35mNone\u001b[0m\n"
      ]
     },
     "metadata": {},
     "output_type": "display_data"
    },
    {
     "data": {
      "text/html": [
       "<pre style=\"white-space:pre;overflow-x:auto;line-height:normal;font-family:Menlo,'DejaVu Sans Mono',consolas,'Courier New',monospace;margin:0px\"><span style=\"font-weight: bold; text-decoration: underline\">C70837 </span><span style=\"color: #008000; text-decoration-color: #008000; font-weight: bold; text-decoration: underline\">\"DF-RdRp-NP031\"</span> <span style=\"font-weight: bold; text-decoration: underline\">elaborations of C70837: {C × </span><span style=\"color: #008080; text-decoration-color: #008080; font-weight: bold; text-decoration: underline\">4984</span><span style=\"font-weight: bold; text-decoration: underline\">}</span>\n",
       "</pre>\n"
      ],
      "text/plain": [
       "\u001b[1;4mC70837 \u001b[0m\u001b[1;4;32m\"DF-RdRp-NP031\"\u001b[0m \u001b[1;4melaborations of C70837: \u001b[0m\u001b[1;4m{\u001b[0m\u001b[1;4mC × \u001b[0m\u001b[1;4;36m4984\u001b[0m\u001b[1;4m}\u001b[0m\n"
      ]
     },
     "metadata": {},
     "output_type": "display_data"
    },
    {
     "data": {
      "text/html": [
       "<pre style=\"white-space:pre;overflow-x:auto;line-height:normal;font-family:Menlo,'DejaVu Sans Mono',consolas,'Courier New',monospace;margin:0px\"><span style=\"font-weight: bold; text-decoration: underline\">C70838 </span><span style=\"color: #008000; text-decoration-color: #008000; font-weight: bold; text-decoration: underline\">\"DF-RdRp-NP032\"</span> <span style=\"color: #800080; text-decoration-color: #800080; font-style: italic\">None</span>\n",
       "</pre>\n"
      ],
      "text/plain": [
       "\u001b[1;4mC70838 \u001b[0m\u001b[1;4;32m\"DF-RdRp-NP032\"\u001b[0m \u001b[3;35mNone\u001b[0m\n"
      ]
     },
     "metadata": {},
     "output_type": "display_data"
    },
    {
     "data": {
      "text/html": [
       "<pre style=\"white-space:pre;overflow-x:auto;line-height:normal;font-family:Menlo,'DejaVu Sans Mono',consolas,'Courier New',monospace;margin:0px\"><span style=\"font-weight: bold; text-decoration: underline\">C70839 </span><span style=\"color: #008000; text-decoration-color: #008000; font-weight: bold; text-decoration: underline\">\"DF-RdRp-NP033\"</span> <span style=\"color: #800080; text-decoration-color: #800080; font-style: italic\">None</span>\n",
       "</pre>\n"
      ],
      "text/plain": [
       "\u001b[1;4mC70839 \u001b[0m\u001b[1;4;32m\"DF-RdRp-NP033\"\u001b[0m \u001b[3;35mNone\u001b[0m\n"
      ]
     },
     "metadata": {},
     "output_type": "display_data"
    },
    {
     "data": {
      "text/html": [
       "<pre style=\"white-space:pre;overflow-x:auto;line-height:normal;font-family:Menlo,'DejaVu Sans Mono',consolas,'Courier New',monospace;margin:0px\"><span style=\"font-weight: bold; text-decoration: underline\">C70840 </span><span style=\"color: #008000; text-decoration-color: #008000; font-weight: bold; text-decoration: underline\">\"DF-RdRp-NP034\"</span> <span style=\"color: #800080; text-decoration-color: #800080; font-style: italic\">None</span>\n",
       "</pre>\n"
      ],
      "text/plain": [
       "\u001b[1;4mC70840 \u001b[0m\u001b[1;4;32m\"DF-RdRp-NP034\"\u001b[0m \u001b[3;35mNone\u001b[0m\n"
      ]
     },
     "metadata": {},
     "output_type": "display_data"
    },
    {
     "data": {
      "text/html": [
       "<pre style=\"white-space:pre;overflow-x:auto;line-height:normal;font-family:Menlo,'DejaVu Sans Mono',consolas,'Courier New',monospace;margin:0px\"><span style=\"font-weight: bold; text-decoration: underline\">C70841 </span><span style=\"color: #008000; text-decoration-color: #008000; font-weight: bold; text-decoration: underline\">\"DF-RdRp-NP035\"</span> <span style=\"color: #800080; text-decoration-color: #800080; font-style: italic\">None</span>\n",
       "</pre>\n"
      ],
      "text/plain": [
       "\u001b[1;4mC70841 \u001b[0m\u001b[1;4;32m\"DF-RdRp-NP035\"\u001b[0m \u001b[3;35mNone\u001b[0m\n"
      ]
     },
     "metadata": {},
     "output_type": "display_data"
    },
    {
     "data": {
      "text/html": [
       "<pre style=\"white-space:pre;overflow-x:auto;line-height:normal;font-family:Menlo,'DejaVu Sans Mono',consolas,'Courier New',monospace;margin:0px\"><span style=\"font-weight: bold; text-decoration: underline\">C70842 </span><span style=\"color: #008000; text-decoration-color: #008000; font-weight: bold; text-decoration: underline\">\"DF-RdRp-NP036\"</span> <span style=\"color: #800080; text-decoration-color: #800080; font-style: italic\">None</span>\n",
       "</pre>\n"
      ],
      "text/plain": [
       "\u001b[1;4mC70842 \u001b[0m\u001b[1;4;32m\"DF-RdRp-NP036\"\u001b[0m \u001b[3;35mNone\u001b[0m\n"
      ]
     },
     "metadata": {},
     "output_type": "display_data"
    },
    {
     "data": {
      "text/html": [
       "<pre style=\"white-space:pre;overflow-x:auto;line-height:normal;font-family:Menlo,'DejaVu Sans Mono',consolas,'Courier New',monospace;margin:0px\"><span style=\"font-weight: bold; text-decoration: underline\">C70843 </span><span style=\"color: #008000; text-decoration-color: #008000; font-weight: bold; text-decoration: underline\">\"DF-RdRp-NP037\"</span> <span style=\"font-weight: bold; text-decoration: underline\">elaborations of C70843: {C × </span><span style=\"color: #008080; text-decoration-color: #008080; font-weight: bold; text-decoration: underline\">6688</span><span style=\"font-weight: bold; text-decoration: underline\">}</span>\n",
       "</pre>\n"
      ],
      "text/plain": [
       "\u001b[1;4mC70843 \u001b[0m\u001b[1;4;32m\"DF-RdRp-NP037\"\u001b[0m \u001b[1;4melaborations of C70843: \u001b[0m\u001b[1;4m{\u001b[0m\u001b[1;4mC × \u001b[0m\u001b[1;4;36m6688\u001b[0m\u001b[1;4m}\u001b[0m\n"
      ]
     },
     "metadata": {},
     "output_type": "display_data"
    },
    {
     "data": {
      "text/html": [
       "<pre style=\"white-space:pre;overflow-x:auto;line-height:normal;font-family:Menlo,'DejaVu Sans Mono',consolas,'Courier New',monospace;margin:0px\"><span style=\"font-weight: bold; text-decoration: underline\">C70844 </span><span style=\"color: #008000; text-decoration-color: #008000; font-weight: bold; text-decoration: underline\">\"DF-RdRp-NP038\"</span> <span style=\"font-weight: bold; text-decoration: underline\">elaborations of C70844: {C × </span><span style=\"color: #008080; text-decoration-color: #008080; font-weight: bold; text-decoration: underline\">7699</span><span style=\"font-weight: bold; text-decoration: underline\">}</span>\n",
       "</pre>\n"
      ],
      "text/plain": [
       "\u001b[1;4mC70844 \u001b[0m\u001b[1;4;32m\"DF-RdRp-NP038\"\u001b[0m \u001b[1;4melaborations of C70844: \u001b[0m\u001b[1;4m{\u001b[0m\u001b[1;4mC × \u001b[0m\u001b[1;4;36m7699\u001b[0m\u001b[1;4m}\u001b[0m\n"
      ]
     },
     "metadata": {},
     "output_type": "display_data"
    },
    {
     "data": {
      "text/html": [
       "<pre style=\"white-space:pre;overflow-x:auto;line-height:normal;font-family:Menlo,'DejaVu Sans Mono',consolas,'Courier New',monospace;margin:0px\"><span style=\"font-weight: bold; text-decoration: underline\">C70845 </span><span style=\"color: #008000; text-decoration-color: #008000; font-weight: bold; text-decoration: underline\">\"DF-RdRp-NP039\"</span> <span style=\"color: #800080; text-decoration-color: #800080; font-style: italic\">None</span>\n",
       "</pre>\n"
      ],
      "text/plain": [
       "\u001b[1;4mC70845 \u001b[0m\u001b[1;4;32m\"DF-RdRp-NP039\"\u001b[0m \u001b[3;35mNone\u001b[0m\n"
      ]
     },
     "metadata": {},
     "output_type": "display_data"
    },
    {
     "data": {
      "text/html": [
       "<pre style=\"white-space:pre;overflow-x:auto;line-height:normal;font-family:Menlo,'DejaVu Sans Mono',consolas,'Courier New',monospace;margin:0px\"><span style=\"font-weight: bold; text-decoration: underline\">C70846 </span><span style=\"color: #008000; text-decoration-color: #008000; font-weight: bold; text-decoration: underline\">\"DF-RdRp-NP041\"</span> <span style=\"color: #800080; text-decoration-color: #800080; font-style: italic\">None</span>\n",
       "</pre>\n"
      ],
      "text/plain": [
       "\u001b[1;4mC70846 \u001b[0m\u001b[1;4;32m\"DF-RdRp-NP041\"\u001b[0m \u001b[3;35mNone\u001b[0m\n"
      ]
     },
     "metadata": {},
     "output_type": "display_data"
    },
    {
     "data": {
      "text/html": [
       "<pre style=\"white-space:pre;overflow-x:auto;line-height:normal;font-family:Menlo,'DejaVu Sans Mono',consolas,'Courier New',monospace;margin:0px\"><span style=\"font-weight: bold; text-decoration: underline\">C70847 </span><span style=\"color: #008000; text-decoration-color: #008000; font-weight: bold; text-decoration: underline\">\"DF-RdRp-NP042\"</span> <span style=\"color: #800080; text-decoration-color: #800080; font-style: italic\">None</span>\n",
       "</pre>\n"
      ],
      "text/plain": [
       "\u001b[1;4mC70847 \u001b[0m\u001b[1;4;32m\"DF-RdRp-NP042\"\u001b[0m \u001b[3;35mNone\u001b[0m\n"
      ]
     },
     "metadata": {},
     "output_type": "display_data"
    },
    {
     "data": {
      "text/html": [
       "<pre style=\"white-space:pre;overflow-x:auto;line-height:normal;font-family:Menlo,'DejaVu Sans Mono',consolas,'Courier New',monospace;margin:0px\"><span style=\"font-weight: bold; text-decoration: underline\">C70848 </span><span style=\"color: #008000; text-decoration-color: #008000; font-weight: bold; text-decoration: underline\">\"DF-RdRp-NP043\"</span> <span style=\"color: #800080; text-decoration-color: #800080; font-style: italic\">None</span>\n",
       "</pre>\n"
      ],
      "text/plain": [
       "\u001b[1;4mC70848 \u001b[0m\u001b[1;4;32m\"DF-RdRp-NP043\"\u001b[0m \u001b[3;35mNone\u001b[0m\n"
      ]
     },
     "metadata": {},
     "output_type": "display_data"
    },
    {
     "data": {
      "text/html": [
       "<pre style=\"white-space:pre;overflow-x:auto;line-height:normal;font-family:Menlo,'DejaVu Sans Mono',consolas,'Courier New',monospace;margin:0px\"><span style=\"font-weight: bold; text-decoration: underline\">C70849 </span><span style=\"color: #008000; text-decoration-color: #008000; font-weight: bold; text-decoration: underline\">\"DF-RdRp-NP044\"</span> <span style=\"font-weight: bold; text-decoration: underline\">elaborations of C70849: {C × </span><span style=\"color: #008080; text-decoration-color: #008080; font-weight: bold; text-decoration: underline\">134</span><span style=\"font-weight: bold; text-decoration: underline\">}</span>\n",
       "</pre>\n"
      ],
      "text/plain": [
       "\u001b[1;4mC70849 \u001b[0m\u001b[1;4;32m\"DF-RdRp-NP044\"\u001b[0m \u001b[1;4melaborations of C70849: \u001b[0m\u001b[1;4m{\u001b[0m\u001b[1;4mC × \u001b[0m\u001b[1;4;36m134\u001b[0m\u001b[1;4m}\u001b[0m\n"
      ]
     },
     "metadata": {},
     "output_type": "display_data"
    }
   ],
   "source": [
    "for c in scaffolds:\n",
    "    elabs = c.elabs\n",
    "    print(c, c.elabs)\n",
    "\n",
    "    if elabs:\n",
    "        c.add_tag(\"elaborated iter1 scaffold\")"
   ]
  },
  {
   "cell_type": "code",
   "execution_count": 6,
   "id": "f7166864-8164-48aa-b206-d3b4bbfc04c8",
   "metadata": {},
   "outputs": [],
   "source": [
    "elaborated_scaffolds = animal.compounds(tag=\"elaborated iter1 scaffold\")"
   ]
  },
  {
   "cell_type": "code",
   "execution_count": 27,
   "id": "645fa54a-f9e4-409c-9b07-d9f8f7c0fe24",
   "metadata": {
    "scrolled": true
   },
   "outputs": [
    {
     "data": {
      "text/html": [
       "<div>\n",
       "<style scoped>\n",
       "    .dataframe tbody tr th:only-of-type {\n",
       "        vertical-align: middle;\n",
       "    }\n",
       "\n",
       "    .dataframe tbody tr th {\n",
       "        vertical-align: top;\n",
       "    }\n",
       "\n",
       "    .dataframe thead th {\n",
       "        text-align: right;\n",
       "    }\n",
       "</style>\n",
       "<table border=\"1\" class=\"dataframe\">\n",
       "  <thead>\n",
       "    <tr style=\"text-align: right;\">\n",
       "      <th></th>\n",
       "      <th>scaffold_id</th>\n",
       "      <th>scaffold_compound</th>\n",
       "      <th>elabs</th>\n",
       "      <th>num_elabs</th>\n",
       "    </tr>\n",
       "  </thead>\n",
       "  <tbody>\n",
       "    <tr>\n",
       "      <th>0</th>\n",
       "      <td>70371</td>\n",
       "      <td>C70371</td>\n",
       "      <td>(C70862, C70864, C70868, C70870, C70882, C7088...</td>\n",
       "      <td>91</td>\n",
       "    </tr>\n",
       "    <tr>\n",
       "      <th>1</th>\n",
       "      <td>28106</td>\n",
       "      <td>C28106</td>\n",
       "      <td>(C70863, C70865, C70867, C70869, C70871, C7087...</td>\n",
       "      <td>98</td>\n",
       "    </tr>\n",
       "    <tr>\n",
       "      <th>2</th>\n",
       "      <td>69991</td>\n",
       "      <td>C69991</td>\n",
       "      <td>(C70163, C70349, C70477, C70659, C70731, C7098...</td>\n",
       "      <td>340</td>\n",
       "    </tr>\n",
       "    <tr>\n",
       "      <th>3</th>\n",
       "      <td>34701</td>\n",
       "      <td>C34701</td>\n",
       "      <td>(C70989, C70990, C70992, C70993, C70995, C7099...</td>\n",
       "      <td>691</td>\n",
       "    </tr>\n",
       "    <tr>\n",
       "      <th>4</th>\n",
       "      <td>70088</td>\n",
       "      <td>C70088</td>\n",
       "      <td>(C71992, C71994, C71996, C71998, C71999, C7200...</td>\n",
       "      <td>114</td>\n",
       "    </tr>\n",
       "    <tr>\n",
       "      <th>...</th>\n",
       "      <td>...</td>\n",
       "      <td>...</td>\n",
       "      <td>...</td>\n",
       "      <td>...</td>\n",
       "    </tr>\n",
       "    <tr>\n",
       "      <th>182</th>\n",
       "      <td>4091</td>\n",
       "      <td>C4091</td>\n",
       "      <td>(C271814, C271815, C271816, C271817, C271818, ...</td>\n",
       "      <td>489</td>\n",
       "    </tr>\n",
       "    <tr>\n",
       "      <th>183</th>\n",
       "      <td>272303</td>\n",
       "      <td>C272303</td>\n",
       "      <td>(C272304, C272305, C272306, C272307, C272308, ...</td>\n",
       "      <td>115</td>\n",
       "    </tr>\n",
       "    <tr>\n",
       "      <th>184</th>\n",
       "      <td>7817</td>\n",
       "      <td>C7817</td>\n",
       "      <td>(C272419, C272420, C272421, C272422, C272423, ...</td>\n",
       "      <td>115</td>\n",
       "    </tr>\n",
       "    <tr>\n",
       "      <th>185</th>\n",
       "      <td>70172</td>\n",
       "      <td>C70172</td>\n",
       "      <td>(C272534, C272535, C272536, C272537, C272538, ...</td>\n",
       "      <td>99</td>\n",
       "    </tr>\n",
       "    <tr>\n",
       "      <th>186</th>\n",
       "      <td>4093</td>\n",
       "      <td>C4093</td>\n",
       "      <td>(C70857, C272639, C272640, C272641, C272642, C...</td>\n",
       "      <td>2415</td>\n",
       "    </tr>\n",
       "  </tbody>\n",
       "</table>\n",
       "<p>187 rows × 4 columns</p>\n",
       "</div>"
      ],
      "text/plain": [
       "     scaffold_id scaffold_compound  \\\n",
       "0          70371            C70371   \n",
       "1          28106            C28106   \n",
       "2          69991            C69991   \n",
       "3          34701            C34701   \n",
       "4          70088            C70088   \n",
       "..           ...               ...   \n",
       "182         4091             C4091   \n",
       "183       272303           C272303   \n",
       "184         7817             C7817   \n",
       "185        70172            C70172   \n",
       "186         4093             C4093   \n",
       "\n",
       "                                                 elabs  num_elabs  \n",
       "0    (C70862, C70864, C70868, C70870, C70882, C7088...         91  \n",
       "1    (C70863, C70865, C70867, C70869, C70871, C7087...         98  \n",
       "2    (C70163, C70349, C70477, C70659, C70731, C7098...        340  \n",
       "3    (C70989, C70990, C70992, C70993, C70995, C7099...        691  \n",
       "4    (C71992, C71994, C71996, C71998, C71999, C7200...        114  \n",
       "..                                                 ...        ...  \n",
       "182  (C271814, C271815, C271816, C271817, C271818, ...        489  \n",
       "183  (C272304, C272305, C272306, C272307, C272308, ...        115  \n",
       "184  (C272419, C272420, C272421, C272422, C272423, ...        115  \n",
       "185  (C272534, C272535, C272536, C272537, C272538, ...         99  \n",
       "186  (C70857, C272639, C272640, C272641, C272642, C...       2415  \n",
       "\n",
       "[187 rows x 4 columns]"
      ]
     },
     "execution_count": 27,
     "metadata": {},
     "output_type": "execute_result"
    }
   ],
   "source": [
    "df = elaborated_scaffolds.elab_df\n",
    "# df[\"scaffold_str\"] = df[\"scaffold_id\"].convert_dtypes(convert_string=True)\n",
    "df"
   ]
  },
  {
   "cell_type": "code",
   "execution_count": 51,
   "id": "f52bed7d-8f05-476a-853b-b20577033ddc",
   "metadata": {},
   "outputs": [
    {
     "data": {
      "application/vnd.plotly.v1+json": {
       "config": {
        "plotlyServerURL": "https://plot.ly"
       },
       "data": [
        {
         "alignmentgroup": "True",
         "hovertemplate": "scaffold_id=%{x}<br>num_elabs=%{y}<extra></extra>",
         "legendgroup": "",
         "marker": {
          "color": "#636efa",
          "pattern": {
           "shape": ""
          }
         },
         "name": "",
         "offsetgroup": "",
         "orientation": "v",
         "showlegend": false,
         "textposition": "auto",
         "type": "bar",
         "x": [
          70371,
          28106,
          69991,
          34701,
          70088,
          49455,
          70090,
          56537,
          73369,
          70849,
          73368,
          44380,
          70251,
          70418,
          70108,
          54733,
          70037,
          70311,
          54862,
          69847,
          47311,
          70542,
          69980,
          66259,
          69838,
          69839,
          1443,
          70111,
          32376,
          70112,
          70298,
          34650,
          70175,
          4109,
          70163,
          70286,
          35920,
          70534,
          56786,
          70535,
          61386,
          70488,
          34583,
          70489,
          70600,
          28301,
          70612,
          52471,
          70744,
          20299,
          70689,
          60687,
          70688,
          70572,
          36233,
          112725,
          67427,
          125340,
          69385,
          70844,
          114414,
          133326,
          70832,
          70312,
          55149,
          69681,
          16080,
          69777,
          12548,
          69489,
          68384,
          70110,
          54945,
          70086,
          70085,
          48477,
          69683,
          69578,
          19774,
          69776,
          12483,
          33434,
          70078,
          49374,
          13563,
          2576,
          69699,
          9237,
          70115,
          55262,
          70126,
          56765,
          69827,
          3098,
          70123,
          56548,
          70121,
          55996,
          167192,
          70837,
          172237,
          35,
          70843,
          69515,
          734,
          69755,
          29639,
          28013,
          70113,
          55155,
          70250,
          65404,
          70164,
          43155,
          70327,
          55156,
          70538,
          70404,
          70712,
          50922,
          69513,
          45327,
          69712,
          49503,
          70154,
          37461,
          70184,
          70165,
          41552,
          70114,
          55174,
          70215,
          12690,
          70514,
          70515,
          55535,
          70635,
          70638,
          46539,
          70680,
          23289,
          70183,
          65434,
          70329,
          55856,
          70232,
          53809,
          70193,
          65515,
          69622,
          69527,
          10275,
          69802,
          13884,
          240462,
          70313,
          55598,
          70610,
          70611,
          54938,
          70246,
          70245,
          37923,
          70543,
          70151,
          69761,
          36458,
          70539,
          45330,
          70474,
          43135,
          69380,
          66289,
          70401,
          28628,
          70394,
          60663,
          70262,
          65691,
          70323,
          35145,
          70171,
          4091,
          272303,
          7817,
          70172,
          4093
         ],
         "xaxis": "x",
         "y": [
          91,
          98,
          340,
          691,
          114,
          120,
          602,
          634,
          8,
          134,
          14,
          1635,
          75,
          30,
          67,
          2694,
          84,
          1126,
          1219,
          191,
          3165,
          14,
          352,
          452,
          97,
          97,
          4471,
          97,
          6213,
          95,
          498,
          589,
          99,
          1594,
          46,
          664,
          666,
          76,
          69,
          149,
          170,
          97,
          3073,
          64,
          165,
          168,
          72,
          1596,
          1405,
          1439,
          99,
          5020,
          69,
          514,
          516,
          44,
          51,
          99,
          99,
          7699,
          287,
          89,
          2463,
          99,
          4084,
          212,
          212,
          1124,
          1220,
          69,
          69,
          46,
          49,
          63,
          98,
          5777,
          48,
          98,
          5127,
          78,
          114,
          600,
          125,
          3965,
          49,
          1367,
          91,
          91,
          705,
          712,
          572,
          711,
          614,
          616,
          54,
          2578,
          1421,
          1546,
          55,
          4984,
          98,
          97,
          6688,
          608,
          628,
          554,
          381,
          559,
          98,
          2490,
          195,
          198,
          94,
          952,
          1232,
          1237,
          58,
          98,
          91,
          4084,
          595,
          673,
          476,
          544,
          335,
          336,
          11,
          84,
          1184,
          752,
          840,
          864,
          878,
          99,
          98,
          6261,
          99,
          77,
          2274,
          768,
          771,
          421,
          446,
          811,
          891,
          290,
          360,
          353,
          734,
          95,
          891,
          937,
          230,
          232,
          617,
          89,
          4167,
          15,
          97,
          1448,
          92,
          92,
          2154,
          28,
          99,
          96,
          7424,
          426,
          436,
          383,
          422,
          174,
          243,
          767,
          789,
          105,
          109,
          346,
          355,
          199,
          203,
          477,
          489,
          115,
          115,
          99,
          2415
         ],
         "yaxis": "y"
        }
       ],
       "layout": {
        "barmode": "relative",
        "legend": {
         "tracegroupgap": 0
        },
        "margin": {
         "t": 60
        },
        "template": {
         "data": {
          "bar": [
           {
            "error_x": {
             "color": "#2a3f5f"
            },
            "error_y": {
             "color": "#2a3f5f"
            },
            "marker": {
             "line": {
              "color": "#E5ECF6",
              "width": 0.5
             },
             "pattern": {
              "fillmode": "overlay",
              "size": 10,
              "solidity": 0.2
             }
            },
            "type": "bar"
           }
          ],
          "barpolar": [
           {
            "marker": {
             "line": {
              "color": "#E5ECF6",
              "width": 0.5
             },
             "pattern": {
              "fillmode": "overlay",
              "size": 10,
              "solidity": 0.2
             }
            },
            "type": "barpolar"
           }
          ],
          "carpet": [
           {
            "aaxis": {
             "endlinecolor": "#2a3f5f",
             "gridcolor": "white",
             "linecolor": "white",
             "minorgridcolor": "white",
             "startlinecolor": "#2a3f5f"
            },
            "baxis": {
             "endlinecolor": "#2a3f5f",
             "gridcolor": "white",
             "linecolor": "white",
             "minorgridcolor": "white",
             "startlinecolor": "#2a3f5f"
            },
            "type": "carpet"
           }
          ],
          "choropleth": [
           {
            "colorbar": {
             "outlinewidth": 0,
             "ticks": ""
            },
            "type": "choropleth"
           }
          ],
          "contour": [
           {
            "colorbar": {
             "outlinewidth": 0,
             "ticks": ""
            },
            "colorscale": [
             [
              0,
              "#0d0887"
             ],
             [
              0.1111111111111111,
              "#46039f"
             ],
             [
              0.2222222222222222,
              "#7201a8"
             ],
             [
              0.3333333333333333,
              "#9c179e"
             ],
             [
              0.4444444444444444,
              "#bd3786"
             ],
             [
              0.5555555555555556,
              "#d8576b"
             ],
             [
              0.6666666666666666,
              "#ed7953"
             ],
             [
              0.7777777777777778,
              "#fb9f3a"
             ],
             [
              0.8888888888888888,
              "#fdca26"
             ],
             [
              1,
              "#f0f921"
             ]
            ],
            "type": "contour"
           }
          ],
          "contourcarpet": [
           {
            "colorbar": {
             "outlinewidth": 0,
             "ticks": ""
            },
            "type": "contourcarpet"
           }
          ],
          "heatmap": [
           {
            "colorbar": {
             "outlinewidth": 0,
             "ticks": ""
            },
            "colorscale": [
             [
              0,
              "#0d0887"
             ],
             [
              0.1111111111111111,
              "#46039f"
             ],
             [
              0.2222222222222222,
              "#7201a8"
             ],
             [
              0.3333333333333333,
              "#9c179e"
             ],
             [
              0.4444444444444444,
              "#bd3786"
             ],
             [
              0.5555555555555556,
              "#d8576b"
             ],
             [
              0.6666666666666666,
              "#ed7953"
             ],
             [
              0.7777777777777778,
              "#fb9f3a"
             ],
             [
              0.8888888888888888,
              "#fdca26"
             ],
             [
              1,
              "#f0f921"
             ]
            ],
            "type": "heatmap"
           }
          ],
          "heatmapgl": [
           {
            "colorbar": {
             "outlinewidth": 0,
             "ticks": ""
            },
            "colorscale": [
             [
              0,
              "#0d0887"
             ],
             [
              0.1111111111111111,
              "#46039f"
             ],
             [
              0.2222222222222222,
              "#7201a8"
             ],
             [
              0.3333333333333333,
              "#9c179e"
             ],
             [
              0.4444444444444444,
              "#bd3786"
             ],
             [
              0.5555555555555556,
              "#d8576b"
             ],
             [
              0.6666666666666666,
              "#ed7953"
             ],
             [
              0.7777777777777778,
              "#fb9f3a"
             ],
             [
              0.8888888888888888,
              "#fdca26"
             ],
             [
              1,
              "#f0f921"
             ]
            ],
            "type": "heatmapgl"
           }
          ],
          "histogram": [
           {
            "marker": {
             "pattern": {
              "fillmode": "overlay",
              "size": 10,
              "solidity": 0.2
             }
            },
            "type": "histogram"
           }
          ],
          "histogram2d": [
           {
            "colorbar": {
             "outlinewidth": 0,
             "ticks": ""
            },
            "colorscale": [
             [
              0,
              "#0d0887"
             ],
             [
              0.1111111111111111,
              "#46039f"
             ],
             [
              0.2222222222222222,
              "#7201a8"
             ],
             [
              0.3333333333333333,
              "#9c179e"
             ],
             [
              0.4444444444444444,
              "#bd3786"
             ],
             [
              0.5555555555555556,
              "#d8576b"
             ],
             [
              0.6666666666666666,
              "#ed7953"
             ],
             [
              0.7777777777777778,
              "#fb9f3a"
             ],
             [
              0.8888888888888888,
              "#fdca26"
             ],
             [
              1,
              "#f0f921"
             ]
            ],
            "type": "histogram2d"
           }
          ],
          "histogram2dcontour": [
           {
            "colorbar": {
             "outlinewidth": 0,
             "ticks": ""
            },
            "colorscale": [
             [
              0,
              "#0d0887"
             ],
             [
              0.1111111111111111,
              "#46039f"
             ],
             [
              0.2222222222222222,
              "#7201a8"
             ],
             [
              0.3333333333333333,
              "#9c179e"
             ],
             [
              0.4444444444444444,
              "#bd3786"
             ],
             [
              0.5555555555555556,
              "#d8576b"
             ],
             [
              0.6666666666666666,
              "#ed7953"
             ],
             [
              0.7777777777777778,
              "#fb9f3a"
             ],
             [
              0.8888888888888888,
              "#fdca26"
             ],
             [
              1,
              "#f0f921"
             ]
            ],
            "type": "histogram2dcontour"
           }
          ],
          "mesh3d": [
           {
            "colorbar": {
             "outlinewidth": 0,
             "ticks": ""
            },
            "type": "mesh3d"
           }
          ],
          "parcoords": [
           {
            "line": {
             "colorbar": {
              "outlinewidth": 0,
              "ticks": ""
             }
            },
            "type": "parcoords"
           }
          ],
          "pie": [
           {
            "automargin": true,
            "type": "pie"
           }
          ],
          "scatter": [
           {
            "fillpattern": {
             "fillmode": "overlay",
             "size": 10,
             "solidity": 0.2
            },
            "type": "scatter"
           }
          ],
          "scatter3d": [
           {
            "line": {
             "colorbar": {
              "outlinewidth": 0,
              "ticks": ""
             }
            },
            "marker": {
             "colorbar": {
              "outlinewidth": 0,
              "ticks": ""
             }
            },
            "type": "scatter3d"
           }
          ],
          "scattercarpet": [
           {
            "marker": {
             "colorbar": {
              "outlinewidth": 0,
              "ticks": ""
             }
            },
            "type": "scattercarpet"
           }
          ],
          "scattergeo": [
           {
            "marker": {
             "colorbar": {
              "outlinewidth": 0,
              "ticks": ""
             }
            },
            "type": "scattergeo"
           }
          ],
          "scattergl": [
           {
            "marker": {
             "colorbar": {
              "outlinewidth": 0,
              "ticks": ""
             }
            },
            "type": "scattergl"
           }
          ],
          "scattermapbox": [
           {
            "marker": {
             "colorbar": {
              "outlinewidth": 0,
              "ticks": ""
             }
            },
            "type": "scattermapbox"
           }
          ],
          "scatterpolar": [
           {
            "marker": {
             "colorbar": {
              "outlinewidth": 0,
              "ticks": ""
             }
            },
            "type": "scatterpolar"
           }
          ],
          "scatterpolargl": [
           {
            "marker": {
             "colorbar": {
              "outlinewidth": 0,
              "ticks": ""
             }
            },
            "type": "scatterpolargl"
           }
          ],
          "scatterternary": [
           {
            "marker": {
             "colorbar": {
              "outlinewidth": 0,
              "ticks": ""
             }
            },
            "type": "scatterternary"
           }
          ],
          "surface": [
           {
            "colorbar": {
             "outlinewidth": 0,
             "ticks": ""
            },
            "colorscale": [
             [
              0,
              "#0d0887"
             ],
             [
              0.1111111111111111,
              "#46039f"
             ],
             [
              0.2222222222222222,
              "#7201a8"
             ],
             [
              0.3333333333333333,
              "#9c179e"
             ],
             [
              0.4444444444444444,
              "#bd3786"
             ],
             [
              0.5555555555555556,
              "#d8576b"
             ],
             [
              0.6666666666666666,
              "#ed7953"
             ],
             [
              0.7777777777777778,
              "#fb9f3a"
             ],
             [
              0.8888888888888888,
              "#fdca26"
             ],
             [
              1,
              "#f0f921"
             ]
            ],
            "type": "surface"
           }
          ],
          "table": [
           {
            "cells": {
             "fill": {
              "color": "#EBF0F8"
             },
             "line": {
              "color": "white"
             }
            },
            "header": {
             "fill": {
              "color": "#C8D4E3"
             },
             "line": {
              "color": "white"
             }
            },
            "type": "table"
           }
          ]
         },
         "layout": {
          "annotationdefaults": {
           "arrowcolor": "#2a3f5f",
           "arrowhead": 0,
           "arrowwidth": 1
          },
          "autotypenumbers": "strict",
          "coloraxis": {
           "colorbar": {
            "outlinewidth": 0,
            "ticks": ""
           }
          },
          "colorscale": {
           "diverging": [
            [
             0,
             "#8e0152"
            ],
            [
             0.1,
             "#c51b7d"
            ],
            [
             0.2,
             "#de77ae"
            ],
            [
             0.3,
             "#f1b6da"
            ],
            [
             0.4,
             "#fde0ef"
            ],
            [
             0.5,
             "#f7f7f7"
            ],
            [
             0.6,
             "#e6f5d0"
            ],
            [
             0.7,
             "#b8e186"
            ],
            [
             0.8,
             "#7fbc41"
            ],
            [
             0.9,
             "#4d9221"
            ],
            [
             1,
             "#276419"
            ]
           ],
           "sequential": [
            [
             0,
             "#0d0887"
            ],
            [
             0.1111111111111111,
             "#46039f"
            ],
            [
             0.2222222222222222,
             "#7201a8"
            ],
            [
             0.3333333333333333,
             "#9c179e"
            ],
            [
             0.4444444444444444,
             "#bd3786"
            ],
            [
             0.5555555555555556,
             "#d8576b"
            ],
            [
             0.6666666666666666,
             "#ed7953"
            ],
            [
             0.7777777777777778,
             "#fb9f3a"
            ],
            [
             0.8888888888888888,
             "#fdca26"
            ],
            [
             1,
             "#f0f921"
            ]
           ],
           "sequentialminus": [
            [
             0,
             "#0d0887"
            ],
            [
             0.1111111111111111,
             "#46039f"
            ],
            [
             0.2222222222222222,
             "#7201a8"
            ],
            [
             0.3333333333333333,
             "#9c179e"
            ],
            [
             0.4444444444444444,
             "#bd3786"
            ],
            [
             0.5555555555555556,
             "#d8576b"
            ],
            [
             0.6666666666666666,
             "#ed7953"
            ],
            [
             0.7777777777777778,
             "#fb9f3a"
            ],
            [
             0.8888888888888888,
             "#fdca26"
            ],
            [
             1,
             "#f0f921"
            ]
           ]
          },
          "colorway": [
           "#636efa",
           "#EF553B",
           "#00cc96",
           "#ab63fa",
           "#FFA15A",
           "#19d3f3",
           "#FF6692",
           "#B6E880",
           "#FF97FF",
           "#FECB52"
          ],
          "font": {
           "color": "#2a3f5f"
          },
          "geo": {
           "bgcolor": "white",
           "lakecolor": "white",
           "landcolor": "#E5ECF6",
           "showlakes": true,
           "showland": true,
           "subunitcolor": "white"
          },
          "hoverlabel": {
           "align": "left"
          },
          "hovermode": "closest",
          "mapbox": {
           "style": "light"
          },
          "paper_bgcolor": "white",
          "plot_bgcolor": "#E5ECF6",
          "polar": {
           "angularaxis": {
            "gridcolor": "white",
            "linecolor": "white",
            "ticks": ""
           },
           "bgcolor": "#E5ECF6",
           "radialaxis": {
            "gridcolor": "white",
            "linecolor": "white",
            "ticks": ""
           }
          },
          "scene": {
           "xaxis": {
            "backgroundcolor": "#E5ECF6",
            "gridcolor": "white",
            "gridwidth": 2,
            "linecolor": "white",
            "showbackground": true,
            "ticks": "",
            "zerolinecolor": "white"
           },
           "yaxis": {
            "backgroundcolor": "#E5ECF6",
            "gridcolor": "white",
            "gridwidth": 2,
            "linecolor": "white",
            "showbackground": true,
            "ticks": "",
            "zerolinecolor": "white"
           },
           "zaxis": {
            "backgroundcolor": "#E5ECF6",
            "gridcolor": "white",
            "gridwidth": 2,
            "linecolor": "white",
            "showbackground": true,
            "ticks": "",
            "zerolinecolor": "white"
           }
          },
          "shapedefaults": {
           "line": {
            "color": "#2a3f5f"
           }
          },
          "ternary": {
           "aaxis": {
            "gridcolor": "white",
            "linecolor": "white",
            "ticks": ""
           },
           "baxis": {
            "gridcolor": "white",
            "linecolor": "white",
            "ticks": ""
           },
           "bgcolor": "#E5ECF6",
           "caxis": {
            "gridcolor": "white",
            "linecolor": "white",
            "ticks": ""
           }
          },
          "title": {
           "x": 0.05
          },
          "xaxis": {
           "automargin": true,
           "gridcolor": "white",
           "linecolor": "white",
           "ticks": "",
           "title": {
            "standoff": 15
           },
           "zerolinecolor": "white",
           "zerolinewidth": 2
          },
          "yaxis": {
           "automargin": true,
           "gridcolor": "white",
           "linecolor": "white",
           "ticks": "",
           "title": {
            "standoff": 15
           },
           "zerolinecolor": "white",
           "zerolinewidth": 2
          }
         }
        },
        "xaxis": {
         "anchor": "y",
         "categoryorder": "total descending",
         "domain": [
          0,
          1
         ],
         "title": {
          "text": "scaffold_id"
         },
         "type": "category"
        },
        "yaxis": {
         "anchor": "x",
         "domain": [
          0,
          1
         ],
         "title": {
          "text": "num_elabs"
         },
         "type": "log"
        }
       }
      },
      "image/png": "[encoded data removed]",
      "text/html": [
       "<div>                            <div id=\"31587875-dd65-4753-a6a6-323256ca48a4\" class=\"plotly-graph-div\" style=\"height:525px; width:100%;\"></div>            <script type=\"text/javascript\">                require([\"plotly\"], function(Plotly) {                    window.PLOTLYENV=window.PLOTLYENV || {};                                    if (document.getElementById(\"31587875-dd65-4753-a6a6-323256ca48a4\")) {                    Plotly.newPlot(                        \"31587875-dd65-4753-a6a6-323256ca48a4\",                        [{\"alignmentgroup\":\"True\",\"hovertemplate\":\"scaffold_id=%{x}\\u003cbr\\u003enum_elabs=%{y}\\u003cextra\\u003e\\u003c\\u002fextra\\u003e\",\"legendgroup\":\"\",\"marker\":{\"color\":\"#636efa\",\"pattern\":{\"shape\":\"\"}},\"name\":\"\",\"offsetgroup\":\"\",\"orientation\":\"v\",\"showlegend\":false,\"textposition\":\"auto\",\"x\":[70371,28106,69991,34701,70088,49455,70090,56537,73369,70849,73368,44380,70251,70418,70108,54733,70037,70311,54862,69847,47311,70542,69980,66259,69838,69839,1443,70111,32376,70112,70298,34650,70175,4109,70163,70286,35920,70534,56786,70535,61386,70488,34583,70489,70600,28301,70612,52471,70744,20299,70689,60687,70688,70572,36233,112725,67427,125340,69385,70844,114414,133326,70832,70312,55149,69681,16080,69777,12548,69489,68384,70110,54945,70086,70085,48477,69683,69578,19774,69776,12483,33434,70078,49374,13563,2576,69699,9237,70115,55262,70126,56765,69827,3098,70123,56548,70121,55996,167192,70837,172237,35,70843,69515,734,69755,29639,28013,70113,55155,70250,65404,70164,43155,70327,55156,70538,70404,70712,50922,69513,45327,69712,49503,70154,37461,70184,70165,41552,70114,55174,70215,12690,70514,70515,55535,70635,70638,46539,70680,23289,70183,65434,70329,55856,70232,53809,70193,65515,69622,69527,10275,69802,13884,240462,70313,55598,70610,70611,54938,70246,70245,37923,70543,70151,69761,36458,70539,45330,70474,43135,69380,66289,70401,28628,70394,60663,70262,65691,70323,35145,70171,4091,272303,7817,70172,4093],\"xaxis\":\"x\",\"y\":[91,98,340,691,114,120,602,634,8,134,14,1635,75,30,67,2694,84,1126,1219,191,3165,14,352,452,97,97,4471,97,6213,95,498,589,99,1594,46,664,666,76,69,149,170,97,3073,64,165,168,72,1596,1405,1439,99,5020,69,514,516,44,51,99,99,7699,287,89,2463,99,4084,212,212,1124,1220,69,69,46,49,63,98,5777,48,98,5127,78,114,600,125,3965,49,1367,91,91,705,712,572,711,614,616,54,2578,1421,1546,55,4984,98,97,6688,608,628,554,381,559,98,2490,195,198,94,952,1232,1237,58,98,91,4084,595,673,476,544,335,336,11,84,1184,752,840,864,878,99,98,6261,99,77,2274,768,771,421,446,811,891,290,360,353,734,95,891,937,230,232,617,89,4167,15,97,1448,92,92,2154,28,99,96,7424,426,436,383,422,174,243,767,789,105,109,346,355,199,203,477,489,115,115,99,2415],\"yaxis\":\"y\",\"type\":\"bar\"}],                        {\"template\":{\"data\":{\"histogram2dcontour\":[{\"type\":\"histogram2dcontour\",\"colorbar\":{\"outlinewidth\":0,\"ticks\":\"\"},\"colorscale\":[[0.0,\"#0d0887\"],[0.1111111111111111,\"#46039f\"],[0.2222222222222222,\"#7201a8\"],[0.3333333333333333,\"#9c179e\"],[0.4444444444444444,\"#bd3786\"],[0.5555555555555556,\"#d8576b\"],[0.6666666666666666,\"#ed7953\"],[0.7777777777777778,\"#fb9f3a\"],[0.8888888888888888,\"#fdca26\"],[1.0,\"#f0f921\"]]}],\"choropleth\":[{\"type\":\"choropleth\",\"colorbar\":{\"outlinewidth\":0,\"ticks\":\"\"}}],\"histogram2d\":[{\"type\":\"histogram2d\",\"colorbar\":{\"outlinewidth\":0,\"ticks\":\"\"},\"colorscale\":[[0.0,\"#0d0887\"],[0.1111111111111111,\"#46039f\"],[0.2222222222222222,\"#7201a8\"],[0.3333333333333333,\"#9c179e\"],[0.4444444444444444,\"#bd3786\"],[0.5555555555555556,\"#d8576b\"],[0.6666666666666666,\"#ed7953\"],[0.7777777777777778,\"#fb9f3a\"],[0.8888888888888888,\"#fdca26\"],[1.0,\"#f0f921\"]]}],\"heatmap\":[{\"type\":\"heatmap\",\"colorbar\":{\"outlinewidth\":0,\"ticks\":\"\"},\"colorscale\":[[0.0,\"#0d0887\"],[0.1111111111111111,\"#46039f\"],[0.2222222222222222,\"#7201a8\"],[0.3333333333333333,\"#9c179e\"],[0.4444444444444444,\"#bd3786\"],[0.5555555555555556,\"#d8576b\"],[0.6666666666666666,\"#ed7953\"],[0.7777777777777778,\"#fb9f3a\"],[0.8888888888888888,\"#fdca26\"],[1.0,\"#f0f921\"]]}],\"heatmapgl\":[{\"type\":\"heatmapgl\",\"colorbar\":{\"outlinewidth\":0,\"ticks\":\"\"},\"colorscale\":[[0.0,\"#0d0887\"],[0.1111111111111111,\"#46039f\"],[0.2222222222222222,\"#7201a8\"],[0.3333333333333333,\"#9c179e\"],[0.4444444444444444,\"#bd3786\"],[0.5555555555555556,\"#d8576b\"],[0.6666666666666666,\"#ed7953\"],[0.7777777777777778,\"#fb9f3a\"],[0.8888888888888888,\"#fdca26\"],[1.0,\"#f0f921\"]]}],\"contourcarpet\":[{\"type\":\"contourcarpet\",\"colorbar\":{\"outlinewidth\":0,\"ticks\":\"\"}}],\"contour\":[{\"type\":\"contour\",\"colorbar\":{\"outlinewidth\":0,\"ticks\":\"\"},\"colorscale\":[[0.0,\"#0d0887\"],[0.1111111111111111,\"#46039f\"],[0.2222222222222222,\"#7201a8\"],[0.3333333333333333,\"#9c179e\"],[0.4444444444444444,\"#bd3786\"],[0.5555555555555556,\"#d8576b\"],[0.6666666666666666,\"#ed7953\"],[0.7777777777777778,\"#fb9f3a\"],[0.8888888888888888,\"#fdca26\"],[1.0,\"#f0f921\"]]}],\"surface\":[{\"type\":\"surface\",\"colorbar\":{\"outlinewidth\":0,\"ticks\":\"\"},\"colorscale\":[[0.0,\"#0d0887\"],[0.1111111111111111,\"#46039f\"],[0.2222222222222222,\"#7201a8\"],[0.3333333333333333,\"#9c179e\"],[0.4444444444444444,\"#bd3786\"],[0.5555555555555556,\"#d8576b\"],[0.6666666666666666,\"#ed7953\"],[0.7777777777777778,\"#fb9f3a\"],[0.8888888888888888,\"#fdca26\"],[1.0,\"#f0f921\"]]}],\"mesh3d\":[{\"type\":\"mesh3d\",\"colorbar\":{\"outlinewidth\":0,\"ticks\":\"\"}}],\"scatter\":[{\"fillpattern\":{\"fillmode\":\"overlay\",\"size\":10,\"solidity\":0.2},\"type\":\"scatter\"}],\"parcoords\":[{\"type\":\"parcoords\",\"line\":{\"colorbar\":{\"outlinewidth\":0,\"ticks\":\"\"}}}],\"scatterpolargl\":[{\"type\":\"scatterpolargl\",\"marker\":{\"colorbar\":{\"outlinewidth\":0,\"ticks\":\"\"}}}],\"bar\":[{\"error_x\":{\"color\":\"#2a3f5f\"},\"error_y\":{\"color\":\"#2a3f5f\"},\"marker\":{\"line\":{\"color\":\"#E5ECF6\",\"width\":0.5},\"pattern\":{\"fillmode\":\"overlay\",\"size\":10,\"solidity\":0.2}},\"type\":\"bar\"}],\"scattergeo\":[{\"type\":\"scattergeo\",\"marker\":{\"colorbar\":{\"outlinewidth\":0,\"ticks\":\"\"}}}],\"scatterpolar\":[{\"type\":\"scatterpolar\",\"marker\":{\"colorbar\":{\"outlinewidth\":0,\"ticks\":\"\"}}}],\"histogram\":[{\"marker\":{\"pattern\":{\"fillmode\":\"overlay\",\"size\":10,\"solidity\":0.2}},\"type\":\"histogram\"}],\"scattergl\":[{\"type\":\"scattergl\",\"marker\":{\"colorbar\":{\"outlinewidth\":0,\"ticks\":\"\"}}}],\"scatter3d\":[{\"type\":\"scatter3d\",\"line\":{\"colorbar\":{\"outlinewidth\":0,\"ticks\":\"\"}},\"marker\":{\"colorbar\":{\"outlinewidth\":0,\"ticks\":\"\"}}}],\"scattermapbox\":[{\"type\":\"scattermapbox\",\"marker\":{\"colorbar\":{\"outlinewidth\":0,\"ticks\":\"\"}}}],\"scatterternary\":[{\"type\":\"scatterternary\",\"marker\":{\"colorbar\":{\"outlinewidth\":0,\"ticks\":\"\"}}}],\"scattercarpet\":[{\"type\":\"scattercarpet\",\"marker\":{\"colorbar\":{\"outlinewidth\":0,\"ticks\":\"\"}}}],\"carpet\":[{\"aaxis\":{\"endlinecolor\":\"#2a3f5f\",\"gridcolor\":\"white\",\"linecolor\":\"white\",\"minorgridcolor\":\"white\",\"startlinecolor\":\"#2a3f5f\"},\"baxis\":{\"endlinecolor\":\"#2a3f5f\",\"gridcolor\":\"white\",\"linecolor\":\"white\",\"minorgridcolor\":\"white\",\"startlinecolor\":\"#2a3f5f\"},\"type\":\"carpet\"}],\"table\":[{\"cells\":{\"fill\":{\"color\":\"#EBF0F8\"},\"line\":{\"color\":\"white\"}},\"header\":{\"fill\":{\"color\":\"#C8D4E3\"},\"line\":{\"color\":\"white\"}},\"type\":\"table\"}],\"barpolar\":[{\"marker\":{\"line\":{\"color\":\"#E5ECF6\",\"width\":0.5},\"pattern\":{\"fillmode\":\"overlay\",\"size\":10,\"solidity\":0.2}},\"type\":\"barpolar\"}],\"pie\":[{\"automargin\":true,\"type\":\"pie\"}]},\"layout\":{\"autotypenumbers\":\"strict\",\"colorway\":[\"#636efa\",\"#EF553B\",\"#00cc96\",\"#ab63fa\",\"#FFA15A\",\"#19d3f3\",\"#FF6692\",\"#B6E880\",\"#FF97FF\",\"#FECB52\"],\"font\":{\"color\":\"#2a3f5f\"},\"hovermode\":\"closest\",\"hoverlabel\":{\"align\":\"left\"},\"paper_bgcolor\":\"white\",\"plot_bgcolor\":\"#E5ECF6\",\"polar\":{\"bgcolor\":\"#E5ECF6\",\"angularaxis\":{\"gridcolor\":\"white\",\"linecolor\":\"white\",\"ticks\":\"\"},\"radialaxis\":{\"gridcolor\":\"white\",\"linecolor\":\"white\",\"ticks\":\"\"}},\"ternary\":{\"bgcolor\":\"#E5ECF6\",\"aaxis\":{\"gridcolor\":\"white\",\"linecolor\":\"white\",\"ticks\":\"\"},\"baxis\":{\"gridcolor\":\"white\",\"linecolor\":\"white\",\"ticks\":\"\"},\"caxis\":{\"gridcolor\":\"white\",\"linecolor\":\"white\",\"ticks\":\"\"}},\"coloraxis\":{\"colorbar\":{\"outlinewidth\":0,\"ticks\":\"\"}},\"colorscale\":{\"sequential\":[[0.0,\"#0d0887\"],[0.1111111111111111,\"#46039f\"],[0.2222222222222222,\"#7201a8\"],[0.3333333333333333,\"#9c179e\"],[0.4444444444444444,\"#bd3786\"],[0.5555555555555556,\"#d8576b\"],[0.6666666666666666,\"#ed7953\"],[0.7777777777777778,\"#fb9f3a\"],[0.8888888888888888,\"#fdca26\"],[1.0,\"#f0f921\"]],\"sequentialminus\":[[0.0,\"#0d0887\"],[0.1111111111111111,\"#46039f\"],[0.2222222222222222,\"#7201a8\"],[0.3333333333333333,\"#9c179e\"],[0.4444444444444444,\"#bd3786\"],[0.5555555555555556,\"#d8576b\"],[0.6666666666666666,\"#ed7953\"],[0.7777777777777778,\"#fb9f3a\"],[0.8888888888888888,\"#fdca26\"],[1.0,\"#f0f921\"]],\"diverging\":[[0,\"#8e0152\"],[0.1,\"#c51b7d\"],[0.2,\"#de77ae\"],[0.3,\"#f1b6da\"],[0.4,\"#fde0ef\"],[0.5,\"#f7f7f7\"],[0.6,\"#e6f5d0\"],[0.7,\"#b8e186\"],[0.8,\"#7fbc41\"],[0.9,\"#4d9221\"],[1,\"#276419\"]]},\"xaxis\":{\"gridcolor\":\"white\",\"linecolor\":\"white\",\"ticks\":\"\",\"title\":{\"standoff\":15},\"zerolinecolor\":\"white\",\"automargin\":true,\"zerolinewidth\":2},\"yaxis\":{\"gridcolor\":\"white\",\"linecolor\":\"white\",\"ticks\":\"\",\"title\":{\"standoff\":15},\"zerolinecolor\":\"white\",\"automargin\":true,\"zerolinewidth\":2},\"scene\":{\"xaxis\":{\"backgroundcolor\":\"#E5ECF6\",\"gridcolor\":\"white\",\"linecolor\":\"white\",\"showbackground\":true,\"ticks\":\"\",\"zerolinecolor\":\"white\",\"gridwidth\":2},\"yaxis\":{\"backgroundcolor\":\"#E5ECF6\",\"gridcolor\":\"white\",\"linecolor\":\"white\",\"showbackground\":true,\"ticks\":\"\",\"zerolinecolor\":\"white\",\"gridwidth\":2},\"zaxis\":{\"backgroundcolor\":\"#E5ECF6\",\"gridcolor\":\"white\",\"linecolor\":\"white\",\"showbackground\":true,\"ticks\":\"\",\"zerolinecolor\":\"white\",\"gridwidth\":2}},\"shapedefaults\":{\"line\":{\"color\":\"#2a3f5f\"}},\"annotationdefaults\":{\"arrowcolor\":\"#2a3f5f\",\"arrowhead\":0,\"arrowwidth\":1},\"geo\":{\"bgcolor\":\"white\",\"landcolor\":\"#E5ECF6\",\"subunitcolor\":\"white\",\"showland\":true,\"showlakes\":true,\"lakecolor\":\"white\"},\"title\":{\"x\":0.05},\"mapbox\":{\"style\":\"light\"}}},\"xaxis\":{\"anchor\":\"y\",\"domain\":[0.0,1.0],\"title\":{\"text\":\"scaffold_id\"},\"type\":\"category\",\"categoryorder\":\"total descending\"},\"yaxis\":{\"anchor\":\"x\",\"domain\":[0.0,1.0],\"title\":{\"text\":\"num_elabs\"},\"type\":\"log\"},\"legend\":{\"tracegroupgap\":0},\"margin\":{\"t\":60},\"barmode\":\"relative\"},                        {\"responsive\": true}                    ).then(function(){\n",
       "                            \n",
       "var gd = document.getElementById('31587875-dd65-4753-a6a6-323256ca48a4');\n",
       "var x = new MutationObserver(function (mutations, observer) {{\n",
       "        var display = window.getComputedStyle(gd).display;\n",
       "        if (!display || display === 'none') {{\n",
       "            console.log([gd, 'removed!']);\n",
       "            Plotly.purge(gd);\n",
       "            observer.disconnect();\n",
       "        }}\n",
       "}});\n",
       "\n",
       "// Listen for the removal of the full notebook cells\n",
       "var notebookContainer = gd.closest('#notebook-container');\n",
       "if (notebookContainer) {{\n",
       "    x.observe(notebookContainer, {childList: true});\n",
       "}}\n",
       "\n",
       "// Listen for the clearing of the current output cell\n",
       "var outputEl = gd.closest('.output');\n",
       "if (outputEl) {{\n",
       "    x.observe(outputEl, {childList: true});\n",
       "}}\n",
       "\n",
       "                        })                };                });            </script>        </div>"
      ]
     },
     "metadata": {},
     "output_type": "display_data"
    }
   ],
   "source": [
    "fig = px.bar(df, x=\"scaffold_id\", y=\"num_elabs\", log_y=True)\n",
    "fig.update_xaxes(type=\"category\")\n",
    "fig.update_xaxes(categoryorder=\"total descending\")\n",
    "fig"
   ]
  },
  {
   "cell_type": "code",
   "execution_count": 38,
   "id": "ca5aefc1-4102-4774-b7f7-3031e25c5f67",
   "metadata": {},
   "outputs": [
    {
     "data": {
      "text/html": [
       "<pre style=\"white-space:pre;overflow-x:auto;line-height:normal;font-family:Menlo,'DejaVu Sans Mono',consolas,'Courier New',monospace;margin:0px\">Tagged <span style=\"font-weight: bold\">{</span>P × <span style=\"color: #008080; text-decoration-color: #008080; font-weight: bold\">82</span><span style=\"font-weight: bold\">}</span> w/ <span style=\"color: #008000; text-decoration-color: #008000\">\"best elaborated iter1 scaffold poses\"</span>\n",
       "</pre>\n"
      ],
      "text/plain": [
       "Tagged \u001b[1m{\u001b[0mP × \u001b[1;36m82\u001b[0m\u001b[1m}\u001b[0m w/ \u001b[32m\"best elaborated iter1 scaffold poses\"\u001b[0m\n"
      ]
     },
     "metadata": {},
     "output_type": "display_data"
    },
    {
     "data": {
      "application/vnd.jupyter.widget-view+json": {
       "model_id": "7da69f47aeb446c5be9f45824c0d240f",
       "version_major": 2,
       "version_minor": 0
      },
      "text/plain": [
       "VBox(children=(BoundedIntText(value=0, description='Pose (/82):', max=81), GridBox(children=(Checkbox(value=Tr…"
      ]
     },
     "metadata": {},
     "output_type": "display_data"
    },
    {
     "data": {
      "application/vnd.jupyter.widget-view+json": {
       "model_id": "e491c55906d140d6b0080b5dfe71b0e0",
       "version_major": 2,
       "version_minor": 0
      },
      "text/plain": [
       "Output()"
      ]
     },
     "metadata": {},
     "output_type": "display_data"
    }
   ],
   "source": [
    "scaffold_poses = elaborated_scaffolds.best_placed_poses\n",
    "scaffold_poses.add_tag(\"best elaborated iter1 scaffold poses\")\n",
    "scaffold_poses.interactive()"
   ]
  },
  {
   "cell_type": "markdown",
   "id": "b704d2e1-57e5-4bd3-b513-61c16a96406b",
   "metadata": {
    "jp-MarkdownHeadingCollapsed": true
   },
   "source": [
    "## Get quotes"
   ]
  },
  {
   "cell_type": "code",
   "execution_count": 39,
   "id": "1838b3a7-7fb4-4680-8726-3dc7c46d579c",
   "metadata": {},
   "outputs": [
    {
     "data": {
      "text/html": [
       "<pre style=\"white-space:pre;overflow-x:auto;line-height:normal;font-family:Menlo,'DejaVu Sans Mono',consolas,'Courier New',monospace;margin:0px\"><span style=\"font-weight: bold\"> Creating HIPPO animal</span>\n",
       "</pre>\n"
      ],
      "text/plain": [
       "\u001b[1m Creating HIPPO animal\u001b[0m\n"
      ]
     },
     "metadata": {},
     "output_type": "display_data"
    },
    {
     "data": {
      "text/html": [
       "<pre style=\"white-space:pre;overflow-x:auto;line-height:normal;font-family:Menlo,'DejaVu Sans Mono',consolas,'Courier New',monospace;margin:0px\"><span style=\"color: #008080; text-decoration-color: #008080; font-weight: bold\">name</span> = <span style=\"color: #00d7af; text-decoration-color: #00d7af\">EnamineCatalogs</span>\n",
       "</pre>\n"
      ],
      "text/plain": [
       "\u001b[1;36mname\u001b[0m = \u001b[38;5;43mEnamineCatalogs\u001b[0m\n"
      ]
     },
     "metadata": {},
     "output_type": "display_data"
    },
    {
     "data": {
      "text/html": [
       "<pre style=\"white-space:pre;overflow-x:auto;line-height:normal;font-family:Menlo,'DejaVu Sans Mono',consolas,'Courier New',monospace;margin:0px\"><span style=\"color: #008080; text-decoration-color: #008080; font-weight: bold\">db_path</span> = <span style=\"color: #d7af00; text-decoration-color: #d7af00\">/opt/xchem-fragalysis-2/maxwin/EnamineCatalogs/enamine_bb_hippo.sqlite</span>\n",
       "</pre>\n"
      ],
      "text/plain": [
       "\u001b[1;36mdb_path\u001b[0m = \u001b[38;5;178m/opt/xchem-fragalysis-2/maxwin/EnamineCatalogs/enamine_bb_hippo.sqlite\u001b[0m\n"
      ]
     },
     "metadata": {},
     "output_type": "display_data"
    },
    {
     "data": {
      "text/html": [
       "<pre style=\"white-space:pre;overflow-x:auto;line-height:normal;font-family:Menlo,'DejaVu Sans Mono',consolas,'Courier New',monospace;margin:0px\"><span style=\"color: #808080; text-decoration-color: #808080\">DEBUG: hippo.Database.__init__()</span>\n",
       "</pre>\n"
      ],
      "text/plain": [
       "\u001b[90mDEBUG: hippo.Database.__init__()\u001b[0m\n"
      ]
     },
     "metadata": {},
     "output_type": "display_data"
    },
    {
     "data": {
      "text/html": [
       "<pre style=\"white-space:pre;overflow-x:auto;line-height:normal;font-family:Menlo,'DejaVu Sans Mono',consolas,'Courier New',monospace;margin:0px\"><span style=\"color: #808080; text-decoration-color: #808080\">DEBUG: Database.path = /opt/xchem-fragalysis-2/maxwin/EnamineCatalogs/enamine_bb_hippo.sqlite</span>\n",
       "</pre>\n"
      ],
      "text/plain": [
       "\u001b[90mDEBUG: Database.path = /opt/xchem-fragalysis-2/maxwin/EnamineCatalogs/enamine_bb_hippo.sqlite\u001b[0m\n"
      ]
     },
     "metadata": {},
     "output_type": "display_data"
    },
    {
     "data": {
      "text/html": [
       "<pre style=\"white-space:pre;overflow-x:auto;line-height:normal;font-family:Menlo,'DejaVu Sans Mono',consolas,'Courier New',monospace;margin:0px\"><span style=\"color: #808080; text-decoration-color: #808080\">DEBUG: hippo.Database.connect()</span>\n",
       "</pre>\n"
      ],
      "text/plain": [
       "\u001b[90mDEBUG: hippo.Database.connect()\u001b[0m\n"
      ]
     },
     "metadata": {},
     "output_type": "display_data"
    },
    {
     "data": {
      "text/html": [
       "<pre style=\"white-space:pre;overflow-x:auto;line-height:normal;font-family:Menlo,'DejaVu Sans Mono',consolas,'Courier New',monospace;margin:0px\"><span style=\"color: #808080; text-decoration-color: #808080\">DEBUG: sqlite3.version='2.6.0'</span>\n",
       "</pre>\n"
      ],
      "text/plain": [
       "\u001b[90mDEBUG: sqlite3.version='2.6.0'\u001b[0m\n"
      ]
     },
     "metadata": {},
     "output_type": "display_data"
    },
    {
     "data": {
      "text/html": [
       "<pre style=\"white-space:pre;overflow-x:auto;line-height:normal;font-family:Menlo,'DejaVu Sans Mono',consolas,'Courier New',monospace;margin:0px\"><span style=\"background-color: #008000; font-weight: bold\"> Success </span><span style=\"color: #008000; text-decoration-color: #008000; font-weight: bold\"> Database connected @</span><span style=\"color: #d7af00; text-decoration-color: #d7af00; font-weight: bold\"> /opt/xchem-fragalysis-2/maxwin/EnamineCatalogs/enamine_bb_hippo.sqlite!</span>\n",
       "</pre>\n"
      ],
      "text/plain": [
       "\u001b[1;7;32m Success \u001b[0m\u001b[1;32m Database connected @\u001b[0m\u001b[1;38;5;178m /opt/xchem-fragalysis-2/maxwin/EnamineCatalogs/enamine_bb_hippo.sqlite!\u001b[0m\n"
      ]
     },
     "metadata": {},
     "output_type": "display_data"
    },
    {
     "data": {
      "text/html": [
       "<pre style=\"white-space:pre;overflow-x:auto;line-height:normal;font-family:Menlo,'DejaVu Sans Mono',consolas,'Courier New',monospace;margin:0px\"><span style=\"background-color: #008000; font-weight: bold\"> Success </span><span style=\"color: #008000; text-decoration-color: #008000; font-weight: bold\"> Initialised animal</span><span style=\"color: #008080; text-decoration-color: #008080; font-weight: bold\"> HIPPO(\"EnamineCatalogs\")!</span>\n",
       "</pre>\n"
      ],
      "text/plain": [
       "\u001b[1;7;32m Success \u001b[0m\u001b[1;32m Initialised animal\u001b[0m\u001b[1;36m HIPPO(\"EnamineCatalogs\")!\u001b[0m\n"
      ]
     },
     "metadata": {},
     "output_type": "display_data"
    }
   ],
   "source": [
    "catalogue = hippo.HIPPO(\"EnamineCatalogs\", \"/opt/xchem-fragalysis-2/maxwin/EnamineCatalogs/enamine_bb_hippo.sqlite\")"
   ]
  },
  {
   "cell_type": "code",
   "execution_count": 40,
   "id": "9fcaa368-b0aa-412b-9402-afee8f79cbbc",
   "metadata": {},
   "outputs": [
    {
     "data": {
      "application/vnd.jupyter.widget-view+json": {
       "model_id": "e8295b44571a45bcbd13d09ada29bd79",
       "version_major": 2,
       "version_minor": 0
      },
      "text/plain": [
       "Output()"
      ]
     },
     "metadata": {},
     "output_type": "display_data"
    },
    {
     "data": {
      "text/html": [
       "<pre style=\"white-space:pre;overflow-x:auto;line-height:normal;font-family:Menlo,'DejaVu Sans Mono',consolas,'Courier New',monospace;margin:0px\"></pre>\n"
      ],
      "text/plain": []
     },
     "metadata": {},
     "output_type": "display_data"
    },
    {
     "data": {
      "application/vnd.jupyter.widget-view+json": {
       "model_id": "27284d6e85ce489c9750f995155819d4",
       "version_major": 2,
       "version_minor": 0
      },
      "text/plain": [
       "Output()"
      ]
     },
     "metadata": {},
     "output_type": "display_data"
    },
    {
     "data": {
      "text/html": [
       "<pre style=\"white-space:pre;overflow-x:auto;line-height:normal;font-family:Menlo,'DejaVu Sans Mono',consolas,'Courier New',monospace;margin:0px\"><span style=\"color: #d75f00; text-decoration-color: #d75f00\">Warning: Isotope(s) in SMILES: [2H]C([2H])([2H])NCCO</span>\n",
       "</pre>\n"
      ],
      "text/plain": [
       "\u001b[38;5;166mWarning: Isotope(s) in SMILES: [2H]C([2H])([2H])NCCO\u001b[0m\n"
      ]
     },
     "metadata": {},
     "output_type": "display_data"
    },
    {
     "data": {
      "text/html": [
       "<pre style=\"white-space:pre;overflow-x:auto;line-height:normal;font-family:Menlo,'DejaVu Sans Mono',consolas,'Courier New',monospace;margin:0px\"><span style=\"color: #d75f00; text-decoration-color: #d75f00\">Warning: Isotope(s) in SMILES: [2H]C([2H])([2H])NCCO</span>\n",
       "</pre>\n"
      ],
      "text/plain": [
       "\u001b[38;5;166mWarning: Isotope(s) in SMILES: [2H]C([2H])([2H])NCCO\u001b[0m\n"
      ]
     },
     "metadata": {},
     "output_type": "display_data"
    },
    {
     "data": {
      "text/html": [
       "<pre style=\"white-space:pre;overflow-x:auto;line-height:normal;font-family:Menlo,'DejaVu Sans Mono',consolas,'Courier New',monospace;margin:0px\"><span style=\"color: #d75f00; text-decoration-color: #d75f00\">Warning: Isotope(s) in SMILES: [2H]C([2H])([2H])NCCO</span>\n",
       "</pre>\n"
      ],
      "text/plain": [
       "\u001b[38;5;166mWarning: Isotope(s) in SMILES: [2H]C([2H])([2H])NCCO\u001b[0m\n"
      ]
     },
     "metadata": {},
     "output_type": "display_data"
    },
    {
     "data": {
      "text/html": [
       "<pre style=\"white-space:pre;overflow-x:auto;line-height:normal;font-family:Menlo,'DejaVu Sans Mono',consolas,'Courier New',monospace;margin:0px\"><span style=\"color: #d75f00; text-decoration-color: #d75f00\">Warning: Isotope(s) in SMILES: [2H]C([2H])([2H])NCCO</span>\n",
       "</pre>\n"
      ],
      "text/plain": [
       "\u001b[38;5;166mWarning: Isotope(s) in SMILES: [2H]C([2H])([2H])NCCO\u001b[0m\n"
      ]
     },
     "metadata": {},
     "output_type": "display_data"
    },
    {
     "data": {
      "text/html": [
       "<pre style=\"white-space:pre;overflow-x:auto;line-height:normal;font-family:Menlo,'DejaVu Sans Mono',consolas,'Courier New',monospace;margin:0px\"><span style=\"color: #d75f00; text-decoration-color: #d75f00\">Warning: Isotope(s) in SMILES: [2H]C([2H])([2H])NCCO</span>\n",
       "</pre>\n"
      ],
      "text/plain": [
       "\u001b[38;5;166mWarning: Isotope(s) in SMILES: [2H]C([2H])([2H])NCCO\u001b[0m\n"
      ]
     },
     "metadata": {},
     "output_type": "display_data"
    },
    {
     "data": {
      "text/html": [
       "<pre style=\"white-space:pre;overflow-x:auto;line-height:normal;font-family:Menlo,'DejaVu Sans Mono',consolas,'Courier New',monospace;margin:0px\"><span style=\"color: #d75f00; text-decoration-color: #d75f00\">Warning: Isotope(s) in SMILES: [2H]C([2H])([2H])NCCO</span>\n",
       "</pre>\n"
      ],
      "text/plain": [
       "\u001b[38;5;166mWarning: Isotope(s) in SMILES: [2H]C([2H])([2H])NCCO\u001b[0m\n"
      ]
     },
     "metadata": {},
     "output_type": "display_data"
    },
    {
     "data": {
      "text/html": [
       "<pre style=\"white-space:pre;overflow-x:auto;line-height:normal;font-family:Menlo,'DejaVu Sans Mono',consolas,'Courier New',monospace;margin:0px\"><span style=\"color: #d75f00; text-decoration-color: #d75f00\">Warning: Isotope(s) in SMILES: [2H]C([2H])([2H])NCCO</span>\n",
       "</pre>\n"
      ],
      "text/plain": [
       "\u001b[38;5;166mWarning: Isotope(s) in SMILES: [2H]C([2H])([2H])NCCO\u001b[0m\n"
      ]
     },
     "metadata": {},
     "output_type": "display_data"
    },
    {
     "data": {
      "text/html": [
       "<pre style=\"white-space:pre;overflow-x:auto;line-height:normal;font-family:Menlo,'DejaVu Sans Mono',consolas,'Courier New',monospace;margin:0px\"><span style=\"color: #d75f00; text-decoration-color: #d75f00\">Warning: Isotope(s) in SMILES: [2H]C([2H])([2H])C(N)(C(=O)O)C([2H])([2H])[2H]</span>\n",
       "</pre>\n"
      ],
      "text/plain": [
       "\u001b[38;5;166mWarning: Isotope(s) in SMILES: [2H]C([2H])([2H])C(N)(C(=O)O)C([2H])([2H])[2H]\u001b[0m\n"
      ]
     },
     "metadata": {},
     "output_type": "display_data"
    },
    {
     "data": {
      "text/html": [
       "<pre style=\"white-space:pre;overflow-x:auto;line-height:normal;font-family:Menlo,'DejaVu Sans Mono',consolas,'Courier New',monospace;margin:0px\"><span style=\"color: #d75f00; text-decoration-color: #d75f00\">Warning: Isotope(s) in SMILES: [2H]C([2H])([2H])C(N)(C(=O)O)C([2H])([2H])[2H]</span>\n",
       "</pre>\n"
      ],
      "text/plain": [
       "\u001b[38;5;166mWarning: Isotope(s) in SMILES: [2H]C([2H])([2H])C(N)(C(=O)O)C([2H])([2H])[2H]\u001b[0m\n"
      ]
     },
     "metadata": {},
     "output_type": "display_data"
    },
    {
     "data": {
      "text/html": [
       "<pre style=\"white-space:pre;overflow-x:auto;line-height:normal;font-family:Menlo,'DejaVu Sans Mono',consolas,'Courier New',monospace;margin:0px\"><span style=\"color: #d75f00; text-decoration-color: #d75f00\">Warning: Isotope(s) in SMILES: [2H]C([2H])([2H])C(N)(C(=O)O)C([2H])([2H])[2H]</span>\n",
       "</pre>\n"
      ],
      "text/plain": [
       "\u001b[38;5;166mWarning: Isotope(s) in SMILES: [2H]C([2H])([2H])C(N)(C(=O)O)C([2H])([2H])[2H]\u001b[0m\n"
      ]
     },
     "metadata": {},
     "output_type": "display_data"
    },
    {
     "data": {
      "text/html": [
       "<pre style=\"white-space:pre;overflow-x:auto;line-height:normal;font-family:Menlo,'DejaVu Sans Mono',consolas,'Courier New',monospace;margin:0px\"><span style=\"color: #d75f00; text-decoration-color: #d75f00\">Warning: Isotope(s) in SMILES: [2H]C([2H])([2H])C(N)(C(=O)O)C([2H])([2H])[2H]</span>\n",
       "</pre>\n"
      ],
      "text/plain": [
       "\u001b[38;5;166mWarning: Isotope(s) in SMILES: [2H]C([2H])([2H])C(N)(C(=O)O)C([2H])([2H])[2H]\u001b[0m\n"
      ]
     },
     "metadata": {},
     "output_type": "display_data"
    },
    {
     "data": {
      "text/html": [
       "<pre style=\"white-space:pre;overflow-x:auto;line-height:normal;font-family:Menlo,'DejaVu Sans Mono',consolas,'Courier New',monospace;margin:0px\"><span style=\"color: #d75f00; text-decoration-color: #d75f00\">Warning: Isotope(s) in SMILES: [2H]C([2H])([2H])C(N)(C(=O)O)C([2H])([2H])[2H]</span>\n",
       "</pre>\n"
      ],
      "text/plain": [
       "\u001b[38;5;166mWarning: Isotope(s) in SMILES: [2H]C([2H])([2H])C(N)(C(=O)O)C([2H])([2H])[2H]\u001b[0m\n"
      ]
     },
     "metadata": {},
     "output_type": "display_data"
    },
    {
     "data": {
      "text/html": [
       "<pre style=\"white-space:pre;overflow-x:auto;line-height:normal;font-family:Menlo,'DejaVu Sans Mono',consolas,'Courier New',monospace;margin:0px\"><span style=\"color: #d75f00; text-decoration-color: #d75f00\">Warning: Isotope(s) in SMILES: [2H]C([2H])([2H])C(N)(C(=O)O)C([2H])([2H])[2H]</span>\n",
       "</pre>\n"
      ],
      "text/plain": [
       "\u001b[38;5;166mWarning: Isotope(s) in SMILES: [2H]C([2H])([2H])C(N)(C(=O)O)C([2H])([2H])[2H]\u001b[0m\n"
      ]
     },
     "metadata": {},
     "output_type": "display_data"
    },
    {
     "data": {
      "text/html": [
       "<pre style=\"white-space:pre;overflow-x:auto;line-height:normal;font-family:Menlo,'DejaVu Sans Mono',consolas,'Courier New',monospace;margin:0px\"><span style=\"color: #d75f00; text-decoration-color: #d75f00\">Warning: Isotope(s) in SMILES: [2H]C([2H])([2H])C(N)(C(=O)O)C([2H])([2H])[2H]</span>\n",
       "</pre>\n"
      ],
      "text/plain": [
       "\u001b[38;5;166mWarning: Isotope(s) in SMILES: [2H]C([2H])([2H])C(N)(C(=O)O)C([2H])([2H])[2H]\u001b[0m\n"
      ]
     },
     "metadata": {},
     "output_type": "display_data"
    },
    {
     "data": {
      "text/html": [
       "<pre style=\"white-space:pre;overflow-x:auto;line-height:normal;font-family:Menlo,'DejaVu Sans Mono',consolas,'Courier New',monospace;margin:0px\"><span style=\"color: #d75f00; text-decoration-color: #d75f00\">Warning: Isotope(s) in SMILES: [2H]C([2H])([2H])n1cc(N)cn1</span>\n",
       "</pre>\n"
      ],
      "text/plain": [
       "\u001b[38;5;166mWarning: Isotope(s) in SMILES: [2H]C([2H])([2H])n1cc(N)cn1\u001b[0m\n"
      ]
     },
     "metadata": {},
     "output_type": "display_data"
    },
    {
     "data": {
      "text/html": [
       "<pre style=\"white-space:pre;overflow-x:auto;line-height:normal;font-family:Menlo,'DejaVu Sans Mono',consolas,'Courier New',monospace;margin:0px\"><span style=\"color: #d75f00; text-decoration-color: #d75f00\">Warning: Isotope(s) in SMILES: [2H]C([2H])([2H])n1cc(N)cn1</span>\n",
       "</pre>\n"
      ],
      "text/plain": [
       "\u001b[38;5;166mWarning: Isotope(s) in SMILES: [2H]C([2H])([2H])n1cc(N)cn1\u001b[0m\n"
      ]
     },
     "metadata": {},
     "output_type": "display_data"
    },
    {
     "data": {
      "text/html": [
       "<pre style=\"white-space:pre;overflow-x:auto;line-height:normal;font-family:Menlo,'DejaVu Sans Mono',consolas,'Courier New',monospace;margin:0px\"><span style=\"color: #d75f00; text-decoration-color: #d75f00\">Warning: Isotope(s) in SMILES: [2H]C([2H])([2H])n1cc(N)cn1</span>\n",
       "</pre>\n"
      ],
      "text/plain": [
       "\u001b[38;5;166mWarning: Isotope(s) in SMILES: [2H]C([2H])([2H])n1cc(N)cn1\u001b[0m\n"
      ]
     },
     "metadata": {},
     "output_type": "display_data"
    },
    {
     "data": {
      "text/html": [
       "<pre style=\"white-space:pre;overflow-x:auto;line-height:normal;font-family:Menlo,'DejaVu Sans Mono',consolas,'Courier New',monospace;margin:0px\"><span style=\"color: #d75f00; text-decoration-color: #d75f00\">Warning: Isotope(s) in SMILES: [2H]C([2H])([2H])n1cc(N)cn1</span>\n",
       "</pre>\n"
      ],
      "text/plain": [
       "\u001b[38;5;166mWarning: Isotope(s) in SMILES: [2H]C([2H])([2H])n1cc(N)cn1\u001b[0m\n"
      ]
     },
     "metadata": {},
     "output_type": "display_data"
    },
    {
     "data": {
      "text/html": [
       "<pre style=\"white-space:pre;overflow-x:auto;line-height:normal;font-family:Menlo,'DejaVu Sans Mono',consolas,'Courier New',monospace;margin:0px\"><span style=\"color: #d75f00; text-decoration-color: #d75f00\">Warning: Isotope(s) in SMILES: [2H]C([2H])([2H])n1cc(N)cn1</span>\n",
       "</pre>\n"
      ],
      "text/plain": [
       "\u001b[38;5;166mWarning: Isotope(s) in SMILES: [2H]C([2H])([2H])n1cc(N)cn1\u001b[0m\n"
      ]
     },
     "metadata": {},
     "output_type": "display_data"
    },
    {
     "data": {
      "text/html": [
       "<pre style=\"white-space:pre;overflow-x:auto;line-height:normal;font-family:Menlo,'DejaVu Sans Mono',consolas,'Courier New',monospace;margin:0px\"><span style=\"color: #d75f00; text-decoration-color: #d75f00\">Warning: Isotope(s) in SMILES: [2H]C([2H])([2H])n1cc(N)cn1</span>\n",
       "</pre>\n"
      ],
      "text/plain": [
       "\u001b[38;5;166mWarning: Isotope(s) in SMILES: [2H]C([2H])([2H])n1cc(N)cn1\u001b[0m\n"
      ]
     },
     "metadata": {},
     "output_type": "display_data"
    },
    {
     "data": {
      "text/html": [
       "<pre style=\"white-space:pre;overflow-x:auto;line-height:normal;font-family:Menlo,'DejaVu Sans Mono',consolas,'Courier New',monospace;margin:0px\"><span style=\"color: #d75f00; text-decoration-color: #d75f00\">Warning: Isotope(s) in SMILES: [2H]C([2H])([2H])n1cc(N)cn1</span>\n",
       "</pre>\n"
      ],
      "text/plain": [
       "\u001b[38;5;166mWarning: Isotope(s) in SMILES: [2H]C([2H])([2H])n1cc(N)cn1\u001b[0m\n"
      ]
     },
     "metadata": {},
     "output_type": "display_data"
    },
    {
     "data": {
      "text/html": [
       "<pre style=\"white-space:pre;overflow-x:auto;line-height:normal;font-family:Menlo,'DejaVu Sans Mono',consolas,'Courier New',monospace;margin:0px\"><span style=\"color: #d75f00; text-decoration-color: #d75f00\">Warning: Isotope(s) in SMILES: [2H]C([2H])([2H])N1CCNCC1</span>\n",
       "</pre>\n"
      ],
      "text/plain": [
       "\u001b[38;5;166mWarning: Isotope(s) in SMILES: [2H]C([2H])([2H])N1CCNCC1\u001b[0m\n"
      ]
     },
     "metadata": {},
     "output_type": "display_data"
    },
    {
     "data": {
      "text/html": [
       "<pre style=\"white-space:pre;overflow-x:auto;line-height:normal;font-family:Menlo,'DejaVu Sans Mono',consolas,'Courier New',monospace;margin:0px\"><span style=\"color: #d75f00; text-decoration-color: #d75f00\">Warning: Isotope(s) in SMILES: [2H]C([2H])([2H])N1CCNCC1</span>\n",
       "</pre>\n"
      ],
      "text/plain": [
       "\u001b[38;5;166mWarning: Isotope(s) in SMILES: [2H]C([2H])([2H])N1CCNCC1\u001b[0m\n"
      ]
     },
     "metadata": {},
     "output_type": "display_data"
    },
    {
     "data": {
      "text/html": [
       "<pre style=\"white-space:pre;overflow-x:auto;line-height:normal;font-family:Menlo,'DejaVu Sans Mono',consolas,'Courier New',monospace;margin:0px\"><span style=\"color: #d75f00; text-decoration-color: #d75f00\">Warning: Isotope(s) in SMILES: [2H]C([2H])([2H])N1CCNCC1</span>\n",
       "</pre>\n"
      ],
      "text/plain": [
       "\u001b[38;5;166mWarning: Isotope(s) in SMILES: [2H]C([2H])([2H])N1CCNCC1\u001b[0m\n"
      ]
     },
     "metadata": {},
     "output_type": "display_data"
    },
    {
     "data": {
      "text/html": [
       "<pre style=\"white-space:pre;overflow-x:auto;line-height:normal;font-family:Menlo,'DejaVu Sans Mono',consolas,'Courier New',monospace;margin:0px\"><span style=\"color: #d75f00; text-decoration-color: #d75f00\">Warning: Isotope(s) in SMILES: [2H]C([2H])([2H])N1CCNCC1</span>\n",
       "</pre>\n"
      ],
      "text/plain": [
       "\u001b[38;5;166mWarning: Isotope(s) in SMILES: [2H]C([2H])([2H])N1CCNCC1\u001b[0m\n"
      ]
     },
     "metadata": {},
     "output_type": "display_data"
    },
    {
     "data": {
      "text/html": [
       "<pre style=\"white-space:pre;overflow-x:auto;line-height:normal;font-family:Menlo,'DejaVu Sans Mono',consolas,'Courier New',monospace;margin:0px\"><span style=\"color: #d75f00; text-decoration-color: #d75f00\">Warning: Isotope(s) in SMILES: [2H]C([2H])([2H])N1CCNCC1</span>\n",
       "</pre>\n"
      ],
      "text/plain": [
       "\u001b[38;5;166mWarning: Isotope(s) in SMILES: [2H]C([2H])([2H])N1CCNCC1\u001b[0m\n"
      ]
     },
     "metadata": {},
     "output_type": "display_data"
    },
    {
     "data": {
      "text/html": [
       "<pre style=\"white-space:pre;overflow-x:auto;line-height:normal;font-family:Menlo,'DejaVu Sans Mono',consolas,'Courier New',monospace;margin:0px\"><span style=\"color: #d75f00; text-decoration-color: #d75f00\">Warning: Isotope(s) in SMILES: [2H]C([2H])([2H])N1CCNCC1</span>\n",
       "</pre>\n"
      ],
      "text/plain": [
       "\u001b[38;5;166mWarning: Isotope(s) in SMILES: [2H]C([2H])([2H])N1CCNCC1\u001b[0m\n"
      ]
     },
     "metadata": {},
     "output_type": "display_data"
    },
    {
     "data": {
      "text/html": [
       "<pre style=\"white-space:pre;overflow-x:auto;line-height:normal;font-family:Menlo,'DejaVu Sans Mono',consolas,'Courier New',monospace;margin:0px\"><span style=\"color: #d75f00; text-decoration-color: #d75f00\">Warning: Isotope(s) in SMILES: [2H]C([2H])([2H])N1CCNCC1</span>\n",
       "</pre>\n"
      ],
      "text/plain": [
       "\u001b[38;5;166mWarning: Isotope(s) in SMILES: [2H]C([2H])([2H])N1CCNCC1\u001b[0m\n"
      ]
     },
     "metadata": {},
     "output_type": "display_data"
    },
    {
     "data": {
      "text/html": [
       "<pre style=\"white-space:pre;overflow-x:auto;line-height:normal;font-family:Menlo,'DejaVu Sans Mono',consolas,'Courier New',monospace;margin:0px\"><span style=\"color: #d75f00; text-decoration-color: #d75f00\">Warning: Isotope(s) in SMILES: [2H]C([2H])([2H])OCC(=O)O</span>\n",
       "</pre>\n"
      ],
      "text/plain": [
       "\u001b[38;5;166mWarning: Isotope(s) in SMILES: [2H]C([2H])([2H])OCC(=O)O\u001b[0m\n"
      ]
     },
     "metadata": {},
     "output_type": "display_data"
    },
    {
     "data": {
      "text/html": [
       "<pre style=\"white-space:pre;overflow-x:auto;line-height:normal;font-family:Menlo,'DejaVu Sans Mono',consolas,'Courier New',monospace;margin:0px\"><span style=\"color: #d75f00; text-decoration-color: #d75f00\">Warning: Isotope(s) in SMILES: [2H]C([2H])([2H])OCC(=O)O</span>\n",
       "</pre>\n"
      ],
      "text/plain": [
       "\u001b[38;5;166mWarning: Isotope(s) in SMILES: [2H]C([2H])([2H])OCC(=O)O\u001b[0m\n"
      ]
     },
     "metadata": {},
     "output_type": "display_data"
    },
    {
     "data": {
      "text/html": [
       "<pre style=\"white-space:pre;overflow-x:auto;line-height:normal;font-family:Menlo,'DejaVu Sans Mono',consolas,'Courier New',monospace;margin:0px\"><span style=\"color: #d75f00; text-decoration-color: #d75f00\">Warning: Isotope(s) in SMILES: [2H]C([2H])([2H])OCC(=O)O</span>\n",
       "</pre>\n"
      ],
      "text/plain": [
       "\u001b[38;5;166mWarning: Isotope(s) in SMILES: [2H]C([2H])([2H])OCC(=O)O\u001b[0m\n"
      ]
     },
     "metadata": {},
     "output_type": "display_data"
    },
    {
     "data": {
      "text/html": [
       "<pre style=\"white-space:pre;overflow-x:auto;line-height:normal;font-family:Menlo,'DejaVu Sans Mono',consolas,'Courier New',monospace;margin:0px\"><span style=\"color: #d75f00; text-decoration-color: #d75f00\">Warning: Isotope(s) in SMILES: [2H]C([2H])([2H])OCC(=O)O</span>\n",
       "</pre>\n"
      ],
      "text/plain": [
       "\u001b[38;5;166mWarning: Isotope(s) in SMILES: [2H]C([2H])([2H])OCC(=O)O\u001b[0m\n"
      ]
     },
     "metadata": {},
     "output_type": "display_data"
    },
    {
     "data": {
      "text/html": [
       "<pre style=\"white-space:pre;overflow-x:auto;line-height:normal;font-family:Menlo,'DejaVu Sans Mono',consolas,'Courier New',monospace;margin:0px\"><span style=\"color: #d75f00; text-decoration-color: #d75f00\">Warning: Isotope(s) in SMILES: [2H]C([2H])([2H])OCC(=O)O</span>\n",
       "</pre>\n"
      ],
      "text/plain": [
       "\u001b[38;5;166mWarning: Isotope(s) in SMILES: [2H]C([2H])([2H])OCC(=O)O\u001b[0m\n"
      ]
     },
     "metadata": {},
     "output_type": "display_data"
    },
    {
     "data": {
      "text/html": [
       "<pre style=\"white-space:pre;overflow-x:auto;line-height:normal;font-family:Menlo,'DejaVu Sans Mono',consolas,'Courier New',monospace;margin:0px\"><span style=\"color: #d75f00; text-decoration-color: #d75f00\">Warning: Isotope(s) in SMILES: [2H]C([2H])([2H])OCC(=O)O</span>\n",
       "</pre>\n"
      ],
      "text/plain": [
       "\u001b[38;5;166mWarning: Isotope(s) in SMILES: [2H]C([2H])([2H])OCC(=O)O\u001b[0m\n"
      ]
     },
     "metadata": {},
     "output_type": "display_data"
    },
    {
     "data": {
      "text/html": [
       "<pre style=\"white-space:pre;overflow-x:auto;line-height:normal;font-family:Menlo,'DejaVu Sans Mono',consolas,'Courier New',monospace;margin:0px\"><span style=\"color: #d75f00; text-decoration-color: #d75f00\">Warning: Isotope(s) in SMILES: [2H]C([2H])([2H])OCC(=O)O</span>\n",
       "</pre>\n"
      ],
      "text/plain": [
       "\u001b[38;5;166mWarning: Isotope(s) in SMILES: [2H]C([2H])([2H])OCC(=O)O\u001b[0m\n"
      ]
     },
     "metadata": {},
     "output_type": "display_data"
    },
    {
     "data": {
      "text/html": [
       "<pre style=\"white-space:pre;overflow-x:auto;line-height:normal;font-family:Menlo,'DejaVu Sans Mono',consolas,'Courier New',monospace;margin:0px\"><span style=\"color: #d75f00; text-decoration-color: #d75f00\">Warning: Isotope(s) in SMILES: [2H]C([2H])([2H])n1cc(C(=O)O)cn1</span>\n",
       "</pre>\n"
      ],
      "text/plain": [
       "\u001b[38;5;166mWarning: Isotope(s) in SMILES: [2H]C([2H])([2H])n1cc(C(=O)O)cn1\u001b[0m\n"
      ]
     },
     "metadata": {},
     "output_type": "display_data"
    },
    {
     "data": {
      "text/html": [
       "<pre style=\"white-space:pre;overflow-x:auto;line-height:normal;font-family:Menlo,'DejaVu Sans Mono',consolas,'Courier New',monospace;margin:0px\"><span style=\"color: #d75f00; text-decoration-color: #d75f00\">Warning: Isotope(s) in SMILES: [2H]C([2H])([2H])n1cc(C(=O)O)cn1</span>\n",
       "</pre>\n"
      ],
      "text/plain": [
       "\u001b[38;5;166mWarning: Isotope(s) in SMILES: [2H]C([2H])([2H])n1cc(C(=O)O)cn1\u001b[0m\n"
      ]
     },
     "metadata": {},
     "output_type": "display_data"
    },
    {
     "data": {
      "text/html": [
       "<pre style=\"white-space:pre;overflow-x:auto;line-height:normal;font-family:Menlo,'DejaVu Sans Mono',consolas,'Courier New',monospace;margin:0px\"><span style=\"color: #d75f00; text-decoration-color: #d75f00\">Warning: Isotope(s) in SMILES: [2H]C([2H])([2H])n1cc(C(=O)O)cn1</span>\n",
       "</pre>\n"
      ],
      "text/plain": [
       "\u001b[38;5;166mWarning: Isotope(s) in SMILES: [2H]C([2H])([2H])n1cc(C(=O)O)cn1\u001b[0m\n"
      ]
     },
     "metadata": {},
     "output_type": "display_data"
    },
    {
     "data": {
      "text/html": [
       "<pre style=\"white-space:pre;overflow-x:auto;line-height:normal;font-family:Menlo,'DejaVu Sans Mono',consolas,'Courier New',monospace;margin:0px\"><span style=\"color: #d75f00; text-decoration-color: #d75f00\">Warning: Isotope(s) in SMILES: [2H]C([2H])([2H])n1cc(C(=O)O)cn1</span>\n",
       "</pre>\n"
      ],
      "text/plain": [
       "\u001b[38;5;166mWarning: Isotope(s) in SMILES: [2H]C([2H])([2H])n1cc(C(=O)O)cn1\u001b[0m\n"
      ]
     },
     "metadata": {},
     "output_type": "display_data"
    },
    {
     "data": {
      "text/html": [
       "<pre style=\"white-space:pre;overflow-x:auto;line-height:normal;font-family:Menlo,'DejaVu Sans Mono',consolas,'Courier New',monospace;margin:0px\"><span style=\"color: #d75f00; text-decoration-color: #d75f00\">Warning: Isotope(s) in SMILES: [2H]C([2H])([2H])n1cc(C(=O)O)cn1</span>\n",
       "</pre>\n"
      ],
      "text/plain": [
       "\u001b[38;5;166mWarning: Isotope(s) in SMILES: [2H]C([2H])([2H])n1cc(C(=O)O)cn1\u001b[0m\n"
      ]
     },
     "metadata": {},
     "output_type": "display_data"
    },
    {
     "data": {
      "text/html": [
       "<pre style=\"white-space:pre;overflow-x:auto;line-height:normal;font-family:Menlo,'DejaVu Sans Mono',consolas,'Courier New',monospace;margin:0px\"><span style=\"color: #d75f00; text-decoration-color: #d75f00\">Warning: Isotope(s) in SMILES: [2H]C([2H])([2H])n1cc(C(=O)O)cn1</span>\n",
       "</pre>\n"
      ],
      "text/plain": [
       "\u001b[38;5;166mWarning: Isotope(s) in SMILES: [2H]C([2H])([2H])n1cc(C(=O)O)cn1\u001b[0m\n"
      ]
     },
     "metadata": {},
     "output_type": "display_data"
    },
    {
     "data": {
      "text/html": [
       "<pre style=\"white-space:pre;overflow-x:auto;line-height:normal;font-family:Menlo,'DejaVu Sans Mono',consolas,'Courier New',monospace;margin:0px\"><span style=\"color: #d75f00; text-decoration-color: #d75f00\">Warning: Isotope(s) in SMILES: [2H]C([2H])([2H])n1cc(C(=O)O)cn1</span>\n",
       "</pre>\n"
      ],
      "text/plain": [
       "\u001b[38;5;166mWarning: Isotope(s) in SMILES: [2H]C([2H])([2H])n1cc(C(=O)O)cn1\u001b[0m\n"
      ]
     },
     "metadata": {},
     "output_type": "display_data"
    },
    {
     "data": {
      "text/html": [
       "<pre style=\"white-space:pre;overflow-x:auto;line-height:normal;font-family:Menlo,'DejaVu Sans Mono',consolas,'Courier New',monospace;margin:0px\"><span style=\"color: #d75f00; text-decoration-color: #d75f00\">Warning: Isotope(s) in SMILES: NC[13C](=O)O</span>\n",
       "</pre>\n"
      ],
      "text/plain": [
       "\u001b[38;5;166mWarning: Isotope(s) in SMILES: NC[13C](=O)O\u001b[0m\n"
      ]
     },
     "metadata": {},
     "output_type": "display_data"
    },
    {
     "data": {
      "text/html": [
       "<pre style=\"white-space:pre;overflow-x:auto;line-height:normal;font-family:Menlo,'DejaVu Sans Mono',consolas,'Courier New',monospace;margin:0px\"><span style=\"color: #d75f00; text-decoration-color: #d75f00\">Warning: Isotope(s) in SMILES: NC[13C](=O)O</span>\n",
       "</pre>\n"
      ],
      "text/plain": [
       "\u001b[38;5;166mWarning: Isotope(s) in SMILES: NC[13C](=O)O\u001b[0m\n"
      ]
     },
     "metadata": {},
     "output_type": "display_data"
    },
    {
     "data": {
      "text/html": [
       "<pre style=\"white-space:pre;overflow-x:auto;line-height:normal;font-family:Menlo,'DejaVu Sans Mono',consolas,'Courier New',monospace;margin:0px\"><span style=\"color: #d75f00; text-decoration-color: #d75f00\">Warning: Isotope(s) in SMILES: NC[13C](=O)O</span>\n",
       "</pre>\n"
      ],
      "text/plain": [
       "\u001b[38;5;166mWarning: Isotope(s) in SMILES: NC[13C](=O)O\u001b[0m\n"
      ]
     },
     "metadata": {},
     "output_type": "display_data"
    },
    {
     "data": {
      "text/html": [
       "<pre style=\"white-space:pre;overflow-x:auto;line-height:normal;font-family:Menlo,'DejaVu Sans Mono',consolas,'Courier New',monospace;margin:0px\"><span style=\"color: #d75f00; text-decoration-color: #d75f00\">Warning: Isotope(s) in SMILES: NC[13C](=O)O</span>\n",
       "</pre>\n"
      ],
      "text/plain": [
       "\u001b[38;5;166mWarning: Isotope(s) in SMILES: NC[13C](=O)O\u001b[0m\n"
      ]
     },
     "metadata": {},
     "output_type": "display_data"
    },
    {
     "data": {
      "text/html": [
       "<pre style=\"white-space:pre;overflow-x:auto;line-height:normal;font-family:Menlo,'DejaVu Sans Mono',consolas,'Courier New',monospace;margin:0px\"><span style=\"color: #d75f00; text-decoration-color: #d75f00\">Warning: Isotope(s) in SMILES: NC[13C](=O)O</span>\n",
       "</pre>\n"
      ],
      "text/plain": [
       "\u001b[38;5;166mWarning: Isotope(s) in SMILES: NC[13C](=O)O\u001b[0m\n"
      ]
     },
     "metadata": {},
     "output_type": "display_data"
    },
    {
     "data": {
      "text/html": [
       "<pre style=\"white-space:pre;overflow-x:auto;line-height:normal;font-family:Menlo,'DejaVu Sans Mono',consolas,'Courier New',monospace;margin:0px\"><span style=\"color: #d75f00; text-decoration-color: #d75f00\">Warning: Isotope(s) in SMILES: NC[13C](=O)O</span>\n",
       "</pre>\n"
      ],
      "text/plain": [
       "\u001b[38;5;166mWarning: Isotope(s) in SMILES: NC[13C](=O)O\u001b[0m\n"
      ]
     },
     "metadata": {},
     "output_type": "display_data"
    },
    {
     "data": {
      "text/html": [
       "<pre style=\"white-space:pre;overflow-x:auto;line-height:normal;font-family:Menlo,'DejaVu Sans Mono',consolas,'Courier New',monospace;margin:0px\"><span style=\"color: #d75f00; text-decoration-color: #d75f00\">Warning: Isotope(s) in SMILES: NC[13C](=O)O</span>\n",
       "</pre>\n"
      ],
      "text/plain": [
       "\u001b[38;5;166mWarning: Isotope(s) in SMILES: NC[13C](=O)O\u001b[0m\n"
      ]
     },
     "metadata": {},
     "output_type": "display_data"
    },
    {
     "data": {
      "text/html": [
       "<pre style=\"white-space:pre;overflow-x:auto;line-height:normal;font-family:Menlo,'DejaVu Sans Mono',consolas,'Courier New',monospace;margin:0px\"><span style=\"color: #d75f00; text-decoration-color: #d75f00\">Warning: Isotope(s) in SMILES: [2H]C([2H])([2H])OS(C)(=O)=O</span>\n",
       "</pre>\n"
      ],
      "text/plain": [
       "\u001b[38;5;166mWarning: Isotope(s) in SMILES: [2H]C([2H])([2H])OS(C)(=O)=O\u001b[0m\n"
      ]
     },
     "metadata": {},
     "output_type": "display_data"
    },
    {
     "data": {
      "text/html": [
       "<pre style=\"white-space:pre;overflow-x:auto;line-height:normal;font-family:Menlo,'DejaVu Sans Mono',consolas,'Courier New',monospace;margin:0px\"><span style=\"color: #d75f00; text-decoration-color: #d75f00\">Warning: Isotope(s) in SMILES: [2H]C([2H])([2H])OS(C)(=O)=O</span>\n",
       "</pre>\n"
      ],
      "text/plain": [
       "\u001b[38;5;166mWarning: Isotope(s) in SMILES: [2H]C([2H])([2H])OS(C)(=O)=O\u001b[0m\n"
      ]
     },
     "metadata": {},
     "output_type": "display_data"
    },
    {
     "data": {
      "text/html": [
       "<pre style=\"white-space:pre;overflow-x:auto;line-height:normal;font-family:Menlo,'DejaVu Sans Mono',consolas,'Courier New',monospace;margin:0px\"><span style=\"color: #d75f00; text-decoration-color: #d75f00\">Warning: Isotope(s) in SMILES: [2H]C([2H])([2H])OS(C)(=O)=O</span>\n",
       "</pre>\n"
      ],
      "text/plain": [
       "\u001b[38;5;166mWarning: Isotope(s) in SMILES: [2H]C([2H])([2H])OS(C)(=O)=O\u001b[0m\n"
      ]
     },
     "metadata": {},
     "output_type": "display_data"
    },
    {
     "data": {
      "text/html": [
       "<pre style=\"white-space:pre;overflow-x:auto;line-height:normal;font-family:Menlo,'DejaVu Sans Mono',consolas,'Courier New',monospace;margin:0px\"><span style=\"color: #d75f00; text-decoration-color: #d75f00\">Warning: Isotope(s) in SMILES: [2H]C([2H])([2H])OS(C)(=O)=O</span>\n",
       "</pre>\n"
      ],
      "text/plain": [
       "\u001b[38;5;166mWarning: Isotope(s) in SMILES: [2H]C([2H])([2H])OS(C)(=O)=O\u001b[0m\n"
      ]
     },
     "metadata": {},
     "output_type": "display_data"
    },
    {
     "data": {
      "text/html": [
       "<pre style=\"white-space:pre;overflow-x:auto;line-height:normal;font-family:Menlo,'DejaVu Sans Mono',consolas,'Courier New',monospace;margin:0px\"><span style=\"color: #d75f00; text-decoration-color: #d75f00\">Warning: Isotope(s) in SMILES: [2H]C([2H])([2H])OS(C)(=O)=O</span>\n",
       "</pre>\n"
      ],
      "text/plain": [
       "\u001b[38;5;166mWarning: Isotope(s) in SMILES: [2H]C([2H])([2H])OS(C)(=O)=O\u001b[0m\n"
      ]
     },
     "metadata": {},
     "output_type": "display_data"
    },
    {
     "data": {
      "text/html": [
       "<pre style=\"white-space:pre;overflow-x:auto;line-height:normal;font-family:Menlo,'DejaVu Sans Mono',consolas,'Courier New',monospace;margin:0px\"><span style=\"color: #d75f00; text-decoration-color: #d75f00\">Warning: Isotope(s) in SMILES: [2H]C([2H])([2H])OS(C)(=O)=O</span>\n",
       "</pre>\n"
      ],
      "text/plain": [
       "\u001b[38;5;166mWarning: Isotope(s) in SMILES: [2H]C([2H])([2H])OS(C)(=O)=O\u001b[0m\n"
      ]
     },
     "metadata": {},
     "output_type": "display_data"
    },
    {
     "data": {
      "text/html": [
       "<pre style=\"white-space:pre;overflow-x:auto;line-height:normal;font-family:Menlo,'DejaVu Sans Mono',consolas,'Courier New',monospace;margin:0px\"><span style=\"color: #d75f00; text-decoration-color: #d75f00\">Warning: Isotope(s) in SMILES: [2H]C([2H])([2H])OS(C)(=O)=O</span>\n",
       "</pre>\n"
      ],
      "text/plain": [
       "\u001b[38;5;166mWarning: Isotope(s) in SMILES: [2H]C([2H])([2H])OS(C)(=O)=O\u001b[0m\n"
      ]
     },
     "metadata": {},
     "output_type": "display_data"
    },
    {
     "data": {
      "text/html": [
       "<pre style=\"white-space:pre;overflow-x:auto;line-height:normal;font-family:Menlo,'DejaVu Sans Mono',consolas,'Courier New',monospace;margin:0px\"><span style=\"color: #d75f00; text-decoration-color: #d75f00\">Warning: Isotope(s) in SMILES: [2H]C([2H])([2H])S(=O)(=O)CC(=O)O</span>\n",
       "</pre>\n"
      ],
      "text/plain": [
       "\u001b[38;5;166mWarning: Isotope(s) in SMILES: [2H]C([2H])([2H])S(=O)(=O)CC(=O)O\u001b[0m\n"
      ]
     },
     "metadata": {},
     "output_type": "display_data"
    },
    {
     "data": {
      "text/html": [
       "<pre style=\"white-space:pre;overflow-x:auto;line-height:normal;font-family:Menlo,'DejaVu Sans Mono',consolas,'Courier New',monospace;margin:0px\"><span style=\"color: #d75f00; text-decoration-color: #d75f00\">Warning: Isotope(s) in SMILES: [2H]C([2H])([2H])S(=O)(=O)CC(=O)O</span>\n",
       "</pre>\n"
      ],
      "text/plain": [
       "\u001b[38;5;166mWarning: Isotope(s) in SMILES: [2H]C([2H])([2H])S(=O)(=O)CC(=O)O\u001b[0m\n"
      ]
     },
     "metadata": {},
     "output_type": "display_data"
    },
    {
     "data": {
      "text/html": [
       "<pre style=\"white-space:pre;overflow-x:auto;line-height:normal;font-family:Menlo,'DejaVu Sans Mono',consolas,'Courier New',monospace;margin:0px\"><span style=\"color: #d75f00; text-decoration-color: #d75f00\">Warning: Isotope(s) in SMILES: [2H]C([2H])([2H])S(=O)(=O)CC(=O)O</span>\n",
       "</pre>\n"
      ],
      "text/plain": [
       "\u001b[38;5;166mWarning: Isotope(s) in SMILES: [2H]C([2H])([2H])S(=O)(=O)CC(=O)O\u001b[0m\n"
      ]
     },
     "metadata": {},
     "output_type": "display_data"
    },
    {
     "data": {
      "text/html": [
       "<pre style=\"white-space:pre;overflow-x:auto;line-height:normal;font-family:Menlo,'DejaVu Sans Mono',consolas,'Courier New',monospace;margin:0px\"><span style=\"color: #d75f00; text-decoration-color: #d75f00\">Warning: Isotope(s) in SMILES: [2H]C([2H])([2H])S(=O)(=O)CC(=O)O</span>\n",
       "</pre>\n"
      ],
      "text/plain": [
       "\u001b[38;5;166mWarning: Isotope(s) in SMILES: [2H]C([2H])([2H])S(=O)(=O)CC(=O)O\u001b[0m\n"
      ]
     },
     "metadata": {},
     "output_type": "display_data"
    },
    {
     "data": {
      "text/html": [
       "<pre style=\"white-space:pre;overflow-x:auto;line-height:normal;font-family:Menlo,'DejaVu Sans Mono',consolas,'Courier New',monospace;margin:0px\"><span style=\"color: #d75f00; text-decoration-color: #d75f00\">Warning: Isotope(s) in SMILES: [2H]C([2H])([2H])S(=O)(=O)CC(=O)O</span>\n",
       "</pre>\n"
      ],
      "text/plain": [
       "\u001b[38;5;166mWarning: Isotope(s) in SMILES: [2H]C([2H])([2H])S(=O)(=O)CC(=O)O\u001b[0m\n"
      ]
     },
     "metadata": {},
     "output_type": "display_data"
    },
    {
     "data": {
      "text/html": [
       "<pre style=\"white-space:pre;overflow-x:auto;line-height:normal;font-family:Menlo,'DejaVu Sans Mono',consolas,'Courier New',monospace;margin:0px\"><span style=\"color: #d75f00; text-decoration-color: #d75f00\">Warning: Isotope(s) in SMILES: [2H]C([2H])([2H])S(=O)(=O)CC(=O)O</span>\n",
       "</pre>\n"
      ],
      "text/plain": [
       "\u001b[38;5;166mWarning: Isotope(s) in SMILES: [2H]C([2H])([2H])S(=O)(=O)CC(=O)O\u001b[0m\n"
      ]
     },
     "metadata": {},
     "output_type": "display_data"
    },
    {
     "data": {
      "text/html": [
       "<pre style=\"white-space:pre;overflow-x:auto;line-height:normal;font-family:Menlo,'DejaVu Sans Mono',consolas,'Courier New',monospace;margin:0px\"><span style=\"color: #d75f00; text-decoration-color: #d75f00\">Warning: Isotope(s) in SMILES: [2H]C([2H])([2H])S(=O)(=O)CC(=O)O</span>\n",
       "</pre>\n"
      ],
      "text/plain": [
       "\u001b[38;5;166mWarning: Isotope(s) in SMILES: [2H]C([2H])([2H])S(=O)(=O)CC(=O)O\u001b[0m\n"
      ]
     },
     "metadata": {},
     "output_type": "display_data"
    },
    {
     "data": {
      "text/html": [
       "<pre style=\"white-space:pre;overflow-x:auto;line-height:normal;font-family:Menlo,'DejaVu Sans Mono',consolas,'Courier New',monospace;margin:0px\"><span style=\"color: #d75f00; text-decoration-color: #d75f00\">Warning: Isotope(s) in SMILES: [2H]C([2H])([2H])n1cc(CC(=O)O)cn1</span>\n",
       "</pre>\n"
      ],
      "text/plain": [
       "\u001b[38;5;166mWarning: Isotope(s) in SMILES: [2H]C([2H])([2H])n1cc(CC(=O)O)cn1\u001b[0m\n"
      ]
     },
     "metadata": {},
     "output_type": "display_data"
    },
    {
     "data": {
      "text/html": [
       "<pre style=\"white-space:pre;overflow-x:auto;line-height:normal;font-family:Menlo,'DejaVu Sans Mono',consolas,'Courier New',monospace;margin:0px\"><span style=\"color: #d75f00; text-decoration-color: #d75f00\">Warning: Isotope(s) in SMILES: [2H]C([2H])([2H])n1cc(CC(=O)O)cn1</span>\n",
       "</pre>\n"
      ],
      "text/plain": [
       "\u001b[38;5;166mWarning: Isotope(s) in SMILES: [2H]C([2H])([2H])n1cc(CC(=O)O)cn1\u001b[0m\n"
      ]
     },
     "metadata": {},
     "output_type": "display_data"
    },
    {
     "data": {
      "text/html": [
       "<pre style=\"white-space:pre;overflow-x:auto;line-height:normal;font-family:Menlo,'DejaVu Sans Mono',consolas,'Courier New',monospace;margin:0px\"><span style=\"color: #d75f00; text-decoration-color: #d75f00\">Warning: Isotope(s) in SMILES: [2H]C([2H])([2H])n1cc(CC(=O)O)cn1</span>\n",
       "</pre>\n"
      ],
      "text/plain": [
       "\u001b[38;5;166mWarning: Isotope(s) in SMILES: [2H]C([2H])([2H])n1cc(CC(=O)O)cn1\u001b[0m\n"
      ]
     },
     "metadata": {},
     "output_type": "display_data"
    },
    {
     "data": {
      "text/html": [
       "<pre style=\"white-space:pre;overflow-x:auto;line-height:normal;font-family:Menlo,'DejaVu Sans Mono',consolas,'Courier New',monospace;margin:0px\"><span style=\"color: #d75f00; text-decoration-color: #d75f00\">Warning: Isotope(s) in SMILES: [2H]C([2H])([2H])n1cc(CC(=O)O)cn1</span>\n",
       "</pre>\n"
      ],
      "text/plain": [
       "\u001b[38;5;166mWarning: Isotope(s) in SMILES: [2H]C([2H])([2H])n1cc(CC(=O)O)cn1\u001b[0m\n"
      ]
     },
     "metadata": {},
     "output_type": "display_data"
    },
    {
     "data": {
      "text/html": [
       "<pre style=\"white-space:pre;overflow-x:auto;line-height:normal;font-family:Menlo,'DejaVu Sans Mono',consolas,'Courier New',monospace;margin:0px\"><span style=\"color: #d75f00; text-decoration-color: #d75f00\">Warning: Isotope(s) in SMILES: [2H]C([2H])([2H])n1cc(CC(=O)O)cn1</span>\n",
       "</pre>\n"
      ],
      "text/plain": [
       "\u001b[38;5;166mWarning: Isotope(s) in SMILES: [2H]C([2H])([2H])n1cc(CC(=O)O)cn1\u001b[0m\n"
      ]
     },
     "metadata": {},
     "output_type": "display_data"
    },
    {
     "data": {
      "text/html": [
       "<pre style=\"white-space:pre;overflow-x:auto;line-height:normal;font-family:Menlo,'DejaVu Sans Mono',consolas,'Courier New',monospace;margin:0px\"><span style=\"color: #d75f00; text-decoration-color: #d75f00\">Warning: Isotope(s) in SMILES: [2H]C([2H])([2H])n1cc(CC(=O)O)cn1</span>\n",
       "</pre>\n"
      ],
      "text/plain": [
       "\u001b[38;5;166mWarning: Isotope(s) in SMILES: [2H]C([2H])([2H])n1cc(CC(=O)O)cn1\u001b[0m\n"
      ]
     },
     "metadata": {},
     "output_type": "display_data"
    },
    {
     "data": {
      "text/html": [
       "<pre style=\"white-space:pre;overflow-x:auto;line-height:normal;font-family:Menlo,'DejaVu Sans Mono',consolas,'Courier New',monospace;margin:0px\"><span style=\"color: #d75f00; text-decoration-color: #d75f00\">Warning: Isotope(s) in SMILES: [2H]C([2H])([2H])n1cc(CC(=O)O)cn1</span>\n",
       "</pre>\n"
      ],
      "text/plain": [
       "\u001b[38;5;166mWarning: Isotope(s) in SMILES: [2H]C([2H])([2H])n1cc(CC(=O)O)cn1\u001b[0m\n"
      ]
     },
     "metadata": {},
     "output_type": "display_data"
    },
    {
     "data": {
      "text/html": [
       "<pre style=\"white-space:pre;overflow-x:auto;line-height:normal;font-family:Menlo,'DejaVu Sans Mono',consolas,'Courier New',monospace;margin:0px\"><span style=\"color: #d75f00; text-decoration-color: #d75f00\">Warning: Isotope(s) in SMILES: [2H]C([2H])([2H])NCC(=O)O</span>\n",
       "</pre>\n"
      ],
      "text/plain": [
       "\u001b[38;5;166mWarning: Isotope(s) in SMILES: [2H]C([2H])([2H])NCC(=O)O\u001b[0m\n"
      ]
     },
     "metadata": {},
     "output_type": "display_data"
    },
    {
     "data": {
      "text/html": [
       "<pre style=\"white-space:pre;overflow-x:auto;line-height:normal;font-family:Menlo,'DejaVu Sans Mono',consolas,'Courier New',monospace;margin:0px\"><span style=\"color: #d75f00; text-decoration-color: #d75f00\">Warning: Isotope(s) in SMILES: [2H]C([2H])([2H])NCC(=O)O</span>\n",
       "</pre>\n"
      ],
      "text/plain": [
       "\u001b[38;5;166mWarning: Isotope(s) in SMILES: [2H]C([2H])([2H])NCC(=O)O\u001b[0m\n"
      ]
     },
     "metadata": {},
     "output_type": "display_data"
    },
    {
     "data": {
      "text/html": [
       "<pre style=\"white-space:pre;overflow-x:auto;line-height:normal;font-family:Menlo,'DejaVu Sans Mono',consolas,'Courier New',monospace;margin:0px\"><span style=\"color: #d75f00; text-decoration-color: #d75f00\">Warning: Isotope(s) in SMILES: [2H]C([2H])([2H])NCC(=O)O</span>\n",
       "</pre>\n"
      ],
      "text/plain": [
       "\u001b[38;5;166mWarning: Isotope(s) in SMILES: [2H]C([2H])([2H])NCC(=O)O\u001b[0m\n"
      ]
     },
     "metadata": {},
     "output_type": "display_data"
    },
    {
     "data": {
      "text/html": [
       "<pre style=\"white-space:pre;overflow-x:auto;line-height:normal;font-family:Menlo,'DejaVu Sans Mono',consolas,'Courier New',monospace;margin:0px\"><span style=\"color: #d75f00; text-decoration-color: #d75f00\">Warning: Isotope(s) in SMILES: [2H]C([2H])([2H])NCC(=O)O</span>\n",
       "</pre>\n"
      ],
      "text/plain": [
       "\u001b[38;5;166mWarning: Isotope(s) in SMILES: [2H]C([2H])([2H])NCC(=O)O\u001b[0m\n"
      ]
     },
     "metadata": {},
     "output_type": "display_data"
    },
    {
     "data": {
      "text/html": [
       "<pre style=\"white-space:pre;overflow-x:auto;line-height:normal;font-family:Menlo,'DejaVu Sans Mono',consolas,'Courier New',monospace;margin:0px\"><span style=\"color: #d75f00; text-decoration-color: #d75f00\">Warning: Isotope(s) in SMILES: [2H]C([2H])([2H])NCC(=O)O</span>\n",
       "</pre>\n"
      ],
      "text/plain": [
       "\u001b[38;5;166mWarning: Isotope(s) in SMILES: [2H]C([2H])([2H])NCC(=O)O\u001b[0m\n"
      ]
     },
     "metadata": {},
     "output_type": "display_data"
    },
    {
     "data": {
      "text/html": [
       "<pre style=\"white-space:pre;overflow-x:auto;line-height:normal;font-family:Menlo,'DejaVu Sans Mono',consolas,'Courier New',monospace;margin:0px\"><span style=\"color: #d75f00; text-decoration-color: #d75f00\">Warning: Isotope(s) in SMILES: [2H]C([2H])([2H])NCC(=O)O</span>\n",
       "</pre>\n"
      ],
      "text/plain": [
       "\u001b[38;5;166mWarning: Isotope(s) in SMILES: [2H]C([2H])([2H])NCC(=O)O\u001b[0m\n"
      ]
     },
     "metadata": {},
     "output_type": "display_data"
    },
    {
     "data": {
      "text/html": [
       "<pre style=\"white-space:pre;overflow-x:auto;line-height:normal;font-family:Menlo,'DejaVu Sans Mono',consolas,'Courier New',monospace;margin:0px\"><span style=\"color: #d75f00; text-decoration-color: #d75f00\">Warning: Isotope(s) in SMILES: [2H]C([2H])([2H])NCC(=O)O</span>\n",
       "</pre>\n"
      ],
      "text/plain": [
       "\u001b[38;5;166mWarning: Isotope(s) in SMILES: [2H]C([2H])([2H])NCC(=O)O\u001b[0m\n"
      ]
     },
     "metadata": {},
     "output_type": "display_data"
    },
    {
     "data": {
      "text/html": [
       "<pre style=\"white-space:pre;overflow-x:auto;line-height:normal;font-family:Menlo,'DejaVu Sans Mono',consolas,'Courier New',monospace;margin:0px\"><span style=\"color: #d75f00; text-decoration-color: #d75f00\">Warning: Isotope(s) in SMILES: [2H]C([2H])([2H])n1cc(N)cn1</span>\n",
       "</pre>\n"
      ],
      "text/plain": [
       "\u001b[38;5;166mWarning: Isotope(s) in SMILES: [2H]C([2H])([2H])n1cc(N)cn1\u001b[0m\n"
      ]
     },
     "metadata": {},
     "output_type": "display_data"
    },
    {
     "data": {
      "text/html": [
       "<pre style=\"white-space:pre;overflow-x:auto;line-height:normal;font-family:Menlo,'DejaVu Sans Mono',consolas,'Courier New',monospace;margin:0px\"><span style=\"color: #d75f00; text-decoration-color: #d75f00\">Warning: Isotope(s) in SMILES: [2H]C([2H])([2H])n1cc(N)cn1</span>\n",
       "</pre>\n"
      ],
      "text/plain": [
       "\u001b[38;5;166mWarning: Isotope(s) in SMILES: [2H]C([2H])([2H])n1cc(N)cn1\u001b[0m\n"
      ]
     },
     "metadata": {},
     "output_type": "display_data"
    },
    {
     "data": {
      "text/html": [
       "<pre style=\"white-space:pre;overflow-x:auto;line-height:normal;font-family:Menlo,'DejaVu Sans Mono',consolas,'Courier New',monospace;margin:0px\"><span style=\"color: #d75f00; text-decoration-color: #d75f00\">Warning: Isotope(s) in SMILES: [2H]C([2H])([2H])n1cc(N)cn1</span>\n",
       "</pre>\n"
      ],
      "text/plain": [
       "\u001b[38;5;166mWarning: Isotope(s) in SMILES: [2H]C([2H])([2H])n1cc(N)cn1\u001b[0m\n"
      ]
     },
     "metadata": {},
     "output_type": "display_data"
    },
    {
     "data": {
      "text/html": [
       "<pre style=\"white-space:pre;overflow-x:auto;line-height:normal;font-family:Menlo,'DejaVu Sans Mono',consolas,'Courier New',monospace;margin:0px\"><span style=\"color: #d75f00; text-decoration-color: #d75f00\">Warning: Isotope(s) in SMILES: [2H]C([2H])([2H])n1cc(N)cn1</span>\n",
       "</pre>\n"
      ],
      "text/plain": [
       "\u001b[38;5;166mWarning: Isotope(s) in SMILES: [2H]C([2H])([2H])n1cc(N)cn1\u001b[0m\n"
      ]
     },
     "metadata": {},
     "output_type": "display_data"
    },
    {
     "data": {
      "text/html": [
       "<pre style=\"white-space:pre;overflow-x:auto;line-height:normal;font-family:Menlo,'DejaVu Sans Mono',consolas,'Courier New',monospace;margin:0px\"><span style=\"color: #d75f00; text-decoration-color: #d75f00\">Warning: Isotope(s) in SMILES: [2H]C([2H])([2H])n1cc(N)cn1</span>\n",
       "</pre>\n"
      ],
      "text/plain": [
       "\u001b[38;5;166mWarning: Isotope(s) in SMILES: [2H]C([2H])([2H])n1cc(N)cn1\u001b[0m\n"
      ]
     },
     "metadata": {},
     "output_type": "display_data"
    },
    {
     "data": {
      "text/html": [
       "<pre style=\"white-space:pre;overflow-x:auto;line-height:normal;font-family:Menlo,'DejaVu Sans Mono',consolas,'Courier New',monospace;margin:0px\"><span style=\"color: #d75f00; text-decoration-color: #d75f00\">Warning: Isotope(s) in SMILES: [2H]C([2H])([2H])n1cc(N)cn1</span>\n",
       "</pre>\n"
      ],
      "text/plain": [
       "\u001b[38;5;166mWarning: Isotope(s) in SMILES: [2H]C([2H])([2H])n1cc(N)cn1\u001b[0m\n"
      ]
     },
     "metadata": {},
     "output_type": "display_data"
    },
    {
     "data": {
      "text/html": [
       "<pre style=\"white-space:pre;overflow-x:auto;line-height:normal;font-family:Menlo,'DejaVu Sans Mono',consolas,'Courier New',monospace;margin:0px\"><span style=\"color: #d75f00; text-decoration-color: #d75f00\">Warning: Isotope(s) in SMILES: [2H]C([2H])([2H])n1cc(N)cn1</span>\n",
       "</pre>\n"
      ],
      "text/plain": [
       "\u001b[38;5;166mWarning: Isotope(s) in SMILES: [2H]C([2H])([2H])n1cc(N)cn1\u001b[0m\n"
      ]
     },
     "metadata": {},
     "output_type": "display_data"
    },
    {
     "data": {
      "text/html": [
       "<pre style=\"white-space:pre;overflow-x:auto;line-height:normal;font-family:Menlo,'DejaVu Sans Mono',consolas,'Courier New',monospace;margin:0px\"><span style=\"color: #d75f00; text-decoration-color: #d75f00\">Warning: Isotope(s) in SMILES: [2H]C([2H])([2H])n1cc(N)cn1</span>\n",
       "</pre>\n"
      ],
      "text/plain": [
       "\u001b[38;5;166mWarning: Isotope(s) in SMILES: [2H]C([2H])([2H])n1cc(N)cn1\u001b[0m\n"
      ]
     },
     "metadata": {},
     "output_type": "display_data"
    },
    {
     "data": {
      "text/html": [
       "<pre style=\"white-space:pre;overflow-x:auto;line-height:normal;font-family:Menlo,'DejaVu Sans Mono',consolas,'Courier New',monospace;margin:0px\"></pre>\n"
      ],
      "text/plain": []
     },
     "metadata": {},
     "output_type": "display_data"
    },
    {
     "data": {
      "text/html": [
       "<pre style=\"white-space:pre;overflow-x:auto;line-height:normal;font-family:Menlo,'DejaVu Sans Mono',consolas,'Courier New',monospace;margin:0px\"><span style=\"color: #008080; text-decoration-color: #008080; font-weight: bold\">#new quotes</span> = <span style=\"color: #008080; text-decoration-color: #008080; font-weight: bold\">65093</span>\n",
       "</pre>\n"
      ],
      "text/plain": [
       "\u001b[1;36m#new quotes\u001b[0m = \u001b[1;36m65093\u001b[0m\n"
      ]
     },
     "metadata": {},
     "output_type": "display_data"
    },
    {
     "data": {
      "text/html": [
       "<pre style=\"white-space:pre;overflow-x:auto;line-height:normal;font-family:Menlo,'DejaVu Sans Mono',consolas,'Courier New',monospace;margin:0px\"><span style=\"color: #008080; text-decoration-color: #008080; font-weight: bold\">#quoted_compounds</span> = <span style=\"color: #008080; text-decoration-color: #008080; font-weight: bold\">4354</span>\n",
       "</pre>\n"
      ],
      "text/plain": [
       "\u001b[1;36m#quoted_compounds\u001b[0m = \u001b[1;36m4354\u001b[0m\n"
      ]
     },
     "metadata": {},
     "output_type": "display_data"
    },
    {
     "data": {
      "text/html": [
       "<pre style=\"white-space:pre;overflow-x:auto;line-height:normal;font-family:Menlo,'DejaVu Sans Mono',consolas,'Courier New',monospace;margin:0px\"><span style=\"color: #008080; text-decoration-color: #008080; font-weight: bold\">#unquoted_compounds</span> = <span style=\"color: #008080; text-decoration-color: #008080; font-weight: bold\">30000</span>\n",
       "</pre>\n"
      ],
      "text/plain": [
       "\u001b[1;36m#unquoted_compounds\u001b[0m = \u001b[1;36m30000\u001b[0m\n"
      ]
     },
     "metadata": {},
     "output_type": "display_data"
    },
    {
     "data": {
      "text/plain": [
       "(\u001b[1m\u001b[4m{C × 4354}\u001b[22m\u001b[24m, \u001b[1m\u001b[4m{C × 30000}\u001b[22m\u001b[24m)"
      ]
     },
     "execution_count": 40,
     "metadata": {},
     "output_type": "execute_result"
    }
   ],
   "source": [
    "animal.quote_compounds(catalogue, animal.reactants, debug=False)"
   ]
  },
  {
   "cell_type": "code",
   "execution_count": 41,
   "id": "b02172b7-ae59-47cd-820e-bc995de183d9",
   "metadata": {},
   "outputs": [
    {
     "data": {
      "text/html": [
       "<pre style=\"white-space:pre;overflow-x:auto;line-height:normal;font-family:Menlo,'DejaVu Sans Mono',consolas,'Courier New',monospace;margin:0px\"><span style=\"background-color: #d7af00; font-weight: bold\"> DISK </span> Writing <span style=\"color: #d7af00; text-decoration-color: #d7af00\">/opt/xchem-fragalysis-2/maxwin/BulkDock/TARGETS/Flavi_NS5_RdRp/Flavi_NS5_RdRp_0AJLJ9R.sqlite</span>...\n",
       "</pre>\n"
      ],
      "text/plain": [
       "\u001b[1;7;38;5;178m DISK \u001b[0m Writing \u001b[38;5;178m/opt/xchem-fragalysis-2/maxwin/BulkDock/TARGETS/Flavi_NS5_RdRp/Flavi_NS5_RdRp_0AJLJ9R.sqlite\u001b[0m...\n"
      ]
     },
     "metadata": {},
     "output_type": "display_data"
    },
    {
     "data": {
      "application/vnd.jupyter.widget-view+json": {
       "model_id": "60d5443b82ac43d1a783d0e30d6dbc7b",
       "version_major": 2,
       "version_minor": 0
      },
      "text/plain": [
       "Output()"
      ]
     },
     "metadata": {},
     "output_type": "display_data"
    },
    {
     "data": {
      "text/html": [
       "<pre style=\"white-space:pre;overflow-x:auto;line-height:normal;font-family:Menlo,'DejaVu Sans Mono',consolas,'Courier New',monospace;margin:0px\"><span style=\"color: #808080; text-decoration-color: #808080\">DEBUG: Copied 10000 of 541395 pages...</span>\n",
       "</pre>\n"
      ],
      "text/plain": [
       "\u001b[90mDEBUG: Copied 10000 of 541395 pages...\u001b[0m\n"
      ]
     },
     "metadata": {},
     "output_type": "display_data"
    },
    {
     "data": {
      "text/html": [
       "<pre style=\"white-space:pre;overflow-x:auto;line-height:normal;font-family:Menlo,'DejaVu Sans Mono',consolas,'Courier New',monospace;margin:0px\"><span style=\"color: #808080; text-decoration-color: #808080\">DEBUG: Copied 20000 of 541395 pages...</span>\n",
       "</pre>\n"
      ],
      "text/plain": [
       "\u001b[90mDEBUG: Copied 20000 of 541395 pages...\u001b[0m\n"
      ]
     },
     "metadata": {},
     "output_type": "display_data"
    },
    {
     "data": {
      "text/html": [
       "<pre style=\"white-space:pre;overflow-x:auto;line-height:normal;font-family:Menlo,'DejaVu Sans Mono',consolas,'Courier New',monospace;margin:0px\"><span style=\"color: #808080; text-decoration-color: #808080\">DEBUG: Copied 30000 of 541395 pages...</span>\n",
       "</pre>\n"
      ],
      "text/plain": [
       "\u001b[90mDEBUG: Copied 30000 of 541395 pages...\u001b[0m\n"
      ]
     },
     "metadata": {},
     "output_type": "display_data"
    },
    {
     "data": {
      "text/html": [
       "<pre style=\"white-space:pre;overflow-x:auto;line-height:normal;font-family:Menlo,'DejaVu Sans Mono',consolas,'Courier New',monospace;margin:0px\"><span style=\"color: #808080; text-decoration-color: #808080\">DEBUG: Copied 40000 of 541395 pages...</span>\n",
       "</pre>\n"
      ],
      "text/plain": [
       "\u001b[90mDEBUG: Copied 40000 of 541395 pages...\u001b[0m\n"
      ]
     },
     "metadata": {},
     "output_type": "display_data"
    },
    {
     "data": {
      "text/html": [
       "<pre style=\"white-space:pre;overflow-x:auto;line-height:normal;font-family:Menlo,'DejaVu Sans Mono',consolas,'Courier New',monospace;margin:0px\"><span style=\"color: #808080; text-decoration-color: #808080\">DEBUG: Copied 50000 of 541395 pages...</span>\n",
       "</pre>\n"
      ],
      "text/plain": [
       "\u001b[90mDEBUG: Copied 50000 of 541395 pages...\u001b[0m\n"
      ]
     },
     "metadata": {},
     "output_type": "display_data"
    },
    {
     "data": {
      "text/html": [
       "<pre style=\"white-space:pre;overflow-x:auto;line-height:normal;font-family:Menlo,'DejaVu Sans Mono',consolas,'Courier New',monospace;margin:0px\"><span style=\"color: #808080; text-decoration-color: #808080\">DEBUG: Copied 60000 of 541395 pages...</span>\n",
       "</pre>\n"
      ],
      "text/plain": [
       "\u001b[90mDEBUG: Copied 60000 of 541395 pages...\u001b[0m\n"
      ]
     },
     "metadata": {},
     "output_type": "display_data"
    },
    {
     "data": {
      "text/html": [
       "<pre style=\"white-space:pre;overflow-x:auto;line-height:normal;font-family:Menlo,'DejaVu Sans Mono',consolas,'Courier New',monospace;margin:0px\"><span style=\"color: #808080; text-decoration-color: #808080\">DEBUG: Copied 70000 of 541395 pages...</span>\n",
       "</pre>\n"
      ],
      "text/plain": [
       "\u001b[90mDEBUG: Copied 70000 of 541395 pages...\u001b[0m\n"
      ]
     },
     "metadata": {},
     "output_type": "display_data"
    },
    {
     "data": {
      "text/html": [
       "<pre style=\"white-space:pre;overflow-x:auto;line-height:normal;font-family:Menlo,'DejaVu Sans Mono',consolas,'Courier New',monospace;margin:0px\"><span style=\"color: #808080; text-decoration-color: #808080\">DEBUG: Copied 80000 of 541395 pages...</span>\n",
       "</pre>\n"
      ],
      "text/plain": [
       "\u001b[90mDEBUG: Copied 80000 of 541395 pages...\u001b[0m\n"
      ]
     },
     "metadata": {},
     "output_type": "display_data"
    },
    {
     "data": {
      "text/html": [
       "<pre style=\"white-space:pre;overflow-x:auto;line-height:normal;font-family:Menlo,'DejaVu Sans Mono',consolas,'Courier New',monospace;margin:0px\"><span style=\"color: #808080; text-decoration-color: #808080\">DEBUG: Copied 90000 of 541395 pages...</span>\n",
       "</pre>\n"
      ],
      "text/plain": [
       "\u001b[90mDEBUG: Copied 90000 of 541395 pages...\u001b[0m\n"
      ]
     },
     "metadata": {},
     "output_type": "display_data"
    },
    {
     "data": {
      "text/html": [
       "<pre style=\"white-space:pre;overflow-x:auto;line-height:normal;font-family:Menlo,'DejaVu Sans Mono',consolas,'Courier New',monospace;margin:0px\"><span style=\"color: #808080; text-decoration-color: #808080\">DEBUG: Copied 100000 of 541395 pages...</span>\n",
       "</pre>\n"
      ],
      "text/plain": [
       "\u001b[90mDEBUG: Copied 100000 of 541395 pages...\u001b[0m\n"
      ]
     },
     "metadata": {},
     "output_type": "display_data"
    },
    {
     "data": {
      "text/html": [
       "<pre style=\"white-space:pre;overflow-x:auto;line-height:normal;font-family:Menlo,'DejaVu Sans Mono',consolas,'Courier New',monospace;margin:0px\"><span style=\"color: #808080; text-decoration-color: #808080\">DEBUG: Copied 110000 of 541395 pages...</span>\n",
       "</pre>\n"
      ],
      "text/plain": [
       "\u001b[90mDEBUG: Copied 110000 of 541395 pages...\u001b[0m\n"
      ]
     },
     "metadata": {},
     "output_type": "display_data"
    },
    {
     "data": {
      "text/html": [
       "<pre style=\"white-space:pre;overflow-x:auto;line-height:normal;font-family:Menlo,'DejaVu Sans Mono',consolas,'Courier New',monospace;margin:0px\"><span style=\"color: #808080; text-decoration-color: #808080\">DEBUG: Copied 120000 of 541395 pages...</span>\n",
       "</pre>\n"
      ],
      "text/plain": [
       "\u001b[90mDEBUG: Copied 120000 of 541395 pages...\u001b[0m\n"
      ]
     },
     "metadata": {},
     "output_type": "display_data"
    },
    {
     "data": {
      "text/html": [
       "<pre style=\"white-space:pre;overflow-x:auto;line-height:normal;font-family:Menlo,'DejaVu Sans Mono',consolas,'Courier New',monospace;margin:0px\"><span style=\"color: #808080; text-decoration-color: #808080\">DEBUG: Copied 130000 of 541395 pages...</span>\n",
       "</pre>\n"
      ],
      "text/plain": [
       "\u001b[90mDEBUG: Copied 130000 of 541395 pages...\u001b[0m\n"
      ]
     },
     "metadata": {},
     "output_type": "display_data"
    },
    {
     "data": {
      "text/html": [
       "<pre style=\"white-space:pre;overflow-x:auto;line-height:normal;font-family:Menlo,'DejaVu Sans Mono',consolas,'Courier New',monospace;margin:0px\"><span style=\"color: #808080; text-decoration-color: #808080\">DEBUG: Copied 140000 of 541395 pages...</span>\n",
       "</pre>\n"
      ],
      "text/plain": [
       "\u001b[90mDEBUG: Copied 140000 of 541395 pages...\u001b[0m\n"
      ]
     },
     "metadata": {},
     "output_type": "display_data"
    },
    {
     "data": {
      "text/html": [
       "<pre style=\"white-space:pre;overflow-x:auto;line-height:normal;font-family:Menlo,'DejaVu Sans Mono',consolas,'Courier New',monospace;margin:0px\"><span style=\"color: #808080; text-decoration-color: #808080\">DEBUG: Copied 150000 of 541395 pages...</span>\n",
       "</pre>\n"
      ],
      "text/plain": [
       "\u001b[90mDEBUG: Copied 150000 of 541395 pages...\u001b[0m\n"
      ]
     },
     "metadata": {},
     "output_type": "display_data"
    },
    {
     "data": {
      "text/html": [
       "<pre style=\"white-space:pre;overflow-x:auto;line-height:normal;font-family:Menlo,'DejaVu Sans Mono',consolas,'Courier New',monospace;margin:0px\"><span style=\"color: #808080; text-decoration-color: #808080\">DEBUG: Copied 160000 of 541395 pages...</span>\n",
       "</pre>\n"
      ],
      "text/plain": [
       "\u001b[90mDEBUG: Copied 160000 of 541395 pages...\u001b[0m\n"
      ]
     },
     "metadata": {},
     "output_type": "display_data"
    },
    {
     "data": {
      "text/html": [
       "<pre style=\"white-space:pre;overflow-x:auto;line-height:normal;font-family:Menlo,'DejaVu Sans Mono',consolas,'Courier New',monospace;margin:0px\"><span style=\"color: #808080; text-decoration-color: #808080\">DEBUG: Copied 170000 of 541395 pages...</span>\n",
       "</pre>\n"
      ],
      "text/plain": [
       "\u001b[90mDEBUG: Copied 170000 of 541395 pages...\u001b[0m\n"
      ]
     },
     "metadata": {},
     "output_type": "display_data"
    },
    {
     "data": {
      "text/html": [
       "<pre style=\"white-space:pre;overflow-x:auto;line-height:normal;font-family:Menlo,'DejaVu Sans Mono',consolas,'Courier New',monospace;margin:0px\"><span style=\"color: #808080; text-decoration-color: #808080\">DEBUG: Copied 180000 of 541395 pages...</span>\n",
       "</pre>\n"
      ],
      "text/plain": [
       "\u001b[90mDEBUG: Copied 180000 of 541395 pages...\u001b[0m\n"
      ]
     },
     "metadata": {},
     "output_type": "display_data"
    },
    {
     "data": {
      "text/html": [
       "<pre style=\"white-space:pre;overflow-x:auto;line-height:normal;font-family:Menlo,'DejaVu Sans Mono',consolas,'Courier New',monospace;margin:0px\"><span style=\"color: #808080; text-decoration-color: #808080\">DEBUG: Copied 190000 of 541395 pages...</span>\n",
       "</pre>\n"
      ],
      "text/plain": [
       "\u001b[90mDEBUG: Copied 190000 of 541395 pages...\u001b[0m\n"
      ]
     },
     "metadata": {},
     "output_type": "display_data"
    },
    {
     "data": {
      "text/html": [
       "<pre style=\"white-space:pre;overflow-x:auto;line-height:normal;font-family:Menlo,'DejaVu Sans Mono',consolas,'Courier New',monospace;margin:0px\"><span style=\"color: #808080; text-decoration-color: #808080\">DEBUG: Copied 200000 of 541395 pages...</span>\n",
       "</pre>\n"
      ],
      "text/plain": [
       "\u001b[90mDEBUG: Copied 200000 of 541395 pages...\u001b[0m\n"
      ]
     },
     "metadata": {},
     "output_type": "display_data"
    },
    {
     "data": {
      "text/html": [
       "<pre style=\"white-space:pre;overflow-x:auto;line-height:normal;font-family:Menlo,'DejaVu Sans Mono',consolas,'Courier New',monospace;margin:0px\"><span style=\"color: #808080; text-decoration-color: #808080\">DEBUG: Copied 210000 of 541395 pages...</span>\n",
       "</pre>\n"
      ],
      "text/plain": [
       "\u001b[90mDEBUG: Copied 210000 of 541395 pages...\u001b[0m\n"
      ]
     },
     "metadata": {},
     "output_type": "display_data"
    },
    {
     "data": {
      "text/html": [
       "<pre style=\"white-space:pre;overflow-x:auto;line-height:normal;font-family:Menlo,'DejaVu Sans Mono',consolas,'Courier New',monospace;margin:0px\"><span style=\"color: #808080; text-decoration-color: #808080\">DEBUG: Copied 220000 of 541395 pages...</span>\n",
       "</pre>\n"
      ],
      "text/plain": [
       "\u001b[90mDEBUG: Copied 220000 of 541395 pages...\u001b[0m\n"
      ]
     },
     "metadata": {},
     "output_type": "display_data"
    },
    {
     "data": {
      "text/html": [
       "<pre style=\"white-space:pre;overflow-x:auto;line-height:normal;font-family:Menlo,'DejaVu Sans Mono',consolas,'Courier New',monospace;margin:0px\"><span style=\"color: #808080; text-decoration-color: #808080\">DEBUG: Copied 230000 of 541395 pages...</span>\n",
       "</pre>\n"
      ],
      "text/plain": [
       "\u001b[90mDEBUG: Copied 230000 of 541395 pages...\u001b[0m\n"
      ]
     },
     "metadata": {},
     "output_type": "display_data"
    },
    {
     "data": {
      "text/html": [
       "<pre style=\"white-space:pre;overflow-x:auto;line-height:normal;font-family:Menlo,'DejaVu Sans Mono',consolas,'Courier New',monospace;margin:0px\"><span style=\"color: #808080; text-decoration-color: #808080\">DEBUG: Copied 240000 of 541395 pages...</span>\n",
       "</pre>\n"
      ],
      "text/plain": [
       "\u001b[90mDEBUG: Copied 240000 of 541395 pages...\u001b[0m\n"
      ]
     },
     "metadata": {},
     "output_type": "display_data"
    },
    {
     "data": {
      "text/html": [
       "<pre style=\"white-space:pre;overflow-x:auto;line-height:normal;font-family:Menlo,'DejaVu Sans Mono',consolas,'Courier New',monospace;margin:0px\"><span style=\"color: #808080; text-decoration-color: #808080\">DEBUG: Copied 250000 of 541395 pages...</span>\n",
       "</pre>\n"
      ],
      "text/plain": [
       "\u001b[90mDEBUG: Copied 250000 of 541395 pages...\u001b[0m\n"
      ]
     },
     "metadata": {},
     "output_type": "display_data"
    },
    {
     "data": {
      "text/html": [
       "<pre style=\"white-space:pre;overflow-x:auto;line-height:normal;font-family:Menlo,'DejaVu Sans Mono',consolas,'Courier New',monospace;margin:0px\"><span style=\"color: #808080; text-decoration-color: #808080\">DEBUG: Copied 260000 of 541395 pages...</span>\n",
       "</pre>\n"
      ],
      "text/plain": [
       "\u001b[90mDEBUG: Copied 260000 of 541395 pages...\u001b[0m\n"
      ]
     },
     "metadata": {},
     "output_type": "display_data"
    },
    {
     "data": {
      "text/html": [
       "<pre style=\"white-space:pre;overflow-x:auto;line-height:normal;font-family:Menlo,'DejaVu Sans Mono',consolas,'Courier New',monospace;margin:0px\"><span style=\"color: #808080; text-decoration-color: #808080\">DEBUG: Copied 270000 of 541395 pages...</span>\n",
       "</pre>\n"
      ],
      "text/plain": [
       "\u001b[90mDEBUG: Copied 270000 of 541395 pages...\u001b[0m\n"
      ]
     },
     "metadata": {},
     "output_type": "display_data"
    },
    {
     "data": {
      "text/html": [
       "<pre style=\"white-space:pre;overflow-x:auto;line-height:normal;font-family:Menlo,'DejaVu Sans Mono',consolas,'Courier New',monospace;margin:0px\"><span style=\"color: #808080; text-decoration-color: #808080\">DEBUG: Copied 280000 of 541395 pages...</span>\n",
       "</pre>\n"
      ],
      "text/plain": [
       "\u001b[90mDEBUG: Copied 280000 of 541395 pages...\u001b[0m\n"
      ]
     },
     "metadata": {},
     "output_type": "display_data"
    },
    {
     "data": {
      "text/html": [
       "<pre style=\"white-space:pre;overflow-x:auto;line-height:normal;font-family:Menlo,'DejaVu Sans Mono',consolas,'Courier New',monospace;margin:0px\"><span style=\"color: #808080; text-decoration-color: #808080\">DEBUG: Copied 290000 of 541395 pages...</span>\n",
       "</pre>\n"
      ],
      "text/plain": [
       "\u001b[90mDEBUG: Copied 290000 of 541395 pages...\u001b[0m\n"
      ]
     },
     "metadata": {},
     "output_type": "display_data"
    },
    {
     "data": {
      "text/html": [
       "<pre style=\"white-space:pre;overflow-x:auto;line-height:normal;font-family:Menlo,'DejaVu Sans Mono',consolas,'Courier New',monospace;margin:0px\"><span style=\"color: #808080; text-decoration-color: #808080\">DEBUG: Copied 300000 of 541395 pages...</span>\n",
       "</pre>\n"
      ],
      "text/plain": [
       "\u001b[90mDEBUG: Copied 300000 of 541395 pages...\u001b[0m\n"
      ]
     },
     "metadata": {},
     "output_type": "display_data"
    },
    {
     "data": {
      "text/html": [
       "<pre style=\"white-space:pre;overflow-x:auto;line-height:normal;font-family:Menlo,'DejaVu Sans Mono',consolas,'Courier New',monospace;margin:0px\"><span style=\"color: #808080; text-decoration-color: #808080\">DEBUG: Copied 310000 of 541395 pages...</span>\n",
       "</pre>\n"
      ],
      "text/plain": [
       "\u001b[90mDEBUG: Copied 310000 of 541395 pages...\u001b[0m\n"
      ]
     },
     "metadata": {},
     "output_type": "display_data"
    },
    {
     "data": {
      "text/html": [
       "<pre style=\"white-space:pre;overflow-x:auto;line-height:normal;font-family:Menlo,'DejaVu Sans Mono',consolas,'Courier New',monospace;margin:0px\"><span style=\"color: #808080; text-decoration-color: #808080\">DEBUG: Copied 320000 of 541395 pages...</span>\n",
       "</pre>\n"
      ],
      "text/plain": [
       "\u001b[90mDEBUG: Copied 320000 of 541395 pages...\u001b[0m\n"
      ]
     },
     "metadata": {},
     "output_type": "display_data"
    },
    {
     "data": {
      "text/html": [
       "<pre style=\"white-space:pre;overflow-x:auto;line-height:normal;font-family:Menlo,'DejaVu Sans Mono',consolas,'Courier New',monospace;margin:0px\"><span style=\"color: #808080; text-decoration-color: #808080\">DEBUG: Copied 330000 of 541395 pages...</span>\n",
       "</pre>\n"
      ],
      "text/plain": [
       "\u001b[90mDEBUG: Copied 330000 of 541395 pages...\u001b[0m\n"
      ]
     },
     "metadata": {},
     "output_type": "display_data"
    },
    {
     "data": {
      "text/html": [
       "<pre style=\"white-space:pre;overflow-x:auto;line-height:normal;font-family:Menlo,'DejaVu Sans Mono',consolas,'Courier New',monospace;margin:0px\"><span style=\"color: #808080; text-decoration-color: #808080\">DEBUG: Copied 340000 of 541395 pages...</span>\n",
       "</pre>\n"
      ],
      "text/plain": [
       "\u001b[90mDEBUG: Copied 340000 of 541395 pages...\u001b[0m\n"
      ]
     },
     "metadata": {},
     "output_type": "display_data"
    },
    {
     "data": {
      "text/html": [
       "<pre style=\"white-space:pre;overflow-x:auto;line-height:normal;font-family:Menlo,'DejaVu Sans Mono',consolas,'Courier New',monospace;margin:0px\"><span style=\"color: #808080; text-decoration-color: #808080\">DEBUG: Copied 350000 of 541395 pages...</span>\n",
       "</pre>\n"
      ],
      "text/plain": [
       "\u001b[90mDEBUG: Copied 350000 of 541395 pages...\u001b[0m\n"
      ]
     },
     "metadata": {},
     "output_type": "display_data"
    },
    {
     "data": {
      "text/html": [
       "<pre style=\"white-space:pre;overflow-x:auto;line-height:normal;font-family:Menlo,'DejaVu Sans Mono',consolas,'Courier New',monospace;margin:0px\"><span style=\"color: #808080; text-decoration-color: #808080\">DEBUG: Copied 360000 of 541395 pages...</span>\n",
       "</pre>\n"
      ],
      "text/plain": [
       "\u001b[90mDEBUG: Copied 360000 of 541395 pages...\u001b[0m\n"
      ]
     },
     "metadata": {},
     "output_type": "display_data"
    },
    {
     "data": {
      "text/html": [
       "<pre style=\"white-space:pre;overflow-x:auto;line-height:normal;font-family:Menlo,'DejaVu Sans Mono',consolas,'Courier New',monospace;margin:0px\"><span style=\"color: #808080; text-decoration-color: #808080\">DEBUG: Copied 370000 of 541395 pages...</span>\n",
       "</pre>\n"
      ],
      "text/plain": [
       "\u001b[90mDEBUG: Copied 370000 of 541395 pages...\u001b[0m\n"
      ]
     },
     "metadata": {},
     "output_type": "display_data"
    },
    {
     "data": {
      "text/html": [
       "<pre style=\"white-space:pre;overflow-x:auto;line-height:normal;font-family:Menlo,'DejaVu Sans Mono',consolas,'Courier New',monospace;margin:0px\"><span style=\"color: #808080; text-decoration-color: #808080\">DEBUG: Copied 380000 of 541395 pages...</span>\n",
       "</pre>\n"
      ],
      "text/plain": [
       "\u001b[90mDEBUG: Copied 380000 of 541395 pages...\u001b[0m\n"
      ]
     },
     "metadata": {},
     "output_type": "display_data"
    },
    {
     "data": {
      "text/html": [
       "<pre style=\"white-space:pre;overflow-x:auto;line-height:normal;font-family:Menlo,'DejaVu Sans Mono',consolas,'Courier New',monospace;margin:0px\"><span style=\"color: #808080; text-decoration-color: #808080\">DEBUG: Copied 390000 of 541395 pages...</span>\n",
       "</pre>\n"
      ],
      "text/plain": [
       "\u001b[90mDEBUG: Copied 390000 of 541395 pages...\u001b[0m\n"
      ]
     },
     "metadata": {},
     "output_type": "display_data"
    },
    {
     "data": {
      "text/html": [
       "<pre style=\"white-space:pre;overflow-x:auto;line-height:normal;font-family:Menlo,'DejaVu Sans Mono',consolas,'Courier New',monospace;margin:0px\"><span style=\"color: #808080; text-decoration-color: #808080\">DEBUG: Copied 400000 of 541395 pages...</span>\n",
       "</pre>\n"
      ],
      "text/plain": [
       "\u001b[90mDEBUG: Copied 400000 of 541395 pages...\u001b[0m\n"
      ]
     },
     "metadata": {},
     "output_type": "display_data"
    },
    {
     "data": {
      "text/html": [
       "<pre style=\"white-space:pre;overflow-x:auto;line-height:normal;font-family:Menlo,'DejaVu Sans Mono',consolas,'Courier New',monospace;margin:0px\"><span style=\"color: #808080; text-decoration-color: #808080\">DEBUG: Copied 410000 of 541395 pages...</span>\n",
       "</pre>\n"
      ],
      "text/plain": [
       "\u001b[90mDEBUG: Copied 410000 of 541395 pages...\u001b[0m\n"
      ]
     },
     "metadata": {},
     "output_type": "display_data"
    },
    {
     "data": {
      "text/html": [
       "<pre style=\"white-space:pre;overflow-x:auto;line-height:normal;font-family:Menlo,'DejaVu Sans Mono',consolas,'Courier New',monospace;margin:0px\"><span style=\"color: #808080; text-decoration-color: #808080\">DEBUG: Copied 420000 of 541395 pages...</span>\n",
       "</pre>\n"
      ],
      "text/plain": [
       "\u001b[90mDEBUG: Copied 420000 of 541395 pages...\u001b[0m\n"
      ]
     },
     "metadata": {},
     "output_type": "display_data"
    },
    {
     "data": {
      "text/html": [
       "<pre style=\"white-space:pre;overflow-x:auto;line-height:normal;font-family:Menlo,'DejaVu Sans Mono',consolas,'Courier New',monospace;margin:0px\"><span style=\"color: #808080; text-decoration-color: #808080\">DEBUG: Copied 430000 of 541395 pages...</span>\n",
       "</pre>\n"
      ],
      "text/plain": [
       "\u001b[90mDEBUG: Copied 430000 of 541395 pages...\u001b[0m\n"
      ]
     },
     "metadata": {},
     "output_type": "display_data"
    },
    {
     "data": {
      "text/html": [
       "<pre style=\"white-space:pre;overflow-x:auto;line-height:normal;font-family:Menlo,'DejaVu Sans Mono',consolas,'Courier New',monospace;margin:0px\"><span style=\"color: #808080; text-decoration-color: #808080\">DEBUG: Copied 440000 of 541395 pages...</span>\n",
       "</pre>\n"
      ],
      "text/plain": [
       "\u001b[90mDEBUG: Copied 440000 of 541395 pages...\u001b[0m\n"
      ]
     },
     "metadata": {},
     "output_type": "display_data"
    },
    {
     "data": {
      "text/html": [
       "<pre style=\"white-space:pre;overflow-x:auto;line-height:normal;font-family:Menlo,'DejaVu Sans Mono',consolas,'Courier New',monospace;margin:0px\"><span style=\"color: #808080; text-decoration-color: #808080\">DEBUG: Copied 450000 of 541395 pages...</span>\n",
       "</pre>\n"
      ],
      "text/plain": [
       "\u001b[90mDEBUG: Copied 450000 of 541395 pages...\u001b[0m\n"
      ]
     },
     "metadata": {},
     "output_type": "display_data"
    },
    {
     "data": {
      "text/html": [
       "<pre style=\"white-space:pre;overflow-x:auto;line-height:normal;font-family:Menlo,'DejaVu Sans Mono',consolas,'Courier New',monospace;margin:0px\"><span style=\"color: #808080; text-decoration-color: #808080\">DEBUG: Copied 460000 of 541395 pages...</span>\n",
       "</pre>\n"
      ],
      "text/plain": [
       "\u001b[90mDEBUG: Copied 460000 of 541395 pages...\u001b[0m\n"
      ]
     },
     "metadata": {},
     "output_type": "display_data"
    },
    {
     "data": {
      "text/html": [
       "<pre style=\"white-space:pre;overflow-x:auto;line-height:normal;font-family:Menlo,'DejaVu Sans Mono',consolas,'Courier New',monospace;margin:0px\"><span style=\"color: #808080; text-decoration-color: #808080\">DEBUG: Copied 470000 of 541395 pages...</span>\n",
       "</pre>\n"
      ],
      "text/plain": [
       "\u001b[90mDEBUG: Copied 470000 of 541395 pages...\u001b[0m\n"
      ]
     },
     "metadata": {},
     "output_type": "display_data"
    },
    {
     "data": {
      "text/html": [
       "<pre style=\"white-space:pre;overflow-x:auto;line-height:normal;font-family:Menlo,'DejaVu Sans Mono',consolas,'Courier New',monospace;margin:0px\"><span style=\"color: #808080; text-decoration-color: #808080\">DEBUG: Copied 480000 of 541395 pages...</span>\n",
       "</pre>\n"
      ],
      "text/plain": [
       "\u001b[90mDEBUG: Copied 480000 of 541395 pages...\u001b[0m\n"
      ]
     },
     "metadata": {},
     "output_type": "display_data"
    },
    {
     "data": {
      "text/html": [
       "<pre style=\"white-space:pre;overflow-x:auto;line-height:normal;font-family:Menlo,'DejaVu Sans Mono',consolas,'Courier New',monospace;margin:0px\"><span style=\"color: #808080; text-decoration-color: #808080\">DEBUG: Copied 490000 of 541395 pages...</span>\n",
       "</pre>\n"
      ],
      "text/plain": [
       "\u001b[90mDEBUG: Copied 490000 of 541395 pages...\u001b[0m\n"
      ]
     },
     "metadata": {},
     "output_type": "display_data"
    },
    {
     "data": {
      "text/html": [
       "<pre style=\"white-space:pre;overflow-x:auto;line-height:normal;font-family:Menlo,'DejaVu Sans Mono',consolas,'Courier New',monospace;margin:0px\"><span style=\"color: #808080; text-decoration-color: #808080\">DEBUG: Copied 500000 of 541395 pages...</span>\n",
       "</pre>\n"
      ],
      "text/plain": [
       "\u001b[90mDEBUG: Copied 500000 of 541395 pages...\u001b[0m\n"
      ]
     },
     "metadata": {},
     "output_type": "display_data"
    },
    {
     "data": {
      "text/html": [
       "<pre style=\"white-space:pre;overflow-x:auto;line-height:normal;font-family:Menlo,'DejaVu Sans Mono',consolas,'Courier New',monospace;margin:0px\"><span style=\"color: #808080; text-decoration-color: #808080\">DEBUG: Copied 510000 of 541395 pages...</span>\n",
       "</pre>\n"
      ],
      "text/plain": [
       "\u001b[90mDEBUG: Copied 510000 of 541395 pages...\u001b[0m\n"
      ]
     },
     "metadata": {},
     "output_type": "display_data"
    },
    {
     "data": {
      "text/html": [
       "<pre style=\"white-space:pre;overflow-x:auto;line-height:normal;font-family:Menlo,'DejaVu Sans Mono',consolas,'Courier New',monospace;margin:0px\"><span style=\"color: #808080; text-decoration-color: #808080\">DEBUG: Copied 520000 of 541395 pages...</span>\n",
       "</pre>\n"
      ],
      "text/plain": [
       "\u001b[90mDEBUG: Copied 520000 of 541395 pages...\u001b[0m\n"
      ]
     },
     "metadata": {},
     "output_type": "display_data"
    },
    {
     "data": {
      "text/html": [
       "<pre style=\"white-space:pre;overflow-x:auto;line-height:normal;font-family:Menlo,'DejaVu Sans Mono',consolas,'Courier New',monospace;margin:0px\"><span style=\"color: #808080; text-decoration-color: #808080\">DEBUG: Copied 530000 of 541395 pages...</span>\n",
       "</pre>\n"
      ],
      "text/plain": [
       "\u001b[90mDEBUG: Copied 530000 of 541395 pages...\u001b[0m\n"
      ]
     },
     "metadata": {},
     "output_type": "display_data"
    },
    {
     "data": {
      "text/html": [
       "<pre style=\"white-space:pre;overflow-x:auto;line-height:normal;font-family:Menlo,'DejaVu Sans Mono',consolas,'Courier New',monospace;margin:0px\"><span style=\"color: #808080; text-decoration-color: #808080\">DEBUG: Copied 540000 of 541395 pages...</span>\n",
       "</pre>\n"
      ],
      "text/plain": [
       "\u001b[90mDEBUG: Copied 540000 of 541395 pages...\u001b[0m\n"
      ]
     },
     "metadata": {},
     "output_type": "display_data"
    },
    {
     "data": {
      "text/html": [
       "<pre style=\"white-space:pre;overflow-x:auto;line-height:normal;font-family:Menlo,'DejaVu Sans Mono',consolas,'Courier New',monospace;margin:0px\"><span style=\"color: #808080; text-decoration-color: #808080\">DEBUG: Copied 541395 of 541395 pages...</span>\n",
       "</pre>\n"
      ],
      "text/plain": [
       "\u001b[90mDEBUG: Copied 541395 of 541395 pages...\u001b[0m\n"
      ]
     },
     "metadata": {},
     "output_type": "display_data"
    },
    {
     "data": {
      "text/html": [
       "<pre style=\"white-space:pre;overflow-x:auto;line-height:normal;font-family:Menlo,'DejaVu Sans Mono',consolas,'Courier New',monospace;margin:0px\"></pre>\n"
      ],
      "text/plain": []
     },
     "metadata": {},
     "output_type": "display_data"
    }
   ],
   "source": [
    "animal.db.backup()"
   ]
  },
  {
   "cell_type": "markdown",
   "id": "7b793ae2-75dd-415d-8f59-76082a21a513",
   "metadata": {},
   "source": [
    "## Unquoted scaffold recipe (for chem review)"
   ]
  },
  {
   "cell_type": "code",
   "execution_count": 43,
   "id": "161f723b-af43-4bb0-a9a3-44c281adecc7",
   "metadata": {},
   "outputs": [
    {
     "data": {
      "text/plain": [
       "\u001b[1m\u001b[4mcompounds tagged elaborated iter1 scaffold: {C × 82}\u001b[22m\u001b[24m"
      ]
     },
     "execution_count": 43,
     "metadata": {},
     "output_type": "execute_result"
    }
   ],
   "source": [
    "elaborated_scaffolds"
   ]
  },
  {
   "cell_type": "code",
   "execution_count": 44,
   "id": "a1b9d7f5-8c76-4362-ad44-b068508d3306",
   "metadata": {},
   "outputs": [
    {
     "data": {
      "text/html": [
       "<pre style=\"white-space:pre;overflow-x:auto;line-height:normal;font-family:Menlo,'DejaVu Sans Mono',consolas,'Courier New',monospace;margin:0px\"><span style=\"color: #008080; text-decoration-color: #008080; font-weight: bold\">#compounds</span> = <span style=\"color: #008080; text-decoration-color: #008080; font-weight: bold\">82</span>\n",
       "</pre>\n"
      ],
      "text/plain": [
       "\u001b[1;36m#compounds\u001b[0m = \u001b[1;36m82\u001b[0m\n"
      ]
     },
     "metadata": {},
     "output_type": "display_data"
    },
    {
     "data": {
      "application/vnd.jupyter.widget-view+json": {
       "model_id": "ad123bcdc2004699be949ed508be3c9d",
       "version_major": 2,
       "version_minor": 0
      },
      "text/plain": [
       "Output()"
      ]
     },
     "metadata": {},
     "output_type": "display_data"
    },
    {
     "data": {
      "text/html": [
       "<pre style=\"white-space:pre;overflow-x:auto;line-height:normal;font-family:Menlo,'DejaVu Sans Mono',consolas,'Courier New',monospace;margin:0px\"><span style=\"background-color: #008000; font-weight: bold\"> Success </span><span style=\"color: #008000; text-decoration-color: #008000; font-weight: bold\"> Found solution for compound=C734!</span>\n",
       "</pre>\n"
      ],
      "text/plain": [
       "\u001b[1;7;32m Success \u001b[0m\u001b[1;32m Found solution for compound=C734!\u001b[0m\n"
      ]
     },
     "metadata": {},
     "output_type": "display_data"
    },
    {
     "data": {
      "text/html": [
       "<pre style=\"white-space:pre;overflow-x:auto;line-height:normal;font-family:Menlo,'DejaVu Sans Mono',consolas,'Courier New',monospace;margin:0px\"><span style=\"background-color: #008000; font-weight: bold\"> Success </span><span style=\"color: #008000; text-decoration-color: #008000; font-weight: bold\"> Found solution for compound=C1443!</span>\n",
       "</pre>\n"
      ],
      "text/plain": [
       "\u001b[1;7;32m Success \u001b[0m\u001b[1;32m Found solution for compound=C1443!\u001b[0m\n"
      ]
     },
     "metadata": {},
     "output_type": "display_data"
    },
    {
     "data": {
      "text/html": [
       "<pre style=\"white-space:pre;overflow-x:auto;line-height:normal;font-family:Menlo,'DejaVu Sans Mono',consolas,'Courier New',monospace;margin:0px\"><span style=\"background-color: #008000; font-weight: bold\"> Success </span><span style=\"color: #008000; text-decoration-color: #008000; font-weight: bold\"> Found solution for compound=C2576!</span>\n",
       "</pre>\n"
      ],
      "text/plain": [
       "\u001b[1;7;32m Success \u001b[0m\u001b[1;32m Found solution for compound=C2576!\u001b[0m\n"
      ]
     },
     "metadata": {},
     "output_type": "display_data"
    },
    {
     "data": {
      "text/html": [
       "<pre style=\"white-space:pre;overflow-x:auto;line-height:normal;font-family:Menlo,'DejaVu Sans Mono',consolas,'Courier New',monospace;margin:0px\"><span style=\"background-color: #008000; font-weight: bold\"> Success </span><span style=\"color: #008000; text-decoration-color: #008000; font-weight: bold\"> Found solution for compound=C3098!</span>\n",
       "</pre>\n"
      ],
      "text/plain": [
       "\u001b[1;7;32m Success \u001b[0m\u001b[1;32m Found solution for compound=C3098!\u001b[0m\n"
      ]
     },
     "metadata": {},
     "output_type": "display_data"
    },
    {
     "data": {
      "text/html": [
       "<pre style=\"white-space:pre;overflow-x:auto;line-height:normal;font-family:Menlo,'DejaVu Sans Mono',consolas,'Courier New',monospace;margin:0px\"><span style=\"background-color: #008000; font-weight: bold\"> Success </span><span style=\"color: #008000; text-decoration-color: #008000; font-weight: bold\"> Found solution for compound=C4091!</span>\n",
       "</pre>\n"
      ],
      "text/plain": [
       "\u001b[1;7;32m Success \u001b[0m\u001b[1;32m Found solution for compound=C4091!\u001b[0m\n"
      ]
     },
     "metadata": {},
     "output_type": "display_data"
    },
    {
     "data": {
      "text/html": [
       "<pre style=\"white-space:pre;overflow-x:auto;line-height:normal;font-family:Menlo,'DejaVu Sans Mono',consolas,'Courier New',monospace;margin:0px\"><span style=\"background-color: #008000; font-weight: bold\"> Success </span><span style=\"color: #008000; text-decoration-color: #008000; font-weight: bold\"> Found solution for compound=C4093!</span>\n",
       "</pre>\n"
      ],
      "text/plain": [
       "\u001b[1;7;32m Success \u001b[0m\u001b[1;32m Found solution for compound=C4093!\u001b[0m\n"
      ]
     },
     "metadata": {},
     "output_type": "display_data"
    },
    {
     "data": {
      "text/html": [
       "<pre style=\"white-space:pre;overflow-x:auto;line-height:normal;font-family:Menlo,'DejaVu Sans Mono',consolas,'Courier New',monospace;margin:0px\"><span style=\"background-color: #008000; font-weight: bold\"> Success </span><span style=\"color: #008000; text-decoration-color: #008000; font-weight: bold\"> Found solution for compound=C4109!</span>\n",
       "</pre>\n"
      ],
      "text/plain": [
       "\u001b[1;7;32m Success \u001b[0m\u001b[1;32m Found solution for compound=C4109!\u001b[0m\n"
      ]
     },
     "metadata": {},
     "output_type": "display_data"
    },
    {
     "data": {
      "text/html": [
       "<pre style=\"white-space:pre;overflow-x:auto;line-height:normal;font-family:Menlo,'DejaVu Sans Mono',consolas,'Courier New',monospace;margin:0px\"><span style=\"background-color: #ff8700; font-weight: bold\"> Warning </span><span style=\"color: #ff8700; text-decoration-color: #ff8700\"> Multiple solutions for compound=C7817!</span>\n",
       "</pre>\n"
      ],
      "text/plain": [
       "\u001b[1;7;38;5;208m Warning \u001b[0m\u001b[38;5;208m Multiple solutions for compound=C7817!\u001b[0m\n"
      ]
     },
     "metadata": {},
     "output_type": "display_data"
    },
    {
     "data": {
      "text/html": [
       "<pre style=\"white-space:pre;overflow-x:auto;line-height:normal;font-family:Menlo,'DejaVu Sans Mono',consolas,'Courier New',monospace;margin:0px\"><span style=\"background-color: #008000; font-weight: bold\"> Success </span><span style=\"color: #008000; text-decoration-color: #008000; font-weight: bold\"> Found solution for compound=C9237!</span>\n",
       "</pre>\n"
      ],
      "text/plain": [
       "\u001b[1;7;32m Success \u001b[0m\u001b[1;32m Found solution for compound=C9237!\u001b[0m\n"
      ]
     },
     "metadata": {},
     "output_type": "display_data"
    },
    {
     "data": {
      "text/html": [
       "<pre style=\"white-space:pre;overflow-x:auto;line-height:normal;font-family:Menlo,'DejaVu Sans Mono',consolas,'Courier New',monospace;margin:0px\"><span style=\"background-color: #008000; font-weight: bold\"> Success </span><span style=\"color: #008000; text-decoration-color: #008000; font-weight: bold\"> Found solution for compound=C10275!</span>\n",
       "</pre>\n"
      ],
      "text/plain": [
       "\u001b[1;7;32m Success \u001b[0m\u001b[1;32m Found solution for compound=C10275!\u001b[0m\n"
      ]
     },
     "metadata": {},
     "output_type": "display_data"
    },
    {
     "data": {
      "text/html": [
       "<pre style=\"white-space:pre;overflow-x:auto;line-height:normal;font-family:Menlo,'DejaVu Sans Mono',consolas,'Courier New',monospace;margin:0px\"><span style=\"background-color: #008000; font-weight: bold\"> Success </span><span style=\"color: #008000; text-decoration-color: #008000; font-weight: bold\"> Found solution for compound=C12483!</span>\n",
       "</pre>\n"
      ],
      "text/plain": [
       "\u001b[1;7;32m Success \u001b[0m\u001b[1;32m Found solution for compound=C12483!\u001b[0m\n"
      ]
     },
     "metadata": {},
     "output_type": "display_data"
    },
    {
     "data": {
      "text/html": [
       "<pre style=\"white-space:pre;overflow-x:auto;line-height:normal;font-family:Menlo,'DejaVu Sans Mono',consolas,'Courier New',monospace;margin:0px\"><span style=\"background-color: #008000; font-weight: bold\"> Success </span><span style=\"color: #008000; text-decoration-color: #008000; font-weight: bold\"> Found solution for compound=C12548!</span>\n",
       "</pre>\n"
      ],
      "text/plain": [
       "\u001b[1;7;32m Success \u001b[0m\u001b[1;32m Found solution for compound=C12548!\u001b[0m\n"
      ]
     },
     "metadata": {},
     "output_type": "display_data"
    },
    {
     "data": {
      "text/html": [
       "<pre style=\"white-space:pre;overflow-x:auto;line-height:normal;font-family:Menlo,'DejaVu Sans Mono',consolas,'Courier New',monospace;margin:0px\"><span style=\"background-color: #008000; font-weight: bold\"> Success </span><span style=\"color: #008000; text-decoration-color: #008000; font-weight: bold\"> Found solution for compound=C12690!</span>\n",
       "</pre>\n"
      ],
      "text/plain": [
       "\u001b[1;7;32m Success \u001b[0m\u001b[1;32m Found solution for compound=C12690!\u001b[0m\n"
      ]
     },
     "metadata": {},
     "output_type": "display_data"
    },
    {
     "data": {
      "text/html": [
       "<pre style=\"white-space:pre;overflow-x:auto;line-height:normal;font-family:Menlo,'DejaVu Sans Mono',consolas,'Courier New',monospace;margin:0px\"><span style=\"background-color: #008000; font-weight: bold\"> Success </span><span style=\"color: #008000; text-decoration-color: #008000; font-weight: bold\"> Found solution for compound=C13884!</span>\n",
       "</pre>\n"
      ],
      "text/plain": [
       "\u001b[1;7;32m Success \u001b[0m\u001b[1;32m Found solution for compound=C13884!\u001b[0m\n"
      ]
     },
     "metadata": {},
     "output_type": "display_data"
    },
    {
     "data": {
      "text/html": [
       "<pre style=\"white-space:pre;overflow-x:auto;line-height:normal;font-family:Menlo,'DejaVu Sans Mono',consolas,'Courier New',monospace;margin:0px\"><span style=\"background-color: #008000; font-weight: bold\"> Success </span><span style=\"color: #008000; text-decoration-color: #008000; font-weight: bold\"> Found solution for compound=C16080!</span>\n",
       "</pre>\n"
      ],
      "text/plain": [
       "\u001b[1;7;32m Success \u001b[0m\u001b[1;32m Found solution for compound=C16080!\u001b[0m\n"
      ]
     },
     "metadata": {},
     "output_type": "display_data"
    },
    {
     "data": {
      "text/html": [
       "<pre style=\"white-space:pre;overflow-x:auto;line-height:normal;font-family:Menlo,'DejaVu Sans Mono',consolas,'Courier New',monospace;margin:0px\"><span style=\"background-color: #008000; font-weight: bold\"> Success </span><span style=\"color: #008000; text-decoration-color: #008000; font-weight: bold\"> Found solution for compound=C19774!</span>\n",
       "</pre>\n"
      ],
      "text/plain": [
       "\u001b[1;7;32m Success \u001b[0m\u001b[1;32m Found solution for compound=C19774!\u001b[0m\n"
      ]
     },
     "metadata": {},
     "output_type": "display_data"
    },
    {
     "data": {
      "text/html": [
       "<pre style=\"white-space:pre;overflow-x:auto;line-height:normal;font-family:Menlo,'DejaVu Sans Mono',consolas,'Courier New',monospace;margin:0px\"><span style=\"background-color: #008000; font-weight: bold\"> Success </span><span style=\"color: #008000; text-decoration-color: #008000; font-weight: bold\"> Found solution for compound=C20299!</span>\n",
       "</pre>\n"
      ],
      "text/plain": [
       "\u001b[1;7;32m Success \u001b[0m\u001b[1;32m Found solution for compound=C20299!\u001b[0m\n"
      ]
     },
     "metadata": {},
     "output_type": "display_data"
    },
    {
     "data": {
      "text/html": [
       "<pre style=\"white-space:pre;overflow-x:auto;line-height:normal;font-family:Menlo,'DejaVu Sans Mono',consolas,'Courier New',monospace;margin:0px\"><span style=\"background-color: #008000; font-weight: bold\"> Success </span><span style=\"color: #008000; text-decoration-color: #008000; font-weight: bold\"> Found solution for compound=C23289!</span>\n",
       "</pre>\n"
      ],
      "text/plain": [
       "\u001b[1;7;32m Success \u001b[0m\u001b[1;32m Found solution for compound=C23289!\u001b[0m\n"
      ]
     },
     "metadata": {},
     "output_type": "display_data"
    },
    {
     "data": {
      "text/html": [
       "<pre style=\"white-space:pre;overflow-x:auto;line-height:normal;font-family:Menlo,'DejaVu Sans Mono',consolas,'Courier New',monospace;margin:0px\"><span style=\"background-color: #008000; font-weight: bold\"> Success </span><span style=\"color: #008000; text-decoration-color: #008000; font-weight: bold\"> Found solution for compound=C28013!</span>\n",
       "</pre>\n"
      ],
      "text/plain": [
       "\u001b[1;7;32m Success \u001b[0m\u001b[1;32m Found solution for compound=C28013!\u001b[0m\n"
      ]
     },
     "metadata": {},
     "output_type": "display_data"
    },
    {
     "data": {
      "text/html": [
       "<pre style=\"white-space:pre;overflow-x:auto;line-height:normal;font-family:Menlo,'DejaVu Sans Mono',consolas,'Courier New',monospace;margin:0px\"><span style=\"background-color: #008000; font-weight: bold\"> Success </span><span style=\"color: #008000; text-decoration-color: #008000; font-weight: bold\"> Found solution for compound=C28106!</span>\n",
       "</pre>\n"
      ],
      "text/plain": [
       "\u001b[1;7;32m Success \u001b[0m\u001b[1;32m Found solution for compound=C28106!\u001b[0m\n"
      ]
     },
     "metadata": {},
     "output_type": "display_data"
    },
    {
     "data": {
      "text/html": [
       "<pre style=\"white-space:pre;overflow-x:auto;line-height:normal;font-family:Menlo,'DejaVu Sans Mono',consolas,'Courier New',monospace;margin:0px\"><span style=\"background-color: #008000; font-weight: bold\"> Success </span><span style=\"color: #008000; text-decoration-color: #008000; font-weight: bold\"> Found solution for compound=C28301!</span>\n",
       "</pre>\n"
      ],
      "text/plain": [
       "\u001b[1;7;32m Success \u001b[0m\u001b[1;32m Found solution for compound=C28301!\u001b[0m\n"
      ]
     },
     "metadata": {},
     "output_type": "display_data"
    },
    {
     "data": {
      "text/html": [
       "<pre style=\"white-space:pre;overflow-x:auto;line-height:normal;font-family:Menlo,'DejaVu Sans Mono',consolas,'Courier New',monospace;margin:0px\"><span style=\"background-color: #008000; font-weight: bold\"> Success </span><span style=\"color: #008000; text-decoration-color: #008000; font-weight: bold\"> Found solution for compound=C28628!</span>\n",
       "</pre>\n"
      ],
      "text/plain": [
       "\u001b[1;7;32m Success \u001b[0m\u001b[1;32m Found solution for compound=C28628!\u001b[0m\n"
      ]
     },
     "metadata": {},
     "output_type": "display_data"
    },
    {
     "data": {
      "text/html": [
       "<pre style=\"white-space:pre;overflow-x:auto;line-height:normal;font-family:Menlo,'DejaVu Sans Mono',consolas,'Courier New',monospace;margin:0px\"><span style=\"background-color: #008000; font-weight: bold\"> Success </span><span style=\"color: #008000; text-decoration-color: #008000; font-weight: bold\"> Found solution for compound=C29639!</span>\n",
       "</pre>\n"
      ],
      "text/plain": [
       "\u001b[1;7;32m Success \u001b[0m\u001b[1;32m Found solution for compound=C29639!\u001b[0m\n"
      ]
     },
     "metadata": {},
     "output_type": "display_data"
    },
    {
     "data": {
      "text/html": [
       "<pre style=\"white-space:pre;overflow-x:auto;line-height:normal;font-family:Menlo,'DejaVu Sans Mono',consolas,'Courier New',monospace;margin:0px\"><span style=\"background-color: #008000; font-weight: bold\"> Success </span><span style=\"color: #008000; text-decoration-color: #008000; font-weight: bold\"> Found solution for compound=C32376!</span>\n",
       "</pre>\n"
      ],
      "text/plain": [
       "\u001b[1;7;32m Success \u001b[0m\u001b[1;32m Found solution for compound=C32376!\u001b[0m\n"
      ]
     },
     "metadata": {},
     "output_type": "display_data"
    },
    {
     "data": {
      "text/html": [
       "<pre style=\"white-space:pre;overflow-x:auto;line-height:normal;font-family:Menlo,'DejaVu Sans Mono',consolas,'Courier New',monospace;margin:0px\"><span style=\"background-color: #008000; font-weight: bold\"> Success </span><span style=\"color: #008000; text-decoration-color: #008000; font-weight: bold\"> Found solution for compound=C33434!</span>\n",
       "</pre>\n"
      ],
      "text/plain": [
       "\u001b[1;7;32m Success \u001b[0m\u001b[1;32m Found solution for compound=C33434!\u001b[0m\n"
      ]
     },
     "metadata": {},
     "output_type": "display_data"
    },
    {
     "data": {
      "text/html": [
       "<pre style=\"white-space:pre;overflow-x:auto;line-height:normal;font-family:Menlo,'DejaVu Sans Mono',consolas,'Courier New',monospace;margin:0px\"><span style=\"background-color: #008000; font-weight: bold\"> Success </span><span style=\"color: #008000; text-decoration-color: #008000; font-weight: bold\"> Found solution for compound=C34583!</span>\n",
       "</pre>\n"
      ],
      "text/plain": [
       "\u001b[1;7;32m Success \u001b[0m\u001b[1;32m Found solution for compound=C34583!\u001b[0m\n"
      ]
     },
     "metadata": {},
     "output_type": "display_data"
    },
    {
     "data": {
      "text/html": [
       "<pre style=\"white-space:pre;overflow-x:auto;line-height:normal;font-family:Menlo,'DejaVu Sans Mono',consolas,'Courier New',monospace;margin:0px\"><span style=\"background-color: #008000; font-weight: bold\"> Success </span><span style=\"color: #008000; text-decoration-color: #008000; font-weight: bold\"> Found solution for compound=C34650!</span>\n",
       "</pre>\n"
      ],
      "text/plain": [
       "\u001b[1;7;32m Success \u001b[0m\u001b[1;32m Found solution for compound=C34650!\u001b[0m\n"
      ]
     },
     "metadata": {},
     "output_type": "display_data"
    },
    {
     "data": {
      "text/html": [
       "<pre style=\"white-space:pre;overflow-x:auto;line-height:normal;font-family:Menlo,'DejaVu Sans Mono',consolas,'Courier New',monospace;margin:0px\"><span style=\"background-color: #008000; font-weight: bold\"> Success </span><span style=\"color: #008000; text-decoration-color: #008000; font-weight: bold\"> Found solution for compound=C34701!</span>\n",
       "</pre>\n"
      ],
      "text/plain": [
       "\u001b[1;7;32m Success \u001b[0m\u001b[1;32m Found solution for compound=C34701!\u001b[0m\n"
      ]
     },
     "metadata": {},
     "output_type": "display_data"
    },
    {
     "data": {
      "text/html": [
       "<pre style=\"white-space:pre;overflow-x:auto;line-height:normal;font-family:Menlo,'DejaVu Sans Mono',consolas,'Courier New',monospace;margin:0px\"><span style=\"background-color: #008000; font-weight: bold\"> Success </span><span style=\"color: #008000; text-decoration-color: #008000; font-weight: bold\"> Found solution for compound=C35145!</span>\n",
       "</pre>\n"
      ],
      "text/plain": [
       "\u001b[1;7;32m Success \u001b[0m\u001b[1;32m Found solution for compound=C35145!\u001b[0m\n"
      ]
     },
     "metadata": {},
     "output_type": "display_data"
    },
    {
     "data": {
      "text/html": [
       "<pre style=\"white-space:pre;overflow-x:auto;line-height:normal;font-family:Menlo,'DejaVu Sans Mono',consolas,'Courier New',monospace;margin:0px\"><span style=\"background-color: #008000; font-weight: bold\"> Success </span><span style=\"color: #008000; text-decoration-color: #008000; font-weight: bold\"> Found solution for compound=C35920!</span>\n",
       "</pre>\n"
      ],
      "text/plain": [
       "\u001b[1;7;32m Success \u001b[0m\u001b[1;32m Found solution for compound=C35920!\u001b[0m\n"
      ]
     },
     "metadata": {},
     "output_type": "display_data"
    },
    {
     "data": {
      "text/html": [
       "<pre style=\"white-space:pre;overflow-x:auto;line-height:normal;font-family:Menlo,'DejaVu Sans Mono',consolas,'Courier New',monospace;margin:0px\"><span style=\"background-color: #008000; font-weight: bold\"> Success </span><span style=\"color: #008000; text-decoration-color: #008000; font-weight: bold\"> Found solution for compound=C36233!</span>\n",
       "</pre>\n"
      ],
      "text/plain": [
       "\u001b[1;7;32m Success \u001b[0m\u001b[1;32m Found solution for compound=C36233!\u001b[0m\n"
      ]
     },
     "metadata": {},
     "output_type": "display_data"
    },
    {
     "data": {
      "text/html": [
       "<pre style=\"white-space:pre;overflow-x:auto;line-height:normal;font-family:Menlo,'DejaVu Sans Mono',consolas,'Courier New',monospace;margin:0px\"><span style=\"background-color: #008000; font-weight: bold\"> Success </span><span style=\"color: #008000; text-decoration-color: #008000; font-weight: bold\"> Found solution for compound=C36458!</span>\n",
       "</pre>\n"
      ],
      "text/plain": [
       "\u001b[1;7;32m Success \u001b[0m\u001b[1;32m Found solution for compound=C36458!\u001b[0m\n"
      ]
     },
     "metadata": {},
     "output_type": "display_data"
    },
    {
     "data": {
      "text/html": [
       "<pre style=\"white-space:pre;overflow-x:auto;line-height:normal;font-family:Menlo,'DejaVu Sans Mono',consolas,'Courier New',monospace;margin:0px\"><span style=\"background-color: #008000; font-weight: bold\"> Success </span><span style=\"color: #008000; text-decoration-color: #008000; font-weight: bold\"> Found solution for compound=C37461!</span>\n",
       "</pre>\n"
      ],
      "text/plain": [
       "\u001b[1;7;32m Success \u001b[0m\u001b[1;32m Found solution for compound=C37461!\u001b[0m\n"
      ]
     },
     "metadata": {},
     "output_type": "display_data"
    },
    {
     "data": {
      "text/html": [
       "<pre style=\"white-space:pre;overflow-x:auto;line-height:normal;font-family:Menlo,'DejaVu Sans Mono',consolas,'Courier New',monospace;margin:0px\"><span style=\"background-color: #008000; font-weight: bold\"> Success </span><span style=\"color: #008000; text-decoration-color: #008000; font-weight: bold\"> Found solution for compound=C37923!</span>\n",
       "</pre>\n"
      ],
      "text/plain": [
       "\u001b[1;7;32m Success \u001b[0m\u001b[1;32m Found solution for compound=C37923!\u001b[0m\n"
      ]
     },
     "metadata": {},
     "output_type": "display_data"
    },
    {
     "data": {
      "text/html": [
       "<pre style=\"white-space:pre;overflow-x:auto;line-height:normal;font-family:Menlo,'DejaVu Sans Mono',consolas,'Courier New',monospace;margin:0px\"><span style=\"background-color: #008000; font-weight: bold\"> Success </span><span style=\"color: #008000; text-decoration-color: #008000; font-weight: bold\"> Found solution for compound=C41552!</span>\n",
       "</pre>\n"
      ],
      "text/plain": [
       "\u001b[1;7;32m Success \u001b[0m\u001b[1;32m Found solution for compound=C41552!\u001b[0m\n"
      ]
     },
     "metadata": {},
     "output_type": "display_data"
    },
    {
     "data": {
      "text/html": [
       "<pre style=\"white-space:pre;overflow-x:auto;line-height:normal;font-family:Menlo,'DejaVu Sans Mono',consolas,'Courier New',monospace;margin:0px\"><span style=\"background-color: #008000; font-weight: bold\"> Success </span><span style=\"color: #008000; text-decoration-color: #008000; font-weight: bold\"> Found solution for compound=C43135!</span>\n",
       "</pre>\n"
      ],
      "text/plain": [
       "\u001b[1;7;32m Success \u001b[0m\u001b[1;32m Found solution for compound=C43135!\u001b[0m\n"
      ]
     },
     "metadata": {},
     "output_type": "display_data"
    },
    {
     "data": {
      "text/html": [
       "<pre style=\"white-space:pre;overflow-x:auto;line-height:normal;font-family:Menlo,'DejaVu Sans Mono',consolas,'Courier New',monospace;margin:0px\"><span style=\"background-color: #008000; font-weight: bold\"> Success </span><span style=\"color: #008000; text-decoration-color: #008000; font-weight: bold\"> Found solution for compound=C43155!</span>\n",
       "</pre>\n"
      ],
      "text/plain": [
       "\u001b[1;7;32m Success \u001b[0m\u001b[1;32m Found solution for compound=C43155!\u001b[0m\n"
      ]
     },
     "metadata": {},
     "output_type": "display_data"
    },
    {
     "data": {
      "text/html": [
       "<pre style=\"white-space:pre;overflow-x:auto;line-height:normal;font-family:Menlo,'DejaVu Sans Mono',consolas,'Courier New',monospace;margin:0px\"><span style=\"background-color: #008000; font-weight: bold\"> Success </span><span style=\"color: #008000; text-decoration-color: #008000; font-weight: bold\"> Found solution for compound=C44380!</span>\n",
       "</pre>\n"
      ],
      "text/plain": [
       "\u001b[1;7;32m Success \u001b[0m\u001b[1;32m Found solution for compound=C44380!\u001b[0m\n"
      ]
     },
     "metadata": {},
     "output_type": "display_data"
    },
    {
     "data": {
      "text/html": [
       "<pre style=\"white-space:pre;overflow-x:auto;line-height:normal;font-family:Menlo,'DejaVu Sans Mono',consolas,'Courier New',monospace;margin:0px\"><span style=\"background-color: #008000; font-weight: bold\"> Success </span><span style=\"color: #008000; text-decoration-color: #008000; font-weight: bold\"> Found solution for compound=C45327!</span>\n",
       "</pre>\n"
      ],
      "text/plain": [
       "\u001b[1;7;32m Success \u001b[0m\u001b[1;32m Found solution for compound=C45327!\u001b[0m\n"
      ]
     },
     "metadata": {},
     "output_type": "display_data"
    },
    {
     "data": {
      "text/html": [
       "<pre style=\"white-space:pre;overflow-x:auto;line-height:normal;font-family:Menlo,'DejaVu Sans Mono',consolas,'Courier New',monospace;margin:0px\"><span style=\"background-color: #008000; font-weight: bold\"> Success </span><span style=\"color: #008000; text-decoration-color: #008000; font-weight: bold\"> Found solution for compound=C45330!</span>\n",
       "</pre>\n"
      ],
      "text/plain": [
       "\u001b[1;7;32m Success \u001b[0m\u001b[1;32m Found solution for compound=C45330!\u001b[0m\n"
      ]
     },
     "metadata": {},
     "output_type": "display_data"
    },
    {
     "data": {
      "text/html": [
       "<pre style=\"white-space:pre;overflow-x:auto;line-height:normal;font-family:Menlo,'DejaVu Sans Mono',consolas,'Courier New',monospace;margin:0px\"><span style=\"background-color: #008000; font-weight: bold\"> Success </span><span style=\"color: #008000; text-decoration-color: #008000; font-weight: bold\"> Found solution for compound=C46539!</span>\n",
       "</pre>\n"
      ],
      "text/plain": [
       "\u001b[1;7;32m Success \u001b[0m\u001b[1;32m Found solution for compound=C46539!\u001b[0m\n"
      ]
     },
     "metadata": {},
     "output_type": "display_data"
    },
    {
     "data": {
      "text/html": [
       "<pre style=\"white-space:pre;overflow-x:auto;line-height:normal;font-family:Menlo,'DejaVu Sans Mono',consolas,'Courier New',monospace;margin:0px\"><span style=\"background-color: #ff8700; font-weight: bold\"> Warning </span><span style=\"color: #ff8700; text-decoration-color: #ff8700\"> Multiple solutions for compound=C47311!</span>\n",
       "</pre>\n"
      ],
      "text/plain": [
       "\u001b[1;7;38;5;208m Warning \u001b[0m\u001b[38;5;208m Multiple solutions for compound=C47311!\u001b[0m\n"
      ]
     },
     "metadata": {},
     "output_type": "display_data"
    },
    {
     "data": {
      "text/html": [
       "<pre style=\"white-space:pre;overflow-x:auto;line-height:normal;font-family:Menlo,'DejaVu Sans Mono',consolas,'Courier New',monospace;margin:0px\"><span style=\"background-color: #008000; font-weight: bold\"> Success </span><span style=\"color: #008000; text-decoration-color: #008000; font-weight: bold\"> Found solution for compound=C48477!</span>\n",
       "</pre>\n"
      ],
      "text/plain": [
       "\u001b[1;7;32m Success \u001b[0m\u001b[1;32m Found solution for compound=C48477!\u001b[0m\n"
      ]
     },
     "metadata": {},
     "output_type": "display_data"
    },
    {
     "data": {
      "text/html": [
       "<pre style=\"white-space:pre;overflow-x:auto;line-height:normal;font-family:Menlo,'DejaVu Sans Mono',consolas,'Courier New',monospace;margin:0px\"><span style=\"background-color: #008000; font-weight: bold\"> Success </span><span style=\"color: #008000; text-decoration-color: #008000; font-weight: bold\"> Found solution for compound=C49374!</span>\n",
       "</pre>\n"
      ],
      "text/plain": [
       "\u001b[1;7;32m Success \u001b[0m\u001b[1;32m Found solution for compound=C49374!\u001b[0m\n"
      ]
     },
     "metadata": {},
     "output_type": "display_data"
    },
    {
     "data": {
      "text/html": [
       "<pre style=\"white-space:pre;overflow-x:auto;line-height:normal;font-family:Menlo,'DejaVu Sans Mono',consolas,'Courier New',monospace;margin:0px\"><span style=\"background-color: #008000; font-weight: bold\"> Success </span><span style=\"color: #008000; text-decoration-color: #008000; font-weight: bold\"> Found solution for compound=C49455!</span>\n",
       "</pre>\n"
      ],
      "text/plain": [
       "\u001b[1;7;32m Success \u001b[0m\u001b[1;32m Found solution for compound=C49455!\u001b[0m\n"
      ]
     },
     "metadata": {},
     "output_type": "display_data"
    },
    {
     "data": {
      "text/html": [
       "<pre style=\"white-space:pre;overflow-x:auto;line-height:normal;font-family:Menlo,'DejaVu Sans Mono',consolas,'Courier New',monospace;margin:0px\"><span style=\"background-color: #008000; font-weight: bold\"> Success </span><span style=\"color: #008000; text-decoration-color: #008000; font-weight: bold\"> Found solution for compound=C49503!</span>\n",
       "</pre>\n"
      ],
      "text/plain": [
       "\u001b[1;7;32m Success \u001b[0m\u001b[1;32m Found solution for compound=C49503!\u001b[0m\n"
      ]
     },
     "metadata": {},
     "output_type": "display_data"
    },
    {
     "data": {
      "text/html": [
       "<pre style=\"white-space:pre;overflow-x:auto;line-height:normal;font-family:Menlo,'DejaVu Sans Mono',consolas,'Courier New',monospace;margin:0px\"><span style=\"background-color: #008000; font-weight: bold\"> Success </span><span style=\"color: #008000; text-decoration-color: #008000; font-weight: bold\"> Found solution for compound=C50922!</span>\n",
       "</pre>\n"
      ],
      "text/plain": [
       "\u001b[1;7;32m Success \u001b[0m\u001b[1;32m Found solution for compound=C50922!\u001b[0m\n"
      ]
     },
     "metadata": {},
     "output_type": "display_data"
    },
    {
     "data": {
      "text/html": [
       "<pre style=\"white-space:pre;overflow-x:auto;line-height:normal;font-family:Menlo,'DejaVu Sans Mono',consolas,'Courier New',monospace;margin:0px\"><span style=\"background-color: #008000; font-weight: bold\"> Success </span><span style=\"color: #008000; text-decoration-color: #008000; font-weight: bold\"> Found solution for compound=C52471!</span>\n",
       "</pre>\n"
      ],
      "text/plain": [
       "\u001b[1;7;32m Success \u001b[0m\u001b[1;32m Found solution for compound=C52471!\u001b[0m\n"
      ]
     },
     "metadata": {},
     "output_type": "display_data"
    },
    {
     "data": {
      "text/html": [
       "<pre style=\"white-space:pre;overflow-x:auto;line-height:normal;font-family:Menlo,'DejaVu Sans Mono',consolas,'Courier New',monospace;margin:0px\"><span style=\"background-color: #008000; font-weight: bold\"> Success </span><span style=\"color: #008000; text-decoration-color: #008000; font-weight: bold\"> Found solution for compound=C53809!</span>\n",
       "</pre>\n"
      ],
      "text/plain": [
       "\u001b[1;7;32m Success \u001b[0m\u001b[1;32m Found solution for compound=C53809!\u001b[0m\n"
      ]
     },
     "metadata": {},
     "output_type": "display_data"
    },
    {
     "data": {
      "text/html": [
       "<pre style=\"white-space:pre;overflow-x:auto;line-height:normal;font-family:Menlo,'DejaVu Sans Mono',consolas,'Courier New',monospace;margin:0px\"><span style=\"background-color: #008000; font-weight: bold\"> Success </span><span style=\"color: #008000; text-decoration-color: #008000; font-weight: bold\"> Found solution for compound=C54733!</span>\n",
       "</pre>\n"
      ],
      "text/plain": [
       "\u001b[1;7;32m Success \u001b[0m\u001b[1;32m Found solution for compound=C54733!\u001b[0m\n"
      ]
     },
     "metadata": {},
     "output_type": "display_data"
    },
    {
     "data": {
      "text/html": [
       "<pre style=\"white-space:pre;overflow-x:auto;line-height:normal;font-family:Menlo,'DejaVu Sans Mono',consolas,'Courier New',monospace;margin:0px\"><span style=\"background-color: #008000; font-weight: bold\"> Success </span><span style=\"color: #008000; text-decoration-color: #008000; font-weight: bold\"> Found solution for compound=C54862!</span>\n",
       "</pre>\n"
      ],
      "text/plain": [
       "\u001b[1;7;32m Success \u001b[0m\u001b[1;32m Found solution for compound=C54862!\u001b[0m\n"
      ]
     },
     "metadata": {},
     "output_type": "display_data"
    },
    {
     "data": {
      "text/html": [
       "<pre style=\"white-space:pre;overflow-x:auto;line-height:normal;font-family:Menlo,'DejaVu Sans Mono',consolas,'Courier New',monospace;margin:0px\"><span style=\"background-color: #008000; font-weight: bold\"> Success </span><span style=\"color: #008000; text-decoration-color: #008000; font-weight: bold\"> Found solution for compound=C54938!</span>\n",
       "</pre>\n"
      ],
      "text/plain": [
       "\u001b[1;7;32m Success \u001b[0m\u001b[1;32m Found solution for compound=C54938!\u001b[0m\n"
      ]
     },
     "metadata": {},
     "output_type": "display_data"
    },
    {
     "data": {
      "text/html": [
       "<pre style=\"white-space:pre;overflow-x:auto;line-height:normal;font-family:Menlo,'DejaVu Sans Mono',consolas,'Courier New',monospace;margin:0px\"><span style=\"background-color: #008000; font-weight: bold\"> Success </span><span style=\"color: #008000; text-decoration-color: #008000; font-weight: bold\"> Found solution for compound=C54945!</span>\n",
       "</pre>\n"
      ],
      "text/plain": [
       "\u001b[1;7;32m Success \u001b[0m\u001b[1;32m Found solution for compound=C54945!\u001b[0m\n"
      ]
     },
     "metadata": {},
     "output_type": "display_data"
    },
    {
     "data": {
      "text/html": [
       "<pre style=\"white-space:pre;overflow-x:auto;line-height:normal;font-family:Menlo,'DejaVu Sans Mono',consolas,'Courier New',monospace;margin:0px\"><span style=\"background-color: #008000; font-weight: bold\"> Success </span><span style=\"color: #008000; text-decoration-color: #008000; font-weight: bold\"> Found solution for compound=C55149!</span>\n",
       "</pre>\n"
      ],
      "text/plain": [
       "\u001b[1;7;32m Success \u001b[0m\u001b[1;32m Found solution for compound=C55149!\u001b[0m\n"
      ]
     },
     "metadata": {},
     "output_type": "display_data"
    },
    {
     "data": {
      "text/html": [
       "<pre style=\"white-space:pre;overflow-x:auto;line-height:normal;font-family:Menlo,'DejaVu Sans Mono',consolas,'Courier New',monospace;margin:0px\"><span style=\"background-color: #008000; font-weight: bold\"> Success </span><span style=\"color: #008000; text-decoration-color: #008000; font-weight: bold\"> Found solution for compound=C55155!</span>\n",
       "</pre>\n"
      ],
      "text/plain": [
       "\u001b[1;7;32m Success \u001b[0m\u001b[1;32m Found solution for compound=C55155!\u001b[0m\n"
      ]
     },
     "metadata": {},
     "output_type": "display_data"
    },
    {
     "data": {
      "text/html": [
       "<pre style=\"white-space:pre;overflow-x:auto;line-height:normal;font-family:Menlo,'DejaVu Sans Mono',consolas,'Courier New',monospace;margin:0px\"><span style=\"background-color: #008000; font-weight: bold\"> Success </span><span style=\"color: #008000; text-decoration-color: #008000; font-weight: bold\"> Found solution for compound=C55156!</span>\n",
       "</pre>\n"
      ],
      "text/plain": [
       "\u001b[1;7;32m Success \u001b[0m\u001b[1;32m Found solution for compound=C55156!\u001b[0m\n"
      ]
     },
     "metadata": {},
     "output_type": "display_data"
    },
    {
     "data": {
      "text/html": [
       "<pre style=\"white-space:pre;overflow-x:auto;line-height:normal;font-family:Menlo,'DejaVu Sans Mono',consolas,'Courier New',monospace;margin:0px\"><span style=\"background-color: #008000; font-weight: bold\"> Success </span><span style=\"color: #008000; text-decoration-color: #008000; font-weight: bold\"> Found solution for compound=C55174!</span>\n",
       "</pre>\n"
      ],
      "text/plain": [
       "\u001b[1;7;32m Success \u001b[0m\u001b[1;32m Found solution for compound=C55174!\u001b[0m\n"
      ]
     },
     "metadata": {},
     "output_type": "display_data"
    },
    {
     "data": {
      "text/html": [
       "<pre style=\"white-space:pre;overflow-x:auto;line-height:normal;font-family:Menlo,'DejaVu Sans Mono',consolas,'Courier New',monospace;margin:0px\"><span style=\"background-color: #008000; font-weight: bold\"> Success </span><span style=\"color: #008000; text-decoration-color: #008000; font-weight: bold\"> Found solution for compound=C55262!</span>\n",
       "</pre>\n"
      ],
      "text/plain": [
       "\u001b[1;7;32m Success \u001b[0m\u001b[1;32m Found solution for compound=C55262!\u001b[0m\n"
      ]
     },
     "metadata": {},
     "output_type": "display_data"
    },
    {
     "data": {
      "text/html": [
       "<pre style=\"white-space:pre;overflow-x:auto;line-height:normal;font-family:Menlo,'DejaVu Sans Mono',consolas,'Courier New',monospace;margin:0px\"><span style=\"background-color: #008000; font-weight: bold\"> Success </span><span style=\"color: #008000; text-decoration-color: #008000; font-weight: bold\"> Found solution for compound=C55535!</span>\n",
       "</pre>\n"
      ],
      "text/plain": [
       "\u001b[1;7;32m Success \u001b[0m\u001b[1;32m Found solution for compound=C55535!\u001b[0m\n"
      ]
     },
     "metadata": {},
     "output_type": "display_data"
    },
    {
     "data": {
      "text/html": [
       "<pre style=\"white-space:pre;overflow-x:auto;line-height:normal;font-family:Menlo,'DejaVu Sans Mono',consolas,'Courier New',monospace;margin:0px\"><span style=\"background-color: #008000; font-weight: bold\"> Success </span><span style=\"color: #008000; text-decoration-color: #008000; font-weight: bold\"> Found solution for compound=C55598!</span>\n",
       "</pre>\n"
      ],
      "text/plain": [
       "\u001b[1;7;32m Success \u001b[0m\u001b[1;32m Found solution for compound=C55598!\u001b[0m\n"
      ]
     },
     "metadata": {},
     "output_type": "display_data"
    },
    {
     "data": {
      "text/html": [
       "<pre style=\"white-space:pre;overflow-x:auto;line-height:normal;font-family:Menlo,'DejaVu Sans Mono',consolas,'Courier New',monospace;margin:0px\"><span style=\"background-color: #008000; font-weight: bold\"> Success </span><span style=\"color: #008000; text-decoration-color: #008000; font-weight: bold\"> Found solution for compound=C55856!</span>\n",
       "</pre>\n"
      ],
      "text/plain": [
       "\u001b[1;7;32m Success \u001b[0m\u001b[1;32m Found solution for compound=C55856!\u001b[0m\n"
      ]
     },
     "metadata": {},
     "output_type": "display_data"
    },
    {
     "data": {
      "text/html": [
       "<pre style=\"white-space:pre;overflow-x:auto;line-height:normal;font-family:Menlo,'DejaVu Sans Mono',consolas,'Courier New',monospace;margin:0px\"><span style=\"background-color: #008000; font-weight: bold\"> Success </span><span style=\"color: #008000; text-decoration-color: #008000; font-weight: bold\"> Found solution for compound=C55996!</span>\n",
       "</pre>\n"
      ],
      "text/plain": [
       "\u001b[1;7;32m Success \u001b[0m\u001b[1;32m Found solution for compound=C55996!\u001b[0m\n"
      ]
     },
     "metadata": {},
     "output_type": "display_data"
    },
    {
     "data": {
      "text/html": [
       "<pre style=\"white-space:pre;overflow-x:auto;line-height:normal;font-family:Menlo,'DejaVu Sans Mono',consolas,'Courier New',monospace;margin:0px\"><span style=\"background-color: #008000; font-weight: bold\"> Success </span><span style=\"color: #008000; text-decoration-color: #008000; font-weight: bold\"> Found solution for compound=C56537!</span>\n",
       "</pre>\n"
      ],
      "text/plain": [
       "\u001b[1;7;32m Success \u001b[0m\u001b[1;32m Found solution for compound=C56537!\u001b[0m\n"
      ]
     },
     "metadata": {},
     "output_type": "display_data"
    },
    {
     "data": {
      "text/html": [
       "<pre style=\"white-space:pre;overflow-x:auto;line-height:normal;font-family:Menlo,'DejaVu Sans Mono',consolas,'Courier New',monospace;margin:0px\"><span style=\"background-color: #008000; font-weight: bold\"> Success </span><span style=\"color: #008000; text-decoration-color: #008000; font-weight: bold\"> Found solution for compound=C56548!</span>\n",
       "</pre>\n"
      ],
      "text/plain": [
       "\u001b[1;7;32m Success \u001b[0m\u001b[1;32m Found solution for compound=C56548!\u001b[0m\n"
      ]
     },
     "metadata": {},
     "output_type": "display_data"
    },
    {
     "data": {
      "text/html": [
       "<pre style=\"white-space:pre;overflow-x:auto;line-height:normal;font-family:Menlo,'DejaVu Sans Mono',consolas,'Courier New',monospace;margin:0px\"><span style=\"background-color: #008000; font-weight: bold\"> Success </span><span style=\"color: #008000; text-decoration-color: #008000; font-weight: bold\"> Found solution for compound=C56765!</span>\n",
       "</pre>\n"
      ],
      "text/plain": [
       "\u001b[1;7;32m Success \u001b[0m\u001b[1;32m Found solution for compound=C56765!\u001b[0m\n"
      ]
     },
     "metadata": {},
     "output_type": "display_data"
    },
    {
     "data": {
      "text/html": [
       "<pre style=\"white-space:pre;overflow-x:auto;line-height:normal;font-family:Menlo,'DejaVu Sans Mono',consolas,'Courier New',monospace;margin:0px\"><span style=\"background-color: #ff8700; font-weight: bold\"> Warning </span><span style=\"color: #ff8700; text-decoration-color: #ff8700\"> Multiple solutions for compound=C56786!</span>\n",
       "</pre>\n"
      ],
      "text/plain": [
       "\u001b[1;7;38;5;208m Warning \u001b[0m\u001b[38;5;208m Multiple solutions for compound=C56786!\u001b[0m\n"
      ]
     },
     "metadata": {},
     "output_type": "display_data"
    },
    {
     "data": {
      "text/html": [
       "<pre style=\"white-space:pre;overflow-x:auto;line-height:normal;font-family:Menlo,'DejaVu Sans Mono',consolas,'Courier New',monospace;margin:0px\"><span style=\"background-color: #008000; font-weight: bold\"> Success </span><span style=\"color: #008000; text-decoration-color: #008000; font-weight: bold\"> Found solution for compound=C60663!</span>\n",
       "</pre>\n"
      ],
      "text/plain": [
       "\u001b[1;7;32m Success \u001b[0m\u001b[1;32m Found solution for compound=C60663!\u001b[0m\n"
      ]
     },
     "metadata": {},
     "output_type": "display_data"
    },
    {
     "data": {
      "text/html": [
       "<pre style=\"white-space:pre;overflow-x:auto;line-height:normal;font-family:Menlo,'DejaVu Sans Mono',consolas,'Courier New',monospace;margin:0px\"><span style=\"background-color: #008000; font-weight: bold\"> Success </span><span style=\"color: #008000; text-decoration-color: #008000; font-weight: bold\"> Found solution for compound=C60687!</span>\n",
       "</pre>\n"
      ],
      "text/plain": [
       "\u001b[1;7;32m Success \u001b[0m\u001b[1;32m Found solution for compound=C60687!\u001b[0m\n"
      ]
     },
     "metadata": {},
     "output_type": "display_data"
    },
    {
     "data": {
      "text/html": [
       "<pre style=\"white-space:pre;overflow-x:auto;line-height:normal;font-family:Menlo,'DejaVu Sans Mono',consolas,'Courier New',monospace;margin:0px\"><span style=\"background-color: #008000; font-weight: bold\"> Success </span><span style=\"color: #008000; text-decoration-color: #008000; font-weight: bold\"> Found solution for compound=C61386!</span>\n",
       "</pre>\n"
      ],
      "text/plain": [
       "\u001b[1;7;32m Success \u001b[0m\u001b[1;32m Found solution for compound=C61386!\u001b[0m\n"
      ]
     },
     "metadata": {},
     "output_type": "display_data"
    },
    {
     "data": {
      "text/html": [
       "<pre style=\"white-space:pre;overflow-x:auto;line-height:normal;font-family:Menlo,'DejaVu Sans Mono',consolas,'Courier New',monospace;margin:0px\"><span style=\"background-color: #008000; font-weight: bold\"> Success </span><span style=\"color: #008000; text-decoration-color: #008000; font-weight: bold\"> Found solution for compound=C65404!</span>\n",
       "</pre>\n"
      ],
      "text/plain": [
       "\u001b[1;7;32m Success \u001b[0m\u001b[1;32m Found solution for compound=C65404!\u001b[0m\n"
      ]
     },
     "metadata": {},
     "output_type": "display_data"
    },
    {
     "data": {
      "text/html": [
       "<pre style=\"white-space:pre;overflow-x:auto;line-height:normal;font-family:Menlo,'DejaVu Sans Mono',consolas,'Courier New',monospace;margin:0px\"><span style=\"background-color: #008000; font-weight: bold\"> Success </span><span style=\"color: #008000; text-decoration-color: #008000; font-weight: bold\"> Found solution for compound=C65434!</span>\n",
       "</pre>\n"
      ],
      "text/plain": [
       "\u001b[1;7;32m Success \u001b[0m\u001b[1;32m Found solution for compound=C65434!\u001b[0m\n"
      ]
     },
     "metadata": {},
     "output_type": "display_data"
    },
    {
     "data": {
      "text/html": [
       "<pre style=\"white-space:pre;overflow-x:auto;line-height:normal;font-family:Menlo,'DejaVu Sans Mono',consolas,'Courier New',monospace;margin:0px\"><span style=\"background-color: #008000; font-weight: bold\"> Success </span><span style=\"color: #008000; text-decoration-color: #008000; font-weight: bold\"> Found solution for compound=C65515!</span>\n",
       "</pre>\n"
      ],
      "text/plain": [
       "\u001b[1;7;32m Success \u001b[0m\u001b[1;32m Found solution for compound=C65515!\u001b[0m\n"
      ]
     },
     "metadata": {},
     "output_type": "display_data"
    },
    {
     "data": {
      "text/html": [
       "<pre style=\"white-space:pre;overflow-x:auto;line-height:normal;font-family:Menlo,'DejaVu Sans Mono',consolas,'Courier New',monospace;margin:0px\"><span style=\"background-color: #008000; font-weight: bold\"> Success </span><span style=\"color: #008000; text-decoration-color: #008000; font-weight: bold\"> Found solution for compound=C65691!</span>\n",
       "</pre>\n"
      ],
      "text/plain": [
       "\u001b[1;7;32m Success \u001b[0m\u001b[1;32m Found solution for compound=C65691!\u001b[0m\n"
      ]
     },
     "metadata": {},
     "output_type": "display_data"
    },
    {
     "data": {
      "text/html": [
       "<pre style=\"white-space:pre;overflow-x:auto;line-height:normal;font-family:Menlo,'DejaVu Sans Mono',consolas,'Courier New',monospace;margin:0px\"><span style=\"background-color: #ff8700; font-weight: bold\"> Warning </span><span style=\"color: #ff8700; text-decoration-color: #ff8700\"> Multiple solutions for compound=C66259!</span>\n",
       "</pre>\n"
      ],
      "text/plain": [
       "\u001b[1;7;38;5;208m Warning \u001b[0m\u001b[38;5;208m Multiple solutions for compound=C66259!\u001b[0m\n"
      ]
     },
     "metadata": {},
     "output_type": "display_data"
    },
    {
     "data": {
      "text/html": [
       "<pre style=\"white-space:pre;overflow-x:auto;line-height:normal;font-family:Menlo,'DejaVu Sans Mono',consolas,'Courier New',monospace;margin:0px\"><span style=\"background-color: #008000; font-weight: bold\"> Success </span><span style=\"color: #008000; text-decoration-color: #008000; font-weight: bold\"> Found solution for compound=C66289!</span>\n",
       "</pre>\n"
      ],
      "text/plain": [
       "\u001b[1;7;32m Success \u001b[0m\u001b[1;32m Found solution for compound=C66289!\u001b[0m\n"
      ]
     },
     "metadata": {},
     "output_type": "display_data"
    },
    {
     "data": {
      "text/html": [
       "<pre style=\"white-space:pre;overflow-x:auto;line-height:normal;font-family:Menlo,'DejaVu Sans Mono',consolas,'Courier New',monospace;margin:0px\"><span style=\"background-color: #ff8700; font-weight: bold\"> Warning </span><span style=\"color: #ff8700; text-decoration-color: #ff8700\"> Multiple solutions for compound=C67427!</span>\n",
       "</pre>\n"
      ],
      "text/plain": [
       "\u001b[1;7;38;5;208m Warning \u001b[0m\u001b[38;5;208m Multiple solutions for compound=C67427!\u001b[0m\n"
      ]
     },
     "metadata": {},
     "output_type": "display_data"
    },
    {
     "data": {
      "text/html": [
       "<pre style=\"white-space:pre;overflow-x:auto;line-height:normal;font-family:Menlo,'DejaVu Sans Mono',consolas,'Courier New',monospace;margin:0px\"><span style=\"background-color: #008000; font-weight: bold\"> Success </span><span style=\"color: #008000; text-decoration-color: #008000; font-weight: bold\"> Found solution for compound=C68384!</span>\n",
       "</pre>\n"
      ],
      "text/plain": [
       "\u001b[1;7;32m Success \u001b[0m\u001b[1;32m Found solution for compound=C68384!\u001b[0m\n"
      ]
     },
     "metadata": {},
     "output_type": "display_data"
    },
    {
     "data": {
      "text/html": [
       "<pre style=\"white-space:pre;overflow-x:auto;line-height:normal;font-family:Menlo,'DejaVu Sans Mono',consolas,'Courier New',monospace;margin:0px\"><span style=\"background-color: #008000; font-weight: bold\"> Success </span><span style=\"color: #008000; text-decoration-color: #008000; font-weight: bold\"> Found solution for compound=C70832!</span>\n",
       "</pre>\n"
      ],
      "text/plain": [
       "\u001b[1;7;32m Success \u001b[0m\u001b[1;32m Found solution for compound=C70832!\u001b[0m\n"
      ]
     },
     "metadata": {},
     "output_type": "display_data"
    },
    {
     "data": {
      "text/html": [
       "<pre style=\"white-space:pre;overflow-x:auto;line-height:normal;font-family:Menlo,'DejaVu Sans Mono',consolas,'Courier New',monospace;margin:0px\"><span style=\"background-color: #008000; font-weight: bold\"> Success </span><span style=\"color: #008000; text-decoration-color: #008000; font-weight: bold\"> Found solution for compound=C70837!</span>\n",
       "</pre>\n"
      ],
      "text/plain": [
       "\u001b[1;7;32m Success \u001b[0m\u001b[1;32m Found solution for compound=C70837!\u001b[0m\n"
      ]
     },
     "metadata": {},
     "output_type": "display_data"
    },
    {
     "data": {
      "text/html": [
       "<pre style=\"white-space:pre;overflow-x:auto;line-height:normal;font-family:Menlo,'DejaVu Sans Mono',consolas,'Courier New',monospace;margin:0px\"><span style=\"background-color: #008000; font-weight: bold\"> Success </span><span style=\"color: #008000; text-decoration-color: #008000; font-weight: bold\"> Found solution for compound=C70843!</span>\n",
       "</pre>\n"
      ],
      "text/plain": [
       "\u001b[1;7;32m Success \u001b[0m\u001b[1;32m Found solution for compound=C70843!\u001b[0m\n"
      ]
     },
     "metadata": {},
     "output_type": "display_data"
    },
    {
     "data": {
      "text/html": [
       "<pre style=\"white-space:pre;overflow-x:auto;line-height:normal;font-family:Menlo,'DejaVu Sans Mono',consolas,'Courier New',monospace;margin:0px\"><span style=\"background-color: #008000; font-weight: bold\"> Success </span><span style=\"color: #008000; text-decoration-color: #008000; font-weight: bold\"> Found solution for compound=C70844!</span>\n",
       "</pre>\n"
      ],
      "text/plain": [
       "\u001b[1;7;32m Success \u001b[0m\u001b[1;32m Found solution for compound=C70844!\u001b[0m\n"
      ]
     },
     "metadata": {},
     "output_type": "display_data"
    },
    {
     "data": {
      "text/html": [
       "<pre style=\"white-space:pre;overflow-x:auto;line-height:normal;font-family:Menlo,'DejaVu Sans Mono',consolas,'Courier New',monospace;margin:0px\"><span style=\"background-color: #008000; font-weight: bold\"> Success </span><span style=\"color: #008000; text-decoration-color: #008000; font-weight: bold\"> Found solution for compound=C70849!</span>\n",
       "</pre>\n"
      ],
      "text/plain": [
       "\u001b[1;7;32m Success \u001b[0m\u001b[1;32m Found solution for compound=C70849!\u001b[0m\n"
      ]
     },
     "metadata": {},
     "output_type": "display_data"
    },
    {
     "data": {
      "text/html": [
       "<pre style=\"white-space:pre;overflow-x:auto;line-height:normal;font-family:Menlo,'DejaVu Sans Mono',consolas,'Courier New',monospace;margin:0px\"></pre>\n"
      ],
      "text/plain": []
     },
     "metadata": {},
     "output_type": "display_data"
    },
    {
     "data": {
      "text/html": [
       "<pre style=\"white-space:pre;overflow-x:auto;line-height:normal;font-family:Menlo,'DejaVu Sans Mono',consolas,'Courier New',monospace;margin:0px\">Solving recipe combinations<span style=\"color: #808000; text-decoration-color: #808000\">...</span>\n",
       "</pre>\n"
      ],
      "text/plain": [
       "Solving recipe combinations\u001b[33m...\u001b[0m\n"
      ]
     },
     "metadata": {},
     "output_type": "display_data"
    },
    {
     "data": {
      "text/html": [
       "<pre style=\"white-space:pre;overflow-x:auto;line-height:normal;font-family:Menlo,'DejaVu Sans Mono',consolas,'Courier New',monospace;margin:0px\">\n",
       "</pre>\n"
      ],
      "text/plain": [
       "\n"
      ]
     },
     "metadata": {},
     "output_type": "display_data"
    },
    {
     "data": {
      "application/vnd.jupyter.widget-view+json": {
       "model_id": "9d36079fc4fa4dc6b119a20d60852707",
       "version_major": 2,
       "version_minor": 0
      },
      "text/plain": [
       "Output()"
      ]
     },
     "metadata": {},
     "output_type": "display_data"
    },
    {
     "data": {
      "text/html": [
       "<pre style=\"white-space:pre;overflow-x:auto;line-height:normal;font-family:Menlo,'DejaVu Sans Mono',consolas,'Courier New',monospace;margin:0px\"></pre>\n"
      ],
      "text/plain": []
     },
     "metadata": {},
     "output_type": "display_data"
    }
   ],
   "source": [
    "recipes = hippo.Recipe.from_compounds(elaborated_scaffolds, quoted_only=False, pick_cheapest=False)"
   ]
  },
  {
   "cell_type": "code",
   "execution_count": 45,
   "id": "531395b2-2208-4498-a29f-6b5a7648efc4",
   "metadata": {
    "scrolled": true
   },
   "outputs": [
    {
     "data": {
      "text/plain": [
       "[\u001b[1m\u001b[4mRecipe({Ingredient × 137} --> {Ingredient × 2} --> {Ingredient × 82} via {R × 84})\u001b[22m\u001b[24m,\n",
       " \u001b[1m\u001b[4mRecipe({Ingredient × 137} --> {Ingredient × 2} --> {Ingredient × 82} via {R × 84})\u001b[22m\u001b[24m,\n",
       " \u001b[1m\u001b[4mRecipe({Ingredient × 137} --> {Ingredient × 2} --> {Ingredient × 82} via {R × 84})\u001b[22m\u001b[24m,\n",
       " \u001b[1m\u001b[4mRecipe({Ingredient × 137} --> {Ingredient × 2} --> {Ingredient × 82} via {R × 84})\u001b[22m\u001b[24m,\n",
       " \u001b[1m\u001b[4mRecipe({Ingredient × 137} --> {Ingredient × 2} --> {Ingredient × 82} via {R × 84})\u001b[22m\u001b[24m,\n",
       " \u001b[1m\u001b[4mRecipe({Ingredient × 137} --> {Ingredient × 2} --> {Ingredient × 82} via {R × 84})\u001b[22m\u001b[24m,\n",
       " \u001b[1m\u001b[4mRecipe({Ingredient × 137} --> {Ingredient × 2} --> {Ingredient × 82} via {R × 84})\u001b[22m\u001b[24m,\n",
       " \u001b[1m\u001b[4mRecipe({Ingredient × 137} --> {Ingredient × 2} --> {Ingredient × 82} via {R × 84})\u001b[22m\u001b[24m,\n",
       " \u001b[1m\u001b[4mRecipe({Ingredient × 137} --> {Ingredient × 2} --> {Ingredient × 82} via {R × 84})\u001b[22m\u001b[24m,\n",
       " \u001b[1m\u001b[4mRecipe({Ingredient × 137} --> {Ingredient × 2} --> {Ingredient × 82} via {R × 84})\u001b[22m\u001b[24m,\n",
       " \u001b[1m\u001b[4mRecipe({Ingredient × 137} --> {Ingredient × 2} --> {Ingredient × 82} via {R × 84})\u001b[22m\u001b[24m,\n",
       " \u001b[1m\u001b[4mRecipe({Ingredient × 137} --> {Ingredient × 2} --> {Ingredient × 82} via {R × 84})\u001b[22m\u001b[24m,\n",
       " \u001b[1m\u001b[4mRecipe({Ingredient × 137} --> {Ingredient × 2} --> {Ingredient × 82} via {R × 84})\u001b[22m\u001b[24m,\n",
       " \u001b[1m\u001b[4mRecipe({Ingredient × 137} --> {Ingredient × 2} --> {Ingredient × 82} via {R × 84})\u001b[22m\u001b[24m,\n",
       " \u001b[1m\u001b[4mRecipe({Ingredient × 137} --> {Ingredient × 2} --> {Ingredient × 82} via {R × 84})\u001b[22m\u001b[24m,\n",
       " \u001b[1m\u001b[4mRecipe({Ingredient × 137} --> {Ingredient × 2} --> {Ingredient × 82} via {R × 84})\u001b[22m\u001b[24m,\n",
       " \u001b[1m\u001b[4mRecipe({Ingredient × 137} --> {Ingredient × 2} --> {Ingredient × 82} via {R × 84})\u001b[22m\u001b[24m,\n",
       " \u001b[1m\u001b[4mRecipe({Ingredient × 137} --> {Ingredient × 2} --> {Ingredient × 82} via {R × 84})\u001b[22m\u001b[24m,\n",
       " \u001b[1m\u001b[4mRecipe({Ingredient × 137} --> {Ingredient × 2} --> {Ingredient × 82} via {R × 84})\u001b[22m\u001b[24m,\n",
       " \u001b[1m\u001b[4mRecipe({Ingredient × 137} --> {Ingredient × 2} --> {Ingredient × 82} via {R × 84})\u001b[22m\u001b[24m,\n",
       " \u001b[1m\u001b[4mRecipe({Ingredient × 137} --> {Ingredient × 2} --> {Ingredient × 82} via {R × 84})\u001b[22m\u001b[24m,\n",
       " \u001b[1m\u001b[4mRecipe({Ingredient × 137} --> {Ingredient × 2} --> {Ingredient × 82} via {R × 84})\u001b[22m\u001b[24m,\n",
       " \u001b[1m\u001b[4mRecipe({Ingredient × 137} --> {Ingredient × 2} --> {Ingredient × 82} via {R × 84})\u001b[22m\u001b[24m,\n",
       " \u001b[1m\u001b[4mRecipe({Ingredient × 137} --> {Ingredient × 2} --> {Ingredient × 82} via {R × 84})\u001b[22m\u001b[24m,\n",
       " \u001b[1m\u001b[4mRecipe({Ingredient × 137} --> {Ingredient × 2} --> {Ingredient × 82} via {R × 84})\u001b[22m\u001b[24m,\n",
       " \u001b[1m\u001b[4mRecipe({Ingredient × 137} --> {Ingredient × 2} --> {Ingredient × 82} via {R × 84})\u001b[22m\u001b[24m,\n",
       " \u001b[1m\u001b[4mRecipe({Ingredient × 137} --> {Ingredient × 2} --> {Ingredient × 82} via {R × 84})\u001b[22m\u001b[24m,\n",
       " \u001b[1m\u001b[4mRecipe({Ingredient × 137} --> {Ingredient × 2} --> {Ingredient × 82} via {R × 84})\u001b[22m\u001b[24m,\n",
       " \u001b[1m\u001b[4mRecipe({Ingredient × 137} --> {Ingredient × 2} --> {Ingredient × 82} via {R × 84})\u001b[22m\u001b[24m,\n",
       " \u001b[1m\u001b[4mRecipe({Ingredient × 137} --> {Ingredient × 2} --> {Ingredient × 82} via {R × 84})\u001b[22m\u001b[24m,\n",
       " \u001b[1m\u001b[4mRecipe({Ingredient × 137} --> {Ingredient × 2} --> {Ingredient × 82} via {R × 84})\u001b[22m\u001b[24m,\n",
       " \u001b[1m\u001b[4mRecipe({Ingredient × 137} --> {Ingredient × 2} --> {Ingredient × 82} via {R × 84})\u001b[22m\u001b[24m,\n",
       " \u001b[1m\u001b[4mRecipe({Ingredient × 137} --> {Ingredient × 2} --> {Ingredient × 82} via {R × 84})\u001b[22m\u001b[24m,\n",
       " \u001b[1m\u001b[4mRecipe({Ingredient × 137} --> {Ingredient × 2} --> {Ingredient × 82} via {R × 84})\u001b[22m\u001b[24m,\n",
       " \u001b[1m\u001b[4mRecipe({Ingredient × 137} --> {Ingredient × 2} --> {Ingredient × 82} via {R × 84})\u001b[22m\u001b[24m,\n",
       " \u001b[1m\u001b[4mRecipe({Ingredient × 137} --> {Ingredient × 2} --> {Ingredient × 82} via {R × 84})\u001b[22m\u001b[24m,\n",
       " \u001b[1m\u001b[4mRecipe({Ingredient × 137} --> {Ingredient × 2} --> {Ingredient × 82} via {R × 84})\u001b[22m\u001b[24m,\n",
       " \u001b[1m\u001b[4mRecipe({Ingredient × 137} --> {Ingredient × 2} --> {Ingredient × 82} via {R × 84})\u001b[22m\u001b[24m,\n",
       " \u001b[1m\u001b[4mRecipe({Ingredient × 137} --> {Ingredient × 2} --> {Ingredient × 82} via {R × 84})\u001b[22m\u001b[24m,\n",
       " \u001b[1m\u001b[4mRecipe({Ingredient × 137} --> {Ingredient × 2} --> {Ingredient × 82} via {R × 84})\u001b[22m\u001b[24m,\n",
       " \u001b[1m\u001b[4mRecipe({Ingredient × 137} --> {Ingredient × 2} --> {Ingredient × 82} via {R × 84})\u001b[22m\u001b[24m,\n",
       " \u001b[1m\u001b[4mRecipe({Ingredient × 137} --> {Ingredient × 2} --> {Ingredient × 82} via {R × 84})\u001b[22m\u001b[24m,\n",
       " \u001b[1m\u001b[4mRecipe({Ingredient × 137} --> {Ingredient × 2} --> {Ingredient × 82} via {R × 84})\u001b[22m\u001b[24m,\n",
       " \u001b[1m\u001b[4mRecipe({Ingredient × 137} --> {Ingredient × 2} --> {Ingredient × 82} via {R × 84})\u001b[22m\u001b[24m,\n",
       " \u001b[1m\u001b[4mRecipe({Ingredient × 137} --> {Ingredient × 2} --> {Ingredient × 82} via {R × 84})\u001b[22m\u001b[24m,\n",
       " \u001b[1m\u001b[4mRecipe({Ingredient × 137} --> {Ingredient × 2} --> {Ingredient × 82} via {R × 84})\u001b[22m\u001b[24m,\n",
       " \u001b[1m\u001b[4mRecipe({Ingredient × 137} --> {Ingredient × 2} --> {Ingredient × 82} via {R × 84})\u001b[22m\u001b[24m,\n",
       " \u001b[1m\u001b[4mRecipe({Ingredient × 137} --> {Ingredient × 2} --> {Ingredient × 82} via {R × 84})\u001b[22m\u001b[24m,\n",
       " \u001b[1m\u001b[4mRecipe({Ingredient × 137} --> {Ingredient × 2} --> {Ingredient × 82} via {R × 84})\u001b[22m\u001b[24m,\n",
       " \u001b[1m\u001b[4mRecipe({Ingredient × 137} --> {Ingredient × 2} --> {Ingredient × 82} via {R × 84})\u001b[22m\u001b[24m,\n",
       " \u001b[1m\u001b[4mRecipe({Ingredient × 137} --> {Ingredient × 2} --> {Ingredient × 82} via {R × 84})\u001b[22m\u001b[24m,\n",
       " \u001b[1m\u001b[4mRecipe({Ingredient × 137} --> {Ingredient × 2} --> {Ingredient × 82} via {R × 84})\u001b[22m\u001b[24m,\n",
       " \u001b[1m\u001b[4mRecipe({Ingredient × 137} --> {Ingredient × 2} --> {Ingredient × 82} via {R × 84})\u001b[22m\u001b[24m,\n",
       " \u001b[1m\u001b[4mRecipe({Ingredient × 137} --> {Ingredient × 2} --> {Ingredient × 82} via {R × 84})\u001b[22m\u001b[24m,\n",
       " \u001b[1m\u001b[4mRecipe({Ingredient × 137} --> {Ingredient × 2} --> {Ingredient × 82} via {R × 84})\u001b[22m\u001b[24m,\n",
       " \u001b[1m\u001b[4mRecipe({Ingredient × 137} --> {Ingredient × 2} --> {Ingredient × 82} via {R × 84})\u001b[22m\u001b[24m,\n",
       " \u001b[1m\u001b[4mRecipe({Ingredient × 137} --> {Ingredient × 2} --> {Ingredient × 82} via {R × 84})\u001b[22m\u001b[24m,\n",
       " \u001b[1m\u001b[4mRecipe({Ingredient × 137} --> {Ingredient × 2} --> {Ingredient × 82} via {R × 84})\u001b[22m\u001b[24m,\n",
       " \u001b[1m\u001b[4mRecipe({Ingredient × 137} --> {Ingredient × 2} --> {Ingredient × 82} via {R × 84})\u001b[22m\u001b[24m,\n",
       " \u001b[1m\u001b[4mRecipe({Ingredient × 137} --> {Ingredient × 2} --> {Ingredient × 82} via {R × 84})\u001b[22m\u001b[24m,\n",
       " \u001b[1m\u001b[4mRecipe({Ingredient × 137} --> {Ingredient × 2} --> {Ingredient × 82} via {R × 84})\u001b[22m\u001b[24m,\n",
       " \u001b[1m\u001b[4mRecipe({Ingredient × 137} --> {Ingredient × 2} --> {Ingredient × 82} via {R × 84})\u001b[22m\u001b[24m,\n",
       " \u001b[1m\u001b[4mRecipe({Ingredient × 137} --> {Ingredient × 2} --> {Ingredient × 82} via {R × 84})\u001b[22m\u001b[24m,\n",
       " \u001b[1m\u001b[4mRecipe({Ingredient × 137} --> {Ingredient × 2} --> {Ingredient × 82} via {R × 84})\u001b[22m\u001b[24m,\n",
       " \u001b[1m\u001b[4mRecipe({Ingredient × 137} --> {Ingredient × 2} --> {Ingredient × 82} via {R × 84})\u001b[22m\u001b[24m,\n",
       " \u001b[1m\u001b[4mRecipe({Ingredient × 137} --> {Ingredient × 2} --> {Ingredient × 82} via {R × 84})\u001b[22m\u001b[24m,\n",
       " \u001b[1m\u001b[4mRecipe({Ingredient × 137} --> {Ingredient × 2} --> {Ingredient × 82} via {R × 84})\u001b[22m\u001b[24m,\n",
       " \u001b[1m\u001b[4mRecipe({Ingredient × 137} --> {Ingredient × 2} --> {Ingredient × 82} via {R × 84})\u001b[22m\u001b[24m,\n",
       " \u001b[1m\u001b[4mRecipe({Ingredient × 137} --> {Ingredient × 2} --> {Ingredient × 82} via {R × 84})\u001b[22m\u001b[24m,\n",
       " \u001b[1m\u001b[4mRecipe({Ingredient × 137} --> {Ingredient × 2} --> {Ingredient × 82} via {R × 84})\u001b[22m\u001b[24m,\n",
       " \u001b[1m\u001b[4mRecipe({Ingredient × 137} --> {Ingredient × 2} --> {Ingredient × 82} via {R × 84})\u001b[22m\u001b[24m,\n",
       " \u001b[1m\u001b[4mRecipe({Ingredient × 137} --> {Ingredient × 2} --> {Ingredient × 82} via {R × 84})\u001b[22m\u001b[24m,\n",
       " \u001b[1m\u001b[4mRecipe({Ingredient × 137} --> {Ingredient × 2} --> {Ingredient × 82} via {R × 84})\u001b[22m\u001b[24m,\n",
       " \u001b[1m\u001b[4mRecipe({Ingredient × 137} --> {Ingredient × 2} --> {Ingredient × 82} via {R × 84})\u001b[22m\u001b[24m,\n",
       " \u001b[1m\u001b[4mRecipe({Ingredient × 137} --> {Ingredient × 2} --> {Ingredient × 82} via {R × 84})\u001b[22m\u001b[24m,\n",
       " \u001b[1m\u001b[4mRecipe({Ingredient × 137} --> {Ingredient × 2} --> {Ingredient × 82} via {R × 84})\u001b[22m\u001b[24m,\n",
       " \u001b[1m\u001b[4mRecipe({Ingredient × 137} --> {Ingredient × 2} --> {Ingredient × 82} via {R × 84})\u001b[22m\u001b[24m,\n",
       " \u001b[1m\u001b[4mRecipe({Ingredient × 137} --> {Ingredient × 2} --> {Ingredient × 82} via {R × 84})\u001b[22m\u001b[24m,\n",
       " \u001b[1m\u001b[4mRecipe({Ingredient × 137} --> {Ingredient × 2} --> {Ingredient × 82} via {R × 84})\u001b[22m\u001b[24m,\n",
       " \u001b[1m\u001b[4mRecipe({Ingredient × 137} --> {Ingredient × 2} --> {Ingredient × 82} via {R × 84})\u001b[22m\u001b[24m,\n",
       " \u001b[1m\u001b[4mRecipe({Ingredient × 137} --> {Ingredient × 2} --> {Ingredient × 82} via {R × 84})\u001b[22m\u001b[24m,\n",
       " \u001b[1m\u001b[4mRecipe({Ingredient × 137} --> {Ingredient × 2} --> {Ingredient × 82} via {R × 84})\u001b[22m\u001b[24m,\n",
       " \u001b[1m\u001b[4mRecipe({Ingredient × 137} --> {Ingredient × 2} --> {Ingredient × 82} via {R × 84})\u001b[22m\u001b[24m,\n",
       " \u001b[1m\u001b[4mRecipe({Ingredient × 137} --> {Ingredient × 2} --> {Ingredient × 82} via {R × 84})\u001b[22m\u001b[24m,\n",
       " \u001b[1m\u001b[4mRecipe({Ingredient × 137} --> {Ingredient × 2} --> {Ingredient × 82} via {R × 84})\u001b[22m\u001b[24m,\n",
       " \u001b[1m\u001b[4mRecipe({Ingredient × 137} --> {Ingredient × 2} --> {Ingredient × 82} via {R × 84})\u001b[22m\u001b[24m,\n",
       " \u001b[1m\u001b[4mRecipe({Ingredient × 137} --> {Ingredient × 2} --> {Ingredient × 82} via {R × 84})\u001b[22m\u001b[24m,\n",
       " \u001b[1m\u001b[4mRecipe({Ingredient × 137} --> {Ingredient × 2} --> {Ingredient × 82} via {R × 84})\u001b[22m\u001b[24m,\n",
       " \u001b[1m\u001b[4mRecipe({Ingredient × 137} --> {Ingredient × 2} --> {Ingredient × 82} via {R × 84})\u001b[22m\u001b[24m,\n",
       " \u001b[1m\u001b[4mRecipe({Ingredient × 137} --> {Ingredient × 2} --> {Ingredient × 82} via {R × 84})\u001b[22m\u001b[24m,\n",
       " \u001b[1m\u001b[4mRecipe({Ingredient × 137} --> {Ingredient × 2} --> {Ingredient × 82} via {R × 84})\u001b[22m\u001b[24m,\n",
       " \u001b[1m\u001b[4mRecipe({Ingredient × 137} --> {Ingredient × 2} --> {Ingredient × 82} via {R × 84})\u001b[22m\u001b[24m,\n",
       " \u001b[1m\u001b[4mRecipe({Ingredient × 137} --> {Ingredient × 2} --> {Ingredient × 82} via {R × 84})\u001b[22m\u001b[24m,\n",
       " \u001b[1m\u001b[4mRecipe({Ingredient × 137} --> {Ingredient × 2} --> {Ingredient × 82} via {R × 84})\u001b[22m\u001b[24m,\n",
       " \u001b[1m\u001b[4mRecipe({Ingredient × 137} --> {Ingredient × 2} --> {Ingredient × 82} via {R × 84})\u001b[22m\u001b[24m,\n",
       " \u001b[1m\u001b[4mRecipe({Ingredient × 137} --> {Ingredient × 2} --> {Ingredient × 82} via {R × 84})\u001b[22m\u001b[24m,\n",
       " \u001b[1m\u001b[4mRecipe({Ingredient × 137} --> {Ingredient × 2} --> {Ingredient × 82} via {R × 84})\u001b[22m\u001b[24m,\n",
       " \u001b[1m\u001b[4mRecipe({Ingredient × 137} --> {Ingredient × 2} --> {Ingredient × 82} via {R × 84})\u001b[22m\u001b[24m,\n",
       " \u001b[1m\u001b[4mRecipe({Ingredient × 137} --> {Ingredient × 2} --> {Ingredient × 82} via {R × 84})\u001b[22m\u001b[24m,\n",
       " \u001b[1m\u001b[4mRecipe({Ingredient × 137} --> {Ingredient × 2} --> {Ingredient × 82} via {R × 84})\u001b[22m\u001b[24m,\n",
       " \u001b[1m\u001b[4mRecipe({Ingredient × 137} --> {Ingredient × 2} --> {Ingredient × 82} via {R × 84})\u001b[22m\u001b[24m,\n",
       " \u001b[1m\u001b[4mRecipe({Ingredient × 137} --> {Ingredient × 2} --> {Ingredient × 82} via {R × 84})\u001b[22m\u001b[24m,\n",
       " \u001b[1m\u001b[4mRecipe({Ingredient × 137} --> {Ingredient × 2} --> {Ingredient × 82} via {R × 84})\u001b[22m\u001b[24m,\n",
       " \u001b[1m\u001b[4mRecipe({Ingredient × 137} --> {Ingredient × 2} --> {Ingredient × 82} via {R × 84})\u001b[22m\u001b[24m,\n",
       " \u001b[1m\u001b[4mRecipe({Ingredient × 137} --> {Ingredient × 2} --> {Ingredient × 82} via {R × 84})\u001b[22m\u001b[24m,\n",
       " \u001b[1m\u001b[4mRecipe({Ingredient × 137} --> {Ingredient × 2} --> {Ingredient × 82} via {R × 84})\u001b[22m\u001b[24m,\n",
       " \u001b[1m\u001b[4mRecipe({Ingredient × 137} --> {Ingredient × 2} --> {Ingredient × 82} via {R × 84})\u001b[22m\u001b[24m,\n",
       " \u001b[1m\u001b[4mRecipe({Ingredient × 137} --> {Ingredient × 2} --> {Ingredient × 82} via {R × 84})\u001b[22m\u001b[24m,\n",
       " \u001b[1m\u001b[4mRecipe({Ingredient × 137} --> {Ingredient × 2} --> {Ingredient × 82} via {R × 84})\u001b[22m\u001b[24m,\n",
       " \u001b[1m\u001b[4mRecipe({Ingredient × 137} --> {Ingredient × 2} --> {Ingredient × 82} via {R × 84})\u001b[22m\u001b[24m,\n",
       " \u001b[1m\u001b[4mRecipe({Ingredient × 137} --> {Ingredient × 2} --> {Ingredient × 82} via {R × 84})\u001b[22m\u001b[24m,\n",
       " \u001b[1m\u001b[4mRecipe({Ingredient × 137} --> {Ingredient × 2} --> {Ingredient × 82} via {R × 84})\u001b[22m\u001b[24m,\n",
       " \u001b[1m\u001b[4mRecipe({Ingredient × 137} --> {Ingredient × 2} --> {Ingredient × 82} via {R × 84})\u001b[22m\u001b[24m,\n",
       " \u001b[1m\u001b[4mRecipe({Ingredient × 137} --> {Ingredient × 2} --> {Ingredient × 82} via {R × 84})\u001b[22m\u001b[24m,\n",
       " \u001b[1m\u001b[4mRecipe({Ingredient × 137} --> {Ingredient × 2} --> {Ingredient × 82} via {R × 84})\u001b[22m\u001b[24m,\n",
       " \u001b[1m\u001b[4mRecipe({Ingredient × 137} --> {Ingredient × 2} --> {Ingredient × 82} via {R × 84})\u001b[22m\u001b[24m,\n",
       " \u001b[1m\u001b[4mRecipe({Ingredient × 137} --> {Ingredient × 2} --> {Ingredient × 82} via {R × 84})\u001b[22m\u001b[24m,\n",
       " \u001b[1m\u001b[4mRecipe({Ingredient × 137} --> {Ingredient × 2} --> {Ingredient × 82} via {R × 84})\u001b[22m\u001b[24m,\n",
       " \u001b[1m\u001b[4mRecipe({Ingredient × 137} --> {Ingredient × 2} --> {Ingredient × 82} via {R × 84})\u001b[22m\u001b[24m,\n",
       " \u001b[1m\u001b[4mRecipe({Ingredient × 137} --> {Ingredient × 2} --> {Ingredient × 82} via {R × 84})\u001b[22m\u001b[24m,\n",
       " \u001b[1m\u001b[4mRecipe({Ingredient × 137} --> {Ingredient × 2} --> {Ingredient × 82} via {R × 84})\u001b[22m\u001b[24m,\n",
       " \u001b[1m\u001b[4mRecipe({Ingredient × 137} --> {Ingredient × 2} --> {Ingredient × 82} via {R × 84})\u001b[22m\u001b[24m,\n",
       " \u001b[1m\u001b[4mRecipe({Ingredient × 137} --> {Ingredient × 2} --> {Ingredient × 82} via {R × 84})\u001b[22m\u001b[24m,\n",
       " \u001b[1m\u001b[4mRecipe({Ingredient × 137} --> {Ingredient × 2} --> {Ingredient × 82} via {R × 84})\u001b[22m\u001b[24m,\n",
       " \u001b[1m\u001b[4mRecipe({Ingredient × 137} --> {Ingredient × 2} --> {Ingredient × 82} via {R × 84})\u001b[22m\u001b[24m,\n",
       " \u001b[1m\u001b[4mRecipe({Ingredient × 137} --> {Ingredient × 2} --> {Ingredient × 82} via {R × 84})\u001b[22m\u001b[24m,\n",
       " \u001b[1m\u001b[4mRecipe({Ingredient × 137} --> {Ingredient × 2} --> {Ingredient × 82} via {R × 84})\u001b[22m\u001b[24m,\n",
       " \u001b[1m\u001b[4mRecipe({Ingredient × 137} --> {Ingredient × 2} --> {Ingredient × 82} via {R × 84})\u001b[22m\u001b[24m,\n",
       " \u001b[1m\u001b[4mRecipe({Ingredient × 137} --> {Ingredient × 2} --> {Ingredient × 82} via {R × 84})\u001b[22m\u001b[24m,\n",
       " \u001b[1m\u001b[4mRecipe({Ingredient × 137} --> {Ingredient × 2} --> {Ingredient × 82} via {R × 84})\u001b[22m\u001b[24m,\n",
       " \u001b[1m\u001b[4mRecipe({Ingredient × 137} --> {Ingredient × 2} --> {Ingredient × 82} via {R × 84})\u001b[22m\u001b[24m,\n",
       " \u001b[1m\u001b[4mRecipe({Ingredient × 137} --> {Ingredient × 2} --> {Ingredient × 82} via {R × 84})\u001b[22m\u001b[24m,\n",
       " \u001b[1m\u001b[4mRecipe({Ingredient × 137} --> {Ingredient × 2} --> {Ingredient × 82} via {R × 84})\u001b[22m\u001b[24m,\n",
       " \u001b[1m\u001b[4mRecipe({Ingredient × 137} --> {Ingredient × 2} --> {Ingredient × 82} via {R × 84})\u001b[22m\u001b[24m,\n",
       " \u001b[1m\u001b[4mRecipe({Ingredient × 137} --> {Ingredient × 2} --> {Ingredient × 82} via {R × 84})\u001b[22m\u001b[24m,\n",
       " \u001b[1m\u001b[4mRecipe({Ingredient × 137} --> {Ingredient × 2} --> {Ingredient × 82} via {R × 84})\u001b[22m\u001b[24m,\n",
       " \u001b[1m\u001b[4mRecipe({Ingredient × 137} --> {Ingredient × 2} --> {Ingredient × 82} via {R × 84})\u001b[22m\u001b[24m,\n",
       " \u001b[1m\u001b[4mRecipe({Ingredient × 137} --> {Ingredient × 2} --> {Ingredient × 82} via {R × 84})\u001b[22m\u001b[24m,\n",
       " \u001b[1m\u001b[4mRecipe({Ingredient × 137} --> {Ingredient × 2} --> {Ingredient × 82} via {R × 84})\u001b[22m\u001b[24m,\n",
       " \u001b[1m\u001b[4mRecipe({Ingredient × 137} --> {Ingredient × 2} --> {Ingredient × 82} via {R × 84})\u001b[22m\u001b[24m,\n",
       " \u001b[1m\u001b[4mRecipe({Ingredient × 137} --> {Ingredient × 2} --> {Ingredient × 82} via {R × 84})\u001b[22m\u001b[24m,\n",
       " \u001b[1m\u001b[4mRecipe({Ingredient × 137} --> {Ingredient × 2} --> {Ingredient × 82} via {R × 84})\u001b[22m\u001b[24m,\n",
       " \u001b[1m\u001b[4mRecipe({Ingredient × 137} --> {Ingredient × 2} --> {Ingredient × 82} via {R × 84})\u001b[22m\u001b[24m,\n",
       " \u001b[1m\u001b[4mRecipe({Ingredient × 137} --> {Ingredient × 2} --> {Ingredient × 82} via {R × 84})\u001b[22m\u001b[24m,\n",
       " \u001b[1m\u001b[4mRecipe({Ingredient × 137} --> {Ingredient × 2} --> {Ingredient × 82} via {R × 84})\u001b[22m\u001b[24m,\n",
       " \u001b[1m\u001b[4mRecipe({Ingredient × 137} --> {Ingredient × 2} --> {Ingredient × 82} via {R × 84})\u001b[22m\u001b[24m,\n",
       " \u001b[1m\u001b[4mRecipe({Ingredient × 137} --> {Ingredient × 2} --> {Ingredient × 82} via {R × 84})\u001b[22m\u001b[24m,\n",
       " \u001b[1m\u001b[4mRecipe({Ingredient × 137} --> {Ingredient × 2} --> {Ingredient × 82} via {R × 84})\u001b[22m\u001b[24m,\n",
       " \u001b[1m\u001b[4mRecipe({Ingredient × 137} --> {Ingredient × 2} --> {Ingredient × 82} via {R × 84})\u001b[22m\u001b[24m,\n",
       " \u001b[1m\u001b[4mRecipe({Ingredient × 137} --> {Ingredient × 2} --> {Ingredient × 82} via {R × 84})\u001b[22m\u001b[24m,\n",
       " \u001b[1m\u001b[4mRecipe({Ingredient × 137} --> {Ingredient × 2} --> {Ingredient × 82} via {R × 84})\u001b[22m\u001b[24m,\n",
       " \u001b[1m\u001b[4mRecipe({Ingredient × 137} --> {Ingredient × 2} --> {Ingredient × 82} via {R × 84})\u001b[22m\u001b[24m,\n",
       " \u001b[1m\u001b[4mRecipe({Ingredient × 137} --> {Ingredient × 2} --> {Ingredient × 82} via {R × 84})\u001b[22m\u001b[24m,\n",
       " \u001b[1m\u001b[4mRecipe({Ingredient × 137} --> {Ingredient × 2} --> {Ingredient × 82} via {R × 84})\u001b[22m\u001b[24m,\n",
       " \u001b[1m\u001b[4mRecipe({Ingredient × 137} --> {Ingredient × 2} --> {Ingredient × 82} via {R × 84})\u001b[22m\u001b[24m,\n",
       " \u001b[1m\u001b[4mRecipe({Ingredient × 137} --> {Ingredient × 2} --> {Ingredient × 82} via {R × 84})\u001b[22m\u001b[24m,\n",
       " \u001b[1m\u001b[4mRecipe({Ingredient × 137} --> {Ingredient × 2} --> {Ingredient × 82} via {R × 84})\u001b[22m\u001b[24m,\n",
       " \u001b[1m\u001b[4mRecipe({Ingredient × 137} --> {Ingredient × 2} --> {Ingredient × 82} via {R × 84})\u001b[22m\u001b[24m,\n",
       " \u001b[1m\u001b[4mRecipe({Ingredient × 137} --> {Ingredient × 2} --> {Ingredient × 82} via {R × 84})\u001b[22m\u001b[24m,\n",
       " \u001b[1m\u001b[4mRecipe({Ingredient × 137} --> {Ingredient × 2} --> {Ingredient × 82} via {R × 84})\u001b[22m\u001b[24m,\n",
       " \u001b[1m\u001b[4mRecipe({Ingredient × 137} --> {Ingredient × 2} --> {Ingredient × 82} via {R × 84})\u001b[22m\u001b[24m,\n",
       " \u001b[1m\u001b[4mRecipe({Ingredient × 137} --> {Ingredient × 2} --> {Ingredient × 82} via {R × 84})\u001b[22m\u001b[24m,\n",
       " \u001b[1m\u001b[4mRecipe({Ingredient × 137} --> {Ingredient × 2} --> {Ingredient × 82} via {R × 84})\u001b[22m\u001b[24m,\n",
       " \u001b[1m\u001b[4mRecipe({Ingredient × 137} --> {Ingredient × 2} --> {Ingredient × 82} via {R × 84})\u001b[22m\u001b[24m,\n",
       " \u001b[1m\u001b[4mRecipe({Ingredient × 137} --> {Ingredient × 2} --> {Ingredient × 82} via {R × 84})\u001b[22m\u001b[24m,\n",
       " \u001b[1m\u001b[4mRecipe({Ingredient × 137} --> {Ingredient × 2} --> {Ingredient × 82} via {R × 84})\u001b[22m\u001b[24m,\n",
       " \u001b[1m\u001b[4mRecipe({Ingredient × 137} --> {Ingredient × 2} --> {Ingredient × 82} via {R × 84})\u001b[22m\u001b[24m,\n",
       " \u001b[1m\u001b[4mRecipe({Ingredient × 137} --> {Ingredient × 2} --> {Ingredient × 82} via {R × 84})\u001b[22m\u001b[24m,\n",
       " \u001b[1m\u001b[4mRecipe({Ingredient × 137} --> {Ingredient × 2} --> {Ingredient × 82} via {R × 84})\u001b[22m\u001b[24m,\n",
       " \u001b[1m\u001b[4mRecipe({Ingredient × 137} --> {Ingredient × 2} --> {Ingredient × 82} via {R × 84})\u001b[22m\u001b[24m,\n",
       " \u001b[1m\u001b[4mRecipe({Ingredient × 137} --> {Ingredient × 2} --> {Ingredient × 82} via {R × 84})\u001b[22m\u001b[24m,\n",
       " \u001b[1m\u001b[4mRecipe({Ingredient × 137} --> {Ingredient × 2} --> {Ingredient × 82} via {R × 84})\u001b[22m\u001b[24m,\n",
       " \u001b[1m\u001b[4mRecipe({Ingredient × 137} --> {Ingredient × 2} --> {Ingredient × 82} via {R × 84})\u001b[22m\u001b[24m,\n",
       " \u001b[1m\u001b[4mRecipe({Ingredient × 137} --> {Ingredient × 2} --> {Ingredient × 82} via {R × 84})\u001b[22m\u001b[24m,\n",
       " \u001b[1m\u001b[4mRecipe({Ingredient × 137} --> {Ingredient × 2} --> {Ingredient × 82} via {R × 84})\u001b[22m\u001b[24m,\n",
       " \u001b[1m\u001b[4mRecipe({Ingredient × 137} --> {Ingredient × 2} --> {Ingredient × 82} via {R × 84})\u001b[22m\u001b[24m,\n",
       " \u001b[1m\u001b[4mRecipe({Ingredient × 137} --> {Ingredient × 2} --> {Ingredient × 82} via {R × 84})\u001b[22m\u001b[24m,\n",
       " \u001b[1m\u001b[4mRecipe({Ingredient × 137} --> {Ingredient × 2} --> {Ingredient × 82} via {R × 84})\u001b[22m\u001b[24m,\n",
       " \u001b[1m\u001b[4mRecipe({Ingredient × 137} --> {Ingredient × 2} --> {Ingredient × 82} via {R × 84})\u001b[22m\u001b[24m,\n",
       " \u001b[1m\u001b[4mRecipe({Ingredient × 137} --> {Ingredient × 2} --> {Ingredient × 82} via {R × 84})\u001b[22m\u001b[24m,\n",
       " \u001b[1m\u001b[4mRecipe({Ingredient × 137} --> {Ingredient × 2} --> {Ingredient × 82} via {R × 84})\u001b[22m\u001b[24m,\n",
       " \u001b[1m\u001b[4mRecipe({Ingredient × 137} --> {Ingredient × 2} --> {Ingredient × 82} via {R × 84})\u001b[22m\u001b[24m,\n",
       " \u001b[1m\u001b[4mRecipe({Ingredient × 137} --> {Ingredient × 2} --> {Ingredient × 82} via {R × 84})\u001b[22m\u001b[24m,\n",
       " \u001b[1m\u001b[4mRecipe({Ingredient × 137} --> {Ingredient × 2} --> {Ingredient × 82} via {R × 84})\u001b[22m\u001b[24m,\n",
       " \u001b[1m\u001b[4mRecipe({Ingredient × 137} --> {Ingredient × 2} --> {Ingredient × 82} via {R × 84})\u001b[22m\u001b[24m,\n",
       " \u001b[1m\u001b[4mRecipe({Ingredient × 137} --> {Ingredient × 2} --> {Ingredient × 82} via {R × 84})\u001b[22m\u001b[24m,\n",
       " \u001b[1m\u001b[4mRecipe({Ingredient × 137} --> {Ingredient × 2} --> {Ingredient × 82} via {R × 84})\u001b[22m\u001b[24m,\n",
       " \u001b[1m\u001b[4mRecipe({Ingredient × 137} --> {Ingredient × 2} --> {Ingredient × 82} via {R × 84})\u001b[22m\u001b[24m,\n",
       " \u001b[1m\u001b[4mRecipe({Ingredient × 137} --> {Ingredient × 2} --> {Ingredient × 82} via {R × 84})\u001b[22m\u001b[24m,\n",
       " \u001b[1m\u001b[4mRecipe({Ingredient × 137} --> {Ingredient × 2} --> {Ingredient × 82} via {R × 84})\u001b[22m\u001b[24m,\n",
       " \u001b[1m\u001b[4mRecipe({Ingredient × 137} --> {Ingredient × 2} --> {Ingredient × 82} via {R × 84})\u001b[22m\u001b[24m,\n",
       " \u001b[1m\u001b[4mRecipe({Ingredient × 137} --> {Ingredient × 2} --> {Ingredient × 82} via {R × 84})\u001b[22m\u001b[24m,\n",
       " \u001b[1m\u001b[4mRecipe({Ingredient × 137} --> {Ingredient × 2} --> {Ingredient × 82} via {R × 84})\u001b[22m\u001b[24m,\n",
       " \u001b[1m\u001b[4mRecipe({Ingredient × 137} --> {Ingredient × 2} --> {Ingredient × 82} via {R × 84})\u001b[22m\u001b[24m,\n",
       " \u001b[1m\u001b[4mRecipe({Ingredient × 137} --> {Ingredient × 2} --> {Ingredient × 82} via {R × 84})\u001b[22m\u001b[24m,\n",
       " \u001b[1m\u001b[4mRecipe({Ingredient × 137} --> {Ingredient × 2} --> {Ingredient × 82} via {R × 84})\u001b[22m\u001b[24m,\n",
       " \u001b[1m\u001b[4mRecipe({Ingredient × 137} --> {Ingredient × 2} --> {Ingredient × 82} via {R × 84})\u001b[22m\u001b[24m,\n",
       " \u001b[1m\u001b[4mRecipe({Ingredient × 137} --> {Ingredient × 2} --> {Ingredient × 82} via {R × 84})\u001b[22m\u001b[24m,\n",
       " \u001b[1m\u001b[4mRecipe({Ingredient × 137} --> {Ingredient × 2} --> {Ingredient × 82} via {R × 84})\u001b[22m\u001b[24m,\n",
       " \u001b[1m\u001b[4mRecipe({Ingredient × 137} --> {Ingredient × 2} --> {Ingredient × 82} via {R × 84})\u001b[22m\u001b[24m,\n",
       " \u001b[1m\u001b[4mRecipe({Ingredient × 137} --> {Ingredient × 2} --> {Ingredient × 82} via {R × 84})\u001b[22m\u001b[24m,\n",
       " \u001b[1m\u001b[4mRecipe({Ingredient × 137} --> {Ingredient × 2} --> {Ingredient × 82} via {R × 84})\u001b[22m\u001b[24m,\n",
       " \u001b[1m\u001b[4mRecipe({Ingredient × 137} --> {Ingredient × 2} --> {Ingredient × 82} via {R × 84})\u001b[22m\u001b[24m,\n",
       " \u001b[1m\u001b[4mRecipe({Ingredient × 137} --> {Ingredient × 2} --> {Ingredient × 82} via {R × 84})\u001b[22m\u001b[24m,\n",
       " \u001b[1m\u001b[4mRecipe({Ingredient × 137} --> {Ingredient × 2} --> {Ingredient × 82} via {R × 84})\u001b[22m\u001b[24m,\n",
       " \u001b[1m\u001b[4mRecipe({Ingredient × 137} --> {Ingredient × 2} --> {Ingredient × 82} via {R × 84})\u001b[22m\u001b[24m,\n",
       " \u001b[1m\u001b[4mRecipe({Ingredient × 137} --> {Ingredient × 2} --> {Ingredient × 82} via {R × 84})\u001b[22m\u001b[24m,\n",
       " \u001b[1m\u001b[4mRecipe({Ingredient × 137} --> {Ingredient × 2} --> {Ingredient × 82} via {R × 84})\u001b[22m\u001b[24m,\n",
       " \u001b[1m\u001b[4mRecipe({Ingredient × 137} --> {Ingredient × 2} --> {Ingredient × 82} via {R × 84})\u001b[22m\u001b[24m,\n",
       " \u001b[1m\u001b[4mRecipe({Ingredient × 137} --> {Ingredient × 2} --> {Ingredient × 82} via {R × 84})\u001b[22m\u001b[24m,\n",
       " \u001b[1m\u001b[4mRecipe({Ingredient × 137} --> {Ingredient × 2} --> {Ingredient × 82} via {R × 84})\u001b[22m\u001b[24m,\n",
       " \u001b[1m\u001b[4mRecipe({Ingredient × 137} --> {Ingredient × 2} --> {Ingredient × 82} via {R × 84})\u001b[22m\u001b[24m,\n",
       " \u001b[1m\u001b[4mRecipe({Ingredient × 137} --> {Ingredient × 2} --> {Ingredient × 82} via {R × 84})\u001b[22m\u001b[24m,\n",
       " \u001b[1m\u001b[4mRecipe({Ingredient × 137} --> {Ingredient × 2} --> {Ingredient × 82} via {R × 84})\u001b[22m\u001b[24m,\n",
       " \u001b[1m\u001b[4mRecipe({Ingredient × 137} --> {Ingredient × 2} --> {Ingredient × 82} via {R × 84})\u001b[22m\u001b[24m,\n",
       " \u001b[1m\u001b[4mRecipe({Ingredient × 137} --> {Ingredient × 2} --> {Ingredient × 82} via {R × 84})\u001b[22m\u001b[24m,\n",
       " \u001b[1m\u001b[4mRecipe({Ingredient × 137} --> {Ingredient × 2} --> {Ingredient × 82} via {R × 84})\u001b[22m\u001b[24m,\n",
       " \u001b[1m\u001b[4mRecipe({Ingredient × 137} --> {Ingredient × 2} --> {Ingredient × 82} via {R × 84})\u001b[22m\u001b[24m,\n",
       " \u001b[1m\u001b[4mRecipe({Ingredient × 137} --> {Ingredient × 2} --> {Ingredient × 82} via {R × 84})\u001b[22m\u001b[24m,\n",
       " \u001b[1m\u001b[4mRecipe({Ingredient × 137} --> {Ingredient × 2} --> {Ingredient × 82} via {R × 84})\u001b[22m\u001b[24m,\n",
       " \u001b[1m\u001b[4mRecipe({Ingredient × 137} --> {Ingredient × 2} --> {Ingredient × 82} via {R × 84})\u001b[22m\u001b[24m,\n",
       " \u001b[1m\u001b[4mRecipe({Ingredient × 137} --> {Ingredient × 2} --> {Ingredient × 82} via {R × 84})\u001b[22m\u001b[24m,\n",
       " \u001b[1m\u001b[4mRecipe({Ingredient × 137} --> {Ingredient × 2} --> {Ingredient × 82} via {R × 84})\u001b[22m\u001b[24m,\n",
       " \u001b[1m\u001b[4mRecipe({Ingredient × 137} --> {Ingredient × 2} --> {Ingredient × 82} via {R × 84})\u001b[22m\u001b[24m,\n",
       " \u001b[1m\u001b[4mRecipe({Ingredient × 137} --> {Ingredient × 2} --> {Ingredient × 82} via {R × 84})\u001b[22m\u001b[24m,\n",
       " \u001b[1m\u001b[4mRecipe({Ingredient × 137} --> {Ingredient × 2} --> {Ingredient × 82} via {R × 84})\u001b[22m\u001b[24m,\n",
       " \u001b[1m\u001b[4mRecipe({Ingredient × 137} --> {Ingredient × 2} --> {Ingredient × 82} via {R × 84})\u001b[22m\u001b[24m,\n",
       " \u001b[1m\u001b[4mRecipe({Ingredient × 137} --> {Ingredient × 2} --> {Ingredient × 82} via {R × 84})\u001b[22m\u001b[24m,\n",
       " \u001b[1m\u001b[4mRecipe({Ingredient × 137} --> {Ingredient × 2} --> {Ingredient × 82} via {R × 84})\u001b[22m\u001b[24m,\n",
       " \u001b[1m\u001b[4mRecipe({Ingredient × 137} --> {Ingredient × 2} --> {Ingredient × 82} via {R × 84})\u001b[22m\u001b[24m,\n",
       " \u001b[1m\u001b[4mRecipe({Ingredient × 137} --> {Ingredient × 2} --> {Ingredient × 82} via {R × 84})\u001b[22m\u001b[24m,\n",
       " \u001b[1m\u001b[4mRecipe({Ingredient × 137} --> {Ingredient × 2} --> {Ingredient × 82} via {R × 84})\u001b[22m\u001b[24m,\n",
       " \u001b[1m\u001b[4mRecipe({Ingredient × 137} --> {Ingredient × 2} --> {Ingredient × 82} via {R × 84})\u001b[22m\u001b[24m,\n",
       " \u001b[1m\u001b[4mRecipe({Ingredient × 137} --> {Ingredient × 2} --> {Ingredient × 82} via {R × 84})\u001b[22m\u001b[24m,\n",
       " \u001b[1m\u001b[4mRecipe({Ingredient × 137} --> {Ingredient × 2} --> {Ingredient × 82} via {R × 84})\u001b[22m\u001b[24m,\n",
       " \u001b[1m\u001b[4mRecipe({Ingredient × 137} --> {Ingredient × 2} --> {Ingredient × 82} via {R × 84})\u001b[22m\u001b[24m,\n",
       " \u001b[1m\u001b[4mRecipe({Ingredient × 137} --> {Ingredient × 2} --> {Ingredient × 82} via {R × 84})\u001b[22m\u001b[24m,\n",
       " \u001b[1m\u001b[4mRecipe({Ingredient × 137} --> {Ingredient × 2} --> {Ingredient × 82} via {R × 84})\u001b[22m\u001b[24m,\n",
       " \u001b[1m\u001b[4mRecipe({Ingredient × 137} --> {Ingredient × 2} --> {Ingredient × 82} via {R × 84})\u001b[22m\u001b[24m,\n",
       " \u001b[1m\u001b[4mRecipe({Ingredient × 137} --> {Ingredient × 2} --> {Ingredient × 82} via {R × 84})\u001b[22m\u001b[24m,\n",
       " \u001b[1m\u001b[4mRecipe({Ingredient × 137} --> {Ingredient × 2} --> {Ingredient × 82} via {R × 84})\u001b[22m\u001b[24m,\n",
       " \u001b[1m\u001b[4mRecipe({Ingredient × 137} --> {Ingredient × 2} --> {Ingredient × 82} via {R × 84})\u001b[22m\u001b[24m,\n",
       " \u001b[1m\u001b[4mRecipe({Ingredient × 137} --> {Ingredient × 2} --> {Ingredient × 82} via {R × 84})\u001b[22m\u001b[24m,\n",
       " \u001b[1m\u001b[4mRecipe({Ingredient × 137} --> {Ingredient × 2} --> {Ingredient × 82} via {R × 84})\u001b[22m\u001b[24m,\n",
       " \u001b[1m\u001b[4mRecipe({Ingredient × 137} --> {Ingredient × 2} --> {Ingredient × 82} via {R × 84})\u001b[22m\u001b[24m,\n",
       " \u001b[1m\u001b[4mRecipe({Ingredient × 137} --> {Ingredient × 2} --> {Ingredient × 82} via {R × 84})\u001b[22m\u001b[24m,\n",
       " \u001b[1m\u001b[4mRecipe({Ingredient × 137} --> {Ingredient × 2} --> {Ingredient × 82} via {R × 84})\u001b[22m\u001b[24m,\n",
       " \u001b[1m\u001b[4mRecipe({Ingredient × 137} --> {Ingredient × 2} --> {Ingredient × 82} via {R × 84})\u001b[22m\u001b[24m,\n",
       " \u001b[1m\u001b[4mRecipe({Ingredient × 137} --> {Ingredient × 2} --> {Ingredient × 82} via {R × 84})\u001b[22m\u001b[24m,\n",
       " \u001b[1m\u001b[4mRecipe({Ingredient × 137} --> {Ingredient × 2} --> {Ingredient × 82} via {R × 84})\u001b[22m\u001b[24m,\n",
       " \u001b[1m\u001b[4mRecipe({Ingredient × 137} --> {Ingredient × 2} --> {Ingredient × 82} via {R × 84})\u001b[22m\u001b[24m,\n",
       " \u001b[1m\u001b[4mRecipe({Ingredient × 137} --> {Ingredient × 2} --> {Ingredient × 82} via {R × 84})\u001b[22m\u001b[24m,\n",
       " \u001b[1m\u001b[4mRecipe({Ingredient × 137} --> {Ingredient × 2} --> {Ingredient × 82} via {R × 84})\u001b[22m\u001b[24m,\n",
       " \u001b[1m\u001b[4mRecipe({Ingredient × 137} --> {Ingredient × 2} --> {Ingredient × 82} via {R × 84})\u001b[22m\u001b[24m,\n",
       " \u001b[1m\u001b[4mRecipe({Ingredient × 137} --> {Ingredient × 2} --> {Ingredient × 82} via {R × 84})\u001b[22m\u001b[24m,\n",
       " \u001b[1m\u001b[4mRecipe({Ingredient × 137} --> {Ingredient × 2} --> {Ingredient × 82} via {R × 84})\u001b[22m\u001b[24m,\n",
       " \u001b[1m\u001b[4mRecipe({Ingredient × 137} --> {Ingredient × 2} --> {Ingredient × 82} via {R × 84})\u001b[22m\u001b[24m,\n",
       " \u001b[1m\u001b[4mRecipe({Ingredient × 137} --> {Ingredient × 2} --> {Ingredient × 82} via {R × 84})\u001b[22m\u001b[24m,\n",
       " \u001b[1m\u001b[4mRecipe({Ingredient × 137} --> {Ingredient × 2} --> {Ingredient × 82} via {R × 84})\u001b[22m\u001b[24m,\n",
       " \u001b[1m\u001b[4mRecipe({Ingredient × 137} --> {Ingredient × 2} --> {Ingredient × 82} via {R × 84})\u001b[22m\u001b[24m,\n",
       " \u001b[1m\u001b[4mRecipe({Ingredient × 137} --> {Ingredient × 2} --> {Ingredient × 82} via {R × 84})\u001b[22m\u001b[24m,\n",
       " \u001b[1m\u001b[4mRecipe({Ingredient × 137} --> {Ingredient × 2} --> {Ingredient × 82} via {R × 84})\u001b[22m\u001b[24m,\n",
       " \u001b[1m\u001b[4mRecipe({Ingredient × 137} --> {Ingredient × 2} --> {Ingredient × 82} via {R × 84})\u001b[22m\u001b[24m,\n",
       " \u001b[1m\u001b[4mRecipe({Ingredient × 137} --> {Ingredient × 2} --> {Ingredient × 82} via {R × 84})\u001b[22m\u001b[24m,\n",
       " \u001b[1m\u001b[4mRecipe({Ingredient × 137} --> {Ingredient × 2} --> {Ingredient × 82} via {R × 84})\u001b[22m\u001b[24m,\n",
       " \u001b[1m\u001b[4mRecipe({Ingredient × 137} --> {Ingredient × 2} --> {Ingredient × 82} via {R × 84})\u001b[22m\u001b[24m,\n",
       " \u001b[1m\u001b[4mRecipe({Ingredient × 137} --> {Ingredient × 2} --> {Ingredient × 82} via {R × 84})\u001b[22m\u001b[24m,\n",
       " \u001b[1m\u001b[4mRecipe({Ingredient × 137} --> {Ingredient × 2} --> {Ingredient × 82} via {R × 84})\u001b[22m\u001b[24m,\n",
       " \u001b[1m\u001b[4mRecipe({Ingredient × 137} --> {Ingredient × 2} --> {Ingredient × 82} via {R × 84})\u001b[22m\u001b[24m,\n",
       " \u001b[1m\u001b[4mRecipe({Ingredient × 137} --> {Ingredient × 2} --> {Ingredient × 82} via {R × 84})\u001b[22m\u001b[24m,\n",
       " \u001b[1m\u001b[4mRecipe({Ingredient × 137} --> {Ingredient × 2} --> {Ingredient × 82} via {R × 84})\u001b[22m\u001b[24m,\n",
       " \u001b[1m\u001b[4mRecipe({Ingredient × 137} --> {Ingredient × 2} --> {Ingredient × 82} via {R × 84})\u001b[22m\u001b[24m,\n",
       " \u001b[1m\u001b[4mRecipe({Ingredient × 137} --> {Ingredient × 2} --> {Ingredient × 82} via {R × 84})\u001b[22m\u001b[24m,\n",
       " \u001b[1m\u001b[4mRecipe({Ingredient × 137} --> {Ingredient × 2} --> {Ingredient × 82} via {R × 84})\u001b[22m\u001b[24m,\n",
       " \u001b[1m\u001b[4mRecipe({Ingredient × 137} --> {Ingredient × 2} --> {Ingredient × 82} via {R × 84})\u001b[22m\u001b[24m,\n",
       " \u001b[1m\u001b[4mRecipe({Ingredient × 137} --> {Ingredient × 2} --> {Ingredient × 82} via {R × 84})\u001b[22m\u001b[24m,\n",
       " \u001b[1m\u001b[4mRecipe({Ingredient × 137} --> {Ingredient × 2} --> {Ingredient × 82} via {R × 84})\u001b[22m\u001b[24m,\n",
       " \u001b[1m\u001b[4mRecipe({Ingredient × 137} --> {Ingredient × 2} --> {Ingredient × 82} via {R × 84})\u001b[22m\u001b[24m,\n",
       " \u001b[1m\u001b[4mRecipe({Ingredient × 137} --> {Ingredient × 2} --> {Ingredient × 82} via {R × 84})\u001b[22m\u001b[24m,\n",
       " \u001b[1m\u001b[4mRecipe({Ingredient × 137} --> {Ingredient × 2} --> {Ingredient × 82} via {R × 84})\u001b[22m\u001b[24m,\n",
       " \u001b[1m\u001b[4mRecipe({Ingredient × 137} --> {Ingredient × 2} --> {Ingredient × 82} via {R × 84})\u001b[22m\u001b[24m,\n",
       " \u001b[1m\u001b[4mRecipe({Ingredient × 137} --> {Ingredient × 2} --> {Ingredient × 82} via {R × 84})\u001b[22m\u001b[24m,\n",
       " \u001b[1m\u001b[4mRecipe({Ingredient × 137} --> {Ingredient × 2} --> {Ingredient × 82} via {R × 84})\u001b[22m\u001b[24m,\n",
       " \u001b[1m\u001b[4mRecipe({Ingredient × 137} --> {Ingredient × 2} --> {Ingredient × 82} via {R × 84})\u001b[22m\u001b[24m,\n",
       " \u001b[1m\u001b[4mRecipe({Ingredient × 137} --> {Ingredient × 2} --> {Ingredient × 82} via {R × 84})\u001b[22m\u001b[24m,\n",
       " \u001b[1m\u001b[4mRecipe({Ingredient × 137} --> {Ingredient × 2} --> {Ingredient × 82} via {R × 84})\u001b[22m\u001b[24m,\n",
       " \u001b[1m\u001b[4mRecipe({Ingredient × 137} --> {Ingredient × 2} --> {Ingredient × 82} via {R × 84})\u001b[22m\u001b[24m,\n",
       " \u001b[1m\u001b[4mRecipe({Ingredient × 137} --> {Ingredient × 2} --> {Ingredient × 82} via {R × 84})\u001b[22m\u001b[24m,\n",
       " \u001b[1m\u001b[4mRecipe({Ingredient × 137} --> {Ingredient × 2} --> {Ingredient × 82} via {R × 84})\u001b[22m\u001b[24m,\n",
       " \u001b[1m\u001b[4mRecipe({Ingredient × 137} --> {Ingredient × 2} --> {Ingredient × 82} via {R × 84})\u001b[22m\u001b[24m,\n",
       " \u001b[1m\u001b[4mRecipe({Ingredient × 137} --> {Ingredient × 2} --> {Ingredient × 82} via {R × 84})\u001b[22m\u001b[24m,\n",
       " \u001b[1m\u001b[4mRecipe({Ingredient × 137} --> {Ingredient × 2} --> {Ingredient × 82} via {R × 84})\u001b[22m\u001b[24m,\n",
       " \u001b[1m\u001b[4mRecipe({Ingredient × 137} --> {Ingredient × 2} --> {Ingredient × 82} via {R × 84})\u001b[22m\u001b[24m,\n",
       " \u001b[1m\u001b[4mRecipe({Ingredient × 137} --> {Ingredient × 2} --> {Ingredient × 82} via {R × 84})\u001b[22m\u001b[24m,\n",
       " \u001b[1m\u001b[4mRecipe({Ingredient × 137} --> {Ingredient × 2} --> {Ingredient × 82} via {R × 84})\u001b[22m\u001b[24m,\n",
       " \u001b[1m\u001b[4mRecipe({Ingredient × 137} --> {Ingredient × 2} --> {Ingredient × 82} via {R × 84})\u001b[22m\u001b[24m,\n",
       " \u001b[1m\u001b[4mRecipe({Ingredient × 137} --> {Ingredient × 2} --> {Ingredient × 82} via {R × 84})\u001b[22m\u001b[24m,\n",
       " \u001b[1m\u001b[4mRecipe({Ingredient × 137} --> {Ingredient × 2} --> {Ingredient × 82} via {R × 84})\u001b[22m\u001b[24m,\n",
       " \u001b[1m\u001b[4mRecipe({Ingredient × 137} --> {Ingredient × 2} --> {Ingredient × 82} via {R × 84})\u001b[22m\u001b[24m,\n",
       " \u001b[1m\u001b[4mRecipe({Ingredient × 137} --> {Ingredient × 2} --> {Ingredient × 82} via {R × 84})\u001b[22m\u001b[24m,\n",
       " \u001b[1m\u001b[4mRecipe({Ingredient × 137} --> {Ingredient × 2} --> {Ingredient × 82} via {R × 84})\u001b[22m\u001b[24m,\n",
       " \u001b[1m\u001b[4mRecipe({Ingredient × 137} --> {Ingredient × 2} --> {Ingredient × 82} via {R × 84})\u001b[22m\u001b[24m,\n",
       " \u001b[1m\u001b[4mRecipe({Ingredient × 137} --> {Ingredient × 2} --> {Ingredient × 82} via {R × 84})\u001b[22m\u001b[24m,\n",
       " \u001b[1m\u001b[4mRecipe({Ingredient × 137} --> {Ingredient × 2} --> {Ingredient × 82} via {R × 84})\u001b[22m\u001b[24m,\n",
       " \u001b[1m\u001b[4mRecipe({Ingredient × 137} --> {Ingredient × 2} --> {Ingredient × 82} via {R × 84})\u001b[22m\u001b[24m,\n",
       " \u001b[1m\u001b[4mRecipe({Ingredient × 137} --> {Ingredient × 2} --> {Ingredient × 82} via {R × 84})\u001b[22m\u001b[24m,\n",
       " \u001b[1m\u001b[4mRecipe({Ingredient × 137} --> {Ingredient × 2} --> {Ingredient × 82} via {R × 84})\u001b[22m\u001b[24m,\n",
       " \u001b[1m\u001b[4mRecipe({Ingredient × 137} --> {Ingredient × 2} --> {Ingredient × 82} via {R × 84})\u001b[22m\u001b[24m,\n",
       " \u001b[1m\u001b[4mRecipe({Ingredient × 137} --> {Ingredient × 2} --> {Ingredient × 82} via {R × 84})\u001b[22m\u001b[24m,\n",
       " \u001b[1m\u001b[4mRecipe({Ingredient × 137} --> {Ingredient × 2} --> {Ingredient × 82} via {R × 84})\u001b[22m\u001b[24m,\n",
       " \u001b[1m\u001b[4mRecipe({Ingredient × 137} --> {Ingredient × 2} --> {Ingredient × 82} via {R × 84})\u001b[22m\u001b[24m,\n",
       " \u001b[1m\u001b[4mRecipe({Ingredient × 137} --> {Ingredient × 2} --> {Ingredient × 82} via {R × 84})\u001b[22m\u001b[24m,\n",
       " \u001b[1m\u001b[4mRecipe({Ingredient × 137} --> {Ingredient × 2} --> {Ingredient × 82} via {R × 84})\u001b[22m\u001b[24m,\n",
       " \u001b[1m\u001b[4mRecipe({Ingredient × 137} --> {Ingredient × 2} --> {Ingredient × 82} via {R × 84})\u001b[22m\u001b[24m,\n",
       " \u001b[1m\u001b[4mRecipe({Ingredient × 137} --> {Ingredient × 2} --> {Ingredient × 82} via {R × 84})\u001b[22m\u001b[24m,\n",
       " \u001b[1m\u001b[4mRecipe({Ingredient × 137} --> {Ingredient × 2} --> {Ingredient × 82} via {R × 84})\u001b[22m\u001b[24m,\n",
       " \u001b[1m\u001b[4mRecipe({Ingredient × 137} --> {Ingredient × 2} --> {Ingredient × 82} via {R × 84})\u001b[22m\u001b[24m,\n",
       " \u001b[1m\u001b[4mRecipe({Ingredient × 137} --> {Ingredient × 2} --> {Ingredient × 82} via {R × 84})\u001b[22m\u001b[24m,\n",
       " \u001b[1m\u001b[4mRecipe({Ingredient × 137} --> {Ingredient × 2} --> {Ingredient × 82} via {R × 84})\u001b[22m\u001b[24m,\n",
       " \u001b[1m\u001b[4mRecipe({Ingredient × 137} --> {Ingredient × 2} --> {Ingredient × 82} via {R × 84})\u001b[22m\u001b[24m,\n",
       " \u001b[1m\u001b[4mRecipe({Ingredient × 137} --> {Ingredient × 2} --> {Ingredient × 82} via {R × 84})\u001b[22m\u001b[24m,\n",
       " \u001b[1m\u001b[4mRecipe({Ingredient × 137} --> {Ingredient × 2} --> {Ingredient × 82} via {R × 84})\u001b[22m\u001b[24m,\n",
       " \u001b[1m\u001b[4mRecipe({Ingredient × 137} --> {Ingredient × 2} --> {Ingredient × 82} via {R × 84})\u001b[22m\u001b[24m,\n",
       " \u001b[1m\u001b[4mRecipe({Ingredient × 137} --> {Ingredient × 2} --> {Ingredient × 82} via {R × 84})\u001b[22m\u001b[24m,\n",
       " \u001b[1m\u001b[4mRecipe({Ingredient × 137} --> {Ingredient × 2} --> {Ingredient × 82} via {R × 84})\u001b[22m\u001b[24m,\n",
       " \u001b[1m\u001b[4mRecipe({Ingredient × 137} --> {Ingredient × 2} --> {Ingredient × 82} via {R × 84})\u001b[22m\u001b[24m,\n",
       " \u001b[1m\u001b[4mRecipe({Ingredient × 137} --> {Ingredient × 2} --> {Ingredient × 82} via {R × 84})\u001b[22m\u001b[24m,\n",
       " \u001b[1m\u001b[4mRecipe({Ingredient × 137} --> {Ingredient × 2} --> {Ingredient × 82} via {R × 84})\u001b[22m\u001b[24m,\n",
       " \u001b[1m\u001b[4mRecipe({Ingredient × 137} --> {Ingredient × 2} --> {Ingredient × 82} via {R × 84})\u001b[22m\u001b[24m,\n",
       " \u001b[1m\u001b[4mRecipe({Ingredient × 137} --> {Ingredient × 2} --> {Ingredient × 82} via {R × 84})\u001b[22m\u001b[24m,\n",
       " \u001b[1m\u001b[4mRecipe({Ingredient × 137} --> {Ingredient × 2} --> {Ingredient × 82} via {R × 84})\u001b[22m\u001b[24m,\n",
       " \u001b[1m\u001b[4mRecipe({Ingredient × 137} --> {Ingredient × 2} --> {Ingredient × 82} via {R × 84})\u001b[22m\u001b[24m,\n",
       " \u001b[1m\u001b[4mRecipe({Ingredient × 137} --> {Ingredient × 2} --> {Ingredient × 82} via {R × 84})\u001b[22m\u001b[24m,\n",
       " \u001b[1m\u001b[4mRecipe({Ingredient × 137} --> {Ingredient × 2} --> {Ingredient × 82} via {R × 84})\u001b[22m\u001b[24m,\n",
       " \u001b[1m\u001b[4mRecipe({Ingredient × 137} --> {Ingredient × 2} --> {Ingredient × 82} via {R × 84})\u001b[22m\u001b[24m,\n",
       " \u001b[1m\u001b[4mRecipe({Ingredient × 137} --> {Ingredient × 2} --> {Ingredient × 82} via {R × 84})\u001b[22m\u001b[24m,\n",
       " \u001b[1m\u001b[4mRecipe({Ingredient × 137} --> {Ingredient × 2} --> {Ingredient × 82} via {R × 84})\u001b[22m\u001b[24m,\n",
       " \u001b[1m\u001b[4mRecipe({Ingredient × 137} --> {Ingredient × 2} --> {Ingredient × 82} via {R × 84})\u001b[22m\u001b[24m,\n",
       " \u001b[1m\u001b[4mRecipe({Ingredient × 137} --> {Ingredient × 2} --> {Ingredient × 82} via {R × 84})\u001b[22m\u001b[24m,\n",
       " \u001b[1m\u001b[4mRecipe({Ingredient × 137} --> {Ingredient × 2} --> {Ingredient × 82} via {R × 84})\u001b[22m\u001b[24m,\n",
       " \u001b[1m\u001b[4mRecipe({Ingredient × 137} --> {Ingredient × 2} --> {Ingredient × 82} via {R × 84})\u001b[22m\u001b[24m,\n",
       " \u001b[1m\u001b[4mRecipe({Ingredient × 137} --> {Ingredient × 2} --> {Ingredient × 82} via {R × 84})\u001b[22m\u001b[24m,\n",
       " \u001b[1m\u001b[4mRecipe({Ingredient × 137} --> {Ingredient × 2} --> {Ingredient × 82} via {R × 84})\u001b[22m\u001b[24m,\n",
       " \u001b[1m\u001b[4mRecipe({Ingredient × 137} --> {Ingredient × 2} --> {Ingredient × 82} via {R × 84})\u001b[22m\u001b[24m,\n",
       " \u001b[1m\u001b[4mRecipe({Ingredient × 137} --> {Ingredient × 2} --> {Ingredient × 82} via {R × 84})\u001b[22m\u001b[24m,\n",
       " \u001b[1m\u001b[4mRecipe({Ingredient × 137} --> {Ingredient × 2} --> {Ingredient × 82} via {R × 84})\u001b[22m\u001b[24m,\n",
       " \u001b[1m\u001b[4mRecipe({Ingredient × 137} --> {Ingredient × 2} --> {Ingredient × 82} via {R × 84})\u001b[22m\u001b[24m,\n",
       " \u001b[1m\u001b[4mRecipe({Ingredient × 137} --> {Ingredient × 2} --> {Ingredient × 82} via {R × 84})\u001b[22m\u001b[24m,\n",
       " \u001b[1m\u001b[4mRecipe({Ingredient × 137} --> {Ingredient × 2} --> {Ingredient × 82} via {R × 84})\u001b[22m\u001b[24m,\n",
       " \u001b[1m\u001b[4mRecipe({Ingredient × 137} --> {Ingredient × 2} --> {Ingredient × 82} via {R × 84})\u001b[22m\u001b[24m,\n",
       " \u001b[1m\u001b[4mRecipe({Ingredient × 137} --> {Ingredient × 2} --> {Ingredient × 82} via {R × 84})\u001b[22m\u001b[24m,\n",
       " \u001b[1m\u001b[4mRecipe({Ingredient × 137} --> {Ingredient × 2} --> {Ingredient × 82} via {R × 84})\u001b[22m\u001b[24m,\n",
       " \u001b[1m\u001b[4mRecipe({Ingredient × 137} --> {Ingredient × 2} --> {Ingredient × 82} via {R × 84})\u001b[22m\u001b[24m,\n",
       " \u001b[1m\u001b[4mRecipe({Ingredient × 137} --> {Ingredient × 2} --> {Ingredient × 82} via {R × 84})\u001b[22m\u001b[24m,\n",
       " \u001b[1m\u001b[4mRecipe({Ingredient × 137} --> {Ingredient × 2} --> {Ingredient × 82} via {R × 84})\u001b[22m\u001b[24m,\n",
       " \u001b[1m\u001b[4mRecipe({Ingredient × 137} --> {Ingredient × 2} --> {Ingredient × 82} via {R × 84})\u001b[22m\u001b[24m,\n",
       " \u001b[1m\u001b[4mRecipe({Ingredient × 137} --> {Ingredient × 2} --> {Ingredient × 82} via {R × 84})\u001b[22m\u001b[24m,\n",
       " \u001b[1m\u001b[4mRecipe({Ingredient × 137} --> {Ingredient × 2} --> {Ingredient × 82} via {R × 84})\u001b[22m\u001b[24m,\n",
       " \u001b[1m\u001b[4mRecipe({Ingredient × 137} --> {Ingredient × 2} --> {Ingredient × 82} via {R × 84})\u001b[22m\u001b[24m,\n",
       " \u001b[1m\u001b[4mRecipe({Ingredient × 137} --> {Ingredient × 2} --> {Ingredient × 82} via {R × 84})\u001b[22m\u001b[24m,\n",
       " \u001b[1m\u001b[4mRecipe({Ingredient × 137} --> {Ingredient × 2} --> {Ingredient × 82} via {R × 84})\u001b[22m\u001b[24m,\n",
       " \u001b[1m\u001b[4mRecipe({Ingredient × 137} --> {Ingredient × 2} --> {Ingredient × 82} via {R × 84})\u001b[22m\u001b[24m,\n",
       " \u001b[1m\u001b[4mRecipe({Ingredient × 137} --> {Ingredient × 2} --> {Ingredient × 82} via {R × 84})\u001b[22m\u001b[24m,\n",
       " \u001b[1m\u001b[4mRecipe({Ingredient × 137} --> {Ingredient × 2} --> {Ingredient × 82} via {R × 84})\u001b[22m\u001b[24m,\n",
       " \u001b[1m\u001b[4mRecipe({Ingredient × 137} --> {Ingredient × 2} --> {Ingredient × 82} via {R × 84})\u001b[22m\u001b[24m,\n",
       " \u001b[1m\u001b[4mRecipe({Ingredient × 137} --> {Ingredient × 2} --> {Ingredient × 82} via {R × 84})\u001b[22m\u001b[24m,\n",
       " \u001b[1m\u001b[4mRecipe({Ingredient × 137} --> {Ingredient × 2} --> {Ingredient × 82} via {R × 84})\u001b[22m\u001b[24m,\n",
       " \u001b[1m\u001b[4mRecipe({Ingredient × 137} --> {Ingredient × 2} --> {Ingredient × 82} via {R × 84})\u001b[22m\u001b[24m,\n",
       " \u001b[1m\u001b[4mRecipe({Ingredient × 137} --> {Ingredient × 2} --> {Ingredient × 82} via {R × 84})\u001b[22m\u001b[24m,\n",
       " \u001b[1m\u001b[4mRecipe({Ingredient × 137} --> {Ingredient × 2} --> {Ingredient × 82} via {R × 84})\u001b[22m\u001b[24m,\n",
       " \u001b[1m\u001b[4mRecipe({Ingredient × 137} --> {Ingredient × 2} --> {Ingredient × 82} via {R × 84})\u001b[22m\u001b[24m,\n",
       " \u001b[1m\u001b[4mRecipe({Ingredient × 137} --> {Ingredient × 2} --> {Ingredient × 82} via {R × 84})\u001b[22m\u001b[24m,\n",
       " \u001b[1m\u001b[4mRecipe({Ingredient × 137} --> {Ingredient × 2} --> {Ingredient × 82} via {R × 84})\u001b[22m\u001b[24m,\n",
       " \u001b[1m\u001b[4mRecipe({Ingredient × 137} --> {Ingredient × 2} --> {Ingredient × 82} via {R × 84})\u001b[22m\u001b[24m,\n",
       " \u001b[1m\u001b[4mRecipe({Ingredient × 137} --> {Ingredient × 2} --> {Ingredient × 82} via {R × 84})\u001b[22m\u001b[24m,\n",
       " \u001b[1m\u001b[4mRecipe({Ingredient × 137} --> {Ingredient × 2} --> {Ingredient × 82} via {R × 84})\u001b[22m\u001b[24m,\n",
       " \u001b[1m\u001b[4mRecipe({Ingredient × 137} --> {Ingredient × 2} --> {Ingredient × 82} via {R × 84})\u001b[22m\u001b[24m,\n",
       " \u001b[1m\u001b[4mRecipe({Ingredient × 137} --> {Ingredient × 2} --> {Ingredient × 82} via {R × 84})\u001b[22m\u001b[24m,\n",
       " \u001b[1m\u001b[4mRecipe({Ingredient × 137} --> {Ingredient × 2} --> {Ingredient × 82} via {R × 84})\u001b[22m\u001b[24m,\n",
       " \u001b[1m\u001b[4mRecipe({Ingredient × 137} --> {Ingredient × 2} --> {Ingredient × 82} via {R × 84})\u001b[22m\u001b[24m,\n",
       " \u001b[1m\u001b[4mRecipe({Ingredient × 137} --> {Ingredient × 2} --> {Ingredient × 82} via {R × 84})\u001b[22m\u001b[24m,\n",
       " \u001b[1m\u001b[4mRecipe({Ingredient × 137} --> {Ingredient × 2} --> {Ingredient × 82} via {R × 84})\u001b[22m\u001b[24m,\n",
       " \u001b[1m\u001b[4mRecipe({Ingredient × 137} --> {Ingredient × 2} --> {Ingredient × 82} via {R × 84})\u001b[22m\u001b[24m,\n",
       " \u001b[1m\u001b[4mRecipe({Ingredient × 137} --> {Ingredient × 2} --> {Ingredient × 82} via {R × 84})\u001b[22m\u001b[24m,\n",
       " \u001b[1m\u001b[4mRecipe({Ingredient × 137} --> {Ingredient × 2} --> {Ingredient × 82} via {R × 84})\u001b[22m\u001b[24m,\n",
       " \u001b[1m\u001b[4mRecipe({Ingredient × 137} --> {Ingredient × 2} --> {Ingredient × 82} via {R × 84})\u001b[22m\u001b[24m,\n",
       " \u001b[1m\u001b[4mRecipe({Ingredient × 137} --> {Ingredient × 2} --> {Ingredient × 82} via {R × 84})\u001b[22m\u001b[24m,\n",
       " \u001b[1m\u001b[4mRecipe({Ingredient × 137} --> {Ingredient × 2} --> {Ingredient × 82} via {R × 84})\u001b[22m\u001b[24m,\n",
       " \u001b[1m\u001b[4mRecipe({Ingredient × 137} --> {Ingredient × 2} --> {Ingredient × 82} via {R × 84})\u001b[22m\u001b[24m,\n",
       " \u001b[1m\u001b[4mRecipe({Ingredient × 137} --> {Ingredient × 2} --> {Ingredient × 82} via {R × 84})\u001b[22m\u001b[24m,\n",
       " \u001b[1m\u001b[4mRecipe({Ingredient × 137} --> {Ingredient × 2} --> {Ingredient × 82} via {R × 84})\u001b[22m\u001b[24m,\n",
       " \u001b[1m\u001b[4mRecipe({Ingredient × 137} --> {Ingredient × 2} --> {Ingredient × 82} via {R × 84})\u001b[22m\u001b[24m,\n",
       " \u001b[1m\u001b[4mRecipe({Ingredient × 137} --> {Ingredient × 2} --> {Ingredient × 82} via {R × 84})\u001b[22m\u001b[24m,\n",
       " \u001b[1m\u001b[4mRecipe({Ingredient × 137} --> {Ingredient × 2} --> {Ingredient × 82} via {R × 84})\u001b[22m\u001b[24m,\n",
       " \u001b[1m\u001b[4mRecipe({Ingredient × 137} --> {Ingredient × 2} --> {Ingredient × 82} via {R × 84})\u001b[22m\u001b[24m,\n",
       " \u001b[1m\u001b[4mRecipe({Ingredient × 137} --> {Ingredient × 2} --> {Ingredient × 82} via {R × 84})\u001b[22m\u001b[24m,\n",
       " \u001b[1m\u001b[4mRecipe({Ingredient × 137} --> {Ingredient × 2} --> {Ingredient × 82} via {R × 84})\u001b[22m\u001b[24m,\n",
       " \u001b[1m\u001b[4mRecipe({Ingredient × 137} --> {Ingredient × 2} --> {Ingredient × 82} via {R × 84})\u001b[22m\u001b[24m,\n",
       " \u001b[1m\u001b[4mRecipe({Ingredient × 137} --> {Ingredient × 2} --> {Ingredient × 82} via {R × 84})\u001b[22m\u001b[24m,\n",
       " \u001b[1m\u001b[4mRecipe({Ingredient × 137} --> {Ingredient × 2} --> {Ingredient × 82} via {R × 84})\u001b[22m\u001b[24m,\n",
       " \u001b[1m\u001b[4mRecipe({Ingredient × 137} --> {Ingredient × 2} --> {Ingredient × 82} via {R × 84})\u001b[22m\u001b[24m,\n",
       " \u001b[1m\u001b[4mRecipe({Ingredient × 137} --> {Ingredient × 2} --> {Ingredient × 82} via {R × 84})\u001b[22m\u001b[24m,\n",
       " \u001b[1m\u001b[4mRecipe({Ingredient × 137} --> {Ingredient × 2} --> {Ingredient × 82} via {R × 84})\u001b[22m\u001b[24m,\n",
       " \u001b[1m\u001b[4mRecipe({Ingredient × 137} --> {Ingredient × 2} --> {Ingredient × 82} via {R × 84})\u001b[22m\u001b[24m,\n",
       " \u001b[1m\u001b[4mRecipe({Ingredient × 137} --> {Ingredient × 2} --> {Ingredient × 82} via {R × 84})\u001b[22m\u001b[24m,\n",
       " \u001b[1m\u001b[4mRecipe({Ingredient × 137} --> {Ingredient × 2} --> {Ingredient × 82} via {R × 84})\u001b[22m\u001b[24m,\n",
       " \u001b[1m\u001b[4mRecipe({Ingredient × 137} --> {Ingredient × 2} --> {Ingredient × 82} via {R × 84})\u001b[22m\u001b[24m,\n",
       " \u001b[1m\u001b[4mRecipe({Ingredient × 137} --> {Ingredient × 2} --> {Ingredient × 82} via {R × 84})\u001b[22m\u001b[24m,\n",
       " \u001b[1m\u001b[4mRecipe({Ingredient × 137} --> {Ingredient × 2} --> {Ingredient × 82} via {R × 84})\u001b[22m\u001b[24m,\n",
       " \u001b[1m\u001b[4mRecipe({Ingredient × 137} --> {Ingredient × 2} --> {Ingredient × 82} via {R × 84})\u001b[22m\u001b[24m,\n",
       " \u001b[1m\u001b[4mRecipe({Ingredient × 137} --> {Ingredient × 2} --> {Ingredient × 82} via {R × 84})\u001b[22m\u001b[24m,\n",
       " \u001b[1m\u001b[4mRecipe({Ingredient × 137} --> {Ingredient × 2} --> {Ingredient × 82} via {R × 84})\u001b[22m\u001b[24m,\n",
       " \u001b[1m\u001b[4mRecipe({Ingredient × 137} --> {Ingredient × 2} --> {Ingredient × 82} via {R × 84})\u001b[22m\u001b[24m,\n",
       " \u001b[1m\u001b[4mRecipe({Ingredient × 137} --> {Ingredient × 2} --> {Ingredient × 82} via {R × 84})\u001b[22m\u001b[24m,\n",
       " \u001b[1m\u001b[4mRecipe({Ingredient × 137} --> {Ingredient × 2} --> {Ingredient × 82} via {R × 84})\u001b[22m\u001b[24m,\n",
       " \u001b[1m\u001b[4mRecipe({Ingredient × 137} --> {Ingredient × 2} --> {Ingredient × 82} via {R × 84})\u001b[22m\u001b[24m,\n",
       " \u001b[1m\u001b[4mRecipe({Ingredient × 137} --> {Ingredient × 2} --> {Ingredient × 82} via {R × 84})\u001b[22m\u001b[24m,\n",
       " \u001b[1m\u001b[4mRecipe({Ingredient × 137} --> {Ingredient × 2} --> {Ingredient × 82} via {R × 84})\u001b[22m\u001b[24m,\n",
       " \u001b[1m\u001b[4mRecipe({Ingredient × 137} --> {Ingredient × 2} --> {Ingredient × 82} via {R × 84})\u001b[22m\u001b[24m,\n",
       " \u001b[1m\u001b[4mRecipe({Ingredient × 137} --> {Ingredient × 2} --> {Ingredient × 82} via {R × 84})\u001b[22m\u001b[24m,\n",
       " \u001b[1m\u001b[4mRecipe({Ingredient × 137} --> {Ingredient × 2} --> {Ingredient × 82} via {R × 84})\u001b[22m\u001b[24m,\n",
       " \u001b[1m\u001b[4mRecipe({Ingredient × 137} --> {Ingredient × 2} --> {Ingredient × 82} via {R × 84})\u001b[22m\u001b[24m,\n",
       " \u001b[1m\u001b[4mRecipe({Ingredient × 137} --> {Ingredient × 2} --> {Ingredient × 82} via {R × 84})\u001b[22m\u001b[24m,\n",
       " \u001b[1m\u001b[4mRecipe({Ingredient × 137} --> {Ingredient × 2} --> {Ingredient × 82} via {R × 84})\u001b[22m\u001b[24m,\n",
       " \u001b[1m\u001b[4mRecipe({Ingredient × 137} --> {Ingredient × 2} --> {Ingredient × 82} via {R × 84})\u001b[22m\u001b[24m,\n",
       " \u001b[1m\u001b[4mRecipe({Ingredient × 137} --> {Ingredient × 2} --> {Ingredient × 82} via {R × 84})\u001b[22m\u001b[24m,\n",
       " \u001b[1m\u001b[4mRecipe({Ingredient × 137} --> {Ingredient × 2} --> {Ingredient × 82} via {R × 84})\u001b[22m\u001b[24m,\n",
       " \u001b[1m\u001b[4mRecipe({Ingredient × 137} --> {Ingredient × 2} --> {Ingredient × 82} via {R × 84})\u001b[22m\u001b[24m,\n",
       " \u001b[1m\u001b[4mRecipe({Ingredient × 137} --> {Ingredient × 2} --> {Ingredient × 82} via {R × 84})\u001b[22m\u001b[24m,\n",
       " \u001b[1m\u001b[4mRecipe({Ingredient × 137} --> {Ingredient × 2} --> {Ingredient × 82} via {R × 84})\u001b[22m\u001b[24m,\n",
       " \u001b[1m\u001b[4mRecipe({Ingredient × 137} --> {Ingredient × 2} --> {Ingredient × 82} via {R × 84})\u001b[22m\u001b[24m,\n",
       " \u001b[1m\u001b[4mRecipe({Ingredient × 137} --> {Ingredient × 2} --> {Ingredient × 82} via {R × 84})\u001b[22m\u001b[24m,\n",
       " \u001b[1m\u001b[4mRecipe({Ingredient × 137} --> {Ingredient × 2} --> {Ingredient × 82} via {R × 84})\u001b[22m\u001b[24m,\n",
       " \u001b[1m\u001b[4mRecipe({Ingredient × 137} --> {Ingredient × 2} --> {Ingredient × 82} via {R × 84})\u001b[22m\u001b[24m,\n",
       " \u001b[1m\u001b[4mRecipe({Ingredient × 137} --> {Ingredient × 2} --> {Ingredient × 82} via {R × 84})\u001b[22m\u001b[24m,\n",
       " \u001b[1m\u001b[4mRecipe({Ingredient × 137} --> {Ingredient × 2} --> {Ingredient × 82} via {R × 84})\u001b[22m\u001b[24m,\n",
       " \u001b[1m\u001b[4mRecipe({Ingredient × 137} --> {Ingredient × 2} --> {Ingredient × 82} via {R × 84})\u001b[22m\u001b[24m,\n",
       " \u001b[1m\u001b[4mRecipe({Ingredient × 137} --> {Ingredient × 2} --> {Ingredient × 82} via {R × 84})\u001b[22m\u001b[24m,\n",
       " \u001b[1m\u001b[4mRecipe({Ingredient × 137} --> {Ingredient × 2} --> {Ingredient × 82} via {R × 84})\u001b[22m\u001b[24m,\n",
       " \u001b[1m\u001b[4mRecipe({Ingredient × 137} --> {Ingredient × 2} --> {Ingredient × 82} via {R × 84})\u001b[22m\u001b[24m,\n",
       " \u001b[1m\u001b[4mRecipe({Ingredient × 137} --> {Ingredient × 2} --> {Ingredient × 82} via {R × 84})\u001b[22m\u001b[24m,\n",
       " \u001b[1m\u001b[4mRecipe({Ingredient × 137} --> {Ingredient × 2} --> {Ingredient × 82} via {R × 84})\u001b[22m\u001b[24m,\n",
       " \u001b[1m\u001b[4mRecipe({Ingredient × 137} --> {Ingredient × 2} --> {Ingredient × 82} via {R × 84})\u001b[22m\u001b[24m,\n",
       " \u001b[1m\u001b[4mRecipe({Ingredient × 137} --> {Ingredient × 2} --> {Ingredient × 82} via {R × 84})\u001b[22m\u001b[24m,\n",
       " \u001b[1m\u001b[4mRecipe({Ingredient × 137} --> {Ingredient × 2} --> {Ingredient × 82} via {R × 84})\u001b[22m\u001b[24m,\n",
       " \u001b[1m\u001b[4mRecipe({Ingredient × 137} --> {Ingredient × 2} --> {Ingredient × 82} via {R × 84})\u001b[22m\u001b[24m,\n",
       " \u001b[1m\u001b[4mRecipe({Ingredient × 137} --> {Ingredient × 2} --> {Ingredient × 82} via {R × 84})\u001b[22m\u001b[24m,\n",
       " \u001b[1m\u001b[4mRecipe({Ingredient × 137} --> {Ingredient × 2} --> {Ingredient × 82} via {R × 84})\u001b[22m\u001b[24m,\n",
       " \u001b[1m\u001b[4mRecipe({Ingredient × 137} --> {Ingredient × 2} --> {Ingredient × 82} via {R × 84})\u001b[22m\u001b[24m,\n",
       " \u001b[1m\u001b[4mRecipe({Ingredient × 137} --> {Ingredient × 2} --> {Ingredient × 82} via {R × 84})\u001b[22m\u001b[24m,\n",
       " \u001b[1m\u001b[4mRecipe({Ingredient × 137} --> {Ingredient × 2} --> {Ingredient × 82} via {R × 84})\u001b[22m\u001b[24m,\n",
       " \u001b[1m\u001b[4mRecipe({Ingredient × 137} --> {Ingredient × 2} --> {Ingredient × 82} via {R × 84})\u001b[22m\u001b[24m,\n",
       " \u001b[1m\u001b[4mRecipe({Ingredient × 137} --> {Ingredient × 2} --> {Ingredient × 82} via {R × 84})\u001b[22m\u001b[24m,\n",
       " \u001b[1m\u001b[4mRecipe({Ingredient × 137} --> {Ingredient × 2} --> {Ingredient × 82} via {R × 84})\u001b[22m\u001b[24m,\n",
       " \u001b[1m\u001b[4mRecipe({Ingredient × 137} --> {Ingredient × 2} --> {Ingredient × 82} via {R × 84})\u001b[22m\u001b[24m,\n",
       " \u001b[1m\u001b[4mRecipe({Ingredient × 137} --> {Ingredient × 2} --> {Ingredient × 82} via {R × 84})\u001b[22m\u001b[24m,\n",
       " \u001b[1m\u001b[4mRecipe({Ingredient × 137} --> {Ingredient × 2} --> {Ingredient × 82} via {R × 84})\u001b[22m\u001b[24m,\n",
       " \u001b[1m\u001b[4mRecipe({Ingredient × 137} --> {Ingredient × 2} --> {Ingredient × 82} via {R × 84})\u001b[22m\u001b[24m,\n",
       " \u001b[1m\u001b[4mRecipe({Ingredient × 137} --> {Ingredient × 2} --> {Ingredient × 82} via {R × 84})\u001b[22m\u001b[24m,\n",
       " \u001b[1m\u001b[4mRecipe({Ingredient × 137} --> {Ingredient × 2} --> {Ingredient × 82} via {R × 84})\u001b[22m\u001b[24m,\n",
       " \u001b[1m\u001b[4mRecipe({Ingredient × 137} --> {Ingredient × 2} --> {Ingredient × 82} via {R × 84})\u001b[22m\u001b[24m,\n",
       " \u001b[1m\u001b[4mRecipe({Ingredient × 137} --> {Ingredient × 2} --> {Ingredient × 82} via {R × 84})\u001b[22m\u001b[24m,\n",
       " \u001b[1m\u001b[4mRecipe({Ingredient × 137} --> {Ingredient × 2} --> {Ingredient × 82} via {R × 84})\u001b[22m\u001b[24m,\n",
       " \u001b[1m\u001b[4mRecipe({Ingredient × 137} --> {Ingredient × 2} --> {Ingredient × 82} via {R × 84})\u001b[22m\u001b[24m,\n",
       " \u001b[1m\u001b[4mRecipe({Ingredient × 137} --> {Ingredient × 2} --> {Ingredient × 82} via {R × 84})\u001b[22m\u001b[24m,\n",
       " \u001b[1m\u001b[4mRecipe({Ingredient × 137} --> {Ingredient × 2} --> {Ingredient × 82} via {R × 84})\u001b[22m\u001b[24m,\n",
       " \u001b[1m\u001b[4mRecipe({Ingredient × 137} --> {Ingredient × 2} --> {Ingredient × 82} via {R × 84})\u001b[22m\u001b[24m,\n",
       " \u001b[1m\u001b[4mRecipe({Ingredient × 137} --> {Ingredient × 2} --> {Ingredient × 82} via {R × 84})\u001b[22m\u001b[24m,\n",
       " \u001b[1m\u001b[4mRecipe({Ingredient × 137} --> {Ingredient × 2} --> {Ingredient × 82} via {R × 84})\u001b[22m\u001b[24m,\n",
       " \u001b[1m\u001b[4mRecipe({Ingredient × 137} --> {Ingredient × 2} --> {Ingredient × 82} via {R × 84})\u001b[22m\u001b[24m,\n",
       " \u001b[1m\u001b[4mRecipe({Ingredient × 137} --> {Ingredient × 2} --> {Ingredient × 82} via {R × 84})\u001b[22m\u001b[24m,\n",
       " \u001b[1m\u001b[4mRecipe({Ingredient × 137} --> {Ingredient × 2} --> {Ingredient × 82} via {R × 84})\u001b[22m\u001b[24m,\n",
       " \u001b[1m\u001b[4mRecipe({Ingredient × 137} --> {Ingredient × 2} --> {Ingredient × 82} via {R × 84})\u001b[22m\u001b[24m,\n",
       " \u001b[1m\u001b[4mRecipe({Ingredient × 137} --> {Ingredient × 2} --> {Ingredient × 82} via {R × 84})\u001b[22m\u001b[24m,\n",
       " \u001b[1m\u001b[4mRecipe({Ingredient × 137} --> {Ingredient × 2} --> {Ingredient × 82} via {R × 84})\u001b[22m\u001b[24m,\n",
       " \u001b[1m\u001b[4mRecipe({Ingredient × 137} --> {Ingredient × 2} --> {Ingredient × 82} via {R × 84})\u001b[22m\u001b[24m,\n",
       " \u001b[1m\u001b[4mRecipe({Ingredient × 137} --> {Ingredient × 2} --> {Ingredient × 82} via {R × 84})\u001b[22m\u001b[24m,\n",
       " \u001b[1m\u001b[4mRecipe({Ingredient × 137} --> {Ingredient × 2} --> {Ingredient × 82} via {R × 84})\u001b[22m\u001b[24m,\n",
       " \u001b[1m\u001b[4mRecipe({Ingredient × 137} --> {Ingredient × 2} --> {Ingredient × 82} via {R × 84})\u001b[22m\u001b[24m,\n",
       " \u001b[1m\u001b[4mRecipe({Ingredient × 137} --> {Ingredient × 2} --> {Ingredient × 82} via {R × 84})\u001b[22m\u001b[24m,\n",
       " \u001b[1m\u001b[4mRecipe({Ingredient × 137} --> {Ingredient × 2} --> {Ingredient × 82} via {R × 84})\u001b[22m\u001b[24m,\n",
       " \u001b[1m\u001b[4mRecipe({Ingredient × 137} --> {Ingredient × 2} --> {Ingredient × 82} via {R × 84})\u001b[22m\u001b[24m,\n",
       " \u001b[1m\u001b[4mRecipe({Ingredient × 137} --> {Ingredient × 2} --> {Ingredient × 82} via {R × 84})\u001b[22m\u001b[24m,\n",
       " \u001b[1m\u001b[4mRecipe({Ingredient × 137} --> {Ingredient × 2} --> {Ingredient × 82} via {R × 84})\u001b[22m\u001b[24m,\n",
       " \u001b[1m\u001b[4mRecipe({Ingredient × 137} --> {Ingredient × 2} --> {Ingredient × 82} via {R × 84})\u001b[22m\u001b[24m,\n",
       " \u001b[1m\u001b[4mRecipe({Ingredient × 137} --> {Ingredient × 2} --> {Ingredient × 82} via {R × 84})\u001b[22m\u001b[24m,\n",
       " \u001b[1m\u001b[4mRecipe({Ingredient × 137} --> {Ingredient × 2} --> {Ingredient × 82} via {R × 84})\u001b[22m\u001b[24m,\n",
       " \u001b[1m\u001b[4mRecipe({Ingredient × 137} --> {Ingredient × 2} --> {Ingredient × 82} via {R × 84})\u001b[22m\u001b[24m,\n",
       " \u001b[1m\u001b[4mRecipe({Ingredient × 137} --> {Ingredient × 2} --> {Ingredient × 82} via {R × 84})\u001b[22m\u001b[24m,\n",
       " \u001b[1m\u001b[4mRecipe({Ingredient × 137} --> {Ingredient × 2} --> {Ingredient × 82} via {R × 84})\u001b[22m\u001b[24m,\n",
       " \u001b[1m\u001b[4mRecipe({Ingredient × 137} --> {Ingredient × 2} --> {Ingredient × 82} via {R × 84})\u001b[22m\u001b[24m,\n",
       " \u001b[1m\u001b[4mRecipe({Ingredient × 137} --> {Ingredient × 2} --> {Ingredient × 82} via {R × 84})\u001b[22m\u001b[24m,\n",
       " \u001b[1m\u001b[4mRecipe({Ingredient × 137} --> {Ingredient × 2} --> {Ingredient × 82} via {R × 84})\u001b[22m\u001b[24m,\n",
       " \u001b[1m\u001b[4mRecipe({Ingredient × 137} --> {Ingredient × 2} --> {Ingredient × 82} via {R × 84})\u001b[22m\u001b[24m,\n",
       " \u001b[1m\u001b[4mRecipe({Ingredient × 137} --> {Ingredient × 2} --> {Ingredient × 82} via {R × 84})\u001b[22m\u001b[24m,\n",
       " \u001b[1m\u001b[4mRecipe({Ingredient × 137} --> {Ingredient × 2} --> {Ingredient × 82} via {R × 84})\u001b[22m\u001b[24m,\n",
       " \u001b[1m\u001b[4mRecipe({Ingredient × 137} --> {Ingredient × 2} --> {Ingredient × 82} via {R × 84})\u001b[22m\u001b[24m,\n",
       " \u001b[1m\u001b[4mRecipe({Ingredient × 137} --> {Ingredient × 2} --> {Ingredient × 82} via {R × 84})\u001b[22m\u001b[24m,\n",
       " \u001b[1m\u001b[4mRecipe({Ingredient × 137} --> {Ingredient × 2} --> {Ingredient × 82} via {R × 84})\u001b[22m\u001b[24m,\n",
       " \u001b[1m\u001b[4mRecipe({Ingredient × 137} --> {Ingredient × 2} --> {Ingredient × 82} via {R × 84})\u001b[22m\u001b[24m,\n",
       " \u001b[1m\u001b[4mRecipe({Ingredient × 137} --> {Ingredient × 2} --> {Ingredient × 82} via {R × 84})\u001b[22m\u001b[24m,\n",
       " \u001b[1m\u001b[4mRecipe({Ingredient × 137} --> {Ingredient × 2} --> {Ingredient × 82} via {R × 84})\u001b[22m\u001b[24m,\n",
       " \u001b[1m\u001b[4mRecipe({Ingredient × 137} --> {Ingredient × 2} --> {Ingredient × 82} via {R × 84})\u001b[22m\u001b[24m,\n",
       " \u001b[1m\u001b[4mRecipe({Ingredient × 137} --> {Ingredient × 2} --> {Ingredient × 82} via {R × 84})\u001b[22m\u001b[24m,\n",
       " \u001b[1m\u001b[4mRecipe({Ingredient × 137} --> {Ingredient × 2} --> {Ingredient × 82} via {R × 84})\u001b[22m\u001b[24m,\n",
       " \u001b[1m\u001b[4mRecipe({Ingredient × 137} --> {Ingredient × 2} --> {Ingredient × 82} via {R × 84})\u001b[22m\u001b[24m,\n",
       " \u001b[1m\u001b[4mRecipe({Ingredient × 137} --> {Ingredient × 2} --> {Ingredient × 82} via {R × 84})\u001b[22m\u001b[24m,\n",
       " \u001b[1m\u001b[4mRecipe({Ingredient × 137} --> {Ingredient × 2} --> {Ingredient × 82} via {R × 84})\u001b[22m\u001b[24m,\n",
       " \u001b[1m\u001b[4mRecipe({Ingredient × 137} --> {Ingredient × 2} --> {Ingredient × 82} via {R × 84})\u001b[22m\u001b[24m,\n",
       " \u001b[1m\u001b[4mRecipe({Ingredient × 137} --> {Ingredient × 2} --> {Ingredient × 82} via {R × 84})\u001b[22m\u001b[24m,\n",
       " \u001b[1m\u001b[4mRecipe({Ingredient × 137} --> {Ingredient × 2} --> {Ingredient × 82} via {R × 84})\u001b[22m\u001b[24m,\n",
       " \u001b[1m\u001b[4mRecipe({Ingredient × 137} --> {Ingredient × 2} --> {Ingredient × 82} via {R × 84})\u001b[22m\u001b[24m,\n",
       " \u001b[1m\u001b[4mRecipe({Ingredient × 137} --> {Ingredient × 2} --> {Ingredient × 82} via {R × 84})\u001b[22m\u001b[24m,\n",
       " \u001b[1m\u001b[4mRecipe({Ingredient × 137} --> {Ingredient × 2} --> {Ingredient × 82} via {R × 84})\u001b[22m\u001b[24m,\n",
       " \u001b[1m\u001b[4mRecipe({Ingredient × 137} --> {Ingredient × 2} --> {Ingredient × 82} via {R × 84})\u001b[22m\u001b[24m,\n",
       " \u001b[1m\u001b[4mRecipe({Ingredient × 137} --> {Ingredient × 2} --> {Ingredient × 82} via {R × 84})\u001b[22m\u001b[24m,\n",
       " \u001b[1m\u001b[4mRecipe({Ingredient × 137} --> {Ingredient × 2} --> {Ingredient × 82} via {R × 84})\u001b[22m\u001b[24m,\n",
       " \u001b[1m\u001b[4mRecipe({Ingredient × 137} --> {Ingredient × 2} --> {Ingredient × 82} via {R × 84})\u001b[22m\u001b[24m,\n",
       " \u001b[1m\u001b[4mRecipe({Ingredient × 137} --> {Ingredient × 2} --> {Ingredient × 82} via {R × 84})\u001b[22m\u001b[24m,\n",
       " \u001b[1m\u001b[4mRecipe({Ingredient × 137} --> {Ingredient × 2} --> {Ingredient × 82} via {R × 84})\u001b[22m\u001b[24m,\n",
       " \u001b[1m\u001b[4mRecipe({Ingredient × 137} --> {Ingredient × 2} --> {Ingredient × 82} via {R × 84})\u001b[22m\u001b[24m,\n",
       " \u001b[1m\u001b[4mRecipe({Ingredient × 137} --> {Ingredient × 2} --> {Ingredient × 82} via {R × 84})\u001b[22m\u001b[24m,\n",
       " \u001b[1m\u001b[4mRecipe({Ingredient × 137} --> {Ingredient × 2} --> {Ingredient × 82} via {R × 84})\u001b[22m\u001b[24m,\n",
       " \u001b[1m\u001b[4mRecipe({Ingredient × 137} --> {Ingredient × 2} --> {Ingredient × 82} via {R × 84})\u001b[22m\u001b[24m,\n",
       " \u001b[1m\u001b[4mRecipe({Ingredient × 137} --> {Ingredient × 2} --> {Ingredient × 82} via {R × 84})\u001b[22m\u001b[24m,\n",
       " \u001b[1m\u001b[4mRecipe({Ingredient × 137} --> {Ingredient × 2} --> {Ingredient × 82} via {R × 84})\u001b[22m\u001b[24m,\n",
       " \u001b[1m\u001b[4mRecipe({Ingredient × 137} --> {Ingredient × 2} --> {Ingredient × 82} via {R × 84})\u001b[22m\u001b[24m,\n",
       " \u001b[1m\u001b[4mRecipe({Ingredient × 137} --> {Ingredient × 2} --> {Ingredient × 82} via {R × 84})\u001b[22m\u001b[24m,\n",
       " \u001b[1m\u001b[4mRecipe({Ingredient × 137} --> {Ingredient × 2} --> {Ingredient × 82} via {R × 84})\u001b[22m\u001b[24m,\n",
       " \u001b[1m\u001b[4mRecipe({Ingredient × 137} --> {Ingredient × 2} --> {Ingredient × 82} via {R × 84})\u001b[22m\u001b[24m,\n",
       " \u001b[1m\u001b[4mRecipe({Ingredient × 137} --> {Ingredient × 2} --> {Ingredient × 82} via {R × 84})\u001b[22m\u001b[24m,\n",
       " \u001b[1m\u001b[4mRecipe({Ingredient × 137} --> {Ingredient × 2} --> {Ingredient × 82} via {R × 84})\u001b[22m\u001b[24m,\n",
       " \u001b[1m\u001b[4mRecipe({Ingredient × 137} --> {Ingredient × 2} --> {Ingredient × 82} via {R × 84})\u001b[22m\u001b[24m,\n",
       " \u001b[1m\u001b[4mRecipe({Ingredient × 137} --> {Ingredient × 2} --> {Ingredient × 82} via {R × 84})\u001b[22m\u001b[24m,\n",
       " \u001b[1m\u001b[4mRecipe({Ingredient × 137} --> {Ingredient × 2} --> {Ingredient × 82} via {R × 84})\u001b[22m\u001b[24m,\n",
       " \u001b[1m\u001b[4mRecipe({Ingredient × 137} --> {Ingredient × 2} --> {Ingredient × 82} via {R × 84})\u001b[22m\u001b[24m,\n",
       " \u001b[1m\u001b[4mRecipe({Ingredient × 137} --> {Ingredient × 2} --> {Ingredient × 82} via {R × 84})\u001b[22m\u001b[24m,\n",
       " \u001b[1m\u001b[4mRecipe({Ingredient × 137} --> {Ingredient × 2} --> {Ingredient × 82} via {R × 84})\u001b[22m\u001b[24m,\n",
       " \u001b[1m\u001b[4mRecipe({Ingredient × 137} --> {Ingredient × 2} --> {Ingredient × 82} via {R × 84})\u001b[22m\u001b[24m,\n",
       " \u001b[1m\u001b[4mRecipe({Ingredient × 137} --> {Ingredient × 2} --> {Ingredient × 82} via {R × 84})\u001b[22m\u001b[24m,\n",
       " \u001b[1m\u001b[4mRecipe({Ingredient × 137} --> {Ingredient × 2} --> {Ingredient × 82} via {R × 84})\u001b[22m\u001b[24m,\n",
       " \u001b[1m\u001b[4mRecipe({Ingredient × 137} --> {Ingredient × 2} --> {Ingredient × 82} via {R × 84})\u001b[22m\u001b[24m,\n",
       " \u001b[1m\u001b[4mRecipe({Ingredient × 137} --> {Ingredient × 2} --> {Ingredient × 82} via {R × 84})\u001b[22m\u001b[24m,\n",
       " \u001b[1m\u001b[4mRecipe({Ingredient × 137} --> {Ingredient × 2} --> {Ingredient × 82} via {R × 84})\u001b[22m\u001b[24m,\n",
       " \u001b[1m\u001b[4mRecipe({Ingredient × 137} --> {Ingredient × 2} --> {Ingredient × 82} via {R × 84})\u001b[22m\u001b[24m,\n",
       " \u001b[1m\u001b[4mRecipe({Ingredient × 137} --> {Ingredient × 2} --> {Ingredient × 82} via {R × 84})\u001b[22m\u001b[24m,\n",
       " \u001b[1m\u001b[4mRecipe({Ingredient × 137} --> {Ingredient × 2} --> {Ingredient × 82} via {R × 84})\u001b[22m\u001b[24m,\n",
       " \u001b[1m\u001b[4mRecipe({Ingredient × 137} --> {Ingredient × 2} --> {Ingredient × 82} via {R × 84})\u001b[22m\u001b[24m,\n",
       " \u001b[1m\u001b[4mRecipe({Ingredient × 137} --> {Ingredient × 2} --> {Ingredient × 82} via {R × 84})\u001b[22m\u001b[24m,\n",
       " \u001b[1m\u001b[4mRecipe({Ingredient × 137} --> {Ingredient × 2} --> {Ingredient × 82} via {R × 84})\u001b[22m\u001b[24m,\n",
       " \u001b[1m\u001b[4mRecipe({Ingredient × 137} --> {Ingredient × 2} --> {Ingredient × 82} via {R × 84})\u001b[22m\u001b[24m,\n",
       " \u001b[1m\u001b[4mRecipe({Ingredient × 137} --> {Ingredient × 2} --> {Ingredient × 82} via {R × 84})\u001b[22m\u001b[24m,\n",
       " \u001b[1m\u001b[4mRecipe({Ingredient × 137} --> {Ingredient × 2} --> {Ingredient × 82} via {R × 84})\u001b[22m\u001b[24m,\n",
       " \u001b[1m\u001b[4mRecipe({Ingredient × 137} --> {Ingredient × 2} --> {Ingredient × 82} via {R × 84})\u001b[22m\u001b[24m,\n",
       " \u001b[1m\u001b[4mRecipe({Ingredient × 137} --> {Ingredient × 2} --> {Ingredient × 82} via {R × 84})\u001b[22m\u001b[24m,\n",
       " \u001b[1m\u001b[4mRecipe({Ingredient × 137} --> {Ingredient × 2} --> {Ingredient × 82} via {R × 84})\u001b[22m\u001b[24m,\n",
       " \u001b[1m\u001b[4mRecipe({Ingredient × 137} --> {Ingredient × 2} --> {Ingredient × 82} via {R × 84})\u001b[22m\u001b[24m,\n",
       " \u001b[1m\u001b[4mRecipe({Ingredient × 137} --> {Ingredient × 2} --> {Ingredient × 82} via {R × 84})\u001b[22m\u001b[24m,\n",
       " \u001b[1m\u001b[4mRecipe({Ingredient × 137} --> {Ingredient × 2} --> {Ingredient × 82} via {R × 84})\u001b[22m\u001b[24m,\n",
       " \u001b[1m\u001b[4mRecipe({Ingredient × 137} --> {Ingredient × 2} --> {Ingredient × 82} via {R × 84})\u001b[22m\u001b[24m,\n",
       " \u001b[1m\u001b[4mRecipe({Ingredient × 137} --> {Ingredient × 2} --> {Ingredient × 82} via {R × 84})\u001b[22m\u001b[24m,\n",
       " \u001b[1m\u001b[4mRecipe({Ingredient × 137} --> {Ingredient × 2} --> {Ingredient × 82} via {R × 84})\u001b[22m\u001b[24m,\n",
       " \u001b[1m\u001b[4mRecipe({Ingredient × 137} --> {Ingredient × 2} --> {Ingredient × 82} via {R × 84})\u001b[22m\u001b[24m,\n",
       " \u001b[1m\u001b[4mRecipe({Ingredient × 137} --> {Ingredient × 2} --> {Ingredient × 82} via {R × 84})\u001b[22m\u001b[24m,\n",
       " \u001b[1m\u001b[4mRecipe({Ingredient × 137} --> {Ingredient × 2} --> {Ingredient × 82} via {R × 84})\u001b[22m\u001b[24m,\n",
       " \u001b[1m\u001b[4mRecipe({Ingredient × 137} --> {Ingredient × 2} --> {Ingredient × 82} via {R × 84})\u001b[22m\u001b[24m,\n",
       " \u001b[1m\u001b[4mRecipe({Ingredient × 137} --> {Ingredient × 2} --> {Ingredient × 82} via {R × 84})\u001b[22m\u001b[24m,\n",
       " \u001b[1m\u001b[4mRecipe({Ingredient × 137} --> {Ingredient × 2} --> {Ingredient × 82} via {R × 84})\u001b[22m\u001b[24m,\n",
       " \u001b[1m\u001b[4mRecipe({Ingredient × 137} --> {Ingredient × 2} --> {Ingredient × 82} via {R × 84})\u001b[22m\u001b[24m,\n",
       " \u001b[1m\u001b[4mRecipe({Ingredient × 137} --> {Ingredient × 2} --> {Ingredient × 82} via {R × 84})\u001b[22m\u001b[24m,\n",
       " \u001b[1m\u001b[4mRecipe({Ingredient × 137} --> {Ingredient × 2} --> {Ingredient × 82} via {R × 84})\u001b[22m\u001b[24m,\n",
       " \u001b[1m\u001b[4mRecipe({Ingredient × 137} --> {Ingredient × 2} --> {Ingredient × 82} via {R × 84})\u001b[22m\u001b[24m,\n",
       " \u001b[1m\u001b[4mRecipe({Ingredient × 137} --> {Ingredient × 2} --> {Ingredient × 82} via {R × 84})\u001b[22m\u001b[24m,\n",
       " \u001b[1m\u001b[4mRecipe({Ingredient × 137} --> {Ingredient × 2} --> {Ingredient × 82} via {R × 84})\u001b[22m\u001b[24m,\n",
       " \u001b[1m\u001b[4mRecipe({Ingredient × 137} --> {Ingredient × 2} --> {Ingredient × 82} via {R × 84})\u001b[22m\u001b[24m,\n",
       " \u001b[1m\u001b[4mRecipe({Ingredient × 137} --> {Ingredient × 2} --> {Ingredient × 82} via {R × 84})\u001b[22m\u001b[24m,\n",
       " \u001b[1m\u001b[4mRecipe({Ingredient × 137} --> {Ingredient × 2} --> {Ingredient × 82} via {R × 84})\u001b[22m\u001b[24m,\n",
       " \u001b[1m\u001b[4mRecipe({Ingredient × 137} --> {Ingredient × 2} --> {Ingredient × 82} via {R × 84})\u001b[22m\u001b[24m,\n",
       " \u001b[1m\u001b[4mRecipe({Ingredient × 137} --> {Ingredient × 2} --> {Ingredient × 82} via {R × 84})\u001b[22m\u001b[24m,\n",
       " \u001b[1m\u001b[4mRecipe({Ingredient × 137} --> {Ingredient × 2} --> {Ingredient × 82} via {R × 84})\u001b[22m\u001b[24m,\n",
       " \u001b[1m\u001b[4mRecipe({Ingredient × 137} --> {Ingredient × 2} --> {Ingredient × 82} via {R × 84})\u001b[22m\u001b[24m,\n",
       " \u001b[1m\u001b[4mRecipe({Ingredient × 137} --> {Ingredient × 2} --> {Ingredient × 82} via {R × 84})\u001b[22m\u001b[24m,\n",
       " \u001b[1m\u001b[4mRecipe({Ingredient × 137} --> {Ingredient × 2} --> {Ingredient × 82} via {R × 84})\u001b[22m\u001b[24m,\n",
       " \u001b[1m\u001b[4mRecipe({Ingredient × 137} --> {Ingredient × 2} --> {Ingredient × 82} via {R × 84})\u001b[22m\u001b[24m,\n",
       " \u001b[1m\u001b[4mRecipe({Ingredient × 137} --> {Ingredient × 2} --> {Ingredient × 82} via {R × 84})\u001b[22m\u001b[24m,\n",
       " \u001b[1m\u001b[4mRecipe({Ingredient × 137} --> {Ingredient × 2} --> {Ingredient × 82} via {R × 84})\u001b[22m\u001b[24m,\n",
       " \u001b[1m\u001b[4mRecipe({Ingredient × 137} --> {Ingredient × 2} --> {Ingredient × 82} via {R × 84})\u001b[22m\u001b[24m,\n",
       " \u001b[1m\u001b[4mRecipe({Ingredient × 137} --> {Ingredient × 2} --> {Ingredient × 82} via {R × 84})\u001b[22m\u001b[24m,\n",
       " \u001b[1m\u001b[4mRecipe({Ingredient × 137} --> {Ingredient × 2} --> {Ingredient × 82} via {R × 84})\u001b[22m\u001b[24m,\n",
       " \u001b[1m\u001b[4mRecipe({Ingredient × 137} --> {Ingredient × 2} --> {Ingredient × 82} via {R × 84})\u001b[22m\u001b[24m,\n",
       " \u001b[1m\u001b[4mRecipe({Ingredient × 137} --> {Ingredient × 2} --> {Ingredient × 82} via {R × 84})\u001b[22m\u001b[24m,\n",
       " \u001b[1m\u001b[4mRecipe({Ingredient × 137} --> {Ingredient × 2} --> {Ingredient × 82} via {R × 84})\u001b[22m\u001b[24m,\n",
       " \u001b[1m\u001b[4mRecipe({Ingredient × 137} --> {Ingredient × 2} --> {Ingredient × 82} via {R × 84})\u001b[22m\u001b[24m,\n",
       " \u001b[1m\u001b[4mRecipe({Ingredient × 137} --> {Ingredient × 2} --> {Ingredient × 82} via {R × 84})\u001b[22m\u001b[24m,\n",
       " \u001b[1m\u001b[4mRecipe({Ingredient × 137} --> {Ingredient × 2} --> {Ingredient × 82} via {R × 84})\u001b[22m\u001b[24m,\n",
       " \u001b[1m\u001b[4mRecipe({Ingredient × 137} --> {Ingredient × 2} --> {Ingredient × 82} via {R × 84})\u001b[22m\u001b[24m,\n",
       " \u001b[1m\u001b[4mRecipe({Ingredient × 137} --> {Ingredient × 2} --> {Ingredient × 82} via {R × 84})\u001b[22m\u001b[24m,\n",
       " \u001b[1m\u001b[4mRecipe({Ingredient × 137} --> {Ingredient × 2} --> {Ingredient × 82} via {R × 84})\u001b[22m\u001b[24m,\n",
       " \u001b[1m\u001b[4mRecipe({Ingredient × 137} --> {Ingredient × 2} --> {Ingredient × 82} via {R × 84})\u001b[22m\u001b[24m,\n",
       " \u001b[1m\u001b[4mRecipe({Ingredient × 137} --> {Ingredient × 2} --> {Ingredient × 82} via {R × 84})\u001b[22m\u001b[24m,\n",
       " \u001b[1m\u001b[4mRecipe({Ingredient × 137} --> {Ingredient × 2} --> {Ingredient × 82} via {R × 84})\u001b[22m\u001b[24m,\n",
       " \u001b[1m\u001b[4mRecipe({Ingredient × 137} --> {Ingredient × 2} --> {Ingredient × 82} via {R × 84})\u001b[22m\u001b[24m,\n",
       " \u001b[1m\u001b[4mRecipe({Ingredient × 137} --> {Ingredient × 2} --> {Ingredient × 82} via {R × 84})\u001b[22m\u001b[24m,\n",
       " \u001b[1m\u001b[4mRecipe({Ingredient × 137} --> {Ingredient × 2} --> {Ingredient × 82} via {R × 84})\u001b[22m\u001b[24m,\n",
       " \u001b[1m\u001b[4mRecipe({Ingredient × 137} --> {Ingredient × 2} --> {Ingredient × 82} via {R × 84})\u001b[22m\u001b[24m,\n",
       " \u001b[1m\u001b[4mRecipe({Ingredient × 137} --> {Ingredient × 2} --> {Ingredient × 82} via {R × 84})\u001b[22m\u001b[24m,\n",
       " \u001b[1m\u001b[4mRecipe({Ingredient × 137} --> {Ingredient × 2} --> {Ingredient × 82} via {R × 84})\u001b[22m\u001b[24m,\n",
       " \u001b[1m\u001b[4mRecipe({Ingredient × 137} --> {Ingredient × 2} --> {Ingredient × 82} via {R × 84})\u001b[22m\u001b[24m,\n",
       " \u001b[1m\u001b[4mRecipe({Ingredient × 137} --> {Ingredient × 2} --> {Ingredient × 82} via {R × 84})\u001b[22m\u001b[24m,\n",
       " \u001b[1m\u001b[4mRecipe({Ingredient × 137} --> {Ingredient × 2} --> {Ingredient × 82} via {R × 84})\u001b[22m\u001b[24m,\n",
       " \u001b[1m\u001b[4mRecipe({Ingredient × 137} --> {Ingredient × 2} --> {Ingredient × 82} via {R × 84})\u001b[22m\u001b[24m,\n",
       " \u001b[1m\u001b[4mRecipe({Ingredient × 137} --> {Ingredient × 2} --> {Ingredient × 82} via {R × 84})\u001b[22m\u001b[24m,\n",
       " \u001b[1m\u001b[4mRecipe({Ingredient × 137} --> {Ingredient × 2} --> {Ingredient × 82} via {R × 84})\u001b[22m\u001b[24m,\n",
       " \u001b[1m\u001b[4mRecipe({Ingredient × 137} --> {Ingredient × 2} --> {Ingredient × 82} via {R × 84})\u001b[22m\u001b[24m,\n",
       " \u001b[1m\u001b[4mRecipe({Ingredient × 137} --> {Ingredient × 2} --> {Ingredient × 82} via {R × 84})\u001b[22m\u001b[24m,\n",
       " \u001b[1m\u001b[4mRecipe({Ingredient × 137} --> {Ingredient × 2} --> {Ingredient × 82} via {R × 84})\u001b[22m\u001b[24m,\n",
       " \u001b[1m\u001b[4mRecipe({Ingredient × 137} --> {Ingredient × 2} --> {Ingredient × 82} via {R × 84})\u001b[22m\u001b[24m,\n",
       " \u001b[1m\u001b[4mRecipe({Ingredient × 137} --> {Ingredient × 2} --> {Ingredient × 82} via {R × 84})\u001b[22m\u001b[24m,\n",
       " \u001b[1m\u001b[4mRecipe({Ingredient × 137} --> {Ingredient × 2} --> {Ingredient × 82} via {R × 84})\u001b[22m\u001b[24m,\n",
       " \u001b[1m\u001b[4mRecipe({Ingredient × 137} --> {Ingredient × 2} --> {Ingredient × 82} via {R × 84})\u001b[22m\u001b[24m,\n",
       " \u001b[1m\u001b[4mRecipe({Ingredient × 137} --> {Ingredient × 2} --> {Ingredient × 82} via {R × 84})\u001b[22m\u001b[24m,\n",
       " \u001b[1m\u001b[4mRecipe({Ingredient × 137} --> {Ingredient × 2} --> {Ingredient × 82} via {R × 84})\u001b[22m\u001b[24m,\n",
       " \u001b[1m\u001b[4mRecipe({Ingredient × 137} --> {Ingredient × 2} --> {Ingredient × 82} via {R × 84})\u001b[22m\u001b[24m,\n",
       " \u001b[1m\u001b[4mRecipe({Ingredient × 137} --> {Ingredient × 2} --> {Ingredient × 82} via {R × 84})\u001b[22m\u001b[24m,\n",
       " \u001b[1m\u001b[4mRecipe({Ingredient × 137} --> {Ingredient × 2} --> {Ingredient × 82} via {R × 84})\u001b[22m\u001b[24m,\n",
       " \u001b[1m\u001b[4mRecipe({Ingredient × 137} --> {Ingredient × 2} --> {Ingredient × 82} via {R × 84})\u001b[22m\u001b[24m,\n",
       " \u001b[1m\u001b[4mRecipe({Ingredient × 137} --> {Ingredient × 2} --> {Ingredient × 82} via {R × 84})\u001b[22m\u001b[24m,\n",
       " \u001b[1m\u001b[4mRecipe({Ingredient × 137} --> {Ingredient × 2} --> {Ingredient × 82} via {R × 84})\u001b[22m\u001b[24m,\n",
       " \u001b[1m\u001b[4mRecipe({Ingredient × 137} --> {Ingredient × 2} --> {Ingredient × 82} via {R × 84})\u001b[22m\u001b[24m,\n",
       " \u001b[1m\u001b[4mRecipe({Ingredient × 137} --> {Ingredient × 2} --> {Ingredient × 82} via {R × 84})\u001b[22m\u001b[24m,\n",
       " \u001b[1m\u001b[4mRecipe({Ingredient × 137} --> {Ingredient × 2} --> {Ingredient × 82} via {R × 84})\u001b[22m\u001b[24m,\n",
       " \u001b[1m\u001b[4mRecipe({Ingredient × 137} --> {Ingredient × 2} --> {Ingredient × 82} via {R × 84})\u001b[22m\u001b[24m,\n",
       " \u001b[1m\u001b[4mRecipe({Ingredient × 137} --> {Ingredient × 2} --> {Ingredient × 82} via {R × 84})\u001b[22m\u001b[24m,\n",
       " \u001b[1m\u001b[4mRecipe({Ingredient × 137} --> {Ingredient × 2} --> {Ingredient × 82} via {R × 84})\u001b[22m\u001b[24m,\n",
       " \u001b[1m\u001b[4mRecipe({Ingredient × 137} --> {Ingredient × 2} --> {Ingredient × 82} via {R × 84})\u001b[22m\u001b[24m,\n",
       " \u001b[1m\u001b[4mRecipe({Ingredient × 137} --> {Ingredient × 2} --> {Ingredient × 82} via {R × 84})\u001b[22m\u001b[24m,\n",
       " \u001b[1m\u001b[4mRecipe({Ingredient × 137} --> {Ingredient × 2} --> {Ingredient × 82} via {R × 84})\u001b[22m\u001b[24m,\n",
       " \u001b[1m\u001b[4mRecipe({Ingredient × 137} --> {Ingredient × 2} --> {Ingredient × 82} via {R × 84})\u001b[22m\u001b[24m,\n",
       " \u001b[1m\u001b[4mRecipe({Ingredient × 137} --> {Ingredient × 2} --> {Ingredient × 82} via {R × 84})\u001b[22m\u001b[24m,\n",
       " \u001b[1m\u001b[4mRecipe({Ingredient × 137} --> {Ingredient × 2} --> {Ingredient × 82} via {R × 84})\u001b[22m\u001b[24m,\n",
       " \u001b[1m\u001b[4mRecipe({Ingredient × 137} --> {Ingredient × 2} --> {Ingredient × 82} via {R × 84})\u001b[22m\u001b[24m,\n",
       " \u001b[1m\u001b[4mRecipe({Ingredient × 137} --> {Ingredient × 2} --> {Ingredient × 82} via {R × 84})\u001b[22m\u001b[24m,\n",
       " \u001b[1m\u001b[4mRecipe({Ingredient × 137} --> {Ingredient × 2} --> {Ingredient × 82} via {R × 84})\u001b[22m\u001b[24m,\n",
       " \u001b[1m\u001b[4mRecipe({Ingredient × 137} --> {Ingredient × 2} --> {Ingredient × 82} via {R × 84})\u001b[22m\u001b[24m,\n",
       " \u001b[1m\u001b[4mRecipe({Ingredient × 137} --> {Ingredient × 2} --> {Ingredient × 82} via {R × 84})\u001b[22m\u001b[24m,\n",
       " \u001b[1m\u001b[4mRecipe({Ingredient × 137} --> {Ingredient × 2} --> {Ingredient × 82} via {R × 84})\u001b[22m\u001b[24m,\n",
       " \u001b[1m\u001b[4mRecipe({Ingredient × 137} --> {Ingredient × 2} --> {Ingredient × 82} via {R × 84})\u001b[22m\u001b[24m,\n",
       " \u001b[1m\u001b[4mRecipe({Ingredient × 137} --> {Ingredient × 2} --> {Ingredient × 82} via {R × 84})\u001b[22m\u001b[24m,\n",
       " \u001b[1m\u001b[4mRecipe({Ingredient × 137} --> {Ingredient × 2} --> {Ingredient × 82} via {R × 84})\u001b[22m\u001b[24m,\n",
       " \u001b[1m\u001b[4mRecipe({Ingredient × 137} --> {Ingredient × 2} --> {Ingredient × 82} via {R × 84})\u001b[22m\u001b[24m,\n",
       " \u001b[1m\u001b[4mRecipe({Ingredient × 137} --> {Ingredient × 2} --> {Ingredient × 82} via {R × 84})\u001b[22m\u001b[24m,\n",
       " \u001b[1m\u001b[4mRecipe({Ingredient × 137} --> {Ingredient × 2} --> {Ingredient × 82} via {R × 84})\u001b[22m\u001b[24m,\n",
       " \u001b[1m\u001b[4mRecipe({Ingredient × 137} --> {Ingredient × 2} --> {Ingredient × 82} via {R × 84})\u001b[22m\u001b[24m,\n",
       " \u001b[1m\u001b[4mRecipe({Ingredient × 137} --> {Ingredient × 2} --> {Ingredient × 82} via {R × 84})\u001b[22m\u001b[24m,\n",
       " \u001b[1m\u001b[4mRecipe({Ingredient × 137} --> {Ingredient × 2} --> {Ingredient × 82} via {R × 84})\u001b[22m\u001b[24m,\n",
       " \u001b[1m\u001b[4mRecipe({Ingredient × 137} --> {Ingredient × 2} --> {Ingredient × 82} via {R × 84})\u001b[22m\u001b[24m,\n",
       " \u001b[1m\u001b[4mRecipe({Ingredient × 137} --> {Ingredient × 2} --> {Ingredient × 82} via {R × 84})\u001b[22m\u001b[24m,\n",
       " \u001b[1m\u001b[4mRecipe({Ingredient × 137} --> {Ingredient × 2} --> {Ingredient × 82} via {R × 84})\u001b[22m\u001b[24m,\n",
       " \u001b[1m\u001b[4mRecipe({Ingredient × 137} --> {Ingredient × 2} --> {Ingredient × 82} via {R × 84})\u001b[22m\u001b[24m,\n",
       " \u001b[1m\u001b[4mRecipe({Ingredient × 137} --> {Ingredient × 2} --> {Ingredient × 82} via {R × 84})\u001b[22m\u001b[24m,\n",
       " \u001b[1m\u001b[4mRecipe({Ingredient × 137} --> {Ingredient × 2} --> {Ingredient × 82} via {R × 84})\u001b[22m\u001b[24m,\n",
       " \u001b[1m\u001b[4mRecipe({Ingredient × 137} --> {Ingredient × 2} --> {Ingredient × 82} via {R × 84})\u001b[22m\u001b[24m,\n",
       " \u001b[1m\u001b[4mRecipe({Ingredient × 137} --> {Ingredient × 2} --> {Ingredient × 82} via {R × 84})\u001b[22m\u001b[24m,\n",
       " \u001b[1m\u001b[4mRecipe({Ingredient × 137} --> {Ingredient × 2} --> {Ingredient × 82} via {R × 84})\u001b[22m\u001b[24m,\n",
       " \u001b[1m\u001b[4mRecipe({Ingredient × 137} --> {Ingredient × 2} --> {Ingredient × 82} via {R × 84})\u001b[22m\u001b[24m,\n",
       " \u001b[1m\u001b[4mRecipe({Ingredient × 137} --> {Ingredient × 2} --> {Ingredient × 82} via {R × 84})\u001b[22m\u001b[24m,\n",
       " \u001b[1m\u001b[4mRecipe({Ingredient × 137} --> {Ingredient × 2} --> {Ingredient × 82} via {R × 84})\u001b[22m\u001b[24m,\n",
       " \u001b[1m\u001b[4mRecipe({Ingredient × 137} --> {Ingredient × 2} --> {Ingredient × 82} via {R × 84})\u001b[22m\u001b[24m,\n",
       " \u001b[1m\u001b[4mRecipe({Ingredient × 137} --> {Ingredient × 2} --> {Ingredient × 82} via {R × 84})\u001b[22m\u001b[24m,\n",
       " \u001b[1m\u001b[4mRecipe({Ingredient × 137} --> {Ingredient × 2} --> {Ingredient × 82} via {R × 84})\u001b[22m\u001b[24m,\n",
       " \u001b[1m\u001b[4mRecipe({Ingredient × 137} --> {Ingredient × 2} --> {Ingredient × 82} via {R × 84})\u001b[22m\u001b[24m,\n",
       " \u001b[1m\u001b[4mRecipe({Ingredient × 137} --> {Ingredient × 2} --> {Ingredient × 82} via {R × 84})\u001b[22m\u001b[24m,\n",
       " \u001b[1m\u001b[4mRecipe({Ingredient × 137} --> {Ingredient × 2} --> {Ingredient × 82} via {R × 84})\u001b[22m\u001b[24m,\n",
       " \u001b[1m\u001b[4mRecipe({Ingredient × 137} --> {Ingredient × 2} --> {Ingredient × 82} via {R × 84})\u001b[22m\u001b[24m,\n",
       " \u001b[1m\u001b[4mRecipe({Ingredient × 137} --> {Ingredient × 2} --> {Ingredient × 82} via {R × 84})\u001b[22m\u001b[24m,\n",
       " \u001b[1m\u001b[4mRecipe({Ingredient × 137} --> {Ingredient × 2} --> {Ingredient × 82} via {R × 84})\u001b[22m\u001b[24m,\n",
       " \u001b[1m\u001b[4mRecipe({Ingredient × 137} --> {Ingredient × 2} --> {Ingredient × 82} via {R × 84})\u001b[22m\u001b[24m,\n",
       " \u001b[1m\u001b[4mRecipe({Ingredient × 137} --> {Ingredient × 2} --> {Ingredient × 82} via {R × 84})\u001b[22m\u001b[24m,\n",
       " \u001b[1m\u001b[4mRecipe({Ingredient × 137} --> {Ingredient × 2} --> {Ingredient × 82} via {R × 84})\u001b[22m\u001b[24m,\n",
       " \u001b[1m\u001b[4mRecipe({Ingredient × 137} --> {Ingredient × 2} --> {Ingredient × 82} via {R × 84})\u001b[22m\u001b[24m,\n",
       " \u001b[1m\u001b[4mRecipe({Ingredient × 137} --> {Ingredient × 2} --> {Ingredient × 82} via {R × 84})\u001b[22m\u001b[24m,\n",
       " \u001b[1m\u001b[4mRecipe({Ingredient × 137} --> {Ingredient × 2} --> {Ingredient × 82} via {R × 84})\u001b[22m\u001b[24m,\n",
       " \u001b[1m\u001b[4mRecipe({Ingredient × 137} --> {Ingredient × 2} --> {Ingredient × 82} via {R × 84})\u001b[22m\u001b[24m,\n",
       " \u001b[1m\u001b[4mRecipe({Ingredient × 137} --> {Ingredient × 2} --> {Ingredient × 82} via {R × 84})\u001b[22m\u001b[24m,\n",
       " \u001b[1m\u001b[4mRecipe({Ingredient × 137} --> {Ingredient × 2} --> {Ingredient × 82} via {R × 84})\u001b[22m\u001b[24m,\n",
       " \u001b[1m\u001b[4mRecipe({Ingredient × 137} --> {Ingredient × 2} --> {Ingredient × 82} via {R × 84})\u001b[22m\u001b[24m,\n",
       " \u001b[1m\u001b[4mRecipe({Ingredient × 137} --> {Ingredient × 2} --> {Ingredient × 82} via {R × 84})\u001b[22m\u001b[24m,\n",
       " \u001b[1m\u001b[4mRecipe({Ingredient × 137} --> {Ingredient × 2} --> {Ingredient × 82} via {R × 84})\u001b[22m\u001b[24m,\n",
       " \u001b[1m\u001b[4mRecipe({Ingredient × 137} --> {Ingredient × 2} --> {Ingredient × 82} via {R × 84})\u001b[22m\u001b[24m,\n",
       " \u001b[1m\u001b[4mRecipe({Ingredient × 137} --> {Ingredient × 2} --> {Ingredient × 82} via {R × 84})\u001b[22m\u001b[24m,\n",
       " \u001b[1m\u001b[4mRecipe({Ingredient × 137} --> {Ingredient × 2} --> {Ingredient × 82} via {R × 84})\u001b[22m\u001b[24m,\n",
       " \u001b[1m\u001b[4mRecipe({Ingredient × 137} --> {Ingredient × 2} --> {Ingredient × 82} via {R × 84})\u001b[22m\u001b[24m,\n",
       " \u001b[1m\u001b[4mRecipe({Ingredient × 137} --> {Ingredient × 2} --> {Ingredient × 82} via {R × 84})\u001b[22m\u001b[24m,\n",
       " \u001b[1m\u001b[4mRecipe({Ingredient × 137} --> {Ingredient × 2} --> {Ingredient × 82} via {R × 84})\u001b[22m\u001b[24m,\n",
       " \u001b[1m\u001b[4mRecipe({Ingredient × 137} --> {Ingredient × 2} --> {Ingredient × 82} via {R × 84})\u001b[22m\u001b[24m,\n",
       " \u001b[1m\u001b[4mRecipe({Ingredient × 137} --> {Ingredient × 2} --> {Ingredient × 82} via {R × 84})\u001b[22m\u001b[24m,\n",
       " \u001b[1m\u001b[4mRecipe({Ingredient × 137} --> {Ingredient × 2} --> {Ingredient × 82} via {R × 84})\u001b[22m\u001b[24m,\n",
       " \u001b[1m\u001b[4mRecipe({Ingredient × 137} --> {Ingredient × 2} --> {Ingredient × 82} via {R × 84})\u001b[22m\u001b[24m,\n",
       " \u001b[1m\u001b[4mRecipe({Ingredient × 137} --> {Ingredient × 2} --> {Ingredient × 82} via {R × 84})\u001b[22m\u001b[24m,\n",
       " \u001b[1m\u001b[4mRecipe({Ingredient × 137} --> {Ingredient × 2} --> {Ingredient × 82} via {R × 84})\u001b[22m\u001b[24m,\n",
       " \u001b[1m\u001b[4mRecipe({Ingredient × 137} --> {Ingredient × 2} --> {Ingredient × 82} via {R × 84})\u001b[22m\u001b[24m,\n",
       " \u001b[1m\u001b[4mRecipe({Ingredient × 137} --> {Ingredient × 2} --> {Ingredient × 82} via {R × 84})\u001b[22m\u001b[24m,\n",
       " \u001b[1m\u001b[4mRecipe({Ingredient × 137} --> {Ingredient × 2} --> {Ingredient × 82} via {R × 84})\u001b[22m\u001b[24m,\n",
       " \u001b[1m\u001b[4mRecipe({Ingredient × 137} --> {Ingredient × 2} --> {Ingredient × 82} via {R × 84})\u001b[22m\u001b[24m,\n",
       " \u001b[1m\u001b[4mRecipe({Ingredient × 137} --> {Ingredient × 2} --> {Ingredient × 82} via {R × 84})\u001b[22m\u001b[24m,\n",
       " \u001b[1m\u001b[4mRecipe({Ingredient × 137} --> {Ingredient × 2} --> {Ingredient × 82} via {R × 84})\u001b[22m\u001b[24m,\n",
       " \u001b[1m\u001b[4mRecipe({Ingredient × 137} --> {Ingredient × 2} --> {Ingredient × 82} via {R × 84})\u001b[22m\u001b[24m,\n",
       " \u001b[1m\u001b[4mRecipe({Ingredient × 137} --> {Ingredient × 2} --> {Ingredient × 82} via {R × 84})\u001b[22m\u001b[24m,\n",
       " \u001b[1m\u001b[4mRecipe({Ingredient × 137} --> {Ingredient × 2} --> {Ingredient × 82} via {R × 84})\u001b[22m\u001b[24m,\n",
       " \u001b[1m\u001b[4mRecipe({Ingredient × 137} --> {Ingredient × 2} --> {Ingredient × 82} via {R × 84})\u001b[22m\u001b[24m,\n",
       " \u001b[1m\u001b[4mRecipe({Ingredient × 137} --> {Ingredient × 2} --> {Ingredient × 82} via {R × 84})\u001b[22m\u001b[24m,\n",
       " \u001b[1m\u001b[4mRecipe({Ingredient × 137} --> {Ingredient × 2} --> {Ingredient × 82} via {R × 84})\u001b[22m\u001b[24m,\n",
       " \u001b[1m\u001b[4mRecipe({Ingredient × 137} --> {Ingredient × 2} --> {Ingredient × 82} via {R × 84})\u001b[22m\u001b[24m,\n",
       " \u001b[1m\u001b[4mRecipe({Ingredient × 137} --> {Ingredient × 2} --> {Ingredient × 82} via {R × 84})\u001b[22m\u001b[24m,\n",
       " \u001b[1m\u001b[4mRecipe({Ingredient × 137} --> {Ingredient × 2} --> {Ingredient × 82} via {R × 84})\u001b[22m\u001b[24m,\n",
       " \u001b[1m\u001b[4mRecipe({Ingredient × 137} --> {Ingredient × 2} --> {Ingredient × 82} via {R × 84})\u001b[22m\u001b[24m,\n",
       " \u001b[1m\u001b[4mRecipe({Ingredient × 137} --> {Ingredient × 2} --> {Ingredient × 82} via {R × 84})\u001b[22m\u001b[24m,\n",
       " \u001b[1m\u001b[4mRecipe({Ingredient × 137} --> {Ingredient × 2} --> {Ingredient × 82} via {R × 84})\u001b[22m\u001b[24m,\n",
       " \u001b[1m\u001b[4mRecipe({Ingredient × 137} --> {Ingredient × 2} --> {Ingredient × 82} via {R × 84})\u001b[22m\u001b[24m,\n",
       " \u001b[1m\u001b[4mRecipe({Ingredient × 137} --> {Ingredient × 2} --> {Ingredient × 82} via {R × 84})\u001b[22m\u001b[24m,\n",
       " \u001b[1m\u001b[4mRecipe({Ingredient × 137} --> {Ingredient × 2} --> {Ingredient × 82} via {R × 84})\u001b[22m\u001b[24m,\n",
       " \u001b[1m\u001b[4mRecipe({Ingredient × 137} --> {Ingredient × 2} --> {Ingredient × 82} via {R × 84})\u001b[22m\u001b[24m,\n",
       " \u001b[1m\u001b[4mRecipe({Ingredient × 137} --> {Ingredient × 2} --> {Ingredient × 82} via {R × 84})\u001b[22m\u001b[24m,\n",
       " \u001b[1m\u001b[4mRecipe({Ingredient × 137} --> {Ingredient × 2} --> {Ingredient × 82} via {R × 84})\u001b[22m\u001b[24m,\n",
       " \u001b[1m\u001b[4mRecipe({Ingredient × 137} --> {Ingredient × 2} --> {Ingredient × 82} via {R × 84})\u001b[22m\u001b[24m,\n",
       " \u001b[1m\u001b[4mRecipe({Ingredient × 137} --> {Ingredient × 2} --> {Ingredient × 82} via {R × 84})\u001b[22m\u001b[24m,\n",
       " \u001b[1m\u001b[4mRecipe({Ingredient × 137} --> {Ingredient × 2} --> {Ingredient × 82} via {R × 84})\u001b[22m\u001b[24m,\n",
       " \u001b[1m\u001b[4mRecipe({Ingredient × 137} --> {Ingredient × 2} --> {Ingredient × 82} via {R × 84})\u001b[22m\u001b[24m,\n",
       " \u001b[1m\u001b[4mRecipe({Ingredient × 137} --> {Ingredient × 2} --> {Ingredient × 82} via {R × 84})\u001b[22m\u001b[24m,\n",
       " \u001b[1m\u001b[4mRecipe({Ingredient × 137} --> {Ingredient × 2} --> {Ingredient × 82} via {R × 84})\u001b[22m\u001b[24m,\n",
       " \u001b[1m\u001b[4mRecipe({Ingredient × 137} --> {Ingredient × 2} --> {Ingredient × 82} via {R × 84})\u001b[22m\u001b[24m,\n",
       " \u001b[1m\u001b[4mRecipe({Ingredient × 137} --> {Ingredient × 2} --> {Ingredient × 82} via {R × 84})\u001b[22m\u001b[24m,\n",
       " \u001b[1m\u001b[4mRecipe({Ingredient × 137} --> {Ingredient × 2} --> {Ingredient × 82} via {R × 84})\u001b[22m\u001b[24m,\n",
       " \u001b[1m\u001b[4mRecipe({Ingredient × 137} --> {Ingredient × 2} --> {Ingredient × 82} via {R × 84})\u001b[22m\u001b[24m,\n",
       " \u001b[1m\u001b[4mRecipe({Ingredient × 137} --> {Ingredient × 2} --> {Ingredient × 82} via {R × 84})\u001b[22m\u001b[24m,\n",
       " \u001b[1m\u001b[4mRecipe({Ingredient × 137} --> {Ingredient × 2} --> {Ingredient × 82} via {R × 84})\u001b[22m\u001b[24m,\n",
       " \u001b[1m\u001b[4mRecipe({Ingredient × 137} --> {Ingredient × 2} --> {Ingredient × 82} via {R × 84})\u001b[22m\u001b[24m,\n",
       " \u001b[1m\u001b[4mRecipe({Ingredient × 137} --> {Ingredient × 2} --> {Ingredient × 82} via {R × 84})\u001b[22m\u001b[24m,\n",
       " \u001b[1m\u001b[4mRecipe({Ingredient × 137} --> {Ingredient × 2} --> {Ingredient × 82} via {R × 84})\u001b[22m\u001b[24m,\n",
       " \u001b[1m\u001b[4mRecipe({Ingredient × 137} --> {Ingredient × 2} --> {Ingredient × 82} via {R × 84})\u001b[22m\u001b[24m,\n",
       " \u001b[1m\u001b[4mRecipe({Ingredient × 137} --> {Ingredient × 2} --> {Ingredient × 82} via {R × 84})\u001b[22m\u001b[24m,\n",
       " \u001b[1m\u001b[4mRecipe({Ingredient × 137} --> {Ingredient × 2} --> {Ingredient × 82} via {R × 84})\u001b[22m\u001b[24m,\n",
       " \u001b[1m\u001b[4mRecipe({Ingredient × 137} --> {Ingredient × 2} --> {Ingredient × 82} via {R × 84})\u001b[22m\u001b[24m,\n",
       " \u001b[1m\u001b[4mRecipe({Ingredient × 137} --> {Ingredient × 2} --> {Ingredient × 82} via {R × 84})\u001b[22m\u001b[24m,\n",
       " \u001b[1m\u001b[4mRecipe({Ingredient × 137} --> {Ingredient × 2} --> {Ingredient × 82} via {R × 84})\u001b[22m\u001b[24m,\n",
       " \u001b[1m\u001b[4mRecipe({Ingredient × 137} --> {Ingredient × 2} --> {Ingredient × 82} via {R × 84})\u001b[22m\u001b[24m,\n",
       " \u001b[1m\u001b[4mRecipe({Ingredient × 137} --> {Ingredient × 2} --> {Ingredient × 82} via {R × 84})\u001b[22m\u001b[24m,\n",
       " \u001b[1m\u001b[4mRecipe({Ingredient × 137} --> {Ingredient × 2} --> {Ingredient × 82} via {R × 84})\u001b[22m\u001b[24m,\n",
       " \u001b[1m\u001b[4mRecipe({Ingredient × 137} --> {Ingredient × 2} --> {Ingredient × 82} via {R × 84})\u001b[22m\u001b[24m,\n",
       " \u001b[1m\u001b[4mRecipe({Ingredient × 137} --> {Ingredient × 2} --> {Ingredient × 82} via {R × 84})\u001b[22m\u001b[24m,\n",
       " \u001b[1m\u001b[4mRecipe({Ingredient × 137} --> {Ingredient × 2} --> {Ingredient × 82} via {R × 84})\u001b[22m\u001b[24m,\n",
       " \u001b[1m\u001b[4mRecipe({Ingredient × 137} --> {Ingredient × 2} --> {Ingredient × 82} via {R × 84})\u001b[22m\u001b[24m,\n",
       " \u001b[1m\u001b[4mRecipe({Ingredient × 137} --> {Ingredient × 2} --> {Ingredient × 82} via {R × 84})\u001b[22m\u001b[24m,\n",
       " \u001b[1m\u001b[4mRecipe({Ingredient × 137} --> {Ingredient × 2} --> {Ingredient × 82} via {R × 84})\u001b[22m\u001b[24m,\n",
       " \u001b[1m\u001b[4mRecipe({Ingredient × 137} --> {Ingredient × 2} --> {Ingredient × 82} via {R × 84})\u001b[22m\u001b[24m,\n",
       " \u001b[1m\u001b[4mRecipe({Ingredient × 137} --> {Ingredient × 2} --> {Ingredient × 82} via {R × 84})\u001b[22m\u001b[24m,\n",
       " \u001b[1m\u001b[4mRecipe({Ingredient × 137} --> {Ingredient × 2} --> {Ingredient × 82} via {R × 84})\u001b[22m\u001b[24m,\n",
       " \u001b[1m\u001b[4mRecipe({Ingredient × 137} --> {Ingredient × 2} --> {Ingredient × 82} via {R × 84})\u001b[22m\u001b[24m,\n",
       " \u001b[1m\u001b[4mRecipe({Ingredient × 137} --> {Ingredient × 2} --> {Ingredient × 82} via {R × 84})\u001b[22m\u001b[24m,\n",
       " \u001b[1m\u001b[4mRecipe({Ingredient × 137} --> {Ingredient × 2} --> {Ingredient × 82} via {R × 84})\u001b[22m\u001b[24m,\n",
       " \u001b[1m\u001b[4mRecipe({Ingredient × 137} --> {Ingredient × 2} --> {Ingredient × 82} via {R × 84})\u001b[22m\u001b[24m,\n",
       " \u001b[1m\u001b[4mRecipe({Ingredient × 137} --> {Ingredient × 2} --> {Ingredient × 82} via {R × 84})\u001b[22m\u001b[24m,\n",
       " \u001b[1m\u001b[4mRecipe({Ingredient × 137} --> {Ingredient × 2} --> {Ingredient × 82} via {R × 84})\u001b[22m\u001b[24m,\n",
       " \u001b[1m\u001b[4mRecipe({Ingredient × 137} --> {Ingredient × 2} --> {Ingredient × 82} via {R × 84})\u001b[22m\u001b[24m,\n",
       " \u001b[1m\u001b[4mRecipe({Ingredient × 137} --> {Ingredient × 2} --> {Ingredient × 82} via {R × 84})\u001b[22m\u001b[24m,\n",
       " \u001b[1m\u001b[4mRecipe({Ingredient × 137} --> {Ingredient × 2} --> {Ingredient × 82} via {R × 84})\u001b[22m\u001b[24m,\n",
       " \u001b[1m\u001b[4mRecipe({Ingredient × 137} --> {Ingredient × 2} --> {Ingredient × 82} via {R × 84})\u001b[22m\u001b[24m,\n",
       " \u001b[1m\u001b[4mRecipe({Ingredient × 137} --> {Ingredient × 2} --> {Ingredient × 82} via {R × 84})\u001b[22m\u001b[24m,\n",
       " \u001b[1m\u001b[4mRecipe({Ingredient × 137} --> {Ingredient × 2} --> {Ingredient × 82} via {R × 84})\u001b[22m\u001b[24m,\n",
       " \u001b[1m\u001b[4mRecipe({Ingredient × 137} --> {Ingredient × 2} --> {Ingredient × 82} via {R × 84})\u001b[22m\u001b[24m,\n",
       " \u001b[1m\u001b[4mRecipe({Ingredient × 137} --> {Ingredient × 2} --> {Ingredient × 82} via {R × 84})\u001b[22m\u001b[24m,\n",
       " \u001b[1m\u001b[4mRecipe({Ingredient × 137} --> {Ingredient × 2} --> {Ingredient × 82} via {R × 84})\u001b[22m\u001b[24m,\n",
       " \u001b[1m\u001b[4mRecipe({Ingredient × 137} --> {Ingredient × 2} --> {Ingredient × 82} via {R × 84})\u001b[22m\u001b[24m,\n",
       " \u001b[1m\u001b[4mRecipe({Ingredient × 137} --> {Ingredient × 2} --> {Ingredient × 82} via {R × 84})\u001b[22m\u001b[24m,\n",
       " \u001b[1m\u001b[4mRecipe({Ingredient × 137} --> {Ingredient × 2} --> {Ingredient × 82} via {R × 84})\u001b[22m\u001b[24m,\n",
       " \u001b[1m\u001b[4mRecipe({Ingredient × 137} --> {Ingredient × 2} --> {Ingredient × 82} via {R × 84})\u001b[22m\u001b[24m,\n",
       " \u001b[1m\u001b[4mRecipe({Ingredient × 137} --> {Ingredient × 2} --> {Ingredient × 82} via {R × 84})\u001b[22m\u001b[24m,\n",
       " \u001b[1m\u001b[4mRecipe({Ingredient × 137} --> {Ingredient × 2} --> {Ingredient × 82} via {R × 84})\u001b[22m\u001b[24m,\n",
       " \u001b[1m\u001b[4mRecipe({Ingredient × 137} --> {Ingredient × 2} --> {Ingredient × 82} via {R × 84})\u001b[22m\u001b[24m,\n",
       " \u001b[1m\u001b[4mRecipe({Ingredient × 137} --> {Ingredient × 2} --> {Ingredient × 82} via {R × 84})\u001b[22m\u001b[24m,\n",
       " \u001b[1m\u001b[4mRecipe({Ingredient × 137} --> {Ingredient × 2} --> {Ingredient × 82} via {R × 84})\u001b[22m\u001b[24m,\n",
       " \u001b[1m\u001b[4mRecipe({Ingredient × 137} --> {Ingredient × 2} --> {Ingredient × 82} via {R × 84})\u001b[22m\u001b[24m,\n",
       " \u001b[1m\u001b[4mRecipe({Ingredient × 137} --> {Ingredient × 2} --> {Ingredient × 82} via {R × 84})\u001b[22m\u001b[24m,\n",
       " \u001b[1m\u001b[4mRecipe({Ingredient × 137} --> {Ingredient × 2} --> {Ingredient × 82} via {R × 84})\u001b[22m\u001b[24m,\n",
       " \u001b[1m\u001b[4mRecipe({Ingredient × 137} --> {Ingredient × 2} --> {Ingredient × 82} via {R × 84})\u001b[22m\u001b[24m,\n",
       " \u001b[1m\u001b[4mRecipe({Ingredient × 137} --> {Ingredient × 2} --> {Ingredient × 82} via {R × 84})\u001b[22m\u001b[24m,\n",
       " \u001b[1m\u001b[4mRecipe({Ingredient × 137} --> {Ingredient × 2} --> {Ingredient × 82} via {R × 84})\u001b[22m\u001b[24m,\n",
       " \u001b[1m\u001b[4mRecipe({Ingredient × 137} --> {Ingredient × 2} --> {Ingredient × 82} via {R × 84})\u001b[22m\u001b[24m,\n",
       " \u001b[1m\u001b[4mRecipe({Ingredient × 137} --> {Ingredient × 2} --> {Ingredient × 82} via {R × 84})\u001b[22m\u001b[24m,\n",
       " \u001b[1m\u001b[4mRecipe({Ingredient × 137} --> {Ingredient × 2} --> {Ingredient × 82} via {R × 84})\u001b[22m\u001b[24m,\n",
       " \u001b[1m\u001b[4mRecipe({Ingredient × 137} --> {Ingredient × 2} --> {Ingredient × 82} via {R × 84})\u001b[22m\u001b[24m,\n",
       " \u001b[1m\u001b[4mRecipe({Ingredient × 137} --> {Ingredient × 2} --> {Ingredient × 82} via {R × 84})\u001b[22m\u001b[24m,\n",
       " \u001b[1m\u001b[4mRecipe({Ingredient × 137} --> {Ingredient × 2} --> {Ingredient × 82} via {R × 84})\u001b[22m\u001b[24m,\n",
       " \u001b[1m\u001b[4mRecipe({Ingredient × 137} --> {Ingredient × 2} --> {Ingredient × 82} via {R × 84})\u001b[22m\u001b[24m,\n",
       " \u001b[1m\u001b[4mRecipe({Ingredient × 137} --> {Ingredient × 2} --> {Ingredient × 82} via {R × 84})\u001b[22m\u001b[24m,\n",
       " \u001b[1m\u001b[4mRecipe({Ingredient × 137} --> {Ingredient × 2} --> {Ingredient × 82} via {R × 84})\u001b[22m\u001b[24m,\n",
       " \u001b[1m\u001b[4mRecipe({Ingredient × 137} --> {Ingredient × 2} --> {Ingredient × 82} via {R × 84})\u001b[22m\u001b[24m,\n",
       " \u001b[1m\u001b[4mRecipe({Ingredient × 137} --> {Ingredient × 2} --> {Ingredient × 82} via {R × 84})\u001b[22m\u001b[24m,\n",
       " \u001b[1m\u001b[4mRecipe({Ingredient × 137} --> {Ingredient × 2} --> {Ingredient × 82} via {R × 84})\u001b[22m\u001b[24m,\n",
       " \u001b[1m\u001b[4mRecipe({Ingredient × 137} --> {Ingredient × 2} --> {Ingredient × 82} via {R × 84})\u001b[22m\u001b[24m,\n",
       " \u001b[1m\u001b[4mRecipe({Ingredient × 137} --> {Ingredient × 2} --> {Ingredient × 82} via {R × 84})\u001b[22m\u001b[24m,\n",
       " \u001b[1m\u001b[4mRecipe({Ingredient × 137} --> {Ingredient × 2} --> {Ingredient × 82} via {R × 84})\u001b[22m\u001b[24m,\n",
       " \u001b[1m\u001b[4mRecipe({Ingredient × 137} --> {Ingredient × 2} --> {Ingredient × 82} via {R × 84})\u001b[22m\u001b[24m,\n",
       " \u001b[1m\u001b[4mRecipe({Ingredient × 137} --> {Ingredient × 2} --> {Ingredient × 82} via {R × 84})\u001b[22m\u001b[24m,\n",
       " \u001b[1m\u001b[4mRecipe({Ingredient × 137} --> {Ingredient × 2} --> {Ingredient × 82} via {R × 84})\u001b[22m\u001b[24m,\n",
       " \u001b[1m\u001b[4mRecipe({Ingredient × 137} --> {Ingredient × 2} --> {Ingredient × 82} via {R × 84})\u001b[22m\u001b[24m,\n",
       " \u001b[1m\u001b[4mRecipe({Ingredient × 137} --> {Ingredient × 2} --> {Ingredient × 82} via {R × 84})\u001b[22m\u001b[24m,\n",
       " \u001b[1m\u001b[4mRecipe({Ingredient × 137} --> {Ingredient × 2} --> {Ingredient × 82} via {R × 84})\u001b[22m\u001b[24m,\n",
       " \u001b[1m\u001b[4mRecipe({Ingredient × 137} --> {Ingredient × 2} --> {Ingredient × 82} via {R × 84})\u001b[22m\u001b[24m,\n",
       " \u001b[1m\u001b[4mRecipe({Ingredient × 137} --> {Ingredient × 2} --> {Ingredient × 82} via {R × 84})\u001b[22m\u001b[24m,\n",
       " \u001b[1m\u001b[4mRecipe({Ingredient × 137} --> {Ingredient × 2} --> {Ingredient × 82} via {R × 84})\u001b[22m\u001b[24m,\n",
       " \u001b[1m\u001b[4mRecipe({Ingredient × 137} --> {Ingredient × 2} --> {Ingredient × 82} via {R × 84})\u001b[22m\u001b[24m,\n",
       " \u001b[1m\u001b[4mRecipe({Ingredient × 137} --> {Ingredient × 2} --> {Ingredient × 82} via {R × 84})\u001b[22m\u001b[24m,\n",
       " \u001b[1m\u001b[4mRecipe({Ingredient × 137} --> {Ingredient × 2} --> {Ingredient × 82} via {R × 84})\u001b[22m\u001b[24m,\n",
       " \u001b[1m\u001b[4mRecipe({Ingredient × 137} --> {Ingredient × 2} --> {Ingredient × 82} via {R × 84})\u001b[22m\u001b[24m,\n",
       " \u001b[1m\u001b[4mRecipe({Ingredient × 137} --> {Ingredient × 2} --> {Ingredient × 82} via {R × 84})\u001b[22m\u001b[24m,\n",
       " \u001b[1m\u001b[4mRecipe({Ingredient × 137} --> {Ingredient × 2} --> {Ingredient × 82} via {R × 84})\u001b[22m\u001b[24m,\n",
       " \u001b[1m\u001b[4mRecipe({Ingredient × 137} --> {Ingredient × 2} --> {Ingredient × 82} via {R × 84})\u001b[22m\u001b[24m,\n",
       " \u001b[1m\u001b[4mRecipe({Ingredient × 137} --> {Ingredient × 2} --> {Ingredient × 82} via {R × 84})\u001b[22m\u001b[24m,\n",
       " \u001b[1m\u001b[4mRecipe({Ingredient × 137} --> {Ingredient × 2} --> {Ingredient × 82} via {R × 84})\u001b[22m\u001b[24m,\n",
       " \u001b[1m\u001b[4mRecipe({Ingredient × 137} --> {Ingredient × 2} --> {Ingredient × 82} via {R × 84})\u001b[22m\u001b[24m,\n",
       " \u001b[1m\u001b[4mRecipe({Ingredient × 137} --> {Ingredient × 2} --> {Ingredient × 82} via {R × 84})\u001b[22m\u001b[24m,\n",
       " \u001b[1m\u001b[4mRecipe({Ingredient × 137} --> {Ingredient × 2} --> {Ingredient × 82} via {R × 84})\u001b[22m\u001b[24m,\n",
       " \u001b[1m\u001b[4mRecipe({Ingredient × 137} --> {Ingredient × 2} --> {Ingredient × 82} via {R × 84})\u001b[22m\u001b[24m,\n",
       " \u001b[1m\u001b[4mRecipe({Ingredient × 137} --> {Ingredient × 2} --> {Ingredient × 82} via {R × 84})\u001b[22m\u001b[24m,\n",
       " \u001b[1m\u001b[4mRecipe({Ingredient × 137} --> {Ingredient × 2} --> {Ingredient × 82} via {R × 84})\u001b[22m\u001b[24m,\n",
       " \u001b[1m\u001b[4mRecipe({Ingredient × 137} --> {Ingredient × 2} --> {Ingredient × 82} via {R × 84})\u001b[22m\u001b[24m,\n",
       " \u001b[1m\u001b[4mRecipe({Ingredient × 137} --> {Ingredient × 2} --> {Ingredient × 82} via {R × 84})\u001b[22m\u001b[24m,\n",
       " \u001b[1m\u001b[4mRecipe({Ingredient × 137} --> {Ingredient × 2} --> {Ingredient × 82} via {R × 84})\u001b[22m\u001b[24m,\n",
       " \u001b[1m\u001b[4mRecipe({Ingredient × 137} --> {Ingredient × 2} --> {Ingredient × 82} via {R × 84})\u001b[22m\u001b[24m,\n",
       " \u001b[1m\u001b[4mRecipe({Ingredient × 137} --> {Ingredient × 2} --> {Ingredient × 82} via {R × 84})\u001b[22m\u001b[24m,\n",
       " \u001b[1m\u001b[4mRecipe({Ingredient × 137} --> {Ingredient × 2} --> {Ingredient × 82} via {R × 84})\u001b[22m\u001b[24m,\n",
       " \u001b[1m\u001b[4mRecipe({Ingredient × 137} --> {Ingredient × 2} --> {Ingredient × 82} via {R × 84})\u001b[22m\u001b[24m,\n",
       " \u001b[1m\u001b[4mRecipe({Ingredient × 137} --> {Ingredient × 2} --> {Ingredient × 82} via {R × 84})\u001b[22m\u001b[24m,\n",
       " \u001b[1m\u001b[4mRecipe({Ingredient × 137} --> {Ingredient × 2} --> {Ingredient × 82} via {R × 84})\u001b[22m\u001b[24m,\n",
       " \u001b[1m\u001b[4mRecipe({Ingredient × 137} --> {Ingredient × 2} --> {Ingredient × 82} via {R × 84})\u001b[22m\u001b[24m,\n",
       " \u001b[1m\u001b[4mRecipe({Ingredient × 137} --> {Ingredient × 2} --> {Ingredient × 82} via {R × 84})\u001b[22m\u001b[24m,\n",
       " \u001b[1m\u001b[4mRecipe({Ingredient × 137} --> {Ingredient × 2} --> {Ingredient × 82} via {R × 84})\u001b[22m\u001b[24m,\n",
       " \u001b[1m\u001b[4mRecipe({Ingredient × 137} --> {Ingredient × 2} --> {Ingredient × 82} via {R × 84})\u001b[22m\u001b[24m,\n",
       " \u001b[1m\u001b[4mRecipe({Ingredient × 137} --> {Ingredient × 2} --> {Ingredient × 82} via {R × 84})\u001b[22m\u001b[24m,\n",
       " \u001b[1m\u001b[4mRecipe({Ingredient × 137} --> {Ingredient × 2} --> {Ingredient × 82} via {R × 84})\u001b[22m\u001b[24m,\n",
       " \u001b[1m\u001b[4mRecipe({Ingredient × 137} --> {Ingredient × 2} --> {Ingredient × 82} via {R × 84})\u001b[22m\u001b[24m,\n",
       " \u001b[1m\u001b[4mRecipe({Ingredient × 137} --> {Ingredient × 2} --> {Ingredient × 82} via {R × 84})\u001b[22m\u001b[24m,\n",
       " \u001b[1m\u001b[4mRecipe({Ingredient × 137} --> {Ingredient × 2} --> {Ingredient × 82} via {R × 84})\u001b[22m\u001b[24m,\n",
       " \u001b[1m\u001b[4mRecipe({Ingredient × 137} --> {Ingredient × 2} --> {Ingredient × 82} via {R × 84})\u001b[22m\u001b[24m,\n",
       " \u001b[1m\u001b[4mRecipe({Ingredient × 137} --> {Ingredient × 2} --> {Ingredient × 82} via {R × 84})\u001b[22m\u001b[24m,\n",
       " \u001b[1m\u001b[4mRecipe({Ingredient × 137} --> {Ingredient × 2} --> {Ingredient × 82} via {R × 84})\u001b[22m\u001b[24m,\n",
       " \u001b[1m\u001b[4mRecipe({Ingredient × 137} --> {Ingredient × 2} --> {Ingredient × 82} via {R × 84})\u001b[22m\u001b[24m,\n",
       " \u001b[1m\u001b[4mRecipe({Ingredient × 137} --> {Ingredient × 2} --> {Ingredient × 82} via {R × 84})\u001b[22m\u001b[24m,\n",
       " \u001b[1m\u001b[4mRecipe({Ingredient × 137} --> {Ingredient × 2} --> {Ingredient × 82} via {R × 84})\u001b[22m\u001b[24m,\n",
       " \u001b[1m\u001b[4mRecipe({Ingredient × 137} --> {Ingredient × 2} --> {Ingredient × 82} via {R × 84})\u001b[22m\u001b[24m,\n",
       " \u001b[1m\u001b[4mRecipe({Ingredient × 137} --> {Ingredient × 2} --> {Ingredient × 82} via {R × 84})\u001b[22m\u001b[24m,\n",
       " \u001b[1m\u001b[4mRecipe({Ingredient × 137} --> {Ingredient × 2} --> {Ingredient × 82} via {R × 84})\u001b[22m\u001b[24m,\n",
       " \u001b[1m\u001b[4mRecipe({Ingredient × 137} --> {Ingredient × 2} --> {Ingredient × 82} via {R × 84})\u001b[22m\u001b[24m,\n",
       " \u001b[1m\u001b[4mRecipe({Ingredient × 137} --> {Ingredient × 2} --> {Ingredient × 82} via {R × 84})\u001b[22m\u001b[24m,\n",
       " \u001b[1m\u001b[4mRecipe({Ingredient × 137} --> {Ingredient × 2} --> {Ingredient × 82} via {R × 84})\u001b[22m\u001b[24m,\n",
       " \u001b[1m\u001b[4mRecipe({Ingredient × 137} --> {Ingredient × 2} --> {Ingredient × 82} via {R × 84})\u001b[22m\u001b[24m,\n",
       " \u001b[1m\u001b[4mRecipe({Ingredient × 137} --> {Ingredient × 2} --> {Ingredient × 82} via {R × 84})\u001b[22m\u001b[24m,\n",
       " \u001b[1m\u001b[4mRecipe({Ingredient × 137} --> {Ingredient × 2} --> {Ingredient × 82} via {R × 84})\u001b[22m\u001b[24m,\n",
       " \u001b[1m\u001b[4mRecipe({Ingredient × 137} --> {Ingredient × 2} --> {Ingredient × 82} via {R × 84})\u001b[22m\u001b[24m,\n",
       " \u001b[1m\u001b[4mRecipe({Ingredient × 137} --> {Ingredient × 2} --> {Ingredient × 82} via {R × 84})\u001b[22m\u001b[24m,\n",
       " \u001b[1m\u001b[4mRecipe({Ingredient × 137} --> {Ingredient × 2} --> {Ingredient × 82} via {R × 84})\u001b[22m\u001b[24m,\n",
       " \u001b[1m\u001b[4mRecipe({Ingredient × 137} --> {Ingredient × 2} --> {Ingredient × 82} via {R × 84})\u001b[22m\u001b[24m,\n",
       " \u001b[1m\u001b[4mRecipe({Ingredient × 137} --> {Ingredient × 2} --> {Ingredient × 82} via {R × 84})\u001b[22m\u001b[24m,\n",
       " \u001b[1m\u001b[4mRecipe({Ingredient × 137} --> {Ingredient × 2} --> {Ingredient × 82} via {R × 84})\u001b[22m\u001b[24m,\n",
       " \u001b[1m\u001b[4mRecipe({Ingredient × 137} --> {Ingredient × 2} --> {Ingredient × 82} via {R × 84})\u001b[22m\u001b[24m,\n",
       " \u001b[1m\u001b[4mRecipe({Ingredient × 137} --> {Ingredient × 2} --> {Ingredient × 82} via {R × 84})\u001b[22m\u001b[24m,\n",
       " \u001b[1m\u001b[4mRecipe({Ingredient × 137} --> {Ingredient × 2} --> {Ingredient × 82} via {R × 84})\u001b[22m\u001b[24m,\n",
       " \u001b[1m\u001b[4mRecipe({Ingredient × 137} --> {Ingredient × 2} --> {Ingredient × 82} via {R × 84})\u001b[22m\u001b[24m,\n",
       " \u001b[1m\u001b[4mRecipe({Ingredient × 137} --> {Ingredient × 2} --> {Ingredient × 82} via {R × 84})\u001b[22m\u001b[24m,\n",
       " \u001b[1m\u001b[4mRecipe({Ingredient × 137} --> {Ingredient × 2} --> {Ingredient × 82} via {R × 84})\u001b[22m\u001b[24m,\n",
       " \u001b[1m\u001b[4mRecipe({Ingredient × 137} --> {Ingredient × 2} --> {Ingredient × 82} via {R × 84})\u001b[22m\u001b[24m,\n",
       " \u001b[1m\u001b[4mRecipe({Ingredient × 137} --> {Ingredient × 2} --> {Ingredient × 82} via {R × 84})\u001b[22m\u001b[24m,\n",
       " \u001b[1m\u001b[4mRecipe({Ingredient × 137} --> {Ingredient × 2} --> {Ingredient × 82} via {R × 84})\u001b[22m\u001b[24m,\n",
       " \u001b[1m\u001b[4mRecipe({Ingredient × 137} --> {Ingredient × 2} --> {Ingredient × 82} via {R × 84})\u001b[22m\u001b[24m,\n",
       " \u001b[1m\u001b[4mRecipe({Ingredient × 137} --> {Ingredient × 2} --> {Ingredient × 82} via {R × 84})\u001b[22m\u001b[24m,\n",
       " \u001b[1m\u001b[4mRecipe({Ingredient × 137} --> {Ingredient × 2} --> {Ingredient × 82} via {R × 84})\u001b[22m\u001b[24m,\n",
       " \u001b[1m\u001b[4mRecipe({Ingredient × 137} --> {Ingredient × 2} --> {Ingredient × 82} via {R × 84})\u001b[22m\u001b[24m,\n",
       " \u001b[1m\u001b[4mRecipe({Ingredient × 137} --> {Ingredient × 2} --> {Ingredient × 82} via {R × 84})\u001b[22m\u001b[24m,\n",
       " \u001b[1m\u001b[4mRecipe({Ingredient × 137} --> {Ingredient × 2} --> {Ingredient × 82} via {R × 84})\u001b[22m\u001b[24m,\n",
       " \u001b[1m\u001b[4mRecipe({Ingredient × 137} --> {Ingredient × 2} --> {Ingredient × 82} via {R × 84})\u001b[22m\u001b[24m,\n",
       " \u001b[1m\u001b[4mRecipe({Ingredient × 137} --> {Ingredient × 2} --> {Ingredient × 82} via {R × 84})\u001b[22m\u001b[24m,\n",
       " \u001b[1m\u001b[4mRecipe({Ingredient × 137} --> {Ingredient × 2} --> {Ingredient × 82} via {R × 84})\u001b[22m\u001b[24m,\n",
       " \u001b[1m\u001b[4mRecipe({Ingredient × 137} --> {Ingredient × 2} --> {Ingredient × 82} via {R × 84})\u001b[22m\u001b[24m,\n",
       " \u001b[1m\u001b[4mRecipe({Ingredient × 137} --> {Ingredient × 2} --> {Ingredient × 82} via {R × 84})\u001b[22m\u001b[24m,\n",
       " \u001b[1m\u001b[4mRecipe({Ingredient × 137} --> {Ingredient × 2} --> {Ingredient × 82} via {R × 84})\u001b[22m\u001b[24m,\n",
       " \u001b[1m\u001b[4mRecipe({Ingredient × 137} --> {Ingredient × 2} --> {Ingredient × 82} via {R × 84})\u001b[22m\u001b[24m,\n",
       " \u001b[1m\u001b[4mRecipe({Ingredient × 137} --> {Ingredient × 2} --> {Ingredient × 82} via {R × 84})\u001b[22m\u001b[24m,\n",
       " \u001b[1m\u001b[4mRecipe({Ingredient × 137} --> {Ingredient × 2} --> {Ingredient × 82} via {R × 84})\u001b[22m\u001b[24m,\n",
       " \u001b[1m\u001b[4mRecipe({Ingredient × 137} --> {Ingredient × 2} --> {Ingredient × 82} via {R × 84})\u001b[22m\u001b[24m,\n",
       " \u001b[1m\u001b[4mRecipe({Ingredient × 137} --> {Ingredient × 2} --> {Ingredient × 82} via {R × 84})\u001b[22m\u001b[24m,\n",
       " \u001b[1m\u001b[4mRecipe({Ingredient × 137} --> {Ingredient × 2} --> {Ingredient × 82} via {R × 84})\u001b[22m\u001b[24m,\n",
       " \u001b[1m\u001b[4mRecipe({Ingredient × 137} --> {Ingredient × 2} --> {Ingredient × 82} via {R × 84})\u001b[22m\u001b[24m,\n",
       " \u001b[1m\u001b[4mRecipe({Ingredient × 137} --> {Ingredient × 2} --> {Ingredient × 82} via {R × 84})\u001b[22m\u001b[24m,\n",
       " \u001b[1m\u001b[4mRecipe({Ingredient × 137} --> {Ingredient × 2} --> {Ingredient × 82} via {R × 84})\u001b[22m\u001b[24m,\n",
       " \u001b[1m\u001b[4mRecipe({Ingredient × 137} --> {Ingredient × 2} --> {Ingredient × 82} via {R × 84})\u001b[22m\u001b[24m,\n",
       " \u001b[1m\u001b[4mRecipe({Ingredient × 137} --> {Ingredient × 2} --> {Ingredient × 82} via {R × 84})\u001b[22m\u001b[24m,\n",
       " \u001b[1m\u001b[4mRecipe({Ingredient × 137} --> {Ingredient × 2} --> {Ingredient × 82} via {R × 84})\u001b[22m\u001b[24m,\n",
       " \u001b[1m\u001b[4mRecipe({Ingredient × 137} --> {Ingredient × 2} --> {Ingredient × 82} via {R × 84})\u001b[22m\u001b[24m,\n",
       " \u001b[1m\u001b[4mRecipe({Ingredient × 137} --> {Ingredient × 2} --> {Ingredient × 82} via {R × 84})\u001b[22m\u001b[24m,\n",
       " \u001b[1m\u001b[4mRecipe({Ingredient × 137} --> {Ingredient × 2} --> {Ingredient × 82} via {R × 84})\u001b[22m\u001b[24m,\n",
       " \u001b[1m\u001b[4mRecipe({Ingredient × 137} --> {Ingredient × 2} --> {Ingredient × 82} via {R × 84})\u001b[22m\u001b[24m,\n",
       " \u001b[1m\u001b[4mRecipe({Ingredient × 137} --> {Ingredient × 2} --> {Ingredient × 82} via {R × 84})\u001b[22m\u001b[24m,\n",
       " \u001b[1m\u001b[4mRecipe({Ingredient × 137} --> {Ingredient × 2} --> {Ingredient × 82} via {R × 84})\u001b[22m\u001b[24m,\n",
       " \u001b[1m\u001b[4mRecipe({Ingredient × 137} --> {Ingredient × 2} --> {Ingredient × 82} via {R × 84})\u001b[22m\u001b[24m,\n",
       " \u001b[1m\u001b[4mRecipe({Ingredient × 137} --> {Ingredient × 2} --> {Ingredient × 82} via {R × 84})\u001b[22m\u001b[24m,\n",
       " \u001b[1m\u001b[4mRecipe({Ingredient × 137} --> {Ingredient × 2} --> {Ingredient × 82} via {R × 84})\u001b[22m\u001b[24m,\n",
       " \u001b[1m\u001b[4mRecipe({Ingredient × 137} --> {Ingredient × 2} --> {Ingredient × 82} via {R × 84})\u001b[22m\u001b[24m,\n",
       " \u001b[1m\u001b[4mRecipe({Ingredient × 137} --> {Ingredient × 2} --> {Ingredient × 82} via {R × 84})\u001b[22m\u001b[24m,\n",
       " \u001b[1m\u001b[4mRecipe({Ingredient × 137} --> {Ingredient × 2} --> {Ingredient × 82} via {R × 84})\u001b[22m\u001b[24m,\n",
       " \u001b[1m\u001b[4mRecipe({Ingredient × 137} --> {Ingredient × 2} --> {Ingredient × 82} via {R × 84})\u001b[22m\u001b[24m,\n",
       " \u001b[1m\u001b[4mRecipe({Ingredient × 137} --> {Ingredient × 2} --> {Ingredient × 82} via {R × 84})\u001b[22m\u001b[24m,\n",
       " \u001b[1m\u001b[4mRecipe({Ingredient × 137} --> {Ingredient × 2} --> {Ingredient × 82} via {R × 84})\u001b[22m\u001b[24m,\n",
       " \u001b[1m\u001b[4mRecipe({Ingredient × 137} --> {Ingredient × 2} --> {Ingredient × 82} via {R × 84})\u001b[22m\u001b[24m,\n",
       " \u001b[1m\u001b[4mRecipe({Ingredient × 137} --> {Ingredient × 2} --> {Ingredient × 82} via {R × 84})\u001b[22m\u001b[24m,\n",
       " \u001b[1m\u001b[4mRecipe({Ingredient × 137} --> {Ingredient × 2} --> {Ingredient × 82} via {R × 84})\u001b[22m\u001b[24m,\n",
       " \u001b[1m\u001b[4mRecipe({Ingredient × 137} --> {Ingredient × 2} --> {Ingredient × 82} via {R × 84})\u001b[22m\u001b[24m,\n",
       " \u001b[1m\u001b[4mRecipe({Ingredient × 137} --> {Ingredient × 2} --> {Ingredient × 82} via {R × 84})\u001b[22m\u001b[24m,\n",
       " \u001b[1m\u001b[4mRecipe({Ingredient × 137} --> {Ingredient × 2} --> {Ingredient × 82} via {R × 84})\u001b[22m\u001b[24m,\n",
       " \u001b[1m\u001b[4mRecipe({Ingredient × 137} --> {Ingredient × 2} --> {Ingredient × 82} via {R × 84})\u001b[22m\u001b[24m,\n",
       " \u001b[1m\u001b[4mRecipe({Ingredient × 137} --> {Ingredient × 2} --> {Ingredient × 82} via {R × 84})\u001b[22m\u001b[24m,\n",
       " \u001b[1m\u001b[4mRecipe({Ingredient × 137} --> {Ingredient × 2} --> {Ingredient × 82} via {R × 84})\u001b[22m\u001b[24m,\n",
       " \u001b[1m\u001b[4mRecipe({Ingredient × 137} --> {Ingredient × 2} --> {Ingredient × 82} via {R × 84})\u001b[22m\u001b[24m,\n",
       " \u001b[1m\u001b[4mRecipe({Ingredient × 137} --> {Ingredient × 2} --> {Ingredient × 82} via {R × 84})\u001b[22m\u001b[24m,\n",
       " \u001b[1m\u001b[4mRecipe({Ingredient × 137} --> {Ingredient × 2} --> {Ingredient × 82} via {R × 84})\u001b[22m\u001b[24m,\n",
       " \u001b[1m\u001b[4mRecipe({Ingredient × 137} --> {Ingredient × 2} --> {Ingredient × 82} via {R × 84})\u001b[22m\u001b[24m,\n",
       " \u001b[1m\u001b[4mRecipe({Ingredient × 137} --> {Ingredient × 2} --> {Ingredient × 82} via {R × 84})\u001b[22m\u001b[24m,\n",
       " \u001b[1m\u001b[4mRecipe({Ingredient × 137} --> {Ingredient × 2} --> {Ingredient × 82} via {R × 84})\u001b[22m\u001b[24m,\n",
       " \u001b[1m\u001b[4mRecipe({Ingredient × 137} --> {Ingredient × 2} --> {Ingredient × 82} via {R × 84})\u001b[22m\u001b[24m,\n",
       " \u001b[1m\u001b[4mRecipe({Ingredient × 137} --> {Ingredient × 2} --> {Ingredient × 82} via {R × 84})\u001b[22m\u001b[24m,\n",
       " \u001b[1m\u001b[4mRecipe({Ingredient × 137} --> {Ingredient × 2} --> {Ingredient × 82} via {R × 84})\u001b[22m\u001b[24m,\n",
       " \u001b[1m\u001b[4mRecipe({Ingredient × 137} --> {Ingredient × 2} --> {Ingredient × 82} via {R × 84})\u001b[22m\u001b[24m,\n",
       " \u001b[1m\u001b[4mRecipe({Ingredient × 137} --> {Ingredient × 2} --> {Ingredient × 82} via {R × 84})\u001b[22m\u001b[24m,\n",
       " \u001b[1m\u001b[4mRecipe({Ingredient × 137} --> {Ingredient × 2} --> {Ingredient × 82} via {R × 84})\u001b[22m\u001b[24m,\n",
       " \u001b[1m\u001b[4mRecipe({Ingredient × 137} --> {Ingredient × 2} --> {Ingredient × 82} via {R × 84})\u001b[22m\u001b[24m,\n",
       " \u001b[1m\u001b[4mRecipe({Ingredient × 137} --> {Ingredient × 2} --> {Ingredient × 82} via {R × 84})\u001b[22m\u001b[24m,\n",
       " \u001b[1m\u001b[4mRecipe({Ingredient × 137} --> {Ingredient × 2} --> {Ingredient × 82} via {R × 84})\u001b[22m\u001b[24m,\n",
       " \u001b[1m\u001b[4mRecipe({Ingredient × 137} --> {Ingredient × 2} --> {Ingredient × 82} via {R × 84})\u001b[22m\u001b[24m,\n",
       " \u001b[1m\u001b[4mRecipe({Ingredient × 137} --> {Ingredient × 2} --> {Ingredient × 82} via {R × 84})\u001b[22m\u001b[24m,\n",
       " \u001b[1m\u001b[4mRecipe({Ingredient × 137} --> {Ingredient × 2} --> {Ingredient × 82} via {R × 84})\u001b[22m\u001b[24m,\n",
       " \u001b[1m\u001b[4mRecipe({Ingredient × 137} --> {Ingredient × 2} --> {Ingredient × 82} via {R × 84})\u001b[22m\u001b[24m,\n",
       " \u001b[1m\u001b[4mRecipe({Ingredient × 137} --> {Ingredient × 2} --> {Ingredient × 82} via {R × 84})\u001b[22m\u001b[24m,\n",
       " \u001b[1m\u001b[4mRecipe({Ingredient × 137} --> {Ingredient × 2} --> {Ingredient × 82} via {R × 84})\u001b[22m\u001b[24m,\n",
       " \u001b[1m\u001b[4mRecipe({Ingredient × 137} --> {Ingredient × 2} --> {Ingredient × 82} via {R × 84})\u001b[22m\u001b[24m,\n",
       " \u001b[1m\u001b[4mRecipe({Ingredient × 137} --> {Ingredient × 2} --> {Ingredient × 82} via {R × 84})\u001b[22m\u001b[24m,\n",
       " \u001b[1m\u001b[4mRecipe({Ingredient × 137} --> {Ingredient × 2} --> {Ingredient × 82} via {R × 84})\u001b[22m\u001b[24m,\n",
       " \u001b[1m\u001b[4mRecipe({Ingredient × 137} --> {Ingredient × 2} --> {Ingredient × 82} via {R × 84})\u001b[22m\u001b[24m,\n",
       " \u001b[1m\u001b[4mRecipe({Ingredient × 137} --> {Ingredient × 2} --> {Ingredient × 82} via {R × 84})\u001b[22m\u001b[24m,\n",
       " \u001b[1m\u001b[4mRecipe({Ingredient × 137} --> {Ingredient × 2} --> {Ingredient × 82} via {R × 84})\u001b[22m\u001b[24m,\n",
       " \u001b[1m\u001b[4mRecipe({Ingredient × 137} --> {Ingredient × 2} --> {Ingredient × 82} via {R × 84})\u001b[22m\u001b[24m,\n",
       " \u001b[1m\u001b[4mRecipe({Ingredient × 137} --> {Ingredient × 2} --> {Ingredient × 82} via {R × 84})\u001b[22m\u001b[24m,\n",
       " \u001b[1m\u001b[4mRecipe({Ingredient × 137} --> {Ingredient × 2} --> {Ingredient × 82} via {R × 84})\u001b[22m\u001b[24m,\n",
       " \u001b[1m\u001b[4mRecipe({Ingredient × 137} --> {Ingredient × 2} --> {Ingredient × 82} via {R × 84})\u001b[22m\u001b[24m,\n",
       " \u001b[1m\u001b[4mRecipe({Ingredient × 137} --> {Ingredient × 2} --> {Ingredient × 82} via {R × 84})\u001b[22m\u001b[24m,\n",
       " \u001b[1m\u001b[4mRecipe({Ingredient × 137} --> {Ingredient × 2} --> {Ingredient × 82} via {R × 84})\u001b[22m\u001b[24m,\n",
       " \u001b[1m\u001b[4mRecipe({Ingredient × 137} --> {Ingredient × 2} --> {Ingredient × 82} via {R × 84})\u001b[22m\u001b[24m,\n",
       " \u001b[1m\u001b[4mRecipe({Ingredient × 137} --> {Ingredient × 2} --> {Ingredient × 82} via {R × 84})\u001b[22m\u001b[24m,\n",
       " \u001b[1m\u001b[4mRecipe({Ingredient × 137} --> {Ingredient × 2} --> {Ingredient × 82} via {R × 84})\u001b[22m\u001b[24m,\n",
       " \u001b[1m\u001b[4mRecipe({Ingredient × 137} --> {Ingredient × 2} --> {Ingredient × 82} via {R × 84})\u001b[22m\u001b[24m,\n",
       " \u001b[1m\u001b[4mRecipe({Ingredient × 137} --> {Ingredient × 2} --> {Ingredient × 82} via {R × 84})\u001b[22m\u001b[24m,\n",
       " \u001b[1m\u001b[4mRecipe({Ingredient × 137} --> {Ingredient × 2} --> {Ingredient × 82} via {R × 84})\u001b[22m\u001b[24m,\n",
       " \u001b[1m\u001b[4mRecipe({Ingredient × 137} --> {Ingredient × 2} --> {Ingredient × 82} via {R × 84})\u001b[22m\u001b[24m,\n",
       " \u001b[1m\u001b[4mRecipe({Ingredient × 137} --> {Ingredient × 2} --> {Ingredient × 82} via {R × 84})\u001b[22m\u001b[24m,\n",
       " \u001b[1m\u001b[4mRecipe({Ingredient × 137} --> {Ingredient × 2} --> {Ingredient × 82} via {R × 84})\u001b[22m\u001b[24m,\n",
       " \u001b[1m\u001b[4mRecipe({Ingredient × 137} --> {Ingredient × 2} --> {Ingredient × 82} via {R × 84})\u001b[22m\u001b[24m,\n",
       " \u001b[1m\u001b[4mRecipe({Ingredient × 137} --> {Ingredient × 2} --> {Ingredient × 82} via {R × 84})\u001b[22m\u001b[24m,\n",
       " \u001b[1m\u001b[4mRecipe({Ingredient × 137} --> {Ingredient × 2} --> {Ingredient × 82} via {R × 84})\u001b[22m\u001b[24m,\n",
       " \u001b[1m\u001b[4mRecipe({Ingredient × 137} --> {Ingredient × 2} --> {Ingredient × 82} via {R × 84})\u001b[22m\u001b[24m,\n",
       " \u001b[1m\u001b[4mRecipe({Ingredient × 137} --> {Ingredient × 2} --> {Ingredient × 82} via {R × 84})\u001b[22m\u001b[24m,\n",
       " \u001b[1m\u001b[4mRecipe({Ingredient × 137} --> {Ingredient × 2} --> {Ingredient × 82} via {R × 84})\u001b[22m\u001b[24m,\n",
       " \u001b[1m\u001b[4mRecipe({Ingredient × 137} --> {Ingredient × 2} --> {Ingredient × 82} via {R × 84})\u001b[22m\u001b[24m,\n",
       " \u001b[1m\u001b[4mRecipe({Ingredient × 137} --> {Ingredient × 2} --> {Ingredient × 82} via {R × 84})\u001b[22m\u001b[24m,\n",
       " \u001b[1m\u001b[4mRecipe({Ingredient × 137} --> {Ingredient × 2} --> {Ingredient × 82} via {R × 84})\u001b[22m\u001b[24m,\n",
       " \u001b[1m\u001b[4mRecipe({Ingredient × 137} --> {Ingredient × 2} --> {Ingredient × 82} via {R × 84})\u001b[22m\u001b[24m,\n",
       " \u001b[1m\u001b[4mRecipe({Ingredient × 137} --> {Ingredient × 2} --> {Ingredient × 82} via {R × 84})\u001b[22m\u001b[24m,\n",
       " \u001b[1m\u001b[4mRecipe({Ingredient × 137} --> {Ingredient × 2} --> {Ingredient × 82} via {R × 84})\u001b[22m\u001b[24m,\n",
       " \u001b[1m\u001b[4mRecipe({Ingredient × 137} --> {Ingredient × 2} --> {Ingredient × 82} via {R × 84})\u001b[22m\u001b[24m,\n",
       " \u001b[1m\u001b[4mRecipe({Ingredient × 137} --> {Ingredient × 2} --> {Ingredient × 82} via {R × 84})\u001b[22m\u001b[24m,\n",
       " \u001b[1m\u001b[4mRecipe({Ingredient × 137} --> {Ingredient × 2} --> {Ingredient × 82} via {R × 84})\u001b[22m\u001b[24m,\n",
       " \u001b[1m\u001b[4mRecipe({Ingredient × 137} --> {Ingredient × 2} --> {Ingredient × 82} via {R × 84})\u001b[22m\u001b[24m,\n",
       " \u001b[1m\u001b[4mRecipe({Ingredient × 137} --> {Ingredient × 2} --> {Ingredient × 82} via {R × 84})\u001b[22m\u001b[24m,\n",
       " \u001b[1m\u001b[4mRecipe({Ingredient × 137} --> {Ingredient × 2} --> {Ingredient × 82} via {R × 84})\u001b[22m\u001b[24m,\n",
       " \u001b[1m\u001b[4mRecipe({Ingredient × 137} --> {Ingredient × 2} --> {Ingredient × 82} via {R × 84})\u001b[22m\u001b[24m,\n",
       " \u001b[1m\u001b[4mRecipe({Ingredient × 137} --> {Ingredient × 2} --> {Ingredient × 82} via {R × 84})\u001b[22m\u001b[24m,\n",
       " \u001b[1m\u001b[4mRecipe({Ingredient × 137} --> {Ingredient × 2} --> {Ingredient × 82} via {R × 84})\u001b[22m\u001b[24m,\n",
       " \u001b[1m\u001b[4mRecipe({Ingredient × 137} --> {Ingredient × 2} --> {Ingredient × 82} via {R × 84})\u001b[22m\u001b[24m,\n",
       " \u001b[1m\u001b[4mRecipe({Ingredient × 137} --> {Ingredient × 2} --> {Ingredient × 82} via {R × 84})\u001b[22m\u001b[24m,\n",
       " \u001b[1m\u001b[4mRecipe({Ingredient × 137} --> {Ingredient × 2} --> {Ingredient × 82} via {R × 84})\u001b[22m\u001b[24m,\n",
       " \u001b[1m\u001b[4mRecipe({Ingredient × 137} --> {Ingredient × 2} --> {Ingredient × 82} via {R × 84})\u001b[22m\u001b[24m,\n",
       " \u001b[1m\u001b[4mRecipe({Ingredient × 137} --> {Ingredient × 2} --> {Ingredient × 82} via {R × 84})\u001b[22m\u001b[24m,\n",
       " \u001b[1m\u001b[4mRecipe({Ingredient × 137} --> {Ingredient × 2} --> {Ingredient × 82} via {R × 84})\u001b[22m\u001b[24m,\n",
       " \u001b[1m\u001b[4mRecipe({Ingredient × 137} --> {Ingredient × 2} --> {Ingredient × 82} via {R × 84})\u001b[22m\u001b[24m,\n",
       " \u001b[1m\u001b[4mRecipe({Ingredient × 137} --> {Ingredient × 2} --> {Ingredient × 82} via {R × 84})\u001b[22m\u001b[24m,\n",
       " \u001b[1m\u001b[4mRecipe({Ingredient × 137} --> {Ingredient × 2} --> {Ingredient × 82} via {R × 84})\u001b[22m\u001b[24m,\n",
       " \u001b[1m\u001b[4mRecipe({Ingredient × 137} --> {Ingredient × 2} --> {Ingredient × 82} via {R × 84})\u001b[22m\u001b[24m,\n",
       " \u001b[1m\u001b[4mRecipe({Ingredient × 137} --> {Ingredient × 2} --> {Ingredient × 82} via {R × 84})\u001b[22m\u001b[24m,\n",
       " \u001b[1m\u001b[4mRecipe({Ingredient × 137} --> {Ingredient × 2} --> {Ingredient × 82} via {R × 84})\u001b[22m\u001b[24m,\n",
       " \u001b[1m\u001b[4mRecipe({Ingredient × 137} --> {Ingredient × 2} --> {Ingredient × 82} via {R × 84})\u001b[22m\u001b[24m,\n",
       " \u001b[1m\u001b[4mRecipe({Ingredient × 137} --> {Ingredient × 2} --> {Ingredient × 82} via {R × 84})\u001b[22m\u001b[24m,\n",
       " \u001b[1m\u001b[4mRecipe({Ingredient × 137} --> {Ingredient × 2} --> {Ingredient × 82} via {R × 84})\u001b[22m\u001b[24m,\n",
       " ...]"
      ]
     },
     "execution_count": 45,
     "metadata": {},
     "output_type": "execute_result"
    }
   ],
   "source": [
    "recipes"
   ]
  },
  {
   "cell_type": "code",
   "execution_count": 48,
   "id": "3b263571-36be-4e3e-b832-14473b1d2c5f",
   "metadata": {},
   "outputs": [
    {
     "data": {
      "text/html": [
       "<pre style=\"white-space:pre;overflow-x:auto;line-height:normal;font-family:Menlo,'DejaVu Sans Mono',consolas,'Courier New',monospace;margin:0px\"><span style=\"background-color: #ff8700; font-weight: bold\"> Warning </span><span style=\"color: #ff8700; text-decoration-color: #ff8700\"> NULL Quote:</span><span style=\"color: #ff8700; text-decoration-color: #ff8700; font-weight: bold; text-decoration: underline\"> 1.00mg of C69826!</span>\n",
       "</pre>\n"
      ],
      "text/plain": [
       "\u001b[1;7;38;5;208m Warning \u001b[0m\u001b[38;5;208m NULL Quote:\u001b[0m\u001b[1;4;38;5;208m 1.00mg of C69826!\u001b[0m\n"
      ]
     },
     "metadata": {},
     "output_type": "display_data"
    },
    {
     "data": {
      "text/html": [
       "<pre style=\"white-space:pre;overflow-x:auto;line-height:normal;font-family:Menlo,'DejaVu Sans Mono',consolas,'Courier New',monospace;margin:0px\"><span style=\"background-color: #ff8700; font-weight: bold\"> Warning </span><span style=\"color: #ff8700; text-decoration-color: #ff8700\"> NULL Quote:</span><span style=\"color: #ff8700; text-decoration-color: #ff8700; font-weight: bold; text-decoration: underline\"> 1.00mg of C70170!</span>\n",
       "</pre>\n"
      ],
      "text/plain": [
       "\u001b[1;7;38;5;208m Warning \u001b[0m\u001b[38;5;208m NULL Quote:\u001b[0m\u001b[1;4;38;5;208m 1.00mg of C70170!\u001b[0m\n"
      ]
     },
     "metadata": {},
     "output_type": "display_data"
    },
    {
     "data": {
      "text/html": [
       "<pre style=\"white-space:pre;overflow-x:auto;line-height:normal;font-family:Menlo,'DejaVu Sans Mono',consolas,'Courier New',monospace;margin:0px\"><span style=\"background-color: #ff8700; font-weight: bold\"> Warning </span><span style=\"color: #ff8700; text-decoration-color: #ff8700\"> NULL Quote:</span><span style=\"color: #ff8700; text-decoration-color: #ff8700; font-weight: bold; text-decoration: underline\"> 1.00mg of C69990!</span>\n",
       "</pre>\n"
      ],
      "text/plain": [
       "\u001b[1;7;38;5;208m Warning \u001b[0m\u001b[38;5;208m NULL Quote:\u001b[0m\u001b[1;4;38;5;208m 1.00mg of C69990!\u001b[0m\n"
      ]
     },
     "metadata": {},
     "output_type": "display_data"
    },
    {
     "data": {
      "text/html": [
       "<pre style=\"white-space:pre;overflow-x:auto;line-height:normal;font-family:Menlo,'DejaVu Sans Mono',consolas,'Courier New',monospace;margin:0px\"><span style=\"background-color: #ff8700; font-weight: bold\"> Warning </span><span style=\"color: #ff8700; text-decoration-color: #ff8700\"> NULL Quote:</span><span style=\"color: #ff8700; text-decoration-color: #ff8700; font-weight: bold; text-decoration: underline\"> 1.00mg of C70322!</span>\n",
       "</pre>\n"
      ],
      "text/plain": [
       "\u001b[1;7;38;5;208m Warning \u001b[0m\u001b[38;5;208m NULL Quote:\u001b[0m\u001b[1;4;38;5;208m 1.00mg of C70322!\u001b[0m\n"
      ]
     },
     "metadata": {},
     "output_type": "display_data"
    },
    {
     "data": {
      "text/html": [
       "<pre style=\"white-space:pre;overflow-x:auto;line-height:normal;font-family:Menlo,'DejaVu Sans Mono',consolas,'Courier New',monospace;margin:0px\"><span style=\"background-color: #ff8700; font-weight: bold\"> Warning </span><span style=\"color: #ff8700; text-decoration-color: #ff8700\"> NULL Quote:</span><span style=\"color: #ff8700; text-decoration-color: #ff8700; font-weight: bold; text-decoration: underline\"> 1.00mg of C70303!</span>\n",
       "</pre>\n"
      ],
      "text/plain": [
       "\u001b[1;7;38;5;208m Warning \u001b[0m\u001b[38;5;208m NULL Quote:\u001b[0m\u001b[1;4;38;5;208m 1.00mg of C70303!\u001b[0m\n"
      ]
     },
     "metadata": {},
     "output_type": "display_data"
    },
    {
     "data": {
      "text/html": [
       "<pre style=\"white-space:pre;overflow-x:auto;line-height:normal;font-family:Menlo,'DejaVu Sans Mono',consolas,'Courier New',monospace;margin:0px\"><span style=\"background-color: #ff8700; font-weight: bold\"> Warning </span><span style=\"color: #ff8700; text-decoration-color: #ff8700\"> NULL Quote:</span><span style=\"color: #ff8700; text-decoration-color: #ff8700; font-weight: bold; text-decoration: underline\"> 1.00mg of C70246!</span>\n",
       "</pre>\n"
      ],
      "text/plain": [
       "\u001b[1;7;38;5;208m Warning \u001b[0m\u001b[38;5;208m NULL Quote:\u001b[0m\u001b[1;4;38;5;208m 1.00mg of C70246!\u001b[0m\n"
      ]
     },
     "metadata": {},
     "output_type": "display_data"
    },
    {
     "data": {
      "text/html": [
       "<pre style=\"white-space:pre;overflow-x:auto;line-height:normal;font-family:Menlo,'DejaVu Sans Mono',consolas,'Courier New',monospace;margin:0px\"><span style=\"background-color: #ff8700; font-weight: bold\"> Warning </span><span style=\"color: #ff8700; text-decoration-color: #ff8700\"> NULL Quote:</span><span style=\"color: #ff8700; text-decoration-color: #ff8700; font-weight: bold; text-decoration: underline\"> 1.00mg of C70050!</span>\n",
       "</pre>\n"
      ],
      "text/plain": [
       "\u001b[1;7;38;5;208m Warning \u001b[0m\u001b[38;5;208m NULL Quote:\u001b[0m\u001b[1;4;38;5;208m 1.00mg of C70050!\u001b[0m\n"
      ]
     },
     "metadata": {},
     "output_type": "display_data"
    },
    {
     "data": {
      "text/html": [
       "<pre style=\"white-space:pre;overflow-x:auto;line-height:normal;font-family:Menlo,'DejaVu Sans Mono',consolas,'Courier New',monospace;margin:0px\"><span style=\"background-color: #ff8700; font-weight: bold\"> Warning </span><span style=\"color: #ff8700; text-decoration-color: #ff8700\"> NULL Quote:</span><span style=\"color: #ff8700; text-decoration-color: #ff8700; font-weight: bold; text-decoration: underline\"> 1.00mg of C69513!</span>\n",
       "</pre>\n"
      ],
      "text/plain": [
       "\u001b[1;7;38;5;208m Warning \u001b[0m\u001b[38;5;208m NULL Quote:\u001b[0m\u001b[1;4;38;5;208m 1.00mg of C69513!\u001b[0m\n"
      ]
     },
     "metadata": {},
     "output_type": "display_data"
    },
    {
     "data": {
      "text/html": [
       "<pre style=\"white-space:pre;overflow-x:auto;line-height:normal;font-family:Menlo,'DejaVu Sans Mono',consolas,'Courier New',monospace;margin:0px\"><span style=\"background-color: #ff8700; font-weight: bold\"> Warning </span><span style=\"color: #ff8700; text-decoration-color: #ff8700\"> NULL Quote:</span><span style=\"color: #ff8700; text-decoration-color: #ff8700; font-weight: bold; text-decoration: underline\"> 2.00mg of C69847!</span>\n",
       "</pre>\n"
      ],
      "text/plain": [
       "\u001b[1;7;38;5;208m Warning \u001b[0m\u001b[38;5;208m NULL Quote:\u001b[0m\u001b[1;4;38;5;208m 2.00mg of C69847!\u001b[0m\n"
      ]
     },
     "metadata": {},
     "output_type": "display_data"
    },
    {
     "data": {
      "text/html": [
       "<pre style=\"white-space:pre;overflow-x:auto;line-height:normal;font-family:Menlo,'DejaVu Sans Mono',consolas,'Courier New',monospace;margin:0px\"><span style=\"background-color: #ff8700; font-weight: bold\"> Warning </span><span style=\"color: #ff8700; text-decoration-color: #ff8700\"> NULL Quote:</span><span style=\"color: #ff8700; text-decoration-color: #ff8700; font-weight: bold; text-decoration: underline\"> 1.00mg of C70542!</span>\n",
       "</pre>\n"
      ],
      "text/plain": [
       "\u001b[1;7;38;5;208m Warning \u001b[0m\u001b[38;5;208m NULL Quote:\u001b[0m\u001b[1;4;38;5;208m 1.00mg of C70542!\u001b[0m\n"
      ]
     },
     "metadata": {},
     "output_type": "display_data"
    },
    {
     "data": {
      "text/html": [
       "<pre style=\"white-space:pre;overflow-x:auto;line-height:normal;font-family:Menlo,'DejaVu Sans Mono',consolas,'Courier New',monospace;margin:0px\"><span style=\"background-color: #ff8700; font-weight: bold\"> Warning </span><span style=\"color: #ff8700; text-decoration-color: #ff8700\"> NULL Quote:</span><span style=\"color: #ff8700; text-decoration-color: #ff8700; font-weight: bold; text-decoration: underline\"> 2.00mg of C70085!</span>\n",
       "</pre>\n"
      ],
      "text/plain": [
       "\u001b[1;7;38;5;208m Warning \u001b[0m\u001b[38;5;208m NULL Quote:\u001b[0m\u001b[1;4;38;5;208m 2.00mg of C70085!\u001b[0m\n"
      ]
     },
     "metadata": {},
     "output_type": "display_data"
    },
    {
     "data": {
      "text/html": [
       "<pre style=\"white-space:pre;overflow-x:auto;line-height:normal;font-family:Menlo,'DejaVu Sans Mono',consolas,'Courier New',monospace;margin:0px\"><span style=\"background-color: #ff8700; font-weight: bold\"> Warning </span><span style=\"color: #ff8700; text-decoration-color: #ff8700\"> NULL Quote:</span><span style=\"color: #ff8700; text-decoration-color: #ff8700; font-weight: bold; text-decoration: underline\"> 1.00mg of C70088!</span>\n",
       "</pre>\n"
      ],
      "text/plain": [
       "\u001b[1;7;38;5;208m Warning \u001b[0m\u001b[38;5;208m NULL Quote:\u001b[0m\u001b[1;4;38;5;208m 1.00mg of C70088!\u001b[0m\n"
      ]
     },
     "metadata": {},
     "output_type": "display_data"
    },
    {
     "data": {
      "text/html": [
       "<pre style=\"white-space:pre;overflow-x:auto;line-height:normal;font-family:Menlo,'DejaVu Sans Mono',consolas,'Courier New',monospace;margin:0px\"><span style=\"background-color: #ff8700; font-weight: bold\"> Warning </span><span style=\"color: #ff8700; text-decoration-color: #ff8700\"> NULL Quote:</span><span style=\"color: #ff8700; text-decoration-color: #ff8700; font-weight: bold; text-decoration: underline\"> 1.00mg of C70610!</span>\n",
       "</pre>\n"
      ],
      "text/plain": [
       "\u001b[1;7;38;5;208m Warning \u001b[0m\u001b[38;5;208m NULL Quote:\u001b[0m\u001b[1;4;38;5;208m 1.00mg of C70610!\u001b[0m\n"
      ]
     },
     "metadata": {},
     "output_type": "display_data"
    },
    {
     "data": {
      "text/html": [
       "<pre style=\"white-space:pre;overflow-x:auto;line-height:normal;font-family:Menlo,'DejaVu Sans Mono',consolas,'Courier New',monospace;margin:0px\"><span style=\"background-color: #ff8700; font-weight: bold\"> Warning </span><span style=\"color: #ff8700; text-decoration-color: #ff8700\"> NULL Quote:</span><span style=\"color: #ff8700; text-decoration-color: #ff8700; font-weight: bold; text-decoration: underline\"> 1.00mg of C70534!</span>\n",
       "</pre>\n"
      ],
      "text/plain": [
       "\u001b[1;7;38;5;208m Warning \u001b[0m\u001b[38;5;208m NULL Quote:\u001b[0m\u001b[1;4;38;5;208m 1.00mg of C70534!\u001b[0m\n"
      ]
     },
     "metadata": {},
     "output_type": "display_data"
    },
    {
     "data": {
      "text/html": [
       "<pre style=\"white-space:pre;overflow-x:auto;line-height:normal;font-family:Menlo,'DejaVu Sans Mono',consolas,'Courier New',monospace;margin:0px\"><span style=\"background-color: #ff8700; font-weight: bold\"> Warning </span><span style=\"color: #ff8700; text-decoration-color: #ff8700\"> NULL Quote:</span><span style=\"color: #ff8700; text-decoration-color: #ff8700; font-weight: bold; text-decoration: underline\"> 1.00mg of C70781!</span>\n",
       "</pre>\n"
      ],
      "text/plain": [
       "\u001b[1;7;38;5;208m Warning \u001b[0m\u001b[38;5;208m NULL Quote:\u001b[0m\u001b[1;4;38;5;208m 1.00mg of C70781!\u001b[0m\n"
      ]
     },
     "metadata": {},
     "output_type": "display_data"
    },
    {
     "data": {
      "text/html": [
       "<pre style=\"white-space:pre;overflow-x:auto;line-height:normal;font-family:Menlo,'DejaVu Sans Mono',consolas,'Courier New',monospace;margin:0px\"><span style=\"background-color: #ff8700; font-weight: bold\"> Warning </span><span style=\"color: #ff8700; text-decoration-color: #ff8700\"> NULL Quote:</span><span style=\"color: #ff8700; text-decoration-color: #ff8700; font-weight: bold; text-decoration: underline\"> 1.00mg of C70265!</span>\n",
       "</pre>\n"
      ],
      "text/plain": [
       "\u001b[1;7;38;5;208m Warning \u001b[0m\u001b[38;5;208m NULL Quote:\u001b[0m\u001b[1;4;38;5;208m 1.00mg of C70265!\u001b[0m\n"
      ]
     },
     "metadata": {},
     "output_type": "display_data"
    },
    {
     "data": {
      "text/html": [
       "<pre style=\"white-space:pre;overflow-x:auto;line-height:normal;font-family:Menlo,'DejaVu Sans Mono',consolas,'Courier New',monospace;margin:0px\"><span style=\"background-color: #ff8700; font-weight: bold\"> Warning </span><span style=\"color: #ff8700; text-decoration-color: #ff8700\"> NULL Quote:</span><span style=\"color: #ff8700; text-decoration-color: #ff8700; font-weight: bold; text-decoration: underline\"> 1.00mg of C69980!</span>\n",
       "</pre>\n"
      ],
      "text/plain": [
       "\u001b[1;7;38;5;208m Warning \u001b[0m\u001b[38;5;208m NULL Quote:\u001b[0m\u001b[1;4;38;5;208m 1.00mg of C69980!\u001b[0m\n"
      ]
     },
     "metadata": {},
     "output_type": "display_data"
    },
    {
     "data": {
      "text/html": [
       "<pre style=\"white-space:pre;overflow-x:auto;line-height:normal;font-family:Menlo,'DejaVu Sans Mono',consolas,'Courier New',monospace;margin:0px\"><span style=\"background-color: #ff8700; font-weight: bold\"> Warning </span><span style=\"color: #ff8700; text-decoration-color: #ff8700\"> NULL Quote:</span><span style=\"color: #ff8700; text-decoration-color: #ff8700; font-weight: bold; text-decoration: underline\"> 1.00mg of C69379!</span>\n",
       "</pre>\n"
      ],
      "text/plain": [
       "\u001b[1;7;38;5;208m Warning \u001b[0m\u001b[38;5;208m NULL Quote:\u001b[0m\u001b[1;4;38;5;208m 1.00mg of C69379!\u001b[0m\n"
      ]
     },
     "metadata": {},
     "output_type": "display_data"
    },
    {
     "data": {
      "text/html": [
       "<pre style=\"white-space:pre;overflow-x:auto;line-height:normal;font-family:Menlo,'DejaVu Sans Mono',consolas,'Courier New',monospace;margin:0px\"><span style=\"background-color: #ff8700; font-weight: bold\"> Warning </span><span style=\"color: #ff8700; text-decoration-color: #ff8700\"> NULL Quote:</span><span style=\"color: #ff8700; text-decoration-color: #ff8700; font-weight: bold; text-decoration: underline\"> 1.00mg of C112725!</span>\n",
       "</pre>\n"
      ],
      "text/plain": [
       "\u001b[1;7;38;5;208m Warning \u001b[0m\u001b[38;5;208m NULL Quote:\u001b[0m\u001b[1;4;38;5;208m 1.00mg of C112725!\u001b[0m\n"
      ]
     },
     "metadata": {},
     "output_type": "display_data"
    },
    {
     "data": {
      "text/html": [
       "<pre style=\"white-space:pre;overflow-x:auto;line-height:normal;font-family:Menlo,'DejaVu Sans Mono',consolas,'Courier New',monospace;margin:0px\"><span style=\"background-color: #ff8700; font-weight: bold\"> Warning </span><span style=\"color: #ff8700; text-decoration-color: #ff8700\"> NULL Quote:</span><span style=\"color: #ff8700; text-decoration-color: #ff8700; font-weight: bold; text-decoration: underline\"> 1.00mg of C112726!</span>\n",
       "</pre>\n"
      ],
      "text/plain": [
       "\u001b[1;7;38;5;208m Warning \u001b[0m\u001b[38;5;208m NULL Quote:\u001b[0m\u001b[1;4;38;5;208m 1.00mg of C112726!\u001b[0m\n"
      ]
     },
     "metadata": {},
     "output_type": "display_data"
    },
    {
     "data": {
      "text/html": [
       "<pre style=\"white-space:pre;overflow-x:auto;line-height:normal;font-family:Menlo,'DejaVu Sans Mono',consolas,'Courier New',monospace;margin:0px\"><span style=\"background-color: #ff8700; font-weight: bold\"> Warning </span><span style=\"color: #ff8700; text-decoration-color: #ff8700\"> NULL Quote:</span><span style=\"color: #ff8700; text-decoration-color: #ff8700; font-weight: bold; text-decoration: underline\"> 1.00mg of C69489!</span>\n",
       "</pre>\n"
      ],
      "text/plain": [
       "\u001b[1;7;38;5;208m Warning \u001b[0m\u001b[38;5;208m NULL Quote:\u001b[0m\u001b[1;4;38;5;208m 1.00mg of C69489!\u001b[0m\n"
      ]
     },
     "metadata": {},
     "output_type": "display_data"
    },
    {
     "data": {
      "text/html": [
       "<pre style=\"white-space:pre;overflow-x:auto;line-height:normal;font-family:Menlo,'DejaVu Sans Mono',consolas,'Courier New',monospace;margin:0px\"><span style=\"background-color: #ff8700; font-weight: bold\"> Warning </span><span style=\"color: #ff8700; text-decoration-color: #ff8700\"> NULL Quote:</span><span style=\"color: #ff8700; text-decoration-color: #ff8700; font-weight: bold; text-decoration: underline\"> 1.00mg of C69490!</span>\n",
       "</pre>\n"
      ],
      "text/plain": [
       "\u001b[1;7;38;5;208m Warning \u001b[0m\u001b[38;5;208m NULL Quote:\u001b[0m\u001b[1;4;38;5;208m 1.00mg of C69490!\u001b[0m\n"
      ]
     },
     "metadata": {},
     "output_type": "display_data"
    },
    {
     "data": {
      "text/html": [
       "<pre style=\"white-space:pre;overflow-x:auto;line-height:normal;font-family:Menlo,'DejaVu Sans Mono',consolas,'Courier New',monospace;margin:0px\"><span style=\"background-color: #ff8700; font-weight: bold\"> Warning </span><span style=\"color: #ff8700; text-decoration-color: #ff8700\"> NULL Quote:</span><span style=\"color: #ff8700; text-decoration-color: #ff8700; font-weight: bold; text-decoration: underline\"> 1.00mg of C133326!</span>\n",
       "</pre>\n"
      ],
      "text/plain": [
       "\u001b[1;7;38;5;208m Warning \u001b[0m\u001b[38;5;208m NULL Quote:\u001b[0m\u001b[1;4;38;5;208m 1.00mg of C133326!\u001b[0m\n"
      ]
     },
     "metadata": {},
     "output_type": "display_data"
    },
    {
     "data": {
      "text/html": [
       "<pre style=\"white-space:pre;overflow-x:auto;line-height:normal;font-family:Menlo,'DejaVu Sans Mono',consolas,'Courier New',monospace;margin:0px\"><span style=\"background-color: #ff8700; font-weight: bold\"> Warning </span><span style=\"color: #ff8700; text-decoration-color: #ff8700\"> NULL Quote:</span><span style=\"color: #ff8700; text-decoration-color: #ff8700; font-weight: bold; text-decoration: underline\"> 1.00mg of C172237!</span>\n",
       "</pre>\n"
      ],
      "text/plain": [
       "\u001b[1;7;38;5;208m Warning \u001b[0m\u001b[38;5;208m NULL Quote:\u001b[0m\u001b[1;4;38;5;208m 1.00mg of C172237!\u001b[0m\n"
      ]
     },
     "metadata": {},
     "output_type": "display_data"
    },
    {
     "data": {
      "text/html": [
       "<pre style=\"white-space:pre;overflow-x:auto;line-height:normal;font-family:Menlo,'DejaVu Sans Mono',consolas,'Courier New',monospace;margin:0px\"><span style=\"background-color: #ff8700; font-weight: bold\"> Warning </span><span style=\"color: #ff8700; text-decoration-color: #ff8700\"> NULL Quote:</span><span style=\"color: #ff8700; text-decoration-color: #ff8700; font-weight: bold; text-decoration: underline\"> 1.00mg of C69385!</span>\n",
       "</pre>\n"
      ],
      "text/plain": [
       "\u001b[1;7;38;5;208m Warning \u001b[0m\u001b[38;5;208m NULL Quote:\u001b[0m\u001b[1;4;38;5;208m 1.00mg of C69385!\u001b[0m\n"
      ]
     },
     "metadata": {},
     "output_type": "display_data"
    },
    {
     "data": {
      "text/html": [
       "<pre style=\"white-space:pre;overflow-x:auto;line-height:normal;font-family:Menlo,'DejaVu Sans Mono',consolas,'Courier New',monospace;margin:0px\"><span style=\"background-color: #ff8700; font-weight: bold\"> Warning </span><span style=\"color: #ff8700; text-decoration-color: #ff8700\"> NULL Quote:</span><span style=\"color: #ff8700; text-decoration-color: #ff8700; font-weight: bold; text-decoration: underline\"> 1.00mg of C125340!</span>\n",
       "</pre>\n"
      ],
      "text/plain": [
       "\u001b[1;7;38;5;208m Warning \u001b[0m\u001b[38;5;208m NULL Quote:\u001b[0m\u001b[1;4;38;5;208m 1.00mg of C125340!\u001b[0m\n"
      ]
     },
     "metadata": {},
     "output_type": "display_data"
    },
    {
     "data": {
      "text/html": [
       "<pre style=\"white-space:pre;overflow-x:auto;line-height:normal;font-family:Menlo,'DejaVu Sans Mono',consolas,'Courier New',monospace;margin:0px\"><span style=\"background-color: #ff8700; font-weight: bold\"> Warning </span><span style=\"color: #ff8700; text-decoration-color: #ff8700\"> NULL Quote:</span><span style=\"color: #ff8700; text-decoration-color: #ff8700; font-weight: bold; text-decoration: underline\"> 1.00mg of C73368!</span>\n",
       "</pre>\n"
      ],
      "text/plain": [
       "\u001b[1;7;38;5;208m Warning \u001b[0m\u001b[38;5;208m NULL Quote:\u001b[0m\u001b[1;4;38;5;208m 1.00mg of C73368!\u001b[0m\n"
      ]
     },
     "metadata": {},
     "output_type": "display_data"
    },
    {
     "data": {
      "text/html": [
       "<pre style=\"white-space:pre;overflow-x:auto;line-height:normal;font-family:Menlo,'DejaVu Sans Mono',consolas,'Courier New',monospace;margin:0px\"><span style=\"background-color: #ff8700; font-weight: bold\"> Warning </span><span style=\"color: #ff8700; text-decoration-color: #ff8700\"> NULL Quote:</span><span style=\"color: #ff8700; text-decoration-color: #ff8700; font-weight: bold; text-decoration: underline\"> 1.00mg of C73369!</span>\n",
       "</pre>\n"
      ],
      "text/plain": [
       "\u001b[1;7;38;5;208m Warning \u001b[0m\u001b[38;5;208m NULL Quote:\u001b[0m\u001b[1;4;38;5;208m 1.00mg of C73369!\u001b[0m\n"
      ]
     },
     "metadata": {},
     "output_type": "display_data"
    },
    {
     "data": {
      "text/html": [
       "<pre style=\"white-space:pre;overflow-x:auto;line-height:normal;font-family:Menlo,'DejaVu Sans Mono',consolas,'Courier New',monospace;margin:0px\"><span style=\"background-color: #d7af00; font-weight: bold\"> DISK </span> Writing <span style=\"color: #d7af00; text-decoration-color: #d7af00\">iter1_scaffolds_Recipe.json</span>...\n",
       "</pre>\n"
      ],
      "text/plain": [
       "\u001b[1;7;38;5;178m DISK \u001b[0m Writing \u001b[38;5;178miter1_scaffolds_Recipe.json\u001b[0m...\n"
      ]
     },
     "metadata": {},
     "output_type": "display_data"
    }
   ],
   "source": [
    "recipes[0].write_json(\"iter1_scaffolds_Recipe.json\")"
   ]
  },
  {
   "cell_type": "code",
   "execution_count": 49,
   "id": "80aeee22-98ce-41ea-9bce-eaa816f8db6a",
   "metadata": {},
   "outputs": [
    {
     "data": {
      "text/html": [
       "<pre style=\"white-space:pre;overflow-x:auto;line-height:normal;font-family:Menlo,'DejaVu Sans Mono',consolas,'Courier New',monospace;margin:0px\"><span style=\"color: #808080; text-decoration-color: #808080\">DEBUG: Querying database for routes</span>\n",
       "</pre>\n"
      ],
      "text/plain": [
       "\u001b[90mDEBUG: Querying database for routes\u001b[0m\n"
      ]
     },
     "metadata": {},
     "output_type": "display_data"
    },
    {
     "data": {
      "text/html": [
       "<pre style=\"white-space:pre;overflow-x:auto;line-height:normal;font-family:Menlo,'DejaVu Sans Mono',consolas,'Courier New',monospace;margin:0px\"><span style=\"color: #808080; text-decoration-color: #808080\">DEBUG: Assembling route dictionary</span>\n",
       "</pre>\n"
      ],
      "text/plain": [
       "\u001b[90mDEBUG: Assembling route dictionary\u001b[0m\n"
      ]
     },
     "metadata": {},
     "output_type": "display_data"
    },
    {
     "data": {
      "text/html": [
       "<pre style=\"white-space:pre;overflow-x:auto;line-height:normal;font-family:Menlo,'DejaVu Sans Mono',consolas,'Courier New',monospace;margin:0px\"><span style=\"color: #808080; text-decoration-color: #808080\">DEBUG: Checking availability</span>\n",
       "</pre>\n"
      ],
      "text/plain": [
       "\u001b[90mDEBUG: Checking availability\u001b[0m\n"
      ]
     },
     "metadata": {},
     "output_type": "display_data"
    },
    {
     "data": {
      "application/vnd.jupyter.widget-view+json": {
       "model_id": "337e6807cc1b40e28b512b5f525b925b",
       "version_major": 2,
       "version_minor": 0
      },
      "text/plain": [
       "Output()"
      ]
     },
     "metadata": {},
     "output_type": "display_data"
    },
    {
     "data": {
      "text/html": [
       "<pre style=\"white-space:pre;overflow-x:auto;line-height:normal;font-family:Menlo,'DejaVu Sans Mono',consolas,'Courier New',monospace;margin:0px\"></pre>\n"
      ],
      "text/plain": []
     },
     "metadata": {},
     "output_type": "display_data"
    },
    {
     "data": {
      "text/html": [
       "<pre style=\"white-space:pre;overflow-x:auto;line-height:normal;font-family:Menlo,'DejaVu Sans Mono',consolas,'Courier New',monospace;margin:0px\"><span style=\"background-color: #ff8700; font-weight: bold\"> Warning </span><span style=\"color: #ff8700; text-decoration-color: #ff8700\"> Removing duplicates from CAR DataFrame!</span>\n",
       "</pre>\n"
      ],
      "text/plain": [
       "\u001b[1;7;38;5;208m Warning \u001b[0m\u001b[38;5;208m Removing duplicates from CAR DataFrame!\u001b[0m\n"
      ]
     },
     "metadata": {},
     "output_type": "display_data"
    },
    {
     "data": {
      "text/html": [
       "<pre style=\"white-space:pre;overflow-x:auto;line-height:normal;font-family:Menlo,'DejaVu Sans Mono',consolas,'Courier New',monospace;margin:0px\"><span style=\"background-color: #d7af00; font-weight: bold\"> DISK </span> Writing <span style=\"color: #d7af00; text-decoration-color: #d7af00\">/opt/xchem-fragalysis-2/maxwin/RdRp_FFF/hippo/iter1_scaffolds_CAR_1steps.csv</span>...\n",
       "</pre>\n"
      ],
      "text/plain": [
       "\u001b[1;7;38;5;178m DISK \u001b[0m Writing \u001b[38;5;178m/opt/xchem-fragalysis-2/maxwin/RdRp_FFF/hippo/iter1_scaffolds_CAR_1steps.csv\u001b[0m...\n"
      ]
     },
     "metadata": {},
     "output_type": "display_data"
    },
    {
     "data": {
      "text/html": [
       "<pre style=\"white-space:pre;overflow-x:auto;line-height:normal;font-family:Menlo,'DejaVu Sans Mono',consolas,'Courier New',monospace;margin:0px\"><span style=\"background-color: #d7af00; font-weight: bold\"> DISK </span> Writing <span style=\"color: #d7af00; text-decoration-color: #d7af00\">/opt/xchem-fragalysis-2/maxwin/RdRp_FFF/hippo/iter1_scaffolds_CAR.csv</span>...\n",
       "</pre>\n"
      ],
      "text/plain": [
       "\u001b[1;7;38;5;178m DISK \u001b[0m Writing \u001b[38;5;178m/opt/xchem-fragalysis-2/maxwin/RdRp_FFF/hippo/iter1_scaffolds_CAR.csv\u001b[0m...\n"
      ]
     },
     "metadata": {},
     "output_type": "display_data"
    },
    {
     "data": {
      "text/html": [
       "<div>\n",
       "<style scoped>\n",
       "    .dataframe tbody tr th:only-of-type {\n",
       "        vertical-align: middle;\n",
       "    }\n",
       "\n",
       "    .dataframe tbody tr th {\n",
       "        vertical-align: top;\n",
       "    }\n",
       "\n",
       "    .dataframe thead th {\n",
       "        text-align: right;\n",
       "    }\n",
       "</style>\n",
       "<table border=\"1\" class=\"dataframe\">\n",
       "  <thead>\n",
       "    <tr style=\"text-align: right;\">\n",
       "      <th></th>\n",
       "      <th>target-names</th>\n",
       "      <th>no-steps</th>\n",
       "      <th>concentration-required-mM</th>\n",
       "      <th>amount-required-uL</th>\n",
       "      <th>batch-tag</th>\n",
       "      <th>reactant-1-1</th>\n",
       "      <th>reactant-2-1</th>\n",
       "      <th>reaction-product-smiles-1</th>\n",
       "      <th>reaction-name-1</th>\n",
       "      <th>reaction-recipe-1</th>\n",
       "      <th>reaction-groupby-column-1</th>\n",
       "    </tr>\n",
       "  </thead>\n",
       "  <tbody>\n",
       "    <tr>\n",
       "      <th>0</th>\n",
       "      <td>C56548</td>\n",
       "      <td>1</td>\n",
       "      <td>None</td>\n",
       "      <td>None</td>\n",
       "      <td>None</td>\n",
       "      <td>CC(O)CN</td>\n",
       "      <td>Cn1nc(N)cc1C1CC1</td>\n",
       "      <td>CC(O)CNC(=O)Nc1cc(C2CC2)n(C)n1</td>\n",
       "      <td>Formation_of_urea_from_two_amines</td>\n",
       "      <td>None</td>\n",
       "      <td>None</td>\n",
       "    </tr>\n",
       "    <tr>\n",
       "      <th>1</th>\n",
       "      <td>C66289</td>\n",
       "      <td>1</td>\n",
       "      <td>None</td>\n",
       "      <td>None</td>\n",
       "      <td>None</td>\n",
       "      <td>COc1ccc2cc(CN)[nH]c2c1N</td>\n",
       "      <td>CC(=O)O</td>\n",
       "      <td>COc1ccc2cc(CN)[nH]c2c1NC(C)=O</td>\n",
       "      <td>Amidation</td>\n",
       "      <td>None</td>\n",
       "      <td>None</td>\n",
       "    </tr>\n",
       "    <tr>\n",
       "      <th>3</th>\n",
       "      <td>C34701</td>\n",
       "      <td>1</td>\n",
       "      <td>None</td>\n",
       "      <td>None</td>\n",
       "      <td>None</td>\n",
       "      <td>CC1CO1</td>\n",
       "      <td>NC(=O)Nc1cccc2cc[nH]c12</td>\n",
       "      <td>CC(O)CNC(=O)Nc1cccc2cc[nH]c12</td>\n",
       "      <td>Epoxide_+_amine_coupling</td>\n",
       "      <td>None</td>\n",
       "      <td>None</td>\n",
       "    </tr>\n",
       "    <tr>\n",
       "      <th>7</th>\n",
       "      <td>C35145</td>\n",
       "      <td>1</td>\n",
       "      <td>None</td>\n",
       "      <td>None</td>\n",
       "      <td>None</td>\n",
       "      <td>CC(O)CN</td>\n",
       "      <td>CCCn1ccc2ccc(N)cc21</td>\n",
       "      <td>CCCn1ccc2ccc(NC(=O)NCC(C)O)cc21</td>\n",
       "      <td>Formation_of_urea_from_two_amines</td>\n",
       "      <td>None</td>\n",
       "      <td>None</td>\n",
       "    </tr>\n",
       "    <tr>\n",
       "      <th>8</th>\n",
       "      <td>C55149</td>\n",
       "      <td>1</td>\n",
       "      <td>None</td>\n",
       "      <td>None</td>\n",
       "      <td>None</td>\n",
       "      <td>CC(O)CN</td>\n",
       "      <td>Cc1cc(N)nn1-c1ccccc1</td>\n",
       "      <td>Cc1cc(NC(=O)NCC(C)O)nn1-c1ccccc1</td>\n",
       "      <td>Formation_of_urea_from_two_amines</td>\n",
       "      <td>None</td>\n",
       "      <td>None</td>\n",
       "    </tr>\n",
       "    <tr>\n",
       "      <th>...</th>\n",
       "      <td>...</td>\n",
       "      <td>...</td>\n",
       "      <td>...</td>\n",
       "      <td>...</td>\n",
       "      <td>...</td>\n",
       "      <td>...</td>\n",
       "      <td>...</td>\n",
       "      <td>...</td>\n",
       "      <td>...</td>\n",
       "      <td>...</td>\n",
       "      <td>...</td>\n",
       "    </tr>\n",
       "    <tr>\n",
       "      <th>167</th>\n",
       "      <td>C46539</td>\n",
       "      <td>1</td>\n",
       "      <td>None</td>\n",
       "      <td>None</td>\n",
       "      <td>None</td>\n",
       "      <td>Nc1cccc2c1OCCC2</td>\n",
       "      <td>NC(CCO)C(F)(F)F</td>\n",
       "      <td>O=C(Nc1cccc2c1OCCC2)NC(CCO)C(F)(F)F</td>\n",
       "      <td>Formation_of_urea_from_two_amines</td>\n",
       "      <td>None</td>\n",
       "      <td>None</td>\n",
       "    </tr>\n",
       "    <tr>\n",
       "      <th>168</th>\n",
       "      <td>C34650</td>\n",
       "      <td>1</td>\n",
       "      <td>None</td>\n",
       "      <td>None</td>\n",
       "      <td>None</td>\n",
       "      <td>Nc1ccc2ccoc2c1</td>\n",
       "      <td>O=Cc1ccccn1</td>\n",
       "      <td>c1ccc(CNc2ccc3ccoc3c2)nc1</td>\n",
       "      <td>Reductive_amination</td>\n",
       "      <td>None</td>\n",
       "      <td>None</td>\n",
       "    </tr>\n",
       "    <tr>\n",
       "      <th>169</th>\n",
       "      <td>C37461</td>\n",
       "      <td>1</td>\n",
       "      <td>None</td>\n",
       "      <td>None</td>\n",
       "      <td>None</td>\n",
       "      <td>O=C(O)c1cc2ccccc2o1</td>\n",
       "      <td>OCC#CCSc1nnc(-c2ccncc2)o1</td>\n",
       "      <td>O=C(OCC#CCSc1nnc(-c2ccncc2)o1)c1cc2ccccc2o1</td>\n",
       "      <td>Steglich_esterification</td>\n",
       "      <td>None</td>\n",
       "      <td>None</td>\n",
       "    </tr>\n",
       "    <tr>\n",
       "      <th>172</th>\n",
       "      <td>C54862</td>\n",
       "      <td>1</td>\n",
       "      <td>None</td>\n",
       "      <td>None</td>\n",
       "      <td>None</td>\n",
       "      <td>CC(O)CN</td>\n",
       "      <td>CCC(C)n1ncc(N)c1C</td>\n",
       "      <td>CCC(C)n1ncc(NC(=O)NCC(C)O)c1C</td>\n",
       "      <td>Formation_of_urea_from_two_amines</td>\n",
       "      <td>None</td>\n",
       "      <td>None</td>\n",
       "    </tr>\n",
       "    <tr>\n",
       "      <th>176</th>\n",
       "      <td>C13884</td>\n",
       "      <td>1</td>\n",
       "      <td>None</td>\n",
       "      <td>None</td>\n",
       "      <td>None</td>\n",
       "      <td>O=C(O)c1cnc(-c2ccccn2)s1</td>\n",
       "      <td>CC(C)CC(N)C(F)(F)F</td>\n",
       "      <td>CC(C)CC(NC(=O)c1cnc(-c2ccccn2)s1)C(F)(F)F</td>\n",
       "      <td>Amidation</td>\n",
       "      <td>None</td>\n",
       "      <td>None</td>\n",
       "    </tr>\n",
       "  </tbody>\n",
       "</table>\n",
       "<p>75 rows × 11 columns</p>\n",
       "</div>"
      ],
      "text/plain": [
       "    target-names  no-steps concentration-required-mM amount-required-uL  \\\n",
       "0         C56548         1                      None               None   \n",
       "1         C66289         1                      None               None   \n",
       "3         C34701         1                      None               None   \n",
       "7         C35145         1                      None               None   \n",
       "8         C55149         1                      None               None   \n",
       "..           ...       ...                       ...                ...   \n",
       "167       C46539         1                      None               None   \n",
       "168       C34650         1                      None               None   \n",
       "169       C37461         1                      None               None   \n",
       "172       C54862         1                      None               None   \n",
       "176       C13884         1                      None               None   \n",
       "\n",
       "    batch-tag              reactant-1-1               reactant-2-1  \\\n",
       "0        None                   CC(O)CN           Cn1nc(N)cc1C1CC1   \n",
       "1        None   COc1ccc2cc(CN)[nH]c2c1N                    CC(=O)O   \n",
       "3        None                    CC1CO1    NC(=O)Nc1cccc2cc[nH]c12   \n",
       "7        None                   CC(O)CN        CCCn1ccc2ccc(N)cc21   \n",
       "8        None                   CC(O)CN       Cc1cc(N)nn1-c1ccccc1   \n",
       "..        ...                       ...                        ...   \n",
       "167      None           Nc1cccc2c1OCCC2            NC(CCO)C(F)(F)F   \n",
       "168      None            Nc1ccc2ccoc2c1                O=Cc1ccccn1   \n",
       "169      None       O=C(O)c1cc2ccccc2o1  OCC#CCSc1nnc(-c2ccncc2)o1   \n",
       "172      None                   CC(O)CN          CCC(C)n1ncc(N)c1C   \n",
       "176      None  O=C(O)c1cnc(-c2ccccn2)s1         CC(C)CC(N)C(F)(F)F   \n",
       "\n",
       "                       reaction-product-smiles-1  \\\n",
       "0                 CC(O)CNC(=O)Nc1cc(C2CC2)n(C)n1   \n",
       "1                  COc1ccc2cc(CN)[nH]c2c1NC(C)=O   \n",
       "3                  CC(O)CNC(=O)Nc1cccc2cc[nH]c12   \n",
       "7                CCCn1ccc2ccc(NC(=O)NCC(C)O)cc21   \n",
       "8               Cc1cc(NC(=O)NCC(C)O)nn1-c1ccccc1   \n",
       "..                                           ...   \n",
       "167          O=C(Nc1cccc2c1OCCC2)NC(CCO)C(F)(F)F   \n",
       "168                    c1ccc(CNc2ccc3ccoc3c2)nc1   \n",
       "169  O=C(OCC#CCSc1nnc(-c2ccncc2)o1)c1cc2ccccc2o1   \n",
       "172                CCC(C)n1ncc(NC(=O)NCC(C)O)c1C   \n",
       "176    CC(C)CC(NC(=O)c1cnc(-c2ccccn2)s1)C(F)(F)F   \n",
       "\n",
       "                       reaction-name-1 reaction-recipe-1  \\\n",
       "0    Formation_of_urea_from_two_amines              None   \n",
       "1                            Amidation              None   \n",
       "3             Epoxide_+_amine_coupling              None   \n",
       "7    Formation_of_urea_from_two_amines              None   \n",
       "8    Formation_of_urea_from_two_amines              None   \n",
       "..                                 ...               ...   \n",
       "167  Formation_of_urea_from_two_amines              None   \n",
       "168                Reductive_amination              None   \n",
       "169            Steglich_esterification              None   \n",
       "172  Formation_of_urea_from_two_amines              None   \n",
       "176                          Amidation              None   \n",
       "\n",
       "    reaction-groupby-column-1  \n",
       "0                        None  \n",
       "1                        None  \n",
       "3                        None  \n",
       "7                        None  \n",
       "8                        None  \n",
       "..                        ...  \n",
       "167                      None  \n",
       "168                      None  \n",
       "169                      None  \n",
       "172                      None  \n",
       "176                      None  \n",
       "\n",
       "[75 rows x 11 columns]"
      ]
     },
     "execution_count": 49,
     "metadata": {},
     "output_type": "execute_result"
    }
   ],
   "source": [
    "recipes[0].write_CAR_csv(\"iter1_scaffolds_CAR.csv\")"
   ]
  },
  {
   "cell_type": "code",
   "execution_count": null,
   "id": "01c44c88-e776-44d1-bf0d-9f02aaf7de5b",
   "metadata": {},
   "outputs": [],
   "source": []
  }
 ],
 "metadata": {
  "kernelspec": {
   "display_name": "Python 3 (ipykernel)",
   "language": "python",
   "name": "python3"
  },
  "language_info": {
   "codemirror_mode": {
    "name": "ipython",
    "version": 3
   },
   "file_extension": ".py",
   "mimetype": "text/x-python",
   "name": "python",
   "nbconvert_exporter": "python",
   "pygments_lexer": "ipython3",
   "version": "3.12.8"
  }
 },
 "nbformat": 4,
 "nbformat_minor": 5
}
