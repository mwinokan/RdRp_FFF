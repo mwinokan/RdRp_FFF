{
 "cells": [
  {
   "cell_type": "code",
   "execution_count": 1,
   "id": "da84d9ec-d5ea-4917-8673-7ffdd2182739",
   "metadata": {},
   "outputs": [],
   "source": [
    "%load_ext autoreload\n",
    "%autoreload 2\n",
    "import hippo\n",
    "from rich import print\n",
    "import pandas as pd\n",
    "from pathlib import Path\n",
    "import mrich"
   ]
  },
  {
   "cell_type": "code",
   "execution_count": 2,
   "id": "35c60160-f323-409a-8d86-f5534174d000",
   "metadata": {},
   "outputs": [
    {
     "data": {
      "text/html": [
       "<pre style=\"white-space:pre;overflow-x:auto;line-height:normal;font-family:Menlo,'DejaVu Sans Mono',consolas,'Courier New',monospace;margin:0px\"><span style=\"font-weight: bold\"> Creating HIPPO animal</span>\n",
       "</pre>\n"
      ],
      "text/plain": [
       "\u001b[1m Creating HIPPO animal\u001b[0m\n"
      ]
     },
     "metadata": {},
     "output_type": "display_data"
    },
    {
     "data": {
      "text/html": [
       "<pre style=\"white-space:pre;overflow-x:auto;line-height:normal;font-family:Menlo,'DejaVu Sans Mono',consolas,'Courier New',monospace;margin:0px\"><span style=\"color: #008080; text-decoration-color: #008080; font-weight: bold\">name</span> = <span style=\"color: #00d7af; text-decoration-color: #00d7af\">RdRp_FFF</span>\n",
       "</pre>\n"
      ],
      "text/plain": [
       "\u001b[1;36mname\u001b[0m = \u001b[38;5;43mRdRp_FFF\u001b[0m\n"
      ]
     },
     "metadata": {},
     "output_type": "display_data"
    },
    {
     "data": {
      "text/html": [
       "<pre style=\"white-space:pre;overflow-x:auto;line-height:normal;font-family:Menlo,'DejaVu Sans Mono',consolas,'Courier New',monospace;margin:0px\"><span style=\"color: #008080; text-decoration-color: #008080; font-weight: bold\">db_path</span> = <span style=\"color: #d7af00; text-decoration-color: #d7af00\">../../BulkDock/TARGETS/Flavi_NS5_RdRp/Flavi_NS5_RdRp.sqlite</span>\n",
       "</pre>\n"
      ],
      "text/plain": [
       "\u001b[1;36mdb_path\u001b[0m = \u001b[38;5;178m../../BulkDock/TARGETS/Flavi_NS5_RdRp/Flavi_NS5_RdRp.sqlite\u001b[0m\n"
      ]
     },
     "metadata": {},
     "output_type": "display_data"
    },
    {
     "data": {
      "text/html": [
       "<pre style=\"white-space:pre;overflow-x:auto;line-height:normal;font-family:Menlo,'DejaVu Sans Mono',consolas,'Courier New',monospace;margin:0px\"><span style=\"color: #808080; text-decoration-color: #808080\">DEBUG: hippo.Database.__init__()</span>\n",
       "</pre>\n"
      ],
      "text/plain": [
       "\u001b[90mDEBUG: hippo.Database.__init__()\u001b[0m\n"
      ]
     },
     "metadata": {},
     "output_type": "display_data"
    },
    {
     "data": {
      "text/html": [
       "<pre style=\"white-space:pre;overflow-x:auto;line-height:normal;font-family:Menlo,'DejaVu Sans Mono',consolas,'Courier New',monospace;margin:0px\"><span style=\"color: #808080; text-decoration-color: #808080\">DEBUG: Database.path = ../../BulkDock/TARGETS/Flavi_NS5_RdRp/Flavi_NS5_RdRp.sqlite</span>\n",
       "</pre>\n"
      ],
      "text/plain": [
       "\u001b[90mDEBUG: Database.path = ../../BulkDock/TARGETS/Flavi_NS5_RdRp/Flavi_NS5_RdRp.sqlite\u001b[0m\n"
      ]
     },
     "metadata": {},
     "output_type": "display_data"
    },
    {
     "data": {
      "text/html": [
       "<pre style=\"white-space:pre;overflow-x:auto;line-height:normal;font-family:Menlo,'DejaVu Sans Mono',consolas,'Courier New',monospace;margin:0px\"><span style=\"color: #808080; text-decoration-color: #808080\">DEBUG: hippo.Database.connect()</span>\n",
       "</pre>\n"
      ],
      "text/plain": [
       "\u001b[90mDEBUG: hippo.Database.connect()\u001b[0m\n"
      ]
     },
     "metadata": {},
     "output_type": "display_data"
    },
    {
     "data": {
      "text/html": [
       "<pre style=\"white-space:pre;overflow-x:auto;line-height:normal;font-family:Menlo,'DejaVu Sans Mono',consolas,'Courier New',monospace;margin:0px\"><span style=\"color: #808080; text-decoration-color: #808080\">DEBUG: sqlite3.version='2.6.0'</span>\n",
       "</pre>\n"
      ],
      "text/plain": [
       "\u001b[90mDEBUG: sqlite3.version='2.6.0'\u001b[0m\n"
      ]
     },
     "metadata": {},
     "output_type": "display_data"
    },
    {
     "data": {
      "text/html": [
       "<pre style=\"white-space:pre;overflow-x:auto;line-height:normal;font-family:Menlo,'DejaVu Sans Mono',consolas,'Courier New',monospace;margin:0px\"><span style=\"background-color: #008000; font-weight: bold\"> Success </span><span style=\"color: #008000; text-decoration-color: #008000; font-weight: bold\"> Database connected @</span><span style=\"color: #d7af00; text-decoration-color: #d7af00; font-weight: bold\"> ../../BulkDock/TARGETS/Flavi_NS5_RdRp/Flavi_NS5_RdRp.sqlite!</span>\n",
       "</pre>\n"
      ],
      "text/plain": [
       "\u001b[1;7;32m Success \u001b[0m\u001b[1;32m Database connected @\u001b[0m\u001b[1;38;5;178m ../../BulkDock/TARGETS/Flavi_NS5_RdRp/Flavi_NS5_RdRp.sqlite!\u001b[0m\n"
      ]
     },
     "metadata": {},
     "output_type": "display_data"
    },
    {
     "data": {
      "text/html": [
       "<pre style=\"white-space:pre;overflow-x:auto;line-height:normal;font-family:Menlo,'DejaVu Sans Mono',consolas,'Courier New',monospace;margin:0px\"><span style=\"background-color: #008000; font-weight: bold\"> Success </span><span style=\"color: #008000; text-decoration-color: #008000; font-weight: bold\"> Initialised animal</span><span style=\"color: #008080; text-decoration-color: #008080; font-weight: bold\"> HIPPO(\"RdRp_FFF\")!</span>\n",
       "</pre>\n"
      ],
      "text/plain": [
       "\u001b[1;7;32m Success \u001b[0m\u001b[1;32m Initialised animal\u001b[0m\u001b[1;36m HIPPO(\"RdRp_FFF\")!\u001b[0m\n"
      ]
     },
     "metadata": {},
     "output_type": "display_data"
    }
   ],
   "source": [
    "animal = hippo.HIPPO(\"RdRp_FFF\", \"../../BulkDock/TARGETS/Flavi_NS5_RdRp/Flavi_NS5_RdRp.sqlite\")\n",
    "# animal = hippo.HIPPO(\"RdRp_FFF\", \"bulkdock_snapshot.sqlite\", copy_from=\"../../BulkDock/TARGETS/Flavi_NS5_RdRp/Flavi_NS5_RdRp.sqlite\", overwrite_existing=True)"
   ]
  },
  {
   "cell_type": "code",
   "execution_count": 3,
   "id": "653f4559-8162-4b8d-8cc5-3d6ec2a6d8c4",
   "metadata": {},
   "outputs": [],
   "source": [
    "asap_ids = {\n",
    "    \"ASAP-0037678-001\":\"CCS(=O)(=O)NC[C@H]1CC(=O)N(c2ccc(Cl)cc2)C1 |&1:7|\",\n",
    "    \"ASAP-0037700-001\":\"CC(C)(CO)NC(=O)c1csc(-c2ccsc2)n1\",\n",
    "    \"ASAP-0037740-001\":\"C[C@H](O)CNC(=O)Nc1cccc2cccnc12 |&1:1|\",\n",
    "    \"ASAP-0037722-001\":\"CCS(=O)(=O)NCc1nc2cc(Cl)ccc2[nH]1\",\n",
    "}"
   ]
  },
  {
   "cell_type": "code",
   "execution_count": 5,
   "id": "f04eb588-f7b6-4c8c-9d2e-a7ff0a35be74",
   "metadata": {},
   "outputs": [
    {
     "data": {
      "text/html": [
       "<pre style=\"white-space:pre;overflow-x:auto;line-height:normal;font-family:Menlo,'DejaVu Sans Mono',consolas,'Courier New',monospace;margin:0px\">ASAP-<span style=\"color: #008080; text-decoration-color: #008080; font-weight: bold\">0037678</span>-<span style=\"color: #008080; text-decoration-color: #008080; font-weight: bold\">001</span> <span style=\"font-weight: bold; text-decoration: underline\">C3075 </span><span style=\"color: #008000; text-decoration-color: #008000; font-weight: bold; text-decoration: underline\">\"ASAP-0037678-001\"</span>\n",
       "</pre>\n"
      ],
      "text/plain": [
       "ASAP-\u001b[1;36m0037678\u001b[0m-\u001b[1;36m001\u001b[0m \u001b[1;4mC3075 \u001b[0m\u001b[1;4;32m\"ASAP-0037678-001\"\u001b[0m\n"
      ]
     },
     "metadata": {},
     "output_type": "display_data"
    },
    {
     "data": {
      "text/html": [
       "<pre style=\"white-space:pre;overflow-x:auto;line-height:normal;font-family:Menlo,'DejaVu Sans Mono',consolas,'Courier New',monospace;margin:0px\">ASAP-<span style=\"color: #008080; text-decoration-color: #008080; font-weight: bold\">0037700</span>-<span style=\"color: #008080; text-decoration-color: #008080; font-weight: bold\">001</span> <span style=\"font-weight: bold; text-decoration: underline\">C1443 </span><span style=\"color: #008000; text-decoration-color: #008000; font-weight: bold; text-decoration: underline\">\"ASAP-0037700-001\"</span>\n",
       "</pre>\n"
      ],
      "text/plain": [
       "ASAP-\u001b[1;36m0037700\u001b[0m-\u001b[1;36m001\u001b[0m \u001b[1;4mC1443 \u001b[0m\u001b[1;4;32m\"ASAP-0037700-001\"\u001b[0m\n"
      ]
     },
     "metadata": {},
     "output_type": "display_data"
    },
    {
     "data": {
      "text/html": [
       "<pre style=\"white-space:pre;overflow-x:auto;line-height:normal;font-family:Menlo,'DejaVu Sans Mono',consolas,'Courier New',monospace;margin:0px\">ASAP-<span style=\"color: #008080; text-decoration-color: #008080; font-weight: bold\">0037740</span>-<span style=\"color: #008080; text-decoration-color: #008080; font-weight: bold\">001</span> <span style=\"font-weight: bold; text-decoration: underline\">C33434 </span><span style=\"color: #008000; text-decoration-color: #008000; font-weight: bold; text-decoration: underline\">\"ASAP-0037740-001\"</span>\n",
       "</pre>\n"
      ],
      "text/plain": [
       "ASAP-\u001b[1;36m0037740\u001b[0m-\u001b[1;36m001\u001b[0m \u001b[1;4mC33434 \u001b[0m\u001b[1;4;32m\"ASAP-0037740-001\"\u001b[0m\n"
      ]
     },
     "metadata": {},
     "output_type": "display_data"
    },
    {
     "data": {
      "text/html": [
       "<pre style=\"white-space:pre;overflow-x:auto;line-height:normal;font-family:Menlo,'DejaVu Sans Mono',consolas,'Courier New',monospace;margin:0px\">ASAP-<span style=\"color: #008080; text-decoration-color: #008080; font-weight: bold\">0037722</span>-<span style=\"color: #008080; text-decoration-color: #008080; font-weight: bold\">001</span> <span style=\"font-weight: bold; text-decoration: underline\">C7755 </span><span style=\"color: #008000; text-decoration-color: #008000; font-weight: bold; text-decoration: underline\">\"ASAP-0037722-001\"</span>\n",
       "</pre>\n"
      ],
      "text/plain": [
       "ASAP-\u001b[1;36m0037722\u001b[0m-\u001b[1;36m001\u001b[0m \u001b[1;4mC7755 \u001b[0m\u001b[1;4;32m\"ASAP-0037722-001\"\u001b[0m\n"
      ]
     },
     "metadata": {},
     "output_type": "display_data"
    }
   ],
   "source": [
    "for asap_id, smiles in asap_ids.items():\n",
    "    comp = animal.compounds(smiles=smiles)\n",
    "    comp.alias = asap_id\n",
    "    print(asap_id, comp)"
   ]
  },
  {
   "cell_type": "code",
   "execution_count": 13,
   "id": "59cd8481-27eb-42a0-9f52-761b12609add",
   "metadata": {},
   "outputs": [
    {
     "data": {
      "text/html": [
       "<pre style=\"white-space:pre;overflow-x:auto;line-height:normal;font-family:Menlo,'DejaVu Sans Mono',consolas,'Courier New',monospace;margin:0px\"><span style=\"color: #00ff00; text-decoration-color: #00ff00\">────────────────────────────────────────────────────── </span>C3075<span style=\"color: #00ff00; text-decoration-color: #00ff00\"> ──────────────────────────────────────────────────────</span>\n",
       "</pre>\n"
      ],
      "text/plain": [
       "\u001b[92m────────────────────────────────────────────────────── \u001b[0mC3075\u001b[92m ──────────────────────────────────────────────────────\u001b[0m\n"
      ]
     },
     "metadata": {},
     "output_type": "display_data"
    },
    {
     "data": {
      "text/html": [
       "<pre style=\"white-space:pre;overflow-x:auto;line-height:normal;font-family:Menlo,'DejaVu Sans Mono',consolas,'Courier New',monospace;margin:0px\">╭─────────────────────────────────────────────────────────────────────────────────────────────────────────────────╮\n",
       "│ <span style=\"font-weight: bold; text-decoration: underline\">C3075-&gt;P1082: \"FOZSYKGVMKDKBV-SNVBAGLBSA-N\"</span>                                                                     │\n",
       "╰─────────────────────────────────────────────────────────────────────────────────────────────────────────────────╯\n",
       "</pre>\n"
      ],
      "text/plain": [
       "╭─────────────────────────────────────────────────────────────────────────────────────────────────────────────────╮\n",
       "│ \u001b[1;4mC3075->P1082: \"FOZSYKGVMKDKBV-SNVBAGLBSA-N\"\u001b[0m                                                                     │\n",
       "╰─────────────────────────────────────────────────────────────────────────────────────────────────────────────────╯\n"
      ]
     },
     "metadata": {},
     "output_type": "display_data"
    },
    {
     "data": {
      "text/html": [
       "<pre style=\"white-space:pre;overflow-x:auto;line-height:normal;font-family:Menlo,'DejaVu Sans Mono',consolas,'Courier New',monospace;margin:0px\"><span style=\"font-weight: bold; text-decoration: underline\">C14-&gt;P17: </span><span style=\"color: #008000; text-decoration-color: #008000; font-weight: bold; text-decoration: underline\">\"d0174a\"</span> <span style=\"font-weight: bold; text-decoration: underline\">[</span><span style=\"color: #008000; text-decoration-color: #008000; font-weight: bold; text-decoration: underline\">'[Other] upload_1 2024-11-21'</span><span style=\"font-weight: bold; text-decoration: underline\">, </span><span style=\"color: #008000; text-decoration-color: #008000; font-weight: bold; text-decoration: underline\">'[Other] Thumb Site 2 (P2)'</span><span style=\"font-weight: bold; text-decoration: underline\">, </span><span style=\"color: #008000; text-decoration-color: #008000; font-weight: bold; text-decoration: underline\">'[Other] DENV-2'</span><span style=\"font-weight: bold; text-decoration: underline\">, </span><span style=\"color: #008000; text-decoration-color: #008000; font-weight: bold; text-decoration: underline\">'[Other] upload_1</span>\n",
       "<span style=\"color: #008000; text-decoration-color: #008000; font-weight: bold; text-decoration: underline\">2024-11-13'</span><span style=\"font-weight: bold; text-decoration: underline\">, </span><span style=\"color: #008000; text-decoration-color: #008000; font-weight: bold; text-decoration: underline\">'hits'</span><span style=\"font-weight: bold; text-decoration: underline\">, </span><span style=\"color: #008000; text-decoration-color: #008000; font-weight: bold; text-decoration: underline\">'[Other] fragment screen'</span><span style=\"font-weight: bold; text-decoration: underline\">, </span><span style=\"color: #008000; text-decoration-color: #008000; font-weight: bold; text-decoration: underline\">'Pose'</span><span style=\"font-weight: bold; text-decoration: underline\">]</span>\n",
       "</pre>\n"
      ],
      "text/plain": [
       "\u001b[1;4mC14->P17: \u001b[0m\u001b[1;4;32m\"d0174a\"\u001b[0m \u001b[1;4m[\u001b[0m\u001b[1;4;32m'\u001b[0m\u001b[1;4;32m[\u001b[0m\u001b[1;4;32mOther\u001b[0m\u001b[1;4;32m]\u001b[0m\u001b[1;4;32m upload_1 2024-11-21'\u001b[0m\u001b[1;4m, \u001b[0m\u001b[1;4;32m'\u001b[0m\u001b[1;4;32m[\u001b[0m\u001b[1;4;32mOther\u001b[0m\u001b[1;4;32m]\u001b[0m\u001b[1;4;32m Thumb Site 2 \u001b[0m\u001b[1;4;32m(\u001b[0m\u001b[1;4;32mP2\u001b[0m\u001b[1;4;32m)\u001b[0m\u001b[1;4;32m'\u001b[0m\u001b[1;4m, \u001b[0m\u001b[1;4;32m'\u001b[0m\u001b[1;4;32m[\u001b[0m\u001b[1;4;32mOther\u001b[0m\u001b[1;4;32m]\u001b[0m\u001b[1;4;32m DENV-2'\u001b[0m\u001b[1;4m, \u001b[0m\u001b[1;4;32m'\u001b[0m\u001b[1;4;32m[\u001b[0m\u001b[1;4;32mOther\u001b[0m\u001b[1;4;32m]\u001b[0m\u001b[1;4;32m upload_1\u001b[0m\n",
       "\u001b[1;4;32m2024-11-13'\u001b[0m\u001b[1;4m, \u001b[0m\u001b[1;4;32m'hits'\u001b[0m\u001b[1;4m, \u001b[0m\u001b[1;4;32m'\u001b[0m\u001b[1;4;32m[\u001b[0m\u001b[1;4;32mOther\u001b[0m\u001b[1;4;32m]\u001b[0m\u001b[1;4;32m fragment screen'\u001b[0m\u001b[1;4m, \u001b[0m\u001b[1;4;32m'Pose'\u001b[0m\u001b[1;4m]\u001b[0m\n"
      ]
     },
     "metadata": {},
     "output_type": "display_data"
    },
    {
     "data": {
      "text/html": [
       "<pre style=\"white-space:pre;overflow-x:auto;line-height:normal;font-family:Menlo,'DejaVu Sans Mono',consolas,'Courier New',monospace;margin:0px\"><span style=\"font-weight: bold; text-decoration: underline\">C38-&gt;P45: </span><span style=\"color: #008000; text-decoration-color: #008000; font-weight: bold; text-decoration: underline\">\"d0566a\"</span> <span style=\"font-weight: bold; text-decoration: underline\">[</span><span style=\"color: #008000; text-decoration-color: #008000; font-weight: bold; text-decoration: underline\">'Thumb Site 2 merge'</span><span style=\"font-weight: bold; text-decoration: underline\">, </span><span style=\"color: #008000; text-decoration-color: #008000; font-weight: bold; text-decoration: underline\">'[Other] upload_1 2024-11-21'</span><span style=\"font-weight: bold; text-decoration: underline\">, </span><span style=\"color: #008000; text-decoration-color: #008000; font-weight: bold; text-decoration: underline\">'[Other] Thumb Site 2 (P2)'</span><span style=\"font-weight: bold; text-decoration: underline\">, </span><span style=\"color: #008000; text-decoration-color: #008000; font-weight: bold; text-decoration: underline\">'[Other] </span>\n",
       "<span style=\"color: #008000; text-decoration-color: #008000; font-weight: bold; text-decoration: underline\">DENV-2'</span><span style=\"font-weight: bold; text-decoration: underline\">, </span><span style=\"color: #008000; text-decoration-color: #008000; font-weight: bold; text-decoration: underline\">'Fragmenstein pure merge'</span><span style=\"font-weight: bold; text-decoration: underline\">, </span><span style=\"color: #008000; text-decoration-color: #008000; font-weight: bold; text-decoration: underline\">'[Other] upload_1 2024-11-13'</span><span style=\"font-weight: bold; text-decoration: underline\">, </span><span style=\"color: #008000; text-decoration-color: #008000; font-weight: bold; text-decoration: underline\">'[Other] unconfirmed'</span><span style=\"font-weight: bold; text-decoration: underline\">, </span><span style=\"color: #008000; text-decoration-color: #008000; font-weight: bold; text-decoration: underline\">'hits'</span><span style=\"font-weight: bold; text-decoration: underline\">, </span><span style=\"color: #008000; text-decoration-color: #008000; font-weight: bold; text-decoration: underline\">'[Other] fragment</span>\n",
       "<span style=\"color: #008000; text-decoration-color: #008000; font-weight: bold; text-decoration: underline\">screen'</span><span style=\"font-weight: bold; text-decoration: underline\">, </span><span style=\"color: #008000; text-decoration-color: #008000; font-weight: bold; text-decoration: underline\">'Pose'</span><span style=\"font-weight: bold; text-decoration: underline\">]</span>\n",
       "</pre>\n"
      ],
      "text/plain": [
       "\u001b[1;4mC38->P45: \u001b[0m\u001b[1;4;32m\"d0566a\"\u001b[0m \u001b[1;4m[\u001b[0m\u001b[1;4;32m'Thumb Site 2 merge'\u001b[0m\u001b[1;4m, \u001b[0m\u001b[1;4;32m'\u001b[0m\u001b[1;4;32m[\u001b[0m\u001b[1;4;32mOther\u001b[0m\u001b[1;4;32m]\u001b[0m\u001b[1;4;32m upload_1 2024-11-21'\u001b[0m\u001b[1;4m, \u001b[0m\u001b[1;4;32m'\u001b[0m\u001b[1;4;32m[\u001b[0m\u001b[1;4;32mOther\u001b[0m\u001b[1;4;32m]\u001b[0m\u001b[1;4;32m Thumb Site 2 \u001b[0m\u001b[1;4;32m(\u001b[0m\u001b[1;4;32mP2\u001b[0m\u001b[1;4;32m)\u001b[0m\u001b[1;4;32m'\u001b[0m\u001b[1;4m, \u001b[0m\u001b[1;4;32m'\u001b[0m\u001b[1;4;32m[\u001b[0m\u001b[1;4;32mOther\u001b[0m\u001b[1;4;32m]\u001b[0m\u001b[1;4;32m \u001b[0m\n",
       "\u001b[1;4;32mDENV-2'\u001b[0m\u001b[1;4m, \u001b[0m\u001b[1;4;32m'Fragmenstein pure merge'\u001b[0m\u001b[1;4m, \u001b[0m\u001b[1;4;32m'\u001b[0m\u001b[1;4;32m[\u001b[0m\u001b[1;4;32mOther\u001b[0m\u001b[1;4;32m]\u001b[0m\u001b[1;4;32m upload_1 2024-11-13'\u001b[0m\u001b[1;4m, \u001b[0m\u001b[1;4;32m'\u001b[0m\u001b[1;4;32m[\u001b[0m\u001b[1;4;32mOther\u001b[0m\u001b[1;4;32m]\u001b[0m\u001b[1;4;32m unconfirmed'\u001b[0m\u001b[1;4m, \u001b[0m\u001b[1;4;32m'hits'\u001b[0m\u001b[1;4m, \u001b[0m\u001b[1;4;32m'\u001b[0m\u001b[1;4;32m[\u001b[0m\u001b[1;4;32mOther\u001b[0m\u001b[1;4;32m]\u001b[0m\u001b[1;4;32m fragment\u001b[0m\n",
       "\u001b[1;4;32mscreen'\u001b[0m\u001b[1;4m, \u001b[0m\u001b[1;4;32m'Pose'\u001b[0m\u001b[1;4m]\u001b[0m\n"
      ]
     },
     "metadata": {},
     "output_type": "display_data"
    },
    {
     "data": {
      "text/html": [
       "<pre style=\"white-space:pre;overflow-x:auto;line-height:normal;font-family:Menlo,'DejaVu Sans Mono',consolas,'Courier New',monospace;margin:0px\"><span style=\"background-color: #d7af00; font-weight: bold\"> DISK </span> Reading <span style=\"color: #d7af00; text-decoration-color: #d7af00\">/opt/xchem-fragalysis-2/maxwin/BulkDock/SCRATCH/201741/C3075-P45/C3075-P45.minimised.mol</span>...\n",
       "╭─────────────────────────────────────────────────────────────────────────────────────────────────────────────────╮\n",
       "│ <span style=\"font-weight: bold; text-decoration: underline\">C3075-&gt;P1092: \"FOZSYKGVMKDKBV-SNVBAGLBSA-N\"</span>                                                                     │\n",
       "╰─────────────────────────────────────────────────────────────────────────────────────────────────────────────────╯\n",
       "</pre>\n"
      ],
      "text/plain": [
       "\u001b[1;7;38;5;178m DISK \u001b[0m Reading \u001b[38;5;178m/opt/xchem-fragalysis-2/maxwin/BulkDock/SCRATCH/201741/C3075-P45/C3075-P45.minimised.mol\u001b[0m...\n",
       "╭─────────────────────────────────────────────────────────────────────────────────────────────────────────────────╮\n",
       "│ \u001b[1;4mC3075->P1092: \"FOZSYKGVMKDKBV-SNVBAGLBSA-N\"\u001b[0m                                                                     │\n",
       "╰─────────────────────────────────────────────────────────────────────────────────────────────────────────────────╯\n"
      ]
     },
     "metadata": {},
     "output_type": "display_data"
    },
    {
     "data": {
      "text/html": [
       "<pre style=\"white-space:pre;overflow-x:auto;line-height:normal;font-family:Menlo,'DejaVu Sans Mono',consolas,'Courier New',monospace;margin:0px\"><span style=\"font-weight: bold; text-decoration: underline\">C14-&gt;P17: </span><span style=\"color: #008000; text-decoration-color: #008000; font-weight: bold; text-decoration: underline\">\"d0174a\"</span> <span style=\"font-weight: bold; text-decoration: underline\">[</span><span style=\"color: #008000; text-decoration-color: #008000; font-weight: bold; text-decoration: underline\">'[Other] upload_1 2024-11-21'</span><span style=\"font-weight: bold; text-decoration: underline\">, </span><span style=\"color: #008000; text-decoration-color: #008000; font-weight: bold; text-decoration: underline\">'[Other] Thumb Site 2 (P2)'</span><span style=\"font-weight: bold; text-decoration: underline\">, </span><span style=\"color: #008000; text-decoration-color: #008000; font-weight: bold; text-decoration: underline\">'[Other] DENV-2'</span><span style=\"font-weight: bold; text-decoration: underline\">, </span><span style=\"color: #008000; text-decoration-color: #008000; font-weight: bold; text-decoration: underline\">'[Other] upload_1</span>\n",
       "<span style=\"color: #008000; text-decoration-color: #008000; font-weight: bold; text-decoration: underline\">2024-11-13'</span><span style=\"font-weight: bold; text-decoration: underline\">, </span><span style=\"color: #008000; text-decoration-color: #008000; font-weight: bold; text-decoration: underline\">'hits'</span><span style=\"font-weight: bold; text-decoration: underline\">, </span><span style=\"color: #008000; text-decoration-color: #008000; font-weight: bold; text-decoration: underline\">'[Other] fragment screen'</span><span style=\"font-weight: bold; text-decoration: underline\">, </span><span style=\"color: #008000; text-decoration-color: #008000; font-weight: bold; text-decoration: underline\">'Pose'</span><span style=\"font-weight: bold; text-decoration: underline\">]</span>\n",
       "</pre>\n"
      ],
      "text/plain": [
       "\u001b[1;4mC14->P17: \u001b[0m\u001b[1;4;32m\"d0174a\"\u001b[0m \u001b[1;4m[\u001b[0m\u001b[1;4;32m'\u001b[0m\u001b[1;4;32m[\u001b[0m\u001b[1;4;32mOther\u001b[0m\u001b[1;4;32m]\u001b[0m\u001b[1;4;32m upload_1 2024-11-21'\u001b[0m\u001b[1;4m, \u001b[0m\u001b[1;4;32m'\u001b[0m\u001b[1;4;32m[\u001b[0m\u001b[1;4;32mOther\u001b[0m\u001b[1;4;32m]\u001b[0m\u001b[1;4;32m Thumb Site 2 \u001b[0m\u001b[1;4;32m(\u001b[0m\u001b[1;4;32mP2\u001b[0m\u001b[1;4;32m)\u001b[0m\u001b[1;4;32m'\u001b[0m\u001b[1;4m, \u001b[0m\u001b[1;4;32m'\u001b[0m\u001b[1;4;32m[\u001b[0m\u001b[1;4;32mOther\u001b[0m\u001b[1;4;32m]\u001b[0m\u001b[1;4;32m DENV-2'\u001b[0m\u001b[1;4m, \u001b[0m\u001b[1;4;32m'\u001b[0m\u001b[1;4;32m[\u001b[0m\u001b[1;4;32mOther\u001b[0m\u001b[1;4;32m]\u001b[0m\u001b[1;4;32m upload_1\u001b[0m\n",
       "\u001b[1;4;32m2024-11-13'\u001b[0m\u001b[1;4m, \u001b[0m\u001b[1;4;32m'hits'\u001b[0m\u001b[1;4m, \u001b[0m\u001b[1;4;32m'\u001b[0m\u001b[1;4;32m[\u001b[0m\u001b[1;4;32mOther\u001b[0m\u001b[1;4;32m]\u001b[0m\u001b[1;4;32m fragment screen'\u001b[0m\u001b[1;4m, \u001b[0m\u001b[1;4;32m'Pose'\u001b[0m\u001b[1;4m]\u001b[0m\n"
      ]
     },
     "metadata": {},
     "output_type": "display_data"
    },
    {
     "data": {
      "text/html": [
       "<pre style=\"white-space:pre;overflow-x:auto;line-height:normal;font-family:Menlo,'DejaVu Sans Mono',consolas,'Courier New',monospace;margin:0px\"><span style=\"font-weight: bold; text-decoration: underline\">C38-&gt;P45: </span><span style=\"color: #008000; text-decoration-color: #008000; font-weight: bold; text-decoration: underline\">\"d0566a\"</span> <span style=\"font-weight: bold; text-decoration: underline\">[</span><span style=\"color: #008000; text-decoration-color: #008000; font-weight: bold; text-decoration: underline\">'Thumb Site 2 merge'</span><span style=\"font-weight: bold; text-decoration: underline\">, </span><span style=\"color: #008000; text-decoration-color: #008000; font-weight: bold; text-decoration: underline\">'[Other] upload_1 2024-11-21'</span><span style=\"font-weight: bold; text-decoration: underline\">, </span><span style=\"color: #008000; text-decoration-color: #008000; font-weight: bold; text-decoration: underline\">'[Other] Thumb Site 2 (P2)'</span><span style=\"font-weight: bold; text-decoration: underline\">, </span><span style=\"color: #008000; text-decoration-color: #008000; font-weight: bold; text-decoration: underline\">'[Other] </span>\n",
       "<span style=\"color: #008000; text-decoration-color: #008000; font-weight: bold; text-decoration: underline\">DENV-2'</span><span style=\"font-weight: bold; text-decoration: underline\">, </span><span style=\"color: #008000; text-decoration-color: #008000; font-weight: bold; text-decoration: underline\">'Fragmenstein pure merge'</span><span style=\"font-weight: bold; text-decoration: underline\">, </span><span style=\"color: #008000; text-decoration-color: #008000; font-weight: bold; text-decoration: underline\">'[Other] upload_1 2024-11-13'</span><span style=\"font-weight: bold; text-decoration: underline\">, </span><span style=\"color: #008000; text-decoration-color: #008000; font-weight: bold; text-decoration: underline\">'[Other] unconfirmed'</span><span style=\"font-weight: bold; text-decoration: underline\">, </span><span style=\"color: #008000; text-decoration-color: #008000; font-weight: bold; text-decoration: underline\">'hits'</span><span style=\"font-weight: bold; text-decoration: underline\">, </span><span style=\"color: #008000; text-decoration-color: #008000; font-weight: bold; text-decoration: underline\">'[Other] fragment</span>\n",
       "<span style=\"color: #008000; text-decoration-color: #008000; font-weight: bold; text-decoration: underline\">screen'</span><span style=\"font-weight: bold; text-decoration: underline\">, </span><span style=\"color: #008000; text-decoration-color: #008000; font-weight: bold; text-decoration: underline\">'Pose'</span><span style=\"font-weight: bold; text-decoration: underline\">]</span>\n",
       "</pre>\n"
      ],
      "text/plain": [
       "\u001b[1;4mC38->P45: \u001b[0m\u001b[1;4;32m\"d0566a\"\u001b[0m \u001b[1;4m[\u001b[0m\u001b[1;4;32m'Thumb Site 2 merge'\u001b[0m\u001b[1;4m, \u001b[0m\u001b[1;4;32m'\u001b[0m\u001b[1;4;32m[\u001b[0m\u001b[1;4;32mOther\u001b[0m\u001b[1;4;32m]\u001b[0m\u001b[1;4;32m upload_1 2024-11-21'\u001b[0m\u001b[1;4m, \u001b[0m\u001b[1;4;32m'\u001b[0m\u001b[1;4;32m[\u001b[0m\u001b[1;4;32mOther\u001b[0m\u001b[1;4;32m]\u001b[0m\u001b[1;4;32m Thumb Site 2 \u001b[0m\u001b[1;4;32m(\u001b[0m\u001b[1;4;32mP2\u001b[0m\u001b[1;4;32m)\u001b[0m\u001b[1;4;32m'\u001b[0m\u001b[1;4m, \u001b[0m\u001b[1;4;32m'\u001b[0m\u001b[1;4;32m[\u001b[0m\u001b[1;4;32mOther\u001b[0m\u001b[1;4;32m]\u001b[0m\u001b[1;4;32m \u001b[0m\n",
       "\u001b[1;4;32mDENV-2'\u001b[0m\u001b[1;4m, \u001b[0m\u001b[1;4;32m'Fragmenstein pure merge'\u001b[0m\u001b[1;4m, \u001b[0m\u001b[1;4;32m'\u001b[0m\u001b[1;4;32m[\u001b[0m\u001b[1;4;32mOther\u001b[0m\u001b[1;4;32m]\u001b[0m\u001b[1;4;32m upload_1 2024-11-13'\u001b[0m\u001b[1;4m, \u001b[0m\u001b[1;4;32m'\u001b[0m\u001b[1;4;32m[\u001b[0m\u001b[1;4;32mOther\u001b[0m\u001b[1;4;32m]\u001b[0m\u001b[1;4;32m unconfirmed'\u001b[0m\u001b[1;4m, \u001b[0m\u001b[1;4;32m'hits'\u001b[0m\u001b[1;4m, \u001b[0m\u001b[1;4;32m'\u001b[0m\u001b[1;4;32m[\u001b[0m\u001b[1;4;32mOther\u001b[0m\u001b[1;4;32m]\u001b[0m\u001b[1;4;32m fragment\u001b[0m\n",
       "\u001b[1;4;32mscreen'\u001b[0m\u001b[1;4m, \u001b[0m\u001b[1;4;32m'Pose'\u001b[0m\u001b[1;4m]\u001b[0m\n"
      ]
     },
     "metadata": {},
     "output_type": "display_data"
    },
    {
     "data": {
      "text/html": [
       "<pre style=\"white-space:pre;overflow-x:auto;line-height:normal;font-family:Menlo,'DejaVu Sans Mono',consolas,'Courier New',monospace;margin:0px\">╭─────────────────────────────────────────────────────────────────────────────────────────────────────────────────╮\n",
       "│ <span style=\"font-weight: bold; text-decoration: underline\">C3075-&gt;P48473: \"FOZSYKGVMKDKBV-SNVBAGLBSA-N\"</span>                                                                    │\n",
       "╰─────────────────────────────────────────────────────────────────────────────────────────────────────────────────╯\n",
       "</pre>\n"
      ],
      "text/plain": [
       "╭─────────────────────────────────────────────────────────────────────────────────────────────────────────────────╮\n",
       "│ \u001b[1;4mC3075->P48473: \"FOZSYKGVMKDKBV-SNVBAGLBSA-N\"\u001b[0m                                                                    │\n",
       "╰─────────────────────────────────────────────────────────────────────────────────────────────────────────────────╯\n"
      ]
     },
     "metadata": {},
     "output_type": "display_data"
    },
    {
     "data": {
      "text/html": [
       "<pre style=\"white-space:pre;overflow-x:auto;line-height:normal;font-family:Menlo,'DejaVu Sans Mono',consolas,'Courier New',monospace;margin:0px\"><span style=\"font-weight: bold; text-decoration: underline\">C14-&gt;P17: </span><span style=\"color: #008000; text-decoration-color: #008000; font-weight: bold; text-decoration: underline\">\"d0174a\"</span> <span style=\"font-weight: bold; text-decoration: underline\">[</span><span style=\"color: #008000; text-decoration-color: #008000; font-weight: bold; text-decoration: underline\">'[Other] upload_1 2024-11-21'</span><span style=\"font-weight: bold; text-decoration: underline\">, </span><span style=\"color: #008000; text-decoration-color: #008000; font-weight: bold; text-decoration: underline\">'[Other] Thumb Site 2 (P2)'</span><span style=\"font-weight: bold; text-decoration: underline\">, </span><span style=\"color: #008000; text-decoration-color: #008000; font-weight: bold; text-decoration: underline\">'[Other] DENV-2'</span><span style=\"font-weight: bold; text-decoration: underline\">, </span><span style=\"color: #008000; text-decoration-color: #008000; font-weight: bold; text-decoration: underline\">'[Other] upload_1</span>\n",
       "<span style=\"color: #008000; text-decoration-color: #008000; font-weight: bold; text-decoration: underline\">2024-11-13'</span><span style=\"font-weight: bold; text-decoration: underline\">, </span><span style=\"color: #008000; text-decoration-color: #008000; font-weight: bold; text-decoration: underline\">'hits'</span><span style=\"font-weight: bold; text-decoration: underline\">, </span><span style=\"color: #008000; text-decoration-color: #008000; font-weight: bold; text-decoration: underline\">'[Other] fragment screen'</span><span style=\"font-weight: bold; text-decoration: underline\">, </span><span style=\"color: #008000; text-decoration-color: #008000; font-weight: bold; text-decoration: underline\">'Pose'</span><span style=\"font-weight: bold; text-decoration: underline\">]</span>\n",
       "</pre>\n"
      ],
      "text/plain": [
       "\u001b[1;4mC14->P17: \u001b[0m\u001b[1;4;32m\"d0174a\"\u001b[0m \u001b[1;4m[\u001b[0m\u001b[1;4;32m'\u001b[0m\u001b[1;4;32m[\u001b[0m\u001b[1;4;32mOther\u001b[0m\u001b[1;4;32m]\u001b[0m\u001b[1;4;32m upload_1 2024-11-21'\u001b[0m\u001b[1;4m, \u001b[0m\u001b[1;4;32m'\u001b[0m\u001b[1;4;32m[\u001b[0m\u001b[1;4;32mOther\u001b[0m\u001b[1;4;32m]\u001b[0m\u001b[1;4;32m Thumb Site 2 \u001b[0m\u001b[1;4;32m(\u001b[0m\u001b[1;4;32mP2\u001b[0m\u001b[1;4;32m)\u001b[0m\u001b[1;4;32m'\u001b[0m\u001b[1;4m, \u001b[0m\u001b[1;4;32m'\u001b[0m\u001b[1;4;32m[\u001b[0m\u001b[1;4;32mOther\u001b[0m\u001b[1;4;32m]\u001b[0m\u001b[1;4;32m DENV-2'\u001b[0m\u001b[1;4m, \u001b[0m\u001b[1;4;32m'\u001b[0m\u001b[1;4;32m[\u001b[0m\u001b[1;4;32mOther\u001b[0m\u001b[1;4;32m]\u001b[0m\u001b[1;4;32m upload_1\u001b[0m\n",
       "\u001b[1;4;32m2024-11-13'\u001b[0m\u001b[1;4m, \u001b[0m\u001b[1;4;32m'hits'\u001b[0m\u001b[1;4m, \u001b[0m\u001b[1;4;32m'\u001b[0m\u001b[1;4;32m[\u001b[0m\u001b[1;4;32mOther\u001b[0m\u001b[1;4;32m]\u001b[0m\u001b[1;4;32m fragment screen'\u001b[0m\u001b[1;4m, \u001b[0m\u001b[1;4;32m'Pose'\u001b[0m\u001b[1;4m]\u001b[0m\n"
      ]
     },
     "metadata": {},
     "output_type": "display_data"
    },
    {
     "data": {
      "text/html": [
       "<pre style=\"white-space:pre;overflow-x:auto;line-height:normal;font-family:Menlo,'DejaVu Sans Mono',consolas,'Courier New',monospace;margin:0px\"><span style=\"font-weight: bold; text-decoration: underline\">C38-&gt;P45: </span><span style=\"color: #008000; text-decoration-color: #008000; font-weight: bold; text-decoration: underline\">\"d0566a\"</span> <span style=\"font-weight: bold; text-decoration: underline\">[</span><span style=\"color: #008000; text-decoration-color: #008000; font-weight: bold; text-decoration: underline\">'Thumb Site 2 merge'</span><span style=\"font-weight: bold; text-decoration: underline\">, </span><span style=\"color: #008000; text-decoration-color: #008000; font-weight: bold; text-decoration: underline\">'[Other] upload_1 2024-11-21'</span><span style=\"font-weight: bold; text-decoration: underline\">, </span><span style=\"color: #008000; text-decoration-color: #008000; font-weight: bold; text-decoration: underline\">'[Other] Thumb Site 2 (P2)'</span><span style=\"font-weight: bold; text-decoration: underline\">, </span><span style=\"color: #008000; text-decoration-color: #008000; font-weight: bold; text-decoration: underline\">'[Other] </span>\n",
       "<span style=\"color: #008000; text-decoration-color: #008000; font-weight: bold; text-decoration: underline\">DENV-2'</span><span style=\"font-weight: bold; text-decoration: underline\">, </span><span style=\"color: #008000; text-decoration-color: #008000; font-weight: bold; text-decoration: underline\">'Fragmenstein pure merge'</span><span style=\"font-weight: bold; text-decoration: underline\">, </span><span style=\"color: #008000; text-decoration-color: #008000; font-weight: bold; text-decoration: underline\">'[Other] upload_1 2024-11-13'</span><span style=\"font-weight: bold; text-decoration: underline\">, </span><span style=\"color: #008000; text-decoration-color: #008000; font-weight: bold; text-decoration: underline\">'[Other] unconfirmed'</span><span style=\"font-weight: bold; text-decoration: underline\">, </span><span style=\"color: #008000; text-decoration-color: #008000; font-weight: bold; text-decoration: underline\">'hits'</span><span style=\"font-weight: bold; text-decoration: underline\">, </span><span style=\"color: #008000; text-decoration-color: #008000; font-weight: bold; text-decoration: underline\">'[Other] fragment</span>\n",
       "<span style=\"color: #008000; text-decoration-color: #008000; font-weight: bold; text-decoration: underline\">screen'</span><span style=\"font-weight: bold; text-decoration: underline\">, </span><span style=\"color: #008000; text-decoration-color: #008000; font-weight: bold; text-decoration: underline\">'Pose'</span><span style=\"font-weight: bold; text-decoration: underline\">]</span>\n",
       "</pre>\n"
      ],
      "text/plain": [
       "\u001b[1;4mC38->P45: \u001b[0m\u001b[1;4;32m\"d0566a\"\u001b[0m \u001b[1;4m[\u001b[0m\u001b[1;4;32m'Thumb Site 2 merge'\u001b[0m\u001b[1;4m, \u001b[0m\u001b[1;4;32m'\u001b[0m\u001b[1;4;32m[\u001b[0m\u001b[1;4;32mOther\u001b[0m\u001b[1;4;32m]\u001b[0m\u001b[1;4;32m upload_1 2024-11-21'\u001b[0m\u001b[1;4m, \u001b[0m\u001b[1;4;32m'\u001b[0m\u001b[1;4;32m[\u001b[0m\u001b[1;4;32mOther\u001b[0m\u001b[1;4;32m]\u001b[0m\u001b[1;4;32m Thumb Site 2 \u001b[0m\u001b[1;4;32m(\u001b[0m\u001b[1;4;32mP2\u001b[0m\u001b[1;4;32m)\u001b[0m\u001b[1;4;32m'\u001b[0m\u001b[1;4m, \u001b[0m\u001b[1;4;32m'\u001b[0m\u001b[1;4;32m[\u001b[0m\u001b[1;4;32mOther\u001b[0m\u001b[1;4;32m]\u001b[0m\u001b[1;4;32m \u001b[0m\n",
       "\u001b[1;4;32mDENV-2'\u001b[0m\u001b[1;4m, \u001b[0m\u001b[1;4;32m'Fragmenstein pure merge'\u001b[0m\u001b[1;4m, \u001b[0m\u001b[1;4;32m'\u001b[0m\u001b[1;4;32m[\u001b[0m\u001b[1;4;32mOther\u001b[0m\u001b[1;4;32m]\u001b[0m\u001b[1;4;32m upload_1 2024-11-13'\u001b[0m\u001b[1;4m, \u001b[0m\u001b[1;4;32m'\u001b[0m\u001b[1;4;32m[\u001b[0m\u001b[1;4;32mOther\u001b[0m\u001b[1;4;32m]\u001b[0m\u001b[1;4;32m unconfirmed'\u001b[0m\u001b[1;4m, \u001b[0m\u001b[1;4;32m'hits'\u001b[0m\u001b[1;4m, \u001b[0m\u001b[1;4;32m'\u001b[0m\u001b[1;4;32m[\u001b[0m\u001b[1;4;32mOther\u001b[0m\u001b[1;4;32m]\u001b[0m\u001b[1;4;32m fragment\u001b[0m\n",
       "\u001b[1;4;32mscreen'\u001b[0m\u001b[1;4m, \u001b[0m\u001b[1;4;32m'Pose'\u001b[0m\u001b[1;4m]\u001b[0m\n"
      ]
     },
     "metadata": {},
     "output_type": "display_data"
    },
    {
     "data": {
      "text/html": [
       "<pre style=\"white-space:pre;overflow-x:auto;line-height:normal;font-family:Menlo,'DejaVu Sans Mono',consolas,'Courier New',monospace;margin:0px\">╭─────────────────────────────────────────────────────────────────────────────────────────────────────────────────╮\n",
       "│ <span style=\"font-weight: bold; text-decoration: underline\">C3075-&gt;P48487: \"FOZSYKGVMKDKBV-SNVBAGLBSA-N\"</span>                                                                    │\n",
       "╰─────────────────────────────────────────────────────────────────────────────────────────────────────────────────╯\n",
       "</pre>\n"
      ],
      "text/plain": [
       "╭─────────────────────────────────────────────────────────────────────────────────────────────────────────────────╮\n",
       "│ \u001b[1;4mC3075->P48487: \"FOZSYKGVMKDKBV-SNVBAGLBSA-N\"\u001b[0m                                                                    │\n",
       "╰─────────────────────────────────────────────────────────────────────────────────────────────────────────────────╯\n"
      ]
     },
     "metadata": {},
     "output_type": "display_data"
    },
    {
     "data": {
      "text/html": [
       "<pre style=\"white-space:pre;overflow-x:auto;line-height:normal;font-family:Menlo,'DejaVu Sans Mono',consolas,'Courier New',monospace;margin:0px\"><span style=\"font-weight: bold; text-decoration: underline\">C14-&gt;P17: </span><span style=\"color: #008000; text-decoration-color: #008000; font-weight: bold; text-decoration: underline\">\"d0174a\"</span> <span style=\"font-weight: bold; text-decoration: underline\">[</span><span style=\"color: #008000; text-decoration-color: #008000; font-weight: bold; text-decoration: underline\">'[Other] upload_1 2024-11-21'</span><span style=\"font-weight: bold; text-decoration: underline\">, </span><span style=\"color: #008000; text-decoration-color: #008000; font-weight: bold; text-decoration: underline\">'[Other] Thumb Site 2 (P2)'</span><span style=\"font-weight: bold; text-decoration: underline\">, </span><span style=\"color: #008000; text-decoration-color: #008000; font-weight: bold; text-decoration: underline\">'[Other] DENV-2'</span><span style=\"font-weight: bold; text-decoration: underline\">, </span><span style=\"color: #008000; text-decoration-color: #008000; font-weight: bold; text-decoration: underline\">'[Other] upload_1</span>\n",
       "<span style=\"color: #008000; text-decoration-color: #008000; font-weight: bold; text-decoration: underline\">2024-11-13'</span><span style=\"font-weight: bold; text-decoration: underline\">, </span><span style=\"color: #008000; text-decoration-color: #008000; font-weight: bold; text-decoration: underline\">'hits'</span><span style=\"font-weight: bold; text-decoration: underline\">, </span><span style=\"color: #008000; text-decoration-color: #008000; font-weight: bold; text-decoration: underline\">'[Other] fragment screen'</span><span style=\"font-weight: bold; text-decoration: underline\">, </span><span style=\"color: #008000; text-decoration-color: #008000; font-weight: bold; text-decoration: underline\">'Pose'</span><span style=\"font-weight: bold; text-decoration: underline\">]</span>\n",
       "</pre>\n"
      ],
      "text/plain": [
       "\u001b[1;4mC14->P17: \u001b[0m\u001b[1;4;32m\"d0174a\"\u001b[0m \u001b[1;4m[\u001b[0m\u001b[1;4;32m'\u001b[0m\u001b[1;4;32m[\u001b[0m\u001b[1;4;32mOther\u001b[0m\u001b[1;4;32m]\u001b[0m\u001b[1;4;32m upload_1 2024-11-21'\u001b[0m\u001b[1;4m, \u001b[0m\u001b[1;4;32m'\u001b[0m\u001b[1;4;32m[\u001b[0m\u001b[1;4;32mOther\u001b[0m\u001b[1;4;32m]\u001b[0m\u001b[1;4;32m Thumb Site 2 \u001b[0m\u001b[1;4;32m(\u001b[0m\u001b[1;4;32mP2\u001b[0m\u001b[1;4;32m)\u001b[0m\u001b[1;4;32m'\u001b[0m\u001b[1;4m, \u001b[0m\u001b[1;4;32m'\u001b[0m\u001b[1;4;32m[\u001b[0m\u001b[1;4;32mOther\u001b[0m\u001b[1;4;32m]\u001b[0m\u001b[1;4;32m DENV-2'\u001b[0m\u001b[1;4m, \u001b[0m\u001b[1;4;32m'\u001b[0m\u001b[1;4;32m[\u001b[0m\u001b[1;4;32mOther\u001b[0m\u001b[1;4;32m]\u001b[0m\u001b[1;4;32m upload_1\u001b[0m\n",
       "\u001b[1;4;32m2024-11-13'\u001b[0m\u001b[1;4m, \u001b[0m\u001b[1;4;32m'hits'\u001b[0m\u001b[1;4m, \u001b[0m\u001b[1;4;32m'\u001b[0m\u001b[1;4;32m[\u001b[0m\u001b[1;4;32mOther\u001b[0m\u001b[1;4;32m]\u001b[0m\u001b[1;4;32m fragment screen'\u001b[0m\u001b[1;4m, \u001b[0m\u001b[1;4;32m'Pose'\u001b[0m\u001b[1;4m]\u001b[0m\n"
      ]
     },
     "metadata": {},
     "output_type": "display_data"
    },
    {
     "data": {
      "text/html": [
       "<pre style=\"white-space:pre;overflow-x:auto;line-height:normal;font-family:Menlo,'DejaVu Sans Mono',consolas,'Courier New',monospace;margin:0px\"><span style=\"font-weight: bold; text-decoration: underline\">C38-&gt;P45: </span><span style=\"color: #008000; text-decoration-color: #008000; font-weight: bold; text-decoration: underline\">\"d0566a\"</span> <span style=\"font-weight: bold; text-decoration: underline\">[</span><span style=\"color: #008000; text-decoration-color: #008000; font-weight: bold; text-decoration: underline\">'Thumb Site 2 merge'</span><span style=\"font-weight: bold; text-decoration: underline\">, </span><span style=\"color: #008000; text-decoration-color: #008000; font-weight: bold; text-decoration: underline\">'[Other] upload_1 2024-11-21'</span><span style=\"font-weight: bold; text-decoration: underline\">, </span><span style=\"color: #008000; text-decoration-color: #008000; font-weight: bold; text-decoration: underline\">'[Other] Thumb Site 2 (P2)'</span><span style=\"font-weight: bold; text-decoration: underline\">, </span><span style=\"color: #008000; text-decoration-color: #008000; font-weight: bold; text-decoration: underline\">'[Other] </span>\n",
       "<span style=\"color: #008000; text-decoration-color: #008000; font-weight: bold; text-decoration: underline\">DENV-2'</span><span style=\"font-weight: bold; text-decoration: underline\">, </span><span style=\"color: #008000; text-decoration-color: #008000; font-weight: bold; text-decoration: underline\">'Fragmenstein pure merge'</span><span style=\"font-weight: bold; text-decoration: underline\">, </span><span style=\"color: #008000; text-decoration-color: #008000; font-weight: bold; text-decoration: underline\">'[Other] upload_1 2024-11-13'</span><span style=\"font-weight: bold; text-decoration: underline\">, </span><span style=\"color: #008000; text-decoration-color: #008000; font-weight: bold; text-decoration: underline\">'[Other] unconfirmed'</span><span style=\"font-weight: bold; text-decoration: underline\">, </span><span style=\"color: #008000; text-decoration-color: #008000; font-weight: bold; text-decoration: underline\">'hits'</span><span style=\"font-weight: bold; text-decoration: underline\">, </span><span style=\"color: #008000; text-decoration-color: #008000; font-weight: bold; text-decoration: underline\">'[Other] fragment</span>\n",
       "<span style=\"color: #008000; text-decoration-color: #008000; font-weight: bold; text-decoration: underline\">screen'</span><span style=\"font-weight: bold; text-decoration: underline\">, </span><span style=\"color: #008000; text-decoration-color: #008000; font-weight: bold; text-decoration: underline\">'Pose'</span><span style=\"font-weight: bold; text-decoration: underline\">]</span>\n",
       "</pre>\n"
      ],
      "text/plain": [
       "\u001b[1;4mC38->P45: \u001b[0m\u001b[1;4;32m\"d0566a\"\u001b[0m \u001b[1;4m[\u001b[0m\u001b[1;4;32m'Thumb Site 2 merge'\u001b[0m\u001b[1;4m, \u001b[0m\u001b[1;4;32m'\u001b[0m\u001b[1;4;32m[\u001b[0m\u001b[1;4;32mOther\u001b[0m\u001b[1;4;32m]\u001b[0m\u001b[1;4;32m upload_1 2024-11-21'\u001b[0m\u001b[1;4m, \u001b[0m\u001b[1;4;32m'\u001b[0m\u001b[1;4;32m[\u001b[0m\u001b[1;4;32mOther\u001b[0m\u001b[1;4;32m]\u001b[0m\u001b[1;4;32m Thumb Site 2 \u001b[0m\u001b[1;4;32m(\u001b[0m\u001b[1;4;32mP2\u001b[0m\u001b[1;4;32m)\u001b[0m\u001b[1;4;32m'\u001b[0m\u001b[1;4m, \u001b[0m\u001b[1;4;32m'\u001b[0m\u001b[1;4;32m[\u001b[0m\u001b[1;4;32mOther\u001b[0m\u001b[1;4;32m]\u001b[0m\u001b[1;4;32m \u001b[0m\n",
       "\u001b[1;4;32mDENV-2'\u001b[0m\u001b[1;4m, \u001b[0m\u001b[1;4;32m'Fragmenstein pure merge'\u001b[0m\u001b[1;4m, \u001b[0m\u001b[1;4;32m'\u001b[0m\u001b[1;4;32m[\u001b[0m\u001b[1;4;32mOther\u001b[0m\u001b[1;4;32m]\u001b[0m\u001b[1;4;32m upload_1 2024-11-13'\u001b[0m\u001b[1;4m, \u001b[0m\u001b[1;4;32m'\u001b[0m\u001b[1;4;32m[\u001b[0m\u001b[1;4;32mOther\u001b[0m\u001b[1;4;32m]\u001b[0m\u001b[1;4;32m unconfirmed'\u001b[0m\u001b[1;4m, \u001b[0m\u001b[1;4;32m'hits'\u001b[0m\u001b[1;4m, \u001b[0m\u001b[1;4;32m'\u001b[0m\u001b[1;4;32m[\u001b[0m\u001b[1;4;32mOther\u001b[0m\u001b[1;4;32m]\u001b[0m\u001b[1;4;32m fragment\u001b[0m\n",
       "\u001b[1;4;32mscreen'\u001b[0m\u001b[1;4m, \u001b[0m\u001b[1;4;32m'Pose'\u001b[0m\u001b[1;4m]\u001b[0m\n"
      ]
     },
     "metadata": {},
     "output_type": "display_data"
    },
    {
     "data": {
      "image/png": "[encoded data removed]",
      "text/plain": [
       "<rdkit.Chem.rdchem.Mol at 0x7f1c46ce5710>"
      ]
     },
     "metadata": {},
     "output_type": "display_data"
    },
    {
     "data": {
      "text/html": [
       "<pre style=\"white-space:pre;overflow-x:auto;line-height:normal;font-family:Menlo,'DejaVu Sans Mono',consolas,'Courier New',monospace;margin:0px\"><span style=\"color: #00ff00; text-decoration-color: #00ff00\">────────────────────────────────────────────────────── </span>C1443<span style=\"color: #00ff00; text-decoration-color: #00ff00\"> ──────────────────────────────────────────────────────</span>\n",
       "</pre>\n"
      ],
      "text/plain": [
       "\u001b[92m────────────────────────────────────────────────────── \u001b[0mC1443\u001b[92m ──────────────────────────────────────────────────────\u001b[0m\n"
      ]
     },
     "metadata": {},
     "output_type": "display_data"
    },
    {
     "data": {
      "text/html": [
       "<pre style=\"white-space:pre;overflow-x:auto;line-height:normal;font-family:Menlo,'DejaVu Sans Mono',consolas,'Courier New',monospace;margin:0px\">╭─────────────────────────────────────────────────────────────────────────────────────────────────────────────────╮\n",
       "│ <span style=\"font-weight: bold; text-decoration: underline\">C1443-&gt;P612: \"IQFFGYDSWILZBZ-UHFFFAOYSA-N\"</span>                                                                      │\n",
       "╰─────────────────────────────────────────────────────────────────────────────────────────────────────────────────╯\n",
       "</pre>\n"
      ],
      "text/plain": [
       "╭─────────────────────────────────────────────────────────────────────────────────────────────────────────────────╮\n",
       "│ \u001b[1;4mC1443->P612: \"IQFFGYDSWILZBZ-UHFFFAOYSA-N\"\u001b[0m                                                                      │\n",
       "╰─────────────────────────────────────────────────────────────────────────────────────────────────────────────────╯\n"
      ]
     },
     "metadata": {},
     "output_type": "display_data"
    },
    {
     "data": {
      "text/html": [
       "<pre style=\"white-space:pre;overflow-x:auto;line-height:normal;font-family:Menlo,'DejaVu Sans Mono',consolas,'Courier New',monospace;margin:0px\"><span style=\"font-weight: bold; text-decoration: underline\">C18-&gt;P22: </span><span style=\"color: #008000; text-decoration-color: #008000; font-weight: bold; text-decoration: underline\">\"d0248a\"</span> <span style=\"font-weight: bold; text-decoration: underline\">[</span><span style=\"color: #008000; text-decoration-color: #008000; font-weight: bold; text-decoration: underline\">'[Other] upload_1 2024-11-21'</span><span style=\"font-weight: bold; text-decoration: underline\">, </span><span style=\"color: #008000; text-decoration-color: #008000; font-weight: bold; text-decoration: underline\">'[Other] Thumb Site 2 (P2)'</span><span style=\"font-weight: bold; text-decoration: underline\">, </span><span style=\"color: #008000; text-decoration-color: #008000; font-weight: bold; text-decoration: underline\">'[Other] DENV-2'</span><span style=\"font-weight: bold; text-decoration: underline\">, </span><span style=\"color: #008000; text-decoration-color: #008000; font-weight: bold; text-decoration: underline\">'[Other] upload_1</span>\n",
       "<span style=\"color: #008000; text-decoration-color: #008000; font-weight: bold; text-decoration: underline\">2024-11-13'</span><span style=\"font-weight: bold; text-decoration: underline\">, </span><span style=\"color: #008000; text-decoration-color: #008000; font-weight: bold; text-decoration: underline\">'hits'</span><span style=\"font-weight: bold; text-decoration: underline\">, </span><span style=\"color: #008000; text-decoration-color: #008000; font-weight: bold; text-decoration: underline\">'[Other] fragment screen'</span><span style=\"font-weight: bold; text-decoration: underline\">, </span><span style=\"color: #008000; text-decoration-color: #008000; font-weight: bold; text-decoration: underline\">'Pose'</span><span style=\"font-weight: bold; text-decoration: underline\">]</span>\n",
       "</pre>\n"
      ],
      "text/plain": [
       "\u001b[1;4mC18->P22: \u001b[0m\u001b[1;4;32m\"d0248a\"\u001b[0m \u001b[1;4m[\u001b[0m\u001b[1;4;32m'\u001b[0m\u001b[1;4;32m[\u001b[0m\u001b[1;4;32mOther\u001b[0m\u001b[1;4;32m]\u001b[0m\u001b[1;4;32m upload_1 2024-11-21'\u001b[0m\u001b[1;4m, \u001b[0m\u001b[1;4;32m'\u001b[0m\u001b[1;4;32m[\u001b[0m\u001b[1;4;32mOther\u001b[0m\u001b[1;4;32m]\u001b[0m\u001b[1;4;32m Thumb Site 2 \u001b[0m\u001b[1;4;32m(\u001b[0m\u001b[1;4;32mP2\u001b[0m\u001b[1;4;32m)\u001b[0m\u001b[1;4;32m'\u001b[0m\u001b[1;4m, \u001b[0m\u001b[1;4;32m'\u001b[0m\u001b[1;4;32m[\u001b[0m\u001b[1;4;32mOther\u001b[0m\u001b[1;4;32m]\u001b[0m\u001b[1;4;32m DENV-2'\u001b[0m\u001b[1;4m, \u001b[0m\u001b[1;4;32m'\u001b[0m\u001b[1;4;32m[\u001b[0m\u001b[1;4;32mOther\u001b[0m\u001b[1;4;32m]\u001b[0m\u001b[1;4;32m upload_1\u001b[0m\n",
       "\u001b[1;4;32m2024-11-13'\u001b[0m\u001b[1;4m, \u001b[0m\u001b[1;4;32m'hits'\u001b[0m\u001b[1;4m, \u001b[0m\u001b[1;4;32m'\u001b[0m\u001b[1;4;32m[\u001b[0m\u001b[1;4;32mOther\u001b[0m\u001b[1;4;32m]\u001b[0m\u001b[1;4;32m fragment screen'\u001b[0m\u001b[1;4m, \u001b[0m\u001b[1;4;32m'Pose'\u001b[0m\u001b[1;4m]\u001b[0m\n"
      ]
     },
     "metadata": {},
     "output_type": "display_data"
    },
    {
     "data": {
      "text/html": [
       "<pre style=\"white-space:pre;overflow-x:auto;line-height:normal;font-family:Menlo,'DejaVu Sans Mono',consolas,'Courier New',monospace;margin:0px\"><span style=\"font-weight: bold; text-decoration: underline\">C29-&gt;P33: </span><span style=\"color: #008000; text-decoration-color: #008000; font-weight: bold; text-decoration: underline\">\"d0376a\"</span> <span style=\"font-weight: bold; text-decoration: underline\">[</span><span style=\"color: #008000; text-decoration-color: #008000; font-weight: bold; text-decoration: underline\">'[Other] upload_1 2024-11-21'</span><span style=\"font-weight: bold; text-decoration: underline\">, </span><span style=\"color: #008000; text-decoration-color: #008000; font-weight: bold; text-decoration: underline\">'[Other] Thumb Site 2 (P2)'</span><span style=\"font-weight: bold; text-decoration: underline\">, </span><span style=\"color: #008000; text-decoration-color: #008000; font-weight: bold; text-decoration: underline\">'[Other] DENV-2'</span><span style=\"font-weight: bold; text-decoration: underline\">, </span><span style=\"color: #008000; text-decoration-color: #008000; font-weight: bold; text-decoration: underline\">'[Other] upload_1</span>\n",
       "<span style=\"color: #008000; text-decoration-color: #008000; font-weight: bold; text-decoration: underline\">2024-11-13'</span><span style=\"font-weight: bold; text-decoration: underline\">, </span><span style=\"color: #008000; text-decoration-color: #008000; font-weight: bold; text-decoration: underline\">'[Other] unconfirmed'</span><span style=\"font-weight: bold; text-decoration: underline\">, </span><span style=\"color: #008000; text-decoration-color: #008000; font-weight: bold; text-decoration: underline\">'hits'</span><span style=\"font-weight: bold; text-decoration: underline\">, </span><span style=\"color: #008000; text-decoration-color: #008000; font-weight: bold; text-decoration: underline\">'[Other] fragment screen'</span><span style=\"font-weight: bold; text-decoration: underline\">, </span><span style=\"color: #008000; text-decoration-color: #008000; font-weight: bold; text-decoration: underline\">'Pose'</span><span style=\"font-weight: bold; text-decoration: underline\">]</span>\n",
       "</pre>\n"
      ],
      "text/plain": [
       "\u001b[1;4mC29->P33: \u001b[0m\u001b[1;4;32m\"d0376a\"\u001b[0m \u001b[1;4m[\u001b[0m\u001b[1;4;32m'\u001b[0m\u001b[1;4;32m[\u001b[0m\u001b[1;4;32mOther\u001b[0m\u001b[1;4;32m]\u001b[0m\u001b[1;4;32m upload_1 2024-11-21'\u001b[0m\u001b[1;4m, \u001b[0m\u001b[1;4;32m'\u001b[0m\u001b[1;4;32m[\u001b[0m\u001b[1;4;32mOther\u001b[0m\u001b[1;4;32m]\u001b[0m\u001b[1;4;32m Thumb Site 2 \u001b[0m\u001b[1;4;32m(\u001b[0m\u001b[1;4;32mP2\u001b[0m\u001b[1;4;32m)\u001b[0m\u001b[1;4;32m'\u001b[0m\u001b[1;4m, \u001b[0m\u001b[1;4;32m'\u001b[0m\u001b[1;4;32m[\u001b[0m\u001b[1;4;32mOther\u001b[0m\u001b[1;4;32m]\u001b[0m\u001b[1;4;32m DENV-2'\u001b[0m\u001b[1;4m, \u001b[0m\u001b[1;4;32m'\u001b[0m\u001b[1;4;32m[\u001b[0m\u001b[1;4;32mOther\u001b[0m\u001b[1;4;32m]\u001b[0m\u001b[1;4;32m upload_1\u001b[0m\n",
       "\u001b[1;4;32m2024-11-13'\u001b[0m\u001b[1;4m, \u001b[0m\u001b[1;4;32m'\u001b[0m\u001b[1;4;32m[\u001b[0m\u001b[1;4;32mOther\u001b[0m\u001b[1;4;32m]\u001b[0m\u001b[1;4;32m unconfirmed'\u001b[0m\u001b[1;4m, \u001b[0m\u001b[1;4;32m'hits'\u001b[0m\u001b[1;4m, \u001b[0m\u001b[1;4;32m'\u001b[0m\u001b[1;4;32m[\u001b[0m\u001b[1;4;32mOther\u001b[0m\u001b[1;4;32m]\u001b[0m\u001b[1;4;32m fragment screen'\u001b[0m\u001b[1;4m, \u001b[0m\u001b[1;4;32m'Pose'\u001b[0m\u001b[1;4m]\u001b[0m\n"
      ]
     },
     "metadata": {},
     "output_type": "display_data"
    },
    {
     "data": {
      "text/html": [
       "<pre style=\"white-space:pre;overflow-x:auto;line-height:normal;font-family:Menlo,'DejaVu Sans Mono',consolas,'Courier New',monospace;margin:0px\"><span style=\"background-color: #d7af00; font-weight: bold\"> DISK </span> Reading <span style=\"color: #d7af00; text-decoration-color: #d7af00\">/opt/xchem-fragalysis-2/maxwin/BulkDock/SCRATCH/201741/C1443-P33/C1443-P33.minimised.mol</span>...\n",
       "╭─────────────────────────────────────────────────────────────────────────────────────────────────────────────────╮\n",
       "│ <span style=\"font-weight: bold; text-decoration: underline\">C1443-&gt;P621: \"IQFFGYDSWILZBZ-UHFFFAOYSA-N\"</span>                                                                      │\n",
       "╰─────────────────────────────────────────────────────────────────────────────────────────────────────────────────╯\n",
       "</pre>\n"
      ],
      "text/plain": [
       "\u001b[1;7;38;5;178m DISK \u001b[0m Reading \u001b[38;5;178m/opt/xchem-fragalysis-2/maxwin/BulkDock/SCRATCH/201741/C1443-P33/C1443-P33.minimised.mol\u001b[0m...\n",
       "╭─────────────────────────────────────────────────────────────────────────────────────────────────────────────────╮\n",
       "│ \u001b[1;4mC1443->P621: \"IQFFGYDSWILZBZ-UHFFFAOYSA-N\"\u001b[0m                                                                      │\n",
       "╰─────────────────────────────────────────────────────────────────────────────────────────────────────────────────╯\n"
      ]
     },
     "metadata": {},
     "output_type": "display_data"
    },
    {
     "data": {
      "text/html": [
       "<pre style=\"white-space:pre;overflow-x:auto;line-height:normal;font-family:Menlo,'DejaVu Sans Mono',consolas,'Courier New',monospace;margin:0px\"><span style=\"font-weight: bold; text-decoration: underline\">C18-&gt;P22: </span><span style=\"color: #008000; text-decoration-color: #008000; font-weight: bold; text-decoration: underline\">\"d0248a\"</span> <span style=\"font-weight: bold; text-decoration: underline\">[</span><span style=\"color: #008000; text-decoration-color: #008000; font-weight: bold; text-decoration: underline\">'[Other] upload_1 2024-11-21'</span><span style=\"font-weight: bold; text-decoration: underline\">, </span><span style=\"color: #008000; text-decoration-color: #008000; font-weight: bold; text-decoration: underline\">'[Other] Thumb Site 2 (P2)'</span><span style=\"font-weight: bold; text-decoration: underline\">, </span><span style=\"color: #008000; text-decoration-color: #008000; font-weight: bold; text-decoration: underline\">'[Other] DENV-2'</span><span style=\"font-weight: bold; text-decoration: underline\">, </span><span style=\"color: #008000; text-decoration-color: #008000; font-weight: bold; text-decoration: underline\">'[Other] upload_1</span>\n",
       "<span style=\"color: #008000; text-decoration-color: #008000; font-weight: bold; text-decoration: underline\">2024-11-13'</span><span style=\"font-weight: bold; text-decoration: underline\">, </span><span style=\"color: #008000; text-decoration-color: #008000; font-weight: bold; text-decoration: underline\">'hits'</span><span style=\"font-weight: bold; text-decoration: underline\">, </span><span style=\"color: #008000; text-decoration-color: #008000; font-weight: bold; text-decoration: underline\">'[Other] fragment screen'</span><span style=\"font-weight: bold; text-decoration: underline\">, </span><span style=\"color: #008000; text-decoration-color: #008000; font-weight: bold; text-decoration: underline\">'Pose'</span><span style=\"font-weight: bold; text-decoration: underline\">]</span>\n",
       "</pre>\n"
      ],
      "text/plain": [
       "\u001b[1;4mC18->P22: \u001b[0m\u001b[1;4;32m\"d0248a\"\u001b[0m \u001b[1;4m[\u001b[0m\u001b[1;4;32m'\u001b[0m\u001b[1;4;32m[\u001b[0m\u001b[1;4;32mOther\u001b[0m\u001b[1;4;32m]\u001b[0m\u001b[1;4;32m upload_1 2024-11-21'\u001b[0m\u001b[1;4m, \u001b[0m\u001b[1;4;32m'\u001b[0m\u001b[1;4;32m[\u001b[0m\u001b[1;4;32mOther\u001b[0m\u001b[1;4;32m]\u001b[0m\u001b[1;4;32m Thumb Site 2 \u001b[0m\u001b[1;4;32m(\u001b[0m\u001b[1;4;32mP2\u001b[0m\u001b[1;4;32m)\u001b[0m\u001b[1;4;32m'\u001b[0m\u001b[1;4m, \u001b[0m\u001b[1;4;32m'\u001b[0m\u001b[1;4;32m[\u001b[0m\u001b[1;4;32mOther\u001b[0m\u001b[1;4;32m]\u001b[0m\u001b[1;4;32m DENV-2'\u001b[0m\u001b[1;4m, \u001b[0m\u001b[1;4;32m'\u001b[0m\u001b[1;4;32m[\u001b[0m\u001b[1;4;32mOther\u001b[0m\u001b[1;4;32m]\u001b[0m\u001b[1;4;32m upload_1\u001b[0m\n",
       "\u001b[1;4;32m2024-11-13'\u001b[0m\u001b[1;4m, \u001b[0m\u001b[1;4;32m'hits'\u001b[0m\u001b[1;4m, \u001b[0m\u001b[1;4;32m'\u001b[0m\u001b[1;4;32m[\u001b[0m\u001b[1;4;32mOther\u001b[0m\u001b[1;4;32m]\u001b[0m\u001b[1;4;32m fragment screen'\u001b[0m\u001b[1;4m, \u001b[0m\u001b[1;4;32m'Pose'\u001b[0m\u001b[1;4m]\u001b[0m\n"
      ]
     },
     "metadata": {},
     "output_type": "display_data"
    },
    {
     "data": {
      "text/html": [
       "<pre style=\"white-space:pre;overflow-x:auto;line-height:normal;font-family:Menlo,'DejaVu Sans Mono',consolas,'Courier New',monospace;margin:0px\"><span style=\"font-weight: bold; text-decoration: underline\">C29-&gt;P33: </span><span style=\"color: #008000; text-decoration-color: #008000; font-weight: bold; text-decoration: underline\">\"d0376a\"</span> <span style=\"font-weight: bold; text-decoration: underline\">[</span><span style=\"color: #008000; text-decoration-color: #008000; font-weight: bold; text-decoration: underline\">'[Other] upload_1 2024-11-21'</span><span style=\"font-weight: bold; text-decoration: underline\">, </span><span style=\"color: #008000; text-decoration-color: #008000; font-weight: bold; text-decoration: underline\">'[Other] Thumb Site 2 (P2)'</span><span style=\"font-weight: bold; text-decoration: underline\">, </span><span style=\"color: #008000; text-decoration-color: #008000; font-weight: bold; text-decoration: underline\">'[Other] DENV-2'</span><span style=\"font-weight: bold; text-decoration: underline\">, </span><span style=\"color: #008000; text-decoration-color: #008000; font-weight: bold; text-decoration: underline\">'[Other] upload_1</span>\n",
       "<span style=\"color: #008000; text-decoration-color: #008000; font-weight: bold; text-decoration: underline\">2024-11-13'</span><span style=\"font-weight: bold; text-decoration: underline\">, </span><span style=\"color: #008000; text-decoration-color: #008000; font-weight: bold; text-decoration: underline\">'[Other] unconfirmed'</span><span style=\"font-weight: bold; text-decoration: underline\">, </span><span style=\"color: #008000; text-decoration-color: #008000; font-weight: bold; text-decoration: underline\">'hits'</span><span style=\"font-weight: bold; text-decoration: underline\">, </span><span style=\"color: #008000; text-decoration-color: #008000; font-weight: bold; text-decoration: underline\">'[Other] fragment screen'</span><span style=\"font-weight: bold; text-decoration: underline\">, </span><span style=\"color: #008000; text-decoration-color: #008000; font-weight: bold; text-decoration: underline\">'Pose'</span><span style=\"font-weight: bold; text-decoration: underline\">]</span>\n",
       "</pre>\n"
      ],
      "text/plain": [
       "\u001b[1;4mC29->P33: \u001b[0m\u001b[1;4;32m\"d0376a\"\u001b[0m \u001b[1;4m[\u001b[0m\u001b[1;4;32m'\u001b[0m\u001b[1;4;32m[\u001b[0m\u001b[1;4;32mOther\u001b[0m\u001b[1;4;32m]\u001b[0m\u001b[1;4;32m upload_1 2024-11-21'\u001b[0m\u001b[1;4m, \u001b[0m\u001b[1;4;32m'\u001b[0m\u001b[1;4;32m[\u001b[0m\u001b[1;4;32mOther\u001b[0m\u001b[1;4;32m]\u001b[0m\u001b[1;4;32m Thumb Site 2 \u001b[0m\u001b[1;4;32m(\u001b[0m\u001b[1;4;32mP2\u001b[0m\u001b[1;4;32m)\u001b[0m\u001b[1;4;32m'\u001b[0m\u001b[1;4m, \u001b[0m\u001b[1;4;32m'\u001b[0m\u001b[1;4;32m[\u001b[0m\u001b[1;4;32mOther\u001b[0m\u001b[1;4;32m]\u001b[0m\u001b[1;4;32m DENV-2'\u001b[0m\u001b[1;4m, \u001b[0m\u001b[1;4;32m'\u001b[0m\u001b[1;4;32m[\u001b[0m\u001b[1;4;32mOther\u001b[0m\u001b[1;4;32m]\u001b[0m\u001b[1;4;32m upload_1\u001b[0m\n",
       "\u001b[1;4;32m2024-11-13'\u001b[0m\u001b[1;4m, \u001b[0m\u001b[1;4;32m'\u001b[0m\u001b[1;4;32m[\u001b[0m\u001b[1;4;32mOther\u001b[0m\u001b[1;4;32m]\u001b[0m\u001b[1;4;32m unconfirmed'\u001b[0m\u001b[1;4m, \u001b[0m\u001b[1;4;32m'hits'\u001b[0m\u001b[1;4m, \u001b[0m\u001b[1;4;32m'\u001b[0m\u001b[1;4;32m[\u001b[0m\u001b[1;4;32mOther\u001b[0m\u001b[1;4;32m]\u001b[0m\u001b[1;4;32m fragment screen'\u001b[0m\u001b[1;4m, \u001b[0m\u001b[1;4;32m'Pose'\u001b[0m\u001b[1;4m]\u001b[0m\n"
      ]
     },
     "metadata": {},
     "output_type": "display_data"
    },
    {
     "data": {
      "text/html": [
       "<pre style=\"white-space:pre;overflow-x:auto;line-height:normal;font-family:Menlo,'DejaVu Sans Mono',consolas,'Courier New',monospace;margin:0px\"><span style=\"background-color: #d7af00; font-weight: bold\"> DISK </span> Reading <span style=\"color: #d7af00; text-decoration-color: #d7af00\">/opt/xchem-fragalysis-2/maxwin/BulkDock/SCRATCH/201749/C1443-P22/C1443-P22.minimised.mol</span>...\n",
       "╭─────────────────────────────────────────────────────────────────────────────────────────────────────────────────╮\n",
       "│ <span style=\"font-weight: bold; text-decoration: underline\">C1443-&gt;P766: \"IQFFGYDSWILZBZ-UHFFFAOYSA-N\"</span>                                                                      │\n",
       "╰─────────────────────────────────────────────────────────────────────────────────────────────────────────────────╯\n",
       "</pre>\n"
      ],
      "text/plain": [
       "\u001b[1;7;38;5;178m DISK \u001b[0m Reading \u001b[38;5;178m/opt/xchem-fragalysis-2/maxwin/BulkDock/SCRATCH/201749/C1443-P22/C1443-P22.minimised.mol\u001b[0m...\n",
       "╭─────────────────────────────────────────────────────────────────────────────────────────────────────────────────╮\n",
       "│ \u001b[1;4mC1443->P766: \"IQFFGYDSWILZBZ-UHFFFAOYSA-N\"\u001b[0m                                                                      │\n",
       "╰─────────────────────────────────────────────────────────────────────────────────────────────────────────────────╯\n"
      ]
     },
     "metadata": {},
     "output_type": "display_data"
    },
    {
     "data": {
      "text/html": [
       "<pre style=\"white-space:pre;overflow-x:auto;line-height:normal;font-family:Menlo,'DejaVu Sans Mono',consolas,'Courier New',monospace;margin:0px\"><span style=\"font-weight: bold; text-decoration: underline\">C18-&gt;P22: </span><span style=\"color: #008000; text-decoration-color: #008000; font-weight: bold; text-decoration: underline\">\"d0248a\"</span> <span style=\"font-weight: bold; text-decoration: underline\">[</span><span style=\"color: #008000; text-decoration-color: #008000; font-weight: bold; text-decoration: underline\">'[Other] upload_1 2024-11-21'</span><span style=\"font-weight: bold; text-decoration: underline\">, </span><span style=\"color: #008000; text-decoration-color: #008000; font-weight: bold; text-decoration: underline\">'[Other] Thumb Site 2 (P2)'</span><span style=\"font-weight: bold; text-decoration: underline\">, </span><span style=\"color: #008000; text-decoration-color: #008000; font-weight: bold; text-decoration: underline\">'[Other] DENV-2'</span><span style=\"font-weight: bold; text-decoration: underline\">, </span><span style=\"color: #008000; text-decoration-color: #008000; font-weight: bold; text-decoration: underline\">'[Other] upload_1</span>\n",
       "<span style=\"color: #008000; text-decoration-color: #008000; font-weight: bold; text-decoration: underline\">2024-11-13'</span><span style=\"font-weight: bold; text-decoration: underline\">, </span><span style=\"color: #008000; text-decoration-color: #008000; font-weight: bold; text-decoration: underline\">'hits'</span><span style=\"font-weight: bold; text-decoration: underline\">, </span><span style=\"color: #008000; text-decoration-color: #008000; font-weight: bold; text-decoration: underline\">'[Other] fragment screen'</span><span style=\"font-weight: bold; text-decoration: underline\">, </span><span style=\"color: #008000; text-decoration-color: #008000; font-weight: bold; text-decoration: underline\">'Pose'</span><span style=\"font-weight: bold; text-decoration: underline\">]</span>\n",
       "</pre>\n"
      ],
      "text/plain": [
       "\u001b[1;4mC18->P22: \u001b[0m\u001b[1;4;32m\"d0248a\"\u001b[0m \u001b[1;4m[\u001b[0m\u001b[1;4;32m'\u001b[0m\u001b[1;4;32m[\u001b[0m\u001b[1;4;32mOther\u001b[0m\u001b[1;4;32m]\u001b[0m\u001b[1;4;32m upload_1 2024-11-21'\u001b[0m\u001b[1;4m, \u001b[0m\u001b[1;4;32m'\u001b[0m\u001b[1;4;32m[\u001b[0m\u001b[1;4;32mOther\u001b[0m\u001b[1;4;32m]\u001b[0m\u001b[1;4;32m Thumb Site 2 \u001b[0m\u001b[1;4;32m(\u001b[0m\u001b[1;4;32mP2\u001b[0m\u001b[1;4;32m)\u001b[0m\u001b[1;4;32m'\u001b[0m\u001b[1;4m, \u001b[0m\u001b[1;4;32m'\u001b[0m\u001b[1;4;32m[\u001b[0m\u001b[1;4;32mOther\u001b[0m\u001b[1;4;32m]\u001b[0m\u001b[1;4;32m DENV-2'\u001b[0m\u001b[1;4m, \u001b[0m\u001b[1;4;32m'\u001b[0m\u001b[1;4;32m[\u001b[0m\u001b[1;4;32mOther\u001b[0m\u001b[1;4;32m]\u001b[0m\u001b[1;4;32m upload_1\u001b[0m\n",
       "\u001b[1;4;32m2024-11-13'\u001b[0m\u001b[1;4m, \u001b[0m\u001b[1;4;32m'hits'\u001b[0m\u001b[1;4m, \u001b[0m\u001b[1;4;32m'\u001b[0m\u001b[1;4;32m[\u001b[0m\u001b[1;4;32mOther\u001b[0m\u001b[1;4;32m]\u001b[0m\u001b[1;4;32m fragment screen'\u001b[0m\u001b[1;4m, \u001b[0m\u001b[1;4;32m'Pose'\u001b[0m\u001b[1;4m]\u001b[0m\n"
      ]
     },
     "metadata": {},
     "output_type": "display_data"
    },
    {
     "data": {
      "text/html": [
       "<pre style=\"white-space:pre;overflow-x:auto;line-height:normal;font-family:Menlo,'DejaVu Sans Mono',consolas,'Courier New',monospace;margin:0px\"><span style=\"font-weight: bold; text-decoration: underline\">C29-&gt;P33: </span><span style=\"color: #008000; text-decoration-color: #008000; font-weight: bold; text-decoration: underline\">\"d0376a\"</span> <span style=\"font-weight: bold; text-decoration: underline\">[</span><span style=\"color: #008000; text-decoration-color: #008000; font-weight: bold; text-decoration: underline\">'[Other] upload_1 2024-11-21'</span><span style=\"font-weight: bold; text-decoration: underline\">, </span><span style=\"color: #008000; text-decoration-color: #008000; font-weight: bold; text-decoration: underline\">'[Other] Thumb Site 2 (P2)'</span><span style=\"font-weight: bold; text-decoration: underline\">, </span><span style=\"color: #008000; text-decoration-color: #008000; font-weight: bold; text-decoration: underline\">'[Other] DENV-2'</span><span style=\"font-weight: bold; text-decoration: underline\">, </span><span style=\"color: #008000; text-decoration-color: #008000; font-weight: bold; text-decoration: underline\">'[Other] upload_1</span>\n",
       "<span style=\"color: #008000; text-decoration-color: #008000; font-weight: bold; text-decoration: underline\">2024-11-13'</span><span style=\"font-weight: bold; text-decoration: underline\">, </span><span style=\"color: #008000; text-decoration-color: #008000; font-weight: bold; text-decoration: underline\">'[Other] unconfirmed'</span><span style=\"font-weight: bold; text-decoration: underline\">, </span><span style=\"color: #008000; text-decoration-color: #008000; font-weight: bold; text-decoration: underline\">'hits'</span><span style=\"font-weight: bold; text-decoration: underline\">, </span><span style=\"color: #008000; text-decoration-color: #008000; font-weight: bold; text-decoration: underline\">'[Other] fragment screen'</span><span style=\"font-weight: bold; text-decoration: underline\">, </span><span style=\"color: #008000; text-decoration-color: #008000; font-weight: bold; text-decoration: underline\">'Pose'</span><span style=\"font-weight: bold; text-decoration: underline\">]</span>\n",
       "</pre>\n"
      ],
      "text/plain": [
       "\u001b[1;4mC29->P33: \u001b[0m\u001b[1;4;32m\"d0376a\"\u001b[0m \u001b[1;4m[\u001b[0m\u001b[1;4;32m'\u001b[0m\u001b[1;4;32m[\u001b[0m\u001b[1;4;32mOther\u001b[0m\u001b[1;4;32m]\u001b[0m\u001b[1;4;32m upload_1 2024-11-21'\u001b[0m\u001b[1;4m, \u001b[0m\u001b[1;4;32m'\u001b[0m\u001b[1;4;32m[\u001b[0m\u001b[1;4;32mOther\u001b[0m\u001b[1;4;32m]\u001b[0m\u001b[1;4;32m Thumb Site 2 \u001b[0m\u001b[1;4;32m(\u001b[0m\u001b[1;4;32mP2\u001b[0m\u001b[1;4;32m)\u001b[0m\u001b[1;4;32m'\u001b[0m\u001b[1;4m, \u001b[0m\u001b[1;4;32m'\u001b[0m\u001b[1;4;32m[\u001b[0m\u001b[1;4;32mOther\u001b[0m\u001b[1;4;32m]\u001b[0m\u001b[1;4;32m DENV-2'\u001b[0m\u001b[1;4m, \u001b[0m\u001b[1;4;32m'\u001b[0m\u001b[1;4;32m[\u001b[0m\u001b[1;4;32mOther\u001b[0m\u001b[1;4;32m]\u001b[0m\u001b[1;4;32m upload_1\u001b[0m\n",
       "\u001b[1;4;32m2024-11-13'\u001b[0m\u001b[1;4m, \u001b[0m\u001b[1;4;32m'\u001b[0m\u001b[1;4;32m[\u001b[0m\u001b[1;4;32mOther\u001b[0m\u001b[1;4;32m]\u001b[0m\u001b[1;4;32m unconfirmed'\u001b[0m\u001b[1;4m, \u001b[0m\u001b[1;4;32m'hits'\u001b[0m\u001b[1;4m, \u001b[0m\u001b[1;4;32m'\u001b[0m\u001b[1;4;32m[\u001b[0m\u001b[1;4;32mOther\u001b[0m\u001b[1;4;32m]\u001b[0m\u001b[1;4;32m fragment screen'\u001b[0m\u001b[1;4m, \u001b[0m\u001b[1;4;32m'Pose'\u001b[0m\u001b[1;4m]\u001b[0m\n"
      ]
     },
     "metadata": {},
     "output_type": "display_data"
    },
    {
     "data": {
      "text/html": [
       "<pre style=\"white-space:pre;overflow-x:auto;line-height:normal;font-family:Menlo,'DejaVu Sans Mono',consolas,'Courier New',monospace;margin:0px\"><span style=\"background-color: #d7af00; font-weight: bold\"> DISK </span> Reading <span style=\"color: #d7af00; text-decoration-color: #d7af00\">/opt/xchem-fragalysis-2/maxwin/BulkDock/SCRATCH/201749/C1443-P33/C1443-P33.minimised.mol</span>...\n",
       "╭─────────────────────────────────────────────────────────────────────────────────────────────────────────────────╮\n",
       "│ <span style=\"font-weight: bold; text-decoration: underline\">C1443-&gt;P771: \"IQFFGYDSWILZBZ-UHFFFAOYSA-N\"</span>                                                                      │\n",
       "╰─────────────────────────────────────────────────────────────────────────────────────────────────────────────────╯\n",
       "</pre>\n"
      ],
      "text/plain": [
       "\u001b[1;7;38;5;178m DISK \u001b[0m Reading \u001b[38;5;178m/opt/xchem-fragalysis-2/maxwin/BulkDock/SCRATCH/201749/C1443-P33/C1443-P33.minimised.mol\u001b[0m...\n",
       "╭─────────────────────────────────────────────────────────────────────────────────────────────────────────────────╮\n",
       "│ \u001b[1;4mC1443->P771: \"IQFFGYDSWILZBZ-UHFFFAOYSA-N\"\u001b[0m                                                                      │\n",
       "╰─────────────────────────────────────────────────────────────────────────────────────────────────────────────────╯\n"
      ]
     },
     "metadata": {},
     "output_type": "display_data"
    },
    {
     "data": {
      "text/html": [
       "<pre style=\"white-space:pre;overflow-x:auto;line-height:normal;font-family:Menlo,'DejaVu Sans Mono',consolas,'Courier New',monospace;margin:0px\"><span style=\"font-weight: bold; text-decoration: underline\">C18-&gt;P22: </span><span style=\"color: #008000; text-decoration-color: #008000; font-weight: bold; text-decoration: underline\">\"d0248a\"</span> <span style=\"font-weight: bold; text-decoration: underline\">[</span><span style=\"color: #008000; text-decoration-color: #008000; font-weight: bold; text-decoration: underline\">'[Other] upload_1 2024-11-21'</span><span style=\"font-weight: bold; text-decoration: underline\">, </span><span style=\"color: #008000; text-decoration-color: #008000; font-weight: bold; text-decoration: underline\">'[Other] Thumb Site 2 (P2)'</span><span style=\"font-weight: bold; text-decoration: underline\">, </span><span style=\"color: #008000; text-decoration-color: #008000; font-weight: bold; text-decoration: underline\">'[Other] DENV-2'</span><span style=\"font-weight: bold; text-decoration: underline\">, </span><span style=\"color: #008000; text-decoration-color: #008000; font-weight: bold; text-decoration: underline\">'[Other] upload_1</span>\n",
       "<span style=\"color: #008000; text-decoration-color: #008000; font-weight: bold; text-decoration: underline\">2024-11-13'</span><span style=\"font-weight: bold; text-decoration: underline\">, </span><span style=\"color: #008000; text-decoration-color: #008000; font-weight: bold; text-decoration: underline\">'hits'</span><span style=\"font-weight: bold; text-decoration: underline\">, </span><span style=\"color: #008000; text-decoration-color: #008000; font-weight: bold; text-decoration: underline\">'[Other] fragment screen'</span><span style=\"font-weight: bold; text-decoration: underline\">, </span><span style=\"color: #008000; text-decoration-color: #008000; font-weight: bold; text-decoration: underline\">'Pose'</span><span style=\"font-weight: bold; text-decoration: underline\">]</span>\n",
       "</pre>\n"
      ],
      "text/plain": [
       "\u001b[1;4mC18->P22: \u001b[0m\u001b[1;4;32m\"d0248a\"\u001b[0m \u001b[1;4m[\u001b[0m\u001b[1;4;32m'\u001b[0m\u001b[1;4;32m[\u001b[0m\u001b[1;4;32mOther\u001b[0m\u001b[1;4;32m]\u001b[0m\u001b[1;4;32m upload_1 2024-11-21'\u001b[0m\u001b[1;4m, \u001b[0m\u001b[1;4;32m'\u001b[0m\u001b[1;4;32m[\u001b[0m\u001b[1;4;32mOther\u001b[0m\u001b[1;4;32m]\u001b[0m\u001b[1;4;32m Thumb Site 2 \u001b[0m\u001b[1;4;32m(\u001b[0m\u001b[1;4;32mP2\u001b[0m\u001b[1;4;32m)\u001b[0m\u001b[1;4;32m'\u001b[0m\u001b[1;4m, \u001b[0m\u001b[1;4;32m'\u001b[0m\u001b[1;4;32m[\u001b[0m\u001b[1;4;32mOther\u001b[0m\u001b[1;4;32m]\u001b[0m\u001b[1;4;32m DENV-2'\u001b[0m\u001b[1;4m, \u001b[0m\u001b[1;4;32m'\u001b[0m\u001b[1;4;32m[\u001b[0m\u001b[1;4;32mOther\u001b[0m\u001b[1;4;32m]\u001b[0m\u001b[1;4;32m upload_1\u001b[0m\n",
       "\u001b[1;4;32m2024-11-13'\u001b[0m\u001b[1;4m, \u001b[0m\u001b[1;4;32m'hits'\u001b[0m\u001b[1;4m, \u001b[0m\u001b[1;4;32m'\u001b[0m\u001b[1;4;32m[\u001b[0m\u001b[1;4;32mOther\u001b[0m\u001b[1;4;32m]\u001b[0m\u001b[1;4;32m fragment screen'\u001b[0m\u001b[1;4m, \u001b[0m\u001b[1;4;32m'Pose'\u001b[0m\u001b[1;4m]\u001b[0m\n"
      ]
     },
     "metadata": {},
     "output_type": "display_data"
    },
    {
     "data": {
      "text/html": [
       "<pre style=\"white-space:pre;overflow-x:auto;line-height:normal;font-family:Menlo,'DejaVu Sans Mono',consolas,'Courier New',monospace;margin:0px\"><span style=\"font-weight: bold; text-decoration: underline\">C29-&gt;P33: </span><span style=\"color: #008000; text-decoration-color: #008000; font-weight: bold; text-decoration: underline\">\"d0376a\"</span> <span style=\"font-weight: bold; text-decoration: underline\">[</span><span style=\"color: #008000; text-decoration-color: #008000; font-weight: bold; text-decoration: underline\">'[Other] upload_1 2024-11-21'</span><span style=\"font-weight: bold; text-decoration: underline\">, </span><span style=\"color: #008000; text-decoration-color: #008000; font-weight: bold; text-decoration: underline\">'[Other] Thumb Site 2 (P2)'</span><span style=\"font-weight: bold; text-decoration: underline\">, </span><span style=\"color: #008000; text-decoration-color: #008000; font-weight: bold; text-decoration: underline\">'[Other] DENV-2'</span><span style=\"font-weight: bold; text-decoration: underline\">, </span><span style=\"color: #008000; text-decoration-color: #008000; font-weight: bold; text-decoration: underline\">'[Other] upload_1</span>\n",
       "<span style=\"color: #008000; text-decoration-color: #008000; font-weight: bold; text-decoration: underline\">2024-11-13'</span><span style=\"font-weight: bold; text-decoration: underline\">, </span><span style=\"color: #008000; text-decoration-color: #008000; font-weight: bold; text-decoration: underline\">'[Other] unconfirmed'</span><span style=\"font-weight: bold; text-decoration: underline\">, </span><span style=\"color: #008000; text-decoration-color: #008000; font-weight: bold; text-decoration: underline\">'hits'</span><span style=\"font-weight: bold; text-decoration: underline\">, </span><span style=\"color: #008000; text-decoration-color: #008000; font-weight: bold; text-decoration: underline\">'[Other] fragment screen'</span><span style=\"font-weight: bold; text-decoration: underline\">, </span><span style=\"color: #008000; text-decoration-color: #008000; font-weight: bold; text-decoration: underline\">'Pose'</span><span style=\"font-weight: bold; text-decoration: underline\">]</span>\n",
       "</pre>\n"
      ],
      "text/plain": [
       "\u001b[1;4mC29->P33: \u001b[0m\u001b[1;4;32m\"d0376a\"\u001b[0m \u001b[1;4m[\u001b[0m\u001b[1;4;32m'\u001b[0m\u001b[1;4;32m[\u001b[0m\u001b[1;4;32mOther\u001b[0m\u001b[1;4;32m]\u001b[0m\u001b[1;4;32m upload_1 2024-11-21'\u001b[0m\u001b[1;4m, \u001b[0m\u001b[1;4;32m'\u001b[0m\u001b[1;4;32m[\u001b[0m\u001b[1;4;32mOther\u001b[0m\u001b[1;4;32m]\u001b[0m\u001b[1;4;32m Thumb Site 2 \u001b[0m\u001b[1;4;32m(\u001b[0m\u001b[1;4;32mP2\u001b[0m\u001b[1;4;32m)\u001b[0m\u001b[1;4;32m'\u001b[0m\u001b[1;4m, \u001b[0m\u001b[1;4;32m'\u001b[0m\u001b[1;4;32m[\u001b[0m\u001b[1;4;32mOther\u001b[0m\u001b[1;4;32m]\u001b[0m\u001b[1;4;32m DENV-2'\u001b[0m\u001b[1;4m, \u001b[0m\u001b[1;4;32m'\u001b[0m\u001b[1;4;32m[\u001b[0m\u001b[1;4;32mOther\u001b[0m\u001b[1;4;32m]\u001b[0m\u001b[1;4;32m upload_1\u001b[0m\n",
       "\u001b[1;4;32m2024-11-13'\u001b[0m\u001b[1;4m, \u001b[0m\u001b[1;4;32m'\u001b[0m\u001b[1;4;32m[\u001b[0m\u001b[1;4;32mOther\u001b[0m\u001b[1;4;32m]\u001b[0m\u001b[1;4;32m unconfirmed'\u001b[0m\u001b[1;4m, \u001b[0m\u001b[1;4;32m'hits'\u001b[0m\u001b[1;4m, \u001b[0m\u001b[1;4;32m'\u001b[0m\u001b[1;4;32m[\u001b[0m\u001b[1;4;32mOther\u001b[0m\u001b[1;4;32m]\u001b[0m\u001b[1;4;32m fragment screen'\u001b[0m\u001b[1;4m, \u001b[0m\u001b[1;4;32m'Pose'\u001b[0m\u001b[1;4m]\u001b[0m\n"
      ]
     },
     "metadata": {},
     "output_type": "display_data"
    },
    {
     "data": {
      "text/html": [
       "<pre style=\"white-space:pre;overflow-x:auto;line-height:normal;font-family:Menlo,'DejaVu Sans Mono',consolas,'Courier New',monospace;margin:0px\">╭─────────────────────────────────────────────────────────────────────────────────────────────────────────────────╮\n",
       "│ <span style=\"font-weight: bold; text-decoration: underline\">C1443-&gt;P41134: \"IQFFGYDSWILZBZ-UHFFFAOYSA-N\"</span>                                                                    │\n",
       "╰─────────────────────────────────────────────────────────────────────────────────────────────────────────────────╯\n",
       "</pre>\n"
      ],
      "text/plain": [
       "╭─────────────────────────────────────────────────────────────────────────────────────────────────────────────────╮\n",
       "│ \u001b[1;4mC1443->P41134: \"IQFFGYDSWILZBZ-UHFFFAOYSA-N\"\u001b[0m                                                                    │\n",
       "╰─────────────────────────────────────────────────────────────────────────────────────────────────────────────────╯\n"
      ]
     },
     "metadata": {},
     "output_type": "display_data"
    },
    {
     "data": {
      "text/html": [
       "<pre style=\"white-space:pre;overflow-x:auto;line-height:normal;font-family:Menlo,'DejaVu Sans Mono',consolas,'Courier New',monospace;margin:0px\"><span style=\"font-weight: bold; text-decoration: underline\">C18-&gt;P22: </span><span style=\"color: #008000; text-decoration-color: #008000; font-weight: bold; text-decoration: underline\">\"d0248a\"</span> <span style=\"font-weight: bold; text-decoration: underline\">[</span><span style=\"color: #008000; text-decoration-color: #008000; font-weight: bold; text-decoration: underline\">'[Other] upload_1 2024-11-21'</span><span style=\"font-weight: bold; text-decoration: underline\">, </span><span style=\"color: #008000; text-decoration-color: #008000; font-weight: bold; text-decoration: underline\">'[Other] Thumb Site 2 (P2)'</span><span style=\"font-weight: bold; text-decoration: underline\">, </span><span style=\"color: #008000; text-decoration-color: #008000; font-weight: bold; text-decoration: underline\">'[Other] DENV-2'</span><span style=\"font-weight: bold; text-decoration: underline\">, </span><span style=\"color: #008000; text-decoration-color: #008000; font-weight: bold; text-decoration: underline\">'[Other] upload_1</span>\n",
       "<span style=\"color: #008000; text-decoration-color: #008000; font-weight: bold; text-decoration: underline\">2024-11-13'</span><span style=\"font-weight: bold; text-decoration: underline\">, </span><span style=\"color: #008000; text-decoration-color: #008000; font-weight: bold; text-decoration: underline\">'hits'</span><span style=\"font-weight: bold; text-decoration: underline\">, </span><span style=\"color: #008000; text-decoration-color: #008000; font-weight: bold; text-decoration: underline\">'[Other] fragment screen'</span><span style=\"font-weight: bold; text-decoration: underline\">, </span><span style=\"color: #008000; text-decoration-color: #008000; font-weight: bold; text-decoration: underline\">'Pose'</span><span style=\"font-weight: bold; text-decoration: underline\">]</span>\n",
       "</pre>\n"
      ],
      "text/plain": [
       "\u001b[1;4mC18->P22: \u001b[0m\u001b[1;4;32m\"d0248a\"\u001b[0m \u001b[1;4m[\u001b[0m\u001b[1;4;32m'\u001b[0m\u001b[1;4;32m[\u001b[0m\u001b[1;4;32mOther\u001b[0m\u001b[1;4;32m]\u001b[0m\u001b[1;4;32m upload_1 2024-11-21'\u001b[0m\u001b[1;4m, \u001b[0m\u001b[1;4;32m'\u001b[0m\u001b[1;4;32m[\u001b[0m\u001b[1;4;32mOther\u001b[0m\u001b[1;4;32m]\u001b[0m\u001b[1;4;32m Thumb Site 2 \u001b[0m\u001b[1;4;32m(\u001b[0m\u001b[1;4;32mP2\u001b[0m\u001b[1;4;32m)\u001b[0m\u001b[1;4;32m'\u001b[0m\u001b[1;4m, \u001b[0m\u001b[1;4;32m'\u001b[0m\u001b[1;4;32m[\u001b[0m\u001b[1;4;32mOther\u001b[0m\u001b[1;4;32m]\u001b[0m\u001b[1;4;32m DENV-2'\u001b[0m\u001b[1;4m, \u001b[0m\u001b[1;4;32m'\u001b[0m\u001b[1;4;32m[\u001b[0m\u001b[1;4;32mOther\u001b[0m\u001b[1;4;32m]\u001b[0m\u001b[1;4;32m upload_1\u001b[0m\n",
       "\u001b[1;4;32m2024-11-13'\u001b[0m\u001b[1;4m, \u001b[0m\u001b[1;4;32m'hits'\u001b[0m\u001b[1;4m, \u001b[0m\u001b[1;4;32m'\u001b[0m\u001b[1;4;32m[\u001b[0m\u001b[1;4;32mOther\u001b[0m\u001b[1;4;32m]\u001b[0m\u001b[1;4;32m fragment screen'\u001b[0m\u001b[1;4m, \u001b[0m\u001b[1;4;32m'Pose'\u001b[0m\u001b[1;4m]\u001b[0m\n"
      ]
     },
     "metadata": {},
     "output_type": "display_data"
    },
    {
     "data": {
      "text/html": [
       "<pre style=\"white-space:pre;overflow-x:auto;line-height:normal;font-family:Menlo,'DejaVu Sans Mono',consolas,'Courier New',monospace;margin:0px\"><span style=\"font-weight: bold; text-decoration: underline\">C29-&gt;P33: </span><span style=\"color: #008000; text-decoration-color: #008000; font-weight: bold; text-decoration: underline\">\"d0376a\"</span> <span style=\"font-weight: bold; text-decoration: underline\">[</span><span style=\"color: #008000; text-decoration-color: #008000; font-weight: bold; text-decoration: underline\">'[Other] upload_1 2024-11-21'</span><span style=\"font-weight: bold; text-decoration: underline\">, </span><span style=\"color: #008000; text-decoration-color: #008000; font-weight: bold; text-decoration: underline\">'[Other] Thumb Site 2 (P2)'</span><span style=\"font-weight: bold; text-decoration: underline\">, </span><span style=\"color: #008000; text-decoration-color: #008000; font-weight: bold; text-decoration: underline\">'[Other] DENV-2'</span><span style=\"font-weight: bold; text-decoration: underline\">, </span><span style=\"color: #008000; text-decoration-color: #008000; font-weight: bold; text-decoration: underline\">'[Other] upload_1</span>\n",
       "<span style=\"color: #008000; text-decoration-color: #008000; font-weight: bold; text-decoration: underline\">2024-11-13'</span><span style=\"font-weight: bold; text-decoration: underline\">, </span><span style=\"color: #008000; text-decoration-color: #008000; font-weight: bold; text-decoration: underline\">'[Other] unconfirmed'</span><span style=\"font-weight: bold; text-decoration: underline\">, </span><span style=\"color: #008000; text-decoration-color: #008000; font-weight: bold; text-decoration: underline\">'hits'</span><span style=\"font-weight: bold; text-decoration: underline\">, </span><span style=\"color: #008000; text-decoration-color: #008000; font-weight: bold; text-decoration: underline\">'[Other] fragment screen'</span><span style=\"font-weight: bold; text-decoration: underline\">, </span><span style=\"color: #008000; text-decoration-color: #008000; font-weight: bold; text-decoration: underline\">'Pose'</span><span style=\"font-weight: bold; text-decoration: underline\">]</span>\n",
       "</pre>\n"
      ],
      "text/plain": [
       "\u001b[1;4mC29->P33: \u001b[0m\u001b[1;4;32m\"d0376a\"\u001b[0m \u001b[1;4m[\u001b[0m\u001b[1;4;32m'\u001b[0m\u001b[1;4;32m[\u001b[0m\u001b[1;4;32mOther\u001b[0m\u001b[1;4;32m]\u001b[0m\u001b[1;4;32m upload_1 2024-11-21'\u001b[0m\u001b[1;4m, \u001b[0m\u001b[1;4;32m'\u001b[0m\u001b[1;4;32m[\u001b[0m\u001b[1;4;32mOther\u001b[0m\u001b[1;4;32m]\u001b[0m\u001b[1;4;32m Thumb Site 2 \u001b[0m\u001b[1;4;32m(\u001b[0m\u001b[1;4;32mP2\u001b[0m\u001b[1;4;32m)\u001b[0m\u001b[1;4;32m'\u001b[0m\u001b[1;4m, \u001b[0m\u001b[1;4;32m'\u001b[0m\u001b[1;4;32m[\u001b[0m\u001b[1;4;32mOther\u001b[0m\u001b[1;4;32m]\u001b[0m\u001b[1;4;32m DENV-2'\u001b[0m\u001b[1;4m, \u001b[0m\u001b[1;4;32m'\u001b[0m\u001b[1;4;32m[\u001b[0m\u001b[1;4;32mOther\u001b[0m\u001b[1;4;32m]\u001b[0m\u001b[1;4;32m upload_1\u001b[0m\n",
       "\u001b[1;4;32m2024-11-13'\u001b[0m\u001b[1;4m, \u001b[0m\u001b[1;4;32m'\u001b[0m\u001b[1;4;32m[\u001b[0m\u001b[1;4;32mOther\u001b[0m\u001b[1;4;32m]\u001b[0m\u001b[1;4;32m unconfirmed'\u001b[0m\u001b[1;4m, \u001b[0m\u001b[1;4;32m'hits'\u001b[0m\u001b[1;4m, \u001b[0m\u001b[1;4;32m'\u001b[0m\u001b[1;4;32m[\u001b[0m\u001b[1;4;32mOther\u001b[0m\u001b[1;4;32m]\u001b[0m\u001b[1;4;32m fragment screen'\u001b[0m\u001b[1;4m, \u001b[0m\u001b[1;4;32m'Pose'\u001b[0m\u001b[1;4m]\u001b[0m\n"
      ]
     },
     "metadata": {},
     "output_type": "display_data"
    },
    {
     "data": {
      "text/html": [
       "<pre style=\"white-space:pre;overflow-x:auto;line-height:normal;font-family:Menlo,'DejaVu Sans Mono',consolas,'Courier New',monospace;margin:0px\"><span style=\"font-weight: bold; text-decoration: underline\">C43-&gt;P50: </span><span style=\"color: #008000; text-decoration-color: #008000; font-weight: bold; text-decoration: underline\">\"d0615a\"</span> <span style=\"font-weight: bold; text-decoration: underline\">[</span><span style=\"color: #008000; text-decoration-color: #008000; font-weight: bold; text-decoration: underline\">'[Other] upload_1 2024-11-21'</span><span style=\"font-weight: bold; text-decoration: underline\">, </span><span style=\"color: #008000; text-decoration-color: #008000; font-weight: bold; text-decoration: underline\">'[Other] Thumb Site 2 (P2)'</span><span style=\"font-weight: bold; text-decoration: underline\">, </span><span style=\"color: #008000; text-decoration-color: #008000; font-weight: bold; text-decoration: underline\">'[Other] DENV-2'</span><span style=\"font-weight: bold; text-decoration: underline\">, </span><span style=\"color: #008000; text-decoration-color: #008000; font-weight: bold; text-decoration: underline\">'[Other] upload_1</span>\n",
       "<span style=\"color: #008000; text-decoration-color: #008000; font-weight: bold; text-decoration: underline\">2024-11-13'</span><span style=\"font-weight: bold; text-decoration: underline\">, </span><span style=\"color: #008000; text-decoration-color: #008000; font-weight: bold; text-decoration: underline\">'[Other] unconfirmed'</span><span style=\"font-weight: bold; text-decoration: underline\">, </span><span style=\"color: #008000; text-decoration-color: #008000; font-weight: bold; text-decoration: underline\">'hits'</span><span style=\"font-weight: bold; text-decoration: underline\">, </span><span style=\"color: #008000; text-decoration-color: #008000; font-weight: bold; text-decoration: underline\">'[Other] fragment screen'</span><span style=\"font-weight: bold; text-decoration: underline\">, </span><span style=\"color: #008000; text-decoration-color: #008000; font-weight: bold; text-decoration: underline\">'Pose'</span><span style=\"font-weight: bold; text-decoration: underline\">]</span>\n",
       "</pre>\n"
      ],
      "text/plain": [
       "\u001b[1;4mC43->P50: \u001b[0m\u001b[1;4;32m\"d0615a\"\u001b[0m \u001b[1;4m[\u001b[0m\u001b[1;4;32m'\u001b[0m\u001b[1;4;32m[\u001b[0m\u001b[1;4;32mOther\u001b[0m\u001b[1;4;32m]\u001b[0m\u001b[1;4;32m upload_1 2024-11-21'\u001b[0m\u001b[1;4m, \u001b[0m\u001b[1;4;32m'\u001b[0m\u001b[1;4;32m[\u001b[0m\u001b[1;4;32mOther\u001b[0m\u001b[1;4;32m]\u001b[0m\u001b[1;4;32m Thumb Site 2 \u001b[0m\u001b[1;4;32m(\u001b[0m\u001b[1;4;32mP2\u001b[0m\u001b[1;4;32m)\u001b[0m\u001b[1;4;32m'\u001b[0m\u001b[1;4m, \u001b[0m\u001b[1;4;32m'\u001b[0m\u001b[1;4;32m[\u001b[0m\u001b[1;4;32mOther\u001b[0m\u001b[1;4;32m]\u001b[0m\u001b[1;4;32m DENV-2'\u001b[0m\u001b[1;4m, \u001b[0m\u001b[1;4;32m'\u001b[0m\u001b[1;4;32m[\u001b[0m\u001b[1;4;32mOther\u001b[0m\u001b[1;4;32m]\u001b[0m\u001b[1;4;32m upload_1\u001b[0m\n",
       "\u001b[1;4;32m2024-11-13'\u001b[0m\u001b[1;4m, \u001b[0m\u001b[1;4;32m'\u001b[0m\u001b[1;4;32m[\u001b[0m\u001b[1;4;32mOther\u001b[0m\u001b[1;4;32m]\u001b[0m\u001b[1;4;32m unconfirmed'\u001b[0m\u001b[1;4m, \u001b[0m\u001b[1;4;32m'hits'\u001b[0m\u001b[1;4m, \u001b[0m\u001b[1;4;32m'\u001b[0m\u001b[1;4;32m[\u001b[0m\u001b[1;4;32mOther\u001b[0m\u001b[1;4;32m]\u001b[0m\u001b[1;4;32m fragment screen'\u001b[0m\u001b[1;4m, \u001b[0m\u001b[1;4;32m'Pose'\u001b[0m\u001b[1;4m]\u001b[0m\n"
      ]
     },
     "metadata": {},
     "output_type": "display_data"
    },
    {
     "data": {
      "text/html": [
       "<pre style=\"white-space:pre;overflow-x:auto;line-height:normal;font-family:Menlo,'DejaVu Sans Mono',consolas,'Courier New',monospace;margin:0px\">╭─────────────────────────────────────────────────────────────────────────────────────────────────────────────────╮\n",
       "│ <span style=\"font-weight: bold; text-decoration: underline\">C1443-&gt;P41140: \"IQFFGYDSWILZBZ-UHFFFAOYSA-N\"</span>                                                                    │\n",
       "╰─────────────────────────────────────────────────────────────────────────────────────────────────────────────────╯\n",
       "</pre>\n"
      ],
      "text/plain": [
       "╭─────────────────────────────────────────────────────────────────────────────────────────────────────────────────╮\n",
       "│ \u001b[1;4mC1443->P41140: \"IQFFGYDSWILZBZ-UHFFFAOYSA-N\"\u001b[0m                                                                    │\n",
       "╰─────────────────────────────────────────────────────────────────────────────────────────────────────────────────╯\n"
      ]
     },
     "metadata": {},
     "output_type": "display_data"
    },
    {
     "data": {
      "text/html": [
       "<pre style=\"white-space:pre;overflow-x:auto;line-height:normal;font-family:Menlo,'DejaVu Sans Mono',consolas,'Courier New',monospace;margin:0px\"><span style=\"font-weight: bold; text-decoration: underline\">C18-&gt;P22: </span><span style=\"color: #008000; text-decoration-color: #008000; font-weight: bold; text-decoration: underline\">\"d0248a\"</span> <span style=\"font-weight: bold; text-decoration: underline\">[</span><span style=\"color: #008000; text-decoration-color: #008000; font-weight: bold; text-decoration: underline\">'[Other] upload_1 2024-11-21'</span><span style=\"font-weight: bold; text-decoration: underline\">, </span><span style=\"color: #008000; text-decoration-color: #008000; font-weight: bold; text-decoration: underline\">'[Other] Thumb Site 2 (P2)'</span><span style=\"font-weight: bold; text-decoration: underline\">, </span><span style=\"color: #008000; text-decoration-color: #008000; font-weight: bold; text-decoration: underline\">'[Other] DENV-2'</span><span style=\"font-weight: bold; text-decoration: underline\">, </span><span style=\"color: #008000; text-decoration-color: #008000; font-weight: bold; text-decoration: underline\">'[Other] upload_1</span>\n",
       "<span style=\"color: #008000; text-decoration-color: #008000; font-weight: bold; text-decoration: underline\">2024-11-13'</span><span style=\"font-weight: bold; text-decoration: underline\">, </span><span style=\"color: #008000; text-decoration-color: #008000; font-weight: bold; text-decoration: underline\">'hits'</span><span style=\"font-weight: bold; text-decoration: underline\">, </span><span style=\"color: #008000; text-decoration-color: #008000; font-weight: bold; text-decoration: underline\">'[Other] fragment screen'</span><span style=\"font-weight: bold; text-decoration: underline\">, </span><span style=\"color: #008000; text-decoration-color: #008000; font-weight: bold; text-decoration: underline\">'Pose'</span><span style=\"font-weight: bold; text-decoration: underline\">]</span>\n",
       "</pre>\n"
      ],
      "text/plain": [
       "\u001b[1;4mC18->P22: \u001b[0m\u001b[1;4;32m\"d0248a\"\u001b[0m \u001b[1;4m[\u001b[0m\u001b[1;4;32m'\u001b[0m\u001b[1;4;32m[\u001b[0m\u001b[1;4;32mOther\u001b[0m\u001b[1;4;32m]\u001b[0m\u001b[1;4;32m upload_1 2024-11-21'\u001b[0m\u001b[1;4m, \u001b[0m\u001b[1;4;32m'\u001b[0m\u001b[1;4;32m[\u001b[0m\u001b[1;4;32mOther\u001b[0m\u001b[1;4;32m]\u001b[0m\u001b[1;4;32m Thumb Site 2 \u001b[0m\u001b[1;4;32m(\u001b[0m\u001b[1;4;32mP2\u001b[0m\u001b[1;4;32m)\u001b[0m\u001b[1;4;32m'\u001b[0m\u001b[1;4m, \u001b[0m\u001b[1;4;32m'\u001b[0m\u001b[1;4;32m[\u001b[0m\u001b[1;4;32mOther\u001b[0m\u001b[1;4;32m]\u001b[0m\u001b[1;4;32m DENV-2'\u001b[0m\u001b[1;4m, \u001b[0m\u001b[1;4;32m'\u001b[0m\u001b[1;4;32m[\u001b[0m\u001b[1;4;32mOther\u001b[0m\u001b[1;4;32m]\u001b[0m\u001b[1;4;32m upload_1\u001b[0m\n",
       "\u001b[1;4;32m2024-11-13'\u001b[0m\u001b[1;4m, \u001b[0m\u001b[1;4;32m'hits'\u001b[0m\u001b[1;4m, \u001b[0m\u001b[1;4;32m'\u001b[0m\u001b[1;4;32m[\u001b[0m\u001b[1;4;32mOther\u001b[0m\u001b[1;4;32m]\u001b[0m\u001b[1;4;32m fragment screen'\u001b[0m\u001b[1;4m, \u001b[0m\u001b[1;4;32m'Pose'\u001b[0m\u001b[1;4m]\u001b[0m\n"
      ]
     },
     "metadata": {},
     "output_type": "display_data"
    },
    {
     "data": {
      "text/html": [
       "<pre style=\"white-space:pre;overflow-x:auto;line-height:normal;font-family:Menlo,'DejaVu Sans Mono',consolas,'Courier New',monospace;margin:0px\"><span style=\"font-weight: bold; text-decoration: underline\">C43-&gt;P50: </span><span style=\"color: #008000; text-decoration-color: #008000; font-weight: bold; text-decoration: underline\">\"d0615a\"</span> <span style=\"font-weight: bold; text-decoration: underline\">[</span><span style=\"color: #008000; text-decoration-color: #008000; font-weight: bold; text-decoration: underline\">'[Other] upload_1 2024-11-21'</span><span style=\"font-weight: bold; text-decoration: underline\">, </span><span style=\"color: #008000; text-decoration-color: #008000; font-weight: bold; text-decoration: underline\">'[Other] Thumb Site 2 (P2)'</span><span style=\"font-weight: bold; text-decoration: underline\">, </span><span style=\"color: #008000; text-decoration-color: #008000; font-weight: bold; text-decoration: underline\">'[Other] DENV-2'</span><span style=\"font-weight: bold; text-decoration: underline\">, </span><span style=\"color: #008000; text-decoration-color: #008000; font-weight: bold; text-decoration: underline\">'[Other] upload_1</span>\n",
       "<span style=\"color: #008000; text-decoration-color: #008000; font-weight: bold; text-decoration: underline\">2024-11-13'</span><span style=\"font-weight: bold; text-decoration: underline\">, </span><span style=\"color: #008000; text-decoration-color: #008000; font-weight: bold; text-decoration: underline\">'[Other] unconfirmed'</span><span style=\"font-weight: bold; text-decoration: underline\">, </span><span style=\"color: #008000; text-decoration-color: #008000; font-weight: bold; text-decoration: underline\">'hits'</span><span style=\"font-weight: bold; text-decoration: underline\">, </span><span style=\"color: #008000; text-decoration-color: #008000; font-weight: bold; text-decoration: underline\">'[Other] fragment screen'</span><span style=\"font-weight: bold; text-decoration: underline\">, </span><span style=\"color: #008000; text-decoration-color: #008000; font-weight: bold; text-decoration: underline\">'Pose'</span><span style=\"font-weight: bold; text-decoration: underline\">]</span>\n",
       "</pre>\n"
      ],
      "text/plain": [
       "\u001b[1;4mC43->P50: \u001b[0m\u001b[1;4;32m\"d0615a\"\u001b[0m \u001b[1;4m[\u001b[0m\u001b[1;4;32m'\u001b[0m\u001b[1;4;32m[\u001b[0m\u001b[1;4;32mOther\u001b[0m\u001b[1;4;32m]\u001b[0m\u001b[1;4;32m upload_1 2024-11-21'\u001b[0m\u001b[1;4m, \u001b[0m\u001b[1;4;32m'\u001b[0m\u001b[1;4;32m[\u001b[0m\u001b[1;4;32mOther\u001b[0m\u001b[1;4;32m]\u001b[0m\u001b[1;4;32m Thumb Site 2 \u001b[0m\u001b[1;4;32m(\u001b[0m\u001b[1;4;32mP2\u001b[0m\u001b[1;4;32m)\u001b[0m\u001b[1;4;32m'\u001b[0m\u001b[1;4m, \u001b[0m\u001b[1;4;32m'\u001b[0m\u001b[1;4;32m[\u001b[0m\u001b[1;4;32mOther\u001b[0m\u001b[1;4;32m]\u001b[0m\u001b[1;4;32m DENV-2'\u001b[0m\u001b[1;4m, \u001b[0m\u001b[1;4;32m'\u001b[0m\u001b[1;4;32m[\u001b[0m\u001b[1;4;32mOther\u001b[0m\u001b[1;4;32m]\u001b[0m\u001b[1;4;32m upload_1\u001b[0m\n",
       "\u001b[1;4;32m2024-11-13'\u001b[0m\u001b[1;4m, \u001b[0m\u001b[1;4;32m'\u001b[0m\u001b[1;4;32m[\u001b[0m\u001b[1;4;32mOther\u001b[0m\u001b[1;4;32m]\u001b[0m\u001b[1;4;32m unconfirmed'\u001b[0m\u001b[1;4m, \u001b[0m\u001b[1;4;32m'hits'\u001b[0m\u001b[1;4m, \u001b[0m\u001b[1;4;32m'\u001b[0m\u001b[1;4;32m[\u001b[0m\u001b[1;4;32mOther\u001b[0m\u001b[1;4;32m]\u001b[0m\u001b[1;4;32m fragment screen'\u001b[0m\u001b[1;4m, \u001b[0m\u001b[1;4;32m'Pose'\u001b[0m\u001b[1;4m]\u001b[0m\n"
      ]
     },
     "metadata": {},
     "output_type": "display_data"
    },
    {
     "data": {
      "text/html": [
       "<pre style=\"white-space:pre;overflow-x:auto;line-height:normal;font-family:Menlo,'DejaVu Sans Mono',consolas,'Courier New',monospace;margin:0px\">╭─────────────────────────────────────────────────────────────────────────────────────────────────────────────────╮\n",
       "│ <span style=\"font-weight: bold; text-decoration: underline\">C1443-&gt;P43149: \"IQFFGYDSWILZBZ-UHFFFAOYSA-N\"</span>                                                                    │\n",
       "╰─────────────────────────────────────────────────────────────────────────────────────────────────────────────────╯\n",
       "</pre>\n"
      ],
      "text/plain": [
       "╭─────────────────────────────────────────────────────────────────────────────────────────────────────────────────╮\n",
       "│ \u001b[1;4mC1443->P43149: \"IQFFGYDSWILZBZ-UHFFFAOYSA-N\"\u001b[0m                                                                    │\n",
       "╰─────────────────────────────────────────────────────────────────────────────────────────────────────────────────╯\n"
      ]
     },
     "metadata": {},
     "output_type": "display_data"
    },
    {
     "data": {
      "text/html": [
       "<pre style=\"white-space:pre;overflow-x:auto;line-height:normal;font-family:Menlo,'DejaVu Sans Mono',consolas,'Courier New',monospace;margin:0px\"><span style=\"font-weight: bold; text-decoration: underline\">C18-&gt;P22: </span><span style=\"color: #008000; text-decoration-color: #008000; font-weight: bold; text-decoration: underline\">\"d0248a\"</span> <span style=\"font-weight: bold; text-decoration: underline\">[</span><span style=\"color: #008000; text-decoration-color: #008000; font-weight: bold; text-decoration: underline\">'[Other] upload_1 2024-11-21'</span><span style=\"font-weight: bold; text-decoration: underline\">, </span><span style=\"color: #008000; text-decoration-color: #008000; font-weight: bold; text-decoration: underline\">'[Other] Thumb Site 2 (P2)'</span><span style=\"font-weight: bold; text-decoration: underline\">, </span><span style=\"color: #008000; text-decoration-color: #008000; font-weight: bold; text-decoration: underline\">'[Other] DENV-2'</span><span style=\"font-weight: bold; text-decoration: underline\">, </span><span style=\"color: #008000; text-decoration-color: #008000; font-weight: bold; text-decoration: underline\">'[Other] upload_1</span>\n",
       "<span style=\"color: #008000; text-decoration-color: #008000; font-weight: bold; text-decoration: underline\">2024-11-13'</span><span style=\"font-weight: bold; text-decoration: underline\">, </span><span style=\"color: #008000; text-decoration-color: #008000; font-weight: bold; text-decoration: underline\">'hits'</span><span style=\"font-weight: bold; text-decoration: underline\">, </span><span style=\"color: #008000; text-decoration-color: #008000; font-weight: bold; text-decoration: underline\">'[Other] fragment screen'</span><span style=\"font-weight: bold; text-decoration: underline\">, </span><span style=\"color: #008000; text-decoration-color: #008000; font-weight: bold; text-decoration: underline\">'Pose'</span><span style=\"font-weight: bold; text-decoration: underline\">]</span>\n",
       "</pre>\n"
      ],
      "text/plain": [
       "\u001b[1;4mC18->P22: \u001b[0m\u001b[1;4;32m\"d0248a\"\u001b[0m \u001b[1;4m[\u001b[0m\u001b[1;4;32m'\u001b[0m\u001b[1;4;32m[\u001b[0m\u001b[1;4;32mOther\u001b[0m\u001b[1;4;32m]\u001b[0m\u001b[1;4;32m upload_1 2024-11-21'\u001b[0m\u001b[1;4m, \u001b[0m\u001b[1;4;32m'\u001b[0m\u001b[1;4;32m[\u001b[0m\u001b[1;4;32mOther\u001b[0m\u001b[1;4;32m]\u001b[0m\u001b[1;4;32m Thumb Site 2 \u001b[0m\u001b[1;4;32m(\u001b[0m\u001b[1;4;32mP2\u001b[0m\u001b[1;4;32m)\u001b[0m\u001b[1;4;32m'\u001b[0m\u001b[1;4m, \u001b[0m\u001b[1;4;32m'\u001b[0m\u001b[1;4;32m[\u001b[0m\u001b[1;4;32mOther\u001b[0m\u001b[1;4;32m]\u001b[0m\u001b[1;4;32m DENV-2'\u001b[0m\u001b[1;4m, \u001b[0m\u001b[1;4;32m'\u001b[0m\u001b[1;4;32m[\u001b[0m\u001b[1;4;32mOther\u001b[0m\u001b[1;4;32m]\u001b[0m\u001b[1;4;32m upload_1\u001b[0m\n",
       "\u001b[1;4;32m2024-11-13'\u001b[0m\u001b[1;4m, \u001b[0m\u001b[1;4;32m'hits'\u001b[0m\u001b[1;4m, \u001b[0m\u001b[1;4;32m'\u001b[0m\u001b[1;4;32m[\u001b[0m\u001b[1;4;32mOther\u001b[0m\u001b[1;4;32m]\u001b[0m\u001b[1;4;32m fragment screen'\u001b[0m\u001b[1;4m, \u001b[0m\u001b[1;4;32m'Pose'\u001b[0m\u001b[1;4m]\u001b[0m\n"
      ]
     },
     "metadata": {},
     "output_type": "display_data"
    },
    {
     "data": {
      "text/html": [
       "<pre style=\"white-space:pre;overflow-x:auto;line-height:normal;font-family:Menlo,'DejaVu Sans Mono',consolas,'Courier New',monospace;margin:0px\"><span style=\"font-weight: bold; text-decoration: underline\">C29-&gt;P33: </span><span style=\"color: #008000; text-decoration-color: #008000; font-weight: bold; text-decoration: underline\">\"d0376a\"</span> <span style=\"font-weight: bold; text-decoration: underline\">[</span><span style=\"color: #008000; text-decoration-color: #008000; font-weight: bold; text-decoration: underline\">'[Other] upload_1 2024-11-21'</span><span style=\"font-weight: bold; text-decoration: underline\">, </span><span style=\"color: #008000; text-decoration-color: #008000; font-weight: bold; text-decoration: underline\">'[Other] Thumb Site 2 (P2)'</span><span style=\"font-weight: bold; text-decoration: underline\">, </span><span style=\"color: #008000; text-decoration-color: #008000; font-weight: bold; text-decoration: underline\">'[Other] DENV-2'</span><span style=\"font-weight: bold; text-decoration: underline\">, </span><span style=\"color: #008000; text-decoration-color: #008000; font-weight: bold; text-decoration: underline\">'[Other] upload_1</span>\n",
       "<span style=\"color: #008000; text-decoration-color: #008000; font-weight: bold; text-decoration: underline\">2024-11-13'</span><span style=\"font-weight: bold; text-decoration: underline\">, </span><span style=\"color: #008000; text-decoration-color: #008000; font-weight: bold; text-decoration: underline\">'[Other] unconfirmed'</span><span style=\"font-weight: bold; text-decoration: underline\">, </span><span style=\"color: #008000; text-decoration-color: #008000; font-weight: bold; text-decoration: underline\">'hits'</span><span style=\"font-weight: bold; text-decoration: underline\">, </span><span style=\"color: #008000; text-decoration-color: #008000; font-weight: bold; text-decoration: underline\">'[Other] fragment screen'</span><span style=\"font-weight: bold; text-decoration: underline\">, </span><span style=\"color: #008000; text-decoration-color: #008000; font-weight: bold; text-decoration: underline\">'Pose'</span><span style=\"font-weight: bold; text-decoration: underline\">]</span>\n",
       "</pre>\n"
      ],
      "text/plain": [
       "\u001b[1;4mC29->P33: \u001b[0m\u001b[1;4;32m\"d0376a\"\u001b[0m \u001b[1;4m[\u001b[0m\u001b[1;4;32m'\u001b[0m\u001b[1;4;32m[\u001b[0m\u001b[1;4;32mOther\u001b[0m\u001b[1;4;32m]\u001b[0m\u001b[1;4;32m upload_1 2024-11-21'\u001b[0m\u001b[1;4m, \u001b[0m\u001b[1;4;32m'\u001b[0m\u001b[1;4;32m[\u001b[0m\u001b[1;4;32mOther\u001b[0m\u001b[1;4;32m]\u001b[0m\u001b[1;4;32m Thumb Site 2 \u001b[0m\u001b[1;4;32m(\u001b[0m\u001b[1;4;32mP2\u001b[0m\u001b[1;4;32m)\u001b[0m\u001b[1;4;32m'\u001b[0m\u001b[1;4m, \u001b[0m\u001b[1;4;32m'\u001b[0m\u001b[1;4;32m[\u001b[0m\u001b[1;4;32mOther\u001b[0m\u001b[1;4;32m]\u001b[0m\u001b[1;4;32m DENV-2'\u001b[0m\u001b[1;4m, \u001b[0m\u001b[1;4;32m'\u001b[0m\u001b[1;4;32m[\u001b[0m\u001b[1;4;32mOther\u001b[0m\u001b[1;4;32m]\u001b[0m\u001b[1;4;32m upload_1\u001b[0m\n",
       "\u001b[1;4;32m2024-11-13'\u001b[0m\u001b[1;4m, \u001b[0m\u001b[1;4;32m'\u001b[0m\u001b[1;4;32m[\u001b[0m\u001b[1;4;32mOther\u001b[0m\u001b[1;4;32m]\u001b[0m\u001b[1;4;32m unconfirmed'\u001b[0m\u001b[1;4m, \u001b[0m\u001b[1;4;32m'hits'\u001b[0m\u001b[1;4m, \u001b[0m\u001b[1;4;32m'\u001b[0m\u001b[1;4;32m[\u001b[0m\u001b[1;4;32mOther\u001b[0m\u001b[1;4;32m]\u001b[0m\u001b[1;4;32m fragment screen'\u001b[0m\u001b[1;4m, \u001b[0m\u001b[1;4;32m'Pose'\u001b[0m\u001b[1;4m]\u001b[0m\n"
      ]
     },
     "metadata": {},
     "output_type": "display_data"
    },
    {
     "data": {
      "text/html": [
       "<pre style=\"white-space:pre;overflow-x:auto;line-height:normal;font-family:Menlo,'DejaVu Sans Mono',consolas,'Courier New',monospace;margin:0px\">╭─────────────────────────────────────────────────────────────────────────────────────────────────────────────────╮\n",
       "│ <span style=\"font-weight: bold; text-decoration: underline\">C1443-&gt;P43154: \"IQFFGYDSWILZBZ-UHFFFAOYSA-N\"</span>                                                                    │\n",
       "╰─────────────────────────────────────────────────────────────────────────────────────────────────────────────────╯\n",
       "</pre>\n"
      ],
      "text/plain": [
       "╭─────────────────────────────────────────────────────────────────────────────────────────────────────────────────╮\n",
       "│ \u001b[1;4mC1443->P43154: \"IQFFGYDSWILZBZ-UHFFFAOYSA-N\"\u001b[0m                                                                    │\n",
       "╰─────────────────────────────────────────────────────────────────────────────────────────────────────────────────╯\n"
      ]
     },
     "metadata": {},
     "output_type": "display_data"
    },
    {
     "data": {
      "text/html": [
       "<pre style=\"white-space:pre;overflow-x:auto;line-height:normal;font-family:Menlo,'DejaVu Sans Mono',consolas,'Courier New',monospace;margin:0px\"><span style=\"font-weight: bold; text-decoration: underline\">C18-&gt;P22: </span><span style=\"color: #008000; text-decoration-color: #008000; font-weight: bold; text-decoration: underline\">\"d0248a\"</span> <span style=\"font-weight: bold; text-decoration: underline\">[</span><span style=\"color: #008000; text-decoration-color: #008000; font-weight: bold; text-decoration: underline\">'[Other] upload_1 2024-11-21'</span><span style=\"font-weight: bold; text-decoration: underline\">, </span><span style=\"color: #008000; text-decoration-color: #008000; font-weight: bold; text-decoration: underline\">'[Other] Thumb Site 2 (P2)'</span><span style=\"font-weight: bold; text-decoration: underline\">, </span><span style=\"color: #008000; text-decoration-color: #008000; font-weight: bold; text-decoration: underline\">'[Other] DENV-2'</span><span style=\"font-weight: bold; text-decoration: underline\">, </span><span style=\"color: #008000; text-decoration-color: #008000; font-weight: bold; text-decoration: underline\">'[Other] upload_1</span>\n",
       "<span style=\"color: #008000; text-decoration-color: #008000; font-weight: bold; text-decoration: underline\">2024-11-13'</span><span style=\"font-weight: bold; text-decoration: underline\">, </span><span style=\"color: #008000; text-decoration-color: #008000; font-weight: bold; text-decoration: underline\">'hits'</span><span style=\"font-weight: bold; text-decoration: underline\">, </span><span style=\"color: #008000; text-decoration-color: #008000; font-weight: bold; text-decoration: underline\">'[Other] fragment screen'</span><span style=\"font-weight: bold; text-decoration: underline\">, </span><span style=\"color: #008000; text-decoration-color: #008000; font-weight: bold; text-decoration: underline\">'Pose'</span><span style=\"font-weight: bold; text-decoration: underline\">]</span>\n",
       "</pre>\n"
      ],
      "text/plain": [
       "\u001b[1;4mC18->P22: \u001b[0m\u001b[1;4;32m\"d0248a\"\u001b[0m \u001b[1;4m[\u001b[0m\u001b[1;4;32m'\u001b[0m\u001b[1;4;32m[\u001b[0m\u001b[1;4;32mOther\u001b[0m\u001b[1;4;32m]\u001b[0m\u001b[1;4;32m upload_1 2024-11-21'\u001b[0m\u001b[1;4m, \u001b[0m\u001b[1;4;32m'\u001b[0m\u001b[1;4;32m[\u001b[0m\u001b[1;4;32mOther\u001b[0m\u001b[1;4;32m]\u001b[0m\u001b[1;4;32m Thumb Site 2 \u001b[0m\u001b[1;4;32m(\u001b[0m\u001b[1;4;32mP2\u001b[0m\u001b[1;4;32m)\u001b[0m\u001b[1;4;32m'\u001b[0m\u001b[1;4m, \u001b[0m\u001b[1;4;32m'\u001b[0m\u001b[1;4;32m[\u001b[0m\u001b[1;4;32mOther\u001b[0m\u001b[1;4;32m]\u001b[0m\u001b[1;4;32m DENV-2'\u001b[0m\u001b[1;4m, \u001b[0m\u001b[1;4;32m'\u001b[0m\u001b[1;4;32m[\u001b[0m\u001b[1;4;32mOther\u001b[0m\u001b[1;4;32m]\u001b[0m\u001b[1;4;32m upload_1\u001b[0m\n",
       "\u001b[1;4;32m2024-11-13'\u001b[0m\u001b[1;4m, \u001b[0m\u001b[1;4;32m'hits'\u001b[0m\u001b[1;4m, \u001b[0m\u001b[1;4;32m'\u001b[0m\u001b[1;4;32m[\u001b[0m\u001b[1;4;32mOther\u001b[0m\u001b[1;4;32m]\u001b[0m\u001b[1;4;32m fragment screen'\u001b[0m\u001b[1;4m, \u001b[0m\u001b[1;4;32m'Pose'\u001b[0m\u001b[1;4m]\u001b[0m\n"
      ]
     },
     "metadata": {},
     "output_type": "display_data"
    },
    {
     "data": {
      "text/html": [
       "<pre style=\"white-space:pre;overflow-x:auto;line-height:normal;font-family:Menlo,'DejaVu Sans Mono',consolas,'Courier New',monospace;margin:0px\"><span style=\"font-weight: bold; text-decoration: underline\">C29-&gt;P33: </span><span style=\"color: #008000; text-decoration-color: #008000; font-weight: bold; text-decoration: underline\">\"d0376a\"</span> <span style=\"font-weight: bold; text-decoration: underline\">[</span><span style=\"color: #008000; text-decoration-color: #008000; font-weight: bold; text-decoration: underline\">'[Other] upload_1 2024-11-21'</span><span style=\"font-weight: bold; text-decoration: underline\">, </span><span style=\"color: #008000; text-decoration-color: #008000; font-weight: bold; text-decoration: underline\">'[Other] Thumb Site 2 (P2)'</span><span style=\"font-weight: bold; text-decoration: underline\">, </span><span style=\"color: #008000; text-decoration-color: #008000; font-weight: bold; text-decoration: underline\">'[Other] DENV-2'</span><span style=\"font-weight: bold; text-decoration: underline\">, </span><span style=\"color: #008000; text-decoration-color: #008000; font-weight: bold; text-decoration: underline\">'[Other] upload_1</span>\n",
       "<span style=\"color: #008000; text-decoration-color: #008000; font-weight: bold; text-decoration: underline\">2024-11-13'</span><span style=\"font-weight: bold; text-decoration: underline\">, </span><span style=\"color: #008000; text-decoration-color: #008000; font-weight: bold; text-decoration: underline\">'[Other] unconfirmed'</span><span style=\"font-weight: bold; text-decoration: underline\">, </span><span style=\"color: #008000; text-decoration-color: #008000; font-weight: bold; text-decoration: underline\">'hits'</span><span style=\"font-weight: bold; text-decoration: underline\">, </span><span style=\"color: #008000; text-decoration-color: #008000; font-weight: bold; text-decoration: underline\">'[Other] fragment screen'</span><span style=\"font-weight: bold; text-decoration: underline\">, </span><span style=\"color: #008000; text-decoration-color: #008000; font-weight: bold; text-decoration: underline\">'Pose'</span><span style=\"font-weight: bold; text-decoration: underline\">]</span>\n",
       "</pre>\n"
      ],
      "text/plain": [
       "\u001b[1;4mC29->P33: \u001b[0m\u001b[1;4;32m\"d0376a\"\u001b[0m \u001b[1;4m[\u001b[0m\u001b[1;4;32m'\u001b[0m\u001b[1;4;32m[\u001b[0m\u001b[1;4;32mOther\u001b[0m\u001b[1;4;32m]\u001b[0m\u001b[1;4;32m upload_1 2024-11-21'\u001b[0m\u001b[1;4m, \u001b[0m\u001b[1;4;32m'\u001b[0m\u001b[1;4;32m[\u001b[0m\u001b[1;4;32mOther\u001b[0m\u001b[1;4;32m]\u001b[0m\u001b[1;4;32m Thumb Site 2 \u001b[0m\u001b[1;4;32m(\u001b[0m\u001b[1;4;32mP2\u001b[0m\u001b[1;4;32m)\u001b[0m\u001b[1;4;32m'\u001b[0m\u001b[1;4m, \u001b[0m\u001b[1;4;32m'\u001b[0m\u001b[1;4;32m[\u001b[0m\u001b[1;4;32mOther\u001b[0m\u001b[1;4;32m]\u001b[0m\u001b[1;4;32m DENV-2'\u001b[0m\u001b[1;4m, \u001b[0m\u001b[1;4;32m'\u001b[0m\u001b[1;4;32m[\u001b[0m\u001b[1;4;32mOther\u001b[0m\u001b[1;4;32m]\u001b[0m\u001b[1;4;32m upload_1\u001b[0m\n",
       "\u001b[1;4;32m2024-11-13'\u001b[0m\u001b[1;4m, \u001b[0m\u001b[1;4;32m'\u001b[0m\u001b[1;4;32m[\u001b[0m\u001b[1;4;32mOther\u001b[0m\u001b[1;4;32m]\u001b[0m\u001b[1;4;32m unconfirmed'\u001b[0m\u001b[1;4m, \u001b[0m\u001b[1;4;32m'hits'\u001b[0m\u001b[1;4m, \u001b[0m\u001b[1;4;32m'\u001b[0m\u001b[1;4;32m[\u001b[0m\u001b[1;4;32mOther\u001b[0m\u001b[1;4;32m]\u001b[0m\u001b[1;4;32m fragment screen'\u001b[0m\u001b[1;4m, \u001b[0m\u001b[1;4;32m'Pose'\u001b[0m\u001b[1;4m]\u001b[0m\n"
      ]
     },
     "metadata": {},
     "output_type": "display_data"
    },
    {
     "data": {
      "text/html": [
       "<pre style=\"white-space:pre;overflow-x:auto;line-height:normal;font-family:Menlo,'DejaVu Sans Mono',consolas,'Courier New',monospace;margin:0px\">╭─────────────────────────────────────────────────────────────────────────────────────────────────────────────────╮\n",
       "│ <span style=\"font-weight: bold; text-decoration: underline\">C1443-&gt;P48009: \"IQFFGYDSWILZBZ-UHFFFAOYSA-N\"</span>                                                                    │\n",
       "╰─────────────────────────────────────────────────────────────────────────────────────────────────────────────────╯\n",
       "</pre>\n"
      ],
      "text/plain": [
       "╭─────────────────────────────────────────────────────────────────────────────────────────────────────────────────╮\n",
       "│ \u001b[1;4mC1443->P48009: \"IQFFGYDSWILZBZ-UHFFFAOYSA-N\"\u001b[0m                                                                    │\n",
       "╰─────────────────────────────────────────────────────────────────────────────────────────────────────────────────╯\n"
      ]
     },
     "metadata": {},
     "output_type": "display_data"
    },
    {
     "data": {
      "text/html": [
       "<pre style=\"white-space:pre;overflow-x:auto;line-height:normal;font-family:Menlo,'DejaVu Sans Mono',consolas,'Courier New',monospace;margin:0px\"><span style=\"font-weight: bold; text-decoration: underline\">C18-&gt;P22: </span><span style=\"color: #008000; text-decoration-color: #008000; font-weight: bold; text-decoration: underline\">\"d0248a\"</span> <span style=\"font-weight: bold; text-decoration: underline\">[</span><span style=\"color: #008000; text-decoration-color: #008000; font-weight: bold; text-decoration: underline\">'[Other] upload_1 2024-11-21'</span><span style=\"font-weight: bold; text-decoration: underline\">, </span><span style=\"color: #008000; text-decoration-color: #008000; font-weight: bold; text-decoration: underline\">'[Other] Thumb Site 2 (P2)'</span><span style=\"font-weight: bold; text-decoration: underline\">, </span><span style=\"color: #008000; text-decoration-color: #008000; font-weight: bold; text-decoration: underline\">'[Other] DENV-2'</span><span style=\"font-weight: bold; text-decoration: underline\">, </span><span style=\"color: #008000; text-decoration-color: #008000; font-weight: bold; text-decoration: underline\">'[Other] upload_1</span>\n",
       "<span style=\"color: #008000; text-decoration-color: #008000; font-weight: bold; text-decoration: underline\">2024-11-13'</span><span style=\"font-weight: bold; text-decoration: underline\">, </span><span style=\"color: #008000; text-decoration-color: #008000; font-weight: bold; text-decoration: underline\">'hits'</span><span style=\"font-weight: bold; text-decoration: underline\">, </span><span style=\"color: #008000; text-decoration-color: #008000; font-weight: bold; text-decoration: underline\">'[Other] fragment screen'</span><span style=\"font-weight: bold; text-decoration: underline\">, </span><span style=\"color: #008000; text-decoration-color: #008000; font-weight: bold; text-decoration: underline\">'Pose'</span><span style=\"font-weight: bold; text-decoration: underline\">]</span>\n",
       "</pre>\n"
      ],
      "text/plain": [
       "\u001b[1;4mC18->P22: \u001b[0m\u001b[1;4;32m\"d0248a\"\u001b[0m \u001b[1;4m[\u001b[0m\u001b[1;4;32m'\u001b[0m\u001b[1;4;32m[\u001b[0m\u001b[1;4;32mOther\u001b[0m\u001b[1;4;32m]\u001b[0m\u001b[1;4;32m upload_1 2024-11-21'\u001b[0m\u001b[1;4m, \u001b[0m\u001b[1;4;32m'\u001b[0m\u001b[1;4;32m[\u001b[0m\u001b[1;4;32mOther\u001b[0m\u001b[1;4;32m]\u001b[0m\u001b[1;4;32m Thumb Site 2 \u001b[0m\u001b[1;4;32m(\u001b[0m\u001b[1;4;32mP2\u001b[0m\u001b[1;4;32m)\u001b[0m\u001b[1;4;32m'\u001b[0m\u001b[1;4m, \u001b[0m\u001b[1;4;32m'\u001b[0m\u001b[1;4;32m[\u001b[0m\u001b[1;4;32mOther\u001b[0m\u001b[1;4;32m]\u001b[0m\u001b[1;4;32m DENV-2'\u001b[0m\u001b[1;4m, \u001b[0m\u001b[1;4;32m'\u001b[0m\u001b[1;4;32m[\u001b[0m\u001b[1;4;32mOther\u001b[0m\u001b[1;4;32m]\u001b[0m\u001b[1;4;32m upload_1\u001b[0m\n",
       "\u001b[1;4;32m2024-11-13'\u001b[0m\u001b[1;4m, \u001b[0m\u001b[1;4;32m'hits'\u001b[0m\u001b[1;4m, \u001b[0m\u001b[1;4;32m'\u001b[0m\u001b[1;4;32m[\u001b[0m\u001b[1;4;32mOther\u001b[0m\u001b[1;4;32m]\u001b[0m\u001b[1;4;32m fragment screen'\u001b[0m\u001b[1;4m, \u001b[0m\u001b[1;4;32m'Pose'\u001b[0m\u001b[1;4m]\u001b[0m\n"
      ]
     },
     "metadata": {},
     "output_type": "display_data"
    },
    {
     "data": {
      "text/html": [
       "<pre style=\"white-space:pre;overflow-x:auto;line-height:normal;font-family:Menlo,'DejaVu Sans Mono',consolas,'Courier New',monospace;margin:0px\"><span style=\"font-weight: bold; text-decoration: underline\">C29-&gt;P33: </span><span style=\"color: #008000; text-decoration-color: #008000; font-weight: bold; text-decoration: underline\">\"d0376a\"</span> <span style=\"font-weight: bold; text-decoration: underline\">[</span><span style=\"color: #008000; text-decoration-color: #008000; font-weight: bold; text-decoration: underline\">'[Other] upload_1 2024-11-21'</span><span style=\"font-weight: bold; text-decoration: underline\">, </span><span style=\"color: #008000; text-decoration-color: #008000; font-weight: bold; text-decoration: underline\">'[Other] Thumb Site 2 (P2)'</span><span style=\"font-weight: bold; text-decoration: underline\">, </span><span style=\"color: #008000; text-decoration-color: #008000; font-weight: bold; text-decoration: underline\">'[Other] DENV-2'</span><span style=\"font-weight: bold; text-decoration: underline\">, </span><span style=\"color: #008000; text-decoration-color: #008000; font-weight: bold; text-decoration: underline\">'[Other] upload_1</span>\n",
       "<span style=\"color: #008000; text-decoration-color: #008000; font-weight: bold; text-decoration: underline\">2024-11-13'</span><span style=\"font-weight: bold; text-decoration: underline\">, </span><span style=\"color: #008000; text-decoration-color: #008000; font-weight: bold; text-decoration: underline\">'[Other] unconfirmed'</span><span style=\"font-weight: bold; text-decoration: underline\">, </span><span style=\"color: #008000; text-decoration-color: #008000; font-weight: bold; text-decoration: underline\">'hits'</span><span style=\"font-weight: bold; text-decoration: underline\">, </span><span style=\"color: #008000; text-decoration-color: #008000; font-weight: bold; text-decoration: underline\">'[Other] fragment screen'</span><span style=\"font-weight: bold; text-decoration: underline\">, </span><span style=\"color: #008000; text-decoration-color: #008000; font-weight: bold; text-decoration: underline\">'Pose'</span><span style=\"font-weight: bold; text-decoration: underline\">]</span>\n",
       "</pre>\n"
      ],
      "text/plain": [
       "\u001b[1;4mC29->P33: \u001b[0m\u001b[1;4;32m\"d0376a\"\u001b[0m \u001b[1;4m[\u001b[0m\u001b[1;4;32m'\u001b[0m\u001b[1;4;32m[\u001b[0m\u001b[1;4;32mOther\u001b[0m\u001b[1;4;32m]\u001b[0m\u001b[1;4;32m upload_1 2024-11-21'\u001b[0m\u001b[1;4m, \u001b[0m\u001b[1;4;32m'\u001b[0m\u001b[1;4;32m[\u001b[0m\u001b[1;4;32mOther\u001b[0m\u001b[1;4;32m]\u001b[0m\u001b[1;4;32m Thumb Site 2 \u001b[0m\u001b[1;4;32m(\u001b[0m\u001b[1;4;32mP2\u001b[0m\u001b[1;4;32m)\u001b[0m\u001b[1;4;32m'\u001b[0m\u001b[1;4m, \u001b[0m\u001b[1;4;32m'\u001b[0m\u001b[1;4;32m[\u001b[0m\u001b[1;4;32mOther\u001b[0m\u001b[1;4;32m]\u001b[0m\u001b[1;4;32m DENV-2'\u001b[0m\u001b[1;4m, \u001b[0m\u001b[1;4;32m'\u001b[0m\u001b[1;4;32m[\u001b[0m\u001b[1;4;32mOther\u001b[0m\u001b[1;4;32m]\u001b[0m\u001b[1;4;32m upload_1\u001b[0m\n",
       "\u001b[1;4;32m2024-11-13'\u001b[0m\u001b[1;4m, \u001b[0m\u001b[1;4;32m'\u001b[0m\u001b[1;4;32m[\u001b[0m\u001b[1;4;32mOther\u001b[0m\u001b[1;4;32m]\u001b[0m\u001b[1;4;32m unconfirmed'\u001b[0m\u001b[1;4m, \u001b[0m\u001b[1;4;32m'hits'\u001b[0m\u001b[1;4m, \u001b[0m\u001b[1;4;32m'\u001b[0m\u001b[1;4;32m[\u001b[0m\u001b[1;4;32mOther\u001b[0m\u001b[1;4;32m]\u001b[0m\u001b[1;4;32m fragment screen'\u001b[0m\u001b[1;4m, \u001b[0m\u001b[1;4;32m'Pose'\u001b[0m\u001b[1;4m]\u001b[0m\n"
      ]
     },
     "metadata": {},
     "output_type": "display_data"
    },
    {
     "data": {
      "image/png": "[encoded data removed]",
      "text/plain": [
       "<rdkit.Chem.rdchem.Mol at 0x7f1c44dd9670>"
      ]
     },
     "metadata": {},
     "output_type": "display_data"
    },
    {
     "data": {
      "text/html": [
       "<pre style=\"white-space:pre;overflow-x:auto;line-height:normal;font-family:Menlo,'DejaVu Sans Mono',consolas,'Courier New',monospace;margin:0px\"><span style=\"color: #00ff00; text-decoration-color: #00ff00\">───────────────────────────────────────────────────── </span>C33434<span style=\"color: #00ff00; text-decoration-color: #00ff00\"> ──────────────────────────────────────────────────────</span>\n",
       "</pre>\n"
      ],
      "text/plain": [
       "\u001b[92m───────────────────────────────────────────────────── \u001b[0mC33434\u001b[92m ──────────────────────────────────────────────────────\u001b[0m\n"
      ]
     },
     "metadata": {},
     "output_type": "display_data"
    },
    {
     "data": {
      "text/html": [
       "<pre style=\"white-space:pre;overflow-x:auto;line-height:normal;font-family:Menlo,'DejaVu Sans Mono',consolas,'Courier New',monospace;margin:0px\"><span style=\"background-color: #d7af00; font-weight: bold\"> DISK </span> Reading <span style=\"color: #d7af00; text-decoration-color: #d7af00\">/opt/xchem-fragalysis-2/maxwin/BulkDock/SCRATCH/204100/C33434-P102/C33434-P102.minimised.mol</span>...\n",
       "╭─────────────────────────────────────────────────────────────────────────────────────────────────────────────────╮\n",
       "│ <span style=\"font-weight: bold; text-decoration: underline\">C33434-&gt;P33788: \"SHENAZADMNUPGS-VIFPVBQESA-N\"</span>                                                                   │\n",
       "╰─────────────────────────────────────────────────────────────────────────────────────────────────────────────────╯\n",
       "</pre>\n"
      ],
      "text/plain": [
       "\u001b[1;7;38;5;178m DISK \u001b[0m Reading \u001b[38;5;178m/opt/xchem-fragalysis-2/maxwin/BulkDock/SCRATCH/204100/C33434-P102/C33434-P102.minimised.mol\u001b[0m...\n",
       "╭─────────────────────────────────────────────────────────────────────────────────────────────────────────────────╮\n",
       "│ \u001b[1;4mC33434->P33788: \"SHENAZADMNUPGS-VIFPVBQESA-N\"\u001b[0m                                                                   │\n",
       "╰─────────────────────────────────────────────────────────────────────────────────────────────────────────────────╯\n"
      ]
     },
     "metadata": {},
     "output_type": "display_data"
    },
    {
     "data": {
      "text/html": [
       "<pre style=\"white-space:pre;overflow-x:auto;line-height:normal;font-family:Menlo,'DejaVu Sans Mono',consolas,'Courier New',monospace;margin:0px\"><span style=\"font-weight: bold; text-decoration: underline\">C81-&gt;P102: </span><span style=\"color: #008000; text-decoration-color: #008000; font-weight: bold; text-decoration: underline\">\"z0211a\"</span> <span style=\"font-weight: bold; text-decoration: underline\">[</span><span style=\"color: #008000; text-decoration-color: #008000; font-weight: bold; text-decoration: underline\">'[Other] Zika'</span><span style=\"font-weight: bold; text-decoration: underline\">, </span><span style=\"color: #008000; text-decoration-color: #008000; font-weight: bold; text-decoration: underline\">'[Other] upload_1 2024-11-21'</span><span style=\"font-weight: bold; text-decoration: underline\">, </span><span style=\"color: #008000; text-decoration-color: #008000; font-weight: bold; text-decoration: underline\">'[Other] Green Site/RNA tunnel (P2)'</span><span style=\"font-weight: bold; text-decoration: underline\">, </span><span style=\"color: #008000; text-decoration-color: #008000; font-weight: bold; text-decoration: underline\">'[Other] </span>\n",
       "<span style=\"color: #008000; text-decoration-color: #008000; font-weight: bold; text-decoration: underline\">upload_1 2024-11-13'</span><span style=\"font-weight: bold; text-decoration: underline\">, </span><span style=\"color: #008000; text-decoration-color: #008000; font-weight: bold; text-decoration: underline\">'hits'</span><span style=\"font-weight: bold; text-decoration: underline\">, </span><span style=\"color: #008000; text-decoration-color: #008000; font-weight: bold; text-decoration: underline\">'[Other] fragment screen'</span><span style=\"font-weight: bold; text-decoration: underline\">, </span><span style=\"color: #008000; text-decoration-color: #008000; font-weight: bold; text-decoration: underline\">'Pose'</span><span style=\"font-weight: bold; text-decoration: underline\">]</span>\n",
       "</pre>\n"
      ],
      "text/plain": [
       "\u001b[1;4mC81->P102: \u001b[0m\u001b[1;4;32m\"z0211a\"\u001b[0m \u001b[1;4m[\u001b[0m\u001b[1;4;32m'\u001b[0m\u001b[1;4;32m[\u001b[0m\u001b[1;4;32mOther\u001b[0m\u001b[1;4;32m]\u001b[0m\u001b[1;4;32m Zika'\u001b[0m\u001b[1;4m, \u001b[0m\u001b[1;4;32m'\u001b[0m\u001b[1;4;32m[\u001b[0m\u001b[1;4;32mOther\u001b[0m\u001b[1;4;32m]\u001b[0m\u001b[1;4;32m upload_1 2024-11-21'\u001b[0m\u001b[1;4m, \u001b[0m\u001b[1;4;32m'\u001b[0m\u001b[1;4;32m[\u001b[0m\u001b[1;4;32mOther\u001b[0m\u001b[1;4;32m]\u001b[0m\u001b[1;4;32m Green Site/RNA tunnel \u001b[0m\u001b[1;4;32m(\u001b[0m\u001b[1;4;32mP2\u001b[0m\u001b[1;4;32m)\u001b[0m\u001b[1;4;32m'\u001b[0m\u001b[1;4m, \u001b[0m\u001b[1;4;32m'\u001b[0m\u001b[1;4;32m[\u001b[0m\u001b[1;4;32mOther\u001b[0m\u001b[1;4;32m]\u001b[0m\u001b[1;4;32m \u001b[0m\n",
       "\u001b[1;4;32mupload_1 2024-11-13'\u001b[0m\u001b[1;4m, \u001b[0m\u001b[1;4;32m'hits'\u001b[0m\u001b[1;4m, \u001b[0m\u001b[1;4;32m'\u001b[0m\u001b[1;4;32m[\u001b[0m\u001b[1;4;32mOther\u001b[0m\u001b[1;4;32m]\u001b[0m\u001b[1;4;32m fragment screen'\u001b[0m\u001b[1;4m, \u001b[0m\u001b[1;4;32m'Pose'\u001b[0m\u001b[1;4m]\u001b[0m\n"
      ]
     },
     "metadata": {},
     "output_type": "display_data"
    },
    {
     "data": {
      "text/html": [
       "<pre style=\"white-space:pre;overflow-x:auto;line-height:normal;font-family:Menlo,'DejaVu Sans Mono',consolas,'Courier New',monospace;margin:0px\"><span style=\"font-weight: bold; text-decoration: underline\">C127-&gt;P173: </span><span style=\"color: #008000; text-decoration-color: #008000; font-weight: bold; text-decoration: underline\">\"z0881a\"</span> <span style=\"font-weight: bold; text-decoration: underline\">[</span><span style=\"color: #008000; text-decoration-color: #008000; font-weight: bold; text-decoration: underline\">'[Other] Zika'</span><span style=\"font-weight: bold; text-decoration: underline\">, </span><span style=\"color: #008000; text-decoration-color: #008000; font-weight: bold; text-decoration: underline\">'[Other] upload_1 2024-11-21'</span><span style=\"font-weight: bold; text-decoration: underline\">, </span><span style=\"color: #008000; text-decoration-color: #008000; font-weight: bold; text-decoration: underline\">'[Other] Green Site/RNA tunnel (P2)'</span><span style=\"font-weight: bold; text-decoration: underline\">, </span><span style=\"color: #008000; text-decoration-color: #008000; font-weight: bold; text-decoration: underline\">'[Other]</span>\n",
       "<span style=\"color: #008000; text-decoration-color: #008000; font-weight: bold; text-decoration: underline\">upload_1 2024-11-13'</span><span style=\"font-weight: bold; text-decoration: underline\">, </span><span style=\"color: #008000; text-decoration-color: #008000; font-weight: bold; text-decoration: underline\">'hits'</span><span style=\"font-weight: bold; text-decoration: underline\">, </span><span style=\"color: #008000; text-decoration-color: #008000; font-weight: bold; text-decoration: underline\">'[Other] fragment screen'</span><span style=\"font-weight: bold; text-decoration: underline\">, </span><span style=\"color: #008000; text-decoration-color: #008000; font-weight: bold; text-decoration: underline\">'Pose'</span><span style=\"font-weight: bold; text-decoration: underline\">]</span>\n",
       "</pre>\n"
      ],
      "text/plain": [
       "\u001b[1;4mC127->P173: \u001b[0m\u001b[1;4;32m\"z0881a\"\u001b[0m \u001b[1;4m[\u001b[0m\u001b[1;4;32m'\u001b[0m\u001b[1;4;32m[\u001b[0m\u001b[1;4;32mOther\u001b[0m\u001b[1;4;32m]\u001b[0m\u001b[1;4;32m Zika'\u001b[0m\u001b[1;4m, \u001b[0m\u001b[1;4;32m'\u001b[0m\u001b[1;4;32m[\u001b[0m\u001b[1;4;32mOther\u001b[0m\u001b[1;4;32m]\u001b[0m\u001b[1;4;32m upload_1 2024-11-21'\u001b[0m\u001b[1;4m, \u001b[0m\u001b[1;4;32m'\u001b[0m\u001b[1;4;32m[\u001b[0m\u001b[1;4;32mOther\u001b[0m\u001b[1;4;32m]\u001b[0m\u001b[1;4;32m Green Site/RNA tunnel \u001b[0m\u001b[1;4;32m(\u001b[0m\u001b[1;4;32mP2\u001b[0m\u001b[1;4;32m)\u001b[0m\u001b[1;4;32m'\u001b[0m\u001b[1;4m, \u001b[0m\u001b[1;4;32m'\u001b[0m\u001b[1;4;32m[\u001b[0m\u001b[1;4;32mOther\u001b[0m\u001b[1;4;32m]\u001b[0m\n",
       "\u001b[1;4;32mupload_1 2024-11-13'\u001b[0m\u001b[1;4m, \u001b[0m\u001b[1;4;32m'hits'\u001b[0m\u001b[1;4m, \u001b[0m\u001b[1;4;32m'\u001b[0m\u001b[1;4;32m[\u001b[0m\u001b[1;4;32mOther\u001b[0m\u001b[1;4;32m]\u001b[0m\u001b[1;4;32m fragment screen'\u001b[0m\u001b[1;4m, \u001b[0m\u001b[1;4;32m'Pose'\u001b[0m\u001b[1;4m]\u001b[0m\n"
      ]
     },
     "metadata": {},
     "output_type": "display_data"
    },
    {
     "data": {
      "text/html": [
       "<pre style=\"white-space:pre;overflow-x:auto;line-height:normal;font-family:Menlo,'DejaVu Sans Mono',consolas,'Courier New',monospace;margin:0px\"><span style=\"background-color: #d7af00; font-weight: bold\"> DISK </span> Reading <span style=\"color: #d7af00; text-decoration-color: #d7af00\">/opt/xchem-fragalysis-2/maxwin/BulkDock/SCRATCH/204100/C33434-P173/C33434-P173.minimised.mol</span>...\n",
       "╭─────────────────────────────────────────────────────────────────────────────────────────────────────────────────╮\n",
       "│ <span style=\"font-weight: bold; text-decoration: underline\">C33434-&gt;P33792: \"SHENAZADMNUPGS-VIFPVBQESA-N\"</span>                                                                   │\n",
       "╰─────────────────────────────────────────────────────────────────────────────────────────────────────────────────╯\n",
       "</pre>\n"
      ],
      "text/plain": [
       "\u001b[1;7;38;5;178m DISK \u001b[0m Reading \u001b[38;5;178m/opt/xchem-fragalysis-2/maxwin/BulkDock/SCRATCH/204100/C33434-P173/C33434-P173.minimised.mol\u001b[0m...\n",
       "╭─────────────────────────────────────────────────────────────────────────────────────────────────────────────────╮\n",
       "│ \u001b[1;4mC33434->P33792: \"SHENAZADMNUPGS-VIFPVBQESA-N\"\u001b[0m                                                                   │\n",
       "╰─────────────────────────────────────────────────────────────────────────────────────────────────────────────────╯\n"
      ]
     },
     "metadata": {},
     "output_type": "display_data"
    },
    {
     "data": {
      "text/html": [
       "<pre style=\"white-space:pre;overflow-x:auto;line-height:normal;font-family:Menlo,'DejaVu Sans Mono',consolas,'Courier New',monospace;margin:0px\"><span style=\"font-weight: bold; text-decoration: underline\">C81-&gt;P102: </span><span style=\"color: #008000; text-decoration-color: #008000; font-weight: bold; text-decoration: underline\">\"z0211a\"</span> <span style=\"font-weight: bold; text-decoration: underline\">[</span><span style=\"color: #008000; text-decoration-color: #008000; font-weight: bold; text-decoration: underline\">'[Other] Zika'</span><span style=\"font-weight: bold; text-decoration: underline\">, </span><span style=\"color: #008000; text-decoration-color: #008000; font-weight: bold; text-decoration: underline\">'[Other] upload_1 2024-11-21'</span><span style=\"font-weight: bold; text-decoration: underline\">, </span><span style=\"color: #008000; text-decoration-color: #008000; font-weight: bold; text-decoration: underline\">'[Other] Green Site/RNA tunnel (P2)'</span><span style=\"font-weight: bold; text-decoration: underline\">, </span><span style=\"color: #008000; text-decoration-color: #008000; font-weight: bold; text-decoration: underline\">'[Other] </span>\n",
       "<span style=\"color: #008000; text-decoration-color: #008000; font-weight: bold; text-decoration: underline\">upload_1 2024-11-13'</span><span style=\"font-weight: bold; text-decoration: underline\">, </span><span style=\"color: #008000; text-decoration-color: #008000; font-weight: bold; text-decoration: underline\">'hits'</span><span style=\"font-weight: bold; text-decoration: underline\">, </span><span style=\"color: #008000; text-decoration-color: #008000; font-weight: bold; text-decoration: underline\">'[Other] fragment screen'</span><span style=\"font-weight: bold; text-decoration: underline\">, </span><span style=\"color: #008000; text-decoration-color: #008000; font-weight: bold; text-decoration: underline\">'Pose'</span><span style=\"font-weight: bold; text-decoration: underline\">]</span>\n",
       "</pre>\n"
      ],
      "text/plain": [
       "\u001b[1;4mC81->P102: \u001b[0m\u001b[1;4;32m\"z0211a\"\u001b[0m \u001b[1;4m[\u001b[0m\u001b[1;4;32m'\u001b[0m\u001b[1;4;32m[\u001b[0m\u001b[1;4;32mOther\u001b[0m\u001b[1;4;32m]\u001b[0m\u001b[1;4;32m Zika'\u001b[0m\u001b[1;4m, \u001b[0m\u001b[1;4;32m'\u001b[0m\u001b[1;4;32m[\u001b[0m\u001b[1;4;32mOther\u001b[0m\u001b[1;4;32m]\u001b[0m\u001b[1;4;32m upload_1 2024-11-21'\u001b[0m\u001b[1;4m, \u001b[0m\u001b[1;4;32m'\u001b[0m\u001b[1;4;32m[\u001b[0m\u001b[1;4;32mOther\u001b[0m\u001b[1;4;32m]\u001b[0m\u001b[1;4;32m Green Site/RNA tunnel \u001b[0m\u001b[1;4;32m(\u001b[0m\u001b[1;4;32mP2\u001b[0m\u001b[1;4;32m)\u001b[0m\u001b[1;4;32m'\u001b[0m\u001b[1;4m, \u001b[0m\u001b[1;4;32m'\u001b[0m\u001b[1;4;32m[\u001b[0m\u001b[1;4;32mOther\u001b[0m\u001b[1;4;32m]\u001b[0m\u001b[1;4;32m \u001b[0m\n",
       "\u001b[1;4;32mupload_1 2024-11-13'\u001b[0m\u001b[1;4m, \u001b[0m\u001b[1;4;32m'hits'\u001b[0m\u001b[1;4m, \u001b[0m\u001b[1;4;32m'\u001b[0m\u001b[1;4;32m[\u001b[0m\u001b[1;4;32mOther\u001b[0m\u001b[1;4;32m]\u001b[0m\u001b[1;4;32m fragment screen'\u001b[0m\u001b[1;4m, \u001b[0m\u001b[1;4;32m'Pose'\u001b[0m\u001b[1;4m]\u001b[0m\n"
      ]
     },
     "metadata": {},
     "output_type": "display_data"
    },
    {
     "data": {
      "text/html": [
       "<pre style=\"white-space:pre;overflow-x:auto;line-height:normal;font-family:Menlo,'DejaVu Sans Mono',consolas,'Courier New',monospace;margin:0px\"><span style=\"font-weight: bold; text-decoration: underline\">C127-&gt;P173: </span><span style=\"color: #008000; text-decoration-color: #008000; font-weight: bold; text-decoration: underline\">\"z0881a\"</span> <span style=\"font-weight: bold; text-decoration: underline\">[</span><span style=\"color: #008000; text-decoration-color: #008000; font-weight: bold; text-decoration: underline\">'[Other] Zika'</span><span style=\"font-weight: bold; text-decoration: underline\">, </span><span style=\"color: #008000; text-decoration-color: #008000; font-weight: bold; text-decoration: underline\">'[Other] upload_1 2024-11-21'</span><span style=\"font-weight: bold; text-decoration: underline\">, </span><span style=\"color: #008000; text-decoration-color: #008000; font-weight: bold; text-decoration: underline\">'[Other] Green Site/RNA tunnel (P2)'</span><span style=\"font-weight: bold; text-decoration: underline\">, </span><span style=\"color: #008000; text-decoration-color: #008000; font-weight: bold; text-decoration: underline\">'[Other]</span>\n",
       "<span style=\"color: #008000; text-decoration-color: #008000; font-weight: bold; text-decoration: underline\">upload_1 2024-11-13'</span><span style=\"font-weight: bold; text-decoration: underline\">, </span><span style=\"color: #008000; text-decoration-color: #008000; font-weight: bold; text-decoration: underline\">'hits'</span><span style=\"font-weight: bold; text-decoration: underline\">, </span><span style=\"color: #008000; text-decoration-color: #008000; font-weight: bold; text-decoration: underline\">'[Other] fragment screen'</span><span style=\"font-weight: bold; text-decoration: underline\">, </span><span style=\"color: #008000; text-decoration-color: #008000; font-weight: bold; text-decoration: underline\">'Pose'</span><span style=\"font-weight: bold; text-decoration: underline\">]</span>\n",
       "</pre>\n"
      ],
      "text/plain": [
       "\u001b[1;4mC127->P173: \u001b[0m\u001b[1;4;32m\"z0881a\"\u001b[0m \u001b[1;4m[\u001b[0m\u001b[1;4;32m'\u001b[0m\u001b[1;4;32m[\u001b[0m\u001b[1;4;32mOther\u001b[0m\u001b[1;4;32m]\u001b[0m\u001b[1;4;32m Zika'\u001b[0m\u001b[1;4m, \u001b[0m\u001b[1;4;32m'\u001b[0m\u001b[1;4;32m[\u001b[0m\u001b[1;4;32mOther\u001b[0m\u001b[1;4;32m]\u001b[0m\u001b[1;4;32m upload_1 2024-11-21'\u001b[0m\u001b[1;4m, \u001b[0m\u001b[1;4;32m'\u001b[0m\u001b[1;4;32m[\u001b[0m\u001b[1;4;32mOther\u001b[0m\u001b[1;4;32m]\u001b[0m\u001b[1;4;32m Green Site/RNA tunnel \u001b[0m\u001b[1;4;32m(\u001b[0m\u001b[1;4;32mP2\u001b[0m\u001b[1;4;32m)\u001b[0m\u001b[1;4;32m'\u001b[0m\u001b[1;4m, \u001b[0m\u001b[1;4;32m'\u001b[0m\u001b[1;4;32m[\u001b[0m\u001b[1;4;32mOther\u001b[0m\u001b[1;4;32m]\u001b[0m\n",
       "\u001b[1;4;32mupload_1 2024-11-13'\u001b[0m\u001b[1;4m, \u001b[0m\u001b[1;4;32m'hits'\u001b[0m\u001b[1;4m, \u001b[0m\u001b[1;4;32m'\u001b[0m\u001b[1;4;32m[\u001b[0m\u001b[1;4;32mOther\u001b[0m\u001b[1;4;32m]\u001b[0m\u001b[1;4;32m fragment screen'\u001b[0m\u001b[1;4m, \u001b[0m\u001b[1;4;32m'Pose'\u001b[0m\u001b[1;4m]\u001b[0m\n"
      ]
     },
     "metadata": {},
     "output_type": "display_data"
    },
    {
     "data": {
      "text/html": [
       "<pre style=\"white-space:pre;overflow-x:auto;line-height:normal;font-family:Menlo,'DejaVu Sans Mono',consolas,'Courier New',monospace;margin:0px\">╭─────────────────────────────────────────────────────────────────────────────────────────────────────────────────╮\n",
       "│ <span style=\"font-weight: bold; text-decoration: underline\">C33434-&gt;P90517: \"SHENAZADMNUPGS-VIFPVBQESA-N\"</span>                                                                   │\n",
       "╰─────────────────────────────────────────────────────────────────────────────────────────────────────────────────╯\n",
       "</pre>\n"
      ],
      "text/plain": [
       "╭─────────────────────────────────────────────────────────────────────────────────────────────────────────────────╮\n",
       "│ \u001b[1;4mC33434->P90517: \"SHENAZADMNUPGS-VIFPVBQESA-N\"\u001b[0m                                                                   │\n",
       "╰─────────────────────────────────────────────────────────────────────────────────────────────────────────────────╯\n"
      ]
     },
     "metadata": {},
     "output_type": "display_data"
    },
    {
     "data": {
      "text/html": [
       "<pre style=\"white-space:pre;overflow-x:auto;line-height:normal;font-family:Menlo,'DejaVu Sans Mono',consolas,'Courier New',monospace;margin:0px\"><span style=\"font-weight: bold; text-decoration: underline\">C81-&gt;P102: </span><span style=\"color: #008000; text-decoration-color: #008000; font-weight: bold; text-decoration: underline\">\"z0211a\"</span> <span style=\"font-weight: bold; text-decoration: underline\">[</span><span style=\"color: #008000; text-decoration-color: #008000; font-weight: bold; text-decoration: underline\">'[Other] Zika'</span><span style=\"font-weight: bold; text-decoration: underline\">, </span><span style=\"color: #008000; text-decoration-color: #008000; font-weight: bold; text-decoration: underline\">'[Other] upload_1 2024-11-21'</span><span style=\"font-weight: bold; text-decoration: underline\">, </span><span style=\"color: #008000; text-decoration-color: #008000; font-weight: bold; text-decoration: underline\">'[Other] Green Site/RNA tunnel (P2)'</span><span style=\"font-weight: bold; text-decoration: underline\">, </span><span style=\"color: #008000; text-decoration-color: #008000; font-weight: bold; text-decoration: underline\">'[Other] </span>\n",
       "<span style=\"color: #008000; text-decoration-color: #008000; font-weight: bold; text-decoration: underline\">upload_1 2024-11-13'</span><span style=\"font-weight: bold; text-decoration: underline\">, </span><span style=\"color: #008000; text-decoration-color: #008000; font-weight: bold; text-decoration: underline\">'hits'</span><span style=\"font-weight: bold; text-decoration: underline\">, </span><span style=\"color: #008000; text-decoration-color: #008000; font-weight: bold; text-decoration: underline\">'[Other] fragment screen'</span><span style=\"font-weight: bold; text-decoration: underline\">, </span><span style=\"color: #008000; text-decoration-color: #008000; font-weight: bold; text-decoration: underline\">'Pose'</span><span style=\"font-weight: bold; text-decoration: underline\">]</span>\n",
       "</pre>\n"
      ],
      "text/plain": [
       "\u001b[1;4mC81->P102: \u001b[0m\u001b[1;4;32m\"z0211a\"\u001b[0m \u001b[1;4m[\u001b[0m\u001b[1;4;32m'\u001b[0m\u001b[1;4;32m[\u001b[0m\u001b[1;4;32mOther\u001b[0m\u001b[1;4;32m]\u001b[0m\u001b[1;4;32m Zika'\u001b[0m\u001b[1;4m, \u001b[0m\u001b[1;4;32m'\u001b[0m\u001b[1;4;32m[\u001b[0m\u001b[1;4;32mOther\u001b[0m\u001b[1;4;32m]\u001b[0m\u001b[1;4;32m upload_1 2024-11-21'\u001b[0m\u001b[1;4m, \u001b[0m\u001b[1;4;32m'\u001b[0m\u001b[1;4;32m[\u001b[0m\u001b[1;4;32mOther\u001b[0m\u001b[1;4;32m]\u001b[0m\u001b[1;4;32m Green Site/RNA tunnel \u001b[0m\u001b[1;4;32m(\u001b[0m\u001b[1;4;32mP2\u001b[0m\u001b[1;4;32m)\u001b[0m\u001b[1;4;32m'\u001b[0m\u001b[1;4m, \u001b[0m\u001b[1;4;32m'\u001b[0m\u001b[1;4;32m[\u001b[0m\u001b[1;4;32mOther\u001b[0m\u001b[1;4;32m]\u001b[0m\u001b[1;4;32m \u001b[0m\n",
       "\u001b[1;4;32mupload_1 2024-11-13'\u001b[0m\u001b[1;4m, \u001b[0m\u001b[1;4;32m'hits'\u001b[0m\u001b[1;4m, \u001b[0m\u001b[1;4;32m'\u001b[0m\u001b[1;4;32m[\u001b[0m\u001b[1;4;32mOther\u001b[0m\u001b[1;4;32m]\u001b[0m\u001b[1;4;32m fragment screen'\u001b[0m\u001b[1;4m, \u001b[0m\u001b[1;4;32m'Pose'\u001b[0m\u001b[1;4m]\u001b[0m\n"
      ]
     },
     "metadata": {},
     "output_type": "display_data"
    },
    {
     "data": {
      "text/html": [
       "<pre style=\"white-space:pre;overflow-x:auto;line-height:normal;font-family:Menlo,'DejaVu Sans Mono',consolas,'Courier New',monospace;margin:0px\"><span style=\"font-weight: bold; text-decoration: underline\">C127-&gt;P173: </span><span style=\"color: #008000; text-decoration-color: #008000; font-weight: bold; text-decoration: underline\">\"z0881a\"</span> <span style=\"font-weight: bold; text-decoration: underline\">[</span><span style=\"color: #008000; text-decoration-color: #008000; font-weight: bold; text-decoration: underline\">'[Other] Zika'</span><span style=\"font-weight: bold; text-decoration: underline\">, </span><span style=\"color: #008000; text-decoration-color: #008000; font-weight: bold; text-decoration: underline\">'[Other] upload_1 2024-11-21'</span><span style=\"font-weight: bold; text-decoration: underline\">, </span><span style=\"color: #008000; text-decoration-color: #008000; font-weight: bold; text-decoration: underline\">'[Other] Green Site/RNA tunnel (P2)'</span><span style=\"font-weight: bold; text-decoration: underline\">, </span><span style=\"color: #008000; text-decoration-color: #008000; font-weight: bold; text-decoration: underline\">'[Other]</span>\n",
       "<span style=\"color: #008000; text-decoration-color: #008000; font-weight: bold; text-decoration: underline\">upload_1 2024-11-13'</span><span style=\"font-weight: bold; text-decoration: underline\">, </span><span style=\"color: #008000; text-decoration-color: #008000; font-weight: bold; text-decoration: underline\">'hits'</span><span style=\"font-weight: bold; text-decoration: underline\">, </span><span style=\"color: #008000; text-decoration-color: #008000; font-weight: bold; text-decoration: underline\">'[Other] fragment screen'</span><span style=\"font-weight: bold; text-decoration: underline\">, </span><span style=\"color: #008000; text-decoration-color: #008000; font-weight: bold; text-decoration: underline\">'Pose'</span><span style=\"font-weight: bold; text-decoration: underline\">]</span>\n",
       "</pre>\n"
      ],
      "text/plain": [
       "\u001b[1;4mC127->P173: \u001b[0m\u001b[1;4;32m\"z0881a\"\u001b[0m \u001b[1;4m[\u001b[0m\u001b[1;4;32m'\u001b[0m\u001b[1;4;32m[\u001b[0m\u001b[1;4;32mOther\u001b[0m\u001b[1;4;32m]\u001b[0m\u001b[1;4;32m Zika'\u001b[0m\u001b[1;4m, \u001b[0m\u001b[1;4;32m'\u001b[0m\u001b[1;4;32m[\u001b[0m\u001b[1;4;32mOther\u001b[0m\u001b[1;4;32m]\u001b[0m\u001b[1;4;32m upload_1 2024-11-21'\u001b[0m\u001b[1;4m, \u001b[0m\u001b[1;4;32m'\u001b[0m\u001b[1;4;32m[\u001b[0m\u001b[1;4;32mOther\u001b[0m\u001b[1;4;32m]\u001b[0m\u001b[1;4;32m Green Site/RNA tunnel \u001b[0m\u001b[1;4;32m(\u001b[0m\u001b[1;4;32mP2\u001b[0m\u001b[1;4;32m)\u001b[0m\u001b[1;4;32m'\u001b[0m\u001b[1;4m, \u001b[0m\u001b[1;4;32m'\u001b[0m\u001b[1;4;32m[\u001b[0m\u001b[1;4;32mOther\u001b[0m\u001b[1;4;32m]\u001b[0m\n",
       "\u001b[1;4;32mupload_1 2024-11-13'\u001b[0m\u001b[1;4m, \u001b[0m\u001b[1;4;32m'hits'\u001b[0m\u001b[1;4m, \u001b[0m\u001b[1;4;32m'\u001b[0m\u001b[1;4;32m[\u001b[0m\u001b[1;4;32mOther\u001b[0m\u001b[1;4;32m]\u001b[0m\u001b[1;4;32m fragment screen'\u001b[0m\u001b[1;4m, \u001b[0m\u001b[1;4;32m'Pose'\u001b[0m\u001b[1;4m]\u001b[0m\n"
      ]
     },
     "metadata": {},
     "output_type": "display_data"
    },
    {
     "data": {
      "text/html": [
       "<pre style=\"white-space:pre;overflow-x:auto;line-height:normal;font-family:Menlo,'DejaVu Sans Mono',consolas,'Courier New',monospace;margin:0px\">╭─────────────────────────────────────────────────────────────────────────────────────────────────────────────────╮\n",
       "│ <span style=\"font-weight: bold; text-decoration: underline\">C33434-&gt;P90531: \"SHENAZADMNUPGS-VIFPVBQESA-N\"</span>                                                                   │\n",
       "╰─────────────────────────────────────────────────────────────────────────────────────────────────────────────────╯\n",
       "</pre>\n"
      ],
      "text/plain": [
       "╭─────────────────────────────────────────────────────────────────────────────────────────────────────────────────╮\n",
       "│ \u001b[1;4mC33434->P90531: \"SHENAZADMNUPGS-VIFPVBQESA-N\"\u001b[0m                                                                   │\n",
       "╰─────────────────────────────────────────────────────────────────────────────────────────────────────────────────╯\n"
      ]
     },
     "metadata": {},
     "output_type": "display_data"
    },
    {
     "data": {
      "text/html": [
       "<pre style=\"white-space:pre;overflow-x:auto;line-height:normal;font-family:Menlo,'DejaVu Sans Mono',consolas,'Courier New',monospace;margin:0px\"><span style=\"font-weight: bold; text-decoration: underline\">C81-&gt;P102: </span><span style=\"color: #008000; text-decoration-color: #008000; font-weight: bold; text-decoration: underline\">\"z0211a\"</span> <span style=\"font-weight: bold; text-decoration: underline\">[</span><span style=\"color: #008000; text-decoration-color: #008000; font-weight: bold; text-decoration: underline\">'[Other] Zika'</span><span style=\"font-weight: bold; text-decoration: underline\">, </span><span style=\"color: #008000; text-decoration-color: #008000; font-weight: bold; text-decoration: underline\">'[Other] upload_1 2024-11-21'</span><span style=\"font-weight: bold; text-decoration: underline\">, </span><span style=\"color: #008000; text-decoration-color: #008000; font-weight: bold; text-decoration: underline\">'[Other] Green Site/RNA tunnel (P2)'</span><span style=\"font-weight: bold; text-decoration: underline\">, </span><span style=\"color: #008000; text-decoration-color: #008000; font-weight: bold; text-decoration: underline\">'[Other] </span>\n",
       "<span style=\"color: #008000; text-decoration-color: #008000; font-weight: bold; text-decoration: underline\">upload_1 2024-11-13'</span><span style=\"font-weight: bold; text-decoration: underline\">, </span><span style=\"color: #008000; text-decoration-color: #008000; font-weight: bold; text-decoration: underline\">'hits'</span><span style=\"font-weight: bold; text-decoration: underline\">, </span><span style=\"color: #008000; text-decoration-color: #008000; font-weight: bold; text-decoration: underline\">'[Other] fragment screen'</span><span style=\"font-weight: bold; text-decoration: underline\">, </span><span style=\"color: #008000; text-decoration-color: #008000; font-weight: bold; text-decoration: underline\">'Pose'</span><span style=\"font-weight: bold; text-decoration: underline\">]</span>\n",
       "</pre>\n"
      ],
      "text/plain": [
       "\u001b[1;4mC81->P102: \u001b[0m\u001b[1;4;32m\"z0211a\"\u001b[0m \u001b[1;4m[\u001b[0m\u001b[1;4;32m'\u001b[0m\u001b[1;4;32m[\u001b[0m\u001b[1;4;32mOther\u001b[0m\u001b[1;4;32m]\u001b[0m\u001b[1;4;32m Zika'\u001b[0m\u001b[1;4m, \u001b[0m\u001b[1;4;32m'\u001b[0m\u001b[1;4;32m[\u001b[0m\u001b[1;4;32mOther\u001b[0m\u001b[1;4;32m]\u001b[0m\u001b[1;4;32m upload_1 2024-11-21'\u001b[0m\u001b[1;4m, \u001b[0m\u001b[1;4;32m'\u001b[0m\u001b[1;4;32m[\u001b[0m\u001b[1;4;32mOther\u001b[0m\u001b[1;4;32m]\u001b[0m\u001b[1;4;32m Green Site/RNA tunnel \u001b[0m\u001b[1;4;32m(\u001b[0m\u001b[1;4;32mP2\u001b[0m\u001b[1;4;32m)\u001b[0m\u001b[1;4;32m'\u001b[0m\u001b[1;4m, \u001b[0m\u001b[1;4;32m'\u001b[0m\u001b[1;4;32m[\u001b[0m\u001b[1;4;32mOther\u001b[0m\u001b[1;4;32m]\u001b[0m\u001b[1;4;32m \u001b[0m\n",
       "\u001b[1;4;32mupload_1 2024-11-13'\u001b[0m\u001b[1;4m, \u001b[0m\u001b[1;4;32m'hits'\u001b[0m\u001b[1;4m, \u001b[0m\u001b[1;4;32m'\u001b[0m\u001b[1;4;32m[\u001b[0m\u001b[1;4;32mOther\u001b[0m\u001b[1;4;32m]\u001b[0m\u001b[1;4;32m fragment screen'\u001b[0m\u001b[1;4m, \u001b[0m\u001b[1;4;32m'Pose'\u001b[0m\u001b[1;4m]\u001b[0m\n"
      ]
     },
     "metadata": {},
     "output_type": "display_data"
    },
    {
     "data": {
      "text/html": [
       "<pre style=\"white-space:pre;overflow-x:auto;line-height:normal;font-family:Menlo,'DejaVu Sans Mono',consolas,'Courier New',monospace;margin:0px\"><span style=\"font-weight: bold; text-decoration: underline\">C127-&gt;P173: </span><span style=\"color: #008000; text-decoration-color: #008000; font-weight: bold; text-decoration: underline\">\"z0881a\"</span> <span style=\"font-weight: bold; text-decoration: underline\">[</span><span style=\"color: #008000; text-decoration-color: #008000; font-weight: bold; text-decoration: underline\">'[Other] Zika'</span><span style=\"font-weight: bold; text-decoration: underline\">, </span><span style=\"color: #008000; text-decoration-color: #008000; font-weight: bold; text-decoration: underline\">'[Other] upload_1 2024-11-21'</span><span style=\"font-weight: bold; text-decoration: underline\">, </span><span style=\"color: #008000; text-decoration-color: #008000; font-weight: bold; text-decoration: underline\">'[Other] Green Site/RNA tunnel (P2)'</span><span style=\"font-weight: bold; text-decoration: underline\">, </span><span style=\"color: #008000; text-decoration-color: #008000; font-weight: bold; text-decoration: underline\">'[Other]</span>\n",
       "<span style=\"color: #008000; text-decoration-color: #008000; font-weight: bold; text-decoration: underline\">upload_1 2024-11-13'</span><span style=\"font-weight: bold; text-decoration: underline\">, </span><span style=\"color: #008000; text-decoration-color: #008000; font-weight: bold; text-decoration: underline\">'hits'</span><span style=\"font-weight: bold; text-decoration: underline\">, </span><span style=\"color: #008000; text-decoration-color: #008000; font-weight: bold; text-decoration: underline\">'[Other] fragment screen'</span><span style=\"font-weight: bold; text-decoration: underline\">, </span><span style=\"color: #008000; text-decoration-color: #008000; font-weight: bold; text-decoration: underline\">'Pose'</span><span style=\"font-weight: bold; text-decoration: underline\">]</span>\n",
       "</pre>\n"
      ],
      "text/plain": [
       "\u001b[1;4mC127->P173: \u001b[0m\u001b[1;4;32m\"z0881a\"\u001b[0m \u001b[1;4m[\u001b[0m\u001b[1;4;32m'\u001b[0m\u001b[1;4;32m[\u001b[0m\u001b[1;4;32mOther\u001b[0m\u001b[1;4;32m]\u001b[0m\u001b[1;4;32m Zika'\u001b[0m\u001b[1;4m, \u001b[0m\u001b[1;4;32m'\u001b[0m\u001b[1;4;32m[\u001b[0m\u001b[1;4;32mOther\u001b[0m\u001b[1;4;32m]\u001b[0m\u001b[1;4;32m upload_1 2024-11-21'\u001b[0m\u001b[1;4m, \u001b[0m\u001b[1;4;32m'\u001b[0m\u001b[1;4;32m[\u001b[0m\u001b[1;4;32mOther\u001b[0m\u001b[1;4;32m]\u001b[0m\u001b[1;4;32m Green Site/RNA tunnel \u001b[0m\u001b[1;4;32m(\u001b[0m\u001b[1;4;32mP2\u001b[0m\u001b[1;4;32m)\u001b[0m\u001b[1;4;32m'\u001b[0m\u001b[1;4m, \u001b[0m\u001b[1;4;32m'\u001b[0m\u001b[1;4;32m[\u001b[0m\u001b[1;4;32mOther\u001b[0m\u001b[1;4;32m]\u001b[0m\n",
       "\u001b[1;4;32mupload_1 2024-11-13'\u001b[0m\u001b[1;4m, \u001b[0m\u001b[1;4;32m'hits'\u001b[0m\u001b[1;4m, \u001b[0m\u001b[1;4;32m'\u001b[0m\u001b[1;4;32m[\u001b[0m\u001b[1;4;32mOther\u001b[0m\u001b[1;4;32m]\u001b[0m\u001b[1;4;32m fragment screen'\u001b[0m\u001b[1;4m, \u001b[0m\u001b[1;4;32m'Pose'\u001b[0m\u001b[1;4m]\u001b[0m\n"
      ]
     },
     "metadata": {},
     "output_type": "display_data"
    },
    {
     "data": {
      "text/html": [
       "<pre style=\"white-space:pre;overflow-x:auto;line-height:normal;font-family:Menlo,'DejaVu Sans Mono',consolas,'Courier New',monospace;margin:0px\">╭─────────────────────────────────────────────────────────────────────────────────────────────────────────────────╮\n",
       "│ <span style=\"font-weight: bold; text-decoration: underline\">C33434-&gt;P134819: \"SHENAZADMNUPGS-VIFPVBQESA-N\"</span>                                                                  │\n",
       "╰─────────────────────────────────────────────────────────────────────────────────────────────────────────────────╯\n",
       "</pre>\n"
      ],
      "text/plain": [
       "╭─────────────────────────────────────────────────────────────────────────────────────────────────────────────────╮\n",
       "│ \u001b[1;4mC33434->P134819: \"SHENAZADMNUPGS-VIFPVBQESA-N\"\u001b[0m                                                                  │\n",
       "╰─────────────────────────────────────────────────────────────────────────────────────────────────────────────────╯\n"
      ]
     },
     "metadata": {},
     "output_type": "display_data"
    },
    {
     "data": {
      "text/html": [
       "<pre style=\"white-space:pre;overflow-x:auto;line-height:normal;font-family:Menlo,'DejaVu Sans Mono',consolas,'Courier New',monospace;margin:0px\"><span style=\"font-weight: bold; text-decoration: underline\">C81-&gt;P102: </span><span style=\"color: #008000; text-decoration-color: #008000; font-weight: bold; text-decoration: underline\">\"z0211a\"</span> <span style=\"font-weight: bold; text-decoration: underline\">[</span><span style=\"color: #008000; text-decoration-color: #008000; font-weight: bold; text-decoration: underline\">'[Other] Zika'</span><span style=\"font-weight: bold; text-decoration: underline\">, </span><span style=\"color: #008000; text-decoration-color: #008000; font-weight: bold; text-decoration: underline\">'[Other] upload_1 2024-11-21'</span><span style=\"font-weight: bold; text-decoration: underline\">, </span><span style=\"color: #008000; text-decoration-color: #008000; font-weight: bold; text-decoration: underline\">'[Other] Green Site/RNA tunnel (P2)'</span><span style=\"font-weight: bold; text-decoration: underline\">, </span><span style=\"color: #008000; text-decoration-color: #008000; font-weight: bold; text-decoration: underline\">'[Other] </span>\n",
       "<span style=\"color: #008000; text-decoration-color: #008000; font-weight: bold; text-decoration: underline\">upload_1 2024-11-13'</span><span style=\"font-weight: bold; text-decoration: underline\">, </span><span style=\"color: #008000; text-decoration-color: #008000; font-weight: bold; text-decoration: underline\">'hits'</span><span style=\"font-weight: bold; text-decoration: underline\">, </span><span style=\"color: #008000; text-decoration-color: #008000; font-weight: bold; text-decoration: underline\">'[Other] fragment screen'</span><span style=\"font-weight: bold; text-decoration: underline\">, </span><span style=\"color: #008000; text-decoration-color: #008000; font-weight: bold; text-decoration: underline\">'Pose'</span><span style=\"font-weight: bold; text-decoration: underline\">]</span>\n",
       "</pre>\n"
      ],
      "text/plain": [
       "\u001b[1;4mC81->P102: \u001b[0m\u001b[1;4;32m\"z0211a\"\u001b[0m \u001b[1;4m[\u001b[0m\u001b[1;4;32m'\u001b[0m\u001b[1;4;32m[\u001b[0m\u001b[1;4;32mOther\u001b[0m\u001b[1;4;32m]\u001b[0m\u001b[1;4;32m Zika'\u001b[0m\u001b[1;4m, \u001b[0m\u001b[1;4;32m'\u001b[0m\u001b[1;4;32m[\u001b[0m\u001b[1;4;32mOther\u001b[0m\u001b[1;4;32m]\u001b[0m\u001b[1;4;32m upload_1 2024-11-21'\u001b[0m\u001b[1;4m, \u001b[0m\u001b[1;4;32m'\u001b[0m\u001b[1;4;32m[\u001b[0m\u001b[1;4;32mOther\u001b[0m\u001b[1;4;32m]\u001b[0m\u001b[1;4;32m Green Site/RNA tunnel \u001b[0m\u001b[1;4;32m(\u001b[0m\u001b[1;4;32mP2\u001b[0m\u001b[1;4;32m)\u001b[0m\u001b[1;4;32m'\u001b[0m\u001b[1;4m, \u001b[0m\u001b[1;4;32m'\u001b[0m\u001b[1;4;32m[\u001b[0m\u001b[1;4;32mOther\u001b[0m\u001b[1;4;32m]\u001b[0m\u001b[1;4;32m \u001b[0m\n",
       "\u001b[1;4;32mupload_1 2024-11-13'\u001b[0m\u001b[1;4m, \u001b[0m\u001b[1;4;32m'hits'\u001b[0m\u001b[1;4m, \u001b[0m\u001b[1;4;32m'\u001b[0m\u001b[1;4;32m[\u001b[0m\u001b[1;4;32mOther\u001b[0m\u001b[1;4;32m]\u001b[0m\u001b[1;4;32m fragment screen'\u001b[0m\u001b[1;4m, \u001b[0m\u001b[1;4;32m'Pose'\u001b[0m\u001b[1;4m]\u001b[0m\n"
      ]
     },
     "metadata": {},
     "output_type": "display_data"
    },
    {
     "data": {
      "text/html": [
       "<pre style=\"white-space:pre;overflow-x:auto;line-height:normal;font-family:Menlo,'DejaVu Sans Mono',consolas,'Courier New',monospace;margin:0px\"><span style=\"font-weight: bold; text-decoration: underline\">C146-&gt;P208: </span><span style=\"color: #008000; text-decoration-color: #008000; font-weight: bold; text-decoration: underline\">\"z1040a\"</span> <span style=\"font-weight: bold; text-decoration: underline\">[</span><span style=\"color: #008000; text-decoration-color: #008000; font-weight: bold; text-decoration: underline\">'[Other] Zika'</span><span style=\"font-weight: bold; text-decoration: underline\">, </span><span style=\"color: #008000; text-decoration-color: #008000; font-weight: bold; text-decoration: underline\">'[Other] upload_1 2024-11-21'</span><span style=\"font-weight: bold; text-decoration: underline\">, </span><span style=\"color: #008000; text-decoration-color: #008000; font-weight: bold; text-decoration: underline\">'[Other] Green Site/RNA tunnel (P2)'</span><span style=\"font-weight: bold; text-decoration: underline\">, </span><span style=\"color: #008000; text-decoration-color: #008000; font-weight: bold; text-decoration: underline\">'[Other]</span>\n",
       "<span style=\"color: #008000; text-decoration-color: #008000; font-weight: bold; text-decoration: underline\">upload_1 2024-11-13'</span><span style=\"font-weight: bold; text-decoration: underline\">, </span><span style=\"color: #008000; text-decoration-color: #008000; font-weight: bold; text-decoration: underline\">'hits'</span><span style=\"font-weight: bold; text-decoration: underline\">, </span><span style=\"color: #008000; text-decoration-color: #008000; font-weight: bold; text-decoration: underline\">'[Other] fragment screen'</span><span style=\"font-weight: bold; text-decoration: underline\">, </span><span style=\"color: #008000; text-decoration-color: #008000; font-weight: bold; text-decoration: underline\">'Pose'</span><span style=\"font-weight: bold; text-decoration: underline\">]</span>\n",
       "</pre>\n"
      ],
      "text/plain": [
       "\u001b[1;4mC146->P208: \u001b[0m\u001b[1;4;32m\"z1040a\"\u001b[0m \u001b[1;4m[\u001b[0m\u001b[1;4;32m'\u001b[0m\u001b[1;4;32m[\u001b[0m\u001b[1;4;32mOther\u001b[0m\u001b[1;4;32m]\u001b[0m\u001b[1;4;32m Zika'\u001b[0m\u001b[1;4m, \u001b[0m\u001b[1;4;32m'\u001b[0m\u001b[1;4;32m[\u001b[0m\u001b[1;4;32mOther\u001b[0m\u001b[1;4;32m]\u001b[0m\u001b[1;4;32m upload_1 2024-11-21'\u001b[0m\u001b[1;4m, \u001b[0m\u001b[1;4;32m'\u001b[0m\u001b[1;4;32m[\u001b[0m\u001b[1;4;32mOther\u001b[0m\u001b[1;4;32m]\u001b[0m\u001b[1;4;32m Green Site/RNA tunnel \u001b[0m\u001b[1;4;32m(\u001b[0m\u001b[1;4;32mP2\u001b[0m\u001b[1;4;32m)\u001b[0m\u001b[1;4;32m'\u001b[0m\u001b[1;4m, \u001b[0m\u001b[1;4;32m'\u001b[0m\u001b[1;4;32m[\u001b[0m\u001b[1;4;32mOther\u001b[0m\u001b[1;4;32m]\u001b[0m\n",
       "\u001b[1;4;32mupload_1 2024-11-13'\u001b[0m\u001b[1;4m, \u001b[0m\u001b[1;4;32m'hits'\u001b[0m\u001b[1;4m, \u001b[0m\u001b[1;4;32m'\u001b[0m\u001b[1;4;32m[\u001b[0m\u001b[1;4;32mOther\u001b[0m\u001b[1;4;32m]\u001b[0m\u001b[1;4;32m fragment screen'\u001b[0m\u001b[1;4m, \u001b[0m\u001b[1;4;32m'Pose'\u001b[0m\u001b[1;4m]\u001b[0m\n"
      ]
     },
     "metadata": {},
     "output_type": "display_data"
    },
    {
     "data": {
      "text/html": [
       "<pre style=\"white-space:pre;overflow-x:auto;line-height:normal;font-family:Menlo,'DejaVu Sans Mono',consolas,'Courier New',monospace;margin:0px\">╭─────────────────────────────────────────────────────────────────────────────────────────────────────────────────╮\n",
       "│ <span style=\"font-weight: bold; text-decoration: underline\">C33434-&gt;P134826: \"SHENAZADMNUPGS-VIFPVBQESA-N\"</span>                                                                  │\n",
       "╰─────────────────────────────────────────────────────────────────────────────────────────────────────────────────╯\n",
       "</pre>\n"
      ],
      "text/plain": [
       "╭─────────────────────────────────────────────────────────────────────────────────────────────────────────────────╮\n",
       "│ \u001b[1;4mC33434->P134826: \"SHENAZADMNUPGS-VIFPVBQESA-N\"\u001b[0m                                                                  │\n",
       "╰─────────────────────────────────────────────────────────────────────────────────────────────────────────────────╯\n"
      ]
     },
     "metadata": {},
     "output_type": "display_data"
    },
    {
     "data": {
      "text/html": [
       "<pre style=\"white-space:pre;overflow-x:auto;line-height:normal;font-family:Menlo,'DejaVu Sans Mono',consolas,'Courier New',monospace;margin:0px\"><span style=\"font-weight: bold; text-decoration: underline\">C81-&gt;P102: </span><span style=\"color: #008000; text-decoration-color: #008000; font-weight: bold; text-decoration: underline\">\"z0211a\"</span> <span style=\"font-weight: bold; text-decoration: underline\">[</span><span style=\"color: #008000; text-decoration-color: #008000; font-weight: bold; text-decoration: underline\">'[Other] Zika'</span><span style=\"font-weight: bold; text-decoration: underline\">, </span><span style=\"color: #008000; text-decoration-color: #008000; font-weight: bold; text-decoration: underline\">'[Other] upload_1 2024-11-21'</span><span style=\"font-weight: bold; text-decoration: underline\">, </span><span style=\"color: #008000; text-decoration-color: #008000; font-weight: bold; text-decoration: underline\">'[Other] Green Site/RNA tunnel (P2)'</span><span style=\"font-weight: bold; text-decoration: underline\">, </span><span style=\"color: #008000; text-decoration-color: #008000; font-weight: bold; text-decoration: underline\">'[Other] </span>\n",
       "<span style=\"color: #008000; text-decoration-color: #008000; font-weight: bold; text-decoration: underline\">upload_1 2024-11-13'</span><span style=\"font-weight: bold; text-decoration: underline\">, </span><span style=\"color: #008000; text-decoration-color: #008000; font-weight: bold; text-decoration: underline\">'hits'</span><span style=\"font-weight: bold; text-decoration: underline\">, </span><span style=\"color: #008000; text-decoration-color: #008000; font-weight: bold; text-decoration: underline\">'[Other] fragment screen'</span><span style=\"font-weight: bold; text-decoration: underline\">, </span><span style=\"color: #008000; text-decoration-color: #008000; font-weight: bold; text-decoration: underline\">'Pose'</span><span style=\"font-weight: bold; text-decoration: underline\">]</span>\n",
       "</pre>\n"
      ],
      "text/plain": [
       "\u001b[1;4mC81->P102: \u001b[0m\u001b[1;4;32m\"z0211a\"\u001b[0m \u001b[1;4m[\u001b[0m\u001b[1;4;32m'\u001b[0m\u001b[1;4;32m[\u001b[0m\u001b[1;4;32mOther\u001b[0m\u001b[1;4;32m]\u001b[0m\u001b[1;4;32m Zika'\u001b[0m\u001b[1;4m, \u001b[0m\u001b[1;4;32m'\u001b[0m\u001b[1;4;32m[\u001b[0m\u001b[1;4;32mOther\u001b[0m\u001b[1;4;32m]\u001b[0m\u001b[1;4;32m upload_1 2024-11-21'\u001b[0m\u001b[1;4m, \u001b[0m\u001b[1;4;32m'\u001b[0m\u001b[1;4;32m[\u001b[0m\u001b[1;4;32mOther\u001b[0m\u001b[1;4;32m]\u001b[0m\u001b[1;4;32m Green Site/RNA tunnel \u001b[0m\u001b[1;4;32m(\u001b[0m\u001b[1;4;32mP2\u001b[0m\u001b[1;4;32m)\u001b[0m\u001b[1;4;32m'\u001b[0m\u001b[1;4m, \u001b[0m\u001b[1;4;32m'\u001b[0m\u001b[1;4;32m[\u001b[0m\u001b[1;4;32mOther\u001b[0m\u001b[1;4;32m]\u001b[0m\u001b[1;4;32m \u001b[0m\n",
       "\u001b[1;4;32mupload_1 2024-11-13'\u001b[0m\u001b[1;4m, \u001b[0m\u001b[1;4;32m'hits'\u001b[0m\u001b[1;4m, \u001b[0m\u001b[1;4;32m'\u001b[0m\u001b[1;4;32m[\u001b[0m\u001b[1;4;32mOther\u001b[0m\u001b[1;4;32m]\u001b[0m\u001b[1;4;32m fragment screen'\u001b[0m\u001b[1;4m, \u001b[0m\u001b[1;4;32m'Pose'\u001b[0m\u001b[1;4m]\u001b[0m\n"
      ]
     },
     "metadata": {},
     "output_type": "display_data"
    },
    {
     "data": {
      "text/html": [
       "<pre style=\"white-space:pre;overflow-x:auto;line-height:normal;font-family:Menlo,'DejaVu Sans Mono',consolas,'Courier New',monospace;margin:0px\"><span style=\"font-weight: bold; text-decoration: underline\">C146-&gt;P208: </span><span style=\"color: #008000; text-decoration-color: #008000; font-weight: bold; text-decoration: underline\">\"z1040a\"</span> <span style=\"font-weight: bold; text-decoration: underline\">[</span><span style=\"color: #008000; text-decoration-color: #008000; font-weight: bold; text-decoration: underline\">'[Other] Zika'</span><span style=\"font-weight: bold; text-decoration: underline\">, </span><span style=\"color: #008000; text-decoration-color: #008000; font-weight: bold; text-decoration: underline\">'[Other] upload_1 2024-11-21'</span><span style=\"font-weight: bold; text-decoration: underline\">, </span><span style=\"color: #008000; text-decoration-color: #008000; font-weight: bold; text-decoration: underline\">'[Other] Green Site/RNA tunnel (P2)'</span><span style=\"font-weight: bold; text-decoration: underline\">, </span><span style=\"color: #008000; text-decoration-color: #008000; font-weight: bold; text-decoration: underline\">'[Other]</span>\n",
       "<span style=\"color: #008000; text-decoration-color: #008000; font-weight: bold; text-decoration: underline\">upload_1 2024-11-13'</span><span style=\"font-weight: bold; text-decoration: underline\">, </span><span style=\"color: #008000; text-decoration-color: #008000; font-weight: bold; text-decoration: underline\">'hits'</span><span style=\"font-weight: bold; text-decoration: underline\">, </span><span style=\"color: #008000; text-decoration-color: #008000; font-weight: bold; text-decoration: underline\">'[Other] fragment screen'</span><span style=\"font-weight: bold; text-decoration: underline\">, </span><span style=\"color: #008000; text-decoration-color: #008000; font-weight: bold; text-decoration: underline\">'Pose'</span><span style=\"font-weight: bold; text-decoration: underline\">]</span>\n",
       "</pre>\n"
      ],
      "text/plain": [
       "\u001b[1;4mC146->P208: \u001b[0m\u001b[1;4;32m\"z1040a\"\u001b[0m \u001b[1;4m[\u001b[0m\u001b[1;4;32m'\u001b[0m\u001b[1;4;32m[\u001b[0m\u001b[1;4;32mOther\u001b[0m\u001b[1;4;32m]\u001b[0m\u001b[1;4;32m Zika'\u001b[0m\u001b[1;4m, \u001b[0m\u001b[1;4;32m'\u001b[0m\u001b[1;4;32m[\u001b[0m\u001b[1;4;32mOther\u001b[0m\u001b[1;4;32m]\u001b[0m\u001b[1;4;32m upload_1 2024-11-21'\u001b[0m\u001b[1;4m, \u001b[0m\u001b[1;4;32m'\u001b[0m\u001b[1;4;32m[\u001b[0m\u001b[1;4;32mOther\u001b[0m\u001b[1;4;32m]\u001b[0m\u001b[1;4;32m Green Site/RNA tunnel \u001b[0m\u001b[1;4;32m(\u001b[0m\u001b[1;4;32mP2\u001b[0m\u001b[1;4;32m)\u001b[0m\u001b[1;4;32m'\u001b[0m\u001b[1;4m, \u001b[0m\u001b[1;4;32m'\u001b[0m\u001b[1;4;32m[\u001b[0m\u001b[1;4;32mOther\u001b[0m\u001b[1;4;32m]\u001b[0m\n",
       "\u001b[1;4;32mupload_1 2024-11-13'\u001b[0m\u001b[1;4m, \u001b[0m\u001b[1;4;32m'hits'\u001b[0m\u001b[1;4m, \u001b[0m\u001b[1;4;32m'\u001b[0m\u001b[1;4;32m[\u001b[0m\u001b[1;4;32mOther\u001b[0m\u001b[1;4;32m]\u001b[0m\u001b[1;4;32m fragment screen'\u001b[0m\u001b[1;4m, \u001b[0m\u001b[1;4;32m'Pose'\u001b[0m\u001b[1;4m]\u001b[0m\n"
      ]
     },
     "metadata": {},
     "output_type": "display_data"
    },
    {
     "data": {
      "text/html": [
       "<pre style=\"white-space:pre;overflow-x:auto;line-height:normal;font-family:Menlo,'DejaVu Sans Mono',consolas,'Courier New',monospace;margin:0px\">╭─────────────────────────────────────────────────────────────────────────────────────────────────────────────────╮\n",
       "│ <span style=\"font-weight: bold; text-decoration: underline\">C33434-&gt;P175618: \"SHENAZADMNUPGS-VIFPVBQESA-N\"</span>                                                                  │\n",
       "╰─────────────────────────────────────────────────────────────────────────────────────────────────────────────────╯\n",
       "</pre>\n"
      ],
      "text/plain": [
       "╭─────────────────────────────────────────────────────────────────────────────────────────────────────────────────╮\n",
       "│ \u001b[1;4mC33434->P175618: \"SHENAZADMNUPGS-VIFPVBQESA-N\"\u001b[0m                                                                  │\n",
       "╰─────────────────────────────────────────────────────────────────────────────────────────────────────────────────╯\n"
      ]
     },
     "metadata": {},
     "output_type": "display_data"
    },
    {
     "data": {
      "text/html": [
       "<pre style=\"white-space:pre;overflow-x:auto;line-height:normal;font-family:Menlo,'DejaVu Sans Mono',consolas,'Courier New',monospace;margin:0px\"><span style=\"font-weight: bold; text-decoration: underline\">C81-&gt;P102: </span><span style=\"color: #008000; text-decoration-color: #008000; font-weight: bold; text-decoration: underline\">\"z0211a\"</span> <span style=\"font-weight: bold; text-decoration: underline\">[</span><span style=\"color: #008000; text-decoration-color: #008000; font-weight: bold; text-decoration: underline\">'[Other] Zika'</span><span style=\"font-weight: bold; text-decoration: underline\">, </span><span style=\"color: #008000; text-decoration-color: #008000; font-weight: bold; text-decoration: underline\">'[Other] upload_1 2024-11-21'</span><span style=\"font-weight: bold; text-decoration: underline\">, </span><span style=\"color: #008000; text-decoration-color: #008000; font-weight: bold; text-decoration: underline\">'[Other] Green Site/RNA tunnel (P2)'</span><span style=\"font-weight: bold; text-decoration: underline\">, </span><span style=\"color: #008000; text-decoration-color: #008000; font-weight: bold; text-decoration: underline\">'[Other] </span>\n",
       "<span style=\"color: #008000; text-decoration-color: #008000; font-weight: bold; text-decoration: underline\">upload_1 2024-11-13'</span><span style=\"font-weight: bold; text-decoration: underline\">, </span><span style=\"color: #008000; text-decoration-color: #008000; font-weight: bold; text-decoration: underline\">'hits'</span><span style=\"font-weight: bold; text-decoration: underline\">, </span><span style=\"color: #008000; text-decoration-color: #008000; font-weight: bold; text-decoration: underline\">'[Other] fragment screen'</span><span style=\"font-weight: bold; text-decoration: underline\">, </span><span style=\"color: #008000; text-decoration-color: #008000; font-weight: bold; text-decoration: underline\">'Pose'</span><span style=\"font-weight: bold; text-decoration: underline\">]</span>\n",
       "</pre>\n"
      ],
      "text/plain": [
       "\u001b[1;4mC81->P102: \u001b[0m\u001b[1;4;32m\"z0211a\"\u001b[0m \u001b[1;4m[\u001b[0m\u001b[1;4;32m'\u001b[0m\u001b[1;4;32m[\u001b[0m\u001b[1;4;32mOther\u001b[0m\u001b[1;4;32m]\u001b[0m\u001b[1;4;32m Zika'\u001b[0m\u001b[1;4m, \u001b[0m\u001b[1;4;32m'\u001b[0m\u001b[1;4;32m[\u001b[0m\u001b[1;4;32mOther\u001b[0m\u001b[1;4;32m]\u001b[0m\u001b[1;4;32m upload_1 2024-11-21'\u001b[0m\u001b[1;4m, \u001b[0m\u001b[1;4;32m'\u001b[0m\u001b[1;4;32m[\u001b[0m\u001b[1;4;32mOther\u001b[0m\u001b[1;4;32m]\u001b[0m\u001b[1;4;32m Green Site/RNA tunnel \u001b[0m\u001b[1;4;32m(\u001b[0m\u001b[1;4;32mP2\u001b[0m\u001b[1;4;32m)\u001b[0m\u001b[1;4;32m'\u001b[0m\u001b[1;4m, \u001b[0m\u001b[1;4;32m'\u001b[0m\u001b[1;4;32m[\u001b[0m\u001b[1;4;32mOther\u001b[0m\u001b[1;4;32m]\u001b[0m\u001b[1;4;32m \u001b[0m\n",
       "\u001b[1;4;32mupload_1 2024-11-13'\u001b[0m\u001b[1;4m, \u001b[0m\u001b[1;4;32m'hits'\u001b[0m\u001b[1;4m, \u001b[0m\u001b[1;4;32m'\u001b[0m\u001b[1;4;32m[\u001b[0m\u001b[1;4;32mOther\u001b[0m\u001b[1;4;32m]\u001b[0m\u001b[1;4;32m fragment screen'\u001b[0m\u001b[1;4m, \u001b[0m\u001b[1;4;32m'Pose'\u001b[0m\u001b[1;4m]\u001b[0m\n"
      ]
     },
     "metadata": {},
     "output_type": "display_data"
    },
    {
     "data": {
      "text/html": [
       "<pre style=\"white-space:pre;overflow-x:auto;line-height:normal;font-family:Menlo,'DejaVu Sans Mono',consolas,'Courier New',monospace;margin:0px\"><span style=\"font-weight: bold; text-decoration: underline\">C146-&gt;P208: </span><span style=\"color: #008000; text-decoration-color: #008000; font-weight: bold; text-decoration: underline\">\"z1040a\"</span> <span style=\"font-weight: bold; text-decoration: underline\">[</span><span style=\"color: #008000; text-decoration-color: #008000; font-weight: bold; text-decoration: underline\">'[Other] Zika'</span><span style=\"font-weight: bold; text-decoration: underline\">, </span><span style=\"color: #008000; text-decoration-color: #008000; font-weight: bold; text-decoration: underline\">'[Other] upload_1 2024-11-21'</span><span style=\"font-weight: bold; text-decoration: underline\">, </span><span style=\"color: #008000; text-decoration-color: #008000; font-weight: bold; text-decoration: underline\">'[Other] Green Site/RNA tunnel (P2)'</span><span style=\"font-weight: bold; text-decoration: underline\">, </span><span style=\"color: #008000; text-decoration-color: #008000; font-weight: bold; text-decoration: underline\">'[Other]</span>\n",
       "<span style=\"color: #008000; text-decoration-color: #008000; font-weight: bold; text-decoration: underline\">upload_1 2024-11-13'</span><span style=\"font-weight: bold; text-decoration: underline\">, </span><span style=\"color: #008000; text-decoration-color: #008000; font-weight: bold; text-decoration: underline\">'hits'</span><span style=\"font-weight: bold; text-decoration: underline\">, </span><span style=\"color: #008000; text-decoration-color: #008000; font-weight: bold; text-decoration: underline\">'[Other] fragment screen'</span><span style=\"font-weight: bold; text-decoration: underline\">, </span><span style=\"color: #008000; text-decoration-color: #008000; font-weight: bold; text-decoration: underline\">'Pose'</span><span style=\"font-weight: bold; text-decoration: underline\">]</span>\n",
       "</pre>\n"
      ],
      "text/plain": [
       "\u001b[1;4mC146->P208: \u001b[0m\u001b[1;4;32m\"z1040a\"\u001b[0m \u001b[1;4m[\u001b[0m\u001b[1;4;32m'\u001b[0m\u001b[1;4;32m[\u001b[0m\u001b[1;4;32mOther\u001b[0m\u001b[1;4;32m]\u001b[0m\u001b[1;4;32m Zika'\u001b[0m\u001b[1;4m, \u001b[0m\u001b[1;4;32m'\u001b[0m\u001b[1;4;32m[\u001b[0m\u001b[1;4;32mOther\u001b[0m\u001b[1;4;32m]\u001b[0m\u001b[1;4;32m upload_1 2024-11-21'\u001b[0m\u001b[1;4m, \u001b[0m\u001b[1;4;32m'\u001b[0m\u001b[1;4;32m[\u001b[0m\u001b[1;4;32mOther\u001b[0m\u001b[1;4;32m]\u001b[0m\u001b[1;4;32m Green Site/RNA tunnel \u001b[0m\u001b[1;4;32m(\u001b[0m\u001b[1;4;32mP2\u001b[0m\u001b[1;4;32m)\u001b[0m\u001b[1;4;32m'\u001b[0m\u001b[1;4m, \u001b[0m\u001b[1;4;32m'\u001b[0m\u001b[1;4;32m[\u001b[0m\u001b[1;4;32mOther\u001b[0m\u001b[1;4;32m]\u001b[0m\n",
       "\u001b[1;4;32mupload_1 2024-11-13'\u001b[0m\u001b[1;4m, \u001b[0m\u001b[1;4;32m'hits'\u001b[0m\u001b[1;4m, \u001b[0m\u001b[1;4;32m'\u001b[0m\u001b[1;4;32m[\u001b[0m\u001b[1;4;32mOther\u001b[0m\u001b[1;4;32m]\u001b[0m\u001b[1;4;32m fragment screen'\u001b[0m\u001b[1;4m, \u001b[0m\u001b[1;4;32m'Pose'\u001b[0m\u001b[1;4m]\u001b[0m\n"
      ]
     },
     "metadata": {},
     "output_type": "display_data"
    },
    {
     "data": {
      "text/html": [
       "<pre style=\"white-space:pre;overflow-x:auto;line-height:normal;font-family:Menlo,'DejaVu Sans Mono',consolas,'Courier New',monospace;margin:0px\">╭─────────────────────────────────────────────────────────────────────────────────────────────────────────────────╮\n",
       "│ <span style=\"font-weight: bold; text-decoration: underline\">C33434-&gt;P175630: \"SHENAZADMNUPGS-VIFPVBQESA-N\"</span>                                                                  │\n",
       "╰─────────────────────────────────────────────────────────────────────────────────────────────────────────────────╯\n",
       "</pre>\n"
      ],
      "text/plain": [
       "╭─────────────────────────────────────────────────────────────────────────────────────────────────────────────────╮\n",
       "│ \u001b[1;4mC33434->P175630: \"SHENAZADMNUPGS-VIFPVBQESA-N\"\u001b[0m                                                                  │\n",
       "╰─────────────────────────────────────────────────────────────────────────────────────────────────────────────────╯\n"
      ]
     },
     "metadata": {},
     "output_type": "display_data"
    },
    {
     "data": {
      "text/html": [
       "<pre style=\"white-space:pre;overflow-x:auto;line-height:normal;font-family:Menlo,'DejaVu Sans Mono',consolas,'Courier New',monospace;margin:0px\"><span style=\"font-weight: bold; text-decoration: underline\">C81-&gt;P102: </span><span style=\"color: #008000; text-decoration-color: #008000; font-weight: bold; text-decoration: underline\">\"z0211a\"</span> <span style=\"font-weight: bold; text-decoration: underline\">[</span><span style=\"color: #008000; text-decoration-color: #008000; font-weight: bold; text-decoration: underline\">'[Other] Zika'</span><span style=\"font-weight: bold; text-decoration: underline\">, </span><span style=\"color: #008000; text-decoration-color: #008000; font-weight: bold; text-decoration: underline\">'[Other] upload_1 2024-11-21'</span><span style=\"font-weight: bold; text-decoration: underline\">, </span><span style=\"color: #008000; text-decoration-color: #008000; font-weight: bold; text-decoration: underline\">'[Other] Green Site/RNA tunnel (P2)'</span><span style=\"font-weight: bold; text-decoration: underline\">, </span><span style=\"color: #008000; text-decoration-color: #008000; font-weight: bold; text-decoration: underline\">'[Other] </span>\n",
       "<span style=\"color: #008000; text-decoration-color: #008000; font-weight: bold; text-decoration: underline\">upload_1 2024-11-13'</span><span style=\"font-weight: bold; text-decoration: underline\">, </span><span style=\"color: #008000; text-decoration-color: #008000; font-weight: bold; text-decoration: underline\">'hits'</span><span style=\"font-weight: bold; text-decoration: underline\">, </span><span style=\"color: #008000; text-decoration-color: #008000; font-weight: bold; text-decoration: underline\">'[Other] fragment screen'</span><span style=\"font-weight: bold; text-decoration: underline\">, </span><span style=\"color: #008000; text-decoration-color: #008000; font-weight: bold; text-decoration: underline\">'Pose'</span><span style=\"font-weight: bold; text-decoration: underline\">]</span>\n",
       "</pre>\n"
      ],
      "text/plain": [
       "\u001b[1;4mC81->P102: \u001b[0m\u001b[1;4;32m\"z0211a\"\u001b[0m \u001b[1;4m[\u001b[0m\u001b[1;4;32m'\u001b[0m\u001b[1;4;32m[\u001b[0m\u001b[1;4;32mOther\u001b[0m\u001b[1;4;32m]\u001b[0m\u001b[1;4;32m Zika'\u001b[0m\u001b[1;4m, \u001b[0m\u001b[1;4;32m'\u001b[0m\u001b[1;4;32m[\u001b[0m\u001b[1;4;32mOther\u001b[0m\u001b[1;4;32m]\u001b[0m\u001b[1;4;32m upload_1 2024-11-21'\u001b[0m\u001b[1;4m, \u001b[0m\u001b[1;4;32m'\u001b[0m\u001b[1;4;32m[\u001b[0m\u001b[1;4;32mOther\u001b[0m\u001b[1;4;32m]\u001b[0m\u001b[1;4;32m Green Site/RNA tunnel \u001b[0m\u001b[1;4;32m(\u001b[0m\u001b[1;4;32mP2\u001b[0m\u001b[1;4;32m)\u001b[0m\u001b[1;4;32m'\u001b[0m\u001b[1;4m, \u001b[0m\u001b[1;4;32m'\u001b[0m\u001b[1;4;32m[\u001b[0m\u001b[1;4;32mOther\u001b[0m\u001b[1;4;32m]\u001b[0m\u001b[1;4;32m \u001b[0m\n",
       "\u001b[1;4;32mupload_1 2024-11-13'\u001b[0m\u001b[1;4m, \u001b[0m\u001b[1;4;32m'hits'\u001b[0m\u001b[1;4m, \u001b[0m\u001b[1;4;32m'\u001b[0m\u001b[1;4;32m[\u001b[0m\u001b[1;4;32mOther\u001b[0m\u001b[1;4;32m]\u001b[0m\u001b[1;4;32m fragment screen'\u001b[0m\u001b[1;4m, \u001b[0m\u001b[1;4;32m'Pose'\u001b[0m\u001b[1;4m]\u001b[0m\n"
      ]
     },
     "metadata": {},
     "output_type": "display_data"
    },
    {
     "data": {
      "text/html": [
       "<pre style=\"white-space:pre;overflow-x:auto;line-height:normal;font-family:Menlo,'DejaVu Sans Mono',consolas,'Courier New',monospace;margin:0px\"><span style=\"font-weight: bold; text-decoration: underline\">C146-&gt;P208: </span><span style=\"color: #008000; text-decoration-color: #008000; font-weight: bold; text-decoration: underline\">\"z1040a\"</span> <span style=\"font-weight: bold; text-decoration: underline\">[</span><span style=\"color: #008000; text-decoration-color: #008000; font-weight: bold; text-decoration: underline\">'[Other] Zika'</span><span style=\"font-weight: bold; text-decoration: underline\">, </span><span style=\"color: #008000; text-decoration-color: #008000; font-weight: bold; text-decoration: underline\">'[Other] upload_1 2024-11-21'</span><span style=\"font-weight: bold; text-decoration: underline\">, </span><span style=\"color: #008000; text-decoration-color: #008000; font-weight: bold; text-decoration: underline\">'[Other] Green Site/RNA tunnel (P2)'</span><span style=\"font-weight: bold; text-decoration: underline\">, </span><span style=\"color: #008000; text-decoration-color: #008000; font-weight: bold; text-decoration: underline\">'[Other]</span>\n",
       "<span style=\"color: #008000; text-decoration-color: #008000; font-weight: bold; text-decoration: underline\">upload_1 2024-11-13'</span><span style=\"font-weight: bold; text-decoration: underline\">, </span><span style=\"color: #008000; text-decoration-color: #008000; font-weight: bold; text-decoration: underline\">'hits'</span><span style=\"font-weight: bold; text-decoration: underline\">, </span><span style=\"color: #008000; text-decoration-color: #008000; font-weight: bold; text-decoration: underline\">'[Other] fragment screen'</span><span style=\"font-weight: bold; text-decoration: underline\">, </span><span style=\"color: #008000; text-decoration-color: #008000; font-weight: bold; text-decoration: underline\">'Pose'</span><span style=\"font-weight: bold; text-decoration: underline\">]</span>\n",
       "</pre>\n"
      ],
      "text/plain": [
       "\u001b[1;4mC146->P208: \u001b[0m\u001b[1;4;32m\"z1040a\"\u001b[0m \u001b[1;4m[\u001b[0m\u001b[1;4;32m'\u001b[0m\u001b[1;4;32m[\u001b[0m\u001b[1;4;32mOther\u001b[0m\u001b[1;4;32m]\u001b[0m\u001b[1;4;32m Zika'\u001b[0m\u001b[1;4m, \u001b[0m\u001b[1;4;32m'\u001b[0m\u001b[1;4;32m[\u001b[0m\u001b[1;4;32mOther\u001b[0m\u001b[1;4;32m]\u001b[0m\u001b[1;4;32m upload_1 2024-11-21'\u001b[0m\u001b[1;4m, \u001b[0m\u001b[1;4;32m'\u001b[0m\u001b[1;4;32m[\u001b[0m\u001b[1;4;32mOther\u001b[0m\u001b[1;4;32m]\u001b[0m\u001b[1;4;32m Green Site/RNA tunnel \u001b[0m\u001b[1;4;32m(\u001b[0m\u001b[1;4;32mP2\u001b[0m\u001b[1;4;32m)\u001b[0m\u001b[1;4;32m'\u001b[0m\u001b[1;4m, \u001b[0m\u001b[1;4;32m'\u001b[0m\u001b[1;4;32m[\u001b[0m\u001b[1;4;32mOther\u001b[0m\u001b[1;4;32m]\u001b[0m\n",
       "\u001b[1;4;32mupload_1 2024-11-13'\u001b[0m\u001b[1;4m, \u001b[0m\u001b[1;4;32m'hits'\u001b[0m\u001b[1;4m, \u001b[0m\u001b[1;4;32m'\u001b[0m\u001b[1;4;32m[\u001b[0m\u001b[1;4;32mOther\u001b[0m\u001b[1;4;32m]\u001b[0m\u001b[1;4;32m fragment screen'\u001b[0m\u001b[1;4m, \u001b[0m\u001b[1;4;32m'Pose'\u001b[0m\u001b[1;4m]\u001b[0m\n"
      ]
     },
     "metadata": {},
     "output_type": "display_data"
    },
    {
     "data": {
      "text/html": [
       "<pre style=\"white-space:pre;overflow-x:auto;line-height:normal;font-family:Menlo,'DejaVu Sans Mono',consolas,'Courier New',monospace;margin:0px\">╭─────────────────────────────────────────────────────────────────────────────────────────────────────────────────╮\n",
       "│ <span style=\"font-weight: bold; text-decoration: underline\">C33434-&gt;P207301: \"SHENAZADMNUPGS-VIFPVBQESA-N\"</span>                                                                  │\n",
       "╰─────────────────────────────────────────────────────────────────────────────────────────────────────────────────╯\n",
       "</pre>\n"
      ],
      "text/plain": [
       "╭─────────────────────────────────────────────────────────────────────────────────────────────────────────────────╮\n",
       "│ \u001b[1;4mC33434->P207301: \"SHENAZADMNUPGS-VIFPVBQESA-N\"\u001b[0m                                                                  │\n",
       "╰─────────────────────────────────────────────────────────────────────────────────────────────────────────────────╯\n"
      ]
     },
     "metadata": {},
     "output_type": "display_data"
    },
    {
     "data": {
      "text/html": [
       "<pre style=\"white-space:pre;overflow-x:auto;line-height:normal;font-family:Menlo,'DejaVu Sans Mono',consolas,'Courier New',monospace;margin:0px\"><span style=\"font-weight: bold; text-decoration: underline\">C81-&gt;P102: </span><span style=\"color: #008000; text-decoration-color: #008000; font-weight: bold; text-decoration: underline\">\"z0211a\"</span> <span style=\"font-weight: bold; text-decoration: underline\">[</span><span style=\"color: #008000; text-decoration-color: #008000; font-weight: bold; text-decoration: underline\">'[Other] Zika'</span><span style=\"font-weight: bold; text-decoration: underline\">, </span><span style=\"color: #008000; text-decoration-color: #008000; font-weight: bold; text-decoration: underline\">'[Other] upload_1 2024-11-21'</span><span style=\"font-weight: bold; text-decoration: underline\">, </span><span style=\"color: #008000; text-decoration-color: #008000; font-weight: bold; text-decoration: underline\">'[Other] Green Site/RNA tunnel (P2)'</span><span style=\"font-weight: bold; text-decoration: underline\">, </span><span style=\"color: #008000; text-decoration-color: #008000; font-weight: bold; text-decoration: underline\">'[Other] </span>\n",
       "<span style=\"color: #008000; text-decoration-color: #008000; font-weight: bold; text-decoration: underline\">upload_1 2024-11-13'</span><span style=\"font-weight: bold; text-decoration: underline\">, </span><span style=\"color: #008000; text-decoration-color: #008000; font-weight: bold; text-decoration: underline\">'hits'</span><span style=\"font-weight: bold; text-decoration: underline\">, </span><span style=\"color: #008000; text-decoration-color: #008000; font-weight: bold; text-decoration: underline\">'[Other] fragment screen'</span><span style=\"font-weight: bold; text-decoration: underline\">, </span><span style=\"color: #008000; text-decoration-color: #008000; font-weight: bold; text-decoration: underline\">'Pose'</span><span style=\"font-weight: bold; text-decoration: underline\">]</span>\n",
       "</pre>\n"
      ],
      "text/plain": [
       "\u001b[1;4mC81->P102: \u001b[0m\u001b[1;4;32m\"z0211a\"\u001b[0m \u001b[1;4m[\u001b[0m\u001b[1;4;32m'\u001b[0m\u001b[1;4;32m[\u001b[0m\u001b[1;4;32mOther\u001b[0m\u001b[1;4;32m]\u001b[0m\u001b[1;4;32m Zika'\u001b[0m\u001b[1;4m, \u001b[0m\u001b[1;4;32m'\u001b[0m\u001b[1;4;32m[\u001b[0m\u001b[1;4;32mOther\u001b[0m\u001b[1;4;32m]\u001b[0m\u001b[1;4;32m upload_1 2024-11-21'\u001b[0m\u001b[1;4m, \u001b[0m\u001b[1;4;32m'\u001b[0m\u001b[1;4;32m[\u001b[0m\u001b[1;4;32mOther\u001b[0m\u001b[1;4;32m]\u001b[0m\u001b[1;4;32m Green Site/RNA tunnel \u001b[0m\u001b[1;4;32m(\u001b[0m\u001b[1;4;32mP2\u001b[0m\u001b[1;4;32m)\u001b[0m\u001b[1;4;32m'\u001b[0m\u001b[1;4m, \u001b[0m\u001b[1;4;32m'\u001b[0m\u001b[1;4;32m[\u001b[0m\u001b[1;4;32mOther\u001b[0m\u001b[1;4;32m]\u001b[0m\u001b[1;4;32m \u001b[0m\n",
       "\u001b[1;4;32mupload_1 2024-11-13'\u001b[0m\u001b[1;4m, \u001b[0m\u001b[1;4;32m'hits'\u001b[0m\u001b[1;4m, \u001b[0m\u001b[1;4;32m'\u001b[0m\u001b[1;4;32m[\u001b[0m\u001b[1;4;32mOther\u001b[0m\u001b[1;4;32m]\u001b[0m\u001b[1;4;32m fragment screen'\u001b[0m\u001b[1;4m, \u001b[0m\u001b[1;4;32m'Pose'\u001b[0m\u001b[1;4m]\u001b[0m\n"
      ]
     },
     "metadata": {},
     "output_type": "display_data"
    },
    {
     "data": {
      "text/html": [
       "<pre style=\"white-space:pre;overflow-x:auto;line-height:normal;font-family:Menlo,'DejaVu Sans Mono',consolas,'Courier New',monospace;margin:0px\"><span style=\"font-weight: bold; text-decoration: underline\">C127-&gt;P173: </span><span style=\"color: #008000; text-decoration-color: #008000; font-weight: bold; text-decoration: underline\">\"z0881a\"</span> <span style=\"font-weight: bold; text-decoration: underline\">[</span><span style=\"color: #008000; text-decoration-color: #008000; font-weight: bold; text-decoration: underline\">'[Other] Zika'</span><span style=\"font-weight: bold; text-decoration: underline\">, </span><span style=\"color: #008000; text-decoration-color: #008000; font-weight: bold; text-decoration: underline\">'[Other] upload_1 2024-11-21'</span><span style=\"font-weight: bold; text-decoration: underline\">, </span><span style=\"color: #008000; text-decoration-color: #008000; font-weight: bold; text-decoration: underline\">'[Other] Green Site/RNA tunnel (P2)'</span><span style=\"font-weight: bold; text-decoration: underline\">, </span><span style=\"color: #008000; text-decoration-color: #008000; font-weight: bold; text-decoration: underline\">'[Other]</span>\n",
       "<span style=\"color: #008000; text-decoration-color: #008000; font-weight: bold; text-decoration: underline\">upload_1 2024-11-13'</span><span style=\"font-weight: bold; text-decoration: underline\">, </span><span style=\"color: #008000; text-decoration-color: #008000; font-weight: bold; text-decoration: underline\">'hits'</span><span style=\"font-weight: bold; text-decoration: underline\">, </span><span style=\"color: #008000; text-decoration-color: #008000; font-weight: bold; text-decoration: underline\">'[Other] fragment screen'</span><span style=\"font-weight: bold; text-decoration: underline\">, </span><span style=\"color: #008000; text-decoration-color: #008000; font-weight: bold; text-decoration: underline\">'Pose'</span><span style=\"font-weight: bold; text-decoration: underline\">]</span>\n",
       "</pre>\n"
      ],
      "text/plain": [
       "\u001b[1;4mC127->P173: \u001b[0m\u001b[1;4;32m\"z0881a\"\u001b[0m \u001b[1;4m[\u001b[0m\u001b[1;4;32m'\u001b[0m\u001b[1;4;32m[\u001b[0m\u001b[1;4;32mOther\u001b[0m\u001b[1;4;32m]\u001b[0m\u001b[1;4;32m Zika'\u001b[0m\u001b[1;4m, \u001b[0m\u001b[1;4;32m'\u001b[0m\u001b[1;4;32m[\u001b[0m\u001b[1;4;32mOther\u001b[0m\u001b[1;4;32m]\u001b[0m\u001b[1;4;32m upload_1 2024-11-21'\u001b[0m\u001b[1;4m, \u001b[0m\u001b[1;4;32m'\u001b[0m\u001b[1;4;32m[\u001b[0m\u001b[1;4;32mOther\u001b[0m\u001b[1;4;32m]\u001b[0m\u001b[1;4;32m Green Site/RNA tunnel \u001b[0m\u001b[1;4;32m(\u001b[0m\u001b[1;4;32mP2\u001b[0m\u001b[1;4;32m)\u001b[0m\u001b[1;4;32m'\u001b[0m\u001b[1;4m, \u001b[0m\u001b[1;4;32m'\u001b[0m\u001b[1;4;32m[\u001b[0m\u001b[1;4;32mOther\u001b[0m\u001b[1;4;32m]\u001b[0m\n",
       "\u001b[1;4;32mupload_1 2024-11-13'\u001b[0m\u001b[1;4m, \u001b[0m\u001b[1;4;32m'hits'\u001b[0m\u001b[1;4m, \u001b[0m\u001b[1;4;32m'\u001b[0m\u001b[1;4;32m[\u001b[0m\u001b[1;4;32mOther\u001b[0m\u001b[1;4;32m]\u001b[0m\u001b[1;4;32m fragment screen'\u001b[0m\u001b[1;4m, \u001b[0m\u001b[1;4;32m'Pose'\u001b[0m\u001b[1;4m]\u001b[0m\n"
      ]
     },
     "metadata": {},
     "output_type": "display_data"
    },
    {
     "data": {
      "text/html": [
       "<pre style=\"white-space:pre;overflow-x:auto;line-height:normal;font-family:Menlo,'DejaVu Sans Mono',consolas,'Courier New',monospace;margin:0px\">╭─────────────────────────────────────────────────────────────────────────────────────────────────────────────────╮\n",
       "│ <span style=\"font-weight: bold; text-decoration: underline\">C33434-&gt;P207307: \"SHENAZADMNUPGS-VIFPVBQESA-N\"</span>                                                                  │\n",
       "╰─────────────────────────────────────────────────────────────────────────────────────────────────────────────────╯\n",
       "</pre>\n"
      ],
      "text/plain": [
       "╭─────────────────────────────────────────────────────────────────────────────────────────────────────────────────╮\n",
       "│ \u001b[1;4mC33434->P207307: \"SHENAZADMNUPGS-VIFPVBQESA-N\"\u001b[0m                                                                  │\n",
       "╰─────────────────────────────────────────────────────────────────────────────────────────────────────────────────╯\n"
      ]
     },
     "metadata": {},
     "output_type": "display_data"
    },
    {
     "data": {
      "text/html": [
       "<pre style=\"white-space:pre;overflow-x:auto;line-height:normal;font-family:Menlo,'DejaVu Sans Mono',consolas,'Courier New',monospace;margin:0px\"><span style=\"font-weight: bold; text-decoration: underline\">C81-&gt;P102: </span><span style=\"color: #008000; text-decoration-color: #008000; font-weight: bold; text-decoration: underline\">\"z0211a\"</span> <span style=\"font-weight: bold; text-decoration: underline\">[</span><span style=\"color: #008000; text-decoration-color: #008000; font-weight: bold; text-decoration: underline\">'[Other] Zika'</span><span style=\"font-weight: bold; text-decoration: underline\">, </span><span style=\"color: #008000; text-decoration-color: #008000; font-weight: bold; text-decoration: underline\">'[Other] upload_1 2024-11-21'</span><span style=\"font-weight: bold; text-decoration: underline\">, </span><span style=\"color: #008000; text-decoration-color: #008000; font-weight: bold; text-decoration: underline\">'[Other] Green Site/RNA tunnel (P2)'</span><span style=\"font-weight: bold; text-decoration: underline\">, </span><span style=\"color: #008000; text-decoration-color: #008000; font-weight: bold; text-decoration: underline\">'[Other] </span>\n",
       "<span style=\"color: #008000; text-decoration-color: #008000; font-weight: bold; text-decoration: underline\">upload_1 2024-11-13'</span><span style=\"font-weight: bold; text-decoration: underline\">, </span><span style=\"color: #008000; text-decoration-color: #008000; font-weight: bold; text-decoration: underline\">'hits'</span><span style=\"font-weight: bold; text-decoration: underline\">, </span><span style=\"color: #008000; text-decoration-color: #008000; font-weight: bold; text-decoration: underline\">'[Other] fragment screen'</span><span style=\"font-weight: bold; text-decoration: underline\">, </span><span style=\"color: #008000; text-decoration-color: #008000; font-weight: bold; text-decoration: underline\">'Pose'</span><span style=\"font-weight: bold; text-decoration: underline\">]</span>\n",
       "</pre>\n"
      ],
      "text/plain": [
       "\u001b[1;4mC81->P102: \u001b[0m\u001b[1;4;32m\"z0211a\"\u001b[0m \u001b[1;4m[\u001b[0m\u001b[1;4;32m'\u001b[0m\u001b[1;4;32m[\u001b[0m\u001b[1;4;32mOther\u001b[0m\u001b[1;4;32m]\u001b[0m\u001b[1;4;32m Zika'\u001b[0m\u001b[1;4m, \u001b[0m\u001b[1;4;32m'\u001b[0m\u001b[1;4;32m[\u001b[0m\u001b[1;4;32mOther\u001b[0m\u001b[1;4;32m]\u001b[0m\u001b[1;4;32m upload_1 2024-11-21'\u001b[0m\u001b[1;4m, \u001b[0m\u001b[1;4;32m'\u001b[0m\u001b[1;4;32m[\u001b[0m\u001b[1;4;32mOther\u001b[0m\u001b[1;4;32m]\u001b[0m\u001b[1;4;32m Green Site/RNA tunnel \u001b[0m\u001b[1;4;32m(\u001b[0m\u001b[1;4;32mP2\u001b[0m\u001b[1;4;32m)\u001b[0m\u001b[1;4;32m'\u001b[0m\u001b[1;4m, \u001b[0m\u001b[1;4;32m'\u001b[0m\u001b[1;4;32m[\u001b[0m\u001b[1;4;32mOther\u001b[0m\u001b[1;4;32m]\u001b[0m\u001b[1;4;32m \u001b[0m\n",
       "\u001b[1;4;32mupload_1 2024-11-13'\u001b[0m\u001b[1;4m, \u001b[0m\u001b[1;4;32m'hits'\u001b[0m\u001b[1;4m, \u001b[0m\u001b[1;4;32m'\u001b[0m\u001b[1;4;32m[\u001b[0m\u001b[1;4;32mOther\u001b[0m\u001b[1;4;32m]\u001b[0m\u001b[1;4;32m fragment screen'\u001b[0m\u001b[1;4m, \u001b[0m\u001b[1;4;32m'Pose'\u001b[0m\u001b[1;4m]\u001b[0m\n"
      ]
     },
     "metadata": {},
     "output_type": "display_data"
    },
    {
     "data": {
      "text/html": [
       "<pre style=\"white-space:pre;overflow-x:auto;line-height:normal;font-family:Menlo,'DejaVu Sans Mono',consolas,'Courier New',monospace;margin:0px\"><span style=\"font-weight: bold; text-decoration: underline\">C127-&gt;P173: </span><span style=\"color: #008000; text-decoration-color: #008000; font-weight: bold; text-decoration: underline\">\"z0881a\"</span> <span style=\"font-weight: bold; text-decoration: underline\">[</span><span style=\"color: #008000; text-decoration-color: #008000; font-weight: bold; text-decoration: underline\">'[Other] Zika'</span><span style=\"font-weight: bold; text-decoration: underline\">, </span><span style=\"color: #008000; text-decoration-color: #008000; font-weight: bold; text-decoration: underline\">'[Other] upload_1 2024-11-21'</span><span style=\"font-weight: bold; text-decoration: underline\">, </span><span style=\"color: #008000; text-decoration-color: #008000; font-weight: bold; text-decoration: underline\">'[Other] Green Site/RNA tunnel (P2)'</span><span style=\"font-weight: bold; text-decoration: underline\">, </span><span style=\"color: #008000; text-decoration-color: #008000; font-weight: bold; text-decoration: underline\">'[Other]</span>\n",
       "<span style=\"color: #008000; text-decoration-color: #008000; font-weight: bold; text-decoration: underline\">upload_1 2024-11-13'</span><span style=\"font-weight: bold; text-decoration: underline\">, </span><span style=\"color: #008000; text-decoration-color: #008000; font-weight: bold; text-decoration: underline\">'hits'</span><span style=\"font-weight: bold; text-decoration: underline\">, </span><span style=\"color: #008000; text-decoration-color: #008000; font-weight: bold; text-decoration: underline\">'[Other] fragment screen'</span><span style=\"font-weight: bold; text-decoration: underline\">, </span><span style=\"color: #008000; text-decoration-color: #008000; font-weight: bold; text-decoration: underline\">'Pose'</span><span style=\"font-weight: bold; text-decoration: underline\">]</span>\n",
       "</pre>\n"
      ],
      "text/plain": [
       "\u001b[1;4mC127->P173: \u001b[0m\u001b[1;4;32m\"z0881a\"\u001b[0m \u001b[1;4m[\u001b[0m\u001b[1;4;32m'\u001b[0m\u001b[1;4;32m[\u001b[0m\u001b[1;4;32mOther\u001b[0m\u001b[1;4;32m]\u001b[0m\u001b[1;4;32m Zika'\u001b[0m\u001b[1;4m, \u001b[0m\u001b[1;4;32m'\u001b[0m\u001b[1;4;32m[\u001b[0m\u001b[1;4;32mOther\u001b[0m\u001b[1;4;32m]\u001b[0m\u001b[1;4;32m upload_1 2024-11-21'\u001b[0m\u001b[1;4m, \u001b[0m\u001b[1;4;32m'\u001b[0m\u001b[1;4;32m[\u001b[0m\u001b[1;4;32mOther\u001b[0m\u001b[1;4;32m]\u001b[0m\u001b[1;4;32m Green Site/RNA tunnel \u001b[0m\u001b[1;4;32m(\u001b[0m\u001b[1;4;32mP2\u001b[0m\u001b[1;4;32m)\u001b[0m\u001b[1;4;32m'\u001b[0m\u001b[1;4m, \u001b[0m\u001b[1;4;32m'\u001b[0m\u001b[1;4;32m[\u001b[0m\u001b[1;4;32mOther\u001b[0m\u001b[1;4;32m]\u001b[0m\n",
       "\u001b[1;4;32mupload_1 2024-11-13'\u001b[0m\u001b[1;4m, \u001b[0m\u001b[1;4;32m'hits'\u001b[0m\u001b[1;4m, \u001b[0m\u001b[1;4;32m'\u001b[0m\u001b[1;4;32m[\u001b[0m\u001b[1;4;32mOther\u001b[0m\u001b[1;4;32m]\u001b[0m\u001b[1;4;32m fragment screen'\u001b[0m\u001b[1;4m, \u001b[0m\u001b[1;4;32m'Pose'\u001b[0m\u001b[1;4m]\u001b[0m\n"
      ]
     },
     "metadata": {},
     "output_type": "display_data"
    },
    {
     "data": {
      "image/png": "[encoded data removed]",
      "text/plain": [
       "<rdkit.Chem.rdchem.Mol at 0x7f1c44dda9d0>"
      ]
     },
     "metadata": {},
     "output_type": "display_data"
    },
    {
     "data": {
      "text/html": [
       "<pre style=\"white-space:pre;overflow-x:auto;line-height:normal;font-family:Menlo,'DejaVu Sans Mono',consolas,'Courier New',monospace;margin:0px\"><span style=\"color: #00ff00; text-decoration-color: #00ff00\">────────────────────────────────────────────────────── </span>C7755<span style=\"color: #00ff00; text-decoration-color: #00ff00\"> ──────────────────────────────────────────────────────</span>\n",
       "</pre>\n"
      ],
      "text/plain": [
       "\u001b[92m────────────────────────────────────────────────────── \u001b[0mC7755\u001b[92m ──────────────────────────────────────────────────────\u001b[0m\n"
      ]
     },
     "metadata": {},
     "output_type": "display_data"
    },
    {
     "data": {
      "text/html": [
       "<pre style=\"white-space:pre;overflow-x:auto;line-height:normal;font-family:Menlo,'DejaVu Sans Mono',consolas,'Courier New',monospace;margin:0px\">╭─────────────────────────────────────────────────────────────────────────────────────────────────────────────────╮\n",
       "│ <span style=\"font-weight: bold; text-decoration: underline\">C7755-&gt;P39464: \"IYFJGUVPMIFAOX-UHFFFAOYSA-N\"</span>                                                                    │\n",
       "╰─────────────────────────────────────────────────────────────────────────────────────────────────────────────────╯\n",
       "</pre>\n"
      ],
      "text/plain": [
       "╭─────────────────────────────────────────────────────────────────────────────────────────────────────────────────╮\n",
       "│ \u001b[1;4mC7755->P39464: \"IYFJGUVPMIFAOX-UHFFFAOYSA-N\"\u001b[0m                                                                    │\n",
       "╰─────────────────────────────────────────────────────────────────────────────────────────────────────────────────╯\n"
      ]
     },
     "metadata": {},
     "output_type": "display_data"
    },
    {
     "data": {
      "text/html": [
       "<pre style=\"white-space:pre;overflow-x:auto;line-height:normal;font-family:Menlo,'DejaVu Sans Mono',consolas,'Courier New',monospace;margin:0px\"><span style=\"font-weight: bold; text-decoration: underline\">C14-&gt;P17: </span><span style=\"color: #008000; text-decoration-color: #008000; font-weight: bold; text-decoration: underline\">\"d0174a\"</span> <span style=\"font-weight: bold; text-decoration: underline\">[</span><span style=\"color: #008000; text-decoration-color: #008000; font-weight: bold; text-decoration: underline\">'[Other] upload_1 2024-11-21'</span><span style=\"font-weight: bold; text-decoration: underline\">, </span><span style=\"color: #008000; text-decoration-color: #008000; font-weight: bold; text-decoration: underline\">'[Other] Thumb Site 2 (P2)'</span><span style=\"font-weight: bold; text-decoration: underline\">, </span><span style=\"color: #008000; text-decoration-color: #008000; font-weight: bold; text-decoration: underline\">'[Other] DENV-2'</span><span style=\"font-weight: bold; text-decoration: underline\">, </span><span style=\"color: #008000; text-decoration-color: #008000; font-weight: bold; text-decoration: underline\">'[Other] upload_1</span>\n",
       "<span style=\"color: #008000; text-decoration-color: #008000; font-weight: bold; text-decoration: underline\">2024-11-13'</span><span style=\"font-weight: bold; text-decoration: underline\">, </span><span style=\"color: #008000; text-decoration-color: #008000; font-weight: bold; text-decoration: underline\">'hits'</span><span style=\"font-weight: bold; text-decoration: underline\">, </span><span style=\"color: #008000; text-decoration-color: #008000; font-weight: bold; text-decoration: underline\">'[Other] fragment screen'</span><span style=\"font-weight: bold; text-decoration: underline\">, </span><span style=\"color: #008000; text-decoration-color: #008000; font-weight: bold; text-decoration: underline\">'Pose'</span><span style=\"font-weight: bold; text-decoration: underline\">]</span>\n",
       "</pre>\n"
      ],
      "text/plain": [
       "\u001b[1;4mC14->P17: \u001b[0m\u001b[1;4;32m\"d0174a\"\u001b[0m \u001b[1;4m[\u001b[0m\u001b[1;4;32m'\u001b[0m\u001b[1;4;32m[\u001b[0m\u001b[1;4;32mOther\u001b[0m\u001b[1;4;32m]\u001b[0m\u001b[1;4;32m upload_1 2024-11-21'\u001b[0m\u001b[1;4m, \u001b[0m\u001b[1;4;32m'\u001b[0m\u001b[1;4;32m[\u001b[0m\u001b[1;4;32mOther\u001b[0m\u001b[1;4;32m]\u001b[0m\u001b[1;4;32m Thumb Site 2 \u001b[0m\u001b[1;4;32m(\u001b[0m\u001b[1;4;32mP2\u001b[0m\u001b[1;4;32m)\u001b[0m\u001b[1;4;32m'\u001b[0m\u001b[1;4m, \u001b[0m\u001b[1;4;32m'\u001b[0m\u001b[1;4;32m[\u001b[0m\u001b[1;4;32mOther\u001b[0m\u001b[1;4;32m]\u001b[0m\u001b[1;4;32m DENV-2'\u001b[0m\u001b[1;4m, \u001b[0m\u001b[1;4;32m'\u001b[0m\u001b[1;4;32m[\u001b[0m\u001b[1;4;32mOther\u001b[0m\u001b[1;4;32m]\u001b[0m\u001b[1;4;32m upload_1\u001b[0m\n",
       "\u001b[1;4;32m2024-11-13'\u001b[0m\u001b[1;4m, \u001b[0m\u001b[1;4;32m'hits'\u001b[0m\u001b[1;4m, \u001b[0m\u001b[1;4;32m'\u001b[0m\u001b[1;4;32m[\u001b[0m\u001b[1;4;32mOther\u001b[0m\u001b[1;4;32m]\u001b[0m\u001b[1;4;32m fragment screen'\u001b[0m\u001b[1;4m, \u001b[0m\u001b[1;4;32m'Pose'\u001b[0m\u001b[1;4m]\u001b[0m\n"
      ]
     },
     "metadata": {},
     "output_type": "display_data"
    },
    {
     "data": {
      "text/html": [
       "<pre style=\"white-space:pre;overflow-x:auto;line-height:normal;font-family:Menlo,'DejaVu Sans Mono',consolas,'Courier New',monospace;margin:0px\"><span style=\"font-weight: bold; text-decoration: underline\">C45-&gt;P53: </span><span style=\"color: #008000; text-decoration-color: #008000; font-weight: bold; text-decoration: underline\">\"d0693a\"</span> <span style=\"font-weight: bold; text-decoration: underline\">[</span><span style=\"color: #008000; text-decoration-color: #008000; font-weight: bold; text-decoration: underline\">'[Other] upload_1 2024-11-21'</span><span style=\"font-weight: bold; text-decoration: underline\">, </span><span style=\"color: #008000; text-decoration-color: #008000; font-weight: bold; text-decoration: underline\">'[Other] Thumb Site 2 (P2)'</span><span style=\"font-weight: bold; text-decoration: underline\">, </span><span style=\"color: #008000; text-decoration-color: #008000; font-weight: bold; text-decoration: underline\">'[Other] DENV-2'</span><span style=\"font-weight: bold; text-decoration: underline\">, </span><span style=\"color: #008000; text-decoration-color: #008000; font-weight: bold; text-decoration: underline\">'[Other] upload_1</span>\n",
       "<span style=\"color: #008000; text-decoration-color: #008000; font-weight: bold; text-decoration: underline\">2024-11-13'</span><span style=\"font-weight: bold; text-decoration: underline\">, </span><span style=\"color: #008000; text-decoration-color: #008000; font-weight: bold; text-decoration: underline\">'[Other] unconfirmed'</span><span style=\"font-weight: bold; text-decoration: underline\">, </span><span style=\"color: #008000; text-decoration-color: #008000; font-weight: bold; text-decoration: underline\">'hits'</span><span style=\"font-weight: bold; text-decoration: underline\">, </span><span style=\"color: #008000; text-decoration-color: #008000; font-weight: bold; text-decoration: underline\">'[Other] fragment screen'</span><span style=\"font-weight: bold; text-decoration: underline\">, </span><span style=\"color: #008000; text-decoration-color: #008000; font-weight: bold; text-decoration: underline\">'Pose'</span><span style=\"font-weight: bold; text-decoration: underline\">]</span>\n",
       "</pre>\n"
      ],
      "text/plain": [
       "\u001b[1;4mC45->P53: \u001b[0m\u001b[1;4;32m\"d0693a\"\u001b[0m \u001b[1;4m[\u001b[0m\u001b[1;4;32m'\u001b[0m\u001b[1;4;32m[\u001b[0m\u001b[1;4;32mOther\u001b[0m\u001b[1;4;32m]\u001b[0m\u001b[1;4;32m upload_1 2024-11-21'\u001b[0m\u001b[1;4m, \u001b[0m\u001b[1;4;32m'\u001b[0m\u001b[1;4;32m[\u001b[0m\u001b[1;4;32mOther\u001b[0m\u001b[1;4;32m]\u001b[0m\u001b[1;4;32m Thumb Site 2 \u001b[0m\u001b[1;4;32m(\u001b[0m\u001b[1;4;32mP2\u001b[0m\u001b[1;4;32m)\u001b[0m\u001b[1;4;32m'\u001b[0m\u001b[1;4m, \u001b[0m\u001b[1;4;32m'\u001b[0m\u001b[1;4;32m[\u001b[0m\u001b[1;4;32mOther\u001b[0m\u001b[1;4;32m]\u001b[0m\u001b[1;4;32m DENV-2'\u001b[0m\u001b[1;4m, \u001b[0m\u001b[1;4;32m'\u001b[0m\u001b[1;4;32m[\u001b[0m\u001b[1;4;32mOther\u001b[0m\u001b[1;4;32m]\u001b[0m\u001b[1;4;32m upload_1\u001b[0m\n",
       "\u001b[1;4;32m2024-11-13'\u001b[0m\u001b[1;4m, \u001b[0m\u001b[1;4;32m'\u001b[0m\u001b[1;4;32m[\u001b[0m\u001b[1;4;32mOther\u001b[0m\u001b[1;4;32m]\u001b[0m\u001b[1;4;32m unconfirmed'\u001b[0m\u001b[1;4m, \u001b[0m\u001b[1;4;32m'hits'\u001b[0m\u001b[1;4m, \u001b[0m\u001b[1;4;32m'\u001b[0m\u001b[1;4;32m[\u001b[0m\u001b[1;4;32mOther\u001b[0m\u001b[1;4;32m]\u001b[0m\u001b[1;4;32m fragment screen'\u001b[0m\u001b[1;4m, \u001b[0m\u001b[1;4;32m'Pose'\u001b[0m\u001b[1;4m]\u001b[0m\n"
      ]
     },
     "metadata": {},
     "output_type": "display_data"
    },
    {
     "data": {
      "text/html": [
       "<pre style=\"white-space:pre;overflow-x:auto;line-height:normal;font-family:Menlo,'DejaVu Sans Mono',consolas,'Courier New',monospace;margin:0px\">╭─────────────────────────────────────────────────────────────────────────────────────────────────────────────────╮\n",
       "│ <span style=\"font-weight: bold; text-decoration: underline\">C7755-&gt;P39466: \"IYFJGUVPMIFAOX-UHFFFAOYSA-N\"</span>                                                                    │\n",
       "╰─────────────────────────────────────────────────────────────────────────────────────────────────────────────────╯\n",
       "</pre>\n"
      ],
      "text/plain": [
       "╭─────────────────────────────────────────────────────────────────────────────────────────────────────────────────╮\n",
       "│ \u001b[1;4mC7755->P39466: \"IYFJGUVPMIFAOX-UHFFFAOYSA-N\"\u001b[0m                                                                    │\n",
       "╰─────────────────────────────────────────────────────────────────────────────────────────────────────────────────╯\n"
      ]
     },
     "metadata": {},
     "output_type": "display_data"
    },
    {
     "data": {
      "text/html": [
       "<pre style=\"white-space:pre;overflow-x:auto;line-height:normal;font-family:Menlo,'DejaVu Sans Mono',consolas,'Courier New',monospace;margin:0px\"><span style=\"font-weight: bold; text-decoration: underline\">C14-&gt;P17: </span><span style=\"color: #008000; text-decoration-color: #008000; font-weight: bold; text-decoration: underline\">\"d0174a\"</span> <span style=\"font-weight: bold; text-decoration: underline\">[</span><span style=\"color: #008000; text-decoration-color: #008000; font-weight: bold; text-decoration: underline\">'[Other] upload_1 2024-11-21'</span><span style=\"font-weight: bold; text-decoration: underline\">, </span><span style=\"color: #008000; text-decoration-color: #008000; font-weight: bold; text-decoration: underline\">'[Other] Thumb Site 2 (P2)'</span><span style=\"font-weight: bold; text-decoration: underline\">, </span><span style=\"color: #008000; text-decoration-color: #008000; font-weight: bold; text-decoration: underline\">'[Other] DENV-2'</span><span style=\"font-weight: bold; text-decoration: underline\">, </span><span style=\"color: #008000; text-decoration-color: #008000; font-weight: bold; text-decoration: underline\">'[Other] upload_1</span>\n",
       "<span style=\"color: #008000; text-decoration-color: #008000; font-weight: bold; text-decoration: underline\">2024-11-13'</span><span style=\"font-weight: bold; text-decoration: underline\">, </span><span style=\"color: #008000; text-decoration-color: #008000; font-weight: bold; text-decoration: underline\">'hits'</span><span style=\"font-weight: bold; text-decoration: underline\">, </span><span style=\"color: #008000; text-decoration-color: #008000; font-weight: bold; text-decoration: underline\">'[Other] fragment screen'</span><span style=\"font-weight: bold; text-decoration: underline\">, </span><span style=\"color: #008000; text-decoration-color: #008000; font-weight: bold; text-decoration: underline\">'Pose'</span><span style=\"font-weight: bold; text-decoration: underline\">]</span>\n",
       "</pre>\n"
      ],
      "text/plain": [
       "\u001b[1;4mC14->P17: \u001b[0m\u001b[1;4;32m\"d0174a\"\u001b[0m \u001b[1;4m[\u001b[0m\u001b[1;4;32m'\u001b[0m\u001b[1;4;32m[\u001b[0m\u001b[1;4;32mOther\u001b[0m\u001b[1;4;32m]\u001b[0m\u001b[1;4;32m upload_1 2024-11-21'\u001b[0m\u001b[1;4m, \u001b[0m\u001b[1;4;32m'\u001b[0m\u001b[1;4;32m[\u001b[0m\u001b[1;4;32mOther\u001b[0m\u001b[1;4;32m]\u001b[0m\u001b[1;4;32m Thumb Site 2 \u001b[0m\u001b[1;4;32m(\u001b[0m\u001b[1;4;32mP2\u001b[0m\u001b[1;4;32m)\u001b[0m\u001b[1;4;32m'\u001b[0m\u001b[1;4m, \u001b[0m\u001b[1;4;32m'\u001b[0m\u001b[1;4;32m[\u001b[0m\u001b[1;4;32mOther\u001b[0m\u001b[1;4;32m]\u001b[0m\u001b[1;4;32m DENV-2'\u001b[0m\u001b[1;4m, \u001b[0m\u001b[1;4;32m'\u001b[0m\u001b[1;4;32m[\u001b[0m\u001b[1;4;32mOther\u001b[0m\u001b[1;4;32m]\u001b[0m\u001b[1;4;32m upload_1\u001b[0m\n",
       "\u001b[1;4;32m2024-11-13'\u001b[0m\u001b[1;4m, \u001b[0m\u001b[1;4;32m'hits'\u001b[0m\u001b[1;4m, \u001b[0m\u001b[1;4;32m'\u001b[0m\u001b[1;4;32m[\u001b[0m\u001b[1;4;32mOther\u001b[0m\u001b[1;4;32m]\u001b[0m\u001b[1;4;32m fragment screen'\u001b[0m\u001b[1;4m, \u001b[0m\u001b[1;4;32m'Pose'\u001b[0m\u001b[1;4m]\u001b[0m\n"
      ]
     },
     "metadata": {},
     "output_type": "display_data"
    },
    {
     "data": {
      "text/html": [
       "<pre style=\"white-space:pre;overflow-x:auto;line-height:normal;font-family:Menlo,'DejaVu Sans Mono',consolas,'Courier New',monospace;margin:0px\"><span style=\"font-weight: bold; text-decoration: underline\">C45-&gt;P53: </span><span style=\"color: #008000; text-decoration-color: #008000; font-weight: bold; text-decoration: underline\">\"d0693a\"</span> <span style=\"font-weight: bold; text-decoration: underline\">[</span><span style=\"color: #008000; text-decoration-color: #008000; font-weight: bold; text-decoration: underline\">'[Other] upload_1 2024-11-21'</span><span style=\"font-weight: bold; text-decoration: underline\">, </span><span style=\"color: #008000; text-decoration-color: #008000; font-weight: bold; text-decoration: underline\">'[Other] Thumb Site 2 (P2)'</span><span style=\"font-weight: bold; text-decoration: underline\">, </span><span style=\"color: #008000; text-decoration-color: #008000; font-weight: bold; text-decoration: underline\">'[Other] DENV-2'</span><span style=\"font-weight: bold; text-decoration: underline\">, </span><span style=\"color: #008000; text-decoration-color: #008000; font-weight: bold; text-decoration: underline\">'[Other] upload_1</span>\n",
       "<span style=\"color: #008000; text-decoration-color: #008000; font-weight: bold; text-decoration: underline\">2024-11-13'</span><span style=\"font-weight: bold; text-decoration: underline\">, </span><span style=\"color: #008000; text-decoration-color: #008000; font-weight: bold; text-decoration: underline\">'[Other] unconfirmed'</span><span style=\"font-weight: bold; text-decoration: underline\">, </span><span style=\"color: #008000; text-decoration-color: #008000; font-weight: bold; text-decoration: underline\">'hits'</span><span style=\"font-weight: bold; text-decoration: underline\">, </span><span style=\"color: #008000; text-decoration-color: #008000; font-weight: bold; text-decoration: underline\">'[Other] fragment screen'</span><span style=\"font-weight: bold; text-decoration: underline\">, </span><span style=\"color: #008000; text-decoration-color: #008000; font-weight: bold; text-decoration: underline\">'Pose'</span><span style=\"font-weight: bold; text-decoration: underline\">]</span>\n",
       "</pre>\n"
      ],
      "text/plain": [
       "\u001b[1;4mC45->P53: \u001b[0m\u001b[1;4;32m\"d0693a\"\u001b[0m \u001b[1;4m[\u001b[0m\u001b[1;4;32m'\u001b[0m\u001b[1;4;32m[\u001b[0m\u001b[1;4;32mOther\u001b[0m\u001b[1;4;32m]\u001b[0m\u001b[1;4;32m upload_1 2024-11-21'\u001b[0m\u001b[1;4m, \u001b[0m\u001b[1;4;32m'\u001b[0m\u001b[1;4;32m[\u001b[0m\u001b[1;4;32mOther\u001b[0m\u001b[1;4;32m]\u001b[0m\u001b[1;4;32m Thumb Site 2 \u001b[0m\u001b[1;4;32m(\u001b[0m\u001b[1;4;32mP2\u001b[0m\u001b[1;4;32m)\u001b[0m\u001b[1;4;32m'\u001b[0m\u001b[1;4m, \u001b[0m\u001b[1;4;32m'\u001b[0m\u001b[1;4;32m[\u001b[0m\u001b[1;4;32mOther\u001b[0m\u001b[1;4;32m]\u001b[0m\u001b[1;4;32m DENV-2'\u001b[0m\u001b[1;4m, \u001b[0m\u001b[1;4;32m'\u001b[0m\u001b[1;4;32m[\u001b[0m\u001b[1;4;32mOther\u001b[0m\u001b[1;4;32m]\u001b[0m\u001b[1;4;32m upload_1\u001b[0m\n",
       "\u001b[1;4;32m2024-11-13'\u001b[0m\u001b[1;4m, \u001b[0m\u001b[1;4;32m'\u001b[0m\u001b[1;4;32m[\u001b[0m\u001b[1;4;32mOther\u001b[0m\u001b[1;4;32m]\u001b[0m\u001b[1;4;32m unconfirmed'\u001b[0m\u001b[1;4m, \u001b[0m\u001b[1;4;32m'hits'\u001b[0m\u001b[1;4m, \u001b[0m\u001b[1;4;32m'\u001b[0m\u001b[1;4;32m[\u001b[0m\u001b[1;4;32mOther\u001b[0m\u001b[1;4;32m]\u001b[0m\u001b[1;4;32m fragment screen'\u001b[0m\u001b[1;4m, \u001b[0m\u001b[1;4;32m'Pose'\u001b[0m\u001b[1;4m]\u001b[0m\n"
      ]
     },
     "metadata": {},
     "output_type": "display_data"
    },
    {
     "data": {
      "image/png": "[encoded data removed]",
      "text/plain": [
       "<rdkit.Chem.rdchem.Mol at 0x7f1c46cbdcb0>"
      ]
     },
     "metadata": {},
     "output_type": "display_data"
    }
   ],
   "source": [
    "for asap_id in asap_ids:\n",
    "    c = animal.compounds[asap_id]\n",
    "    mrich.h2(str(c))\n",
    "\n",
    "    poses = c.poses\n",
    "\n",
    "    for pose in poses:\n",
    "        mrich.h3(pose)\n",
    "        insps = pose.inspirations\n",
    "        # print(insps.names)\n",
    "        for insp in insps:\n",
    "            print(insp, insp.tags)\n",
    "    # print(c, c.poses)\n",
    "    c.draw()"
   ]
  },
  {
   "cell_type": "code",
   "execution_count": 11,
   "id": "6d27c88a-32e3-406c-a8bb-09cc579ce26b",
   "metadata": {},
   "outputs": [
    {
     "data": {
      "application/vnd.jupyter.widget-view+json": {
       "model_id": "87f92c86be5d479c87df6f5dde1e6b00",
       "version_major": 2,
       "version_minor": 0
      },
      "text/plain": [
       "VBox(children=(BoundedIntText(value=0, description='Pose (/4):', max=3), GridBox(children=(Checkbox(value=True…"
      ]
     },
     "metadata": {},
     "output_type": "display_data"
    },
    {
     "data": {
      "application/vnd.jupyter.widget-view+json": {
       "model_id": "f3fd9f658b264809916d27d480c0992c",
       "version_major": 2,
       "version_minor": 0
      },
      "text/plain": [
       "Output()"
      ]
     },
     "metadata": {},
     "output_type": "display_data"
    }
   ],
   "source": [
    "c = animal.compounds[list(asap_ids.keys())[0]]\n",
    "c.poses.interactive()"
   ]
  },
  {
   "cell_type": "code",
   "execution_count": null,
   "id": "28c9626e-3247-443c-90a1-41086105584d",
   "metadata": {},
   "outputs": [],
   "source": []
  }
 ],
 "metadata": {
  "kernelspec": {
   "display_name": "Python 3 (ipykernel)",
   "language": "python",
   "name": "python3"
  },
  "language_info": {
   "codemirror_mode": {
    "name": "ipython",
    "version": 3
   },
   "file_extension": ".py",
   "mimetype": "text/x-python",
   "name": "python",
   "nbconvert_exporter": "python",
   "pygments_lexer": "ipython3",
   "version": "3.12.8"
  }
 },
 "nbformat": 4,
 "nbformat_minor": 5
}
