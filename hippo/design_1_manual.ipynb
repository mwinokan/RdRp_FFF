{
 "cells": [
  {
   "cell_type": "code",
   "execution_count": 4,
   "id": "ef3119e7-7502-4633-b4d2-dfcbf2fa1229",
   "metadata": {},
   "outputs": [
    {
     "name": "stdout",
     "output_type": "stream",
     "text": [
      "The autoreload extension is already loaded. To reload it, use:\n",
      "  %reload_ext autoreload\n"
     ]
    }
   ],
   "source": [
    "%load_ext autoreload\n",
    "%autoreload 2\n",
    "import hippo\n",
    "from rich import print\n",
    "import pandas as pd\n",
    "from pathlib import Path"
   ]
  },
  {
   "cell_type": "markdown",
   "id": "482a3ae1-0651-4ddb-a304-6dc4dac29e19",
   "metadata": {},
   "source": [
    "## Get BulkDock DB"
   ]
  },
  {
   "cell_type": "code",
   "execution_count": 3,
   "id": "e4e4f27f-e16e-406a-8dfb-b590db837231",
   "metadata": {},
   "outputs": [
    {
     "data": {
      "text/html": [
       "<pre style=\"white-space:pre;overflow-x:auto;line-height:normal;font-family:Menlo,'DejaVu Sans Mono',consolas,'Courier New',monospace\"><span style=\"font-weight: bold\"> Creating HIPPO animal</span>\n",
       "</pre>\n"
      ],
      "text/plain": [
       "\u001b[1m Creating HIPPO animal\u001b[0m\n"
      ]
     },
     "metadata": {},
     "output_type": "display_data"
    },
    {
     "data": {
      "text/html": [
       "<pre style=\"white-space:pre;overflow-x:auto;line-height:normal;font-family:Menlo,'DejaVu Sans Mono',consolas,'Courier New',monospace\"><span style=\"color: #008080; text-decoration-color: #008080; font-weight: bold\">name</span> = <span style=\"color: #00d7af; text-decoration-color: #00d7af\">RdRp_FFF</span>\n",
       "</pre>\n"
      ],
      "text/plain": [
       "\u001b[1;36mname\u001b[0m = \u001b[38;5;43mRdRp_FFF\u001b[0m\n"
      ]
     },
     "metadata": {},
     "output_type": "display_data"
    },
    {
     "data": {
      "text/html": [
       "<pre style=\"white-space:pre;overflow-x:auto;line-height:normal;font-family:Menlo,'DejaVu Sans Mono',consolas,'Courier New',monospace\"><span style=\"color: #008080; text-decoration-color: #008080; font-weight: bold\">db_path</span> = <span style=\"color: #d7af00; text-decoration-color: #d7af00\">../../BulkDock/TARGETS/Flavi_NS5_RdRp/Flavi_NS5_RdRp.sqlite</span>\n",
       "</pre>\n"
      ],
      "text/plain": [
       "\u001b[1;36mdb_path\u001b[0m = \u001b[38;5;178m../../BulkDock/TARGETS/Flavi_NS5_RdRp/Flavi_NS5_RdRp.sqlite\u001b[0m\n"
      ]
     },
     "metadata": {},
     "output_type": "display_data"
    },
    {
     "data": {
      "text/html": [
       "<pre style=\"white-space:pre;overflow-x:auto;line-height:normal;font-family:Menlo,'DejaVu Sans Mono',consolas,'Courier New',monospace\"><span style=\"color: #808080; text-decoration-color: #808080\">DEBUG: hippo.Database.__init__()</span>\n",
       "</pre>\n"
      ],
      "text/plain": [
       "\u001b[90mDEBUG: hippo.Database.__init__()\u001b[0m\n"
      ]
     },
     "metadata": {},
     "output_type": "display_data"
    },
    {
     "data": {
      "text/html": [
       "<pre style=\"white-space:pre;overflow-x:auto;line-height:normal;font-family:Menlo,'DejaVu Sans Mono',consolas,'Courier New',monospace\"><span style=\"color: #808080; text-decoration-color: #808080\">DEBUG: Database.path = ../../BulkDock/TARGETS/Flavi_NS5_RdRp/Flavi_NS5_RdRp.sqlite</span>\n",
       "</pre>\n"
      ],
      "text/plain": [
       "\u001b[90mDEBUG: Database.path = ../../BulkDock/TARGETS/Flavi_NS5_RdRp/Flavi_NS5_RdRp.sqlite\u001b[0m\n"
      ]
     },
     "metadata": {},
     "output_type": "display_data"
    },
    {
     "data": {
      "text/html": [
       "<pre style=\"white-space:pre;overflow-x:auto;line-height:normal;font-family:Menlo,'DejaVu Sans Mono',consolas,'Courier New',monospace\"><span style=\"color: #808080; text-decoration-color: #808080\">DEBUG: hippo.Database.connect()</span>\n",
       "</pre>\n"
      ],
      "text/plain": [
       "\u001b[90mDEBUG: hippo.Database.connect()\u001b[0m\n"
      ]
     },
     "metadata": {},
     "output_type": "display_data"
    },
    {
     "data": {
      "text/html": [
       "<pre style=\"white-space:pre;overflow-x:auto;line-height:normal;font-family:Menlo,'DejaVu Sans Mono',consolas,'Courier New',monospace\"><span style=\"color: #808080; text-decoration-color: #808080\">DEBUG: sqlite3.version='2.6.0'</span>\n",
       "</pre>\n"
      ],
      "text/plain": [
       "\u001b[90mDEBUG: sqlite3.version='2.6.0'\u001b[0m\n"
      ]
     },
     "metadata": {},
     "output_type": "display_data"
    },
    {
     "data": {
      "text/html": [
       "<pre style=\"white-space:pre;overflow-x:auto;line-height:normal;font-family:Menlo,'DejaVu Sans Mono',consolas,'Courier New',monospace\"><span style=\"background-color: #008000; font-weight: bold\"> Success </span><span style=\"color: #008000; text-decoration-color: #008000; font-weight: bold\"> Database connected @</span><span style=\"color: #d7af00; text-decoration-color: #d7af00; font-weight: bold\"> ../../BulkDock/TARGETS/Flavi_NS5_RdRp/Flavi_NS5_RdRp.sqlite!</span>\n",
       "</pre>\n"
      ],
      "text/plain": [
       "\u001b[1;7;32m Success \u001b[0m\u001b[1;32m Database connected @\u001b[0m\u001b[1;38;5;178m ../../BulkDock/TARGETS/Flavi_NS5_RdRp/Flavi_NS5_RdRp.sqlite!\u001b[0m\n"
      ]
     },
     "metadata": {},
     "output_type": "display_data"
    },
    {
     "data": {
      "text/html": [
       "<pre style=\"white-space:pre;overflow-x:auto;line-height:normal;font-family:Menlo,'DejaVu Sans Mono',consolas,'Courier New',monospace\"><span style=\"background-color: #008000; font-weight: bold\"> Success </span><span style=\"color: #008000; text-decoration-color: #008000; font-weight: bold\"> Initialised animal</span><span style=\"color: #008080; text-decoration-color: #008080; font-weight: bold\"> HIPPO(\"RdRp_FFF\")!</span>\n",
       "</pre>\n"
      ],
      "text/plain": [
       "\u001b[1;7;32m Success \u001b[0m\u001b[1;32m Initialised animal\u001b[0m\u001b[1;36m HIPPO(\"RdRp_FFF\")!\u001b[0m\n"
      ]
     },
     "metadata": {},
     "output_type": "display_data"
    }
   ],
   "source": [
    "animal = hippo.HIPPO(\"RdRp_FFF\", \"../../BulkDock/TARGETS/Flavi_NS5_RdRp/Flavi_NS5_RdRp.sqlite\")"
   ]
  },
  {
   "cell_type": "markdown",
   "id": "04a4fd0d-95c0-49ea-bd9f-aeefbb75f140",
   "metadata": {},
   "source": [
    "## Parse Jasmin Excel"
   ]
  },
  {
   "cell_type": "code",
   "execution_count": 26,
   "id": "588d9a60-93b5-4609-8a1e-65b85ac64bd7",
   "metadata": {},
   "outputs": [
    {
     "data": {
      "text/html": [
       "<div>\n",
       "<style scoped>\n",
       "    .dataframe tbody tr th:only-of-type {\n",
       "        vertical-align: middle;\n",
       "    }\n",
       "\n",
       "    .dataframe tbody tr th {\n",
       "        vertical-align: top;\n",
       "    }\n",
       "\n",
       "    .dataframe thead th {\n",
       "        text-align: right;\n",
       "    }\n",
       "</style>\n",
       "<table border=\"1\" class=\"dataframe\">\n",
       "  <thead>\n",
       "    <tr style=\"text-align: right;\">\n",
       "      <th></th>\n",
       "      <th>Unnamed: 0</th>\n",
       "      <th>SMILES of the merge (USMILE)</th>\n",
       "      <th>fragment inspirations</th>\n",
       "      <th>reference dataset</th>\n",
       "    </tr>\n",
       "  </thead>\n",
       "  <tbody>\n",
       "    <tr>\n",
       "      <th>0</th>\n",
       "      <td>FLAVI-RDRP-DLS-JA001</td>\n",
       "      <td>S1C(=NC=C1N/C(/c2cc(F)ccc2)=C/3\\NNCC3)C</td>\n",
       "      <td>d0160a, d0615b</td>\n",
       "      <td>6izx-a</td>\n",
       "    </tr>\n",
       "    <tr>\n",
       "      <th>1</th>\n",
       "      <td>FLAVI-RDRP-DLS-JA002</td>\n",
       "      <td>O=C(Nc1nc(ccc1)C2=NNC=C2C)[C@H]3OCCC3</td>\n",
       "      <td>d0160a, d0254a</td>\n",
       "      <td>6izx-a</td>\n",
       "    </tr>\n",
       "    <tr>\n",
       "      <th>2</th>\n",
       "      <td>FLAVI-RDRP-DLS-JA003</td>\n",
       "      <td>O=C(Nc1ncc2c(cncc2)c1)[C@H]3OCCC3</td>\n",
       "      <td>d0160a, d0254a</td>\n",
       "      <td>6izx-a</td>\n",
       "    </tr>\n",
       "    <tr>\n",
       "      <th>3</th>\n",
       "      <td>FLAVI-RDRP-DLS-JA004</td>\n",
       "      <td>O=C(Nc1ncc2c(O)cncc2c1)[C@H]3OCCC3</td>\n",
       "      <td>d0160a, d0254a, d0612a</td>\n",
       "      <td>6izx-a</td>\n",
       "    </tr>\n",
       "    <tr>\n",
       "      <th>4</th>\n",
       "      <td>FLAVI-RDRP-DLS-JA005</td>\n",
       "      <td>O=C(Nc1ncc2c(N)cncc2c1)[C@H]3OCCC3</td>\n",
       "      <td>d0160a, d0254a, d0612a</td>\n",
       "      <td>6izx-a</td>\n",
       "    </tr>\n",
       "  </tbody>\n",
       "</table>\n",
       "</div>"
      ],
      "text/plain": [
       "             Unnamed: 0             SMILES of the merge (USMILE)  \\\n",
       "0  FLAVI-RDRP-DLS-JA001  S1C(=NC=C1N/C(/c2cc(F)ccc2)=C/3\\NNCC3)C   \n",
       "1  FLAVI-RDRP-DLS-JA002    O=C(Nc1nc(ccc1)C2=NNC=C2C)[C@H]3OCCC3   \n",
       "2  FLAVI-RDRP-DLS-JA003        O=C(Nc1ncc2c(cncc2)c1)[C@H]3OCCC3   \n",
       "3  FLAVI-RDRP-DLS-JA004       O=C(Nc1ncc2c(O)cncc2c1)[C@H]3OCCC3   \n",
       "4  FLAVI-RDRP-DLS-JA005       O=C(Nc1ncc2c(N)cncc2c1)[C@H]3OCCC3   \n",
       "\n",
       "    fragment inspirations reference dataset  \n",
       "0          d0160a, d0615b            6izx-a  \n",
       "1          d0160a, d0254a            6izx-a  \n",
       "2          d0160a, d0254a            6izx-a  \n",
       "3  d0160a, d0254a, d0612a            6izx-a  \n",
       "4  d0160a, d0254a, d0612a            6izx-a  "
      ]
     },
     "execution_count": 26,
     "metadata": {},
     "output_type": "execute_result"
    }
   ],
   "source": [
    "data = []\n",
    "df = pd.read_excel(\"../seesar/Primergrip_JA_SeeSar.xlsx\")\n",
    "df.head()"
   ]
  },
  {
   "cell_type": "code",
   "execution_count": 27,
   "id": "dbe03729-9c20-4c58-bd14-b8f6f4d01333",
   "metadata": {},
   "outputs": [],
   "source": [
    "for i,row in df.iterrows():\n",
    "    name = row.values[0]\n",
    "    smiles = row.values[1]\n",
    "    inspirations = row.values[2].split(\", \")\n",
    "    # print(name, inspirations, smiles)\n",
    "    c = animal.register_compound(smiles=smiles, tags=[\"JA\", \"SeeSAR\"], alias=name)\n",
    "    # print(c)\n",
    "    d = dict(smiles=smiles)\n",
    "    for i,inspiration in enumerate(inspirations):\n",
    "        d[f\"hit{i}\"] = inspiration\n",
    "    data.append(d)"
   ]
  },
  {
   "cell_type": "code",
   "execution_count": 19,
   "id": "6a1a91f0-1fd8-4f45-8afd-bcbe81b509f5",
   "metadata": {},
   "outputs": [
    {
     "data": {
      "text/html": [
       "<div>\n",
       "<style scoped>\n",
       "    .dataframe tbody tr th:only-of-type {\n",
       "        vertical-align: middle;\n",
       "    }\n",
       "\n",
       "    .dataframe tbody tr th {\n",
       "        vertical-align: top;\n",
       "    }\n",
       "\n",
       "    .dataframe thead th {\n",
       "        text-align: right;\n",
       "    }\n",
       "</style>\n",
       "<table border=\"1\" class=\"dataframe\">\n",
       "  <thead>\n",
       "    <tr style=\"text-align: right;\">\n",
       "      <th></th>\n",
       "      <th>Unnamed: 0</th>\n",
       "      <th>SMILES of the merge (USMILE)</th>\n",
       "      <th>fragment inspirations</th>\n",
       "      <th>reference dataset</th>\n",
       "    </tr>\n",
       "  </thead>\n",
       "  <tbody>\n",
       "    <tr>\n",
       "      <th>0</th>\n",
       "      <td>FLAVI-RDRP-DLS-JA020</td>\n",
       "      <td>S1C(=CC=C1)[C@H]2C[C@@H](Oc3ccc(OC(=O)C)cc3)[C...</td>\n",
       "      <td>6ld2, 6izx-a</td>\n",
       "      <td>6izx-a</td>\n",
       "    </tr>\n",
       "    <tr>\n",
       "      <th>1</th>\n",
       "      <td>FLAVI-RDRP-DLS-JA021</td>\n",
       "      <td>S1c2c(ccc(OC(=O)C)c2)C3=C1[C@H](C=4SC=CC4)C[C@...</td>\n",
       "      <td>6ld2, 6izx-a</td>\n",
       "      <td>6izx-a</td>\n",
       "    </tr>\n",
       "    <tr>\n",
       "      <th>2</th>\n",
       "      <td>FLAVI-RDRP-DLS-JA022</td>\n",
       "      <td>S1c2c(ccc(OC(=O)C)c2)[C@@H]3[C@@H]1[C@H](C=4SC...</td>\n",
       "      <td>6ld2, 6izx-a</td>\n",
       "      <td>6izx-a</td>\n",
       "    </tr>\n",
       "    <tr>\n",
       "      <th>3</th>\n",
       "      <td>FLAVI-RDRP-DLS-JA023</td>\n",
       "      <td>S1c2c(O[C@H]3[C@H](OC)[C@@H](C([O-])=O)C[C@@H]...</td>\n",
       "      <td>6ld2, 6izx-a</td>\n",
       "      <td>6izx-a</td>\n",
       "    </tr>\n",
       "    <tr>\n",
       "      <th>4</th>\n",
       "      <td>FLAVI-RDRP-DLS-JA024</td>\n",
       "      <td>S1c2c(ccc(OC(=O)C)c2)[C@@H]3[C@@H]1[C@H](C=4SC...</td>\n",
       "      <td>6ld2, 6izx-a</td>\n",
       "      <td>6izx-a</td>\n",
       "    </tr>\n",
       "  </tbody>\n",
       "</table>\n",
       "</div>"
      ],
      "text/plain": [
       "             Unnamed: 0                       SMILES of the merge (USMILE)  \\\n",
       "0  FLAVI-RDRP-DLS-JA020  S1C(=CC=C1)[C@H]2C[C@@H](Oc3ccc(OC(=O)C)cc3)[C...   \n",
       "1  FLAVI-RDRP-DLS-JA021  S1c2c(ccc(OC(=O)C)c2)C3=C1[C@H](C=4SC=CC4)C[C@...   \n",
       "2  FLAVI-RDRP-DLS-JA022  S1c2c(ccc(OC(=O)C)c2)[C@@H]3[C@@H]1[C@H](C=4SC...   \n",
       "3  FLAVI-RDRP-DLS-JA023  S1c2c(O[C@H]3[C@H](OC)[C@@H](C([O-])=O)C[C@@H]...   \n",
       "4  FLAVI-RDRP-DLS-JA024  S1c2c(ccc(OC(=O)C)c2)[C@@H]3[C@@H]1[C@H](C=4SC...   \n",
       "\n",
       "  fragment inspirations reference dataset  \n",
       "0          6ld2, 6izx-a            6izx-a  \n",
       "1          6ld2, 6izx-a            6izx-a  \n",
       "2          6ld2, 6izx-a            6izx-a  \n",
       "3          6ld2, 6izx-a            6izx-a  \n",
       "4          6ld2, 6izx-a            6izx-a  "
      ]
     },
     "execution_count": 19,
     "metadata": {},
     "output_type": "execute_result"
    }
   ],
   "source": [
    "# df = pd.read_excel(\"../seesar/Primergrip_JA_SeeSar_2.xlsx\")\n",
    "# df.head()"
   ]
  },
  {
   "cell_type": "code",
   "execution_count": 20,
   "id": "f297ca1c-12b3-4604-a9dc-294f5c869623",
   "metadata": {},
   "outputs": [],
   "source": [
    "# for i,row in df.iterrows():\n",
    "#     name = row.values[0]\n",
    "#     smiles = row.values[1]\n",
    "#     inspirations = row.values[2].split(\", \")\n",
    "#     # print(name, inspirations, smiles)\n",
    "#     c = animal.register_compound(smiles=smiles, tags=[\"JA\", \"SeeSAR\"], alias=name)\n",
    "#     # print(c)\n",
    "#     d = dict(smiles=smiles)\n",
    "#     for i,inspiration in enumerate(inspirations):\n",
    "#         d[f\"hit{i}\"] = inspiration\n",
    "#     data.append(d)"
   ]
  },
  {
   "cell_type": "code",
   "execution_count": 28,
   "id": "f6d96c50-db21-4378-8781-ea967b3b1482",
   "metadata": {},
   "outputs": [],
   "source": [
    "pd.DataFrame(data).to_csv(\"../seesar/Primergrip_JA_SeeSar_to_bulkdock.csv\", index=False)"
   ]
  },
  {
   "cell_type": "code",
   "execution_count": 25,
   "id": "1c6b48c5-26b8-46c3-b9e3-e30abd86fcf5",
   "metadata": {},
   "outputs": [
    {
     "data": {
      "text/html": [
       "<pre style=\"white-space:pre;overflow-x:auto;line-height:normal;font-family:Menlo,'DejaVu Sans Mono',consolas,'Courier New',monospace\"><span style=\"background-color: #800000; font-weight: bold\"> ERROR </span><span style=\"color: #800000; text-decoration-color: #800000; font-weight: bold\"> No entry in compound with compound_inchikey='LLMOLSXYRKDZOC-OWBHPGMISA-N'!</span>\n",
       "</pre>\n"
      ],
      "text/plain": [
       "\u001b[1;7;31m ERROR \u001b[0m\u001b[1;31m No entry in compound with compound_inchikey='LLMOLSXYRKDZOC-OWBHPGMISA-N'!\u001b[0m\n"
      ]
     },
     "metadata": {},
     "output_type": "display_data"
    },
    {
     "data": {
      "text/html": [
       "<pre style=\"white-space:pre;overflow-x:auto;line-height:normal;font-family:Menlo,'DejaVu Sans Mono',consolas,'Courier New',monospace\"><span style=\"background-color: #800000; font-weight: bold\"> ERROR </span><span style=\"color: #800000; text-decoration-color: #800000; font-weight: bold\"> Invalid id=None!</span>\n",
       "</pre>\n"
      ],
      "text/plain": [
       "\u001b[1;7;31m ERROR \u001b[0m\u001b[1;31m Invalid id=None!\u001b[0m\n"
      ]
     },
     "metadata": {},
     "output_type": "display_data"
    },
    {
     "data": {
      "text/html": [
       "<pre style=\"white-space:pre;overflow-x:auto;line-height:normal;font-family:Menlo,'DejaVu Sans Mono',consolas,'Courier New',monospace\"><span style=\"background-color: #800000; font-weight: bold\"> ERROR </span><span style=\"color: #800000; text-decoration-color: #800000; font-weight: bold\"> No entry in compound with compound_alias='LLMOLSXYRKDZOC-OWBHPGMISA-N'!</span>\n",
       "</pre>\n"
      ],
      "text/plain": [
       "\u001b[1;7;31m ERROR \u001b[0m\u001b[1;31m No entry in compound with compound_alias='LLMOLSXYRKDZOC-OWBHPGMISA-N'!\u001b[0m\n"
      ]
     },
     "metadata": {},
     "output_type": "display_data"
    },
    {
     "data": {
      "text/html": [
       "<pre style=\"white-space:pre;overflow-x:auto;line-height:normal;font-family:Menlo,'DejaVu Sans Mono',consolas,'Courier New',monospace\"><span style=\"background-color: #800000; font-weight: bold\"> ERROR </span><span style=\"color: #800000; text-decoration-color: #800000; font-weight: bold\"> Invalid id=None!</span>\n",
       "</pre>\n"
      ],
      "text/plain": [
       "\u001b[1;7;31m ERROR \u001b[0m\u001b[1;31m Invalid id=None!\u001b[0m\n"
      ]
     },
     "metadata": {},
     "output_type": "display_data"
    }
   ],
   "source": [
    "animal.compounds[\"LLMOLSXYRKDZOC-OWBHPGMISA-N\"]"
   ]
  },
  {
   "cell_type": "code",
   "execution_count": 31,
   "id": "9b24bb4a-fc99-458a-a6e9-958c25e64a61",
   "metadata": {},
   "outputs": [
    {
     "data": {
      "text/plain": [
       "'FLAVI-RDRP-DLS-JA002'"
      ]
     },
     "execution_count": 31,
     "metadata": {},
     "output_type": "execute_result"
    }
   ],
   "source": [
    "animal.compounds[66259].alias"
   ]
  },
  {
   "cell_type": "code",
   "execution_count": null,
   "id": "54e25819-1454-41a5-a0ac-55d30e30b22a",
   "metadata": {},
   "outputs": [],
   "source": []
  }
 ],
 "metadata": {
  "kernelspec": {
   "display_name": "Python [conda env:base] *",
   "language": "python",
   "name": "conda-base-py"
  },
  "language_info": {
   "codemirror_mode": {
    "name": "ipython",
    "version": 3
   },
   "file_extension": ".py",
   "mimetype": "text/x-python",
   "name": "python",
   "nbconvert_exporter": "python",
   "pygments_lexer": "ipython3",
   "version": "3.11.6"
  }
 },
 "nbformat": 4,
 "nbformat_minor": 5
}
