{
 "cells": [
  {
   "cell_type": "code",
   "execution_count": 2,
   "id": "ef3119e7-7502-4633-b4d2-dfcbf2fa1229",
   "metadata": {},
   "outputs": [],
   "source": [
    "%load_ext autoreload\n",
    "%autoreload 2\n",
    "import hippo\n",
    "from rich import print\n",
    "import pandas as pd\n",
    "from pathlib import Path"
   ]
  },
  {
   "cell_type": "markdown",
   "id": "482a3ae1-0651-4ddb-a304-6dc4dac29e19",
   "metadata": {},
   "source": [
    "## Get BulkDock DB"
   ]
  },
  {
   "cell_type": "code",
   "execution_count": 5,
   "id": "e4e4f27f-e16e-406a-8dfb-b590db837231",
   "metadata": {},
   "outputs": [
    {
     "data": {
      "text/html": [
       "<pre style=\"white-space:pre;overflow-x:auto;line-height:normal;font-family:Menlo,'DejaVu Sans Mono',consolas,'Courier New',monospace\"><span style=\"font-weight: bold\"> Creating HIPPO animal</span>\n",
       "</pre>\n"
      ],
      "text/plain": [
       "\u001b[1m Creating HIPPO animal\u001b[0m\n"
      ]
     },
     "metadata": {},
     "output_type": "display_data"
    },
    {
     "data": {
      "text/html": [
       "<pre style=\"white-space:pre;overflow-x:auto;line-height:normal;font-family:Menlo,'DejaVu Sans Mono',consolas,'Courier New',monospace\"><span style=\"color: #008080; text-decoration-color: #008080; font-weight: bold\">name</span> = <span style=\"color: #00d7af; text-decoration-color: #00d7af\">RdRp_FFF</span>\n",
       "</pre>\n"
      ],
      "text/plain": [
       "\u001b[1;36mname\u001b[0m = \u001b[38;5;43mRdRp_FFF\u001b[0m\n"
      ]
     },
     "metadata": {},
     "output_type": "display_data"
    },
    {
     "data": {
      "text/html": [
       "<pre style=\"white-space:pre;overflow-x:auto;line-height:normal;font-family:Menlo,'DejaVu Sans Mono',consolas,'Courier New',monospace\"><span style=\"color: #008080; text-decoration-color: #008080; font-weight: bold\">db_path</span> = <span style=\"color: #d7af00; text-decoration-color: #d7af00\">../../BulkDock/TARGETS/Flavi_NS5_RdRp/Flavi_NS5_RdRp.sqlite</span>\n",
       "</pre>\n"
      ],
      "text/plain": [
       "\u001b[1;36mdb_path\u001b[0m = \u001b[38;5;178m../../BulkDock/TARGETS/Flavi_NS5_RdRp/Flavi_NS5_RdRp.sqlite\u001b[0m\n"
      ]
     },
     "metadata": {},
     "output_type": "display_data"
    },
    {
     "data": {
      "text/html": [
       "<pre style=\"white-space:pre;overflow-x:auto;line-height:normal;font-family:Menlo,'DejaVu Sans Mono',consolas,'Courier New',monospace\"><span style=\"color: #808080; text-decoration-color: #808080\">DEBUG: hippo.Database.__init__()</span>\n",
       "</pre>\n"
      ],
      "text/plain": [
       "\u001b[90mDEBUG: hippo.Database.__init__()\u001b[0m\n"
      ]
     },
     "metadata": {},
     "output_type": "display_data"
    },
    {
     "data": {
      "text/html": [
       "<pre style=\"white-space:pre;overflow-x:auto;line-height:normal;font-family:Menlo,'DejaVu Sans Mono',consolas,'Courier New',monospace\"><span style=\"color: #808080; text-decoration-color: #808080\">DEBUG: Database.path = ../../BulkDock/TARGETS/Flavi_NS5_RdRp/Flavi_NS5_RdRp.sqlite</span>\n",
       "</pre>\n"
      ],
      "text/plain": [
       "\u001b[90mDEBUG: Database.path = ../../BulkDock/TARGETS/Flavi_NS5_RdRp/Flavi_NS5_RdRp.sqlite\u001b[0m\n"
      ]
     },
     "metadata": {},
     "output_type": "display_data"
    },
    {
     "data": {
      "text/html": [
       "<pre style=\"white-space:pre;overflow-x:auto;line-height:normal;font-family:Menlo,'DejaVu Sans Mono',consolas,'Courier New',monospace\"><span style=\"color: #808080; text-decoration-color: #808080\">DEBUG: hippo.Database.connect()</span>\n",
       "</pre>\n"
      ],
      "text/plain": [
       "\u001b[90mDEBUG: hippo.Database.connect()\u001b[0m\n"
      ]
     },
     "metadata": {},
     "output_type": "display_data"
    },
    {
     "data": {
      "text/html": [
       "<pre style=\"white-space:pre;overflow-x:auto;line-height:normal;font-family:Menlo,'DejaVu Sans Mono',consolas,'Courier New',monospace\"><span style=\"color: #808080; text-decoration-color: #808080\">DEBUG: sqlite3.version='2.6.0'</span>\n",
       "</pre>\n"
      ],
      "text/plain": [
       "\u001b[90mDEBUG: sqlite3.version='2.6.0'\u001b[0m\n"
      ]
     },
     "metadata": {},
     "output_type": "display_data"
    },
    {
     "data": {
      "text/html": [
       "<pre style=\"white-space:pre;overflow-x:auto;line-height:normal;font-family:Menlo,'DejaVu Sans Mono',consolas,'Courier New',monospace\"><span style=\"background-color: #008000; font-weight: bold\"> Success </span><span style=\"color: #008000; text-decoration-color: #008000; font-weight: bold\"> Database connected @</span><span style=\"color: #d7af00; text-decoration-color: #d7af00; font-weight: bold\"> ../../BulkDock/TARGETS/Flavi_NS5_RdRp/Flavi_NS5_RdRp.sqlite!</span>\n",
       "</pre>\n"
      ],
      "text/plain": [
       "\u001b[1;7;32m Success \u001b[0m\u001b[1;32m Database connected @\u001b[0m\u001b[1;38;5;178m ../../BulkDock/TARGETS/Flavi_NS5_RdRp/Flavi_NS5_RdRp.sqlite!\u001b[0m\n"
      ]
     },
     "metadata": {},
     "output_type": "display_data"
    },
    {
     "data": {
      "text/html": [
       "<pre style=\"white-space:pre;overflow-x:auto;line-height:normal;font-family:Menlo,'DejaVu Sans Mono',consolas,'Courier New',monospace\"><span style=\"background-color: #008000; font-weight: bold\"> Success </span><span style=\"color: #008000; text-decoration-color: #008000; font-weight: bold\"> Initialised animal</span><span style=\"color: #008080; text-decoration-color: #008080; font-weight: bold\"> HIPPO(\"RdRp_FFF\")!</span>\n",
       "</pre>\n"
      ],
      "text/plain": [
       "\u001b[1;7;32m Success \u001b[0m\u001b[1;32m Initialised animal\u001b[0m\u001b[1;36m HIPPO(\"RdRp_FFF\")!\u001b[0m\n"
      ]
     },
     "metadata": {},
     "output_type": "display_data"
    },
    {
     "data": {
      "text/html": [
       "<pre style=\"white-space:pre;overflow-x:auto;line-height:normal;font-family:Menlo,'DejaVu Sans Mono',consolas,'Courier New',monospace\"><span style=\"background-color: #d7af00; font-weight: bold\"> DISK </span> Writing <span style=\"color: #d7af00; text-decoration-color: #d7af00\">/opt/xchem-fragalysis-2/maxwin/BulkDock/TARGETS/Flavi_NS5_RdRp/Flavi_NS5_RdRp_1QWP786.sqlite</span>...\n",
       "</pre>\n"
      ],
      "text/plain": [
       "\u001b[1;7;38;5;178m DISK \u001b[0m Writing \u001b[38;5;178m/opt/xchem-fragalysis-2/maxwin/BulkDock/TARGETS/Flavi_NS5_RdRp/Flavi_NS5_RdRp_1QWP786.sqlite\u001b[0m...\n"
      ]
     },
     "metadata": {},
     "output_type": "display_data"
    },
    {
     "data": {
      "application/vnd.jupyter.widget-view+json": {
       "model_id": "",
       "version_major": 2,
       "version_minor": 0
      },
      "text/plain": [
       "Output()"
      ]
     },
     "metadata": {},
     "output_type": "display_data"
    },
    {
     "data": {
      "text/html": [
       "<pre style=\"white-space:pre;overflow-x:auto;line-height:normal;font-family:Menlo,'DejaVu Sans Mono',consolas,'Courier New',monospace\"><span style=\"color: #808080; text-decoration-color: #808080\">DEBUG: Copied 10000 of 304005 pages...</span>\n",
       "</pre>\n"
      ],
      "text/plain": [
       "\u001b[90mDEBUG: Copied 10000 of 304005 pages...\u001b[0m\n"
      ]
     },
     "metadata": {},
     "output_type": "display_data"
    },
    {
     "data": {
      "text/html": [
       "<pre style=\"white-space:pre;overflow-x:auto;line-height:normal;font-family:Menlo,'DejaVu Sans Mono',consolas,'Courier New',monospace\"><span style=\"color: #808080; text-decoration-color: #808080\">DEBUG: Copied 20000 of 304005 pages...</span>\n",
       "</pre>\n"
      ],
      "text/plain": [
       "\u001b[90mDEBUG: Copied 20000 of 304005 pages...\u001b[0m\n"
      ]
     },
     "metadata": {},
     "output_type": "display_data"
    },
    {
     "data": {
      "text/html": [
       "<pre style=\"white-space:pre;overflow-x:auto;line-height:normal;font-family:Menlo,'DejaVu Sans Mono',consolas,'Courier New',monospace\"><span style=\"color: #808080; text-decoration-color: #808080\">DEBUG: Copied 30000 of 304005 pages...</span>\n",
       "</pre>\n"
      ],
      "text/plain": [
       "\u001b[90mDEBUG: Copied 30000 of 304005 pages...\u001b[0m\n"
      ]
     },
     "metadata": {},
     "output_type": "display_data"
    },
    {
     "data": {
      "text/html": [
       "<pre style=\"white-space:pre;overflow-x:auto;line-height:normal;font-family:Menlo,'DejaVu Sans Mono',consolas,'Courier New',monospace\"><span style=\"color: #808080; text-decoration-color: #808080\">DEBUG: Copied 40000 of 304005 pages...</span>\n",
       "</pre>\n"
      ],
      "text/plain": [
       "\u001b[90mDEBUG: Copied 40000 of 304005 pages...\u001b[0m\n"
      ]
     },
     "metadata": {},
     "output_type": "display_data"
    },
    {
     "data": {
      "text/html": [
       "<pre style=\"white-space:pre;overflow-x:auto;line-height:normal;font-family:Menlo,'DejaVu Sans Mono',consolas,'Courier New',monospace\"><span style=\"color: #808080; text-decoration-color: #808080\">DEBUG: Copied 50000 of 304005 pages...</span>\n",
       "</pre>\n"
      ],
      "text/plain": [
       "\u001b[90mDEBUG: Copied 50000 of 304005 pages...\u001b[0m\n"
      ]
     },
     "metadata": {},
     "output_type": "display_data"
    },
    {
     "data": {
      "text/html": [
       "<pre style=\"white-space:pre;overflow-x:auto;line-height:normal;font-family:Menlo,'DejaVu Sans Mono',consolas,'Courier New',monospace\"><span style=\"color: #808080; text-decoration-color: #808080\">DEBUG: Copied 60000 of 304005 pages...</span>\n",
       "</pre>\n"
      ],
      "text/plain": [
       "\u001b[90mDEBUG: Copied 60000 of 304005 pages...\u001b[0m\n"
      ]
     },
     "metadata": {},
     "output_type": "display_data"
    },
    {
     "data": {
      "text/html": [
       "<pre style=\"white-space:pre;overflow-x:auto;line-height:normal;font-family:Menlo,'DejaVu Sans Mono',consolas,'Courier New',monospace\"><span style=\"color: #808080; text-decoration-color: #808080\">DEBUG: Copied 70000 of 304005 pages...</span>\n",
       "</pre>\n"
      ],
      "text/plain": [
       "\u001b[90mDEBUG: Copied 70000 of 304005 pages...\u001b[0m\n"
      ]
     },
     "metadata": {},
     "output_type": "display_data"
    },
    {
     "data": {
      "text/html": [
       "<pre style=\"white-space:pre;overflow-x:auto;line-height:normal;font-family:Menlo,'DejaVu Sans Mono',consolas,'Courier New',monospace\"><span style=\"color: #808080; text-decoration-color: #808080\">DEBUG: Copied 80000 of 304005 pages...</span>\n",
       "</pre>\n"
      ],
      "text/plain": [
       "\u001b[90mDEBUG: Copied 80000 of 304005 pages...\u001b[0m\n"
      ]
     },
     "metadata": {},
     "output_type": "display_data"
    },
    {
     "data": {
      "text/html": [
       "<pre style=\"white-space:pre;overflow-x:auto;line-height:normal;font-family:Menlo,'DejaVu Sans Mono',consolas,'Courier New',monospace\"><span style=\"color: #808080; text-decoration-color: #808080\">DEBUG: Copied 90000 of 304005 pages...</span>\n",
       "</pre>\n"
      ],
      "text/plain": [
       "\u001b[90mDEBUG: Copied 90000 of 304005 pages...\u001b[0m\n"
      ]
     },
     "metadata": {},
     "output_type": "display_data"
    },
    {
     "data": {
      "text/html": [
       "<pre style=\"white-space:pre;overflow-x:auto;line-height:normal;font-family:Menlo,'DejaVu Sans Mono',consolas,'Courier New',monospace\"><span style=\"color: #808080; text-decoration-color: #808080\">DEBUG: Copied 100000 of 304005 pages...</span>\n",
       "</pre>\n"
      ],
      "text/plain": [
       "\u001b[90mDEBUG: Copied 100000 of 304005 pages...\u001b[0m\n"
      ]
     },
     "metadata": {},
     "output_type": "display_data"
    },
    {
     "data": {
      "text/html": [
       "<pre style=\"white-space:pre;overflow-x:auto;line-height:normal;font-family:Menlo,'DejaVu Sans Mono',consolas,'Courier New',monospace\"><span style=\"color: #808080; text-decoration-color: #808080\">DEBUG: Copied 110000 of 304005 pages...</span>\n",
       "</pre>\n"
      ],
      "text/plain": [
       "\u001b[90mDEBUG: Copied 110000 of 304005 pages...\u001b[0m\n"
      ]
     },
     "metadata": {},
     "output_type": "display_data"
    },
    {
     "data": {
      "text/html": [
       "<pre style=\"white-space:pre;overflow-x:auto;line-height:normal;font-family:Menlo,'DejaVu Sans Mono',consolas,'Courier New',monospace\"><span style=\"color: #808080; text-decoration-color: #808080\">DEBUG: Copied 120000 of 304005 pages...</span>\n",
       "</pre>\n"
      ],
      "text/plain": [
       "\u001b[90mDEBUG: Copied 120000 of 304005 pages...\u001b[0m\n"
      ]
     },
     "metadata": {},
     "output_type": "display_data"
    },
    {
     "data": {
      "text/html": [
       "<pre style=\"white-space:pre;overflow-x:auto;line-height:normal;font-family:Menlo,'DejaVu Sans Mono',consolas,'Courier New',monospace\"><span style=\"color: #808080; text-decoration-color: #808080\">DEBUG: Copied 130000 of 304005 pages...</span>\n",
       "</pre>\n"
      ],
      "text/plain": [
       "\u001b[90mDEBUG: Copied 130000 of 304005 pages...\u001b[0m\n"
      ]
     },
     "metadata": {},
     "output_type": "display_data"
    },
    {
     "data": {
      "text/html": [
       "<pre style=\"white-space:pre;overflow-x:auto;line-height:normal;font-family:Menlo,'DejaVu Sans Mono',consolas,'Courier New',monospace\"><span style=\"color: #808080; text-decoration-color: #808080\">DEBUG: Copied 140000 of 304005 pages...</span>\n",
       "</pre>\n"
      ],
      "text/plain": [
       "\u001b[90mDEBUG: Copied 140000 of 304005 pages...\u001b[0m\n"
      ]
     },
     "metadata": {},
     "output_type": "display_data"
    },
    {
     "data": {
      "text/html": [
       "<pre style=\"white-space:pre;overflow-x:auto;line-height:normal;font-family:Menlo,'DejaVu Sans Mono',consolas,'Courier New',monospace\"><span style=\"color: #808080; text-decoration-color: #808080\">DEBUG: Copied 150000 of 304005 pages...</span>\n",
       "</pre>\n"
      ],
      "text/plain": [
       "\u001b[90mDEBUG: Copied 150000 of 304005 pages...\u001b[0m\n"
      ]
     },
     "metadata": {},
     "output_type": "display_data"
    },
    {
     "data": {
      "text/html": [
       "<pre style=\"white-space:pre;overflow-x:auto;line-height:normal;font-family:Menlo,'DejaVu Sans Mono',consolas,'Courier New',monospace\"><span style=\"color: #808080; text-decoration-color: #808080\">DEBUG: Copied 160000 of 304005 pages...</span>\n",
       "</pre>\n"
      ],
      "text/plain": [
       "\u001b[90mDEBUG: Copied 160000 of 304005 pages...\u001b[0m\n"
      ]
     },
     "metadata": {},
     "output_type": "display_data"
    },
    {
     "data": {
      "text/html": [
       "<pre style=\"white-space:pre;overflow-x:auto;line-height:normal;font-family:Menlo,'DejaVu Sans Mono',consolas,'Courier New',monospace\"><span style=\"color: #808080; text-decoration-color: #808080\">DEBUG: Copied 170000 of 304005 pages...</span>\n",
       "</pre>\n"
      ],
      "text/plain": [
       "\u001b[90mDEBUG: Copied 170000 of 304005 pages...\u001b[0m\n"
      ]
     },
     "metadata": {},
     "output_type": "display_data"
    },
    {
     "data": {
      "text/html": [
       "<pre style=\"white-space:pre;overflow-x:auto;line-height:normal;font-family:Menlo,'DejaVu Sans Mono',consolas,'Courier New',monospace\"><span style=\"color: #808080; text-decoration-color: #808080\">DEBUG: Copied 180000 of 304005 pages...</span>\n",
       "</pre>\n"
      ],
      "text/plain": [
       "\u001b[90mDEBUG: Copied 180000 of 304005 pages...\u001b[0m\n"
      ]
     },
     "metadata": {},
     "output_type": "display_data"
    },
    {
     "data": {
      "text/html": [
       "<pre style=\"white-space:pre;overflow-x:auto;line-height:normal;font-family:Menlo,'DejaVu Sans Mono',consolas,'Courier New',monospace\"><span style=\"color: #808080; text-decoration-color: #808080\">DEBUG: Copied 190000 of 304005 pages...</span>\n",
       "</pre>\n"
      ],
      "text/plain": [
       "\u001b[90mDEBUG: Copied 190000 of 304005 pages...\u001b[0m\n"
      ]
     },
     "metadata": {},
     "output_type": "display_data"
    },
    {
     "data": {
      "text/html": [
       "<pre style=\"white-space:pre;overflow-x:auto;line-height:normal;font-family:Menlo,'DejaVu Sans Mono',consolas,'Courier New',monospace\"><span style=\"color: #808080; text-decoration-color: #808080\">DEBUG: Copied 200000 of 304005 pages...</span>\n",
       "</pre>\n"
      ],
      "text/plain": [
       "\u001b[90mDEBUG: Copied 200000 of 304005 pages...\u001b[0m\n"
      ]
     },
     "metadata": {},
     "output_type": "display_data"
    },
    {
     "data": {
      "text/html": [
       "<pre style=\"white-space:pre;overflow-x:auto;line-height:normal;font-family:Menlo,'DejaVu Sans Mono',consolas,'Courier New',monospace\"><span style=\"color: #808080; text-decoration-color: #808080\">DEBUG: Copied 210000 of 304005 pages...</span>\n",
       "</pre>\n"
      ],
      "text/plain": [
       "\u001b[90mDEBUG: Copied 210000 of 304005 pages...\u001b[0m\n"
      ]
     },
     "metadata": {},
     "output_type": "display_data"
    },
    {
     "data": {
      "text/html": [
       "<pre style=\"white-space:pre;overflow-x:auto;line-height:normal;font-family:Menlo,'DejaVu Sans Mono',consolas,'Courier New',monospace\"><span style=\"color: #808080; text-decoration-color: #808080\">DEBUG: Copied 220000 of 304005 pages...</span>\n",
       "</pre>\n"
      ],
      "text/plain": [
       "\u001b[90mDEBUG: Copied 220000 of 304005 pages...\u001b[0m\n"
      ]
     },
     "metadata": {},
     "output_type": "display_data"
    },
    {
     "data": {
      "text/html": [
       "<pre style=\"white-space:pre;overflow-x:auto;line-height:normal;font-family:Menlo,'DejaVu Sans Mono',consolas,'Courier New',monospace\"><span style=\"color: #808080; text-decoration-color: #808080\">DEBUG: Copied 230000 of 304005 pages...</span>\n",
       "</pre>\n"
      ],
      "text/plain": [
       "\u001b[90mDEBUG: Copied 230000 of 304005 pages...\u001b[0m\n"
      ]
     },
     "metadata": {},
     "output_type": "display_data"
    },
    {
     "data": {
      "text/html": [
       "<pre style=\"white-space:pre;overflow-x:auto;line-height:normal;font-family:Menlo,'DejaVu Sans Mono',consolas,'Courier New',monospace\"><span style=\"color: #808080; text-decoration-color: #808080\">DEBUG: Copied 240000 of 304005 pages...</span>\n",
       "</pre>\n"
      ],
      "text/plain": [
       "\u001b[90mDEBUG: Copied 240000 of 304005 pages...\u001b[0m\n"
      ]
     },
     "metadata": {},
     "output_type": "display_data"
    },
    {
     "data": {
      "text/html": [
       "<pre style=\"white-space:pre;overflow-x:auto;line-height:normal;font-family:Menlo,'DejaVu Sans Mono',consolas,'Courier New',monospace\"><span style=\"color: #808080; text-decoration-color: #808080\">DEBUG: Copied 250000 of 304005 pages...</span>\n",
       "</pre>\n"
      ],
      "text/plain": [
       "\u001b[90mDEBUG: Copied 250000 of 304005 pages...\u001b[0m\n"
      ]
     },
     "metadata": {},
     "output_type": "display_data"
    },
    {
     "data": {
      "text/html": [
       "<pre style=\"white-space:pre;overflow-x:auto;line-height:normal;font-family:Menlo,'DejaVu Sans Mono',consolas,'Courier New',monospace\"><span style=\"color: #808080; text-decoration-color: #808080\">DEBUG: Copied 260000 of 304005 pages...</span>\n",
       "</pre>\n"
      ],
      "text/plain": [
       "\u001b[90mDEBUG: Copied 260000 of 304005 pages...\u001b[0m\n"
      ]
     },
     "metadata": {},
     "output_type": "display_data"
    },
    {
     "data": {
      "text/html": [
       "<pre style=\"white-space:pre;overflow-x:auto;line-height:normal;font-family:Menlo,'DejaVu Sans Mono',consolas,'Courier New',monospace\"><span style=\"color: #808080; text-decoration-color: #808080\">DEBUG: Copied 270000 of 304005 pages...</span>\n",
       "</pre>\n"
      ],
      "text/plain": [
       "\u001b[90mDEBUG: Copied 270000 of 304005 pages...\u001b[0m\n"
      ]
     },
     "metadata": {},
     "output_type": "display_data"
    },
    {
     "data": {
      "text/html": [
       "<pre style=\"white-space:pre;overflow-x:auto;line-height:normal;font-family:Menlo,'DejaVu Sans Mono',consolas,'Courier New',monospace\"><span style=\"color: #808080; text-decoration-color: #808080\">DEBUG: Copied 280000 of 304005 pages...</span>\n",
       "</pre>\n"
      ],
      "text/plain": [
       "\u001b[90mDEBUG: Copied 280000 of 304005 pages...\u001b[0m\n"
      ]
     },
     "metadata": {},
     "output_type": "display_data"
    },
    {
     "data": {
      "text/html": [
       "<pre style=\"white-space:pre;overflow-x:auto;line-height:normal;font-family:Menlo,'DejaVu Sans Mono',consolas,'Courier New',monospace\"><span style=\"color: #808080; text-decoration-color: #808080\">DEBUG: Copied 300000 of 304005 pages...</span>\n",
       "</pre>\n"
      ],
      "text/plain": [
       "\u001b[90mDEBUG: Copied 300000 of 304005 pages...\u001b[0m\n"
      ]
     },
     "metadata": {},
     "output_type": "display_data"
    },
    {
     "data": {
      "text/html": [
       "<pre style=\"white-space:pre;overflow-x:auto;line-height:normal;font-family:Menlo,'DejaVu Sans Mono',consolas,'Courier New',monospace\"><span style=\"color: #808080; text-decoration-color: #808080\">DEBUG: Copied 304005 of 304005 pages...</span>\n",
       "</pre>\n"
      ],
      "text/plain": [
       "\u001b[90mDEBUG: Copied 304005 of 304005 pages...\u001b[0m\n"
      ]
     },
     "metadata": {},
     "output_type": "display_data"
    },
    {
     "data": {
      "text/html": [
       "<pre style=\"white-space:pre;overflow-x:auto;line-height:normal;font-family:Menlo,'DejaVu Sans Mono',consolas,'Courier New',monospace\"></pre>\n"
      ],
      "text/plain": []
     },
     "metadata": {},
     "output_type": "display_data"
    }
   ],
   "source": [
    "animal = hippo.HIPPO(\"RdRp_FFF\", \"../../BulkDock/TARGETS/Flavi_NS5_RdRp/Flavi_NS5_RdRp.sqlite\")\n",
    "animal.db.backup()"
   ]
  },
  {
   "cell_type": "markdown",
   "id": "04a4fd0d-95c0-49ea-bd9f-aeefbb75f140",
   "metadata": {},
   "source": [
    "## Parse Jasmin Excel"
   ]
  },
  {
   "cell_type": "code",
   "execution_count": 8,
   "id": "588d9a60-93b5-4609-8a1e-65b85ac64bd7",
   "metadata": {},
   "outputs": [
    {
     "data": {
      "text/html": [
       "<div>\n",
       "<style scoped>\n",
       "    .dataframe tbody tr th:only-of-type {\n",
       "        vertical-align: middle;\n",
       "    }\n",
       "\n",
       "    .dataframe tbody tr th {\n",
       "        vertical-align: top;\n",
       "    }\n",
       "\n",
       "    .dataframe thead th {\n",
       "        text-align: right;\n",
       "    }\n",
       "</style>\n",
       "<table border=\"1\" class=\"dataframe\">\n",
       "  <thead>\n",
       "    <tr style=\"text-align: right;\">\n",
       "      <th></th>\n",
       "      <th>smiles</th>\n",
       "      <th>name</th>\n",
       "      <th>inspiration_1</th>\n",
       "      <th>inspiration_2</th>\n",
       "      <th>inspiration_3</th>\n",
       "      <th>comment</th>\n",
       "      <th>Unnamed: 6</th>\n",
       "    </tr>\n",
       "  </thead>\n",
       "  <tbody>\n",
       "    <tr>\n",
       "      <th>0</th>\n",
       "      <td>Nc1cccnc1-[n](cc1)cc1C#CCO</td>\n",
       "      <td>DF-RdRp-NP001</td>\n",
       "      <td>d0472a</td>\n",
       "      <td>5hmz-a</td>\n",
       "      <td>NaN</td>\n",
       "      <td>NaN</td>\n",
       "      <td>NaN</td>\n",
       "    </tr>\n",
       "    <tr>\n",
       "      <th>1</th>\n",
       "      <td>COc1c(-[n](cc2)cc2C#CCO)nccc1</td>\n",
       "      <td>DF-RdRp-NP002</td>\n",
       "      <td>d0472a</td>\n",
       "      <td>5hmz-a</td>\n",
       "      <td>NaN</td>\n",
       "      <td>NaN</td>\n",
       "      <td>NaN</td>\n",
       "    </tr>\n",
       "    <tr>\n",
       "      <th>2</th>\n",
       "      <td>CNc1cccnc1-[n](cc1)cc1C#CCO</td>\n",
       "      <td>DF-RdRp-NP003</td>\n",
       "      <td>d0472a</td>\n",
       "      <td>5hmz-a</td>\n",
       "      <td>NaN</td>\n",
       "      <td>NaN</td>\n",
       "      <td>NaN</td>\n",
       "    </tr>\n",
       "    <tr>\n",
       "      <th>3</th>\n",
       "      <td>COc1c(-[n](cc2)cc2C#CCO)nc(CC([O-])=O)cc1CC([O...</td>\n",
       "      <td>DF-RdRp-NP004</td>\n",
       "      <td>d0472a</td>\n",
       "      <td>5hmy-a</td>\n",
       "      <td>NaN</td>\n",
       "      <td>NaN</td>\n",
       "      <td>NaN</td>\n",
       "    </tr>\n",
       "    <tr>\n",
       "      <th>4</th>\n",
       "      <td>COc(cc1)c(-[n](cc2)cc2C#CCO)nc1C(NS(C)(=O)=O)=O</td>\n",
       "      <td>DF-RdRp-NP005</td>\n",
       "      <td>d0472a</td>\n",
       "      <td>5hmz-a</td>\n",
       "      <td>NaN</td>\n",
       "      <td>NaN</td>\n",
       "      <td>NaN</td>\n",
       "    </tr>\n",
       "  </tbody>\n",
       "</table>\n",
       "</div>"
      ],
      "text/plain": [
       "                                              smiles           name  \\\n",
       "0                         Nc1cccnc1-[n](cc1)cc1C#CCO  DF-RdRp-NP001   \n",
       "1                      COc1c(-[n](cc2)cc2C#CCO)nccc1  DF-RdRp-NP002   \n",
       "2                        CNc1cccnc1-[n](cc1)cc1C#CCO  DF-RdRp-NP003   \n",
       "3  COc1c(-[n](cc2)cc2C#CCO)nc(CC([O-])=O)cc1CC([O...  DF-RdRp-NP004   \n",
       "4    COc(cc1)c(-[n](cc2)cc2C#CCO)nc1C(NS(C)(=O)=O)=O  DF-RdRp-NP005   \n",
       "\n",
       "  inspiration_1 inspiration_2 inspiration_3 comment Unnamed: 6  \n",
       "0        d0472a        5hmz-a           NaN     NaN        NaN  \n",
       "1        d0472a        5hmz-a           NaN     NaN        NaN  \n",
       "2        d0472a        5hmz-a           NaN     NaN        NaN  \n",
       "3        d0472a        5hmy-a           NaN     NaN        NaN  \n",
       "4        d0472a        5hmz-a           NaN     NaN        NaN  "
      ]
     },
     "execution_count": 8,
     "metadata": {},
     "output_type": "execute_result"
    }
   ],
   "source": [
    "data = []\n",
    "# df = pd.read_excel(\"../seesar/Primergrip_JA_SeeSar.xlsx\")\n",
    "# df = pd.read_excel(\"../manual/JA_primergrip_seesar/Primergrip_JA_SeeSar_2.xlsx\")\n",
    "# df = pd.read_excel(\"../manual/JA_green_seesar/20241217_green-site.xlsx\")\n",
    "df = pd.read_csv(\"../manual/DF_npocket/DF_NS5RdRp_ManualDesigns_20241218.csv\")\n",
    "df.head()"
   ]
  },
  {
   "cell_type": "code",
   "execution_count": 13,
   "id": "dbe03729-9c20-4c58-bd14-b8f6f4d01333",
   "metadata": {},
   "outputs": [
    {
     "data": {
      "text/html": [
       "<pre style=\"white-space:pre;overflow-x:auto;line-height:normal;font-family:Menlo,'DejaVu Sans Mono',consolas,'Courier New',monospace\"><span style=\"font-weight: bold; text-decoration: underline\">C70811 </span><span style=\"color: #008000; text-decoration-color: #008000; font-weight: bold; text-decoration: underline\">\"BYFNLIPYYIQAFD-UHFFFAOYSA-N\"</span>\n",
       "</pre>\n"
      ],
      "text/plain": [
       "\u001b[1;4mC70811 \u001b[0m\u001b[1;4;32m\"BYFNLIPYYIQAFD-UHFFFAOYSA-N\"\u001b[0m\n"
      ]
     },
     "metadata": {},
     "output_type": "display_data"
    },
    {
     "data": {
      "text/html": [
       "<pre style=\"white-space:pre;overflow-x:auto;line-height:normal;font-family:Menlo,'DejaVu Sans Mono',consolas,'Courier New',monospace\"><span style=\"font-weight: bold; text-decoration: underline\">C70812 </span><span style=\"color: #008000; text-decoration-color: #008000; font-weight: bold; text-decoration: underline\">\"GKYJMMRRFRZJPC-UHFFFAOYSA-N\"</span>\n",
       "</pre>\n"
      ],
      "text/plain": [
       "\u001b[1;4mC70812 \u001b[0m\u001b[1;4;32m\"GKYJMMRRFRZJPC-UHFFFAOYSA-N\"\u001b[0m\n"
      ]
     },
     "metadata": {},
     "output_type": "display_data"
    },
    {
     "data": {
      "text/html": [
       "<pre style=\"white-space:pre;overflow-x:auto;line-height:normal;font-family:Menlo,'DejaVu Sans Mono',consolas,'Courier New',monospace\"><span style=\"font-weight: bold; text-decoration: underline\">C70813 </span><span style=\"color: #008000; text-decoration-color: #008000; font-weight: bold; text-decoration: underline\">\"RDZWIHNOOZHHMQ-UHFFFAOYSA-N\"</span>\n",
       "</pre>\n"
      ],
      "text/plain": [
       "\u001b[1;4mC70813 \u001b[0m\u001b[1;4;32m\"RDZWIHNOOZHHMQ-UHFFFAOYSA-N\"\u001b[0m\n"
      ]
     },
     "metadata": {},
     "output_type": "display_data"
    },
    {
     "data": {
      "text/html": [
       "<pre style=\"white-space:pre;overflow-x:auto;line-height:normal;font-family:Menlo,'DejaVu Sans Mono',consolas,'Courier New',monospace\"><span style=\"font-weight: bold; text-decoration: underline\">C70814 </span><span style=\"color: #008000; text-decoration-color: #008000; font-weight: bold; text-decoration: underline\">\"BEAZOMRKJVJZJX-UHFFFAOYSA-L\"</span>\n",
       "</pre>\n"
      ],
      "text/plain": [
       "\u001b[1;4mC70814 \u001b[0m\u001b[1;4;32m\"BEAZOMRKJVJZJX-UHFFFAOYSA-L\"\u001b[0m\n"
      ]
     },
     "metadata": {},
     "output_type": "display_data"
    },
    {
     "data": {
      "text/html": [
       "<pre style=\"white-space:pre;overflow-x:auto;line-height:normal;font-family:Menlo,'DejaVu Sans Mono',consolas,'Courier New',monospace\"><span style=\"font-weight: bold; text-decoration: underline\">C70815 </span><span style=\"color: #008000; text-decoration-color: #008000; font-weight: bold; text-decoration: underline\">\"KUXFKSOSEOKYJD-UHFFFAOYSA-N\"</span>\n",
       "</pre>\n"
      ],
      "text/plain": [
       "\u001b[1;4mC70815 \u001b[0m\u001b[1;4;32m\"KUXFKSOSEOKYJD-UHFFFAOYSA-N\"\u001b[0m\n"
      ]
     },
     "metadata": {},
     "output_type": "display_data"
    },
    {
     "data": {
      "text/html": [
       "<pre style=\"white-space:pre;overflow-x:auto;line-height:normal;font-family:Menlo,'DejaVu Sans Mono',consolas,'Courier New',monospace\"><span style=\"font-weight: bold; text-decoration: underline\">C70816 </span><span style=\"color: #008000; text-decoration-color: #008000; font-weight: bold; text-decoration: underline\">\"AEZXVGBJHZSSCT-UHFFFAOYSA-N\"</span>\n",
       "</pre>\n"
      ],
      "text/plain": [
       "\u001b[1;4mC70816 \u001b[0m\u001b[1;4;32m\"AEZXVGBJHZSSCT-UHFFFAOYSA-N\"\u001b[0m\n"
      ]
     },
     "metadata": {},
     "output_type": "display_data"
    },
    {
     "data": {
      "text/html": [
       "<pre style=\"white-space:pre;overflow-x:auto;line-height:normal;font-family:Menlo,'DejaVu Sans Mono',consolas,'Courier New',monospace\"><span style=\"font-weight: bold; text-decoration: underline\">C70817 </span><span style=\"color: #008000; text-decoration-color: #008000; font-weight: bold; text-decoration: underline\">\"OTVGCPNGKNDKKI-UHFFFAOYSA-N\"</span>\n",
       "</pre>\n"
      ],
      "text/plain": [
       "\u001b[1;4mC70817 \u001b[0m\u001b[1;4;32m\"OTVGCPNGKNDKKI-UHFFFAOYSA-N\"\u001b[0m\n"
      ]
     },
     "metadata": {},
     "output_type": "display_data"
    },
    {
     "data": {
      "text/html": [
       "<pre style=\"white-space:pre;overflow-x:auto;line-height:normal;font-family:Menlo,'DejaVu Sans Mono',consolas,'Courier New',monospace\"><span style=\"font-weight: bold; text-decoration: underline\">C70818 </span><span style=\"color: #008000; text-decoration-color: #008000; font-weight: bold; text-decoration: underline\">\"DWSUYUDJJKOSBH-UHFFFAOYSA-N\"</span>\n",
       "</pre>\n"
      ],
      "text/plain": [
       "\u001b[1;4mC70818 \u001b[0m\u001b[1;4;32m\"DWSUYUDJJKOSBH-UHFFFAOYSA-N\"\u001b[0m\n"
      ]
     },
     "metadata": {},
     "output_type": "display_data"
    },
    {
     "data": {
      "text/html": [
       "<pre style=\"white-space:pre;overflow-x:auto;line-height:normal;font-family:Menlo,'DejaVu Sans Mono',consolas,'Courier New',monospace\"><span style=\"font-weight: bold; text-decoration: underline\">C70819 </span><span style=\"color: #008000; text-decoration-color: #008000; font-weight: bold; text-decoration: underline\">\"CTMGBWYUTRUCHU-UHFFFAOYSA-N\"</span>\n",
       "</pre>\n"
      ],
      "text/plain": [
       "\u001b[1;4mC70819 \u001b[0m\u001b[1;4;32m\"CTMGBWYUTRUCHU-UHFFFAOYSA-N\"\u001b[0m\n"
      ]
     },
     "metadata": {},
     "output_type": "display_data"
    },
    {
     "data": {
      "text/html": [
       "<pre style=\"white-space:pre;overflow-x:auto;line-height:normal;font-family:Menlo,'DejaVu Sans Mono',consolas,'Courier New',monospace\"><span style=\"font-weight: bold; text-decoration: underline\">C70820 </span><span style=\"color: #008000; text-decoration-color: #008000; font-weight: bold; text-decoration: underline\">\"NXDOHYKJUVUWNC-UHFFFAOYSA-N\"</span>\n",
       "</pre>\n"
      ],
      "text/plain": [
       "\u001b[1;4mC70820 \u001b[0m\u001b[1;4;32m\"NXDOHYKJUVUWNC-UHFFFAOYSA-N\"\u001b[0m\n"
      ]
     },
     "metadata": {},
     "output_type": "display_data"
    },
    {
     "data": {
      "text/html": [
       "<pre style=\"white-space:pre;overflow-x:auto;line-height:normal;font-family:Menlo,'DejaVu Sans Mono',consolas,'Courier New',monospace\"><span style=\"font-weight: bold; text-decoration: underline\">C70821 </span><span style=\"color: #008000; text-decoration-color: #008000; font-weight: bold; text-decoration: underline\">\"NFZGTCJKIQCHGR-UHFFFAOYSA-N\"</span>\n",
       "</pre>\n"
      ],
      "text/plain": [
       "\u001b[1;4mC70821 \u001b[0m\u001b[1;4;32m\"NFZGTCJKIQCHGR-UHFFFAOYSA-N\"\u001b[0m\n"
      ]
     },
     "metadata": {},
     "output_type": "display_data"
    },
    {
     "data": {
      "text/html": [
       "<pre style=\"white-space:pre;overflow-x:auto;line-height:normal;font-family:Menlo,'DejaVu Sans Mono',consolas,'Courier New',monospace\"><span style=\"font-weight: bold; text-decoration: underline\">C70822 </span><span style=\"color: #008000; text-decoration-color: #008000; font-weight: bold; text-decoration: underline\">\"SPHUKUNGUKVCQJ-UHFFFAOYSA-N\"</span>\n",
       "</pre>\n"
      ],
      "text/plain": [
       "\u001b[1;4mC70822 \u001b[0m\u001b[1;4;32m\"SPHUKUNGUKVCQJ-UHFFFAOYSA-N\"\u001b[0m\n"
      ]
     },
     "metadata": {},
     "output_type": "display_data"
    },
    {
     "data": {
      "text/html": [
       "<pre style=\"white-space:pre;overflow-x:auto;line-height:normal;font-family:Menlo,'DejaVu Sans Mono',consolas,'Courier New',monospace\"><span style=\"font-weight: bold; text-decoration: underline\">C70823 </span><span style=\"color: #008000; text-decoration-color: #008000; font-weight: bold; text-decoration: underline\">\"MIGGJWYNKCJJJJ-UHFFFAOYSA-N\"</span>\n",
       "</pre>\n"
      ],
      "text/plain": [
       "\u001b[1;4mC70823 \u001b[0m\u001b[1;4;32m\"MIGGJWYNKCJJJJ-UHFFFAOYSA-N\"\u001b[0m\n"
      ]
     },
     "metadata": {},
     "output_type": "display_data"
    },
    {
     "data": {
      "text/html": [
       "<pre style=\"white-space:pre;overflow-x:auto;line-height:normal;font-family:Menlo,'DejaVu Sans Mono',consolas,'Courier New',monospace\"><span style=\"font-weight: bold; text-decoration: underline\">C70824 </span><span style=\"color: #008000; text-decoration-color: #008000; font-weight: bold; text-decoration: underline\">\"IEQDDAVUPMIHBJ-UHFFFAOYSA-N\"</span>\n",
       "</pre>\n"
      ],
      "text/plain": [
       "\u001b[1;4mC70824 \u001b[0m\u001b[1;4;32m\"IEQDDAVUPMIHBJ-UHFFFAOYSA-N\"\u001b[0m\n"
      ]
     },
     "metadata": {},
     "output_type": "display_data"
    },
    {
     "data": {
      "text/html": [
       "<pre style=\"white-space:pre;overflow-x:auto;line-height:normal;font-family:Menlo,'DejaVu Sans Mono',consolas,'Courier New',monospace\"><span style=\"font-weight: bold; text-decoration: underline\">C70825 </span><span style=\"color: #008000; text-decoration-color: #008000; font-weight: bold; text-decoration: underline\">\"KDCAMJIRVJAYFR-UHFFFAOYSA-N\"</span>\n",
       "</pre>\n"
      ],
      "text/plain": [
       "\u001b[1;4mC70825 \u001b[0m\u001b[1;4;32m\"KDCAMJIRVJAYFR-UHFFFAOYSA-N\"\u001b[0m\n"
      ]
     },
     "metadata": {},
     "output_type": "display_data"
    },
    {
     "data": {
      "text/html": [
       "<pre style=\"white-space:pre;overflow-x:auto;line-height:normal;font-family:Menlo,'DejaVu Sans Mono',consolas,'Courier New',monospace\"><span style=\"font-weight: bold; text-decoration: underline\">C70826 </span><span style=\"color: #008000; text-decoration-color: #008000; font-weight: bold; text-decoration: underline\">\"BWFPMRBIUDHZRC-UHFFFAOYSA-N\"</span>\n",
       "</pre>\n"
      ],
      "text/plain": [
       "\u001b[1;4mC70826 \u001b[0m\u001b[1;4;32m\"BWFPMRBIUDHZRC-UHFFFAOYSA-N\"\u001b[0m\n"
      ]
     },
     "metadata": {},
     "output_type": "display_data"
    },
    {
     "data": {
      "text/html": [
       "<pre style=\"white-space:pre;overflow-x:auto;line-height:normal;font-family:Menlo,'DejaVu Sans Mono',consolas,'Courier New',monospace\"><span style=\"font-weight: bold; text-decoration: underline\">C70827 </span><span style=\"color: #008000; text-decoration-color: #008000; font-weight: bold; text-decoration: underline\">\"ULWGKRZZILDWDU-UHFFFAOYSA-N\"</span>\n",
       "</pre>\n"
      ],
      "text/plain": [
       "\u001b[1;4mC70827 \u001b[0m\u001b[1;4;32m\"ULWGKRZZILDWDU-UHFFFAOYSA-N\"\u001b[0m\n"
      ]
     },
     "metadata": {},
     "output_type": "display_data"
    },
    {
     "data": {
      "text/html": [
       "<pre style=\"white-space:pre;overflow-x:auto;line-height:normal;font-family:Menlo,'DejaVu Sans Mono',consolas,'Courier New',monospace\"><span style=\"font-weight: bold; text-decoration: underline\">C70828 </span><span style=\"color: #008000; text-decoration-color: #008000; font-weight: bold; text-decoration: underline\">\"AEYLTXYUJXJBPN-UHFFFAOYSA-N\"</span>\n",
       "</pre>\n"
      ],
      "text/plain": [
       "\u001b[1;4mC70828 \u001b[0m\u001b[1;4;32m\"AEYLTXYUJXJBPN-UHFFFAOYSA-N\"\u001b[0m\n"
      ]
     },
     "metadata": {},
     "output_type": "display_data"
    },
    {
     "data": {
      "text/html": [
       "<pre style=\"white-space:pre;overflow-x:auto;line-height:normal;font-family:Menlo,'DejaVu Sans Mono',consolas,'Courier New',monospace\"><span style=\"font-weight: bold; text-decoration: underline\">C70829 </span><span style=\"color: #008000; text-decoration-color: #008000; font-weight: bold; text-decoration: underline\">\"VAEHFVIPTABLBW-UHFFFAOYSA-N\"</span>\n",
       "</pre>\n"
      ],
      "text/plain": [
       "\u001b[1;4mC70829 \u001b[0m\u001b[1;4;32m\"VAEHFVIPTABLBW-UHFFFAOYSA-N\"\u001b[0m\n"
      ]
     },
     "metadata": {},
     "output_type": "display_data"
    },
    {
     "data": {
      "text/html": [
       "<pre style=\"white-space:pre;overflow-x:auto;line-height:normal;font-family:Menlo,'DejaVu Sans Mono',consolas,'Courier New',monospace\"><span style=\"font-weight: bold; text-decoration: underline\">C70830 </span><span style=\"color: #008000; text-decoration-color: #008000; font-weight: bold; text-decoration: underline\">\"BFFIVKNTXTVEOH-UHFFFAOYSA-N\"</span>\n",
       "</pre>\n"
      ],
      "text/plain": [
       "\u001b[1;4mC70830 \u001b[0m\u001b[1;4;32m\"BFFIVKNTXTVEOH-UHFFFAOYSA-N\"\u001b[0m\n"
      ]
     },
     "metadata": {},
     "output_type": "display_data"
    },
    {
     "data": {
      "text/html": [
       "<pre style=\"white-space:pre;overflow-x:auto;line-height:normal;font-family:Menlo,'DejaVu Sans Mono',consolas,'Courier New',monospace\"><span style=\"font-weight: bold; text-decoration: underline\">C70831 </span><span style=\"color: #008000; text-decoration-color: #008000; font-weight: bold; text-decoration: underline\">\"KOTHMQWKRHJITA-UHFFFAOYSA-N\"</span>\n",
       "</pre>\n"
      ],
      "text/plain": [
       "\u001b[1;4mC70831 \u001b[0m\u001b[1;4;32m\"KOTHMQWKRHJITA-UHFFFAOYSA-N\"\u001b[0m\n"
      ]
     },
     "metadata": {},
     "output_type": "display_data"
    },
    {
     "data": {
      "text/html": [
       "<pre style=\"white-space:pre;overflow-x:auto;line-height:normal;font-family:Menlo,'DejaVu Sans Mono',consolas,'Courier New',monospace\"><span style=\"font-weight: bold; text-decoration: underline\">C70832 </span><span style=\"color: #008000; text-decoration-color: #008000; font-weight: bold; text-decoration: underline\">\"VNYVVTMYZKIVJP-UHFFFAOYSA-N\"</span>\n",
       "</pre>\n"
      ],
      "text/plain": [
       "\u001b[1;4mC70832 \u001b[0m\u001b[1;4;32m\"VNYVVTMYZKIVJP-UHFFFAOYSA-N\"\u001b[0m\n"
      ]
     },
     "metadata": {},
     "output_type": "display_data"
    },
    {
     "data": {
      "text/html": [
       "<pre style=\"white-space:pre;overflow-x:auto;line-height:normal;font-family:Menlo,'DejaVu Sans Mono',consolas,'Courier New',monospace\"><span style=\"font-weight: bold; text-decoration: underline\">C70832 </span><span style=\"color: #008000; text-decoration-color: #008000; font-weight: bold; text-decoration: underline\">\"VNYVVTMYZKIVJP-UHFFFAOYSA-N\"</span>\n",
       "</pre>\n"
      ],
      "text/plain": [
       "\u001b[1;4mC70832 \u001b[0m\u001b[1;4;32m\"VNYVVTMYZKIVJP-UHFFFAOYSA-N\"\u001b[0m\n"
      ]
     },
     "metadata": {},
     "output_type": "display_data"
    },
    {
     "data": {
      "text/html": [
       "<pre style=\"white-space:pre;overflow-x:auto;line-height:normal;font-family:Menlo,'DejaVu Sans Mono',consolas,'Courier New',monospace\"><span style=\"font-weight: bold; text-decoration: underline\">C67403 </span><span style=\"color: #008000; text-decoration-color: #008000; font-weight: bold; text-decoration: underline\">\"YJAMHEONGYOGKE-UHFFFAOYSA-N\"</span>\n",
       "</pre>\n"
      ],
      "text/plain": [
       "\u001b[1;4mC67403 \u001b[0m\u001b[1;4;32m\"YJAMHEONGYOGKE-UHFFFAOYSA-N\"\u001b[0m\n"
      ]
     },
     "metadata": {},
     "output_type": "display_data"
    },
    {
     "data": {
      "text/html": [
       "<pre style=\"white-space:pre;overflow-x:auto;line-height:normal;font-family:Menlo,'DejaVu Sans Mono',consolas,'Courier New',monospace\"><span style=\"font-weight: bold; text-decoration: underline\">C70833 </span><span style=\"color: #008000; text-decoration-color: #008000; font-weight: bold; text-decoration: underline\">\"YQJGYYTUEONYBC-UHFFFAOYSA-N\"</span>\n",
       "</pre>\n"
      ],
      "text/plain": [
       "\u001b[1;4mC70833 \u001b[0m\u001b[1;4;32m\"YQJGYYTUEONYBC-UHFFFAOYSA-N\"\u001b[0m\n"
      ]
     },
     "metadata": {},
     "output_type": "display_data"
    },
    {
     "data": {
      "text/html": [
       "<pre style=\"white-space:pre;overflow-x:auto;line-height:normal;font-family:Menlo,'DejaVu Sans Mono',consolas,'Courier New',monospace\"><span style=\"font-weight: bold; text-decoration: underline\">C70834 </span><span style=\"color: #008000; text-decoration-color: #008000; font-weight: bold; text-decoration: underline\">\"HXERYAFEJQHCOB-UHFFFAOYSA-N\"</span>\n",
       "</pre>\n"
      ],
      "text/plain": [
       "\u001b[1;4mC70834 \u001b[0m\u001b[1;4;32m\"HXERYAFEJQHCOB-UHFFFAOYSA-N\"\u001b[0m\n"
      ]
     },
     "metadata": {},
     "output_type": "display_data"
    },
    {
     "data": {
      "text/html": [
       "<pre style=\"white-space:pre;overflow-x:auto;line-height:normal;font-family:Menlo,'DejaVu Sans Mono',consolas,'Courier New',monospace\"><span style=\"font-weight: bold; text-decoration: underline\">C70835 </span><span style=\"color: #008000; text-decoration-color: #008000; font-weight: bold; text-decoration: underline\">\"QKKLKSRPYKPFSP-UHFFFAOYSA-N\"</span>\n",
       "</pre>\n"
      ],
      "text/plain": [
       "\u001b[1;4mC70835 \u001b[0m\u001b[1;4;32m\"QKKLKSRPYKPFSP-UHFFFAOYSA-N\"\u001b[0m\n"
      ]
     },
     "metadata": {},
     "output_type": "display_data"
    },
    {
     "data": {
      "text/html": [
       "<pre style=\"white-space:pre;overflow-x:auto;line-height:normal;font-family:Menlo,'DejaVu Sans Mono',consolas,'Courier New',monospace\"><span style=\"font-weight: bold; text-decoration: underline\">C70836 </span><span style=\"color: #008000; text-decoration-color: #008000; font-weight: bold; text-decoration: underline\">\"ZZSAABMKLKGPLX-UHFFFAOYSA-N\"</span>\n",
       "</pre>\n"
      ],
      "text/plain": [
       "\u001b[1;4mC70836 \u001b[0m\u001b[1;4;32m\"ZZSAABMKLKGPLX-UHFFFAOYSA-N\"\u001b[0m\n"
      ]
     },
     "metadata": {},
     "output_type": "display_data"
    },
    {
     "data": {
      "text/html": [
       "<pre style=\"white-space:pre;overflow-x:auto;line-height:normal;font-family:Menlo,'DejaVu Sans Mono',consolas,'Courier New',monospace\"><span style=\"font-weight: bold; text-decoration: underline\">C67424 </span><span style=\"color: #008000; text-decoration-color: #008000; font-weight: bold; text-decoration: underline\">\"FDFYHEBLRWRXQS-UHFFFAOYSA-N\"</span>\n",
       "</pre>\n"
      ],
      "text/plain": [
       "\u001b[1;4mC67424 \u001b[0m\u001b[1;4;32m\"FDFYHEBLRWRXQS-UHFFFAOYSA-N\"\u001b[0m\n"
      ]
     },
     "metadata": {},
     "output_type": "display_data"
    },
    {
     "data": {
      "text/html": [
       "<pre style=\"white-space:pre;overflow-x:auto;line-height:normal;font-family:Menlo,'DejaVu Sans Mono',consolas,'Courier New',monospace\"><span style=\"font-weight: bold; text-decoration: underline\">C67427 </span><span style=\"color: #008000; text-decoration-color: #008000; font-weight: bold; text-decoration: underline\">\"PLYLFZKONYYSMF-UHFFFAOYSA-N\"</span>\n",
       "</pre>\n"
      ],
      "text/plain": [
       "\u001b[1;4mC67427 \u001b[0m\u001b[1;4;32m\"PLYLFZKONYYSMF-UHFFFAOYSA-N\"\u001b[0m\n"
      ]
     },
     "metadata": {},
     "output_type": "display_data"
    },
    {
     "data": {
      "text/html": [
       "<pre style=\"white-space:pre;overflow-x:auto;line-height:normal;font-family:Menlo,'DejaVu Sans Mono',consolas,'Courier New',monospace\"><span style=\"font-weight: bold; text-decoration: underline\">C70837 </span><span style=\"color: #008000; text-decoration-color: #008000; font-weight: bold; text-decoration: underline\">\"URQCLNVSGMUHSN-UHFFFAOYSA-N\"</span>\n",
       "</pre>\n"
      ],
      "text/plain": [
       "\u001b[1;4mC70837 \u001b[0m\u001b[1;4;32m\"URQCLNVSGMUHSN-UHFFFAOYSA-N\"\u001b[0m\n"
      ]
     },
     "metadata": {},
     "output_type": "display_data"
    },
    {
     "data": {
      "text/html": [
       "<pre style=\"white-space:pre;overflow-x:auto;line-height:normal;font-family:Menlo,'DejaVu Sans Mono',consolas,'Courier New',monospace\"><span style=\"font-weight: bold; text-decoration: underline\">C70838 </span><span style=\"color: #008000; text-decoration-color: #008000; font-weight: bold; text-decoration: underline\">\"QPSJATGGUBQOAU-UHFFFAOYSA-N\"</span>\n",
       "</pre>\n"
      ],
      "text/plain": [
       "\u001b[1;4mC70838 \u001b[0m\u001b[1;4;32m\"QPSJATGGUBQOAU-UHFFFAOYSA-N\"\u001b[0m\n"
      ]
     },
     "metadata": {},
     "output_type": "display_data"
    },
    {
     "data": {
      "text/html": [
       "<pre style=\"white-space:pre;overflow-x:auto;line-height:normal;font-family:Menlo,'DejaVu Sans Mono',consolas,'Courier New',monospace\"><span style=\"font-weight: bold; text-decoration: underline\">C70839 </span><span style=\"color: #008000; text-decoration-color: #008000; font-weight: bold; text-decoration: underline\">\"ATGHKDOKGSHZNY-UHFFFAOYSA-N\"</span>\n",
       "</pre>\n"
      ],
      "text/plain": [
       "\u001b[1;4mC70839 \u001b[0m\u001b[1;4;32m\"ATGHKDOKGSHZNY-UHFFFAOYSA-N\"\u001b[0m\n"
      ]
     },
     "metadata": {},
     "output_type": "display_data"
    },
    {
     "data": {
      "text/html": [
       "<pre style=\"white-space:pre;overflow-x:auto;line-height:normal;font-family:Menlo,'DejaVu Sans Mono',consolas,'Courier New',monospace\"><span style=\"font-weight: bold; text-decoration: underline\">C70840 </span><span style=\"color: #008000; text-decoration-color: #008000; font-weight: bold; text-decoration: underline\">\"TUJOIGRLJZKVMN-UHFFFAOYSA-N\"</span>\n",
       "</pre>\n"
      ],
      "text/plain": [
       "\u001b[1;4mC70840 \u001b[0m\u001b[1;4;32m\"TUJOIGRLJZKVMN-UHFFFAOYSA-N\"\u001b[0m\n"
      ]
     },
     "metadata": {},
     "output_type": "display_data"
    },
    {
     "data": {
      "text/html": [
       "<pre style=\"white-space:pre;overflow-x:auto;line-height:normal;font-family:Menlo,'DejaVu Sans Mono',consolas,'Courier New',monospace\"><span style=\"font-weight: bold; text-decoration: underline\">C70841 </span><span style=\"color: #008000; text-decoration-color: #008000; font-weight: bold; text-decoration: underline\">\"XGWDYOWKJKXTCI-UHFFFAOYSA-N\"</span>\n",
       "</pre>\n"
      ],
      "text/plain": [
       "\u001b[1;4mC70841 \u001b[0m\u001b[1;4;32m\"XGWDYOWKJKXTCI-UHFFFAOYSA-N\"\u001b[0m\n"
      ]
     },
     "metadata": {},
     "output_type": "display_data"
    },
    {
     "data": {
      "text/html": [
       "<pre style=\"white-space:pre;overflow-x:auto;line-height:normal;font-family:Menlo,'DejaVu Sans Mono',consolas,'Courier New',monospace\"><span style=\"font-weight: bold; text-decoration: underline\">C70842 </span><span style=\"color: #008000; text-decoration-color: #008000; font-weight: bold; text-decoration: underline\">\"DCDKTLKJYOXSKX-UHFFFAOYSA-N\"</span>\n",
       "</pre>\n"
      ],
      "text/plain": [
       "\u001b[1;4mC70842 \u001b[0m\u001b[1;4;32m\"DCDKTLKJYOXSKX-UHFFFAOYSA-N\"\u001b[0m\n"
      ]
     },
     "metadata": {},
     "output_type": "display_data"
    },
    {
     "data": {
      "text/html": [
       "<pre style=\"white-space:pre;overflow-x:auto;line-height:normal;font-family:Menlo,'DejaVu Sans Mono',consolas,'Courier New',monospace\"><span style=\"font-weight: bold; text-decoration: underline\">C70843 </span><span style=\"color: #008000; text-decoration-color: #008000; font-weight: bold; text-decoration: underline\">\"FXYZEJZTQJMTCM-UHFFFAOYSA-N\"</span>\n",
       "</pre>\n"
      ],
      "text/plain": [
       "\u001b[1;4mC70843 \u001b[0m\u001b[1;4;32m\"FXYZEJZTQJMTCM-UHFFFAOYSA-N\"\u001b[0m\n"
      ]
     },
     "metadata": {},
     "output_type": "display_data"
    },
    {
     "data": {
      "text/html": [
       "<pre style=\"white-space:pre;overflow-x:auto;line-height:normal;font-family:Menlo,'DejaVu Sans Mono',consolas,'Courier New',monospace\"><span style=\"font-weight: bold; text-decoration: underline\">C70844 </span><span style=\"color: #008000; text-decoration-color: #008000; font-weight: bold; text-decoration: underline\">\"NMLOAXRMPZQSBM-UHFFFAOYSA-N\"</span>\n",
       "</pre>\n"
      ],
      "text/plain": [
       "\u001b[1;4mC70844 \u001b[0m\u001b[1;4;32m\"NMLOAXRMPZQSBM-UHFFFAOYSA-N\"\u001b[0m\n"
      ]
     },
     "metadata": {},
     "output_type": "display_data"
    },
    {
     "data": {
      "text/html": [
       "<pre style=\"white-space:pre;overflow-x:auto;line-height:normal;font-family:Menlo,'DejaVu Sans Mono',consolas,'Courier New',monospace\"><span style=\"font-weight: bold; text-decoration: underline\">C70845 </span><span style=\"color: #008000; text-decoration-color: #008000; font-weight: bold; text-decoration: underline\">\"BBHGEULMEYQJCU-UHFFFAOYSA-N\"</span>\n",
       "</pre>\n"
      ],
      "text/plain": [
       "\u001b[1;4mC70845 \u001b[0m\u001b[1;4;32m\"BBHGEULMEYQJCU-UHFFFAOYSA-N\"\u001b[0m\n"
      ]
     },
     "metadata": {},
     "output_type": "display_data"
    },
    {
     "data": {
      "text/html": [
       "<pre style=\"white-space:pre;overflow-x:auto;line-height:normal;font-family:Menlo,'DejaVu Sans Mono',consolas,'Courier New',monospace\"><span style=\"font-weight: bold; text-decoration: underline\">C67405 </span><span style=\"color: #008000; text-decoration-color: #008000; font-weight: bold; text-decoration: underline\">\"LDGQOFRTSKTMJZ-UHFFFAOYSA-N\"</span>\n",
       "</pre>\n"
      ],
      "text/plain": [
       "\u001b[1;4mC67405 \u001b[0m\u001b[1;4;32m\"LDGQOFRTSKTMJZ-UHFFFAOYSA-N\"\u001b[0m\n"
      ]
     },
     "metadata": {},
     "output_type": "display_data"
    },
    {
     "data": {
      "text/html": [
       "<pre style=\"white-space:pre;overflow-x:auto;line-height:normal;font-family:Menlo,'DejaVu Sans Mono',consolas,'Courier New',monospace\"><span style=\"font-weight: bold; text-decoration: underline\">C70846 </span><span style=\"color: #008000; text-decoration-color: #008000; font-weight: bold; text-decoration: underline\">\"GVRKHTUJCMPVHG-UHFFFAOYSA-N\"</span>\n",
       "</pre>\n"
      ],
      "text/plain": [
       "\u001b[1;4mC70846 \u001b[0m\u001b[1;4;32m\"GVRKHTUJCMPVHG-UHFFFAOYSA-N\"\u001b[0m\n"
      ]
     },
     "metadata": {},
     "output_type": "display_data"
    },
    {
     "data": {
      "text/html": [
       "<pre style=\"white-space:pre;overflow-x:auto;line-height:normal;font-family:Menlo,'DejaVu Sans Mono',consolas,'Courier New',monospace\"><span style=\"font-weight: bold; text-decoration: underline\">C70847 </span><span style=\"color: #008000; text-decoration-color: #008000; font-weight: bold; text-decoration: underline\">\"MHXHADQYEYVGAE-UHFFFAOYSA-N\"</span>\n",
       "</pre>\n"
      ],
      "text/plain": [
       "\u001b[1;4mC70847 \u001b[0m\u001b[1;4;32m\"MHXHADQYEYVGAE-UHFFFAOYSA-N\"\u001b[0m\n"
      ]
     },
     "metadata": {},
     "output_type": "display_data"
    },
    {
     "data": {
      "text/html": [
       "<pre style=\"white-space:pre;overflow-x:auto;line-height:normal;font-family:Menlo,'DejaVu Sans Mono',consolas,'Courier New',monospace\"><span style=\"font-weight: bold; text-decoration: underline\">C70848 </span><span style=\"color: #008000; text-decoration-color: #008000; font-weight: bold; text-decoration: underline\">\"VPANUXUQHFAFIG-UHFFFAOYSA-N\"</span>\n",
       "</pre>\n"
      ],
      "text/plain": [
       "\u001b[1;4mC70848 \u001b[0m\u001b[1;4;32m\"VPANUXUQHFAFIG-UHFFFAOYSA-N\"\u001b[0m\n"
      ]
     },
     "metadata": {},
     "output_type": "display_data"
    },
    {
     "data": {
      "text/html": [
       "<pre style=\"white-space:pre;overflow-x:auto;line-height:normal;font-family:Menlo,'DejaVu Sans Mono',consolas,'Courier New',monospace\"><span style=\"font-weight: bold; text-decoration: underline\">C70849 </span><span style=\"color: #008000; text-decoration-color: #008000; font-weight: bold; text-decoration: underline\">\"NDHFOOHNITZZCJ-UHFFFAOYSA-N\"</span>\n",
       "</pre>\n"
      ],
      "text/plain": [
       "\u001b[1;4mC70849 \u001b[0m\u001b[1;4;32m\"NDHFOOHNITZZCJ-UHFFFAOYSA-N\"\u001b[0m\n"
      ]
     },
     "metadata": {},
     "output_type": "display_data"
    },
    {
     "data": {
      "text/html": [
       "<pre style=\"white-space:pre;overflow-x:auto;line-height:normal;font-family:Menlo,'DejaVu Sans Mono',consolas,'Courier New',monospace\"><span style=\"font-weight: bold; text-decoration: underline\">C70850 </span><span style=\"color: #008000; text-decoration-color: #008000; font-weight: bold; text-decoration: underline\">\"HUGVFGFUZZBDDT-UHFFFAOYSA-N\"</span>\n",
       "</pre>\n"
      ],
      "text/plain": [
       "\u001b[1;4mC70850 \u001b[0m\u001b[1;4;32m\"HUGVFGFUZZBDDT-UHFFFAOYSA-N\"\u001b[0m\n"
      ]
     },
     "metadata": {},
     "output_type": "display_data"
    },
    {
     "data": {
      "text/html": [
       "<pre style=\"white-space:pre;overflow-x:auto;line-height:normal;font-family:Menlo,'DejaVu Sans Mono',consolas,'Courier New',monospace\"><span style=\"font-weight: bold; text-decoration: underline\">C70851 </span><span style=\"color: #008000; text-decoration-color: #008000; font-weight: bold; text-decoration: underline\">\"ZDJUSOYPHFVLFG-UHFFFAOYSA-N\"</span>\n",
       "</pre>\n"
      ],
      "text/plain": [
       "\u001b[1;4mC70851 \u001b[0m\u001b[1;4;32m\"ZDJUSOYPHFVLFG-UHFFFAOYSA-N\"\u001b[0m\n"
      ]
     },
     "metadata": {},
     "output_type": "display_data"
    },
    {
     "data": {
      "text/html": [
       "<pre style=\"white-space:pre;overflow-x:auto;line-height:normal;font-family:Menlo,'DejaVu Sans Mono',consolas,'Courier New',monospace\"><span style=\"font-weight: bold; text-decoration: underline\">C70852 </span><span style=\"color: #008000; text-decoration-color: #008000; font-weight: bold; text-decoration: underline\">\"PEZOLUQDSDIANP-UHFFFAOYSA-N\"</span>\n",
       "</pre>\n"
      ],
      "text/plain": [
       "\u001b[1;4mC70852 \u001b[0m\u001b[1;4;32m\"PEZOLUQDSDIANP-UHFFFAOYSA-N\"\u001b[0m\n"
      ]
     },
     "metadata": {},
     "output_type": "display_data"
    },
    {
     "data": {
      "text/html": [
       "<pre style=\"white-space:pre;overflow-x:auto;line-height:normal;font-family:Menlo,'DejaVu Sans Mono',consolas,'Courier New',monospace\"><span style=\"font-weight: bold; text-decoration: underline\">C70853 </span><span style=\"color: #008000; text-decoration-color: #008000; font-weight: bold; text-decoration: underline\">\"XASYXTOBSOUVCH-UHFFFAOYSA-N\"</span>\n",
       "</pre>\n"
      ],
      "text/plain": [
       "\u001b[1;4mC70853 \u001b[0m\u001b[1;4;32m\"XASYXTOBSOUVCH-UHFFFAOYSA-N\"\u001b[0m\n"
      ]
     },
     "metadata": {},
     "output_type": "display_data"
    },
    {
     "data": {
      "text/html": [
       "<pre style=\"white-space:pre;overflow-x:auto;line-height:normal;font-family:Menlo,'DejaVu Sans Mono',consolas,'Courier New',monospace\"><span style=\"font-weight: bold; text-decoration: underline\">C70854 </span><span style=\"color: #008000; text-decoration-color: #008000; font-weight: bold; text-decoration: underline\">\"UTNILEDWANLVHY-UHFFFAOYSA-N\"</span>\n",
       "</pre>\n"
      ],
      "text/plain": [
       "\u001b[1;4mC70854 \u001b[0m\u001b[1;4;32m\"UTNILEDWANLVHY-UHFFFAOYSA-N\"\u001b[0m\n"
      ]
     },
     "metadata": {},
     "output_type": "display_data"
    },
    {
     "data": {
      "text/html": [
       "<pre style=\"white-space:pre;overflow-x:auto;line-height:normal;font-family:Menlo,'DejaVu Sans Mono',consolas,'Courier New',monospace\"><span style=\"font-weight: bold; text-decoration: underline\">C70855 </span><span style=\"color: #008000; text-decoration-color: #008000; font-weight: bold; text-decoration: underline\">\"YDEXXMSLPMPAKC-UHFFFAOYSA-N\"</span>\n",
       "</pre>\n"
      ],
      "text/plain": [
       "\u001b[1;4mC70855 \u001b[0m\u001b[1;4;32m\"YDEXXMSLPMPAKC-UHFFFAOYSA-N\"\u001b[0m\n"
      ]
     },
     "metadata": {},
     "output_type": "display_data"
    },
    {
     "data": {
      "text/html": [
       "<pre style=\"white-space:pre;overflow-x:auto;line-height:normal;font-family:Menlo,'DejaVu Sans Mono',consolas,'Courier New',monospace\"><span style=\"color: #800000; text-decoration-color: #800000\">╭─────────────────────────────── </span><span style=\"color: #800000; text-decoration-color: #800000; font-weight: bold\">Traceback </span><span style=\"color: #bf7f7f; text-decoration-color: #bf7f7f; font-weight: bold\">(most recent call last)</span><span style=\"color: #800000; text-decoration-color: #800000\"> ────────────────────────────────╮</span>\n",
       "<span style=\"color: #800000; text-decoration-color: #800000\">│</span> in <span style=\"color: #00ff00; text-decoration-color: #00ff00\">&lt;module&gt;</span>:<span style=\"color: #0000ff; text-decoration-color: #0000ff\">6</span>                                                                                    <span style=\"color: #800000; text-decoration-color: #800000\">│</span>\n",
       "<span style=\"color: #800000; text-decoration-color: #800000\">│</span>                                                                                                  <span style=\"color: #800000; text-decoration-color: #800000\">│</span>\n",
       "<span style=\"color: #800000; text-decoration-color: #800000\">│</span>   <span style=\"color: #7f7f7f; text-decoration-color: #7f7f7f\"> 3 </span><span style=\"color: #7f7f7f; text-decoration-color: #7f7f7f\">│   </span>smiles = row.values[<span style=\"color: #0000ff; text-decoration-color: #0000ff\">0</span>]                                                                  <span style=\"color: #800000; text-decoration-color: #800000\">│</span>\n",
       "<span style=\"color: #800000; text-decoration-color: #800000\">│</span>   <span style=\"color: #7f7f7f; text-decoration-color: #7f7f7f\"> 4 </span><span style=\"color: #7f7f7f; text-decoration-color: #7f7f7f\">│   </span><span style=\"color: #7f7f7f; text-decoration-color: #7f7f7f\"># inspirations = row.values[2].split(\", \")</span>                                              <span style=\"color: #800000; text-decoration-color: #800000\">│</span>\n",
       "<span style=\"color: #800000; text-decoration-color: #800000\">│</span>   <span style=\"color: #7f7f7f; text-decoration-color: #7f7f7f\"> 5 </span><span style=\"color: #7f7f7f; text-decoration-color: #7f7f7f\">│   </span><span style=\"color: #7f7f7f; text-decoration-color: #7f7f7f\"># print(name, smiles)</span>                                                                   <span style=\"color: #800000; text-decoration-color: #800000\">│</span>\n",
       "<span style=\"color: #800000; text-decoration-color: #800000\">│</span> <span style=\"color: #800000; text-decoration-color: #800000\">❱ </span> 6 <span style=\"color: #7f7f7f; text-decoration-color: #7f7f7f\">│   </span>c = animal.register_compound(smiles=smiles, tags=[<span style=\"color: #808000; text-decoration-color: #808000\">\"DF\"</span>, <span style=\"color: #808000; text-decoration-color: #808000\">\"SeeSAR\"</span>], alias=name)          <span style=\"color: #800000; text-decoration-color: #800000\">│</span>\n",
       "<span style=\"color: #800000; text-decoration-color: #800000\">│</span>   <span style=\"color: #7f7f7f; text-decoration-color: #7f7f7f\"> 7 </span><span style=\"color: #7f7f7f; text-decoration-color: #7f7f7f\">│   </span><span style=\"color: #00ffff; text-decoration-color: #00ffff\">print</span>(c)                                                                                <span style=\"color: #800000; text-decoration-color: #800000\">│</span>\n",
       "<span style=\"color: #800000; text-decoration-color: #800000\">│</span>   <span style=\"color: #7f7f7f; text-decoration-color: #7f7f7f\"> 8 </span><span style=\"color: #7f7f7f; text-decoration-color: #7f7f7f\">│   </span><span style=\"color: #7f7f7f; text-decoration-color: #7f7f7f\"># d = dict(smiles=smiles)</span>                                                               <span style=\"color: #800000; text-decoration-color: #800000\">│</span>\n",
       "<span style=\"color: #800000; text-decoration-color: #800000\">│</span>   <span style=\"color: #7f7f7f; text-decoration-color: #7f7f7f\"> 9 </span><span style=\"color: #7f7f7f; text-decoration-color: #7f7f7f\">│   </span><span style=\"color: #7f7f7f; text-decoration-color: #7f7f7f\"># for i,inspiration in enumerate(inspirations):</span>                                         <span style=\"color: #800000; text-decoration-color: #800000\">│</span>\n",
       "<span style=\"color: #800000; text-decoration-color: #800000\">│</span>                                                                                                  <span style=\"color: #800000; text-decoration-color: #800000\">│</span>\n",
       "<span style=\"color: #800000; text-decoration-color: #800000\">│</span> <span style=\"color: #808000; text-decoration-color: #808000\">╭─────────────────────────────────────────── locals ───────────────────────────────────────────╮</span> <span style=\"color: #800000; text-decoration-color: #800000\">│</span>\n",
       "<span style=\"color: #800000; text-decoration-color: #800000\">│</span> <span style=\"color: #808000; text-decoration-color: #808000\">│</span>      animal = <span style=\"color: #800080; text-decoration-color: #800080; font-weight: bold; text-decoration: underline\">HIPPO</span><span style=\"font-weight: bold; text-decoration: underline\">(</span><span style=\"color: #808000; text-decoration-color: #808000; font-weight: bold; text-decoration: underline\">\"RdRp_FFF\"</span><span style=\"font-weight: bold; text-decoration: underline\">)</span>                                                              <span style=\"color: #808000; text-decoration-color: #808000\">│</span> <span style=\"color: #800000; text-decoration-color: #800000\">│</span>\n",
       "<span style=\"color: #800000; text-decoration-color: #800000\">│</span> <span style=\"color: #808000; text-decoration-color: #808000\">│</span>           c = <span style=\"font-weight: bold; text-decoration: underline\">C70855 </span><span style=\"color: #808000; text-decoration-color: #808000; font-weight: bold; text-decoration: underline\">\"YDEXXMSLPMPAKC-UHFFFAOYSA-N\"</span>                                           <span style=\"color: #808000; text-decoration-color: #808000\">│</span> <span style=\"color: #800000; text-decoration-color: #800000\">│</span>\n",
       "<span style=\"color: #800000; text-decoration-color: #800000\">│</span> <span style=\"color: #808000; text-decoration-color: #808000\">│</span>        data = <span style=\"font-weight: bold\">[]</span>                                                                             <span style=\"color: #808000; text-decoration-color: #808000\">│</span> <span style=\"color: #800000; text-decoration-color: #800000\">│</span>\n",
       "<span style=\"color: #800000; text-decoration-color: #800000\">│</span> <span style=\"color: #808000; text-decoration-color: #808000\">│</span>          df = <span style=\"color: #7f7f7f; text-decoration-color: #7f7f7f\">│   │   │   │   │   │   │   │   │   │   │   │   </span>smiles           name  \\       <span style=\"color: #808000; text-decoration-color: #808000\">│</span> <span style=\"color: #800000; text-decoration-color: #800000\">│</span>\n",
       "<span style=\"color: #800000; text-decoration-color: #800000\">│</span> <span style=\"color: #808000; text-decoration-color: #808000\">│</span>               <span style=\"color: #0000ff; text-decoration-color: #0000ff\">0</span>                           Nc1cccnc1-<span style=\"font-weight: bold\">[</span>n<span style=\"font-weight: bold\">](</span>cc1<span style=\"font-weight: bold\">)</span>cc1C#CCO  DF-RdRp-NP001          <span style=\"color: #808000; text-decoration-color: #808000\">│</span> <span style=\"color: #800000; text-decoration-color: #800000\">│</span>\n",
       "<span style=\"color: #800000; text-decoration-color: #800000\">│</span> <span style=\"color: #808000; text-decoration-color: #808000\">│</span>               <span style=\"color: #0000ff; text-decoration-color: #0000ff\">1</span>                        <span style=\"color: #800080; text-decoration-color: #800080; font-weight: bold\">COc1c</span><span style=\"font-weight: bold\">(</span>-<span style=\"font-weight: bold\">[</span>n<span style=\"font-weight: bold\">](</span>cc2<span style=\"font-weight: bold\">)</span>cc2C#CCO<span style=\"font-weight: bold\">)</span>nccc1  DF-RdRp-NP002          <span style=\"color: #808000; text-decoration-color: #808000\">│</span> <span style=\"color: #800000; text-decoration-color: #800000\">│</span>\n",
       "<span style=\"color: #800000; text-decoration-color: #800000\">│</span> <span style=\"color: #808000; text-decoration-color: #808000\">│</span>               <span style=\"color: #0000ff; text-decoration-color: #0000ff\">2</span>                          CNc1cccnc1-<span style=\"font-weight: bold\">[</span>n<span style=\"font-weight: bold\">](</span>cc1<span style=\"font-weight: bold\">)</span>cc1C#CCO  DF-RdRp-NP003          <span style=\"color: #808000; text-decoration-color: #808000\">│</span> <span style=\"color: #800000; text-decoration-color: #800000\">│</span>\n",
       "<span style=\"color: #800000; text-decoration-color: #800000\">│</span> <span style=\"color: #808000; text-decoration-color: #808000\">│</span>               <span style=\"color: #0000ff; text-decoration-color: #0000ff\">3</span>    <span style=\"color: #800080; text-decoration-color: #800080; font-weight: bold\">COc1c</span><span style=\"font-weight: bold\">(</span>-<span style=\"font-weight: bold\">[</span>n<span style=\"font-weight: bold\">](</span>cc2<span style=\"font-weight: bold\">)</span>cc2C#CCO<span style=\"font-weight: bold\">)</span><span style=\"color: #800080; text-decoration-color: #800080; font-weight: bold\">nc</span><span style=\"font-weight: bold\">(</span><span style=\"color: #800080; text-decoration-color: #800080; font-weight: bold\">CC</span><span style=\"font-weight: bold\">([</span>O-<span style=\"font-weight: bold\">])</span>=O<span style=\"font-weight: bold\">)</span><span style=\"color: #800080; text-decoration-color: #800080; font-weight: bold\">cc1CC</span><span style=\"font-weight: bold\">([</span>O<span style=\"color: #808000; text-decoration-color: #808000\">...</span>  DF-RdRp-NP004          <span style=\"color: #808000; text-decoration-color: #808000\">│</span> <span style=\"color: #800000; text-decoration-color: #800000\">│</span>\n",
       "<span style=\"color: #800000; text-decoration-color: #800000\">│</span> <span style=\"color: #808000; text-decoration-color: #808000\">│</span>               <span style=\"color: #0000ff; text-decoration-color: #0000ff\">4</span>      <span style=\"color: #800080; text-decoration-color: #800080; font-weight: bold\">COc</span><span style=\"font-weight: bold\">(</span>cc1<span style=\"font-weight: bold\">)</span><span style=\"color: #800080; text-decoration-color: #800080; font-weight: bold\">c</span><span style=\"font-weight: bold\">(</span>-<span style=\"font-weight: bold\">[</span>n<span style=\"font-weight: bold\">](</span>cc2<span style=\"font-weight: bold\">)</span>cc2C#CCO<span style=\"font-weight: bold\">)</span><span style=\"color: #800080; text-decoration-color: #800080; font-weight: bold\">nc1C</span><span style=\"font-weight: bold\">(</span><span style=\"color: #800080; text-decoration-color: #800080; font-weight: bold\">NS</span><span style=\"font-weight: bold\">(</span>C<span style=\"font-weight: bold\">)(</span>=O<span style=\"font-weight: bold\">)</span>=O<span style=\"font-weight: bold\">)</span>=O  DF-RdRp-NP005          <span style=\"color: #808000; text-decoration-color: #808000\">│</span> <span style=\"color: #800000; text-decoration-color: #800000\">│</span>\n",
       "<span style=\"color: #800000; text-decoration-color: #800000\">│</span> <span style=\"color: #808000; text-decoration-color: #808000\">│</span>               ..                                                 <span style=\"color: #808000; text-decoration-color: #808000\">...</span>            <span style=\"color: #808000; text-decoration-color: #808000\">...</span>          <span style=\"color: #808000; text-decoration-color: #808000\">│</span> <span style=\"color: #800000; text-decoration-color: #800000\">│</span>\n",
       "<span style=\"color: #800000; text-decoration-color: #800000\">│</span> <span style=\"color: #808000; text-decoration-color: #808000\">│</span>               <span style=\"color: #0000ff; text-decoration-color: #0000ff\">195</span>                                                NaN            NaN          <span style=\"color: #808000; text-decoration-color: #808000\">│</span> <span style=\"color: #800000; text-decoration-color: #800000\">│</span>\n",
       "<span style=\"color: #800000; text-decoration-color: #800000\">│</span> <span style=\"color: #808000; text-decoration-color: #808000\">│</span>               <span style=\"color: #0000ff; text-decoration-color: #0000ff\">196</span>                                                NaN            NaN          <span style=\"color: #808000; text-decoration-color: #808000\">│</span> <span style=\"color: #800000; text-decoration-color: #800000\">│</span>\n",
       "<span style=\"color: #800000; text-decoration-color: #800000\">│</span> <span style=\"color: #808000; text-decoration-color: #808000\">│</span>               <span style=\"color: #0000ff; text-decoration-color: #0000ff\">197</span>                                                NaN            NaN          <span style=\"color: #808000; text-decoration-color: #808000\">│</span> <span style=\"color: #800000; text-decoration-color: #800000\">│</span>\n",
       "<span style=\"color: #800000; text-decoration-color: #800000\">│</span> <span style=\"color: #808000; text-decoration-color: #808000\">│</span>               <span style=\"color: #0000ff; text-decoration-color: #0000ff\">198</span>                                                NaN            NaN          <span style=\"color: #808000; text-decoration-color: #808000\">│</span> <span style=\"color: #800000; text-decoration-color: #800000\">│</span>\n",
       "<span style=\"color: #800000; text-decoration-color: #800000\">│</span> <span style=\"color: #808000; text-decoration-color: #808000\">│</span>               <span style=\"color: #0000ff; text-decoration-color: #0000ff\">199</span>                                                NaN            NaN          <span style=\"color: #808000; text-decoration-color: #808000\">│</span> <span style=\"color: #800000; text-decoration-color: #800000\">│</span>\n",
       "<span style=\"color: #800000; text-decoration-color: #800000\">│</span> <span style=\"color: #808000; text-decoration-color: #808000\">│</span>               <span style=\"color: #7f7f7f; text-decoration-color: #7f7f7f\">│   </span>                                                                           <span style=\"color: #808000; text-decoration-color: #808000\">│</span> <span style=\"color: #800000; text-decoration-color: #800000\">│</span>\n",
       "<span style=\"color: #800000; text-decoration-color: #800000\">│</span> <span style=\"color: #808000; text-decoration-color: #808000\">│</span>               <span style=\"color: #7f7f7f; text-decoration-color: #7f7f7f\">│   </span>inspiration_1 inspiration_2 inspiration_3 comment Unnamed: <span style=\"color: #0000ff; text-decoration-color: #0000ff\">6</span>               <span style=\"color: #808000; text-decoration-color: #808000\">│</span> <span style=\"color: #800000; text-decoration-color: #800000\">│</span>\n",
       "<span style=\"color: #800000; text-decoration-color: #800000\">│</span> <span style=\"color: #808000; text-decoration-color: #808000\">│</span>               <span style=\"color: #0000ff; text-decoration-color: #0000ff\">0</span>          d0472a        5hmz-a           NaN     NaN        NaN               <span style=\"color: #808000; text-decoration-color: #808000\">│</span> <span style=\"color: #800000; text-decoration-color: #800000\">│</span>\n",
       "<span style=\"color: #800000; text-decoration-color: #800000\">│</span> <span style=\"color: #808000; text-decoration-color: #808000\">│</span>               <span style=\"color: #0000ff; text-decoration-color: #0000ff\">1</span>          d0472a        5hmz-a           NaN     NaN        NaN               <span style=\"color: #808000; text-decoration-color: #808000\">│</span> <span style=\"color: #800000; text-decoration-color: #800000\">│</span>\n",
       "<span style=\"color: #800000; text-decoration-color: #800000\">│</span> <span style=\"color: #808000; text-decoration-color: #808000\">│</span>               <span style=\"color: #0000ff; text-decoration-color: #0000ff\">2</span>          d0472a        5hmz-a           NaN     NaN        NaN               <span style=\"color: #808000; text-decoration-color: #808000\">│</span> <span style=\"color: #800000; text-decoration-color: #800000\">│</span>\n",
       "<span style=\"color: #800000; text-decoration-color: #800000\">│</span> <span style=\"color: #808000; text-decoration-color: #808000\">│</span>               <span style=\"color: #0000ff; text-decoration-color: #0000ff\">3</span>          d0472a        5hmy-a           NaN     NaN        NaN               <span style=\"color: #808000; text-decoration-color: #808000\">│</span> <span style=\"color: #800000; text-decoration-color: #800000\">│</span>\n",
       "<span style=\"color: #800000; text-decoration-color: #800000\">│</span> <span style=\"color: #808000; text-decoration-color: #808000\">│</span>               <span style=\"color: #0000ff; text-decoration-color: #0000ff\">4</span>          d0472a        5hmz-a           NaN     NaN        NaN               <span style=\"color: #808000; text-decoration-color: #808000\">│</span> <span style=\"color: #800000; text-decoration-color: #800000\">│</span>\n",
       "<span style=\"color: #800000; text-decoration-color: #800000\">│</span> <span style=\"color: #808000; text-decoration-color: #808000\">│</span>               ..            <span style=\"color: #808000; text-decoration-color: #808000\">...</span>           <span style=\"color: #808000; text-decoration-color: #808000\">...</span>           <span style=\"color: #808000; text-decoration-color: #808000\">...</span>     <span style=\"color: #808000; text-decoration-color: #808000\">...</span>        <span style=\"color: #808000; text-decoration-color: #808000\">...</span>               <span style=\"color: #808000; text-decoration-color: #808000\">│</span> <span style=\"color: #800000; text-decoration-color: #800000\">│</span>\n",
       "<span style=\"color: #800000; text-decoration-color: #800000\">│</span> <span style=\"color: #808000; text-decoration-color: #808000\">│</span>               <span style=\"color: #0000ff; text-decoration-color: #0000ff\">195</span>           NaN           NaN           NaN     NaN        NaN               <span style=\"color: #808000; text-decoration-color: #808000\">│</span> <span style=\"color: #800000; text-decoration-color: #800000\">│</span>\n",
       "<span style=\"color: #800000; text-decoration-color: #800000\">│</span> <span style=\"color: #808000; text-decoration-color: #808000\">│</span>               <span style=\"color: #0000ff; text-decoration-color: #0000ff\">196</span>           NaN           NaN           NaN     NaN        NaN               <span style=\"color: #808000; text-decoration-color: #808000\">│</span> <span style=\"color: #800000; text-decoration-color: #800000\">│</span>\n",
       "<span style=\"color: #800000; text-decoration-color: #800000\">│</span> <span style=\"color: #808000; text-decoration-color: #808000\">│</span>               <span style=\"color: #0000ff; text-decoration-color: #0000ff\">197</span>           NaN           NaN           NaN     NaN        NaN               <span style=\"color: #808000; text-decoration-color: #808000\">│</span> <span style=\"color: #800000; text-decoration-color: #800000\">│</span>\n",
       "<span style=\"color: #800000; text-decoration-color: #800000\">│</span> <span style=\"color: #808000; text-decoration-color: #808000\">│</span>               <span style=\"color: #0000ff; text-decoration-color: #0000ff\">198</span>           NaN           NaN           NaN     NaN        NaN               <span style=\"color: #808000; text-decoration-color: #808000\">│</span> <span style=\"color: #800000; text-decoration-color: #800000\">│</span>\n",
       "<span style=\"color: #800000; text-decoration-color: #800000\">│</span> <span style=\"color: #808000; text-decoration-color: #808000\">│</span>               <span style=\"color: #0000ff; text-decoration-color: #0000ff\">199</span>           NaN           NaN           NaN     NaN     5k5m-a               <span style=\"color: #808000; text-decoration-color: #808000\">│</span> <span style=\"color: #800000; text-decoration-color: #800000\">│</span>\n",
       "<span style=\"color: #800000; text-decoration-color: #800000\">│</span> <span style=\"color: #808000; text-decoration-color: #808000\">│</span>                                                                                              <span style=\"color: #808000; text-decoration-color: #808000\">│</span> <span style=\"color: #800000; text-decoration-color: #800000\">│</span>\n",
       "<span style=\"color: #800000; text-decoration-color: #800000\">│</span> <span style=\"color: #808000; text-decoration-color: #808000\">│</span>               <span style=\"font-weight: bold\">[</span><span style=\"color: #0000ff; text-decoration-color: #0000ff\">200</span> rows x <span style=\"color: #0000ff; text-decoration-color: #0000ff\">7</span> columns<span style=\"font-weight: bold\">]</span>                                                         <span style=\"color: #808000; text-decoration-color: #808000\">│</span> <span style=\"color: #800000; text-decoration-color: #800000\">│</span>\n",
       "<span style=\"color: #800000; text-decoration-color: #800000\">│</span> <span style=\"color: #808000; text-decoration-color: #808000\">│</span>        exit = <span style=\"font-weight: bold\">&lt;</span><span style=\"color: #ff00ff; text-decoration-color: #ff00ff; font-weight: bold\">IPython.core.autocall.ZMQExitAutocall</span><span style=\"color: #000000; text-decoration-color: #000000\"> object at </span><span style=\"color: #0000ff; text-decoration-color: #0000ff\">0x7f93aa3e7490</span><span style=\"font-weight: bold\">&gt;</span>               <span style=\"color: #808000; text-decoration-color: #808000\">│</span> <span style=\"color: #800000; text-decoration-color: #800000\">│</span>\n",
       "<span style=\"color: #800000; text-decoration-color: #800000\">│</span> <span style=\"color: #808000; text-decoration-color: #808000\">│</span> get_ipython = <span style=\"font-weight: bold\">&lt;</span><span style=\"color: #ff00ff; text-decoration-color: #ff00ff; font-weight: bold\">bound</span><span style=\"color: #000000; text-decoration-color: #000000\"> method InteractiveShell.get_ipython of </span>                                 <span style=\"color: #808000; text-decoration-color: #808000\">│</span> <span style=\"color: #800000; text-decoration-color: #800000\">│</span>\n",
       "<span style=\"color: #800000; text-decoration-color: #800000\">│</span> <span style=\"color: #808000; text-decoration-color: #808000\">│</span>               <span style=\"color: #000000; text-decoration-color: #000000\">&lt;ipykernel.zmqshell.ZMQInteractiveShell object at </span><span style=\"color: #0000ff; text-decoration-color: #0000ff\">0x7f93aa3c7290</span><span style=\"color: #000000; text-decoration-color: #000000\">&gt;</span><span style=\"font-weight: bold\">&gt;</span>             <span style=\"color: #808000; text-decoration-color: #808000\">│</span> <span style=\"color: #800000; text-decoration-color: #800000\">│</span>\n",
       "<span style=\"color: #800000; text-decoration-color: #800000\">│</span> <span style=\"color: #808000; text-decoration-color: #808000\">│</span>       hippo = <span style=\"font-weight: bold\">&lt;</span><span style=\"color: #ff00ff; text-decoration-color: #ff00ff; font-weight: bold\">module</span><span style=\"color: #000000; text-decoration-color: #000000\"> </span><span style=\"color: #808000; text-decoration-color: #808000\">'hippo'</span><span style=\"color: #000000; text-decoration-color: #000000\"> from </span><span style=\"color: #808000; text-decoration-color: #808000\">'/opt/xchem-fragalysis-2/maxwin/HIPPO/hippo/__init__.py'</span><span style=\"font-weight: bold\">&gt;</span> <span style=\"color: #808000; text-decoration-color: #808000\">│</span> <span style=\"color: #800000; text-decoration-color: #800000\">│</span>\n",
       "<span style=\"color: #800000; text-decoration-color: #800000\">│</span> <span style=\"color: #808000; text-decoration-color: #808000\">│</span>           i = <span style=\"color: #0000ff; text-decoration-color: #0000ff\">50</span>                                                                             <span style=\"color: #808000; text-decoration-color: #808000\">│</span> <span style=\"color: #800000; text-decoration-color: #800000\">│</span>\n",
       "<span style=\"color: #800000; text-decoration-color: #800000\">│</span> <span style=\"color: #808000; text-decoration-color: #808000\">│</span>          In = <span style=\"font-weight: bold\">[</span>                                                                              <span style=\"color: #808000; text-decoration-color: #808000\">│</span> <span style=\"color: #800000; text-decoration-color: #800000\">│</span>\n",
       "<span style=\"color: #800000; text-decoration-color: #800000\">│</span> <span style=\"color: #808000; text-decoration-color: #808000\">│</span>               <span style=\"color: #7f7f7f; text-decoration-color: #7f7f7f\">│   </span><span style=\"color: #808000; text-decoration-color: #808000\">''</span>,                                                                        <span style=\"color: #808000; text-decoration-color: #808000\">│</span> <span style=\"color: #800000; text-decoration-color: #800000\">│</span>\n",
       "<span style=\"color: #800000; text-decoration-color: #800000\">│</span> <span style=\"color: #808000; text-decoration-color: #808000\">│</span>               <span style=\"color: #7f7f7f; text-decoration-color: #7f7f7f\">│   </span><span style=\"color: #808000; text-decoration-color: #808000\">'data = </span><span style=\"color: #808000; text-decoration-color: #808000; font-weight: bold\">[]</span><span style=\"color: #808000; text-decoration-color: #808000\">\\n# df = pd.read_excel</span><span style=\"color: #808000; text-decoration-color: #808000; font-weight: bold\">(</span><span style=\"color: #808000; text-decoration-color: #808000\">\"../seesar/Primergrip_JA_SeeSar.xlsx\"</span><span style=\"color: #808000; text-decoration-color: #808000; font-weight: bold\">)</span><span style=\"color: #808000; text-decoration-color: #808000\">\\n#</span> <span style=\"color: #808000; text-decoration-color: #808000\">│</span> <span style=\"color: #800000; text-decoration-color: #800000\">│</span>\n",
       "<span style=\"color: #800000; text-decoration-color: #800000\">│</span> <span style=\"color: #808000; text-decoration-color: #808000\">│</span>               <span style=\"color: #808000; text-decoration-color: #808000\">df = pd.'</span>+<span style=\"color: #0000ff; text-decoration-color: #0000ff\">239</span>,                                                                 <span style=\"color: #808000; text-decoration-color: #808000\">│</span> <span style=\"color: #800000; text-decoration-color: #800000\">│</span>\n",
       "<span style=\"color: #800000; text-decoration-color: #800000\">│</span> <span style=\"color: #808000; text-decoration-color: #808000\">│</span>               <span style=\"color: #7f7f7f; text-decoration-color: #7f7f7f\">│   </span><span style=\"color: #808000; text-decoration-color: #808000\">\"get_ipython</span><span style=\"color: #808000; text-decoration-color: #808000; font-weight: bold\">()</span><span style=\"color: #808000; text-decoration-color: #808000\">.run_line_magic</span><span style=\"color: #808000; text-decoration-color: #808000; font-weight: bold\">(</span><span style=\"color: #808000; text-decoration-color: #808000\">'load_ext', </span>                                 <span style=\"color: #808000; text-decoration-color: #808000\">│</span> <span style=\"color: #800000; text-decoration-color: #800000\">│</span>\n",
       "<span style=\"color: #800000; text-decoration-color: #800000\">│</span> <span style=\"color: #808000; text-decoration-color: #808000\">│</span>               <span style=\"color: #808000; text-decoration-color: #808000\">'autoreload'</span><span style=\"color: #808000; text-decoration-color: #808000; font-weight: bold\">)</span><span style=\"color: #808000; text-decoration-color: #808000\">\\nget_ipython</span><span style=\"color: #808000; text-decoration-color: #808000; font-weight: bold\">()</span><span style=\"color: #808000; text-decoration-color: #808000\">.run_line_ma\"</span>+<span style=\"color: #0000ff; text-decoration-color: #0000ff\">103</span>,                                 <span style=\"color: #808000; text-decoration-color: #808000\">│</span> <span style=\"color: #800000; text-decoration-color: #800000\">│</span>\n",
       "<span style=\"color: #800000; text-decoration-color: #800000\">│</span> <span style=\"color: #808000; text-decoration-color: #808000\">│</span>               <span style=\"color: #7f7f7f; text-decoration-color: #7f7f7f\">│   </span><span style=\"color: #808000; text-decoration-color: #808000\">'animal = hippo.HIPPO</span><span style=\"color: #808000; text-decoration-color: #808000; font-weight: bold\">(</span><span style=\"color: #808000; text-decoration-color: #808000\">\"RdRp_FFF\", </span>                                         <span style=\"color: #808000; text-decoration-color: #808000\">│</span> <span style=\"color: #800000; text-decoration-color: #800000\">│</span>\n",
       "<span style=\"color: #800000; text-decoration-color: #800000\">│</span> <span style=\"color: #808000; text-decoration-color: #808000\">│</span>               <span style=\"color: #808000; text-decoration-color: #808000\">\"../../BulkDock/TARGETS/Flavi_NS5_RdRp/Flavi_NS'</span>+<span style=\"color: #0000ff; text-decoration-color: #0000ff\">15</span>,                           <span style=\"color: #808000; text-decoration-color: #808000\">│</span> <span style=\"color: #800000; text-decoration-color: #800000\">│</span>\n",
       "<span style=\"color: #800000; text-decoration-color: #800000\">│</span> <span style=\"color: #808000; text-decoration-color: #808000\">│</span>               <span style=\"color: #7f7f7f; text-decoration-color: #7f7f7f\">│   </span><span style=\"color: #808000; text-decoration-color: #808000\">'data = </span><span style=\"color: #808000; text-decoration-color: #808000; font-weight: bold\">[]</span><span style=\"color: #808000; text-decoration-color: #808000\">\\n# df = pd.read_excel</span><span style=\"color: #808000; text-decoration-color: #808000; font-weight: bold\">(</span><span style=\"color: #808000; text-decoration-color: #808000\">\"../seesar/Primergrip_JA_SeeSar.xlsx\"</span><span style=\"color: #808000; text-decoration-color: #808000; font-weight: bold\">)</span><span style=\"color: #808000; text-decoration-color: #808000\">\\n#</span> <span style=\"color: #808000; text-decoration-color: #808000\">│</span> <span style=\"color: #800000; text-decoration-color: #800000\">│</span>\n",
       "<span style=\"color: #800000; text-decoration-color: #800000\">│</span> <span style=\"color: #808000; text-decoration-color: #808000\">│</span>               <span style=\"color: #808000; text-decoration-color: #808000\">df = pd.'</span>+<span style=\"color: #0000ff; text-decoration-color: #0000ff\">239</span>,                                                                 <span style=\"color: #808000; text-decoration-color: #808000\">│</span> <span style=\"color: #800000; text-decoration-color: #800000\">│</span>\n",
       "<span style=\"color: #800000; text-decoration-color: #800000\">│</span> <span style=\"color: #808000; text-decoration-color: #808000\">│</span>               <span style=\"color: #7f7f7f; text-decoration-color: #7f7f7f\">│   </span><span style=\"color: #808000; text-decoration-color: #808000\">'animal = hippo.HIPPO</span><span style=\"color: #808000; text-decoration-color: #808000; font-weight: bold\">(</span><span style=\"color: #808000; text-decoration-color: #808000\">\"RdRp_FFF\", </span>                                         <span style=\"color: #808000; text-decoration-color: #808000\">│</span> <span style=\"color: #800000; text-decoration-color: #800000\">│</span>\n",
       "<span style=\"color: #800000; text-decoration-color: #800000\">│</span> <span style=\"color: #808000; text-decoration-color: #808000\">│</span>               <span style=\"color: #808000; text-decoration-color: #808000\">\"../../BulkDock/TARGETS/Flavi_NS5_RdRp/Flavi_NS'</span>+<span style=\"color: #0000ff; text-decoration-color: #0000ff\">34</span>,                           <span style=\"color: #808000; text-decoration-color: #808000\">│</span> <span style=\"color: #800000; text-decoration-color: #800000\">│</span>\n",
       "<span style=\"color: #800000; text-decoration-color: #800000\">│</span> <span style=\"color: #808000; text-decoration-color: #808000\">│</span>               <span style=\"color: #7f7f7f; text-decoration-color: #7f7f7f\">│   </span><span style=\"color: #808000; text-decoration-color: #808000\">'data = </span><span style=\"color: #808000; text-decoration-color: #808000; font-weight: bold\">[]</span><span style=\"color: #808000; text-decoration-color: #808000\">\\n# df = pd.read_excel</span><span style=\"color: #808000; text-decoration-color: #808000; font-weight: bold\">(</span><span style=\"color: #808000; text-decoration-color: #808000\">\"../seesar/Primergrip_JA_SeeSar.xlsx\"</span><span style=\"color: #808000; text-decoration-color: #808000; font-weight: bold\">)</span><span style=\"color: #808000; text-decoration-color: #808000\">\\n#</span> <span style=\"color: #808000; text-decoration-color: #808000\">│</span> <span style=\"color: #800000; text-decoration-color: #800000\">│</span>\n",
       "<span style=\"color: #800000; text-decoration-color: #800000\">│</span> <span style=\"color: #808000; text-decoration-color: #808000\">│</span>               <span style=\"color: #808000; text-decoration-color: #808000\">df = pd.'</span>+<span style=\"color: #0000ff; text-decoration-color: #0000ff\">239</span>,                                                                 <span style=\"color: #808000; text-decoration-color: #808000\">│</span> <span style=\"color: #800000; text-decoration-color: #800000\">│</span>\n",
       "<span style=\"color: #800000; text-decoration-color: #800000\">│</span> <span style=\"color: #808000; text-decoration-color: #808000\">│</span>               <span style=\"color: #7f7f7f; text-decoration-color: #7f7f7f\">│   </span><span style=\"color: #808000; text-decoration-color: #808000\">'data = </span><span style=\"color: #808000; text-decoration-color: #808000; font-weight: bold\">[]</span><span style=\"color: #808000; text-decoration-color: #808000\">\\n# df = pd.read_excel</span><span style=\"color: #808000; text-decoration-color: #808000; font-weight: bold\">(</span><span style=\"color: #808000; text-decoration-color: #808000\">\"../seesar/Primergrip_JA_SeeSar.xlsx\"</span><span style=\"color: #808000; text-decoration-color: #808000; font-weight: bold\">)</span><span style=\"color: #808000; text-decoration-color: #808000\">\\n#</span> <span style=\"color: #808000; text-decoration-color: #808000\">│</span> <span style=\"color: #800000; text-decoration-color: #800000\">│</span>\n",
       "<span style=\"color: #800000; text-decoration-color: #800000\">│</span> <span style=\"color: #808000; text-decoration-color: #808000\">│</span>               <span style=\"color: #808000; text-decoration-color: #808000\">df = pd.'</span>+<span style=\"color: #0000ff; text-decoration-color: #0000ff\">238</span>,                                                                 <span style=\"color: #808000; text-decoration-color: #808000\">│</span> <span style=\"color: #800000; text-decoration-color: #800000\">│</span>\n",
       "<span style=\"color: #800000; text-decoration-color: #800000\">│</span> <span style=\"color: #808000; text-decoration-color: #808000\">│</span>               <span style=\"color: #7f7f7f; text-decoration-color: #7f7f7f\">│   </span><span style=\"color: #808000; text-decoration-color: #808000\">'data = </span><span style=\"color: #808000; text-decoration-color: #808000; font-weight: bold\">[]</span><span style=\"color: #808000; text-decoration-color: #808000\">\\n# df = pd.read_excel</span><span style=\"color: #808000; text-decoration-color: #808000; font-weight: bold\">(</span><span style=\"color: #808000; text-decoration-color: #808000\">\"../seesar/Primergrip_JA_SeeSar.xlsx\"</span><span style=\"color: #808000; text-decoration-color: #808000; font-weight: bold\">)</span><span style=\"color: #808000; text-decoration-color: #808000\">\\n#</span> <span style=\"color: #808000; text-decoration-color: #808000\">│</span> <span style=\"color: #800000; text-decoration-color: #800000\">│</span>\n",
       "<span style=\"color: #800000; text-decoration-color: #800000\">│</span> <span style=\"color: #808000; text-decoration-color: #808000\">│</span>               <span style=\"color: #808000; text-decoration-color: #808000\">df = pd.'</span>+<span style=\"color: #0000ff; text-decoration-color: #0000ff\">236</span>,                                                                 <span style=\"color: #808000; text-decoration-color: #808000\">│</span> <span style=\"color: #800000; text-decoration-color: #800000\">│</span>\n",
       "<span style=\"color: #800000; text-decoration-color: #800000\">│</span> <span style=\"color: #808000; text-decoration-color: #808000\">│</span>               <span style=\"color: #7f7f7f; text-decoration-color: #7f7f7f\">│   </span><span style=\"color: #808000; text-decoration-color: #808000\">'for i,row in df.iterrows</span><span style=\"color: #808000; text-decoration-color: #808000; font-weight: bold\">()</span><span style=\"color: #808000; text-decoration-color: #808000\">:\\n    name = row.values</span><span style=\"color: #808000; text-decoration-color: #808000; font-weight: bold\">[</span><span style=\"color: #808000; text-decoration-color: #808000\">0</span><span style=\"color: #808000; text-decoration-color: #808000; font-weight: bold\">]</span><span style=\"color: #808000; text-decoration-color: #808000\">\\n    smiles = </span>      <span style=\"color: #808000; text-decoration-color: #808000\">│</span> <span style=\"color: #800000; text-decoration-color: #800000\">│</span>\n",
       "<span style=\"color: #800000; text-decoration-color: #800000\">│</span> <span style=\"color: #808000; text-decoration-color: #808000\">│</span>               <span style=\"color: #808000; text-decoration-color: #808000\">row.values</span><span style=\"color: #808000; text-decoration-color: #808000; font-weight: bold\">[</span><span style=\"color: #808000; text-decoration-color: #808000\">1</span><span style=\"color: #808000; text-decoration-color: #808000; font-weight: bold\">]</span><span style=\"color: #808000; text-decoration-color: #808000\">\\n'</span>+<span style=\"color: #0000ff; text-decoration-color: #0000ff\">324</span>,                                                          <span style=\"color: #808000; text-decoration-color: #808000\">│</span> <span style=\"color: #800000; text-decoration-color: #800000\">│</span>\n",
       "<span style=\"color: #800000; text-decoration-color: #800000\">│</span> <span style=\"color: #808000; text-decoration-color: #808000\">│</span>               <span style=\"color: #7f7f7f; text-decoration-color: #7f7f7f\">│   </span><span style=\"color: #808000; text-decoration-color: #808000\">...</span> +<span style=\"color: #0000ff; text-decoration-color: #0000ff\">4</span>                                                                     <span style=\"color: #808000; text-decoration-color: #808000\">│</span> <span style=\"color: #800000; text-decoration-color: #800000\">│</span>\n",
       "<span style=\"color: #800000; text-decoration-color: #800000\">│</span> <span style=\"color: #808000; text-decoration-color: #808000\">│</span>               <span style=\"font-weight: bold\">]</span>                                                                              <span style=\"color: #808000; text-decoration-color: #808000\">│</span> <span style=\"color: #800000; text-decoration-color: #800000\">│</span>\n",
       "<span style=\"color: #800000; text-decoration-color: #800000\">│</span> <span style=\"color: #808000; text-decoration-color: #808000\">│</span>        name = nan                                                                            <span style=\"color: #808000; text-decoration-color: #808000\">│</span> <span style=\"color: #800000; text-decoration-color: #800000\">│</span>\n",
       "<span style=\"color: #800000; text-decoration-color: #800000\">│</span> <span style=\"color: #808000; text-decoration-color: #808000\">│</span>        open = <span style=\"font-weight: bold\">&lt;</span><span style=\"color: #ff00ff; text-decoration-color: #ff00ff; font-weight: bold\">function</span><span style=\"color: #000000; text-decoration-color: #000000\"> open at </span><span style=\"color: #0000ff; text-decoration-color: #0000ff\">0x7f93ab49aa20</span><span style=\"font-weight: bold\">&gt;</span>                                              <span style=\"color: #808000; text-decoration-color: #808000\">│</span> <span style=\"color: #800000; text-decoration-color: #800000\">│</span>\n",
       "<span style=\"color: #800000; text-decoration-color: #800000\">│</span> <span style=\"color: #808000; text-decoration-color: #808000\">│</span>         Out = <span style=\"font-weight: bold\">{</span>                                                                              <span style=\"color: #808000; text-decoration-color: #808000\">│</span> <span style=\"color: #800000; text-decoration-color: #800000\">│</span>\n",
       "<span style=\"color: #800000; text-decoration-color: #800000\">│</span> <span style=\"color: #808000; text-decoration-color: #808000\">│</span>               <span style=\"color: #7f7f7f; text-decoration-color: #7f7f7f\">│   </span><span style=\"color: #0000ff; text-decoration-color: #0000ff\">8</span>:                                               smiles           name  \\  <span style=\"color: #808000; text-decoration-color: #808000\">│</span> <span style=\"color: #800000; text-decoration-color: #800000\">│</span>\n",
       "<span style=\"color: #800000; text-decoration-color: #800000\">│</span> <span style=\"color: #808000; text-decoration-color: #808000\">│</span>               <span style=\"color: #0000ff; text-decoration-color: #0000ff\">0</span>                         Nc1cccnc1-<span style=\"font-weight: bold\">[</span>n<span style=\"font-weight: bold\">](</span>cc1<span style=\"font-weight: bold\">)</span>cc1C#CCO  DF-RdRp-NP001            <span style=\"color: #808000; text-decoration-color: #808000\">│</span> <span style=\"color: #800000; text-decoration-color: #800000\">│</span>\n",
       "<span style=\"color: #800000; text-decoration-color: #800000\">│</span> <span style=\"color: #808000; text-decoration-color: #808000\">│</span>               <span style=\"color: #0000ff; text-decoration-color: #0000ff\">1</span>                      <span style=\"color: #800080; text-decoration-color: #800080; font-weight: bold\">COc1c</span><span style=\"font-weight: bold\">(</span>-<span style=\"font-weight: bold\">[</span>n<span style=\"font-weight: bold\">](</span>cc2<span style=\"font-weight: bold\">)</span>cc2C#CCO<span style=\"font-weight: bold\">)</span>nccc1  DF-RdRp-NP002            <span style=\"color: #808000; text-decoration-color: #808000\">│</span> <span style=\"color: #800000; text-decoration-color: #800000\">│</span>\n",
       "<span style=\"color: #800000; text-decoration-color: #800000\">│</span> <span style=\"color: #808000; text-decoration-color: #808000\">│</span>               <span style=\"color: #0000ff; text-decoration-color: #0000ff\">2</span>                        CNc1cccnc1-<span style=\"font-weight: bold\">[</span>n<span style=\"font-weight: bold\">](</span>cc1<span style=\"font-weight: bold\">)</span>cc1C#CCO  DF-RdRp-NP003            <span style=\"color: #808000; text-decoration-color: #808000\">│</span> <span style=\"color: #800000; text-decoration-color: #800000\">│</span>\n",
       "<span style=\"color: #800000; text-decoration-color: #800000\">│</span> <span style=\"color: #808000; text-decoration-color: #808000\">│</span>               <span style=\"color: #0000ff; text-decoration-color: #0000ff\">3</span>  <span style=\"color: #800080; text-decoration-color: #800080; font-weight: bold\">COc1c</span><span style=\"font-weight: bold\">(</span>-<span style=\"font-weight: bold\">[</span>n<span style=\"font-weight: bold\">](</span>cc2<span style=\"font-weight: bold\">)</span>cc2C#CCO<span style=\"font-weight: bold\">)</span><span style=\"color: #800080; text-decoration-color: #800080; font-weight: bold\">nc</span><span style=\"font-weight: bold\">(</span><span style=\"color: #800080; text-decoration-color: #800080; font-weight: bold\">CC</span><span style=\"font-weight: bold\">([</span>O-<span style=\"font-weight: bold\">])</span>=O<span style=\"font-weight: bold\">)</span><span style=\"color: #800080; text-decoration-color: #800080; font-weight: bold\">cc1CC</span><span style=\"font-weight: bold\">([</span>O<span style=\"color: #808000; text-decoration-color: #808000\">...</span>  DF-RdRp-NP004            <span style=\"color: #808000; text-decoration-color: #808000\">│</span> <span style=\"color: #800000; text-decoration-color: #800000\">│</span>\n",
       "<span style=\"color: #800000; text-decoration-color: #800000\">│</span> <span style=\"color: #808000; text-decoration-color: #808000\">│</span>               <span style=\"color: #0000ff; text-decoration-color: #0000ff\">4</span>    <span style=\"color: #800080; text-decoration-color: #800080; font-weight: bold\">COc</span><span style=\"font-weight: bold\">(</span>cc1<span style=\"font-weight: bold\">)</span><span style=\"color: #800080; text-decoration-color: #800080; font-weight: bold\">c</span><span style=\"font-weight: bold\">(</span>-<span style=\"font-weight: bold\">[</span>n<span style=\"font-weight: bold\">](</span>cc2<span style=\"font-weight: bold\">)</span>cc2C#CCO<span style=\"font-weight: bold\">)</span><span style=\"color: #800080; text-decoration-color: #800080; font-weight: bold\">nc1C</span><span style=\"font-weight: bold\">(</span><span style=\"color: #800080; text-decoration-color: #800080; font-weight: bold\">NS</span><span style=\"font-weight: bold\">(</span>C<span style=\"font-weight: bold\">)(</span>=O<span style=\"font-weight: bold\">)</span>=O<span style=\"font-weight: bold\">)</span>=O  DF-RdRp-NP005            <span style=\"color: #808000; text-decoration-color: #808000\">│</span> <span style=\"color: #800000; text-decoration-color: #800000\">│</span>\n",
       "<span style=\"color: #800000; text-decoration-color: #800000\">│</span> <span style=\"color: #808000; text-decoration-color: #808000\">│</span>               <span style=\"color: #7f7f7f; text-decoration-color: #7f7f7f\">  </span>                                                                             <span style=\"color: #808000; text-decoration-color: #808000\">│</span> <span style=\"color: #800000; text-decoration-color: #800000\">│</span>\n",
       "<span style=\"color: #800000; text-decoration-color: #800000\">│</span> <span style=\"color: #808000; text-decoration-color: #808000\">│</span>               <span style=\"color: #7f7f7f; text-decoration-color: #7f7f7f\">  </span>inspiration_1 inspiration_2 inspiration_3 comment Unnamed: <span style=\"color: #0000ff; text-decoration-color: #0000ff\">6</span>                 <span style=\"color: #808000; text-decoration-color: #808000\">│</span> <span style=\"color: #800000; text-decoration-color: #800000\">│</span>\n",
       "<span style=\"color: #800000; text-decoration-color: #800000\">│</span> <span style=\"color: #808000; text-decoration-color: #808000\">│</span>               <span style=\"color: #0000ff; text-decoration-color: #0000ff\">0</span>        d0472a        5hmz-a           NaN     NaN        NaN                 <span style=\"color: #808000; text-decoration-color: #808000\">│</span> <span style=\"color: #800000; text-decoration-color: #800000\">│</span>\n",
       "<span style=\"color: #800000; text-decoration-color: #800000\">│</span> <span style=\"color: #808000; text-decoration-color: #808000\">│</span>               <span style=\"color: #0000ff; text-decoration-color: #0000ff\">1</span>        d0472a        5hmz-a           NaN     NaN        NaN                 <span style=\"color: #808000; text-decoration-color: #808000\">│</span> <span style=\"color: #800000; text-decoration-color: #800000\">│</span>\n",
       "<span style=\"color: #800000; text-decoration-color: #800000\">│</span> <span style=\"color: #808000; text-decoration-color: #808000\">│</span>               <span style=\"color: #0000ff; text-decoration-color: #0000ff\">2</span>        d0472a        5hmz-a           NaN     NaN        NaN                 <span style=\"color: #808000; text-decoration-color: #808000\">│</span> <span style=\"color: #800000; text-decoration-color: #800000\">│</span>\n",
       "<span style=\"color: #800000; text-decoration-color: #800000\">│</span> <span style=\"color: #808000; text-decoration-color: #808000\">│</span>               <span style=\"color: #0000ff; text-decoration-color: #0000ff\">3</span>        d0472a        5hmy-a           NaN     NaN        NaN                 <span style=\"color: #808000; text-decoration-color: #808000\">│</span> <span style=\"color: #800000; text-decoration-color: #800000\">│</span>\n",
       "<span style=\"color: #800000; text-decoration-color: #800000\">│</span> <span style=\"color: #808000; text-decoration-color: #808000\">│</span>               <span style=\"color: #0000ff; text-decoration-color: #0000ff\">4</span>        d0472a        5hmz-a           NaN     NaN        NaN                 <span style=\"color: #808000; text-decoration-color: #808000\">│</span> <span style=\"color: #800000; text-decoration-color: #800000\">│</span>\n",
       "<span style=\"color: #800000; text-decoration-color: #800000\">│</span> <span style=\"color: #808000; text-decoration-color: #808000\">│</span>               <span style=\"font-weight: bold\">}</span>                                                                              <span style=\"color: #808000; text-decoration-color: #808000\">│</span> <span style=\"color: #800000; text-decoration-color: #800000\">│</span>\n",
       "<span style=\"color: #800000; text-decoration-color: #800000\">│</span> <span style=\"color: #808000; text-decoration-color: #808000\">│</span>        Path = <span style=\"font-weight: bold\">&lt;</span><span style=\"color: #ff00ff; text-decoration-color: #ff00ff; font-weight: bold\">class</span><span style=\"color: #000000; text-decoration-color: #000000\"> </span><span style=\"color: #808000; text-decoration-color: #808000\">'pathlib.Path'</span><span style=\"font-weight: bold\">&gt;</span>                                                         <span style=\"color: #808000; text-decoration-color: #808000\">│</span> <span style=\"color: #800000; text-decoration-color: #800000\">│</span>\n",
       "<span style=\"color: #800000; text-decoration-color: #800000\">│</span> <span style=\"color: #808000; text-decoration-color: #808000\">│</span>          pd = <span style=\"font-weight: bold\">&lt;</span><span style=\"color: #ff00ff; text-decoration-color: #ff00ff; font-weight: bold\">module</span><span style=\"color: #000000; text-decoration-color: #000000\"> </span><span style=\"color: #808000; text-decoration-color: #808000\">'pandas'</span><span style=\"color: #000000; text-decoration-color: #000000\"> from </span>                                                         <span style=\"color: #808000; text-decoration-color: #808000\">│</span> <span style=\"color: #800000; text-decoration-color: #800000\">│</span>\n",
       "<span style=\"color: #800000; text-decoration-color: #800000\">│</span> <span style=\"color: #808000; text-decoration-color: #808000\">│</span>               <span style=\"color: #808000; text-decoration-color: #808000\">'/opt/xchem-fragalysis-2/maxwin/conda_slurm/lib/python3.11/site-packages/pand…</span> <span style=\"color: #808000; text-decoration-color: #808000\">│</span> <span style=\"color: #800000; text-decoration-color: #800000\">│</span>\n",
       "<span style=\"color: #800000; text-decoration-color: #800000\">│</span> <span style=\"color: #808000; text-decoration-color: #808000\">│</span>       print = <span style=\"font-weight: bold\">&lt;</span><span style=\"color: #ff00ff; text-decoration-color: #ff00ff; font-weight: bold\">function</span><span style=\"color: #000000; text-decoration-color: #000000\"> print at </span><span style=\"color: #0000ff; text-decoration-color: #0000ff\">0x7f9324406c00</span><span style=\"font-weight: bold\">&gt;</span>                                             <span style=\"color: #808000; text-decoration-color: #808000\">│</span> <span style=\"color: #800000; text-decoration-color: #800000\">│</span>\n",
       "<span style=\"color: #800000; text-decoration-color: #800000\">│</span> <span style=\"color: #808000; text-decoration-color: #808000\">│</span>        quit = <span style=\"font-weight: bold\">&lt;</span><span style=\"color: #ff00ff; text-decoration-color: #ff00ff; font-weight: bold\">IPython.core.autocall.ZMQExitAutocall</span><span style=\"color: #000000; text-decoration-color: #000000\"> object at </span><span style=\"color: #0000ff; text-decoration-color: #0000ff\">0x7f93aa3e7490</span><span style=\"font-weight: bold\">&gt;</span>               <span style=\"color: #808000; text-decoration-color: #808000\">│</span> <span style=\"color: #800000; text-decoration-color: #800000\">│</span>\n",
       "<span style=\"color: #800000; text-decoration-color: #800000\">│</span> <span style=\"color: #808000; text-decoration-color: #808000\">│</span>         row = smiles           NaN                                                           <span style=\"color: #808000; text-decoration-color: #808000\">│</span> <span style=\"color: #800000; text-decoration-color: #800000\">│</span>\n",
       "<span style=\"color: #800000; text-decoration-color: #800000\">│</span> <span style=\"color: #808000; text-decoration-color: #808000\">│</span>               name             NaN                                                           <span style=\"color: #808000; text-decoration-color: #808000\">│</span> <span style=\"color: #800000; text-decoration-color: #800000\">│</span>\n",
       "<span style=\"color: #800000; text-decoration-color: #800000\">│</span> <span style=\"color: #808000; text-decoration-color: #808000\">│</span>               inspiration_1    NaN                                                           <span style=\"color: #808000; text-decoration-color: #808000\">│</span> <span style=\"color: #800000; text-decoration-color: #800000\">│</span>\n",
       "<span style=\"color: #800000; text-decoration-color: #800000\">│</span> <span style=\"color: #808000; text-decoration-color: #808000\">│</span>               inspiration_2    NaN                                                           <span style=\"color: #808000; text-decoration-color: #808000\">│</span> <span style=\"color: #800000; text-decoration-color: #800000\">│</span>\n",
       "<span style=\"color: #800000; text-decoration-color: #800000\">│</span> <span style=\"color: #808000; text-decoration-color: #808000\">│</span>               inspiration_3    NaN                                                           <span style=\"color: #808000; text-decoration-color: #808000\">│</span> <span style=\"color: #800000; text-decoration-color: #800000\">│</span>\n",
       "<span style=\"color: #800000; text-decoration-color: #800000\">│</span> <span style=\"color: #808000; text-decoration-color: #808000\">│</span>               comment          NaN                                                           <span style=\"color: #808000; text-decoration-color: #808000\">│</span> <span style=\"color: #800000; text-decoration-color: #800000\">│</span>\n",
       "<span style=\"color: #800000; text-decoration-color: #800000\">│</span> <span style=\"color: #808000; text-decoration-color: #808000\">│</span>               Unnamed: <span style=\"color: #0000ff; text-decoration-color: #0000ff\">6</span>       NaN                                                           <span style=\"color: #808000; text-decoration-color: #808000\">│</span> <span style=\"color: #800000; text-decoration-color: #800000\">│</span>\n",
       "<span style=\"color: #800000; text-decoration-color: #800000\">│</span> <span style=\"color: #808000; text-decoration-color: #808000\">│</span>               Name: <span style=\"color: #0000ff; text-decoration-color: #0000ff\">50</span>, dtype: object                                                        <span style=\"color: #808000; text-decoration-color: #808000\">│</span> <span style=\"color: #800000; text-decoration-color: #800000\">│</span>\n",
       "<span style=\"color: #800000; text-decoration-color: #800000\">│</span> <span style=\"color: #808000; text-decoration-color: #808000\">│</span>      smiles = nan                                                                            <span style=\"color: #808000; text-decoration-color: #808000\">│</span> <span style=\"color: #800000; text-decoration-color: #800000\">│</span>\n",
       "<span style=\"color: #800000; text-decoration-color: #800000\">│</span> <span style=\"color: #808000; text-decoration-color: #808000\">╰──────────────────────────────────────────────────────────────────────────────────────────────╯</span> <span style=\"color: #800000; text-decoration-color: #800000\">│</span>\n",
       "<span style=\"color: #800000; text-decoration-color: #800000\">│</span>                                                                                                  <span style=\"color: #800000; text-decoration-color: #800000\">│</span>\n",
       "<span style=\"color: #800000; text-decoration-color: #800000\">│</span> <span style=\"color: #bfbf7f; text-decoration-color: #bfbf7f\">/opt/xchem-fragalysis-2/maxwin/HIPPO/hippo/</span><span style=\"color: #808000; text-decoration-color: #808000; font-weight: bold\">animal.py</span>:<span style=\"color: #0000ff; text-decoration-color: #0000ff\">1594</span> in <span style=\"color: #00ff00; text-decoration-color: #00ff00\">register_compound</span>                   <span style=\"color: #800000; text-decoration-color: #800000\">│</span>\n",
       "<span style=\"color: #800000; text-decoration-color: #800000\">│</span>                                                                                                  <span style=\"color: #800000; text-decoration-color: #800000\">│</span>\n",
       "<span style=\"color: #800000; text-decoration-color: #800000\">│</span>   <span style=\"color: #7f7f7f; text-decoration-color: #7f7f7f\">1591 </span><span style=\"color: #bfbf7f; text-decoration-color: #bfbf7f\">│   │   </span><span style=\"color: #808000; text-decoration-color: #808000\">\"\"\"</span>                                                                               <span style=\"color: #800000; text-decoration-color: #800000\">│</span>\n",
       "<span style=\"color: #800000; text-decoration-color: #800000\">│</span>   <span style=\"color: #7f7f7f; text-decoration-color: #7f7f7f\">1592 </span><span style=\"color: #7f7f7f; text-decoration-color: #7f7f7f\">│   │   </span>                                                                                  <span style=\"color: #800000; text-decoration-color: #800000\">│</span>\n",
       "<span style=\"color: #800000; text-decoration-color: #800000\">│</span>   <span style=\"color: #7f7f7f; text-decoration-color: #7f7f7f\">1593 </span><span style=\"color: #7f7f7f; text-decoration-color: #7f7f7f\">│   │   </span><span style=\"color: #0000ff; text-decoration-color: #0000ff\">assert</span> smiles                                                                     <span style=\"color: #800000; text-decoration-color: #800000\">│</span>\n",
       "<span style=\"color: #800000; text-decoration-color: #800000\">│</span> <span style=\"color: #800000; text-decoration-color: #800000\">❱ </span>1594 <span style=\"color: #7f7f7f; text-decoration-color: #7f7f7f\">│   │   </span><span style=\"color: #0000ff; text-decoration-color: #0000ff\">assert</span> <span style=\"color: #00ffff; text-decoration-color: #00ffff\">isinstance</span>(smiles, <span style=\"color: #00ffff; text-decoration-color: #00ffff\">str</span>), <span style=\"color: #808000; text-decoration-color: #808000\">f\"Non-string {</span>smiles<span style=\"color: #808000; text-decoration-color: #808000\">=}\"</span>                           <span style=\"color: #800000; text-decoration-color: #800000\">│</span>\n",
       "<span style=\"color: #800000; text-decoration-color: #800000\">│</span>   <span style=\"color: #7f7f7f; text-decoration-color: #7f7f7f\">1595 </span><span style=\"color: #7f7f7f; text-decoration-color: #7f7f7f\">│   │   </span>                                                                                  <span style=\"color: #800000; text-decoration-color: #800000\">│</span>\n",
       "<span style=\"color: #800000; text-decoration-color: #800000\">│</span>   <span style=\"color: #7f7f7f; text-decoration-color: #7f7f7f\">1596 </span><span style=\"color: #7f7f7f; text-decoration-color: #7f7f7f\">│   │   </span><span style=\"color: #0000ff; text-decoration-color: #0000ff\">try</span>:                                                                              <span style=\"color: #800000; text-decoration-color: #800000\">│</span>\n",
       "<span style=\"color: #800000; text-decoration-color: #800000\">│</span>   <span style=\"color: #7f7f7f; text-decoration-color: #7f7f7f\">1597 </span><span style=\"color: #7f7f7f; text-decoration-color: #7f7f7f\">│   │   │   </span>smiles = sanitise_smiles(                                                     <span style=\"color: #800000; text-decoration-color: #800000\">│</span>\n",
       "<span style=\"color: #800000; text-decoration-color: #800000\">│</span>                                                                                                  <span style=\"color: #800000; text-decoration-color: #800000\">│</span>\n",
       "<span style=\"color: #800000; text-decoration-color: #800000\">│</span> <span style=\"color: #808000; text-decoration-color: #808000\">╭──────────────────────── locals ─────────────────────────╮</span>                                      <span style=\"color: #800000; text-decoration-color: #800000\">│</span>\n",
       "<span style=\"color: #800000; text-decoration-color: #800000\">│</span> <span style=\"color: #808000; text-decoration-color: #808000\">│</span>                      alias = nan                        <span style=\"color: #808000; text-decoration-color: #808000\">│</span>                                      <span style=\"color: #800000; text-decoration-color: #800000\">│</span>\n",
       "<span style=\"color: #800000; text-decoration-color: #800000\">│</span> <span style=\"color: #808000; text-decoration-color: #808000\">│</span>                      bases = <span style=\"color: #0000ff; text-decoration-color: #0000ff\">None</span>                       <span style=\"color: #808000; text-decoration-color: #808000\">│</span>                                      <span style=\"color: #800000; text-decoration-color: #800000\">│</span>\n",
       "<span style=\"color: #800000; text-decoration-color: #800000\">│</span> <span style=\"color: #808000; text-decoration-color: #808000\">│</span>                     commit = <span style=\"color: #0000ff; text-decoration-color: #0000ff\">True</span>                       <span style=\"color: #808000; text-decoration-color: #808000\">│</span>                                      <span style=\"color: #800000; text-decoration-color: #800000\">│</span>\n",
       "<span style=\"color: #800000; text-decoration-color: #800000\">│</span> <span style=\"color: #808000; text-decoration-color: #808000\">│</span>                      debug = <span style=\"color: #0000ff; text-decoration-color: #0000ff\">False</span>                      <span style=\"color: #808000; text-decoration-color: #808000\">│</span>                                      <span style=\"color: #800000; text-decoration-color: #800000\">│</span>\n",
       "<span style=\"color: #800000; text-decoration-color: #800000\">│</span> <span style=\"color: #808000; text-decoration-color: #808000\">│</span>                   metadata = <span style=\"color: #0000ff; text-decoration-color: #0000ff\">None</span>                       <span style=\"color: #808000; text-decoration-color: #808000\">│</span>                                      <span style=\"color: #800000; text-decoration-color: #800000\">│</span>\n",
       "<span style=\"color: #800000; text-decoration-color: #800000\">│</span> <span style=\"color: #808000; text-decoration-color: #808000\">│</span>                    radical = <span style=\"color: #808000; text-decoration-color: #808000\">'warning'</span>                  <span style=\"color: #808000; text-decoration-color: #808000\">│</span>                                      <span style=\"color: #800000; text-decoration-color: #800000\">│</span>\n",
       "<span style=\"color: #800000; text-decoration-color: #800000\">│</span> <span style=\"color: #808000; text-decoration-color: #808000\">│</span> register_base_if_duplicate = <span style=\"color: #0000ff; text-decoration-color: #0000ff\">True</span>                       <span style=\"color: #808000; text-decoration-color: #808000\">│</span>                                      <span style=\"color: #800000; text-decoration-color: #800000\">│</span>\n",
       "<span style=\"color: #800000; text-decoration-color: #800000\">│</span> <span style=\"color: #808000; text-decoration-color: #808000\">│</span>            return_compound = <span style=\"color: #0000ff; text-decoration-color: #0000ff\">True</span>                       <span style=\"color: #808000; text-decoration-color: #808000\">│</span>                                      <span style=\"color: #800000; text-decoration-color: #800000\">│</span>\n",
       "<span style=\"color: #800000; text-decoration-color: #800000\">│</span> <span style=\"color: #808000; text-decoration-color: #808000\">│</span>           return_duplicate = <span style=\"color: #0000ff; text-decoration-color: #0000ff\">False</span>                      <span style=\"color: #808000; text-decoration-color: #808000\">│</span>                                      <span style=\"color: #800000; text-decoration-color: #800000\">│</span>\n",
       "<span style=\"color: #800000; text-decoration-color: #800000\">│</span> <span style=\"color: #808000; text-decoration-color: #808000\">│</span>                       self = <span style=\"color: #800080; text-decoration-color: #800080; font-weight: bold; text-decoration: underline\">HIPPO</span><span style=\"font-weight: bold; text-decoration: underline\">(</span><span style=\"color: #808000; text-decoration-color: #808000; font-weight: bold; text-decoration: underline\">\"RdRp_FFF\"</span><span style=\"font-weight: bold; text-decoration: underline\">)</span>          <span style=\"color: #808000; text-decoration-color: #808000\">│</span>                                      <span style=\"color: #800000; text-decoration-color: #800000\">│</span>\n",
       "<span style=\"color: #800000; text-decoration-color: #800000\">│</span> <span style=\"color: #808000; text-decoration-color: #808000\">│</span>                     smiles = nan                        <span style=\"color: #808000; text-decoration-color: #808000\">│</span>                                      <span style=\"color: #800000; text-decoration-color: #800000\">│</span>\n",
       "<span style=\"color: #800000; text-decoration-color: #800000\">│</span> <span style=\"color: #808000; text-decoration-color: #808000\">│</span>                       tags = <span style=\"font-weight: bold\">[</span><span style=\"color: #808000; text-decoration-color: #808000\">'DF'</span>, <span style=\"color: #808000; text-decoration-color: #808000\">'SeeSAR'</span><span style=\"font-weight: bold\">]</span>           <span style=\"color: #808000; text-decoration-color: #808000\">│</span>                                      <span style=\"color: #800000; text-decoration-color: #800000\">│</span>\n",
       "<span style=\"color: #800000; text-decoration-color: #800000\">│</span> <span style=\"color: #808000; text-decoration-color: #808000\">╰─────────────────────────────────────────────────────────╯</span>                                      <span style=\"color: #800000; text-decoration-color: #800000\">│</span>\n",
       "<span style=\"color: #800000; text-decoration-color: #800000\">╰──────────────────────────────────────────────────────────────────────────────────────────────────╯</span>\n",
       "<span style=\"color: #ff0000; text-decoration-color: #ff0000; font-weight: bold\">AssertionError: </span>Non-string <span style=\"color: #808000; text-decoration-color: #808000\">smiles</span>=<span style=\"color: #800080; text-decoration-color: #800080\">nan</span>\n",
       "</pre>\n"
      ],
      "text/plain": [
       "\u001b[31m╭─\u001b[0m\u001b[31m──────────────────────────────\u001b[0m\u001b[31m \u001b[0m\u001b[1;31mTraceback \u001b[0m\u001b[1;2;31m(most recent call last)\u001b[0m\u001b[31m \u001b[0m\u001b[31m───────────────────────────────\u001b[0m\u001b[31m─╮\u001b[0m\n",
       "\u001b[31m│\u001b[0m in \u001b[92m<module>\u001b[0m:\u001b[94m6\u001b[0m                                                                                    \u001b[31m│\u001b[0m\n",
       "\u001b[31m│\u001b[0m                                                                                                  \u001b[31m│\u001b[0m\n",
       "\u001b[31m│\u001b[0m   \u001b[2m 3 \u001b[0m\u001b[2m│   \u001b[0msmiles = row.values[\u001b[94m0\u001b[0m]                                                                  \u001b[31m│\u001b[0m\n",
       "\u001b[31m│\u001b[0m   \u001b[2m 4 \u001b[0m\u001b[2m│   \u001b[0m\u001b[2m# inspirations = row.values[2].split(\", \")\u001b[0m                                              \u001b[31m│\u001b[0m\n",
       "\u001b[31m│\u001b[0m   \u001b[2m 5 \u001b[0m\u001b[2m│   \u001b[0m\u001b[2m# print(name, smiles)\u001b[0m                                                                   \u001b[31m│\u001b[0m\n",
       "\u001b[31m│\u001b[0m \u001b[31m❱ \u001b[0m 6 \u001b[2m│   \u001b[0mc = animal.register_compound(smiles=smiles, tags=[\u001b[33m\"\u001b[0m\u001b[33mDF\u001b[0m\u001b[33m\"\u001b[0m, \u001b[33m\"\u001b[0m\u001b[33mSeeSAR\u001b[0m\u001b[33m\"\u001b[0m], alias=name)          \u001b[31m│\u001b[0m\n",
       "\u001b[31m│\u001b[0m   \u001b[2m 7 \u001b[0m\u001b[2m│   \u001b[0m\u001b[96mprint\u001b[0m(c)                                                                                \u001b[31m│\u001b[0m\n",
       "\u001b[31m│\u001b[0m   \u001b[2m 8 \u001b[0m\u001b[2m│   \u001b[0m\u001b[2m# d = dict(smiles=smiles)\u001b[0m                                                               \u001b[31m│\u001b[0m\n",
       "\u001b[31m│\u001b[0m   \u001b[2m 9 \u001b[0m\u001b[2m│   \u001b[0m\u001b[2m# for i,inspiration in enumerate(inspirations):\u001b[0m                                         \u001b[31m│\u001b[0m\n",
       "\u001b[31m│\u001b[0m                                                                                                  \u001b[31m│\u001b[0m\n",
       "\u001b[31m│\u001b[0m \u001b[33m╭─\u001b[0m\u001b[33m──────────────────────────────────────────\u001b[0m\u001b[33m locals \u001b[0m\u001b[33m──────────────────────────────────────────\u001b[0m\u001b[33m─╮\u001b[0m \u001b[31m│\u001b[0m\n",
       "\u001b[31m│\u001b[0m \u001b[33m│\u001b[0m      animal = \u001b[1;4;35mHIPPO\u001b[0m\u001b[1;4m(\u001b[0m\u001b[1;4;33m\"RdRp_FFF\"\u001b[0m\u001b[1;4m)\u001b[0m                                                              \u001b[33m│\u001b[0m \u001b[31m│\u001b[0m\n",
       "\u001b[31m│\u001b[0m \u001b[33m│\u001b[0m           c = \u001b[1;4mC70855 \u001b[0m\u001b[1;4;33m\"YDEXXMSLPMPAKC-UHFFFAOYSA-N\"\u001b[0m                                           \u001b[33m│\u001b[0m \u001b[31m│\u001b[0m\n",
       "\u001b[31m│\u001b[0m \u001b[33m│\u001b[0m        data = \u001b[1m[\u001b[0m\u001b[1m]\u001b[0m                                                                             \u001b[33m│\u001b[0m \u001b[31m│\u001b[0m\n",
       "\u001b[31m│\u001b[0m \u001b[33m│\u001b[0m          df = \u001b[2m│   │   │   │   │   │   │   │   │   │   │   │   \u001b[0msmiles           name  \\       \u001b[33m│\u001b[0m \u001b[31m│\u001b[0m\n",
       "\u001b[31m│\u001b[0m \u001b[33m│\u001b[0m               \u001b[94m0\u001b[0m                           Nc1cccnc1-\u001b[1m[\u001b[0mn\u001b[1m]\u001b[0m\u001b[1m(\u001b[0mcc1\u001b[1m)\u001b[0mcc1C#CCO  DF-RdRp-NP001          \u001b[33m│\u001b[0m \u001b[31m│\u001b[0m\n",
       "\u001b[31m│\u001b[0m \u001b[33m│\u001b[0m               \u001b[94m1\u001b[0m                        \u001b[1;35mCOc1c\u001b[0m\u001b[1m(\u001b[0m-\u001b[1m[\u001b[0mn\u001b[1m]\u001b[0m\u001b[1m(\u001b[0mcc2\u001b[1m)\u001b[0mcc2C#CCO\u001b[1m)\u001b[0mnccc1  DF-RdRp-NP002          \u001b[33m│\u001b[0m \u001b[31m│\u001b[0m\n",
       "\u001b[31m│\u001b[0m \u001b[33m│\u001b[0m               \u001b[94m2\u001b[0m                          CNc1cccnc1-\u001b[1m[\u001b[0mn\u001b[1m]\u001b[0m\u001b[1m(\u001b[0mcc1\u001b[1m)\u001b[0mcc1C#CCO  DF-RdRp-NP003          \u001b[33m│\u001b[0m \u001b[31m│\u001b[0m\n",
       "\u001b[31m│\u001b[0m \u001b[33m│\u001b[0m               \u001b[94m3\u001b[0m    \u001b[1;35mCOc1c\u001b[0m\u001b[1m(\u001b[0m-\u001b[1m[\u001b[0mn\u001b[1m]\u001b[0m\u001b[1m(\u001b[0mcc2\u001b[1m)\u001b[0mcc2C#CCO\u001b[1m)\u001b[0m\u001b[1;35mnc\u001b[0m\u001b[1m(\u001b[0m\u001b[1;35mCC\u001b[0m\u001b[1m(\u001b[0m\u001b[1m[\u001b[0mO-\u001b[1m]\u001b[0m\u001b[1m)\u001b[0m=O\u001b[1m)\u001b[0m\u001b[1;35mcc1CC\u001b[0m\u001b[1m(\u001b[0m\u001b[1m[\u001b[0mO\u001b[33m...\u001b[0m  DF-RdRp-NP004          \u001b[33m│\u001b[0m \u001b[31m│\u001b[0m\n",
       "\u001b[31m│\u001b[0m \u001b[33m│\u001b[0m               \u001b[94m4\u001b[0m      \u001b[1;35mCOc\u001b[0m\u001b[1m(\u001b[0mcc1\u001b[1m)\u001b[0m\u001b[1;35mc\u001b[0m\u001b[1m(\u001b[0m-\u001b[1m[\u001b[0mn\u001b[1m]\u001b[0m\u001b[1m(\u001b[0mcc2\u001b[1m)\u001b[0mcc2C#CCO\u001b[1m)\u001b[0m\u001b[1;35mnc1C\u001b[0m\u001b[1m(\u001b[0m\u001b[1;35mNS\u001b[0m\u001b[1m(\u001b[0mC\u001b[1m)\u001b[0m\u001b[1m(\u001b[0m=O\u001b[1m)\u001b[0m=O\u001b[1m)\u001b[0m=O  DF-RdRp-NP005          \u001b[33m│\u001b[0m \u001b[31m│\u001b[0m\n",
       "\u001b[31m│\u001b[0m \u001b[33m│\u001b[0m               ..                                                 \u001b[33m...\u001b[0m            \u001b[33m...\u001b[0m          \u001b[33m│\u001b[0m \u001b[31m│\u001b[0m\n",
       "\u001b[31m│\u001b[0m \u001b[33m│\u001b[0m               \u001b[94m195\u001b[0m                                                NaN            NaN          \u001b[33m│\u001b[0m \u001b[31m│\u001b[0m\n",
       "\u001b[31m│\u001b[0m \u001b[33m│\u001b[0m               \u001b[94m196\u001b[0m                                                NaN            NaN          \u001b[33m│\u001b[0m \u001b[31m│\u001b[0m\n",
       "\u001b[31m│\u001b[0m \u001b[33m│\u001b[0m               \u001b[94m197\u001b[0m                                                NaN            NaN          \u001b[33m│\u001b[0m \u001b[31m│\u001b[0m\n",
       "\u001b[31m│\u001b[0m \u001b[33m│\u001b[0m               \u001b[94m198\u001b[0m                                                NaN            NaN          \u001b[33m│\u001b[0m \u001b[31m│\u001b[0m\n",
       "\u001b[31m│\u001b[0m \u001b[33m│\u001b[0m               \u001b[94m199\u001b[0m                                                NaN            NaN          \u001b[33m│\u001b[0m \u001b[31m│\u001b[0m\n",
       "\u001b[31m│\u001b[0m \u001b[33m│\u001b[0m               \u001b[2m│   \u001b[0m                                                                           \u001b[33m│\u001b[0m \u001b[31m│\u001b[0m\n",
       "\u001b[31m│\u001b[0m \u001b[33m│\u001b[0m               \u001b[2m│   \u001b[0minspiration_1 inspiration_2 inspiration_3 comment Unnamed: \u001b[94m6\u001b[0m               \u001b[33m│\u001b[0m \u001b[31m│\u001b[0m\n",
       "\u001b[31m│\u001b[0m \u001b[33m│\u001b[0m               \u001b[94m0\u001b[0m          d0472a        5hmz-a           NaN     NaN        NaN               \u001b[33m│\u001b[0m \u001b[31m│\u001b[0m\n",
       "\u001b[31m│\u001b[0m \u001b[33m│\u001b[0m               \u001b[94m1\u001b[0m          d0472a        5hmz-a           NaN     NaN        NaN               \u001b[33m│\u001b[0m \u001b[31m│\u001b[0m\n",
       "\u001b[31m│\u001b[0m \u001b[33m│\u001b[0m               \u001b[94m2\u001b[0m          d0472a        5hmz-a           NaN     NaN        NaN               \u001b[33m│\u001b[0m \u001b[31m│\u001b[0m\n",
       "\u001b[31m│\u001b[0m \u001b[33m│\u001b[0m               \u001b[94m3\u001b[0m          d0472a        5hmy-a           NaN     NaN        NaN               \u001b[33m│\u001b[0m \u001b[31m│\u001b[0m\n",
       "\u001b[31m│\u001b[0m \u001b[33m│\u001b[0m               \u001b[94m4\u001b[0m          d0472a        5hmz-a           NaN     NaN        NaN               \u001b[33m│\u001b[0m \u001b[31m│\u001b[0m\n",
       "\u001b[31m│\u001b[0m \u001b[33m│\u001b[0m               ..            \u001b[33m...\u001b[0m           \u001b[33m...\u001b[0m           \u001b[33m...\u001b[0m     \u001b[33m...\u001b[0m        \u001b[33m...\u001b[0m               \u001b[33m│\u001b[0m \u001b[31m│\u001b[0m\n",
       "\u001b[31m│\u001b[0m \u001b[33m│\u001b[0m               \u001b[94m195\u001b[0m           NaN           NaN           NaN     NaN        NaN               \u001b[33m│\u001b[0m \u001b[31m│\u001b[0m\n",
       "\u001b[31m│\u001b[0m \u001b[33m│\u001b[0m               \u001b[94m196\u001b[0m           NaN           NaN           NaN     NaN        NaN               \u001b[33m│\u001b[0m \u001b[31m│\u001b[0m\n",
       "\u001b[31m│\u001b[0m \u001b[33m│\u001b[0m               \u001b[94m197\u001b[0m           NaN           NaN           NaN     NaN        NaN               \u001b[33m│\u001b[0m \u001b[31m│\u001b[0m\n",
       "\u001b[31m│\u001b[0m \u001b[33m│\u001b[0m               \u001b[94m198\u001b[0m           NaN           NaN           NaN     NaN        NaN               \u001b[33m│\u001b[0m \u001b[31m│\u001b[0m\n",
       "\u001b[31m│\u001b[0m \u001b[33m│\u001b[0m               \u001b[94m199\u001b[0m           NaN           NaN           NaN     NaN     5k5m-a               \u001b[33m│\u001b[0m \u001b[31m│\u001b[0m\n",
       "\u001b[31m│\u001b[0m \u001b[33m│\u001b[0m                                                                                              \u001b[33m│\u001b[0m \u001b[31m│\u001b[0m\n",
       "\u001b[31m│\u001b[0m \u001b[33m│\u001b[0m               \u001b[1m[\u001b[0m\u001b[94m200\u001b[0m rows x \u001b[94m7\u001b[0m columns\u001b[1m]\u001b[0m                                                         \u001b[33m│\u001b[0m \u001b[31m│\u001b[0m\n",
       "\u001b[31m│\u001b[0m \u001b[33m│\u001b[0m        exit = \u001b[1m<\u001b[0m\u001b[1;95mIPython.core.autocall.ZMQExitAutocall\u001b[0m\u001b[39m object at \u001b[0m\u001b[94m0x7f93aa3e7490\u001b[0m\u001b[1m>\u001b[0m               \u001b[33m│\u001b[0m \u001b[31m│\u001b[0m\n",
       "\u001b[31m│\u001b[0m \u001b[33m│\u001b[0m get_ipython = \u001b[1m<\u001b[0m\u001b[1;95mbound\u001b[0m\u001b[39m method InteractiveShell.get_ipython of \u001b[0m                                 \u001b[33m│\u001b[0m \u001b[31m│\u001b[0m\n",
       "\u001b[31m│\u001b[0m \u001b[33m│\u001b[0m               \u001b[39m<ipykernel.zmqshell.ZMQInteractiveShell object at \u001b[0m\u001b[94m0x7f93aa3c7290\u001b[0m\u001b[39m>\u001b[0m\u001b[1m>\u001b[0m             \u001b[33m│\u001b[0m \u001b[31m│\u001b[0m\n",
       "\u001b[31m│\u001b[0m \u001b[33m│\u001b[0m       hippo = \u001b[1m<\u001b[0m\u001b[1;95mmodule\u001b[0m\u001b[39m \u001b[0m\u001b[33m'hippo'\u001b[0m\u001b[39m from \u001b[0m\u001b[33m'/opt/xchem-fragalysis-2/maxwin/HIPPO/hippo/__init__.py'\u001b[0m\u001b[1m>\u001b[0m \u001b[33m│\u001b[0m \u001b[31m│\u001b[0m\n",
       "\u001b[31m│\u001b[0m \u001b[33m│\u001b[0m           i = \u001b[94m50\u001b[0m                                                                             \u001b[33m│\u001b[0m \u001b[31m│\u001b[0m\n",
       "\u001b[31m│\u001b[0m \u001b[33m│\u001b[0m          In = \u001b[1m[\u001b[0m                                                                              \u001b[33m│\u001b[0m \u001b[31m│\u001b[0m\n",
       "\u001b[31m│\u001b[0m \u001b[33m│\u001b[0m               \u001b[2m│   \u001b[0m\u001b[33m''\u001b[0m,                                                                        \u001b[33m│\u001b[0m \u001b[31m│\u001b[0m\n",
       "\u001b[31m│\u001b[0m \u001b[33m│\u001b[0m               \u001b[2m│   \u001b[0m\u001b[33m'data = \u001b[0m\u001b[1;33m[\u001b[0m\u001b[1;33m]\u001b[0m\u001b[33m\\n# df = pd.read_excel\u001b[0m\u001b[1;33m(\u001b[0m\u001b[33m\"../seesar/Primergrip_JA_SeeSar.xlsx\"\u001b[0m\u001b[1;33m)\u001b[0m\u001b[33m\\n#\u001b[0m \u001b[33m│\u001b[0m \u001b[31m│\u001b[0m\n",
       "\u001b[31m│\u001b[0m \u001b[33m│\u001b[0m               \u001b[33mdf = pd.'\u001b[0m+\u001b[94m239\u001b[0m,                                                                 \u001b[33m│\u001b[0m \u001b[31m│\u001b[0m\n",
       "\u001b[31m│\u001b[0m \u001b[33m│\u001b[0m               \u001b[2m│   \u001b[0m\u001b[33m\"get_ipython\u001b[0m\u001b[1;33m(\u001b[0m\u001b[1;33m)\u001b[0m\u001b[33m.run_line_magic\u001b[0m\u001b[1;33m(\u001b[0m\u001b[33m'load_ext', \u001b[0m                                 \u001b[33m│\u001b[0m \u001b[31m│\u001b[0m\n",
       "\u001b[31m│\u001b[0m \u001b[33m│\u001b[0m               \u001b[33m'autoreload'\u001b[0m\u001b[1;33m)\u001b[0m\u001b[33m\\nget_ipython\u001b[0m\u001b[1;33m(\u001b[0m\u001b[1;33m)\u001b[0m\u001b[33m.run_line_ma\"\u001b[0m+\u001b[94m103\u001b[0m,                                 \u001b[33m│\u001b[0m \u001b[31m│\u001b[0m\n",
       "\u001b[31m│\u001b[0m \u001b[33m│\u001b[0m               \u001b[2m│   \u001b[0m\u001b[33m'animal = hippo.HIPPO\u001b[0m\u001b[1;33m(\u001b[0m\u001b[33m\"RdRp_FFF\", \u001b[0m                                         \u001b[33m│\u001b[0m \u001b[31m│\u001b[0m\n",
       "\u001b[31m│\u001b[0m \u001b[33m│\u001b[0m               \u001b[33m\"../../BulkDock/TARGETS/Flavi_NS5_RdRp/Flavi_NS'\u001b[0m+\u001b[94m15\u001b[0m,                           \u001b[33m│\u001b[0m \u001b[31m│\u001b[0m\n",
       "\u001b[31m│\u001b[0m \u001b[33m│\u001b[0m               \u001b[2m│   \u001b[0m\u001b[33m'data = \u001b[0m\u001b[1;33m[\u001b[0m\u001b[1;33m]\u001b[0m\u001b[33m\\n# df = pd.read_excel\u001b[0m\u001b[1;33m(\u001b[0m\u001b[33m\"../seesar/Primergrip_JA_SeeSar.xlsx\"\u001b[0m\u001b[1;33m)\u001b[0m\u001b[33m\\n#\u001b[0m \u001b[33m│\u001b[0m \u001b[31m│\u001b[0m\n",
       "\u001b[31m│\u001b[0m \u001b[33m│\u001b[0m               \u001b[33mdf = pd.'\u001b[0m+\u001b[94m239\u001b[0m,                                                                 \u001b[33m│\u001b[0m \u001b[31m│\u001b[0m\n",
       "\u001b[31m│\u001b[0m \u001b[33m│\u001b[0m               \u001b[2m│   \u001b[0m\u001b[33m'animal = hippo.HIPPO\u001b[0m\u001b[1;33m(\u001b[0m\u001b[33m\"RdRp_FFF\", \u001b[0m                                         \u001b[33m│\u001b[0m \u001b[31m│\u001b[0m\n",
       "\u001b[31m│\u001b[0m \u001b[33m│\u001b[0m               \u001b[33m\"../../BulkDock/TARGETS/Flavi_NS5_RdRp/Flavi_NS'\u001b[0m+\u001b[94m34\u001b[0m,                           \u001b[33m│\u001b[0m \u001b[31m│\u001b[0m\n",
       "\u001b[31m│\u001b[0m \u001b[33m│\u001b[0m               \u001b[2m│   \u001b[0m\u001b[33m'data = \u001b[0m\u001b[1;33m[\u001b[0m\u001b[1;33m]\u001b[0m\u001b[33m\\n# df = pd.read_excel\u001b[0m\u001b[1;33m(\u001b[0m\u001b[33m\"../seesar/Primergrip_JA_SeeSar.xlsx\"\u001b[0m\u001b[1;33m)\u001b[0m\u001b[33m\\n#\u001b[0m \u001b[33m│\u001b[0m \u001b[31m│\u001b[0m\n",
       "\u001b[31m│\u001b[0m \u001b[33m│\u001b[0m               \u001b[33mdf = pd.'\u001b[0m+\u001b[94m239\u001b[0m,                                                                 \u001b[33m│\u001b[0m \u001b[31m│\u001b[0m\n",
       "\u001b[31m│\u001b[0m \u001b[33m│\u001b[0m               \u001b[2m│   \u001b[0m\u001b[33m'data = \u001b[0m\u001b[1;33m[\u001b[0m\u001b[1;33m]\u001b[0m\u001b[33m\\n# df = pd.read_excel\u001b[0m\u001b[1;33m(\u001b[0m\u001b[33m\"../seesar/Primergrip_JA_SeeSar.xlsx\"\u001b[0m\u001b[1;33m)\u001b[0m\u001b[33m\\n#\u001b[0m \u001b[33m│\u001b[0m \u001b[31m│\u001b[0m\n",
       "\u001b[31m│\u001b[0m \u001b[33m│\u001b[0m               \u001b[33mdf = pd.'\u001b[0m+\u001b[94m238\u001b[0m,                                                                 \u001b[33m│\u001b[0m \u001b[31m│\u001b[0m\n",
       "\u001b[31m│\u001b[0m \u001b[33m│\u001b[0m               \u001b[2m│   \u001b[0m\u001b[33m'data = \u001b[0m\u001b[1;33m[\u001b[0m\u001b[1;33m]\u001b[0m\u001b[33m\\n# df = pd.read_excel\u001b[0m\u001b[1;33m(\u001b[0m\u001b[33m\"../seesar/Primergrip_JA_SeeSar.xlsx\"\u001b[0m\u001b[1;33m)\u001b[0m\u001b[33m\\n#\u001b[0m \u001b[33m│\u001b[0m \u001b[31m│\u001b[0m\n",
       "\u001b[31m│\u001b[0m \u001b[33m│\u001b[0m               \u001b[33mdf = pd.'\u001b[0m+\u001b[94m236\u001b[0m,                                                                 \u001b[33m│\u001b[0m \u001b[31m│\u001b[0m\n",
       "\u001b[31m│\u001b[0m \u001b[33m│\u001b[0m               \u001b[2m│   \u001b[0m\u001b[33m'for i,row in df.iterrows\u001b[0m\u001b[1;33m(\u001b[0m\u001b[1;33m)\u001b[0m\u001b[33m:\\n    name = row.values\u001b[0m\u001b[1;33m[\u001b[0m\u001b[33m0\u001b[0m\u001b[1;33m]\u001b[0m\u001b[33m\\n    smiles = \u001b[0m      \u001b[33m│\u001b[0m \u001b[31m│\u001b[0m\n",
       "\u001b[31m│\u001b[0m \u001b[33m│\u001b[0m               \u001b[33mrow.values\u001b[0m\u001b[1;33m[\u001b[0m\u001b[33m1\u001b[0m\u001b[1;33m]\u001b[0m\u001b[33m\\n'\u001b[0m+\u001b[94m324\u001b[0m,                                                          \u001b[33m│\u001b[0m \u001b[31m│\u001b[0m\n",
       "\u001b[31m│\u001b[0m \u001b[33m│\u001b[0m               \u001b[2m│   \u001b[0m\u001b[33m...\u001b[0m +\u001b[94m4\u001b[0m                                                                     \u001b[33m│\u001b[0m \u001b[31m│\u001b[0m\n",
       "\u001b[31m│\u001b[0m \u001b[33m│\u001b[0m               \u001b[1m]\u001b[0m                                                                              \u001b[33m│\u001b[0m \u001b[31m│\u001b[0m\n",
       "\u001b[31m│\u001b[0m \u001b[33m│\u001b[0m        name = nan                                                                            \u001b[33m│\u001b[0m \u001b[31m│\u001b[0m\n",
       "\u001b[31m│\u001b[0m \u001b[33m│\u001b[0m        open = \u001b[1m<\u001b[0m\u001b[1;95mfunction\u001b[0m\u001b[39m open at \u001b[0m\u001b[94m0x7f93ab49aa20\u001b[0m\u001b[1m>\u001b[0m                                              \u001b[33m│\u001b[0m \u001b[31m│\u001b[0m\n",
       "\u001b[31m│\u001b[0m \u001b[33m│\u001b[0m         Out = \u001b[1m{\u001b[0m                                                                              \u001b[33m│\u001b[0m \u001b[31m│\u001b[0m\n",
       "\u001b[31m│\u001b[0m \u001b[33m│\u001b[0m               \u001b[2m│   \u001b[0m\u001b[94m8\u001b[0m:                                               smiles           name  \\  \u001b[33m│\u001b[0m \u001b[31m│\u001b[0m\n",
       "\u001b[31m│\u001b[0m \u001b[33m│\u001b[0m               \u001b[94m0\u001b[0m                         Nc1cccnc1-\u001b[1m[\u001b[0mn\u001b[1m]\u001b[0m\u001b[1m(\u001b[0mcc1\u001b[1m)\u001b[0mcc1C#CCO  DF-RdRp-NP001            \u001b[33m│\u001b[0m \u001b[31m│\u001b[0m\n",
       "\u001b[31m│\u001b[0m \u001b[33m│\u001b[0m               \u001b[94m1\u001b[0m                      \u001b[1;35mCOc1c\u001b[0m\u001b[1m(\u001b[0m-\u001b[1m[\u001b[0mn\u001b[1m]\u001b[0m\u001b[1m(\u001b[0mcc2\u001b[1m)\u001b[0mcc2C#CCO\u001b[1m)\u001b[0mnccc1  DF-RdRp-NP002            \u001b[33m│\u001b[0m \u001b[31m│\u001b[0m\n",
       "\u001b[31m│\u001b[0m \u001b[33m│\u001b[0m               \u001b[94m2\u001b[0m                        CNc1cccnc1-\u001b[1m[\u001b[0mn\u001b[1m]\u001b[0m\u001b[1m(\u001b[0mcc1\u001b[1m)\u001b[0mcc1C#CCO  DF-RdRp-NP003            \u001b[33m│\u001b[0m \u001b[31m│\u001b[0m\n",
       "\u001b[31m│\u001b[0m \u001b[33m│\u001b[0m               \u001b[94m3\u001b[0m  \u001b[1;35mCOc1c\u001b[0m\u001b[1m(\u001b[0m-\u001b[1m[\u001b[0mn\u001b[1m]\u001b[0m\u001b[1m(\u001b[0mcc2\u001b[1m)\u001b[0mcc2C#CCO\u001b[1m)\u001b[0m\u001b[1;35mnc\u001b[0m\u001b[1m(\u001b[0m\u001b[1;35mCC\u001b[0m\u001b[1m(\u001b[0m\u001b[1m[\u001b[0mO-\u001b[1m]\u001b[0m\u001b[1m)\u001b[0m=O\u001b[1m)\u001b[0m\u001b[1;35mcc1CC\u001b[0m\u001b[1m(\u001b[0m\u001b[1m[\u001b[0mO\u001b[33m...\u001b[0m  DF-RdRp-NP004            \u001b[33m│\u001b[0m \u001b[31m│\u001b[0m\n",
       "\u001b[31m│\u001b[0m \u001b[33m│\u001b[0m               \u001b[94m4\u001b[0m    \u001b[1;35mCOc\u001b[0m\u001b[1m(\u001b[0mcc1\u001b[1m)\u001b[0m\u001b[1;35mc\u001b[0m\u001b[1m(\u001b[0m-\u001b[1m[\u001b[0mn\u001b[1m]\u001b[0m\u001b[1m(\u001b[0mcc2\u001b[1m)\u001b[0mcc2C#CCO\u001b[1m)\u001b[0m\u001b[1;35mnc1C\u001b[0m\u001b[1m(\u001b[0m\u001b[1;35mNS\u001b[0m\u001b[1m(\u001b[0mC\u001b[1m)\u001b[0m\u001b[1m(\u001b[0m=O\u001b[1m)\u001b[0m=O\u001b[1m)\u001b[0m=O  DF-RdRp-NP005            \u001b[33m│\u001b[0m \u001b[31m│\u001b[0m\n",
       "\u001b[31m│\u001b[0m \u001b[33m│\u001b[0m               \u001b[2m  \u001b[0m                                                                             \u001b[33m│\u001b[0m \u001b[31m│\u001b[0m\n",
       "\u001b[31m│\u001b[0m \u001b[33m│\u001b[0m               \u001b[2m  \u001b[0minspiration_1 inspiration_2 inspiration_3 comment Unnamed: \u001b[94m6\u001b[0m                 \u001b[33m│\u001b[0m \u001b[31m│\u001b[0m\n",
       "\u001b[31m│\u001b[0m \u001b[33m│\u001b[0m               \u001b[94m0\u001b[0m        d0472a        5hmz-a           NaN     NaN        NaN                 \u001b[33m│\u001b[0m \u001b[31m│\u001b[0m\n",
       "\u001b[31m│\u001b[0m \u001b[33m│\u001b[0m               \u001b[94m1\u001b[0m        d0472a        5hmz-a           NaN     NaN        NaN                 \u001b[33m│\u001b[0m \u001b[31m│\u001b[0m\n",
       "\u001b[31m│\u001b[0m \u001b[33m│\u001b[0m               \u001b[94m2\u001b[0m        d0472a        5hmz-a           NaN     NaN        NaN                 \u001b[33m│\u001b[0m \u001b[31m│\u001b[0m\n",
       "\u001b[31m│\u001b[0m \u001b[33m│\u001b[0m               \u001b[94m3\u001b[0m        d0472a        5hmy-a           NaN     NaN        NaN                 \u001b[33m│\u001b[0m \u001b[31m│\u001b[0m\n",
       "\u001b[31m│\u001b[0m \u001b[33m│\u001b[0m               \u001b[94m4\u001b[0m        d0472a        5hmz-a           NaN     NaN        NaN                 \u001b[33m│\u001b[0m \u001b[31m│\u001b[0m\n",
       "\u001b[31m│\u001b[0m \u001b[33m│\u001b[0m               \u001b[1m}\u001b[0m                                                                              \u001b[33m│\u001b[0m \u001b[31m│\u001b[0m\n",
       "\u001b[31m│\u001b[0m \u001b[33m│\u001b[0m        Path = \u001b[1m<\u001b[0m\u001b[1;95mclass\u001b[0m\u001b[39m \u001b[0m\u001b[33m'pathlib.Path'\u001b[0m\u001b[1m>\u001b[0m                                                         \u001b[33m│\u001b[0m \u001b[31m│\u001b[0m\n",
       "\u001b[31m│\u001b[0m \u001b[33m│\u001b[0m          pd = \u001b[1m<\u001b[0m\u001b[1;95mmodule\u001b[0m\u001b[39m \u001b[0m\u001b[33m'pandas'\u001b[0m\u001b[39m from \u001b[0m                                                         \u001b[33m│\u001b[0m \u001b[31m│\u001b[0m\n",
       "\u001b[31m│\u001b[0m \u001b[33m│\u001b[0m               \u001b[33m'/opt/xchem-fragalysis-2/maxwin/conda_slurm/lib/python3.11/site-packages/pand…\u001b[0m \u001b[33m│\u001b[0m \u001b[31m│\u001b[0m\n",
       "\u001b[31m│\u001b[0m \u001b[33m│\u001b[0m       print = \u001b[1m<\u001b[0m\u001b[1;95mfunction\u001b[0m\u001b[39m print at \u001b[0m\u001b[94m0x7f9324406c00\u001b[0m\u001b[1m>\u001b[0m                                             \u001b[33m│\u001b[0m \u001b[31m│\u001b[0m\n",
       "\u001b[31m│\u001b[0m \u001b[33m│\u001b[0m        quit = \u001b[1m<\u001b[0m\u001b[1;95mIPython.core.autocall.ZMQExitAutocall\u001b[0m\u001b[39m object at \u001b[0m\u001b[94m0x7f93aa3e7490\u001b[0m\u001b[1m>\u001b[0m               \u001b[33m│\u001b[0m \u001b[31m│\u001b[0m\n",
       "\u001b[31m│\u001b[0m \u001b[33m│\u001b[0m         row = smiles           NaN                                                           \u001b[33m│\u001b[0m \u001b[31m│\u001b[0m\n",
       "\u001b[31m│\u001b[0m \u001b[33m│\u001b[0m               name             NaN                                                           \u001b[33m│\u001b[0m \u001b[31m│\u001b[0m\n",
       "\u001b[31m│\u001b[0m \u001b[33m│\u001b[0m               inspiration_1    NaN                                                           \u001b[33m│\u001b[0m \u001b[31m│\u001b[0m\n",
       "\u001b[31m│\u001b[0m \u001b[33m│\u001b[0m               inspiration_2    NaN                                                           \u001b[33m│\u001b[0m \u001b[31m│\u001b[0m\n",
       "\u001b[31m│\u001b[0m \u001b[33m│\u001b[0m               inspiration_3    NaN                                                           \u001b[33m│\u001b[0m \u001b[31m│\u001b[0m\n",
       "\u001b[31m│\u001b[0m \u001b[33m│\u001b[0m               comment          NaN                                                           \u001b[33m│\u001b[0m \u001b[31m│\u001b[0m\n",
       "\u001b[31m│\u001b[0m \u001b[33m│\u001b[0m               Unnamed: \u001b[94m6\u001b[0m       NaN                                                           \u001b[33m│\u001b[0m \u001b[31m│\u001b[0m\n",
       "\u001b[31m│\u001b[0m \u001b[33m│\u001b[0m               Name: \u001b[94m50\u001b[0m, dtype: object                                                        \u001b[33m│\u001b[0m \u001b[31m│\u001b[0m\n",
       "\u001b[31m│\u001b[0m \u001b[33m│\u001b[0m      smiles = nan                                                                            \u001b[33m│\u001b[0m \u001b[31m│\u001b[0m\n",
       "\u001b[31m│\u001b[0m \u001b[33m╰──────────────────────────────────────────────────────────────────────────────────────────────╯\u001b[0m \u001b[31m│\u001b[0m\n",
       "\u001b[31m│\u001b[0m                                                                                                  \u001b[31m│\u001b[0m\n",
       "\u001b[31m│\u001b[0m \u001b[2;33m/opt/xchem-fragalysis-2/maxwin/HIPPO/hippo/\u001b[0m\u001b[1;33manimal.py\u001b[0m:\u001b[94m1594\u001b[0m in \u001b[92mregister_compound\u001b[0m                   \u001b[31m│\u001b[0m\n",
       "\u001b[31m│\u001b[0m                                                                                                  \u001b[31m│\u001b[0m\n",
       "\u001b[31m│\u001b[0m   \u001b[2m1591 \u001b[0m\u001b[2;33m│   │   \u001b[0m\u001b[33m\"\"\"\u001b[0m                                                                               \u001b[31m│\u001b[0m\n",
       "\u001b[31m│\u001b[0m   \u001b[2m1592 \u001b[0m\u001b[2m│   │   \u001b[0m                                                                                  \u001b[31m│\u001b[0m\n",
       "\u001b[31m│\u001b[0m   \u001b[2m1593 \u001b[0m\u001b[2m│   │   \u001b[0m\u001b[94massert\u001b[0m smiles                                                                     \u001b[31m│\u001b[0m\n",
       "\u001b[31m│\u001b[0m \u001b[31m❱ \u001b[0m1594 \u001b[2m│   │   \u001b[0m\u001b[94massert\u001b[0m \u001b[96misinstance\u001b[0m(smiles, \u001b[96mstr\u001b[0m), \u001b[33mf\u001b[0m\u001b[33m\"\u001b[0m\u001b[33mNon-string \u001b[0m\u001b[33m{\u001b[0msmiles\u001b[33m=}\u001b[0m\u001b[33m\"\u001b[0m                           \u001b[31m│\u001b[0m\n",
       "\u001b[31m│\u001b[0m   \u001b[2m1595 \u001b[0m\u001b[2m│   │   \u001b[0m                                                                                  \u001b[31m│\u001b[0m\n",
       "\u001b[31m│\u001b[0m   \u001b[2m1596 \u001b[0m\u001b[2m│   │   \u001b[0m\u001b[94mtry\u001b[0m:                                                                              \u001b[31m│\u001b[0m\n",
       "\u001b[31m│\u001b[0m   \u001b[2m1597 \u001b[0m\u001b[2m│   │   │   \u001b[0msmiles = sanitise_smiles(                                                     \u001b[31m│\u001b[0m\n",
       "\u001b[31m│\u001b[0m                                                                                                  \u001b[31m│\u001b[0m\n",
       "\u001b[31m│\u001b[0m \u001b[33m╭─\u001b[0m\u001b[33m───────────────────────\u001b[0m\u001b[33m locals \u001b[0m\u001b[33m────────────────────────\u001b[0m\u001b[33m─╮\u001b[0m                                      \u001b[31m│\u001b[0m\n",
       "\u001b[31m│\u001b[0m \u001b[33m│\u001b[0m                      alias = nan                        \u001b[33m│\u001b[0m                                      \u001b[31m│\u001b[0m\n",
       "\u001b[31m│\u001b[0m \u001b[33m│\u001b[0m                      bases = \u001b[94mNone\u001b[0m                       \u001b[33m│\u001b[0m                                      \u001b[31m│\u001b[0m\n",
       "\u001b[31m│\u001b[0m \u001b[33m│\u001b[0m                     commit = \u001b[94mTrue\u001b[0m                       \u001b[33m│\u001b[0m                                      \u001b[31m│\u001b[0m\n",
       "\u001b[31m│\u001b[0m \u001b[33m│\u001b[0m                      debug = \u001b[94mFalse\u001b[0m                      \u001b[33m│\u001b[0m                                      \u001b[31m│\u001b[0m\n",
       "\u001b[31m│\u001b[0m \u001b[33m│\u001b[0m                   metadata = \u001b[94mNone\u001b[0m                       \u001b[33m│\u001b[0m                                      \u001b[31m│\u001b[0m\n",
       "\u001b[31m│\u001b[0m \u001b[33m│\u001b[0m                    radical = \u001b[33m'warning'\u001b[0m                  \u001b[33m│\u001b[0m                                      \u001b[31m│\u001b[0m\n",
       "\u001b[31m│\u001b[0m \u001b[33m│\u001b[0m register_base_if_duplicate = \u001b[94mTrue\u001b[0m                       \u001b[33m│\u001b[0m                                      \u001b[31m│\u001b[0m\n",
       "\u001b[31m│\u001b[0m \u001b[33m│\u001b[0m            return_compound = \u001b[94mTrue\u001b[0m                       \u001b[33m│\u001b[0m                                      \u001b[31m│\u001b[0m\n",
       "\u001b[31m│\u001b[0m \u001b[33m│\u001b[0m           return_duplicate = \u001b[94mFalse\u001b[0m                      \u001b[33m│\u001b[0m                                      \u001b[31m│\u001b[0m\n",
       "\u001b[31m│\u001b[0m \u001b[33m│\u001b[0m                       self = \u001b[1;4;35mHIPPO\u001b[0m\u001b[1;4m(\u001b[0m\u001b[1;4;33m\"RdRp_FFF\"\u001b[0m\u001b[1;4m)\u001b[0m          \u001b[33m│\u001b[0m                                      \u001b[31m│\u001b[0m\n",
       "\u001b[31m│\u001b[0m \u001b[33m│\u001b[0m                     smiles = nan                        \u001b[33m│\u001b[0m                                      \u001b[31m│\u001b[0m\n",
       "\u001b[31m│\u001b[0m \u001b[33m│\u001b[0m                       tags = \u001b[1m[\u001b[0m\u001b[33m'DF'\u001b[0m, \u001b[33m'SeeSAR'\u001b[0m\u001b[1m]\u001b[0m           \u001b[33m│\u001b[0m                                      \u001b[31m│\u001b[0m\n",
       "\u001b[31m│\u001b[0m \u001b[33m╰─────────────────────────────────────────────────────────╯\u001b[0m                                      \u001b[31m│\u001b[0m\n",
       "\u001b[31m╰──────────────────────────────────────────────────────────────────────────────────────────────────╯\u001b[0m\n",
       "\u001b[1;91mAssertionError: \u001b[0mNon-string \u001b[33msmiles\u001b[0m=\u001b[35mnan\u001b[0m\n"
      ]
     },
     "metadata": {},
     "output_type": "display_data"
    }
   ],
   "source": [
    "for i,row in df.iterrows():\n",
    "    name = row.values[1]\n",
    "    smiles = row.values[0]\n",
    "    # inspirations = row.values[2].split(\", \")\n",
    "    # print(name, smiles)\n",
    "    c = animal.register_compound(smiles=smiles, tags=[\"DF\", \"SeeSAR\"], alias=name)\n",
    "    print(c)\n",
    "    # d = dict(smiles=smiles)\n",
    "    # for i,inspiration in enumerate(inspirations):\n",
    "        # d[f\"hit{i}\"] = inspiration\n",
    "    # data.append(d)"
   ]
  },
  {
   "cell_type": "code",
   "execution_count": 19,
   "id": "6a1a91f0-1fd8-4f45-8afd-bcbe81b509f5",
   "metadata": {},
   "outputs": [
    {
     "data": {
      "text/html": [
       "<div>\n",
       "<style scoped>\n",
       "    .dataframe tbody tr th:only-of-type {\n",
       "        vertical-align: middle;\n",
       "    }\n",
       "\n",
       "    .dataframe tbody tr th {\n",
       "        vertical-align: top;\n",
       "    }\n",
       "\n",
       "    .dataframe thead th {\n",
       "        text-align: right;\n",
       "    }\n",
       "</style>\n",
       "<table border=\"1\" class=\"dataframe\">\n",
       "  <thead>\n",
       "    <tr style=\"text-align: right;\">\n",
       "      <th></th>\n",
       "      <th>Unnamed: 0</th>\n",
       "      <th>SMILES of the merge (USMILE)</th>\n",
       "      <th>fragment inspirations</th>\n",
       "      <th>reference dataset</th>\n",
       "    </tr>\n",
       "  </thead>\n",
       "  <tbody>\n",
       "    <tr>\n",
       "      <th>0</th>\n",
       "      <td>FLAVI-RDRP-DLS-JA020</td>\n",
       "      <td>S1C(=CC=C1)[C@H]2C[C@@H](Oc3ccc(OC(=O)C)cc3)[C...</td>\n",
       "      <td>6ld2, 6izx-a</td>\n",
       "      <td>6izx-a</td>\n",
       "    </tr>\n",
       "    <tr>\n",
       "      <th>1</th>\n",
       "      <td>FLAVI-RDRP-DLS-JA021</td>\n",
       "      <td>S1c2c(ccc(OC(=O)C)c2)C3=C1[C@H](C=4SC=CC4)C[C@...</td>\n",
       "      <td>6ld2, 6izx-a</td>\n",
       "      <td>6izx-a</td>\n",
       "    </tr>\n",
       "    <tr>\n",
       "      <th>2</th>\n",
       "      <td>FLAVI-RDRP-DLS-JA022</td>\n",
       "      <td>S1c2c(ccc(OC(=O)C)c2)[C@@H]3[C@@H]1[C@H](C=4SC...</td>\n",
       "      <td>6ld2, 6izx-a</td>\n",
       "      <td>6izx-a</td>\n",
       "    </tr>\n",
       "    <tr>\n",
       "      <th>3</th>\n",
       "      <td>FLAVI-RDRP-DLS-JA023</td>\n",
       "      <td>S1c2c(O[C@H]3[C@H](OC)[C@@H](C([O-])=O)C[C@@H]...</td>\n",
       "      <td>6ld2, 6izx-a</td>\n",
       "      <td>6izx-a</td>\n",
       "    </tr>\n",
       "    <tr>\n",
       "      <th>4</th>\n",
       "      <td>FLAVI-RDRP-DLS-JA024</td>\n",
       "      <td>S1c2c(ccc(OC(=O)C)c2)[C@@H]3[C@@H]1[C@H](C=4SC...</td>\n",
       "      <td>6ld2, 6izx-a</td>\n",
       "      <td>6izx-a</td>\n",
       "    </tr>\n",
       "  </tbody>\n",
       "</table>\n",
       "</div>"
      ],
      "text/plain": [
       "             Unnamed: 0                       SMILES of the merge (USMILE)  \\\n",
       "0  FLAVI-RDRP-DLS-JA020  S1C(=CC=C1)[C@H]2C[C@@H](Oc3ccc(OC(=O)C)cc3)[C...   \n",
       "1  FLAVI-RDRP-DLS-JA021  S1c2c(ccc(OC(=O)C)c2)C3=C1[C@H](C=4SC=CC4)C[C@...   \n",
       "2  FLAVI-RDRP-DLS-JA022  S1c2c(ccc(OC(=O)C)c2)[C@@H]3[C@@H]1[C@H](C=4SC...   \n",
       "3  FLAVI-RDRP-DLS-JA023  S1c2c(O[C@H]3[C@H](OC)[C@@H](C([O-])=O)C[C@@H]...   \n",
       "4  FLAVI-RDRP-DLS-JA024  S1c2c(ccc(OC(=O)C)c2)[C@@H]3[C@@H]1[C@H](C=4SC...   \n",
       "\n",
       "  fragment inspirations reference dataset  \n",
       "0          6ld2, 6izx-a            6izx-a  \n",
       "1          6ld2, 6izx-a            6izx-a  \n",
       "2          6ld2, 6izx-a            6izx-a  \n",
       "3          6ld2, 6izx-a            6izx-a  \n",
       "4          6ld2, 6izx-a            6izx-a  "
      ]
     },
     "execution_count": 19,
     "metadata": {},
     "output_type": "execute_result"
    }
   ],
   "source": [
    "# df = pd.read_excel(\"../seesar/Primergrip_JA_SeeSar_2.xlsx\")\n",
    "# df.head()"
   ]
  },
  {
   "cell_type": "code",
   "execution_count": 20,
   "id": "f297ca1c-12b3-4604-a9dc-294f5c869623",
   "metadata": {},
   "outputs": [],
   "source": [
    "# for i,row in df.iterrows():\n",
    "#     name = row.values[0]\n",
    "#     smiles = row.values[1]\n",
    "#     inspirations = row.values[2].split(\", \")\n",
    "#     # print(name, inspirations, smiles)\n",
    "#     c = animal.register_compound(smiles=smiles, tags=[\"JA\", \"SeeSAR\"], alias=name)\n",
    "#     # print(c)\n",
    "#     d = dict(smiles=smiles)\n",
    "#     for i,inspiration in enumerate(inspirations):\n",
    "#         d[f\"hit{i}\"] = inspiration\n",
    "#     data.append(d)"
   ]
  },
  {
   "cell_type": "code",
   "execution_count": 28,
   "id": "f6d96c50-db21-4378-8781-ea967b3b1482",
   "metadata": {},
   "outputs": [],
   "source": [
    "pd.DataFrame(data).to_csv(\"../seesar/Primergrip_JA_SeeSar_to_bulkdock.csv\", index=False)"
   ]
  },
  {
   "cell_type": "code",
   "execution_count": 25,
   "id": "1c6b48c5-26b8-46c3-b9e3-e30abd86fcf5",
   "metadata": {},
   "outputs": [
    {
     "data": {
      "text/html": [
       "<pre style=\"white-space:pre;overflow-x:auto;line-height:normal;font-family:Menlo,'DejaVu Sans Mono',consolas,'Courier New',monospace\"><span style=\"background-color: #800000; font-weight: bold\"> ERROR </span><span style=\"color: #800000; text-decoration-color: #800000; font-weight: bold\"> No entry in compound with compound_inchikey='LLMOLSXYRKDZOC-OWBHPGMISA-N'!</span>\n",
       "</pre>\n"
      ],
      "text/plain": [
       "\u001b[1;7;31m ERROR \u001b[0m\u001b[1;31m No entry in compound with compound_inchikey='LLMOLSXYRKDZOC-OWBHPGMISA-N'!\u001b[0m\n"
      ]
     },
     "metadata": {},
     "output_type": "display_data"
    },
    {
     "data": {
      "text/html": [
       "<pre style=\"white-space:pre;overflow-x:auto;line-height:normal;font-family:Menlo,'DejaVu Sans Mono',consolas,'Courier New',monospace\"><span style=\"background-color: #800000; font-weight: bold\"> ERROR </span><span style=\"color: #800000; text-decoration-color: #800000; font-weight: bold\"> Invalid id=None!</span>\n",
       "</pre>\n"
      ],
      "text/plain": [
       "\u001b[1;7;31m ERROR \u001b[0m\u001b[1;31m Invalid id=None!\u001b[0m\n"
      ]
     },
     "metadata": {},
     "output_type": "display_data"
    },
    {
     "data": {
      "text/html": [
       "<pre style=\"white-space:pre;overflow-x:auto;line-height:normal;font-family:Menlo,'DejaVu Sans Mono',consolas,'Courier New',monospace\"><span style=\"background-color: #800000; font-weight: bold\"> ERROR </span><span style=\"color: #800000; text-decoration-color: #800000; font-weight: bold\"> No entry in compound with compound_alias='LLMOLSXYRKDZOC-OWBHPGMISA-N'!</span>\n",
       "</pre>\n"
      ],
      "text/plain": [
       "\u001b[1;7;31m ERROR \u001b[0m\u001b[1;31m No entry in compound with compound_alias='LLMOLSXYRKDZOC-OWBHPGMISA-N'!\u001b[0m\n"
      ]
     },
     "metadata": {},
     "output_type": "display_data"
    },
    {
     "data": {
      "text/html": [
       "<pre style=\"white-space:pre;overflow-x:auto;line-height:normal;font-family:Menlo,'DejaVu Sans Mono',consolas,'Courier New',monospace\"><span style=\"background-color: #800000; font-weight: bold\"> ERROR </span><span style=\"color: #800000; text-decoration-color: #800000; font-weight: bold\"> Invalid id=None!</span>\n",
       "</pre>\n"
      ],
      "text/plain": [
       "\u001b[1;7;31m ERROR \u001b[0m\u001b[1;31m Invalid id=None!\u001b[0m\n"
      ]
     },
     "metadata": {},
     "output_type": "display_data"
    }
   ],
   "source": [
    "animal.compounds[\"LLMOLSXYRKDZOC-OWBHPGMISA-N\"]"
   ]
  },
  {
   "cell_type": "code",
   "execution_count": 31,
   "id": "9b24bb4a-fc99-458a-a6e9-958c25e64a61",
   "metadata": {},
   "outputs": [
    {
     "data": {
      "text/plain": [
       "'FLAVI-RDRP-DLS-JA002'"
      ]
     },
     "execution_count": 31,
     "metadata": {},
     "output_type": "execute_result"
    }
   ],
   "source": [
    "animal.compounds[66259].alias"
   ]
  },
  {
   "cell_type": "markdown",
   "id": "004c86d2-771b-40c4-aa0c-d6c4d2a775d5",
   "metadata": {},
   "source": []
  },
  {
   "cell_type": "markdown",
   "id": "a7938840-90ea-4569-92c0-c7ea34aaa273",
   "metadata": {
    "jp-MarkdownHeadingCollapsed": true
   },
   "source": [
    "## Enamine quotes"
   ]
  },
  {
   "cell_type": "code",
   "execution_count": 5,
   "id": "97911464-3c38-4f2b-a52d-1176913f8d6b",
   "metadata": {},
   "outputs": [
    {
     "name": "stdout",
     "output_type": "stream",
     "text": [
      "JA_curated_and_manual_enamine.xlsx\n"
     ]
    }
   ],
   "source": [
    "!ls ../quotes"
   ]
  },
  {
   "cell_type": "code",
   "execution_count": 8,
   "id": "565a9f65-ae49-408f-87ff-0d81bdb4f685",
   "metadata": {},
   "outputs": [],
   "source": [
    "quoted = animal.add_enamine_quote(\"../quotes/JA_curated_and_manual_enamine.xlsx\")"
   ]
  },
  {
   "cell_type": "code",
   "execution_count": 15,
   "id": "44afbdd9-2c09-43d7-a0ad-66909630c27e",
   "metadata": {},
   "outputs": [],
   "source": [
    "quoted_poses = quoted.compounds.poses\n",
    "quoted_poses = quoted_poses(tag=\"JA curated YES\") + quoted_poses(tag=\"SeeSAR\")"
   ]
  },
  {
   "cell_type": "code",
   "execution_count": 16,
   "id": "72d4dd00-3e4e-4d04-8da4-8f77f9d3af62",
   "metadata": {},
   "outputs": [
    {
     "data": {
      "application/vnd.jupyter.widget-view+json": {
       "model_id": "10489a1fc5eb451b8620c13342b89604",
       "version_major": 2,
       "version_minor": 0
      },
      "text/plain": [
       "VBox(children=(BoundedIntText(value=0, description='Pose (/37):', max=36), GridBox(children=(Checkbox(value=Tr…"
      ]
     },
     "metadata": {},
     "output_type": "display_data"
    },
    {
     "data": {
      "application/vnd.jupyter.widget-view+json": {
       "model_id": "06b561be02064831b224dea2bb3b97a3",
       "version_major": 2,
       "version_minor": 0
      },
      "text/plain": [
       "Output()"
      ]
     },
     "metadata": {},
     "output_type": "display_data"
    }
   ],
   "source": [
    "quoted_poses.interactive()"
   ]
  },
  {
   "cell_type": "code",
   "execution_count": null,
   "id": "36749c27-460b-4e92-8f55-9641b2ee669b",
   "metadata": {},
   "outputs": [],
   "source": []
  },
  {
   "cell_type": "code",
   "execution_count": 18,
   "id": "d408657d-b061-43ff-b997-82b6f4275119",
   "metadata": {},
   "outputs": [
    {
     "data": {
      "text/html": [
       "<pre style=\"white-space:pre;overflow-x:auto;line-height:normal;font-family:Menlo,'DejaVu Sans Mono',consolas,'Courier New',monospace\"><span style=\"color: #808080; text-decoration-color: #808080\">DEBUG: 37 poses in set</span>\n",
       "</pre>\n"
      ],
      "text/plain": [
       "\u001b[90mDEBUG: 37 poses in set\u001b[0m\n"
      ]
     },
     "metadata": {},
     "output_type": "display_data"
    },
    {
     "data": {
      "text/html": [
       "<pre style=\"white-space:pre;overflow-x:auto;line-height:normal;font-family:Menlo,'DejaVu Sans Mono',consolas,'Courier New',monospace\"><span style=\"color: #808080; text-decoration-color: #808080\">DEBUG: 37 remaining after skipping null reference</span>\n",
       "</pre>\n"
      ],
      "text/plain": [
       "\u001b[90mDEBUG: 37 remaining after skipping null reference\u001b[0m\n"
      ]
     },
     "metadata": {},
     "output_type": "display_data"
    },
    {
     "data": {
      "text/html": [
       "<pre style=\"white-space:pre;overflow-x:auto;line-height:normal;font-family:Menlo,'DejaVu Sans Mono',consolas,'Courier New',monospace\"><span style=\"color: #808080; text-decoration-color: #808080\">DEBUG: 37 remaining after skipping null inspirations</span>\n",
       "</pre>\n"
      ],
      "text/plain": [
       "\u001b[90mDEBUG: 37 remaining after skipping null inspirations\u001b[0m\n"
      ]
     },
     "metadata": {},
     "output_type": "display_data"
    },
    {
     "data": {
      "text/html": [
       "<pre style=\"white-space:pre;overflow-x:auto;line-height:normal;font-family:Menlo,'DejaVu Sans Mono',consolas,'Courier New',monospace\"><span style=\"color: #008080; text-decoration-color: #008080; font-weight: bold\">#poses</span> = <span style=\"color: #008080; text-decoration-color: #008080; font-weight: bold\">37</span>\n",
       "</pre>\n"
      ],
      "text/plain": [
       "\u001b[1;36m#poses\u001b[0m = \u001b[1;36m37\u001b[0m\n"
      ]
     },
     "metadata": {},
     "output_type": "display_data"
    },
    {
     "name": "stderr",
     "output_type": "stream",
     "text": [
      "[09:38:49] Molecule does not have explicit Hs. Consider calling AddHs()\n"
     ]
    },
    {
     "data": {
      "text/html": [
       "<pre style=\"white-space:pre;overflow-x:auto;line-height:normal;font-family:Menlo,'DejaVu Sans Mono',consolas,'Courier New',monospace\"><span style=\"background-color: #d7af00; font-weight: bold\"> DISK </span> Writing <span style=\"color: #d7af00; text-decoration-color: #d7af00\">../quotes/JA_curated_and_manual_ordered.sdf</span>...\n",
       "</pre>\n"
      ],
      "text/plain": [
       "\u001b[1;7;38;5;178m DISK \u001b[0m Writing \u001b[38;5;178m../quotes/JA_curated_and_manual_ordered.sdf\u001b[0m...\n"
      ]
     },
     "metadata": {},
     "output_type": "display_data"
    },
    {
     "data": {
      "text/html": [
       "<div>\n",
       "<style scoped>\n",
       "    .dataframe tbody tr th:only-of-type {\n",
       "        vertical-align: middle;\n",
       "    }\n",
       "\n",
       "    .dataframe tbody tr th {\n",
       "        vertical-align: top;\n",
       "    }\n",
       "\n",
       "    .dataframe thead th {\n",
       "        text-align: right;\n",
       "    }\n",
       "</style>\n",
       "<table border=\"1\" class=\"dataframe\">\n",
       "  <thead>\n",
       "    <tr style=\"text-align: right;\">\n",
       "      <th></th>\n",
       "      <th>HIPPO Pose ID</th>\n",
       "      <th>inchikey</th>\n",
       "      <th>alias</th>\n",
       "      <th>name</th>\n",
       "      <th>original SMILES</th>\n",
       "      <th>distance_score</th>\n",
       "      <th>energy_score</th>\n",
       "      <th>original ID</th>\n",
       "      <th>ROMol</th>\n",
       "      <th>HIPPO Compound ID</th>\n",
       "      <th>...</th>\n",
       "      <th>SLURM_JOB_ID</th>\n",
       "      <th>SLURM_JOB_NAME</th>\n",
       "      <th>csv_name</th>\n",
       "      <th>scratch_subdir</th>\n",
       "      <th>fragmenstein_runtime</th>\n",
       "      <th>fragmenstein_outcome</th>\n",
       "      <th>fragmenstein_mode</th>\n",
       "      <th>fragmenstein_error</th>\n",
       "      <th>exports</th>\n",
       "      <th>_Name</th>\n",
       "    </tr>\n",
       "  </thead>\n",
       "  <tbody>\n",
       "    <tr>\n",
       "      <th>0</th>\n",
       "      <td>35410</td>\n",
       "      <td>XDGUIPBTSIDPMH-UHFFFAOYSA-N</td>\n",
       "      <td>None</td>\n",
       "      <td>XDGUIPBTSIDPMH-UHFFFAOYSA-N</td>\n",
       "      <td>CCS(=O)(=O)NCc1ccncc1Cl</td>\n",
       "      <td>0.826049</td>\n",
       "      <td>-28.755577</td>\n",
       "      <td>XDGUIPBTSIDPMH-UHFFFAOYSA-N</td>\n",
       "      <td>&lt;rdkit.Chem.rdchem.Mol object at 0x7f887c1c6930&gt;</td>\n",
       "      <td>890</td>\n",
       "      <td>...</td>\n",
       "      <td>211010</td>\n",
       "      <td>BulkDock.place:Flavi_NS5_RdRp:RdRp_knitwork_th...</td>\n",
       "      <td>RdRp_knitwork_thumb_site_2_pure_split4000_batc...</td>\n",
       "      <td>[/opt/xchem-fragalysis-2/maxwin/BulkDock/SCRAT...</td>\n",
       "      <td>[1.9639780521392822]</td>\n",
       "      <td>[acceptable]</td>\n",
       "      <td>[expansion]</td>\n",
       "      <td>[]</td>\n",
       "      <td>[/opt/xchem-fragalysis-2/maxwin/BulkDock/OUTPU...</td>\n",
       "      <td>XDGUIPBTSIDPMH-UHFFFAOYSA-N</td>\n",
       "    </tr>\n",
       "    <tr>\n",
       "      <th>1</th>\n",
       "      <td>35422</td>\n",
       "      <td>ZPBHINXHGPMFIS-UHFFFAOYSA-N</td>\n",
       "      <td>None</td>\n",
       "      <td>ZPBHINXHGPMFIS-UHFFFAOYSA-N</td>\n",
       "      <td>CCS(=O)(=O)NCc1ccc(OCc2ccccn2)cc1</td>\n",
       "      <td>0.974417</td>\n",
       "      <td>-36.212490</td>\n",
       "      <td>ZPBHINXHGPMFIS-UHFFFAOYSA-N</td>\n",
       "      <td>&lt;rdkit.Chem.rdchem.Mol object at 0x7f887c1db150&gt;</td>\n",
       "      <td>897</td>\n",
       "      <td>...</td>\n",
       "      <td>211010</td>\n",
       "      <td>BulkDock.place:Flavi_NS5_RdRp:RdRp_knitwork_th...</td>\n",
       "      <td>RdRp_knitwork_thumb_site_2_pure_split4000_batc...</td>\n",
       "      <td>[/opt/xchem-fragalysis-2/maxwin/BulkDock/SCRAT...</td>\n",
       "      <td>[6.457012414932251]</td>\n",
       "      <td>[acceptable]</td>\n",
       "      <td>[expansion]</td>\n",
       "      <td>[]</td>\n",
       "      <td>[/opt/xchem-fragalysis-2/maxwin/BulkDock/OUTPU...</td>\n",
       "      <td>ZPBHINXHGPMFIS-UHFFFAOYSA-N</td>\n",
       "    </tr>\n",
       "    <tr>\n",
       "      <th>2</th>\n",
       "      <td>39464</td>\n",
       "      <td>IYFJGUVPMIFAOX-UHFFFAOYSA-N</td>\n",
       "      <td>None</td>\n",
       "      <td>IYFJGUVPMIFAOX-UHFFFAOYSA-N</td>\n",
       "      <td>CCS(=O)(=O)NCc1nc2cc(Cl)ccc2[nH]1</td>\n",
       "      <td>0.986828</td>\n",
       "      <td>-50.163985</td>\n",
       "      <td>IYFJGUVPMIFAOX-UHFFFAOYSA-N</td>\n",
       "      <td>&lt;rdkit.Chem.rdchem.Mol object at 0x7f887c1b5fd0&gt;</td>\n",
       "      <td>7755</td>\n",
       "      <td>...</td>\n",
       "      <td>220466</td>\n",
       "      <td>BulkDock.place:Flavi_NS5_RdRp:RdRp_knitwork_gr...</td>\n",
       "      <td>RdRp_knitwork_green_site_rna_tunnel_impure_spl...</td>\n",
       "      <td>/opt/xchem-fragalysis-2/maxwin/BulkDock/SCRATC...</td>\n",
       "      <td>23.797484</td>\n",
       "      <td>too moved</td>\n",
       "      <td>expansion</td>\n",
       "      <td>None</td>\n",
       "      <td>NaN</td>\n",
       "      <td>IYFJGUVPMIFAOX-UHFFFAOYSA-N</td>\n",
       "    </tr>\n",
       "    <tr>\n",
       "      <th>3</th>\n",
       "      <td>41842</td>\n",
       "      <td>LGAJFWJWFLCBPR-UHFFFAOYSA-N</td>\n",
       "      <td>None</td>\n",
       "      <td>LGAJFWJWFLCBPR-UHFFFAOYSA-N</td>\n",
       "      <td>CC(C)(CO)NC(=O)c1cnc(-c2ccc(Cl)s2)s1</td>\n",
       "      <td>0.904890</td>\n",
       "      <td>-36.203454</td>\n",
       "      <td>LGAJFWJWFLCBPR-UHFFFAOYSA-N</td>\n",
       "      <td>&lt;rdkit.Chem.rdchem.Mol object at 0x7f8873f26b60&gt;</td>\n",
       "      <td>1226</td>\n",
       "      <td>...</td>\n",
       "      <td>220461</td>\n",
       "      <td>BulkDock.place:Flavi_NS5_RdRp:RdRp_knitwork_gr...</td>\n",
       "      <td>RdRp_knitwork_green_site_rna_tunnel_impure_spl...</td>\n",
       "      <td>/opt/xchem-fragalysis-2/maxwin/BulkDock/SCRATC...</td>\n",
       "      <td>2.28255</td>\n",
       "      <td>too moved</td>\n",
       "      <td>expansion</td>\n",
       "      <td>None</td>\n",
       "      <td>NaN</td>\n",
       "      <td>LGAJFWJWFLCBPR-UHFFFAOYSA-N</td>\n",
       "    </tr>\n",
       "    <tr>\n",
       "      <th>4</th>\n",
       "      <td>43154</td>\n",
       "      <td>IQFFGYDSWILZBZ-UHFFFAOYSA-N</td>\n",
       "      <td>None</td>\n",
       "      <td>IQFFGYDSWILZBZ-UHFFFAOYSA-N</td>\n",
       "      <td>CC(C)(CO)NC(=O)c1csc(-c2ccsc2)n1</td>\n",
       "      <td>0.806872</td>\n",
       "      <td>-6.451584</td>\n",
       "      <td>IQFFGYDSWILZBZ-UHFFFAOYSA-N</td>\n",
       "      <td>&lt;rdkit.Chem.rdchem.Mol object at 0x7f8873f27010&gt;</td>\n",
       "      <td>1443</td>\n",
       "      <td>...</td>\n",
       "      <td>220460</td>\n",
       "      <td>BulkDock.place:Flavi_NS5_RdRp:RdRp_knitwork_gr...</td>\n",
       "      <td>RdRp_knitwork_green_site_rna_tunnel_impure_spl...</td>\n",
       "      <td>/opt/xchem-fragalysis-2/maxwin/BulkDock/SCRATC...</td>\n",
       "      <td>10.803892</td>\n",
       "      <td>too moved</td>\n",
       "      <td>expansion</td>\n",
       "      <td>None</td>\n",
       "      <td>NaN</td>\n",
       "      <td>IQFFGYDSWILZBZ-UHFFFAOYSA-N</td>\n",
       "    </tr>\n",
       "    <tr>\n",
       "      <th>5</th>\n",
       "      <td>44277</td>\n",
       "      <td>XXQBDXPESCLSQC-SSDOTTSWSA-N</td>\n",
       "      <td>None</td>\n",
       "      <td>XXQBDXPESCLSQC-SSDOTTSWSA-N</td>\n",
       "      <td>C[C@@H](NS(=O)(=O)CC#N)c1ncccn1</td>\n",
       "      <td>0.781223</td>\n",
       "      <td>-32.531110</td>\n",
       "      <td>XXQBDXPESCLSQC-SSDOTTSWSA-N</td>\n",
       "      <td>&lt;rdkit.Chem.rdchem.Mol object at 0x7f887c1c74c0&gt;</td>\n",
       "      <td>2664</td>\n",
       "      <td>...</td>\n",
       "      <td>220461</td>\n",
       "      <td>BulkDock.place:Flavi_NS5_RdRp:RdRp_knitwork_gr...</td>\n",
       "      <td>RdRp_knitwork_green_site_rna_tunnel_impure_spl...</td>\n",
       "      <td>/opt/xchem-fragalysis-2/maxwin/BulkDock/SCRATC...</td>\n",
       "      <td>11.57422</td>\n",
       "      <td>too moved</td>\n",
       "      <td>expansion</td>\n",
       "      <td>None</td>\n",
       "      <td>NaN</td>\n",
       "      <td>XXQBDXPESCLSQC-SSDOTTSWSA-N</td>\n",
       "    </tr>\n",
       "    <tr>\n",
       "      <th>6</th>\n",
       "      <td>46347</td>\n",
       "      <td>HCFQKVQSVAJCEG-SECBINFHSA-N</td>\n",
       "      <td>None</td>\n",
       "      <td>HCFQKVQSVAJCEG-SECBINFHSA-N</td>\n",
       "      <td>CC(C)(CO)NC(=O)N1CC[C@@H](c2ccon2)C1</td>\n",
       "      <td>0.942626</td>\n",
       "      <td>-17.717591</td>\n",
       "      <td>HCFQKVQSVAJCEG-SECBINFHSA-N</td>\n",
       "      <td>&lt;rdkit.Chem.rdchem.Mol object at 0x7f8873f27970&gt;</td>\n",
       "      <td>2576</td>\n",
       "      <td>...</td>\n",
       "      <td>211014</td>\n",
       "      <td>BulkDock.place:Flavi_NS5_RdRp:RdRp_knitwork_th...</td>\n",
       "      <td>RdRp_knitwork_thumb_site_2_impure_split4000_ba...</td>\n",
       "      <td>[/opt/xchem-fragalysis-2/maxwin/BulkDock/SCRAT...</td>\n",
       "      <td>[6.769750118255615]</td>\n",
       "      <td>[acceptable]</td>\n",
       "      <td>[expansion]</td>\n",
       "      <td>[]</td>\n",
       "      <td>[/opt/xchem-fragalysis-2/maxwin/BulkDock/OUTPU...</td>\n",
       "      <td>HCFQKVQSVAJCEG-SECBINFHSA-N</td>\n",
       "    </tr>\n",
       "    <tr>\n",
       "      <th>7</th>\n",
       "      <td>46349</td>\n",
       "      <td>HCFQKVQSVAJCEG-SECBINFHSA-N</td>\n",
       "      <td>None</td>\n",
       "      <td>HCFQKVQSVAJCEG-SECBINFHSA-N</td>\n",
       "      <td>CC(C)(CO)NC(=O)N1CC[C@@H](c2ccon2)C1</td>\n",
       "      <td>0.963300</td>\n",
       "      <td>-17.429993</td>\n",
       "      <td>HCFQKVQSVAJCEG-SECBINFHSA-N</td>\n",
       "      <td>&lt;rdkit.Chem.rdchem.Mol object at 0x7f8873f27ec0&gt;</td>\n",
       "      <td>2576</td>\n",
       "      <td>...</td>\n",
       "      <td>211014</td>\n",
       "      <td>BulkDock.place:Flavi_NS5_RdRp:RdRp_knitwork_th...</td>\n",
       "      <td>RdRp_knitwork_thumb_site_2_impure_split4000_ba...</td>\n",
       "      <td>[/opt/xchem-fragalysis-2/maxwin/BulkDock/SCRAT...</td>\n",
       "      <td>[6.282138824462891]</td>\n",
       "      <td>[acceptable]</td>\n",
       "      <td>[expansion]</td>\n",
       "      <td>[]</td>\n",
       "      <td>[/opt/xchem-fragalysis-2/maxwin/BulkDock/OUTPU...</td>\n",
       "      <td>HCFQKVQSVAJCEG-SECBINFHSA-N</td>\n",
       "    </tr>\n",
       "    <tr>\n",
       "      <th>8</th>\n",
       "      <td>48487</td>\n",
       "      <td>FOZSYKGVMKDKBV-SNVBAGLBSA-N</td>\n",
       "      <td>None</td>\n",
       "      <td>FOZSYKGVMKDKBV-SNVBAGLBSA-N</td>\n",
       "      <td>CCS(=O)(=O)NC[C@H]1CC(=O)N(c2ccc(Cl)cc2)C1</td>\n",
       "      <td>0.957905</td>\n",
       "      <td>-21.834161</td>\n",
       "      <td>FOZSYKGVMKDKBV-SNVBAGLBSA-N</td>\n",
       "      <td>&lt;rdkit.Chem.rdchem.Mol object at 0x7f8873f78360&gt;</td>\n",
       "      <td>3075</td>\n",
       "      <td>...</td>\n",
       "      <td>211010</td>\n",
       "      <td>BulkDock.place:Flavi_NS5_RdRp:RdRp_knitwork_th...</td>\n",
       "      <td>RdRp_knitwork_thumb_site_2_pure_split4000_batc...</td>\n",
       "      <td>[/opt/xchem-fragalysis-2/maxwin/BulkDock/SCRAT...</td>\n",
       "      <td>[10.632996082305908]</td>\n",
       "      <td>[acceptable]</td>\n",
       "      <td>[expansion]</td>\n",
       "      <td>[]</td>\n",
       "      <td>[/opt/xchem-fragalysis-2/maxwin/BulkDock/OUTPU...</td>\n",
       "      <td>FOZSYKGVMKDKBV-SNVBAGLBSA-N</td>\n",
       "    </tr>\n",
       "    <tr>\n",
       "      <th>9</th>\n",
       "      <td>50417</td>\n",
       "      <td>VJAXJNJKELENHP-UHFFFAOYSA-N</td>\n",
       "      <td>None</td>\n",
       "      <td>VJAXJNJKELENHP-UHFFFAOYSA-N</td>\n",
       "      <td>CCS(=O)(=O)NCc1ncccc1OC</td>\n",
       "      <td>0.788304</td>\n",
       "      <td>-32.130172</td>\n",
       "      <td>VJAXJNJKELENHP-UHFFFAOYSA-N</td>\n",
       "      <td>&lt;rdkit.Chem.rdchem.Mol object at 0x7f887c1db4c0&gt;</td>\n",
       "      <td>772</td>\n",
       "      <td>...</td>\n",
       "      <td>211010</td>\n",
       "      <td>BulkDock.place:Flavi_NS5_RdRp:RdRp_knitwork_th...</td>\n",
       "      <td>RdRp_knitwork_thumb_site_2_pure_split4000_batc...</td>\n",
       "      <td>[/opt/xchem-fragalysis-2/maxwin/BulkDock/SCRAT...</td>\n",
       "      <td>[1.7414286136627197]</td>\n",
       "      <td>[acceptable]</td>\n",
       "      <td>[expansion]</td>\n",
       "      <td>[]</td>\n",
       "      <td>[/opt/xchem-fragalysis-2/maxwin/BulkDock/OUTPU...</td>\n",
       "      <td>VJAXJNJKELENHP-UHFFFAOYSA-N</td>\n",
       "    </tr>\n",
       "    <tr>\n",
       "      <th>10</th>\n",
       "      <td>50469</td>\n",
       "      <td>VUWLOCLKMVGYPC-UHFFFAOYSA-N</td>\n",
       "      <td>None</td>\n",
       "      <td>VUWLOCLKMVGYPC-UHFFFAOYSA-N</td>\n",
       "      <td>CCS(=O)(=O)NCc1ncccc1F</td>\n",
       "      <td>0.681042</td>\n",
       "      <td>-40.213377</td>\n",
       "      <td>VUWLOCLKMVGYPC-UHFFFAOYSA-N</td>\n",
       "      <td>&lt;rdkit.Chem.rdchem.Mol object at 0x7f8873f78cc0&gt;</td>\n",
       "      <td>791</td>\n",
       "      <td>...</td>\n",
       "      <td>220464</td>\n",
       "      <td>BulkDock.place:Flavi_NS5_RdRp:RdRp_knitwork_gr...</td>\n",
       "      <td>RdRp_knitwork_green_site_rna_tunnel_impure_spl...</td>\n",
       "      <td>/opt/xchem-fragalysis-2/maxwin/BulkDock/SCRATC...</td>\n",
       "      <td>11.186879</td>\n",
       "      <td>too moved</td>\n",
       "      <td>expansion</td>\n",
       "      <td>None</td>\n",
       "      <td>NaN</td>\n",
       "      <td>VUWLOCLKMVGYPC-UHFFFAOYSA-N</td>\n",
       "    </tr>\n",
       "    <tr>\n",
       "      <th>11</th>\n",
       "      <td>50498</td>\n",
       "      <td>KYKFBYOZGOXJTI-UHFFFAOYSA-N</td>\n",
       "      <td>None</td>\n",
       "      <td>KYKFBYOZGOXJTI-UHFFFAOYSA-N</td>\n",
       "      <td>CCS(=O)(=O)NCc1nc(Cl)ccc1Br</td>\n",
       "      <td>0.818691</td>\n",
       "      <td>-36.279095</td>\n",
       "      <td>KYKFBYOZGOXJTI-UHFFFAOYSA-N</td>\n",
       "      <td>&lt;rdkit.Chem.rdchem.Mol object at 0x7f8873f79170&gt;</td>\n",
       "      <td>808</td>\n",
       "      <td>...</td>\n",
       "      <td>211010</td>\n",
       "      <td>BulkDock.place:Flavi_NS5_RdRp:RdRp_knitwork_th...</td>\n",
       "      <td>RdRp_knitwork_thumb_site_2_pure_split4000_batc...</td>\n",
       "      <td>[/opt/xchem-fragalysis-2/maxwin/BulkDock/SCRAT...</td>\n",
       "      <td>[1.5386583805084229]</td>\n",
       "      <td>[acceptable]</td>\n",
       "      <td>[expansion]</td>\n",
       "      <td>[]</td>\n",
       "      <td>[/opt/xchem-fragalysis-2/maxwin/BulkDock/OUTPU...</td>\n",
       "      <td>KYKFBYOZGOXJTI-UHFFFAOYSA-N</td>\n",
       "    </tr>\n",
       "    <tr>\n",
       "      <th>12</th>\n",
       "      <td>50578</td>\n",
       "      <td>JSMASCHCFMRBQP-UHFFFAOYSA-N</td>\n",
       "      <td>None</td>\n",
       "      <td>JSMASCHCFMRBQP-UHFFFAOYSA-N</td>\n",
       "      <td>CCS(=O)(=O)NCc1ccncc1C</td>\n",
       "      <td>0.656089</td>\n",
       "      <td>-33.257943</td>\n",
       "      <td>JSMASCHCFMRBQP-UHFFFAOYSA-N</td>\n",
       "      <td>&lt;rdkit.Chem.rdchem.Mol object at 0x7f8873f79670&gt;</td>\n",
       "      <td>850</td>\n",
       "      <td>...</td>\n",
       "      <td>211010</td>\n",
       "      <td>BulkDock.place:Flavi_NS5_RdRp:RdRp_knitwork_th...</td>\n",
       "      <td>RdRp_knitwork_thumb_site_2_pure_split4000_batc...</td>\n",
       "      <td>[/opt/xchem-fragalysis-2/maxwin/BulkDock/SCRAT...</td>\n",
       "      <td>[2.3045759201049805]</td>\n",
       "      <td>[acceptable]</td>\n",
       "      <td>[expansion]</td>\n",
       "      <td>[]</td>\n",
       "      <td>[/opt/xchem-fragalysis-2/maxwin/BulkDock/OUTPU...</td>\n",
       "      <td>JSMASCHCFMRBQP-UHFFFAOYSA-N</td>\n",
       "    </tr>\n",
       "    <tr>\n",
       "      <th>13</th>\n",
       "      <td>50581</td>\n",
       "      <td>YCSYUEQAYOMAGE-UHFFFAOYSA-N</td>\n",
       "      <td>None</td>\n",
       "      <td>YCSYUEQAYOMAGE-UHFFFAOYSA-N</td>\n",
       "      <td>CCS(=O)(=O)NCc1ncccc1C</td>\n",
       "      <td>0.677757</td>\n",
       "      <td>-42.845081</td>\n",
       "      <td>YCSYUEQAYOMAGE-UHFFFAOYSA-N</td>\n",
       "      <td>&lt;rdkit.Chem.rdchem.Mol object at 0x7f8873f79b20&gt;</td>\n",
       "      <td>852</td>\n",
       "      <td>...</td>\n",
       "      <td>220467</td>\n",
       "      <td>BulkDock.place:Flavi_NS5_RdRp:RdRp_knitwork_gr...</td>\n",
       "      <td>RdRp_knitwork_green_site_rna_tunnel_impure_spl...</td>\n",
       "      <td>/opt/xchem-fragalysis-2/maxwin/BulkDock/SCRATC...</td>\n",
       "      <td>6.709692</td>\n",
       "      <td>too moved</td>\n",
       "      <td>expansion</td>\n",
       "      <td>None</td>\n",
       "      <td>NaN</td>\n",
       "      <td>YCSYUEQAYOMAGE-UHFFFAOYSA-N</td>\n",
       "    </tr>\n",
       "    <tr>\n",
       "      <th>14</th>\n",
       "      <td>50585</td>\n",
       "      <td>RWOAYQXMDLLTCN-UHFFFAOYSA-N</td>\n",
       "      <td>None</td>\n",
       "      <td>RWOAYQXMDLLTCN-UHFFFAOYSA-N</td>\n",
       "      <td>CCS(=O)(=O)NCc1ncc(C)cc1C</td>\n",
       "      <td>0.914108</td>\n",
       "      <td>-34.207058</td>\n",
       "      <td>RWOAYQXMDLLTCN-UHFFFAOYSA-N</td>\n",
       "      <td>&lt;rdkit.Chem.rdchem.Mol object at 0x7f8873f79fd0&gt;</td>\n",
       "      <td>856</td>\n",
       "      <td>...</td>\n",
       "      <td>220464</td>\n",
       "      <td>BulkDock.place:Flavi_NS5_RdRp:RdRp_knitwork_gr...</td>\n",
       "      <td>RdRp_knitwork_green_site_rna_tunnel_impure_spl...</td>\n",
       "      <td>/opt/xchem-fragalysis-2/maxwin/BulkDock/SCRATC...</td>\n",
       "      <td>15.01073</td>\n",
       "      <td>too moved</td>\n",
       "      <td>expansion</td>\n",
       "      <td>None</td>\n",
       "      <td>NaN</td>\n",
       "      <td>RWOAYQXMDLLTCN-UHFFFAOYSA-N</td>\n",
       "    </tr>\n",
       "    <tr>\n",
       "      <th>15</th>\n",
       "      <td>50611</td>\n",
       "      <td>CZXIYJPCHZSMDX-UHFFFAOYSA-N</td>\n",
       "      <td>None</td>\n",
       "      <td>CZXIYJPCHZSMDX-UHFFFAOYSA-N</td>\n",
       "      <td>CCS(=O)(=O)NCc1cnc(C)cc1C</td>\n",
       "      <td>0.773801</td>\n",
       "      <td>-28.004284</td>\n",
       "      <td>CZXIYJPCHZSMDX-UHFFFAOYSA-N</td>\n",
       "      <td>&lt;rdkit.Chem.rdchem.Mol object at 0x7f887c3a18a0&gt;</td>\n",
       "      <td>885</td>\n",
       "      <td>...</td>\n",
       "      <td>211010</td>\n",
       "      <td>BulkDock.place:Flavi_NS5_RdRp:RdRp_knitwork_th...</td>\n",
       "      <td>RdRp_knitwork_thumb_site_2_pure_split4000_batc...</td>\n",
       "      <td>[/opt/xchem-fragalysis-2/maxwin/BulkDock/SCRAT...</td>\n",
       "      <td>[1.7871043682098389]</td>\n",
       "      <td>[acceptable]</td>\n",
       "      <td>[expansion]</td>\n",
       "      <td>[]</td>\n",
       "      <td>[/opt/xchem-fragalysis-2/maxwin/BulkDock/OUTPU...</td>\n",
       "      <td>CZXIYJPCHZSMDX-UHFFFAOYSA-N</td>\n",
       "    </tr>\n",
       "    <tr>\n",
       "      <th>16</th>\n",
       "      <td>50612</td>\n",
       "      <td>QXEWTLBETOJJBD-UHFFFAOYSA-N</td>\n",
       "      <td>None</td>\n",
       "      <td>QXEWTLBETOJJBD-UHFFFAOYSA-N</td>\n",
       "      <td>CCS(=O)(=O)NCc1ncccc1Cl</td>\n",
       "      <td>0.801976</td>\n",
       "      <td>-41.158325</td>\n",
       "      <td>QXEWTLBETOJJBD-UHFFFAOYSA-N</td>\n",
       "      <td>&lt;rdkit.Chem.rdchem.Mol object at 0x7f8873f7a8e0&gt;</td>\n",
       "      <td>886</td>\n",
       "      <td>...</td>\n",
       "      <td>220464</td>\n",
       "      <td>BulkDock.place:Flavi_NS5_RdRp:RdRp_knitwork_gr...</td>\n",
       "      <td>RdRp_knitwork_green_site_rna_tunnel_impure_spl...</td>\n",
       "      <td>/opt/xchem-fragalysis-2/maxwin/BulkDock/SCRATC...</td>\n",
       "      <td>15.616388</td>\n",
       "      <td>too moved</td>\n",
       "      <td>expansion</td>\n",
       "      <td>None</td>\n",
       "      <td>NaN</td>\n",
       "      <td>QXEWTLBETOJJBD-UHFFFAOYSA-N</td>\n",
       "    </tr>\n",
       "    <tr>\n",
       "      <th>17</th>\n",
       "      <td>50614</td>\n",
       "      <td>XDGUIPBTSIDPMH-UHFFFAOYSA-N</td>\n",
       "      <td>None</td>\n",
       "      <td>XDGUIPBTSIDPMH-UHFFFAOYSA-N</td>\n",
       "      <td>CCS(=O)(=O)NCc1ccncc1Cl</td>\n",
       "      <td>0.706599</td>\n",
       "      <td>-30.408529</td>\n",
       "      <td>XDGUIPBTSIDPMH-UHFFFAOYSA-N</td>\n",
       "      <td>&lt;rdkit.Chem.rdchem.Mol object at 0x7f8873f7ade0&gt;</td>\n",
       "      <td>890</td>\n",
       "      <td>...</td>\n",
       "      <td>211010</td>\n",
       "      <td>BulkDock.place:Flavi_NS5_RdRp:RdRp_knitwork_th...</td>\n",
       "      <td>RdRp_knitwork_thumb_site_2_pure_split4000_batc...</td>\n",
       "      <td>[/opt/xchem-fragalysis-2/maxwin/BulkDock/SCRAT...</td>\n",
       "      <td>[1.2955694198608398]</td>\n",
       "      <td>[acceptable]</td>\n",
       "      <td>[expansion]</td>\n",
       "      <td>[]</td>\n",
       "      <td>[/opt/xchem-fragalysis-2/maxwin/BulkDock/OUTPU...</td>\n",
       "      <td>XDGUIPBTSIDPMH-UHFFFAOYSA-N</td>\n",
       "    </tr>\n",
       "    <tr>\n",
       "      <th>18</th>\n",
       "      <td>50640</td>\n",
       "      <td>BCMFRBFZBGDNRH-UHFFFAOYSA-N</td>\n",
       "      <td>None</td>\n",
       "      <td>BCMFRBFZBGDNRH-UHFFFAOYSA-N</td>\n",
       "      <td>CCS(=O)(=O)NCc1cnccc1C</td>\n",
       "      <td>0.896937</td>\n",
       "      <td>-26.981517</td>\n",
       "      <td>BCMFRBFZBGDNRH-UHFFFAOYSA-N</td>\n",
       "      <td>&lt;rdkit.Chem.rdchem.Mol object at 0x7f8873f7b240&gt;</td>\n",
       "      <td>915</td>\n",
       "      <td>...</td>\n",
       "      <td>211010</td>\n",
       "      <td>BulkDock.place:Flavi_NS5_RdRp:RdRp_knitwork_th...</td>\n",
       "      <td>RdRp_knitwork_thumb_site_2_pure_split4000_batc...</td>\n",
       "      <td>[/opt/xchem-fragalysis-2/maxwin/BulkDock/SCRAT...</td>\n",
       "      <td>[1.3582980632781982]</td>\n",
       "      <td>[acceptable]</td>\n",
       "      <td>[expansion]</td>\n",
       "      <td>[]</td>\n",
       "      <td>[/opt/xchem-fragalysis-2/maxwin/BulkDock/OUTPU...</td>\n",
       "      <td>BCMFRBFZBGDNRH-UHFFFAOYSA-N</td>\n",
       "    </tr>\n",
       "    <tr>\n",
       "      <th>19</th>\n",
       "      <td>51151</td>\n",
       "      <td>KUNYWHXFLWUFPB-UHFFFAOYSA-N</td>\n",
       "      <td>None</td>\n",
       "      <td>KUNYWHXFLWUFPB-UHFFFAOYSA-N</td>\n",
       "      <td>CCS(=O)(=O)N(C)c1cccnc1</td>\n",
       "      <td>0.638958</td>\n",
       "      <td>-34.336250</td>\n",
       "      <td>KUNYWHXFLWUFPB-UHFFFAOYSA-N</td>\n",
       "      <td>&lt;rdkit.Chem.rdchem.Mol object at 0x7f8873f7b790&gt;</td>\n",
       "      <td>1345</td>\n",
       "      <td>...</td>\n",
       "      <td>211013</td>\n",
       "      <td>BulkDock.place:Flavi_NS5_RdRp:RdRp_knitwork_th...</td>\n",
       "      <td>RdRp_knitwork_thumb_site_2_impure_split4000_ba...</td>\n",
       "      <td>[/opt/xchem-fragalysis-2/maxwin/BulkDock/SCRAT...</td>\n",
       "      <td>[1.338061809539795]</td>\n",
       "      <td>[acceptable]</td>\n",
       "      <td>[expansion]</td>\n",
       "      <td>[]</td>\n",
       "      <td>[/opt/xchem-fragalysis-2/maxwin/BulkDock/OUTPU...</td>\n",
       "      <td>KUNYWHXFLWUFPB-UHFFFAOYSA-N</td>\n",
       "    </tr>\n",
       "    <tr>\n",
       "      <th>20</th>\n",
       "      <td>51748</td>\n",
       "      <td>BXUSHCNUMJPCGE-SECBINFHSA-N</td>\n",
       "      <td>None</td>\n",
       "      <td>BXUSHCNUMJPCGE-SECBINFHSA-N</td>\n",
       "      <td>CCCS(=O)(=O)N[C@H](C)c1cccnc1</td>\n",
       "      <td>0.868567</td>\n",
       "      <td>-47.517959</td>\n",
       "      <td>BXUSHCNUMJPCGE-SECBINFHSA-N</td>\n",
       "      <td>&lt;rdkit.Chem.rdchem.Mol object at 0x7f887c1b52b0&gt;</td>\n",
       "      <td>6353</td>\n",
       "      <td>...</td>\n",
       "      <td>217081</td>\n",
       "      <td>BulkDock.place:Flavi_NS5_RdRp:RdRp_knitwork_gr...</td>\n",
       "      <td>RdRp_knitwork_green_site_rna_tunnel_pure_split...</td>\n",
       "      <td>/opt/xchem-fragalysis-2/maxwin/BulkDock/SCRATC...</td>\n",
       "      <td>6.911534</td>\n",
       "      <td>too moved</td>\n",
       "      <td>expansion</td>\n",
       "      <td>None</td>\n",
       "      <td>NaN</td>\n",
       "      <td>BXUSHCNUMJPCGE-SECBINFHSA-N</td>\n",
       "    </tr>\n",
       "    <tr>\n",
       "      <th>21</th>\n",
       "      <td>90531</td>\n",
       "      <td>SHENAZADMNUPGS-VIFPVBQESA-N</td>\n",
       "      <td>None</td>\n",
       "      <td>SHENAZADMNUPGS-VIFPVBQESA-N</td>\n",
       "      <td>C[C@H](O)CNC(=O)Nc1cccc2cccnc12</td>\n",
       "      <td>0.983745</td>\n",
       "      <td>-24.326030</td>\n",
       "      <td>SHENAZADMNUPGS-VIFPVBQESA-N</td>\n",
       "      <td>&lt;rdkit.Chem.rdchem.Mol object at 0x7f8873f84270&gt;</td>\n",
       "      <td>33434</td>\n",
       "      <td>...</td>\n",
       "      <td>217087</td>\n",
       "      <td>BulkDock.place:Flavi_NS5_RdRp:RdRp_knitwork_gr...</td>\n",
       "      <td>RdRp_knitwork_green_site_rna_tunnel_pure_split...</td>\n",
       "      <td>/opt/xchem-fragalysis-2/maxwin/BulkDock/SCRATC...</td>\n",
       "      <td>3.506608</td>\n",
       "      <td>acceptable</td>\n",
       "      <td>expansion</td>\n",
       "      <td>None</td>\n",
       "      <td>[/opt/xchem-fragalysis-2/maxwin/BulkDock/OUTPU...</td>\n",
       "      <td>SHENAZADMNUPGS-VIFPVBQESA-N</td>\n",
       "    </tr>\n",
       "    <tr>\n",
       "      <th>22</th>\n",
       "      <td>94360</td>\n",
       "      <td>IMMHZJLASOVDCS-UHFFFAOYSA-N</td>\n",
       "      <td>None</td>\n",
       "      <td>IMMHZJLASOVDCS-UHFFFAOYSA-N</td>\n",
       "      <td>Cc1ccc(NC(=O)c2ccncc2)c2cccnc12</td>\n",
       "      <td>0.788972</td>\n",
       "      <td>-18.848466</td>\n",
       "      <td>IMMHZJLASOVDCS-UHFFFAOYSA-N</td>\n",
       "      <td>&lt;rdkit.Chem.rdchem.Mol object at 0x7f8873f845e0&gt;</td>\n",
       "      <td>28013</td>\n",
       "      <td>...</td>\n",
       "      <td>217074</td>\n",
       "      <td>BulkDock.place:Flavi_NS5_RdRp:RdRp_knitwork_gr...</td>\n",
       "      <td>RdRp_knitwork_green_site_rna_tunnel_pure_split...</td>\n",
       "      <td>/opt/xchem-fragalysis-2/maxwin/BulkDock/SCRATC...</td>\n",
       "      <td>3.831657</td>\n",
       "      <td>acceptable</td>\n",
       "      <td>expansion</td>\n",
       "      <td>None</td>\n",
       "      <td>[/opt/xchem-fragalysis-2/maxwin/BulkDock/OUTPU...</td>\n",
       "      <td>IMMHZJLASOVDCS-UHFFFAOYSA-N</td>\n",
       "    </tr>\n",
       "    <tr>\n",
       "      <th>23</th>\n",
       "      <td>94375</td>\n",
       "      <td>YAOSTISNIUSXMX-UHFFFAOYSA-N</td>\n",
       "      <td>None</td>\n",
       "      <td>YAOSTISNIUSXMX-UHFFFAOYSA-N</td>\n",
       "      <td>O=C(Nc1ccc(Cl)c2ncccc12)c1ccncc1</td>\n",
       "      <td>0.805216</td>\n",
       "      <td>-10.708304</td>\n",
       "      <td>YAOSTISNIUSXMX-UHFFFAOYSA-N</td>\n",
       "      <td>&lt;rdkit.Chem.rdchem.Mol object at 0x7f8873f84a90&gt;</td>\n",
       "      <td>29639</td>\n",
       "      <td>...</td>\n",
       "      <td>217074</td>\n",
       "      <td>BulkDock.place:Flavi_NS5_RdRp:RdRp_knitwork_gr...</td>\n",
       "      <td>RdRp_knitwork_green_site_rna_tunnel_pure_split...</td>\n",
       "      <td>/opt/xchem-fragalysis-2/maxwin/BulkDock/SCRATC...</td>\n",
       "      <td>3.122275</td>\n",
       "      <td>acceptable</td>\n",
       "      <td>expansion</td>\n",
       "      <td>None</td>\n",
       "      <td>[/opt/xchem-fragalysis-2/maxwin/BulkDock/OUTPU...</td>\n",
       "      <td>YAOSTISNIUSXMX-UHFFFAOYSA-N</td>\n",
       "    </tr>\n",
       "    <tr>\n",
       "      <th>24</th>\n",
       "      <td>95593</td>\n",
       "      <td>WXCSLBRGRKDJSX-QMMMGPOBSA-N</td>\n",
       "      <td>None</td>\n",
       "      <td>WXCSLBRGRKDJSX-QMMMGPOBSA-N</td>\n",
       "      <td>Cc1cccc(NC(=O)NC[C@H](C)O)n1</td>\n",
       "      <td>0.553023</td>\n",
       "      <td>-7.756070</td>\n",
       "      <td>WXCSLBRGRKDJSX-QMMMGPOBSA-N</td>\n",
       "      <td>&lt;rdkit.Chem.rdchem.Mol object at 0x7f8873f84f90&gt;</td>\n",
       "      <td>49374</td>\n",
       "      <td>...</td>\n",
       "      <td>217079</td>\n",
       "      <td>BulkDock.place:Flavi_NS5_RdRp:RdRp_knitwork_gr...</td>\n",
       "      <td>RdRp_knitwork_green_site_rna_tunnel_pure_split...</td>\n",
       "      <td>/opt/xchem-fragalysis-2/maxwin/BulkDock/SCRATC...</td>\n",
       "      <td>2.765121</td>\n",
       "      <td>acceptable</td>\n",
       "      <td>expansion</td>\n",
       "      <td>None</td>\n",
       "      <td>[/opt/xchem-fragalysis-2/maxwin/BulkDock/OUTPU...</td>\n",
       "      <td>WXCSLBRGRKDJSX-QMMMGPOBSA-N</td>\n",
       "    </tr>\n",
       "    <tr>\n",
       "      <th>25</th>\n",
       "      <td>95600</td>\n",
       "      <td>WXCSLBRGRKDJSX-QMMMGPOBSA-N</td>\n",
       "      <td>None</td>\n",
       "      <td>WXCSLBRGRKDJSX-QMMMGPOBSA-N</td>\n",
       "      <td>Cc1cccc(NC(=O)NC[C@H](C)O)n1</td>\n",
       "      <td>0.563151</td>\n",
       "      <td>-6.948278</td>\n",
       "      <td>WXCSLBRGRKDJSX-QMMMGPOBSA-N</td>\n",
       "      <td>&lt;rdkit.Chem.rdchem.Mol object at 0x7f8873f85490&gt;</td>\n",
       "      <td>49374</td>\n",
       "      <td>...</td>\n",
       "      <td>217079</td>\n",
       "      <td>BulkDock.place:Flavi_NS5_RdRp:RdRp_knitwork_gr...</td>\n",
       "      <td>RdRp_knitwork_green_site_rna_tunnel_pure_split...</td>\n",
       "      <td>/opt/xchem-fragalysis-2/maxwin/BulkDock/SCRATC...</td>\n",
       "      <td>2.230866</td>\n",
       "      <td>acceptable</td>\n",
       "      <td>expansion</td>\n",
       "      <td>None</td>\n",
       "      <td>[/opt/xchem-fragalysis-2/maxwin/BulkDock/OUTPU...</td>\n",
       "      <td>WXCSLBRGRKDJSX-QMMMGPOBSA-N</td>\n",
       "    </tr>\n",
       "    <tr>\n",
       "      <th>26</th>\n",
       "      <td>95763</td>\n",
       "      <td>YLNUDNTUPQXQBM-UHFFFAOYSA-N</td>\n",
       "      <td>None</td>\n",
       "      <td>YLNUDNTUPQXQBM-UHFFFAOYSA-N</td>\n",
       "      <td>Nc1nc(-c2nccc3ccccc23)cs1</td>\n",
       "      <td>0.685583</td>\n",
       "      <td>-123.931454</td>\n",
       "      <td>YLNUDNTUPQXQBM-UHFFFAOYSA-N</td>\n",
       "      <td>&lt;rdkit.Chem.rdchem.Mol object at 0x7f8873f85990&gt;</td>\n",
       "      <td>48706</td>\n",
       "      <td>...</td>\n",
       "      <td>217076</td>\n",
       "      <td>BulkDock.place:Flavi_NS5_RdRp:RdRp_knitwork_gr...</td>\n",
       "      <td>RdRp_knitwork_green_site_rna_tunnel_pure_split...</td>\n",
       "      <td>/opt/xchem-fragalysis-2/maxwin/BulkDock/SCRATC...</td>\n",
       "      <td>1.774051</td>\n",
       "      <td>acceptable</td>\n",
       "      <td>expansion</td>\n",
       "      <td>None</td>\n",
       "      <td>[/opt/xchem-fragalysis-2/maxwin/BulkDock/OUTPU...</td>\n",
       "      <td>YLNUDNTUPQXQBM-UHFFFAOYSA-N</td>\n",
       "    </tr>\n",
       "    <tr>\n",
       "      <th>27</th>\n",
       "      <td>100189</td>\n",
       "      <td>ZLBFYANSAYZPQU-UHFFFAOYSA-N</td>\n",
       "      <td>None</td>\n",
       "      <td>ZLBFYANSAYZPQU-UHFFFAOYSA-N</td>\n",
       "      <td>c1ccc(N2CCOc3ccccc3C2)nc1</td>\n",
       "      <td>0.999442</td>\n",
       "      <td>-21.454072</td>\n",
       "      <td>ZLBFYANSAYZPQU-UHFFFAOYSA-N</td>\n",
       "      <td>&lt;rdkit.Chem.rdchem.Mol object at 0x7f8873f85e90&gt;</td>\n",
       "      <td>32376</td>\n",
       "      <td>...</td>\n",
       "      <td>217082</td>\n",
       "      <td>BulkDock.place:Flavi_NS5_RdRp:RdRp_knitwork_gr...</td>\n",
       "      <td>RdRp_knitwork_green_site_rna_tunnel_pure_split...</td>\n",
       "      <td>/opt/xchem-fragalysis-2/maxwin/BulkDock/SCRATC...</td>\n",
       "      <td>2.031196</td>\n",
       "      <td>acceptable</td>\n",
       "      <td>expansion</td>\n",
       "      <td>None</td>\n",
       "      <td>[/opt/xchem-fragalysis-2/maxwin/BulkDock/OUTPU...</td>\n",
       "      <td>ZLBFYANSAYZPQU-UHFFFAOYSA-N</td>\n",
       "    </tr>\n",
       "    <tr>\n",
       "      <th>28</th>\n",
       "      <td>114721</td>\n",
       "      <td>UKWFLRZSMSDWTC-SNVBAGLBSA-N</td>\n",
       "      <td>None</td>\n",
       "      <td>UKWFLRZSMSDWTC-SNVBAGLBSA-N</td>\n",
       "      <td>C[C@@H](O)CNC(=O)Nc1cccc2c1OC(C)(C)CC2</td>\n",
       "      <td>0.778610</td>\n",
       "      <td>-25.978202</td>\n",
       "      <td>UKWFLRZSMSDWTC-SNVBAGLBSA-N</td>\n",
       "      <td>&lt;rdkit.Chem.rdchem.Mol object at 0x7f8873f862a0&gt;</td>\n",
       "      <td>53809</td>\n",
       "      <td>...</td>\n",
       "      <td>217087</td>\n",
       "      <td>BulkDock.place:Flavi_NS5_RdRp:RdRp_knitwork_gr...</td>\n",
       "      <td>RdRp_knitwork_green_site_rna_tunnel_pure_split...</td>\n",
       "      <td>/opt/xchem-fragalysis-2/maxwin/BulkDock/SCRATC...</td>\n",
       "      <td>6.260428</td>\n",
       "      <td>acceptable</td>\n",
       "      <td>expansion</td>\n",
       "      <td>None</td>\n",
       "      <td>[/opt/xchem-fragalysis-2/maxwin/BulkDock/OUTPU...</td>\n",
       "      <td>UKWFLRZSMSDWTC-SNVBAGLBSA-N</td>\n",
       "    </tr>\n",
       "    <tr>\n",
       "      <th>29</th>\n",
       "      <td>132071</td>\n",
       "      <td>XYRDJRCBUAYREB-MRVPVSSYSA-N</td>\n",
       "      <td>None</td>\n",
       "      <td>XYRDJRCBUAYREB-MRVPVSSYSA-N</td>\n",
       "      <td>C[C@@H](O)CNC(=O)Nc1cccc2cc[nH]c12</td>\n",
       "      <td>0.678419</td>\n",
       "      <td>-3.948916</td>\n",
       "      <td>XYRDJRCBUAYREB-MRVPVSSYSA-N</td>\n",
       "      <td>&lt;rdkit.Chem.rdchem.Mol object at 0x7f8873f26700&gt;</td>\n",
       "      <td>34701</td>\n",
       "      <td>...</td>\n",
       "      <td>217079</td>\n",
       "      <td>BulkDock.place:Flavi_NS5_RdRp:RdRp_knitwork_gr...</td>\n",
       "      <td>RdRp_knitwork_green_site_rna_tunnel_pure_split...</td>\n",
       "      <td>/opt/xchem-fragalysis-2/maxwin/BulkDock/SCRATC...</td>\n",
       "      <td>4.191432</td>\n",
       "      <td>acceptable</td>\n",
       "      <td>expansion</td>\n",
       "      <td>None</td>\n",
       "      <td>[/opt/xchem-fragalysis-2/maxwin/BulkDock/OUTPU...</td>\n",
       "      <td>XYRDJRCBUAYREB-MRVPVSSYSA-N</td>\n",
       "    </tr>\n",
       "    <tr>\n",
       "      <th>30</th>\n",
       "      <td>133849</td>\n",
       "      <td>DBRZTKKVIQOBQT-NSHDSACASA-N</td>\n",
       "      <td>None</td>\n",
       "      <td>DBRZTKKVIQOBQT-NSHDSACASA-N</td>\n",
       "      <td>Cc1cn(C2CCCCC2)nc1NC(=O)NC[C@H](C)O</td>\n",
       "      <td>0.986033</td>\n",
       "      <td>-19.005621</td>\n",
       "      <td>DBRZTKKVIQOBQT-NSHDSACASA-N</td>\n",
       "      <td>&lt;rdkit.Chem.rdchem.Mol object at 0x7f8873f86b10&gt;</td>\n",
       "      <td>54123</td>\n",
       "      <td>...</td>\n",
       "      <td>217082</td>\n",
       "      <td>BulkDock.place:Flavi_NS5_RdRp:RdRp_knitwork_gr...</td>\n",
       "      <td>RdRp_knitwork_green_site_rna_tunnel_pure_split...</td>\n",
       "      <td>/opt/xchem-fragalysis-2/maxwin/BulkDock/SCRATC...</td>\n",
       "      <td>5.734726</td>\n",
       "      <td>acceptable</td>\n",
       "      <td>expansion</td>\n",
       "      <td>None</td>\n",
       "      <td>[/opt/xchem-fragalysis-2/maxwin/BulkDock/OUTPU...</td>\n",
       "      <td>DBRZTKKVIQOBQT-NSHDSACASA-N</td>\n",
       "    </tr>\n",
       "    <tr>\n",
       "      <th>31</th>\n",
       "      <td>134566</td>\n",
       "      <td>QLFFONPVDDKJCE-SNVBAGLBSA-N</td>\n",
       "      <td>None</td>\n",
       "      <td>QLFFONPVDDKJCE-SNVBAGLBSA-N</td>\n",
       "      <td>C[C@@H](O)CNC(=O)Nc1cccc(-n2cccn2)c1</td>\n",
       "      <td>0.814242</td>\n",
       "      <td>-50.433259</td>\n",
       "      <td>QLFFONPVDDKJCE-SNVBAGLBSA-N</td>\n",
       "      <td>&lt;rdkit.Chem.rdchem.Mol object at 0x7f8873f86f20&gt;</td>\n",
       "      <td>55598</td>\n",
       "      <td>...</td>\n",
       "      <td>217082</td>\n",
       "      <td>BulkDock.place:Flavi_NS5_RdRp:RdRp_knitwork_gr...</td>\n",
       "      <td>RdRp_knitwork_green_site_rna_tunnel_pure_split...</td>\n",
       "      <td>/opt/xchem-fragalysis-2/maxwin/BulkDock/SCRATC...</td>\n",
       "      <td>4.909375</td>\n",
       "      <td>acceptable</td>\n",
       "      <td>expansion</td>\n",
       "      <td>None</td>\n",
       "      <td>[/opt/xchem-fragalysis-2/maxwin/BulkDock/OUTPU...</td>\n",
       "      <td>QLFFONPVDDKJCE-SNVBAGLBSA-N</td>\n",
       "    </tr>\n",
       "    <tr>\n",
       "      <th>32</th>\n",
       "      <td>134697</td>\n",
       "      <td>LYBJDPXLKAGWQA-NSHDSACASA-N</td>\n",
       "      <td>None</td>\n",
       "      <td>LYBJDPXLKAGWQA-NSHDSACASA-N</td>\n",
       "      <td>Cc1ccn(-c2cccc(NC(=O)NC[C@H](C)O)c2)n1</td>\n",
       "      <td>0.741055</td>\n",
       "      <td>-25.566815</td>\n",
       "      <td>LYBJDPXLKAGWQA-NSHDSACASA-N</td>\n",
       "      <td>&lt;rdkit.Chem.rdchem.Mol object at 0x7f8873f873d0&gt;</td>\n",
       "      <td>55856</td>\n",
       "      <td>...</td>\n",
       "      <td>217082</td>\n",
       "      <td>BulkDock.place:Flavi_NS5_RdRp:RdRp_knitwork_gr...</td>\n",
       "      <td>RdRp_knitwork_green_site_rna_tunnel_pure_split...</td>\n",
       "      <td>/opt/xchem-fragalysis-2/maxwin/BulkDock/SCRATC...</td>\n",
       "      <td>2.445407</td>\n",
       "      <td>acceptable</td>\n",
       "      <td>expansion</td>\n",
       "      <td>None</td>\n",
       "      <td>[/opt/xchem-fragalysis-2/maxwin/BulkDock/OUTPU...</td>\n",
       "      <td>LYBJDPXLKAGWQA-NSHDSACASA-N</td>\n",
       "    </tr>\n",
       "    <tr>\n",
       "      <th>33</th>\n",
       "      <td>134704</td>\n",
       "      <td>LYBJDPXLKAGWQA-NSHDSACASA-N</td>\n",
       "      <td>None</td>\n",
       "      <td>LYBJDPXLKAGWQA-NSHDSACASA-N</td>\n",
       "      <td>Cc1ccn(-c2cccc(NC(=O)NC[C@H](C)O)c2)n1</td>\n",
       "      <td>0.833651</td>\n",
       "      <td>-29.020459</td>\n",
       "      <td>LYBJDPXLKAGWQA-NSHDSACASA-N</td>\n",
       "      <td>&lt;rdkit.Chem.rdchem.Mol object at 0x7f8873f27790&gt;</td>\n",
       "      <td>55856</td>\n",
       "      <td>...</td>\n",
       "      <td>217082</td>\n",
       "      <td>BulkDock.place:Flavi_NS5_RdRp:RdRp_knitwork_gr...</td>\n",
       "      <td>RdRp_knitwork_green_site_rna_tunnel_pure_split...</td>\n",
       "      <td>/opt/xchem-fragalysis-2/maxwin/BulkDock/SCRATC...</td>\n",
       "      <td>4.29716</td>\n",
       "      <td>acceptable</td>\n",
       "      <td>expansion</td>\n",
       "      <td>None</td>\n",
       "      <td>[/opt/xchem-fragalysis-2/maxwin/BulkDock/OUTPU...</td>\n",
       "      <td>LYBJDPXLKAGWQA-NSHDSACASA-N</td>\n",
       "    </tr>\n",
       "    <tr>\n",
       "      <th>34</th>\n",
       "      <td>134819</td>\n",
       "      <td>SHENAZADMNUPGS-VIFPVBQESA-N</td>\n",
       "      <td>None</td>\n",
       "      <td>SHENAZADMNUPGS-VIFPVBQESA-N</td>\n",
       "      <td>C[C@H](O)CNC(=O)Nc1cccc2cccnc12</td>\n",
       "      <td>0.963034</td>\n",
       "      <td>-21.948084</td>\n",
       "      <td>SHENAZADMNUPGS-VIFPVBQESA-N</td>\n",
       "      <td>&lt;rdkit.Chem.rdchem.Mol object at 0x7f8873f87bf0&gt;</td>\n",
       "      <td>33434</td>\n",
       "      <td>...</td>\n",
       "      <td>217075</td>\n",
       "      <td>BulkDock.place:Flavi_NS5_RdRp:RdRp_knitwork_gr...</td>\n",
       "      <td>RdRp_knitwork_green_site_rna_tunnel_pure_split...</td>\n",
       "      <td>/opt/xchem-fragalysis-2/maxwin/BulkDock/SCRATC...</td>\n",
       "      <td>4.497667</td>\n",
       "      <td>acceptable</td>\n",
       "      <td>expansion</td>\n",
       "      <td>None</td>\n",
       "      <td>[/opt/xchem-fragalysis-2/maxwin/BulkDock/OUTPU...</td>\n",
       "      <td>SHENAZADMNUPGS-VIFPVBQESA-N</td>\n",
       "    </tr>\n",
       "    <tr>\n",
       "      <th>35</th>\n",
       "      <td>134826</td>\n",
       "      <td>SHENAZADMNUPGS-VIFPVBQESA-N</td>\n",
       "      <td>None</td>\n",
       "      <td>SHENAZADMNUPGS-VIFPVBQESA-N</td>\n",
       "      <td>C[C@H](O)CNC(=O)Nc1cccc2cccnc12</td>\n",
       "      <td>0.949588</td>\n",
       "      <td>-22.097794</td>\n",
       "      <td>SHENAZADMNUPGS-VIFPVBQESA-N</td>\n",
       "      <td>&lt;rdkit.Chem.rdchem.Mol object at 0x7f8873f84040&gt;</td>\n",
       "      <td>33434</td>\n",
       "      <td>...</td>\n",
       "      <td>217075</td>\n",
       "      <td>BulkDock.place:Flavi_NS5_RdRp:RdRp_knitwork_gr...</td>\n",
       "      <td>RdRp_knitwork_green_site_rna_tunnel_pure_split...</td>\n",
       "      <td>/opt/xchem-fragalysis-2/maxwin/BulkDock/SCRATC...</td>\n",
       "      <td>2.465154</td>\n",
       "      <td>acceptable</td>\n",
       "      <td>expansion</td>\n",
       "      <td>None</td>\n",
       "      <td>[/opt/xchem-fragalysis-2/maxwin/BulkDock/OUTPU...</td>\n",
       "      <td>SHENAZADMNUPGS-VIFPVBQESA-N</td>\n",
       "    </tr>\n",
       "    <tr>\n",
       "      <th>36</th>\n",
       "      <td>155833</td>\n",
       "      <td>DEGPAYOEPZCOBR-UHFFFAOYSA-N</td>\n",
       "      <td>None</td>\n",
       "      <td>DEGPAYOEPZCOBR-UHFFFAOYSA-N</td>\n",
       "      <td>Cc1cnccc1NC(=O)Cc1coc2ccccc12</td>\n",
       "      <td>0.887184</td>\n",
       "      <td>-54.996595</td>\n",
       "      <td>DEGPAYOEPZCOBR-UHFFFAOYSA-N</td>\n",
       "      <td>&lt;rdkit.Chem.rdchem.Mol object at 0x7f8873f8c4f0&gt;</td>\n",
       "      <td>36458</td>\n",
       "      <td>...</td>\n",
       "      <td>217079</td>\n",
       "      <td>BulkDock.place:Flavi_NS5_RdRp:RdRp_knitwork_gr...</td>\n",
       "      <td>RdRp_knitwork_green_site_rna_tunnel_pure_split...</td>\n",
       "      <td>/opt/xchem-fragalysis-2/maxwin/BulkDock/SCRATC...</td>\n",
       "      <td>5.697099</td>\n",
       "      <td>acceptable</td>\n",
       "      <td>expansion</td>\n",
       "      <td>None</td>\n",
       "      <td>[/opt/xchem-fragalysis-2/maxwin/BulkDock/OUTPU...</td>\n",
       "      <td>DEGPAYOEPZCOBR-UHFFFAOYSA-N</td>\n",
       "    </tr>\n",
       "  </tbody>\n",
       "</table>\n",
       "<p>37 rows × 23 columns</p>\n",
       "</div>"
      ],
      "text/plain": [
       "    HIPPO Pose ID                     inchikey alias  \\\n",
       "0           35410  XDGUIPBTSIDPMH-UHFFFAOYSA-N  None   \n",
       "1           35422  ZPBHINXHGPMFIS-UHFFFAOYSA-N  None   \n",
       "2           39464  IYFJGUVPMIFAOX-UHFFFAOYSA-N  None   \n",
       "3           41842  LGAJFWJWFLCBPR-UHFFFAOYSA-N  None   \n",
       "4           43154  IQFFGYDSWILZBZ-UHFFFAOYSA-N  None   \n",
       "5           44277  XXQBDXPESCLSQC-SSDOTTSWSA-N  None   \n",
       "6           46347  HCFQKVQSVAJCEG-SECBINFHSA-N  None   \n",
       "7           46349  HCFQKVQSVAJCEG-SECBINFHSA-N  None   \n",
       "8           48487  FOZSYKGVMKDKBV-SNVBAGLBSA-N  None   \n",
       "9           50417  VJAXJNJKELENHP-UHFFFAOYSA-N  None   \n",
       "10          50469  VUWLOCLKMVGYPC-UHFFFAOYSA-N  None   \n",
       "11          50498  KYKFBYOZGOXJTI-UHFFFAOYSA-N  None   \n",
       "12          50578  JSMASCHCFMRBQP-UHFFFAOYSA-N  None   \n",
       "13          50581  YCSYUEQAYOMAGE-UHFFFAOYSA-N  None   \n",
       "14          50585  RWOAYQXMDLLTCN-UHFFFAOYSA-N  None   \n",
       "15          50611  CZXIYJPCHZSMDX-UHFFFAOYSA-N  None   \n",
       "16          50612  QXEWTLBETOJJBD-UHFFFAOYSA-N  None   \n",
       "17          50614  XDGUIPBTSIDPMH-UHFFFAOYSA-N  None   \n",
       "18          50640  BCMFRBFZBGDNRH-UHFFFAOYSA-N  None   \n",
       "19          51151  KUNYWHXFLWUFPB-UHFFFAOYSA-N  None   \n",
       "20          51748  BXUSHCNUMJPCGE-SECBINFHSA-N  None   \n",
       "21          90531  SHENAZADMNUPGS-VIFPVBQESA-N  None   \n",
       "22          94360  IMMHZJLASOVDCS-UHFFFAOYSA-N  None   \n",
       "23          94375  YAOSTISNIUSXMX-UHFFFAOYSA-N  None   \n",
       "24          95593  WXCSLBRGRKDJSX-QMMMGPOBSA-N  None   \n",
       "25          95600  WXCSLBRGRKDJSX-QMMMGPOBSA-N  None   \n",
       "26          95763  YLNUDNTUPQXQBM-UHFFFAOYSA-N  None   \n",
       "27         100189  ZLBFYANSAYZPQU-UHFFFAOYSA-N  None   \n",
       "28         114721  UKWFLRZSMSDWTC-SNVBAGLBSA-N  None   \n",
       "29         132071  XYRDJRCBUAYREB-MRVPVSSYSA-N  None   \n",
       "30         133849  DBRZTKKVIQOBQT-NSHDSACASA-N  None   \n",
       "31         134566  QLFFONPVDDKJCE-SNVBAGLBSA-N  None   \n",
       "32         134697  LYBJDPXLKAGWQA-NSHDSACASA-N  None   \n",
       "33         134704  LYBJDPXLKAGWQA-NSHDSACASA-N  None   \n",
       "34         134819  SHENAZADMNUPGS-VIFPVBQESA-N  None   \n",
       "35         134826  SHENAZADMNUPGS-VIFPVBQESA-N  None   \n",
       "36         155833  DEGPAYOEPZCOBR-UHFFFAOYSA-N  None   \n",
       "\n",
       "                           name                             original SMILES  \\\n",
       "0   XDGUIPBTSIDPMH-UHFFFAOYSA-N                     CCS(=O)(=O)NCc1ccncc1Cl   \n",
       "1   ZPBHINXHGPMFIS-UHFFFAOYSA-N           CCS(=O)(=O)NCc1ccc(OCc2ccccn2)cc1   \n",
       "2   IYFJGUVPMIFAOX-UHFFFAOYSA-N           CCS(=O)(=O)NCc1nc2cc(Cl)ccc2[nH]1   \n",
       "3   LGAJFWJWFLCBPR-UHFFFAOYSA-N        CC(C)(CO)NC(=O)c1cnc(-c2ccc(Cl)s2)s1   \n",
       "4   IQFFGYDSWILZBZ-UHFFFAOYSA-N            CC(C)(CO)NC(=O)c1csc(-c2ccsc2)n1   \n",
       "5   XXQBDXPESCLSQC-SSDOTTSWSA-N             C[C@@H](NS(=O)(=O)CC#N)c1ncccn1   \n",
       "6   HCFQKVQSVAJCEG-SECBINFHSA-N        CC(C)(CO)NC(=O)N1CC[C@@H](c2ccon2)C1   \n",
       "7   HCFQKVQSVAJCEG-SECBINFHSA-N        CC(C)(CO)NC(=O)N1CC[C@@H](c2ccon2)C1   \n",
       "8   FOZSYKGVMKDKBV-SNVBAGLBSA-N  CCS(=O)(=O)NC[C@H]1CC(=O)N(c2ccc(Cl)cc2)C1   \n",
       "9   VJAXJNJKELENHP-UHFFFAOYSA-N                     CCS(=O)(=O)NCc1ncccc1OC   \n",
       "10  VUWLOCLKMVGYPC-UHFFFAOYSA-N                      CCS(=O)(=O)NCc1ncccc1F   \n",
       "11  KYKFBYOZGOXJTI-UHFFFAOYSA-N                 CCS(=O)(=O)NCc1nc(Cl)ccc1Br   \n",
       "12  JSMASCHCFMRBQP-UHFFFAOYSA-N                      CCS(=O)(=O)NCc1ccncc1C   \n",
       "13  YCSYUEQAYOMAGE-UHFFFAOYSA-N                      CCS(=O)(=O)NCc1ncccc1C   \n",
       "14  RWOAYQXMDLLTCN-UHFFFAOYSA-N                   CCS(=O)(=O)NCc1ncc(C)cc1C   \n",
       "15  CZXIYJPCHZSMDX-UHFFFAOYSA-N                   CCS(=O)(=O)NCc1cnc(C)cc1C   \n",
       "16  QXEWTLBETOJJBD-UHFFFAOYSA-N                     CCS(=O)(=O)NCc1ncccc1Cl   \n",
       "17  XDGUIPBTSIDPMH-UHFFFAOYSA-N                     CCS(=O)(=O)NCc1ccncc1Cl   \n",
       "18  BCMFRBFZBGDNRH-UHFFFAOYSA-N                      CCS(=O)(=O)NCc1cnccc1C   \n",
       "19  KUNYWHXFLWUFPB-UHFFFAOYSA-N                     CCS(=O)(=O)N(C)c1cccnc1   \n",
       "20  BXUSHCNUMJPCGE-SECBINFHSA-N               CCCS(=O)(=O)N[C@H](C)c1cccnc1   \n",
       "21  SHENAZADMNUPGS-VIFPVBQESA-N             C[C@H](O)CNC(=O)Nc1cccc2cccnc12   \n",
       "22  IMMHZJLASOVDCS-UHFFFAOYSA-N             Cc1ccc(NC(=O)c2ccncc2)c2cccnc12   \n",
       "23  YAOSTISNIUSXMX-UHFFFAOYSA-N            O=C(Nc1ccc(Cl)c2ncccc12)c1ccncc1   \n",
       "24  WXCSLBRGRKDJSX-QMMMGPOBSA-N                Cc1cccc(NC(=O)NC[C@H](C)O)n1   \n",
       "25  WXCSLBRGRKDJSX-QMMMGPOBSA-N                Cc1cccc(NC(=O)NC[C@H](C)O)n1   \n",
       "26  YLNUDNTUPQXQBM-UHFFFAOYSA-N                   Nc1nc(-c2nccc3ccccc23)cs1   \n",
       "27  ZLBFYANSAYZPQU-UHFFFAOYSA-N                   c1ccc(N2CCOc3ccccc3C2)nc1   \n",
       "28  UKWFLRZSMSDWTC-SNVBAGLBSA-N      C[C@@H](O)CNC(=O)Nc1cccc2c1OC(C)(C)CC2   \n",
       "29  XYRDJRCBUAYREB-MRVPVSSYSA-N          C[C@@H](O)CNC(=O)Nc1cccc2cc[nH]c12   \n",
       "30  DBRZTKKVIQOBQT-NSHDSACASA-N         Cc1cn(C2CCCCC2)nc1NC(=O)NC[C@H](C)O   \n",
       "31  QLFFONPVDDKJCE-SNVBAGLBSA-N        C[C@@H](O)CNC(=O)Nc1cccc(-n2cccn2)c1   \n",
       "32  LYBJDPXLKAGWQA-NSHDSACASA-N      Cc1ccn(-c2cccc(NC(=O)NC[C@H](C)O)c2)n1   \n",
       "33  LYBJDPXLKAGWQA-NSHDSACASA-N      Cc1ccn(-c2cccc(NC(=O)NC[C@H](C)O)c2)n1   \n",
       "34  SHENAZADMNUPGS-VIFPVBQESA-N             C[C@H](O)CNC(=O)Nc1cccc2cccnc12   \n",
       "35  SHENAZADMNUPGS-VIFPVBQESA-N             C[C@H](O)CNC(=O)Nc1cccc2cccnc12   \n",
       "36  DEGPAYOEPZCOBR-UHFFFAOYSA-N               Cc1cnccc1NC(=O)Cc1coc2ccccc12   \n",
       "\n",
       "    distance_score  energy_score                  original ID  \\\n",
       "0         0.826049    -28.755577  XDGUIPBTSIDPMH-UHFFFAOYSA-N   \n",
       "1         0.974417    -36.212490  ZPBHINXHGPMFIS-UHFFFAOYSA-N   \n",
       "2         0.986828    -50.163985  IYFJGUVPMIFAOX-UHFFFAOYSA-N   \n",
       "3         0.904890    -36.203454  LGAJFWJWFLCBPR-UHFFFAOYSA-N   \n",
       "4         0.806872     -6.451584  IQFFGYDSWILZBZ-UHFFFAOYSA-N   \n",
       "5         0.781223    -32.531110  XXQBDXPESCLSQC-SSDOTTSWSA-N   \n",
       "6         0.942626    -17.717591  HCFQKVQSVAJCEG-SECBINFHSA-N   \n",
       "7         0.963300    -17.429993  HCFQKVQSVAJCEG-SECBINFHSA-N   \n",
       "8         0.957905    -21.834161  FOZSYKGVMKDKBV-SNVBAGLBSA-N   \n",
       "9         0.788304    -32.130172  VJAXJNJKELENHP-UHFFFAOYSA-N   \n",
       "10        0.681042    -40.213377  VUWLOCLKMVGYPC-UHFFFAOYSA-N   \n",
       "11        0.818691    -36.279095  KYKFBYOZGOXJTI-UHFFFAOYSA-N   \n",
       "12        0.656089    -33.257943  JSMASCHCFMRBQP-UHFFFAOYSA-N   \n",
       "13        0.677757    -42.845081  YCSYUEQAYOMAGE-UHFFFAOYSA-N   \n",
       "14        0.914108    -34.207058  RWOAYQXMDLLTCN-UHFFFAOYSA-N   \n",
       "15        0.773801    -28.004284  CZXIYJPCHZSMDX-UHFFFAOYSA-N   \n",
       "16        0.801976    -41.158325  QXEWTLBETOJJBD-UHFFFAOYSA-N   \n",
       "17        0.706599    -30.408529  XDGUIPBTSIDPMH-UHFFFAOYSA-N   \n",
       "18        0.896937    -26.981517  BCMFRBFZBGDNRH-UHFFFAOYSA-N   \n",
       "19        0.638958    -34.336250  KUNYWHXFLWUFPB-UHFFFAOYSA-N   \n",
       "20        0.868567    -47.517959  BXUSHCNUMJPCGE-SECBINFHSA-N   \n",
       "21        0.983745    -24.326030  SHENAZADMNUPGS-VIFPVBQESA-N   \n",
       "22        0.788972    -18.848466  IMMHZJLASOVDCS-UHFFFAOYSA-N   \n",
       "23        0.805216    -10.708304  YAOSTISNIUSXMX-UHFFFAOYSA-N   \n",
       "24        0.553023     -7.756070  WXCSLBRGRKDJSX-QMMMGPOBSA-N   \n",
       "25        0.563151     -6.948278  WXCSLBRGRKDJSX-QMMMGPOBSA-N   \n",
       "26        0.685583   -123.931454  YLNUDNTUPQXQBM-UHFFFAOYSA-N   \n",
       "27        0.999442    -21.454072  ZLBFYANSAYZPQU-UHFFFAOYSA-N   \n",
       "28        0.778610    -25.978202  UKWFLRZSMSDWTC-SNVBAGLBSA-N   \n",
       "29        0.678419     -3.948916  XYRDJRCBUAYREB-MRVPVSSYSA-N   \n",
       "30        0.986033    -19.005621  DBRZTKKVIQOBQT-NSHDSACASA-N   \n",
       "31        0.814242    -50.433259  QLFFONPVDDKJCE-SNVBAGLBSA-N   \n",
       "32        0.741055    -25.566815  LYBJDPXLKAGWQA-NSHDSACASA-N   \n",
       "33        0.833651    -29.020459  LYBJDPXLKAGWQA-NSHDSACASA-N   \n",
       "34        0.963034    -21.948084  SHENAZADMNUPGS-VIFPVBQESA-N   \n",
       "35        0.949588    -22.097794  SHENAZADMNUPGS-VIFPVBQESA-N   \n",
       "36        0.887184    -54.996595  DEGPAYOEPZCOBR-UHFFFAOYSA-N   \n",
       "\n",
       "                                               ROMol  HIPPO Compound ID  ...  \\\n",
       "0   <rdkit.Chem.rdchem.Mol object at 0x7f887c1c6930>                890  ...   \n",
       "1   <rdkit.Chem.rdchem.Mol object at 0x7f887c1db150>                897  ...   \n",
       "2   <rdkit.Chem.rdchem.Mol object at 0x7f887c1b5fd0>               7755  ...   \n",
       "3   <rdkit.Chem.rdchem.Mol object at 0x7f8873f26b60>               1226  ...   \n",
       "4   <rdkit.Chem.rdchem.Mol object at 0x7f8873f27010>               1443  ...   \n",
       "5   <rdkit.Chem.rdchem.Mol object at 0x7f887c1c74c0>               2664  ...   \n",
       "6   <rdkit.Chem.rdchem.Mol object at 0x7f8873f27970>               2576  ...   \n",
       "7   <rdkit.Chem.rdchem.Mol object at 0x7f8873f27ec0>               2576  ...   \n",
       "8   <rdkit.Chem.rdchem.Mol object at 0x7f8873f78360>               3075  ...   \n",
       "9   <rdkit.Chem.rdchem.Mol object at 0x7f887c1db4c0>                772  ...   \n",
       "10  <rdkit.Chem.rdchem.Mol object at 0x7f8873f78cc0>                791  ...   \n",
       "11  <rdkit.Chem.rdchem.Mol object at 0x7f8873f79170>                808  ...   \n",
       "12  <rdkit.Chem.rdchem.Mol object at 0x7f8873f79670>                850  ...   \n",
       "13  <rdkit.Chem.rdchem.Mol object at 0x7f8873f79b20>                852  ...   \n",
       "14  <rdkit.Chem.rdchem.Mol object at 0x7f8873f79fd0>                856  ...   \n",
       "15  <rdkit.Chem.rdchem.Mol object at 0x7f887c3a18a0>                885  ...   \n",
       "16  <rdkit.Chem.rdchem.Mol object at 0x7f8873f7a8e0>                886  ...   \n",
       "17  <rdkit.Chem.rdchem.Mol object at 0x7f8873f7ade0>                890  ...   \n",
       "18  <rdkit.Chem.rdchem.Mol object at 0x7f8873f7b240>                915  ...   \n",
       "19  <rdkit.Chem.rdchem.Mol object at 0x7f8873f7b790>               1345  ...   \n",
       "20  <rdkit.Chem.rdchem.Mol object at 0x7f887c1b52b0>               6353  ...   \n",
       "21  <rdkit.Chem.rdchem.Mol object at 0x7f8873f84270>              33434  ...   \n",
       "22  <rdkit.Chem.rdchem.Mol object at 0x7f8873f845e0>              28013  ...   \n",
       "23  <rdkit.Chem.rdchem.Mol object at 0x7f8873f84a90>              29639  ...   \n",
       "24  <rdkit.Chem.rdchem.Mol object at 0x7f8873f84f90>              49374  ...   \n",
       "25  <rdkit.Chem.rdchem.Mol object at 0x7f8873f85490>              49374  ...   \n",
       "26  <rdkit.Chem.rdchem.Mol object at 0x7f8873f85990>              48706  ...   \n",
       "27  <rdkit.Chem.rdchem.Mol object at 0x7f8873f85e90>              32376  ...   \n",
       "28  <rdkit.Chem.rdchem.Mol object at 0x7f8873f862a0>              53809  ...   \n",
       "29  <rdkit.Chem.rdchem.Mol object at 0x7f8873f26700>              34701  ...   \n",
       "30  <rdkit.Chem.rdchem.Mol object at 0x7f8873f86b10>              54123  ...   \n",
       "31  <rdkit.Chem.rdchem.Mol object at 0x7f8873f86f20>              55598  ...   \n",
       "32  <rdkit.Chem.rdchem.Mol object at 0x7f8873f873d0>              55856  ...   \n",
       "33  <rdkit.Chem.rdchem.Mol object at 0x7f8873f27790>              55856  ...   \n",
       "34  <rdkit.Chem.rdchem.Mol object at 0x7f8873f87bf0>              33434  ...   \n",
       "35  <rdkit.Chem.rdchem.Mol object at 0x7f8873f84040>              33434  ...   \n",
       "36  <rdkit.Chem.rdchem.Mol object at 0x7f8873f8c4f0>              36458  ...   \n",
       "\n",
       "   SLURM_JOB_ID                                     SLURM_JOB_NAME  \\\n",
       "0        211010  BulkDock.place:Flavi_NS5_RdRp:RdRp_knitwork_th...   \n",
       "1        211010  BulkDock.place:Flavi_NS5_RdRp:RdRp_knitwork_th...   \n",
       "2        220466  BulkDock.place:Flavi_NS5_RdRp:RdRp_knitwork_gr...   \n",
       "3        220461  BulkDock.place:Flavi_NS5_RdRp:RdRp_knitwork_gr...   \n",
       "4        220460  BulkDock.place:Flavi_NS5_RdRp:RdRp_knitwork_gr...   \n",
       "5        220461  BulkDock.place:Flavi_NS5_RdRp:RdRp_knitwork_gr...   \n",
       "6        211014  BulkDock.place:Flavi_NS5_RdRp:RdRp_knitwork_th...   \n",
       "7        211014  BulkDock.place:Flavi_NS5_RdRp:RdRp_knitwork_th...   \n",
       "8        211010  BulkDock.place:Flavi_NS5_RdRp:RdRp_knitwork_th...   \n",
       "9        211010  BulkDock.place:Flavi_NS5_RdRp:RdRp_knitwork_th...   \n",
       "10       220464  BulkDock.place:Flavi_NS5_RdRp:RdRp_knitwork_gr...   \n",
       "11       211010  BulkDock.place:Flavi_NS5_RdRp:RdRp_knitwork_th...   \n",
       "12       211010  BulkDock.place:Flavi_NS5_RdRp:RdRp_knitwork_th...   \n",
       "13       220467  BulkDock.place:Flavi_NS5_RdRp:RdRp_knitwork_gr...   \n",
       "14       220464  BulkDock.place:Flavi_NS5_RdRp:RdRp_knitwork_gr...   \n",
       "15       211010  BulkDock.place:Flavi_NS5_RdRp:RdRp_knitwork_th...   \n",
       "16       220464  BulkDock.place:Flavi_NS5_RdRp:RdRp_knitwork_gr...   \n",
       "17       211010  BulkDock.place:Flavi_NS5_RdRp:RdRp_knitwork_th...   \n",
       "18       211010  BulkDock.place:Flavi_NS5_RdRp:RdRp_knitwork_th...   \n",
       "19       211013  BulkDock.place:Flavi_NS5_RdRp:RdRp_knitwork_th...   \n",
       "20       217081  BulkDock.place:Flavi_NS5_RdRp:RdRp_knitwork_gr...   \n",
       "21       217087  BulkDock.place:Flavi_NS5_RdRp:RdRp_knitwork_gr...   \n",
       "22       217074  BulkDock.place:Flavi_NS5_RdRp:RdRp_knitwork_gr...   \n",
       "23       217074  BulkDock.place:Flavi_NS5_RdRp:RdRp_knitwork_gr...   \n",
       "24       217079  BulkDock.place:Flavi_NS5_RdRp:RdRp_knitwork_gr...   \n",
       "25       217079  BulkDock.place:Flavi_NS5_RdRp:RdRp_knitwork_gr...   \n",
       "26       217076  BulkDock.place:Flavi_NS5_RdRp:RdRp_knitwork_gr...   \n",
       "27       217082  BulkDock.place:Flavi_NS5_RdRp:RdRp_knitwork_gr...   \n",
       "28       217087  BulkDock.place:Flavi_NS5_RdRp:RdRp_knitwork_gr...   \n",
       "29       217079  BulkDock.place:Flavi_NS5_RdRp:RdRp_knitwork_gr...   \n",
       "30       217082  BulkDock.place:Flavi_NS5_RdRp:RdRp_knitwork_gr...   \n",
       "31       217082  BulkDock.place:Flavi_NS5_RdRp:RdRp_knitwork_gr...   \n",
       "32       217082  BulkDock.place:Flavi_NS5_RdRp:RdRp_knitwork_gr...   \n",
       "33       217082  BulkDock.place:Flavi_NS5_RdRp:RdRp_knitwork_gr...   \n",
       "34       217075  BulkDock.place:Flavi_NS5_RdRp:RdRp_knitwork_gr...   \n",
       "35       217075  BulkDock.place:Flavi_NS5_RdRp:RdRp_knitwork_gr...   \n",
       "36       217079  BulkDock.place:Flavi_NS5_RdRp:RdRp_knitwork_gr...   \n",
       "\n",
       "                                             csv_name  \\\n",
       "0   RdRp_knitwork_thumb_site_2_pure_split4000_batc...   \n",
       "1   RdRp_knitwork_thumb_site_2_pure_split4000_batc...   \n",
       "2   RdRp_knitwork_green_site_rna_tunnel_impure_spl...   \n",
       "3   RdRp_knitwork_green_site_rna_tunnel_impure_spl...   \n",
       "4   RdRp_knitwork_green_site_rna_tunnel_impure_spl...   \n",
       "5   RdRp_knitwork_green_site_rna_tunnel_impure_spl...   \n",
       "6   RdRp_knitwork_thumb_site_2_impure_split4000_ba...   \n",
       "7   RdRp_knitwork_thumb_site_2_impure_split4000_ba...   \n",
       "8   RdRp_knitwork_thumb_site_2_pure_split4000_batc...   \n",
       "9   RdRp_knitwork_thumb_site_2_pure_split4000_batc...   \n",
       "10  RdRp_knitwork_green_site_rna_tunnel_impure_spl...   \n",
       "11  RdRp_knitwork_thumb_site_2_pure_split4000_batc...   \n",
       "12  RdRp_knitwork_thumb_site_2_pure_split4000_batc...   \n",
       "13  RdRp_knitwork_green_site_rna_tunnel_impure_spl...   \n",
       "14  RdRp_knitwork_green_site_rna_tunnel_impure_spl...   \n",
       "15  RdRp_knitwork_thumb_site_2_pure_split4000_batc...   \n",
       "16  RdRp_knitwork_green_site_rna_tunnel_impure_spl...   \n",
       "17  RdRp_knitwork_thumb_site_2_pure_split4000_batc...   \n",
       "18  RdRp_knitwork_thumb_site_2_pure_split4000_batc...   \n",
       "19  RdRp_knitwork_thumb_site_2_impure_split4000_ba...   \n",
       "20  RdRp_knitwork_green_site_rna_tunnel_pure_split...   \n",
       "21  RdRp_knitwork_green_site_rna_tunnel_pure_split...   \n",
       "22  RdRp_knitwork_green_site_rna_tunnel_pure_split...   \n",
       "23  RdRp_knitwork_green_site_rna_tunnel_pure_split...   \n",
       "24  RdRp_knitwork_green_site_rna_tunnel_pure_split...   \n",
       "25  RdRp_knitwork_green_site_rna_tunnel_pure_split...   \n",
       "26  RdRp_knitwork_green_site_rna_tunnel_pure_split...   \n",
       "27  RdRp_knitwork_green_site_rna_tunnel_pure_split...   \n",
       "28  RdRp_knitwork_green_site_rna_tunnel_pure_split...   \n",
       "29  RdRp_knitwork_green_site_rna_tunnel_pure_split...   \n",
       "30  RdRp_knitwork_green_site_rna_tunnel_pure_split...   \n",
       "31  RdRp_knitwork_green_site_rna_tunnel_pure_split...   \n",
       "32  RdRp_knitwork_green_site_rna_tunnel_pure_split...   \n",
       "33  RdRp_knitwork_green_site_rna_tunnel_pure_split...   \n",
       "34  RdRp_knitwork_green_site_rna_tunnel_pure_split...   \n",
       "35  RdRp_knitwork_green_site_rna_tunnel_pure_split...   \n",
       "36  RdRp_knitwork_green_site_rna_tunnel_pure_split...   \n",
       "\n",
       "                                       scratch_subdir  fragmenstein_runtime  \\\n",
       "0   [/opt/xchem-fragalysis-2/maxwin/BulkDock/SCRAT...  [1.9639780521392822]   \n",
       "1   [/opt/xchem-fragalysis-2/maxwin/BulkDock/SCRAT...   [6.457012414932251]   \n",
       "2   /opt/xchem-fragalysis-2/maxwin/BulkDock/SCRATC...             23.797484   \n",
       "3   /opt/xchem-fragalysis-2/maxwin/BulkDock/SCRATC...               2.28255   \n",
       "4   /opt/xchem-fragalysis-2/maxwin/BulkDock/SCRATC...             10.803892   \n",
       "5   /opt/xchem-fragalysis-2/maxwin/BulkDock/SCRATC...              11.57422   \n",
       "6   [/opt/xchem-fragalysis-2/maxwin/BulkDock/SCRAT...   [6.769750118255615]   \n",
       "7   [/opt/xchem-fragalysis-2/maxwin/BulkDock/SCRAT...   [6.282138824462891]   \n",
       "8   [/opt/xchem-fragalysis-2/maxwin/BulkDock/SCRAT...  [10.632996082305908]   \n",
       "9   [/opt/xchem-fragalysis-2/maxwin/BulkDock/SCRAT...  [1.7414286136627197]   \n",
       "10  /opt/xchem-fragalysis-2/maxwin/BulkDock/SCRATC...             11.186879   \n",
       "11  [/opt/xchem-fragalysis-2/maxwin/BulkDock/SCRAT...  [1.5386583805084229]   \n",
       "12  [/opt/xchem-fragalysis-2/maxwin/BulkDock/SCRAT...  [2.3045759201049805]   \n",
       "13  /opt/xchem-fragalysis-2/maxwin/BulkDock/SCRATC...              6.709692   \n",
       "14  /opt/xchem-fragalysis-2/maxwin/BulkDock/SCRATC...              15.01073   \n",
       "15  [/opt/xchem-fragalysis-2/maxwin/BulkDock/SCRAT...  [1.7871043682098389]   \n",
       "16  /opt/xchem-fragalysis-2/maxwin/BulkDock/SCRATC...             15.616388   \n",
       "17  [/opt/xchem-fragalysis-2/maxwin/BulkDock/SCRAT...  [1.2955694198608398]   \n",
       "18  [/opt/xchem-fragalysis-2/maxwin/BulkDock/SCRAT...  [1.3582980632781982]   \n",
       "19  [/opt/xchem-fragalysis-2/maxwin/BulkDock/SCRAT...   [1.338061809539795]   \n",
       "20  /opt/xchem-fragalysis-2/maxwin/BulkDock/SCRATC...              6.911534   \n",
       "21  /opt/xchem-fragalysis-2/maxwin/BulkDock/SCRATC...              3.506608   \n",
       "22  /opt/xchem-fragalysis-2/maxwin/BulkDock/SCRATC...              3.831657   \n",
       "23  /opt/xchem-fragalysis-2/maxwin/BulkDock/SCRATC...              3.122275   \n",
       "24  /opt/xchem-fragalysis-2/maxwin/BulkDock/SCRATC...              2.765121   \n",
       "25  /opt/xchem-fragalysis-2/maxwin/BulkDock/SCRATC...              2.230866   \n",
       "26  /opt/xchem-fragalysis-2/maxwin/BulkDock/SCRATC...              1.774051   \n",
       "27  /opt/xchem-fragalysis-2/maxwin/BulkDock/SCRATC...              2.031196   \n",
       "28  /opt/xchem-fragalysis-2/maxwin/BulkDock/SCRATC...              6.260428   \n",
       "29  /opt/xchem-fragalysis-2/maxwin/BulkDock/SCRATC...              4.191432   \n",
       "30  /opt/xchem-fragalysis-2/maxwin/BulkDock/SCRATC...              5.734726   \n",
       "31  /opt/xchem-fragalysis-2/maxwin/BulkDock/SCRATC...              4.909375   \n",
       "32  /opt/xchem-fragalysis-2/maxwin/BulkDock/SCRATC...              2.445407   \n",
       "33  /opt/xchem-fragalysis-2/maxwin/BulkDock/SCRATC...               4.29716   \n",
       "34  /opt/xchem-fragalysis-2/maxwin/BulkDock/SCRATC...              4.497667   \n",
       "35  /opt/xchem-fragalysis-2/maxwin/BulkDock/SCRATC...              2.465154   \n",
       "36  /opt/xchem-fragalysis-2/maxwin/BulkDock/SCRATC...              5.697099   \n",
       "\n",
       "   fragmenstein_outcome fragmenstein_mode fragmenstein_error  \\\n",
       "0          [acceptable]       [expansion]                 []   \n",
       "1          [acceptable]       [expansion]                 []   \n",
       "2             too moved         expansion               None   \n",
       "3             too moved         expansion               None   \n",
       "4             too moved         expansion               None   \n",
       "5             too moved         expansion               None   \n",
       "6          [acceptable]       [expansion]                 []   \n",
       "7          [acceptable]       [expansion]                 []   \n",
       "8          [acceptable]       [expansion]                 []   \n",
       "9          [acceptable]       [expansion]                 []   \n",
       "10            too moved         expansion               None   \n",
       "11         [acceptable]       [expansion]                 []   \n",
       "12         [acceptable]       [expansion]                 []   \n",
       "13            too moved         expansion               None   \n",
       "14            too moved         expansion               None   \n",
       "15         [acceptable]       [expansion]                 []   \n",
       "16            too moved         expansion               None   \n",
       "17         [acceptable]       [expansion]                 []   \n",
       "18         [acceptable]       [expansion]                 []   \n",
       "19         [acceptable]       [expansion]                 []   \n",
       "20            too moved         expansion               None   \n",
       "21           acceptable         expansion               None   \n",
       "22           acceptable         expansion               None   \n",
       "23           acceptable         expansion               None   \n",
       "24           acceptable         expansion               None   \n",
       "25           acceptable         expansion               None   \n",
       "26           acceptable         expansion               None   \n",
       "27           acceptable         expansion               None   \n",
       "28           acceptable         expansion               None   \n",
       "29           acceptable         expansion               None   \n",
       "30           acceptable         expansion               None   \n",
       "31           acceptable         expansion               None   \n",
       "32           acceptable         expansion               None   \n",
       "33           acceptable         expansion               None   \n",
       "34           acceptable         expansion               None   \n",
       "35           acceptable         expansion               None   \n",
       "36           acceptable         expansion               None   \n",
       "\n",
       "                                              exports  \\\n",
       "0   [/opt/xchem-fragalysis-2/maxwin/BulkDock/OUTPU...   \n",
       "1   [/opt/xchem-fragalysis-2/maxwin/BulkDock/OUTPU...   \n",
       "2                                                 NaN   \n",
       "3                                                 NaN   \n",
       "4                                                 NaN   \n",
       "5                                                 NaN   \n",
       "6   [/opt/xchem-fragalysis-2/maxwin/BulkDock/OUTPU...   \n",
       "7   [/opt/xchem-fragalysis-2/maxwin/BulkDock/OUTPU...   \n",
       "8   [/opt/xchem-fragalysis-2/maxwin/BulkDock/OUTPU...   \n",
       "9   [/opt/xchem-fragalysis-2/maxwin/BulkDock/OUTPU...   \n",
       "10                                                NaN   \n",
       "11  [/opt/xchem-fragalysis-2/maxwin/BulkDock/OUTPU...   \n",
       "12  [/opt/xchem-fragalysis-2/maxwin/BulkDock/OUTPU...   \n",
       "13                                                NaN   \n",
       "14                                                NaN   \n",
       "15  [/opt/xchem-fragalysis-2/maxwin/BulkDock/OUTPU...   \n",
       "16                                                NaN   \n",
       "17  [/opt/xchem-fragalysis-2/maxwin/BulkDock/OUTPU...   \n",
       "18  [/opt/xchem-fragalysis-2/maxwin/BulkDock/OUTPU...   \n",
       "19  [/opt/xchem-fragalysis-2/maxwin/BulkDock/OUTPU...   \n",
       "20                                                NaN   \n",
       "21  [/opt/xchem-fragalysis-2/maxwin/BulkDock/OUTPU...   \n",
       "22  [/opt/xchem-fragalysis-2/maxwin/BulkDock/OUTPU...   \n",
       "23  [/opt/xchem-fragalysis-2/maxwin/BulkDock/OUTPU...   \n",
       "24  [/opt/xchem-fragalysis-2/maxwin/BulkDock/OUTPU...   \n",
       "25  [/opt/xchem-fragalysis-2/maxwin/BulkDock/OUTPU...   \n",
       "26  [/opt/xchem-fragalysis-2/maxwin/BulkDock/OUTPU...   \n",
       "27  [/opt/xchem-fragalysis-2/maxwin/BulkDock/OUTPU...   \n",
       "28  [/opt/xchem-fragalysis-2/maxwin/BulkDock/OUTPU...   \n",
       "29  [/opt/xchem-fragalysis-2/maxwin/BulkDock/OUTPU...   \n",
       "30  [/opt/xchem-fragalysis-2/maxwin/BulkDock/OUTPU...   \n",
       "31  [/opt/xchem-fragalysis-2/maxwin/BulkDock/OUTPU...   \n",
       "32  [/opt/xchem-fragalysis-2/maxwin/BulkDock/OUTPU...   \n",
       "33  [/opt/xchem-fragalysis-2/maxwin/BulkDock/OUTPU...   \n",
       "34  [/opt/xchem-fragalysis-2/maxwin/BulkDock/OUTPU...   \n",
       "35  [/opt/xchem-fragalysis-2/maxwin/BulkDock/OUTPU...   \n",
       "36  [/opt/xchem-fragalysis-2/maxwin/BulkDock/OUTPU...   \n",
       "\n",
       "                          _Name  \n",
       "0   XDGUIPBTSIDPMH-UHFFFAOYSA-N  \n",
       "1   ZPBHINXHGPMFIS-UHFFFAOYSA-N  \n",
       "2   IYFJGUVPMIFAOX-UHFFFAOYSA-N  \n",
       "3   LGAJFWJWFLCBPR-UHFFFAOYSA-N  \n",
       "4   IQFFGYDSWILZBZ-UHFFFAOYSA-N  \n",
       "5   XXQBDXPESCLSQC-SSDOTTSWSA-N  \n",
       "6   HCFQKVQSVAJCEG-SECBINFHSA-N  \n",
       "7   HCFQKVQSVAJCEG-SECBINFHSA-N  \n",
       "8   FOZSYKGVMKDKBV-SNVBAGLBSA-N  \n",
       "9   VJAXJNJKELENHP-UHFFFAOYSA-N  \n",
       "10  VUWLOCLKMVGYPC-UHFFFAOYSA-N  \n",
       "11  KYKFBYOZGOXJTI-UHFFFAOYSA-N  \n",
       "12  JSMASCHCFMRBQP-UHFFFAOYSA-N  \n",
       "13  YCSYUEQAYOMAGE-UHFFFAOYSA-N  \n",
       "14  RWOAYQXMDLLTCN-UHFFFAOYSA-N  \n",
       "15  CZXIYJPCHZSMDX-UHFFFAOYSA-N  \n",
       "16  QXEWTLBETOJJBD-UHFFFAOYSA-N  \n",
       "17  XDGUIPBTSIDPMH-UHFFFAOYSA-N  \n",
       "18  BCMFRBFZBGDNRH-UHFFFAOYSA-N  \n",
       "19  KUNYWHXFLWUFPB-UHFFFAOYSA-N  \n",
       "20  BXUSHCNUMJPCGE-SECBINFHSA-N  \n",
       "21  SHENAZADMNUPGS-VIFPVBQESA-N  \n",
       "22  IMMHZJLASOVDCS-UHFFFAOYSA-N  \n",
       "23  YAOSTISNIUSXMX-UHFFFAOYSA-N  \n",
       "24  WXCSLBRGRKDJSX-QMMMGPOBSA-N  \n",
       "25  WXCSLBRGRKDJSX-QMMMGPOBSA-N  \n",
       "26  YLNUDNTUPQXQBM-UHFFFAOYSA-N  \n",
       "27  ZLBFYANSAYZPQU-UHFFFAOYSA-N  \n",
       "28  UKWFLRZSMSDWTC-SNVBAGLBSA-N  \n",
       "29  XYRDJRCBUAYREB-MRVPVSSYSA-N  \n",
       "30  DBRZTKKVIQOBQT-NSHDSACASA-N  \n",
       "31  QLFFONPVDDKJCE-SNVBAGLBSA-N  \n",
       "32  LYBJDPXLKAGWQA-NSHDSACASA-N  \n",
       "33  LYBJDPXLKAGWQA-NSHDSACASA-N  \n",
       "34  SHENAZADMNUPGS-VIFPVBQESA-N  \n",
       "35  SHENAZADMNUPGS-VIFPVBQESA-N  \n",
       "36  DEGPAYOEPZCOBR-UHFFFAOYSA-N  \n",
       "\n",
       "[37 rows x 23 columns]"
      ]
     },
     "execution_count": 18,
     "metadata": {},
     "output_type": "execute_result"
    }
   ],
   "source": [
    "quoted_poses.to_fragalysis(\"../quotes/JA_curated_and_manual_ordered.sdf\", method=\"Enamine_Order_1968912\", submitter_name=\"Max Winokan\", submitter_email=\"max.winokan@diamond.ac.uk\", submitter_institution=\"DLS\")"
   ]
  },
  {
   "cell_type": "code",
   "execution_count": null,
   "id": "a5f070ad-e759-4b7c-b906-0207bf42a86e",
   "metadata": {},
   "outputs": [],
   "source": []
  }
 ],
 "metadata": {
  "kernelspec": {
   "display_name": "Python [conda env:base] *",
   "language": "python",
   "name": "conda-base-py"
  },
  "language_info": {
   "codemirror_mode": {
    "name": "ipython",
    "version": 3
   },
   "file_extension": ".py",
   "mimetype": "text/x-python",
   "name": "python",
   "nbconvert_exporter": "python",
   "pygments_lexer": "ipython3",
   "version": "3.11.6"
  }
 },
 "nbformat": 4,
 "nbformat_minor": 5
}
