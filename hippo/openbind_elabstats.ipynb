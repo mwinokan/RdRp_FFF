{
 "cells": [
  {
   "cell_type": "code",
   "execution_count": 71,
   "id": "b36fff6c-a4a7-4844-af61-404b27048631",
   "metadata": {},
   "outputs": [
    {
     "name": "stdout",
     "output_type": "stream",
     "text": [
      "The autoreload extension is already loaded. To reload it, use:\n",
      "  %reload_ext autoreload\n"
     ]
    }
   ],
   "source": [
    "%load_ext autoreload\n",
    "%autoreload 2\n",
    "import hippo\n",
    "import mrich\n",
    "from mrich import print\n",
    "from pathlib import Path\n",
    "import pandas as pd"
   ]
  },
  {
   "cell_type": "code",
   "execution_count": 2,
   "id": "d71be724-bfbf-4017-996a-58a7cba9cc3e",
   "metadata": {},
   "outputs": [
    {
     "data": {
      "text/html": [
       "<pre style=\"white-space:pre;overflow-x:auto;line-height:normal;font-family:Menlo,'DejaVu Sans Mono',consolas,'Courier New',monospace;margin:0px\"><span style=\"font-weight: bold\"> Creating HIPPO animal</span>\n",
       "</pre>\n"
      ],
      "text/plain": [
       "\u001b[1m Creating HIPPO animal\u001b[0m\n"
      ]
     },
     "metadata": {},
     "output_type": "display_data"
    },
    {
     "data": {
      "text/html": [
       "<pre style=\"white-space:pre;overflow-x:auto;line-height:normal;font-family:Menlo,'DejaVu Sans Mono',consolas,'Courier New',monospace;margin:0px\"><span style=\"color: #008080; text-decoration-color: #008080; font-weight: bold\">name</span> = <span style=\"color: #00d7af; text-decoration-color: #00d7af\">RdRp</span>\n",
       "</pre>\n"
      ],
      "text/plain": [
       "\u001b[1;36mname\u001b[0m = \u001b[38;5;43mRdRp\u001b[0m\n"
      ]
     },
     "metadata": {},
     "output_type": "display_data"
    },
    {
     "data": {
      "text/html": [
       "<pre style=\"white-space:pre;overflow-x:auto;line-height:normal;font-family:Menlo,'DejaVu Sans Mono',consolas,'Courier New',monospace;margin:0px\"><span style=\"color: #008080; text-decoration-color: #008080; font-weight: bold\">db_path</span> = <span style=\"color: #d7af00; text-decoration-color: #d7af00\">../../BulkDock/TARGETS/Flavi_NS5_RdRp/Flavi_NS5_RdRp.sqlite</span>\n",
       "</pre>\n"
      ],
      "text/plain": [
       "\u001b[1;36mdb_path\u001b[0m = \u001b[38;5;178m../../BulkDock/TARGETS/Flavi_NS5_RdRp/Flavi_NS5_RdRp.sqlite\u001b[0m\n"
      ]
     },
     "metadata": {},
     "output_type": "display_data"
    },
    {
     "data": {
      "text/html": [
       "<pre style=\"white-space:pre;overflow-x:auto;line-height:normal;font-family:Menlo,'DejaVu Sans Mono',consolas,'Courier New',monospace;margin:0px\"><span style=\"color: #808080; text-decoration-color: #808080\">DEBUG: hippo.Database.__init__()</span>\n",
       "</pre>\n"
      ],
      "text/plain": [
       "\u001b[90mDEBUG: hippo.Database.__init__()\u001b[0m\n"
      ]
     },
     "metadata": {},
     "output_type": "display_data"
    },
    {
     "data": {
      "text/html": [
       "<pre style=\"white-space:pre;overflow-x:auto;line-height:normal;font-family:Menlo,'DejaVu Sans Mono',consolas,'Courier New',monospace;margin:0px\"><span style=\"color: #808080; text-decoration-color: #808080\">DEBUG: Database.path = ../../BulkDock/TARGETS/Flavi_NS5_RdRp/Flavi_NS5_RdRp.sqlite</span>\n",
       "</pre>\n"
      ],
      "text/plain": [
       "\u001b[90mDEBUG: Database.path = ../../BulkDock/TARGETS/Flavi_NS5_RdRp/Flavi_NS5_RdRp.sqlite\u001b[0m\n"
      ]
     },
     "metadata": {},
     "output_type": "display_data"
    },
    {
     "data": {
      "text/html": [
       "<pre style=\"white-space:pre;overflow-x:auto;line-height:normal;font-family:Menlo,'DejaVu Sans Mono',consolas,'Courier New',monospace;margin:0px\"><span style=\"color: #808080; text-decoration-color: #808080\">DEBUG: hippo.Database.connect()</span>\n",
       "</pre>\n"
      ],
      "text/plain": [
       "\u001b[90mDEBUG: hippo.Database.connect()\u001b[0m\n"
      ]
     },
     "metadata": {},
     "output_type": "display_data"
    },
    {
     "data": {
      "text/html": [
       "<pre style=\"white-space:pre;overflow-x:auto;line-height:normal;font-family:Menlo,'DejaVu Sans Mono',consolas,'Courier New',monospace;margin:0px\"><span style=\"color: #808080; text-decoration-color: #808080\">DEBUG: sqlite3.version='2.6.0'</span>\n",
       "</pre>\n"
      ],
      "text/plain": [
       "\u001b[90mDEBUG: sqlite3.version='2.6.0'\u001b[0m\n"
      ]
     },
     "metadata": {},
     "output_type": "display_data"
    },
    {
     "data": {
      "text/html": [
       "<pre style=\"white-space:pre;overflow-x:auto;line-height:normal;font-family:Menlo,'DejaVu Sans Mono',consolas,'Courier New',monospace;margin:0px\"><span style=\"background-color: #008000; font-weight: bold\"> Success </span><span style=\"color: #008000; text-decoration-color: #008000; font-weight: bold\"> Database connected @</span><span style=\"color: #d7af00; text-decoration-color: #d7af00; font-weight: bold\"> ../../BulkDock/TARGETS/Flavi_NS5_RdRp/Flavi_NS5_RdRp.sqlite!</span>\n",
       "</pre>\n"
      ],
      "text/plain": [
       "\u001b[1;7;32m Success \u001b[0m\u001b[1;32m Database connected @\u001b[0m\u001b[1;38;5;178m ../../BulkDock/TARGETS/Flavi_NS5_RdRp/Flavi_NS5_RdRp.sqlite!\u001b[0m\n"
      ]
     },
     "metadata": {},
     "output_type": "display_data"
    },
    {
     "data": {
      "text/html": [
       "<pre style=\"white-space:pre;overflow-x:auto;line-height:normal;font-family:Menlo,'DejaVu Sans Mono',consolas,'Courier New',monospace;margin:0px\"><span style=\"background-color: #008000; font-weight: bold\"> Success </span><span style=\"color: #008000; text-decoration-color: #008000; font-weight: bold\"> Initialised animal</span><span style=\"color: #008080; text-decoration-color: #008080; font-weight: bold\"> HIPPO(\"RdRp\")!</span>\n",
       "</pre>\n"
      ],
      "text/plain": [
       "\u001b[1;7;32m Success \u001b[0m\u001b[1;32m Initialised animal\u001b[0m\u001b[1;36m HIPPO(\"RdRp\")!\u001b[0m\n"
      ]
     },
     "metadata": {},
     "output_type": "display_data"
    }
   ],
   "source": [
    "animal = hippo.HIPPO(\"RdRp\", \"../../BulkDock/TARGETS/Flavi_NS5_RdRp/Flavi_NS5_RdRp.sqlite\")"
   ]
  },
  {
   "cell_type": "markdown",
   "id": "c8123f9e-a5ea-4fe1-a788-c2dc50baa7ad",
   "metadata": {},
   "source": [
    "## Export SMILES by pockets"
   ]
  },
  {
   "cell_type": "code",
   "execution_count": 20,
   "id": "62660e77-d61e-48ea-adea-ecf9ad95fac1",
   "metadata": {},
   "outputs": [],
   "source": [
    "TAGS = [\n",
    "    \"Green Site/RNA tunnel\",\n",
    "    \"Primer grip/N-pocket\",\n",
    "    \"Cavity B\",\n",
    "    \"Thumb Site 2\",\n",
    "]"
   ]
  },
  {
   "cell_type": "code",
   "execution_count": 22,
   "id": "f3971f46-c892-4093-ba88-d1718d564e9e",
   "metadata": {},
   "outputs": [
    {
     "data": {
      "text/html": [
       "<pre style=\"white-space:pre;overflow-x:auto;line-height:normal;font-family:Menlo,'DejaVu Sans Mono',consolas,'Courier New',monospace;margin:0px\"><span style=\"font-weight: bold; text-decoration: underline\">poses tagged </span><span style=\"color: #008000; text-decoration-color: #008000; font-weight: bold; text-decoration: underline\">\"Green Site/RNA tunnel merge\"</span><span style=\"font-weight: bold; text-decoration: underline\">: {P × </span><span style=\"color: #008080; text-decoration-color: #008080; font-weight: bold; text-decoration: underline\">172966</span><span style=\"font-weight: bold; text-decoration: underline\">}</span>\n",
       "</pre>\n"
      ],
      "text/plain": [
       "\u001b[1;4mposes tagged \u001b[0m\u001b[1;4;32m\"Green Site/RNA tunnel merge\"\u001b[0m\u001b[1;4m: \u001b[0m\u001b[1;4m{\u001b[0m\u001b[1;4mP × \u001b[0m\u001b[1;4;36m172966\u001b[0m\u001b[1;4m}\u001b[0m\n"
      ]
     },
     "metadata": {},
     "output_type": "display_data"
    },
    {
     "data": {
      "text/html": [
       "<pre style=\"white-space:pre;overflow-x:auto;line-height:normal;font-family:Menlo,'DejaVu Sans Mono',consolas,'Courier New',monospace;margin:0px\"><span style=\"font-weight: bold; text-decoration: underline\">poses tagged </span><span style=\"color: #008000; text-decoration-color: #008000; font-weight: bold; text-decoration: underline\">\"Primer grip/N-pocket merge\"</span><span style=\"font-weight: bold; text-decoration: underline\">: {P × </span><span style=\"color: #008080; text-decoration-color: #008080; font-weight: bold; text-decoration: underline\">28894</span><span style=\"font-weight: bold; text-decoration: underline\">}</span>\n",
       "</pre>\n"
      ],
      "text/plain": [
       "\u001b[1;4mposes tagged \u001b[0m\u001b[1;4;32m\"Primer grip/N-pocket merge\"\u001b[0m\u001b[1;4m: \u001b[0m\u001b[1;4m{\u001b[0m\u001b[1;4mP × \u001b[0m\u001b[1;4;36m28894\u001b[0m\u001b[1;4m}\u001b[0m\n"
      ]
     },
     "metadata": {},
     "output_type": "display_data"
    },
    {
     "data": {
      "text/html": [
       "<pre style=\"white-space:pre;overflow-x:auto;line-height:normal;font-family:Menlo,'DejaVu Sans Mono',consolas,'Courier New',monospace;margin:0px\"><span style=\"font-weight: bold; text-decoration: underline\">poses tagged </span><span style=\"color: #008000; text-decoration-color: #008000; font-weight: bold; text-decoration: underline\">\"Cavity B merge\"</span><span style=\"font-weight: bold; text-decoration: underline\">: {P × </span><span style=\"color: #008080; text-decoration-color: #008080; font-weight: bold; text-decoration: underline\">452</span><span style=\"font-weight: bold; text-decoration: underline\">}</span>\n",
       "</pre>\n"
      ],
      "text/plain": [
       "\u001b[1;4mposes tagged \u001b[0m\u001b[1;4;32m\"Cavity B merge\"\u001b[0m\u001b[1;4m: \u001b[0m\u001b[1;4m{\u001b[0m\u001b[1;4mP × \u001b[0m\u001b[1;4;36m452\u001b[0m\u001b[1;4m}\u001b[0m\n"
      ]
     },
     "metadata": {},
     "output_type": "display_data"
    },
    {
     "data": {
      "text/html": [
       "<pre style=\"white-space:pre;overflow-x:auto;line-height:normal;font-family:Menlo,'DejaVu Sans Mono',consolas,'Courier New',monospace;margin:0px\"><span style=\"font-weight: bold; text-decoration: underline\">poses tagged </span><span style=\"color: #008000; text-decoration-color: #008000; font-weight: bold; text-decoration: underline\">\"Thumb Site 2 merge\"</span><span style=\"font-weight: bold; text-decoration: underline\">: {P × </span><span style=\"color: #008080; text-decoration-color: #008080; font-weight: bold; text-decoration: underline\">4892</span><span style=\"font-weight: bold; text-decoration: underline\">}</span>\n",
       "</pre>\n"
      ],
      "text/plain": [
       "\u001b[1;4mposes tagged \u001b[0m\u001b[1;4;32m\"Thumb Site 2 merge\"\u001b[0m\u001b[1;4m: \u001b[0m\u001b[1;4m{\u001b[0m\u001b[1;4mP × \u001b[0m\u001b[1;4;36m4892\u001b[0m\u001b[1;4m}\u001b[0m\n"
      ]
     },
     "metadata": {},
     "output_type": "display_data"
    }
   ],
   "source": [
    "POSES = {}\n",
    "for tag in TAGS:\n",
    "    poses = animal.poses(tag=f\"{tag} merge\")\n",
    "    print(poses)\n",
    "    POSES[tag] = dict(merge_poses=poses)"
   ]
  },
  {
   "cell_type": "code",
   "execution_count": 27,
   "id": "d48f0fbb-deea-49b6-8955-2b528fe595c9",
   "metadata": {},
   "outputs": [
    {
     "data": {
      "text/html": [
       "<pre style=\"white-space:pre;overflow-x:auto;line-height:normal;font-family:Menlo,'DejaVu Sans Mono',consolas,'Courier New',monospace;margin:0px\">Green Site/RNA tunnel\n",
       "</pre>\n"
      ],
      "text/plain": [
       "Green Site/RNA tunnel\n"
      ]
     },
     "metadata": {},
     "output_type": "display_data"
    },
    {
     "data": {
      "text/html": [
       "<pre style=\"white-space:pre;overflow-x:auto;line-height:normal;font-family:Menlo,'DejaVu Sans Mono',consolas,'Courier New',monospace;margin:0px\">Primer grip/N-pocket\n",
       "</pre>\n"
      ],
      "text/plain": [
       "Primer grip/N-pocket\n"
      ]
     },
     "metadata": {},
     "output_type": "display_data"
    },
    {
     "data": {
      "text/html": [
       "<pre style=\"white-space:pre;overflow-x:auto;line-height:normal;font-family:Menlo,'DejaVu Sans Mono',consolas,'Courier New',monospace;margin:0px\">Cavity B\n",
       "</pre>\n"
      ],
      "text/plain": [
       "Cavity B\n"
      ]
     },
     "metadata": {},
     "output_type": "display_data"
    },
    {
     "data": {
      "text/html": [
       "<pre style=\"white-space:pre;overflow-x:auto;line-height:normal;font-family:Menlo,'DejaVu Sans Mono',consolas,'Courier New',monospace;margin:0px\">Thumb Site <span style=\"color: #008080; text-decoration-color: #008080; font-weight: bold\">2</span>\n",
       "</pre>\n"
      ],
      "text/plain": [
       "Thumb Site \u001b[1;36m2\u001b[0m\n"
      ]
     },
     "metadata": {},
     "output_type": "display_data"
    },
    {
     "name": "stdout",
     "output_type": "stream",
     "text": [
      "CPU times: user 390 ms, sys: 1.82 s, total: 2.21 s\n",
      "Wall time: 18 s\n"
     ]
    }
   ],
   "source": [
    "%%time\n",
    "for k,v in POSES.items():\n",
    "    print(k)\n",
    "    poses = v[\"merge_poses\"]\n",
    "    compounds = poses.compounds\n",
    "    POSES[k][\"merge_compounds\"] = compounds\n",
    "    POSES[k][\"merge_smiles\"] = compounds.smiles"
   ]
  },
  {
   "cell_type": "code",
   "execution_count": 28,
   "id": "46d2a6bc-fc0b-4d5c-9f5d-fac7718a8541",
   "metadata": {
    "scrolled": true
   },
   "outputs": [
    {
     "data": {
      "text/plain": [
       "\u001b[1m\u001b[4m{C × 3234}\u001b[22m\u001b[24m"
      ]
     },
     "execution_count": 28,
     "metadata": {},
     "output_type": "execute_result"
    }
   ],
   "source": [
    "%%time\n",
    "for k,v in POSES.items():\n",
    "    print(k)\n",
    "    poses = v[\"merge_poses\"]\n",
    "    compounds = v[\"merge_compounds\"]\n",
    "    elabs = compounds.elabs\n",
    "    POSES[k][\"merge_smiles\"] = compounds.smiles"
   ]
  },
  {
   "cell_type": "code",
   "execution_count": 38,
   "id": "138acedb-b710-4368-8472-a854a38b85a5",
   "metadata": {},
   "outputs": [
    {
     "data": {
      "text/plain": [
       "\u001b[1m\u001b[4m{C × 11534}\u001b[22m\u001b[24m"
      ]
     },
     "execution_count": 38,
     "metadata": {},
     "output_type": "execute_result"
    }
   ],
   "source": [
    "compounds = POSES[TAGS[1]][\"merge_compounds\"]\n",
    "compounds"
   ]
  },
  {
   "cell_type": "code",
   "execution_count": 39,
   "id": "8ab04adc-a343-4805-90d5-1b523b9b9c9b",
   "metadata": {},
   "outputs": [
    {
     "data": {
      "text/plain": [
       "\u001b[1m\u001b[4m{C × 20993}\u001b[22m\u001b[24m"
      ]
     },
     "execution_count": 39,
     "metadata": {},
     "output_type": "execute_result"
    }
   ],
   "source": [
    "elabs = compounds.elabs\n",
    "elabs"
   ]
  },
  {
   "cell_type": "code",
   "execution_count": 40,
   "id": "6ae995b6-2c2e-409a-8e21-11ba3052bb12",
   "metadata": {},
   "outputs": [
    {
     "data": {
      "text/plain": [
       "\u001b[1m\u001b[4m{C × 7}\u001b[22m\u001b[24m"
      ]
     },
     "execution_count": 40,
     "metadata": {},
     "output_type": "execute_result"
    }
   ],
   "source": [
    "elabs.bases"
   ]
  },
  {
   "cell_type": "code",
   "execution_count": 67,
   "id": "b8f562af-8f64-4d63-b50e-38b3b176ae34",
   "metadata": {},
   "outputs": [
    {
     "data": {
      "text/html": [
       "<pre style=\"white-space:pre;overflow-x:auto;line-height:normal;font-family:Menlo,'DejaVu Sans Mono',consolas,'Courier New',monospace;margin:0px\">Green Site/RNA tunnel\n",
       "</pre>\n"
      ],
      "text/plain": [
       "Green Site/RNA tunnel\n"
      ]
     },
     "metadata": {},
     "output_type": "display_data"
    },
    {
     "data": {
      "text/html": [
       "<pre style=\"white-space:pre;overflow-x:auto;line-height:normal;font-family:Menlo,'DejaVu Sans Mono',consolas,'Courier New',monospace;margin:0px\"><span style=\"font-weight: bold; text-decoration: underline\">{C × </span><span style=\"color: #008080; text-decoration-color: #008080; font-weight: bold; text-decoration: underline\">148292</span><span style=\"font-weight: bold; text-decoration: underline\">}</span>\n",
       "</pre>\n"
      ],
      "text/plain": [
       "\u001b[1;4m{\u001b[0m\u001b[1;4mC × \u001b[0m\u001b[1;4;36m148292\u001b[0m\u001b[1;4m}\u001b[0m\n"
      ]
     },
     "metadata": {},
     "output_type": "display_data"
    },
    {
     "data": {
      "text/html": [
       "<pre style=\"white-space:pre;overflow-x:auto;line-height:normal;font-family:Menlo,'DejaVu Sans Mono',consolas,'Courier New',monospace;margin:0px\"><span style=\"color: #808080; text-decoration-color: #808080\">DEBUG: querying...</span>\n",
       "</pre>\n"
      ],
      "text/plain": [
       "\u001b[90mDEBUG: querying...\u001b[0m\n"
      ]
     },
     "metadata": {},
     "output_type": "display_data"
    },
    {
     "data": {
      "application/vnd.jupyter.widget-view+json": {
       "model_id": "05b7f33849a849b98b23e1a744a7e6fb",
       "version_major": 2,
       "version_minor": 0
      },
      "text/plain": [
       "Output()"
      ]
     },
     "metadata": {},
     "output_type": "display_data"
    },
    {
     "data": {
      "text/html": [
       "<pre style=\"white-space:pre;overflow-x:auto;line-height:normal;font-family:Menlo,'DejaVu Sans Mono',consolas,'Courier New',monospace;margin:0px\"></pre>\n"
      ],
      "text/plain": []
     },
     "metadata": {},
     "output_type": "display_data"
    },
    {
     "data": {
      "text/html": [
       "<pre style=\"white-space:pre;overflow-x:auto;line-height:normal;font-family:Menlo,'DejaVu Sans Mono',consolas,'Courier New',monospace;margin:0px\"><span style=\"color: #808080; text-decoration-color: #808080\">DEBUG: adding scaffold column(s)</span>\n",
       "</pre>\n"
      ],
      "text/plain": [
       "\u001b[90mDEBUG: adding scaffold column(s)\u001b[0m\n"
      ]
     },
     "metadata": {},
     "output_type": "display_data"
    },
    {
     "data": {
      "text/html": [
       "<pre style=\"white-space:pre;overflow-x:auto;line-height:normal;font-family:Menlo,'DejaVu Sans Mono',consolas,'Courier New',monospace;margin:0px\"><span style=\"color: #008080; text-decoration-color: #008080; font-weight: bold\">148292</span>\n",
       "</pre>\n"
      ],
      "text/plain": [
       "\u001b[1;36m148292\u001b[0m\n"
      ]
     },
     "metadata": {},
     "output_type": "display_data"
    },
    {
     "data": {
      "text/html": [
       "<pre style=\"white-space:pre;overflow-x:auto;line-height:normal;font-family:Menlo,'DejaVu Sans Mono',consolas,'Courier New',monospace;margin:0px\">scaffolds <span style=\"font-weight: bold; text-decoration: underline\">{C × </span><span style=\"color: #008080; text-decoration-color: #008080; font-weight: bold; text-decoration: underline\">49</span><span style=\"font-weight: bold; text-decoration: underline\">}</span>\n",
       "</pre>\n"
      ],
      "text/plain": [
       "scaffolds \u001b[1;4m{\u001b[0m\u001b[1;4mC × \u001b[0m\u001b[1;4;36m49\u001b[0m\u001b[1;4m}\u001b[0m\n"
      ]
     },
     "metadata": {},
     "output_type": "display_data"
    },
    {
     "data": {
      "text/html": [
       "<pre style=\"white-space:pre;overflow-x:auto;line-height:normal;font-family:Menlo,'DejaVu Sans Mono',consolas,'Courier New',monospace;margin:0px\">Primer grip/N-pocket\n",
       "</pre>\n"
      ],
      "text/plain": [
       "Primer grip/N-pocket\n"
      ]
     },
     "metadata": {},
     "output_type": "display_data"
    },
    {
     "data": {
      "text/html": [
       "<pre style=\"white-space:pre;overflow-x:auto;line-height:normal;font-family:Menlo,'DejaVu Sans Mono',consolas,'Courier New',monospace;margin:0px\"><span style=\"font-weight: bold; text-decoration: underline\">{C × </span><span style=\"color: #008080; text-decoration-color: #008080; font-weight: bold; text-decoration: underline\">20993</span><span style=\"font-weight: bold; text-decoration: underline\">}</span>\n",
       "</pre>\n"
      ],
      "text/plain": [
       "\u001b[1;4m{\u001b[0m\u001b[1;4mC × \u001b[0m\u001b[1;4;36m20993\u001b[0m\u001b[1;4m}\u001b[0m\n"
      ]
     },
     "metadata": {},
     "output_type": "display_data"
    },
    {
     "data": {
      "text/html": [
       "<pre style=\"white-space:pre;overflow-x:auto;line-height:normal;font-family:Menlo,'DejaVu Sans Mono',consolas,'Courier New',monospace;margin:0px\"><span style=\"color: #808080; text-decoration-color: #808080\">DEBUG: querying...</span>\n",
       "</pre>\n"
      ],
      "text/plain": [
       "\u001b[90mDEBUG: querying...\u001b[0m\n"
      ]
     },
     "metadata": {},
     "output_type": "display_data"
    },
    {
     "data": {
      "application/vnd.jupyter.widget-view+json": {
       "model_id": "f4bb970baa964509916eb2e9f18b6e70",
       "version_major": 2,
       "version_minor": 0
      },
      "text/plain": [
       "Output()"
      ]
     },
     "metadata": {},
     "output_type": "display_data"
    },
    {
     "data": {
      "text/html": [
       "<pre style=\"white-space:pre;overflow-x:auto;line-height:normal;font-family:Menlo,'DejaVu Sans Mono',consolas,'Courier New',monospace;margin:0px\"></pre>\n"
      ],
      "text/plain": []
     },
     "metadata": {},
     "output_type": "display_data"
    },
    {
     "data": {
      "text/html": [
       "<pre style=\"white-space:pre;overflow-x:auto;line-height:normal;font-family:Menlo,'DejaVu Sans Mono',consolas,'Courier New',monospace;margin:0px\"><span style=\"color: #808080; text-decoration-color: #808080\">DEBUG: adding scaffold column(s)</span>\n",
       "</pre>\n"
      ],
      "text/plain": [
       "\u001b[90mDEBUG: adding scaffold column(s)\u001b[0m\n"
      ]
     },
     "metadata": {},
     "output_type": "display_data"
    },
    {
     "data": {
      "text/html": [
       "<pre style=\"white-space:pre;overflow-x:auto;line-height:normal;font-family:Menlo,'DejaVu Sans Mono',consolas,'Courier New',monospace;margin:0px\"><span style=\"color: #008080; text-decoration-color: #008080; font-weight: bold\">20993</span>\n",
       "</pre>\n"
      ],
      "text/plain": [
       "\u001b[1;36m20993\u001b[0m\n"
      ]
     },
     "metadata": {},
     "output_type": "display_data"
    },
    {
     "data": {
      "text/html": [
       "<pre style=\"white-space:pre;overflow-x:auto;line-height:normal;font-family:Menlo,'DejaVu Sans Mono',consolas,'Courier New',monospace;margin:0px\">scaffolds <span style=\"font-weight: bold; text-decoration: underline\">{C × </span><span style=\"color: #008080; text-decoration-color: #008080; font-weight: bold; text-decoration: underline\">7</span><span style=\"font-weight: bold; text-decoration: underline\">}</span>\n",
       "</pre>\n"
      ],
      "text/plain": [
       "scaffolds \u001b[1;4m{\u001b[0m\u001b[1;4mC × \u001b[0m\u001b[1;4;36m7\u001b[0m\u001b[1;4m}\u001b[0m\n"
      ]
     },
     "metadata": {},
     "output_type": "display_data"
    },
    {
     "data": {
      "text/html": [
       "<pre style=\"white-space:pre;overflow-x:auto;line-height:normal;font-family:Menlo,'DejaVu Sans Mono',consolas,'Courier New',monospace;margin:0px\">Cavity B\n",
       "</pre>\n"
      ],
      "text/plain": [
       "Cavity B\n"
      ]
     },
     "metadata": {},
     "output_type": "display_data"
    },
    {
     "data": {
      "text/html": [
       "<pre style=\"white-space:pre;overflow-x:auto;line-height:normal;font-family:Menlo,'DejaVu Sans Mono',consolas,'Courier New',monospace;margin:0px\"><span style=\"font-weight: bold; text-decoration: underline\">{C × </span><span style=\"color: #008080; text-decoration-color: #008080; font-weight: bold; text-decoration: underline\">757</span><span style=\"font-weight: bold; text-decoration: underline\">}</span>\n",
       "</pre>\n"
      ],
      "text/plain": [
       "\u001b[1;4m{\u001b[0m\u001b[1;4mC × \u001b[0m\u001b[1;4;36m757\u001b[0m\u001b[1;4m}\u001b[0m\n"
      ]
     },
     "metadata": {},
     "output_type": "display_data"
    },
    {
     "data": {
      "text/html": [
       "<pre style=\"white-space:pre;overflow-x:auto;line-height:normal;font-family:Menlo,'DejaVu Sans Mono',consolas,'Courier New',monospace;margin:0px\"><span style=\"color: #808080; text-decoration-color: #808080\">DEBUG: querying...</span>\n",
       "</pre>\n"
      ],
      "text/plain": [
       "\u001b[90mDEBUG: querying...\u001b[0m\n"
      ]
     },
     "metadata": {},
     "output_type": "display_data"
    },
    {
     "data": {
      "application/vnd.jupyter.widget-view+json": {
       "model_id": "55e934b7ed80430598bd3be7667c3084",
       "version_major": 2,
       "version_minor": 0
      },
      "text/plain": [
       "Output()"
      ]
     },
     "metadata": {},
     "output_type": "display_data"
    },
    {
     "data": {
      "text/html": [
       "<pre style=\"white-space:pre;overflow-x:auto;line-height:normal;font-family:Menlo,'DejaVu Sans Mono',consolas,'Courier New',monospace;margin:0px\"></pre>\n"
      ],
      "text/plain": []
     },
     "metadata": {},
     "output_type": "display_data"
    },
    {
     "data": {
      "text/html": [
       "<pre style=\"white-space:pre;overflow-x:auto;line-height:normal;font-family:Menlo,'DejaVu Sans Mono',consolas,'Courier New',monospace;margin:0px\"><span style=\"color: #808080; text-decoration-color: #808080\">DEBUG: adding scaffold column(s)</span>\n",
       "</pre>\n"
      ],
      "text/plain": [
       "\u001b[90mDEBUG: adding scaffold column(s)\u001b[0m\n"
      ]
     },
     "metadata": {},
     "output_type": "display_data"
    },
    {
     "data": {
      "text/html": [
       "<pre style=\"white-space:pre;overflow-x:auto;line-height:normal;font-family:Menlo,'DejaVu Sans Mono',consolas,'Courier New',monospace;margin:0px\"><span style=\"color: #008080; text-decoration-color: #008080; font-weight: bold\">757</span>\n",
       "</pre>\n"
      ],
      "text/plain": [
       "\u001b[1;36m757\u001b[0m\n"
      ]
     },
     "metadata": {},
     "output_type": "display_data"
    },
    {
     "data": {
      "text/html": [
       "<pre style=\"white-space:pre;overflow-x:auto;line-height:normal;font-family:Menlo,'DejaVu Sans Mono',consolas,'Courier New',monospace;margin:0px\">scaffolds <span style=\"font-weight: bold; text-decoration: underline\">{C × </span><span style=\"color: #008080; text-decoration-color: #008080; font-weight: bold; text-decoration: underline\">1</span><span style=\"font-weight: bold; text-decoration: underline\">}</span>\n",
       "</pre>\n"
      ],
      "text/plain": [
       "scaffolds \u001b[1;4m{\u001b[0m\u001b[1;4mC × \u001b[0m\u001b[1;4;36m1\u001b[0m\u001b[1;4m}\u001b[0m\n"
      ]
     },
     "metadata": {},
     "output_type": "display_data"
    },
    {
     "data": {
      "text/html": [
       "<pre style=\"white-space:pre;overflow-x:auto;line-height:normal;font-family:Menlo,'DejaVu Sans Mono',consolas,'Courier New',monospace;margin:0px\">Thumb Site <span style=\"color: #008080; text-decoration-color: #008080; font-weight: bold\">2</span>\n",
       "</pre>\n"
      ],
      "text/plain": [
       "Thumb Site \u001b[1;36m2\u001b[0m\n"
      ]
     },
     "metadata": {},
     "output_type": "display_data"
    },
    {
     "data": {
      "text/html": [
       "<pre style=\"white-space:pre;overflow-x:auto;line-height:normal;font-family:Menlo,'DejaVu Sans Mono',consolas,'Courier New',monospace;margin:0px\"><span style=\"font-weight: bold; text-decoration: underline\">{C × </span><span style=\"color: #008080; text-decoration-color: #008080; font-weight: bold; text-decoration: underline\">3234</span><span style=\"font-weight: bold; text-decoration: underline\">}</span>\n",
       "</pre>\n"
      ],
      "text/plain": [
       "\u001b[1;4m{\u001b[0m\u001b[1;4mC × \u001b[0m\u001b[1;4;36m3234\u001b[0m\u001b[1;4m}\u001b[0m\n"
      ]
     },
     "metadata": {},
     "output_type": "display_data"
    },
    {
     "data": {
      "text/html": [
       "<pre style=\"white-space:pre;overflow-x:auto;line-height:normal;font-family:Menlo,'DejaVu Sans Mono',consolas,'Courier New',monospace;margin:0px\"><span style=\"color: #808080; text-decoration-color: #808080\">DEBUG: querying...</span>\n",
       "</pre>\n"
      ],
      "text/plain": [
       "\u001b[90mDEBUG: querying...\u001b[0m\n"
      ]
     },
     "metadata": {},
     "output_type": "display_data"
    },
    {
     "data": {
      "application/vnd.jupyter.widget-view+json": {
       "model_id": "06a8ff94e98744d69105882e015ef4ed",
       "version_major": 2,
       "version_minor": 0
      },
      "text/plain": [
       "Output()"
      ]
     },
     "metadata": {},
     "output_type": "display_data"
    },
    {
     "data": {
      "text/html": [
       "<pre style=\"white-space:pre;overflow-x:auto;line-height:normal;font-family:Menlo,'DejaVu Sans Mono',consolas,'Courier New',monospace;margin:0px\"></pre>\n"
      ],
      "text/plain": []
     },
     "metadata": {},
     "output_type": "display_data"
    },
    {
     "data": {
      "text/html": [
       "<pre style=\"white-space:pre;overflow-x:auto;line-height:normal;font-family:Menlo,'DejaVu Sans Mono',consolas,'Courier New',monospace;margin:0px\"><span style=\"color: #808080; text-decoration-color: #808080\">DEBUG: adding scaffold column(s)</span>\n",
       "</pre>\n"
      ],
      "text/plain": [
       "\u001b[90mDEBUG: adding scaffold column(s)\u001b[0m\n"
      ]
     },
     "metadata": {},
     "output_type": "display_data"
    },
    {
     "data": {
      "text/html": [
       "<pre style=\"white-space:pre;overflow-x:auto;line-height:normal;font-family:Menlo,'DejaVu Sans Mono',consolas,'Courier New',monospace;margin:0px\"><span style=\"color: #008080; text-decoration-color: #008080; font-weight: bold\">3234</span>\n",
       "</pre>\n"
      ],
      "text/plain": [
       "\u001b[1;36m3234\u001b[0m\n"
      ]
     },
     "metadata": {},
     "output_type": "display_data"
    },
    {
     "data": {
      "text/html": [
       "<pre style=\"white-space:pre;overflow-x:auto;line-height:normal;font-family:Menlo,'DejaVu Sans Mono',consolas,'Courier New',monospace;margin:0px\">scaffolds <span style=\"font-weight: bold; text-decoration: underline\">{C × </span><span style=\"color: #008080; text-decoration-color: #008080; font-weight: bold; text-decoration: underline\">1</span><span style=\"font-weight: bold; text-decoration: underline\">}</span>\n",
       "</pre>\n"
      ],
      "text/plain": [
       "scaffolds \u001b[1;4m{\u001b[0m\u001b[1;4mC × \u001b[0m\u001b[1;4;36m1\u001b[0m\u001b[1;4m}\u001b[0m\n"
      ]
     },
     "metadata": {},
     "output_type": "display_data"
    },
    {
     "name": "stdout",
     "output_type": "stream",
     "text": [
      "CPU times: user 3.23 s, sys: 4.76 s, total: 7.99 s\n",
      "Wall time: 41.4 s\n"
     ]
    },
    {
     "data": {
      "text/html": [
       "<div>\n",
       "<style scoped>\n",
       "    .dataframe tbody tr th:only-of-type {\n",
       "        vertical-align: middle;\n",
       "    }\n",
       "\n",
       "    .dataframe tbody tr th {\n",
       "        vertical-align: top;\n",
       "    }\n",
       "\n",
       "    .dataframe thead th {\n",
       "        text-align: right;\n",
       "    }\n",
       "</style>\n",
       "<table border=\"1\" class=\"dataframe\">\n",
       "  <thead>\n",
       "    <tr style=\"text-align: right;\">\n",
       "      <th></th>\n",
       "      <th>smiles</th>\n",
       "      <th>scaffold</th>\n",
       "      <th>site</th>\n",
       "      <th>reference_path</th>\n",
       "    </tr>\n",
       "    <tr>\n",
       "      <th>id</th>\n",
       "      <th></th>\n",
       "      <th></th>\n",
       "      <th></th>\n",
       "      <th></th>\n",
       "    </tr>\n",
       "  </thead>\n",
       "  <tbody>\n",
       "    <tr>\n",
       "      <th>241786</th>\n",
       "      <td>BrCC(NC1CCCc2c(Br)ccnc21)c1cccnc1N1CCCC1</td>\n",
       "      <td>c1cnc2c(c1)CCCC2NCc1cccnc1N1CCCC1</td>\n",
       "      <td>Green Site/RNA tunnel</td>\n",
       "      <td>None</td>\n",
       "    </tr>\n",
       "    <tr>\n",
       "      <th>241784</th>\n",
       "      <td>BrCC(NC1CCCc2cc(Br)cnc21)c1cccnc1N1CCCC1</td>\n",
       "      <td>c1cnc2c(c1)CCCC2NCc1cccnc1N1CCCC1</td>\n",
       "      <td>Green Site/RNA tunnel</td>\n",
       "      <td>None</td>\n",
       "    </tr>\n",
       "    <tr>\n",
       "      <th>241785</th>\n",
       "      <td>BrCC(NC1CCCc2ccc(Br)nc21)c1cccnc1N1CCCC1</td>\n",
       "      <td>c1cnc2c(c1)CCCC2NCc1cccnc1N1CCCC1</td>\n",
       "      <td>Green Site/RNA tunnel</td>\n",
       "      <td>None</td>\n",
       "    </tr>\n",
       "    <tr>\n",
       "      <th>240771</th>\n",
       "      <td>BrCC(NC1CCCc2cccnc21)c1cccnc1N1CCCC1</td>\n",
       "      <td>c1cnc2c(c1)CCCC2NCc1cccnc1N1CCCC1</td>\n",
       "      <td>Green Site/RNA tunnel</td>\n",
       "      <td>None</td>\n",
       "    </tr>\n",
       "    <tr>\n",
       "      <th>240575</th>\n",
       "      <td>BrCC(c1cccnc1N1CCCC1)N1C2CCC1c1ncccc12</td>\n",
       "      <td>c1cnc2c(c1)CCCC2NCc1cccnc1N1CCCC1</td>\n",
       "      <td>Green Site/RNA tunnel</td>\n",
       "      <td>None</td>\n",
       "    </tr>\n",
       "  </tbody>\n",
       "</table>\n",
       "</div>"
      ],
      "text/plain": [
       "                                          smiles  \\\n",
       "id                                                 \n",
       "241786  BrCC(NC1CCCc2c(Br)ccnc21)c1cccnc1N1CCCC1   \n",
       "241784  BrCC(NC1CCCc2cc(Br)cnc21)c1cccnc1N1CCCC1   \n",
       "241785  BrCC(NC1CCCc2ccc(Br)nc21)c1cccnc1N1CCCC1   \n",
       "240771      BrCC(NC1CCCc2cccnc21)c1cccnc1N1CCCC1   \n",
       "240575    BrCC(c1cccnc1N1CCCC1)N1C2CCC1c1ncccc12   \n",
       "\n",
       "                                 scaffold                   site  \\\n",
       "id                                                                 \n",
       "241786  c1cnc2c(c1)CCCC2NCc1cccnc1N1CCCC1  Green Site/RNA tunnel   \n",
       "241784  c1cnc2c(c1)CCCC2NCc1cccnc1N1CCCC1  Green Site/RNA tunnel   \n",
       "241785  c1cnc2c(c1)CCCC2NCc1cccnc1N1CCCC1  Green Site/RNA tunnel   \n",
       "240771  c1cnc2c(c1)CCCC2NCc1cccnc1N1CCCC1  Green Site/RNA tunnel   \n",
       "240575  c1cnc2c(c1)CCCC2NCc1cccnc1N1CCCC1  Green Site/RNA tunnel   \n",
       "\n",
       "       reference_path  \n",
       "id                     \n",
       "241786           None  \n",
       "241784           None  \n",
       "241785           None  \n",
       "240771           None  \n",
       "240575           None  "
      ]
     },
     "execution_count": 67,
     "metadata": {},
     "output_type": "execute_result"
    }
   ],
   "source": [
    "%%time\n",
    "dfs = []\n",
    "for k,v in POSES.items():\n",
    "    print(k)\n",
    "    compounds = v[\"merge_compounds\"]\n",
    "    elabs = compounds.elabs\n",
    "    print(elabs)\n",
    "    df = elabs.get_df(alias=False, bases=True, debug=True)\n",
    "    print(len(df))\n",
    "    df[\"site\"] = k\n",
    "    df.rename(columns={\"bases\":\"scaffold\"}, inplace=True)\n",
    "    scaffolds = elabs.bases\n",
    "    print(\"scaffolds\", scaffolds)\n",
    "    \n",
    "    lookup = animal.db.get_compound_id_smiles_dict(scaffolds)\n",
    "    df[\"scaffold\"] = df[\"scaffold\"].apply(lambda x: lookup[list(x)[0]])\n",
    "\n",
    "    sql = f\"\"\"\n",
    "    SELECT p1.pose_compound, p2.pose_path, MIN(p1.pose_distance_score) FROM pose as p1\n",
    "    INNER JOIN pose AS p2 ON p1.pose_reference = p2.pose_id\n",
    "    WHERE p1.pose_compound IN {elabs.str_ids}\n",
    "    GROUP BY p1.pose_compound\n",
    "    \"\"\"\n",
    "\n",
    "    records = animal.db.execute(sql)\n",
    "\n",
    "    lookup = { c:path for c,path,_ in records }\n",
    "\n",
    "    df[\"protein\"] = df.apply(lambda row: lookup.get(row.name, None), axis=1)\n",
    "    \n",
    "    dfs.append(df)\n",
    "df = pd.concat(dfs)\n",
    "df[\"protein\"] = df[\"protein\"].apply(lambda x: Path(x).name if x else None)\n",
    "df.head()"
   ]
  },
  {
   "cell_type": "code",
   "execution_count": 77,
   "id": "baf228eb-bb13-4993-a180-950e783e291c",
   "metadata": {},
   "outputs": [
    {
     "data": {
      "text/html": [
       "<div>\n",
       "<style scoped>\n",
       "    .dataframe tbody tr th:only-of-type {\n",
       "        vertical-align: middle;\n",
       "    }\n",
       "\n",
       "    .dataframe tbody tr th {\n",
       "        vertical-align: top;\n",
       "    }\n",
       "\n",
       "    .dataframe thead th {\n",
       "        text-align: right;\n",
       "    }\n",
       "</style>\n",
       "<table border=\"1\" class=\"dataframe\">\n",
       "  <thead>\n",
       "    <tr style=\"text-align: right;\">\n",
       "      <th></th>\n",
       "      <th>smiles</th>\n",
       "      <th>scaffold</th>\n",
       "      <th>site</th>\n",
       "      <th>protein</th>\n",
       "    </tr>\n",
       "    <tr>\n",
       "      <th>id</th>\n",
       "      <th></th>\n",
       "      <th></th>\n",
       "      <th></th>\n",
       "      <th></th>\n",
       "    </tr>\n",
       "  </thead>\n",
       "  <tbody>\n",
       "    <tr>\n",
       "      <th>241786</th>\n",
       "      <td>BrCC(NC1CCCc2c(Br)ccnc21)c1cccnc1N1CCCC1</td>\n",
       "      <td>c1cnc2c(c1)CCCC2NCc1cccnc1N1CCCC1</td>\n",
       "      <td>Green Site/RNA tunnel</td>\n",
       "      <td>None</td>\n",
       "    </tr>\n",
       "    <tr>\n",
       "      <th>241784</th>\n",
       "      <td>BrCC(NC1CCCc2cc(Br)cnc21)c1cccnc1N1CCCC1</td>\n",
       "      <td>c1cnc2c(c1)CCCC2NCc1cccnc1N1CCCC1</td>\n",
       "      <td>Green Site/RNA tunnel</td>\n",
       "      <td>None</td>\n",
       "    </tr>\n",
       "    <tr>\n",
       "      <th>241785</th>\n",
       "      <td>BrCC(NC1CCCc2ccc(Br)nc21)c1cccnc1N1CCCC1</td>\n",
       "      <td>c1cnc2c(c1)CCCC2NCc1cccnc1N1CCCC1</td>\n",
       "      <td>Green Site/RNA tunnel</td>\n",
       "      <td>None</td>\n",
       "    </tr>\n",
       "    <tr>\n",
       "      <th>240771</th>\n",
       "      <td>BrCC(NC1CCCc2cccnc21)c1cccnc1N1CCCC1</td>\n",
       "      <td>c1cnc2c(c1)CCCC2NCc1cccnc1N1CCCC1</td>\n",
       "      <td>Green Site/RNA tunnel</td>\n",
       "      <td>None</td>\n",
       "    </tr>\n",
       "    <tr>\n",
       "      <th>240575</th>\n",
       "      <td>BrCC(c1cccnc1N1CCCC1)N1C2CCC1c1ncccc12</td>\n",
       "      <td>c1cnc2c(c1)CCCC2NCc1cccnc1N1CCCC1</td>\n",
       "      <td>Green Site/RNA tunnel</td>\n",
       "      <td>None</td>\n",
       "    </tr>\n",
       "    <tr>\n",
       "      <th>...</th>\n",
       "      <td>...</td>\n",
       "      <td>...</td>\n",
       "      <td>...</td>\n",
       "      <td>...</td>\n",
       "    </tr>\n",
       "    <tr>\n",
       "      <th>77222</th>\n",
       "      <td>CCS(=O)(=O)N(C)Cc1ccc(C(=O)N2C(CC3CC3)C(=O)N2C...</td>\n",
       "      <td>CCS(=O)(=O)NCc1ccc(C(=O)N2CC(=O)N2)cc1</td>\n",
       "      <td>Thumb Site 2</td>\n",
       "      <td>d0174a.pdb</td>\n",
       "    </tr>\n",
       "    <tr>\n",
       "      <th>77223</th>\n",
       "      <td>CCS(=O)(=O)N(C)Cc1ccc(C(=O)N2C(CC(F)F)C(=O)N2C...</td>\n",
       "      <td>CCS(=O)(=O)NCc1ccc(C(=O)N2CC(=O)N2)cc1</td>\n",
       "      <td>Thumb Site 2</td>\n",
       "      <td>d0174a.pdb</td>\n",
       "    </tr>\n",
       "    <tr>\n",
       "      <th>77224</th>\n",
       "      <td>CCS(=O)(=O)N(C)Cc1ccc(C(=O)N2N(C3CC3)C(=O)C2(C...</td>\n",
       "      <td>CCS(=O)(=O)NCc1ccc(C(=O)N2CC(=O)N2)cc1</td>\n",
       "      <td>Thumb Site 2</td>\n",
       "      <td>d0174a.pdb</td>\n",
       "    </tr>\n",
       "    <tr>\n",
       "      <th>77225</th>\n",
       "      <td>CCCN1C(=O)C(CC2CC2)N1C(=O)c1ccc(CN(C)S(=O)(=O)...</td>\n",
       "      <td>CCS(=O)(=O)NCc1ccc(C(=O)N2CC(=O)N2)cc1</td>\n",
       "      <td>Thumb Site 2</td>\n",
       "      <td>None</td>\n",
       "    </tr>\n",
       "    <tr>\n",
       "      <th>77226</th>\n",
       "      <td>CCS(=O)(=O)N(C)Cc1ccc(C(=O)N2C(CC3CC3)C(=O)N2C...</td>\n",
       "      <td>CCS(=O)(=O)NCc1ccc(C(=O)N2CC(=O)N2)cc1</td>\n",
       "      <td>Thumb Site 2</td>\n",
       "      <td>d0174a.pdb</td>\n",
       "    </tr>\n",
       "  </tbody>\n",
       "</table>\n",
       "<p>173276 rows × 4 columns</p>\n",
       "</div>"
      ],
      "text/plain": [
       "                                                   smiles  \\\n",
       "id                                                          \n",
       "241786           BrCC(NC1CCCc2c(Br)ccnc21)c1cccnc1N1CCCC1   \n",
       "241784           BrCC(NC1CCCc2cc(Br)cnc21)c1cccnc1N1CCCC1   \n",
       "241785           BrCC(NC1CCCc2ccc(Br)nc21)c1cccnc1N1CCCC1   \n",
       "240771               BrCC(NC1CCCc2cccnc21)c1cccnc1N1CCCC1   \n",
       "240575             BrCC(c1cccnc1N1CCCC1)N1C2CCC1c1ncccc12   \n",
       "...                                                   ...   \n",
       "77222   CCS(=O)(=O)N(C)Cc1ccc(C(=O)N2C(CC3CC3)C(=O)N2C...   \n",
       "77223   CCS(=O)(=O)N(C)Cc1ccc(C(=O)N2C(CC(F)F)C(=O)N2C...   \n",
       "77224   CCS(=O)(=O)N(C)Cc1ccc(C(=O)N2N(C3CC3)C(=O)C2(C...   \n",
       "77225   CCCN1C(=O)C(CC2CC2)N1C(=O)c1ccc(CN(C)S(=O)(=O)...   \n",
       "77226   CCS(=O)(=O)N(C)Cc1ccc(C(=O)N2C(CC3CC3)C(=O)N2C...   \n",
       "\n",
       "                                      scaffold                   site  \\\n",
       "id                                                                      \n",
       "241786       c1cnc2c(c1)CCCC2NCc1cccnc1N1CCCC1  Green Site/RNA tunnel   \n",
       "241784       c1cnc2c(c1)CCCC2NCc1cccnc1N1CCCC1  Green Site/RNA tunnel   \n",
       "241785       c1cnc2c(c1)CCCC2NCc1cccnc1N1CCCC1  Green Site/RNA tunnel   \n",
       "240771       c1cnc2c(c1)CCCC2NCc1cccnc1N1CCCC1  Green Site/RNA tunnel   \n",
       "240575       c1cnc2c(c1)CCCC2NCc1cccnc1N1CCCC1  Green Site/RNA tunnel   \n",
       "...                                        ...                    ...   \n",
       "77222   CCS(=O)(=O)NCc1ccc(C(=O)N2CC(=O)N2)cc1           Thumb Site 2   \n",
       "77223   CCS(=O)(=O)NCc1ccc(C(=O)N2CC(=O)N2)cc1           Thumb Site 2   \n",
       "77224   CCS(=O)(=O)NCc1ccc(C(=O)N2CC(=O)N2)cc1           Thumb Site 2   \n",
       "77225   CCS(=O)(=O)NCc1ccc(C(=O)N2CC(=O)N2)cc1           Thumb Site 2   \n",
       "77226   CCS(=O)(=O)NCc1ccc(C(=O)N2CC(=O)N2)cc1           Thumb Site 2   \n",
       "\n",
       "           protein  \n",
       "id                  \n",
       "241786        None  \n",
       "241784        None  \n",
       "241785        None  \n",
       "240771        None  \n",
       "240575        None  \n",
       "...            ...  \n",
       "77222   d0174a.pdb  \n",
       "77223   d0174a.pdb  \n",
       "77224   d0174a.pdb  \n",
       "77225         None  \n",
       "77226   d0174a.pdb  \n",
       "\n",
       "[173276 rows x 4 columns]"
      ]
     },
     "execution_count": 77,
     "metadata": {},
     "output_type": "execute_result"
    }
   ],
   "source": [
    "df"
   ]
  },
  {
   "cell_type": "code",
   "execution_count": 78,
   "id": "9eb6c061-a47f-408f-bd3c-eb8772104eb3",
   "metadata": {},
   "outputs": [],
   "source": [
    "df.to_csv(\"Flavi_RdRp_elabs.csv\")"
   ]
  },
  {
   "cell_type": "code",
   "execution_count": 59,
   "id": "165d6835-0c66-4097-b58e-818366bf91d7",
   "metadata": {},
   "outputs": [
    {
     "data": {
      "text/plain": [
       "\u001b[1m\u001b[4m{C × 148292}\u001b[22m\u001b[24m"
      ]
     },
     "execution_count": 59,
     "metadata": {},
     "output_type": "execute_result"
    }
   ],
   "source": [
    "elabs = animal.compounds[list(df.index.values)]\n",
    "elabs"
   ]
  },
  {
   "cell_type": "code",
   "execution_count": 60,
   "id": "46c7fc90-663f-4ffd-9381-46e7faa6ec3e",
   "metadata": {},
   "outputs": [
    {
     "data": {
      "text/plain": [
       "\u001b[1m\u001b[4m{P × 75994}\u001b[22m\u001b[24m"
      ]
     },
     "execution_count": 60,
     "metadata": {},
     "output_type": "execute_result"
    }
   ],
   "source": [
    "best_poses = elabs.best_placed_poses\n",
    "best_poses"
   ]
  },
  {
   "cell_type": "code",
   "execution_count": 62,
   "id": "155a14f8-0080-42de-bec5-f53bb2e5f0ec",
   "metadata": {},
   "outputs": [],
   "source": [
    "records = animal.db.select_where(table=\"pose\", query=\"pose_compound, pose_path\", key=f\"pose_id IN {best_poses.str_ids}\", multiple=True)\n",
    "pose_info = {}\n",
    "for compound_id, pose_path in records:\n",
    "    pose_info[compound_id] = pose_path"
   ]
  },
  {
   "cell_type": "code",
   "execution_count": 63,
   "id": "0fb6b685-2d98-4224-9d9e-98a1d2d633fb",
   "metadata": {
    "scrolled": true
   },
   "outputs": [
    {
     "data": {
      "text/plain": [
       "{55856: '/opt/xchem-fragalysis-2/maxwin/BulkDock/SCRATCH/217082/C55856-P102/C55856-P102.minimised.mol',\n",
       " 28177: '/opt/xchem-fragalysis-2/maxwin/BulkDock/SCRATCH/220455/C28177-P104/C28177-P104.minimised.mol',\n",
       " 60764: '/opt/xchem-fragalysis-2/maxwin/BulkDock/SCRATCH/220457/C60764-P218/C60764-P218.minimised.mol',\n",
       " 70938: '/opt/xchem-fragalysis-2/maxwin/RdRp_FFF/syndirella/feb_elabs/elabs_84/KZGPDDSEMZONAM-UHFFFAOYSA-N/output/KZGPDDSEMZONAM-UHFFFAOYSA-N-DX3HCc-8-B/KZGPDDSEMZONAM-UHFFFAOYSA-N-DX3HCc-8-B.minimised.mol',\n",
       " 70942: '/opt/xchem-fragalysis-2/maxwin/RdRp_FFF/syndirella/feb_elabs/elabs_84/KZGPDDSEMZONAM-UHFFFAOYSA-N/output/KZGPDDSEMZONAM-UHFFFAOYSA-N-DX3HCc-12-A/KZGPDDSEMZONAM-UHFFFAOYSA-N-DX3HCc-12-A.minimised.mol',\n",
       " 70944: '/opt/xchem-fragalysis-2/maxwin/RdRp_FFF/syndirella/feb_elabs/elabs_84/KZGPDDSEMZONAM-UHFFFAOYSA-N/output/KZGPDDSEMZONAM-UHFFFAOYSA-N-DX3HCc-14-B/KZGPDDSEMZONAM-UHFFFAOYSA-N-DX3HCc-14-B.minimised.mol',\n",
       " 70946: '/opt/xchem-fragalysis-2/maxwin/RdRp_FFF/syndirella/feb_elabs/elabs_84/KZGPDDSEMZONAM-UHFFFAOYSA-N/output/KZGPDDSEMZONAM-UHFFFAOYSA-N-DX3HCc-16-B/KZGPDDSEMZONAM-UHFFFAOYSA-N-DX3HCc-16-B.minimised.mol',\n",
       " 70947: '/opt/xchem-fragalysis-2/maxwin/RdRp_FFF/syndirella/feb_elabs/elabs_84/KZGPDDSEMZONAM-UHFFFAOYSA-N/output/KZGPDDSEMZONAM-UHFFFAOYSA-N-DX3HCc-17-A/KZGPDDSEMZONAM-UHFFFAOYSA-N-DX3HCc-17-A.minimised.mol',\n",
       " 70952: '/opt/xchem-fragalysis-2/maxwin/RdRp_FFF/syndirella/feb_elabs/elabs_84/KZGPDDSEMZONAM-UHFFFAOYSA-N/output/KZGPDDSEMZONAM-UHFFFAOYSA-N-DX3HCc-22-D/KZGPDDSEMZONAM-UHFFFAOYSA-N-DX3HCc-22-D.minimised.mol',\n",
       " 70958: '/opt/xchem-fragalysis-2/maxwin/RdRp_FFF/syndirella/feb_elabs/elabs_84/KZGPDDSEMZONAM-UHFFFAOYSA-N/output/KZGPDDSEMZONAM-UHFFFAOYSA-N-DX3HCc-28-A/KZGPDDSEMZONAM-UHFFFAOYSA-N-DX3HCc-28-A.minimised.mol',\n",
       " 70960: '/opt/xchem-fragalysis-2/maxwin/RdRp_FFF/syndirella/feb_elabs/elabs_84/KZGPDDSEMZONAM-UHFFFAOYSA-N/output/KZGPDDSEMZONAM-UHFFFAOYSA-N-DX3HCc-30-G/KZGPDDSEMZONAM-UHFFFAOYSA-N-DX3HCc-30-G.minimised.mol',\n",
       " 70968: '/opt/xchem-fragalysis-2/maxwin/RdRp_FFF/syndirella/feb_elabs/elabs_84/KZGPDDSEMZONAM-UHFFFAOYSA-N/output/KZGPDDSEMZONAM-UHFFFAOYSA-N-DX3HCc-38-B/KZGPDDSEMZONAM-UHFFFAOYSA-N-DX3HCc-38-B.minimised.mol',\n",
       " 70970: '/opt/xchem-fragalysis-2/maxwin/RdRp_FFF/syndirella/feb_elabs/elabs_84/KZGPDDSEMZONAM-UHFFFAOYSA-N/output/KZGPDDSEMZONAM-UHFFFAOYSA-N-DX3HCc-40-B/KZGPDDSEMZONAM-UHFFFAOYSA-N-DX3HCc-40-B.minimised.mol',\n",
       " 70977: '/opt/xchem-fragalysis-2/maxwin/RdRp_FFF/syndirella/feb_elabs/elabs_84/KZGPDDSEMZONAM-UHFFFAOYSA-N/output/KZGPDDSEMZONAM-UHFFFAOYSA-N-DX3HCc-47-B/KZGPDDSEMZONAM-UHFFFAOYSA-N-DX3HCc-47-B.minimised.mol',\n",
       " 70978: '/opt/xchem-fragalysis-2/maxwin/RdRp_FFF/syndirella/feb_elabs/elabs_84/KZGPDDSEMZONAM-UHFFFAOYSA-N/output/KZGPDDSEMZONAM-UHFFFAOYSA-N-DX3HCc-53-B/KZGPDDSEMZONAM-UHFFFAOYSA-N-DX3HCc-53-B.minimised.mol',\n",
       " 70981: '/opt/xchem-fragalysis-2/maxwin/RdRp_FFF/syndirella/feb_elabs/elabs_84/KZGPDDSEMZONAM-UHFFFAOYSA-N/output/KZGPDDSEMZONAM-UHFFFAOYSA-N-DX3HCc-56-B/KZGPDDSEMZONAM-UHFFFAOYSA-N-DX3HCc-56-B.minimised.mol',\n",
       " 70986: '/opt/xchem-fragalysis-2/maxwin/RdRp_FFF/syndirella/feb_elabs/elabs_84/KZGPDDSEMZONAM-UHFFFAOYSA-N/output/KZGPDDSEMZONAM-UHFFFAOYSA-N-DX3HCc-61-B/KZGPDDSEMZONAM-UHFFFAOYSA-N-DX3HCc-61-B.minimised.mol',\n",
       " 70993: '/opt/xchem-fragalysis-2/maxwin/RdRp_FFF/syndirella/feb_elabs/elabs_84/KZGPDDSEMZONAM-UHFFFAOYSA-N/output/KZGPDDSEMZONAM-UHFFFAOYSA-N-DX3HCc-70-A/KZGPDDSEMZONAM-UHFFFAOYSA-N-DX3HCc-70-A.minimised.mol',\n",
       " 70995: '/opt/xchem-fragalysis-2/maxwin/RdRp_FFF/syndirella/feb_elabs/elabs_84/KZGPDDSEMZONAM-UHFFFAOYSA-N/output/KZGPDDSEMZONAM-UHFFFAOYSA-N-DX3HCc-73-D/KZGPDDSEMZONAM-UHFFFAOYSA-N-DX3HCc-73-D.minimised.mol',\n",
       " 71158: '/opt/xchem-fragalysis-2/maxwin/RdRp_FFF/syndirella/feb_elabs/elabs_20/ZTHISXNUAOFTJB-UHFFFAOYSA-N/output/ZTHISXNUAOFTJB-UHFFFAOYSA-N-iS4m2Q-1-G/ZTHISXNUAOFTJB-UHFFFAOYSA-N-iS4m2Q-1-G.minimised.mol',\n",
       " 71159: '/opt/xchem-fragalysis-2/maxwin/RdRp_FFF/syndirella/feb_elabs/elabs_20/ZTHISXNUAOFTJB-UHFFFAOYSA-N/output/ZTHISXNUAOFTJB-UHFFFAOYSA-N-iS4m2Q-2-C/ZTHISXNUAOFTJB-UHFFFAOYSA-N-iS4m2Q-2-C.minimised.mol',\n",
       " 71160: '/opt/xchem-fragalysis-2/maxwin/RdRp_FFF/syndirella/feb_elabs/elabs_20/ZTHISXNUAOFTJB-UHFFFAOYSA-N/output/ZTHISXNUAOFTJB-UHFFFAOYSA-N-iS4m2Q-3-D/ZTHISXNUAOFTJB-UHFFFAOYSA-N-iS4m2Q-3-D.minimised.mol',\n",
       " 71161: '/opt/xchem-fragalysis-2/maxwin/RdRp_FFF/syndirella/feb_elabs/elabs_20/ZTHISXNUAOFTJB-UHFFFAOYSA-N/output/ZTHISXNUAOFTJB-UHFFFAOYSA-N-iS4m2Q-5-A/ZTHISXNUAOFTJB-UHFFFAOYSA-N-iS4m2Q-5-A.minimised.mol',\n",
       " 71169: '/opt/xchem-fragalysis-2/maxwin/RdRp_FFF/syndirella/feb_elabs/elabs_20/ZTHISXNUAOFTJB-UHFFFAOYSA-N/output/ZTHISXNUAOFTJB-UHFFFAOYSA-N-iS4m2Q-15-B/ZTHISXNUAOFTJB-UHFFFAOYSA-N-iS4m2Q-15-B.minimised.mol',\n",
       " 71177: '/opt/xchem-fragalysis-2/maxwin/RdRp_FFF/syndirella/feb_elabs/elabs_20/ZTHISXNUAOFTJB-UHFFFAOYSA-N/output/ZTHISXNUAOFTJB-UHFFFAOYSA-N-iS4m2Q-25-B/ZTHISXNUAOFTJB-UHFFFAOYSA-N-iS4m2Q-25-B.minimised.mol',\n",
       " 71179: '/opt/xchem-fragalysis-2/maxwin/RdRp_FFF/syndirella/feb_elabs/elabs_20/ZTHISXNUAOFTJB-UHFFFAOYSA-N/output/ZTHISXNUAOFTJB-UHFFFAOYSA-N-iS4m2Q-27-B/ZTHISXNUAOFTJB-UHFFFAOYSA-N-iS4m2Q-27-B.minimised.mol',\n",
       " 71181: '/opt/xchem-fragalysis-2/maxwin/RdRp_FFF/syndirella/feb_elabs/elabs_20/ZTHISXNUAOFTJB-UHFFFAOYSA-N/output/ZTHISXNUAOFTJB-UHFFFAOYSA-N-iS4m2Q-29-D/ZTHISXNUAOFTJB-UHFFFAOYSA-N-iS4m2Q-29-D.minimised.mol',\n",
       " 71185: '/opt/xchem-fragalysis-2/maxwin/RdRp_FFF/syndirella/feb_elabs/elabs_20/ZTHISXNUAOFTJB-UHFFFAOYSA-N/output/ZTHISXNUAOFTJB-UHFFFAOYSA-N-iS4m2Q-33-F/ZTHISXNUAOFTJB-UHFFFAOYSA-N-iS4m2Q-33-F.minimised.mol',\n",
       " 71188: '/opt/xchem-fragalysis-2/maxwin/RdRp_FFF/syndirella/feb_elabs/elabs_20/ZTHISXNUAOFTJB-UHFFFAOYSA-N/output/ZTHISXNUAOFTJB-UHFFFAOYSA-N-iS4m2Q-36-B/ZTHISXNUAOFTJB-UHFFFAOYSA-N-iS4m2Q-36-B.minimised.mol',\n",
       " 71191: '/opt/xchem-fragalysis-2/maxwin/RdRp_FFF/syndirella/feb_elabs/elabs_20/ZTHISXNUAOFTJB-UHFFFAOYSA-N/output/ZTHISXNUAOFTJB-UHFFFAOYSA-N-iS4m2Q-39-C/ZTHISXNUAOFTJB-UHFFFAOYSA-N-iS4m2Q-39-C.minimised.mol',\n",
       " 71192: '/opt/xchem-fragalysis-2/maxwin/RdRp_FFF/syndirella/feb_elabs/elabs_20/ZTHISXNUAOFTJB-UHFFFAOYSA-N/output/ZTHISXNUAOFTJB-UHFFFAOYSA-N-iS4m2Q-40-A/ZTHISXNUAOFTJB-UHFFFAOYSA-N-iS4m2Q-40-A.minimised.mol',\n",
       " 71201: '/opt/xchem-fragalysis-2/maxwin/RdRp_FFF/syndirella/feb_elabs/elabs_20/ZTHISXNUAOFTJB-UHFFFAOYSA-N/output/ZTHISXNUAOFTJB-UHFFFAOYSA-N-iS4m2Q-50-A/ZTHISXNUAOFTJB-UHFFFAOYSA-N-iS4m2Q-50-A.minimised.mol',\n",
       " 71203: '/opt/xchem-fragalysis-2/maxwin/RdRp_FFF/syndirella/feb_elabs/elabs_20/ZTHISXNUAOFTJB-UHFFFAOYSA-N/output/ZTHISXNUAOFTJB-UHFFFAOYSA-N-iS4m2Q-52-D/ZTHISXNUAOFTJB-UHFFFAOYSA-N-iS4m2Q-52-D.minimised.mol',\n",
       " 71206: '/opt/xchem-fragalysis-2/maxwin/RdRp_FFF/syndirella/feb_elabs/elabs_20/ZTHISXNUAOFTJB-UHFFFAOYSA-N/output/ZTHISXNUAOFTJB-UHFFFAOYSA-N-iS4m2Q-58-A/ZTHISXNUAOFTJB-UHFFFAOYSA-N-iS4m2Q-58-A.minimised.mol',\n",
       " 71209: '/opt/xchem-fragalysis-2/maxwin/RdRp_FFF/syndirella/feb_elabs/elabs_20/ZTHISXNUAOFTJB-UHFFFAOYSA-N/output/ZTHISXNUAOFTJB-UHFFFAOYSA-N-iS4m2Q-61-B/ZTHISXNUAOFTJB-UHFFFAOYSA-N-iS4m2Q-61-B.minimised.mol',\n",
       " 71212: '/opt/xchem-fragalysis-2/maxwin/RdRp_FFF/syndirella/feb_elabs/elabs_20/ZTHISXNUAOFTJB-UHFFFAOYSA-N/output/ZTHISXNUAOFTJB-UHFFFAOYSA-N-iS4m2Q-64-D/ZTHISXNUAOFTJB-UHFFFAOYSA-N-iS4m2Q-64-D.minimised.mol',\n",
       " 71213: '/opt/xchem-fragalysis-2/maxwin/RdRp_FFF/syndirella/feb_elabs/elabs_20/ZTHISXNUAOFTJB-UHFFFAOYSA-N/output/ZTHISXNUAOFTJB-UHFFFAOYSA-N-iS4m2Q-65-D/ZTHISXNUAOFTJB-UHFFFAOYSA-N-iS4m2Q-65-D.minimised.mol',\n",
       " 71215: '/opt/xchem-fragalysis-2/maxwin/RdRp_FFF/syndirella/feb_elabs/elabs_20/ZTHISXNUAOFTJB-UHFFFAOYSA-N/output/ZTHISXNUAOFTJB-UHFFFAOYSA-N-iS4m2Q-71-B/ZTHISXNUAOFTJB-UHFFFAOYSA-N-iS4m2Q-71-B.minimised.mol',\n",
       " 71222: '/opt/xchem-fragalysis-2/maxwin/RdRp_FFF/syndirella/feb_elabs/elabs_20/ZTHISXNUAOFTJB-UHFFFAOYSA-N/output/ZTHISXNUAOFTJB-UHFFFAOYSA-N-iS4m2Q-84-D/ZTHISXNUAOFTJB-UHFFFAOYSA-N-iS4m2Q-84-D.minimised.mol',\n",
       " 71223: '/opt/xchem-fragalysis-2/maxwin/RdRp_FFF/syndirella/feb_elabs/elabs_20/ZTHISXNUAOFTJB-UHFFFAOYSA-N/output/ZTHISXNUAOFTJB-UHFFFAOYSA-N-iS4m2Q-85-D/ZTHISXNUAOFTJB-UHFFFAOYSA-N-iS4m2Q-85-D.minimised.mol',\n",
       " 71227: '/opt/xchem-fragalysis-2/maxwin/RdRp_FFF/syndirella/feb_elabs/elabs_20/ZTHISXNUAOFTJB-UHFFFAOYSA-N/output/ZTHISXNUAOFTJB-UHFFFAOYSA-N-iS4m2Q-91-C/ZTHISXNUAOFTJB-UHFFFAOYSA-N-iS4m2Q-91-C.minimised.mol',\n",
       " 71228: '/opt/xchem-fragalysis-2/maxwin/RdRp_FFF/syndirella/feb_elabs/elabs_20/ZTHISXNUAOFTJB-UHFFFAOYSA-N/output/ZTHISXNUAOFTJB-UHFFFAOYSA-N-iS4m2Q-92-D/ZTHISXNUAOFTJB-UHFFFAOYSA-N-iS4m2Q-92-D.minimised.mol',\n",
       " 71229: '/opt/xchem-fragalysis-2/maxwin/RdRp_FFF/syndirella/feb_elabs/elabs_20/ZTHISXNUAOFTJB-UHFFFAOYSA-N/output/ZTHISXNUAOFTJB-UHFFFAOYSA-N-iS4m2Q-93-C/ZTHISXNUAOFTJB-UHFFFAOYSA-N-iS4m2Q-93-C.minimised.mol',\n",
       " 71234: '/opt/xchem-fragalysis-2/maxwin/RdRp_FFF/syndirella/feb_elabs/elabs_20/ZTHISXNUAOFTJB-UHFFFAOYSA-N/output/ZTHISXNUAOFTJB-UHFFFAOYSA-N-iS4m2Q-98-C/ZTHISXNUAOFTJB-UHFFFAOYSA-N-iS4m2Q-98-C.minimised.mol',\n",
       " 71235: '/opt/xchem-fragalysis-2/maxwin/RdRp_FFF/syndirella/feb_elabs/elabs_20/ZTHISXNUAOFTJB-UHFFFAOYSA-N/output/ZTHISXNUAOFTJB-UHFFFAOYSA-N-iS4m2Q-99-D/ZTHISXNUAOFTJB-UHFFFAOYSA-N-iS4m2Q-99-D.minimised.mol',\n",
       " 71247: '/opt/xchem-fragalysis-2/maxwin/RdRp_FFF/syndirella/feb_elabs/elabs_20/ZTHISXNUAOFTJB-UHFFFAOYSA-N/output/ZTHISXNUAOFTJB-UHFFFAOYSA-N-iS4m2Q-113-A/ZTHISXNUAOFTJB-UHFFFAOYSA-N-iS4m2Q-113-A.minimised.mol',\n",
       " 71251: '/opt/xchem-fragalysis-2/maxwin/RdRp_FFF/syndirella/feb_elabs/elabs_20/ZTHISXNUAOFTJB-UHFFFAOYSA-N/output/ZTHISXNUAOFTJB-UHFFFAOYSA-N-iS4m2Q-117-B/ZTHISXNUAOFTJB-UHFFFAOYSA-N-iS4m2Q-117-B.minimised.mol',\n",
       " 71252: '/opt/xchem-fragalysis-2/maxwin/RdRp_FFF/syndirella/feb_elabs/elabs_20/ZTHISXNUAOFTJB-UHFFFAOYSA-N/output/ZTHISXNUAOFTJB-UHFFFAOYSA-N-iS4m2Q-118-A/ZTHISXNUAOFTJB-UHFFFAOYSA-N-iS4m2Q-118-A.minimised.mol',\n",
       " 71256: '/opt/xchem-fragalysis-2/maxwin/RdRp_FFF/syndirella/feb_elabs/elabs_20/ZTHISXNUAOFTJB-UHFFFAOYSA-N/output/ZTHISXNUAOFTJB-UHFFFAOYSA-N-iS4m2Q-124-A/ZTHISXNUAOFTJB-UHFFFAOYSA-N-iS4m2Q-124-A.minimised.mol',\n",
       " 71265: '/opt/xchem-fragalysis-2/maxwin/RdRp_FFF/syndirella/feb_elabs/elabs_20/ZTHISXNUAOFTJB-UHFFFAOYSA-N/output/ZTHISXNUAOFTJB-UHFFFAOYSA-N-iS4m2Q-136-B/ZTHISXNUAOFTJB-UHFFFAOYSA-N-iS4m2Q-136-B.minimised.mol',\n",
       " 71268: '/opt/xchem-fragalysis-2/maxwin/RdRp_FFF/syndirella/feb_elabs/elabs_20/ZTHISXNUAOFTJB-UHFFFAOYSA-N/output/ZTHISXNUAOFTJB-UHFFFAOYSA-N-iS4m2Q-139-A/ZTHISXNUAOFTJB-UHFFFAOYSA-N-iS4m2Q-139-A.minimised.mol',\n",
       " 71273: '/opt/xchem-fragalysis-2/maxwin/RdRp_FFF/syndirella/feb_elabs/elabs_20/ZTHISXNUAOFTJB-UHFFFAOYSA-N/output/ZTHISXNUAOFTJB-UHFFFAOYSA-N-iS4m2Q-144-B/ZTHISXNUAOFTJB-UHFFFAOYSA-N-iS4m2Q-144-B.minimised.mol',\n",
       " 71274: '/opt/xchem-fragalysis-2/maxwin/RdRp_FFF/syndirella/feb_elabs/elabs_20/ZTHISXNUAOFTJB-UHFFFAOYSA-N/output/ZTHISXNUAOFTJB-UHFFFAOYSA-N-iS4m2Q-145-C/ZTHISXNUAOFTJB-UHFFFAOYSA-N-iS4m2Q-145-C.minimised.mol',\n",
       " 71279: '/opt/xchem-fragalysis-2/maxwin/RdRp_FFF/syndirella/feb_elabs/elabs_20/ZTHISXNUAOFTJB-UHFFFAOYSA-N/output/ZTHISXNUAOFTJB-UHFFFAOYSA-N-iS4m2Q-150-A/ZTHISXNUAOFTJB-UHFFFAOYSA-N-iS4m2Q-150-A.minimised.mol',\n",
       " 71285: '/opt/xchem-fragalysis-2/maxwin/RdRp_FFF/syndirella/feb_elabs/elabs_20/ZTHISXNUAOFTJB-UHFFFAOYSA-N/output/ZTHISXNUAOFTJB-UHFFFAOYSA-N-iS4m2Q-156-G/ZTHISXNUAOFTJB-UHFFFAOYSA-N-iS4m2Q-156-G.minimised.mol',\n",
       " 71286: '/opt/xchem-fragalysis-2/maxwin/RdRp_FFF/syndirella/feb_elabs/elabs_20/ZTHISXNUAOFTJB-UHFFFAOYSA-N/output/ZTHISXNUAOFTJB-UHFFFAOYSA-N-iS4m2Q-157-A/ZTHISXNUAOFTJB-UHFFFAOYSA-N-iS4m2Q-157-A.minimised.mol',\n",
       " 71289: '/opt/xchem-fragalysis-2/maxwin/RdRp_FFF/syndirella/feb_elabs/elabs_20/ZTHISXNUAOFTJB-UHFFFAOYSA-N/output/ZTHISXNUAOFTJB-UHFFFAOYSA-N-iS4m2Q-160-B/ZTHISXNUAOFTJB-UHFFFAOYSA-N-iS4m2Q-160-B.minimised.mol',\n",
       " 71293: '/opt/xchem-fragalysis-2/maxwin/RdRp_FFF/syndirella/feb_elabs/elabs_20/ZTHISXNUAOFTJB-UHFFFAOYSA-N/output/ZTHISXNUAOFTJB-UHFFFAOYSA-N-iS4m2Q-166-A/ZTHISXNUAOFTJB-UHFFFAOYSA-N-iS4m2Q-166-A.minimised.mol',\n",
       " 71298: '/opt/xchem-fragalysis-2/maxwin/RdRp_FFF/syndirella/feb_elabs/elabs_20/ZTHISXNUAOFTJB-UHFFFAOYSA-N/output/ZTHISXNUAOFTJB-UHFFFAOYSA-N-iS4m2Q-171-A/ZTHISXNUAOFTJB-UHFFFAOYSA-N-iS4m2Q-171-A.minimised.mol',\n",
       " 71301: '/opt/xchem-fragalysis-2/maxwin/RdRp_FFF/syndirella/feb_elabs/elabs_20/ZTHISXNUAOFTJB-UHFFFAOYSA-N/output/ZTHISXNUAOFTJB-UHFFFAOYSA-N-iS4m2Q-174-D/ZTHISXNUAOFTJB-UHFFFAOYSA-N-iS4m2Q-174-D.minimised.mol',\n",
       " 71304: '/opt/xchem-fragalysis-2/maxwin/RdRp_FFF/syndirella/feb_elabs/elabs_20/ZTHISXNUAOFTJB-UHFFFAOYSA-N/output/ZTHISXNUAOFTJB-UHFFFAOYSA-N-iS4m2Q-177-B/ZTHISXNUAOFTJB-UHFFFAOYSA-N-iS4m2Q-177-B.minimised.mol',\n",
       " 71305: '/opt/xchem-fragalysis-2/maxwin/RdRp_FFF/syndirella/feb_elabs/elabs_20/ZTHISXNUAOFTJB-UHFFFAOYSA-N/output/ZTHISXNUAOFTJB-UHFFFAOYSA-N-iS4m2Q-178-A/ZTHISXNUAOFTJB-UHFFFAOYSA-N-iS4m2Q-178-A.minimised.mol',\n",
       " 71314: '/opt/xchem-fragalysis-2/maxwin/RdRp_FFF/syndirella/feb_elabs/elabs_20/ZTHISXNUAOFTJB-UHFFFAOYSA-N/output/ZTHISXNUAOFTJB-UHFFFAOYSA-N-iS4m2Q-187-D/ZTHISXNUAOFTJB-UHFFFAOYSA-N-iS4m2Q-187-D.minimised.mol',\n",
       " 71316: '/opt/xchem-fragalysis-2/maxwin/RdRp_FFF/syndirella/feb_elabs/elabs_20/ZTHISXNUAOFTJB-UHFFFAOYSA-N/output/ZTHISXNUAOFTJB-UHFFFAOYSA-N-iS4m2Q-189-A/ZTHISXNUAOFTJB-UHFFFAOYSA-N-iS4m2Q-189-A.minimised.mol',\n",
       " 71318: '/opt/xchem-fragalysis-2/maxwin/RdRp_FFF/syndirella/feb_elabs/elabs_20/ZTHISXNUAOFTJB-UHFFFAOYSA-N/output/ZTHISXNUAOFTJB-UHFFFAOYSA-N-iS4m2Q-191-D/ZTHISXNUAOFTJB-UHFFFAOYSA-N-iS4m2Q-191-D.minimised.mol',\n",
       " 71321: '/opt/xchem-fragalysis-2/maxwin/RdRp_FFF/syndirella/feb_elabs/elabs_20/ZTHISXNUAOFTJB-UHFFFAOYSA-N/output/ZTHISXNUAOFTJB-UHFFFAOYSA-N-iS4m2Q-194-B/ZTHISXNUAOFTJB-UHFFFAOYSA-N-iS4m2Q-194-B.minimised.mol',\n",
       " 71323: '/opt/xchem-fragalysis-2/maxwin/RdRp_FFF/syndirella/feb_elabs/elabs_20/ZTHISXNUAOFTJB-UHFFFAOYSA-N/output/ZTHISXNUAOFTJB-UHFFFAOYSA-N-iS4m2Q-196-A/ZTHISXNUAOFTJB-UHFFFAOYSA-N-iS4m2Q-196-A.minimised.mol',\n",
       " 71324: '/opt/xchem-fragalysis-2/maxwin/RdRp_FFF/syndirella/feb_elabs/elabs_20/ZTHISXNUAOFTJB-UHFFFAOYSA-N/output/ZTHISXNUAOFTJB-UHFFFAOYSA-N-iS4m2Q-197-G/ZTHISXNUAOFTJB-UHFFFAOYSA-N-iS4m2Q-197-G.minimised.mol',\n",
       " 71325: '/opt/xchem-fragalysis-2/maxwin/RdRp_FFF/syndirella/feb_elabs/elabs_20/ZTHISXNUAOFTJB-UHFFFAOYSA-N/output/ZTHISXNUAOFTJB-UHFFFAOYSA-N-iS4m2Q-198-B/ZTHISXNUAOFTJB-UHFFFAOYSA-N-iS4m2Q-198-B.minimised.mol',\n",
       " 71326: '/opt/xchem-fragalysis-2/maxwin/RdRp_FFF/syndirella/feb_elabs/elabs_20/ZTHISXNUAOFTJB-UHFFFAOYSA-N/output/ZTHISXNUAOFTJB-UHFFFAOYSA-N-iS4m2Q-199-F/ZTHISXNUAOFTJB-UHFFFAOYSA-N-iS4m2Q-199-F.minimised.mol',\n",
       " 71330: '/opt/xchem-fragalysis-2/maxwin/RdRp_FFF/syndirella/feb_elabs/elabs_20/ZTHISXNUAOFTJB-UHFFFAOYSA-N/output/ZTHISXNUAOFTJB-UHFFFAOYSA-N-iS4m2Q-203-D/ZTHISXNUAOFTJB-UHFFFAOYSA-N-iS4m2Q-203-D.minimised.mol',\n",
       " 71335: '/opt/xchem-fragalysis-2/maxwin/RdRp_FFF/syndirella/feb_elabs/elabs_20/ZTHISXNUAOFTJB-UHFFFAOYSA-N/output/ZTHISXNUAOFTJB-UHFFFAOYSA-N-iS4m2Q-210-B/ZTHISXNUAOFTJB-UHFFFAOYSA-N-iS4m2Q-210-B.minimised.mol',\n",
       " 71339: '/opt/xchem-fragalysis-2/maxwin/RdRp_FFF/syndirella/feb_elabs/elabs_20/ZTHISXNUAOFTJB-UHFFFAOYSA-N/output/ZTHISXNUAOFTJB-UHFFFAOYSA-N-iS4m2Q-214-B/ZTHISXNUAOFTJB-UHFFFAOYSA-N-iS4m2Q-214-B.minimised.mol',\n",
       " 71340: '/opt/xchem-fragalysis-2/maxwin/RdRp_FFF/syndirella/feb_elabs/elabs_20/ZTHISXNUAOFTJB-UHFFFAOYSA-N/output/ZTHISXNUAOFTJB-UHFFFAOYSA-N-iS4m2Q-215-D/ZTHISXNUAOFTJB-UHFFFAOYSA-N-iS4m2Q-215-D.minimised.mol',\n",
       " 71341: '/opt/xchem-fragalysis-2/maxwin/RdRp_FFF/syndirella/feb_elabs/elabs_20/ZTHISXNUAOFTJB-UHFFFAOYSA-N/output/ZTHISXNUAOFTJB-UHFFFAOYSA-N-iS4m2Q-216-C/ZTHISXNUAOFTJB-UHFFFAOYSA-N-iS4m2Q-216-C.minimised.mol',\n",
       " 71342: '/opt/xchem-fragalysis-2/maxwin/RdRp_FFF/syndirella/feb_elabs/elabs_20/ZTHISXNUAOFTJB-UHFFFAOYSA-N/output/ZTHISXNUAOFTJB-UHFFFAOYSA-N-iS4m2Q-217-D/ZTHISXNUAOFTJB-UHFFFAOYSA-N-iS4m2Q-217-D.minimised.mol',\n",
       " 71343: '/opt/xchem-fragalysis-2/maxwin/RdRp_FFF/syndirella/feb_elabs/elabs_20/ZTHISXNUAOFTJB-UHFFFAOYSA-N/output/ZTHISXNUAOFTJB-UHFFFAOYSA-N-iS4m2Q-218-A/ZTHISXNUAOFTJB-UHFFFAOYSA-N-iS4m2Q-218-A.minimised.mol',\n",
       " 71348: '/opt/xchem-fragalysis-2/maxwin/RdRp_FFF/syndirella/feb_elabs/elabs_20/ZTHISXNUAOFTJB-UHFFFAOYSA-N/output/ZTHISXNUAOFTJB-UHFFFAOYSA-N-iS4m2Q-223-A/ZTHISXNUAOFTJB-UHFFFAOYSA-N-iS4m2Q-223-A.minimised.mol',\n",
       " 71357: '/opt/xchem-fragalysis-2/maxwin/RdRp_FFF/syndirella/feb_elabs/elabs_20/ZTHISXNUAOFTJB-UHFFFAOYSA-N/output/ZTHISXNUAOFTJB-UHFFFAOYSA-N-iS4m2Q-233-D/ZTHISXNUAOFTJB-UHFFFAOYSA-N-iS4m2Q-233-D.minimised.mol',\n",
       " 71358: '/opt/xchem-fragalysis-2/maxwin/RdRp_FFF/syndirella/feb_elabs/elabs_20/ZTHISXNUAOFTJB-UHFFFAOYSA-N/output/ZTHISXNUAOFTJB-UHFFFAOYSA-N-iS4m2Q-236-A/ZTHISXNUAOFTJB-UHFFFAOYSA-N-iS4m2Q-236-A.minimised.mol',\n",
       " 71362: '/opt/xchem-fragalysis-2/maxwin/RdRp_FFF/syndirella/feb_elabs/elabs_20/ZTHISXNUAOFTJB-UHFFFAOYSA-N/output/ZTHISXNUAOFTJB-UHFFFAOYSA-N-iS4m2Q-242-H/ZTHISXNUAOFTJB-UHFFFAOYSA-N-iS4m2Q-242-H.minimised.mol',\n",
       " 71363: '/opt/xchem-fragalysis-2/maxwin/RdRp_FFF/syndirella/feb_elabs/elabs_20/ZTHISXNUAOFTJB-UHFFFAOYSA-N/output/ZTHISXNUAOFTJB-UHFFFAOYSA-N-iS4m2Q-243-A/ZTHISXNUAOFTJB-UHFFFAOYSA-N-iS4m2Q-243-A.minimised.mol',\n",
       " 71364: '/opt/xchem-fragalysis-2/maxwin/RdRp_FFF/syndirella/feb_elabs/elabs_20/ZTHISXNUAOFTJB-UHFFFAOYSA-N/output/ZTHISXNUAOFTJB-UHFFFAOYSA-N-iS4m2Q-244-A/ZTHISXNUAOFTJB-UHFFFAOYSA-N-iS4m2Q-244-A.minimised.mol',\n",
       " 71369: '/opt/xchem-fragalysis-2/maxwin/RdRp_FFF/syndirella/feb_elabs/elabs_20/ZTHISXNUAOFTJB-UHFFFAOYSA-N/output/ZTHISXNUAOFTJB-UHFFFAOYSA-N-iS4m2Q-249-C/ZTHISXNUAOFTJB-UHFFFAOYSA-N-iS4m2Q-249-C.minimised.mol',\n",
       " 71375: '/opt/xchem-fragalysis-2/maxwin/RdRp_FFF/syndirella/feb_elabs/elabs_20/ZTHISXNUAOFTJB-UHFFFAOYSA-N/output/ZTHISXNUAOFTJB-UHFFFAOYSA-N-iS4m2Q-260-E/ZTHISXNUAOFTJB-UHFFFAOYSA-N-iS4m2Q-260-E.minimised.mol',\n",
       " 71376: '/opt/xchem-fragalysis-2/maxwin/RdRp_FFF/syndirella/feb_elabs/elabs_20/ZTHISXNUAOFTJB-UHFFFAOYSA-N/output/ZTHISXNUAOFTJB-UHFFFAOYSA-N-iS4m2Q-262-E/ZTHISXNUAOFTJB-UHFFFAOYSA-N-iS4m2Q-262-E.minimised.mol',\n",
       " 71381: '/opt/xchem-fragalysis-2/maxwin/RdRp_FFF/syndirella/feb_elabs/elabs_20/ZTHISXNUAOFTJB-UHFFFAOYSA-N/output/ZTHISXNUAOFTJB-UHFFFAOYSA-N-iS4m2Q-277-A/ZTHISXNUAOFTJB-UHFFFAOYSA-N-iS4m2Q-277-A.minimised.mol',\n",
       " 71383: '/opt/xchem-fragalysis-2/maxwin/RdRp_FFF/syndirella/feb_elabs/elabs_20/ZTHISXNUAOFTJB-UHFFFAOYSA-N/output/ZTHISXNUAOFTJB-UHFFFAOYSA-N-iS4m2Q-283-B/ZTHISXNUAOFTJB-UHFFFAOYSA-N-iS4m2Q-283-B.minimised.mol',\n",
       " 71390: '/opt/xchem-fragalysis-2/maxwin/RdRp_FFF/syndirella/feb_elabs/elabs_20/ZTHISXNUAOFTJB-UHFFFAOYSA-N/output/ZTHISXNUAOFTJB-UHFFFAOYSA-N-iS4m2Q-294-B/ZTHISXNUAOFTJB-UHFFFAOYSA-N-iS4m2Q-294-B.minimised.mol',\n",
       " 71395: '/opt/xchem-fragalysis-2/maxwin/RdRp_FFF/syndirella/feb_elabs/elabs_20/ZTHISXNUAOFTJB-UHFFFAOYSA-N/output/ZTHISXNUAOFTJB-UHFFFAOYSA-N-iS4m2Q-303-A/ZTHISXNUAOFTJB-UHFFFAOYSA-N-iS4m2Q-303-A.minimised.mol',\n",
       " 71397: '/opt/xchem-fragalysis-2/maxwin/RdRp_FFF/syndirella/feb_elabs/elabs_20/ZTHISXNUAOFTJB-UHFFFAOYSA-N/output/ZTHISXNUAOFTJB-UHFFFAOYSA-N-iS4m2Q-307-D/ZTHISXNUAOFTJB-UHFFFAOYSA-N-iS4m2Q-307-D.minimised.mol',\n",
       " 71399: '/opt/xchem-fragalysis-2/maxwin/RdRp_FFF/syndirella/feb_elabs/elabs_20/ZTHISXNUAOFTJB-UHFFFAOYSA-N/output/ZTHISXNUAOFTJB-UHFFFAOYSA-N-iS4m2Q-310-D/ZTHISXNUAOFTJB-UHFFFAOYSA-N-iS4m2Q-310-D.minimised.mol',\n",
       " 71401: '/opt/xchem-fragalysis-2/maxwin/RdRp_FFF/syndirella/feb_elabs/elabs_20/ZTHISXNUAOFTJB-UHFFFAOYSA-N/output/ZTHISXNUAOFTJB-UHFFFAOYSA-N-iS4m2Q-314-A/ZTHISXNUAOFTJB-UHFFFAOYSA-N-iS4m2Q-314-A.minimised.mol',\n",
       " 71402: '/opt/xchem-fragalysis-2/maxwin/RdRp_FFF/syndirella/feb_elabs/elabs_20/ZTHISXNUAOFTJB-UHFFFAOYSA-N/output/ZTHISXNUAOFTJB-UHFFFAOYSA-N-iS4m2Q-322-D/ZTHISXNUAOFTJB-UHFFFAOYSA-N-iS4m2Q-322-D.minimised.mol',\n",
       " 71406: '/opt/xchem-fragalysis-2/maxwin/RdRp_FFF/syndirella/feb_elabs/elabs_20/ZTHISXNUAOFTJB-UHFFFAOYSA-N/output/ZTHISXNUAOFTJB-UHFFFAOYSA-N-iS4m2Q-326-A/ZTHISXNUAOFTJB-UHFFFAOYSA-N-iS4m2Q-326-A.minimised.mol',\n",
       " 71407: '/opt/xchem-fragalysis-2/maxwin/RdRp_FFF/syndirella/feb_elabs/elabs_20/ZTHISXNUAOFTJB-UHFFFAOYSA-N/output/ZTHISXNUAOFTJB-UHFFFAOYSA-N-iS4m2Q-327-B/ZTHISXNUAOFTJB-UHFFFAOYSA-N-iS4m2Q-327-B.minimised.mol',\n",
       " 71408: '/opt/xchem-fragalysis-2/maxwin/RdRp_FFF/syndirella/feb_elabs/elabs_20/ZTHISXNUAOFTJB-UHFFFAOYSA-N/output/ZTHISXNUAOFTJB-UHFFFAOYSA-N-iS4m2Q-330-A/ZTHISXNUAOFTJB-UHFFFAOYSA-N-iS4m2Q-330-A.minimised.mol',\n",
       " 71409: '/opt/xchem-fragalysis-2/maxwin/RdRp_FFF/syndirella/feb_elabs/elabs_20/ZTHISXNUAOFTJB-UHFFFAOYSA-N/output/ZTHISXNUAOFTJB-UHFFFAOYSA-N-iS4m2Q-331-B/ZTHISXNUAOFTJB-UHFFFAOYSA-N-iS4m2Q-331-B.minimised.mol',\n",
       " 71410: '/opt/xchem-fragalysis-2/maxwin/RdRp_FFF/syndirella/feb_elabs/elabs_20/ZTHISXNUAOFTJB-UHFFFAOYSA-N/output/ZTHISXNUAOFTJB-UHFFFAOYSA-N-iS4m2Q-332-B/ZTHISXNUAOFTJB-UHFFFAOYSA-N-iS4m2Q-332-B.minimised.mol',\n",
       " 71411: '/opt/xchem-fragalysis-2/maxwin/RdRp_FFF/syndirella/feb_elabs/elabs_20/ZTHISXNUAOFTJB-UHFFFAOYSA-N/output/ZTHISXNUAOFTJB-UHFFFAOYSA-N-iS4m2Q-333-A/ZTHISXNUAOFTJB-UHFFFAOYSA-N-iS4m2Q-333-A.minimised.mol',\n",
       " 71413: '/opt/xchem-fragalysis-2/maxwin/RdRp_FFF/syndirella/feb_elabs/elabs_20/ZTHISXNUAOFTJB-UHFFFAOYSA-N/output/ZTHISXNUAOFTJB-UHFFFAOYSA-N-iS4m2Q-337-Z/ZTHISXNUAOFTJB-UHFFFAOYSA-N-iS4m2Q-337-Z.minimised.mol',\n",
       " 71415: '/opt/xchem-fragalysis-2/maxwin/RdRp_FFF/syndirella/feb_elabs/elabs_20/ZTHISXNUAOFTJB-UHFFFAOYSA-N/output/ZTHISXNUAOFTJB-UHFFFAOYSA-N-iS4m2Q-341-Y/ZTHISXNUAOFTJB-UHFFFAOYSA-N-iS4m2Q-341-Y.minimised.mol',\n",
       " 71416: '/opt/xchem-fragalysis-2/maxwin/RdRp_FFF/syndirella/feb_elabs/elabs_20/ZTHISXNUAOFTJB-UHFFFAOYSA-N/output/ZTHISXNUAOFTJB-UHFFFAOYSA-N-iS4m2Q-342-B/ZTHISXNUAOFTJB-UHFFFAOYSA-N-iS4m2Q-342-B.minimised.mol',\n",
       " 71422: '/opt/xchem-fragalysis-2/maxwin/RdRp_FFF/syndirella/feb_elabs/elabs_20/ZTHISXNUAOFTJB-UHFFFAOYSA-N/output/ZTHISXNUAOFTJB-UHFFFAOYSA-N-iS4m2Q-349-A/ZTHISXNUAOFTJB-UHFFFAOYSA-N-iS4m2Q-349-A.minimised.mol',\n",
       " 71425: '/opt/xchem-fragalysis-2/maxwin/RdRp_FFF/syndirella/feb_elabs/elabs_20/ZTHISXNUAOFTJB-UHFFFAOYSA-N/output/ZTHISXNUAOFTJB-UHFFFAOYSA-N-iS4m2Q-352-A/ZTHISXNUAOFTJB-UHFFFAOYSA-N-iS4m2Q-352-A.minimised.mol',\n",
       " 71427: '/opt/xchem-fragalysis-2/maxwin/RdRp_FFF/syndirella/feb_elabs/elabs_20/ZTHISXNUAOFTJB-UHFFFAOYSA-N/output/ZTHISXNUAOFTJB-UHFFFAOYSA-N-iS4m2Q-369-M/ZTHISXNUAOFTJB-UHFFFAOYSA-N-iS4m2Q-369-M.minimised.mol',\n",
       " 71428: '/opt/xchem-fragalysis-2/maxwin/RdRp_FFF/syndirella/feb_elabs/elabs_20/ZTHISXNUAOFTJB-UHFFFAOYSA-N/output/ZTHISXNUAOFTJB-UHFFFAOYSA-N-iS4m2Q-370-A/ZTHISXNUAOFTJB-UHFFFAOYSA-N-iS4m2Q-370-A.minimised.mol',\n",
       " 71429: '/opt/xchem-fragalysis-2/maxwin/RdRp_FFF/syndirella/feb_elabs/elabs_20/ZTHISXNUAOFTJB-UHFFFAOYSA-N/output/ZTHISXNUAOFTJB-UHFFFAOYSA-N-iS4m2Q-371-A/ZTHISXNUAOFTJB-UHFFFAOYSA-N-iS4m2Q-371-A.minimised.mol',\n",
       " 71432: '/opt/xchem-fragalysis-2/maxwin/RdRp_FFF/syndirella/feb_elabs/elabs_20/ZTHISXNUAOFTJB-UHFFFAOYSA-N/output/ZTHISXNUAOFTJB-UHFFFAOYSA-N-iS4m2Q-374-D/ZTHISXNUAOFTJB-UHFFFAOYSA-N-iS4m2Q-374-D.minimised.mol',\n",
       " 71437: '/opt/xchem-fragalysis-2/maxwin/RdRp_FFF/syndirella/feb_elabs/elabs_20/ZTHISXNUAOFTJB-UHFFFAOYSA-N/output/ZTHISXNUAOFTJB-UHFFFAOYSA-N-iS4m2Q-382-A/ZTHISXNUAOFTJB-UHFFFAOYSA-N-iS4m2Q-382-A.minimised.mol',\n",
       " 71438: '/opt/xchem-fragalysis-2/maxwin/RdRp_FFF/syndirella/feb_elabs/elabs_20/ZTHISXNUAOFTJB-UHFFFAOYSA-N/output/ZTHISXNUAOFTJB-UHFFFAOYSA-N-iS4m2Q-383-A/ZTHISXNUAOFTJB-UHFFFAOYSA-N-iS4m2Q-383-A.minimised.mol',\n",
       " 71440: '/opt/xchem-fragalysis-2/maxwin/RdRp_FFF/syndirella/feb_elabs/elabs_20/ZTHISXNUAOFTJB-UHFFFAOYSA-N/output/ZTHISXNUAOFTJB-UHFFFAOYSA-N-iS4m2Q-385-J/ZTHISXNUAOFTJB-UHFFFAOYSA-N-iS4m2Q-385-J.minimised.mol',\n",
       " 71444: '/opt/xchem-fragalysis-2/maxwin/RdRp_FFF/syndirella/feb_elabs/elabs_20/ZTHISXNUAOFTJB-UHFFFAOYSA-N/output/ZTHISXNUAOFTJB-UHFFFAOYSA-N-iS4m2Q-392-A/ZTHISXNUAOFTJB-UHFFFAOYSA-N-iS4m2Q-392-A.minimised.mol',\n",
       " 71445: '/opt/xchem-fragalysis-2/maxwin/RdRp_FFF/syndirella/feb_elabs/elabs_20/ZTHISXNUAOFTJB-UHFFFAOYSA-N/output/ZTHISXNUAOFTJB-UHFFFAOYSA-N-iS4m2Q-393-A/ZTHISXNUAOFTJB-UHFFFAOYSA-N-iS4m2Q-393-A.minimised.mol',\n",
       " 71451: '/opt/xchem-fragalysis-2/maxwin/RdRp_FFF/syndirella/feb_elabs/elabs_20/ZTHISXNUAOFTJB-UHFFFAOYSA-N/output/ZTHISXNUAOFTJB-UHFFFAOYSA-N-iS4m2Q-403-A/ZTHISXNUAOFTJB-UHFFFAOYSA-N-iS4m2Q-403-A.minimised.mol',\n",
       " 71453: '/opt/xchem-fragalysis-2/maxwin/RdRp_FFF/syndirella/feb_elabs/elabs_20/ZTHISXNUAOFTJB-UHFFFAOYSA-N/output/ZTHISXNUAOFTJB-UHFFFAOYSA-N-iS4m2Q-405-D/ZTHISXNUAOFTJB-UHFFFAOYSA-N-iS4m2Q-405-D.minimised.mol',\n",
       " 71455: '/opt/xchem-fragalysis-2/maxwin/RdRp_FFF/syndirella/feb_elabs/elabs_20/ZTHISXNUAOFTJB-UHFFFAOYSA-N/output/ZTHISXNUAOFTJB-UHFFFAOYSA-N-iS4m2Q-407-A/ZTHISXNUAOFTJB-UHFFFAOYSA-N-iS4m2Q-407-A.minimised.mol',\n",
       " 71458: '/opt/xchem-fragalysis-2/maxwin/RdRp_FFF/syndirella/feb_elabs/elabs_20/ZTHISXNUAOFTJB-UHFFFAOYSA-N/output/ZTHISXNUAOFTJB-UHFFFAOYSA-N-iS4m2Q-411-A/ZTHISXNUAOFTJB-UHFFFAOYSA-N-iS4m2Q-411-A.minimised.mol',\n",
       " 71463: '/opt/xchem-fragalysis-2/maxwin/RdRp_FFF/syndirella/feb_elabs/elabs_20/ZTHISXNUAOFTJB-UHFFFAOYSA-N/output/ZTHISXNUAOFTJB-UHFFFAOYSA-N-iS4m2Q-417-A/ZTHISXNUAOFTJB-UHFFFAOYSA-N-iS4m2Q-417-A.minimised.mol',\n",
       " 71466: '/opt/xchem-fragalysis-2/maxwin/RdRp_FFF/syndirella/feb_elabs/elabs_20/ZTHISXNUAOFTJB-UHFFFAOYSA-N/output/ZTHISXNUAOFTJB-UHFFFAOYSA-N-iS4m2Q-420-B/ZTHISXNUAOFTJB-UHFFFAOYSA-N-iS4m2Q-420-B.minimised.mol',\n",
       " 71470: '/opt/xchem-fragalysis-2/maxwin/RdRp_FFF/syndirella/feb_elabs/elabs_20/ZTHISXNUAOFTJB-UHFFFAOYSA-N/output/ZTHISXNUAOFTJB-UHFFFAOYSA-N-iS4m2Q-424-D/ZTHISXNUAOFTJB-UHFFFAOYSA-N-iS4m2Q-424-D.minimised.mol',\n",
       " 71475: '/opt/xchem-fragalysis-2/maxwin/RdRp_FFF/syndirella/feb_elabs/elabs_20/ZTHISXNUAOFTJB-UHFFFAOYSA-N/output/ZTHISXNUAOFTJB-UHFFFAOYSA-N-iS4m2Q-430-B/ZTHISXNUAOFTJB-UHFFFAOYSA-N-iS4m2Q-430-B.minimised.mol',\n",
       " 71477: '/opt/xchem-fragalysis-2/maxwin/RdRp_FFF/syndirella/feb_elabs/elabs_20/ZTHISXNUAOFTJB-UHFFFAOYSA-N/output/ZTHISXNUAOFTJB-UHFFFAOYSA-N-iS4m2Q-432-A/ZTHISXNUAOFTJB-UHFFFAOYSA-N-iS4m2Q-432-A.minimised.mol',\n",
       " 71486: '/opt/xchem-fragalysis-2/maxwin/RdRp_FFF/syndirella/feb_elabs/elabs_20/ZTHISXNUAOFTJB-UHFFFAOYSA-N/output/ZTHISXNUAOFTJB-UHFFFAOYSA-N-iS4m2Q-444-B/ZTHISXNUAOFTJB-UHFFFAOYSA-N-iS4m2Q-444-B.minimised.mol',\n",
       " 71489: '/opt/xchem-fragalysis-2/maxwin/RdRp_FFF/syndirella/feb_elabs/elabs_20/ZTHISXNUAOFTJB-UHFFFAOYSA-N/output/ZTHISXNUAOFTJB-UHFFFAOYSA-N-iS4m2Q-448-A/ZTHISXNUAOFTJB-UHFFFAOYSA-N-iS4m2Q-448-A.minimised.mol',\n",
       " 71491: '/opt/xchem-fragalysis-2/maxwin/RdRp_FFF/syndirella/feb_elabs/elabs_20/ZTHISXNUAOFTJB-UHFFFAOYSA-N/output/ZTHISXNUAOFTJB-UHFFFAOYSA-N-iS4m2Q-450-B/ZTHISXNUAOFTJB-UHFFFAOYSA-N-iS4m2Q-450-B.minimised.mol',\n",
       " 71493: '/opt/xchem-fragalysis-2/maxwin/RdRp_FFF/syndirella/feb_elabs/elabs_20/ZTHISXNUAOFTJB-UHFFFAOYSA-N/output/ZTHISXNUAOFTJB-UHFFFAOYSA-N-iS4m2Q-454-A/ZTHISXNUAOFTJB-UHFFFAOYSA-N-iS4m2Q-454-A.minimised.mol',\n",
       " 71496: '/opt/xchem-fragalysis-2/maxwin/RdRp_FFF/syndirella/feb_elabs/elabs_20/ZTHISXNUAOFTJB-UHFFFAOYSA-N/output/ZTHISXNUAOFTJB-UHFFFAOYSA-N-iS4m2Q-457-F/ZTHISXNUAOFTJB-UHFFFAOYSA-N-iS4m2Q-457-F.minimised.mol',\n",
       " 71499: '/opt/xchem-fragalysis-2/maxwin/RdRp_FFF/syndirella/feb_elabs/elabs_20/ZTHISXNUAOFTJB-UHFFFAOYSA-N/output/ZTHISXNUAOFTJB-UHFFFAOYSA-N-iS4m2Q-460-G/ZTHISXNUAOFTJB-UHFFFAOYSA-N-iS4m2Q-460-G.minimised.mol',\n",
       " 71505: '/opt/xchem-fragalysis-2/maxwin/RdRp_FFF/syndirella/feb_elabs/elabs_20/ZTHISXNUAOFTJB-UHFFFAOYSA-N/output/ZTHISXNUAOFTJB-UHFFFAOYSA-N-iS4m2Q-469-B/ZTHISXNUAOFTJB-UHFFFAOYSA-N-iS4m2Q-469-B.minimised.mol',\n",
       " 71506: '/opt/xchem-fragalysis-2/maxwin/RdRp_FFF/syndirella/feb_elabs/elabs_20/ZTHISXNUAOFTJB-UHFFFAOYSA-N/output/ZTHISXNUAOFTJB-UHFFFAOYSA-N-iS4m2Q-471-A/ZTHISXNUAOFTJB-UHFFFAOYSA-N-iS4m2Q-471-A.minimised.mol',\n",
       " 71507: '/opt/xchem-fragalysis-2/maxwin/RdRp_FFF/syndirella/feb_elabs/elabs_20/ZTHISXNUAOFTJB-UHFFFAOYSA-N/output/ZTHISXNUAOFTJB-UHFFFAOYSA-N-iS4m2Q-472-A/ZTHISXNUAOFTJB-UHFFFAOYSA-N-iS4m2Q-472-A.minimised.mol',\n",
       " 71510: '/opt/xchem-fragalysis-2/maxwin/RdRp_FFF/syndirella/feb_elabs/elabs_20/ZTHISXNUAOFTJB-UHFFFAOYSA-N/output/ZTHISXNUAOFTJB-UHFFFAOYSA-N-iS4m2Q-475-A/ZTHISXNUAOFTJB-UHFFFAOYSA-N-iS4m2Q-475-A.minimised.mol',\n",
       " 71514: '/opt/xchem-fragalysis-2/maxwin/RdRp_FFF/syndirella/feb_elabs/elabs_20/ZTHISXNUAOFTJB-UHFFFAOYSA-N/output/ZTHISXNUAOFTJB-UHFFFAOYSA-N-iS4m2Q-489-A/ZTHISXNUAOFTJB-UHFFFAOYSA-N-iS4m2Q-489-A.minimised.mol',\n",
       " 71515: '/opt/xchem-fragalysis-2/maxwin/RdRp_FFF/syndirella/feb_elabs/elabs_20/ZTHISXNUAOFTJB-UHFFFAOYSA-N/output/ZTHISXNUAOFTJB-UHFFFAOYSA-N-iS4m2Q-490-A/ZTHISXNUAOFTJB-UHFFFAOYSA-N-iS4m2Q-490-A.minimised.mol',\n",
       " 71516: '/opt/xchem-fragalysis-2/maxwin/RdRp_FFF/syndirella/feb_elabs/elabs_20/ZTHISXNUAOFTJB-UHFFFAOYSA-N/output/ZTHISXNUAOFTJB-UHFFFAOYSA-N-iS4m2Q-491-B/ZTHISXNUAOFTJB-UHFFFAOYSA-N-iS4m2Q-491-B.minimised.mol',\n",
       " 71525: '/opt/xchem-fragalysis-2/maxwin/RdRp_FFF/syndirella/feb_elabs/elabs_20/ZTHISXNUAOFTJB-UHFFFAOYSA-N/output/ZTHISXNUAOFTJB-UHFFFAOYSA-N-iS4m2Q-505-A/ZTHISXNUAOFTJB-UHFFFAOYSA-N-iS4m2Q-505-A.minimised.mol',\n",
       " 71528: '/opt/xchem-fragalysis-2/maxwin/RdRp_FFF/syndirella/feb_elabs/elabs_20/ZTHISXNUAOFTJB-UHFFFAOYSA-N/output/ZTHISXNUAOFTJB-UHFFFAOYSA-N-iS4m2Q-508-A/ZTHISXNUAOFTJB-UHFFFAOYSA-N-iS4m2Q-508-A.minimised.mol',\n",
       " 71530: '/opt/xchem-fragalysis-2/maxwin/RdRp_FFF/syndirella/feb_elabs/elabs_20/ZTHISXNUAOFTJB-UHFFFAOYSA-N/output/ZTHISXNUAOFTJB-UHFFFAOYSA-N-iS4m2Q-510-A/ZTHISXNUAOFTJB-UHFFFAOYSA-N-iS4m2Q-510-A.minimised.mol',\n",
       " 71533: '/opt/xchem-fragalysis-2/maxwin/RdRp_FFF/syndirella/feb_elabs/elabs_20/ZTHISXNUAOFTJB-UHFFFAOYSA-N/output/ZTHISXNUAOFTJB-UHFFFAOYSA-N-iS4m2Q-513-A/ZTHISXNUAOFTJB-UHFFFAOYSA-N-iS4m2Q-513-A.minimised.mol',\n",
       " 71534: '/opt/xchem-fragalysis-2/maxwin/RdRp_FFF/syndirella/feb_elabs/elabs_20/ZTHISXNUAOFTJB-UHFFFAOYSA-N/output/ZTHISXNUAOFTJB-UHFFFAOYSA-N-iS4m2Q-514-A/ZTHISXNUAOFTJB-UHFFFAOYSA-N-iS4m2Q-514-A.minimised.mol',\n",
       " 71546: '/opt/xchem-fragalysis-2/maxwin/RdRp_FFF/syndirella/feb_elabs/elabs_20/ZTHISXNUAOFTJB-UHFFFAOYSA-N/output/ZTHISXNUAOFTJB-UHFFFAOYSA-N-iS4m2Q-535-B/ZTHISXNUAOFTJB-UHFFFAOYSA-N-iS4m2Q-535-B.minimised.mol',\n",
       " 71548: '/opt/xchem-fragalysis-2/maxwin/RdRp_FFF/syndirella/feb_elabs/elabs_20/ZTHISXNUAOFTJB-UHFFFAOYSA-N/output/ZTHISXNUAOFTJB-UHFFFAOYSA-N-iS4m2Q-543-D/ZTHISXNUAOFTJB-UHFFFAOYSA-N-iS4m2Q-543-D.minimised.mol',\n",
       " 71550: '/opt/xchem-fragalysis-2/maxwin/RdRp_FFF/syndirella/feb_elabs/elabs_20/ZTHISXNUAOFTJB-UHFFFAOYSA-N/output/ZTHISXNUAOFTJB-UHFFFAOYSA-N-iS4m2Q-546-C/ZTHISXNUAOFTJB-UHFFFAOYSA-N-iS4m2Q-546-C.minimised.mol',\n",
       " 71551: '/opt/xchem-fragalysis-2/maxwin/RdRp_FFF/syndirella/feb_elabs/elabs_20/ZTHISXNUAOFTJB-UHFFFAOYSA-N/output/ZTHISXNUAOFTJB-UHFFFAOYSA-N-iS4m2Q-547-A/ZTHISXNUAOFTJB-UHFFFAOYSA-N-iS4m2Q-547-A.minimised.mol',\n",
       " 71556: '/opt/xchem-fragalysis-2/maxwin/RdRp_FFF/syndirella/feb_elabs/elabs_20/ZTHISXNUAOFTJB-UHFFFAOYSA-N/output/ZTHISXNUAOFTJB-UHFFFAOYSA-N-iS4m2Q-560-C/ZTHISXNUAOFTJB-UHFFFAOYSA-N-iS4m2Q-560-C.minimised.mol',\n",
       " 71558: '/opt/xchem-fragalysis-2/maxwin/RdRp_FFF/syndirella/feb_elabs/elabs_20/ZTHISXNUAOFTJB-UHFFFAOYSA-N/output/ZTHISXNUAOFTJB-UHFFFAOYSA-N-iS4m2Q-562-A/ZTHISXNUAOFTJB-UHFFFAOYSA-N-iS4m2Q-562-A.minimised.mol',\n",
       " 71566: '/opt/xchem-fragalysis-2/maxwin/RdRp_FFF/syndirella/feb_elabs/elabs_20/ZTHISXNUAOFTJB-UHFFFAOYSA-N/output/ZTHISXNUAOFTJB-UHFFFAOYSA-N-iS4m2Q-580-A/ZTHISXNUAOFTJB-UHFFFAOYSA-N-iS4m2Q-580-A.minimised.mol',\n",
       " 71569: '/opt/xchem-fragalysis-2/maxwin/RdRp_FFF/syndirella/feb_elabs/elabs_20/ZTHISXNUAOFTJB-UHFFFAOYSA-N/output/ZTHISXNUAOFTJB-UHFFFAOYSA-N-iS4m2Q-584-C/ZTHISXNUAOFTJB-UHFFFAOYSA-N-iS4m2Q-584-C.minimised.mol',\n",
       " 71576: '/opt/xchem-fragalysis-2/maxwin/RdRp_FFF/syndirella/feb_elabs/elabs_20/ZTHISXNUAOFTJB-UHFFFAOYSA-N/output/ZTHISXNUAOFTJB-UHFFFAOYSA-N-iS4m2Q-591-D/ZTHISXNUAOFTJB-UHFFFAOYSA-N-iS4m2Q-591-D.minimised.mol',\n",
       " 71577: '/opt/xchem-fragalysis-2/maxwin/RdRp_FFF/syndirella/feb_elabs/elabs_20/ZTHISXNUAOFTJB-UHFFFAOYSA-N/output/ZTHISXNUAOFTJB-UHFFFAOYSA-N-iS4m2Q-592-B/ZTHISXNUAOFTJB-UHFFFAOYSA-N-iS4m2Q-592-B.minimised.mol',\n",
       " 71578: '/opt/xchem-fragalysis-2/maxwin/RdRp_FFF/syndirella/feb_elabs/elabs_20/ZTHISXNUAOFTJB-UHFFFAOYSA-N/output/ZTHISXNUAOFTJB-UHFFFAOYSA-N-iS4m2Q-593-B/ZTHISXNUAOFTJB-UHFFFAOYSA-N-iS4m2Q-593-B.minimised.mol',\n",
       " 71583: '/opt/xchem-fragalysis-2/maxwin/RdRp_FFF/syndirella/feb_elabs/elabs_20/ZTHISXNUAOFTJB-UHFFFAOYSA-N/output/ZTHISXNUAOFTJB-UHFFFAOYSA-N-iS4m2Q-598-B/ZTHISXNUAOFTJB-UHFFFAOYSA-N-iS4m2Q-598-B.minimised.mol',\n",
       " 71586: '/opt/xchem-fragalysis-2/maxwin/RdRp_FFF/syndirella/feb_elabs/elabs_20/ZTHISXNUAOFTJB-UHFFFAOYSA-N/output/ZTHISXNUAOFTJB-UHFFFAOYSA-N-iS4m2Q-609-D/ZTHISXNUAOFTJB-UHFFFAOYSA-N-iS4m2Q-609-D.minimised.mol',\n",
       " 71589: '/opt/xchem-fragalysis-2/maxwin/RdRp_FFF/syndirella/feb_elabs/elabs_20/ZTHISXNUAOFTJB-UHFFFAOYSA-N/output/ZTHISXNUAOFTJB-UHFFFAOYSA-N-iS4m2Q-616-C/ZTHISXNUAOFTJB-UHFFFAOYSA-N-iS4m2Q-616-C.minimised.mol',\n",
       " 71590: '/opt/xchem-fragalysis-2/maxwin/RdRp_FFF/syndirella/feb_elabs/elabs_20/ZTHISXNUAOFTJB-UHFFFAOYSA-N/output/ZTHISXNUAOFTJB-UHFFFAOYSA-N-iS4m2Q-617-D/ZTHISXNUAOFTJB-UHFFFAOYSA-N-iS4m2Q-617-D.minimised.mol',\n",
       " 71595: '/opt/xchem-fragalysis-2/maxwin/RdRp_FFF/syndirella/feb_elabs/elabs_20/ZTHISXNUAOFTJB-UHFFFAOYSA-N/output/ZTHISXNUAOFTJB-UHFFFAOYSA-N-iS4m2Q-622-E/ZTHISXNUAOFTJB-UHFFFAOYSA-N-iS4m2Q-622-E.minimised.mol',\n",
       " 71598: '/opt/xchem-fragalysis-2/maxwin/RdRp_FFF/syndirella/feb_elabs/elabs_20/ZTHISXNUAOFTJB-UHFFFAOYSA-N/output/ZTHISXNUAOFTJB-UHFFFAOYSA-N-iS4m2Q-625-A/ZTHISXNUAOFTJB-UHFFFAOYSA-N-iS4m2Q-625-A.minimised.mol',\n",
       " 71601: '/opt/xchem-fragalysis-2/maxwin/RdRp_FFF/syndirella/feb_elabs/elabs_20/ZTHISXNUAOFTJB-UHFFFAOYSA-N/output/ZTHISXNUAOFTJB-UHFFFAOYSA-N-iS4m2Q-635-C/ZTHISXNUAOFTJB-UHFFFAOYSA-N-iS4m2Q-635-C.minimised.mol',\n",
       " 71602: '/opt/xchem-fragalysis-2/maxwin/RdRp_FFF/syndirella/feb_elabs/elabs_20/ZTHISXNUAOFTJB-UHFFFAOYSA-N/output/ZTHISXNUAOFTJB-UHFFFAOYSA-N-iS4m2Q-636-D/ZTHISXNUAOFTJB-UHFFFAOYSA-N-iS4m2Q-636-D.minimised.mol',\n",
       " 71603: '/opt/xchem-fragalysis-2/maxwin/RdRp_FFF/syndirella/feb_elabs/elabs_20/ZTHISXNUAOFTJB-UHFFFAOYSA-N/output/ZTHISXNUAOFTJB-UHFFFAOYSA-N-iS4m2Q-639-D/ZTHISXNUAOFTJB-UHFFFAOYSA-N-iS4m2Q-639-D.minimised.mol',\n",
       " 71604: '/opt/xchem-fragalysis-2/maxwin/RdRp_FFF/syndirella/feb_elabs/elabs_20/ZTHISXNUAOFTJB-UHFFFAOYSA-N/output/ZTHISXNUAOFTJB-UHFFFAOYSA-N-iS4m2Q-640-A/ZTHISXNUAOFTJB-UHFFFAOYSA-N-iS4m2Q-640-A.minimised.mol',\n",
       " 71606: '/opt/xchem-fragalysis-2/maxwin/RdRp_FFF/syndirella/feb_elabs/elabs_20/ZTHISXNUAOFTJB-UHFFFAOYSA-N/output/ZTHISXNUAOFTJB-UHFFFAOYSA-N-iS4m2Q-642-D/ZTHISXNUAOFTJB-UHFFFAOYSA-N-iS4m2Q-642-D.minimised.mol',\n",
       " 71614: '/opt/xchem-fragalysis-2/maxwin/RdRp_FFF/syndirella/feb_elabs/elabs_20/ZTHISXNUAOFTJB-UHFFFAOYSA-N/output/ZTHISXNUAOFTJB-UHFFFAOYSA-N-iS4m2Q-650-D/ZTHISXNUAOFTJB-UHFFFAOYSA-N-iS4m2Q-650-D.minimised.mol',\n",
       " 71618: '/opt/xchem-fragalysis-2/maxwin/RdRp_FFF/syndirella/feb_elabs/elabs_20/ZTHISXNUAOFTJB-UHFFFAOYSA-N/output/ZTHISXNUAOFTJB-UHFFFAOYSA-N-iS4m2Q-654-B/ZTHISXNUAOFTJB-UHFFFAOYSA-N-iS4m2Q-654-B.minimised.mol',\n",
       " 71620: '/opt/xchem-fragalysis-2/maxwin/RdRp_FFF/syndirella/feb_elabs/elabs_20/ZTHISXNUAOFTJB-UHFFFAOYSA-N/output/ZTHISXNUAOFTJB-UHFFFAOYSA-N-iS4m2Q-658-A/ZTHISXNUAOFTJB-UHFFFAOYSA-N-iS4m2Q-658-A.minimised.mol',\n",
       " 71622: '/opt/xchem-fragalysis-2/maxwin/RdRp_FFF/syndirella/feb_elabs/elabs_20/ZTHISXNUAOFTJB-UHFFFAOYSA-N/output/ZTHISXNUAOFTJB-UHFFFAOYSA-N-iS4m2Q-660-G/ZTHISXNUAOFTJB-UHFFFAOYSA-N-iS4m2Q-660-G.minimised.mol',\n",
       " 71629: '/opt/xchem-fragalysis-2/maxwin/RdRp_FFF/syndirella/feb_elabs/elabs_20/ZTHISXNUAOFTJB-UHFFFAOYSA-N/output/ZTHISXNUAOFTJB-UHFFFAOYSA-N-iS4m2Q-669-C/ZTHISXNUAOFTJB-UHFFFAOYSA-N-iS4m2Q-669-C.minimised.mol',\n",
       " 71634: '/opt/xchem-fragalysis-2/maxwin/RdRp_FFF/syndirella/feb_elabs/elabs_20/ZTHISXNUAOFTJB-UHFFFAOYSA-N/output/ZTHISXNUAOFTJB-UHFFFAOYSA-N-iS4m2Q-678-A/ZTHISXNUAOFTJB-UHFFFAOYSA-N-iS4m2Q-678-A.minimised.mol',\n",
       " 71635: '/opt/xchem-fragalysis-2/maxwin/RdRp_FFF/syndirella/feb_elabs/elabs_20/ZTHISXNUAOFTJB-UHFFFAOYSA-N/output/ZTHISXNUAOFTJB-UHFFFAOYSA-N-iS4m2Q-683-G/ZTHISXNUAOFTJB-UHFFFAOYSA-N-iS4m2Q-683-G.minimised.mol',\n",
       " 71649: '/opt/xchem-fragalysis-2/maxwin/RdRp_FFF/syndirella/feb_elabs/elabs_20/ZTHISXNUAOFTJB-UHFFFAOYSA-N/output/ZTHISXNUAOFTJB-UHFFFAOYSA-N-iS4m2Q-706-C/ZTHISXNUAOFTJB-UHFFFAOYSA-N-iS4m2Q-706-C.minimised.mol',\n",
       " 71652: '/opt/xchem-fragalysis-2/maxwin/RdRp_FFF/syndirella/feb_elabs/elabs_20/ZTHISXNUAOFTJB-UHFFFAOYSA-N/output/ZTHISXNUAOFTJB-UHFFFAOYSA-N-iS4m2Q-710-C/ZTHISXNUAOFTJB-UHFFFAOYSA-N-iS4m2Q-710-C.minimised.mol',\n",
       " 71653: '/opt/xchem-fragalysis-2/maxwin/RdRp_FFF/syndirella/feb_elabs/elabs_20/ZTHISXNUAOFTJB-UHFFFAOYSA-N/output/ZTHISXNUAOFTJB-UHFFFAOYSA-N-iS4m2Q-711-A/ZTHISXNUAOFTJB-UHFFFAOYSA-N-iS4m2Q-711-A.minimised.mol',\n",
       " 71654: '/opt/xchem-fragalysis-2/maxwin/RdRp_FFF/syndirella/feb_elabs/elabs_20/ZTHISXNUAOFTJB-UHFFFAOYSA-N/output/ZTHISXNUAOFTJB-UHFFFAOYSA-N-iS4m2Q-712-D/ZTHISXNUAOFTJB-UHFFFAOYSA-N-iS4m2Q-712-D.minimised.mol',\n",
       " 71657: '/opt/xchem-fragalysis-2/maxwin/RdRp_FFF/syndirella/feb_elabs/elabs_20/ZTHISXNUAOFTJB-UHFFFAOYSA-N/output/ZTHISXNUAOFTJB-UHFFFAOYSA-N-iS4m2Q-716-B/ZTHISXNUAOFTJB-UHFFFAOYSA-N-iS4m2Q-716-B.minimised.mol',\n",
       " 71658: '/opt/xchem-fragalysis-2/maxwin/RdRp_FFF/syndirella/feb_elabs/elabs_20/ZTHISXNUAOFTJB-UHFFFAOYSA-N/output/ZTHISXNUAOFTJB-UHFFFAOYSA-N-iS4m2Q-717-B/ZTHISXNUAOFTJB-UHFFFAOYSA-N-iS4m2Q-717-B.minimised.mol',\n",
       " 71661: '/opt/xchem-fragalysis-2/maxwin/RdRp_FFF/syndirella/feb_elabs/elabs_20/ZTHISXNUAOFTJB-UHFFFAOYSA-N/output/ZTHISXNUAOFTJB-UHFFFAOYSA-N-iS4m2Q-721-C/ZTHISXNUAOFTJB-UHFFFAOYSA-N-iS4m2Q-721-C.minimised.mol',\n",
       " 71665: '/opt/xchem-fragalysis-2/maxwin/RdRp_FFF/syndirella/feb_elabs/elabs_20/ZTHISXNUAOFTJB-UHFFFAOYSA-N/output/ZTHISXNUAOFTJB-UHFFFAOYSA-N-iS4m2Q-727-A/ZTHISXNUAOFTJB-UHFFFAOYSA-N-iS4m2Q-727-A.minimised.mol',\n",
       " 71673: '/opt/xchem-fragalysis-2/maxwin/RdRp_FFF/syndirella/feb_elabs/elabs_20/ZTHISXNUAOFTJB-UHFFFAOYSA-N/output/ZTHISXNUAOFTJB-UHFFFAOYSA-N-iS4m2Q-735-D/ZTHISXNUAOFTJB-UHFFFAOYSA-N-iS4m2Q-735-D.minimised.mol',\n",
       " 71675: '/opt/xchem-fragalysis-2/maxwin/RdRp_FFF/syndirella/feb_elabs/elabs_20/ZTHISXNUAOFTJB-UHFFFAOYSA-N/output/ZTHISXNUAOFTJB-UHFFFAOYSA-N-iS4m2Q-737-S/ZTHISXNUAOFTJB-UHFFFAOYSA-N-iS4m2Q-737-S.minimised.mol',\n",
       " 71676: '/opt/xchem-fragalysis-2/maxwin/RdRp_FFF/syndirella/feb_elabs/elabs_20/ZTHISXNUAOFTJB-UHFFFAOYSA-N/output/ZTHISXNUAOFTJB-UHFFFAOYSA-N-iS4m2Q-738-N/ZTHISXNUAOFTJB-UHFFFAOYSA-N-iS4m2Q-738-N.minimised.mol',\n",
       " 71679: '/opt/xchem-fragalysis-2/maxwin/RdRp_FFF/syndirella/feb_elabs/elabs_20/ZTHISXNUAOFTJB-UHFFFAOYSA-N/output/ZTHISXNUAOFTJB-UHFFFAOYSA-N-iS4m2Q-741-L/ZTHISXNUAOFTJB-UHFFFAOYSA-N-iS4m2Q-741-L.minimised.mol',\n",
       " 71695: '/opt/xchem-fragalysis-2/maxwin/RdRp_FFF/syndirella/feb_elabs/elabs_20/ZTHISXNUAOFTJB-UHFFFAOYSA-N/output/ZTHISXNUAOFTJB-UHFFFAOYSA-N-iS4m2Q-760-S/ZTHISXNUAOFTJB-UHFFFAOYSA-N-iS4m2Q-760-S.minimised.mol',\n",
       " 71696: '/opt/xchem-fragalysis-2/maxwin/RdRp_FFF/syndirella/feb_elabs/elabs_20/ZTHISXNUAOFTJB-UHFFFAOYSA-N/output/ZTHISXNUAOFTJB-UHFFFAOYSA-N-iS4m2Q-762-A/ZTHISXNUAOFTJB-UHFFFAOYSA-N-iS4m2Q-762-A.minimised.mol',\n",
       " 71701: '/opt/xchem-fragalysis-2/maxwin/RdRp_FFF/syndirella/feb_elabs/elabs_20/ZTHISXNUAOFTJB-UHFFFAOYSA-N/output/ZTHISXNUAOFTJB-UHFFFAOYSA-N-iS4m2Q-768-A/ZTHISXNUAOFTJB-UHFFFAOYSA-N-iS4m2Q-768-A.minimised.mol',\n",
       " 71718: '/opt/xchem-fragalysis-2/maxwin/RdRp_FFF/syndirella/feb_elabs/elabs_20/ZTHISXNUAOFTJB-UHFFFAOYSA-N/output/ZTHISXNUAOFTJB-UHFFFAOYSA-N-iS4m2Q-787-A/ZTHISXNUAOFTJB-UHFFFAOYSA-N-iS4m2Q-787-A.minimised.mol',\n",
       " 71722: '/opt/xchem-fragalysis-2/maxwin/RdRp_FFF/syndirella/feb_elabs/elabs_20/ZTHISXNUAOFTJB-UHFFFAOYSA-N/output/ZTHISXNUAOFTJB-UHFFFAOYSA-N-iS4m2Q-791-A/ZTHISXNUAOFTJB-UHFFFAOYSA-N-iS4m2Q-791-A.minimised.mol',\n",
       " 71723: '/opt/xchem-fragalysis-2/maxwin/RdRp_FFF/syndirella/feb_elabs/elabs_20/ZTHISXNUAOFTJB-UHFFFAOYSA-N/output/ZTHISXNUAOFTJB-UHFFFAOYSA-N-iS4m2Q-792-A/ZTHISXNUAOFTJB-UHFFFAOYSA-N-iS4m2Q-792-A.minimised.mol',\n",
       " 71726: '/opt/xchem-fragalysis-2/maxwin/RdRp_FFF/syndirella/feb_elabs/elabs_20/ZTHISXNUAOFTJB-UHFFFAOYSA-N/output/ZTHISXNUAOFTJB-UHFFFAOYSA-N-iS4m2Q-795-B/ZTHISXNUAOFTJB-UHFFFAOYSA-N-iS4m2Q-795-B.minimised.mol',\n",
       " 71728: '/opt/xchem-fragalysis-2/maxwin/RdRp_FFF/syndirella/feb_elabs/elabs_20/ZTHISXNUAOFTJB-UHFFFAOYSA-N/output/ZTHISXNUAOFTJB-UHFFFAOYSA-N-iS4m2Q-798-C/ZTHISXNUAOFTJB-UHFFFAOYSA-N-iS4m2Q-798-C.minimised.mol',\n",
       " 71729: '/opt/xchem-fragalysis-2/maxwin/RdRp_FFF/syndirella/feb_elabs/elabs_20/ZTHISXNUAOFTJB-UHFFFAOYSA-N/output/ZTHISXNUAOFTJB-UHFFFAOYSA-N-iS4m2Q-799-C/ZTHISXNUAOFTJB-UHFFFAOYSA-N-iS4m2Q-799-C.minimised.mol',\n",
       " 71731: '/opt/xchem-fragalysis-2/maxwin/RdRp_FFF/syndirella/feb_elabs/elabs_20/ZTHISXNUAOFTJB-UHFFFAOYSA-N/output/ZTHISXNUAOFTJB-UHFFFAOYSA-N-iS4m2Q-801-B/ZTHISXNUAOFTJB-UHFFFAOYSA-N-iS4m2Q-801-B.minimised.mol',\n",
       " 71738: '/opt/xchem-fragalysis-2/maxwin/RdRp_FFF/syndirella/feb_elabs/elabs_20/ZTHISXNUAOFTJB-UHFFFAOYSA-N/output/ZTHISXNUAOFTJB-UHFFFAOYSA-N-iS4m2Q-814-B/ZTHISXNUAOFTJB-UHFFFAOYSA-N-iS4m2Q-814-B.minimised.mol',\n",
       " 71741: '/opt/xchem-fragalysis-2/maxwin/RdRp_FFF/syndirella/feb_elabs/elabs_20/ZTHISXNUAOFTJB-UHFFFAOYSA-N/output/ZTHISXNUAOFTJB-UHFFFAOYSA-N-iS4m2Q-829-A/ZTHISXNUAOFTJB-UHFFFAOYSA-N-iS4m2Q-829-A.minimised.mol',\n",
       " 71743: '/opt/xchem-fragalysis-2/maxwin/RdRp_FFF/syndirella/feb_elabs/elabs_20/ZTHISXNUAOFTJB-UHFFFAOYSA-N/output/ZTHISXNUAOFTJB-UHFFFAOYSA-N-iS4m2Q-834-D/ZTHISXNUAOFTJB-UHFFFAOYSA-N-iS4m2Q-834-D.minimised.mol',\n",
       " 71744: '/opt/xchem-fragalysis-2/maxwin/RdRp_FFF/syndirella/feb_elabs/elabs_20/ZTHISXNUAOFTJB-UHFFFAOYSA-N/output/ZTHISXNUAOFTJB-UHFFFAOYSA-N-iS4m2Q-835-C/ZTHISXNUAOFTJB-UHFFFAOYSA-N-iS4m2Q-835-C.minimised.mol',\n",
       " 71746: '/opt/xchem-fragalysis-2/maxwin/RdRp_FFF/syndirella/feb_elabs/elabs_20/ZTHISXNUAOFTJB-UHFFFAOYSA-N/output/ZTHISXNUAOFTJB-UHFFFAOYSA-N-iS4m2Q-837-D/ZTHISXNUAOFTJB-UHFFFAOYSA-N-iS4m2Q-837-D.minimised.mol',\n",
       " 71759: '/opt/xchem-fragalysis-2/maxwin/RdRp_FFF/syndirella/feb_elabs/elabs_20/ZTHISXNUAOFTJB-UHFFFAOYSA-N/output/ZTHISXNUAOFTJB-UHFFFAOYSA-N-iS4m2Q-852-A/ZTHISXNUAOFTJB-UHFFFAOYSA-N-iS4m2Q-852-A.minimised.mol',\n",
       " 71760: '/opt/xchem-fragalysis-2/maxwin/RdRp_FFF/syndirella/feb_elabs/elabs_20/ZTHISXNUAOFTJB-UHFFFAOYSA-N/output/ZTHISXNUAOFTJB-UHFFFAOYSA-N-iS4m2Q-853-A/ZTHISXNUAOFTJB-UHFFFAOYSA-N-iS4m2Q-853-A.minimised.mol',\n",
       " 71761: '/opt/xchem-fragalysis-2/maxwin/RdRp_FFF/syndirella/feb_elabs/elabs_20/ZTHISXNUAOFTJB-UHFFFAOYSA-N/output/ZTHISXNUAOFTJB-UHFFFAOYSA-N-iS4m2Q-854-A/ZTHISXNUAOFTJB-UHFFFAOYSA-N-iS4m2Q-854-A.minimised.mol',\n",
       " 71762: '/opt/xchem-fragalysis-2/maxwin/RdRp_FFF/syndirella/feb_elabs/elabs_20/ZTHISXNUAOFTJB-UHFFFAOYSA-N/output/ZTHISXNUAOFTJB-UHFFFAOYSA-N-iS4m2Q-855-H/ZTHISXNUAOFTJB-UHFFFAOYSA-N-iS4m2Q-855-H.minimised.mol',\n",
       " 71764: '/opt/xchem-fragalysis-2/maxwin/RdRp_FFF/syndirella/feb_elabs/elabs_20/ZTHISXNUAOFTJB-UHFFFAOYSA-N/output/ZTHISXNUAOFTJB-UHFFFAOYSA-N-iS4m2Q-857-B/ZTHISXNUAOFTJB-UHFFFAOYSA-N-iS4m2Q-857-B.minimised.mol',\n",
       " 71765: '/opt/xchem-fragalysis-2/maxwin/RdRp_FFF/syndirella/feb_elabs/elabs_20/ZTHISXNUAOFTJB-UHFFFAOYSA-N/output/ZTHISXNUAOFTJB-UHFFFAOYSA-N-iS4m2Q-858-C/ZTHISXNUAOFTJB-UHFFFAOYSA-N-iS4m2Q-858-C.minimised.mol',\n",
       " 71766: '/opt/xchem-fragalysis-2/maxwin/RdRp_FFF/syndirella/feb_elabs/elabs_20/ZTHISXNUAOFTJB-UHFFFAOYSA-N/output/ZTHISXNUAOFTJB-UHFFFAOYSA-N-iS4m2Q-860-D/ZTHISXNUAOFTJB-UHFFFAOYSA-N-iS4m2Q-860-D.minimised.mol',\n",
       " 71769: '/opt/xchem-fragalysis-2/maxwin/RdRp_FFF/syndirella/feb_elabs/elabs_20/ZTHISXNUAOFTJB-UHFFFAOYSA-N/output/ZTHISXNUAOFTJB-UHFFFAOYSA-N-iS4m2Q-863-D/ZTHISXNUAOFTJB-UHFFFAOYSA-N-iS4m2Q-863-D.minimised.mol',\n",
       " 71770: '/opt/xchem-fragalysis-2/maxwin/RdRp_FFF/syndirella/feb_elabs/elabs_20/ZTHISXNUAOFTJB-UHFFFAOYSA-N/output/ZTHISXNUAOFTJB-UHFFFAOYSA-N-iS4m2Q-864-C/ZTHISXNUAOFTJB-UHFFFAOYSA-N-iS4m2Q-864-C.minimised.mol',\n",
       " 71774: '/opt/xchem-fragalysis-2/maxwin/RdRp_FFF/syndirella/feb_elabs/elabs_20/ZTHISXNUAOFTJB-UHFFFAOYSA-N/output/ZTHISXNUAOFTJB-UHFFFAOYSA-N-iS4m2Q-869-B/ZTHISXNUAOFTJB-UHFFFAOYSA-N-iS4m2Q-869-B.minimised.mol',\n",
       " 71777: '/opt/xchem-fragalysis-2/maxwin/RdRp_FFF/syndirella/feb_elabs/elabs_20/ZTHISXNUAOFTJB-UHFFFAOYSA-N/output/ZTHISXNUAOFTJB-UHFFFAOYSA-N-iS4m2Q-872-A/ZTHISXNUAOFTJB-UHFFFAOYSA-N-iS4m2Q-872-A.minimised.mol',\n",
       " 71780: '/opt/xchem-fragalysis-2/maxwin/RdRp_FFF/syndirella/feb_elabs/elabs_20/ZTHISXNUAOFTJB-UHFFFAOYSA-N/output/ZTHISXNUAOFTJB-UHFFFAOYSA-N-iS4m2Q-875-A/ZTHISXNUAOFTJB-UHFFFAOYSA-N-iS4m2Q-875-A.minimised.mol',\n",
       " 71789: '/opt/xchem-fragalysis-2/maxwin/RdRp_FFF/syndirella/feb_elabs/elabs_20/ZTHISXNUAOFTJB-UHFFFAOYSA-N/output/ZTHISXNUAOFTJB-UHFFFAOYSA-N-iS4m2Q-896-D/ZTHISXNUAOFTJB-UHFFFAOYSA-N-iS4m2Q-896-D.minimised.mol',\n",
       " 71791: '/opt/xchem-fragalysis-2/maxwin/RdRp_FFF/syndirella/feb_elabs/elabs_20/ZTHISXNUAOFTJB-UHFFFAOYSA-N/output/ZTHISXNUAOFTJB-UHFFFAOYSA-N-iS4m2Q-898-A/ZTHISXNUAOFTJB-UHFFFAOYSA-N-iS4m2Q-898-A.minimised.mol',\n",
       " 71792: '/opt/xchem-fragalysis-2/maxwin/RdRp_FFF/syndirella/feb_elabs/elabs_20/ZTHISXNUAOFTJB-UHFFFAOYSA-N/output/ZTHISXNUAOFTJB-UHFFFAOYSA-N-iS4m2Q-899-C/ZTHISXNUAOFTJB-UHFFFAOYSA-N-iS4m2Q-899-C.minimised.mol',\n",
       " 71795: '/opt/xchem-fragalysis-2/maxwin/RdRp_FFF/syndirella/feb_elabs/elabs_20/ZTHISXNUAOFTJB-UHFFFAOYSA-N/output/ZTHISXNUAOFTJB-UHFFFAOYSA-N-iS4m2Q-902-C/ZTHISXNUAOFTJB-UHFFFAOYSA-N-iS4m2Q-902-C.minimised.mol',\n",
       " 71796: '/opt/xchem-fragalysis-2/maxwin/RdRp_FFF/syndirella/feb_elabs/elabs_20/ZTHISXNUAOFTJB-UHFFFAOYSA-N/output/ZTHISXNUAOFTJB-UHFFFAOYSA-N-iS4m2Q-903-C/ZTHISXNUAOFTJB-UHFFFAOYSA-N-iS4m2Q-903-C.minimised.mol',\n",
       " 71800: '/opt/xchem-fragalysis-2/maxwin/RdRp_FFF/syndirella/feb_elabs/elabs_20/ZTHISXNUAOFTJB-UHFFFAOYSA-N/output/ZTHISXNUAOFTJB-UHFFFAOYSA-N-iS4m2Q-907-D/ZTHISXNUAOFTJB-UHFFFAOYSA-N-iS4m2Q-907-D.minimised.mol',\n",
       " 71804: '/opt/xchem-fragalysis-2/maxwin/RdRp_FFF/syndirella/feb_elabs/elabs_20/ZTHISXNUAOFTJB-UHFFFAOYSA-N/output/ZTHISXNUAOFTJB-UHFFFAOYSA-N-iS4m2Q-912-B/ZTHISXNUAOFTJB-UHFFFAOYSA-N-iS4m2Q-912-B.minimised.mol',\n",
       " 71811: '/opt/xchem-fragalysis-2/maxwin/RdRp_FFF/syndirella/feb_elabs/elabs_20/ZTHISXNUAOFTJB-UHFFFAOYSA-N/output/ZTHISXNUAOFTJB-UHFFFAOYSA-N-iS4m2Q-929-A/ZTHISXNUAOFTJB-UHFFFAOYSA-N-iS4m2Q-929-A.minimised.mol',\n",
       " 71812: '/opt/xchem-fragalysis-2/maxwin/RdRp_FFF/syndirella/feb_elabs/elabs_20/ZTHISXNUAOFTJB-UHFFFAOYSA-N/output/ZTHISXNUAOFTJB-UHFFFAOYSA-N-iS4m2Q-930-A/ZTHISXNUAOFTJB-UHFFFAOYSA-N-iS4m2Q-930-A.minimised.mol',\n",
       " 71813: '/opt/xchem-fragalysis-2/maxwin/RdRp_FFF/syndirella/feb_elabs/elabs_20/ZTHISXNUAOFTJB-UHFFFAOYSA-N/output/ZTHISXNUAOFTJB-UHFFFAOYSA-N-iS4m2Q-931-A/ZTHISXNUAOFTJB-UHFFFAOYSA-N-iS4m2Q-931-A.minimised.mol',\n",
       " 71815: '/opt/xchem-fragalysis-2/maxwin/RdRp_FFF/syndirella/feb_elabs/elabs_20/ZTHISXNUAOFTJB-UHFFFAOYSA-N/output/ZTHISXNUAOFTJB-UHFFFAOYSA-N-iS4m2Q-933-B/ZTHISXNUAOFTJB-UHFFFAOYSA-N-iS4m2Q-933-B.minimised.mol',\n",
       " 71817: '/opt/xchem-fragalysis-2/maxwin/RdRp_FFF/syndirella/feb_elabs/elabs_20/ZTHISXNUAOFTJB-UHFFFAOYSA-N/output/ZTHISXNUAOFTJB-UHFFFAOYSA-N-iS4m2Q-935-A/ZTHISXNUAOFTJB-UHFFFAOYSA-N-iS4m2Q-935-A.minimised.mol',\n",
       " 71818: '/opt/xchem-fragalysis-2/maxwin/RdRp_FFF/syndirella/feb_elabs/elabs_20/ZTHISXNUAOFTJB-UHFFFAOYSA-N/output/ZTHISXNUAOFTJB-UHFFFAOYSA-N-iS4m2Q-936-B/ZTHISXNUAOFTJB-UHFFFAOYSA-N-iS4m2Q-936-B.minimised.mol',\n",
       " 71820: '/opt/xchem-fragalysis-2/maxwin/RdRp_FFF/syndirella/feb_elabs/elabs_20/ZTHISXNUAOFTJB-UHFFFAOYSA-N/output/ZTHISXNUAOFTJB-UHFFFAOYSA-N-iS4m2Q-938-A/ZTHISXNUAOFTJB-UHFFFAOYSA-N-iS4m2Q-938-A.minimised.mol',\n",
       " 71822: '/opt/xchem-fragalysis-2/maxwin/RdRp_FFF/syndirella/feb_elabs/elabs_20/ZTHISXNUAOFTJB-UHFFFAOYSA-N/output/ZTHISXNUAOFTJB-UHFFFAOYSA-N-iS4m2Q-940-C/ZTHISXNUAOFTJB-UHFFFAOYSA-N-iS4m2Q-940-C.minimised.mol',\n",
       " 71828: '/opt/xchem-fragalysis-2/maxwin/RdRp_FFF/syndirella/feb_elabs/elabs_20/ZTHISXNUAOFTJB-UHFFFAOYSA-N/output/ZTHISXNUAOFTJB-UHFFFAOYSA-N-iS4m2Q-948-A/ZTHISXNUAOFTJB-UHFFFAOYSA-N-iS4m2Q-948-A.minimised.mol',\n",
       " 71834: '/opt/xchem-fragalysis-2/maxwin/RdRp_FFF/syndirella/feb_elabs/elabs_20/ZTHISXNUAOFTJB-UHFFFAOYSA-N/output/ZTHISXNUAOFTJB-UHFFFAOYSA-N-iS4m2Q-956-A/ZTHISXNUAOFTJB-UHFFFAOYSA-N-iS4m2Q-956-A.minimised.mol',\n",
       " 71836: '/opt/xchem-fragalysis-2/maxwin/RdRp_FFF/syndirella/feb_elabs/elabs_20/ZTHISXNUAOFTJB-UHFFFAOYSA-N/output/ZTHISXNUAOFTJB-UHFFFAOYSA-N-iS4m2Q-958-B/ZTHISXNUAOFTJB-UHFFFAOYSA-N-iS4m2Q-958-B.minimised.mol',\n",
       " 71838: '/opt/xchem-fragalysis-2/maxwin/RdRp_FFF/syndirella/feb_elabs/elabs_20/ZTHISXNUAOFTJB-UHFFFAOYSA-N/output/ZTHISXNUAOFTJB-UHFFFAOYSA-N-iS4m2Q-961-B/ZTHISXNUAOFTJB-UHFFFAOYSA-N-iS4m2Q-961-B.minimised.mol',\n",
       " 71850: '/opt/xchem-fragalysis-2/maxwin/RdRp_FFF/syndirella/feb_elabs/elabs_20/ZTHISXNUAOFTJB-UHFFFAOYSA-N/output/ZTHISXNUAOFTJB-UHFFFAOYSA-N-iS4m2Q-979-F/ZTHISXNUAOFTJB-UHFFFAOYSA-N-iS4m2Q-979-F.minimised.mol',\n",
       " 71852: '/opt/xchem-fragalysis-2/maxwin/RdRp_FFF/syndirella/feb_elabs/elabs_20/ZTHISXNUAOFTJB-UHFFFAOYSA-N/output/ZTHISXNUAOFTJB-UHFFFAOYSA-N-iS4m2Q-982-A/ZTHISXNUAOFTJB-UHFFFAOYSA-N-iS4m2Q-982-A.minimised.mol',\n",
       " 71855: '/opt/xchem-fragalysis-2/maxwin/RdRp_FFF/syndirella/feb_elabs/elabs_20/ZTHISXNUAOFTJB-UHFFFAOYSA-N/output/ZTHISXNUAOFTJB-UHFFFAOYSA-N-iS4m2Q-992-A/ZTHISXNUAOFTJB-UHFFFAOYSA-N-iS4m2Q-992-A.minimised.mol',\n",
       " 71856: '/opt/xchem-fragalysis-2/maxwin/RdRp_FFF/syndirella/feb_elabs/elabs_20/ZTHISXNUAOFTJB-UHFFFAOYSA-N/output/ZTHISXNUAOFTJB-UHFFFAOYSA-N-iS4m2Q-994-C/ZTHISXNUAOFTJB-UHFFFAOYSA-N-iS4m2Q-994-C.minimised.mol',\n",
       " 71860: '/opt/xchem-fragalysis-2/maxwin/RdRp_FFF/syndirella/feb_elabs/elabs_20/ZTHISXNUAOFTJB-UHFFFAOYSA-N/output/ZTHISXNUAOFTJB-UHFFFAOYSA-N-iS4m2Q-1001-D/ZTHISXNUAOFTJB-UHFFFAOYSA-N-iS4m2Q-1001-D.minimised.mol',\n",
       " 71871: '/opt/xchem-fragalysis-2/maxwin/RdRp_FFF/syndirella/feb_elabs/elabs_20/ZTHISXNUAOFTJB-UHFFFAOYSA-N/output/ZTHISXNUAOFTJB-UHFFFAOYSA-N-iS4m2Q-1021-D/ZTHISXNUAOFTJB-UHFFFAOYSA-N-iS4m2Q-1021-D.minimised.mol',\n",
       " 71872: '/opt/xchem-fragalysis-2/maxwin/RdRp_FFF/syndirella/feb_elabs/elabs_20/ZTHISXNUAOFTJB-UHFFFAOYSA-N/output/ZTHISXNUAOFTJB-UHFFFAOYSA-N-iS4m2Q-1023-A/ZTHISXNUAOFTJB-UHFFFAOYSA-N-iS4m2Q-1023-A.minimised.mol',\n",
       " 71877: '/opt/xchem-fragalysis-2/maxwin/RdRp_FFF/syndirella/feb_elabs/elabs_20/ZTHISXNUAOFTJB-UHFFFAOYSA-N/output/ZTHISXNUAOFTJB-UHFFFAOYSA-N-iS4m2Q-1031-C/ZTHISXNUAOFTJB-UHFFFAOYSA-N-iS4m2Q-1031-C.minimised.mol',\n",
       " 71880: '/opt/xchem-fragalysis-2/maxwin/RdRp_FFF/syndirella/feb_elabs/elabs_20/ZTHISXNUAOFTJB-UHFFFAOYSA-N/output/ZTHISXNUAOFTJB-UHFFFAOYSA-N-iS4m2Q-1034-D/ZTHISXNUAOFTJB-UHFFFAOYSA-N-iS4m2Q-1034-D.minimised.mol',\n",
       " 71886: '/opt/xchem-fragalysis-2/maxwin/RdRp_FFF/syndirella/feb_elabs/elabs_20/ZTHISXNUAOFTJB-UHFFFAOYSA-N/output/ZTHISXNUAOFTJB-UHFFFAOYSA-N-iS4m2Q-1046-B/ZTHISXNUAOFTJB-UHFFFAOYSA-N-iS4m2Q-1046-B.minimised.mol',\n",
       " 71888: '/opt/xchem-fragalysis-2/maxwin/RdRp_FFF/syndirella/feb_elabs/elabs_20/ZTHISXNUAOFTJB-UHFFFAOYSA-N/output/ZTHISXNUAOFTJB-UHFFFAOYSA-N-iS4m2Q-1048-B/ZTHISXNUAOFTJB-UHFFFAOYSA-N-iS4m2Q-1048-B.minimised.mol',\n",
       " 71892: '/opt/xchem-fragalysis-2/maxwin/RdRp_FFF/syndirella/feb_elabs/elabs_20/ZTHISXNUAOFTJB-UHFFFAOYSA-N/output/ZTHISXNUAOFTJB-UHFFFAOYSA-N-iS4m2Q-1055-D/ZTHISXNUAOFTJB-UHFFFAOYSA-N-iS4m2Q-1055-D.minimised.mol',\n",
       " 71893: '/opt/xchem-fragalysis-2/maxwin/RdRp_FFF/syndirella/feb_elabs/elabs_20/ZTHISXNUAOFTJB-UHFFFAOYSA-N/output/ZTHISXNUAOFTJB-UHFFFAOYSA-N-iS4m2Q-1056-C/ZTHISXNUAOFTJB-UHFFFAOYSA-N-iS4m2Q-1056-C.minimised.mol',\n",
       " 71894: '/opt/xchem-fragalysis-2/maxwin/RdRp_FFF/syndirella/feb_elabs/elabs_20/ZTHISXNUAOFTJB-UHFFFAOYSA-N/output/ZTHISXNUAOFTJB-UHFFFAOYSA-N-iS4m2Q-1060-D/ZTHISXNUAOFTJB-UHFFFAOYSA-N-iS4m2Q-1060-D.minimised.mol',\n",
       " 71897: '/opt/xchem-fragalysis-2/maxwin/RdRp_FFF/syndirella/feb_elabs/elabs_20/ZTHISXNUAOFTJB-UHFFFAOYSA-N/output/ZTHISXNUAOFTJB-UHFFFAOYSA-N-iS4m2Q-1065-C/ZTHISXNUAOFTJB-UHFFFAOYSA-N-iS4m2Q-1065-C.minimised.mol',\n",
       " 71901: '/opt/xchem-fragalysis-2/maxwin/RdRp_FFF/syndirella/feb_elabs/elabs_20/ZTHISXNUAOFTJB-UHFFFAOYSA-N/output/ZTHISXNUAOFTJB-UHFFFAOYSA-N-iS4m2Q-1074-F/ZTHISXNUAOFTJB-UHFFFAOYSA-N-iS4m2Q-1074-F.minimised.mol',\n",
       " 71904: '/opt/xchem-fragalysis-2/maxwin/RdRp_FFF/syndirella/feb_elabs/elabs_20/ZTHISXNUAOFTJB-UHFFFAOYSA-N/output/ZTHISXNUAOFTJB-UHFFFAOYSA-N-iS4m2Q-1079-G/ZTHISXNUAOFTJB-UHFFFAOYSA-N-iS4m2Q-1079-G.minimised.mol',\n",
       " 71906: '/opt/xchem-fragalysis-2/maxwin/RdRp_FFF/syndirella/feb_elabs/elabs_20/ZTHISXNUAOFTJB-UHFFFAOYSA-N/output/ZTHISXNUAOFTJB-UHFFFAOYSA-N-iS4m2Q-1081-H/ZTHISXNUAOFTJB-UHFFFAOYSA-N-iS4m2Q-1081-H.minimised.mol',\n",
       " 71910: '/opt/xchem-fragalysis-2/maxwin/RdRp_FFF/syndirella/feb_elabs/elabs_20/ZTHISXNUAOFTJB-UHFFFAOYSA-N/output/ZTHISXNUAOFTJB-UHFFFAOYSA-N-iS4m2Q-1088-C/ZTHISXNUAOFTJB-UHFFFAOYSA-N-iS4m2Q-1088-C.minimised.mol',\n",
       " 71914: '/opt/xchem-fragalysis-2/maxwin/RdRp_FFF/syndirella/feb_elabs/elabs_20/ZTHISXNUAOFTJB-UHFFFAOYSA-N/output/ZTHISXNUAOFTJB-UHFFFAOYSA-N-iS4m2Q-1094-B/ZTHISXNUAOFTJB-UHFFFAOYSA-N-iS4m2Q-1094-B.minimised.mol',\n",
       " 71915: '/opt/xchem-fragalysis-2/maxwin/RdRp_FFF/syndirella/feb_elabs/elabs_20/ZTHISXNUAOFTJB-UHFFFAOYSA-N/output/ZTHISXNUAOFTJB-UHFFFAOYSA-N-iS4m2Q-1095-A/ZTHISXNUAOFTJB-UHFFFAOYSA-N-iS4m2Q-1095-A.minimised.mol',\n",
       " 71917: '/opt/xchem-fragalysis-2/maxwin/RdRp_FFF/syndirella/feb_elabs/elabs_20/ZTHISXNUAOFTJB-UHFFFAOYSA-N/output/ZTHISXNUAOFTJB-UHFFFAOYSA-N-iS4m2Q-1097-A/ZTHISXNUAOFTJB-UHFFFAOYSA-N-iS4m2Q-1097-A.minimised.mol',\n",
       " 71919: '/opt/xchem-fragalysis-2/maxwin/RdRp_FFF/syndirella/feb_elabs/elabs_20/ZTHISXNUAOFTJB-UHFFFAOYSA-N/output/ZTHISXNUAOFTJB-UHFFFAOYSA-N-iS4m2Q-1099-B/ZTHISXNUAOFTJB-UHFFFAOYSA-N-iS4m2Q-1099-B.minimised.mol',\n",
       " 71923: '/opt/xchem-fragalysis-2/maxwin/RdRp_FFF/syndirella/feb_elabs/elabs_20/ZTHISXNUAOFTJB-UHFFFAOYSA-N/output/ZTHISXNUAOFTJB-UHFFFAOYSA-N-iS4m2Q-1105-B/ZTHISXNUAOFTJB-UHFFFAOYSA-N-iS4m2Q-1105-B.minimised.mol',\n",
       " 71925: '/opt/xchem-fragalysis-2/maxwin/RdRp_FFF/syndirella/feb_elabs/elabs_20/ZTHISXNUAOFTJB-UHFFFAOYSA-N/output/ZTHISXNUAOFTJB-UHFFFAOYSA-N-iS4m2Q-1107-C/ZTHISXNUAOFTJB-UHFFFAOYSA-N-iS4m2Q-1107-C.minimised.mol',\n",
       " 71929: '/opt/xchem-fragalysis-2/maxwin/RdRp_FFF/syndirella/feb_elabs/elabs_20/ZTHISXNUAOFTJB-UHFFFAOYSA-N/output/ZTHISXNUAOFTJB-UHFFFAOYSA-N-iS4m2Q-1111-A/ZTHISXNUAOFTJB-UHFFFAOYSA-N-iS4m2Q-1111-A.minimised.mol',\n",
       " 71931: '/opt/xchem-fragalysis-2/maxwin/RdRp_FFF/syndirella/feb_elabs/elabs_20/ZTHISXNUAOFTJB-UHFFFAOYSA-N/output/ZTHISXNUAOFTJB-UHFFFAOYSA-N-iS4m2Q-1113-B/ZTHISXNUAOFTJB-UHFFFAOYSA-N-iS4m2Q-1113-B.minimised.mol',\n",
       " 71935: '/opt/xchem-fragalysis-2/maxwin/RdRp_FFF/syndirella/feb_elabs/elabs_20/ZTHISXNUAOFTJB-UHFFFAOYSA-N/output/ZTHISXNUAOFTJB-UHFFFAOYSA-N-iS4m2Q-1119-B/ZTHISXNUAOFTJB-UHFFFAOYSA-N-iS4m2Q-1119-B.minimised.mol',\n",
       " 71937: '/opt/xchem-fragalysis-2/maxwin/RdRp_FFF/syndirella/feb_elabs/elabs_20/ZTHISXNUAOFTJB-UHFFFAOYSA-N/output/ZTHISXNUAOFTJB-UHFFFAOYSA-N-iS4m2Q-1122-A/ZTHISXNUAOFTJB-UHFFFAOYSA-N-iS4m2Q-1122-A.minimised.mol',\n",
       " 71938: '/opt/xchem-fragalysis-2/maxwin/RdRp_FFF/syndirella/feb_elabs/elabs_20/ZTHISXNUAOFTJB-UHFFFAOYSA-N/output/ZTHISXNUAOFTJB-UHFFFAOYSA-N-iS4m2Q-1123-B/ZTHISXNUAOFTJB-UHFFFAOYSA-N-iS4m2Q-1123-B.minimised.mol',\n",
       " 71939: '/opt/xchem-fragalysis-2/maxwin/RdRp_FFF/syndirella/feb_elabs/elabs_20/ZTHISXNUAOFTJB-UHFFFAOYSA-N/output/ZTHISXNUAOFTJB-UHFFFAOYSA-N-iS4m2Q-1124-A/ZTHISXNUAOFTJB-UHFFFAOYSA-N-iS4m2Q-1124-A.minimised.mol',\n",
       " 71941: '/opt/xchem-fragalysis-2/maxwin/RdRp_FFF/syndirella/feb_elabs/elabs_20/ZTHISXNUAOFTJB-UHFFFAOYSA-N/output/ZTHISXNUAOFTJB-UHFFFAOYSA-N-iS4m2Q-1135-C/ZTHISXNUAOFTJB-UHFFFAOYSA-N-iS4m2Q-1135-C.minimised.mol',\n",
       " 71942: '/opt/xchem-fragalysis-2/maxwin/RdRp_FFF/syndirella/feb_elabs/elabs_20/ZTHISXNUAOFTJB-UHFFFAOYSA-N/output/ZTHISXNUAOFTJB-UHFFFAOYSA-N-iS4m2Q-1136-A/ZTHISXNUAOFTJB-UHFFFAOYSA-N-iS4m2Q-1136-A.minimised.mol',\n",
       " 71943: '/opt/xchem-fragalysis-2/maxwin/RdRp_FFF/syndirella/feb_elabs/elabs_20/ZTHISXNUAOFTJB-UHFFFAOYSA-N/output/ZTHISXNUAOFTJB-UHFFFAOYSA-N-iS4m2Q-1137-A/ZTHISXNUAOFTJB-UHFFFAOYSA-N-iS4m2Q-1137-A.minimised.mol',\n",
       " 71948: '/opt/xchem-fragalysis-2/maxwin/RdRp_FFF/syndirella/feb_elabs/elabs_20/ZTHISXNUAOFTJB-UHFFFAOYSA-N/output/ZTHISXNUAOFTJB-UHFFFAOYSA-N-iS4m2Q-1143-F/ZTHISXNUAOFTJB-UHFFFAOYSA-N-iS4m2Q-1143-F.minimised.mol',\n",
       " 71949: '/opt/xchem-fragalysis-2/maxwin/RdRp_FFF/syndirella/feb_elabs/elabs_20/ZTHISXNUAOFTJB-UHFFFAOYSA-N/output/ZTHISXNUAOFTJB-UHFFFAOYSA-N-iS4m2Q-1144-A/ZTHISXNUAOFTJB-UHFFFAOYSA-N-iS4m2Q-1144-A.minimised.mol',\n",
       " 71950: '/opt/xchem-fragalysis-2/maxwin/RdRp_FFF/syndirella/feb_elabs/elabs_20/ZTHISXNUAOFTJB-UHFFFAOYSA-N/output/ZTHISXNUAOFTJB-UHFFFAOYSA-N-iS4m2Q-1146-C/ZTHISXNUAOFTJB-UHFFFAOYSA-N-iS4m2Q-1146-C.minimised.mol',\n",
       " 71953: '/opt/xchem-fragalysis-2/maxwin/RdRp_FFF/syndirella/feb_elabs/elabs_20/ZTHISXNUAOFTJB-UHFFFAOYSA-N/output/ZTHISXNUAOFTJB-UHFFFAOYSA-N-iS4m2Q-1158-G/ZTHISXNUAOFTJB-UHFFFAOYSA-N-iS4m2Q-1158-G.minimised.mol',\n",
       " 71956: '/opt/xchem-fragalysis-2/maxwin/RdRp_FFF/syndirella/feb_elabs/elabs_20/ZTHISXNUAOFTJB-UHFFFAOYSA-N/output/ZTHISXNUAOFTJB-UHFFFAOYSA-N-iS4m2Q-1163-A/ZTHISXNUAOFTJB-UHFFFAOYSA-N-iS4m2Q-1163-A.minimised.mol',\n",
       " 71957: '/opt/xchem-fragalysis-2/maxwin/RdRp_FFF/syndirella/feb_elabs/elabs_20/ZTHISXNUAOFTJB-UHFFFAOYSA-N/output/ZTHISXNUAOFTJB-UHFFFAOYSA-N-iS4m2Q-1165-G/ZTHISXNUAOFTJB-UHFFFAOYSA-N-iS4m2Q-1165-G.minimised.mol',\n",
       " 71962: '/opt/xchem-fragalysis-2/maxwin/RdRp_FFF/syndirella/feb_elabs/elabs_20/ZTHISXNUAOFTJB-UHFFFAOYSA-N/output/ZTHISXNUAOFTJB-UHFFFAOYSA-N-iS4m2Q-1172-G/ZTHISXNUAOFTJB-UHFFFAOYSA-N-iS4m2Q-1172-G.minimised.mol',\n",
       " 71963: '/opt/xchem-fragalysis-2/maxwin/RdRp_FFF/syndirella/feb_elabs/elabs_20/ZTHISXNUAOFTJB-UHFFFAOYSA-N/output/ZTHISXNUAOFTJB-UHFFFAOYSA-N-iS4m2Q-1173-A/ZTHISXNUAOFTJB-UHFFFAOYSA-N-iS4m2Q-1173-A.minimised.mol',\n",
       " 71964: '/opt/xchem-fragalysis-2/maxwin/RdRp_FFF/syndirella/feb_elabs/elabs_20/ZTHISXNUAOFTJB-UHFFFAOYSA-N/output/ZTHISXNUAOFTJB-UHFFFAOYSA-N-iS4m2Q-1174-C/ZTHISXNUAOFTJB-UHFFFAOYSA-N-iS4m2Q-1174-C.minimised.mol',\n",
       " 71967: '/opt/xchem-fragalysis-2/maxwin/RdRp_FFF/syndirella/feb_elabs/elabs_20/ZTHISXNUAOFTJB-UHFFFAOYSA-N/output/ZTHISXNUAOFTJB-UHFFFAOYSA-N-iS4m2Q-1178-D/ZTHISXNUAOFTJB-UHFFFAOYSA-N-iS4m2Q-1178-D.minimised.mol',\n",
       " 71968: '/opt/xchem-fragalysis-2/maxwin/RdRp_FFF/syndirella/feb_elabs/elabs_20/ZTHISXNUAOFTJB-UHFFFAOYSA-N/output/ZTHISXNUAOFTJB-UHFFFAOYSA-N-iS4m2Q-1186-B/ZTHISXNUAOFTJB-UHFFFAOYSA-N-iS4m2Q-1186-B.minimised.mol',\n",
       " 71970: '/opt/xchem-fragalysis-2/maxwin/RdRp_FFF/syndirella/feb_elabs/elabs_20/ZTHISXNUAOFTJB-UHFFFAOYSA-N/output/ZTHISXNUAOFTJB-UHFFFAOYSA-N-iS4m2Q-1194-C/ZTHISXNUAOFTJB-UHFFFAOYSA-N-iS4m2Q-1194-C.minimised.mol',\n",
       " 71972: '/opt/xchem-fragalysis-2/maxwin/RdRp_FFF/syndirella/feb_elabs/elabs_20/ZTHISXNUAOFTJB-UHFFFAOYSA-N/output/ZTHISXNUAOFTJB-UHFFFAOYSA-N-iS4m2Q-1196-D/ZTHISXNUAOFTJB-UHFFFAOYSA-N-iS4m2Q-1196-D.minimised.mol',\n",
       " 71975: '/opt/xchem-fragalysis-2/maxwin/RdRp_FFF/syndirella/feb_elabs/elabs_20/ZTHISXNUAOFTJB-UHFFFAOYSA-N/output/ZTHISXNUAOFTJB-UHFFFAOYSA-N-iS4m2Q-1200-C/ZTHISXNUAOFTJB-UHFFFAOYSA-N-iS4m2Q-1200-C.minimised.mol',\n",
       " 71976: '/opt/xchem-fragalysis-2/maxwin/RdRp_FFF/syndirella/feb_elabs/elabs_20/ZTHISXNUAOFTJB-UHFFFAOYSA-N/output/ZTHISXNUAOFTJB-UHFFFAOYSA-N-iS4m2Q-1201-A/ZTHISXNUAOFTJB-UHFFFAOYSA-N-iS4m2Q-1201-A.minimised.mol',\n",
       " 71977: '/opt/xchem-fragalysis-2/maxwin/RdRp_FFF/syndirella/feb_elabs/elabs_20/ZTHISXNUAOFTJB-UHFFFAOYSA-N/output/ZTHISXNUAOFTJB-UHFFFAOYSA-N-iS4m2Q-1203-D/ZTHISXNUAOFTJB-UHFFFAOYSA-N-iS4m2Q-1203-D.minimised.mol',\n",
       " 71978: '/opt/xchem-fragalysis-2/maxwin/RdRp_FFF/syndirella/feb_elabs/elabs_20/ZTHISXNUAOFTJB-UHFFFAOYSA-N/output/ZTHISXNUAOFTJB-UHFFFAOYSA-N-iS4m2Q-1204-D/ZTHISXNUAOFTJB-UHFFFAOYSA-N-iS4m2Q-1204-D.minimised.mol',\n",
       " 71979: '/opt/xchem-fragalysis-2/maxwin/RdRp_FFF/syndirella/feb_elabs/elabs_20/ZTHISXNUAOFTJB-UHFFFAOYSA-N/output/ZTHISXNUAOFTJB-UHFFFAOYSA-N-iS4m2Q-1206-A/ZTHISXNUAOFTJB-UHFFFAOYSA-N-iS4m2Q-1206-A.minimised.mol',\n",
       " 71983: '/opt/xchem-fragalysis-2/maxwin/RdRp_FFF/syndirella/feb_elabs/elabs_20/ZTHISXNUAOFTJB-UHFFFAOYSA-N/output/ZTHISXNUAOFTJB-UHFFFAOYSA-N-iS4m2Q-1218-D/ZTHISXNUAOFTJB-UHFFFAOYSA-N-iS4m2Q-1218-D.minimised.mol',\n",
       " 71984: '/opt/xchem-fragalysis-2/maxwin/RdRp_FFF/syndirella/feb_elabs/elabs_20/ZTHISXNUAOFTJB-UHFFFAOYSA-N/output/ZTHISXNUAOFTJB-UHFFFAOYSA-N-iS4m2Q-1220-C/ZTHISXNUAOFTJB-UHFFFAOYSA-N-iS4m2Q-1220-C.minimised.mol',\n",
       " 71985: '/opt/xchem-fragalysis-2/maxwin/RdRp_FFF/syndirella/feb_elabs/elabs_20/ZTHISXNUAOFTJB-UHFFFAOYSA-N/output/ZTHISXNUAOFTJB-UHFFFAOYSA-N-iS4m2Q-1222-A/ZTHISXNUAOFTJB-UHFFFAOYSA-N-iS4m2Q-1222-A.minimised.mol',\n",
       " 71986: '/opt/xchem-fragalysis-2/maxwin/RdRp_FFF/syndirella/feb_elabs/elabs_20/ZTHISXNUAOFTJB-UHFFFAOYSA-N/output/ZTHISXNUAOFTJB-UHFFFAOYSA-N-iS4m2Q-1223-A/ZTHISXNUAOFTJB-UHFFFAOYSA-N-iS4m2Q-1223-A.minimised.mol',\n",
       " 71987: '/opt/xchem-fragalysis-2/maxwin/RdRp_FFF/syndirella/feb_elabs/elabs_20/ZTHISXNUAOFTJB-UHFFFAOYSA-N/output/ZTHISXNUAOFTJB-UHFFFAOYSA-N-iS4m2Q-1224-A/ZTHISXNUAOFTJB-UHFFFAOYSA-N-iS4m2Q-1224-A.minimised.mol',\n",
       " 71988: '/opt/xchem-fragalysis-2/maxwin/RdRp_FFF/syndirella/feb_elabs/elabs_20/ZTHISXNUAOFTJB-UHFFFAOYSA-N/output/ZTHISXNUAOFTJB-UHFFFAOYSA-N-iS4m2Q-1225-B/ZTHISXNUAOFTJB-UHFFFAOYSA-N-iS4m2Q-1225-B.minimised.mol',\n",
       " 71989: '/opt/xchem-fragalysis-2/maxwin/RdRp_FFF/syndirella/feb_elabs/elabs_20/ZTHISXNUAOFTJB-UHFFFAOYSA-N/output/ZTHISXNUAOFTJB-UHFFFAOYSA-N-iS4m2Q-1226-A/ZTHISXNUAOFTJB-UHFFFAOYSA-N-iS4m2Q-1226-A.minimised.mol',\n",
       " 71991: '/opt/xchem-fragalysis-2/maxwin/RdRp_FFF/syndirella/feb_elabs/elabs_20/ZTHISXNUAOFTJB-UHFFFAOYSA-N/output/ZTHISXNUAOFTJB-UHFFFAOYSA-N-iS4m2Q-1230-B/ZTHISXNUAOFTJB-UHFFFAOYSA-N-iS4m2Q-1230-B.minimised.mol',\n",
       " 71999: '/opt/xchem-fragalysis-2/maxwin/RdRp_FFF/syndirella/feb_elabs/elabs_20/ZTHISXNUAOFTJB-UHFFFAOYSA-N/output/ZTHISXNUAOFTJB-UHFFFAOYSA-N-iS4m2Q-1243-D/ZTHISXNUAOFTJB-UHFFFAOYSA-N-iS4m2Q-1243-D.minimised.mol',\n",
       " 72001: '/opt/xchem-fragalysis-2/maxwin/RdRp_FFF/syndirella/feb_elabs/elabs_20/ZTHISXNUAOFTJB-UHFFFAOYSA-N/output/ZTHISXNUAOFTJB-UHFFFAOYSA-N-iS4m2Q-1245-B/ZTHISXNUAOFTJB-UHFFFAOYSA-N-iS4m2Q-1245-B.minimised.mol',\n",
       " 72002: '/opt/xchem-fragalysis-2/maxwin/RdRp_FFF/syndirella/feb_elabs/elabs_20/ZTHISXNUAOFTJB-UHFFFAOYSA-N/output/ZTHISXNUAOFTJB-UHFFFAOYSA-N-iS4m2Q-1246-A/ZTHISXNUAOFTJB-UHFFFAOYSA-N-iS4m2Q-1246-A.minimised.mol',\n",
       " 72003: '/opt/xchem-fragalysis-2/maxwin/RdRp_FFF/syndirella/feb_elabs/elabs_20/ZTHISXNUAOFTJB-UHFFFAOYSA-N/output/ZTHISXNUAOFTJB-UHFFFAOYSA-N-iS4m2Q-1247-B/ZTHISXNUAOFTJB-UHFFFAOYSA-N-iS4m2Q-1247-B.minimised.mol',\n",
       " 72004: '/opt/xchem-fragalysis-2/maxwin/RdRp_FFF/syndirella/feb_elabs/elabs_20/ZTHISXNUAOFTJB-UHFFFAOYSA-N/output/ZTHISXNUAOFTJB-UHFFFAOYSA-N-iS4m2Q-1248-B/ZTHISXNUAOFTJB-UHFFFAOYSA-N-iS4m2Q-1248-B.minimised.mol',\n",
       " 72005: '/opt/xchem-fragalysis-2/maxwin/RdRp_FFF/syndirella/feb_elabs/elabs_20/ZTHISXNUAOFTJB-UHFFFAOYSA-N/output/ZTHISXNUAOFTJB-UHFFFAOYSA-N-iS4m2Q-1249-A/ZTHISXNUAOFTJB-UHFFFAOYSA-N-iS4m2Q-1249-A.minimised.mol',\n",
       " 72006: '/opt/xchem-fragalysis-2/maxwin/RdRp_FFF/syndirella/feb_elabs/elabs_20/ZTHISXNUAOFTJB-UHFFFAOYSA-N/output/ZTHISXNUAOFTJB-UHFFFAOYSA-N-iS4m2Q-1250-B/ZTHISXNUAOFTJB-UHFFFAOYSA-N-iS4m2Q-1250-B.minimised.mol',\n",
       " 72008: '/opt/xchem-fragalysis-2/maxwin/RdRp_FFF/syndirella/feb_elabs/elabs_20/ZTHISXNUAOFTJB-UHFFFAOYSA-N/output/ZTHISXNUAOFTJB-UHFFFAOYSA-N-iS4m2Q-1252-A/ZTHISXNUAOFTJB-UHFFFAOYSA-N-iS4m2Q-1252-A.minimised.mol',\n",
       " 72010: '/opt/xchem-fragalysis-2/maxwin/RdRp_FFF/syndirella/feb_elabs/elabs_20/ZTHISXNUAOFTJB-UHFFFAOYSA-N/output/ZTHISXNUAOFTJB-UHFFFAOYSA-N-iS4m2Q-1254-B/ZTHISXNUAOFTJB-UHFFFAOYSA-N-iS4m2Q-1254-B.minimised.mol',\n",
       " 72011: '/opt/xchem-fragalysis-2/maxwin/RdRp_FFF/syndirella/feb_elabs/elabs_20/ZTHISXNUAOFTJB-UHFFFAOYSA-N/output/ZTHISXNUAOFTJB-UHFFFAOYSA-N-iS4m2Q-1255-A/ZTHISXNUAOFTJB-UHFFFAOYSA-N-iS4m2Q-1255-A.minimised.mol',\n",
       " 72012: '/opt/xchem-fragalysis-2/maxwin/RdRp_FFF/syndirella/feb_elabs/elabs_20/ZTHISXNUAOFTJB-UHFFFAOYSA-N/output/ZTHISXNUAOFTJB-UHFFFAOYSA-N-iS4m2Q-1256-A/ZTHISXNUAOFTJB-UHFFFAOYSA-N-iS4m2Q-1256-A.minimised.mol',\n",
       " 72013: '/opt/xchem-fragalysis-2/maxwin/RdRp_FFF/syndirella/feb_elabs/elabs_20/ZTHISXNUAOFTJB-UHFFFAOYSA-N/output/ZTHISXNUAOFTJB-UHFFFAOYSA-N-iS4m2Q-1257-A/ZTHISXNUAOFTJB-UHFFFAOYSA-N-iS4m2Q-1257-A.minimised.mol',\n",
       " 72014: '/opt/xchem-fragalysis-2/maxwin/RdRp_FFF/syndirella/feb_elabs/elabs_20/ZTHISXNUAOFTJB-UHFFFAOYSA-N/output/ZTHISXNUAOFTJB-UHFFFAOYSA-N-iS4m2Q-1258-A/ZTHISXNUAOFTJB-UHFFFAOYSA-N-iS4m2Q-1258-A.minimised.mol',\n",
       " 72016: '/opt/xchem-fragalysis-2/maxwin/RdRp_FFF/syndirella/feb_elabs/elabs_20/ZTHISXNUAOFTJB-UHFFFAOYSA-N/output/ZTHISXNUAOFTJB-UHFFFAOYSA-N-iS4m2Q-1261-D/ZTHISXNUAOFTJB-UHFFFAOYSA-N-iS4m2Q-1261-D.minimised.mol',\n",
       " 72018: '/opt/xchem-fragalysis-2/maxwin/RdRp_FFF/syndirella/feb_elabs/elabs_20/ZTHISXNUAOFTJB-UHFFFAOYSA-N/output/ZTHISXNUAOFTJB-UHFFFAOYSA-N-iS4m2Q-1265-C/ZTHISXNUAOFTJB-UHFFFAOYSA-N-iS4m2Q-1265-C.minimised.mol',\n",
       " 72023: '/opt/xchem-fragalysis-2/maxwin/RdRp_FFF/syndirella/feb_elabs/elabs_20/ZTHISXNUAOFTJB-UHFFFAOYSA-N/output/ZTHISXNUAOFTJB-UHFFFAOYSA-N-iS4m2Q-1286-D/ZTHISXNUAOFTJB-UHFFFAOYSA-N-iS4m2Q-1286-D.minimised.mol',\n",
       " 72024: '/opt/xchem-fragalysis-2/maxwin/RdRp_FFF/syndirella/feb_elabs/elabs_20/ZTHISXNUAOFTJB-UHFFFAOYSA-N/output/ZTHISXNUAOFTJB-UHFFFAOYSA-N-iS4m2Q-1288-D/ZTHISXNUAOFTJB-UHFFFAOYSA-N-iS4m2Q-1288-D.minimised.mol',\n",
       " 72031: '/opt/xchem-fragalysis-2/maxwin/RdRp_FFF/syndirella/feb_elabs/elabs_20/ZTHISXNUAOFTJB-UHFFFAOYSA-N/output/ZTHISXNUAOFTJB-UHFFFAOYSA-N-iS4m2Q-1296-H/ZTHISXNUAOFTJB-UHFFFAOYSA-N-iS4m2Q-1296-H.minimised.mol',\n",
       " 72032: '/opt/xchem-fragalysis-2/maxwin/RdRp_FFF/syndirella/feb_elabs/elabs_20/ZTHISXNUAOFTJB-UHFFFAOYSA-N/output/ZTHISXNUAOFTJB-UHFFFAOYSA-N-iS4m2Q-1297-A/ZTHISXNUAOFTJB-UHFFFAOYSA-N-iS4m2Q-1297-A.minimised.mol',\n",
       " 72033: '/opt/xchem-fragalysis-2/maxwin/RdRp_FFF/syndirella/feb_elabs/elabs_20/ZTHISXNUAOFTJB-UHFFFAOYSA-N/output/ZTHISXNUAOFTJB-UHFFFAOYSA-N-iS4m2Q-1298-C/ZTHISXNUAOFTJB-UHFFFAOYSA-N-iS4m2Q-1298-C.minimised.mol',\n",
       " 72034: '/opt/xchem-fragalysis-2/maxwin/RdRp_FFF/syndirella/feb_elabs/elabs_20/ZTHISXNUAOFTJB-UHFFFAOYSA-N/output/ZTHISXNUAOFTJB-UHFFFAOYSA-N-iS4m2Q-1299-D/ZTHISXNUAOFTJB-UHFFFAOYSA-N-iS4m2Q-1299-D.minimised.mol',\n",
       " 72035: '/opt/xchem-fragalysis-2/maxwin/RdRp_FFF/syndirella/feb_elabs/elabs_20/ZTHISXNUAOFTJB-UHFFFAOYSA-N/output/ZTHISXNUAOFTJB-UHFFFAOYSA-N-iS4m2Q-1300-B/ZTHISXNUAOFTJB-UHFFFAOYSA-N-iS4m2Q-1300-B.minimised.mol',\n",
       " 72036: '/opt/xchem-fragalysis-2/maxwin/RdRp_FFF/syndirella/feb_elabs/elabs_20/ZTHISXNUAOFTJB-UHFFFAOYSA-N/output/ZTHISXNUAOFTJB-UHFFFAOYSA-N-iS4m2Q-1301-C/ZTHISXNUAOFTJB-UHFFFAOYSA-N-iS4m2Q-1301-C.minimised.mol',\n",
       " 72038: '/opt/xchem-fragalysis-2/maxwin/RdRp_FFF/syndirella/feb_elabs/elabs_20/ZTHISXNUAOFTJB-UHFFFAOYSA-N/output/ZTHISXNUAOFTJB-UHFFFAOYSA-N-iS4m2Q-1303-C/ZTHISXNUAOFTJB-UHFFFAOYSA-N-iS4m2Q-1303-C.minimised.mol',\n",
       " 72039: '/opt/xchem-fragalysis-2/maxwin/RdRp_FFF/syndirella/feb_elabs/elabs_20/ZTHISXNUAOFTJB-UHFFFAOYSA-N/output/ZTHISXNUAOFTJB-UHFFFAOYSA-N-iS4m2Q-1304-C/ZTHISXNUAOFTJB-UHFFFAOYSA-N-iS4m2Q-1304-C.minimised.mol',\n",
       " 72040: '/opt/xchem-fragalysis-2/maxwin/RdRp_FFF/syndirella/feb_elabs/elabs_20/ZTHISXNUAOFTJB-UHFFFAOYSA-N/output/ZTHISXNUAOFTJB-UHFFFAOYSA-N-iS4m2Q-1305-B/ZTHISXNUAOFTJB-UHFFFAOYSA-N-iS4m2Q-1305-B.minimised.mol',\n",
       " 72041: '/opt/xchem-fragalysis-2/maxwin/RdRp_FFF/syndirella/feb_elabs/elabs_20/ZTHISXNUAOFTJB-UHFFFAOYSA-N/output/ZTHISXNUAOFTJB-UHFFFAOYSA-N-iS4m2Q-1306-A/ZTHISXNUAOFTJB-UHFFFAOYSA-N-iS4m2Q-1306-A.minimised.mol',\n",
       " 72043: '/opt/xchem-fragalysis-2/maxwin/RdRp_FFF/syndirella/feb_elabs/elabs_20/ZTHISXNUAOFTJB-UHFFFAOYSA-N/output/ZTHISXNUAOFTJB-UHFFFAOYSA-N-iS4m2Q-1308-C/ZTHISXNUAOFTJB-UHFFFAOYSA-N-iS4m2Q-1308-C.minimised.mol',\n",
       " 72044: '/opt/xchem-fragalysis-2/maxwin/RdRp_FFF/syndirella/feb_elabs/elabs_20/ZTHISXNUAOFTJB-UHFFFAOYSA-N/output/ZTHISXNUAOFTJB-UHFFFAOYSA-N-iS4m2Q-1309-A/ZTHISXNUAOFTJB-UHFFFAOYSA-N-iS4m2Q-1309-A.minimised.mol',\n",
       " 72051: '/opt/xchem-fragalysis-2/maxwin/RdRp_FFF/syndirella/feb_elabs/elabs_20/ZTHISXNUAOFTJB-UHFFFAOYSA-N/output/ZTHISXNUAOFTJB-UHFFFAOYSA-N-iS4m2Q-1320-B/ZTHISXNUAOFTJB-UHFFFAOYSA-N-iS4m2Q-1320-B.minimised.mol',\n",
       " 72056: '/opt/xchem-fragalysis-2/maxwin/RdRp_FFF/syndirella/feb_elabs/elabs_20/ZTHISXNUAOFTJB-UHFFFAOYSA-N/output/ZTHISXNUAOFTJB-UHFFFAOYSA-N-iS4m2Q-1344-D/ZTHISXNUAOFTJB-UHFFFAOYSA-N-iS4m2Q-1344-D.minimised.mol',\n",
       " 72058: '/opt/xchem-fragalysis-2/maxwin/RdRp_FFF/syndirella/feb_elabs/elabs_20/ZTHISXNUAOFTJB-UHFFFAOYSA-N/output/ZTHISXNUAOFTJB-UHFFFAOYSA-N-iS4m2Q-1347-C/ZTHISXNUAOFTJB-UHFFFAOYSA-N-iS4m2Q-1347-C.minimised.mol',\n",
       " 72071: '/opt/xchem-fragalysis-2/maxwin/RdRp_FFF/syndirella/feb_elabs/elabs_20/ZTHISXNUAOFTJB-UHFFFAOYSA-N/output/ZTHISXNUAOFTJB-UHFFFAOYSA-N-iS4m2Q-1363-C/ZTHISXNUAOFTJB-UHFFFAOYSA-N-iS4m2Q-1363-C.minimised.mol',\n",
       " 72073: '/opt/xchem-fragalysis-2/maxwin/RdRp_FFF/syndirella/feb_elabs/elabs_20/ZTHISXNUAOFTJB-UHFFFAOYSA-N/output/ZTHISXNUAOFTJB-UHFFFAOYSA-N-iS4m2Q-1371-A/ZTHISXNUAOFTJB-UHFFFAOYSA-N-iS4m2Q-1371-A.minimised.mol',\n",
       " 72075: '/opt/xchem-fragalysis-2/maxwin/RdRp_FFF/syndirella/feb_elabs/elabs_20/ZTHISXNUAOFTJB-UHFFFAOYSA-N/output/ZTHISXNUAOFTJB-UHFFFAOYSA-N-iS4m2Q-1374-A/ZTHISXNUAOFTJB-UHFFFAOYSA-N-iS4m2Q-1374-A.minimised.mol',\n",
       " 72076: '/opt/xchem-fragalysis-2/maxwin/RdRp_FFF/syndirella/feb_elabs/elabs_20/ZTHISXNUAOFTJB-UHFFFAOYSA-N/output/ZTHISXNUAOFTJB-UHFFFAOYSA-N-iS4m2Q-1389-A/ZTHISXNUAOFTJB-UHFFFAOYSA-N-iS4m2Q-1389-A.minimised.mol',\n",
       " 72077: '/opt/xchem-fragalysis-2/maxwin/RdRp_FFF/syndirella/feb_elabs/elabs_20/ZTHISXNUAOFTJB-UHFFFAOYSA-N/output/ZTHISXNUAOFTJB-UHFFFAOYSA-N-iS4m2Q-1394-H/ZTHISXNUAOFTJB-UHFFFAOYSA-N-iS4m2Q-1394-H.minimised.mol',\n",
       " 72078: '/opt/xchem-fragalysis-2/maxwin/RdRp_FFF/syndirella/feb_elabs/elabs_20/ZTHISXNUAOFTJB-UHFFFAOYSA-N/output/ZTHISXNUAOFTJB-UHFFFAOYSA-N-iS4m2Q-1396-G/ZTHISXNUAOFTJB-UHFFFAOYSA-N-iS4m2Q-1396-G.minimised.mol',\n",
       " 72082: '/opt/xchem-fragalysis-2/maxwin/RdRp_FFF/syndirella/feb_elabs/elabs_20/ZTHISXNUAOFTJB-UHFFFAOYSA-N/output/ZTHISXNUAOFTJB-UHFFFAOYSA-N-iS4m2Q-1403-C/ZTHISXNUAOFTJB-UHFFFAOYSA-N-iS4m2Q-1403-C.minimised.mol',\n",
       " 72083: '/opt/xchem-fragalysis-2/maxwin/RdRp_FFF/syndirella/feb_elabs/elabs_20/ZTHISXNUAOFTJB-UHFFFAOYSA-N/output/ZTHISXNUAOFTJB-UHFFFAOYSA-N-iS4m2Q-1404-C/ZTHISXNUAOFTJB-UHFFFAOYSA-N-iS4m2Q-1404-C.minimised.mol',\n",
       " 72084: '/opt/xchem-fragalysis-2/maxwin/RdRp_FFF/syndirella/feb_elabs/elabs_20/ZTHISXNUAOFTJB-UHFFFAOYSA-N/output/ZTHISXNUAOFTJB-UHFFFAOYSA-N-iS4m2Q-1410-A/ZTHISXNUAOFTJB-UHFFFAOYSA-N-iS4m2Q-1410-A.minimised.mol',\n",
       " 72085: '/opt/xchem-fragalysis-2/maxwin/RdRp_FFF/syndirella/feb_elabs/elabs_20/ZTHISXNUAOFTJB-UHFFFAOYSA-N/output/ZTHISXNUAOFTJB-UHFFFAOYSA-N-iS4m2Q-1411-A/ZTHISXNUAOFTJB-UHFFFAOYSA-N-iS4m2Q-1411-A.minimised.mol',\n",
       " 72087: '/opt/xchem-fragalysis-2/maxwin/RdRp_FFF/syndirella/feb_elabs/elabs_20/ZTHISXNUAOFTJB-UHFFFAOYSA-N/output/ZTHISXNUAOFTJB-UHFFFAOYSA-N-iS4m2Q-1416-H/ZTHISXNUAOFTJB-UHFFFAOYSA-N-iS4m2Q-1416-H.minimised.mol',\n",
       " 72088: '/opt/xchem-fragalysis-2/maxwin/RdRp_FFF/syndirella/feb_elabs/elabs_20/ZTHISXNUAOFTJB-UHFFFAOYSA-N/output/ZTHISXNUAOFTJB-UHFFFAOYSA-N-iS4m2Q-1417-H/ZTHISXNUAOFTJB-UHFFFAOYSA-N-iS4m2Q-1417-H.minimised.mol',\n",
       " 72089: '/opt/xchem-fragalysis-2/maxwin/RdRp_FFF/syndirella/feb_elabs/elabs_20/ZTHISXNUAOFTJB-UHFFFAOYSA-N/output/ZTHISXNUAOFTJB-UHFFFAOYSA-N-iS4m2Q-1418-H/ZTHISXNUAOFTJB-UHFFFAOYSA-N-iS4m2Q-1418-H.minimised.mol',\n",
       " 72090: '/opt/xchem-fragalysis-2/maxwin/RdRp_FFF/syndirella/feb_elabs/elabs_20/ZTHISXNUAOFTJB-UHFFFAOYSA-N/output/ZTHISXNUAOFTJB-UHFFFAOYSA-N-iS4m2Q-1419-A/ZTHISXNUAOFTJB-UHFFFAOYSA-N-iS4m2Q-1419-A.minimised.mol',\n",
       " 72091: '/opt/xchem-fragalysis-2/maxwin/RdRp_FFF/syndirella/feb_elabs/elabs_20/ZTHISXNUAOFTJB-UHFFFAOYSA-N/output/ZTHISXNUAOFTJB-UHFFFAOYSA-N-iS4m2Q-1420-A/ZTHISXNUAOFTJB-UHFFFAOYSA-N-iS4m2Q-1420-A.minimised.mol',\n",
       " 72095: '/opt/xchem-fragalysis-2/maxwin/RdRp_FFF/syndirella/feb_elabs/elabs_20/ZTHISXNUAOFTJB-UHFFFAOYSA-N/output/ZTHISXNUAOFTJB-UHFFFAOYSA-N-iS4m2Q-1432-C/ZTHISXNUAOFTJB-UHFFFAOYSA-N-iS4m2Q-1432-C.minimised.mol',\n",
       " 72096: '/opt/xchem-fragalysis-2/maxwin/RdRp_FFF/syndirella/feb_elabs/elabs_20/ZTHISXNUAOFTJB-UHFFFAOYSA-N/output/ZTHISXNUAOFTJB-UHFFFAOYSA-N-iS4m2Q-1433-D/ZTHISXNUAOFTJB-UHFFFAOYSA-N-iS4m2Q-1433-D.minimised.mol',\n",
       " 72098: '/opt/xchem-fragalysis-2/maxwin/RdRp_FFF/syndirella/feb_elabs/elabs_20/ZTHISXNUAOFTJB-UHFFFAOYSA-N/output/ZTHISXNUAOFTJB-UHFFFAOYSA-N-iS4m2Q-1435-D/ZTHISXNUAOFTJB-UHFFFAOYSA-N-iS4m2Q-1435-D.minimised.mol',\n",
       " 72102: '/opt/xchem-fragalysis-2/maxwin/RdRp_FFF/syndirella/feb_elabs/elabs_20/ZTHISXNUAOFTJB-UHFFFAOYSA-N/output/ZTHISXNUAOFTJB-UHFFFAOYSA-N-iS4m2Q-1439-B/ZTHISXNUAOFTJB-UHFFFAOYSA-N-iS4m2Q-1439-B.minimised.mol',\n",
       " 72104: '/opt/xchem-fragalysis-2/maxwin/RdRp_FFF/syndirella/feb_elabs/elabs_20/ZTHISXNUAOFTJB-UHFFFAOYSA-N/output/ZTHISXNUAOFTJB-UHFFFAOYSA-N-iS4m2Q-1441-A/ZTHISXNUAOFTJB-UHFFFAOYSA-N-iS4m2Q-1441-A.minimised.mol',\n",
       " 72105: '/opt/xchem-fragalysis-2/maxwin/RdRp_FFF/syndirella/feb_elabs/elabs_20/ZTHISXNUAOFTJB-UHFFFAOYSA-N/output/ZTHISXNUAOFTJB-UHFFFAOYSA-N-iS4m2Q-1442-B/ZTHISXNUAOFTJB-UHFFFAOYSA-N-iS4m2Q-1442-B.minimised.mol',\n",
       " 72107: '/opt/xchem-fragalysis-2/maxwin/RdRp_FFF/syndirella/feb_elabs/elabs_20/ZTHISXNUAOFTJB-UHFFFAOYSA-N/output/ZTHISXNUAOFTJB-UHFFFAOYSA-N-iS4m2Q-1444-D/ZTHISXNUAOFTJB-UHFFFAOYSA-N-iS4m2Q-1444-D.minimised.mol',\n",
       " 72110: '/opt/xchem-fragalysis-2/maxwin/RdRp_FFF/syndirella/feb_elabs/elabs_20/ZTHISXNUAOFTJB-UHFFFAOYSA-N/output/ZTHISXNUAOFTJB-UHFFFAOYSA-N-iS4m2Q-1447-A/ZTHISXNUAOFTJB-UHFFFAOYSA-N-iS4m2Q-1447-A.minimised.mol',\n",
       " 72120: '/opt/xchem-fragalysis-2/maxwin/RdRp_FFF/syndirella/feb_elabs/elabs_20/ZTHISXNUAOFTJB-UHFFFAOYSA-N/output/ZTHISXNUAOFTJB-UHFFFAOYSA-N-iS4m2Q-1457-B/ZTHISXNUAOFTJB-UHFFFAOYSA-N-iS4m2Q-1457-B.minimised.mol',\n",
       " 72121: '/opt/xchem-fragalysis-2/maxwin/RdRp_FFF/syndirella/feb_elabs/elabs_20/ZTHISXNUAOFTJB-UHFFFAOYSA-N/output/ZTHISXNUAOFTJB-UHFFFAOYSA-N-iS4m2Q-1463-B/ZTHISXNUAOFTJB-UHFFFAOYSA-N-iS4m2Q-1463-B.minimised.mol',\n",
       " 72122: '/opt/xchem-fragalysis-2/maxwin/RdRp_FFF/syndirella/feb_elabs/elabs_20/ZTHISXNUAOFTJB-UHFFFAOYSA-N/output/ZTHISXNUAOFTJB-UHFFFAOYSA-N-iS4m2Q-1464-B/ZTHISXNUAOFTJB-UHFFFAOYSA-N-iS4m2Q-1464-B.minimised.mol',\n",
       " 72123: '/opt/xchem-fragalysis-2/maxwin/RdRp_FFF/syndirella/feb_elabs/elabs_20/ZTHISXNUAOFTJB-UHFFFAOYSA-N/output/ZTHISXNUAOFTJB-UHFFFAOYSA-N-iS4m2Q-1465-G/ZTHISXNUAOFTJB-UHFFFAOYSA-N-iS4m2Q-1465-G.minimised.mol',\n",
       " 72126: '/opt/xchem-fragalysis-2/maxwin/RdRp_FFF/syndirella/feb_elabs/elabs_20/ZTHISXNUAOFTJB-UHFFFAOYSA-N/output/ZTHISXNUAOFTJB-UHFFFAOYSA-N-iS4m2Q-1469-H/ZTHISXNUAOFTJB-UHFFFAOYSA-N-iS4m2Q-1469-H.minimised.mol',\n",
       " 72128: '/opt/xchem-fragalysis-2/maxwin/RdRp_FFF/syndirella/feb_elabs/elabs_20/ZTHISXNUAOFTJB-UHFFFAOYSA-N/output/ZTHISXNUAOFTJB-UHFFFAOYSA-N-iS4m2Q-1485-D/ZTHISXNUAOFTJB-UHFFFAOYSA-N-iS4m2Q-1485-D.minimised.mol',\n",
       " 72129: '/opt/xchem-fragalysis-2/maxwin/RdRp_FFF/syndirella/feb_elabs/elabs_20/ZTHISXNUAOFTJB-UHFFFAOYSA-N/output/ZTHISXNUAOFTJB-UHFFFAOYSA-N-iS4m2Q-1486-C/ZTHISXNUAOFTJB-UHFFFAOYSA-N-iS4m2Q-1486-C.minimised.mol',\n",
       " 72132: '/opt/xchem-fragalysis-2/maxwin/RdRp_FFF/syndirella/feb_elabs/elabs_20/ZTHISXNUAOFTJB-UHFFFAOYSA-N/output/ZTHISXNUAOFTJB-UHFFFAOYSA-N-iS4m2Q-1489-G/ZTHISXNUAOFTJB-UHFFFAOYSA-N-iS4m2Q-1489-G.minimised.mol',\n",
       " 72134: '/opt/xchem-fragalysis-2/maxwin/RdRp_FFF/syndirella/feb_elabs/elabs_20/ZTHISXNUAOFTJB-UHFFFAOYSA-N/output/ZTHISXNUAOFTJB-UHFFFAOYSA-N-iS4m2Q-1501-D/ZTHISXNUAOFTJB-UHFFFAOYSA-N-iS4m2Q-1501-D.minimised.mol',\n",
       " 72135: '/opt/xchem-fragalysis-2/maxwin/RdRp_FFF/syndirella/feb_elabs/elabs_20/ZTHISXNUAOFTJB-UHFFFAOYSA-N/output/ZTHISXNUAOFTJB-UHFFFAOYSA-N-iS4m2Q-1505-D/ZTHISXNUAOFTJB-UHFFFAOYSA-N-iS4m2Q-1505-D.minimised.mol',\n",
       " 72137: '/opt/xchem-fragalysis-2/maxwin/RdRp_FFF/syndirella/feb_elabs/elabs_20/ZTHISXNUAOFTJB-UHFFFAOYSA-N/output/ZTHISXNUAOFTJB-UHFFFAOYSA-N-iS4m2Q-1507-C/ZTHISXNUAOFTJB-UHFFFAOYSA-N-iS4m2Q-1507-C.minimised.mol',\n",
       " 72141: '/opt/xchem-fragalysis-2/maxwin/RdRp_FFF/syndirella/feb_elabs/elabs_20/ZTHISXNUAOFTJB-UHFFFAOYSA-N/output/ZTHISXNUAOFTJB-UHFFFAOYSA-N-iS4m2Q-1513-H/ZTHISXNUAOFTJB-UHFFFAOYSA-N-iS4m2Q-1513-H.minimised.mol',\n",
       " 72142: '/opt/xchem-fragalysis-2/maxwin/RdRp_FFF/syndirella/feb_elabs/elabs_20/ZTHISXNUAOFTJB-UHFFFAOYSA-N/output/ZTHISXNUAOFTJB-UHFFFAOYSA-N-iS4m2Q-1515-B/ZTHISXNUAOFTJB-UHFFFAOYSA-N-iS4m2Q-1515-B.minimised.mol',\n",
       " 72145: '/opt/xchem-fragalysis-2/maxwin/RdRp_FFF/syndirella/feb_elabs/elabs_20/ZTHISXNUAOFTJB-UHFFFAOYSA-N/output/ZTHISXNUAOFTJB-UHFFFAOYSA-N-iS4m2Q-1518-B/ZTHISXNUAOFTJB-UHFFFAOYSA-N-iS4m2Q-1518-B.minimised.mol',\n",
       " 72147: '/opt/xchem-fragalysis-2/maxwin/RdRp_FFF/syndirella/feb_elabs/elabs_20/ZTHISXNUAOFTJB-UHFFFAOYSA-N/output/ZTHISXNUAOFTJB-UHFFFAOYSA-N-iS4m2Q-1520-D/ZTHISXNUAOFTJB-UHFFFAOYSA-N-iS4m2Q-1520-D.minimised.mol',\n",
       " 72149: '/opt/xchem-fragalysis-2/maxwin/RdRp_FFF/syndirella/feb_elabs/elabs_20/ZTHISXNUAOFTJB-UHFFFAOYSA-N/output/ZTHISXNUAOFTJB-UHFFFAOYSA-N-iS4m2Q-1522-B/ZTHISXNUAOFTJB-UHFFFAOYSA-N-iS4m2Q-1522-B.minimised.mol',\n",
       " 72150: '/opt/xchem-fragalysis-2/maxwin/RdRp_FFF/syndirella/feb_elabs/elabs_20/ZTHISXNUAOFTJB-UHFFFAOYSA-N/output/ZTHISXNUAOFTJB-UHFFFAOYSA-N-iS4m2Q-1523-B/ZTHISXNUAOFTJB-UHFFFAOYSA-N-iS4m2Q-1523-B.minimised.mol',\n",
       " 72151: '/opt/xchem-fragalysis-2/maxwin/RdRp_FFF/syndirella/feb_elabs/elabs_20/ZTHISXNUAOFTJB-UHFFFAOYSA-N/output/ZTHISXNUAOFTJB-UHFFFAOYSA-N-iS4m2Q-1526-A/ZTHISXNUAOFTJB-UHFFFAOYSA-N-iS4m2Q-1526-A.minimised.mol',\n",
       " 72152: '/opt/xchem-fragalysis-2/maxwin/RdRp_FFF/syndirella/feb_elabs/elabs_20/ZTHISXNUAOFTJB-UHFFFAOYSA-N/output/ZTHISXNUAOFTJB-UHFFFAOYSA-N-iS4m2Q-1528-C/ZTHISXNUAOFTJB-UHFFFAOYSA-N-iS4m2Q-1528-C.minimised.mol',\n",
       " 72157: '/opt/xchem-fragalysis-2/maxwin/RdRp_FFF/syndirella/feb_elabs/elabs_20/ZTHISXNUAOFTJB-UHFFFAOYSA-N/output/ZTHISXNUAOFTJB-UHFFFAOYSA-N-iS4m2Q-1534-D/ZTHISXNUAOFTJB-UHFFFAOYSA-N-iS4m2Q-1534-D.minimised.mol',\n",
       " 72166: '/opt/xchem-fragalysis-2/maxwin/RdRp_FFF/syndirella/feb_elabs/elabs_20/ZTHISXNUAOFTJB-UHFFFAOYSA-N/output/ZTHISXNUAOFTJB-UHFFFAOYSA-N-iS4m2Q-1543-D/ZTHISXNUAOFTJB-UHFFFAOYSA-N-iS4m2Q-1543-D.minimised.mol',\n",
       " 72168: '/opt/xchem-fragalysis-2/maxwin/RdRp_FFF/syndirella/feb_elabs/elabs_20/ZTHISXNUAOFTJB-UHFFFAOYSA-N/output/ZTHISXNUAOFTJB-UHFFFAOYSA-N-iS4m2Q-1545-A/ZTHISXNUAOFTJB-UHFFFAOYSA-N-iS4m2Q-1545-A.minimised.mol',\n",
       " 72174: '/opt/xchem-fragalysis-2/maxwin/RdRp_FFF/syndirella/feb_elabs/elabs_20/ZTHISXNUAOFTJB-UHFFFAOYSA-N/output/ZTHISXNUAOFTJB-UHFFFAOYSA-N-iS4m2Q-1557-B/ZTHISXNUAOFTJB-UHFFFAOYSA-N-iS4m2Q-1557-B.minimised.mol',\n",
       " 72176: '/opt/xchem-fragalysis-2/maxwin/RdRp_FFF/syndirella/feb_elabs/elabs_20/ZTHISXNUAOFTJB-UHFFFAOYSA-N/output/ZTHISXNUAOFTJB-UHFFFAOYSA-N-iS4m2Q-1567-C/ZTHISXNUAOFTJB-UHFFFAOYSA-N-iS4m2Q-1567-C.minimised.mol',\n",
       " 72181: '/opt/xchem-fragalysis-2/maxwin/RdRp_FFF/syndirella/feb_elabs/elabs_20/ZTHISXNUAOFTJB-UHFFFAOYSA-N/output/ZTHISXNUAOFTJB-UHFFFAOYSA-N-iS4m2Q-1574-E/ZTHISXNUAOFTJB-UHFFFAOYSA-N-iS4m2Q-1574-E.minimised.mol',\n",
       " 72183: '/opt/xchem-fragalysis-2/maxwin/RdRp_FFF/syndirella/feb_elabs/elabs_20/ZTHISXNUAOFTJB-UHFFFAOYSA-N/output/ZTHISXNUAOFTJB-UHFFFAOYSA-N-iS4m2Q-1582-A/ZTHISXNUAOFTJB-UHFFFAOYSA-N-iS4m2Q-1582-A.minimised.mol',\n",
       " 72188: '/opt/xchem-fragalysis-2/maxwin/RdRp_FFF/syndirella/feb_elabs/elabs_20/ZTHISXNUAOFTJB-UHFFFAOYSA-N/output/ZTHISXNUAOFTJB-UHFFFAOYSA-N-iS4m2Q-1588-B/ZTHISXNUAOFTJB-UHFFFAOYSA-N-iS4m2Q-1588-B.minimised.mol',\n",
       " 72190: '/opt/xchem-fragalysis-2/maxwin/RdRp_FFF/syndirella/feb_elabs/elabs_20/ZTHISXNUAOFTJB-UHFFFAOYSA-N/output/ZTHISXNUAOFTJB-UHFFFAOYSA-N-iS4m2Q-1590-B/ZTHISXNUAOFTJB-UHFFFAOYSA-N-iS4m2Q-1590-B.minimised.mol',\n",
       " 72191: '/opt/xchem-fragalysis-2/maxwin/RdRp_FFF/syndirella/feb_elabs/elabs_20/ZTHISXNUAOFTJB-UHFFFAOYSA-N/output/ZTHISXNUAOFTJB-UHFFFAOYSA-N-iS4m2Q-1591-D/ZTHISXNUAOFTJB-UHFFFAOYSA-N-iS4m2Q-1591-D.minimised.mol',\n",
       " 72192: '/opt/xchem-fragalysis-2/maxwin/RdRp_FFF/syndirella/feb_elabs/elabs_20/ZTHISXNUAOFTJB-UHFFFAOYSA-N/output/ZTHISXNUAOFTJB-UHFFFAOYSA-N-iS4m2Q-1593-A/ZTHISXNUAOFTJB-UHFFFAOYSA-N-iS4m2Q-1593-A.minimised.mol',\n",
       " 72193: '/opt/xchem-fragalysis-2/maxwin/RdRp_FFF/syndirella/feb_elabs/elabs_20/ZTHISXNUAOFTJB-UHFFFAOYSA-N/output/ZTHISXNUAOFTJB-UHFFFAOYSA-N-iS4m2Q-1594-A/ZTHISXNUAOFTJB-UHFFFAOYSA-N-iS4m2Q-1594-A.minimised.mol',\n",
       " 72200: '/opt/xchem-fragalysis-2/maxwin/RdRp_FFF/syndirella/feb_elabs/elabs_20/ZTHISXNUAOFTJB-UHFFFAOYSA-N/output/ZTHISXNUAOFTJB-UHFFFAOYSA-N-iS4m2Q-1609-A/ZTHISXNUAOFTJB-UHFFFAOYSA-N-iS4m2Q-1609-A.minimised.mol',\n",
       " 72201: '/opt/xchem-fragalysis-2/maxwin/RdRp_FFF/syndirella/feb_elabs/elabs_20/ZTHISXNUAOFTJB-UHFFFAOYSA-N/output/ZTHISXNUAOFTJB-UHFFFAOYSA-N-iS4m2Q-1610-A/ZTHISXNUAOFTJB-UHFFFAOYSA-N-iS4m2Q-1610-A.minimised.mol',\n",
       " 72202: '/opt/xchem-fragalysis-2/maxwin/RdRp_FFF/syndirella/feb_elabs/elabs_20/ZTHISXNUAOFTJB-UHFFFAOYSA-N/output/ZTHISXNUAOFTJB-UHFFFAOYSA-N-iS4m2Q-1611-A/ZTHISXNUAOFTJB-UHFFFAOYSA-N-iS4m2Q-1611-A.minimised.mol',\n",
       " 72203: '/opt/xchem-fragalysis-2/maxwin/RdRp_FFF/syndirella/feb_elabs/elabs_20/ZTHISXNUAOFTJB-UHFFFAOYSA-N/output/ZTHISXNUAOFTJB-UHFFFAOYSA-N-iS4m2Q-1612-A/ZTHISXNUAOFTJB-UHFFFAOYSA-N-iS4m2Q-1612-A.minimised.mol',\n",
       " 72204: '/opt/xchem-fragalysis-2/maxwin/RdRp_FFF/syndirella/feb_elabs/elabs_20/ZTHISXNUAOFTJB-UHFFFAOYSA-N/output/ZTHISXNUAOFTJB-UHFFFAOYSA-N-iS4m2Q-1614-B/ZTHISXNUAOFTJB-UHFFFAOYSA-N-iS4m2Q-1614-B.minimised.mol',\n",
       " 72210: '/opt/xchem-fragalysis-2/maxwin/RdRp_FFF/syndirella/feb_elabs/elabs_20/ZTHISXNUAOFTJB-UHFFFAOYSA-N/output/ZTHISXNUAOFTJB-UHFFFAOYSA-N-iS4m2Q-1629-D/ZTHISXNUAOFTJB-UHFFFAOYSA-N-iS4m2Q-1629-D.minimised.mol',\n",
       " 72212: '/opt/xchem-fragalysis-2/maxwin/RdRp_FFF/syndirella/feb_elabs/elabs_20/ZTHISXNUAOFTJB-UHFFFAOYSA-N/output/ZTHISXNUAOFTJB-UHFFFAOYSA-N-iS4m2Q-1631-D/ZTHISXNUAOFTJB-UHFFFAOYSA-N-iS4m2Q-1631-D.minimised.mol',\n",
       " 72215: '/opt/xchem-fragalysis-2/maxwin/RdRp_FFF/syndirella/feb_elabs/elabs_20/ZTHISXNUAOFTJB-UHFFFAOYSA-N/output/ZTHISXNUAOFTJB-UHFFFAOYSA-N-iS4m2Q-1634-B/ZTHISXNUAOFTJB-UHFFFAOYSA-N-iS4m2Q-1634-B.minimised.mol',\n",
       " 72216: '/opt/xchem-fragalysis-2/maxwin/RdRp_FFF/syndirella/feb_elabs/elabs_20/ZTHISXNUAOFTJB-UHFFFAOYSA-N/output/ZTHISXNUAOFTJB-UHFFFAOYSA-N-iS4m2Q-1635-A/ZTHISXNUAOFTJB-UHFFFAOYSA-N-iS4m2Q-1635-A.minimised.mol',\n",
       " 72217: '/opt/xchem-fragalysis-2/maxwin/RdRp_FFF/syndirella/feb_elabs/elabs_20/ZTHISXNUAOFTJB-UHFFFAOYSA-N/output/ZTHISXNUAOFTJB-UHFFFAOYSA-N-iS4m2Q-1636-A/ZTHISXNUAOFTJB-UHFFFAOYSA-N-iS4m2Q-1636-A.minimised.mol',\n",
       " 72220: '/opt/xchem-fragalysis-2/maxwin/RdRp_FFF/syndirella/feb_elabs/elabs_20/ZTHISXNUAOFTJB-UHFFFAOYSA-N/output/ZTHISXNUAOFTJB-UHFFFAOYSA-N-iS4m2Q-1640-A/ZTHISXNUAOFTJB-UHFFFAOYSA-N-iS4m2Q-1640-A.minimised.mol',\n",
       " 72226: '/opt/xchem-fragalysis-2/maxwin/RdRp_FFF/syndirella/feb_elabs/elabs_20/ZTHISXNUAOFTJB-UHFFFAOYSA-N/output/ZTHISXNUAOFTJB-UHFFFAOYSA-N-iS4m2Q-1647-E/ZTHISXNUAOFTJB-UHFFFAOYSA-N-iS4m2Q-1647-E.minimised.mol',\n",
       " 72227: '/opt/xchem-fragalysis-2/maxwin/RdRp_FFF/syndirella/feb_elabs/elabs_20/ZTHISXNUAOFTJB-UHFFFAOYSA-N/output/ZTHISXNUAOFTJB-UHFFFAOYSA-N-iS4m2Q-1648-C/ZTHISXNUAOFTJB-UHFFFAOYSA-N-iS4m2Q-1648-C.minimised.mol',\n",
       " 72228: '/opt/xchem-fragalysis-2/maxwin/RdRp_FFF/syndirella/feb_elabs/elabs_20/ZTHISXNUAOFTJB-UHFFFAOYSA-N/output/ZTHISXNUAOFTJB-UHFFFAOYSA-N-iS4m2Q-1649-D/ZTHISXNUAOFTJB-UHFFFAOYSA-N-iS4m2Q-1649-D.minimised.mol',\n",
       " 72229: '/opt/xchem-fragalysis-2/maxwin/RdRp_FFF/syndirella/feb_elabs/elabs_20/ZTHISXNUAOFTJB-UHFFFAOYSA-N/output/ZTHISXNUAOFTJB-UHFFFAOYSA-N-iS4m2Q-1650-D/ZTHISXNUAOFTJB-UHFFFAOYSA-N-iS4m2Q-1650-D.minimised.mol',\n",
       " 72231: '/opt/xchem-fragalysis-2/maxwin/RdRp_FFF/syndirella/feb_elabs/elabs_20/ZTHISXNUAOFTJB-UHFFFAOYSA-N/output/ZTHISXNUAOFTJB-UHFFFAOYSA-N-iS4m2Q-1653-D/ZTHISXNUAOFTJB-UHFFFAOYSA-N-iS4m2Q-1653-D.minimised.mol',\n",
       " 72234: '/opt/xchem-fragalysis-2/maxwin/RdRp_FFF/syndirella/feb_elabs/elabs_20/ZTHISXNUAOFTJB-UHFFFAOYSA-N/output/ZTHISXNUAOFTJB-UHFFFAOYSA-N-iS4m2Q-1656-B/ZTHISXNUAOFTJB-UHFFFAOYSA-N-iS4m2Q-1656-B.minimised.mol',\n",
       " 72245: '/opt/xchem-fragalysis-2/maxwin/RdRp_FFF/syndirella/feb_elabs/elabs_20/ZTHISXNUAOFTJB-UHFFFAOYSA-N/output/ZTHISXNUAOFTJB-UHFFFAOYSA-N-iS4m2Q-1672-B/ZTHISXNUAOFTJB-UHFFFAOYSA-N-iS4m2Q-1672-B.minimised.mol',\n",
       " 72247: '/opt/xchem-fragalysis-2/maxwin/RdRp_FFF/syndirella/feb_elabs/elabs_20/ZTHISXNUAOFTJB-UHFFFAOYSA-N/output/ZTHISXNUAOFTJB-UHFFFAOYSA-N-iS4m2Q-1674-A/ZTHISXNUAOFTJB-UHFFFAOYSA-N-iS4m2Q-1674-A.minimised.mol',\n",
       " 72248: '/opt/xchem-fragalysis-2/maxwin/RdRp_FFF/syndirella/feb_elabs/elabs_20/ZTHISXNUAOFTJB-UHFFFAOYSA-N/output/ZTHISXNUAOFTJB-UHFFFAOYSA-N-iS4m2Q-1675-A/ZTHISXNUAOFTJB-UHFFFAOYSA-N-iS4m2Q-1675-A.minimised.mol',\n",
       " 72253: '/opt/xchem-fragalysis-2/maxwin/RdRp_FFF/syndirella/feb_elabs/elabs_20/ZTHISXNUAOFTJB-UHFFFAOYSA-N/output/ZTHISXNUAOFTJB-UHFFFAOYSA-N-iS4m2Q-1682-D/ZTHISXNUAOFTJB-UHFFFAOYSA-N-iS4m2Q-1682-D.minimised.mol',\n",
       " 72255: '/opt/xchem-fragalysis-2/maxwin/RdRp_FFF/syndirella/feb_elabs/elabs_20/ZTHISXNUAOFTJB-UHFFFAOYSA-N/output/ZTHISXNUAOFTJB-UHFFFAOYSA-N-iS4m2Q-1685-C/ZTHISXNUAOFTJB-UHFFFAOYSA-N-iS4m2Q-1685-C.minimised.mol',\n",
       " 72257: '/opt/xchem-fragalysis-2/maxwin/RdRp_FFF/syndirella/feb_elabs/elabs_20/ZTHISXNUAOFTJB-UHFFFAOYSA-N/output/ZTHISXNUAOFTJB-UHFFFAOYSA-N-iS4m2Q-1687-B/ZTHISXNUAOFTJB-UHFFFAOYSA-N-iS4m2Q-1687-B.minimised.mol',\n",
       " 72268: '/opt/xchem-fragalysis-2/maxwin/RdRp_FFF/syndirella/feb_elabs/elabs_20/ZTHISXNUAOFTJB-UHFFFAOYSA-N/output/ZTHISXNUAOFTJB-UHFFFAOYSA-N-iS4m2Q-1699-B/ZTHISXNUAOFTJB-UHFFFAOYSA-N-iS4m2Q-1699-B.minimised.mol',\n",
       " 72271: '/opt/xchem-fragalysis-2/maxwin/RdRp_FFF/syndirella/feb_elabs/elabs_20/ZTHISXNUAOFTJB-UHFFFAOYSA-N/output/ZTHISXNUAOFTJB-UHFFFAOYSA-N-iS4m2Q-1702-B/ZTHISXNUAOFTJB-UHFFFAOYSA-N-iS4m2Q-1702-B.minimised.mol',\n",
       " 72272: '/opt/xchem-fragalysis-2/maxwin/RdRp_FFF/syndirella/feb_elabs/elabs_20/ZTHISXNUAOFTJB-UHFFFAOYSA-N/output/ZTHISXNUAOFTJB-UHFFFAOYSA-N-iS4m2Q-1703-B/ZTHISXNUAOFTJB-UHFFFAOYSA-N-iS4m2Q-1703-B.minimised.mol',\n",
       " 72273: '/opt/xchem-fragalysis-2/maxwin/RdRp_FFF/syndirella/feb_elabs/elabs_20/ZTHISXNUAOFTJB-UHFFFAOYSA-N/output/ZTHISXNUAOFTJB-UHFFFAOYSA-N-iS4m2Q-1704-B/ZTHISXNUAOFTJB-UHFFFAOYSA-N-iS4m2Q-1704-B.minimised.mol',\n",
       " 72276: '/opt/xchem-fragalysis-2/maxwin/RdRp_FFF/syndirella/feb_elabs/elabs_20/ZTHISXNUAOFTJB-UHFFFAOYSA-N/output/ZTHISXNUAOFTJB-UHFFFAOYSA-N-iS4m2Q-1726-C/ZTHISXNUAOFTJB-UHFFFAOYSA-N-iS4m2Q-1726-C.minimised.mol',\n",
       " 72278: '/opt/xchem-fragalysis-2/maxwin/RdRp_FFF/syndirella/feb_elabs/elabs_20/ZTHISXNUAOFTJB-UHFFFAOYSA-N/output/ZTHISXNUAOFTJB-UHFFFAOYSA-N-iS4m2Q-1737-B/ZTHISXNUAOFTJB-UHFFFAOYSA-N-iS4m2Q-1737-B.minimised.mol',\n",
       " 72279: '/opt/xchem-fragalysis-2/maxwin/RdRp_FFF/syndirella/feb_elabs/elabs_20/ZTHISXNUAOFTJB-UHFFFAOYSA-N/output/ZTHISXNUAOFTJB-UHFFFAOYSA-N-iS4m2Q-1738-B/ZTHISXNUAOFTJB-UHFFFAOYSA-N-iS4m2Q-1738-B.minimised.mol',\n",
       " 72280: '/opt/xchem-fragalysis-2/maxwin/RdRp_FFF/syndirella/feb_elabs/elabs_20/ZTHISXNUAOFTJB-UHFFFAOYSA-N/output/ZTHISXNUAOFTJB-UHFFFAOYSA-N-iS4m2Q-1739-A/ZTHISXNUAOFTJB-UHFFFAOYSA-N-iS4m2Q-1739-A.minimised.mol',\n",
       " 72281: '/opt/xchem-fragalysis-2/maxwin/RdRp_FFF/syndirella/feb_elabs/elabs_20/ZTHISXNUAOFTJB-UHFFFAOYSA-N/output/ZTHISXNUAOFTJB-UHFFFAOYSA-N-iS4m2Q-1740-A/ZTHISXNUAOFTJB-UHFFFAOYSA-N-iS4m2Q-1740-A.minimised.mol',\n",
       " 72282: '/opt/xchem-fragalysis-2/maxwin/RdRp_FFF/syndirella/feb_elabs/elabs_20/ZTHISXNUAOFTJB-UHFFFAOYSA-N/output/ZTHISXNUAOFTJB-UHFFFAOYSA-N-iS4m2Q-1741-F/ZTHISXNUAOFTJB-UHFFFAOYSA-N-iS4m2Q-1741-F.minimised.mol',\n",
       " 72283: '/opt/xchem-fragalysis-2/maxwin/RdRp_FFF/syndirella/feb_elabs/elabs_20/ZTHISXNUAOFTJB-UHFFFAOYSA-N/output/ZTHISXNUAOFTJB-UHFFFAOYSA-N-iS4m2Q-1743-G/ZTHISXNUAOFTJB-UHFFFAOYSA-N-iS4m2Q-1743-G.minimised.mol',\n",
       " 72286: '/opt/xchem-fragalysis-2/maxwin/RdRp_FFF/syndirella/feb_elabs/elabs_20/ZTHISXNUAOFTJB-UHFFFAOYSA-N/output/ZTHISXNUAOFTJB-UHFFFAOYSA-N-iS4m2Q-1746-F/ZTHISXNUAOFTJB-UHFFFAOYSA-N-iS4m2Q-1746-F.minimised.mol',\n",
       " 72288: '/opt/xchem-fragalysis-2/maxwin/RdRp_FFF/syndirella/feb_elabs/elabs_20/ZTHISXNUAOFTJB-UHFFFAOYSA-N/output/ZTHISXNUAOFTJB-UHFFFAOYSA-N-iS4m2Q-1748-F/ZTHISXNUAOFTJB-UHFFFAOYSA-N-iS4m2Q-1748-F.minimised.mol',\n",
       " 72289: '/opt/xchem-fragalysis-2/maxwin/RdRp_FFF/syndirella/feb_elabs/elabs_20/ZTHISXNUAOFTJB-UHFFFAOYSA-N/output/ZTHISXNUAOFTJB-UHFFFAOYSA-N-iS4m2Q-1749-A/ZTHISXNUAOFTJB-UHFFFAOYSA-N-iS4m2Q-1749-A.minimised.mol',\n",
       " 72297: '/opt/xchem-fragalysis-2/maxwin/RdRp_FFF/syndirella/feb_elabs/elabs_20/ZTHISXNUAOFTJB-UHFFFAOYSA-N/output/ZTHISXNUAOFTJB-UHFFFAOYSA-N-iS4m2Q-1759-F/ZTHISXNUAOFTJB-UHFFFAOYSA-N-iS4m2Q-1759-F.minimised.mol',\n",
       " 72298: '/opt/xchem-fragalysis-2/maxwin/RdRp_FFF/syndirella/feb_elabs/elabs_20/ZTHISXNUAOFTJB-UHFFFAOYSA-N/output/ZTHISXNUAOFTJB-UHFFFAOYSA-N-iS4m2Q-1760-H/ZTHISXNUAOFTJB-UHFFFAOYSA-N-iS4m2Q-1760-H.minimised.mol',\n",
       " 72299: '/opt/xchem-fragalysis-2/maxwin/RdRp_FFF/syndirella/feb_elabs/elabs_20/ZTHISXNUAOFTJB-UHFFFAOYSA-N/output/ZTHISXNUAOFTJB-UHFFFAOYSA-N-iS4m2Q-1761-F/ZTHISXNUAOFTJB-UHFFFAOYSA-N-iS4m2Q-1761-F.minimised.mol',\n",
       " 72300: '/opt/xchem-fragalysis-2/maxwin/RdRp_FFF/syndirella/feb_elabs/elabs_20/ZTHISXNUAOFTJB-UHFFFAOYSA-N/output/ZTHISXNUAOFTJB-UHFFFAOYSA-N-iS4m2Q-1762-F/ZTHISXNUAOFTJB-UHFFFAOYSA-N-iS4m2Q-1762-F.minimised.mol',\n",
       " 72301: '/opt/xchem-fragalysis-2/maxwin/RdRp_FFF/syndirella/feb_elabs/elabs_20/ZTHISXNUAOFTJB-UHFFFAOYSA-N/output/ZTHISXNUAOFTJB-UHFFFAOYSA-N-iS4m2Q-1763-G/ZTHISXNUAOFTJB-UHFFFAOYSA-N-iS4m2Q-1763-G.minimised.mol',\n",
       " 72304: '/opt/xchem-fragalysis-2/maxwin/RdRp_FFF/syndirella/feb_elabs/elabs_20/ZTHISXNUAOFTJB-UHFFFAOYSA-N/output/ZTHISXNUAOFTJB-UHFFFAOYSA-N-iS4m2Q-1766-D/ZTHISXNUAOFTJB-UHFFFAOYSA-N-iS4m2Q-1766-D.minimised.mol',\n",
       " 72305: '/opt/xchem-fragalysis-2/maxwin/RdRp_FFF/syndirella/feb_elabs/elabs_20/ZTHISXNUAOFTJB-UHFFFAOYSA-N/output/ZTHISXNUAOFTJB-UHFFFAOYSA-N-iS4m2Q-1768-A/ZTHISXNUAOFTJB-UHFFFAOYSA-N-iS4m2Q-1768-A.minimised.mol',\n",
       " 72308: '/opt/xchem-fragalysis-2/maxwin/RdRp_FFF/syndirella/feb_elabs/elabs_20/ZTHISXNUAOFTJB-UHFFFAOYSA-N/output/ZTHISXNUAOFTJB-UHFFFAOYSA-N-iS4m2Q-1771-A/ZTHISXNUAOFTJB-UHFFFAOYSA-N-iS4m2Q-1771-A.minimised.mol',\n",
       " 72309: '/opt/xchem-fragalysis-2/maxwin/RdRp_FFF/syndirella/feb_elabs/elabs_20/ZTHISXNUAOFTJB-UHFFFAOYSA-N/output/ZTHISXNUAOFTJB-UHFFFAOYSA-N-iS4m2Q-1772-B/ZTHISXNUAOFTJB-UHFFFAOYSA-N-iS4m2Q-1772-B.minimised.mol',\n",
       " 72310: '/opt/xchem-fragalysis-2/maxwin/RdRp_FFF/syndirella/feb_elabs/elabs_20/ZTHISXNUAOFTJB-UHFFFAOYSA-N/output/ZTHISXNUAOFTJB-UHFFFAOYSA-N-iS4m2Q-1773-A/ZTHISXNUAOFTJB-UHFFFAOYSA-N-iS4m2Q-1773-A.minimised.mol',\n",
       " 72311: '/opt/xchem-fragalysis-2/maxwin/RdRp_FFF/syndirella/feb_elabs/elabs_20/ZTHISXNUAOFTJB-UHFFFAOYSA-N/output/ZTHISXNUAOFTJB-UHFFFAOYSA-N-iS4m2Q-1774-A/ZTHISXNUAOFTJB-UHFFFAOYSA-N-iS4m2Q-1774-A.minimised.mol',\n",
       " 72316: '/opt/xchem-fragalysis-2/maxwin/RdRp_FFF/syndirella/feb_elabs/elabs_20/ZTHISXNUAOFTJB-UHFFFAOYSA-N/output/ZTHISXNUAOFTJB-UHFFFAOYSA-N-iS4m2Q-1779-B/ZTHISXNUAOFTJB-UHFFFAOYSA-N-iS4m2Q-1779-B.minimised.mol',\n",
       " 72319: '/opt/xchem-fragalysis-2/maxwin/RdRp_FFF/syndirella/feb_elabs/elabs_20/ZTHISXNUAOFTJB-UHFFFAOYSA-N/output/ZTHISXNUAOFTJB-UHFFFAOYSA-N-iS4m2Q-1782-B/ZTHISXNUAOFTJB-UHFFFAOYSA-N-iS4m2Q-1782-B.minimised.mol',\n",
       " 72320: '/opt/xchem-fragalysis-2/maxwin/RdRp_FFF/syndirella/feb_elabs/elabs_20/ZTHISXNUAOFTJB-UHFFFAOYSA-N/output/ZTHISXNUAOFTJB-UHFFFAOYSA-N-iS4m2Q-1783-B/ZTHISXNUAOFTJB-UHFFFAOYSA-N-iS4m2Q-1783-B.minimised.mol',\n",
       " 72322: '/opt/xchem-fragalysis-2/maxwin/RdRp_FFF/syndirella/feb_elabs/elabs_20/ZTHISXNUAOFTJB-UHFFFAOYSA-N/output/ZTHISXNUAOFTJB-UHFFFAOYSA-N-iS4m2Q-1785-A/ZTHISXNUAOFTJB-UHFFFAOYSA-N-iS4m2Q-1785-A.minimised.mol',\n",
       " 72323: '/opt/xchem-fragalysis-2/maxwin/RdRp_FFF/syndirella/feb_elabs/elabs_20/ZTHISXNUAOFTJB-UHFFFAOYSA-N/output/ZTHISXNUAOFTJB-UHFFFAOYSA-N-iS4m2Q-1786-B/ZTHISXNUAOFTJB-UHFFFAOYSA-N-iS4m2Q-1786-B.minimised.mol',\n",
       " 72324: '/opt/xchem-fragalysis-2/maxwin/RdRp_FFF/syndirella/feb_elabs/elabs_20/ZTHISXNUAOFTJB-UHFFFAOYSA-N/output/ZTHISXNUAOFTJB-UHFFFAOYSA-N-iS4m2Q-1787-A/ZTHISXNUAOFTJB-UHFFFAOYSA-N-iS4m2Q-1787-A.minimised.mol',\n",
       " 72326: '/opt/xchem-fragalysis-2/maxwin/RdRp_FFF/syndirella/feb_elabs/elabs_20/ZTHISXNUAOFTJB-UHFFFAOYSA-N/output/ZTHISXNUAOFTJB-UHFFFAOYSA-N-iS4m2Q-1792-D/ZTHISXNUAOFTJB-UHFFFAOYSA-N-iS4m2Q-1792-D.minimised.mol',\n",
       " 72327: '/opt/xchem-fragalysis-2/maxwin/RdRp_FFF/syndirella/feb_elabs/elabs_20/ZTHISXNUAOFTJB-UHFFFAOYSA-N/output/ZTHISXNUAOFTJB-UHFFFAOYSA-N-iS4m2Q-1796-A/ZTHISXNUAOFTJB-UHFFFAOYSA-N-iS4m2Q-1796-A.minimised.mol',\n",
       " 72328: '/opt/xchem-fragalysis-2/maxwin/RdRp_FFF/syndirella/feb_elabs/elabs_20/ZTHISXNUAOFTJB-UHFFFAOYSA-N/output/ZTHISXNUAOFTJB-UHFFFAOYSA-N-iS4m2Q-1798-A/ZTHISXNUAOFTJB-UHFFFAOYSA-N-iS4m2Q-1798-A.minimised.mol',\n",
       " 72329: '/opt/xchem-fragalysis-2/maxwin/RdRp_FFF/syndirella/feb_elabs/elabs_20/ZTHISXNUAOFTJB-UHFFFAOYSA-N/output/ZTHISXNUAOFTJB-UHFFFAOYSA-N-iS4m2Q-1799-A/ZTHISXNUAOFTJB-UHFFFAOYSA-N-iS4m2Q-1799-A.minimised.mol',\n",
       " 72331: '/opt/xchem-fragalysis-2/maxwin/RdRp_FFF/syndirella/feb_elabs/elabs_20/ZTHISXNUAOFTJB-UHFFFAOYSA-N/output/ZTHISXNUAOFTJB-UHFFFAOYSA-N-iS4m2Q-1801-B/ZTHISXNUAOFTJB-UHFFFAOYSA-N-iS4m2Q-1801-B.minimised.mol',\n",
       " 72339: '/opt/xchem-fragalysis-2/maxwin/RdRp_FFF/syndirella/feb_elabs/elabs_20/ZTHISXNUAOFTJB-UHFFFAOYSA-N/output/ZTHISXNUAOFTJB-UHFFFAOYSA-N-iS4m2Q-1811-A/ZTHISXNUAOFTJB-UHFFFAOYSA-N-iS4m2Q-1811-A.minimised.mol',\n",
       " 72342: '/opt/xchem-fragalysis-2/maxwin/RdRp_FFF/syndirella/feb_elabs/elabs_20/ZTHISXNUAOFTJB-UHFFFAOYSA-N/output/ZTHISXNUAOFTJB-UHFFFAOYSA-N-iS4m2Q-1820-A/ZTHISXNUAOFTJB-UHFFFAOYSA-N-iS4m2Q-1820-A.minimised.mol',\n",
       " 72346: '/opt/xchem-fragalysis-2/maxwin/RdRp_FFF/syndirella/feb_elabs/elabs_20/ZTHISXNUAOFTJB-UHFFFAOYSA-N/output/ZTHISXNUAOFTJB-UHFFFAOYSA-N-iS4m2Q-1826-A/ZTHISXNUAOFTJB-UHFFFAOYSA-N-iS4m2Q-1826-A.minimised.mol',\n",
       " 72348: '/opt/xchem-fragalysis-2/maxwin/RdRp_FFF/syndirella/feb_elabs/elabs_20/ZTHISXNUAOFTJB-UHFFFAOYSA-N/output/ZTHISXNUAOFTJB-UHFFFAOYSA-N-iS4m2Q-1828-D/ZTHISXNUAOFTJB-UHFFFAOYSA-N-iS4m2Q-1828-D.minimised.mol',\n",
       " 72351: '/opt/xchem-fragalysis-2/maxwin/RdRp_FFF/syndirella/feb_elabs/elabs_20/ZTHISXNUAOFTJB-UHFFFAOYSA-N/output/ZTHISXNUAOFTJB-UHFFFAOYSA-N-iS4m2Q-1831-D/ZTHISXNUAOFTJB-UHFFFAOYSA-N-iS4m2Q-1831-D.minimised.mol',\n",
       " 72354: '/opt/xchem-fragalysis-2/maxwin/RdRp_FFF/syndirella/feb_elabs/elabs_20/ZTHISXNUAOFTJB-UHFFFAOYSA-N/output/ZTHISXNUAOFTJB-UHFFFAOYSA-N-iS4m2Q-1836-B/ZTHISXNUAOFTJB-UHFFFAOYSA-N-iS4m2Q-1836-B.minimised.mol',\n",
       " 72355: '/opt/xchem-fragalysis-2/maxwin/RdRp_FFF/syndirella/feb_elabs/elabs_20/ZTHISXNUAOFTJB-UHFFFAOYSA-N/output/ZTHISXNUAOFTJB-UHFFFAOYSA-N-iS4m2Q-1837-B/ZTHISXNUAOFTJB-UHFFFAOYSA-N-iS4m2Q-1837-B.minimised.mol',\n",
       " 72356: '/opt/xchem-fragalysis-2/maxwin/RdRp_FFF/syndirella/feb_elabs/elabs_20/ZTHISXNUAOFTJB-UHFFFAOYSA-N/output/ZTHISXNUAOFTJB-UHFFFAOYSA-N-iS4m2Q-1838-B/ZTHISXNUAOFTJB-UHFFFAOYSA-N-iS4m2Q-1838-B.minimised.mol',\n",
       " 72358: '/opt/xchem-fragalysis-2/maxwin/RdRp_FFF/syndirella/feb_elabs/elabs_20/ZTHISXNUAOFTJB-UHFFFAOYSA-N/output/ZTHISXNUAOFTJB-UHFFFAOYSA-N-iS4m2Q-1849-A/ZTHISXNUAOFTJB-UHFFFAOYSA-N-iS4m2Q-1849-A.minimised.mol',\n",
       " 72359: '/opt/xchem-fragalysis-2/maxwin/RdRp_FFF/syndirella/feb_elabs/elabs_20/ZTHISXNUAOFTJB-UHFFFAOYSA-N/output/ZTHISXNUAOFTJB-UHFFFAOYSA-N-iS4m2Q-1851-A/ZTHISXNUAOFTJB-UHFFFAOYSA-N-iS4m2Q-1851-A.minimised.mol',\n",
       " 72360: '/opt/xchem-fragalysis-2/maxwin/RdRp_FFF/syndirella/feb_elabs/elabs_20/ZTHISXNUAOFTJB-UHFFFAOYSA-N/output/ZTHISXNUAOFTJB-UHFFFAOYSA-N-iS4m2Q-1852-N/ZTHISXNUAOFTJB-UHFFFAOYSA-N-iS4m2Q-1852-N.minimised.mol',\n",
       " 72362: '/opt/xchem-fragalysis-2/maxwin/RdRp_FFF/syndirella/feb_elabs/elabs_20/ZTHISXNUAOFTJB-UHFFFAOYSA-N/output/ZTHISXNUAOFTJB-UHFFFAOYSA-N-iS4m2Q-1854-C/ZTHISXNUAOFTJB-UHFFFAOYSA-N-iS4m2Q-1854-C.minimised.mol',\n",
       " 72363: '/opt/xchem-fragalysis-2/maxwin/RdRp_FFF/syndirella/feb_elabs/elabs_20/ZTHISXNUAOFTJB-UHFFFAOYSA-N/output/ZTHISXNUAOFTJB-UHFFFAOYSA-N-iS4m2Q-1855-D/ZTHISXNUAOFTJB-UHFFFAOYSA-N-iS4m2Q-1855-D.minimised.mol',\n",
       " 72364: '/opt/xchem-fragalysis-2/maxwin/RdRp_FFF/syndirella/feb_elabs/elabs_20/ZTHISXNUAOFTJB-UHFFFAOYSA-N/output/ZTHISXNUAOFTJB-UHFFFAOYSA-N-iS4m2Q-1856-C/ZTHISXNUAOFTJB-UHFFFAOYSA-N-iS4m2Q-1856-C.minimised.mol',\n",
       " 72365: '/opt/xchem-fragalysis-2/maxwin/RdRp_FFF/syndirella/feb_elabs/elabs_20/ZTHISXNUAOFTJB-UHFFFAOYSA-N/output/ZTHISXNUAOFTJB-UHFFFAOYSA-N-iS4m2Q-1857-N/ZTHISXNUAOFTJB-UHFFFAOYSA-N-iS4m2Q-1857-N.minimised.mol',\n",
       " 72366: '/opt/xchem-fragalysis-2/maxwin/RdRp_FFF/syndirella/feb_elabs/elabs_20/ZTHISXNUAOFTJB-UHFFFAOYSA-N/output/ZTHISXNUAOFTJB-UHFFFAOYSA-N-iS4m2Q-1858-B/ZTHISXNUAOFTJB-UHFFFAOYSA-N-iS4m2Q-1858-B.minimised.mol',\n",
       " 72367: '/opt/xchem-fragalysis-2/maxwin/RdRp_FFF/syndirella/feb_elabs/elabs_20/ZTHISXNUAOFTJB-UHFFFAOYSA-N/output/ZTHISXNUAOFTJB-UHFFFAOYSA-N-iS4m2Q-1859-B/ZTHISXNUAOFTJB-UHFFFAOYSA-N-iS4m2Q-1859-B.minimised.mol',\n",
       " 72368: '/opt/xchem-fragalysis-2/maxwin/RdRp_FFF/syndirella/feb_elabs/elabs_20/ZTHISXNUAOFTJB-UHFFFAOYSA-N/output/ZTHISXNUAOFTJB-UHFFFAOYSA-N-iS4m2Q-1860-P/ZTHISXNUAOFTJB-UHFFFAOYSA-N-iS4m2Q-1860-P.minimised.mol',\n",
       " 72369: '/opt/xchem-fragalysis-2/maxwin/RdRp_FFF/syndirella/feb_elabs/elabs_20/ZTHISXNUAOFTJB-UHFFFAOYSA-N/output/ZTHISXNUAOFTJB-UHFFFAOYSA-N-iS4m2Q-1861-A/ZTHISXNUAOFTJB-UHFFFAOYSA-N-iS4m2Q-1861-A.minimised.mol',\n",
       " 72370: '/opt/xchem-fragalysis-2/maxwin/RdRp_FFF/syndirella/feb_elabs/elabs_20/ZTHISXNUAOFTJB-UHFFFAOYSA-N/output/ZTHISXNUAOFTJB-UHFFFAOYSA-N-iS4m2Q-1862-O/ZTHISXNUAOFTJB-UHFFFAOYSA-N-iS4m2Q-1862-O.minimised.mol',\n",
       " 72375: '/opt/xchem-fragalysis-2/maxwin/RdRp_FFF/syndirella/feb_elabs/elabs_20/ZTHISXNUAOFTJB-UHFFFAOYSA-N/output/ZTHISXNUAOFTJB-UHFFFAOYSA-N-iS4m2Q-1869-A/ZTHISXNUAOFTJB-UHFFFAOYSA-N-iS4m2Q-1869-A.minimised.mol',\n",
       " 72378: '/opt/xchem-fragalysis-2/maxwin/RdRp_FFF/syndirella/feb_elabs/elabs_20/ZTHISXNUAOFTJB-UHFFFAOYSA-N/output/ZTHISXNUAOFTJB-UHFFFAOYSA-N-iS4m2Q-1872-D/ZTHISXNUAOFTJB-UHFFFAOYSA-N-iS4m2Q-1872-D.minimised.mol',\n",
       " 72380: '/opt/xchem-fragalysis-2/maxwin/RdRp_FFF/syndirella/feb_elabs/elabs_20/ZTHISXNUAOFTJB-UHFFFAOYSA-N/output/ZTHISXNUAOFTJB-UHFFFAOYSA-N-iS4m2Q-1874-C/ZTHISXNUAOFTJB-UHFFFAOYSA-N-iS4m2Q-1874-C.minimised.mol',\n",
       " 72381: '/opt/xchem-fragalysis-2/maxwin/RdRp_FFF/syndirella/feb_elabs/elabs_20/ZTHISXNUAOFTJB-UHFFFAOYSA-N/output/ZTHISXNUAOFTJB-UHFFFAOYSA-N-iS4m2Q-1875-E/ZTHISXNUAOFTJB-UHFFFAOYSA-N-iS4m2Q-1875-E.minimised.mol',\n",
       " 72388: '/opt/xchem-fragalysis-2/maxwin/RdRp_FFF/syndirella/feb_elabs/elabs_20/ZTHISXNUAOFTJB-UHFFFAOYSA-N/output/ZTHISXNUAOFTJB-UHFFFAOYSA-N-iS4m2Q-1883-C/ZTHISXNUAOFTJB-UHFFFAOYSA-N-iS4m2Q-1883-C.minimised.mol',\n",
       " 72390: '/opt/xchem-fragalysis-2/maxwin/RdRp_FFF/syndirella/feb_elabs/elabs_20/ZTHISXNUAOFTJB-UHFFFAOYSA-N/output/ZTHISXNUAOFTJB-UHFFFAOYSA-N-iS4m2Q-1885-A/ZTHISXNUAOFTJB-UHFFFAOYSA-N-iS4m2Q-1885-A.minimised.mol',\n",
       " 72391: '/opt/xchem-fragalysis-2/maxwin/RdRp_FFF/syndirella/feb_elabs/elabs_20/ZTHISXNUAOFTJB-UHFFFAOYSA-N/output/ZTHISXNUAOFTJB-UHFFFAOYSA-N-iS4m2Q-1886-C/ZTHISXNUAOFTJB-UHFFFAOYSA-N-iS4m2Q-1886-C.minimised.mol',\n",
       " 72392: '/opt/xchem-fragalysis-2/maxwin/RdRp_FFF/syndirella/feb_elabs/elabs_20/ZTHISXNUAOFTJB-UHFFFAOYSA-N/output/ZTHISXNUAOFTJB-UHFFFAOYSA-N-iS4m2Q-1887-A/ZTHISXNUAOFTJB-UHFFFAOYSA-N-iS4m2Q-1887-A.minimised.mol',\n",
       " 72412: '/opt/xchem-fragalysis-2/maxwin/RdRp_FFF/syndirella/feb_elabs/elabs_20/ZTHISXNUAOFTJB-UHFFFAOYSA-N/output/ZTHISXNUAOFTJB-UHFFFAOYSA-N-iS4m2Q-1910-L/ZTHISXNUAOFTJB-UHFFFAOYSA-N-iS4m2Q-1910-L.minimised.mol',\n",
       " 72414: '/opt/xchem-fragalysis-2/maxwin/RdRp_FFF/syndirella/feb_elabs/elabs_20/ZTHISXNUAOFTJB-UHFFFAOYSA-N/output/ZTHISXNUAOFTJB-UHFFFAOYSA-N-iS4m2Q-1912-M/ZTHISXNUAOFTJB-UHFFFAOYSA-N-iS4m2Q-1912-M.minimised.mol',\n",
       " 72417: '/opt/xchem-fragalysis-2/maxwin/RdRp_FFF/syndirella/feb_elabs/elabs_20/ZTHISXNUAOFTJB-UHFFFAOYSA-N/output/ZTHISXNUAOFTJB-UHFFFAOYSA-N-iS4m2Q-1915-K/ZTHISXNUAOFTJB-UHFFFAOYSA-N-iS4m2Q-1915-K.minimised.mol',\n",
       " 72420: '/opt/xchem-fragalysis-2/maxwin/RdRp_FFF/syndirella/feb_elabs/elabs_20/ZTHISXNUAOFTJB-UHFFFAOYSA-N/output/ZTHISXNUAOFTJB-UHFFFAOYSA-N-iS4m2Q-1918-L/ZTHISXNUAOFTJB-UHFFFAOYSA-N-iS4m2Q-1918-L.minimised.mol',\n",
       " 72421: '/opt/xchem-fragalysis-2/maxwin/RdRp_FFF/syndirella/feb_elabs/elabs_20/ZTHISXNUAOFTJB-UHFFFAOYSA-N/output/ZTHISXNUAOFTJB-UHFFFAOYSA-N-iS4m2Q-1919-K/ZTHISXNUAOFTJB-UHFFFAOYSA-N-iS4m2Q-1919-K.minimised.mol',\n",
       " 72422: '/opt/xchem-fragalysis-2/maxwin/RdRp_FFF/syndirella/feb_elabs/elabs_20/ZTHISXNUAOFTJB-UHFFFAOYSA-N/output/ZTHISXNUAOFTJB-UHFFFAOYSA-N-iS4m2Q-1920-A/ZTHISXNUAOFTJB-UHFFFAOYSA-N-iS4m2Q-1920-A.minimised.mol',\n",
       " 72426: '/opt/xchem-fragalysis-2/maxwin/RdRp_FFF/syndirella/feb_elabs/elabs_20/ZTHISXNUAOFTJB-UHFFFAOYSA-N/output/ZTHISXNUAOFTJB-UHFFFAOYSA-N-iS4m2Q-1924-B/ZTHISXNUAOFTJB-UHFFFAOYSA-N-iS4m2Q-1924-B.minimised.mol',\n",
       " 72429: '/opt/xchem-fragalysis-2/maxwin/RdRp_FFF/syndirella/feb_elabs/elabs_20/ZTHISXNUAOFTJB-UHFFFAOYSA-N/output/ZTHISXNUAOFTJB-UHFFFAOYSA-N-iS4m2Q-1927-B/ZTHISXNUAOFTJB-UHFFFAOYSA-N-iS4m2Q-1927-B.minimised.mol',\n",
       " 72431: '/opt/xchem-fragalysis-2/maxwin/RdRp_FFF/syndirella/feb_elabs/elabs_20/ZTHISXNUAOFTJB-UHFFFAOYSA-N/output/ZTHISXNUAOFTJB-UHFFFAOYSA-N-iS4m2Q-1930-A/ZTHISXNUAOFTJB-UHFFFAOYSA-N-iS4m2Q-1930-A.minimised.mol',\n",
       " 72432: '/opt/xchem-fragalysis-2/maxwin/RdRp_FFF/syndirella/feb_elabs/elabs_20/ZTHISXNUAOFTJB-UHFFFAOYSA-N/output/ZTHISXNUAOFTJB-UHFFFAOYSA-N-iS4m2Q-1931-A/ZTHISXNUAOFTJB-UHFFFAOYSA-N-iS4m2Q-1931-A.minimised.mol',\n",
       " 72433: '/opt/xchem-fragalysis-2/maxwin/RdRp_FFF/syndirella/feb_elabs/elabs_20/ZTHISXNUAOFTJB-UHFFFAOYSA-N/output/ZTHISXNUAOFTJB-UHFFFAOYSA-N-iS4m2Q-1932-A/ZTHISXNUAOFTJB-UHFFFAOYSA-N-iS4m2Q-1932-A.minimised.mol',\n",
       " 70935: '/opt/xchem-fragalysis-2/maxwin/RdRp_FFF/syndirella/feb_elabs/elabs_81/KZGPDDSEMZONAM-UHFFFAOYSA-N/output/KZGPDDSEMZONAM-UHFFFAOYSA-N-YcRWwY-5-A/KZGPDDSEMZONAM-UHFFFAOYSA-N-YcRWwY-5-A.minimised.mol',\n",
       " 70937: '/opt/xchem-fragalysis-2/maxwin/RdRp_FFF/syndirella/feb_elabs/elabs_81/KZGPDDSEMZONAM-UHFFFAOYSA-N/output/KZGPDDSEMZONAM-UHFFFAOYSA-N-YcRWwY-7-C/KZGPDDSEMZONAM-UHFFFAOYSA-N-YcRWwY-7-C.minimised.mol',\n",
       " 70940: '/opt/xchem-fragalysis-2/maxwin/RdRp_FFF/syndirella/feb_elabs/elabs_81/KZGPDDSEMZONAM-UHFFFAOYSA-N/output/KZGPDDSEMZONAM-UHFFFAOYSA-N-YcRWwY-10-C/KZGPDDSEMZONAM-UHFFFAOYSA-N-YcRWwY-10-C.minimised.mol',\n",
       " 70943: '/opt/xchem-fragalysis-2/maxwin/RdRp_FFF/syndirella/feb_elabs/elabs_81/KZGPDDSEMZONAM-UHFFFAOYSA-N/output/KZGPDDSEMZONAM-UHFFFAOYSA-N-YcRWwY-13-A/KZGPDDSEMZONAM-UHFFFAOYSA-N-YcRWwY-13-A.minimised.mol',\n",
       " 70951: '/opt/xchem-fragalysis-2/maxwin/RdRp_FFF/syndirella/feb_elabs/elabs_81/KZGPDDSEMZONAM-UHFFFAOYSA-N/output/KZGPDDSEMZONAM-UHFFFAOYSA-N-YcRWwY-21-A/KZGPDDSEMZONAM-UHFFFAOYSA-N-YcRWwY-21-A.minimised.mol',\n",
       " 70953: '/opt/xchem-fragalysis-2/maxwin/RdRp_FFF/syndirella/feb_elabs/elabs_81/KZGPDDSEMZONAM-UHFFFAOYSA-N/output/KZGPDDSEMZONAM-UHFFFAOYSA-N-YcRWwY-23-B/KZGPDDSEMZONAM-UHFFFAOYSA-N-YcRWwY-23-B.minimised.mol',\n",
       " 70964: '/opt/xchem-fragalysis-2/maxwin/RdRp_FFF/syndirella/feb_elabs/elabs_81/KZGPDDSEMZONAM-UHFFFAOYSA-N/output/KZGPDDSEMZONAM-UHFFFAOYSA-N-YcRWwY-34-B/KZGPDDSEMZONAM-UHFFFAOYSA-N-YcRWwY-34-B.minimised.mol',\n",
       " 70971: '/opt/xchem-fragalysis-2/maxwin/RdRp_FFF/syndirella/feb_elabs/elabs_81/KZGPDDSEMZONAM-UHFFFAOYSA-N/output/KZGPDDSEMZONAM-UHFFFAOYSA-N-YcRWwY-41-A/KZGPDDSEMZONAM-UHFFFAOYSA-N-YcRWwY-41-A.minimised.mol',\n",
       " 70974: '/opt/xchem-fragalysis-2/maxwin/RdRp_FFF/syndirella/feb_elabs/elabs_81/KZGPDDSEMZONAM-UHFFFAOYSA-N/output/KZGPDDSEMZONAM-UHFFFAOYSA-N-YcRWwY-44-D/KZGPDDSEMZONAM-UHFFFAOYSA-N-YcRWwY-44-D.minimised.mol',\n",
       " 70979: '/opt/xchem-fragalysis-2/maxwin/RdRp_FFF/syndirella/feb_elabs/elabs_81/KZGPDDSEMZONAM-UHFFFAOYSA-N/output/KZGPDDSEMZONAM-UHFFFAOYSA-N-YcRWwY-54-C/KZGPDDSEMZONAM-UHFFFAOYSA-N-YcRWwY-54-C.minimised.mol',\n",
       " 70985: '/opt/xchem-fragalysis-2/maxwin/RdRp_FFF/syndirella/feb_elabs/elabs_81/KZGPDDSEMZONAM-UHFFFAOYSA-N/output/KZGPDDSEMZONAM-UHFFFAOYSA-N-YcRWwY-60-A/KZGPDDSEMZONAM-UHFFFAOYSA-N-YcRWwY-60-A.minimised.mol',\n",
       " 70988: '/opt/xchem-fragalysis-2/maxwin/RdRp_FFF/syndirella/feb_elabs/elabs_81/KZGPDDSEMZONAM-UHFFFAOYSA-N/output/KZGPDDSEMZONAM-UHFFFAOYSA-N-YcRWwY-63-A/KZGPDDSEMZONAM-UHFFFAOYSA-N-YcRWwY-63-A.minimised.mol',\n",
       " 70997: '/opt/xchem-fragalysis-2/maxwin/RdRp_FFF/syndirella/feb_elabs/elabs_81/KZGPDDSEMZONAM-UHFFFAOYSA-N/output/KZGPDDSEMZONAM-UHFFFAOYSA-N-YcRWwY-77-Q/KZGPDDSEMZONAM-UHFFFAOYSA-N-YcRWwY-77-Q.minimised.mol',\n",
       " 72543: '/opt/xchem-fragalysis-2/maxwin/RdRp_FFF/syndirella/mar_elabs/elabs_030/FRNXPLHZHRXKEC-UHFFFAOYSA-N/output/FRNXPLHZHRXKEC-UHFFFAOYSA-N-HyfKkM-106-D/FRNXPLHZHRXKEC-UHFFFAOYSA-N-HyfKkM-106-D.minimised.mol',\n",
       " 72545: '/opt/xchem-fragalysis-2/maxwin/RdRp_FFF/syndirella/mar_elabs/elabs_030/FRNXPLHZHRXKEC-UHFFFAOYSA-N/output/FRNXPLHZHRXKEC-UHFFFAOYSA-N-HyfKkM-114-D/FRNXPLHZHRXKEC-UHFFFAOYSA-N-HyfKkM-114-D.minimised.mol',\n",
       " 72547: '/opt/xchem-fragalysis-2/maxwin/RdRp_FFF/syndirella/mar_elabs/elabs_030/FRNXPLHZHRXKEC-UHFFFAOYSA-N/output/FRNXPLHZHRXKEC-UHFFFAOYSA-N-HyfKkM-120-D/FRNXPLHZHRXKEC-UHFFFAOYSA-N-HyfKkM-120-D.minimised.mol',\n",
       " 72555: '/opt/xchem-fragalysis-2/maxwin/RdRp_FFF/syndirella/mar_elabs/elabs_030/FRNXPLHZHRXKEC-UHFFFAOYSA-N/output/FRNXPLHZHRXKEC-UHFFFAOYSA-N-HyfKkM-140-A/FRNXPLHZHRXKEC-UHFFFAOYSA-N-HyfKkM-140-A.minimised.mol',\n",
       " 72558: '/opt/xchem-fragalysis-2/maxwin/RdRp_FFF/syndirella/mar_elabs/elabs_030/FRNXPLHZHRXKEC-UHFFFAOYSA-N/output/FRNXPLHZHRXKEC-UHFFFAOYSA-N-HyfKkM-144-B/FRNXPLHZHRXKEC-UHFFFAOYSA-N-HyfKkM-144-B.minimised.mol',\n",
       " 72560: '/opt/xchem-fragalysis-2/maxwin/RdRp_FFF/syndirella/mar_elabs/elabs_030/FRNXPLHZHRXKEC-UHFFFAOYSA-N/output/FRNXPLHZHRXKEC-UHFFFAOYSA-N-HyfKkM-147-D/FRNXPLHZHRXKEC-UHFFFAOYSA-N-HyfKkM-147-D.minimised.mol',\n",
       " 72576: '/opt/xchem-fragalysis-2/maxwin/RdRp_FFF/syndirella/mar_elabs/elabs_030/FRNXPLHZHRXKEC-UHFFFAOYSA-N/output/FRNXPLHZHRXKEC-UHFFFAOYSA-N-HyfKkM-165-B/FRNXPLHZHRXKEC-UHFFFAOYSA-N-HyfKkM-165-B.minimised.mol',\n",
       " 72583: '/opt/xchem-fragalysis-2/maxwin/RdRp_FFF/syndirella/mar_elabs/elabs_030/FRNXPLHZHRXKEC-UHFFFAOYSA-N/output/FRNXPLHZHRXKEC-UHFFFAOYSA-N-HyfKkM-175-A/FRNXPLHZHRXKEC-UHFFFAOYSA-N-HyfKkM-175-A.minimised.mol',\n",
       " 72585: '/opt/xchem-fragalysis-2/maxwin/RdRp_FFF/syndirella/mar_elabs/elabs_030/FRNXPLHZHRXKEC-UHFFFAOYSA-N/output/FRNXPLHZHRXKEC-UHFFFAOYSA-N-HyfKkM-177-A/FRNXPLHZHRXKEC-UHFFFAOYSA-N-HyfKkM-177-A.minimised.mol',\n",
       " 72588: '/opt/xchem-fragalysis-2/maxwin/RdRp_FFF/syndirella/mar_elabs/elabs_030/FRNXPLHZHRXKEC-UHFFFAOYSA-N/output/FRNXPLHZHRXKEC-UHFFFAOYSA-N-HyfKkM-206-A/FRNXPLHZHRXKEC-UHFFFAOYSA-N-HyfKkM-206-A.minimised.mol',\n",
       " 72593: '/opt/xchem-fragalysis-2/maxwin/RdRp_FFF/syndirella/mar_elabs/elabs_030/FRNXPLHZHRXKEC-UHFFFAOYSA-N/output/FRNXPLHZHRXKEC-UHFFFAOYSA-N-HyfKkM-212-D/FRNXPLHZHRXKEC-UHFFFAOYSA-N-HyfKkM-212-D.minimised.mol',\n",
       " 72603: '/opt/xchem-fragalysis-2/maxwin/RdRp_FFF/syndirella/mar_elabs/elabs_030/FRNXPLHZHRXKEC-UHFFFAOYSA-N/output/FRNXPLHZHRXKEC-UHFFFAOYSA-N-HyfKkM-227-B/FRNXPLHZHRXKEC-UHFFFAOYSA-N-HyfKkM-227-B.minimised.mol',\n",
       " 72606: '/opt/xchem-fragalysis-2/maxwin/RdRp_FFF/syndirella/mar_elabs/elabs_030/FRNXPLHZHRXKEC-UHFFFAOYSA-N/output/FRNXPLHZHRXKEC-UHFFFAOYSA-N-HyfKkM-247-D/FRNXPLHZHRXKEC-UHFFFAOYSA-N-HyfKkM-247-D.minimised.mol',\n",
       " 72607: '/opt/xchem-fragalysis-2/maxwin/RdRp_FFF/syndirella/mar_elabs/elabs_030/FRNXPLHZHRXKEC-UHFFFAOYSA-N/output/FRNXPLHZHRXKEC-UHFFFAOYSA-N-HyfKkM-250-A/FRNXPLHZHRXKEC-UHFFFAOYSA-N-HyfKkM-250-A.minimised.mol',\n",
       " 72613: '/opt/xchem-fragalysis-2/maxwin/RdRp_FFF/syndirella/mar_elabs/elabs_030/FRNXPLHZHRXKEC-UHFFFAOYSA-N/output/FRNXPLHZHRXKEC-UHFFFAOYSA-N-HyfKkM-320-A/FRNXPLHZHRXKEC-UHFFFAOYSA-N-HyfKkM-320-A.minimised.mol',\n",
       " 72614: '/opt/xchem-fragalysis-2/maxwin/RdRp_FFF/syndirella/mar_elabs/elabs_030/FRNXPLHZHRXKEC-UHFFFAOYSA-N/output/FRNXPLHZHRXKEC-UHFFFAOYSA-N-HyfKkM-321-B/FRNXPLHZHRXKEC-UHFFFAOYSA-N-HyfKkM-321-B.minimised.mol',\n",
       " 72621: '/opt/xchem-fragalysis-2/maxwin/RdRp_FFF/syndirella/mar_elabs/elabs_030/FRNXPLHZHRXKEC-UHFFFAOYSA-N/output/FRNXPLHZHRXKEC-UHFFFAOYSA-N-HyfKkM-331-A/FRNXPLHZHRXKEC-UHFFFAOYSA-N-HyfKkM-331-A.minimised.mol',\n",
       " 72624: '/opt/xchem-fragalysis-2/maxwin/RdRp_FFF/syndirella/mar_elabs/elabs_030/FRNXPLHZHRXKEC-UHFFFAOYSA-N/output/FRNXPLHZHRXKEC-UHFFFAOYSA-N-HyfKkM-335-B/FRNXPLHZHRXKEC-UHFFFAOYSA-N-HyfKkM-335-B.minimised.mol',\n",
       " 72626: '/opt/xchem-fragalysis-2/maxwin/RdRp_FFF/syndirella/mar_elabs/elabs_030/FRNXPLHZHRXKEC-UHFFFAOYSA-N/output/FRNXPLHZHRXKEC-UHFFFAOYSA-N-HyfKkM-337-A/FRNXPLHZHRXKEC-UHFFFAOYSA-N-HyfKkM-337-A.minimised.mol',\n",
       " 72632: '/opt/xchem-fragalysis-2/maxwin/RdRp_FFF/syndirella/mar_elabs/elabs_030/FRNXPLHZHRXKEC-UHFFFAOYSA-N/output/FRNXPLHZHRXKEC-UHFFFAOYSA-N-HyfKkM-343-A/FRNXPLHZHRXKEC-UHFFFAOYSA-N-HyfKkM-343-A.minimised.mol',\n",
       " 72643: '/opt/xchem-fragalysis-2/maxwin/RdRp_FFF/syndirella/mar_elabs/elabs_030/FRNXPLHZHRXKEC-UHFFFAOYSA-N/output/FRNXPLHZHRXKEC-UHFFFAOYSA-N-HyfKkM-360-B/FRNXPLHZHRXKEC-UHFFFAOYSA-N-HyfKkM-360-B.minimised.mol',\n",
       " 72651: '/opt/xchem-fragalysis-2/maxwin/RdRp_FFF/syndirella/mar_elabs/elabs_030/FRNXPLHZHRXKEC-UHFFFAOYSA-N/output/FRNXPLHZHRXKEC-UHFFFAOYSA-N-HyfKkM-369-A/FRNXPLHZHRXKEC-UHFFFAOYSA-N-HyfKkM-369-A.minimised.mol',\n",
       " 72662: '/opt/xchem-fragalysis-2/maxwin/RdRp_FFF/syndirella/mar_elabs/elabs_030/FRNXPLHZHRXKEC-UHFFFAOYSA-N/output/FRNXPLHZHRXKEC-UHFFFAOYSA-N-HyfKkM-385-A/FRNXPLHZHRXKEC-UHFFFAOYSA-N-HyfKkM-385-A.minimised.mol',\n",
       " 72665: '/opt/xchem-fragalysis-2/maxwin/RdRp_FFF/syndirella/mar_elabs/elabs_030/FRNXPLHZHRXKEC-UHFFFAOYSA-N/output/FRNXPLHZHRXKEC-UHFFFAOYSA-N-HyfKkM-392-B/FRNXPLHZHRXKEC-UHFFFAOYSA-N-HyfKkM-392-B.minimised.mol',\n",
       " 72676: '/opt/xchem-fragalysis-2/maxwin/RdRp_FFF/syndirella/mar_elabs/elabs_030/FRNXPLHZHRXKEC-UHFFFAOYSA-N/output/FRNXPLHZHRXKEC-UHFFFAOYSA-N-HyfKkM-403-A/FRNXPLHZHRXKEC-UHFFFAOYSA-N-HyfKkM-403-A.minimised.mol',\n",
       " 72691: '/opt/xchem-fragalysis-2/maxwin/RdRp_FFF/syndirella/mar_elabs/elabs_030/FRNXPLHZHRXKEC-UHFFFAOYSA-N/output/FRNXPLHZHRXKEC-UHFFFAOYSA-N-HyfKkM-418-A/FRNXPLHZHRXKEC-UHFFFAOYSA-N-HyfKkM-418-A.minimised.mol',\n",
       " 72693: '/opt/xchem-fragalysis-2/maxwin/RdRp_FFF/syndirella/mar_elabs/elabs_030/FRNXPLHZHRXKEC-UHFFFAOYSA-N/output/FRNXPLHZHRXKEC-UHFFFAOYSA-N-HyfKkM-420-A/FRNXPLHZHRXKEC-UHFFFAOYSA-N-HyfKkM-420-A.minimised.mol',\n",
       " 72699: '/opt/xchem-fragalysis-2/maxwin/RdRp_FFF/syndirella/mar_elabs/elabs_030/FRNXPLHZHRXKEC-UHFFFAOYSA-N/output/FRNXPLHZHRXKEC-UHFFFAOYSA-N-HyfKkM-426-C/FRNXPLHZHRXKEC-UHFFFAOYSA-N-HyfKkM-426-C.minimised.mol',\n",
       " 72702: '/opt/xchem-fragalysis-2/maxwin/RdRp_FFF/syndirella/mar_elabs/elabs_030/FRNXPLHZHRXKEC-UHFFFAOYSA-N/output/FRNXPLHZHRXKEC-UHFFFAOYSA-N-HyfKkM-429-D/FRNXPLHZHRXKEC-UHFFFAOYSA-N-HyfKkM-429-D.minimised.mol',\n",
       " 72706: '/opt/xchem-fragalysis-2/maxwin/RdRp_FFF/syndirella/mar_elabs/elabs_030/FRNXPLHZHRXKEC-UHFFFAOYSA-N/output/FRNXPLHZHRXKEC-UHFFFAOYSA-N-HyfKkM-433-A/FRNXPLHZHRXKEC-UHFFFAOYSA-N-HyfKkM-433-A.minimised.mol',\n",
       " 72714: '/opt/xchem-fragalysis-2/maxwin/RdRp_FFF/syndirella/mar_elabs/elabs_030/FRNXPLHZHRXKEC-UHFFFAOYSA-N/output/FRNXPLHZHRXKEC-UHFFFAOYSA-N-HyfKkM-441-B/FRNXPLHZHRXKEC-UHFFFAOYSA-N-HyfKkM-441-B.minimised.mol',\n",
       " 72717: '/opt/xchem-fragalysis-2/maxwin/RdRp_FFF/syndirella/mar_elabs/elabs_030/FRNXPLHZHRXKEC-UHFFFAOYSA-N/output/FRNXPLHZHRXKEC-UHFFFAOYSA-N-HyfKkM-444-B/FRNXPLHZHRXKEC-UHFFFAOYSA-N-HyfKkM-444-B.minimised.mol',\n",
       " 72721: '/opt/xchem-fragalysis-2/maxwin/RdRp_FFF/syndirella/mar_elabs/elabs_030/FRNXPLHZHRXKEC-UHFFFAOYSA-N/output/FRNXPLHZHRXKEC-UHFFFAOYSA-N-HyfKkM-448-A/FRNXPLHZHRXKEC-UHFFFAOYSA-N-HyfKkM-448-A.minimised.mol',\n",
       " 72728: '/opt/xchem-fragalysis-2/maxwin/RdRp_FFF/syndirella/mar_elabs/elabs_030/FRNXPLHZHRXKEC-UHFFFAOYSA-N/output/FRNXPLHZHRXKEC-UHFFFAOYSA-N-HyfKkM-455-C/FRNXPLHZHRXKEC-UHFFFAOYSA-N-HyfKkM-455-C.minimised.mol',\n",
       " 72731: '/opt/xchem-fragalysis-2/maxwin/RdRp_FFF/syndirella/mar_elabs/elabs_030/FRNXPLHZHRXKEC-UHFFFAOYSA-N/output/FRNXPLHZHRXKEC-UHFFFAOYSA-N-HyfKkM-458-B/FRNXPLHZHRXKEC-UHFFFAOYSA-N-HyfKkM-458-B.minimised.mol',\n",
       " 72747: '/opt/xchem-fragalysis-2/maxwin/RdRp_FFF/syndirella/mar_elabs/elabs_030/FRNXPLHZHRXKEC-UHFFFAOYSA-N/output/FRNXPLHZHRXKEC-UHFFFAOYSA-N-HyfKkM-474-A/FRNXPLHZHRXKEC-UHFFFAOYSA-N-HyfKkM-474-A.minimised.mol',\n",
       " 72763: '/opt/xchem-fragalysis-2/maxwin/RdRp_FFF/syndirella/mar_elabs/elabs_030/FRNXPLHZHRXKEC-UHFFFAOYSA-N/output/FRNXPLHZHRXKEC-UHFFFAOYSA-N-HyfKkM-498-A/FRNXPLHZHRXKEC-UHFFFAOYSA-N-HyfKkM-498-A.minimised.mol',\n",
       " 72764: '/opt/xchem-fragalysis-2/maxwin/RdRp_FFF/syndirella/mar_elabs/elabs_030/FRNXPLHZHRXKEC-UHFFFAOYSA-N/output/FRNXPLHZHRXKEC-UHFFFAOYSA-N-HyfKkM-500-A/FRNXPLHZHRXKEC-UHFFFAOYSA-N-HyfKkM-500-A.minimised.mol',\n",
       " 72766: '/opt/xchem-fragalysis-2/maxwin/RdRp_FFF/syndirella/mar_elabs/elabs_030/FRNXPLHZHRXKEC-UHFFFAOYSA-N/output/FRNXPLHZHRXKEC-UHFFFAOYSA-N-HyfKkM-502-A/FRNXPLHZHRXKEC-UHFFFAOYSA-N-HyfKkM-502-A.minimised.mol',\n",
       " 72768: '/opt/xchem-fragalysis-2/maxwin/RdRp_FFF/syndirella/mar_elabs/elabs_030/FRNXPLHZHRXKEC-UHFFFAOYSA-N/output/FRNXPLHZHRXKEC-UHFFFAOYSA-N-HyfKkM-520-A/FRNXPLHZHRXKEC-UHFFFAOYSA-N-HyfKkM-520-A.minimised.mol',\n",
       " 72780: '/opt/xchem-fragalysis-2/maxwin/RdRp_FFF/syndirella/mar_elabs/elabs_030/FRNXPLHZHRXKEC-UHFFFAOYSA-N/output/FRNXPLHZHRXKEC-UHFFFAOYSA-N-HyfKkM-546-A/FRNXPLHZHRXKEC-UHFFFAOYSA-N-HyfKkM-546-A.minimised.mol',\n",
       " 72783: '/opt/xchem-fragalysis-2/maxwin/RdRp_FFF/syndirella/mar_elabs/elabs_030/FRNXPLHZHRXKEC-UHFFFAOYSA-N/output/FRNXPLHZHRXKEC-UHFFFAOYSA-N-HyfKkM-549-A/FRNXPLHZHRXKEC-UHFFFAOYSA-N-HyfKkM-549-A.minimised.mol',\n",
       " 72786: '/opt/xchem-fragalysis-2/maxwin/RdRp_FFF/syndirella/mar_elabs/elabs_030/FRNXPLHZHRXKEC-UHFFFAOYSA-N/output/FRNXPLHZHRXKEC-UHFFFAOYSA-N-HyfKkM-552-A/FRNXPLHZHRXKEC-UHFFFAOYSA-N-HyfKkM-552-A.minimised.mol',\n",
       " 72788: '/opt/xchem-fragalysis-2/maxwin/RdRp_FFF/syndirella/mar_elabs/elabs_030/FRNXPLHZHRXKEC-UHFFFAOYSA-N/output/FRNXPLHZHRXKEC-UHFFFAOYSA-N-HyfKkM-555-H/FRNXPLHZHRXKEC-UHFFFAOYSA-N-HyfKkM-555-H.minimised.mol',\n",
       " 72799: '/opt/xchem-fragalysis-2/maxwin/RdRp_FFF/syndirella/mar_elabs/elabs_030/FRNXPLHZHRXKEC-UHFFFAOYSA-N/output/FRNXPLHZHRXKEC-UHFFFAOYSA-N-HyfKkM-567-B/FRNXPLHZHRXKEC-UHFFFAOYSA-N-HyfKkM-567-B.minimised.mol',\n",
       " 72800: '/opt/xchem-fragalysis-2/maxwin/RdRp_FFF/syndirella/mar_elabs/elabs_030/FRNXPLHZHRXKEC-UHFFFAOYSA-N/output/FRNXPLHZHRXKEC-UHFFFAOYSA-N-HyfKkM-572-A/FRNXPLHZHRXKEC-UHFFFAOYSA-N-HyfKkM-572-A.minimised.mol',\n",
       " 72811: '/opt/xchem-fragalysis-2/maxwin/RdRp_FFF/syndirella/mar_elabs/elabs_030/FRNXPLHZHRXKEC-UHFFFAOYSA-N/output/FRNXPLHZHRXKEC-UHFFFAOYSA-N-HyfKkM-588-A/FRNXPLHZHRXKEC-UHFFFAOYSA-N-HyfKkM-588-A.minimised.mol',\n",
       " 72817: '/opt/xchem-fragalysis-2/maxwin/RdRp_FFF/syndirella/mar_elabs/elabs_030/FRNXPLHZHRXKEC-UHFFFAOYSA-N/output/FRNXPLHZHRXKEC-UHFFFAOYSA-N-HyfKkM-594-C/FRNXPLHZHRXKEC-UHFFFAOYSA-N-HyfKkM-594-C.minimised.mol',\n",
       " 72828: '/opt/xchem-fragalysis-2/maxwin/RdRp_FFF/syndirella/mar_elabs/elabs_030/FRNXPLHZHRXKEC-UHFFFAOYSA-N/output/FRNXPLHZHRXKEC-UHFFFAOYSA-N-HyfKkM-610-G/FRNXPLHZHRXKEC-UHFFFAOYSA-N-HyfKkM-610-G.minimised.mol',\n",
       " 72831: '/opt/xchem-fragalysis-2/maxwin/RdRp_FFF/syndirella/mar_elabs/elabs_030/FRNXPLHZHRXKEC-UHFFFAOYSA-N/output/FRNXPLHZHRXKEC-UHFFFAOYSA-N-HyfKkM-613-A/FRNXPLHZHRXKEC-UHFFFAOYSA-N-HyfKkM-613-A.minimised.mol',\n",
       " 72843: '/opt/xchem-fragalysis-2/maxwin/RdRp_FFF/syndirella/mar_elabs/elabs_030/FRNXPLHZHRXKEC-UHFFFAOYSA-N/output/FRNXPLHZHRXKEC-UHFFFAOYSA-N-HyfKkM-625-D/FRNXPLHZHRXKEC-UHFFFAOYSA-N-HyfKkM-625-D.minimised.mol',\n",
       " 72850: '/opt/xchem-fragalysis-2/maxwin/RdRp_FFF/syndirella/mar_elabs/elabs_030/FRNXPLHZHRXKEC-UHFFFAOYSA-N/output/FRNXPLHZHRXKEC-UHFFFAOYSA-N-HyfKkM-632-H/FRNXPLHZHRXKEC-UHFFFAOYSA-N-HyfKkM-632-H.minimised.mol',\n",
       " 72858: '/opt/xchem-fragalysis-2/maxwin/RdRp_FFF/syndirella/mar_elabs/elabs_030/FRNXPLHZHRXKEC-UHFFFAOYSA-N/output/FRNXPLHZHRXKEC-UHFFFAOYSA-N-HyfKkM-649-B/FRNXPLHZHRXKEC-UHFFFAOYSA-N-HyfKkM-649-B.minimised.mol',\n",
       " 72860: '/opt/xchem-fragalysis-2/maxwin/RdRp_FFF/syndirella/mar_elabs/elabs_030/FRNXPLHZHRXKEC-UHFFFAOYSA-N/output/FRNXPLHZHRXKEC-UHFFFAOYSA-N-HyfKkM-652-A/FRNXPLHZHRXKEC-UHFFFAOYSA-N-HyfKkM-652-A.minimised.mol',\n",
       " 72872: '/opt/xchem-fragalysis-2/maxwin/RdRp_FFF/syndirella/mar_elabs/elabs_030/FRNXPLHZHRXKEC-UHFFFAOYSA-N/output/FRNXPLHZHRXKEC-UHFFFAOYSA-N-HyfKkM-664-H/FRNXPLHZHRXKEC-UHFFFAOYSA-N-HyfKkM-664-H.minimised.mol',\n",
       " 72880: '/opt/xchem-fragalysis-2/maxwin/RdRp_FFF/syndirella/mar_elabs/elabs_030/FRNXPLHZHRXKEC-UHFFFAOYSA-N/output/FRNXPLHZHRXKEC-UHFFFAOYSA-N-HyfKkM-682-A/FRNXPLHZHRXKEC-UHFFFAOYSA-N-HyfKkM-682-A.minimised.mol',\n",
       " 72899: '/opt/xchem-fragalysis-2/maxwin/RdRp_FFF/syndirella/mar_elabs/elabs_030/FRNXPLHZHRXKEC-UHFFFAOYSA-N/output/FRNXPLHZHRXKEC-UHFFFAOYSA-N-HyfKkM-701-A/FRNXPLHZHRXKEC-UHFFFAOYSA-N-HyfKkM-701-A.minimised.mol',\n",
       " 72905: '/opt/xchem-fragalysis-2/maxwin/RdRp_FFF/syndirella/mar_elabs/elabs_030/FRNXPLHZHRXKEC-UHFFFAOYSA-N/output/FRNXPLHZHRXKEC-UHFFFAOYSA-N-HyfKkM-709-C/FRNXPLHZHRXKEC-UHFFFAOYSA-N-HyfKkM-709-C.minimised.mol',\n",
       " 72909: '/opt/xchem-fragalysis-2/maxwin/RdRp_FFF/syndirella/mar_elabs/elabs_030/FRNXPLHZHRXKEC-UHFFFAOYSA-N/output/FRNXPLHZHRXKEC-UHFFFAOYSA-N-HyfKkM-714-G/FRNXPLHZHRXKEC-UHFFFAOYSA-N-HyfKkM-714-G.minimised.mol',\n",
       " 72911: '/opt/xchem-fragalysis-2/maxwin/RdRp_FFF/syndirella/mar_elabs/elabs_030/FRNXPLHZHRXKEC-UHFFFAOYSA-N/output/FRNXPLHZHRXKEC-UHFFFAOYSA-N-HyfKkM-716-A/FRNXPLHZHRXKEC-UHFFFAOYSA-N-HyfKkM-716-A.minimised.mol',\n",
       " 72915: '/opt/xchem-fragalysis-2/maxwin/RdRp_FFF/syndirella/mar_elabs/elabs_030/FRNXPLHZHRXKEC-UHFFFAOYSA-N/output/FRNXPLHZHRXKEC-UHFFFAOYSA-N-HyfKkM-721-A/FRNXPLHZHRXKEC-UHFFFAOYSA-N-HyfKkM-721-A.minimised.mol',\n",
       " 72919: '/opt/xchem-fragalysis-2/maxwin/RdRp_FFF/syndirella/mar_elabs/elabs_030/FRNXPLHZHRXKEC-UHFFFAOYSA-N/output/FRNXPLHZHRXKEC-UHFFFAOYSA-N-HyfKkM-725-B/FRNXPLHZHRXKEC-UHFFFAOYSA-N-HyfKkM-725-B.minimised.mol',\n",
       " 72922: '/opt/xchem-fragalysis-2/maxwin/RdRp_FFF/syndirella/mar_elabs/elabs_030/FRNXPLHZHRXKEC-UHFFFAOYSA-N/output/FRNXPLHZHRXKEC-UHFFFAOYSA-N-HyfKkM-728-B/FRNXPLHZHRXKEC-UHFFFAOYSA-N-HyfKkM-728-B.minimised.mol',\n",
       " 72927: '/opt/xchem-fragalysis-2/maxwin/RdRp_FFF/syndirella/mar_elabs/elabs_030/FRNXPLHZHRXKEC-UHFFFAOYSA-N/output/FRNXPLHZHRXKEC-UHFFFAOYSA-N-HyfKkM-733-A/FRNXPLHZHRXKEC-UHFFFAOYSA-N-HyfKkM-733-A.minimised.mol',\n",
       " 72930: '/opt/xchem-fragalysis-2/maxwin/RdRp_FFF/syndirella/mar_elabs/elabs_030/FRNXPLHZHRXKEC-UHFFFAOYSA-N/output/FRNXPLHZHRXKEC-UHFFFAOYSA-N-HyfKkM-736-B/FRNXPLHZHRXKEC-UHFFFAOYSA-N-HyfKkM-736-B.minimised.mol',\n",
       " 72933: '/opt/xchem-fragalysis-2/maxwin/RdRp_FFF/syndirella/mar_elabs/elabs_030/FRNXPLHZHRXKEC-UHFFFAOYSA-N/output/FRNXPLHZHRXKEC-UHFFFAOYSA-N-HyfKkM-739-C/FRNXPLHZHRXKEC-UHFFFAOYSA-N-HyfKkM-739-C.minimised.mol',\n",
       " 72950: '/opt/xchem-fragalysis-2/maxwin/RdRp_FFF/syndirella/mar_elabs/elabs_030/FRNXPLHZHRXKEC-UHFFFAOYSA-N/output/FRNXPLHZHRXKEC-UHFFFAOYSA-N-HyfKkM-760-A/FRNXPLHZHRXKEC-UHFFFAOYSA-N-HyfKkM-760-A.minimised.mol',\n",
       " 72953: '/opt/xchem-fragalysis-2/maxwin/RdRp_FFF/syndirella/mar_elabs/elabs_030/FRNXPLHZHRXKEC-UHFFFAOYSA-N/output/FRNXPLHZHRXKEC-UHFFFAOYSA-N-HyfKkM-763-A/FRNXPLHZHRXKEC-UHFFFAOYSA-N-HyfKkM-763-A.minimised.mol',\n",
       " 72958: '/opt/xchem-fragalysis-2/maxwin/RdRp_FFF/syndirella/mar_elabs/elabs_030/FRNXPLHZHRXKEC-UHFFFAOYSA-N/output/FRNXPLHZHRXKEC-UHFFFAOYSA-N-HyfKkM-770-A/FRNXPLHZHRXKEC-UHFFFAOYSA-N-HyfKkM-770-A.minimised.mol',\n",
       " 72974: '/opt/xchem-fragalysis-2/maxwin/RdRp_FFF/syndirella/mar_elabs/elabs_030/FRNXPLHZHRXKEC-UHFFFAOYSA-N/output/FRNXPLHZHRXKEC-UHFFFAOYSA-N-HyfKkM-791-A/FRNXPLHZHRXKEC-UHFFFAOYSA-N-HyfKkM-791-A.minimised.mol',\n",
       " 72979: '/opt/xchem-fragalysis-2/maxwin/RdRp_FFF/syndirella/mar_elabs/elabs_030/FRNXPLHZHRXKEC-UHFFFAOYSA-N/output/FRNXPLHZHRXKEC-UHFFFAOYSA-N-HyfKkM-796-A/FRNXPLHZHRXKEC-UHFFFAOYSA-N-HyfKkM-796-A.minimised.mol',\n",
       " 72988: '/opt/xchem-fragalysis-2/maxwin/RdRp_FFF/syndirella/mar_elabs/elabs_030/FRNXPLHZHRXKEC-UHFFFAOYSA-N/output/FRNXPLHZHRXKEC-UHFFFAOYSA-N-HyfKkM-806-B/FRNXPLHZHRXKEC-UHFFFAOYSA-N-HyfKkM-806-B.minimised.mol',\n",
       " 72993: '/opt/xchem-fragalysis-2/maxwin/RdRp_FFF/syndirella/mar_elabs/elabs_030/FRNXPLHZHRXKEC-UHFFFAOYSA-N/output/FRNXPLHZHRXKEC-UHFFFAOYSA-N-HyfKkM-812-C/FRNXPLHZHRXKEC-UHFFFAOYSA-N-HyfKkM-812-C.minimised.mol',\n",
       " 73015: '/opt/xchem-fragalysis-2/maxwin/RdRp_FFF/syndirella/mar_elabs/elabs_030/FRNXPLHZHRXKEC-UHFFFAOYSA-N/output/FRNXPLHZHRXKEC-UHFFFAOYSA-N-HyfKkM-834-A/FRNXPLHZHRXKEC-UHFFFAOYSA-N-HyfKkM-834-A.minimised.mol',\n",
       " 73021: '/opt/xchem-fragalysis-2/maxwin/RdRp_FFF/syndirella/mar_elabs/elabs_030/FRNXPLHZHRXKEC-UHFFFAOYSA-N/output/FRNXPLHZHRXKEC-UHFFFAOYSA-N-HyfKkM-840-A/FRNXPLHZHRXKEC-UHFFFAOYSA-N-HyfKkM-840-A.minimised.mol',\n",
       " 73033: '/opt/xchem-fragalysis-2/maxwin/RdRp_FFF/syndirella/mar_elabs/elabs_030/FRNXPLHZHRXKEC-UHFFFAOYSA-N/output/FRNXPLHZHRXKEC-UHFFFAOYSA-N-HyfKkM-853-B/FRNXPLHZHRXKEC-UHFFFAOYSA-N-HyfKkM-853-B.minimised.mol',\n",
       " 73038: '/opt/xchem-fragalysis-2/maxwin/RdRp_FFF/syndirella/mar_elabs/elabs_030/FRNXPLHZHRXKEC-UHFFFAOYSA-N/output/FRNXPLHZHRXKEC-UHFFFAOYSA-N-HyfKkM-858-C/FRNXPLHZHRXKEC-UHFFFAOYSA-N-HyfKkM-858-C.minimised.mol',\n",
       " 73049: '/opt/xchem-fragalysis-2/maxwin/RdRp_FFF/syndirella/mar_elabs/elabs_030/FRNXPLHZHRXKEC-UHFFFAOYSA-N/output/FRNXPLHZHRXKEC-UHFFFAOYSA-N-HyfKkM-917-B/FRNXPLHZHRXKEC-UHFFFAOYSA-N-HyfKkM-917-B.minimised.mol',\n",
       " 73058: '/opt/xchem-fragalysis-2/maxwin/RdRp_FFF/syndirella/mar_elabs/elabs_030/FRNXPLHZHRXKEC-UHFFFAOYSA-N/output/FRNXPLHZHRXKEC-UHFFFAOYSA-N-HyfKkM-938-C/FRNXPLHZHRXKEC-UHFFFAOYSA-N-HyfKkM-938-C.minimised.mol',\n",
       " 73059: '/opt/xchem-fragalysis-2/maxwin/RdRp_FFF/syndirella/mar_elabs/elabs_030/FRNXPLHZHRXKEC-UHFFFAOYSA-N/output/FRNXPLHZHRXKEC-UHFFFAOYSA-N-HyfKkM-940-B/FRNXPLHZHRXKEC-UHFFFAOYSA-N-HyfKkM-940-B.minimised.mol',\n",
       " 73064: '/opt/xchem-fragalysis-2/maxwin/RdRp_FFF/syndirella/mar_elabs/elabs_030/FRNXPLHZHRXKEC-UHFFFAOYSA-N/output/FRNXPLHZHRXKEC-UHFFFAOYSA-N-HyfKkM-945-A/FRNXPLHZHRXKEC-UHFFFAOYSA-N-HyfKkM-945-A.minimised.mol',\n",
       " 73069: '/opt/xchem-fragalysis-2/maxwin/RdRp_FFF/syndirella/mar_elabs/elabs_030/FRNXPLHZHRXKEC-UHFFFAOYSA-N/output/FRNXPLHZHRXKEC-UHFFFAOYSA-N-HyfKkM-952-C/FRNXPLHZHRXKEC-UHFFFAOYSA-N-HyfKkM-952-C.minimised.mol',\n",
       " 73070: '/opt/xchem-fragalysis-2/maxwin/RdRp_FFF/syndirella/mar_elabs/elabs_030/FRNXPLHZHRXKEC-UHFFFAOYSA-N/output/FRNXPLHZHRXKEC-UHFFFAOYSA-N-HyfKkM-953-A/FRNXPLHZHRXKEC-UHFFFAOYSA-N-HyfKkM-953-A.minimised.mol',\n",
       " 73074: '/opt/xchem-fragalysis-2/maxwin/RdRp_FFF/syndirella/mar_elabs/elabs_030/FRNXPLHZHRXKEC-UHFFFAOYSA-N/output/FRNXPLHZHRXKEC-UHFFFAOYSA-N-HyfKkM-958-B/FRNXPLHZHRXKEC-UHFFFAOYSA-N-HyfKkM-958-B.minimised.mol',\n",
       " 73078: '/opt/xchem-fragalysis-2/maxwin/RdRp_FFF/syndirella/mar_elabs/elabs_030/FRNXPLHZHRXKEC-UHFFFAOYSA-N/output/FRNXPLHZHRXKEC-UHFFFAOYSA-N-HyfKkM-962-B/FRNXPLHZHRXKEC-UHFFFAOYSA-N-HyfKkM-962-B.minimised.mol',\n",
       " 73081: '/opt/xchem-fragalysis-2/maxwin/RdRp_FFF/syndirella/mar_elabs/elabs_030/FRNXPLHZHRXKEC-UHFFFAOYSA-N/output/FRNXPLHZHRXKEC-UHFFFAOYSA-N-HyfKkM-965-D/FRNXPLHZHRXKEC-UHFFFAOYSA-N-HyfKkM-965-D.minimised.mol',\n",
       " 73083: '/opt/xchem-fragalysis-2/maxwin/RdRp_FFF/syndirella/mar_elabs/elabs_030/FRNXPLHZHRXKEC-UHFFFAOYSA-N/output/FRNXPLHZHRXKEC-UHFFFAOYSA-N-HyfKkM-967-B/FRNXPLHZHRXKEC-UHFFFAOYSA-N-HyfKkM-967-B.minimised.mol',\n",
       " 73109: '/opt/xchem-fragalysis-2/maxwin/RdRp_FFF/syndirella/mar_elabs/elabs_030/FRNXPLHZHRXKEC-UHFFFAOYSA-N/output/FRNXPLHZHRXKEC-UHFFFAOYSA-N-HyfKkM-994-B/FRNXPLHZHRXKEC-UHFFFAOYSA-N-HyfKkM-994-B.minimised.mol',\n",
       " 73114: '/opt/xchem-fragalysis-2/maxwin/RdRp_FFF/syndirella/mar_elabs/elabs_030/FRNXPLHZHRXKEC-UHFFFAOYSA-N/output/FRNXPLHZHRXKEC-UHFFFAOYSA-N-HyfKkM-1000-A/FRNXPLHZHRXKEC-UHFFFAOYSA-N-HyfKkM-1000-A.minimised.mol',\n",
       " 73115: '/opt/xchem-fragalysis-2/maxwin/RdRp_FFF/syndirella/mar_elabs/elabs_030/FRNXPLHZHRXKEC-UHFFFAOYSA-N/output/FRNXPLHZHRXKEC-UHFFFAOYSA-N-HyfKkM-1001-B/FRNXPLHZHRXKEC-UHFFFAOYSA-N-HyfKkM-1001-B.minimised.mol',\n",
       " 73124: '/opt/xchem-fragalysis-2/maxwin/RdRp_FFF/syndirella/mar_elabs/elabs_030/FRNXPLHZHRXKEC-UHFFFAOYSA-N/output/FRNXPLHZHRXKEC-UHFFFAOYSA-N-HyfKkM-1011-A/FRNXPLHZHRXKEC-UHFFFAOYSA-N-HyfKkM-1011-A.minimised.mol',\n",
       " 73135: '/opt/xchem-fragalysis-2/maxwin/RdRp_FFF/syndirella/mar_elabs/elabs_030/FRNXPLHZHRXKEC-UHFFFAOYSA-N/output/FRNXPLHZHRXKEC-UHFFFAOYSA-N-HyfKkM-1031-D/FRNXPLHZHRXKEC-UHFFFAOYSA-N-HyfKkM-1031-D.minimised.mol',\n",
       " 73137: '/opt/xchem-fragalysis-2/maxwin/RdRp_FFF/syndirella/mar_elabs/elabs_030/FRNXPLHZHRXKEC-UHFFFAOYSA-N/output/FRNXPLHZHRXKEC-UHFFFAOYSA-N-HyfKkM-1034-C/FRNXPLHZHRXKEC-UHFFFAOYSA-N-HyfKkM-1034-C.minimised.mol',\n",
       " 73138: '/opt/xchem-fragalysis-2/maxwin/RdRp_FFF/syndirella/mar_elabs/elabs_030/FRNXPLHZHRXKEC-UHFFFAOYSA-N/output/FRNXPLHZHRXKEC-UHFFFAOYSA-N-HyfKkM-1040-D/FRNXPLHZHRXKEC-UHFFFAOYSA-N-HyfKkM-1040-D.minimised.mol',\n",
       " 73139: '/opt/xchem-fragalysis-2/maxwin/RdRp_FFF/syndirella/mar_elabs/elabs_030/FRNXPLHZHRXKEC-UHFFFAOYSA-N/output/FRNXPLHZHRXKEC-UHFFFAOYSA-N-HyfKkM-1041-A/FRNXPLHZHRXKEC-UHFFFAOYSA-N-HyfKkM-1041-A.minimised.mol',\n",
       " 73171: '/opt/xchem-fragalysis-2/maxwin/RdRp_FFF/syndirella/mar_elabs/elabs_030/FRNXPLHZHRXKEC-UHFFFAOYSA-N/output/FRNXPLHZHRXKEC-UHFFFAOYSA-N-HyfKkM-1083-A/FRNXPLHZHRXKEC-UHFFFAOYSA-N-HyfKkM-1083-A.minimised.mol',\n",
       " 73194: '/opt/xchem-fragalysis-2/maxwin/RdRp_FFF/syndirella/mar_elabs/elabs_030/FRNXPLHZHRXKEC-UHFFFAOYSA-N/output/FRNXPLHZHRXKEC-UHFFFAOYSA-N-HyfKkM-1108-A/FRNXPLHZHRXKEC-UHFFFAOYSA-N-HyfKkM-1108-A.minimised.mol',\n",
       " 73206: '/opt/xchem-fragalysis-2/maxwin/RdRp_FFF/syndirella/mar_elabs/elabs_030/FRNXPLHZHRXKEC-UHFFFAOYSA-N/output/FRNXPLHZHRXKEC-UHFFFAOYSA-N-HyfKkM-1121-C/FRNXPLHZHRXKEC-UHFFFAOYSA-N-HyfKkM-1121-C.minimised.mol',\n",
       " 73207: '/opt/xchem-fragalysis-2/maxwin/RdRp_FFF/syndirella/mar_elabs/elabs_030/FRNXPLHZHRXKEC-UHFFFAOYSA-N/output/FRNXPLHZHRXKEC-UHFFFAOYSA-N-HyfKkM-1122-D/FRNXPLHZHRXKEC-UHFFFAOYSA-N-HyfKkM-1122-D.minimised.mol',\n",
       " 73209: '/opt/xchem-fragalysis-2/maxwin/RdRp_FFF/syndirella/mar_elabs/elabs_030/FRNXPLHZHRXKEC-UHFFFAOYSA-N/output/FRNXPLHZHRXKEC-UHFFFAOYSA-N-HyfKkM-1124-B/FRNXPLHZHRXKEC-UHFFFAOYSA-N-HyfKkM-1124-B.minimised.mol',\n",
       " 73215: '/opt/xchem-fragalysis-2/maxwin/RdRp_FFF/syndirella/mar_elabs/elabs_030/FRNXPLHZHRXKEC-UHFFFAOYSA-N/output/FRNXPLHZHRXKEC-UHFFFAOYSA-N-HyfKkM-1131-A/FRNXPLHZHRXKEC-UHFFFAOYSA-N-HyfKkM-1131-A.minimised.mol',\n",
       " 73220: '/opt/xchem-fragalysis-2/maxwin/RdRp_FFF/syndirella/mar_elabs/elabs_030/FRNXPLHZHRXKEC-UHFFFAOYSA-N/output/FRNXPLHZHRXKEC-UHFFFAOYSA-N-HyfKkM-1136-A/FRNXPLHZHRXKEC-UHFFFAOYSA-N-HyfKkM-1136-A.minimised.mol',\n",
       " 73221: '/opt/xchem-fragalysis-2/maxwin/RdRp_FFF/syndirella/mar_elabs/elabs_030/FRNXPLHZHRXKEC-UHFFFAOYSA-N/output/FRNXPLHZHRXKEC-UHFFFAOYSA-N-HyfKkM-1137-B/FRNXPLHZHRXKEC-UHFFFAOYSA-N-HyfKkM-1137-B.minimised.mol',\n",
       " 73222: '/opt/xchem-fragalysis-2/maxwin/RdRp_FFF/syndirella/mar_elabs/elabs_030/FRNXPLHZHRXKEC-UHFFFAOYSA-N/output/FRNXPLHZHRXKEC-UHFFFAOYSA-N-HyfKkM-1138-B/FRNXPLHZHRXKEC-UHFFFAOYSA-N-HyfKkM-1138-B.minimised.mol',\n",
       " 73223: '/opt/xchem-fragalysis-2/maxwin/RdRp_FFF/syndirella/mar_elabs/elabs_030/FRNXPLHZHRXKEC-UHFFFAOYSA-N/output/FRNXPLHZHRXKEC-UHFFFAOYSA-N-HyfKkM-1140-A/FRNXPLHZHRXKEC-UHFFFAOYSA-N-HyfKkM-1140-A.minimised.mol',\n",
       " 73230: '/opt/xchem-fragalysis-2/maxwin/RdRp_FFF/syndirella/mar_elabs/elabs_030/FRNXPLHZHRXKEC-UHFFFAOYSA-N/output/FRNXPLHZHRXKEC-UHFFFAOYSA-N-HyfKkM-1147-B/FRNXPLHZHRXKEC-UHFFFAOYSA-N-HyfKkM-1147-B.minimised.mol',\n",
       " 73231: '/opt/xchem-fragalysis-2/maxwin/RdRp_FFF/syndirella/mar_elabs/elabs_030/FRNXPLHZHRXKEC-UHFFFAOYSA-N/output/FRNXPLHZHRXKEC-UHFFFAOYSA-N-HyfKkM-1148-A/FRNXPLHZHRXKEC-UHFFFAOYSA-N-HyfKkM-1148-A.minimised.mol',\n",
       " 73232: '/opt/xchem-fragalysis-2/maxwin/RdRp_FFF/syndirella/mar_elabs/elabs_030/FRNXPLHZHRXKEC-UHFFFAOYSA-N/output/FRNXPLHZHRXKEC-UHFFFAOYSA-N-HyfKkM-1149-B/FRNXPLHZHRXKEC-UHFFFAOYSA-N-HyfKkM-1149-B.minimised.mol',\n",
       " 73252: '/opt/xchem-fragalysis-2/maxwin/RdRp_FFF/syndirella/mar_elabs/elabs_030/FRNXPLHZHRXKEC-UHFFFAOYSA-N/output/FRNXPLHZHRXKEC-UHFFFAOYSA-N-HyfKkM-1170-A/FRNXPLHZHRXKEC-UHFFFAOYSA-N-HyfKkM-1170-A.minimised.mol',\n",
       " 73261: '/opt/xchem-fragalysis-2/maxwin/RdRp_FFF/syndirella/mar_elabs/elabs_030/FRNXPLHZHRXKEC-UHFFFAOYSA-N/output/FRNXPLHZHRXKEC-UHFFFAOYSA-N-HyfKkM-1179-C/FRNXPLHZHRXKEC-UHFFFAOYSA-N-HyfKkM-1179-C.minimised.mol',\n",
       " 73281: '/opt/xchem-fragalysis-2/maxwin/RdRp_FFF/syndirella/mar_elabs/elabs_030/FRNXPLHZHRXKEC-UHFFFAOYSA-N/output/FRNXPLHZHRXKEC-UHFFFAOYSA-N-HyfKkM-1200-A/FRNXPLHZHRXKEC-UHFFFAOYSA-N-HyfKkM-1200-A.minimised.mol',\n",
       " 73302: '/opt/xchem-fragalysis-2/maxwin/RdRp_FFF/syndirella/mar_elabs/elabs_030/FRNXPLHZHRXKEC-UHFFFAOYSA-N/output/FRNXPLHZHRXKEC-UHFFFAOYSA-N-HyfKkM-1221-A/FRNXPLHZHRXKEC-UHFFFAOYSA-N-HyfKkM-1221-A.minimised.mol',\n",
       " 73306: '/opt/xchem-fragalysis-2/maxwin/RdRp_FFF/syndirella/mar_elabs/elabs_030/FRNXPLHZHRXKEC-UHFFFAOYSA-N/output/FRNXPLHZHRXKEC-UHFFFAOYSA-N-HyfKkM-1225-A/FRNXPLHZHRXKEC-UHFFFAOYSA-N-HyfKkM-1225-A.minimised.mol',\n",
       " 73307: '/opt/xchem-fragalysis-2/maxwin/RdRp_FFF/syndirella/mar_elabs/elabs_030/FRNXPLHZHRXKEC-UHFFFAOYSA-N/output/FRNXPLHZHRXKEC-UHFFFAOYSA-N-HyfKkM-1226-A/FRNXPLHZHRXKEC-UHFFFAOYSA-N-HyfKkM-1226-A.minimised.mol',\n",
       " 73317: '/opt/xchem-fragalysis-2/maxwin/RdRp_FFF/syndirella/mar_elabs/elabs_030/FRNXPLHZHRXKEC-UHFFFAOYSA-N/output/FRNXPLHZHRXKEC-UHFFFAOYSA-N-HyfKkM-1236-D/FRNXPLHZHRXKEC-UHFFFAOYSA-N-HyfKkM-1236-D.minimised.mol',\n",
       " 73321: '/opt/xchem-fragalysis-2/maxwin/RdRp_FFF/syndirella/mar_elabs/elabs_030/FRNXPLHZHRXKEC-UHFFFAOYSA-N/output/FRNXPLHZHRXKEC-UHFFFAOYSA-N-HyfKkM-1240-A/FRNXPLHZHRXKEC-UHFFFAOYSA-N-HyfKkM-1240-A.minimised.mol',\n",
       " 73331: '/opt/xchem-fragalysis-2/maxwin/RdRp_FFF/syndirella/mar_elabs/elabs_030/FRNXPLHZHRXKEC-UHFFFAOYSA-N/output/FRNXPLHZHRXKEC-UHFFFAOYSA-N-HyfKkM-1250-D/FRNXPLHZHRXKEC-UHFFFAOYSA-N-HyfKkM-1250-D.minimised.mol',\n",
       " 73333: '/opt/xchem-fragalysis-2/maxwin/RdRp_FFF/syndirella/mar_elabs/elabs_030/FRNXPLHZHRXKEC-UHFFFAOYSA-N/output/FRNXPLHZHRXKEC-UHFFFAOYSA-N-HyfKkM-1252-A/FRNXPLHZHRXKEC-UHFFFAOYSA-N-HyfKkM-1252-A.minimised.mol',\n",
       " 73352: '/opt/xchem-fragalysis-2/maxwin/RdRp_FFF/syndirella/mar_elabs/elabs_030/FRNXPLHZHRXKEC-UHFFFAOYSA-N/output/FRNXPLHZHRXKEC-UHFFFAOYSA-N-HyfKkM-1271-D/FRNXPLHZHRXKEC-UHFFFAOYSA-N-HyfKkM-1271-D.minimised.mol',\n",
       " 73371: '/opt/xchem-fragalysis-2/maxwin/RdRp_FFF/syndirella/mar_elabs/elabs_030/FRNXPLHZHRXKEC-UHFFFAOYSA-N/output/FRNXPLHZHRXKEC-UHFFFAOYSA-N-HyfKkM-1290-A/FRNXPLHZHRXKEC-UHFFFAOYSA-N-HyfKkM-1290-A.minimised.mol',\n",
       " 73372: '/opt/xchem-fragalysis-2/maxwin/RdRp_FFF/syndirella/mar_elabs/elabs_030/FRNXPLHZHRXKEC-UHFFFAOYSA-N/output/FRNXPLHZHRXKEC-UHFFFAOYSA-N-HyfKkM-1291-C/FRNXPLHZHRXKEC-UHFFFAOYSA-N-HyfKkM-1291-C.minimised.mol',\n",
       " 73378: '/opt/xchem-fragalysis-2/maxwin/RdRp_FFF/syndirella/mar_elabs/elabs_030/FRNXPLHZHRXKEC-UHFFFAOYSA-N/output/FRNXPLHZHRXKEC-UHFFFAOYSA-N-HyfKkM-1297-B/FRNXPLHZHRXKEC-UHFFFAOYSA-N-HyfKkM-1297-B.minimised.mol',\n",
       " 73388: '/opt/xchem-fragalysis-2/maxwin/RdRp_FFF/syndirella/mar_elabs/elabs_030/FRNXPLHZHRXKEC-UHFFFAOYSA-N/output/FRNXPLHZHRXKEC-UHFFFAOYSA-N-HyfKkM-1307-D/FRNXPLHZHRXKEC-UHFFFAOYSA-N-HyfKkM-1307-D.minimised.mol',\n",
       " 73395: '/opt/xchem-fragalysis-2/maxwin/RdRp_FFF/syndirella/mar_elabs/elabs_030/FRNXPLHZHRXKEC-UHFFFAOYSA-N/output/FRNXPLHZHRXKEC-UHFFFAOYSA-N-HyfKkM-1320-D/FRNXPLHZHRXKEC-UHFFFAOYSA-N-HyfKkM-1320-D.minimised.mol',\n",
       " 73407: '/opt/xchem-fragalysis-2/maxwin/RdRp_FFF/syndirella/mar_elabs/elabs_030/FRNXPLHZHRXKEC-UHFFFAOYSA-N/output/FRNXPLHZHRXKEC-UHFFFAOYSA-N-HyfKkM-1335-A/FRNXPLHZHRXKEC-UHFFFAOYSA-N-HyfKkM-1335-A.minimised.mol',\n",
       " 73411: '/opt/xchem-fragalysis-2/maxwin/RdRp_FFF/syndirella/mar_elabs/elabs_030/FRNXPLHZHRXKEC-UHFFFAOYSA-N/output/FRNXPLHZHRXKEC-UHFFFAOYSA-N-HyfKkM-1339-A/FRNXPLHZHRXKEC-UHFFFAOYSA-N-HyfKkM-1339-A.minimised.mol',\n",
       " 73421: '/opt/xchem-fragalysis-2/maxwin/RdRp_FFF/syndirella/mar_elabs/elabs_030/FRNXPLHZHRXKEC-UHFFFAOYSA-N/output/FRNXPLHZHRXKEC-UHFFFAOYSA-N-HyfKkM-1350-A/FRNXPLHZHRXKEC-UHFFFAOYSA-N-HyfKkM-1350-A.minimised.mol',\n",
       " 73446: '/opt/xchem-fragalysis-2/maxwin/RdRp_FFF/syndirella/mar_elabs/elabs_030/FRNXPLHZHRXKEC-UHFFFAOYSA-N/output/FRNXPLHZHRXKEC-UHFFFAOYSA-N-HyfKkM-1383-A/FRNXPLHZHRXKEC-UHFFFAOYSA-N-HyfKkM-1383-A.minimised.mol',\n",
       " 73450: '/opt/xchem-fragalysis-2/maxwin/RdRp_FFF/syndirella/mar_elabs/elabs_030/FRNXPLHZHRXKEC-UHFFFAOYSA-N/output/FRNXPLHZHRXKEC-UHFFFAOYSA-N-HyfKkM-1387-A/FRNXPLHZHRXKEC-UHFFFAOYSA-N-HyfKkM-1387-A.minimised.mol',\n",
       " 73474: '/opt/xchem-fragalysis-2/maxwin/RdRp_FFF/syndirella/mar_elabs/elabs_030/FRNXPLHZHRXKEC-UHFFFAOYSA-N/output/FRNXPLHZHRXKEC-UHFFFAOYSA-N-HyfKkM-1412-B/FRNXPLHZHRXKEC-UHFFFAOYSA-N-HyfKkM-1412-B.minimised.mol',\n",
       " 73484: '/opt/xchem-fragalysis-2/maxwin/RdRp_FFF/syndirella/mar_elabs/elabs_030/FRNXPLHZHRXKEC-UHFFFAOYSA-N/output/FRNXPLHZHRXKEC-UHFFFAOYSA-N-HyfKkM-1422-A/FRNXPLHZHRXKEC-UHFFFAOYSA-N-HyfKkM-1422-A.minimised.mol',\n",
       " 73514: '/opt/xchem-fragalysis-2/maxwin/RdRp_FFF/syndirella/mar_elabs/elabs_030/FRNXPLHZHRXKEC-UHFFFAOYSA-N/output/FRNXPLHZHRXKEC-UHFFFAOYSA-N-HyfKkM-1452-B/FRNXPLHZHRXKEC-UHFFFAOYSA-N-HyfKkM-1452-B.minimised.mol',\n",
       " 73524: '/opt/xchem-fragalysis-2/maxwin/RdRp_FFF/syndirella/mar_elabs/elabs_030/FRNXPLHZHRXKEC-UHFFFAOYSA-N/output/FRNXPLHZHRXKEC-UHFFFAOYSA-N-HyfKkM-1463-B/FRNXPLHZHRXKEC-UHFFFAOYSA-N-HyfKkM-1463-B.minimised.mol',\n",
       " 73551: '/opt/xchem-fragalysis-2/maxwin/RdRp_FFF/syndirella/mar_elabs/elabs_030/FRNXPLHZHRXKEC-UHFFFAOYSA-N/output/FRNXPLHZHRXKEC-UHFFFAOYSA-N-HyfKkM-1494-B/FRNXPLHZHRXKEC-UHFFFAOYSA-N-HyfKkM-1494-B.minimised.mol',\n",
       " 73553: '/opt/xchem-fragalysis-2/maxwin/RdRp_FFF/syndirella/mar_elabs/elabs_030/FRNXPLHZHRXKEC-UHFFFAOYSA-N/output/FRNXPLHZHRXKEC-UHFFFAOYSA-N-HyfKkM-1497-A/FRNXPLHZHRXKEC-UHFFFAOYSA-N-HyfKkM-1497-A.minimised.mol',\n",
       " 73557: '/opt/xchem-fragalysis-2/maxwin/RdRp_FFF/syndirella/mar_elabs/elabs_030/FRNXPLHZHRXKEC-UHFFFAOYSA-N/output/FRNXPLHZHRXKEC-UHFFFAOYSA-N-HyfKkM-1501-A/FRNXPLHZHRXKEC-UHFFFAOYSA-N-HyfKkM-1501-A.minimised.mol',\n",
       " 73561: '/opt/xchem-fragalysis-2/maxwin/RdRp_FFF/syndirella/mar_elabs/elabs_030/FRNXPLHZHRXKEC-UHFFFAOYSA-N/output/FRNXPLHZHRXKEC-UHFFFAOYSA-N-HyfKkM-1505-B/FRNXPLHZHRXKEC-UHFFFAOYSA-N-HyfKkM-1505-B.minimised.mol',\n",
       " 73563: '/opt/xchem-fragalysis-2/maxwin/RdRp_FFF/syndirella/mar_elabs/elabs_030/FRNXPLHZHRXKEC-UHFFFAOYSA-N/output/FRNXPLHZHRXKEC-UHFFFAOYSA-N-HyfKkM-1511-A/FRNXPLHZHRXKEC-UHFFFAOYSA-N-HyfKkM-1511-A.minimised.mol',\n",
       " 73566: '/opt/xchem-fragalysis-2/maxwin/RdRp_FFF/syndirella/mar_elabs/elabs_030/FRNXPLHZHRXKEC-UHFFFAOYSA-N/output/FRNXPLHZHRXKEC-UHFFFAOYSA-N-HyfKkM-1520-A/FRNXPLHZHRXKEC-UHFFFAOYSA-N-HyfKkM-1520-A.minimised.mol',\n",
       " 73581: '/opt/xchem-fragalysis-2/maxwin/RdRp_FFF/syndirella/mar_elabs/elabs_030/FRNXPLHZHRXKEC-UHFFFAOYSA-N/output/FRNXPLHZHRXKEC-UHFFFAOYSA-N-HyfKkM-1540-A/FRNXPLHZHRXKEC-UHFFFAOYSA-N-HyfKkM-1540-A.minimised.mol',\n",
       " 73584: '/opt/xchem-fragalysis-2/maxwin/RdRp_FFF/syndirella/mar_elabs/elabs_030/FRNXPLHZHRXKEC-UHFFFAOYSA-N/output/FRNXPLHZHRXKEC-UHFFFAOYSA-N-HyfKkM-1543-A/FRNXPLHZHRXKEC-UHFFFAOYSA-N-HyfKkM-1543-A.minimised.mol',\n",
       " 73595: '/opt/xchem-fragalysis-2/maxwin/RdRp_FFF/syndirella/mar_elabs/elabs_030/FRNXPLHZHRXKEC-UHFFFAOYSA-N/output/FRNXPLHZHRXKEC-UHFFFAOYSA-N-HyfKkM-1558-A/FRNXPLHZHRXKEC-UHFFFAOYSA-N-HyfKkM-1558-A.minimised.mol',\n",
       " 73603: '/opt/xchem-fragalysis-2/maxwin/RdRp_FFF/syndirella/mar_elabs/elabs_030/FRNXPLHZHRXKEC-UHFFFAOYSA-N/output/FRNXPLHZHRXKEC-UHFFFAOYSA-N-HyfKkM-1568-A/FRNXPLHZHRXKEC-UHFFFAOYSA-N-HyfKkM-1568-A.minimised.mol',\n",
       " 73605: '/opt/xchem-fragalysis-2/maxwin/RdRp_FFF/syndirella/mar_elabs/elabs_030/FRNXPLHZHRXKEC-UHFFFAOYSA-N/output/FRNXPLHZHRXKEC-UHFFFAOYSA-N-HyfKkM-1570-A/FRNXPLHZHRXKEC-UHFFFAOYSA-N-HyfKkM-1570-A.minimised.mol',\n",
       " 73609: '/opt/xchem-fragalysis-2/maxwin/RdRp_FFF/syndirella/mar_elabs/elabs_030/FRNXPLHZHRXKEC-UHFFFAOYSA-N/output/FRNXPLHZHRXKEC-UHFFFAOYSA-N-HyfKkM-1574-A/FRNXPLHZHRXKEC-UHFFFAOYSA-N-HyfKkM-1574-A.minimised.mol',\n",
       " 73610: '/opt/xchem-fragalysis-2/maxwin/RdRp_FFF/syndirella/mar_elabs/elabs_030/FRNXPLHZHRXKEC-UHFFFAOYSA-N/output/FRNXPLHZHRXKEC-UHFFFAOYSA-N-HyfKkM-1575-A/FRNXPLHZHRXKEC-UHFFFAOYSA-N-HyfKkM-1575-A.minimised.mol',\n",
       " 73612: '/opt/xchem-fragalysis-2/maxwin/RdRp_FFF/syndirella/mar_elabs/elabs_030/FRNXPLHZHRXKEC-UHFFFAOYSA-N/output/FRNXPLHZHRXKEC-UHFFFAOYSA-N-HyfKkM-1577-A/FRNXPLHZHRXKEC-UHFFFAOYSA-N-HyfKkM-1577-A.minimised.mol',\n",
       " 73628: '/opt/xchem-fragalysis-2/maxwin/RdRp_FFF/syndirella/mar_elabs/elabs_030/FRNXPLHZHRXKEC-UHFFFAOYSA-N/output/FRNXPLHZHRXKEC-UHFFFAOYSA-N-HyfKkM-1596-A/FRNXPLHZHRXKEC-UHFFFAOYSA-N-HyfKkM-1596-A.minimised.mol',\n",
       " 73650: '/opt/xchem-fragalysis-2/maxwin/RdRp_FFF/syndirella/mar_elabs/elabs_030/FRNXPLHZHRXKEC-UHFFFAOYSA-N/output/FRNXPLHZHRXKEC-UHFFFAOYSA-N-HyfKkM-1634-A/FRNXPLHZHRXKEC-UHFFFAOYSA-N-HyfKkM-1634-A.minimised.mol',\n",
       " 73661: '/opt/xchem-fragalysis-2/maxwin/RdRp_FFF/syndirella/mar_elabs/elabs_030/FRNXPLHZHRXKEC-UHFFFAOYSA-N/output/FRNXPLHZHRXKEC-UHFFFAOYSA-N-HyfKkM-1647-A/FRNXPLHZHRXKEC-UHFFFAOYSA-N-HyfKkM-1647-A.minimised.mol',\n",
       " 73663: '/opt/xchem-fragalysis-2/maxwin/RdRp_FFF/syndirella/mar_elabs/elabs_030/FRNXPLHZHRXKEC-UHFFFAOYSA-N/output/FRNXPLHZHRXKEC-UHFFFAOYSA-N-HyfKkM-1649-A/FRNXPLHZHRXKEC-UHFFFAOYSA-N-HyfKkM-1649-A.minimised.mol',\n",
       " 73674: '/opt/xchem-fragalysis-2/maxwin/RdRp_FFF/syndirella/mar_elabs/elabs_030/FRNXPLHZHRXKEC-UHFFFAOYSA-N/output/FRNXPLHZHRXKEC-UHFFFAOYSA-N-HyfKkM-1663-C/FRNXPLHZHRXKEC-UHFFFAOYSA-N-HyfKkM-1663-C.minimised.mol',\n",
       " 73678: '/opt/xchem-fragalysis-2/maxwin/RdRp_FFF/syndirella/mar_elabs/elabs_030/FRNXPLHZHRXKEC-UHFFFAOYSA-N/output/FRNXPLHZHRXKEC-UHFFFAOYSA-N-HyfKkM-1667-B/FRNXPLHZHRXKEC-UHFFFAOYSA-N-HyfKkM-1667-B.minimised.mol',\n",
       " 73683: '/opt/xchem-fragalysis-2/maxwin/RdRp_FFF/syndirella/mar_elabs/elabs_030/FRNXPLHZHRXKEC-UHFFFAOYSA-N/output/FRNXPLHZHRXKEC-UHFFFAOYSA-N-HyfKkM-1673-B/FRNXPLHZHRXKEC-UHFFFAOYSA-N-HyfKkM-1673-B.minimised.mol',\n",
       " 73699: '/opt/xchem-fragalysis-2/maxwin/RdRp_FFF/syndirella/mar_elabs/elabs_030/FRNXPLHZHRXKEC-UHFFFAOYSA-N/output/FRNXPLHZHRXKEC-UHFFFAOYSA-N-HyfKkM-1693-B/FRNXPLHZHRXKEC-UHFFFAOYSA-N-HyfKkM-1693-B.minimised.mol',\n",
       " 73709: '/opt/xchem-fragalysis-2/maxwin/RdRp_FFF/syndirella/mar_elabs/elabs_030/FRNXPLHZHRXKEC-UHFFFAOYSA-N/output/FRNXPLHZHRXKEC-UHFFFAOYSA-N-HyfKkM-1703-C/FRNXPLHZHRXKEC-UHFFFAOYSA-N-HyfKkM-1703-C.minimised.mol',\n",
       " 73710: '/opt/xchem-fragalysis-2/maxwin/RdRp_FFF/syndirella/mar_elabs/elabs_030/FRNXPLHZHRXKEC-UHFFFAOYSA-N/output/FRNXPLHZHRXKEC-UHFFFAOYSA-N-HyfKkM-1704-A/FRNXPLHZHRXKEC-UHFFFAOYSA-N-HyfKkM-1704-A.minimised.mol',\n",
       " 73731: '/opt/xchem-fragalysis-2/maxwin/RdRp_FFF/syndirella/mar_elabs/elabs_030/FRNXPLHZHRXKEC-UHFFFAOYSA-N/output/FRNXPLHZHRXKEC-UHFFFAOYSA-N-HyfKkM-1730-A/FRNXPLHZHRXKEC-UHFFFAOYSA-N-HyfKkM-1730-A.minimised.mol',\n",
       " 72544: '/opt/xchem-fragalysis-2/maxwin/RdRp_FFF/syndirella/mar_elabs/elabs_030/FRNXPLHZHRXKEC-UHFFFAOYSA-N/output/FRNXPLHZHRXKEC-UHFFFAOYSA-N-xSWTih-123-A/FRNXPLHZHRXKEC-UHFFFAOYSA-N-xSWTih-123-A.minimised.mol',\n",
       " 72549: '/opt/xchem-fragalysis-2/maxwin/RdRp_FFF/syndirella/mar_elabs/elabs_030/FRNXPLHZHRXKEC-UHFFFAOYSA-N/output/FRNXPLHZHRXKEC-UHFFFAOYSA-N-xSWTih-134-C/FRNXPLHZHRXKEC-UHFFFAOYSA-N-xSWTih-134-C.minimised.mol',\n",
       " 72568: '/opt/xchem-fragalysis-2/maxwin/RdRp_FFF/syndirella/mar_elabs/elabs_030/FRNXPLHZHRXKEC-UHFFFAOYSA-N/output/FRNXPLHZHRXKEC-UHFFFAOYSA-N-xSWTih-149-A/FRNXPLHZHRXKEC-UHFFFAOYSA-N-xSWTih-149-A.minimised.mol',\n",
       " 72587: '/opt/xchem-fragalysis-2/maxwin/RdRp_FFF/syndirella/mar_elabs/elabs_030/FRNXPLHZHRXKEC-UHFFFAOYSA-N/output/FRNXPLHZHRXKEC-UHFFFAOYSA-N-xSWTih-205-D/FRNXPLHZHRXKEC-UHFFFAOYSA-N-xSWTih-205-D.minimised.mol',\n",
       " 72596: '/opt/xchem-fragalysis-2/maxwin/RdRp_FFF/syndirella/mar_elabs/elabs_030/FRNXPLHZHRXKEC-UHFFFAOYSA-N/output/FRNXPLHZHRXKEC-UHFFFAOYSA-N-xSWTih-215-A/FRNXPLHZHRXKEC-UHFFFAOYSA-N-xSWTih-215-A.minimised.mol',\n",
       " 72602: '/opt/xchem-fragalysis-2/maxwin/RdRp_FFF/syndirella/mar_elabs/elabs_030/FRNXPLHZHRXKEC-UHFFFAOYSA-N/output/FRNXPLHZHRXKEC-UHFFFAOYSA-N-xSWTih-224-A/FRNXPLHZHRXKEC-UHFFFAOYSA-N-xSWTih-224-A.minimised.mol',\n",
       " 72735: '/opt/xchem-fragalysis-2/maxwin/RdRp_FFF/syndirella/mar_elabs/elabs_030/FRNXPLHZHRXKEC-UHFFFAOYSA-N/output/FRNXPLHZHRXKEC-UHFFFAOYSA-N-xSWTih-283-D/FRNXPLHZHRXKEC-UHFFFAOYSA-N-xSWTih-283-D.minimised.mol',\n",
       " 72737: '/opt/xchem-fragalysis-2/maxwin/RdRp_FFF/syndirella/mar_elabs/elabs_030/FRNXPLHZHRXKEC-UHFFFAOYSA-N/output/FRNXPLHZHRXKEC-UHFFFAOYSA-N-xSWTih-302-A/FRNXPLHZHRXKEC-UHFFFAOYSA-N-xSWTih-302-A.minimised.mol',\n",
       " 72681: '/opt/xchem-fragalysis-2/maxwin/RdRp_FFF/syndirella/mar_elabs/elabs_030/FRNXPLHZHRXKEC-UHFFFAOYSA-N/output/FRNXPLHZHRXKEC-UHFFFAOYSA-N-xSWTih-324-A/FRNXPLHZHRXKEC-UHFFFAOYSA-N-xSWTih-324-A.minimised.mol',\n",
       " 72686: '/opt/xchem-fragalysis-2/maxwin/RdRp_FFF/syndirella/mar_elabs/elabs_030/FRNXPLHZHRXKEC-UHFFFAOYSA-N/output/FRNXPLHZHRXKEC-UHFFFAOYSA-N-xSWTih-331-A/FRNXPLHZHRXKEC-UHFFFAOYSA-N-xSWTih-331-A.minimised.mol',\n",
       " 72685: '/opt/xchem-fragalysis-2/maxwin/RdRp_FFF/syndirella/mar_elabs/elabs_030/FRNXPLHZHRXKEC-UHFFFAOYSA-N/output/FRNXPLHZHRXKEC-UHFFFAOYSA-N-xSWTih-333-A/FRNXPLHZHRXKEC-UHFFFAOYSA-N-xSWTih-333-A.minimised.mol',\n",
       " 72641: '/opt/xchem-fragalysis-2/maxwin/RdRp_FFF/syndirella/mar_elabs/elabs_030/FRNXPLHZHRXKEC-UHFFFAOYSA-N/output/FRNXPLHZHRXKEC-UHFFFAOYSA-N-xSWTih-341-B/FRNXPLHZHRXKEC-UHFFFAOYSA-N-xSWTih-341-B.minimised.mol',\n",
       " 72645: '/opt/xchem-fragalysis-2/maxwin/RdRp_FFF/syndirella/mar_elabs/elabs_030/FRNXPLHZHRXKEC-UHFFFAOYSA-N/output/FRNXPLHZHRXKEC-UHFFFAOYSA-N-xSWTih-383-A/FRNXPLHZHRXKEC-UHFFFAOYSA-N-xSWTih-383-A.minimised.mol',\n",
       " 72642: '/opt/xchem-fragalysis-2/maxwin/RdRp_FFF/syndirella/mar_elabs/elabs_030/FRNXPLHZHRXKEC-UHFFFAOYSA-N/output/FRNXPLHZHRXKEC-UHFFFAOYSA-N-xSWTih-386-C/FRNXPLHZHRXKEC-UHFFFAOYSA-N-xSWTih-386-C.minimised.mol',\n",
       " 72625: '/opt/xchem-fragalysis-2/maxwin/RdRp_FFF/syndirella/mar_elabs/elabs_030/FRNXPLHZHRXKEC-UHFFFAOYSA-N/output/FRNXPLHZHRXKEC-UHFFFAOYSA-N-xSWTih-393-B/FRNXPLHZHRXKEC-UHFFFAOYSA-N-xSWTih-393-B.minimised.mol',\n",
       " 72680: '/opt/xchem-fragalysis-2/maxwin/RdRp_FFF/syndirella/mar_elabs/elabs_030/FRNXPLHZHRXKEC-UHFFFAOYSA-N/output/FRNXPLHZHRXKEC-UHFFFAOYSA-N-xSWTih-399-B/FRNXPLHZHRXKEC-UHFFFAOYSA-N-xSWTih-399-B.minimised.mol',\n",
       " 72629: '/opt/xchem-fragalysis-2/maxwin/RdRp_FFF/syndirella/mar_elabs/elabs_030/FRNXPLHZHRXKEC-UHFFFAOYSA-N/output/FRNXPLHZHRXKEC-UHFFFAOYSA-N-xSWTih-402-B/FRNXPLHZHRXKEC-UHFFFAOYSA-N-xSWTih-402-B.minimised.mol',\n",
       " 72618: '/opt/xchem-fragalysis-2/maxwin/RdRp_FFF/syndirella/mar_elabs/elabs_030/FRNXPLHZHRXKEC-UHFFFAOYSA-N/output/FRNXPLHZHRXKEC-UHFFFAOYSA-N-xSWTih-411-A/FRNXPLHZHRXKEC-UHFFFAOYSA-N-xSWTih-411-A.minimised.mol',\n",
       " 72623: '/opt/xchem-fragalysis-2/maxwin/RdRp_FFF/syndirella/mar_elabs/elabs_030/FRNXPLHZHRXKEC-UHFFFAOYSA-N/output/FRNXPLHZHRXKEC-UHFFFAOYSA-N-xSWTih-414-A/FRNXPLHZHRXKEC-UHFFFAOYSA-N-xSWTih-414-A.minimised.mol',\n",
       " 72620: '/opt/xchem-fragalysis-2/maxwin/RdRp_FFF/syndirella/mar_elabs/elabs_030/FRNXPLHZHRXKEC-UHFFFAOYSA-N/output/FRNXPLHZHRXKEC-UHFFFAOYSA-N-xSWTih-416-C/FRNXPLHZHRXKEC-UHFFFAOYSA-N-xSWTih-416-C.minimised.mol',\n",
       " 72755: '/opt/xchem-fragalysis-2/maxwin/RdRp_FFF/syndirella/mar_elabs/elabs_030/FRNXPLHZHRXKEC-UHFFFAOYSA-N/output/FRNXPLHZHRXKEC-UHFFFAOYSA-N-xSWTih-424-B/FRNXPLHZHRXKEC-UHFFFAOYSA-N-xSWTih-424-B.minimised.mol',\n",
       " 72742: '/opt/xchem-fragalysis-2/maxwin/RdRp_FFF/syndirella/mar_elabs/elabs_030/FRNXPLHZHRXKEC-UHFFFAOYSA-N/output/FRNXPLHZHRXKEC-UHFFFAOYSA-N-xSWTih-432-A/FRNXPLHZHRXKEC-UHFFFAOYSA-N-xSWTih-432-A.minimised.mol',\n",
       " 73742: '/opt/xchem-fragalysis-2/maxwin/RdRp_FFF/syndirella/mar_elabs/elabs_030/FRNXPLHZHRXKEC-UHFFFAOYSA-N/output/FRNXPLHZHRXKEC-UHFFFAOYSA-N-xSWTih-439-C/FRNXPLHZHRXKEC-UHFFFAOYSA-N-xSWTih-439-C.minimised.mol',\n",
       " 72719: '/opt/xchem-fragalysis-2/maxwin/RdRp_FFF/syndirella/mar_elabs/elabs_030/FRNXPLHZHRXKEC-UHFFFAOYSA-N/output/FRNXPLHZHRXKEC-UHFFFAOYSA-N-xSWTih-445-A/FRNXPLHZHRXKEC-UHFFFAOYSA-N-xSWTih-445-A.minimised.mol',\n",
       " 72740: '/opt/xchem-fragalysis-2/maxwin/RdRp_FFF/syndirella/mar_elabs/elabs_030/FRNXPLHZHRXKEC-UHFFFAOYSA-N/output/FRNXPLHZHRXKEC-UHFFFAOYSA-N-xSWTih-456-A/FRNXPLHZHRXKEC-UHFFFAOYSA-N-xSWTih-456-A.minimised.mol',\n",
       " 72707: '/opt/xchem-fragalysis-2/maxwin/RdRp_FFF/syndirella/mar_elabs/elabs_030/FRNXPLHZHRXKEC-UHFFFAOYSA-N/output/FRNXPLHZHRXKEC-UHFFFAOYSA-N-xSWTih-459-A/FRNXPLHZHRXKEC-UHFFFAOYSA-N-xSWTih-459-A.minimised.mol',\n",
       " 72703: '/opt/xchem-fragalysis-2/maxwin/RdRp_FFF/syndirella/mar_elabs/elabs_030/FRNXPLHZHRXKEC-UHFFFAOYSA-N/output/FRNXPLHZHRXKEC-UHFFFAOYSA-N-xSWTih-466-A/FRNXPLHZHRXKEC-UHFFFAOYSA-N-xSWTih-466-A.minimised.mol',\n",
       " 72844: '/opt/xchem-fragalysis-2/maxwin/RdRp_FFF/syndirella/mar_elabs/elabs_030/FRNXPLHZHRXKEC-UHFFFAOYSA-N/output/FRNXPLHZHRXKEC-UHFFFAOYSA-N-xSWTih-491-B/FRNXPLHZHRXKEC-UHFFFAOYSA-N-xSWTih-491-B.minimised.mol',\n",
       " 72891: '/opt/xchem-fragalysis-2/maxwin/RdRp_FFF/syndirella/mar_elabs/elabs_030/FRNXPLHZHRXKEC-UHFFFAOYSA-N/output/FRNXPLHZHRXKEC-UHFFFAOYSA-N-xSWTih-496-A/FRNXPLHZHRXKEC-UHFFFAOYSA-N-xSWTih-496-A.minimised.mol',\n",
       " 72813: '/opt/xchem-fragalysis-2/maxwin/RdRp_FFF/syndirella/mar_elabs/elabs_030/FRNXPLHZHRXKEC-UHFFFAOYSA-N/output/FRNXPLHZHRXKEC-UHFFFAOYSA-N-xSWTih-542-A/FRNXPLHZHRXKEC-UHFFFAOYSA-N-xSWTih-542-A.minimised.mol',\n",
       " 72809: '/opt/xchem-fragalysis-2/maxwin/RdRp_FFF/syndirella/mar_elabs/elabs_030/FRNXPLHZHRXKEC-UHFFFAOYSA-N/output/FRNXPLHZHRXKEC-UHFFFAOYSA-N-xSWTih-545-B/FRNXPLHZHRXKEC-UHFFFAOYSA-N-xSWTih-545-B.minimised.mol',\n",
       " 72825: '/opt/xchem-fragalysis-2/maxwin/RdRp_FFF/syndirella/mar_elabs/elabs_030/FRNXPLHZHRXKEC-UHFFFAOYSA-N/output/FRNXPLHZHRXKEC-UHFFFAOYSA-N-xSWTih-549-D/FRNXPLHZHRXKEC-UHFFFAOYSA-N-xSWTih-549-D.minimised.mol',\n",
       " 72829: '/opt/xchem-fragalysis-2/maxwin/RdRp_FFF/syndirella/mar_elabs/elabs_030/FRNXPLHZHRXKEC-UHFFFAOYSA-N/output/FRNXPLHZHRXKEC-UHFFFAOYSA-N-xSWTih-550-D/FRNXPLHZHRXKEC-UHFFFAOYSA-N-xSWTih-550-D.minimised.mol',\n",
       " 72820: '/opt/xchem-fragalysis-2/maxwin/RdRp_FFF/syndirella/mar_elabs/elabs_030/FRNXPLHZHRXKEC-UHFFFAOYSA-N/output/FRNXPLHZHRXKEC-UHFFFAOYSA-N-xSWTih-559-A/FRNXPLHZHRXKEC-UHFFFAOYSA-N-xSWTih-559-A.minimised.mol',\n",
       " 72902: '/opt/xchem-fragalysis-2/maxwin/RdRp_FFF/syndirella/mar_elabs/elabs_030/FRNXPLHZHRXKEC-UHFFFAOYSA-N/output/FRNXPLHZHRXKEC-UHFFFAOYSA-N-xSWTih-565-B/FRNXPLHZHRXKEC-UHFFFAOYSA-N-xSWTih-565-B.minimised.mol',\n",
       " 72875: '/opt/xchem-fragalysis-2/maxwin/RdRp_FFF/syndirella/mar_elabs/elabs_030/FRNXPLHZHRXKEC-UHFFFAOYSA-N/output/FRNXPLHZHRXKEC-UHFFFAOYSA-N-xSWTih-618-B/FRNXPLHZHRXKEC-UHFFFAOYSA-N-xSWTih-618-B.minimised.mol',\n",
       " 72895: '/opt/xchem-fragalysis-2/maxwin/RdRp_FFF/syndirella/mar_elabs/elabs_030/FRNXPLHZHRXKEC-UHFFFAOYSA-N/output/FRNXPLHZHRXKEC-UHFFFAOYSA-N-xSWTih-630-A/FRNXPLHZHRXKEC-UHFFFAOYSA-N-xSWTih-630-A.minimised.mol',\n",
       " 72892: '/opt/xchem-fragalysis-2/maxwin/RdRp_FFF/syndirella/mar_elabs/elabs_030/FRNXPLHZHRXKEC-UHFFFAOYSA-N/output/FRNXPLHZHRXKEC-UHFFFAOYSA-N-xSWTih-648-D/FRNXPLHZHRXKEC-UHFFFAOYSA-N-xSWTih-648-D.minimised.mol',\n",
       " 72842: '/opt/xchem-fragalysis-2/maxwin/RdRp_FFF/syndirella/mar_elabs/elabs_030/FRNXPLHZHRXKEC-UHFFFAOYSA-N/output/FRNXPLHZHRXKEC-UHFFFAOYSA-N-xSWTih-649-B/FRNXPLHZHRXKEC-UHFFFAOYSA-N-xSWTih-649-B.minimised.mol',\n",
       " 72894: '/opt/xchem-fragalysis-2/maxwin/RdRp_FFF/syndirella/mar_elabs/elabs_030/FRNXPLHZHRXKEC-UHFFFAOYSA-N/output/FRNXPLHZHRXKEC-UHFFFAOYSA-N-xSWTih-650-C/FRNXPLHZHRXKEC-UHFFFAOYSA-N-xSWTih-650-C.minimised.mol',\n",
       " 72798: '/opt/xchem-fragalysis-2/maxwin/RdRp_FFF/syndirella/mar_elabs/elabs_030/FRNXPLHZHRXKEC-UHFFFAOYSA-N/output/FRNXPLHZHRXKEC-UHFFFAOYSA-N-xSWTih-652-A/FRNXPLHZHRXKEC-UHFFFAOYSA-N-xSWTih-652-A.minimised.mol',\n",
       " 72887: '/opt/xchem-fragalysis-2/maxwin/RdRp_FFF/syndirella/mar_elabs/elabs_030/FRNXPLHZHRXKEC-UHFFFAOYSA-N/output/FRNXPLHZHRXKEC-UHFFFAOYSA-N-xSWTih-654-B/FRNXPLHZHRXKEC-UHFFFAOYSA-N-xSWTih-654-B.minimised.mol',\n",
       " 72878: '/opt/xchem-fragalysis-2/maxwin/RdRp_FFF/syndirella/mar_elabs/elabs_030/FRNXPLHZHRXKEC-UHFFFAOYSA-N/output/FRNXPLHZHRXKEC-UHFFFAOYSA-N-xSWTih-658-C/FRNXPLHZHRXKEC-UHFFFAOYSA-N-xSWTih-658-C.minimised.mol',\n",
       " 72882: '/opt/xchem-fragalysis-2/maxwin/RdRp_FFF/syndirella/mar_elabs/elabs_030/FRNXPLHZHRXKEC-UHFFFAOYSA-N/output/FRNXPLHZHRXKEC-UHFFFAOYSA-N-xSWTih-662-C/FRNXPLHZHRXKEC-UHFFFAOYSA-N-xSWTih-662-C.minimised.mol',\n",
       " 72778: '/opt/xchem-fragalysis-2/maxwin/RdRp_FFF/syndirella/mar_elabs/elabs_030/FRNXPLHZHRXKEC-UHFFFAOYSA-N/output/FRNXPLHZHRXKEC-UHFFFAOYSA-N-xSWTih-681-A/FRNXPLHZHRXKEC-UHFFFAOYSA-N-xSWTih-681-A.minimised.mol',\n",
       " 72791: '/opt/xchem-fragalysis-2/maxwin/RdRp_FFF/syndirella/mar_elabs/elabs_030/FRNXPLHZHRXKEC-UHFFFAOYSA-N/output/FRNXPLHZHRXKEC-UHFFFAOYSA-N-xSWTih-682-C/FRNXPLHZHRXKEC-UHFFFAOYSA-N-xSWTih-682-C.minimised.mol',\n",
       " 72904: '/opt/xchem-fragalysis-2/maxwin/RdRp_FFF/syndirella/mar_elabs/elabs_030/FRNXPLHZHRXKEC-UHFFFAOYSA-N/output/FRNXPLHZHRXKEC-UHFFFAOYSA-N-xSWTih-683-D/FRNXPLHZHRXKEC-UHFFFAOYSA-N-xSWTih-683-D.minimised.mol',\n",
       " 72779: '/opt/xchem-fragalysis-2/maxwin/RdRp_FFF/syndirella/mar_elabs/elabs_030/FRNXPLHZHRXKEC-UHFFFAOYSA-N/output/FRNXPLHZHRXKEC-UHFFFAOYSA-N-xSWTih-694-C/FRNXPLHZHRXKEC-UHFFFAOYSA-N-xSWTih-694-C.minimised.mol',\n",
       " 72841: '/opt/xchem-fragalysis-2/maxwin/RdRp_FFF/syndirella/mar_elabs/elabs_030/FRNXPLHZHRXKEC-UHFFFAOYSA-N/output/FRNXPLHZHRXKEC-UHFFFAOYSA-N-xSWTih-699-B/FRNXPLHZHRXKEC-UHFFFAOYSA-N-xSWTih-699-B.minimised.mol',\n",
       " 72836: '/opt/xchem-fragalysis-2/maxwin/RdRp_FFF/syndirella/mar_elabs/elabs_030/FRNXPLHZHRXKEC-UHFFFAOYSA-N/output/FRNXPLHZHRXKEC-UHFFFAOYSA-N-xSWTih-702-A/FRNXPLHZHRXKEC-UHFFFAOYSA-N-xSWTih-702-A.minimised.mol',\n",
       " 72821: '/opt/xchem-fragalysis-2/maxwin/RdRp_FFF/syndirella/mar_elabs/elabs_030/FRNXPLHZHRXKEC-UHFFFAOYSA-N/output/FRNXPLHZHRXKEC-UHFFFAOYSA-N-xSWTih-705-B/FRNXPLHZHRXKEC-UHFFFAOYSA-N-xSWTih-705-B.minimised.mol',\n",
       " 72784: '/opt/xchem-fragalysis-2/maxwin/RdRp_FFF/syndirella/mar_elabs/elabs_030/FRNXPLHZHRXKEC-UHFFFAOYSA-N/output/FRNXPLHZHRXKEC-UHFFFAOYSA-N-xSWTih-715-C/FRNXPLHZHRXKEC-UHFFFAOYSA-N-xSWTih-715-C.minimised.mol',\n",
       " 73035: '/opt/xchem-fragalysis-2/maxwin/RdRp_FFF/syndirella/mar_elabs/elabs_030/FRNXPLHZHRXKEC-UHFFFAOYSA-N/output/FRNXPLHZHRXKEC-UHFFFAOYSA-N-xSWTih-719-C/FRNXPLHZHRXKEC-UHFFFAOYSA-N-xSWTih-719-C.minimised.mol',\n",
       " 73034: '/opt/xchem-fragalysis-2/maxwin/RdRp_FFF/syndirella/mar_elabs/elabs_030/FRNXPLHZHRXKEC-UHFFFAOYSA-N/output/FRNXPLHZHRXKEC-UHFFFAOYSA-N-xSWTih-720-B/FRNXPLHZHRXKEC-UHFFFAOYSA-N-xSWTih-720-B.minimised.mol',\n",
       " 73026: '/opt/xchem-fragalysis-2/maxwin/RdRp_FFF/syndirella/mar_elabs/elabs_030/FRNXPLHZHRXKEC-UHFFFAOYSA-N/output/FRNXPLHZHRXKEC-UHFFFAOYSA-N-xSWTih-721-A/FRNXPLHZHRXKEC-UHFFFAOYSA-N-xSWTih-721-A.minimised.mol',\n",
       " 72924: '/opt/xchem-fragalysis-2/maxwin/RdRp_FFF/syndirella/mar_elabs/elabs_030/FRNXPLHZHRXKEC-UHFFFAOYSA-N/output/FRNXPLHZHRXKEC-UHFFFAOYSA-N-xSWTih-725-B/FRNXPLHZHRXKEC-UHFFFAOYSA-N-xSWTih-725-B.minimised.mol',\n",
       " 73028: '/opt/xchem-fragalysis-2/maxwin/RdRp_FFF/syndirella/mar_elabs/elabs_030/FRNXPLHZHRXKEC-UHFFFAOYSA-N/output/FRNXPLHZHRXKEC-UHFFFAOYSA-N-xSWTih-726-B/FRNXPLHZHRXKEC-UHFFFAOYSA-N-xSWTih-726-B.minimised.mol',\n",
       " 73022: '/opt/xchem-fragalysis-2/maxwin/RdRp_FFF/syndirella/mar_elabs/elabs_030/FRNXPLHZHRXKEC-UHFFFAOYSA-N/output/FRNXPLHZHRXKEC-UHFFFAOYSA-N-xSWTih-737-B/FRNXPLHZHRXKEC-UHFFFAOYSA-N-xSWTih-737-B.minimised.mol',\n",
       " 73743: '/opt/xchem-fragalysis-2/maxwin/RdRp_FFF/syndirella/mar_elabs/elabs_030/FRNXPLHZHRXKEC-UHFFFAOYSA-N/output/FRNXPLHZHRXKEC-UHFFFAOYSA-N-xSWTih-738-C/FRNXPLHZHRXKEC-UHFFFAOYSA-N-xSWTih-738-C.minimised.mol',\n",
       " 72992: '/opt/xchem-fragalysis-2/maxwin/RdRp_FFF/syndirella/mar_elabs/elabs_030/FRNXPLHZHRXKEC-UHFFFAOYSA-N/output/FRNXPLHZHRXKEC-UHFFFAOYSA-N-xSWTih-739-A/FRNXPLHZHRXKEC-UHFFFAOYSA-N-xSWTih-739-A.minimised.mol',\n",
       " 73016: '/opt/xchem-fragalysis-2/maxwin/RdRp_FFF/syndirella/mar_elabs/elabs_030/FRNXPLHZHRXKEC-UHFFFAOYSA-N/output/FRNXPLHZHRXKEC-UHFFFAOYSA-N-xSWTih-740-B/FRNXPLHZHRXKEC-UHFFFAOYSA-N-xSWTih-740-B.minimised.mol',\n",
       " 72975: '/opt/xchem-fragalysis-2/maxwin/RdRp_FFF/syndirella/mar_elabs/elabs_030/FRNXPLHZHRXKEC-UHFFFAOYSA-N/output/FRNXPLHZHRXKEC-UHFFFAOYSA-N-xSWTih-743-A/FRNXPLHZHRXKEC-UHFFFAOYSA-N-xSWTih-743-A.minimised.mol',\n",
       " 73012: '/opt/xchem-fragalysis-2/maxwin/RdRp_FFF/syndirella/mar_elabs/elabs_030/FRNXPLHZHRXKEC-UHFFFAOYSA-N/output/FRNXPLHZHRXKEC-UHFFFAOYSA-N-xSWTih-746-B/FRNXPLHZHRXKEC-UHFFFAOYSA-N-xSWTih-746-B.minimised.mol',\n",
       " 72917: '/opt/xchem-fragalysis-2/maxwin/RdRp_FFF/syndirella/mar_elabs/elabs_030/FRNXPLHZHRXKEC-UHFFFAOYSA-N/output/FRNXPLHZHRXKEC-UHFFFAOYSA-N-xSWTih-754-B/FRNXPLHZHRXKEC-UHFFFAOYSA-N-xSWTih-754-B.minimised.mol',\n",
       " 72926: '/opt/xchem-fragalysis-2/maxwin/RdRp_FFF/syndirella/mar_elabs/elabs_030/FRNXPLHZHRXKEC-UHFFFAOYSA-N/output/FRNXPLHZHRXKEC-UHFFFAOYSA-N-xSWTih-755-A/FRNXPLHZHRXKEC-UHFFFAOYSA-N-xSWTih-755-A.minimised.mol',\n",
       " 73018: '/opt/xchem-fragalysis-2/maxwin/RdRp_FFF/syndirella/mar_elabs/elabs_030/FRNXPLHZHRXKEC-UHFFFAOYSA-N/output/FRNXPLHZHRXKEC-UHFFFAOYSA-N-xSWTih-765-B/FRNXPLHZHRXKEC-UHFFFAOYSA-N-xSWTih-765-B.minimised.mol',\n",
       " 72973: '/opt/xchem-fragalysis-2/maxwin/RdRp_FFF/syndirella/mar_elabs/elabs_030/FRNXPLHZHRXKEC-UHFFFAOYSA-N/output/FRNXPLHZHRXKEC-UHFFFAOYSA-N-xSWTih-766-B/FRNXPLHZHRXKEC-UHFFFAOYSA-N-xSWTih-766-B.minimised.mol',\n",
       " 73744: '/opt/xchem-fragalysis-2/maxwin/RdRp_FFF/syndirella/mar_elabs/elabs_030/FRNXPLHZHRXKEC-UHFFFAOYSA-N/output/FRNXPLHZHRXKEC-UHFFFAOYSA-N-xSWTih-774-A/FRNXPLHZHRXKEC-UHFFFAOYSA-N-xSWTih-774-A.minimised.mol',\n",
       " 73749: '/opt/xchem-fragalysis-2/maxwin/RdRp_FFF/syndirella/mar_elabs/elabs_030/FRNXPLHZHRXKEC-UHFFFAOYSA-N/output/FRNXPLHZHRXKEC-UHFFFAOYSA-N-xSWTih-783-A/FRNXPLHZHRXKEC-UHFFFAOYSA-N-xSWTih-783-A.minimised.mol',\n",
       " 73003: '/opt/xchem-fragalysis-2/maxwin/RdRp_FFF/syndirella/mar_elabs/elabs_030/FRNXPLHZHRXKEC-UHFFFAOYSA-N/output/FRNXPLHZHRXKEC-UHFFFAOYSA-N-xSWTih-795-A/FRNXPLHZHRXKEC-UHFFFAOYSA-N-xSWTih-795-A.minimised.mol',\n",
       " 73042: '/opt/xchem-fragalysis-2/maxwin/RdRp_FFF/syndirella/mar_elabs/elabs_030/FRNXPLHZHRXKEC-UHFFFAOYSA-N/output/FRNXPLHZHRXKEC-UHFFFAOYSA-N-xSWTih-804-B/FRNXPLHZHRXKEC-UHFFFAOYSA-N-xSWTih-804-B.minimised.mol',\n",
       " 73019: '/opt/xchem-fragalysis-2/maxwin/RdRp_FFF/syndirella/mar_elabs/elabs_030/FRNXPLHZHRXKEC-UHFFFAOYSA-N/output/FRNXPLHZHRXKEC-UHFFFAOYSA-N-xSWTih-810-A/FRNXPLHZHRXKEC-UHFFFAOYSA-N-xSWTih-810-A.minimised.mol',\n",
       " 73751: '/opt/xchem-fragalysis-2/maxwin/RdRp_FFF/syndirella/mar_elabs/elabs_030/FRNXPLHZHRXKEC-UHFFFAOYSA-N/output/FRNXPLHZHRXKEC-UHFFFAOYSA-N-xSWTih-812-A/FRNXPLHZHRXKEC-UHFFFAOYSA-N-xSWTih-812-A.minimised.mol',\n",
       " 73048: '/opt/xchem-fragalysis-2/maxwin/RdRp_FFF/syndirella/mar_elabs/elabs_030/FRNXPLHZHRXKEC-UHFFFAOYSA-N/output/FRNXPLHZHRXKEC-UHFFFAOYSA-N-xSWTih-832-C/FRNXPLHZHRXKEC-UHFFFAOYSA-N-xSWTih-832-C.minimised.mol',\n",
       " 72956: '/opt/xchem-fragalysis-2/maxwin/RdRp_FFF/syndirella/mar_elabs/elabs_030/FRNXPLHZHRXKEC-UHFFFAOYSA-N/output/FRNXPLHZHRXKEC-UHFFFAOYSA-N-xSWTih-837-A/FRNXPLHZHRXKEC-UHFFFAOYSA-N-xSWTih-837-A.minimised.mol',\n",
       " 73025: '/opt/xchem-fragalysis-2/maxwin/RdRp_FFF/syndirella/mar_elabs/elabs_030/FRNXPLHZHRXKEC-UHFFFAOYSA-N/output/FRNXPLHZHRXKEC-UHFFFAOYSA-N-xSWTih-844-A/FRNXPLHZHRXKEC-UHFFFAOYSA-N-xSWTih-844-A.minimised.mol',\n",
       " 73754: '/opt/xchem-fragalysis-2/maxwin/RdRp_FFF/syndirella/mar_elabs/elabs_030/FRNXPLHZHRXKEC-UHFFFAOYSA-N/output/FRNXPLHZHRXKEC-UHFFFAOYSA-N-xSWTih-851-D/FRNXPLHZHRXKEC-UHFFFAOYSA-N-xSWTih-851-D.minimised.mol',\n",
       " 72925: '/opt/xchem-fragalysis-2/maxwin/RdRp_FFF/syndirella/mar_elabs/elabs_030/FRNXPLHZHRXKEC-UHFFFAOYSA-N/output/FRNXPLHZHRXKEC-UHFFFAOYSA-N-xSWTih-852-A/FRNXPLHZHRXKEC-UHFFFAOYSA-N-xSWTih-852-A.minimised.mol',\n",
       " 73000: '/opt/xchem-fragalysis-2/maxwin/RdRp_FFF/syndirella/mar_elabs/elabs_030/FRNXPLHZHRXKEC-UHFFFAOYSA-N/output/FRNXPLHZHRXKEC-UHFFFAOYSA-N-xSWTih-861-B/FRNXPLHZHRXKEC-UHFFFAOYSA-N-xSWTih-861-B.minimised.mol',\n",
       " 73020: '/opt/xchem-fragalysis-2/maxwin/RdRp_FFF/syndirella/mar_elabs/elabs_030/FRNXPLHZHRXKEC-UHFFFAOYSA-N/output/FRNXPLHZHRXKEC-UHFFFAOYSA-N-xSWTih-879-B/FRNXPLHZHRXKEC-UHFFFAOYSA-N-xSWTih-879-B.minimised.mol',\n",
       " 73010: '/opt/xchem-fragalysis-2/maxwin/RdRp_FFF/syndirella/mar_elabs/elabs_030/FRNXPLHZHRXKEC-UHFFFAOYSA-N/output/FRNXPLHZHRXKEC-UHFFFAOYSA-N-xSWTih-913-A/FRNXPLHZHRXKEC-UHFFFAOYSA-N-xSWTih-913-A.minimised.mol',\n",
       " 72999: '/opt/xchem-fragalysis-2/maxwin/RdRp_FFF/syndirella/mar_elabs/elabs_030/FRNXPLHZHRXKEC-UHFFFAOYSA-N/output/FRNXPLHZHRXKEC-UHFFFAOYSA-N-xSWTih-918-A/FRNXPLHZHRXKEC-UHFFFAOYSA-N-xSWTih-918-A.minimised.mol',\n",
       " 73002: '/opt/xchem-fragalysis-2/maxwin/RdRp_FFF/syndirella/mar_elabs/elabs_030/FRNXPLHZHRXKEC-UHFFFAOYSA-N/output/FRNXPLHZHRXKEC-UHFFFAOYSA-N-xSWTih-922-A/FRNXPLHZHRXKEC-UHFFFAOYSA-N-xSWTih-922-A.minimised.mol',\n",
       " 72985: '/opt/xchem-fragalysis-2/maxwin/RdRp_FFF/syndirella/mar_elabs/elabs_030/FRNXPLHZHRXKEC-UHFFFAOYSA-N/output/FRNXPLHZHRXKEC-UHFFFAOYSA-N-xSWTih-923-A/FRNXPLHZHRXKEC-UHFFFAOYSA-N-xSWTih-923-A.minimised.mol',\n",
       " 73120: '/opt/xchem-fragalysis-2/maxwin/RdRp_FFF/syndirella/mar_elabs/elabs_030/FRNXPLHZHRXKEC-UHFFFAOYSA-N/output/FRNXPLHZHRXKEC-UHFFFAOYSA-N-xSWTih-940-A/FRNXPLHZHRXKEC-UHFFFAOYSA-N-xSWTih-940-A.minimised.mol',\n",
       " 73117: '/opt/xchem-fragalysis-2/maxwin/RdRp_FFF/syndirella/mar_elabs/elabs_030/FRNXPLHZHRXKEC-UHFFFAOYSA-N/output/FRNXPLHZHRXKEC-UHFFFAOYSA-N-xSWTih-945-A/FRNXPLHZHRXKEC-UHFFFAOYSA-N-xSWTih-945-A.minimised.mol',\n",
       " 73111: '/opt/xchem-fragalysis-2/maxwin/RdRp_FFF/syndirella/mar_elabs/elabs_030/FRNXPLHZHRXKEC-UHFFFAOYSA-N/output/FRNXPLHZHRXKEC-UHFFFAOYSA-N-xSWTih-949-A/FRNXPLHZHRXKEC-UHFFFAOYSA-N-xSWTih-949-A.minimised.mol',\n",
       " 73110: '/opt/xchem-fragalysis-2/maxwin/RdRp_FFF/syndirella/mar_elabs/elabs_030/FRNXPLHZHRXKEC-UHFFFAOYSA-N/output/FRNXPLHZHRXKEC-UHFFFAOYSA-N-xSWTih-952-C/FRNXPLHZHRXKEC-UHFFFAOYSA-N-xSWTih-952-C.minimised.mol',\n",
       " 73129: '/opt/xchem-fragalysis-2/maxwin/RdRp_FFF/syndirella/mar_elabs/elabs_030/FRNXPLHZHRXKEC-UHFFFAOYSA-N/output/FRNXPLHZHRXKEC-UHFFFAOYSA-N-xSWTih-960-B/FRNXPLHZHRXKEC-UHFFFAOYSA-N-xSWTih-960-B.minimised.mol',\n",
       " 73121: '/opt/xchem-fragalysis-2/maxwin/RdRp_FFF/syndirella/mar_elabs/elabs_030/FRNXPLHZHRXKEC-UHFFFAOYSA-N/output/FRNXPLHZHRXKEC-UHFFFAOYSA-N-xSWTih-970-A/FRNXPLHZHRXKEC-UHFFFAOYSA-N-xSWTih-970-A.minimised.mol',\n",
       " 73756: '/opt/xchem-fragalysis-2/maxwin/RdRp_FFF/syndirella/mar_elabs/elabs_030/FRNXPLHZHRXKEC-UHFFFAOYSA-N/output/FRNXPLHZHRXKEC-UHFFFAOYSA-N-xSWTih-972-B/FRNXPLHZHRXKEC-UHFFFAOYSA-N-xSWTih-972-B.minimised.mol',\n",
       " 73191: '/opt/xchem-fragalysis-2/maxwin/RdRp_FFF/syndirella/mar_elabs/elabs_030/FRNXPLHZHRXKEC-UHFFFAOYSA-N/output/FRNXPLHZHRXKEC-UHFFFAOYSA-N-xSWTih-974-C/FRNXPLHZHRXKEC-UHFFFAOYSA-N-xSWTih-974-C.minimised.mol',\n",
       " 73195: '/opt/xchem-fragalysis-2/maxwin/RdRp_FFF/syndirella/mar_elabs/elabs_030/FRNXPLHZHRXKEC-UHFFFAOYSA-N/output/FRNXPLHZHRXKEC-UHFFFAOYSA-N-xSWTih-976-A/FRNXPLHZHRXKEC-UHFFFAOYSA-N-xSWTih-976-A.minimised.mol',\n",
       " 73208: '/opt/xchem-fragalysis-2/maxwin/RdRp_FFF/syndirella/mar_elabs/elabs_030/FRNXPLHZHRXKEC-UHFFFAOYSA-N/output/FRNXPLHZHRXKEC-UHFFFAOYSA-N-xSWTih-978-B/FRNXPLHZHRXKEC-UHFFFAOYSA-N-xSWTih-978-B.minimised.mol',\n",
       " 73196: '/opt/xchem-fragalysis-2/maxwin/RdRp_FFF/syndirella/mar_elabs/elabs_030/FRNXPLHZHRXKEC-UHFFFAOYSA-N/output/FRNXPLHZHRXKEC-UHFFFAOYSA-N-xSWTih-982-B/FRNXPLHZHRXKEC-UHFFFAOYSA-N-xSWTih-982-B.minimised.mol',\n",
       " 73072: '/opt/xchem-fragalysis-2/maxwin/RdRp_FFF/syndirella/mar_elabs/elabs_030/FRNXPLHZHRXKEC-UHFFFAOYSA-N/output/FRNXPLHZHRXKEC-UHFFFAOYSA-N-xSWTih-996-A/FRNXPLHZHRXKEC-UHFFFAOYSA-N-xSWTih-996-A.minimised.mol',\n",
       " 73071: '/opt/xchem-fragalysis-2/maxwin/RdRp_FFF/syndirella/mar_elabs/elabs_030/FRNXPLHZHRXKEC-UHFFFAOYSA-N/output/FRNXPLHZHRXKEC-UHFFFAOYSA-N-xSWTih-998-A/FRNXPLHZHRXKEC-UHFFFAOYSA-N-xSWTih-998-A.minimised.mol',\n",
       " 73060: '/opt/xchem-fragalysis-2/maxwin/RdRp_FFF/syndirella/mar_elabs/elabs_030/FRNXPLHZHRXKEC-UHFFFAOYSA-N/output/FRNXPLHZHRXKEC-UHFFFAOYSA-N-xSWTih-999-B/FRNXPLHZHRXKEC-UHFFFAOYSA-N-xSWTih-999-B.minimised.mol',\n",
       " 73089: '/opt/xchem-fragalysis-2/maxwin/RdRp_FFF/syndirella/mar_elabs/elabs_030/FRNXPLHZHRXKEC-UHFFFAOYSA-N/output/FRNXPLHZHRXKEC-UHFFFAOYSA-N-xSWTih-1000-B/FRNXPLHZHRXKEC-UHFFFAOYSA-N-xSWTih-1000-B.minimised.mol',\n",
       " 73084: '/opt/xchem-fragalysis-2/maxwin/RdRp_FFF/syndirella/mar_elabs/elabs_030/FRNXPLHZHRXKEC-UHFFFAOYSA-N/output/FRNXPLHZHRXKEC-UHFFFAOYSA-N-xSWTih-1001-B/FRNXPLHZHRXKEC-UHFFFAOYSA-N-xSWTih-1001-B.minimised.mol',\n",
       " 73063: '/opt/xchem-fragalysis-2/maxwin/RdRp_FFF/syndirella/mar_elabs/elabs_030/FRNXPLHZHRXKEC-UHFFFAOYSA-N/output/FRNXPLHZHRXKEC-UHFFFAOYSA-N-xSWTih-1010-A/FRNXPLHZHRXKEC-UHFFFAOYSA-N-xSWTih-1010-A.minimised.mol',\n",
       " 73085: '/opt/xchem-fragalysis-2/maxwin/RdRp_FFF/syndirella/mar_elabs/elabs_030/FRNXPLHZHRXKEC-UHFFFAOYSA-N/output/FRNXPLHZHRXKEC-UHFFFAOYSA-N-xSWTih-1016-B/FRNXPLHZHRXKEC-UHFFFAOYSA-N-xSWTih-1016-B.minimised.mol',\n",
       " 73157: '/opt/xchem-fragalysis-2/maxwin/RdRp_FFF/syndirella/mar_elabs/elabs_030/FRNXPLHZHRXKEC-UHFFFAOYSA-N/output/FRNXPLHZHRXKEC-UHFFFAOYSA-N-xSWTih-1025-D/FRNXPLHZHRXKEC-UHFFFAOYSA-N-xSWTih-1025-D.minimised.mol',\n",
       " 73155: '/opt/xchem-fragalysis-2/maxwin/RdRp_FFF/syndirella/mar_elabs/elabs_030/FRNXPLHZHRXKEC-UHFFFAOYSA-N/output/FRNXPLHZHRXKEC-UHFFFAOYSA-N-xSWTih-1051-A/FRNXPLHZHRXKEC-UHFFFAOYSA-N-xSWTih-1051-A.minimised.mol',\n",
       " 73132: '/opt/xchem-fragalysis-2/maxwin/RdRp_FFF/syndirella/mar_elabs/elabs_030/FRNXPLHZHRXKEC-UHFFFAOYSA-N/output/FRNXPLHZHRXKEC-UHFFFAOYSA-N-xSWTih-1071-A/FRNXPLHZHRXKEC-UHFFFAOYSA-N-xSWTih-1071-A.minimised.mol',\n",
       " 73167: '/opt/xchem-fragalysis-2/maxwin/RdRp_FFF/syndirella/mar_elabs/elabs_030/FRNXPLHZHRXKEC-UHFFFAOYSA-N/output/FRNXPLHZHRXKEC-UHFFFAOYSA-N-xSWTih-1078-B/FRNXPLHZHRXKEC-UHFFFAOYSA-N-xSWTih-1078-B.minimised.mol',\n",
       " 73170: '/opt/xchem-fragalysis-2/maxwin/RdRp_FFF/syndirella/mar_elabs/elabs_030/FRNXPLHZHRXKEC-UHFFFAOYSA-N/output/FRNXPLHZHRXKEC-UHFFFAOYSA-N-xSWTih-1082-B/FRNXPLHZHRXKEC-UHFFFAOYSA-N-xSWTih-1082-B.minimised.mol',\n",
       " 73175: '/opt/xchem-fragalysis-2/maxwin/RdRp_FFF/syndirella/mar_elabs/elabs_030/FRNXPLHZHRXKEC-UHFFFAOYSA-N/output/FRNXPLHZHRXKEC-UHFFFAOYSA-N-xSWTih-1085-D/FRNXPLHZHRXKEC-UHFFFAOYSA-N-xSWTih-1085-D.minimised.mol',\n",
       " 73180: '/opt/xchem-fragalysis-2/maxwin/RdRp_FFF/syndirella/mar_elabs/elabs_030/FRNXPLHZHRXKEC-UHFFFAOYSA-N/output/FRNXPLHZHRXKEC-UHFFFAOYSA-N-xSWTih-1090-A/FRNXPLHZHRXKEC-UHFFFAOYSA-N-xSWTih-1090-A.minimised.mol',\n",
       " 73299: '/opt/xchem-fragalysis-2/maxwin/RdRp_FFF/syndirella/mar_elabs/elabs_030/FRNXPLHZHRXKEC-UHFFFAOYSA-N/output/FRNXPLHZHRXKEC-UHFFFAOYSA-N-xSWTih-1108-D/FRNXPLHZHRXKEC-UHFFFAOYSA-N-xSWTih-1108-D.minimised.mol',\n",
       " 73330: '/opt/xchem-fragalysis-2/maxwin/RdRp_FFF/syndirella/mar_elabs/elabs_030/FRNXPLHZHRXKEC-UHFFFAOYSA-N/output/FRNXPLHZHRXKEC-UHFFFAOYSA-N-xSWTih-1110-A/FRNXPLHZHRXKEC-UHFFFAOYSA-N-xSWTih-1110-A.minimised.mol',\n",
       " 73303: '/opt/xchem-fragalysis-2/maxwin/RdRp_FFF/syndirella/mar_elabs/elabs_030/FRNXPLHZHRXKEC-UHFFFAOYSA-N/output/FRNXPLHZHRXKEC-UHFFFAOYSA-N-xSWTih-1117-B/FRNXPLHZHRXKEC-UHFFFAOYSA-N-xSWTih-1117-B.minimised.mol',\n",
       " 73326: '/opt/xchem-fragalysis-2/maxwin/RdRp_FFF/syndirella/mar_elabs/elabs_030/FRNXPLHZHRXKEC-UHFFFAOYSA-N/output/FRNXPLHZHRXKEC-UHFFFAOYSA-N-xSWTih-1118-B/FRNXPLHZHRXKEC-UHFFFAOYSA-N-xSWTih-1118-B.minimised.mol',\n",
       " 73315: '/opt/xchem-fragalysis-2/maxwin/RdRp_FFF/syndirella/mar_elabs/elabs_030/FRNXPLHZHRXKEC-UHFFFAOYSA-N/output/FRNXPLHZHRXKEC-UHFFFAOYSA-N-xSWTih-1121-A/FRNXPLHZHRXKEC-UHFFFAOYSA-N-xSWTih-1121-A.minimised.mol',\n",
       " 73325: '/opt/xchem-fragalysis-2/maxwin/RdRp_FFF/syndirella/mar_elabs/elabs_030/FRNXPLHZHRXKEC-UHFFFAOYSA-N/output/FRNXPLHZHRXKEC-UHFFFAOYSA-N-xSWTih-1124-B/FRNXPLHZHRXKEC-UHFFFAOYSA-N-xSWTih-1124-B.minimised.mol',\n",
       " 73759: '/opt/xchem-fragalysis-2/maxwin/RdRp_FFF/syndirella/mar_elabs/elabs_030/FRNXPLHZHRXKEC-UHFFFAOYSA-N/output/FRNXPLHZHRXKEC-UHFFFAOYSA-N-xSWTih-1138-B/FRNXPLHZHRXKEC-UHFFFAOYSA-N-xSWTih-1138-B.minimised.mol',\n",
       " 73760: '/opt/xchem-fragalysis-2/maxwin/RdRp_FFF/syndirella/mar_elabs/elabs_030/FRNXPLHZHRXKEC-UHFFFAOYSA-N/output/FRNXPLHZHRXKEC-UHFFFAOYSA-N-xSWTih-1139-A/FRNXPLHZHRXKEC-UHFFFAOYSA-N-xSWTih-1139-A.minimised.mol',\n",
       " 73762: '/opt/xchem-fragalysis-2/maxwin/RdRp_FFF/syndirella/mar_elabs/elabs_030/FRNXPLHZHRXKEC-UHFFFAOYSA-N/output/FRNXPLHZHRXKEC-UHFFFAOYSA-N-xSWTih-1141-D/FRNXPLHZHRXKEC-UHFFFAOYSA-N-xSWTih-1141-D.minimised.mol',\n",
       " 73320: '/opt/xchem-fragalysis-2/maxwin/RdRp_FFF/syndirella/mar_elabs/elabs_030/FRNXPLHZHRXKEC-UHFFFAOYSA-N/output/FRNXPLHZHRXKEC-UHFFFAOYSA-N-xSWTih-1143-A/FRNXPLHZHRXKEC-UHFFFAOYSA-N-xSWTih-1143-A.minimised.mol',\n",
       " 73324: '/opt/xchem-fragalysis-2/maxwin/RdRp_FFF/syndirella/mar_elabs/elabs_030/FRNXPLHZHRXKEC-UHFFFAOYSA-N/output/FRNXPLHZHRXKEC-UHFFFAOYSA-N-xSWTih-1145-B/FRNXPLHZHRXKEC-UHFFFAOYSA-N-xSWTih-1145-B.minimised.mol',\n",
       " 73298: '/opt/xchem-fragalysis-2/maxwin/RdRp_FFF/syndirella/mar_elabs/elabs_030/FRNXPLHZHRXKEC-UHFFFAOYSA-N/output/FRNXPLHZHRXKEC-UHFFFAOYSA-N-xSWTih-1156-A/FRNXPLHZHRXKEC-UHFFFAOYSA-N-xSWTih-1156-A.minimised.mol',\n",
       " 73297: '/opt/xchem-fragalysis-2/maxwin/RdRp_FFF/syndirella/mar_elabs/elabs_030/FRNXPLHZHRXKEC-UHFFFAOYSA-N/output/FRNXPLHZHRXKEC-UHFFFAOYSA-N-xSWTih-1158-A/FRNXPLHZHRXKEC-UHFFFAOYSA-N-xSWTih-1158-A.minimised.mol',\n",
       " 73335: '/opt/xchem-fragalysis-2/maxwin/RdRp_FFF/syndirella/mar_elabs/elabs_030/FRNXPLHZHRXKEC-UHFFFAOYSA-N/output/FRNXPLHZHRXKEC-UHFFFAOYSA-N-xSWTih-1162-D/FRNXPLHZHRXKEC-UHFFFAOYSA-N-xSWTih-1162-D.minimised.mol',\n",
       " 73098: '/opt/xchem-fragalysis-2/maxwin/RdRp_FFF/syndirella/mar_elabs/elabs_030/FRNXPLHZHRXKEC-UHFFFAOYSA-N/output/FRNXPLHZHRXKEC-UHFFFAOYSA-N-xSWTih-1165-A/FRNXPLHZHRXKEC-UHFFFAOYSA-N-xSWTih-1165-A.minimised.mol',\n",
       " 73332: '/opt/xchem-fragalysis-2/maxwin/RdRp_FFF/syndirella/mar_elabs/elabs_030/FRNXPLHZHRXKEC-UHFFFAOYSA-N/output/FRNXPLHZHRXKEC-UHFFFAOYSA-N-xSWTih-1166-A/FRNXPLHZHRXKEC-UHFFFAOYSA-N-xSWTih-1166-A.minimised.mol',\n",
       " 73353: '/opt/xchem-fragalysis-2/maxwin/RdRp_FFF/syndirella/mar_elabs/elabs_030/FRNXPLHZHRXKEC-UHFFFAOYSA-N/output/FRNXPLHZHRXKEC-UHFFFAOYSA-N-xSWTih-1170-D/FRNXPLHZHRXKEC-UHFFFAOYSA-N-xSWTih-1170-D.minimised.mol',\n",
       " 73092: '/opt/xchem-fragalysis-2/maxwin/RdRp_FFF/syndirella/mar_elabs/elabs_030/FRNXPLHZHRXKEC-UHFFFAOYSA-N/output/FRNXPLHZHRXKEC-UHFFFAOYSA-N-xSWTih-1175-A/FRNXPLHZHRXKEC-UHFFFAOYSA-N-xSWTih-1175-A.minimised.mol',\n",
       " 73283: '/opt/xchem-fragalysis-2/maxwin/RdRp_FFF/syndirella/mar_elabs/elabs_030/FRNXPLHZHRXKEC-UHFFFAOYSA-N/output/FRNXPLHZHRXKEC-UHFFFAOYSA-N-xSWTih-1184-A/FRNXPLHZHRXKEC-UHFFFAOYSA-N-xSWTih-1184-A.minimised.mol',\n",
       " 73764: '/opt/xchem-fragalysis-2/maxwin/RdRp_FFF/syndirella/mar_elabs/elabs_030/FRNXPLHZHRXKEC-UHFFFAOYSA-N/output/FRNXPLHZHRXKEC-UHFFFAOYSA-N-xSWTih-1190-A/FRNXPLHZHRXKEC-UHFFFAOYSA-N-xSWTih-1190-A.minimised.mol',\n",
       " 73334: '/opt/xchem-fragalysis-2/maxwin/RdRp_FFF/syndirella/mar_elabs/elabs_030/FRNXPLHZHRXKEC-UHFFFAOYSA-N/output/FRNXPLHZHRXKEC-UHFFFAOYSA-N-xSWTih-1193-A/FRNXPLHZHRXKEC-UHFFFAOYSA-N-xSWTih-1193-A.minimised.mol',\n",
       " 73091: '/opt/xchem-fragalysis-2/maxwin/RdRp_FFF/syndirella/mar_elabs/elabs_030/FRNXPLHZHRXKEC-UHFFFAOYSA-N/output/FRNXPLHZHRXKEC-UHFFFAOYSA-N-xSWTih-1208-A/FRNXPLHZHRXKEC-UHFFFAOYSA-N-xSWTih-1208-A.minimised.mol',\n",
       " 73162: '/opt/xchem-fragalysis-2/maxwin/RdRp_FFF/syndirella/mar_elabs/elabs_030/FRNXPLHZHRXKEC-UHFFFAOYSA-N/output/FRNXPLHZHRXKEC-UHFFFAOYSA-N-xSWTih-1211-A/FRNXPLHZHRXKEC-UHFFFAOYSA-N-xSWTih-1211-A.minimised.mol',\n",
       " 73243: '/opt/xchem-fragalysis-2/maxwin/RdRp_FFF/syndirella/mar_elabs/elabs_030/FRNXPLHZHRXKEC-UHFFFAOYSA-N/output/FRNXPLHZHRXKEC-UHFFFAOYSA-N-xSWTih-1212-B/FRNXPLHZHRXKEC-UHFFFAOYSA-N-xSWTih-1212-B.minimised.mol',\n",
       " 73249: '/opt/xchem-fragalysis-2/maxwin/RdRp_FFF/syndirella/mar_elabs/elabs_030/FRNXPLHZHRXKEC-UHFFFAOYSA-N/output/FRNXPLHZHRXKEC-UHFFFAOYSA-N-xSWTih-1217-A/FRNXPLHZHRXKEC-UHFFFAOYSA-N-xSWTih-1217-A.minimised.mol',\n",
       " 73290: '/opt/xchem-fragalysis-2/maxwin/RdRp_FFF/syndirella/mar_elabs/elabs_030/FRNXPLHZHRXKEC-UHFFFAOYSA-N/output/FRNXPLHZHRXKEC-UHFFFAOYSA-N-xSWTih-1218-B/FRNXPLHZHRXKEC-UHFFFAOYSA-N-xSWTih-1218-B.minimised.mol',\n",
       " 73291: '/opt/xchem-fragalysis-2/maxwin/RdRp_FFF/syndirella/mar_elabs/elabs_030/FRNXPLHZHRXKEC-UHFFFAOYSA-N/output/FRNXPLHZHRXKEC-UHFFFAOYSA-N-xSWTih-1227-B/FRNXPLHZHRXKEC-UHFFFAOYSA-N-xSWTih-1227-B.minimised.mol',\n",
       " 73292: '/opt/xchem-fragalysis-2/maxwin/RdRp_FFF/syndirella/mar_elabs/elabs_030/FRNXPLHZHRXKEC-UHFFFAOYSA-N/output/FRNXPLHZHRXKEC-UHFFFAOYSA-N-xSWTih-1230-A/FRNXPLHZHRXKEC-UHFFFAOYSA-N-xSWTih-1230-A.minimised.mol',\n",
       " 73250: '/opt/xchem-fragalysis-2/maxwin/RdRp_FFF/syndirella/mar_elabs/elabs_030/FRNXPLHZHRXKEC-UHFFFAOYSA-N/output/FRNXPLHZHRXKEC-UHFFFAOYSA-N-xSWTih-1231-D/FRNXPLHZHRXKEC-UHFFFAOYSA-N-xSWTih-1231-D.minimised.mol',\n",
       " 73277: '/opt/xchem-fragalysis-2/maxwin/RdRp_FFF/syndirella/mar_elabs/elabs_030/FRNXPLHZHRXKEC-UHFFFAOYSA-N/output/FRNXPLHZHRXKEC-UHFFFAOYSA-N-xSWTih-1239-A/FRNXPLHZHRXKEC-UHFFFAOYSA-N-xSWTih-1239-A.minimised.mol',\n",
       " 73246: '/opt/xchem-fragalysis-2/maxwin/RdRp_FFF/syndirella/mar_elabs/elabs_030/FRNXPLHZHRXKEC-UHFFFAOYSA-N/output/FRNXPLHZHRXKEC-UHFFFAOYSA-N-xSWTih-1245-D/FRNXPLHZHRXKEC-UHFFFAOYSA-N-xSWTih-1245-D.minimised.mol',\n",
       " 73282: '/opt/xchem-fragalysis-2/maxwin/RdRp_FFF/syndirella/mar_elabs/elabs_030/FRNXPLHZHRXKEC-UHFFFAOYSA-N/output/FRNXPLHZHRXKEC-UHFFFAOYSA-N-xSWTih-1249-A/FRNXPLHZHRXKEC-UHFFFAOYSA-N-xSWTih-1249-A.minimised.mol',\n",
       " 73198: '/opt/xchem-fragalysis-2/maxwin/RdRp_FFF/syndirella/mar_elabs/elabs_030/FRNXPLHZHRXKEC-UHFFFAOYSA-N/output/FRNXPLHZHRXKEC-UHFFFAOYSA-N-xSWTih-1251-A/FRNXPLHZHRXKEC-UHFFFAOYSA-N-xSWTih-1251-A.minimised.mol',\n",
       " 73204: '/opt/xchem-fragalysis-2/maxwin/RdRp_FFF/syndirella/mar_elabs/elabs_030/FRNXPLHZHRXKEC-UHFFFAOYSA-N/output/FRNXPLHZHRXKEC-UHFFFAOYSA-N-xSWTih-1252-A/FRNXPLHZHRXKEC-UHFFFAOYSA-N-xSWTih-1252-A.minimised.mol',\n",
       " 73294: '/opt/xchem-fragalysis-2/maxwin/RdRp_FFF/syndirella/mar_elabs/elabs_030/FRNXPLHZHRXKEC-UHFFFAOYSA-N/output/FRNXPLHZHRXKEC-UHFFFAOYSA-N-xSWTih-1257-B/FRNXPLHZHRXKEC-UHFFFAOYSA-N-xSWTih-1257-B.minimised.mol',\n",
       " 73193: '/opt/xchem-fragalysis-2/maxwin/RdRp_FFF/syndirella/mar_elabs/elabs_030/FRNXPLHZHRXKEC-UHFFFAOYSA-N/output/FRNXPLHZHRXKEC-UHFFFAOYSA-N-xSWTih-1263-A/FRNXPLHZHRXKEC-UHFFFAOYSA-N-xSWTih-1263-A.minimised.mol',\n",
       " 73199: '/opt/xchem-fragalysis-2/maxwin/RdRp_FFF/syndirella/mar_elabs/elabs_030/FRNXPLHZHRXKEC-UHFFFAOYSA-N/output/FRNXPLHZHRXKEC-UHFFFAOYSA-N-xSWTih-1268-A/FRNXPLHZHRXKEC-UHFFFAOYSA-N-xSWTih-1268-A.minimised.mol',\n",
       " 73767: '/opt/xchem-fragalysis-2/maxwin/RdRp_FFF/syndirella/mar_elabs/elabs_030/FRNXPLHZHRXKEC-UHFFFAOYSA-N/output/FRNXPLHZHRXKEC-UHFFFAOYSA-N-xSWTih-1269-G/FRNXPLHZHRXKEC-UHFFFAOYSA-N-xSWTih-1269-G.minimised.mol',\n",
       " 73202: '/opt/xchem-fragalysis-2/maxwin/RdRp_FFF/syndirella/mar_elabs/elabs_030/FRNXPLHZHRXKEC-UHFFFAOYSA-N/output/FRNXPLHZHRXKEC-UHFFFAOYSA-N-xSWTih-1282-A/FRNXPLHZHRXKEC-UHFFFAOYSA-N-xSWTih-1282-A.minimised.mol',\n",
       " 73463: '/opt/xchem-fragalysis-2/maxwin/RdRp_FFF/syndirella/mar_elabs/elabs_030/FRNXPLHZHRXKEC-UHFFFAOYSA-N/output/FRNXPLHZHRXKEC-UHFFFAOYSA-N-xSWTih-1291-A/FRNXPLHZHRXKEC-UHFFFAOYSA-N-xSWTih-1291-A.minimised.mol',\n",
       " 73402: '/opt/xchem-fragalysis-2/maxwin/RdRp_FFF/syndirella/mar_elabs/elabs_030/FRNXPLHZHRXKEC-UHFFFAOYSA-N/output/FRNXPLHZHRXKEC-UHFFFAOYSA-N-xSWTih-1293-B/FRNXPLHZHRXKEC-UHFFFAOYSA-N-xSWTih-1293-B.minimised.mol',\n",
       " 73449: '/opt/xchem-fragalysis-2/maxwin/RdRp_FFF/syndirella/mar_elabs/elabs_030/FRNXPLHZHRXKEC-UHFFFAOYSA-N/output/FRNXPLHZHRXKEC-UHFFFAOYSA-N-xSWTih-1295-B/FRNXPLHZHRXKEC-UHFFFAOYSA-N-xSWTih-1295-B.minimised.mol',\n",
       " 73472: '/opt/xchem-fragalysis-2/maxwin/RdRp_FFF/syndirella/mar_elabs/elabs_030/FRNXPLHZHRXKEC-UHFFFAOYSA-N/output/FRNXPLHZHRXKEC-UHFFFAOYSA-N-xSWTih-1302-A/FRNXPLHZHRXKEC-UHFFFAOYSA-N-xSWTih-1302-A.minimised.mol',\n",
       " 73495: '/opt/xchem-fragalysis-2/maxwin/RdRp_FFF/syndirella/mar_elabs/elabs_030/FRNXPLHZHRXKEC-UHFFFAOYSA-N/output/FRNXPLHZHRXKEC-UHFFFAOYSA-N-xSWTih-1307-A/FRNXPLHZHRXKEC-UHFFFAOYSA-N-xSWTih-1307-A.minimised.mol',\n",
       " 73470: '/opt/xchem-fragalysis-2/maxwin/RdRp_FFF/syndirella/mar_elabs/elabs_030/FRNXPLHZHRXKEC-UHFFFAOYSA-N/output/FRNXPLHZHRXKEC-UHFFFAOYSA-N-xSWTih-1345-A/FRNXPLHZHRXKEC-UHFFFAOYSA-N-xSWTih-1345-A.minimised.mol',\n",
       " 73452: '/opt/xchem-fragalysis-2/maxwin/RdRp_FFF/syndirella/mar_elabs/elabs_030/FRNXPLHZHRXKEC-UHFFFAOYSA-N/output/FRNXPLHZHRXKEC-UHFFFAOYSA-N-xSWTih-1348-A/FRNXPLHZHRXKEC-UHFFFAOYSA-N-xSWTih-1348-A.minimised.mol',\n",
       " 73451: '/opt/xchem-fragalysis-2/maxwin/RdRp_FFF/syndirella/mar_elabs/elabs_030/FRNXPLHZHRXKEC-UHFFFAOYSA-N/output/FRNXPLHZHRXKEC-UHFFFAOYSA-N-xSWTih-1359-D/FRNXPLHZHRXKEC-UHFFFAOYSA-N-xSWTih-1359-D.minimised.mol',\n",
       " 73459: '/opt/xchem-fragalysis-2/maxwin/RdRp_FFF/syndirella/mar_elabs/elabs_030/FRNXPLHZHRXKEC-UHFFFAOYSA-N/output/FRNXPLHZHRXKEC-UHFFFAOYSA-N-xSWTih-1360-A/FRNXPLHZHRXKEC-UHFFFAOYSA-N-xSWTih-1360-A.minimised.mol',\n",
       " 73471: '/opt/xchem-fragalysis-2/maxwin/RdRp_FFF/syndirella/mar_elabs/elabs_030/FRNXPLHZHRXKEC-UHFFFAOYSA-N/output/FRNXPLHZHRXKEC-UHFFFAOYSA-N-xSWTih-1361-B/FRNXPLHZHRXKEC-UHFFFAOYSA-N-xSWTih-1361-B.minimised.mol',\n",
       " 73437: '/opt/xchem-fragalysis-2/maxwin/RdRp_FFF/syndirella/mar_elabs/elabs_030/FRNXPLHZHRXKEC-UHFFFAOYSA-N/output/FRNXPLHZHRXKEC-UHFFFAOYSA-N-xSWTih-1370-A/FRNXPLHZHRXKEC-UHFFFAOYSA-N-xSWTih-1370-A.minimised.mol',\n",
       " 73432: '/opt/xchem-fragalysis-2/maxwin/RdRp_FFF/syndirella/mar_elabs/elabs_030/FRNXPLHZHRXKEC-UHFFFAOYSA-N/output/FRNXPLHZHRXKEC-UHFFFAOYSA-N-xSWTih-1386-A/FRNXPLHZHRXKEC-UHFFFAOYSA-N-xSWTih-1386-A.minimised.mol',\n",
       " 73442: '/opt/xchem-fragalysis-2/maxwin/RdRp_FFF/syndirella/mar_elabs/elabs_030/FRNXPLHZHRXKEC-UHFFFAOYSA-N/output/FRNXPLHZHRXKEC-UHFFFAOYSA-N-xSWTih-1392-B/FRNXPLHZHRXKEC-UHFFFAOYSA-N-xSWTih-1392-B.minimised.mol',\n",
       " 73367: '/opt/xchem-fragalysis-2/maxwin/RdRp_FFF/syndirella/mar_elabs/elabs_030/FRNXPLHZHRXKEC-UHFFFAOYSA-N/output/FRNXPLHZHRXKEC-UHFFFAOYSA-N-xSWTih-1394-A/FRNXPLHZHRXKEC-UHFFFAOYSA-N-xSWTih-1394-A.minimised.mol',\n",
       " 73426: '/opt/xchem-fragalysis-2/maxwin/RdRp_FFF/syndirella/mar_elabs/elabs_030/FRNXPLHZHRXKEC-UHFFFAOYSA-N/output/FRNXPLHZHRXKEC-UHFFFAOYSA-N-xSWTih-1396-A/FRNXPLHZHRXKEC-UHFFFAOYSA-N-xSWTih-1396-A.minimised.mol',\n",
       " 73364: '/opt/xchem-fragalysis-2/maxwin/RdRp_FFF/syndirella/mar_elabs/elabs_030/FRNXPLHZHRXKEC-UHFFFAOYSA-N/output/FRNXPLHZHRXKEC-UHFFFAOYSA-N-xSWTih-1399-A/FRNXPLHZHRXKEC-UHFFFAOYSA-N-xSWTih-1399-A.minimised.mol',\n",
       " 73419: '/opt/xchem-fragalysis-2/maxwin/RdRp_FFF/syndirella/mar_elabs/elabs_030/FRNXPLHZHRXKEC-UHFFFAOYSA-N/output/FRNXPLHZHRXKEC-UHFFFAOYSA-N-xSWTih-1400-A/FRNXPLHZHRXKEC-UHFFFAOYSA-N-xSWTih-1400-A.minimised.mol',\n",
       " 73375: '/opt/xchem-fragalysis-2/maxwin/RdRp_FFF/syndirella/mar_elabs/elabs_030/FRNXPLHZHRXKEC-UHFFFAOYSA-N/output/FRNXPLHZHRXKEC-UHFFFAOYSA-N-xSWTih-1413-B/FRNXPLHZHRXKEC-UHFFFAOYSA-N-xSWTih-1413-B.minimised.mol',\n",
       " 73416: '/opt/xchem-fragalysis-2/maxwin/RdRp_FFF/syndirella/mar_elabs/elabs_030/FRNXPLHZHRXKEC-UHFFFAOYSA-N/output/FRNXPLHZHRXKEC-UHFFFAOYSA-N-xSWTih-1426-A/FRNXPLHZHRXKEC-UHFFFAOYSA-N-xSWTih-1426-A.minimised.mol',\n",
       " 73382: '/opt/xchem-fragalysis-2/maxwin/RdRp_FFF/syndirella/mar_elabs/elabs_030/FRNXPLHZHRXKEC-UHFFFAOYSA-N/output/FRNXPLHZHRXKEC-UHFFFAOYSA-N-xSWTih-1428-A/FRNXPLHZHRXKEC-UHFFFAOYSA-N-xSWTih-1428-A.minimised.mol',\n",
       " 73369: '/opt/xchem-fragalysis-2/maxwin/RdRp_FFF/syndirella/mar_elabs/elabs_030/FRNXPLHZHRXKEC-UHFFFAOYSA-N/output/FRNXPLHZHRXKEC-UHFFFAOYSA-N-xSWTih-1429-B/FRNXPLHZHRXKEC-UHFFFAOYSA-N-xSWTih-1429-B.minimised.mol',\n",
       " 73429: '/opt/xchem-fragalysis-2/maxwin/RdRp_FFF/syndirella/mar_elabs/elabs_030/FRNXPLHZHRXKEC-UHFFFAOYSA-N/output/FRNXPLHZHRXKEC-UHFFFAOYSA-N-xSWTih-1431-B/FRNXPLHZHRXKEC-UHFFFAOYSA-N-xSWTih-1431-B.minimised.mol',\n",
       " 73523: '/opt/xchem-fragalysis-2/maxwin/RdRp_FFF/syndirella/mar_elabs/elabs_030/FRNXPLHZHRXKEC-UHFFFAOYSA-N/output/FRNXPLHZHRXKEC-UHFFFAOYSA-N-xSWTih-1439-C/FRNXPLHZHRXKEC-UHFFFAOYSA-N-xSWTih-1439-C.minimised.mol',\n",
       " 73545: '/opt/xchem-fragalysis-2/maxwin/RdRp_FFF/syndirella/mar_elabs/elabs_030/FRNXPLHZHRXKEC-UHFFFAOYSA-N/output/FRNXPLHZHRXKEC-UHFFFAOYSA-N-xSWTih-1486-A/FRNXPLHZHRXKEC-UHFFFAOYSA-N-xSWTih-1486-A.minimised.mol',\n",
       " 73544: '/opt/xchem-fragalysis-2/maxwin/RdRp_FFF/syndirella/mar_elabs/elabs_030/FRNXPLHZHRXKEC-UHFFFAOYSA-N/output/FRNXPLHZHRXKEC-UHFFFAOYSA-N-xSWTih-1491-A/FRNXPLHZHRXKEC-UHFFFAOYSA-N-xSWTih-1491-A.minimised.mol',\n",
       " 73564: '/opt/xchem-fragalysis-2/maxwin/RdRp_FFF/syndirella/mar_elabs/elabs_030/FRNXPLHZHRXKEC-UHFFFAOYSA-N/output/FRNXPLHZHRXKEC-UHFFFAOYSA-N-xSWTih-1516-A/FRNXPLHZHRXKEC-UHFFFAOYSA-N-xSWTih-1516-A.minimised.mol',\n",
       " 73569: '/opt/xchem-fragalysis-2/maxwin/RdRp_FFF/syndirella/mar_elabs/elabs_030/FRNXPLHZHRXKEC-UHFFFAOYSA-N/output/FRNXPLHZHRXKEC-UHFFFAOYSA-N-xSWTih-1522-D/FRNXPLHZHRXKEC-UHFFFAOYSA-N-xSWTih-1522-D.minimised.mol',\n",
       " 73570: '/opt/xchem-fragalysis-2/maxwin/RdRp_FFF/syndirella/mar_elabs/elabs_030/FRNXPLHZHRXKEC-UHFFFAOYSA-N/output/FRNXPLHZHRXKEC-UHFFFAOYSA-N-xSWTih-1525-A/FRNXPLHZHRXKEC-UHFFFAOYSA-N-xSWTih-1525-A.minimised.mol',\n",
       " 73573: '/opt/xchem-fragalysis-2/maxwin/RdRp_FFF/syndirella/mar_elabs/elabs_030/FRNXPLHZHRXKEC-UHFFFAOYSA-N/output/FRNXPLHZHRXKEC-UHFFFAOYSA-N-xSWTih-1529-D/FRNXPLHZHRXKEC-UHFFFAOYSA-N-xSWTih-1529-D.minimised.mol',\n",
       " 73550: '/opt/xchem-fragalysis-2/maxwin/RdRp_FFF/syndirella/mar_elabs/elabs_030/FRNXPLHZHRXKEC-UHFFFAOYSA-N/output/FRNXPLHZHRXKEC-UHFFFAOYSA-N-xSWTih-1530-A/FRNXPLHZHRXKEC-UHFFFAOYSA-N-xSWTih-1530-A.minimised.mol',\n",
       " 73599: '/opt/xchem-fragalysis-2/maxwin/RdRp_FFF/syndirella/mar_elabs/elabs_030/FRNXPLHZHRXKEC-UHFFFAOYSA-N/output/FRNXPLHZHRXKEC-UHFFFAOYSA-N-xSWTih-1539-A/FRNXPLHZHRXKEC-UHFFFAOYSA-N-xSWTih-1539-A.minimised.mol',\n",
       " 73604: '/opt/xchem-fragalysis-2/maxwin/RdRp_FFF/syndirella/mar_elabs/elabs_030/FRNXPLHZHRXKEC-UHFFFAOYSA-N/output/FRNXPLHZHRXKEC-UHFFFAOYSA-N-xSWTih-1541-B/FRNXPLHZHRXKEC-UHFFFAOYSA-N-xSWTih-1541-B.minimised.mol',\n",
       " 73578: '/opt/xchem-fragalysis-2/maxwin/RdRp_FFF/syndirella/mar_elabs/elabs_030/FRNXPLHZHRXKEC-UHFFFAOYSA-N/output/FRNXPLHZHRXKEC-UHFFFAOYSA-N-xSWTih-1550-A/FRNXPLHZHRXKEC-UHFFFAOYSA-N-xSWTih-1550-A.minimised.mol',\n",
       " 73593: '/opt/xchem-fragalysis-2/maxwin/RdRp_FFF/syndirella/mar_elabs/elabs_030/FRNXPLHZHRXKEC-UHFFFAOYSA-N/output/FRNXPLHZHRXKEC-UHFFFAOYSA-N-xSWTih-1553-A/FRNXPLHZHRXKEC-UHFFFAOYSA-N-xSWTih-1553-A.minimised.mol',\n",
       " 73614: '/opt/xchem-fragalysis-2/maxwin/RdRp_FFF/syndirella/mar_elabs/elabs_030/FRNXPLHZHRXKEC-UHFFFAOYSA-N/output/FRNXPLHZHRXKEC-UHFFFAOYSA-N-xSWTih-1555-B/FRNXPLHZHRXKEC-UHFFFAOYSA-N-xSWTih-1555-B.minimised.mol',\n",
       " 73588: '/opt/xchem-fragalysis-2/maxwin/RdRp_FFF/syndirella/mar_elabs/elabs_030/FRNXPLHZHRXKEC-UHFFFAOYSA-N/output/FRNXPLHZHRXKEC-UHFFFAOYSA-N-xSWTih-1563-C/FRNXPLHZHRXKEC-UHFFFAOYSA-N-xSWTih-1563-C.minimised.mol',\n",
       " 73616: '/opt/xchem-fragalysis-2/maxwin/RdRp_FFF/syndirella/mar_elabs/elabs_030/FRNXPLHZHRXKEC-UHFFFAOYSA-N/output/FRNXPLHZHRXKEC-UHFFFAOYSA-N-xSWTih-1572-A/FRNXPLHZHRXKEC-UHFFFAOYSA-N-xSWTih-1572-A.minimised.mol',\n",
       " 73594: '/opt/xchem-fragalysis-2/maxwin/RdRp_FFF/syndirella/mar_elabs/elabs_030/FRNXPLHZHRXKEC-UHFFFAOYSA-N/output/FRNXPLHZHRXKEC-UHFFFAOYSA-N-xSWTih-1577-A/FRNXPLHZHRXKEC-UHFFFAOYSA-N-xSWTih-1577-A.minimised.mol',\n",
       " 73615: '/opt/xchem-fragalysis-2/maxwin/RdRp_FFF/syndirella/mar_elabs/elabs_030/FRNXPLHZHRXKEC-UHFFFAOYSA-N/output/FRNXPLHZHRXKEC-UHFFFAOYSA-N-xSWTih-1581-A/FRNXPLHZHRXKEC-UHFFFAOYSA-N-xSWTih-1581-A.minimised.mol',\n",
       " 73576: '/opt/xchem-fragalysis-2/maxwin/RdRp_FFF/syndirella/mar_elabs/elabs_030/FRNXPLHZHRXKEC-UHFFFAOYSA-N/output/FRNXPLHZHRXKEC-UHFFFAOYSA-N-xSWTih-1584-C/FRNXPLHZHRXKEC-UHFFFAOYSA-N-xSWTih-1584-C.minimised.mol',\n",
       " 73622: '/opt/xchem-fragalysis-2/maxwin/RdRp_FFF/syndirella/mar_elabs/elabs_030/FRNXPLHZHRXKEC-UHFFFAOYSA-N/output/FRNXPLHZHRXKEC-UHFFFAOYSA-N-xSWTih-1592-B/FRNXPLHZHRXKEC-UHFFFAOYSA-N-xSWTih-1592-B.minimised.mol',\n",
       " 73631: '/opt/xchem-fragalysis-2/maxwin/RdRp_FFF/syndirella/mar_elabs/elabs_030/FRNXPLHZHRXKEC-UHFFFAOYSA-N/output/FRNXPLHZHRXKEC-UHFFFAOYSA-N-xSWTih-1595-A/FRNXPLHZHRXKEC-UHFFFAOYSA-N-xSWTih-1595-A.minimised.mol',\n",
       " 73627: '/opt/xchem-fragalysis-2/maxwin/RdRp_FFF/syndirella/mar_elabs/elabs_030/FRNXPLHZHRXKEC-UHFFFAOYSA-N/output/FRNXPLHZHRXKEC-UHFFFAOYSA-N-xSWTih-1606-A/FRNXPLHZHRXKEC-UHFFFAOYSA-N-xSWTih-1606-A.minimised.mol',\n",
       " 73640: '/opt/xchem-fragalysis-2/maxwin/RdRp_FFF/syndirella/mar_elabs/elabs_030/FRNXPLHZHRXKEC-UHFFFAOYSA-N/output/FRNXPLHZHRXKEC-UHFFFAOYSA-N-xSWTih-1617-A/FRNXPLHZHRXKEC-UHFFFAOYSA-N-xSWTih-1617-A.minimised.mol',\n",
       " 73677: '/opt/xchem-fragalysis-2/maxwin/RdRp_FFF/syndirella/mar_elabs/elabs_030/FRNXPLHZHRXKEC-UHFFFAOYSA-N/output/FRNXPLHZHRXKEC-UHFFFAOYSA-N-xSWTih-1636-A/FRNXPLHZHRXKEC-UHFFFAOYSA-N-xSWTih-1636-A.minimised.mol',\n",
       " 73656: '/opt/xchem-fragalysis-2/maxwin/RdRp_FFF/syndirella/mar_elabs/elabs_030/FRNXPLHZHRXKEC-UHFFFAOYSA-N/output/FRNXPLHZHRXKEC-UHFFFAOYSA-N-xSWTih-1648-A/FRNXPLHZHRXKEC-UHFFFAOYSA-N-xSWTih-1648-A.minimised.mol',\n",
       " 73651: '/opt/xchem-fragalysis-2/maxwin/RdRp_FFF/syndirella/mar_elabs/elabs_030/FRNXPLHZHRXKEC-UHFFFAOYSA-N/output/FRNXPLHZHRXKEC-UHFFFAOYSA-N-xSWTih-1649-B/FRNXPLHZHRXKEC-UHFFFAOYSA-N-xSWTih-1649-B.minimised.mol',\n",
       " 73666: '/opt/xchem-fragalysis-2/maxwin/RdRp_FFF/syndirella/mar_elabs/elabs_030/FRNXPLHZHRXKEC-UHFFFAOYSA-N/output/FRNXPLHZHRXKEC-UHFFFAOYSA-N-xSWTih-1652-A/FRNXPLHZHRXKEC-UHFFFAOYSA-N-xSWTih-1652-A.minimised.mol',\n",
       " 73660: '/opt/xchem-fragalysis-2/maxwin/RdRp_FFF/syndirella/mar_elabs/elabs_030/FRNXPLHZHRXKEC-UHFFFAOYSA-N/output/FRNXPLHZHRXKEC-UHFFFAOYSA-N-xSWTih-1661-A/FRNXPLHZHRXKEC-UHFFFAOYSA-N-xSWTih-1661-A.minimised.mol',\n",
       " 73786: '/opt/xchem-fragalysis-2/maxwin/RdRp_FFF/syndirella/mar_elabs/elabs_030/FRNXPLHZHRXKEC-UHFFFAOYSA-N/output/FRNXPLHZHRXKEC-UHFFFAOYSA-N-xSWTih-1662-G/FRNXPLHZHRXKEC-UHFFFAOYSA-N-xSWTih-1662-G.minimised.mol',\n",
       " 73655: '/opt/xchem-fragalysis-2/maxwin/RdRp_FFF/syndirella/mar_elabs/elabs_030/FRNXPLHZHRXKEC-UHFFFAOYSA-N/output/FRNXPLHZHRXKEC-UHFFFAOYSA-N-xSWTih-1664-A/FRNXPLHZHRXKEC-UHFFFAOYSA-N-xSWTih-1664-A.minimised.mol',\n",
       " 73662: '/opt/xchem-fragalysis-2/maxwin/RdRp_FFF/syndirella/mar_elabs/elabs_030/FRNXPLHZHRXKEC-UHFFFAOYSA-N/output/FRNXPLHZHRXKEC-UHFFFAOYSA-N-xSWTih-1670-B/FRNXPLHZHRXKEC-UHFFFAOYSA-N-xSWTih-1670-B.minimised.mol',\n",
       " 73668: '/opt/xchem-fragalysis-2/maxwin/RdRp_FFF/syndirella/mar_elabs/elabs_030/FRNXPLHZHRXKEC-UHFFFAOYSA-N/output/FRNXPLHZHRXKEC-UHFFFAOYSA-N-xSWTih-1672-B/FRNXPLHZHRXKEC-UHFFFAOYSA-N-xSWTih-1672-B.minimised.mol',\n",
       " 73675: '/opt/xchem-fragalysis-2/maxwin/RdRp_FFF/syndirella/mar_elabs/elabs_030/FRNXPLHZHRXKEC-UHFFFAOYSA-N/output/FRNXPLHZHRXKEC-UHFFFAOYSA-N-xSWTih-1673-B/FRNXPLHZHRXKEC-UHFFFAOYSA-N-xSWTih-1673-B.minimised.mol',\n",
       " 73713: '/opt/xchem-fragalysis-2/maxwin/RdRp_FFF/syndirella/mar_elabs/elabs_030/FRNXPLHZHRXKEC-UHFFFAOYSA-N/output/FRNXPLHZHRXKEC-UHFFFAOYSA-N-xSWTih-1687-A/FRNXPLHZHRXKEC-UHFFFAOYSA-N-xSWTih-1687-A.minimised.mol',\n",
       " 73733: '/opt/xchem-fragalysis-2/maxwin/RdRp_FFF/syndirella/mar_elabs/elabs_030/FRNXPLHZHRXKEC-UHFFFAOYSA-N/output/FRNXPLHZHRXKEC-UHFFFAOYSA-N-xSWTih-1699-A/FRNXPLHZHRXKEC-UHFFFAOYSA-N-xSWTih-1699-A.minimised.mol',\n",
       " 73789: '/opt/xchem-fragalysis-2/maxwin/RdRp_FFF/syndirella/mar_elabs/elabs_030/FRNXPLHZHRXKEC-UHFFFAOYSA-N/output/FRNXPLHZHRXKEC-UHFFFAOYSA-N-xSWTih-1704-G/FRNXPLHZHRXKEC-UHFFFAOYSA-N-xSWTih-1704-G.minimised.mol',\n",
       " 73716: '/opt/xchem-fragalysis-2/maxwin/RdRp_FFF/syndirella/mar_elabs/elabs_030/FRNXPLHZHRXKEC-UHFFFAOYSA-N/output/FRNXPLHZHRXKEC-UHFFFAOYSA-N-xSWTih-1711-B/FRNXPLHZHRXKEC-UHFFFAOYSA-N-xSWTih-1711-B.minimised.mol',\n",
       " 73728: '/opt/xchem-fragalysis-2/maxwin/RdRp_FFF/syndirella/mar_elabs/elabs_030/FRNXPLHZHRXKEC-UHFFFAOYSA-N/output/FRNXPLHZHRXKEC-UHFFFAOYSA-N-xSWTih-1722-B/FRNXPLHZHRXKEC-UHFFFAOYSA-N-xSWTih-1722-B.minimised.mol',\n",
       " 73989: '/opt/xchem-fragalysis-2/maxwin/RdRp_FFF/syndirella/mar_elabs/elabs_000/KAFGNTYOOWFSHX-UHFFFAOYSA-N/output/KAFGNTYOOWFSHX-UHFFFAOYSA-N-ydHRJ2-2-A/KAFGNTYOOWFSHX-UHFFFAOYSA-N-ydHRJ2-2-A.minimised.mol',\n",
       " 73990: '/opt/xchem-fragalysis-2/maxwin/RdRp_FFF/syndirella/mar_elabs/elabs_000/KAFGNTYOOWFSHX-UHFFFAOYSA-N/output/KAFGNTYOOWFSHX-UHFFFAOYSA-N-ydHRJ2-3-A/KAFGNTYOOWFSHX-UHFFFAOYSA-N-ydHRJ2-3-A.minimised.mol',\n",
       " 73993: '/opt/xchem-fragalysis-2/maxwin/RdRp_FFF/syndirella/mar_elabs/elabs_000/KAFGNTYOOWFSHX-UHFFFAOYSA-N/output/KAFGNTYOOWFSHX-UHFFFAOYSA-N-ydHRJ2-7-A/KAFGNTYOOWFSHX-UHFFFAOYSA-N-ydHRJ2-7-A.minimised.mol',\n",
       " 73994: '/opt/xchem-fragalysis-2/maxwin/RdRp_FFF/syndirella/mar_elabs/elabs_000/KAFGNTYOOWFSHX-UHFFFAOYSA-N/output/KAFGNTYOOWFSHX-UHFFFAOYSA-N-ydHRJ2-8-A/KAFGNTYOOWFSHX-UHFFFAOYSA-N-ydHRJ2-8-A.minimised.mol',\n",
       " 73995: '/opt/xchem-fragalysis-2/maxwin/RdRp_FFF/syndirella/mar_elabs/elabs_000/KAFGNTYOOWFSHX-UHFFFAOYSA-N/output/KAFGNTYOOWFSHX-UHFFFAOYSA-N-ydHRJ2-9-A/KAFGNTYOOWFSHX-UHFFFAOYSA-N-ydHRJ2-9-A.minimised.mol',\n",
       " 73997: '/opt/xchem-fragalysis-2/maxwin/RdRp_FFF/syndirella/mar_elabs/elabs_000/KAFGNTYOOWFSHX-UHFFFAOYSA-N/output/KAFGNTYOOWFSHX-UHFFFAOYSA-N-ydHRJ2-11-A/KAFGNTYOOWFSHX-UHFFFAOYSA-N-ydHRJ2-11-A.minimised.mol',\n",
       " 73998: '/opt/xchem-fragalysis-2/maxwin/RdRp_FFF/syndirella/mar_elabs/elabs_000/KAFGNTYOOWFSHX-UHFFFAOYSA-N/output/KAFGNTYOOWFSHX-UHFFFAOYSA-N-ydHRJ2-12-A/KAFGNTYOOWFSHX-UHFFFAOYSA-N-ydHRJ2-12-A.minimised.mol',\n",
       " 74004: '/opt/xchem-fragalysis-2/maxwin/RdRp_FFF/syndirella/mar_elabs/elabs_000/KAFGNTYOOWFSHX-UHFFFAOYSA-N/output/KAFGNTYOOWFSHX-UHFFFAOYSA-N-ydHRJ2-18-A/KAFGNTYOOWFSHX-UHFFFAOYSA-N-ydHRJ2-18-A.minimised.mol',\n",
       " 74008: '/opt/xchem-fragalysis-2/maxwin/RdRp_FFF/syndirella/mar_elabs/elabs_000/KAFGNTYOOWFSHX-UHFFFAOYSA-N/output/KAFGNTYOOWFSHX-UHFFFAOYSA-N-ydHRJ2-22-A/KAFGNTYOOWFSHX-UHFFFAOYSA-N-ydHRJ2-22-A.minimised.mol',\n",
       " 74017: '/opt/xchem-fragalysis-2/maxwin/RdRp_FFF/syndirella/mar_elabs/elabs_000/KAFGNTYOOWFSHX-UHFFFAOYSA-N/output/KAFGNTYOOWFSHX-UHFFFAOYSA-N-ydHRJ2-34-A/KAFGNTYOOWFSHX-UHFFFAOYSA-N-ydHRJ2-34-A.minimised.mol',\n",
       " 74019: '/opt/xchem-fragalysis-2/maxwin/RdRp_FFF/syndirella/mar_elabs/elabs_000/KAFGNTYOOWFSHX-UHFFFAOYSA-N/output/KAFGNTYOOWFSHX-UHFFFAOYSA-N-ydHRJ2-36-A/KAFGNTYOOWFSHX-UHFFFAOYSA-N-ydHRJ2-36-A.minimised.mol',\n",
       " 74021: '/opt/xchem-fragalysis-2/maxwin/RdRp_FFF/syndirella/mar_elabs/elabs_000/KAFGNTYOOWFSHX-UHFFFAOYSA-N/output/KAFGNTYOOWFSHX-UHFFFAOYSA-N-ydHRJ2-39-A/KAFGNTYOOWFSHX-UHFFFAOYSA-N-ydHRJ2-39-A.minimised.mol',\n",
       " 74024: '/opt/xchem-fragalysis-2/maxwin/RdRp_FFF/syndirella/mar_elabs/elabs_000/KAFGNTYOOWFSHX-UHFFFAOYSA-N/output/KAFGNTYOOWFSHX-UHFFFAOYSA-N-ydHRJ2-42-A/KAFGNTYOOWFSHX-UHFFFAOYSA-N-ydHRJ2-42-A.minimised.mol',\n",
       " 74025: '/opt/xchem-fragalysis-2/maxwin/RdRp_FFF/syndirella/mar_elabs/elabs_000/KAFGNTYOOWFSHX-UHFFFAOYSA-N/output/KAFGNTYOOWFSHX-UHFFFAOYSA-N-ydHRJ2-43-A/KAFGNTYOOWFSHX-UHFFFAOYSA-N-ydHRJ2-43-A.minimised.mol',\n",
       " 74026: '/opt/xchem-fragalysis-2/maxwin/RdRp_FFF/syndirella/mar_elabs/elabs_000/KAFGNTYOOWFSHX-UHFFFAOYSA-N/output/KAFGNTYOOWFSHX-UHFFFAOYSA-N-ydHRJ2-44-B/KAFGNTYOOWFSHX-UHFFFAOYSA-N-ydHRJ2-44-B.minimised.mol',\n",
       " 74027: '/opt/xchem-fragalysis-2/maxwin/RdRp_FFF/syndirella/mar_elabs/elabs_000/KAFGNTYOOWFSHX-UHFFFAOYSA-N/output/KAFGNTYOOWFSHX-UHFFFAOYSA-N-ydHRJ2-45-A/KAFGNTYOOWFSHX-UHFFFAOYSA-N-ydHRJ2-45-A.minimised.mol',\n",
       " 74028: '/opt/xchem-fragalysis-2/maxwin/RdRp_FFF/syndirella/mar_elabs/elabs_000/KAFGNTYOOWFSHX-UHFFFAOYSA-N/output/KAFGNTYOOWFSHX-UHFFFAOYSA-N-ydHRJ2-46-A/KAFGNTYOOWFSHX-UHFFFAOYSA-N-ydHRJ2-46-A.minimised.mol',\n",
       " 74030: '/opt/xchem-fragalysis-2/maxwin/RdRp_FFF/syndirella/mar_elabs/elabs_000/KAFGNTYOOWFSHX-UHFFFAOYSA-N/output/KAFGNTYOOWFSHX-UHFFFAOYSA-N-ydHRJ2-50-A/KAFGNTYOOWFSHX-UHFFFAOYSA-N-ydHRJ2-50-A.minimised.mol',\n",
       " 74032: '/opt/xchem-fragalysis-2/maxwin/RdRp_FFF/syndirella/mar_elabs/elabs_000/KAFGNTYOOWFSHX-UHFFFAOYSA-N/output/KAFGNTYOOWFSHX-UHFFFAOYSA-N-ydHRJ2-52-B/KAFGNTYOOWFSHX-UHFFFAOYSA-N-ydHRJ2-52-B.minimised.mol',\n",
       " 74033: '/opt/xchem-fragalysis-2/maxwin/RdRp_FFF/syndirella/mar_elabs/elabs_000/KAFGNTYOOWFSHX-UHFFFAOYSA-N/output/KAFGNTYOOWFSHX-UHFFFAOYSA-N-ydHRJ2-53-A/KAFGNTYOOWFSHX-UHFFFAOYSA-N-ydHRJ2-53-A.minimised.mol',\n",
       " 74034: '/opt/xchem-fragalysis-2/maxwin/RdRp_FFF/syndirella/mar_elabs/elabs_000/KAFGNTYOOWFSHX-UHFFFAOYSA-N/output/KAFGNTYOOWFSHX-UHFFFAOYSA-N-ydHRJ2-54-A/KAFGNTYOOWFSHX-UHFFFAOYSA-N-ydHRJ2-54-A.minimised.mol',\n",
       " 74036: '/opt/xchem-fragalysis-2/maxwin/RdRp_FFF/syndirella/mar_elabs/elabs_000/KAFGNTYOOWFSHX-UHFFFAOYSA-N/output/KAFGNTYOOWFSHX-UHFFFAOYSA-N-ydHRJ2-56-A/KAFGNTYOOWFSHX-UHFFFAOYSA-N-ydHRJ2-56-A.minimised.mol',\n",
       " 74037: '/opt/xchem-fragalysis-2/maxwin/RdRp_FFF/syndirella/mar_elabs/elabs_000/KAFGNTYOOWFSHX-UHFFFAOYSA-N/output/KAFGNTYOOWFSHX-UHFFFAOYSA-N-ydHRJ2-59-A/KAFGNTYOOWFSHX-UHFFFAOYSA-N-ydHRJ2-59-A.minimised.mol',\n",
       " 74040: '/opt/xchem-fragalysis-2/maxwin/RdRp_FFF/syndirella/mar_elabs/elabs_000/KAFGNTYOOWFSHX-UHFFFAOYSA-N/output/KAFGNTYOOWFSHX-UHFFFAOYSA-N-ydHRJ2-62-A/KAFGNTYOOWFSHX-UHFFFAOYSA-N-ydHRJ2-62-A.minimised.mol',\n",
       " 74050: '/opt/xchem-fragalysis-2/maxwin/RdRp_FFF/syndirella/mar_elabs/elabs_000/KAFGNTYOOWFSHX-UHFFFAOYSA-N/output/KAFGNTYOOWFSHX-UHFFFAOYSA-N-ydHRJ2-73-A/KAFGNTYOOWFSHX-UHFFFAOYSA-N-ydHRJ2-73-A.minimised.mol',\n",
       " 74051: '/opt/xchem-fragalysis-2/maxwin/RdRp_FFF/syndirella/mar_elabs/elabs_000/KAFGNTYOOWFSHX-UHFFFAOYSA-N/output/KAFGNTYOOWFSHX-UHFFFAOYSA-N-ydHRJ2-74-A/KAFGNTYOOWFSHX-UHFFFAOYSA-N-ydHRJ2-74-A.minimised.mol',\n",
       " 74053: '/opt/xchem-fragalysis-2/maxwin/RdRp_FFF/syndirella/mar_elabs/elabs_000/KAFGNTYOOWFSHX-UHFFFAOYSA-N/output/KAFGNTYOOWFSHX-UHFFFAOYSA-N-ydHRJ2-76-A/KAFGNTYOOWFSHX-UHFFFAOYSA-N-ydHRJ2-76-A.minimised.mol',\n",
       " 74059: '/opt/xchem-fragalysis-2/maxwin/RdRp_FFF/syndirella/mar_elabs/elabs_000/KAFGNTYOOWFSHX-UHFFFAOYSA-N/output/KAFGNTYOOWFSHX-UHFFFAOYSA-N-ydHRJ2-82-A/KAFGNTYOOWFSHX-UHFFFAOYSA-N-ydHRJ2-82-A.minimised.mol',\n",
       " 74060: '/opt/xchem-fragalysis-2/maxwin/RdRp_FFF/syndirella/mar_elabs/elabs_000/KAFGNTYOOWFSHX-UHFFFAOYSA-N/output/KAFGNTYOOWFSHX-UHFFFAOYSA-N-ydHRJ2-83-B/KAFGNTYOOWFSHX-UHFFFAOYSA-N-ydHRJ2-83-B.minimised.mol',\n",
       " 74063: '/opt/xchem-fragalysis-2/maxwin/RdRp_FFF/syndirella/mar_elabs/elabs_000/KAFGNTYOOWFSHX-UHFFFAOYSA-N/output/KAFGNTYOOWFSHX-UHFFFAOYSA-N-ydHRJ2-88-A/KAFGNTYOOWFSHX-UHFFFAOYSA-N-ydHRJ2-88-A.minimised.mol',\n",
       " 74066: '/opt/xchem-fragalysis-2/maxwin/RdRp_FFF/syndirella/mar_elabs/elabs_000/KAFGNTYOOWFSHX-UHFFFAOYSA-N/output/KAFGNTYOOWFSHX-UHFFFAOYSA-N-ydHRJ2-91-B/KAFGNTYOOWFSHX-UHFFFAOYSA-N-ydHRJ2-91-B.minimised.mol',\n",
       " 74072: '/opt/xchem-fragalysis-2/maxwin/RdRp_FFF/syndirella/mar_elabs/elabs_000/KAFGNTYOOWFSHX-UHFFFAOYSA-N/output/KAFGNTYOOWFSHX-UHFFFAOYSA-N-ydHRJ2-97-A/KAFGNTYOOWFSHX-UHFFFAOYSA-N-ydHRJ2-97-A.minimised.mol',\n",
       " 74074: '/opt/xchem-fragalysis-2/maxwin/RdRp_FFF/syndirella/mar_elabs/elabs_000/KAFGNTYOOWFSHX-UHFFFAOYSA-N/output/KAFGNTYOOWFSHX-UHFFFAOYSA-N-ydHRJ2-100-B/KAFGNTYOOWFSHX-UHFFFAOYSA-N-ydHRJ2-100-B.minimised.mol',\n",
       " 74076: '/opt/xchem-fragalysis-2/maxwin/RdRp_FFF/syndirella/mar_elabs/elabs_000/KAFGNTYOOWFSHX-UHFFFAOYSA-N/output/KAFGNTYOOWFSHX-UHFFFAOYSA-N-ydHRJ2-102-A/KAFGNTYOOWFSHX-UHFFFAOYSA-N-ydHRJ2-102-A.minimised.mol',\n",
       " 74079: '/opt/xchem-fragalysis-2/maxwin/RdRp_FFF/syndirella/mar_elabs/elabs_000/KAFGNTYOOWFSHX-UHFFFAOYSA-N/output/KAFGNTYOOWFSHX-UHFFFAOYSA-N-ydHRJ2-105-A/KAFGNTYOOWFSHX-UHFFFAOYSA-N-ydHRJ2-105-A.minimised.mol',\n",
       " 74080: '/opt/xchem-fragalysis-2/maxwin/RdRp_FFF/syndirella/mar_elabs/elabs_000/KAFGNTYOOWFSHX-UHFFFAOYSA-N/output/KAFGNTYOOWFSHX-UHFFFAOYSA-N-ydHRJ2-106-A/KAFGNTYOOWFSHX-UHFFFAOYSA-N-ydHRJ2-106-A.minimised.mol',\n",
       " 74083: '/opt/xchem-fragalysis-2/maxwin/RdRp_FFF/syndirella/mar_elabs/elabs_000/KAFGNTYOOWFSHX-UHFFFAOYSA-N/output/KAFGNTYOOWFSHX-UHFFFAOYSA-N-ydHRJ2-110-B/KAFGNTYOOWFSHX-UHFFFAOYSA-N-ydHRJ2-110-B.minimised.mol',\n",
       " 74085: '/opt/xchem-fragalysis-2/maxwin/RdRp_FFF/syndirella/mar_elabs/elabs_000/KAFGNTYOOWFSHX-UHFFFAOYSA-N/output/KAFGNTYOOWFSHX-UHFFFAOYSA-N-ydHRJ2-112-A/KAFGNTYOOWFSHX-UHFFFAOYSA-N-ydHRJ2-112-A.minimised.mol',\n",
       " 74088: '/opt/xchem-fragalysis-2/maxwin/RdRp_FFF/syndirella/mar_elabs/elabs_000/KAFGNTYOOWFSHX-UHFFFAOYSA-N/output/KAFGNTYOOWFSHX-UHFFFAOYSA-N-ydHRJ2-115-A/KAFGNTYOOWFSHX-UHFFFAOYSA-N-ydHRJ2-115-A.minimised.mol',\n",
       " 74089: '/opt/xchem-fragalysis-2/maxwin/RdRp_FFF/syndirella/mar_elabs/elabs_000/KAFGNTYOOWFSHX-UHFFFAOYSA-N/output/KAFGNTYOOWFSHX-UHFFFAOYSA-N-ydHRJ2-117-A/KAFGNTYOOWFSHX-UHFFFAOYSA-N-ydHRJ2-117-A.minimised.mol',\n",
       " 74091: '/opt/xchem-fragalysis-2/maxwin/RdRp_FFF/syndirella/mar_elabs/elabs_000/KAFGNTYOOWFSHX-UHFFFAOYSA-N/output/KAFGNTYOOWFSHX-UHFFFAOYSA-N-ydHRJ2-120-A/KAFGNTYOOWFSHX-UHFFFAOYSA-N-ydHRJ2-120-A.minimised.mol',\n",
       " 74092: '/opt/xchem-fragalysis-2/maxwin/RdRp_FFF/syndirella/mar_elabs/elabs_000/KAFGNTYOOWFSHX-UHFFFAOYSA-N/output/KAFGNTYOOWFSHX-UHFFFAOYSA-N-ydHRJ2-121-A/KAFGNTYOOWFSHX-UHFFFAOYSA-N-ydHRJ2-121-A.minimised.mol',\n",
       " 74093: '/opt/xchem-fragalysis-2/maxwin/RdRp_FFF/syndirella/mar_elabs/elabs_000/KAFGNTYOOWFSHX-UHFFFAOYSA-N/output/KAFGNTYOOWFSHX-UHFFFAOYSA-N-ydHRJ2-122-A/KAFGNTYOOWFSHX-UHFFFAOYSA-N-ydHRJ2-122-A.minimised.mol',\n",
       " 74095: '/opt/xchem-fragalysis-2/maxwin/RdRp_FFF/syndirella/mar_elabs/elabs_000/KAFGNTYOOWFSHX-UHFFFAOYSA-N/output/KAFGNTYOOWFSHX-UHFFFAOYSA-N-ydHRJ2-124-A/KAFGNTYOOWFSHX-UHFFFAOYSA-N-ydHRJ2-124-A.minimised.mol',\n",
       " 74096: '/opt/xchem-fragalysis-2/maxwin/RdRp_FFF/syndirella/mar_elabs/elabs_000/KAFGNTYOOWFSHX-UHFFFAOYSA-N/output/KAFGNTYOOWFSHX-UHFFFAOYSA-N-ydHRJ2-125-A/KAFGNTYOOWFSHX-UHFFFAOYSA-N-ydHRJ2-125-A.minimised.mol',\n",
       " 74098: '/opt/xchem-fragalysis-2/maxwin/RdRp_FFF/syndirella/mar_elabs/elabs_000/KAFGNTYOOWFSHX-UHFFFAOYSA-N/output/KAFGNTYOOWFSHX-UHFFFAOYSA-N-ydHRJ2-127-A/KAFGNTYOOWFSHX-UHFFFAOYSA-N-ydHRJ2-127-A.minimised.mol',\n",
       " 74099: '/opt/xchem-fragalysis-2/maxwin/RdRp_FFF/syndirella/mar_elabs/elabs_000/KAFGNTYOOWFSHX-UHFFFAOYSA-N/output/KAFGNTYOOWFSHX-UHFFFAOYSA-N-ydHRJ2-129-A/KAFGNTYOOWFSHX-UHFFFAOYSA-N-ydHRJ2-129-A.minimised.mol',\n",
       " 74103: '/opt/xchem-fragalysis-2/maxwin/RdRp_FFF/syndirella/mar_elabs/elabs_000/KAFGNTYOOWFSHX-UHFFFAOYSA-N/output/KAFGNTYOOWFSHX-UHFFFAOYSA-N-ydHRJ2-134-A/KAFGNTYOOWFSHX-UHFFFAOYSA-N-ydHRJ2-134-A.minimised.mol',\n",
       " 74104: '/opt/xchem-fragalysis-2/maxwin/RdRp_FFF/syndirella/mar_elabs/elabs_000/KAFGNTYOOWFSHX-UHFFFAOYSA-N/output/KAFGNTYOOWFSHX-UHFFFAOYSA-N-ydHRJ2-135-A/KAFGNTYOOWFSHX-UHFFFAOYSA-N-ydHRJ2-135-A.minimised.mol',\n",
       " 74107: '/opt/xchem-fragalysis-2/maxwin/RdRp_FFF/syndirella/mar_elabs/elabs_000/KAFGNTYOOWFSHX-UHFFFAOYSA-N/output/KAFGNTYOOWFSHX-UHFFFAOYSA-N-ydHRJ2-139-B/KAFGNTYOOWFSHX-UHFFFAOYSA-N-ydHRJ2-139-B.minimised.mol',\n",
       " 74108: '/opt/xchem-fragalysis-2/maxwin/RdRp_FFF/syndirella/mar_elabs/elabs_000/KAFGNTYOOWFSHX-UHFFFAOYSA-N/output/KAFGNTYOOWFSHX-UHFFFAOYSA-N-ydHRJ2-140-A/KAFGNTYOOWFSHX-UHFFFAOYSA-N-ydHRJ2-140-A.minimised.mol',\n",
       " 74109: '/opt/xchem-fragalysis-2/maxwin/RdRp_FFF/syndirella/mar_elabs/elabs_000/KAFGNTYOOWFSHX-UHFFFAOYSA-N/output/KAFGNTYOOWFSHX-UHFFFAOYSA-N-ydHRJ2-141-A/KAFGNTYOOWFSHX-UHFFFAOYSA-N-ydHRJ2-141-A.minimised.mol',\n",
       " 74117: '/opt/xchem-fragalysis-2/maxwin/RdRp_FFF/syndirella/mar_elabs/elabs_000/KAFGNTYOOWFSHX-UHFFFAOYSA-N/output/KAFGNTYOOWFSHX-UHFFFAOYSA-N-ydHRJ2-155-A/KAFGNTYOOWFSHX-UHFFFAOYSA-N-ydHRJ2-155-A.minimised.mol',\n",
       " 74123: '/opt/xchem-fragalysis-2/maxwin/RdRp_FFF/syndirella/mar_elabs/elabs_000/KAFGNTYOOWFSHX-UHFFFAOYSA-N/output/KAFGNTYOOWFSHX-UHFFFAOYSA-N-ydHRJ2-165-A/KAFGNTYOOWFSHX-UHFFFAOYSA-N-ydHRJ2-165-A.minimised.mol',\n",
       " 74125: '/opt/xchem-fragalysis-2/maxwin/RdRp_FFF/syndirella/mar_elabs/elabs_000/KAFGNTYOOWFSHX-UHFFFAOYSA-N/output/KAFGNTYOOWFSHX-UHFFFAOYSA-N-ydHRJ2-169-B/KAFGNTYOOWFSHX-UHFFFAOYSA-N-ydHRJ2-169-B.minimised.mol',\n",
       " 74127: '/opt/xchem-fragalysis-2/maxwin/RdRp_FFF/syndirella/mar_elabs/elabs_000/KAFGNTYOOWFSHX-UHFFFAOYSA-N/output/KAFGNTYOOWFSHX-UHFFFAOYSA-N-ydHRJ2-171-A/KAFGNTYOOWFSHX-UHFFFAOYSA-N-ydHRJ2-171-A.minimised.mol',\n",
       " 74130: '/opt/xchem-fragalysis-2/maxwin/RdRp_FFF/syndirella/mar_elabs/elabs_000/KAFGNTYOOWFSHX-UHFFFAOYSA-N/output/KAFGNTYOOWFSHX-UHFFFAOYSA-N-ydHRJ2-176-C/KAFGNTYOOWFSHX-UHFFFAOYSA-N-ydHRJ2-176-C.minimised.mol',\n",
       " 74133: '/opt/xchem-fragalysis-2/maxwin/RdRp_FFF/syndirella/mar_elabs/elabs_000/KAFGNTYOOWFSHX-UHFFFAOYSA-N/output/KAFGNTYOOWFSHX-UHFFFAOYSA-N-ydHRJ2-180-B/KAFGNTYOOWFSHX-UHFFFAOYSA-N-ydHRJ2-180-B.minimised.mol',\n",
       " 74139: '/opt/xchem-fragalysis-2/maxwin/RdRp_FFF/syndirella/mar_elabs/elabs_000/KAFGNTYOOWFSHX-UHFFFAOYSA-N/output/KAFGNTYOOWFSHX-UHFFFAOYSA-N-ydHRJ2-193-B/KAFGNTYOOWFSHX-UHFFFAOYSA-N-ydHRJ2-193-B.minimised.mol',\n",
       " 74140: '/opt/xchem-fragalysis-2/maxwin/RdRp_FFF/syndirella/mar_elabs/elabs_000/KAFGNTYOOWFSHX-UHFFFAOYSA-N/output/KAFGNTYOOWFSHX-UHFFFAOYSA-N-ydHRJ2-196-B/KAFGNTYOOWFSHX-UHFFFAOYSA-N-ydHRJ2-196-B.minimised.mol',\n",
       " 74141: '/opt/xchem-fragalysis-2/maxwin/RdRp_FFF/syndirella/mar_elabs/elabs_000/KAFGNTYOOWFSHX-UHFFFAOYSA-N/output/KAFGNTYOOWFSHX-UHFFFAOYSA-N-ydHRJ2-199-A/KAFGNTYOOWFSHX-UHFFFAOYSA-N-ydHRJ2-199-A.minimised.mol',\n",
       " 74142: '/opt/xchem-fragalysis-2/maxwin/RdRp_FFF/syndirella/mar_elabs/elabs_000/KAFGNTYOOWFSHX-UHFFFAOYSA-N/output/KAFGNTYOOWFSHX-UHFFFAOYSA-N-ydHRJ2-200-A/KAFGNTYOOWFSHX-UHFFFAOYSA-N-ydHRJ2-200-A.minimised.mol',\n",
       " 74148: '/opt/xchem-fragalysis-2/maxwin/RdRp_FFF/syndirella/mar_elabs/elabs_000/KAFGNTYOOWFSHX-UHFFFAOYSA-N/output/KAFGNTYOOWFSHX-UHFFFAOYSA-N-ydHRJ2-208-A/KAFGNTYOOWFSHX-UHFFFAOYSA-N-ydHRJ2-208-A.minimised.mol',\n",
       " 74149: '/opt/xchem-fragalysis-2/maxwin/RdRp_FFF/syndirella/mar_elabs/elabs_000/KAFGNTYOOWFSHX-UHFFFAOYSA-N/output/KAFGNTYOOWFSHX-UHFFFAOYSA-N-ydHRJ2-209-B/KAFGNTYOOWFSHX-UHFFFAOYSA-N-ydHRJ2-209-B.minimised.mol',\n",
       " 74150: '/opt/xchem-fragalysis-2/maxwin/RdRp_FFF/syndirella/mar_elabs/elabs_000/KAFGNTYOOWFSHX-UHFFFAOYSA-N/output/KAFGNTYOOWFSHX-UHFFFAOYSA-N-ydHRJ2-212-C/KAFGNTYOOWFSHX-UHFFFAOYSA-N-ydHRJ2-212-C.minimised.mol',\n",
       " 74153: '/opt/xchem-fragalysis-2/maxwin/RdRp_FFF/syndirella/mar_elabs/elabs_000/KAFGNTYOOWFSHX-UHFFFAOYSA-N/output/KAFGNTYOOWFSHX-UHFFFAOYSA-N-ydHRJ2-221-B/KAFGNTYOOWFSHX-UHFFFAOYSA-N-ydHRJ2-221-B.minimised.mol',\n",
       " 74154: '/opt/xchem-fragalysis-2/maxwin/RdRp_FFF/syndirella/mar_elabs/elabs_000/KAFGNTYOOWFSHX-UHFFFAOYSA-N/output/KAFGNTYOOWFSHX-UHFFFAOYSA-N-ydHRJ2-222-B/KAFGNTYOOWFSHX-UHFFFAOYSA-N-ydHRJ2-222-B.minimised.mol',\n",
       " 74156: '/opt/xchem-fragalysis-2/maxwin/RdRp_FFF/syndirella/mar_elabs/elabs_000/KAFGNTYOOWFSHX-UHFFFAOYSA-N/output/KAFGNTYOOWFSHX-UHFFFAOYSA-N-ydHRJ2-224-D/KAFGNTYOOWFSHX-UHFFFAOYSA-N-ydHRJ2-224-D.minimised.mol',\n",
       " 74157: '/opt/xchem-fragalysis-2/maxwin/RdRp_FFF/syndirella/mar_elabs/elabs_000/KAFGNTYOOWFSHX-UHFFFAOYSA-N/output/KAFGNTYOOWFSHX-UHFFFAOYSA-N-ydHRJ2-226-B/KAFGNTYOOWFSHX-UHFFFAOYSA-N-ydHRJ2-226-B.minimised.mol',\n",
       " 74159: '/opt/xchem-fragalysis-2/maxwin/RdRp_FFF/syndirella/mar_elabs/elabs_000/KAFGNTYOOWFSHX-UHFFFAOYSA-N/output/KAFGNTYOOWFSHX-UHFFFAOYSA-N-ydHRJ2-229-A/KAFGNTYOOWFSHX-UHFFFAOYSA-N-ydHRJ2-229-A.minimised.mol',\n",
       " 74162: '/opt/xchem-fragalysis-2/maxwin/RdRp_FFF/syndirella/mar_elabs/elabs_000/KAFGNTYOOWFSHX-UHFFFAOYSA-N/output/KAFGNTYOOWFSHX-UHFFFAOYSA-N-ydHRJ2-233-A/KAFGNTYOOWFSHX-UHFFFAOYSA-N-ydHRJ2-233-A.minimised.mol',\n",
       " 74164: '/opt/xchem-fragalysis-2/maxwin/RdRp_FFF/syndirella/mar_elabs/elabs_000/KAFGNTYOOWFSHX-UHFFFAOYSA-N/output/KAFGNTYOOWFSHX-UHFFFAOYSA-N-ydHRJ2-237-B/KAFGNTYOOWFSHX-UHFFFAOYSA-N-ydHRJ2-237-B.minimised.mol',\n",
       " 74168: '/opt/xchem-fragalysis-2/maxwin/RdRp_FFF/syndirella/mar_elabs/elabs_000/KAFGNTYOOWFSHX-UHFFFAOYSA-N/output/KAFGNTYOOWFSHX-UHFFFAOYSA-N-ydHRJ2-244-C/KAFGNTYOOWFSHX-UHFFFAOYSA-N-ydHRJ2-244-C.minimised.mol',\n",
       " 74170: '/opt/xchem-fragalysis-2/maxwin/RdRp_FFF/syndirella/mar_elabs/elabs_000/KAFGNTYOOWFSHX-UHFFFAOYSA-N/output/KAFGNTYOOWFSHX-UHFFFAOYSA-N-ydHRJ2-246-A/KAFGNTYOOWFSHX-UHFFFAOYSA-N-ydHRJ2-246-A.minimised.mol',\n",
       " 74171: '/opt/xchem-fragalysis-2/maxwin/RdRp_FFF/syndirella/mar_elabs/elabs_000/KAFGNTYOOWFSHX-UHFFFAOYSA-N/output/KAFGNTYOOWFSHX-UHFFFAOYSA-N-ydHRJ2-248-C/KAFGNTYOOWFSHX-UHFFFAOYSA-N-ydHRJ2-248-C.minimised.mol',\n",
       " 74172: '/opt/xchem-fragalysis-2/maxwin/RdRp_FFF/syndirella/mar_elabs/elabs_000/KAFGNTYOOWFSHX-UHFFFAOYSA-N/output/KAFGNTYOOWFSHX-UHFFFAOYSA-N-ydHRJ2-250-A/KAFGNTYOOWFSHX-UHFFFAOYSA-N-ydHRJ2-250-A.minimised.mol',\n",
       " 74178: '/opt/xchem-fragalysis-2/maxwin/RdRp_FFF/syndirella/mar_elabs/elabs_000/KAFGNTYOOWFSHX-UHFFFAOYSA-N/output/KAFGNTYOOWFSHX-UHFFFAOYSA-N-ydHRJ2-257-A/KAFGNTYOOWFSHX-UHFFFAOYSA-N-ydHRJ2-257-A.minimised.mol',\n",
       " 74182: '/opt/xchem-fragalysis-2/maxwin/RdRp_FFF/syndirella/mar_elabs/elabs_000/KAFGNTYOOWFSHX-UHFFFAOYSA-N/output/KAFGNTYOOWFSHX-UHFFFAOYSA-N-ydHRJ2-265-A/KAFGNTYOOWFSHX-UHFFFAOYSA-N-ydHRJ2-265-A.minimised.mol',\n",
       " 74183: '/opt/xchem-fragalysis-2/maxwin/RdRp_FFF/syndirella/mar_elabs/elabs_000/KAFGNTYOOWFSHX-UHFFFAOYSA-N/output/KAFGNTYOOWFSHX-UHFFFAOYSA-N-ydHRJ2-266-D/KAFGNTYOOWFSHX-UHFFFAOYSA-N-ydHRJ2-266-D.minimised.mol',\n",
       " 74189: '/opt/xchem-fragalysis-2/maxwin/RdRp_FFF/syndirella/mar_elabs/elabs_000/KAFGNTYOOWFSHX-UHFFFAOYSA-N/output/KAFGNTYOOWFSHX-UHFFFAOYSA-N-ydHRJ2-277-C/KAFGNTYOOWFSHX-UHFFFAOYSA-N-ydHRJ2-277-C.minimised.mol',\n",
       " 74192: '/opt/xchem-fragalysis-2/maxwin/RdRp_FFF/syndirella/mar_elabs/elabs_000/KAFGNTYOOWFSHX-UHFFFAOYSA-N/output/KAFGNTYOOWFSHX-UHFFFAOYSA-N-ydHRJ2-281-D/KAFGNTYOOWFSHX-UHFFFAOYSA-N-ydHRJ2-281-D.minimised.mol',\n",
       " 74195: '/opt/xchem-fragalysis-2/maxwin/RdRp_FFF/syndirella/mar_elabs/elabs_000/KAFGNTYOOWFSHX-UHFFFAOYSA-N/output/KAFGNTYOOWFSHX-UHFFFAOYSA-N-ydHRJ2-284-A/KAFGNTYOOWFSHX-UHFFFAOYSA-N-ydHRJ2-284-A.minimised.mol',\n",
       " 74196: '/opt/xchem-fragalysis-2/maxwin/RdRp_FFF/syndirella/mar_elabs/elabs_000/KAFGNTYOOWFSHX-UHFFFAOYSA-N/output/KAFGNTYOOWFSHX-UHFFFAOYSA-N-ydHRJ2-286-A/KAFGNTYOOWFSHX-UHFFFAOYSA-N-ydHRJ2-286-A.minimised.mol',\n",
       " 74197: '/opt/xchem-fragalysis-2/maxwin/RdRp_FFF/syndirella/mar_elabs/elabs_000/KAFGNTYOOWFSHX-UHFFFAOYSA-N/output/KAFGNTYOOWFSHX-UHFFFAOYSA-N-ydHRJ2-289-A/KAFGNTYOOWFSHX-UHFFFAOYSA-N-ydHRJ2-289-A.minimised.mol',\n",
       " 74198: '/opt/xchem-fragalysis-2/maxwin/RdRp_FFF/syndirella/mar_elabs/elabs_000/KAFGNTYOOWFSHX-UHFFFAOYSA-N/output/KAFGNTYOOWFSHX-UHFFFAOYSA-N-ydHRJ2-290-B/KAFGNTYOOWFSHX-UHFFFAOYSA-N-ydHRJ2-290-B.minimised.mol',\n",
       " 74199: '/opt/xchem-fragalysis-2/maxwin/RdRp_FFF/syndirella/mar_elabs/elabs_000/KAFGNTYOOWFSHX-UHFFFAOYSA-N/output/KAFGNTYOOWFSHX-UHFFFAOYSA-N-ydHRJ2-292-A/KAFGNTYOOWFSHX-UHFFFAOYSA-N-ydHRJ2-292-A.minimised.mol',\n",
       " 74200: '/opt/xchem-fragalysis-2/maxwin/RdRp_FFF/syndirella/mar_elabs/elabs_000/KAFGNTYOOWFSHX-UHFFFAOYSA-N/output/KAFGNTYOOWFSHX-UHFFFAOYSA-N-ydHRJ2-294-D/KAFGNTYOOWFSHX-UHFFFAOYSA-N-ydHRJ2-294-D.minimised.mol',\n",
       " 74201: '/opt/xchem-fragalysis-2/maxwin/RdRp_FFF/syndirella/mar_elabs/elabs_000/KAFGNTYOOWFSHX-UHFFFAOYSA-N/output/KAFGNTYOOWFSHX-UHFFFAOYSA-N-ydHRJ2-296-A/KAFGNTYOOWFSHX-UHFFFAOYSA-N-ydHRJ2-296-A.minimised.mol',\n",
       " 74202: '/opt/xchem-fragalysis-2/maxwin/RdRp_FFF/syndirella/mar_elabs/elabs_000/KAFGNTYOOWFSHX-UHFFFAOYSA-N/output/KAFGNTYOOWFSHX-UHFFFAOYSA-N-ydHRJ2-299-A/KAFGNTYOOWFSHX-UHFFFAOYSA-N-ydHRJ2-299-A.minimised.mol',\n",
       " 74203: '/opt/xchem-fragalysis-2/maxwin/RdRp_FFF/syndirella/mar_elabs/elabs_000/KAFGNTYOOWFSHX-UHFFFAOYSA-N/output/KAFGNTYOOWFSHX-UHFFFAOYSA-N-ydHRJ2-300-A/KAFGNTYOOWFSHX-UHFFFAOYSA-N-ydHRJ2-300-A.minimised.mol',\n",
       " 74204: '/opt/xchem-fragalysis-2/maxwin/RdRp_FFF/syndirella/mar_elabs/elabs_000/KAFGNTYOOWFSHX-UHFFFAOYSA-N/output/KAFGNTYOOWFSHX-UHFFFAOYSA-N-ydHRJ2-301-D/KAFGNTYOOWFSHX-UHFFFAOYSA-N-ydHRJ2-301-D.minimised.mol',\n",
       " 74206: '/opt/xchem-fragalysis-2/maxwin/RdRp_FFF/syndirella/mar_elabs/elabs_000/KAFGNTYOOWFSHX-UHFFFAOYSA-N/output/KAFGNTYOOWFSHX-UHFFFAOYSA-N-ydHRJ2-303-C/KAFGNTYOOWFSHX-UHFFFAOYSA-N-ydHRJ2-303-C.minimised.mol',\n",
       " 74208: '/opt/xchem-fragalysis-2/maxwin/RdRp_FFF/syndirella/mar_elabs/elabs_000/KAFGNTYOOWFSHX-UHFFFAOYSA-N/output/KAFGNTYOOWFSHX-UHFFFAOYSA-N-ydHRJ2-305-A/KAFGNTYOOWFSHX-UHFFFAOYSA-N-ydHRJ2-305-A.minimised.mol',\n",
       " 74212: '/opt/xchem-fragalysis-2/maxwin/RdRp_FFF/syndirella/mar_elabs/elabs_000/KAFGNTYOOWFSHX-UHFFFAOYSA-N/output/KAFGNTYOOWFSHX-UHFFFAOYSA-N-ydHRJ2-310-A/KAFGNTYOOWFSHX-UHFFFAOYSA-N-ydHRJ2-310-A.minimised.mol',\n",
       " 74214: '/opt/xchem-fragalysis-2/maxwin/RdRp_FFF/syndirella/mar_elabs/elabs_000/KAFGNTYOOWFSHX-UHFFFAOYSA-N/output/KAFGNTYOOWFSHX-UHFFFAOYSA-N-ydHRJ2-312-B/KAFGNTYOOWFSHX-UHFFFAOYSA-N-ydHRJ2-312-B.minimised.mol',\n",
       " 74218: '/opt/xchem-fragalysis-2/maxwin/RdRp_FFF/syndirella/mar_elabs/elabs_000/KAFGNTYOOWFSHX-UHFFFAOYSA-N/output/KAFGNTYOOWFSHX-UHFFFAOYSA-N-ydHRJ2-316-B/KAFGNTYOOWFSHX-UHFFFAOYSA-N-ydHRJ2-316-B.minimised.mol',\n",
       " 74219: '/opt/xchem-fragalysis-2/maxwin/RdRp_FFF/syndirella/mar_elabs/elabs_000/KAFGNTYOOWFSHX-UHFFFAOYSA-N/output/KAFGNTYOOWFSHX-UHFFFAOYSA-N-ydHRJ2-318-A/KAFGNTYOOWFSHX-UHFFFAOYSA-N-ydHRJ2-318-A.minimised.mol',\n",
       " 74220: '/opt/xchem-fragalysis-2/maxwin/RdRp_FFF/syndirella/mar_elabs/elabs_000/KAFGNTYOOWFSHX-UHFFFAOYSA-N/output/KAFGNTYOOWFSHX-UHFFFAOYSA-N-ydHRJ2-320-B/KAFGNTYOOWFSHX-UHFFFAOYSA-N-ydHRJ2-320-B.minimised.mol',\n",
       " 74221: '/opt/xchem-fragalysis-2/maxwin/RdRp_FFF/syndirella/mar_elabs/elabs_000/KAFGNTYOOWFSHX-UHFFFAOYSA-N/output/KAFGNTYOOWFSHX-UHFFFAOYSA-N-ydHRJ2-321-A/KAFGNTYOOWFSHX-UHFFFAOYSA-N-ydHRJ2-321-A.minimised.mol',\n",
       " 74224: '/opt/xchem-fragalysis-2/maxwin/RdRp_FFF/syndirella/mar_elabs/elabs_000/KAFGNTYOOWFSHX-UHFFFAOYSA-N/output/KAFGNTYOOWFSHX-UHFFFAOYSA-N-ydHRJ2-326-A/KAFGNTYOOWFSHX-UHFFFAOYSA-N-ydHRJ2-326-A.minimised.mol',\n",
       " 74226: '/opt/xchem-fragalysis-2/maxwin/RdRp_FFF/syndirella/mar_elabs/elabs_000/KAFGNTYOOWFSHX-UHFFFAOYSA-N/output/KAFGNTYOOWFSHX-UHFFFAOYSA-N-ydHRJ2-328-A/KAFGNTYOOWFSHX-UHFFFAOYSA-N-ydHRJ2-328-A.minimised.mol',\n",
       " 74227: '/opt/xchem-fragalysis-2/maxwin/RdRp_FFF/syndirella/mar_elabs/elabs_000/KAFGNTYOOWFSHX-UHFFFAOYSA-N/output/KAFGNTYOOWFSHX-UHFFFAOYSA-N-ydHRJ2-329-B/KAFGNTYOOWFSHX-UHFFFAOYSA-N-ydHRJ2-329-B.minimised.mol',\n",
       " 74228: '/opt/xchem-fragalysis-2/maxwin/RdRp_FFF/syndirella/mar_elabs/elabs_000/KAFGNTYOOWFSHX-UHFFFAOYSA-N/output/KAFGNTYOOWFSHX-UHFFFAOYSA-N-ydHRJ2-331-B/KAFGNTYOOWFSHX-UHFFFAOYSA-N-ydHRJ2-331-B.minimised.mol',\n",
       " 74229: '/opt/xchem-fragalysis-2/maxwin/RdRp_FFF/syndirella/mar_elabs/elabs_000/KAFGNTYOOWFSHX-UHFFFAOYSA-N/output/KAFGNTYOOWFSHX-UHFFFAOYSA-N-ydHRJ2-334-B/KAFGNTYOOWFSHX-UHFFFAOYSA-N-ydHRJ2-334-B.minimised.mol',\n",
       " 74230: '/opt/xchem-fragalysis-2/maxwin/RdRp_FFF/syndirella/mar_elabs/elabs_000/KAFGNTYOOWFSHX-UHFFFAOYSA-N/output/KAFGNTYOOWFSHX-UHFFFAOYSA-N-ydHRJ2-335-A/KAFGNTYOOWFSHX-UHFFFAOYSA-N-ydHRJ2-335-A.minimised.mol',\n",
       " 74234: '/opt/xchem-fragalysis-2/maxwin/RdRp_FFF/syndirella/mar_elabs/elabs_000/KAFGNTYOOWFSHX-UHFFFAOYSA-N/output/KAFGNTYOOWFSHX-UHFFFAOYSA-N-ydHRJ2-340-A/KAFGNTYOOWFSHX-UHFFFAOYSA-N-ydHRJ2-340-A.minimised.mol',\n",
       " 74238: '/opt/xchem-fragalysis-2/maxwin/RdRp_FFF/syndirella/mar_elabs/elabs_000/KAFGNTYOOWFSHX-UHFFFAOYSA-N/output/KAFGNTYOOWFSHX-UHFFFAOYSA-N-ydHRJ2-345-B/KAFGNTYOOWFSHX-UHFFFAOYSA-N-ydHRJ2-345-B.minimised.mol',\n",
       " 74239: '/opt/xchem-fragalysis-2/maxwin/RdRp_FFF/syndirella/mar_elabs/elabs_000/KAFGNTYOOWFSHX-UHFFFAOYSA-N/output/KAFGNTYOOWFSHX-UHFFFAOYSA-N-ydHRJ2-346-B/KAFGNTYOOWFSHX-UHFFFAOYSA-N-ydHRJ2-346-B.minimised.mol',\n",
       " 74241: '/opt/xchem-fragalysis-2/maxwin/RdRp_FFF/syndirella/mar_elabs/elabs_000/KAFGNTYOOWFSHX-UHFFFAOYSA-N/output/KAFGNTYOOWFSHX-UHFFFAOYSA-N-ydHRJ2-348-A/KAFGNTYOOWFSHX-UHFFFAOYSA-N-ydHRJ2-348-A.minimised.mol',\n",
       " 74242: '/opt/xchem-fragalysis-2/maxwin/RdRp_FFF/syndirella/mar_elabs/elabs_000/KAFGNTYOOWFSHX-UHFFFAOYSA-N/output/KAFGNTYOOWFSHX-UHFFFAOYSA-N-ydHRJ2-349-B/KAFGNTYOOWFSHX-UHFFFAOYSA-N-ydHRJ2-349-B.minimised.mol',\n",
       " 74243: '/opt/xchem-fragalysis-2/maxwin/RdRp_FFF/syndirella/mar_elabs/elabs_000/KAFGNTYOOWFSHX-UHFFFAOYSA-N/output/KAFGNTYOOWFSHX-UHFFFAOYSA-N-ydHRJ2-351-A/KAFGNTYOOWFSHX-UHFFFAOYSA-N-ydHRJ2-351-A.minimised.mol',\n",
       " 74248: '/opt/xchem-fragalysis-2/maxwin/RdRp_FFF/syndirella/mar_elabs/elabs_000/KAFGNTYOOWFSHX-UHFFFAOYSA-N/output/KAFGNTYOOWFSHX-UHFFFAOYSA-N-ydHRJ2-357-A/KAFGNTYOOWFSHX-UHFFFAOYSA-N-ydHRJ2-357-A.minimised.mol',\n",
       " 74252: '/opt/xchem-fragalysis-2/maxwin/RdRp_FFF/syndirella/mar_elabs/elabs_000/KAFGNTYOOWFSHX-UHFFFAOYSA-N/output/KAFGNTYOOWFSHX-UHFFFAOYSA-N-ydHRJ2-363-A/KAFGNTYOOWFSHX-UHFFFAOYSA-N-ydHRJ2-363-A.minimised.mol',\n",
       " 74256: '/opt/xchem-fragalysis-2/maxwin/RdRp_FFF/syndirella/mar_elabs/elabs_000/KAFGNTYOOWFSHX-UHFFFAOYSA-N/output/KAFGNTYOOWFSHX-UHFFFAOYSA-N-ydHRJ2-367-A/KAFGNTYOOWFSHX-UHFFFAOYSA-N-ydHRJ2-367-A.minimised.mol',\n",
       " 74258: '/opt/xchem-fragalysis-2/maxwin/RdRp_FFF/syndirella/mar_elabs/elabs_000/KAFGNTYOOWFSHX-UHFFFAOYSA-N/output/KAFGNTYOOWFSHX-UHFFFAOYSA-N-ydHRJ2-369-D/KAFGNTYOOWFSHX-UHFFFAOYSA-N-ydHRJ2-369-D.minimised.mol',\n",
       " 74262: '/opt/xchem-fragalysis-2/maxwin/RdRp_FFF/syndirella/mar_elabs/elabs_000/KAFGNTYOOWFSHX-UHFFFAOYSA-N/output/KAFGNTYOOWFSHX-UHFFFAOYSA-N-ydHRJ2-373-A/KAFGNTYOOWFSHX-UHFFFAOYSA-N-ydHRJ2-373-A.minimised.mol',\n",
       " 74264: '/opt/xchem-fragalysis-2/maxwin/RdRp_FFF/syndirella/mar_elabs/elabs_000/KAFGNTYOOWFSHX-UHFFFAOYSA-N/output/KAFGNTYOOWFSHX-UHFFFAOYSA-N-ydHRJ2-376-B/KAFGNTYOOWFSHX-UHFFFAOYSA-N-ydHRJ2-376-B.minimised.mol',\n",
       " 74265: '/opt/xchem-fragalysis-2/maxwin/RdRp_FFF/syndirella/mar_elabs/elabs_000/KAFGNTYOOWFSHX-UHFFFAOYSA-N/output/KAFGNTYOOWFSHX-UHFFFAOYSA-N-ydHRJ2-377-A/KAFGNTYOOWFSHX-UHFFFAOYSA-N-ydHRJ2-377-A.minimised.mol',\n",
       " 74266: '/opt/xchem-fragalysis-2/maxwin/RdRp_FFF/syndirella/mar_elabs/elabs_000/KAFGNTYOOWFSHX-UHFFFAOYSA-N/output/KAFGNTYOOWFSHX-UHFFFAOYSA-N-ydHRJ2-378-A/KAFGNTYOOWFSHX-UHFFFAOYSA-N-ydHRJ2-378-A.minimised.mol',\n",
       " 74267: '/opt/xchem-fragalysis-2/maxwin/RdRp_FFF/syndirella/mar_elabs/elabs_000/KAFGNTYOOWFSHX-UHFFFAOYSA-N/output/KAFGNTYOOWFSHX-UHFFFAOYSA-N-ydHRJ2-379-A/KAFGNTYOOWFSHX-UHFFFAOYSA-N-ydHRJ2-379-A.minimised.mol',\n",
       " 74272: '/opt/xchem-fragalysis-2/maxwin/RdRp_FFF/syndirella/mar_elabs/elabs_000/KAFGNTYOOWFSHX-UHFFFAOYSA-N/output/KAFGNTYOOWFSHX-UHFFFAOYSA-N-ydHRJ2-384-A/KAFGNTYOOWFSHX-UHFFFAOYSA-N-ydHRJ2-384-A.minimised.mol',\n",
       " 74273: '/opt/xchem-fragalysis-2/maxwin/RdRp_FFF/syndirella/mar_elabs/elabs_000/KAFGNTYOOWFSHX-UHFFFAOYSA-N/output/KAFGNTYOOWFSHX-UHFFFAOYSA-N-ydHRJ2-385-B/KAFGNTYOOWFSHX-UHFFFAOYSA-N-ydHRJ2-385-B.minimised.mol',\n",
       " 74280: '/opt/xchem-fragalysis-2/maxwin/RdRp_FFF/syndirella/mar_elabs/elabs_000/KAFGNTYOOWFSHX-UHFFFAOYSA-N/output/KAFGNTYOOWFSHX-UHFFFAOYSA-N-ydHRJ2-392-A/KAFGNTYOOWFSHX-UHFFFAOYSA-N-ydHRJ2-392-A.minimised.mol',\n",
       " 74283: '/opt/xchem-fragalysis-2/maxwin/RdRp_FFF/syndirella/mar_elabs/elabs_000/KAFGNTYOOWFSHX-UHFFFAOYSA-N/output/KAFGNTYOOWFSHX-UHFFFAOYSA-N-ydHRJ2-395-B/KAFGNTYOOWFSHX-UHFFFAOYSA-N-ydHRJ2-395-B.minimised.mol',\n",
       " 74284: '/opt/xchem-fragalysis-2/maxwin/RdRp_FFF/syndirella/mar_elabs/elabs_000/KAFGNTYOOWFSHX-UHFFFAOYSA-N/output/KAFGNTYOOWFSHX-UHFFFAOYSA-N-ydHRJ2-396-B/KAFGNTYOOWFSHX-UHFFFAOYSA-N-ydHRJ2-396-B.minimised.mol',\n",
       " 74285: '/opt/xchem-fragalysis-2/maxwin/RdRp_FFF/syndirella/mar_elabs/elabs_000/KAFGNTYOOWFSHX-UHFFFAOYSA-N/output/KAFGNTYOOWFSHX-UHFFFAOYSA-N-ydHRJ2-397-B/KAFGNTYOOWFSHX-UHFFFAOYSA-N-ydHRJ2-397-B.minimised.mol',\n",
       " 74287: '/opt/xchem-fragalysis-2/maxwin/RdRp_FFF/syndirella/mar_elabs/elabs_000/KAFGNTYOOWFSHX-UHFFFAOYSA-N/output/KAFGNTYOOWFSHX-UHFFFAOYSA-N-ydHRJ2-399-B/KAFGNTYOOWFSHX-UHFFFAOYSA-N-ydHRJ2-399-B.minimised.mol',\n",
       " 74290: '/opt/xchem-fragalysis-2/maxwin/RdRp_FFF/syndirella/mar_elabs/elabs_000/KAFGNTYOOWFSHX-UHFFFAOYSA-N/output/KAFGNTYOOWFSHX-UHFFFAOYSA-N-ydHRJ2-404-A/KAFGNTYOOWFSHX-UHFFFAOYSA-N-ydHRJ2-404-A.minimised.mol',\n",
       " 74291: '/opt/xchem-fragalysis-2/maxwin/RdRp_FFF/syndirella/mar_elabs/elabs_000/KAFGNTYOOWFSHX-UHFFFAOYSA-N/output/KAFGNTYOOWFSHX-UHFFFAOYSA-N-ydHRJ2-405-B/KAFGNTYOOWFSHX-UHFFFAOYSA-N-ydHRJ2-405-B.minimised.mol',\n",
       " 74293: '/opt/xchem-fragalysis-2/maxwin/RdRp_FFF/syndirella/mar_elabs/elabs_000/KAFGNTYOOWFSHX-UHFFFAOYSA-N/output/KAFGNTYOOWFSHX-UHFFFAOYSA-N-ydHRJ2-407-A/KAFGNTYOOWFSHX-UHFFFAOYSA-N-ydHRJ2-407-A.minimised.mol',\n",
       " 74295: '/opt/xchem-fragalysis-2/maxwin/RdRp_FFF/syndirella/mar_elabs/elabs_000/KAFGNTYOOWFSHX-UHFFFAOYSA-N/output/KAFGNTYOOWFSHX-UHFFFAOYSA-N-ydHRJ2-410-A/KAFGNTYOOWFSHX-UHFFFAOYSA-N-ydHRJ2-410-A.minimised.mol',\n",
       " 74296: '/opt/xchem-fragalysis-2/maxwin/RdRp_FFF/syndirella/mar_elabs/elabs_000/KAFGNTYOOWFSHX-UHFFFAOYSA-N/output/KAFGNTYOOWFSHX-UHFFFAOYSA-N-ydHRJ2-411-B/KAFGNTYOOWFSHX-UHFFFAOYSA-N-ydHRJ2-411-B.minimised.mol',\n",
       " 74298: '/opt/xchem-fragalysis-2/maxwin/RdRp_FFF/syndirella/mar_elabs/elabs_000/KAFGNTYOOWFSHX-UHFFFAOYSA-N/output/KAFGNTYOOWFSHX-UHFFFAOYSA-N-ydHRJ2-413-B/KAFGNTYOOWFSHX-UHFFFAOYSA-N-ydHRJ2-413-B.minimised.mol',\n",
       " 74299: '/opt/xchem-fragalysis-2/maxwin/RdRp_FFF/syndirella/mar_elabs/elabs_000/KAFGNTYOOWFSHX-UHFFFAOYSA-N/output/KAFGNTYOOWFSHX-UHFFFAOYSA-N-ydHRJ2-415-B/KAFGNTYOOWFSHX-UHFFFAOYSA-N-ydHRJ2-415-B.minimised.mol',\n",
       " 74300: '/opt/xchem-fragalysis-2/maxwin/RdRp_FFF/syndirella/mar_elabs/elabs_000/KAFGNTYOOWFSHX-UHFFFAOYSA-N/output/KAFGNTYOOWFSHX-UHFFFAOYSA-N-ydHRJ2-416-B/KAFGNTYOOWFSHX-UHFFFAOYSA-N-ydHRJ2-416-B.minimised.mol',\n",
       " 74301: '/opt/xchem-fragalysis-2/maxwin/RdRp_FFF/syndirella/mar_elabs/elabs_000/KAFGNTYOOWFSHX-UHFFFAOYSA-N/output/KAFGNTYOOWFSHX-UHFFFAOYSA-N-ydHRJ2-417-D/KAFGNTYOOWFSHX-UHFFFAOYSA-N-ydHRJ2-417-D.minimised.mol',\n",
       " 74304: '/opt/xchem-fragalysis-2/maxwin/RdRp_FFF/syndirella/mar_elabs/elabs_000/KAFGNTYOOWFSHX-UHFFFAOYSA-N/output/KAFGNTYOOWFSHX-UHFFFAOYSA-N-ydHRJ2-420-B/KAFGNTYOOWFSHX-UHFFFAOYSA-N-ydHRJ2-420-B.minimised.mol',\n",
       " 74305: '/opt/xchem-fragalysis-2/maxwin/RdRp_FFF/syndirella/mar_elabs/elabs_000/KAFGNTYOOWFSHX-UHFFFAOYSA-N/output/KAFGNTYOOWFSHX-UHFFFAOYSA-N-ydHRJ2-422-B/KAFGNTYOOWFSHX-UHFFFAOYSA-N-ydHRJ2-422-B.minimised.mol',\n",
       " 74306: '/opt/xchem-fragalysis-2/maxwin/RdRp_FFF/syndirella/mar_elabs/elabs_000/KAFGNTYOOWFSHX-UHFFFAOYSA-N/output/KAFGNTYOOWFSHX-UHFFFAOYSA-N-ydHRJ2-425-B/KAFGNTYOOWFSHX-UHFFFAOYSA-N-ydHRJ2-425-B.minimised.mol',\n",
       " 74307: '/opt/xchem-fragalysis-2/maxwin/RdRp_FFF/syndirella/mar_elabs/elabs_000/KAFGNTYOOWFSHX-UHFFFAOYSA-N/output/KAFGNTYOOWFSHX-UHFFFAOYSA-N-ydHRJ2-426-B/KAFGNTYOOWFSHX-UHFFFAOYSA-N-ydHRJ2-426-B.minimised.mol',\n",
       " 74308: '/opt/xchem-fragalysis-2/maxwin/RdRp_FFF/syndirella/mar_elabs/elabs_000/KAFGNTYOOWFSHX-UHFFFAOYSA-N/output/KAFGNTYOOWFSHX-UHFFFAOYSA-N-ydHRJ2-427-B/KAFGNTYOOWFSHX-UHFFFAOYSA-N-ydHRJ2-427-B.minimised.mol',\n",
       " 74309: '/opt/xchem-fragalysis-2/maxwin/RdRp_FFF/syndirella/mar_elabs/elabs_000/KAFGNTYOOWFSHX-UHFFFAOYSA-N/output/KAFGNTYOOWFSHX-UHFFFAOYSA-N-ydHRJ2-428-A/KAFGNTYOOWFSHX-UHFFFAOYSA-N-ydHRJ2-428-A.minimised.mol',\n",
       " 74310: '/opt/xchem-fragalysis-2/maxwin/RdRp_FFF/syndirella/mar_elabs/elabs_000/KAFGNTYOOWFSHX-UHFFFAOYSA-N/output/KAFGNTYOOWFSHX-UHFFFAOYSA-N-ydHRJ2-430-B/KAFGNTYOOWFSHX-UHFFFAOYSA-N-ydHRJ2-430-B.minimised.mol',\n",
       " 74311: '/opt/xchem-fragalysis-2/maxwin/RdRp_FFF/syndirella/mar_elabs/elabs_000/KAFGNTYOOWFSHX-UHFFFAOYSA-N/output/KAFGNTYOOWFSHX-UHFFFAOYSA-N-ydHRJ2-432-B/KAFGNTYOOWFSHX-UHFFFAOYSA-N-ydHRJ2-432-B.minimised.mol',\n",
       " 74312: '/opt/xchem-fragalysis-2/maxwin/RdRp_FFF/syndirella/mar_elabs/elabs_000/KAFGNTYOOWFSHX-UHFFFAOYSA-N/output/KAFGNTYOOWFSHX-UHFFFAOYSA-N-ydHRJ2-433-B/KAFGNTYOOWFSHX-UHFFFAOYSA-N-ydHRJ2-433-B.minimised.mol',\n",
       " 74315: '/opt/xchem-fragalysis-2/maxwin/RdRp_FFF/syndirella/mar_elabs/elabs_000/KAFGNTYOOWFSHX-UHFFFAOYSA-N/output/KAFGNTYOOWFSHX-UHFFFAOYSA-N-ydHRJ2-436-B/KAFGNTYOOWFSHX-UHFFFAOYSA-N-ydHRJ2-436-B.minimised.mol',\n",
       " 74323: '/opt/xchem-fragalysis-2/maxwin/RdRp_FFF/syndirella/mar_elabs/elabs_000/KAFGNTYOOWFSHX-UHFFFAOYSA-N/output/KAFGNTYOOWFSHX-UHFFFAOYSA-N-ydHRJ2-446-B/KAFGNTYOOWFSHX-UHFFFAOYSA-N-ydHRJ2-446-B.minimised.mol',\n",
       " 74330: '/opt/xchem-fragalysis-2/maxwin/RdRp_FFF/syndirella/mar_elabs/elabs_000/KAFGNTYOOWFSHX-UHFFFAOYSA-N/output/KAFGNTYOOWFSHX-UHFFFAOYSA-N-ydHRJ2-456-A/KAFGNTYOOWFSHX-UHFFFAOYSA-N-ydHRJ2-456-A.minimised.mol',\n",
       " 74333: '/opt/xchem-fragalysis-2/maxwin/RdRp_FFF/syndirella/mar_elabs/elabs_000/KAFGNTYOOWFSHX-UHFFFAOYSA-N/output/KAFGNTYOOWFSHX-UHFFFAOYSA-N-ydHRJ2-462-B/KAFGNTYOOWFSHX-UHFFFAOYSA-N-ydHRJ2-462-B.minimised.mol',\n",
       " 74336: '/opt/xchem-fragalysis-2/maxwin/RdRp_FFF/syndirella/mar_elabs/elabs_000/KAFGNTYOOWFSHX-UHFFFAOYSA-N/output/KAFGNTYOOWFSHX-UHFFFAOYSA-N-ydHRJ2-470-A/KAFGNTYOOWFSHX-UHFFFAOYSA-N-ydHRJ2-470-A.minimised.mol',\n",
       " ...}"
      ]
     },
     "execution_count": 63,
     "metadata": {},
     "output_type": "execute_result"
    }
   ],
   "source": [
    "pose_info"
   ]
  },
  {
   "cell_type": "code",
   "execution_count": 64,
   "id": "58534a2d-d193-4055-b13c-29943393d9cc",
   "metadata": {},
   "outputs": [
    {
     "data": {
      "application/vnd.jupyter.widget-view+json": {
       "model_id": "ede362cd75954f958940fa841dbf018e",
       "version_major": 2,
       "version_minor": 0
      },
      "text/plain": [
       "Output()"
      ]
     },
     "metadata": {},
     "output_type": "display_data"
    },
    {
     "data": {
      "text/html": [
       "<pre style=\"white-space:pre;overflow-x:auto;line-height:normal;font-family:Menlo,'DejaVu Sans Mono',consolas,'Courier New',monospace;margin:0px\"></pre>\n"
      ],
      "text/plain": []
     },
     "metadata": {},
     "output_type": "display_data"
    }
   ],
   "source": [
    "import tarfile\n",
    "with tarfile.open(\"Flavi_RdRp_elab_poses.tar.gz\", \"w:gz\") as tar:\n",
    "    for c_id, actual_path in mrich.track(pose_info.items()):\n",
    "        tar.add(actual_path, arcname=f\"{c_id}.mol\")"
   ]
  },
  {
   "cell_type": "code",
   "execution_count": 81,
   "id": "6f1559c4-dd85-43a4-9215-d354c2289756",
   "metadata": {},
   "outputs": [
    {
     "data": {
      "text/html": [
       "<pre style=\"white-space:pre;overflow-x:auto;line-height:normal;font-family:Menlo,'DejaVu Sans Mono',consolas,'Courier New',monospace;margin:0px\">d0472b.pdb ..<span style=\"color: #800080; text-decoration-color: #800080\">/../BulkDock/TARGETS/Flavi_NS5_RdRp/aligned_files/d0472b/</span><span style=\"color: #ff00ff; text-decoration-color: #ff00ff\">d0472b.pdb</span> <span style=\"color: #00ff00; text-decoration-color: #00ff00; font-style: italic\">True</span>\n",
       "</pre>\n"
      ],
      "text/plain": [
       "d0472b.pdb ..\u001b[35m/../BulkDock/TARGETS/Flavi_NS5_RdRp/aligned_files/d0472b/\u001b[0m\u001b[95md0472b.pdb\u001b[0m \u001b[3;92mTrue\u001b[0m\n"
      ]
     },
     "metadata": {},
     "output_type": "display_data"
    },
    {
     "data": {
      "text/html": [
       "<pre style=\"white-space:pre;overflow-x:auto;line-height:normal;font-family:Menlo,'DejaVu Sans Mono',consolas,'Courier New',monospace;margin:0px\">z0637a.pdb ..<span style=\"color: #800080; text-decoration-color: #800080\">/../BulkDock/TARGETS/Flavi_NS5_RdRp/aligned_files/z0637a/</span><span style=\"color: #ff00ff; text-decoration-color: #ff00ff\">z0637a.pdb</span> <span style=\"color: #00ff00; text-decoration-color: #00ff00; font-style: italic\">True</span>\n",
       "</pre>\n"
      ],
      "text/plain": [
       "z0637a.pdb ..\u001b[35m/../BulkDock/TARGETS/Flavi_NS5_RdRp/aligned_files/z0637a/\u001b[0m\u001b[95mz0637a.pdb\u001b[0m \u001b[3;92mTrue\u001b[0m\n"
      ]
     },
     "metadata": {},
     "output_type": "display_data"
    },
    {
     "data": {
      "text/html": [
       "<pre style=\"white-space:pre;overflow-x:auto;line-height:normal;font-family:Menlo,'DejaVu Sans Mono',consolas,'Courier New',monospace;margin:0px\">z0364a.pdb ..<span style=\"color: #800080; text-decoration-color: #800080\">/../BulkDock/TARGETS/Flavi_NS5_RdRp/aligned_files/z0364a/</span><span style=\"color: #ff00ff; text-decoration-color: #ff00ff\">z0364a.pdb</span> <span style=\"color: #00ff00; text-decoration-color: #00ff00; font-style: italic\">True</span>\n",
       "</pre>\n"
      ],
      "text/plain": [
       "z0364a.pdb ..\u001b[35m/../BulkDock/TARGETS/Flavi_NS5_RdRp/aligned_files/z0364a/\u001b[0m\u001b[95mz0364a.pdb\u001b[0m \u001b[3;92mTrue\u001b[0m\n"
      ]
     },
     "metadata": {},
     "output_type": "display_data"
    },
    {
     "data": {
      "text/html": [
       "<pre style=\"white-space:pre;overflow-x:auto;line-height:normal;font-family:Menlo,'DejaVu Sans Mono',consolas,'Courier New',monospace;margin:0px\">d0160a.pdb ..<span style=\"color: #800080; text-decoration-color: #800080\">/../BulkDock/TARGETS/Flavi_NS5_RdRp/aligned_files/d0160a/</span><span style=\"color: #ff00ff; text-decoration-color: #ff00ff\">d0160a.pdb</span> <span style=\"color: #00ff00; text-decoration-color: #00ff00; font-style: italic\">True</span>\n",
       "</pre>\n"
      ],
      "text/plain": [
       "d0160a.pdb ..\u001b[35m/../BulkDock/TARGETS/Flavi_NS5_RdRp/aligned_files/d0160a/\u001b[0m\u001b[95md0160a.pdb\u001b[0m \u001b[3;92mTrue\u001b[0m\n"
      ]
     },
     "metadata": {},
     "output_type": "display_data"
    },
    {
     "data": {
      "text/html": [
       "<pre style=\"white-space:pre;overflow-x:auto;line-height:normal;font-family:Menlo,'DejaVu Sans Mono',consolas,'Courier New',monospace;margin:0px\">z0041a.pdb ..<span style=\"color: #800080; text-decoration-color: #800080\">/../BulkDock/TARGETS/Flavi_NS5_RdRp/aligned_files/z0041a/</span><span style=\"color: #ff00ff; text-decoration-color: #ff00ff\">z0041a.pdb</span> <span style=\"color: #00ff00; text-decoration-color: #00ff00; font-style: italic\">True</span>\n",
       "</pre>\n"
      ],
      "text/plain": [
       "z0041a.pdb ..\u001b[35m/../BulkDock/TARGETS/Flavi_NS5_RdRp/aligned_files/z0041a/\u001b[0m\u001b[95mz0041a.pdb\u001b[0m \u001b[3;92mTrue\u001b[0m\n"
      ]
     },
     "metadata": {},
     "output_type": "display_data"
    },
    {
     "data": {
      "text/html": [
       "<pre style=\"white-space:pre;overflow-x:auto;line-height:normal;font-family:Menlo,'DejaVu Sans Mono',consolas,'Courier New',monospace;margin:0px\">d0174a.pdb ..<span style=\"color: #800080; text-decoration-color: #800080\">/../BulkDock/TARGETS/Flavi_NS5_RdRp/aligned_files/d0174a/</span><span style=\"color: #ff00ff; text-decoration-color: #ff00ff\">d0174a.pdb</span> <span style=\"color: #00ff00; text-decoration-color: #00ff00; font-style: italic\">True</span>\n",
       "</pre>\n"
      ],
      "text/plain": [
       "d0174a.pdb ..\u001b[35m/../BulkDock/TARGETS/Flavi_NS5_RdRp/aligned_files/d0174a/\u001b[0m\u001b[95md0174a.pdb\u001b[0m \u001b[3;92mTrue\u001b[0m\n"
      ]
     },
     "metadata": {},
     "output_type": "display_data"
    },
    {
     "data": {
      "text/html": [
       "<pre style=\"white-space:pre;overflow-x:auto;line-height:normal;font-family:Menlo,'DejaVu Sans Mono',consolas,'Courier New',monospace;margin:0px\">z0211a.pdb ..<span style=\"color: #800080; text-decoration-color: #800080\">/../BulkDock/TARGETS/Flavi_NS5_RdRp/aligned_files/z0211a/</span><span style=\"color: #ff00ff; text-decoration-color: #ff00ff\">z0211a.pdb</span> <span style=\"color: #00ff00; text-decoration-color: #00ff00; font-style: italic\">True</span>\n",
       "</pre>\n"
      ],
      "text/plain": [
       "z0211a.pdb ..\u001b[35m/../BulkDock/TARGETS/Flavi_NS5_RdRp/aligned_files/z0211a/\u001b[0m\u001b[95mz0211a.pdb\u001b[0m \u001b[3;92mTrue\u001b[0m\n"
      ]
     },
     "metadata": {},
     "output_type": "display_data"
    },
    {
     "data": {
      "text/html": [
       "<pre style=\"white-space:pre;overflow-x:auto;line-height:normal;font-family:Menlo,'DejaVu Sans Mono',consolas,'Courier New',monospace;margin:0px\">z0165a.pdb ..<span style=\"color: #800080; text-decoration-color: #800080\">/../BulkDock/TARGETS/Flavi_NS5_RdRp/aligned_files/z0165a/</span><span style=\"color: #ff00ff; text-decoration-color: #ff00ff\">z0165a.pdb</span> <span style=\"color: #00ff00; text-decoration-color: #00ff00; font-style: italic\">True</span>\n",
       "</pre>\n"
      ],
      "text/plain": [
       "z0165a.pdb ..\u001b[35m/../BulkDock/TARGETS/Flavi_NS5_RdRp/aligned_files/z0165a/\u001b[0m\u001b[95mz0165a.pdb\u001b[0m \u001b[3;92mTrue\u001b[0m\n"
      ]
     },
     "metadata": {},
     "output_type": "display_data"
    },
    {
     "data": {
      "text/html": [
       "<pre style=\"white-space:pre;overflow-x:auto;line-height:normal;font-family:Menlo,'DejaVu Sans Mono',consolas,'Courier New',monospace;margin:0px\">z0215a.pdb ..<span style=\"color: #800080; text-decoration-color: #800080\">/../BulkDock/TARGETS/Flavi_NS5_RdRp/aligned_files/z0215a/</span><span style=\"color: #ff00ff; text-decoration-color: #ff00ff\">z0215a.pdb</span> <span style=\"color: #00ff00; text-decoration-color: #00ff00; font-style: italic\">True</span>\n",
       "</pre>\n"
      ],
      "text/plain": [
       "z0215a.pdb ..\u001b[35m/../BulkDock/TARGETS/Flavi_NS5_RdRp/aligned_files/z0215a/\u001b[0m\u001b[95mz0215a.pdb\u001b[0m \u001b[3;92mTrue\u001b[0m\n"
      ]
     },
     "metadata": {},
     "output_type": "display_data"
    },
    {
     "data": {
      "text/html": [
       "<pre style=\"white-space:pre;overflow-x:auto;line-height:normal;font-family:Menlo,'DejaVu Sans Mono',consolas,'Courier New',monospace;margin:0px\">z1018a.pdb ..<span style=\"color: #800080; text-decoration-color: #800080\">/../BulkDock/TARGETS/Flavi_NS5_RdRp/aligned_files/z1018a/</span><span style=\"color: #ff00ff; text-decoration-color: #ff00ff\">z1018a.pdb</span> <span style=\"color: #00ff00; text-decoration-color: #00ff00; font-style: italic\">True</span>\n",
       "</pre>\n"
      ],
      "text/plain": [
       "z1018a.pdb ..\u001b[35m/../BulkDock/TARGETS/Flavi_NS5_RdRp/aligned_files/z1018a/\u001b[0m\u001b[95mz1018a.pdb\u001b[0m \u001b[3;92mTrue\u001b[0m\n"
      ]
     },
     "metadata": {},
     "output_type": "display_data"
    },
    {
     "data": {
      "text/html": [
       "<pre style=\"white-space:pre;overflow-x:auto;line-height:normal;font-family:Menlo,'DejaVu Sans Mono',consolas,'Courier New',monospace;margin:0px\">z0521a.pdb ..<span style=\"color: #800080; text-decoration-color: #800080\">/../BulkDock/TARGETS/Flavi_NS5_RdRp/aligned_files/z0521a/</span><span style=\"color: #ff00ff; text-decoration-color: #ff00ff\">z0521a.pdb</span> <span style=\"color: #00ff00; text-decoration-color: #00ff00; font-style: italic\">True</span>\n",
       "</pre>\n"
      ],
      "text/plain": [
       "z0521a.pdb ..\u001b[35m/../BulkDock/TARGETS/Flavi_NS5_RdRp/aligned_files/z0521a/\u001b[0m\u001b[95mz0521a.pdb\u001b[0m \u001b[3;92mTrue\u001b[0m\n"
      ]
     },
     "metadata": {},
     "output_type": "display_data"
    },
    {
     "data": {
      "text/html": [
       "<pre style=\"white-space:pre;overflow-x:auto;line-height:normal;font-family:Menlo,'DejaVu Sans Mono',consolas,'Courier New',monospace;margin:0px\">z0936a.pdb ..<span style=\"color: #800080; text-decoration-color: #800080\">/../BulkDock/TARGETS/Flavi_NS5_RdRp/aligned_files/z0936a/</span><span style=\"color: #ff00ff; text-decoration-color: #ff00ff\">z0936a.pdb</span> <span style=\"color: #00ff00; text-decoration-color: #00ff00; font-style: italic\">True</span>\n",
       "</pre>\n"
      ],
      "text/plain": [
       "z0936a.pdb ..\u001b[35m/../BulkDock/TARGETS/Flavi_NS5_RdRp/aligned_files/z0936a/\u001b[0m\u001b[95mz0936a.pdb\u001b[0m \u001b[3;92mTrue\u001b[0m\n"
      ]
     },
     "metadata": {},
     "output_type": "display_data"
    },
    {
     "data": {
      "text/html": [
       "<pre style=\"white-space:pre;overflow-x:auto;line-height:normal;font-family:Menlo,'DejaVu Sans Mono',consolas,'Courier New',monospace;margin:0px\">z0628a.pdb ..<span style=\"color: #800080; text-decoration-color: #800080\">/../BulkDock/TARGETS/Flavi_NS5_RdRp/aligned_files/z0628a/</span><span style=\"color: #ff00ff; text-decoration-color: #ff00ff\">z0628a.pdb</span> <span style=\"color: #00ff00; text-decoration-color: #00ff00; font-style: italic\">True</span>\n",
       "</pre>\n"
      ],
      "text/plain": [
       "z0628a.pdb ..\u001b[35m/../BulkDock/TARGETS/Flavi_NS5_RdRp/aligned_files/z0628a/\u001b[0m\u001b[95mz0628a.pdb\u001b[0m \u001b[3;92mTrue\u001b[0m\n"
      ]
     },
     "metadata": {},
     "output_type": "display_data"
    },
    {
     "data": {
      "text/html": [
       "<pre style=\"white-space:pre;overflow-x:auto;line-height:normal;font-family:Menlo,'DejaVu Sans Mono',consolas,'Courier New',monospace;margin:0px\">z0309a.pdb ..<span style=\"color: #800080; text-decoration-color: #800080\">/../BulkDock/TARGETS/Flavi_NS5_RdRp/aligned_files/z0309a/</span><span style=\"color: #ff00ff; text-decoration-color: #ff00ff\">z0309a.pdb</span> <span style=\"color: #00ff00; text-decoration-color: #00ff00; font-style: italic\">True</span>\n",
       "</pre>\n"
      ],
      "text/plain": [
       "z0309a.pdb ..\u001b[35m/../BulkDock/TARGETS/Flavi_NS5_RdRp/aligned_files/z0309a/\u001b[0m\u001b[95mz0309a.pdb\u001b[0m \u001b[3;92mTrue\u001b[0m\n"
      ]
     },
     "metadata": {},
     "output_type": "display_data"
    },
    {
     "data": {
      "text/html": [
       "<pre style=\"white-space:pre;overflow-x:auto;line-height:normal;font-family:Menlo,'DejaVu Sans Mono',consolas,'Courier New',monospace;margin:0px\">d0472a.pdb ..<span style=\"color: #800080; text-decoration-color: #800080\">/../BulkDock/TARGETS/Flavi_NS5_RdRp/aligned_files/d0472a/</span><span style=\"color: #ff00ff; text-decoration-color: #ff00ff\">d0472a.pdb</span> <span style=\"color: #00ff00; text-decoration-color: #00ff00; font-style: italic\">True</span>\n",
       "</pre>\n"
      ],
      "text/plain": [
       "d0472a.pdb ..\u001b[35m/../BulkDock/TARGETS/Flavi_NS5_RdRp/aligned_files/d0472a/\u001b[0m\u001b[95md0472a.pdb\u001b[0m \u001b[3;92mTrue\u001b[0m\n"
      ]
     },
     "metadata": {},
     "output_type": "display_data"
    },
    {
     "data": {
      "text/html": [
       "<pre style=\"white-space:pre;overflow-x:auto;line-height:normal;font-family:Menlo,'DejaVu Sans Mono',consolas,'Courier New',monospace;margin:0px\">3vws-a.pdb ..<span style=\"color: #800080; text-decoration-color: #800080\">/../BulkDock/TARGETS/Flavi_NS5_RdRp/aligned_files/3vws-a/</span><span style=\"color: #ff00ff; text-decoration-color: #ff00ff\">3vws-a.pdb</span> <span style=\"color: #00ff00; text-decoration-color: #00ff00; font-style: italic\">True</span>\n",
       "</pre>\n"
      ],
      "text/plain": [
       "3vws-a.pdb ..\u001b[35m/../BulkDock/TARGETS/Flavi_NS5_RdRp/aligned_files/3vws-a/\u001b[0m\u001b[95m3vws-a.pdb\u001b[0m \u001b[3;92mTrue\u001b[0m\n"
      ]
     },
     "metadata": {},
     "output_type": "display_data"
    },
    {
     "data": {
      "text/html": [
       "<pre style=\"white-space:pre;overflow-x:auto;line-height:normal;font-family:Menlo,'DejaVu Sans Mono',consolas,'Courier New',monospace;margin:0px\">d0566a.pdb ..<span style=\"color: #800080; text-decoration-color: #800080\">/../BulkDock/TARGETS/Flavi_NS5_RdRp/aligned_files/d0566a/</span><span style=\"color: #ff00ff; text-decoration-color: #ff00ff\">d0566a.pdb</span> <span style=\"color: #00ff00; text-decoration-color: #00ff00; font-style: italic\">True</span>\n",
       "</pre>\n"
      ],
      "text/plain": [
       "d0566a.pdb ..\u001b[35m/../BulkDock/TARGETS/Flavi_NS5_RdRp/aligned_files/d0566a/\u001b[0m\u001b[95md0566a.pdb\u001b[0m \u001b[3;92mTrue\u001b[0m\n"
      ]
     },
     "metadata": {},
     "output_type": "display_data"
    },
    {
     "data": {
      "text/html": [
       "<pre style=\"white-space:pre;overflow-x:auto;line-height:normal;font-family:Menlo,'DejaVu Sans Mono',consolas,'Courier New',monospace;margin:0px\">z0653a.pdb ..<span style=\"color: #800080; text-decoration-color: #800080\">/../BulkDock/TARGETS/Flavi_NS5_RdRp/aligned_files/z0653a/</span><span style=\"color: #ff00ff; text-decoration-color: #ff00ff\">z0653a.pdb</span> <span style=\"color: #00ff00; text-decoration-color: #00ff00; font-style: italic\">True</span>\n",
       "</pre>\n"
      ],
      "text/plain": [
       "z0653a.pdb ..\u001b[35m/../BulkDock/TARGETS/Flavi_NS5_RdRp/aligned_files/z0653a/\u001b[0m\u001b[95mz0653a.pdb\u001b[0m \u001b[3;92mTrue\u001b[0m\n"
      ]
     },
     "metadata": {},
     "output_type": "display_data"
    },
    {
     "data": {
      "text/html": [
       "<pre style=\"white-space:pre;overflow-x:auto;line-height:normal;font-family:Menlo,'DejaVu Sans Mono',consolas,'Courier New',monospace;margin:0px\">z0111a.pdb ..<span style=\"color: #800080; text-decoration-color: #800080\">/../BulkDock/TARGETS/Flavi_NS5_RdRp/aligned_files/z0111a/</span><span style=\"color: #ff00ff; text-decoration-color: #ff00ff\">z0111a.pdb</span> <span style=\"color: #00ff00; text-decoration-color: #00ff00; font-style: italic\">True</span>\n",
       "</pre>\n"
      ],
      "text/plain": [
       "z0111a.pdb ..\u001b[35m/../BulkDock/TARGETS/Flavi_NS5_RdRp/aligned_files/z0111a/\u001b[0m\u001b[95mz0111a.pdb\u001b[0m \u001b[3;92mTrue\u001b[0m\n"
      ]
     },
     "metadata": {},
     "output_type": "display_data"
    },
    {
     "data": {
      "text/html": [
       "<pre style=\"white-space:pre;overflow-x:auto;line-height:normal;font-family:Menlo,'DejaVu Sans Mono',consolas,'Courier New',monospace;margin:0px\">z0221a.pdb ..<span style=\"color: #800080; text-decoration-color: #800080\">/../BulkDock/TARGETS/Flavi_NS5_RdRp/aligned_files/z0221a/</span><span style=\"color: #ff00ff; text-decoration-color: #ff00ff\">z0221a.pdb</span> <span style=\"color: #00ff00; text-decoration-color: #00ff00; font-style: italic\">True</span>\n",
       "</pre>\n"
      ],
      "text/plain": [
       "z0221a.pdb ..\u001b[35m/../BulkDock/TARGETS/Flavi_NS5_RdRp/aligned_files/z0221a/\u001b[0m\u001b[95mz0221a.pdb\u001b[0m \u001b[3;92mTrue\u001b[0m\n"
      ]
     },
     "metadata": {},
     "output_type": "display_data"
    },
    {
     "data": {
      "text/html": [
       "<pre style=\"white-space:pre;overflow-x:auto;line-height:normal;font-family:Menlo,'DejaVu Sans Mono',consolas,'Courier New',monospace;margin:0px\">d0264a.pdb ..<span style=\"color: #800080; text-decoration-color: #800080\">/../BulkDock/TARGETS/Flavi_NS5_RdRp/aligned_files/d0264a/</span><span style=\"color: #ff00ff; text-decoration-color: #ff00ff\">d0264a.pdb</span> <span style=\"color: #00ff00; text-decoration-color: #00ff00; font-style: italic\">True</span>\n",
       "</pre>\n"
      ],
      "text/plain": [
       "d0264a.pdb ..\u001b[35m/../BulkDock/TARGETS/Flavi_NS5_RdRp/aligned_files/d0264a/\u001b[0m\u001b[95md0264a.pdb\u001b[0m \u001b[3;92mTrue\u001b[0m\n"
      ]
     },
     "metadata": {},
     "output_type": "display_data"
    },
    {
     "data": {
      "text/html": [
       "<pre style=\"white-space:pre;overflow-x:auto;line-height:normal;font-family:Menlo,'DejaVu Sans Mono',consolas,'Courier New',monospace;margin:0px\">z0136a.pdb ..<span style=\"color: #800080; text-decoration-color: #800080\">/../BulkDock/TARGETS/Flavi_NS5_RdRp/aligned_files/z0136a/</span><span style=\"color: #ff00ff; text-decoration-color: #ff00ff\">z0136a.pdb</span> <span style=\"color: #00ff00; text-decoration-color: #00ff00; font-style: italic\">True</span>\n",
       "</pre>\n"
      ],
      "text/plain": [
       "z0136a.pdb ..\u001b[35m/../BulkDock/TARGETS/Flavi_NS5_RdRp/aligned_files/z0136a/\u001b[0m\u001b[95mz0136a.pdb\u001b[0m \u001b[3;92mTrue\u001b[0m\n"
      ]
     },
     "metadata": {},
     "output_type": "display_data"
    },
    {
     "data": {
      "text/html": [
       "<pre style=\"white-space:pre;overflow-x:auto;line-height:normal;font-family:Menlo,'DejaVu Sans Mono',consolas,'Courier New',monospace;margin:0px\">z0767a.pdb ..<span style=\"color: #800080; text-decoration-color: #800080\">/../BulkDock/TARGETS/Flavi_NS5_RdRp/aligned_files/z0767a/</span><span style=\"color: #ff00ff; text-decoration-color: #ff00ff\">z0767a.pdb</span> <span style=\"color: #00ff00; text-decoration-color: #00ff00; font-style: italic\">True</span>\n",
       "</pre>\n"
      ],
      "text/plain": [
       "z0767a.pdb ..\u001b[35m/../BulkDock/TARGETS/Flavi_NS5_RdRp/aligned_files/z0767a/\u001b[0m\u001b[95mz0767a.pdb\u001b[0m \u001b[3;92mTrue\u001b[0m\n"
      ]
     },
     "metadata": {},
     "output_type": "display_data"
    }
   ],
   "source": [
    "import tarfile\n",
    "with tarfile.open(\"Flavi_RdRp_elab_proteins.tar.gz\", \"w:gz\") as tar:\n",
    "    for name in set(p for p in df[\"protein\"].values if p):\n",
    "        p = Path(\"../../BulkDock/TARGETS/Flavi_NS5_RdRp\") / \"aligned_files\" / name.removesuffix(\".pdb\") / name\n",
    "        print(name, p, p.exists())\n",
    "        tar.add(p, arcname=name)"
   ]
  },
  {
   "cell_type": "code",
   "execution_count": null,
   "id": "dffa5810-d605-4921-8fe4-3c4be93112fd",
   "metadata": {},
   "outputs": [],
   "source": []
  }
 ],
 "metadata": {
  "kernelspec": {
   "display_name": "Python 3 (ipykernel)",
   "language": "python",
   "name": "python3"
  },
  "language_info": {
   "codemirror_mode": {
    "name": "ipython",
    "version": 3
   },
   "file_extension": ".py",
   "mimetype": "text/x-python",
   "name": "python",
   "nbconvert_exporter": "python",
   "pygments_lexer": "ipython3",
   "version": "3.12.8"
  }
 },
 "nbformat": 4,
 "nbformat_minor": 5
}
