{
 "cells": [
  {
   "cell_type": "code",
   "execution_count": 49,
   "id": "b36fff6c-a4a7-4844-af61-404b27048631",
   "metadata": {},
   "outputs": [
    {
     "name": "stdout",
     "output_type": "stream",
     "text": [
      "The autoreload extension is already loaded. To reload it, use:\n",
      "  %reload_ext autoreload\n"
     ]
    }
   ],
   "source": [
    "%load_ext autoreload\n",
    "%autoreload 2\n",
    "import hippo\n",
    "import mrich\n",
    "from mrich import print\n",
    "import pandas as pd"
   ]
  },
  {
   "cell_type": "code",
   "execution_count": 2,
   "id": "d71be724-bfbf-4017-996a-58a7cba9cc3e",
   "metadata": {},
   "outputs": [
    {
     "data": {
      "text/html": [
       "<pre style=\"white-space:pre;overflow-x:auto;line-height:normal;font-family:Menlo,'DejaVu Sans Mono',consolas,'Courier New',monospace;margin:0px\"><span style=\"font-weight: bold\"> Creating HIPPO animal</span>\n",
       "</pre>\n"
      ],
      "text/plain": [
       "\u001b[1m Creating HIPPO animal\u001b[0m\n"
      ]
     },
     "metadata": {},
     "output_type": "display_data"
    },
    {
     "data": {
      "text/html": [
       "<pre style=\"white-space:pre;overflow-x:auto;line-height:normal;font-family:Menlo,'DejaVu Sans Mono',consolas,'Courier New',monospace;margin:0px\"><span style=\"color: #008080; text-decoration-color: #008080; font-weight: bold\">name</span> = <span style=\"color: #00d7af; text-decoration-color: #00d7af\">RdRp</span>\n",
       "</pre>\n"
      ],
      "text/plain": [
       "\u001b[1;36mname\u001b[0m = \u001b[38;5;43mRdRp\u001b[0m\n"
      ]
     },
     "metadata": {},
     "output_type": "display_data"
    },
    {
     "data": {
      "text/html": [
       "<pre style=\"white-space:pre;overflow-x:auto;line-height:normal;font-family:Menlo,'DejaVu Sans Mono',consolas,'Courier New',monospace;margin:0px\"><span style=\"color: #008080; text-decoration-color: #008080; font-weight: bold\">db_path</span> = <span style=\"color: #d7af00; text-decoration-color: #d7af00\">../../BulkDock/TARGETS/Flavi_NS5_RdRp/Flavi_NS5_RdRp.sqlite</span>\n",
       "</pre>\n"
      ],
      "text/plain": [
       "\u001b[1;36mdb_path\u001b[0m = \u001b[38;5;178m../../BulkDock/TARGETS/Flavi_NS5_RdRp/Flavi_NS5_RdRp.sqlite\u001b[0m\n"
      ]
     },
     "metadata": {},
     "output_type": "display_data"
    },
    {
     "data": {
      "text/html": [
       "<pre style=\"white-space:pre;overflow-x:auto;line-height:normal;font-family:Menlo,'DejaVu Sans Mono',consolas,'Courier New',monospace;margin:0px\"><span style=\"color: #808080; text-decoration-color: #808080\">DEBUG: hippo.Database.__init__()</span>\n",
       "</pre>\n"
      ],
      "text/plain": [
       "\u001b[90mDEBUG: hippo.Database.__init__()\u001b[0m\n"
      ]
     },
     "metadata": {},
     "output_type": "display_data"
    },
    {
     "data": {
      "text/html": [
       "<pre style=\"white-space:pre;overflow-x:auto;line-height:normal;font-family:Menlo,'DejaVu Sans Mono',consolas,'Courier New',monospace;margin:0px\"><span style=\"color: #808080; text-decoration-color: #808080\">DEBUG: Database.path = ../../BulkDock/TARGETS/Flavi_NS5_RdRp/Flavi_NS5_RdRp.sqlite</span>\n",
       "</pre>\n"
      ],
      "text/plain": [
       "\u001b[90mDEBUG: Database.path = ../../BulkDock/TARGETS/Flavi_NS5_RdRp/Flavi_NS5_RdRp.sqlite\u001b[0m\n"
      ]
     },
     "metadata": {},
     "output_type": "display_data"
    },
    {
     "data": {
      "text/html": [
       "<pre style=\"white-space:pre;overflow-x:auto;line-height:normal;font-family:Menlo,'DejaVu Sans Mono',consolas,'Courier New',monospace;margin:0px\"><span style=\"color: #808080; text-decoration-color: #808080\">DEBUG: hippo.Database.connect()</span>\n",
       "</pre>\n"
      ],
      "text/plain": [
       "\u001b[90mDEBUG: hippo.Database.connect()\u001b[0m\n"
      ]
     },
     "metadata": {},
     "output_type": "display_data"
    },
    {
     "data": {
      "text/html": [
       "<pre style=\"white-space:pre;overflow-x:auto;line-height:normal;font-family:Menlo,'DejaVu Sans Mono',consolas,'Courier New',monospace;margin:0px\"><span style=\"color: #808080; text-decoration-color: #808080\">DEBUG: sqlite3.version='2.6.0'</span>\n",
       "</pre>\n"
      ],
      "text/plain": [
       "\u001b[90mDEBUG: sqlite3.version='2.6.0'\u001b[0m\n"
      ]
     },
     "metadata": {},
     "output_type": "display_data"
    },
    {
     "data": {
      "text/html": [
       "<pre style=\"white-space:pre;overflow-x:auto;line-height:normal;font-family:Menlo,'DejaVu Sans Mono',consolas,'Courier New',monospace;margin:0px\"><span style=\"background-color: #008000; font-weight: bold\"> Success </span><span style=\"color: #008000; text-decoration-color: #008000; font-weight: bold\"> Database connected @</span><span style=\"color: #d7af00; text-decoration-color: #d7af00; font-weight: bold\"> ../../BulkDock/TARGETS/Flavi_NS5_RdRp/Flavi_NS5_RdRp.sqlite!</span>\n",
       "</pre>\n"
      ],
      "text/plain": [
       "\u001b[1;7;32m Success \u001b[0m\u001b[1;32m Database connected @\u001b[0m\u001b[1;38;5;178m ../../BulkDock/TARGETS/Flavi_NS5_RdRp/Flavi_NS5_RdRp.sqlite!\u001b[0m\n"
      ]
     },
     "metadata": {},
     "output_type": "display_data"
    },
    {
     "data": {
      "text/html": [
       "<pre style=\"white-space:pre;overflow-x:auto;line-height:normal;font-family:Menlo,'DejaVu Sans Mono',consolas,'Courier New',monospace;margin:0px\"><span style=\"background-color: #008000; font-weight: bold\"> Success </span><span style=\"color: #008000; text-decoration-color: #008000; font-weight: bold\"> Initialised animal</span><span style=\"color: #008080; text-decoration-color: #008080; font-weight: bold\"> HIPPO(\"RdRp\")!</span>\n",
       "</pre>\n"
      ],
      "text/plain": [
       "\u001b[1;7;32m Success \u001b[0m\u001b[1;32m Initialised animal\u001b[0m\u001b[1;36m HIPPO(\"RdRp\")!\u001b[0m\n"
      ]
     },
     "metadata": {},
     "output_type": "display_data"
    }
   ],
   "source": [
    "animal = hippo.HIPPO(\"RdRp\", \"../../BulkDock/TARGETS/Flavi_NS5_RdRp/Flavi_NS5_RdRp.sqlite\")"
   ]
  },
  {
   "cell_type": "markdown",
   "id": "c8123f9e-a5ea-4fe1-a788-c2dc50baa7ad",
   "metadata": {},
   "source": [
    "## Export SMILES by pockets"
   ]
  },
  {
   "cell_type": "code",
   "execution_count": 20,
   "id": "62660e77-d61e-48ea-adea-ecf9ad95fac1",
   "metadata": {},
   "outputs": [],
   "source": [
    "TAGS = [\n",
    "    \"Green Site/RNA tunnel\",\n",
    "    \"Primer grip/N-pocket\",\n",
    "    \"Cavity B\",\n",
    "    \"Thumb Site 2\",\n",
    "]"
   ]
  },
  {
   "cell_type": "code",
   "execution_count": 22,
   "id": "f3971f46-c892-4093-ba88-d1718d564e9e",
   "metadata": {},
   "outputs": [
    {
     "data": {
      "text/html": [
       "<pre style=\"white-space:pre;overflow-x:auto;line-height:normal;font-family:Menlo,'DejaVu Sans Mono',consolas,'Courier New',monospace;margin:0px\"><span style=\"font-weight: bold; text-decoration: underline\">poses tagged </span><span style=\"color: #008000; text-decoration-color: #008000; font-weight: bold; text-decoration: underline\">\"Green Site/RNA tunnel merge\"</span><span style=\"font-weight: bold; text-decoration: underline\">: {P × </span><span style=\"color: #008080; text-decoration-color: #008080; font-weight: bold; text-decoration: underline\">172966</span><span style=\"font-weight: bold; text-decoration: underline\">}</span>\n",
       "</pre>\n"
      ],
      "text/plain": [
       "\u001b[1;4mposes tagged \u001b[0m\u001b[1;4;32m\"Green Site/RNA tunnel merge\"\u001b[0m\u001b[1;4m: \u001b[0m\u001b[1;4m{\u001b[0m\u001b[1;4mP × \u001b[0m\u001b[1;4;36m172966\u001b[0m\u001b[1;4m}\u001b[0m\n"
      ]
     },
     "metadata": {},
     "output_type": "display_data"
    },
    {
     "data": {
      "text/html": [
       "<pre style=\"white-space:pre;overflow-x:auto;line-height:normal;font-family:Menlo,'DejaVu Sans Mono',consolas,'Courier New',monospace;margin:0px\"><span style=\"font-weight: bold; text-decoration: underline\">poses tagged </span><span style=\"color: #008000; text-decoration-color: #008000; font-weight: bold; text-decoration: underline\">\"Primer grip/N-pocket merge\"</span><span style=\"font-weight: bold; text-decoration: underline\">: {P × </span><span style=\"color: #008080; text-decoration-color: #008080; font-weight: bold; text-decoration: underline\">28894</span><span style=\"font-weight: bold; text-decoration: underline\">}</span>\n",
       "</pre>\n"
      ],
      "text/plain": [
       "\u001b[1;4mposes tagged \u001b[0m\u001b[1;4;32m\"Primer grip/N-pocket merge\"\u001b[0m\u001b[1;4m: \u001b[0m\u001b[1;4m{\u001b[0m\u001b[1;4mP × \u001b[0m\u001b[1;4;36m28894\u001b[0m\u001b[1;4m}\u001b[0m\n"
      ]
     },
     "metadata": {},
     "output_type": "display_data"
    },
    {
     "data": {
      "text/html": [
       "<pre style=\"white-space:pre;overflow-x:auto;line-height:normal;font-family:Menlo,'DejaVu Sans Mono',consolas,'Courier New',monospace;margin:0px\"><span style=\"font-weight: bold; text-decoration: underline\">poses tagged </span><span style=\"color: #008000; text-decoration-color: #008000; font-weight: bold; text-decoration: underline\">\"Cavity B merge\"</span><span style=\"font-weight: bold; text-decoration: underline\">: {P × </span><span style=\"color: #008080; text-decoration-color: #008080; font-weight: bold; text-decoration: underline\">452</span><span style=\"font-weight: bold; text-decoration: underline\">}</span>\n",
       "</pre>\n"
      ],
      "text/plain": [
       "\u001b[1;4mposes tagged \u001b[0m\u001b[1;4;32m\"Cavity B merge\"\u001b[0m\u001b[1;4m: \u001b[0m\u001b[1;4m{\u001b[0m\u001b[1;4mP × \u001b[0m\u001b[1;4;36m452\u001b[0m\u001b[1;4m}\u001b[0m\n"
      ]
     },
     "metadata": {},
     "output_type": "display_data"
    },
    {
     "data": {
      "text/html": [
       "<pre style=\"white-space:pre;overflow-x:auto;line-height:normal;font-family:Menlo,'DejaVu Sans Mono',consolas,'Courier New',monospace;margin:0px\"><span style=\"font-weight: bold; text-decoration: underline\">poses tagged </span><span style=\"color: #008000; text-decoration-color: #008000; font-weight: bold; text-decoration: underline\">\"Thumb Site 2 merge\"</span><span style=\"font-weight: bold; text-decoration: underline\">: {P × </span><span style=\"color: #008080; text-decoration-color: #008080; font-weight: bold; text-decoration: underline\">4892</span><span style=\"font-weight: bold; text-decoration: underline\">}</span>\n",
       "</pre>\n"
      ],
      "text/plain": [
       "\u001b[1;4mposes tagged \u001b[0m\u001b[1;4;32m\"Thumb Site 2 merge\"\u001b[0m\u001b[1;4m: \u001b[0m\u001b[1;4m{\u001b[0m\u001b[1;4mP × \u001b[0m\u001b[1;4;36m4892\u001b[0m\u001b[1;4m}\u001b[0m\n"
      ]
     },
     "metadata": {},
     "output_type": "display_data"
    }
   ],
   "source": [
    "POSES = {}\n",
    "for tag in TAGS:\n",
    "    poses = animal.poses(tag=f\"{tag} merge\")\n",
    "    print(poses)\n",
    "    POSES[tag] = dict(merge_poses=poses)"
   ]
  },
  {
   "cell_type": "code",
   "execution_count": 27,
   "id": "d48f0fbb-deea-49b6-8955-2b528fe595c9",
   "metadata": {},
   "outputs": [
    {
     "data": {
      "text/html": [
       "<pre style=\"white-space:pre;overflow-x:auto;line-height:normal;font-family:Menlo,'DejaVu Sans Mono',consolas,'Courier New',monospace;margin:0px\">Green Site/RNA tunnel\n",
       "</pre>\n"
      ],
      "text/plain": [
       "Green Site/RNA tunnel\n"
      ]
     },
     "metadata": {},
     "output_type": "display_data"
    },
    {
     "data": {
      "text/html": [
       "<pre style=\"white-space:pre;overflow-x:auto;line-height:normal;font-family:Menlo,'DejaVu Sans Mono',consolas,'Courier New',monospace;margin:0px\">Primer grip/N-pocket\n",
       "</pre>\n"
      ],
      "text/plain": [
       "Primer grip/N-pocket\n"
      ]
     },
     "metadata": {},
     "output_type": "display_data"
    },
    {
     "data": {
      "text/html": [
       "<pre style=\"white-space:pre;overflow-x:auto;line-height:normal;font-family:Menlo,'DejaVu Sans Mono',consolas,'Courier New',monospace;margin:0px\">Cavity B\n",
       "</pre>\n"
      ],
      "text/plain": [
       "Cavity B\n"
      ]
     },
     "metadata": {},
     "output_type": "display_data"
    },
    {
     "data": {
      "text/html": [
       "<pre style=\"white-space:pre;overflow-x:auto;line-height:normal;font-family:Menlo,'DejaVu Sans Mono',consolas,'Courier New',monospace;margin:0px\">Thumb Site <span style=\"color: #008080; text-decoration-color: #008080; font-weight: bold\">2</span>\n",
       "</pre>\n"
      ],
      "text/plain": [
       "Thumb Site \u001b[1;36m2\u001b[0m\n"
      ]
     },
     "metadata": {},
     "output_type": "display_data"
    },
    {
     "name": "stdout",
     "output_type": "stream",
     "text": [
      "CPU times: user 390 ms, sys: 1.82 s, total: 2.21 s\n",
      "Wall time: 18 s\n"
     ]
    }
   ],
   "source": [
    "%%time\n",
    "for k,v in POSES.items():\n",
    "    print(k)\n",
    "    poses = v[\"merge_poses\"]\n",
    "    compounds = poses.compounds\n",
    "    POSES[k][\"merge_compounds\"] = compounds\n",
    "    POSES[k][\"merge_smiles\"] = compounds.smiles"
   ]
  },
  {
   "cell_type": "code",
   "execution_count": 28,
   "id": "46d2a6bc-fc0b-4d5c-9f5d-fac7718a8541",
   "metadata": {
    "scrolled": true
   },
   "outputs": [
    {
     "data": {
      "text/plain": [
       "\u001b[1m\u001b[4m{C × 3234}\u001b[22m\u001b[24m"
      ]
     },
     "execution_count": 28,
     "metadata": {},
     "output_type": "execute_result"
    }
   ],
   "source": [
    "%%time\n",
    "for k,v in POSES.items():\n",
    "    print(k)\n",
    "    poses = v[\"merge_poses\"]\n",
    "    compounds = v[\"merge_compounds\"]\n",
    "    elabs = compounds.elabs\n",
    "    POSES[k][\"merge_smiles\"] = compounds.smiles"
   ]
  },
  {
   "cell_type": "code",
   "execution_count": 38,
   "id": "138acedb-b710-4368-8472-a854a38b85a5",
   "metadata": {},
   "outputs": [
    {
     "data": {
      "text/plain": [
       "\u001b[1m\u001b[4m{C × 11534}\u001b[22m\u001b[24m"
      ]
     },
     "execution_count": 38,
     "metadata": {},
     "output_type": "execute_result"
    }
   ],
   "source": [
    "compounds = POSES[TAGS[1]][\"merge_compounds\"]\n",
    "compounds"
   ]
  },
  {
   "cell_type": "code",
   "execution_count": 39,
   "id": "8ab04adc-a343-4805-90d5-1b523b9b9c9b",
   "metadata": {},
   "outputs": [
    {
     "data": {
      "text/plain": [
       "\u001b[1m\u001b[4m{C × 20993}\u001b[22m\u001b[24m"
      ]
     },
     "execution_count": 39,
     "metadata": {},
     "output_type": "execute_result"
    }
   ],
   "source": [
    "elabs = compounds.elabs\n",
    "elabs"
   ]
  },
  {
   "cell_type": "code",
   "execution_count": 40,
   "id": "6ae995b6-2c2e-409a-8e21-11ba3052bb12",
   "metadata": {},
   "outputs": [
    {
     "data": {
      "text/plain": [
       "\u001b[1m\u001b[4m{C × 7}\u001b[22m\u001b[24m"
      ]
     },
     "execution_count": 40,
     "metadata": {},
     "output_type": "execute_result"
    }
   ],
   "source": [
    "elabs.bases"
   ]
  },
  {
   "cell_type": "code",
   "execution_count": 53,
   "id": "b8f562af-8f64-4d63-b50e-38b3b176ae34",
   "metadata": {},
   "outputs": [
    {
     "data": {
      "text/html": [
       "<pre style=\"white-space:pre;overflow-x:auto;line-height:normal;font-family:Menlo,'DejaVu Sans Mono',consolas,'Courier New',monospace;margin:0px\">Green Site/RNA tunnel\n",
       "</pre>\n"
      ],
      "text/plain": [
       "Green Site/RNA tunnel\n"
      ]
     },
     "metadata": {},
     "output_type": "display_data"
    },
    {
     "data": {
      "text/html": [
       "<pre style=\"white-space:pre;overflow-x:auto;line-height:normal;font-family:Menlo,'DejaVu Sans Mono',consolas,'Courier New',monospace;margin:0px\"><span style=\"font-weight: bold; text-decoration: underline\">{C × </span><span style=\"color: #008080; text-decoration-color: #008080; font-weight: bold; text-decoration: underline\">148292</span><span style=\"font-weight: bold; text-decoration: underline\">}</span>\n",
       "</pre>\n"
      ],
      "text/plain": [
       "\u001b[1;4m{\u001b[0m\u001b[1;4mC × \u001b[0m\u001b[1;4;36m148292\u001b[0m\u001b[1;4m}\u001b[0m\n"
      ]
     },
     "metadata": {},
     "output_type": "display_data"
    },
    {
     "data": {
      "text/html": [
       "<pre style=\"white-space:pre;overflow-x:auto;line-height:normal;font-family:Menlo,'DejaVu Sans Mono',consolas,'Courier New',monospace;margin:0px\"><span style=\"color: #808080; text-decoration-color: #808080\">DEBUG: querying...</span>\n",
       "</pre>\n"
      ],
      "text/plain": [
       "\u001b[90mDEBUG: querying...\u001b[0m\n"
      ]
     },
     "metadata": {},
     "output_type": "display_data"
    },
    {
     "data": {
      "application/vnd.jupyter.widget-view+json": {
       "model_id": "4da34332aafb46dd922d7cee6586b430",
       "version_major": 2,
       "version_minor": 0
      },
      "text/plain": [
       "Output()"
      ]
     },
     "metadata": {},
     "output_type": "display_data"
    },
    {
     "data": {
      "text/html": [
       "<pre style=\"white-space:pre;overflow-x:auto;line-height:normal;font-family:Menlo,'DejaVu Sans Mono',consolas,'Courier New',monospace;margin:0px\"></pre>\n"
      ],
      "text/plain": []
     },
     "metadata": {},
     "output_type": "display_data"
    },
    {
     "data": {
      "text/html": [
       "<pre style=\"white-space:pre;overflow-x:auto;line-height:normal;font-family:Menlo,'DejaVu Sans Mono',consolas,'Courier New',monospace;margin:0px\"><span style=\"color: #808080; text-decoration-color: #808080\">DEBUG: adding scaffold column(s)</span>\n",
       "</pre>\n"
      ],
      "text/plain": [
       "\u001b[90mDEBUG: adding scaffold column(s)\u001b[0m\n"
      ]
     },
     "metadata": {},
     "output_type": "display_data"
    },
    {
     "data": {
      "text/html": [
       "<pre style=\"white-space:pre;overflow-x:auto;line-height:normal;font-family:Menlo,'DejaVu Sans Mono',consolas,'Courier New',monospace;margin:0px\"><span style=\"color: #008080; text-decoration-color: #008080; font-weight: bold\">148292</span>\n",
       "</pre>\n"
      ],
      "text/plain": [
       "\u001b[1;36m148292\u001b[0m\n"
      ]
     },
     "metadata": {},
     "output_type": "display_data"
    },
    {
     "data": {
      "text/html": [
       "<pre style=\"white-space:pre;overflow-x:auto;line-height:normal;font-family:Menlo,'DejaVu Sans Mono',consolas,'Courier New',monospace;margin:0px\">Primer grip/N-pocket\n",
       "</pre>\n"
      ],
      "text/plain": [
       "Primer grip/N-pocket\n"
      ]
     },
     "metadata": {},
     "output_type": "display_data"
    },
    {
     "data": {
      "text/html": [
       "<pre style=\"white-space:pre;overflow-x:auto;line-height:normal;font-family:Menlo,'DejaVu Sans Mono',consolas,'Courier New',monospace;margin:0px\"><span style=\"font-weight: bold; text-decoration: underline\">{C × </span><span style=\"color: #008080; text-decoration-color: #008080; font-weight: bold; text-decoration: underline\">20993</span><span style=\"font-weight: bold; text-decoration: underline\">}</span>\n",
       "</pre>\n"
      ],
      "text/plain": [
       "\u001b[1;4m{\u001b[0m\u001b[1;4mC × \u001b[0m\u001b[1;4;36m20993\u001b[0m\u001b[1;4m}\u001b[0m\n"
      ]
     },
     "metadata": {},
     "output_type": "display_data"
    },
    {
     "data": {
      "text/html": [
       "<pre style=\"white-space:pre;overflow-x:auto;line-height:normal;font-family:Menlo,'DejaVu Sans Mono',consolas,'Courier New',monospace;margin:0px\"><span style=\"color: #808080; text-decoration-color: #808080\">DEBUG: querying...</span>\n",
       "</pre>\n"
      ],
      "text/plain": [
       "\u001b[90mDEBUG: querying...\u001b[0m\n"
      ]
     },
     "metadata": {},
     "output_type": "display_data"
    },
    {
     "data": {
      "application/vnd.jupyter.widget-view+json": {
       "model_id": "8148adf0ec784d889f0cfe536fd55997",
       "version_major": 2,
       "version_minor": 0
      },
      "text/plain": [
       "Output()"
      ]
     },
     "metadata": {},
     "output_type": "display_data"
    },
    {
     "data": {
      "text/html": [
       "<pre style=\"white-space:pre;overflow-x:auto;line-height:normal;font-family:Menlo,'DejaVu Sans Mono',consolas,'Courier New',monospace;margin:0px\"></pre>\n"
      ],
      "text/plain": []
     },
     "metadata": {},
     "output_type": "display_data"
    },
    {
     "data": {
      "text/html": [
       "<pre style=\"white-space:pre;overflow-x:auto;line-height:normal;font-family:Menlo,'DejaVu Sans Mono',consolas,'Courier New',monospace;margin:0px\"><span style=\"color: #808080; text-decoration-color: #808080\">DEBUG: adding scaffold column(s)</span>\n",
       "</pre>\n"
      ],
      "text/plain": [
       "\u001b[90mDEBUG: adding scaffold column(s)\u001b[0m\n"
      ]
     },
     "metadata": {},
     "output_type": "display_data"
    },
    {
     "data": {
      "text/html": [
       "<pre style=\"white-space:pre;overflow-x:auto;line-height:normal;font-family:Menlo,'DejaVu Sans Mono',consolas,'Courier New',monospace;margin:0px\"><span style=\"color: #008080; text-decoration-color: #008080; font-weight: bold\">20993</span>\n",
       "</pre>\n"
      ],
      "text/plain": [
       "\u001b[1;36m20993\u001b[0m\n"
      ]
     },
     "metadata": {},
     "output_type": "display_data"
    },
    {
     "data": {
      "text/html": [
       "<pre style=\"white-space:pre;overflow-x:auto;line-height:normal;font-family:Menlo,'DejaVu Sans Mono',consolas,'Courier New',monospace;margin:0px\">Cavity B\n",
       "</pre>\n"
      ],
      "text/plain": [
       "Cavity B\n"
      ]
     },
     "metadata": {},
     "output_type": "display_data"
    },
    {
     "data": {
      "text/html": [
       "<pre style=\"white-space:pre;overflow-x:auto;line-height:normal;font-family:Menlo,'DejaVu Sans Mono',consolas,'Courier New',monospace;margin:0px\"><span style=\"font-weight: bold; text-decoration: underline\">{C × </span><span style=\"color: #008080; text-decoration-color: #008080; font-weight: bold; text-decoration: underline\">757</span><span style=\"font-weight: bold; text-decoration: underline\">}</span>\n",
       "</pre>\n"
      ],
      "text/plain": [
       "\u001b[1;4m{\u001b[0m\u001b[1;4mC × \u001b[0m\u001b[1;4;36m757\u001b[0m\u001b[1;4m}\u001b[0m\n"
      ]
     },
     "metadata": {},
     "output_type": "display_data"
    },
    {
     "data": {
      "text/html": [
       "<pre style=\"white-space:pre;overflow-x:auto;line-height:normal;font-family:Menlo,'DejaVu Sans Mono',consolas,'Courier New',monospace;margin:0px\"><span style=\"color: #808080; text-decoration-color: #808080\">DEBUG: querying...</span>\n",
       "</pre>\n"
      ],
      "text/plain": [
       "\u001b[90mDEBUG: querying...\u001b[0m\n"
      ]
     },
     "metadata": {},
     "output_type": "display_data"
    },
    {
     "data": {
      "application/vnd.jupyter.widget-view+json": {
       "model_id": "57d0604f0b2543ada6d3089988c7f573",
       "version_major": 2,
       "version_minor": 0
      },
      "text/plain": [
       "Output()"
      ]
     },
     "metadata": {},
     "output_type": "display_data"
    },
    {
     "data": {
      "text/html": [
       "<pre style=\"white-space:pre;overflow-x:auto;line-height:normal;font-family:Menlo,'DejaVu Sans Mono',consolas,'Courier New',monospace;margin:0px\"></pre>\n"
      ],
      "text/plain": []
     },
     "metadata": {},
     "output_type": "display_data"
    },
    {
     "data": {
      "text/html": [
       "<pre style=\"white-space:pre;overflow-x:auto;line-height:normal;font-family:Menlo,'DejaVu Sans Mono',consolas,'Courier New',monospace;margin:0px\"><span style=\"color: #808080; text-decoration-color: #808080\">DEBUG: adding scaffold column(s)</span>\n",
       "</pre>\n"
      ],
      "text/plain": [
       "\u001b[90mDEBUG: adding scaffold column(s)\u001b[0m\n"
      ]
     },
     "metadata": {},
     "output_type": "display_data"
    },
    {
     "data": {
      "text/html": [
       "<pre style=\"white-space:pre;overflow-x:auto;line-height:normal;font-family:Menlo,'DejaVu Sans Mono',consolas,'Courier New',monospace;margin:0px\"><span style=\"color: #008080; text-decoration-color: #008080; font-weight: bold\">757</span>\n",
       "</pre>\n"
      ],
      "text/plain": [
       "\u001b[1;36m757\u001b[0m\n"
      ]
     },
     "metadata": {},
     "output_type": "display_data"
    },
    {
     "data": {
      "text/html": [
       "<pre style=\"white-space:pre;overflow-x:auto;line-height:normal;font-family:Menlo,'DejaVu Sans Mono',consolas,'Courier New',monospace;margin:0px\">Thumb Site <span style=\"color: #008080; text-decoration-color: #008080; font-weight: bold\">2</span>\n",
       "</pre>\n"
      ],
      "text/plain": [
       "Thumb Site \u001b[1;36m2\u001b[0m\n"
      ]
     },
     "metadata": {},
     "output_type": "display_data"
    },
    {
     "data": {
      "text/html": [
       "<pre style=\"white-space:pre;overflow-x:auto;line-height:normal;font-family:Menlo,'DejaVu Sans Mono',consolas,'Courier New',monospace;margin:0px\"><span style=\"font-weight: bold; text-decoration: underline\">{C × </span><span style=\"color: #008080; text-decoration-color: #008080; font-weight: bold; text-decoration: underline\">3234</span><span style=\"font-weight: bold; text-decoration: underline\">}</span>\n",
       "</pre>\n"
      ],
      "text/plain": [
       "\u001b[1;4m{\u001b[0m\u001b[1;4mC × \u001b[0m\u001b[1;4;36m3234\u001b[0m\u001b[1;4m}\u001b[0m\n"
      ]
     },
     "metadata": {},
     "output_type": "display_data"
    },
    {
     "data": {
      "text/html": [
       "<pre style=\"white-space:pre;overflow-x:auto;line-height:normal;font-family:Menlo,'DejaVu Sans Mono',consolas,'Courier New',monospace;margin:0px\"><span style=\"color: #808080; text-decoration-color: #808080\">DEBUG: querying...</span>\n",
       "</pre>\n"
      ],
      "text/plain": [
       "\u001b[90mDEBUG: querying...\u001b[0m\n"
      ]
     },
     "metadata": {},
     "output_type": "display_data"
    },
    {
     "data": {
      "application/vnd.jupyter.widget-view+json": {
       "model_id": "942b28c0ffcc465ba1a86bfa983eb06f",
       "version_major": 2,
       "version_minor": 0
      },
      "text/plain": [
       "Output()"
      ]
     },
     "metadata": {},
     "output_type": "display_data"
    },
    {
     "data": {
      "text/html": [
       "<pre style=\"white-space:pre;overflow-x:auto;line-height:normal;font-family:Menlo,'DejaVu Sans Mono',consolas,'Courier New',monospace;margin:0px\"></pre>\n"
      ],
      "text/plain": []
     },
     "metadata": {},
     "output_type": "display_data"
    },
    {
     "data": {
      "text/html": [
       "<pre style=\"white-space:pre;overflow-x:auto;line-height:normal;font-family:Menlo,'DejaVu Sans Mono',consolas,'Courier New',monospace;margin:0px\"><span style=\"color: #808080; text-decoration-color: #808080\">DEBUG: adding scaffold column(s)</span>\n",
       "</pre>\n"
      ],
      "text/plain": [
       "\u001b[90mDEBUG: adding scaffold column(s)\u001b[0m\n"
      ]
     },
     "metadata": {},
     "output_type": "display_data"
    },
    {
     "data": {
      "text/html": [
       "<pre style=\"white-space:pre;overflow-x:auto;line-height:normal;font-family:Menlo,'DejaVu Sans Mono',consolas,'Courier New',monospace;margin:0px\"><span style=\"color: #008080; text-decoration-color: #008080; font-weight: bold\">3234</span>\n",
       "</pre>\n"
      ],
      "text/plain": [
       "\u001b[1;36m3234\u001b[0m\n"
      ]
     },
     "metadata": {},
     "output_type": "display_data"
    },
    {
     "name": "stdout",
     "output_type": "stream",
     "text": [
      "CPU times: user 1.87 s, sys: 332 ms, total: 2.21 s\n",
      "Wall time: 5.8 s\n"
     ]
    },
    {
     "data": {
      "text/html": [
       "<div>\n",
       "<style scoped>\n",
       "    .dataframe tbody tr th:only-of-type {\n",
       "        vertical-align: middle;\n",
       "    }\n",
       "\n",
       "    .dataframe tbody tr th {\n",
       "        vertical-align: top;\n",
       "    }\n",
       "\n",
       "    .dataframe thead th {\n",
       "        text-align: right;\n",
       "    }\n",
       "</style>\n",
       "<table border=\"1\" class=\"dataframe\">\n",
       "  <thead>\n",
       "    <tr style=\"text-align: right;\">\n",
       "      <th></th>\n",
       "      <th>smiles</th>\n",
       "      <th>scaffold</th>\n",
       "      <th>site</th>\n",
       "    </tr>\n",
       "    <tr>\n",
       "      <th>id</th>\n",
       "      <th></th>\n",
       "      <th></th>\n",
       "      <th></th>\n",
       "    </tr>\n",
       "  </thead>\n",
       "  <tbody>\n",
       "    <tr>\n",
       "      <th>241786</th>\n",
       "      <td>BrCC(NC1CCCc2c(Br)ccnc21)c1cccnc1N1CCCC1</td>\n",
       "      <td>c1cnc2c(c1)CCCC2NCc1cccnc1N1CCCC1</td>\n",
       "      <td>Green Site/RNA tunnel</td>\n",
       "    </tr>\n",
       "    <tr>\n",
       "      <th>241784</th>\n",
       "      <td>BrCC(NC1CCCc2cc(Br)cnc21)c1cccnc1N1CCCC1</td>\n",
       "      <td>c1cnc2c(c1)CCCC2NCc1cccnc1N1CCCC1</td>\n",
       "      <td>Green Site/RNA tunnel</td>\n",
       "    </tr>\n",
       "    <tr>\n",
       "      <th>241785</th>\n",
       "      <td>BrCC(NC1CCCc2ccc(Br)nc21)c1cccnc1N1CCCC1</td>\n",
       "      <td>c1cnc2c(c1)CCCC2NCc1cccnc1N1CCCC1</td>\n",
       "      <td>Green Site/RNA tunnel</td>\n",
       "    </tr>\n",
       "    <tr>\n",
       "      <th>240771</th>\n",
       "      <td>BrCC(NC1CCCc2cccnc21)c1cccnc1N1CCCC1</td>\n",
       "      <td>c1cnc2c(c1)CCCC2NCc1cccnc1N1CCCC1</td>\n",
       "      <td>Green Site/RNA tunnel</td>\n",
       "    </tr>\n",
       "    <tr>\n",
       "      <th>240575</th>\n",
       "      <td>BrCC(c1cccnc1N1CCCC1)N1C2CCC1c1ncccc12</td>\n",
       "      <td>c1cnc2c(c1)CCCC2NCc1cccnc1N1CCCC1</td>\n",
       "      <td>Green Site/RNA tunnel</td>\n",
       "    </tr>\n",
       "  </tbody>\n",
       "</table>\n",
       "</div>"
      ],
      "text/plain": [
       "                                          smiles  \\\n",
       "id                                                 \n",
       "241786  BrCC(NC1CCCc2c(Br)ccnc21)c1cccnc1N1CCCC1   \n",
       "241784  BrCC(NC1CCCc2cc(Br)cnc21)c1cccnc1N1CCCC1   \n",
       "241785  BrCC(NC1CCCc2ccc(Br)nc21)c1cccnc1N1CCCC1   \n",
       "240771      BrCC(NC1CCCc2cccnc21)c1cccnc1N1CCCC1   \n",
       "240575    BrCC(c1cccnc1N1CCCC1)N1C2CCC1c1ncccc12   \n",
       "\n",
       "                                 scaffold                   site  \n",
       "id                                                                \n",
       "241786  c1cnc2c(c1)CCCC2NCc1cccnc1N1CCCC1  Green Site/RNA tunnel  \n",
       "241784  c1cnc2c(c1)CCCC2NCc1cccnc1N1CCCC1  Green Site/RNA tunnel  \n",
       "241785  c1cnc2c(c1)CCCC2NCc1cccnc1N1CCCC1  Green Site/RNA tunnel  \n",
       "240771  c1cnc2c(c1)CCCC2NCc1cccnc1N1CCCC1  Green Site/RNA tunnel  \n",
       "240575  c1cnc2c(c1)CCCC2NCc1cccnc1N1CCCC1  Green Site/RNA tunnel  "
      ]
     },
     "execution_count": 53,
     "metadata": {},
     "output_type": "execute_result"
    }
   ],
   "source": [
    "%%time\n",
    "dfs = []\n",
    "for k,v in POSES.items():\n",
    "    print(k)\n",
    "    compounds = v[\"merge_compounds\"]\n",
    "    elabs = compounds.elabs\n",
    "    print(elabs)\n",
    "    df = elabs.get_df(alias=False, bases=True, debug=True)\n",
    "    print(len(df))\n",
    "    df[\"site\"] = k\n",
    "    df.rename(columns={\"bases\":\"scaffold\"}, inplace=True)\n",
    "    scaffolds = elabs.bases\n",
    "    lookup = animal.db.get_compound_id_smiles_dict(scaffolds)\n",
    "    df[\"scaffold\"] = df[\"scaffold\"].apply(lambda x: lookup[list(x)[0]])\n",
    "    dfs.append(df)\n",
    "df = pd.concat(dfs)\n",
    "df.head()"
   ]
  },
  {
   "cell_type": "code",
   "execution_count": 54,
   "id": "c50e46ca-fd0a-453a-bab3-34c75cc69568",
   "metadata": {},
   "outputs": [
    {
     "data": {
      "text/html": [
       "<div>\n",
       "<style scoped>\n",
       "    .dataframe tbody tr th:only-of-type {\n",
       "        vertical-align: middle;\n",
       "    }\n",
       "\n",
       "    .dataframe tbody tr th {\n",
       "        vertical-align: top;\n",
       "    }\n",
       "\n",
       "    .dataframe thead th {\n",
       "        text-align: right;\n",
       "    }\n",
       "</style>\n",
       "<table border=\"1\" class=\"dataframe\">\n",
       "  <thead>\n",
       "    <tr style=\"text-align: right;\">\n",
       "      <th></th>\n",
       "      <th>smiles</th>\n",
       "      <th>scaffold</th>\n",
       "      <th>site</th>\n",
       "    </tr>\n",
       "    <tr>\n",
       "      <th>id</th>\n",
       "      <th></th>\n",
       "      <th></th>\n",
       "      <th></th>\n",
       "    </tr>\n",
       "  </thead>\n",
       "  <tbody>\n",
       "    <tr>\n",
       "      <th>241786</th>\n",
       "      <td>BrCC(NC1CCCc2c(Br)ccnc21)c1cccnc1N1CCCC1</td>\n",
       "      <td>c1cnc2c(c1)CCCC2NCc1cccnc1N1CCCC1</td>\n",
       "      <td>Green Site/RNA tunnel</td>\n",
       "    </tr>\n",
       "    <tr>\n",
       "      <th>241784</th>\n",
       "      <td>BrCC(NC1CCCc2cc(Br)cnc21)c1cccnc1N1CCCC1</td>\n",
       "      <td>c1cnc2c(c1)CCCC2NCc1cccnc1N1CCCC1</td>\n",
       "      <td>Green Site/RNA tunnel</td>\n",
       "    </tr>\n",
       "    <tr>\n",
       "      <th>241785</th>\n",
       "      <td>BrCC(NC1CCCc2ccc(Br)nc21)c1cccnc1N1CCCC1</td>\n",
       "      <td>c1cnc2c(c1)CCCC2NCc1cccnc1N1CCCC1</td>\n",
       "      <td>Green Site/RNA tunnel</td>\n",
       "    </tr>\n",
       "    <tr>\n",
       "      <th>240771</th>\n",
       "      <td>BrCC(NC1CCCc2cccnc21)c1cccnc1N1CCCC1</td>\n",
       "      <td>c1cnc2c(c1)CCCC2NCc1cccnc1N1CCCC1</td>\n",
       "      <td>Green Site/RNA tunnel</td>\n",
       "    </tr>\n",
       "    <tr>\n",
       "      <th>240575</th>\n",
       "      <td>BrCC(c1cccnc1N1CCCC1)N1C2CCC1c1ncccc12</td>\n",
       "      <td>c1cnc2c(c1)CCCC2NCc1cccnc1N1CCCC1</td>\n",
       "      <td>Green Site/RNA tunnel</td>\n",
       "    </tr>\n",
       "    <tr>\n",
       "      <th>...</th>\n",
       "      <td>...</td>\n",
       "      <td>...</td>\n",
       "      <td>...</td>\n",
       "    </tr>\n",
       "    <tr>\n",
       "      <th>77222</th>\n",
       "      <td>CCS(=O)(=O)N(C)Cc1ccc(C(=O)N2C(CC3CC3)C(=O)N2C...</td>\n",
       "      <td>CCS(=O)(=O)NCc1ccc(C(=O)N2CC(=O)N2)cc1</td>\n",
       "      <td>Thumb Site 2</td>\n",
       "    </tr>\n",
       "    <tr>\n",
       "      <th>77223</th>\n",
       "      <td>CCS(=O)(=O)N(C)Cc1ccc(C(=O)N2C(CC(F)F)C(=O)N2C...</td>\n",
       "      <td>CCS(=O)(=O)NCc1ccc(C(=O)N2CC(=O)N2)cc1</td>\n",
       "      <td>Thumb Site 2</td>\n",
       "    </tr>\n",
       "    <tr>\n",
       "      <th>77224</th>\n",
       "      <td>CCS(=O)(=O)N(C)Cc1ccc(C(=O)N2N(C3CC3)C(=O)C2(C...</td>\n",
       "      <td>CCS(=O)(=O)NCc1ccc(C(=O)N2CC(=O)N2)cc1</td>\n",
       "      <td>Thumb Site 2</td>\n",
       "    </tr>\n",
       "    <tr>\n",
       "      <th>77225</th>\n",
       "      <td>CCCN1C(=O)C(CC2CC2)N1C(=O)c1ccc(CN(C)S(=O)(=O)...</td>\n",
       "      <td>CCS(=O)(=O)NCc1ccc(C(=O)N2CC(=O)N2)cc1</td>\n",
       "      <td>Thumb Site 2</td>\n",
       "    </tr>\n",
       "    <tr>\n",
       "      <th>77226</th>\n",
       "      <td>CCS(=O)(=O)N(C)Cc1ccc(C(=O)N2C(CC3CC3)C(=O)N2C...</td>\n",
       "      <td>CCS(=O)(=O)NCc1ccc(C(=O)N2CC(=O)N2)cc1</td>\n",
       "      <td>Thumb Site 2</td>\n",
       "    </tr>\n",
       "  </tbody>\n",
       "</table>\n",
       "<p>173276 rows × 3 columns</p>\n",
       "</div>"
      ],
      "text/plain": [
       "                                                   smiles  \\\n",
       "id                                                          \n",
       "241786           BrCC(NC1CCCc2c(Br)ccnc21)c1cccnc1N1CCCC1   \n",
       "241784           BrCC(NC1CCCc2cc(Br)cnc21)c1cccnc1N1CCCC1   \n",
       "241785           BrCC(NC1CCCc2ccc(Br)nc21)c1cccnc1N1CCCC1   \n",
       "240771               BrCC(NC1CCCc2cccnc21)c1cccnc1N1CCCC1   \n",
       "240575             BrCC(c1cccnc1N1CCCC1)N1C2CCC1c1ncccc12   \n",
       "...                                                   ...   \n",
       "77222   CCS(=O)(=O)N(C)Cc1ccc(C(=O)N2C(CC3CC3)C(=O)N2C...   \n",
       "77223   CCS(=O)(=O)N(C)Cc1ccc(C(=O)N2C(CC(F)F)C(=O)N2C...   \n",
       "77224   CCS(=O)(=O)N(C)Cc1ccc(C(=O)N2N(C3CC3)C(=O)C2(C...   \n",
       "77225   CCCN1C(=O)C(CC2CC2)N1C(=O)c1ccc(CN(C)S(=O)(=O)...   \n",
       "77226   CCS(=O)(=O)N(C)Cc1ccc(C(=O)N2C(CC3CC3)C(=O)N2C...   \n",
       "\n",
       "                                      scaffold                   site  \n",
       "id                                                                     \n",
       "241786       c1cnc2c(c1)CCCC2NCc1cccnc1N1CCCC1  Green Site/RNA tunnel  \n",
       "241784       c1cnc2c(c1)CCCC2NCc1cccnc1N1CCCC1  Green Site/RNA tunnel  \n",
       "241785       c1cnc2c(c1)CCCC2NCc1cccnc1N1CCCC1  Green Site/RNA tunnel  \n",
       "240771       c1cnc2c(c1)CCCC2NCc1cccnc1N1CCCC1  Green Site/RNA tunnel  \n",
       "240575       c1cnc2c(c1)CCCC2NCc1cccnc1N1CCCC1  Green Site/RNA tunnel  \n",
       "...                                        ...                    ...  \n",
       "77222   CCS(=O)(=O)NCc1ccc(C(=O)N2CC(=O)N2)cc1           Thumb Site 2  \n",
       "77223   CCS(=O)(=O)NCc1ccc(C(=O)N2CC(=O)N2)cc1           Thumb Site 2  \n",
       "77224   CCS(=O)(=O)NCc1ccc(C(=O)N2CC(=O)N2)cc1           Thumb Site 2  \n",
       "77225   CCS(=O)(=O)NCc1ccc(C(=O)N2CC(=O)N2)cc1           Thumb Site 2  \n",
       "77226   CCS(=O)(=O)NCc1ccc(C(=O)N2CC(=O)N2)cc1           Thumb Site 2  \n",
       "\n",
       "[173276 rows x 3 columns]"
      ]
     },
     "execution_count": 54,
     "metadata": {},
     "output_type": "execute_result"
    }
   ],
   "source": [
    "df"
   ]
  },
  {
   "cell_type": "code",
   "execution_count": 55,
   "id": "baf228eb-bb13-4993-a180-950e783e291c",
   "metadata": {},
   "outputs": [],
   "source": [
    "df.to_csv(\"Flavi_RdRp_elabs.csv\")"
   ]
  },
  {
   "cell_type": "code",
   "execution_count": null,
   "id": "165d6835-0c66-4097-b58e-818366bf91d7",
   "metadata": {},
   "outputs": [],
   "source": []
  }
 ],
 "metadata": {
  "kernelspec": {
   "display_name": "Python 3 (ipykernel)",
   "language": "python",
   "name": "python3"
  },
  "language_info": {
   "codemirror_mode": {
    "name": "ipython",
    "version": 3
   },
   "file_extension": ".py",
   "mimetype": "text/x-python",
   "name": "python",
   "nbconvert_exporter": "python",
   "pygments_lexer": "ipython3",
   "version": "3.12.8"
  }
 },
 "nbformat": 4,
 "nbformat_minor": 5
}
