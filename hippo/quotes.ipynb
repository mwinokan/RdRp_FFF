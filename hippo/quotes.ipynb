{
 "cells": [
  {
   "cell_type": "code",
   "execution_count": 3,
   "id": "dd40f357-52e2-4f76-a014-5ef9c7483cb1",
   "metadata": {},
   "outputs": [],
   "source": [
    "%load_ext autoreload\n",
    "%autoreload 2\n",
    "import hippo\n",
    "from rich import print\n",
    "import pandas as pd\n",
    "from pathlib import Path\n",
    "import mrich"
   ]
  },
  {
   "cell_type": "code",
   "execution_count": 4,
   "id": "a10e0b5c-787c-405e-93e6-f13125a22089",
   "metadata": {},
   "outputs": [
    {
     "data": {
      "text/html": [
       "<pre style=\"white-space:pre;overflow-x:auto;line-height:normal;font-family:Menlo,'DejaVu Sans Mono',consolas,'Courier New',monospace;margin:0px\"><span style=\"font-weight: bold\"> Creating HIPPO animal</span>\n",
       "</pre>\n"
      ],
      "text/plain": [
       "\u001b[1m Creating HIPPO animal\u001b[0m\n"
      ]
     },
     "metadata": {},
     "output_type": "display_data"
    },
    {
     "data": {
      "text/html": [
       "<pre style=\"white-space:pre;overflow-x:auto;line-height:normal;font-family:Menlo,'DejaVu Sans Mono',consolas,'Courier New',monospace;margin:0px\"><span style=\"color: #008080; text-decoration-color: #008080; font-weight: bold\">name</span> = <span style=\"color: #00d7af; text-decoration-color: #00d7af\">RdRp_FFF</span>\n",
       "</pre>\n"
      ],
      "text/plain": [
       "\u001b[1;36mname\u001b[0m = \u001b[38;5;43mRdRp_FFF\u001b[0m\n"
      ]
     },
     "metadata": {},
     "output_type": "display_data"
    },
    {
     "data": {
      "text/html": [
       "<pre style=\"white-space:pre;overflow-x:auto;line-height:normal;font-family:Menlo,'DejaVu Sans Mono',consolas,'Courier New',monospace;margin:0px\"><span style=\"color: #008080; text-decoration-color: #008080; font-weight: bold\">db_path</span> = <span style=\"color: #d7af00; text-decoration-color: #d7af00\">../../BulkDock/TARGETS/Flavi_NS5_RdRp/Flavi_NS5_RdRp.sqlite</span>\n",
       "</pre>\n"
      ],
      "text/plain": [
       "\u001b[1;36mdb_path\u001b[0m = \u001b[38;5;178m../../BulkDock/TARGETS/Flavi_NS5_RdRp/Flavi_NS5_RdRp.sqlite\u001b[0m\n"
      ]
     },
     "metadata": {},
     "output_type": "display_data"
    },
    {
     "data": {
      "text/html": [
       "<pre style=\"white-space:pre;overflow-x:auto;line-height:normal;font-family:Menlo,'DejaVu Sans Mono',consolas,'Courier New',monospace;margin:0px\"><span style=\"color: #808080; text-decoration-color: #808080\">DEBUG: hippo.Database.__init__()</span>\n",
       "</pre>\n"
      ],
      "text/plain": [
       "\u001b[90mDEBUG: hippo.Database.__init__()\u001b[0m\n"
      ]
     },
     "metadata": {},
     "output_type": "display_data"
    },
    {
     "data": {
      "text/html": [
       "<pre style=\"white-space:pre;overflow-x:auto;line-height:normal;font-family:Menlo,'DejaVu Sans Mono',consolas,'Courier New',monospace;margin:0px\"><span style=\"color: #808080; text-decoration-color: #808080\">DEBUG: Database.path = ../../BulkDock/TARGETS/Flavi_NS5_RdRp/Flavi_NS5_RdRp.sqlite</span>\n",
       "</pre>\n"
      ],
      "text/plain": [
       "\u001b[90mDEBUG: Database.path = ../../BulkDock/TARGETS/Flavi_NS5_RdRp/Flavi_NS5_RdRp.sqlite\u001b[0m\n"
      ]
     },
     "metadata": {},
     "output_type": "display_data"
    },
    {
     "data": {
      "text/html": [
       "<pre style=\"white-space:pre;overflow-x:auto;line-height:normal;font-family:Menlo,'DejaVu Sans Mono',consolas,'Courier New',monospace;margin:0px\"><span style=\"color: #808080; text-decoration-color: #808080\">DEBUG: hippo.Database.connect()</span>\n",
       "</pre>\n"
      ],
      "text/plain": [
       "\u001b[90mDEBUG: hippo.Database.connect()\u001b[0m\n"
      ]
     },
     "metadata": {},
     "output_type": "display_data"
    },
    {
     "data": {
      "text/html": [
       "<pre style=\"white-space:pre;overflow-x:auto;line-height:normal;font-family:Menlo,'DejaVu Sans Mono',consolas,'Courier New',monospace;margin:0px\"><span style=\"color: #808080; text-decoration-color: #808080\">DEBUG: sqlite3.version='2.6.0'</span>\n",
       "</pre>\n"
      ],
      "text/plain": [
       "\u001b[90mDEBUG: sqlite3.version='2.6.0'\u001b[0m\n"
      ]
     },
     "metadata": {},
     "output_type": "display_data"
    },
    {
     "data": {
      "text/html": [
       "<pre style=\"white-space:pre;overflow-x:auto;line-height:normal;font-family:Menlo,'DejaVu Sans Mono',consolas,'Courier New',monospace;margin:0px\"><span style=\"background-color: #008000; font-weight: bold\"> Success </span><span style=\"color: #008000; text-decoration-color: #008000; font-weight: bold\"> Database connected @</span><span style=\"color: #d7af00; text-decoration-color: #d7af00; font-weight: bold\"> ../../BulkDock/TARGETS/Flavi_NS5_RdRp/Flavi_NS5_RdRp.sqlite!</span>\n",
       "</pre>\n"
      ],
      "text/plain": [
       "\u001b[1;7;32m Success \u001b[0m\u001b[1;32m Database connected @\u001b[0m\u001b[1;38;5;178m ../../BulkDock/TARGETS/Flavi_NS5_RdRp/Flavi_NS5_RdRp.sqlite!\u001b[0m\n"
      ]
     },
     "metadata": {},
     "output_type": "display_data"
    },
    {
     "data": {
      "text/html": [
       "<pre style=\"white-space:pre;overflow-x:auto;line-height:normal;font-family:Menlo,'DejaVu Sans Mono',consolas,'Courier New',monospace;margin:0px\"><span style=\"background-color: #008000; font-weight: bold\"> Success </span><span style=\"color: #008000; text-decoration-color: #008000; font-weight: bold\"> Initialised animal</span><span style=\"color: #008080; text-decoration-color: #008080; font-weight: bold\"> HIPPO(\"RdRp_FFF\")!</span>\n",
       "</pre>\n"
      ],
      "text/plain": [
       "\u001b[1;7;32m Success \u001b[0m\u001b[1;32m Initialised animal\u001b[0m\u001b[1;36m HIPPO(\"RdRp_FFF\")!\u001b[0m\n"
      ]
     },
     "metadata": {},
     "output_type": "display_data"
    }
   ],
   "source": [
    "animal = hippo.HIPPO(\"RdRp_FFF\", \"../../BulkDock/TARGETS/Flavi_NS5_RdRp/Flavi_NS5_RdRp.sqlite\")\n",
    "# animal = hippo.HIPPO(\"RdRp_FFF\", \"bulkdock_snapshot.sqlite\", copy_from=\"../../BulkDock/TARGETS/Flavi_NS5_RdRp/Flavi_NS5_RdRp.sqlite\", overwrite_existing=True)"
   ]
  },
  {
   "cell_type": "markdown",
   "id": "c09155f3-45b1-4d3c-a7b1-18500c6c03df",
   "metadata": {
    "jp-MarkdownHeadingCollapsed": true
   },
   "source": [
    "## Get Enamine catalogue quotes"
   ]
  },
  {
   "cell_type": "code",
   "execution_count": 81,
   "id": "91c261c4-a5e2-48aa-9d2f-39b202649007",
   "metadata": {
    "scrolled": true
   },
   "outputs": [
    {
     "data": {
      "text/html": [
       "<pre style=\"white-space:pre;overflow-x:auto;line-height:normal;font-family:Menlo,'DejaVu Sans Mono',consolas,'Courier New',monospace\">Tagged <span style=\"font-weight: bold\">{</span>P × <span style=\"color: #008080; text-decoration-color: #008080; font-weight: bold\">900</span><span style=\"font-weight: bold\">}</span> w/ <span style=\"color: #008000; text-decoration-color: #008000\">\"Enamine_Quote_1970815\"</span>\n",
       "</pre>\n"
      ],
      "text/plain": [
       "Tagged \u001b[1m{\u001b[0mP × \u001b[1;36m900\u001b[0m\u001b[1m}\u001b[0m w/ \u001b[32m\"Enamine_Quote_1970815\"\u001b[0m\n"
      ]
     },
     "metadata": {},
     "output_type": "display_data"
    }
   ],
   "source": [
    "quoted1 = animal.add_enamine_quote(\"../quotes/DF_curated_and_manual_and_AC_curated_enamine.xlsx\", orig_name_col=None)\n",
    "quoted1.compounds.poses.add_tag(\"Enamine_Quote_1970815\")"
   ]
  },
  {
   "cell_type": "code",
   "execution_count": 82,
   "id": "8f1ba7b1-f716-469b-99c9-93966cf0f26e",
   "metadata": {},
   "outputs": [
    {
     "data": {
      "text/html": [
       "<pre style=\"white-space:pre;overflow-x:auto;line-height:normal;font-family:Menlo,'DejaVu Sans Mono',consolas,'Courier New',monospace\">Tagged <span style=\"font-weight: bold\">{</span>P × <span style=\"color: #008080; text-decoration-color: #008080; font-weight: bold\">596</span><span style=\"font-weight: bold\">}</span> w/ <span style=\"color: #008000; text-decoration-color: #008000\">\"Enamine_Quote_1977854\"</span>\n",
       "</pre>\n"
      ],
      "text/plain": [
       "Tagged \u001b[1m{\u001b[0mP × \u001b[1;36m596\u001b[0m\u001b[1m}\u001b[0m w/ \u001b[32m\"Enamine_Quote_1977854\"\u001b[0m\n"
      ]
     },
     "metadata": {},
     "output_type": "display_data"
    }
   ],
   "source": [
    "quoted2 = animal.add_enamine_quote(\"../quotes/LCD_curated_enamine1.xlsx\", orig_name_col=None)\n",
    "quoted2.compounds.poses.add_tag(\"Enamine_Quote_1977854\")"
   ]
  },
  {
   "cell_type": "code",
   "execution_count": 29,
   "id": "da64f4a0-e6ba-4997-8f62-dc645f9f1e8f",
   "metadata": {},
   "outputs": [],
   "source": [
    "# quoted = quoted1 + quoted2\n",
    "quoted = quoted2"
   ]
  },
  {
   "cell_type": "code",
   "execution_count": 6,
   "id": "61039d67-ce0c-4547-9ee0-826ef6d61df2",
   "metadata": {},
   "outputs": [
    {
     "name": "stdout",
     "output_type": "stream",
     "text": [
      "\u001b[1m\u001b[4mC341 \"WZRAVWCMDRGDQR-UHFFFAOYSA-N\"\u001b[22m\u001b[24m\n"
     ]
    },
    {
     "data": {
      "image/png": "[encoded data removed]",
      "text/plain": [
       "<rdkit.Chem.rdchem.Mol at 0x7fa901a28e00>"
      ]
     },
     "metadata": {},
     "output_type": "display_data"
    },
    {
     "data": {
      "application/vnd.jupyter.widget-view+json": {
       "model_id": "45a98aa2166a4e2ba19144b1938d8902",
       "version_major": 2,
       "version_minor": 0
      },
      "text/plain": [
       "VBox(children=(BoundedIntText(value=0, description='Comp (/81):', max=80), GridBox(children=(Checkbox(value=Tr…"
      ]
     },
     "metadata": {},
     "output_type": "display_data"
    },
    {
     "data": {
      "application/vnd.jupyter.widget-view+json": {
       "model_id": "3df90ef2f547483791cef7eef9952232",
       "version_major": 2,
       "version_minor": 0
      },
      "text/plain": [
       "Output()"
      ]
     },
     "metadata": {},
     "output_type": "display_data"
    }
   ],
   "source": [
    "# print(len(quoted))\n",
    "quoted.interactive()"
   ]
  },
  {
   "cell_type": "code",
   "execution_count": 24,
   "id": "eed582c0-6979-4fbd-b69b-ed3f2c501491",
   "metadata": {},
   "outputs": [
    {
     "data": {
      "text/html": [
       "<pre style=\"white-space:pre;overflow-x:auto;line-height:normal;font-family:Menlo,'DejaVu Sans Mono',consolas,'Courier New',monospace\">Working... <span style=\"color: #729c1f; text-decoration-color: #729c1f\">━━━━━━━━━━━━━━━━━━━━━━━━━━━━━━━━━━━━━━━━</span> <span style=\"color: #800080; text-decoration-color: #800080\">100%</span> <span style=\"color: #808000; text-decoration-color: #808000\">0:07:35</span> <span style=\"color: #008080; text-decoration-color: #008080\">0:00:00</span> {}\n",
       "</pre>\n"
      ],
      "text/plain": [
       "Working... \u001b[38;2;114;156;31m━━━━━━━━━━━━━━━━━━━━━━━━━━━━━━━━━━━━━━━━\u001b[0m \u001b[35m100%\u001b[0m \u001b[33m0:07:35\u001b[0m \u001b[36m0:00:00\u001b[0m {}\n"
      ]
     },
     "metadata": {},
     "output_type": "display_data"
    },
    {
     "data": {
      "text/html": [
       "<pre style=\"white-space:pre;overflow-x:auto;line-height:normal;font-family:Menlo,'DejaVu Sans Mono',consolas,'Courier New',monospace\"></pre>\n"
      ],
      "text/plain": []
     },
     "metadata": {},
     "output_type": "display_data"
    },
    {
     "data": {
      "text/html": [
       "<div>\n",
       "<style scoped>\n",
       "    .dataframe tbody tr th:only-of-type {\n",
       "        vertical-align: middle;\n",
       "    }\n",
       "\n",
       "    .dataframe tbody tr th {\n",
       "        vertical-align: top;\n",
       "    }\n",
       "\n",
       "    .dataframe thead th {\n",
       "        text-align: right;\n",
       "    }\n",
       "</style>\n",
       "<table border=\"1\" class=\"dataframe\">\n",
       "  <thead>\n",
       "    <tr style=\"text-align: right;\">\n",
       "      <th></th>\n",
       "      <th>comp_id</th>\n",
       "      <th>smiles</th>\n",
       "      <th>quote_id</th>\n",
       "      <th>quote_entry</th>\n",
       "      <th>quote_price_USD</th>\n",
       "      <th>quote_amount_mg</th>\n",
       "      <th>quote_catalogue</th>\n",
       "      <th>tags</th>\n",
       "    </tr>\n",
       "  </thead>\n",
       "  <tbody>\n",
       "    <tr>\n",
       "      <th>0</th>\n",
       "      <td>6748</td>\n",
       "      <td>C=C(C(=O)OC)C(O)C=1C=CN=CC1</td>\n",
       "      <td>736.0</td>\n",
       "      <td>Z320967548</td>\n",
       "      <td>38.0</td>\n",
       "      <td>5.0</td>\n",
       "      <td>Legacy</td>\n",
       "      <td>Knitwork impure merge; Fragmenstein placed; ac...</td>\n",
       "    </tr>\n",
       "    <tr>\n",
       "      <th>1</th>\n",
       "      <td>55996</td>\n",
       "      <td>CC=1C=C(NC(=O)NC[C@@H](C)O)N(N1)C=2C=CC=CC2</td>\n",
       "      <td>NaN</td>\n",
       "      <td>Z1563517098</td>\n",
       "      <td>$396.00 USD</td>\n",
       "      <td>15.0</td>\n",
       "      <td>sRDB</td>\n",
       "      <td>LCD curated YES; Fragmenstein placed; acceptab...</td>\n",
       "    </tr>\n",
       "    <tr>\n",
       "      <th>2</th>\n",
       "      <td>40809</td>\n",
       "      <td>COC=1C=CC=2C(=COC2C1)CC(=O)OCC(=O)C3=CNC=4C=CC...</td>\n",
       "      <td>738.0</td>\n",
       "      <td>Z25278747</td>\n",
       "      <td>38.0</td>\n",
       "      <td>5.0</td>\n",
       "      <td>Legacy</td>\n",
       "      <td>Fragmenstein placed; acceptable; Green Site/RN...</td>\n",
       "    </tr>\n",
       "    <tr>\n",
       "      <th>3</th>\n",
       "      <td>30876</td>\n",
       "      <td>CC=1C=CC(NC(=O)C=2C=CC=NC2)=C3C=CC=NC13</td>\n",
       "      <td>739.0</td>\n",
       "      <td>Z284853590</td>\n",
       "      <td>38.0</td>\n",
       "      <td>5.0</td>\n",
       "      <td>Legacy</td>\n",
       "      <td>Fragmenstein; acceptable; RdRp_knitwork_green_...</td>\n",
       "    </tr>\n",
       "    <tr>\n",
       "      <th>4</th>\n",
       "      <td>45327</td>\n",
       "      <td>C[C@H](O)CNC(=O)NC1=CC=CN=C1N2CCCC2</td>\n",
       "      <td>NaN</td>\n",
       "      <td>Z1563511699</td>\n",
       "      <td>$396.00 USD</td>\n",
       "      <td>15.0</td>\n",
       "      <td>sRDB</td>\n",
       "      <td>LCD curated YES; Fragmenstein placed; acceptab...</td>\n",
       "    </tr>\n",
       "    <tr>\n",
       "      <th>...</th>\n",
       "      <td>...</td>\n",
       "      <td>...</td>\n",
       "      <td>...</td>\n",
       "      <td>...</td>\n",
       "      <td>...</td>\n",
       "      <td>...</td>\n",
       "      <td>...</td>\n",
       "      <td>...</td>\n",
       "    </tr>\n",
       "    <tr>\n",
       "      <th>196</th>\n",
       "      <td>60687</td>\n",
       "      <td>CC=1OC=2C=CC=CC2C1C(=O)OCC=3C=CN4N=CN=C4C3</td>\n",
       "      <td>NaN</td>\n",
       "      <td>Z9471938654</td>\n",
       "      <td>$264.00 USD</td>\n",
       "      <td>10.0</td>\n",
       "      <td>sRDB</td>\n",
       "      <td>LCD curated YES; Knitwork impure merge; Fragme...</td>\n",
       "    </tr>\n",
       "    <tr>\n",
       "      <th>197</th>\n",
       "      <td>60663</td>\n",
       "      <td>C1=CC=2C=C(C=CC2O1)CNC=3C=CC4=NC=NN4C3</td>\n",
       "      <td>NaN</td>\n",
       "      <td>Z9471938662</td>\n",
       "      <td>$264.00 USD</td>\n",
       "      <td>10.0</td>\n",
       "      <td>sRDB</td>\n",
       "      <td>LCD curated YES; Knitwork impure merge; Fragme...</td>\n",
       "    </tr>\n",
       "    <tr>\n",
       "      <th>198</th>\n",
       "      <td>65250</td>\n",
       "      <td>CC(C)(CS(=O)(=O)N1CCCC=2C=CC=CC21)C(F)F</td>\n",
       "      <td>NaN</td>\n",
       "      <td>Z3402390089</td>\n",
       "      <td>$394.00 USD</td>\n",
       "      <td>10.0</td>\n",
       "      <td>mRDB</td>\n",
       "      <td>LCD curated YES; Knitwork impure merge; Fragme...</td>\n",
       "    </tr>\n",
       "    <tr>\n",
       "      <th>199</th>\n",
       "      <td>30433</td>\n",
       "      <td>C1=CC=2N=C(C=CC2O1)CNC3(CC3)C=4C=CC=CN4</td>\n",
       "      <td>NaN</td>\n",
       "      <td>Z4482242894</td>\n",
       "      <td>$394.00 USD</td>\n",
       "      <td>10.0</td>\n",
       "      <td>mRDB</td>\n",
       "      <td>Fragmenstein; acceptable; RdRp_knitwork_green_...</td>\n",
       "    </tr>\n",
       "    <tr>\n",
       "      <th>200</th>\n",
       "      <td>3977</td>\n",
       "      <td>CC[C@@H](NS(=O)(=O)C1=COC2=CC=CC=C12)C(C)C</td>\n",
       "      <td>NaN</td>\n",
       "      <td>Z9471938609</td>\n",
       "      <td>$394.00 USD</td>\n",
       "      <td>10.0</td>\n",
       "      <td>mRDB</td>\n",
       "      <td>Knitwork impure merge; DF curated NO; Fragmens...</td>\n",
       "    </tr>\n",
       "  </tbody>\n",
       "</table>\n",
       "<p>201 rows × 8 columns</p>\n",
       "</div>"
      ],
      "text/plain": [
       "     comp_id                                             smiles  quote_id  \\\n",
       "0       6748                        C=C(C(=O)OC)C(O)C=1C=CN=CC1     736.0   \n",
       "1      55996        CC=1C=C(NC(=O)NC[C@@H](C)O)N(N1)C=2C=CC=CC2       NaN   \n",
       "2      40809  COC=1C=CC=2C(=COC2C1)CC(=O)OCC(=O)C3=CNC=4C=CC...     738.0   \n",
       "3      30876            CC=1C=CC(NC(=O)C=2C=CC=NC2)=C3C=CC=NC13     739.0   \n",
       "4      45327                C[C@H](O)CNC(=O)NC1=CC=CN=C1N2CCCC2       NaN   \n",
       "..       ...                                                ...       ...   \n",
       "196    60687         CC=1OC=2C=CC=CC2C1C(=O)OCC=3C=CN4N=CN=C4C3       NaN   \n",
       "197    60663             C1=CC=2C=C(C=CC2O1)CNC=3C=CC4=NC=NN4C3       NaN   \n",
       "198    65250            CC(C)(CS(=O)(=O)N1CCCC=2C=CC=CC21)C(F)F       NaN   \n",
       "199    30433            C1=CC=2N=C(C=CC2O1)CNC3(CC3)C=4C=CC=CN4       NaN   \n",
       "200     3977         CC[C@@H](NS(=O)(=O)C1=COC2=CC=CC=C12)C(C)C       NaN   \n",
       "\n",
       "     quote_entry quote_price_USD  quote_amount_mg quote_catalogue  \\\n",
       "0     Z320967548            38.0              5.0          Legacy   \n",
       "1    Z1563517098     $396.00 USD             15.0            sRDB   \n",
       "2      Z25278747            38.0              5.0          Legacy   \n",
       "3     Z284853590            38.0              5.0          Legacy   \n",
       "4    Z1563511699     $396.00 USD             15.0            sRDB   \n",
       "..           ...             ...              ...             ...   \n",
       "196  Z9471938654     $264.00 USD             10.0            sRDB   \n",
       "197  Z9471938662     $264.00 USD             10.0            sRDB   \n",
       "198  Z3402390089     $394.00 USD             10.0            mRDB   \n",
       "199  Z4482242894     $394.00 USD             10.0            mRDB   \n",
       "200  Z9471938609     $394.00 USD             10.0            mRDB   \n",
       "\n",
       "                                                  tags  \n",
       "0    Knitwork impure merge; Fragmenstein placed; ac...  \n",
       "1    LCD curated YES; Fragmenstein placed; acceptab...  \n",
       "2    Fragmenstein placed; acceptable; Green Site/RN...  \n",
       "3    Fragmenstein; acceptable; RdRp_knitwork_green_...  \n",
       "4    LCD curated YES; Fragmenstein placed; acceptab...  \n",
       "..                                                 ...  \n",
       "196  LCD curated YES; Knitwork impure merge; Fragme...  \n",
       "197  LCD curated YES; Knitwork impure merge; Fragme...  \n",
       "198  LCD curated YES; Knitwork impure merge; Fragme...  \n",
       "199  Fragmenstein; acceptable; RdRp_knitwork_green_...  \n",
       "200  Knitwork impure merge; DF curated NO; Fragmens...  \n",
       "\n",
       "[201 rows x 8 columns]"
      ]
     },
     "execution_count": 24,
     "metadata": {},
     "output_type": "execute_result"
    }
   ],
   "source": [
    "pose_lookup = animal.db.get_compound_id_pose_ids_dict(quoted.compounds)\n",
    "\n",
    "data = []\n",
    "for ingredient in mrich.track(quoted):\n",
    "    quote = ingredient.quote\n",
    "    compound = ingredient.compound\n",
    "    d = dict(\n",
    "        comp_id=compound.id,\n",
    "        smiles=quote.smiles,\n",
    "        quote_id=quote.id,\n",
    "        quote_entry=quote.entry,\n",
    "        quote_price_USD=quote.price.amount,\n",
    "        quote_amount_mg=quote.amount,\n",
    "        quote_catalogue=quote.catalogue,\n",
    "    )\n",
    "\n",
    "    pose_ids = pose_lookup.get(compound.id)\n",
    "\n",
    "    if not pose_ids:\n",
    "        mrich.warning(\"no poses for\", compound)\n",
    "\n",
    "    else:\n",
    "        poses = animal.poses[pose_ids]\n",
    "    \n",
    "        tags = set(poses.tags)\n",
    "        d[\"tags\"] = \"; \".join(tags)\n",
    "        \n",
    "    data.append(d)\n",
    "    \n",
    "    # break\n",
    "\n",
    "df = pd.DataFrame(data)\n",
    "df"
   ]
  },
  {
   "cell_type": "code",
   "execution_count": 31,
   "id": "0b2a85cb-5fad-46dc-97c5-9713ee60b8bf",
   "metadata": {
    "scrolled": true
   },
   "outputs": [
    {
     "data": {
      "text/plain": [
       "{'LCD curated YES': {94487,\n",
       "  94533,\n",
       "  95738,\n",
       "  95763,\n",
       "  95957,\n",
       "  95988,\n",
       "  96212,\n",
       "  98190,\n",
       "  98289,\n",
       "  98391,\n",
       "  98483,\n",
       "  98948,\n",
       "  99180,\n",
       "  99305,\n",
       "  103145,\n",
       "  104762,\n",
       "  105979,\n",
       "  106018,\n",
       "  106073,\n",
       "  106992,\n",
       "  107167,\n",
       "  111041,\n",
       "  117872,\n",
       "  119535,\n",
       "  119882,\n",
       "  120043,\n",
       "  120261,\n",
       "  120695,\n",
       "  120774,\n",
       "  124263,\n",
       "  124588,\n",
       "  126992,\n",
       "  129038,\n",
       "  130431,\n",
       "  130458,\n",
       "  132202,\n",
       "  133849,\n",
       "  134194,\n",
       "  134256,\n",
       "  134267,\n",
       "  134566,\n",
       "  134697,\n",
       "  144119,\n",
       "  144594,\n",
       "  156338,\n",
       "  165490,\n",
       "  166297,\n",
       "  166625,\n",
       "  168974,\n",
       "  173200,\n",
       "  173663,\n",
       "  174899,\n",
       "  175443,\n",
       "  175618,\n",
       "  176802,\n",
       "  177284,\n",
       "  178056,\n",
       "  178100,\n",
       "  178795,\n",
       "  178866,\n",
       "  180920,\n",
       "  183500,\n",
       "  183615,\n",
       "  184490,\n",
       "  185286,\n",
       "  185607,\n",
       "  185725,\n",
       "  185894,\n",
       "  186031,\n",
       "  186233,\n",
       "  190746,\n",
       "  196606,\n",
       "  199035,\n",
       "  199053,\n",
       "  203866,\n",
       "  205083,\n",
       "  205230,\n",
       "  206727,\n",
       "  206758,\n",
       "  206805,\n",
       "  206909,\n",
       "  208608,\n",
       "  214592,\n",
       "  218154},\n",
       " 'LCD curated INTERESTING': {94487,\n",
       "  94533,\n",
       "  95738,\n",
       "  95957,\n",
       "  95988,\n",
       "  96212,\n",
       "  98289,\n",
       "  98391,\n",
       "  98483,\n",
       "  98948,\n",
       "  99180,\n",
       "  99305,\n",
       "  103145,\n",
       "  107167,\n",
       "  111041,\n",
       "  117872,\n",
       "  124263,\n",
       "  124588,\n",
       "  126992,\n",
       "  129038,\n",
       "  130431,\n",
       "  130458,\n",
       "  132202,\n",
       "  134194,\n",
       "  134267,\n",
       "  134566,\n",
       "  134697,\n",
       "  144119,\n",
       "  144594,\n",
       "  163237,\n",
       "  163477,\n",
       "  165620,\n",
       "  165890,\n",
       "  166030,\n",
       "  168461,\n",
       "  173231,\n",
       "  173915,\n",
       "  182170,\n",
       "  183982,\n",
       "  187420,\n",
       "  191431,\n",
       "  203788,\n",
       "  204032,\n",
       "  206722,\n",
       "  207626,\n",
       "  208608,\n",
       "  209511,\n",
       "  209772,\n",
       "  209850,\n",
       "  210323,\n",
       "  213106,\n",
       "  214042},\n",
       " 'JA curated MAYBE': {77638, 77688},\n",
       " 'DF curated YES': {55140,\n",
       "  55394,\n",
       "  60760,\n",
       "  61491,\n",
       "  63254,\n",
       "  69503,\n",
       "  69511,\n",
       "  73409,\n",
       "  77387,\n",
       "  77478,\n",
       "  77562,\n",
       "  77701,\n",
       "  82075,\n",
       "  82085,\n",
       "  82087,\n",
       "  82423},\n",
       " 'DF curated INTERESTING': {34914,\n",
       "  35410,\n",
       "  35422,\n",
       "  35982,\n",
       "  38668,\n",
       "  39464,\n",
       "  42983,\n",
       "  44277,\n",
       "  45394,\n",
       "  47755,\n",
       "  48890,\n",
       "  49520,\n",
       "  49572,\n",
       "  49666,\n",
       "  49776,\n",
       "  50417,\n",
       "  50469,\n",
       "  50498,\n",
       "  50578,\n",
       "  50581,\n",
       "  50585,\n",
       "  50611,\n",
       "  50612,\n",
       "  50614,\n",
       "  50640,\n",
       "  51151,\n",
       "  51152,\n",
       "  51647,\n",
       "  51648,\n",
       "  51698,\n",
       "  51748,\n",
       "  51781,\n",
       "  51809,\n",
       "  51832,\n",
       "  51843,\n",
       "  51872,\n",
       "  51874,\n",
       "  51889,\n",
       "  51903,\n",
       "  51980,\n",
       "  52068,\n",
       "  54989,\n",
       "  55030,\n",
       "  55056,\n",
       "  55058,\n",
       "  55059,\n",
       "  55812,\n",
       "  59532,\n",
       "  65179,\n",
       "  65443,\n",
       "  65456,\n",
       "  65964,\n",
       "  66089,\n",
       "  66265,\n",
       "  67005,\n",
       "  67018,\n",
       "  67381,\n",
       "  68896,\n",
       "  68932,\n",
       "  68971,\n",
       "  68972,\n",
       "  69558,\n",
       "  77546,\n",
       "  77729,\n",
       "  79512,\n",
       "  80533,\n",
       "  80534,\n",
       "  80900,\n",
       "  81055,\n",
       "  81056,\n",
       "  81200,\n",
       "  81672,\n",
       "  81675,\n",
       "  82419,\n",
       "  82996,\n",
       "  82997,\n",
       "  83036},\n",
       " 'JA curated YES': {34825,\n",
       "  35410,\n",
       "  35422,\n",
       "  35982,\n",
       "  39464,\n",
       "  41842,\n",
       "  43154,\n",
       "  44277,\n",
       "  44789,\n",
       "  46347,\n",
       "  46349,\n",
       "  48404,\n",
       "  48487,\n",
       "  50417,\n",
       "  50469,\n",
       "  50498,\n",
       "  50578,\n",
       "  50581,\n",
       "  50585,\n",
       "  50611,\n",
       "  50612,\n",
       "  50614,\n",
       "  50640,\n",
       "  51151,\n",
       "  51748,\n",
       "  77562,\n",
       "  77701,\n",
       "  81355,\n",
       "  81356,\n",
       "  81672,\n",
       "  81675,\n",
       "  90531,\n",
       "  94360,\n",
       "  94375,\n",
       "  95593,\n",
       "  95600,\n",
       "  95763,\n",
       "  100189,\n",
       "  114721,\n",
       "  124263,\n",
       "  132071,\n",
       "  133849,\n",
       "  134566,\n",
       "  134697,\n",
       "  134704,\n",
       "  134819,\n",
       "  134826,\n",
       "  155833},\n",
       " 'AC curated INTERESTING': {34829,\n",
       "  35589,\n",
       "  36923,\n",
       "  39368,\n",
       "  39464,\n",
       "  40169,\n",
       "  40318,\n",
       "  40384,\n",
       "  42983,\n",
       "  44164,\n",
       "  44229,\n",
       "  44268,\n",
       "  45423,\n",
       "  47294,\n",
       "  47725,\n",
       "  47753,\n",
       "  47755,\n",
       "  48051,\n",
       "  48404,\n",
       "  48487,\n",
       "  48890,\n",
       "  49042,\n",
       "  49421,\n",
       "  49666,\n",
       "  50001,\n",
       "  50008,\n",
       "  51484,\n",
       "  51494,\n",
       "  51513,\n",
       "  51754,\n",
       "  51790,\n",
       "  51793,\n",
       "  51908,\n",
       "  51947,\n",
       "  51973,\n",
       "  51975,\n",
       "  52068,\n",
       "  52600,\n",
       "  54796,\n",
       "  54819,\n",
       "  54989,\n",
       "  55030,\n",
       "  55056,\n",
       "  55058,\n",
       "  62308,\n",
       "  62312,\n",
       "  63254,\n",
       "  63518,\n",
       "  63661,\n",
       "  64813,\n",
       "  65179,\n",
       "  65443,\n",
       "  66265,\n",
       "  67085,\n",
       "  67138,\n",
       "  67148,\n",
       "  67152,\n",
       "  67155,\n",
       "  67908,\n",
       "  68411,\n",
       "  68616,\n",
       "  68670,\n",
       "  68680,\n",
       "  68784,\n",
       "  69115,\n",
       "  69116,\n",
       "  69215,\n",
       "  69322,\n",
       "  69503,\n",
       "  69558,\n",
       "  71583,\n",
       "  71621,\n",
       "  72491,\n",
       "  72746,\n",
       "  72914,\n",
       "  73360,\n",
       "  73553,\n",
       "  74043,\n",
       "  74230,\n",
       "  75009,\n",
       "  75040,\n",
       "  75562,\n",
       "  77527,\n",
       "  77655,\n",
       "  83148},\n",
       " 'JA curated INTERESTING': {93198,\n",
       "  93386,\n",
       "  94240,\n",
       "  94358,\n",
       "  94533,\n",
       "  96479,\n",
       "  97763,\n",
       "  98190,\n",
       "  98416,\n",
       "  98497,\n",
       "  98948,\n",
       "  100097,\n",
       "  100103,\n",
       "  100235,\n",
       "  100338,\n",
       "  100356,\n",
       "  100561,\n",
       "  101842,\n",
       "  103145,\n",
       "  103562,\n",
       "  104682,\n",
       "  105729,\n",
       "  106021,\n",
       "  106054,\n",
       "  106992,\n",
       "  107626,\n",
       "  113088,\n",
       "  115409,\n",
       "  116453,\n",
       "  119882,\n",
       "  120274,\n",
       "  120287,\n",
       "  120695,\n",
       "  120701,\n",
       "  121516,\n",
       "  123470,\n",
       "  130320,\n",
       "  130431,\n",
       "  130715,\n",
       "  131467,\n",
       "  132202,\n",
       "  134209,\n",
       "  134853,\n",
       "  134866,\n",
       "  135874,\n",
       "  137258,\n",
       "  137619,\n",
       "  138043,\n",
       "  139313,\n",
       "  143399,\n",
       "  145788,\n",
       "  146042,\n",
       "  147164,\n",
       "  150601,\n",
       "  152094,\n",
       "  158804,\n",
       "  159891},\n",
       " 'AC curated YES': {44789,\n",
       "  46189,\n",
       "  51476,\n",
       "  51809,\n",
       "  51980,\n",
       "  55140,\n",
       "  58738,\n",
       "  62317,\n",
       "  63089,\n",
       "  72746,\n",
       "  82423}}"
      ]
     },
     "execution_count": 31,
     "metadata": {},
     "output_type": "execute_result"
    }
   ],
   "source": [
    "sets = {}\n",
    "for tag in [t for t in animal.tags.unique if \"curated\" in t and not \"NO\" in t]:\n",
    "    sets[tag] = set(animal.poses(tag=tag).ids)\n",
    "sets"
   ]
  },
  {
   "cell_type": "code",
   "execution_count": 23,
   "id": "751c16a1-eafa-4909-bffb-16cdc6c5f0e1",
   "metadata": {},
   "outputs": [],
   "source": [
    "data_orig = data.copy()\n",
    "df_orig = df.copy()"
   ]
  },
  {
   "cell_type": "code",
   "execution_count": null,
   "id": "91a33a81-a9a9-45c9-bf61-52eda33f10c4",
   "metadata": {},
   "outputs": [],
   "source": []
  },
  {
   "cell_type": "code",
   "execution_count": 26,
   "id": "561a756c-b662-4ac9-88f7-fcbfb09a5283",
   "metadata": {},
   "outputs": [],
   "source": [
    "counts = dict(YES=[], NO=[], INTERESTING=[])\n",
    "for i,row in df.iterrows():\n",
    "    # print(row.tags)\n",
    "\n",
    "    if isinstance(row.tags, float):\n",
    "        counts[\"YES\"].append(0)\n",
    "        counts[\"NO\"].append(0)\n",
    "        counts[\"INTERESTING\"].append(0)\n",
    "    else:\n",
    "\n",
    "        counts[\"YES\"].append(row.tags.count(\"curated YES\"))\n",
    "        counts[\"NO\"].append(row.tags.count(\"curated NO\"))\n",
    "        counts[\"INTERESTING\"].append(row.tags.count(\"curated INTERESTING\"))\n",
    "        \n",
    "    # break\n",
    "\n",
    "df[\"#curated YES\"] = counts[\"YES\"]\n",
    "df[\"#curated NO\"] = counts[\"NO\"]\n",
    "df[\"#curated INTERESTING\"] = counts[\"INTERESTING\"]"
   ]
  },
  {
   "cell_type": "code",
   "execution_count": 28,
   "id": "9bbbde6d-9839-458d-924b-4fd9ca246a3d",
   "metadata": {},
   "outputs": [],
   "source": [
    "df.to_csv(\"../curation/combined_curated_annotated_20250114.csv\",index=False)"
   ]
  },
  {
   "cell_type": "markdown",
   "id": "b399bf71-f973-436e-b656-3cf20d83d327",
   "metadata": {
    "jp-MarkdownHeadingCollapsed": true
   },
   "source": [
    "## Build dataframe from tag info"
   ]
  },
  {
   "cell_type": "code",
   "execution_count": 101,
   "id": "51d41c37-812f-4a18-a666-b8ab04a08aa6",
   "metadata": {},
   "outputs": [],
   "source": [
    "pose_ids = set()\n",
    "for tag in [t for t in animal.tags.unique if \"curated\" in t and not \"NO\" in t]:\n",
    "    for i in animal.poses(tag=tag).ids:\n",
    "        pose_ids.add(i)"
   ]
  },
  {
   "cell_type": "code",
   "execution_count": 102,
   "id": "d7514c80-a8f7-40dc-96fe-ee8083b14540",
   "metadata": {},
   "outputs": [],
   "source": [
    "records = animal.db.select_where(table='tag', query=\"tag_name, tag_pose\", key=f\"tag_pose IN {animal.poses[pose_ids].str_ids}\", multiple=True)\n",
    "tag_lookup = {}\n",
    "for tag_name, tag_pose in records:\n",
    "    if tag_pose not in tag_lookup:\n",
    "        tag_lookup[tag_pose] = set()\n",
    "    \n",
    "    if \"curated\" not in tag_name and \"Enamine_\" not in tag_name:\n",
    "        continue\n",
    "    \n",
    "    tag_lookup[tag_pose].add(tag_name)"
   ]
  },
  {
   "cell_type": "code",
   "execution_count": 103,
   "id": "f003acba-91ab-4a54-90ef-9d6093e772a1",
   "metadata": {
    "scrolled": true
   },
   "outputs": [
    {
     "data": {
      "application/vnd.jupyter.widget-view+json": {
       "model_id": "24e759ab1a4b4300b8648a983caf39c0",
       "version_major": 2,
       "version_minor": 0
      },
      "text/plain": [
       "Output()"
      ]
     },
     "metadata": {},
     "output_type": "display_data"
    },
    {
     "data": {
      "text/html": [
       "<pre style=\"white-space:pre;overflow-x:auto;line-height:normal;font-family:Menlo,'DejaVu Sans Mono',consolas,'Courier New',monospace\"></pre>\n"
      ],
      "text/plain": []
     },
     "metadata": {},
     "output_type": "display_data"
    }
   ],
   "source": [
    "c_data = []\n",
    "for pose in mrich.track(animal.poses[pose_ids]):\n",
    "    c = pose.compound\n",
    "    quotes = c.get_quotes()\n",
    "    d = dict(compound=c.id, smiles=c.smiles)\n",
    "    if quotes:\n",
    "\n",
    "        q = quotes[0]\n",
    "        \n",
    "        # d[\"quote\"] = quotes[0]\n",
    "\n",
    "        d.update(dict(\n",
    "            smiles=q.smiles,\n",
    "            quote_id=q.id,\n",
    "            quote_entry=q.entry,\n",
    "            quote_price_USD=q.price.amount,\n",
    "            quote_amount_mg=q.amount,\n",
    "            quote_catalogue=q.catalogue,\n",
    "        ))\n",
    "\n",
    "    else:\n",
    "\n",
    "        d.update(dict(\n",
    "            quote_id=None,\n",
    "            quote_entry=None,\n",
    "            quote_price_USD=None,\n",
    "            quote_amount_mg=None,\n",
    "            quote_catalogue=None,\n",
    "        ))\n",
    "\n",
    "\n",
    "    tags = tag_lookup.get(pose.id, set())\n",
    "\n",
    "    if tags:\n",
    "        for tag in tags:\n",
    "            d[tag] = True\n",
    "    \n",
    "    # print(c.get_quotes(df=True))\n",
    "    # print(d)\n",
    "    c_data.append(d)\n",
    "    \n",
    "    # break"
   ]
  },
  {
   "cell_type": "code",
   "execution_count": 104,
   "id": "bd90617b-c0c2-4e20-a998-b968eba41691",
   "metadata": {},
   "outputs": [
    {
     "data": {
      "text/html": [
       "<div>\n",
       "<style scoped>\n",
       "    .dataframe tbody tr th:only-of-type {\n",
       "        vertical-align: middle;\n",
       "    }\n",
       "\n",
       "    .dataframe tbody tr th {\n",
       "        vertical-align: top;\n",
       "    }\n",
       "\n",
       "    .dataframe thead th {\n",
       "        text-align: right;\n",
       "    }\n",
       "</style>\n",
       "<table border=\"1\" class=\"dataframe\">\n",
       "  <thead>\n",
       "    <tr style=\"text-align: right;\">\n",
       "      <th></th>\n",
       "      <th>compound</th>\n",
       "      <th>smiles</th>\n",
       "      <th>quote_id</th>\n",
       "      <th>quote_entry</th>\n",
       "      <th>quote_price_USD</th>\n",
       "      <th>quote_amount_mg</th>\n",
       "      <th>quote_catalogue</th>\n",
       "      <th>Enamine_unavailable</th>\n",
       "      <th>JA curated YES</th>\n",
       "      <th>DF curated NO</th>\n",
       "      <th>...</th>\n",
       "      <th>Enamine_Quote_1977854</th>\n",
       "      <th>Enamine_Quote_1970815</th>\n",
       "      <th>Enamine_Order_1968912</th>\n",
       "      <th>AC curated YES</th>\n",
       "      <th>DF curated YES</th>\n",
       "      <th>JA curated MAYBE</th>\n",
       "      <th>JA curated INTERESTING</th>\n",
       "      <th>JA curated NO</th>\n",
       "      <th>LCD curated YES</th>\n",
       "      <th>LCD curated INTERESTING</th>\n",
       "    </tr>\n",
       "  </thead>\n",
       "  <tbody>\n",
       "    <tr>\n",
       "      <th>0</th>\n",
       "      <td>734</td>\n",
       "      <td>CC(C)n1cc(NC2=NCCCS2)cn1</td>\n",
       "      <td>NaN</td>\n",
       "      <td>None</td>\n",
       "      <td>NaN</td>\n",
       "      <td>NaN</td>\n",
       "      <td>None</td>\n",
       "      <td>True</td>\n",
       "      <td>True</td>\n",
       "      <td>True</td>\n",
       "      <td>...</td>\n",
       "      <td>NaN</td>\n",
       "      <td>NaN</td>\n",
       "      <td>NaN</td>\n",
       "      <td>NaN</td>\n",
       "      <td>NaN</td>\n",
       "      <td>NaN</td>\n",
       "      <td>NaN</td>\n",
       "      <td>NaN</td>\n",
       "      <td>NaN</td>\n",
       "      <td>NaN</td>\n",
       "    </tr>\n",
       "    <tr>\n",
       "      <th>1</th>\n",
       "      <td>743</td>\n",
       "      <td>CC(Cn1cccn1)NC1=NCCCS1</td>\n",
       "      <td>NaN</td>\n",
       "      <td>None</td>\n",
       "      <td>NaN</td>\n",
       "      <td>NaN</td>\n",
       "      <td>None</td>\n",
       "      <td>True</td>\n",
       "      <td>NaN</td>\n",
       "      <td>NaN</td>\n",
       "      <td>...</td>\n",
       "      <td>NaN</td>\n",
       "      <td>NaN</td>\n",
       "      <td>NaN</td>\n",
       "      <td>NaN</td>\n",
       "      <td>NaN</td>\n",
       "      <td>NaN</td>\n",
       "      <td>NaN</td>\n",
       "      <td>NaN</td>\n",
       "      <td>NaN</td>\n",
       "      <td>NaN</td>\n",
       "    </tr>\n",
       "    <tr>\n",
       "      <th>2</th>\n",
       "      <td>778</td>\n",
       "      <td>CCS(=O)(=O)NCC=1C=CC(=NC1)N2CCCC=3C=CC=CC32</td>\n",
       "      <td>1169.0</td>\n",
       "      <td>Z4278175298</td>\n",
       "      <td>132.0</td>\n",
       "      <td>5.0</td>\n",
       "      <td>sRDB</td>\n",
       "      <td>NaN</td>\n",
       "      <td>NaN</td>\n",
       "      <td>NaN</td>\n",
       "      <td>...</td>\n",
       "      <td>True</td>\n",
       "      <td>True</td>\n",
       "      <td>NaN</td>\n",
       "      <td>NaN</td>\n",
       "      <td>NaN</td>\n",
       "      <td>NaN</td>\n",
       "      <td>NaN</td>\n",
       "      <td>NaN</td>\n",
       "      <td>NaN</td>\n",
       "      <td>NaN</td>\n",
       "    </tr>\n",
       "    <tr>\n",
       "      <th>3</th>\n",
       "      <td>890</td>\n",
       "      <td>CCS(=O)(=O)NCC=1C=CN=CC1Cl</td>\n",
       "      <td>974.0</td>\n",
       "      <td>Z2680349149</td>\n",
       "      <td>144.0</td>\n",
       "      <td>5.0</td>\n",
       "      <td>sRDB</td>\n",
       "      <td>NaN</td>\n",
       "      <td>True</td>\n",
       "      <td>NaN</td>\n",
       "      <td>...</td>\n",
       "      <td>True</td>\n",
       "      <td>NaN</td>\n",
       "      <td>True</td>\n",
       "      <td>NaN</td>\n",
       "      <td>NaN</td>\n",
       "      <td>NaN</td>\n",
       "      <td>NaN</td>\n",
       "      <td>NaN</td>\n",
       "      <td>NaN</td>\n",
       "      <td>NaN</td>\n",
       "    </tr>\n",
       "    <tr>\n",
       "      <th>4</th>\n",
       "      <td>897</td>\n",
       "      <td>CCS(=O)(=O)NCC=1C=CC(=CC1)OCC=2C=CC=CN2</td>\n",
       "      <td>1118.0</td>\n",
       "      <td>Z805640618</td>\n",
       "      <td>48.0</td>\n",
       "      <td>5.0</td>\n",
       "      <td>HTS</td>\n",
       "      <td>NaN</td>\n",
       "      <td>True</td>\n",
       "      <td>NaN</td>\n",
       "      <td>...</td>\n",
       "      <td>True</td>\n",
       "      <td>NaN</td>\n",
       "      <td>True</td>\n",
       "      <td>NaN</td>\n",
       "      <td>NaN</td>\n",
       "      <td>NaN</td>\n",
       "      <td>NaN</td>\n",
       "      <td>NaN</td>\n",
       "      <td>NaN</td>\n",
       "      <td>NaN</td>\n",
       "    </tr>\n",
       "    <tr>\n",
       "      <th>...</th>\n",
       "      <td>...</td>\n",
       "      <td>...</td>\n",
       "      <td>...</td>\n",
       "      <td>...</td>\n",
       "      <td>...</td>\n",
       "      <td>...</td>\n",
       "      <td>...</td>\n",
       "      <td>...</td>\n",
       "      <td>...</td>\n",
       "      <td>...</td>\n",
       "      <td>...</td>\n",
       "      <td>...</td>\n",
       "      <td>...</td>\n",
       "      <td>...</td>\n",
       "      <td>...</td>\n",
       "      <td>...</td>\n",
       "      <td>...</td>\n",
       "      <td>...</td>\n",
       "      <td>...</td>\n",
       "      <td>...</td>\n",
       "      <td>...</td>\n",
       "    </tr>\n",
       "    <tr>\n",
       "      <th>338</th>\n",
       "      <td>31409</td>\n",
       "      <td>O=C(NC=1C=CC(OC(F)F)=C2N=CC=CC12)C=3C=CC=CN3</td>\n",
       "      <td>1135.0</td>\n",
       "      <td>Z775226296</td>\n",
       "      <td>132.0</td>\n",
       "      <td>5.0</td>\n",
       "      <td>sRDB</td>\n",
       "      <td>NaN</td>\n",
       "      <td>NaN</td>\n",
       "      <td>NaN</td>\n",
       "      <td>...</td>\n",
       "      <td>True</td>\n",
       "      <td>NaN</td>\n",
       "      <td>NaN</td>\n",
       "      <td>NaN</td>\n",
       "      <td>NaN</td>\n",
       "      <td>NaN</td>\n",
       "      <td>NaN</td>\n",
       "      <td>NaN</td>\n",
       "      <td>NaN</td>\n",
       "      <td>True</td>\n",
       "    </tr>\n",
       "    <tr>\n",
       "      <th>339</th>\n",
       "      <td>59282</td>\n",
       "      <td>O=C1COc2c1cccc2-c1csc(C(F)(F)F)n1</td>\n",
       "      <td>NaN</td>\n",
       "      <td>None</td>\n",
       "      <td>NaN</td>\n",
       "      <td>NaN</td>\n",
       "      <td>None</td>\n",
       "      <td>True</td>\n",
       "      <td>NaN</td>\n",
       "      <td>NaN</td>\n",
       "      <td>...</td>\n",
       "      <td>NaN</td>\n",
       "      <td>NaN</td>\n",
       "      <td>NaN</td>\n",
       "      <td>NaN</td>\n",
       "      <td>NaN</td>\n",
       "      <td>NaN</td>\n",
       "      <td>NaN</td>\n",
       "      <td>NaN</td>\n",
       "      <td>NaN</td>\n",
       "      <td>True</td>\n",
       "    </tr>\n",
       "    <tr>\n",
       "      <th>340</th>\n",
       "      <td>60673</td>\n",
       "      <td>O=C1CCC(CCNC(=O)C2CC(=O)c3ccccc3O2)N1</td>\n",
       "      <td>NaN</td>\n",
       "      <td>None</td>\n",
       "      <td>NaN</td>\n",
       "      <td>NaN</td>\n",
       "      <td>None</td>\n",
       "      <td>True</td>\n",
       "      <td>NaN</td>\n",
       "      <td>NaN</td>\n",
       "      <td>...</td>\n",
       "      <td>NaN</td>\n",
       "      <td>NaN</td>\n",
       "      <td>NaN</td>\n",
       "      <td>NaN</td>\n",
       "      <td>NaN</td>\n",
       "      <td>NaN</td>\n",
       "      <td>NaN</td>\n",
       "      <td>NaN</td>\n",
       "      <td>NaN</td>\n",
       "      <td>True</td>\n",
       "    </tr>\n",
       "    <tr>\n",
       "      <th>341</th>\n",
       "      <td>60663</td>\n",
       "      <td>C1=CC=2C=C(C=CC2O1)CNC=3C=CC4=NC=NN4C3</td>\n",
       "      <td>1193.0</td>\n",
       "      <td>Z9471938662</td>\n",
       "      <td>132.0</td>\n",
       "      <td>5.0</td>\n",
       "      <td>sRDB</td>\n",
       "      <td>NaN</td>\n",
       "      <td>NaN</td>\n",
       "      <td>NaN</td>\n",
       "      <td>...</td>\n",
       "      <td>True</td>\n",
       "      <td>NaN</td>\n",
       "      <td>NaN</td>\n",
       "      <td>NaN</td>\n",
       "      <td>NaN</td>\n",
       "      <td>NaN</td>\n",
       "      <td>NaN</td>\n",
       "      <td>NaN</td>\n",
       "      <td>True</td>\n",
       "      <td>NaN</td>\n",
       "    </tr>\n",
       "    <tr>\n",
       "      <th>342</th>\n",
       "      <td>49938</td>\n",
       "      <td>C1=NC=2C(=CC=CC2O1)C3=CSC=N3</td>\n",
       "      <td>1191.0</td>\n",
       "      <td>Z9471938651</td>\n",
       "      <td>132.0</td>\n",
       "      <td>5.0</td>\n",
       "      <td>sRDB</td>\n",
       "      <td>NaN</td>\n",
       "      <td>NaN</td>\n",
       "      <td>NaN</td>\n",
       "      <td>...</td>\n",
       "      <td>True</td>\n",
       "      <td>NaN</td>\n",
       "      <td>NaN</td>\n",
       "      <td>NaN</td>\n",
       "      <td>NaN</td>\n",
       "      <td>NaN</td>\n",
       "      <td>NaN</td>\n",
       "      <td>NaN</td>\n",
       "      <td>True</td>\n",
       "      <td>NaN</td>\n",
       "    </tr>\n",
       "  </tbody>\n",
       "</table>\n",
       "<p>343 rows × 22 columns</p>\n",
       "</div>"
      ],
      "text/plain": [
       "     compound                                        smiles  quote_id  \\\n",
       "0         734                      CC(C)n1cc(NC2=NCCCS2)cn1       NaN   \n",
       "1         743                        CC(Cn1cccn1)NC1=NCCCS1       NaN   \n",
       "2         778   CCS(=O)(=O)NCC=1C=CC(=NC1)N2CCCC=3C=CC=CC32    1169.0   \n",
       "3         890                    CCS(=O)(=O)NCC=1C=CN=CC1Cl     974.0   \n",
       "4         897       CCS(=O)(=O)NCC=1C=CC(=CC1)OCC=2C=CC=CN2    1118.0   \n",
       "..        ...                                           ...       ...   \n",
       "338     31409  O=C(NC=1C=CC(OC(F)F)=C2N=CC=CC12)C=3C=CC=CN3    1135.0   \n",
       "339     59282             O=C1COc2c1cccc2-c1csc(C(F)(F)F)n1       NaN   \n",
       "340     60673         O=C1CCC(CCNC(=O)C2CC(=O)c3ccccc3O2)N1       NaN   \n",
       "341     60663        C1=CC=2C=C(C=CC2O1)CNC=3C=CC4=NC=NN4C3    1193.0   \n",
       "342     49938                  C1=NC=2C(=CC=CC2O1)C3=CSC=N3    1191.0   \n",
       "\n",
       "     quote_entry  quote_price_USD  quote_amount_mg quote_catalogue  \\\n",
       "0           None              NaN              NaN            None   \n",
       "1           None              NaN              NaN            None   \n",
       "2    Z4278175298            132.0              5.0            sRDB   \n",
       "3    Z2680349149            144.0              5.0            sRDB   \n",
       "4     Z805640618             48.0              5.0             HTS   \n",
       "..           ...              ...              ...             ...   \n",
       "338   Z775226296            132.0              5.0            sRDB   \n",
       "339         None              NaN              NaN            None   \n",
       "340         None              NaN              NaN            None   \n",
       "341  Z9471938662            132.0              5.0            sRDB   \n",
       "342  Z9471938651            132.0              5.0            sRDB   \n",
       "\n",
       "    Enamine_unavailable JA curated YES DF curated NO  ...  \\\n",
       "0                  True           True          True  ...   \n",
       "1                  True            NaN           NaN  ...   \n",
       "2                   NaN            NaN           NaN  ...   \n",
       "3                   NaN           True           NaN  ...   \n",
       "4                   NaN           True           NaN  ...   \n",
       "..                  ...            ...           ...  ...   \n",
       "338                 NaN            NaN           NaN  ...   \n",
       "339                True            NaN           NaN  ...   \n",
       "340                True            NaN           NaN  ...   \n",
       "341                 NaN            NaN           NaN  ...   \n",
       "342                 NaN            NaN           NaN  ...   \n",
       "\n",
       "    Enamine_Quote_1977854 Enamine_Quote_1970815 Enamine_Order_1968912  \\\n",
       "0                     NaN                   NaN                   NaN   \n",
       "1                     NaN                   NaN                   NaN   \n",
       "2                    True                  True                   NaN   \n",
       "3                    True                   NaN                  True   \n",
       "4                    True                   NaN                  True   \n",
       "..                    ...                   ...                   ...   \n",
       "338                  True                   NaN                   NaN   \n",
       "339                   NaN                   NaN                   NaN   \n",
       "340                   NaN                   NaN                   NaN   \n",
       "341                  True                   NaN                   NaN   \n",
       "342                  True                   NaN                   NaN   \n",
       "\n",
       "    AC curated YES DF curated YES JA curated MAYBE JA curated INTERESTING  \\\n",
       "0              NaN            NaN              NaN                    NaN   \n",
       "1              NaN            NaN              NaN                    NaN   \n",
       "2              NaN            NaN              NaN                    NaN   \n",
       "3              NaN            NaN              NaN                    NaN   \n",
       "4              NaN            NaN              NaN                    NaN   \n",
       "..             ...            ...              ...                    ...   \n",
       "338            NaN            NaN              NaN                    NaN   \n",
       "339            NaN            NaN              NaN                    NaN   \n",
       "340            NaN            NaN              NaN                    NaN   \n",
       "341            NaN            NaN              NaN                    NaN   \n",
       "342            NaN            NaN              NaN                    NaN   \n",
       "\n",
       "    JA curated NO LCD curated YES LCD curated INTERESTING  \n",
       "0             NaN             NaN                     NaN  \n",
       "1             NaN             NaN                     NaN  \n",
       "2             NaN             NaN                     NaN  \n",
       "3             NaN             NaN                     NaN  \n",
       "4             NaN             NaN                     NaN  \n",
       "..            ...             ...                     ...  \n",
       "338           NaN             NaN                    True  \n",
       "339           NaN             NaN                    True  \n",
       "340           NaN             NaN                    True  \n",
       "341           NaN            True                     NaN  \n",
       "342           NaN            True                     NaN  \n",
       "\n",
       "[343 rows x 22 columns]"
      ]
     },
     "execution_count": 104,
     "metadata": {},
     "output_type": "execute_result"
    }
   ],
   "source": [
    "df2 = pd.DataFrame(c_data)#.fillna(value=None)\n",
    "df2"
   ]
  },
  {
   "cell_type": "code",
   "execution_count": null,
   "id": "0d074da6-bbb1-42c3-8ba3-1d8b403724d9",
   "metadata": {},
   "outputs": [],
   "source": []
  },
  {
   "cell_type": "code",
   "execution_count": 105,
   "id": "83e0676d-b061-425d-8a35-43e71e3e1686",
   "metadata": {},
   "outputs": [],
   "source": [
    "counts = dict(YES=[], NO=[], INTERESTING=[])\n",
    "for i,row in df2.iterrows():\n",
    "    # print(row.tags)\n",
    "\n",
    "    d = row.to_dict()\n",
    "\n",
    "    counts[\"YES\"].append(len([_ for k,v in d.items() if \"curated YES\" in k and v == True]))\n",
    "    counts[\"NO\"].append(len([_ for k,v in d.items() if \"curated NO\" in k and v == True]))\n",
    "    counts[\"INTERESTING\"].append(len([_ for k,v in d.items() if \"curated INTERESTING\" in k and v == True]))\n",
    "    \n",
    "    # break\n",
    "\n",
    "df2[\"#curated YES\"] = counts[\"YES\"]\n",
    "df2[\"#curated NO\"] = counts[\"NO\"]\n",
    "df2[\"#curated INTERESTING\"] = counts[\"INTERESTING\"]\n",
    "\n",
    "df2.to_csv(\"../curation/combined_curation_quotes_20250114.csv\")\n",
    "df2.to_excel(\"../curation/combined_curation_quotes_20250114.xlsx\")"
   ]
  },
  {
   "cell_type": "code",
   "execution_count": 106,
   "id": "a305ca5d-aa48-40a2-8f69-3dcea1683686",
   "metadata": {},
   "outputs": [
    {
     "data": {
      "text/plain": [
       "compound                                          49938\n",
       "smiles                     C1=NC=2C(=CC=CC2O1)C3=CSC=N3\n",
       "quote_id                                         1191.0\n",
       "quote_entry                                 Z9471938651\n",
       "quote_price_USD                                   132.0\n",
       "quote_amount_mg                                     5.0\n",
       "quote_catalogue                                    sRDB\n",
       "Enamine_unavailable                                 NaN\n",
       "JA curated YES                                      NaN\n",
       "DF curated NO                                       NaN\n",
       "AC curated INTERESTING                              NaN\n",
       "DF curated INTERESTING                              NaN\n",
       "Enamine_Quote_1977854                              True\n",
       "Enamine_Quote_1970815                               NaN\n",
       "Enamine_Order_1968912                               NaN\n",
       "AC curated YES                                      NaN\n",
       "DF curated YES                                      NaN\n",
       "JA curated MAYBE                                    NaN\n",
       "JA curated INTERESTING                              NaN\n",
       "JA curated NO                                       NaN\n",
       "LCD curated YES                                    True\n",
       "LCD curated INTERESTING                             NaN\n",
       "Name: 342, dtype: object"
      ]
     },
     "execution_count": 106,
     "metadata": {},
     "output_type": "execute_result"
    }
   ],
   "source": [
    "row"
   ]
  },
  {
   "cell_type": "code",
   "execution_count": 109,
   "id": "9e27fe52-875d-4fbb-a26f-21761634afb5",
   "metadata": {},
   "outputs": [
    {
     "data": {
      "text/html": [
       "<div>\n",
       "<style scoped>\n",
       "    .dataframe tbody tr th:only-of-type {\n",
       "        vertical-align: middle;\n",
       "    }\n",
       "\n",
       "    .dataframe tbody tr th {\n",
       "        vertical-align: top;\n",
       "    }\n",
       "\n",
       "    .dataframe thead th {\n",
       "        text-align: right;\n",
       "    }\n",
       "</style>\n",
       "<table border=\"1\" class=\"dataframe\">\n",
       "  <thead>\n",
       "    <tr style=\"text-align: right;\">\n",
       "      <th></th>\n",
       "      <th>compound</th>\n",
       "      <th>smiles</th>\n",
       "      <th>quote_id</th>\n",
       "      <th>quote_entry</th>\n",
       "      <th>quote_price_USD</th>\n",
       "      <th>quote_amount_mg</th>\n",
       "      <th>quote_catalogue</th>\n",
       "      <th>Enamine_unavailable</th>\n",
       "      <th>JA curated YES</th>\n",
       "      <th>DF curated NO</th>\n",
       "      <th>...</th>\n",
       "      <th>AC curated YES</th>\n",
       "      <th>DF curated YES</th>\n",
       "      <th>JA curated MAYBE</th>\n",
       "      <th>JA curated INTERESTING</th>\n",
       "      <th>JA curated NO</th>\n",
       "      <th>LCD curated YES</th>\n",
       "      <th>LCD curated INTERESTING</th>\n",
       "      <th>#curated YES</th>\n",
       "      <th>#curated NO</th>\n",
       "      <th>#curated INTERESTING</th>\n",
       "    </tr>\n",
       "  </thead>\n",
       "  <tbody>\n",
       "    <tr>\n",
       "      <th>0</th>\n",
       "      <td>734</td>\n",
       "      <td>CC(C)n1cc(NC2=NCCCS2)cn1</td>\n",
       "      <td>NaN</td>\n",
       "      <td>None</td>\n",
       "      <td>NaN</td>\n",
       "      <td>NaN</td>\n",
       "      <td>None</td>\n",
       "      <td>True</td>\n",
       "      <td>True</td>\n",
       "      <td>True</td>\n",
       "      <td>...</td>\n",
       "      <td>NaN</td>\n",
       "      <td>NaN</td>\n",
       "      <td>NaN</td>\n",
       "      <td>NaN</td>\n",
       "      <td>NaN</td>\n",
       "      <td>NaN</td>\n",
       "      <td>NaN</td>\n",
       "      <td>1</td>\n",
       "      <td>1</td>\n",
       "      <td>0</td>\n",
       "    </tr>\n",
       "    <tr>\n",
       "      <th>1</th>\n",
       "      <td>743</td>\n",
       "      <td>CC(Cn1cccn1)NC1=NCCCS1</td>\n",
       "      <td>NaN</td>\n",
       "      <td>None</td>\n",
       "      <td>NaN</td>\n",
       "      <td>NaN</td>\n",
       "      <td>None</td>\n",
       "      <td>True</td>\n",
       "      <td>NaN</td>\n",
       "      <td>NaN</td>\n",
       "      <td>...</td>\n",
       "      <td>NaN</td>\n",
       "      <td>NaN</td>\n",
       "      <td>NaN</td>\n",
       "      <td>NaN</td>\n",
       "      <td>NaN</td>\n",
       "      <td>NaN</td>\n",
       "      <td>NaN</td>\n",
       "      <td>0</td>\n",
       "      <td>0</td>\n",
       "      <td>1</td>\n",
       "    </tr>\n",
       "    <tr>\n",
       "      <th>2</th>\n",
       "      <td>778</td>\n",
       "      <td>CCS(=O)(=O)NCC=1C=CC(=NC1)N2CCCC=3C=CC=CC32</td>\n",
       "      <td>1169.0</td>\n",
       "      <td>Z4278175298</td>\n",
       "      <td>132.0</td>\n",
       "      <td>5.0</td>\n",
       "      <td>sRDB</td>\n",
       "      <td>NaN</td>\n",
       "      <td>NaN</td>\n",
       "      <td>NaN</td>\n",
       "      <td>...</td>\n",
       "      <td>NaN</td>\n",
       "      <td>NaN</td>\n",
       "      <td>NaN</td>\n",
       "      <td>NaN</td>\n",
       "      <td>NaN</td>\n",
       "      <td>NaN</td>\n",
       "      <td>NaN</td>\n",
       "      <td>0</td>\n",
       "      <td>0</td>\n",
       "      <td>1</td>\n",
       "    </tr>\n",
       "    <tr>\n",
       "      <th>3</th>\n",
       "      <td>890</td>\n",
       "      <td>CCS(=O)(=O)NCC=1C=CN=CC1Cl</td>\n",
       "      <td>974.0</td>\n",
       "      <td>Z2680349149</td>\n",
       "      <td>144.0</td>\n",
       "      <td>5.0</td>\n",
       "      <td>sRDB</td>\n",
       "      <td>NaN</td>\n",
       "      <td>True</td>\n",
       "      <td>NaN</td>\n",
       "      <td>...</td>\n",
       "      <td>NaN</td>\n",
       "      <td>NaN</td>\n",
       "      <td>NaN</td>\n",
       "      <td>NaN</td>\n",
       "      <td>NaN</td>\n",
       "      <td>NaN</td>\n",
       "      <td>NaN</td>\n",
       "      <td>1</td>\n",
       "      <td>0</td>\n",
       "      <td>1</td>\n",
       "    </tr>\n",
       "    <tr>\n",
       "      <th>4</th>\n",
       "      <td>897</td>\n",
       "      <td>CCS(=O)(=O)NCC=1C=CC(=CC1)OCC=2C=CC=CN2</td>\n",
       "      <td>1118.0</td>\n",
       "      <td>Z805640618</td>\n",
       "      <td>48.0</td>\n",
       "      <td>5.0</td>\n",
       "      <td>HTS</td>\n",
       "      <td>NaN</td>\n",
       "      <td>True</td>\n",
       "      <td>NaN</td>\n",
       "      <td>...</td>\n",
       "      <td>NaN</td>\n",
       "      <td>NaN</td>\n",
       "      <td>NaN</td>\n",
       "      <td>NaN</td>\n",
       "      <td>NaN</td>\n",
       "      <td>NaN</td>\n",
       "      <td>NaN</td>\n",
       "      <td>1</td>\n",
       "      <td>0</td>\n",
       "      <td>1</td>\n",
       "    </tr>\n",
       "    <tr>\n",
       "      <th>...</th>\n",
       "      <td>...</td>\n",
       "      <td>...</td>\n",
       "      <td>...</td>\n",
       "      <td>...</td>\n",
       "      <td>...</td>\n",
       "      <td>...</td>\n",
       "      <td>...</td>\n",
       "      <td>...</td>\n",
       "      <td>...</td>\n",
       "      <td>...</td>\n",
       "      <td>...</td>\n",
       "      <td>...</td>\n",
       "      <td>...</td>\n",
       "      <td>...</td>\n",
       "      <td>...</td>\n",
       "      <td>...</td>\n",
       "      <td>...</td>\n",
       "      <td>...</td>\n",
       "      <td>...</td>\n",
       "      <td>...</td>\n",
       "      <td>...</td>\n",
       "    </tr>\n",
       "    <tr>\n",
       "      <th>338</th>\n",
       "      <td>31409</td>\n",
       "      <td>O=C(NC=1C=CC(OC(F)F)=C2N=CC=CC12)C=3C=CC=CN3</td>\n",
       "      <td>1135.0</td>\n",
       "      <td>Z775226296</td>\n",
       "      <td>132.0</td>\n",
       "      <td>5.0</td>\n",
       "      <td>sRDB</td>\n",
       "      <td>NaN</td>\n",
       "      <td>NaN</td>\n",
       "      <td>NaN</td>\n",
       "      <td>...</td>\n",
       "      <td>NaN</td>\n",
       "      <td>NaN</td>\n",
       "      <td>NaN</td>\n",
       "      <td>NaN</td>\n",
       "      <td>NaN</td>\n",
       "      <td>NaN</td>\n",
       "      <td>True</td>\n",
       "      <td>0</td>\n",
       "      <td>0</td>\n",
       "      <td>1</td>\n",
       "    </tr>\n",
       "    <tr>\n",
       "      <th>339</th>\n",
       "      <td>59282</td>\n",
       "      <td>O=C1COc2c1cccc2-c1csc(C(F)(F)F)n1</td>\n",
       "      <td>NaN</td>\n",
       "      <td>None</td>\n",
       "      <td>NaN</td>\n",
       "      <td>NaN</td>\n",
       "      <td>None</td>\n",
       "      <td>True</td>\n",
       "      <td>NaN</td>\n",
       "      <td>NaN</td>\n",
       "      <td>...</td>\n",
       "      <td>NaN</td>\n",
       "      <td>NaN</td>\n",
       "      <td>NaN</td>\n",
       "      <td>NaN</td>\n",
       "      <td>NaN</td>\n",
       "      <td>NaN</td>\n",
       "      <td>True</td>\n",
       "      <td>0</td>\n",
       "      <td>0</td>\n",
       "      <td>1</td>\n",
       "    </tr>\n",
       "    <tr>\n",
       "      <th>340</th>\n",
       "      <td>60673</td>\n",
       "      <td>O=C1CCC(CCNC(=O)C2CC(=O)c3ccccc3O2)N1</td>\n",
       "      <td>NaN</td>\n",
       "      <td>None</td>\n",
       "      <td>NaN</td>\n",
       "      <td>NaN</td>\n",
       "      <td>None</td>\n",
       "      <td>True</td>\n",
       "      <td>NaN</td>\n",
       "      <td>NaN</td>\n",
       "      <td>...</td>\n",
       "      <td>NaN</td>\n",
       "      <td>NaN</td>\n",
       "      <td>NaN</td>\n",
       "      <td>NaN</td>\n",
       "      <td>NaN</td>\n",
       "      <td>NaN</td>\n",
       "      <td>True</td>\n",
       "      <td>0</td>\n",
       "      <td>0</td>\n",
       "      <td>1</td>\n",
       "    </tr>\n",
       "    <tr>\n",
       "      <th>341</th>\n",
       "      <td>60663</td>\n",
       "      <td>C1=CC=2C=C(C=CC2O1)CNC=3C=CC4=NC=NN4C3</td>\n",
       "      <td>1193.0</td>\n",
       "      <td>Z9471938662</td>\n",
       "      <td>132.0</td>\n",
       "      <td>5.0</td>\n",
       "      <td>sRDB</td>\n",
       "      <td>NaN</td>\n",
       "      <td>NaN</td>\n",
       "      <td>NaN</td>\n",
       "      <td>...</td>\n",
       "      <td>NaN</td>\n",
       "      <td>NaN</td>\n",
       "      <td>NaN</td>\n",
       "      <td>NaN</td>\n",
       "      <td>NaN</td>\n",
       "      <td>True</td>\n",
       "      <td>NaN</td>\n",
       "      <td>1</td>\n",
       "      <td>0</td>\n",
       "      <td>0</td>\n",
       "    </tr>\n",
       "    <tr>\n",
       "      <th>342</th>\n",
       "      <td>49938</td>\n",
       "      <td>C1=NC=2C(=CC=CC2O1)C3=CSC=N3</td>\n",
       "      <td>1191.0</td>\n",
       "      <td>Z9471938651</td>\n",
       "      <td>132.0</td>\n",
       "      <td>5.0</td>\n",
       "      <td>sRDB</td>\n",
       "      <td>NaN</td>\n",
       "      <td>NaN</td>\n",
       "      <td>NaN</td>\n",
       "      <td>...</td>\n",
       "      <td>NaN</td>\n",
       "      <td>NaN</td>\n",
       "      <td>NaN</td>\n",
       "      <td>NaN</td>\n",
       "      <td>NaN</td>\n",
       "      <td>True</td>\n",
       "      <td>NaN</td>\n",
       "      <td>1</td>\n",
       "      <td>0</td>\n",
       "      <td>0</td>\n",
       "    </tr>\n",
       "  </tbody>\n",
       "</table>\n",
       "<p>343 rows × 25 columns</p>\n",
       "</div>"
      ],
      "text/plain": [
       "     compound                                        smiles  quote_id  \\\n",
       "0         734                      CC(C)n1cc(NC2=NCCCS2)cn1       NaN   \n",
       "1         743                        CC(Cn1cccn1)NC1=NCCCS1       NaN   \n",
       "2         778   CCS(=O)(=O)NCC=1C=CC(=NC1)N2CCCC=3C=CC=CC32    1169.0   \n",
       "3         890                    CCS(=O)(=O)NCC=1C=CN=CC1Cl     974.0   \n",
       "4         897       CCS(=O)(=O)NCC=1C=CC(=CC1)OCC=2C=CC=CN2    1118.0   \n",
       "..        ...                                           ...       ...   \n",
       "338     31409  O=C(NC=1C=CC(OC(F)F)=C2N=CC=CC12)C=3C=CC=CN3    1135.0   \n",
       "339     59282             O=C1COc2c1cccc2-c1csc(C(F)(F)F)n1       NaN   \n",
       "340     60673         O=C1CCC(CCNC(=O)C2CC(=O)c3ccccc3O2)N1       NaN   \n",
       "341     60663        C1=CC=2C=C(C=CC2O1)CNC=3C=CC4=NC=NN4C3    1193.0   \n",
       "342     49938                  C1=NC=2C(=CC=CC2O1)C3=CSC=N3    1191.0   \n",
       "\n",
       "     quote_entry  quote_price_USD  quote_amount_mg quote_catalogue  \\\n",
       "0           None              NaN              NaN            None   \n",
       "1           None              NaN              NaN            None   \n",
       "2    Z4278175298            132.0              5.0            sRDB   \n",
       "3    Z2680349149            144.0              5.0            sRDB   \n",
       "4     Z805640618             48.0              5.0             HTS   \n",
       "..           ...              ...              ...             ...   \n",
       "338   Z775226296            132.0              5.0            sRDB   \n",
       "339         None              NaN              NaN            None   \n",
       "340         None              NaN              NaN            None   \n",
       "341  Z9471938662            132.0              5.0            sRDB   \n",
       "342  Z9471938651            132.0              5.0            sRDB   \n",
       "\n",
       "    Enamine_unavailable JA curated YES DF curated NO  ... AC curated YES  \\\n",
       "0                  True           True          True  ...            NaN   \n",
       "1                  True            NaN           NaN  ...            NaN   \n",
       "2                   NaN            NaN           NaN  ...            NaN   \n",
       "3                   NaN           True           NaN  ...            NaN   \n",
       "4                   NaN           True           NaN  ...            NaN   \n",
       "..                  ...            ...           ...  ...            ...   \n",
       "338                 NaN            NaN           NaN  ...            NaN   \n",
       "339                True            NaN           NaN  ...            NaN   \n",
       "340                True            NaN           NaN  ...            NaN   \n",
       "341                 NaN            NaN           NaN  ...            NaN   \n",
       "342                 NaN            NaN           NaN  ...            NaN   \n",
       "\n",
       "    DF curated YES JA curated MAYBE JA curated INTERESTING JA curated NO  \\\n",
       "0              NaN              NaN                    NaN           NaN   \n",
       "1              NaN              NaN                    NaN           NaN   \n",
       "2              NaN              NaN                    NaN           NaN   \n",
       "3              NaN              NaN                    NaN           NaN   \n",
       "4              NaN              NaN                    NaN           NaN   \n",
       "..             ...              ...                    ...           ...   \n",
       "338            NaN              NaN                    NaN           NaN   \n",
       "339            NaN              NaN                    NaN           NaN   \n",
       "340            NaN              NaN                    NaN           NaN   \n",
       "341            NaN              NaN                    NaN           NaN   \n",
       "342            NaN              NaN                    NaN           NaN   \n",
       "\n",
       "    LCD curated YES LCD curated INTERESTING #curated YES #curated NO  \\\n",
       "0               NaN                     NaN            1           1   \n",
       "1               NaN                     NaN            0           0   \n",
       "2               NaN                     NaN            0           0   \n",
       "3               NaN                     NaN            1           0   \n",
       "4               NaN                     NaN            1           0   \n",
       "..              ...                     ...          ...         ...   \n",
       "338             NaN                    True            0           0   \n",
       "339             NaN                    True            0           0   \n",
       "340             NaN                    True            0           0   \n",
       "341            True                     NaN            1           0   \n",
       "342            True                     NaN            1           0   \n",
       "\n",
       "    #curated INTERESTING  \n",
       "0                      0  \n",
       "1                      1  \n",
       "2                      1  \n",
       "3                      1  \n",
       "4                      1  \n",
       "..                   ...  \n",
       "338                    1  \n",
       "339                    1  \n",
       "340                    1  \n",
       "341                    0  \n",
       "342                    0  \n",
       "\n",
       "[343 rows x 25 columns]"
      ]
     },
     "execution_count": 109,
     "metadata": {},
     "output_type": "execute_result"
    }
   ],
   "source": [
    "# df2[df2[\"Enamine_unavailable\"] == True]\n",
    "df2"
   ]
  },
  {
   "cell_type": "markdown",
   "id": "4a60b44e-313d-4be3-8d4d-438b7cf21361",
   "metadata": {},
   "source": [
    "## Register unavailable compounds"
   ]
  },
  {
   "cell_type": "markdown",
   "id": "db6e794c-d60b-4a0e-891e-c7a0c03802f3",
   "metadata": {
    "jp-MarkdownHeadingCollapsed": true
   },
   "source": [
    "## Unavailable compounds"
   ]
  },
  {
   "cell_type": "code",
   "execution_count": 98,
   "id": "a6f70777-69ad-4186-a68e-8fd372aced3c",
   "metadata": {},
   "outputs": [],
   "source": [
    "# from DF_curated and LCD_quote, and JA_order\n",
    "\n",
    "unavailable = [\"CCCOCC(O)C1=CC=CN=C1\",\n",
    "\"C=1C=NC=C(C1)NC=2C=CC=3C=CC=CC3N2\",\n",
    "\"C=C(CN1C=CN=C1)C(=O)NC(CO)CC=2C=CC=NC2\",\n",
    "\"CC(NC=1C=CC=C(N1)C2CC2)C3=CN=CS3\",\n",
    "\"CC(C)(C)OCC(O)C1=CC=CC=N1\",\n",
    "\"CCCC(C(=O)NC=1C=CN=CC1)C=2C=CC=CN2\",\n",
    "\"CSCC(C)CNC(C)C1=CN(C)N=C1C2CCOCC2\",\n",
    "\"NCC1=CSC(=N1)C=2C=CC(=O)NN2\",\n",
    "\"CC(CN1C=CC=N1)NC2=NCCCS2\",\n",
    "\"CCC1OCCC1CNCC=2C=CNN2\",\n",
    "\"CCNC(CC=1C=CN=CC1)C=2C=CC=CN2\",\n",
    "\"COC=1C=C(C=C2NC=CC12)CC3CCNC3\",\n",
    "\"COC=1C=CC(=NC1N2C=CC=C2)C(=O)NS(C)(=O)=O\",\n",
    "\"CC=1C=C(CN2N=C(C=CC2=O)C=3C=NC=C(F)C3)ON1\",\n",
    "\"CC(C)(C)OCC(O)C1=CSC=N1\",\n",
    "\"O=C(O)C1=CSC(=N1)C=2C=CC(=O)NN2\",\n",
    "\"CC1=CNC(=N1)N2CCCC3=CC=CC=C32\",\n",
    "\"N#CC1=CC=C(N1)C2=NC=CS2\",\n",
    "\"N#CC=1C=CC(=NC1C2CC2)C3=CSC=N3\",\n",
    "\"COC(=O)C=1NC(=CC1C=2C=NNC2)C(C)C\",\n",
    "\"CCS(=O)(=O)NCC1CCCN(CC=2C=CC=C3C=CC=CC23)C1\",\n",
    "\"CCS(=O)(=O)NCC1CN(CC2=CN=CN21)C=3N=CC(F)=CN3\",\n",
    "\"CN1C=NC=C1C2=NN=C(O2)C3CCCCN3\",\n",
    "\"CNC=1C=CN=C(C1)NCC2=CN=CS2\",\n",
    "\"C1=CSC(CC=2C=CC=3CCCNC3C2)=N1\",\n",
    "\"CCC1(CCCO1)C(N)C2=CN=CS2\",\n",
    "\"OC1COCC1CNCC2=CC=NN2\",\n",
    "\"CC=1C=NC(=C(C1)OC=2CN=NC2C=3C=CN=CC3)N4C=CC(C#CCO)=C4\",\n",
    "\"C1=NC(=CN1)C2=NNC=3CCCCC23\",\n",
    "\"O=C1C=C(CCCC1)C2=CC=CC=N2\",\n",
    "\"CC(C)(C)OCC(O)C=1C=CN=CN1\",\n",
    "\"CCOC(=O)CC(C)OC(=O)C1=CC=NN1C=2C=CN=CC2\",\n",
    "\"CC(N1N=C(N=C1C=2C=CNC2)C3=CN=CS3)C(F)(F)F\",\n",
    "\"CC(C)C=1NC=CC1C(=O)NCCN(CCO)C(=O)C=2C=CN=CC2\",\n",
    "\"CCN(CCNC(=O)C=1C=CN=CC1)C(=O)C=2C=CNC2C(C)C\",\n",
    "\"COC=1C=CC=2C=C(CN)NC2C1NC(C)=O\",\n",
    "\"CN(C=1N=CC=C2C=C(F)C=CC12)S(N)(=O)=O\",\n",
    "\"COC=1C=CC=C(C1)S(=O)(=O)NC(=O)C=2C=C(C3=CC=C(C#CCO)S3)C(=CC2OC)C(C)C4=CNN=C4C=5C=CN=CC5\",\n",
    "\"CC=1C=C(C(=CC1C(=O)NS(C)(=O)=O)C2=CC=C(C#CCO)S2)C(C)C3=CNN=C3C=4C=CN=CC4\",\n",
    "\"O=C(NC=1C=CN(C1)CC=2C=CC=NC2)C3CCCO3\",\n",
    "\"CC=1SC(=C(C)C1CCNC=2C=CN(C2)CC=3C=CC=NC3)C(C)NC(=O)C(C)C\",\n",
    "\"C=1C=CN(C1)C=2N=CC=CC2NC=3C=CN(C3)CC=4C=NC=CC4\",\n",
    "\"O=C(NC=1C=CC(=CN1)CC=2C=CC=NC2)C3CCCO3\",\n",
    "\"CC1=NC=C(CC2=CC=C(N=C2)NC(=O)C3CCCO3)S1\",\n",
    "\"COC=1C(=CC(=CC1C2=CC=C(C#CCO)S2)CC(=O)O)CC(=O)O\",\n",
    "\"O=C(O)CC1=CC(=CC(=C1)C=2C=CC=CC2)C(C(=O)O)C3=CC(=NN3)C=4C=CN=CC4\",\n",
    "\"NC=1C(=CC(=CC1C=2C=CC=CC2)CC(=O)O)CC(=O)O\",\n",
    "\"CC=1C=C2C=CC=C(NCC3CCNC3)N2N1\",\n",
    "\"NC1=NC(=CS1)C=2C=CC(=CC2)N(CC(=O)N3CCOCC3)C4CCCCC4\",\n",
    "\"CCC1=C(O)NN=C1NCC2=CC=C3OCOC3=C2\",\n",
    "\"CC=1C=C(CN2NC=3CCCCC3C2=O)ON1\",\n",
    "\"N#CC=1C=CC(=CC1O)CN2C=NC=3C=CC=CC32\",\n",
    "\"NC=1C=CC=NC1N2C=CC(C#CCO)=C2\",\n",
    "\"COC=1C=CC=NC1N2C=CC(C#CCO)=C2\",\n",
    "\"CNC=1C=CC=NC1N2C=CC(C#CCO)=C2\",\n",
    "\"[Na+].[Na+].COC1=C(C=C(CC([O-])=O)N=C1N2C=CC(C#CCO)=C2)CC([O-])=O\",\n",
    "\"COC=1C=CC(=NC1N2C=CC(C#CCO)=C2)C(=O)NS(C)(=O)=O\",\n",
    "\"COC=1C=C(C)C=NC1N2C=CC(C#CCO)=C2\",\n",
    "\"COC=1C=C(C)C(=NC1N2C=CC(C#CCO)=C2)C(=O)NS(=O)(=O)C=3C=CC=C4C=CC=NC34\",\n",
    "\"COC=1C=CC(=NC1N2C=CC(C#CCO)=C2)C(=O)NS(=O)(=O)C=3C=CC=C4C=CC=NC34\",\n",
    "\"CNC=1C=CC(=NC1N2C=CC(C#CCO)=C2)C(=O)NS(=O)(=O)C=3C=CC=C4C=CC=NC34\",\n",
    "\"COC=1C=C(C)C(=NC1N2C=CC(C)=C2)C(=O)NS(=O)(=O)C=3C=CC=C4C=CC=NC34\",\n",
    "\"COC=1C=C(C)C(=NC1N2C=CC(C)=C2)C(=O)NS(C)(=O)=O\",\n",
    "\"CC=1C=NC(=C(C1)NC=2CN=NC2C=3C=CN=CC3)N4C=CC(C#CCO)=C4\",\n",
    "\"CC=1C=CC(C2=CC=C(C#CCO)S2)=C(C1)NC=3CN=NC3C=4C=CN=CC4\",\n",
    "\"CC=1C=CC(C2=CC=C(C#CCO)S2)=C(C1)OC=3CN=NC3C=4C=CN=CC4\",\n",
    "\"CC=1C=NC(=C(C1)OC=2C=CN(C2)CC=3C=CC=NC3)N4C=CC(C#CCO)=C4\",\n",
    "\"CC=1C=NC(=C(C1)NC=2C=CN(C2)CC=3C=CC=NC3)N4C=CC(C#CCO)=C4\",\n",
    "\"CC=1C=CC(C2=CC=C(C#CCO)S2)=C(C1)NC=3C=CN(C3)CC=4C=CC=NC4\",\n",
    "\"CC=1C=CC(C2=CC=C(C#CCO)S2)=C(C1)OC=3C=CN(C3)CC=4C=CC=NC4\",\n",
    "\"NC=1C(=CC=NC1N2C=CC=C2)C3=CNC=N3\",\n",
    "\"NC(=O)N1CCN(CC1)C=2C=CC=NC2N3C=CC=C3\",\n",
    "\"C=1C=CN(C1)C=2N=CC=C3N=C(NC23)N4CCNCC4\",\n",
    "\"C=1C=CN(C1)C=2N=CC=C3CC(=NC23)N4CCNCC4\",\n",
    "\"C=1C=CN(C1)C=2N=CC=C3SC(=NC23)N4CCNCC4\",\n",
    "\"C=1C=CN(C1)C=2N=CC=C3OC(=NC23)N4CCNCC4\",\n",
    "\"NC(=O)N1CCN(CC1)C(=O)C=2C=CC=NC2N3C=CC=C3\",\n",
    "\"C=1C=CN(C1)C=2C=C(C=CN2)C=3C=NNC3C=4C=CN=CC4\",\n",
    "\"C=1C=CN(C1)C=2N=CC=CC2C=3C=CN(C3)CC=4C=CC=NC4\",\n",
    "\"NC=1C(=CC=NC1N2C=CC=C2)C=3C=NNC3C=4C=CN=CC4\",\n",
    "\"NC(=O)N1CCN(CC1)C2=NC=3C(=NC=CC3O2)N4C=CC=C4\",\n",
    "\"NC(=O)N1CCN(CC1)C2=NC=3C(=NC=CC3S2)N4C=CC=C4\",\n",
    "\"C=1C=CN(C1)C=2N=CC=CC2NCC3=CNN=C3C=4C=CN=CC4\",\n",
    "\"C=1C=CN(C1)C=2N=CC=CC2CNC=3C=NNC3C=4C=CN=CC4\",\n",
    "\"C=1C=CN(C1)C=2N=CC=CC2CCC3=CNN=C3C=4C=CN=CC4\",\n",
    "\"C=1C=CN(C1)C=2N=CC=CC2CSC3=CNN=C3C=4C=CN=CC4\",\n",
    "\"C=1C=CN(C1)C=2N=CC=CC2SCC=3C=NNC3C=4C=CN=CC4\",\n",
    "\"C=1C=CN(C1)C=2N=CC=CC2COC=3C=NNC3C=4C=CN=CC4\",\n",
    "\"C=1C=CN(C1)C=2N=CC=CC2OCC3=CNN=C3C=4C=CN=CC4\",\n",
    "\"CCS(=O)(=O)NCC1=CC=C(N=C1)NC2CCOCC2\",\n",
    "\"CCS(=O)(=O)NCC1=CC=C(N=C1)OC2CCOCC2\",\n",
    "\"CCS(=O)(=O)NCC1=CC=C(CC2CCOCC2)N=C1\",\n",
    "\"CNS(=O)(=O)C=1C=CC=C2C(=O)N(CC3=CC(C)=NO3)N=C(C)C12\",\n",
    "\"NC1=NC(=CS1)C=2C=CC(=CC2)NC3=CC=C(S3)C=4C=C(C=C(C4)CC(=O)O)CC(=O)O\",\n",
    "\"CC(=O)NCCN(CC=1C=CSC1)C(=O)C=2C=NC=CC2O\",\n",
    "\"NC=1C=NC=CC1NCC2=CN=CS2\",\n",
    "\"CC(=CC=1C=CC=CN1)C(=O)N(C)C2(CCOC2)C(=O)O\",\n",
    "\"CN1CCCC=2C=CC(=CC21)NS(=O)(=O)C3=CN=CS3\",\n",
    "\"CC(C)N1C=C(C=N1)NC2=NCCCS2\",\n",
    "\"CCS(=O)(=O)NCC1=CC=C(C=CC(=O)O)S1\",\n",
    "\"CCS(=O)(=O)NCC1CC(=O)N(C1)C=2C=CC(C)=CC2\",\n",
    "\"CC1=NC=C(NC(=C2CCNN2)C=3C=CC=C(F)C3)S1\",\n",
    "\"CC1=CNN=C1C=2C=CC=C(N2)NC(=O)C3CCCO3\",\n",
    "\"O=C(NC=1C=C2C=NC=CC2=CN1)C3CCCO3\",\n",
    "\"O=C(NC=1C=C2C=NC=C(O)C2=CN1)C3CCCO3\",\n",
    "\"NC=1C=NC=C2C=C(N=CC12)NC(=O)C3CCCO3\",\n",
    "\"NC=1C=C2C=NC(=CC2=CN1)NC(=O)C3CCCO3\",\n",
    "\"O=C(NC=1C=C2C=NC(O)=CC2=CN1)C3CCCO3\",\n",
    "\"[Cl-].O=C(NC1=CC=2C=NC(O)=CC2C=N1)C3CCC[NH2+]3\",\n",
    "\"[Cl-].O=C(NC1=CC=2C=NC(O)=CC2C=N1)C3C[NH2+]CO3\",\n",
    "\"O=C(NC=1C=C2C=NC(O)=CC2=CN1)C3CCNO3\",\n",
    "\"C=C(NC=1C=C2C=NC(O)=CC2=CN1)C3CCNO3\",\n",
    "\"C=C(NC=1C=C2C=NC(N)=CC2=CN1)C3CCNO3\",\n",
    "\"NC(=O)OC=1C=C2SC(=O)OC2=CC1N\",\n",
    "\"NC(=O)OC=1C=C2SC(OC2=CC1N)C3CCCO3\",\n",
    "\"NC(=O)OC=1C=C2SC(C=C3CCNO3)OC2=CC1N\",\n",
    "\"NC(=O)OC=1C=C2SC(CC3CCNO3)OC2=CC1N\",\n",
    "\"CC1=NC=C(S1)C(=O)OC=2C=C3SC(C=C4CCNO4)OC3=CC2N\",\n",
    "\"CC1=NC=C(S1)C(=O)OC=2C=C3SC(C=C4CCNO4)OC3=CC2O\",\n",
    "\"CC1=NC(=CN1)C(=O)OC=2C=C3SC(C=C4CCNO4)OC3=CC2O\",\n",
    "\"[Na+].COC1C(CC(CC1C([O-])=O)C2=CC=CS2)OC=3C=CC(=CC3)OC(C)=O\",\n",
    "\"[Na+].COC1C=2C=3C=CC(=CC3SC2C(CC1C([O-])=O)C4=CC=CS4)OC(C)=O\",\n",
    "\"[Na+].COC1C(CC(C2=CC=CS2)C3SC=4C=C(C=CC4C13)OC(C)=O)C([O-])=O\",\n",
    "\"[Na+].COC1C(CC(C2=CC=CS2)C3SC=4C=C(C=CC4OC13)OC(C)=O)C([O-])=O\",\n",
    "\"COC1CC(CC[NH+]2CCN(CC2)C(N)=O)C(CC1C([O-])=O)C3=CC=CS3\",\n",
    "\"[Na+].COC1CC(ON2CCN(CC2)C(N)=O)C(CC1C([O-])=O)C3=CC=CS3\",\n",
    "\"COC1CC(OC[NH+]2CCN(CC2)C(N)=O)C(CC1C([O-])=O)C3=CC=CS3\",\n",
    "\"[Na+].COC1CC(CCC1C([O-])=O)C=2C=C(F)C=C(C2)NCC3=CN=C(C)S3\",\n",
    "\"COC1CC(CCC1C([O-])=O)[N+]=2C=C(F)C=C(C2)NCC3=CN=C(C)S3\",\n",
    "\"COC1CC(OCC[NH+](C)CC=2C=CC=NC2)C(CC1C([O-])=O)C3=CC=CS3\",\n",
    "\"[Na+].COC1CC(OCC=2C=CN(C2)CC=3C=CC=NC3)C(CC1C([O-])=O)C4=CC=CS4\",\n",
    "\"COC1CC(CCC1C([O-])=O)C2CC[NH+](CC=3C=CC=NC3)CC2\",\n",
    "\"N#CC=1N=CNC1NC2=CC=CN2CC=3C=CC=NC3\",\n",
    "\"CN1C(=O)N(CCN2CCCC2=O)C(=S)C=3C=CC=CC31\",\n",
    "\"CCS(=O)(=O)NCC=1C=CC=2OC(OC=3C=CC(=CC3)S(=O)(=O)N4CCNCC4)OC2C1\",\n",
    "\"NC(C1=CC=C(S1)C=2C=C(C=C(C2)CC(=O)O)CC(=O)O)C=3C=CC=CC3\",\n",
    "\"CCS(=O)(=O)NCC=1C=CC(=CC1)C(=O)N2CC(=O)N2\",\n",
    "\"ClC1=C(C(C)(C2=CC=C(C3=CSC(N)=N3)C=C2)C)N=CN=C1\",\n",
    "\"O=C1CCCN1CCOC(C2=C(O)N=C(C=CC=C3NC)C3=C2)=O\",\n",
    "\"O=C1CCCN1CCOC(C2=C(O)N=C(C=CC=N3)C3=C2)=O\",\n",
    "\"O=S(C1=CC(C(C2(CC2)C(OCC)=O)CCC3)=C3C=C1)(N)=O\",\n",
    "\"CCS(=O)(=O)NCC=1C=CC(=CC1)C(=O)N2CC(=O)N2\",\n",
    "\"NC1=CSC(=N1)C=2N=CC=C3C=CC=CC23\",\n",
    "\"CCS(=O)(=O)NCC1=CC=C(C=CC(=O)O)S1\",\n",
    "\"CC(=O)C1=CSC(=N1)C=2N=CC=C3C=CC=CC23\",\n",
    "\"CCOC(=O)[C@@]12C[C@H]2CCC3=CC=CC=C31\",\n",
    "\"CCOC(=O)C(C#N)=CN1CCCC=2C=CC=CC21\",\n",
    "\"O=C(C1=CN=CS1)C=2C=CC=3NCCC3C2\",\n",
    "\"CCOC(=O)C=1C=CC=C2SCCNC12\",\n",
    "\"N#CC=1C=CC(=NC1C2CC2)C3=CSC=N3\",\n",
    "\"CCOC(=O)C=1C=CC=C2SCCCNC12\",\n",
    "\"CCOC(=O)C1(CCC1)N2CCCC=3C=CC=CC32\",\n",
    "\"O=C(OCC#CCSC1=NN=C(O1)C=2C=CN=CC2)C3=CC=4C=CC=CC4O3\",\n",
    "\"N#CC=1N=CNC1NC2=CC=CN2CC=3C=CC=NC3\",\n",
    "\"CN1C(=O)N(CCN2CCCC2=O)C(=S)C=3C=CC=CC31\",\n",
    "\"COC=1C=CC=2C=C(CN)NC2C1NC(C)=O\",\n",
    "\"CN(C=1N=CC=C2C=C(F)C=CC12)S(N)(=O)=O\",\n",
    "\"C=1C=CN(C1)C=2N=CC=CC2NC=3C=CN(C3)CC=4C=NC=CC4\",\n",
    "\"NC=1C(=CC(=CC1C=2C=CC=CC2)CC(=O)O)CC(=O)O\",\n",
    "\"CCS(=O)(=O)NC[C@H]1CN(CC2=CN=CN21)C=3N=CC(F)=CN3\",\n",
    "\"O=C1CC[C@H](CN2CCC[C@@H](C2)C3=CC=NN3)C(=O)N1\",\n",
    "\"CN(CCNC(=O)C[C@H]1CCCCO1)C(=O)C=2C=CC=NC2\",\n",
    "\"O=C(C=CC1=CSC=N1)OCCCC[C@H]2CCCO2\",\n",
    "\"CC=1N=C(SC1C(=O)N[C@H](C)[C@@H](C)C(=O)O)C=2C=CC=CN2\",\n",
    "\"C[C@@H](C[C@@H](C)C(F)F)NS(=O)(=O)CC1=CSC=N1\",\n",
    "\"C[C@H](CCNS(=O)(=O)CC=1C=CN=CC1)C(F)F\",\n",
    "\"O=S(=O)(CCC=1C=NOC1)N[C@@H](C=2C=CN=CC2)C3CCC3\",\n",
    "\"CNS(=O)(=O)C=1C=CC(=CC1Cl)NCCNS(=O)(=O)C=2C=CC=CC2Cl\",\n",
    "\"CNS(=O)(=O)C=1C=CC(=CC1Cl)NC=2C=CC(=CC2)C3=CSC(N)=N3\",\n",
    "\"CNS(=O)(=O)C=1C=CC=C(NC2CCOCC2)C1Cl\",\n",
    "\"CNS(=O)(=O)C=1C=CC=C(CCNC=2C=CC=CC2)C1Cl\",\n",
    "\"CCS(=O)(=O)NCC=1C=CC=2O[C@H](NCNS(=O)(=O)C=3C=CC=CC3Cl)OC2C1\",\n",
    "\"O=C(O)CC=1C=C(C=C(C1)C2=CC=C(CCNCNS(=O)(=O)C3=CC=CC=C3Cl)S2)CC(=O)O\",\n",
    "\"CC(C)(CO)NC(=O)C=1C=CC=C(C1)NC=2C=CC(=CC2)C3=CSC(N)=N3\",\n",
    "\"CCS(=O)(=O)NCC=1C=CC=2O[C@H](OC=3C=CC(=CC3)S(=O)(=O)N4CCNCC4)OC2C1\",\n",
    "\"N[C@@H](C1=CC=C(S1)C=2C=C(C=C(C2)CC(=O)O)CC(=O)O)C=3C=CC=CC3\",\n",
    "\"COC=1C=CC=C(C1)S(=O)(=O)NC(=O)C=2C=C(C3=CC=C(C#CCO)S3)C(=CC2OC)[C@H](C)C4=CNN=C4C=5C=CN=CC5\",\n",
    "\"CC=1SC(=C(C)C1CCNC=2C=CN(C2)CC=3C=CC=NC3)[C@H](C)NC(=O)C(C)C\",\n",
    "\"C[C@@H](CNC(=O)C=1C=CC(=NC1)C=2N=CNN2)C3=NC=CN3\",\n",
    "\"C[C@@H](CC1=CN=CN1)C(=O)NCC2=NN=C(O2)N3CCCC3\",\n",
    "\"C[C@@H](N[C@@H](C)[C@@H]1CCCO1)C=2C=CC(=CC2)C=3C=CC=NC3\",\n",
    "\"CN1C=C(C=N1)[C@H](CO)NC[C@@H](O)CN2CCCC2=O\",\n",
    "\"O=C1CCCN1C[C@H](O)CNC2(CC2)C=3C=CC=CN3\",\n",
    "\"CCOC(=O)C=1C=NC=CC1NC[C@@](C)(O)COC\",\n",
    "\"C[C@H](CN1CCCC1=O)NC(=O)C=2C=CC=C3N=CC=CC23\",\n",
    "\"O=C1CCCN1[C@@H]2CCN(C2)C=3C(Br)=CN=C4C=CC=CC34\",\n",
    "\"CC[C@@H](C)N1N=CC(NC(=O)NC[C@H](C)O)=C1C\",\n",
    "\"C[C@H](CN1CCCC1=O)NC(=O)C=CC=2C=CC3=C(C2)CCCN3C\",\n",
    "\"C[C@H](NC(=O)NC=1C=CC=C2NC=CC12)[C@H](O)C(F)F\",\n",
    "\"O=C(NCC[C@H](O)C(F)(F)F)NC=1C=CC=C2C=CNC12\",\n",
    "\"CC(C)[C@@](C)(CO)NC(=O)NC=1C=CC=C2NC=CC12\",\n",
    "\"O=C(CCC1=CSC=2C=CC=CC12)N[C@H]3CCNC4(CC4)C3\",\n",
    "\"CCOC(=O)[C@H]1C2=CC=CC=C2CCC31CC3\",\n",
    "\"CCOC(=O)[C@H]1CCCC=2C=CC=CC21\",\n",
    "\"CCOC(=O)[C@H]1C=2OC=CC2CCC31CC3\",\n",
    "\"C[C@H](CN1CC(=O)N(CC2=CC=NS2)C1=O)OC(F)F\",\n",
    "\"C[C@H](CCl)S(=O)(=O)N1CCCC=2C=CC=CC21\",\n",
    "\"COC=1C=CC=C2C=C(OC12)C(=O)NC[C@@H](O)C=3C=CC=C4C=CC=CC34\",\n",
    "\"C[C@@H](CN1CCCC1=O)NC(=O)CC2=NNC=3CCCCC23\",\n",
    "\"O=C(NC=1C=CC=C2CCCOC12)N[C@H](CCO)C(F)(F)F\",\n",
    "\"CC=CC[C@H](CO)NC(=O)C(=O)NC=1C=CC=C2CCCOC12\",\n",
    "\"C[C@H](CC(=O)NC1=CNN=C1C2=NC=CS2)N3CCCCC3=O\",\n",
    "\"C1=NN2C=C(C=CC2=N1)C3=NC(=NN3C4CC4)C=5C=CC=CN5\",\n",
    "\"C[C@](O)(CNC(=O)NC=1C=CC=C2C=CC=CC12)C3=CC=CO3\",\n",
    "\"C[C@](O)(CNC(=O)NC=1C=CC=C2C=CNC12)C3=CC=CO3\",\n",
    "\"COC[C@@](C)(O)CNC(=O)NC=1C=CC=2NCCCC2C1\",\n",
    "\"C[C@@](O)(CNC(=O)NC1=CC=C2SC=NC2=C1)C3CC3\",\n",
    "\"O=C1COC=2C(=CC=CC12)C3=CSC(=N3)C(F)(F)F\",\n",
    "\"O=C(NCC[C@H]1CCC(=O)N1)[C@H]2CC(=O)C=3C=CC=CC3O2\",\n",
    "\"C1=CC=2C=CC(=CC2N1)C=3C=NOC3\",\n",
    "\"CN1CCCC=2C=CC(=CC21)NS(=O)(=O)C3=CN=CS3\",\n",
    "\"C=1C=NN(C1)C=2N=CC=C3C=CC=CC23\",]"
   ]
  },
  {
   "cell_type": "code",
   "execution_count": 100,
   "id": "018eecaa-92a9-42b1-bb13-d6ead0a650df",
   "metadata": {},
   "outputs": [
    {
     "data": {
      "application/vnd.jupyter.widget-view+json": {
       "model_id": "39cb4bf6c6194035bc656500ca5ee3ca",
       "version_major": 2,
       "version_minor": 0
      },
      "text/plain": [
       "Output()"
      ]
     },
     "metadata": {},
     "output_type": "display_data"
    },
    {
     "data": {
      "text/html": [
       "<pre style=\"white-space:pre;overflow-x:auto;line-height:normal;font-family:Menlo,'DejaVu Sans Mono',consolas,'Courier New',monospace\"></pre>\n"
      ],
      "text/plain": []
     },
     "metadata": {},
     "output_type": "display_data"
    },
    {
     "data": {
      "text/html": [
       "<pre style=\"white-space:pre;overflow-x:auto;line-height:normal;font-family:Menlo,'DejaVu Sans Mono',consolas,'Courier New',monospace\">Tagged <span style=\"font-weight: bold\">{</span>P × <span style=\"color: #008080; text-decoration-color: #008080; font-weight: bold\">704</span><span style=\"font-weight: bold\">}</span> w/ <span style=\"color: #008000; text-decoration-color: #008000\">\"Enamine_unavailable\"</span>\n",
       "</pre>\n"
      ],
      "text/plain": [
       "Tagged \u001b[1m{\u001b[0mP × \u001b[1;36m704\u001b[0m\u001b[1m}\u001b[0m w/ \u001b[32m\"Enamine_unavailable\"\u001b[0m\n"
      ]
     },
     "metadata": {},
     "output_type": "display_data"
    }
   ],
   "source": [
    "c_ids = set()\n",
    "for s in mrich.track(unavailable):\n",
    "    c = animal.compounds(smiles=s)\n",
    "    c_ids.add(c.id)\n",
    "\n",
    "cs = animal.compounds[c_ids]\n",
    "cs.poses.add_tag(\"Enamine_unavailable\")"
   ]
  },
  {
   "cell_type": "markdown",
   "id": "f11977b7-b016-4965-8b6d-4bfd1bdd13bb",
   "metadata": {},
   "source": [
    "## Jan 28th tag iter1.0 quote"
   ]
  },
  {
   "cell_type": "code",
   "execution_count": 5,
   "id": "d0896c43-e700-4f59-8b36-217ef77f3e04",
   "metadata": {},
   "outputs": [],
   "source": [
    "ids = set([55996, 33434, 61134, 45327, 56786, 34701, 8715, 12548, 12483, 30341, 65264, 49503, 54733, 65404, 40797, 55149, 28106, 36233, 4091, 6527, 28628, 10412, 29796, 55155, 55156, 56548, 35145, 12690, 34650, 28301, 45268, 65644, 65691, 54938, 4093, 20299, 65434, 9420, 41689, 13884, 56765, 41552, 6950, 54945, 43304, 61386, 35920, 55535, 16080, 19774, 55174, 56537, 55262, 40440, 49938, 60687, 60663, 21233, 65250, 44380, 45330, 23289, 54862, 52471, 27417, 37923, 50922, 43155, 33380, 37157, 4109, 34583, 43135, 65515,])"
   ]
  },
  {
   "cell_type": "code",
   "execution_count": 6,
   "id": "5730eece-65a7-438c-b40d-891891322e3b",
   "metadata": {},
   "outputs": [],
   "source": [
    "comps = animal.compounds[ids]"
   ]
  },
  {
   "cell_type": "code",
   "execution_count": 7,
   "id": "affb8d0a-e8b9-4511-8f2c-72164f6b7ae3",
   "metadata": {},
   "outputs": [
    {
     "data": {
      "text/plain": [
       "\u001b[1m\u001b[4m{C × 74}\u001b[22m\u001b[24m"
      ]
     },
     "execution_count": 7,
     "metadata": {},
     "output_type": "execute_result"
    }
   ],
   "source": [
    "comps"
   ]
  },
  {
   "cell_type": "code",
   "execution_count": 12,
   "id": "e4143319-ecc4-4787-b382-327237e6d18b",
   "metadata": {},
   "outputs": [
    {
     "data": {
      "text/plain": [
       "\u001b[1m\u001b[4m{C × 31}\u001b[22m\u001b[24m"
      ]
     },
     "execution_count": 12,
     "metadata": {},
     "output_type": "execute_result"
    }
   ],
   "source": [
    "animal.poses(tag=\"Enamine_Order_1968912\").compounds"
   ]
  },
  {
   "cell_type": "code",
   "execution_count": 14,
   "id": "434df3e4-2ec9-4fbe-b319-a8ccd8e9a06f",
   "metadata": {},
   "outputs": [
    {
     "data": {
      "text/plain": [
       "\u001b[1m\u001b[4m{C × 103}\u001b[22m\u001b[24m"
      ]
     },
     "execution_count": 14,
     "metadata": {},
     "output_type": "execute_result"
    }
   ],
   "source": [
    "ordered = animal.poses(tag=\"Enamine_Order_1968912\").compounds + animal.compounds[ids]\n",
    "ordered"
   ]
  },
  {
   "cell_type": "code",
   "execution_count": 16,
   "id": "02b5061a-cf44-4ecb-98e7-89b537629b47",
   "metadata": {},
   "outputs": [
    {
     "data": {
      "text/html": [
       "<pre style=\"white-space:pre;overflow-x:auto;line-height:normal;font-family:Menlo,'DejaVu Sans Mono',consolas,'Courier New',monospace;margin:0px\">Tagged <span style=\"font-weight: bold\">{</span>C × <span style=\"color: #008080; text-decoration-color: #008080; font-weight: bold\">103</span><span style=\"font-weight: bold\">}</span> w/ <span style=\"color: #008000; text-decoration-color: #008000\">\"all enamine ordered\"</span>\n",
       "</pre>\n"
      ],
      "text/plain": [
       "Tagged \u001b[1m{\u001b[0mC × \u001b[1;36m103\u001b[0m\u001b[1m}\u001b[0m w/ \u001b[32m\"all enamine ordered\"\u001b[0m\n"
      ]
     },
     "metadata": {},
     "output_type": "display_data"
    }
   ],
   "source": [
    "ordered.add_tag(\"all enamine ordered\")"
   ]
  },
  {
   "cell_type": "code",
   "execution_count": 27,
   "id": "290242ad-9c98-4e6f-9c66-62a7204af8dc",
   "metadata": {},
   "outputs": [
    {
     "data": {
      "text/plain": [
       "\u001b[1m\u001b[4m{P × 105}\u001b[22m\u001b[24m"
      ]
     },
     "execution_count": 27,
     "metadata": {},
     "output_type": "execute_result"
    }
   ],
   "source": [
    "pset = animal.compounds(tag=\"all enamine ordered\").poses.get_by_tag(\"acceptable\").get_by_tag(\"DF curated NO\", inverse=True).get_by_tag(\"JA curated NO\", inverse=True)\n",
    "pset"
   ]
  },
  {
   "cell_type": "code",
   "execution_count": 28,
   "id": "1226f4c0-51f6-4b09-b12c-49d6f230ca86",
   "metadata": {},
   "outputs": [
    {
     "data": {
      "application/vnd.plotly.v1+json": {
       "config": {
        "plotlyServerURL": "https://plot.ly"
       },
       "data": [
        {
         "alignmentgroup": "True",
         "hovertemplate": "type=poses<br>tag=%{x}<br>number=%{y}<extra></extra>",
         "legendgroup": "poses",
         "marker": {
          "color": "#636efa",
          "pattern": {
           "shape": ""
          }
         },
         "name": "poses",
         "offsetgroup": "poses",
         "orientation": "v",
         "showlegend": true,
         "textposition": "auto",
         "type": "bar",
         "x": [
          "AC curated INTERESTING",
          "AC curated YES",
          "DF curated INTERESTING",
          "DF curated YES",
          "Enamine_Order_1968912",
          "Enamine_Quote_1970815",
          "Enamine_Quote_1977854",
          "Enamine_unavailable",
          "Fragmenstein placed",
          "Green Site/RNA tunnel merge",
          "JA curated INTERESTING",
          "JA curated YES",
          "Knitwork impure merge",
          "Knitwork pure merge",
          "LCD curated INTERESTING",
          "LCD curated YES",
          "Primer grip/N-pocket merge",
          "RdRp_knitwork_green_site_rna_tunnel_impure_fragalysis.sdf Pose OK",
          "Thumb Site 2 merge",
          "acceptable"
         ],
         "xaxis": "x",
         "y": [
          3,
          5,
          11,
          5,
          26,
          25,
          61,
          18,
          105,
          83,
          13,
          26,
          57,
          48,
          8,
          41,
          8,
          51,
          14,
          105
         ],
         "yaxis": "y"
        }
       ],
       "layout": {
        "barmode": "group",
        "images": [
         {
          "sizex": 0.3,
          "sizey": 0.3,
          "source": "https://raw.githubusercontent.com/mwinokan/HIPPO/main/logos/hippo_logo_tightcrop.png",
          "x": 0.95,
          "xanchor": "right",
          "xref": "paper",
          "y": 0.95,
          "yanchor": "top",
          "yref": "paper"
         }
        ],
        "legend": {
         "title": {
          "text": "type"
         },
         "tracegroupgap": 0
        },
        "margin": {
         "t": 60
        },
        "template": {
         "data": {
          "bar": [
           {
            "error_x": {
             "color": "#2a3f5f"
            },
            "error_y": {
             "color": "#2a3f5f"
            },
            "marker": {
             "line": {
              "color": "#E5ECF6",
              "width": 0.5
             },
             "pattern": {
              "fillmode": "overlay",
              "size": 10,
              "solidity": 0.2
             }
            },
            "type": "bar"
           }
          ],
          "barpolar": [
           {
            "marker": {
             "line": {
              "color": "#E5ECF6",
              "width": 0.5
             },
             "pattern": {
              "fillmode": "overlay",
              "size": 10,
              "solidity": 0.2
             }
            },
            "type": "barpolar"
           }
          ],
          "carpet": [
           {
            "aaxis": {
             "endlinecolor": "#2a3f5f",
             "gridcolor": "white",
             "linecolor": "white",
             "minorgridcolor": "white",
             "startlinecolor": "#2a3f5f"
            },
            "baxis": {
             "endlinecolor": "#2a3f5f",
             "gridcolor": "white",
             "linecolor": "white",
             "minorgridcolor": "white",
             "startlinecolor": "#2a3f5f"
            },
            "type": "carpet"
           }
          ],
          "choropleth": [
           {
            "colorbar": {
             "outlinewidth": 0,
             "ticks": ""
            },
            "type": "choropleth"
           }
          ],
          "contour": [
           {
            "colorbar": {
             "outlinewidth": 0,
             "ticks": ""
            },
            "colorscale": [
             [
              0,
              "#0d0887"
             ],
             [
              0.1111111111111111,
              "#46039f"
             ],
             [
              0.2222222222222222,
              "#7201a8"
             ],
             [
              0.3333333333333333,
              "#9c179e"
             ],
             [
              0.4444444444444444,
              "#bd3786"
             ],
             [
              0.5555555555555556,
              "#d8576b"
             ],
             [
              0.6666666666666666,
              "#ed7953"
             ],
             [
              0.7777777777777778,
              "#fb9f3a"
             ],
             [
              0.8888888888888888,
              "#fdca26"
             ],
             [
              1,
              "#f0f921"
             ]
            ],
            "type": "contour"
           }
          ],
          "contourcarpet": [
           {
            "colorbar": {
             "outlinewidth": 0,
             "ticks": ""
            },
            "type": "contourcarpet"
           }
          ],
          "heatmap": [
           {
            "colorbar": {
             "outlinewidth": 0,
             "ticks": ""
            },
            "colorscale": [
             [
              0,
              "#0d0887"
             ],
             [
              0.1111111111111111,
              "#46039f"
             ],
             [
              0.2222222222222222,
              "#7201a8"
             ],
             [
              0.3333333333333333,
              "#9c179e"
             ],
             [
              0.4444444444444444,
              "#bd3786"
             ],
             [
              0.5555555555555556,
              "#d8576b"
             ],
             [
              0.6666666666666666,
              "#ed7953"
             ],
             [
              0.7777777777777778,
              "#fb9f3a"
             ],
             [
              0.8888888888888888,
              "#fdca26"
             ],
             [
              1,
              "#f0f921"
             ]
            ],
            "type": "heatmap"
           }
          ],
          "heatmapgl": [
           {
            "colorbar": {
             "outlinewidth": 0,
             "ticks": ""
            },
            "colorscale": [
             [
              0,
              "#0d0887"
             ],
             [
              0.1111111111111111,
              "#46039f"
             ],
             [
              0.2222222222222222,
              "#7201a8"
             ],
             [
              0.3333333333333333,
              "#9c179e"
             ],
             [
              0.4444444444444444,
              "#bd3786"
             ],
             [
              0.5555555555555556,
              "#d8576b"
             ],
             [
              0.6666666666666666,
              "#ed7953"
             ],
             [
              0.7777777777777778,
              "#fb9f3a"
             ],
             [
              0.8888888888888888,
              "#fdca26"
             ],
             [
              1,
              "#f0f921"
             ]
            ],
            "type": "heatmapgl"
           }
          ],
          "histogram": [
           {
            "marker": {
             "pattern": {
              "fillmode": "overlay",
              "size": 10,
              "solidity": 0.2
             }
            },
            "type": "histogram"
           }
          ],
          "histogram2d": [
           {
            "colorbar": {
             "outlinewidth": 0,
             "ticks": ""
            },
            "colorscale": [
             [
              0,
              "#0d0887"
             ],
             [
              0.1111111111111111,
              "#46039f"
             ],
             [
              0.2222222222222222,
              "#7201a8"
             ],
             [
              0.3333333333333333,
              "#9c179e"
             ],
             [
              0.4444444444444444,
              "#bd3786"
             ],
             [
              0.5555555555555556,
              "#d8576b"
             ],
             [
              0.6666666666666666,
              "#ed7953"
             ],
             [
              0.7777777777777778,
              "#fb9f3a"
             ],
             [
              0.8888888888888888,
              "#fdca26"
             ],
             [
              1,
              "#f0f921"
             ]
            ],
            "type": "histogram2d"
           }
          ],
          "histogram2dcontour": [
           {
            "colorbar": {
             "outlinewidth": 0,
             "ticks": ""
            },
            "colorscale": [
             [
              0,
              "#0d0887"
             ],
             [
              0.1111111111111111,
              "#46039f"
             ],
             [
              0.2222222222222222,
              "#7201a8"
             ],
             [
              0.3333333333333333,
              "#9c179e"
             ],
             [
              0.4444444444444444,
              "#bd3786"
             ],
             [
              0.5555555555555556,
              "#d8576b"
             ],
             [
              0.6666666666666666,
              "#ed7953"
             ],
             [
              0.7777777777777778,
              "#fb9f3a"
             ],
             [
              0.8888888888888888,
              "#fdca26"
             ],
             [
              1,
              "#f0f921"
             ]
            ],
            "type": "histogram2dcontour"
           }
          ],
          "mesh3d": [
           {
            "colorbar": {
             "outlinewidth": 0,
             "ticks": ""
            },
            "type": "mesh3d"
           }
          ],
          "parcoords": [
           {
            "line": {
             "colorbar": {
              "outlinewidth": 0,
              "ticks": ""
             }
            },
            "type": "parcoords"
           }
          ],
          "pie": [
           {
            "automargin": true,
            "type": "pie"
           }
          ],
          "scatter": [
           {
            "fillpattern": {
             "fillmode": "overlay",
             "size": 10,
             "solidity": 0.2
            },
            "type": "scatter"
           }
          ],
          "scatter3d": [
           {
            "line": {
             "colorbar": {
              "outlinewidth": 0,
              "ticks": ""
             }
            },
            "marker": {
             "colorbar": {
              "outlinewidth": 0,
              "ticks": ""
             }
            },
            "type": "scatter3d"
           }
          ],
          "scattercarpet": [
           {
            "marker": {
             "colorbar": {
              "outlinewidth": 0,
              "ticks": ""
             }
            },
            "type": "scattercarpet"
           }
          ],
          "scattergeo": [
           {
            "marker": {
             "colorbar": {
              "outlinewidth": 0,
              "ticks": ""
             }
            },
            "type": "scattergeo"
           }
          ],
          "scattergl": [
           {
            "marker": {
             "colorbar": {
              "outlinewidth": 0,
              "ticks": ""
             }
            },
            "type": "scattergl"
           }
          ],
          "scattermapbox": [
           {
            "marker": {
             "colorbar": {
              "outlinewidth": 0,
              "ticks": ""
             }
            },
            "type": "scattermapbox"
           }
          ],
          "scatterpolar": [
           {
            "marker": {
             "colorbar": {
              "outlinewidth": 0,
              "ticks": ""
             }
            },
            "type": "scatterpolar"
           }
          ],
          "scatterpolargl": [
           {
            "marker": {
             "colorbar": {
              "outlinewidth": 0,
              "ticks": ""
             }
            },
            "type": "scatterpolargl"
           }
          ],
          "scatterternary": [
           {
            "marker": {
             "colorbar": {
              "outlinewidth": 0,
              "ticks": ""
             }
            },
            "type": "scatterternary"
           }
          ],
          "surface": [
           {
            "colorbar": {
             "outlinewidth": 0,
             "ticks": ""
            },
            "colorscale": [
             [
              0,
              "#0d0887"
             ],
             [
              0.1111111111111111,
              "#46039f"
             ],
             [
              0.2222222222222222,
              "#7201a8"
             ],
             [
              0.3333333333333333,
              "#9c179e"
             ],
             [
              0.4444444444444444,
              "#bd3786"
             ],
             [
              0.5555555555555556,
              "#d8576b"
             ],
             [
              0.6666666666666666,
              "#ed7953"
             ],
             [
              0.7777777777777778,
              "#fb9f3a"
             ],
             [
              0.8888888888888888,
              "#fdca26"
             ],
             [
              1,
              "#f0f921"
             ]
            ],
            "type": "surface"
           }
          ],
          "table": [
           {
            "cells": {
             "fill": {
              "color": "#EBF0F8"
             },
             "line": {
              "color": "white"
             }
            },
            "header": {
             "fill": {
              "color": "#C8D4E3"
             },
             "line": {
              "color": "white"
             }
            },
            "type": "table"
           }
          ]
         },
         "layout": {
          "annotationdefaults": {
           "arrowcolor": "#2a3f5f",
           "arrowhead": 0,
           "arrowwidth": 1
          },
          "autotypenumbers": "strict",
          "coloraxis": {
           "colorbar": {
            "outlinewidth": 0,
            "ticks": ""
           }
          },
          "colorscale": {
           "diverging": [
            [
             0,
             "#8e0152"
            ],
            [
             0.1,
             "#c51b7d"
            ],
            [
             0.2,
             "#de77ae"
            ],
            [
             0.3,
             "#f1b6da"
            ],
            [
             0.4,
             "#fde0ef"
            ],
            [
             0.5,
             "#f7f7f7"
            ],
            [
             0.6,
             "#e6f5d0"
            ],
            [
             0.7,
             "#b8e186"
            ],
            [
             0.8,
             "#7fbc41"
            ],
            [
             0.9,
             "#4d9221"
            ],
            [
             1,
             "#276419"
            ]
           ],
           "sequential": [
            [
             0,
             "#0d0887"
            ],
            [
             0.1111111111111111,
             "#46039f"
            ],
            [
             0.2222222222222222,
             "#7201a8"
            ],
            [
             0.3333333333333333,
             "#9c179e"
            ],
            [
             0.4444444444444444,
             "#bd3786"
            ],
            [
             0.5555555555555556,
             "#d8576b"
            ],
            [
             0.6666666666666666,
             "#ed7953"
            ],
            [
             0.7777777777777778,
             "#fb9f3a"
            ],
            [
             0.8888888888888888,
             "#fdca26"
            ],
            [
             1,
             "#f0f921"
            ]
           ],
           "sequentialminus": [
            [
             0,
             "#0d0887"
            ],
            [
             0.1111111111111111,
             "#46039f"
            ],
            [
             0.2222222222222222,
             "#7201a8"
            ],
            [
             0.3333333333333333,
             "#9c179e"
            ],
            [
             0.4444444444444444,
             "#bd3786"
            ],
            [
             0.5555555555555556,
             "#d8576b"
            ],
            [
             0.6666666666666666,
             "#ed7953"
            ],
            [
             0.7777777777777778,
             "#fb9f3a"
            ],
            [
             0.8888888888888888,
             "#fdca26"
            ],
            [
             1,
             "#f0f921"
            ]
           ]
          },
          "colorway": [
           "#636efa",
           "#EF553B",
           "#00cc96",
           "#ab63fa",
           "#FFA15A",
           "#19d3f3",
           "#FF6692",
           "#B6E880",
           "#FF97FF",
           "#FECB52"
          ],
          "font": {
           "color": "#2a3f5f"
          },
          "geo": {
           "bgcolor": "white",
           "lakecolor": "white",
           "landcolor": "#E5ECF6",
           "showlakes": true,
           "showland": true,
           "subunitcolor": "white"
          },
          "hoverlabel": {
           "align": "left"
          },
          "hovermode": "closest",
          "mapbox": {
           "style": "light"
          },
          "paper_bgcolor": "white",
          "plot_bgcolor": "#E5ECF6",
          "polar": {
           "angularaxis": {
            "gridcolor": "white",
            "linecolor": "white",
            "ticks": ""
           },
           "bgcolor": "#E5ECF6",
           "radialaxis": {
            "gridcolor": "white",
            "linecolor": "white",
            "ticks": ""
           }
          },
          "scene": {
           "xaxis": {
            "backgroundcolor": "#E5ECF6",
            "gridcolor": "white",
            "gridwidth": 2,
            "linecolor": "white",
            "showbackground": true,
            "ticks": "",
            "zerolinecolor": "white"
           },
           "yaxis": {
            "backgroundcolor": "#E5ECF6",
            "gridcolor": "white",
            "gridwidth": 2,
            "linecolor": "white",
            "showbackground": true,
            "ticks": "",
            "zerolinecolor": "white"
           },
           "zaxis": {
            "backgroundcolor": "#E5ECF6",
            "gridcolor": "white",
            "gridwidth": 2,
            "linecolor": "white",
            "showbackground": true,
            "ticks": "",
            "zerolinecolor": "white"
           }
          },
          "shapedefaults": {
           "line": {
            "color": "#2a3f5f"
           }
          },
          "ternary": {
           "aaxis": {
            "gridcolor": "white",
            "linecolor": "white",
            "ticks": ""
           },
           "baxis": {
            "gridcolor": "white",
            "linecolor": "white",
            "ticks": ""
           },
           "bgcolor": "#E5ECF6",
           "caxis": {
            "gridcolor": "white",
            "linecolor": "white",
            "ticks": ""
           }
          },
          "title": {
           "x": 0.05
          },
          "xaxis": {
           "automargin": true,
           "gridcolor": "white",
           "linecolor": "white",
           "ticks": "",
           "title": {
            "standoff": 15
           },
           "zerolinecolor": "white",
           "zerolinewidth": 2
          },
          "yaxis": {
           "automargin": true,
           "gridcolor": "white",
           "linecolor": "white",
           "ticks": "",
           "title": {
            "standoff": 15
           },
           "zerolinecolor": "white",
           "zerolinewidth": 2
          }
         }
        },
        "title": {
         "automargin": false,
         "text": "<b>RdRp_FFF</b>: Tag Statistics",
         "yref": "container"
        },
        "xaxis": {
         "anchor": "y",
         "domain": [
          0,
          1
         ],
         "title": {
          "text": "Tag"
         }
        },
        "yaxis": {
         "anchor": "x",
         "domain": [
          0,
          1
         ],
         "title": {
          "text": "#"
         }
        }
       }
      },
      "image/png": "[encoded data removed]",
      "text/html": [
       "<div>                            <div id=\"6ff80a88-0b50-440e-b2c5-10cea7a7d241\" class=\"plotly-graph-div\" style=\"height:525px; width:100%;\"></div>            <script type=\"text/javascript\">                require([\"plotly\"], function(Plotly) {                    window.PLOTLYENV=window.PLOTLYENV || {};                                    if (document.getElementById(\"6ff80a88-0b50-440e-b2c5-10cea7a7d241\")) {                    Plotly.newPlot(                        \"6ff80a88-0b50-440e-b2c5-10cea7a7d241\",                        [{\"alignmentgroup\":\"True\",\"hovertemplate\":\"type=poses\\u003cbr\\u003etag=%{x}\\u003cbr\\u003enumber=%{y}\\u003cextra\\u003e\\u003c\\u002fextra\\u003e\",\"legendgroup\":\"poses\",\"marker\":{\"color\":\"#636efa\",\"pattern\":{\"shape\":\"\"}},\"name\":\"poses\",\"offsetgroup\":\"poses\",\"orientation\":\"v\",\"showlegend\":true,\"textposition\":\"auto\",\"x\":[\"AC curated INTERESTING\",\"AC curated YES\",\"DF curated INTERESTING\",\"DF curated YES\",\"Enamine_Order_1968912\",\"Enamine_Quote_1970815\",\"Enamine_Quote_1977854\",\"Enamine_unavailable\",\"Fragmenstein placed\",\"Green Site\\u002fRNA tunnel merge\",\"JA curated INTERESTING\",\"JA curated YES\",\"Knitwork impure merge\",\"Knitwork pure merge\",\"LCD curated INTERESTING\",\"LCD curated YES\",\"Primer grip\\u002fN-pocket merge\",\"RdRp_knitwork_green_site_rna_tunnel_impure_fragalysis.sdf Pose OK\",\"Thumb Site 2 merge\",\"acceptable\"],\"xaxis\":\"x\",\"y\":[3,5,11,5,26,25,61,18,105,83,13,26,57,48,8,41,8,51,14,105],\"yaxis\":\"y\",\"type\":\"bar\"}],                        {\"template\":{\"data\":{\"histogram2dcontour\":[{\"type\":\"histogram2dcontour\",\"colorbar\":{\"outlinewidth\":0,\"ticks\":\"\"},\"colorscale\":[[0.0,\"#0d0887\"],[0.1111111111111111,\"#46039f\"],[0.2222222222222222,\"#7201a8\"],[0.3333333333333333,\"#9c179e\"],[0.4444444444444444,\"#bd3786\"],[0.5555555555555556,\"#d8576b\"],[0.6666666666666666,\"#ed7953\"],[0.7777777777777778,\"#fb9f3a\"],[0.8888888888888888,\"#fdca26\"],[1.0,\"#f0f921\"]]}],\"choropleth\":[{\"type\":\"choropleth\",\"colorbar\":{\"outlinewidth\":0,\"ticks\":\"\"}}],\"histogram2d\":[{\"type\":\"histogram2d\",\"colorbar\":{\"outlinewidth\":0,\"ticks\":\"\"},\"colorscale\":[[0.0,\"#0d0887\"],[0.1111111111111111,\"#46039f\"],[0.2222222222222222,\"#7201a8\"],[0.3333333333333333,\"#9c179e\"],[0.4444444444444444,\"#bd3786\"],[0.5555555555555556,\"#d8576b\"],[0.6666666666666666,\"#ed7953\"],[0.7777777777777778,\"#fb9f3a\"],[0.8888888888888888,\"#fdca26\"],[1.0,\"#f0f921\"]]}],\"heatmap\":[{\"type\":\"heatmap\",\"colorbar\":{\"outlinewidth\":0,\"ticks\":\"\"},\"colorscale\":[[0.0,\"#0d0887\"],[0.1111111111111111,\"#46039f\"],[0.2222222222222222,\"#7201a8\"],[0.3333333333333333,\"#9c179e\"],[0.4444444444444444,\"#bd3786\"],[0.5555555555555556,\"#d8576b\"],[0.6666666666666666,\"#ed7953\"],[0.7777777777777778,\"#fb9f3a\"],[0.8888888888888888,\"#fdca26\"],[1.0,\"#f0f921\"]]}],\"heatmapgl\":[{\"type\":\"heatmapgl\",\"colorbar\":{\"outlinewidth\":0,\"ticks\":\"\"},\"colorscale\":[[0.0,\"#0d0887\"],[0.1111111111111111,\"#46039f\"],[0.2222222222222222,\"#7201a8\"],[0.3333333333333333,\"#9c179e\"],[0.4444444444444444,\"#bd3786\"],[0.5555555555555556,\"#d8576b\"],[0.6666666666666666,\"#ed7953\"],[0.7777777777777778,\"#fb9f3a\"],[0.8888888888888888,\"#fdca26\"],[1.0,\"#f0f921\"]]}],\"contourcarpet\":[{\"type\":\"contourcarpet\",\"colorbar\":{\"outlinewidth\":0,\"ticks\":\"\"}}],\"contour\":[{\"type\":\"contour\",\"colorbar\":{\"outlinewidth\":0,\"ticks\":\"\"},\"colorscale\":[[0.0,\"#0d0887\"],[0.1111111111111111,\"#46039f\"],[0.2222222222222222,\"#7201a8\"],[0.3333333333333333,\"#9c179e\"],[0.4444444444444444,\"#bd3786\"],[0.5555555555555556,\"#d8576b\"],[0.6666666666666666,\"#ed7953\"],[0.7777777777777778,\"#fb9f3a\"],[0.8888888888888888,\"#fdca26\"],[1.0,\"#f0f921\"]]}],\"surface\":[{\"type\":\"surface\",\"colorbar\":{\"outlinewidth\":0,\"ticks\":\"\"},\"colorscale\":[[0.0,\"#0d0887\"],[0.1111111111111111,\"#46039f\"],[0.2222222222222222,\"#7201a8\"],[0.3333333333333333,\"#9c179e\"],[0.4444444444444444,\"#bd3786\"],[0.5555555555555556,\"#d8576b\"],[0.6666666666666666,\"#ed7953\"],[0.7777777777777778,\"#fb9f3a\"],[0.8888888888888888,\"#fdca26\"],[1.0,\"#f0f921\"]]}],\"mesh3d\":[{\"type\":\"mesh3d\",\"colorbar\":{\"outlinewidth\":0,\"ticks\":\"\"}}],\"scatter\":[{\"fillpattern\":{\"fillmode\":\"overlay\",\"size\":10,\"solidity\":0.2},\"type\":\"scatter\"}],\"parcoords\":[{\"type\":\"parcoords\",\"line\":{\"colorbar\":{\"outlinewidth\":0,\"ticks\":\"\"}}}],\"scatterpolargl\":[{\"type\":\"scatterpolargl\",\"marker\":{\"colorbar\":{\"outlinewidth\":0,\"ticks\":\"\"}}}],\"bar\":[{\"error_x\":{\"color\":\"#2a3f5f\"},\"error_y\":{\"color\":\"#2a3f5f\"},\"marker\":{\"line\":{\"color\":\"#E5ECF6\",\"width\":0.5},\"pattern\":{\"fillmode\":\"overlay\",\"size\":10,\"solidity\":0.2}},\"type\":\"bar\"}],\"scattergeo\":[{\"type\":\"scattergeo\",\"marker\":{\"colorbar\":{\"outlinewidth\":0,\"ticks\":\"\"}}}],\"scatterpolar\":[{\"type\":\"scatterpolar\",\"marker\":{\"colorbar\":{\"outlinewidth\":0,\"ticks\":\"\"}}}],\"histogram\":[{\"marker\":{\"pattern\":{\"fillmode\":\"overlay\",\"size\":10,\"solidity\":0.2}},\"type\":\"histogram\"}],\"scattergl\":[{\"type\":\"scattergl\",\"marker\":{\"colorbar\":{\"outlinewidth\":0,\"ticks\":\"\"}}}],\"scatter3d\":[{\"type\":\"scatter3d\",\"line\":{\"colorbar\":{\"outlinewidth\":0,\"ticks\":\"\"}},\"marker\":{\"colorbar\":{\"outlinewidth\":0,\"ticks\":\"\"}}}],\"scattermapbox\":[{\"type\":\"scattermapbox\",\"marker\":{\"colorbar\":{\"outlinewidth\":0,\"ticks\":\"\"}}}],\"scatterternary\":[{\"type\":\"scatterternary\",\"marker\":{\"colorbar\":{\"outlinewidth\":0,\"ticks\":\"\"}}}],\"scattercarpet\":[{\"type\":\"scattercarpet\",\"marker\":{\"colorbar\":{\"outlinewidth\":0,\"ticks\":\"\"}}}],\"carpet\":[{\"aaxis\":{\"endlinecolor\":\"#2a3f5f\",\"gridcolor\":\"white\",\"linecolor\":\"white\",\"minorgridcolor\":\"white\",\"startlinecolor\":\"#2a3f5f\"},\"baxis\":{\"endlinecolor\":\"#2a3f5f\",\"gridcolor\":\"white\",\"linecolor\":\"white\",\"minorgridcolor\":\"white\",\"startlinecolor\":\"#2a3f5f\"},\"type\":\"carpet\"}],\"table\":[{\"cells\":{\"fill\":{\"color\":\"#EBF0F8\"},\"line\":{\"color\":\"white\"}},\"header\":{\"fill\":{\"color\":\"#C8D4E3\"},\"line\":{\"color\":\"white\"}},\"type\":\"table\"}],\"barpolar\":[{\"marker\":{\"line\":{\"color\":\"#E5ECF6\",\"width\":0.5},\"pattern\":{\"fillmode\":\"overlay\",\"size\":10,\"solidity\":0.2}},\"type\":\"barpolar\"}],\"pie\":[{\"automargin\":true,\"type\":\"pie\"}]},\"layout\":{\"autotypenumbers\":\"strict\",\"colorway\":[\"#636efa\",\"#EF553B\",\"#00cc96\",\"#ab63fa\",\"#FFA15A\",\"#19d3f3\",\"#FF6692\",\"#B6E880\",\"#FF97FF\",\"#FECB52\"],\"font\":{\"color\":\"#2a3f5f\"},\"hovermode\":\"closest\",\"hoverlabel\":{\"align\":\"left\"},\"paper_bgcolor\":\"white\",\"plot_bgcolor\":\"#E5ECF6\",\"polar\":{\"bgcolor\":\"#E5ECF6\",\"angularaxis\":{\"gridcolor\":\"white\",\"linecolor\":\"white\",\"ticks\":\"\"},\"radialaxis\":{\"gridcolor\":\"white\",\"linecolor\":\"white\",\"ticks\":\"\"}},\"ternary\":{\"bgcolor\":\"#E5ECF6\",\"aaxis\":{\"gridcolor\":\"white\",\"linecolor\":\"white\",\"ticks\":\"\"},\"baxis\":{\"gridcolor\":\"white\",\"linecolor\":\"white\",\"ticks\":\"\"},\"caxis\":{\"gridcolor\":\"white\",\"linecolor\":\"white\",\"ticks\":\"\"}},\"coloraxis\":{\"colorbar\":{\"outlinewidth\":0,\"ticks\":\"\"}},\"colorscale\":{\"sequential\":[[0.0,\"#0d0887\"],[0.1111111111111111,\"#46039f\"],[0.2222222222222222,\"#7201a8\"],[0.3333333333333333,\"#9c179e\"],[0.4444444444444444,\"#bd3786\"],[0.5555555555555556,\"#d8576b\"],[0.6666666666666666,\"#ed7953\"],[0.7777777777777778,\"#fb9f3a\"],[0.8888888888888888,\"#fdca26\"],[1.0,\"#f0f921\"]],\"sequentialminus\":[[0.0,\"#0d0887\"],[0.1111111111111111,\"#46039f\"],[0.2222222222222222,\"#7201a8\"],[0.3333333333333333,\"#9c179e\"],[0.4444444444444444,\"#bd3786\"],[0.5555555555555556,\"#d8576b\"],[0.6666666666666666,\"#ed7953\"],[0.7777777777777778,\"#fb9f3a\"],[0.8888888888888888,\"#fdca26\"],[1.0,\"#f0f921\"]],\"diverging\":[[0,\"#8e0152\"],[0.1,\"#c51b7d\"],[0.2,\"#de77ae\"],[0.3,\"#f1b6da\"],[0.4,\"#fde0ef\"],[0.5,\"#f7f7f7\"],[0.6,\"#e6f5d0\"],[0.7,\"#b8e186\"],[0.8,\"#7fbc41\"],[0.9,\"#4d9221\"],[1,\"#276419\"]]},\"xaxis\":{\"gridcolor\":\"white\",\"linecolor\":\"white\",\"ticks\":\"\",\"title\":{\"standoff\":15},\"zerolinecolor\":\"white\",\"automargin\":true,\"zerolinewidth\":2},\"yaxis\":{\"gridcolor\":\"white\",\"linecolor\":\"white\",\"ticks\":\"\",\"title\":{\"standoff\":15},\"zerolinecolor\":\"white\",\"automargin\":true,\"zerolinewidth\":2},\"scene\":{\"xaxis\":{\"backgroundcolor\":\"#E5ECF6\",\"gridcolor\":\"white\",\"linecolor\":\"white\",\"showbackground\":true,\"ticks\":\"\",\"zerolinecolor\":\"white\",\"gridwidth\":2},\"yaxis\":{\"backgroundcolor\":\"#E5ECF6\",\"gridcolor\":\"white\",\"linecolor\":\"white\",\"showbackground\":true,\"ticks\":\"\",\"zerolinecolor\":\"white\",\"gridwidth\":2},\"zaxis\":{\"backgroundcolor\":\"#E5ECF6\",\"gridcolor\":\"white\",\"linecolor\":\"white\",\"showbackground\":true,\"ticks\":\"\",\"zerolinecolor\":\"white\",\"gridwidth\":2}},\"shapedefaults\":{\"line\":{\"color\":\"#2a3f5f\"}},\"annotationdefaults\":{\"arrowcolor\":\"#2a3f5f\",\"arrowhead\":0,\"arrowwidth\":1},\"geo\":{\"bgcolor\":\"white\",\"landcolor\":\"#E5ECF6\",\"subunitcolor\":\"white\",\"showland\":true,\"showlakes\":true,\"lakecolor\":\"white\"},\"title\":{\"x\":0.05},\"mapbox\":{\"style\":\"light\"}}},\"xaxis\":{\"anchor\":\"y\",\"domain\":[0.0,1.0],\"title\":{\"text\":\"Tag\"}},\"yaxis\":{\"anchor\":\"x\",\"domain\":[0.0,1.0],\"title\":{\"text\":\"#\"}},\"legend\":{\"title\":{\"text\":\"type\"},\"tracegroupgap\":0},\"margin\":{\"t\":60},\"barmode\":\"group\",\"title\":{\"text\":\"\\u003cb\\u003eRdRp_FFF\\u003c\\u002fb\\u003e: Tag Statistics\",\"automargin\":false,\"yref\":\"container\"},\"images\":[{\"sizex\":0.3,\"sizey\":0.3,\"source\":\"https:\\u002f\\u002fraw.githubusercontent.com\\u002fmwinokan\\u002fHIPPO\\u002fmain\\u002flogos\\u002fhippo_logo_tightcrop.png\",\"x\":0.95,\"xanchor\":\"right\",\"xref\":\"paper\",\"y\":0.95,\"yanchor\":\"top\",\"yref\":\"paper\"}]},                        {\"responsive\": true}                    ).then(function(){\n",
       "                            \n",
       "var gd = document.getElementById('6ff80a88-0b50-440e-b2c5-10cea7a7d241');\n",
       "var x = new MutationObserver(function (mutations, observer) {{\n",
       "        var display = window.getComputedStyle(gd).display;\n",
       "        if (!display || display === 'none') {{\n",
       "            console.log([gd, 'removed!']);\n",
       "            Plotly.purge(gd);\n",
       "            observer.disconnect();\n",
       "        }}\n",
       "}});\n",
       "\n",
       "// Listen for the removal of the full notebook cells\n",
       "var notebookContainer = gd.closest('#notebook-container');\n",
       "if (notebookContainer) {{\n",
       "    x.observe(notebookContainer, {childList: true});\n",
       "}}\n",
       "\n",
       "// Listen for the clearing of the current output cell\n",
       "var outputEl = gd.closest('.output');\n",
       "if (outputEl) {{\n",
       "    x.observe(outputEl, {childList: true});\n",
       "}}\n",
       "\n",
       "                        })                };                });            </script>        </div>"
      ]
     },
     "metadata": {},
     "output_type": "display_data"
    }
   ],
   "source": [
    "animal.plot_tag_statistics(poses=pset, compounds=pset.compounds, show_compounds=False)"
   ]
  },
  {
   "cell_type": "code",
   "execution_count": 29,
   "id": "1715f44e-79b9-4fff-9119-8ab007fb05fc",
   "metadata": {},
   "outputs": [
    {
     "data": {
      "text/plain": [
       "{'AC curated INTERESTING',\n",
       " 'AC curated YES',\n",
       " 'DF curated INTERESTING',\n",
       " 'DF curated YES',\n",
       " 'Enamine_Order_1968912',\n",
       " 'Enamine_Quote_1970815',\n",
       " 'Enamine_Quote_1977854',\n",
       " 'Enamine_unavailable',\n",
       " 'Fragmenstein placed',\n",
       " 'Green Site/RNA tunnel merge',\n",
       " 'JA curated INTERESTING',\n",
       " 'JA curated YES',\n",
       " 'Knitwork impure merge',\n",
       " 'Knitwork pure merge',\n",
       " 'LCD curated INTERESTING',\n",
       " 'LCD curated YES',\n",
       " 'Primer grip/N-pocket merge',\n",
       " 'RdRp_knitwork_green_site_rna_tunnel_impure_fragalysis.sdf Pose OK',\n",
       " 'Thumb Site 2 merge',\n",
       " 'acceptable'}"
      ]
     },
     "execution_count": 29,
     "metadata": {},
     "output_type": "execute_result"
    }
   ],
   "source": [
    "pset.tags"
   ]
  },
  {
   "cell_type": "code",
   "execution_count": 30,
   "id": "b8a8e3c3-2a71-4382-a960-a5855e70681a",
   "metadata": {},
   "outputs": [
    {
     "data": {
      "text/plain": [
       "\u001b[1m\u001b[4m{C × 67}\u001b[22m\u001b[24m"
      ]
     },
     "execution_count": 30,
     "metadata": {},
     "output_type": "execute_result"
    }
   ],
   "source": [
    "pset.compounds"
   ]
  },
  {
   "cell_type": "code",
   "execution_count": 31,
   "id": "a5644c5c-8dac-493d-a60a-b769504dbf17",
   "metadata": {},
   "outputs": [
    {
     "data": {
      "application/vnd.jupyter.widget-view+json": {
       "model_id": "74e4804bacb94be7983754e753706c62",
       "version_major": 2,
       "version_minor": 0
      },
      "text/plain": [
       "Output()"
      ]
     },
     "metadata": {},
     "output_type": "display_data"
    },
    {
     "data": {
      "text/html": [
       "<pre style=\"white-space:pre;overflow-x:auto;line-height:normal;font-family:Menlo,'DejaVu Sans Mono',consolas,'Courier New',monospace;margin:0px\"></pre>\n"
      ],
      "text/plain": []
     },
     "metadata": {},
     "output_type": "display_data"
    },
    {
     "data": {
      "text/html": [
       "<pre style=\"white-space:pre;overflow-x:auto;line-height:normal;font-family:Menlo,'DejaVu Sans Mono',consolas,'Courier New',monospace;margin:0px\"><span style=\"background-color: #d7af00; font-weight: bold\"> DISK </span> Writing <span style=\"color: #d7af00; text-decoration-color: #d7af00\">../quotes/combined_jan2025_ordered.sdf</span>...\n",
       "</pre>\n"
      ],
      "text/plain": [
       "\u001b[1;7;38;5;178m DISK \u001b[0m Writing \u001b[38;5;178m../quotes/combined_jan2025_ordered.sdf\u001b[0m...\n"
      ]
     },
     "metadata": {},
     "output_type": "display_data"
    }
   ],
   "source": [
    "pset.write_sdf(\"../quotes/combined_jan2025_ordered.sdf\", reference=False, inspirations=None,)"
   ]
  },
  {
   "cell_type": "code",
   "execution_count": null,
   "id": "e0c85bef-336b-4070-a315-3b94d81f011a",
   "metadata": {},
   "outputs": [],
   "source": []
  }
 ],
 "metadata": {
  "kernelspec": {
   "display_name": "Python 3 (ipykernel)",
   "language": "python",
   "name": "python3"
  },
  "language_info": {
   "codemirror_mode": {
    "name": "ipython",
    "version": 3
   },
   "file_extension": ".py",
   "mimetype": "text/x-python",
   "name": "python",
   "nbconvert_exporter": "python",
   "pygments_lexer": "ipython3",
   "version": "3.12.8"
  }
 },
 "nbformat": 4,
 "nbformat_minor": 5
}
