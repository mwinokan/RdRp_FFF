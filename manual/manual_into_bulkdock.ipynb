{
 "cells": [
  {
   "cell_type": "code",
   "execution_count": 1,
   "id": "6c314909-3ed1-4663-a693-bd3f6816919a",
   "metadata": {},
   "outputs": [],
   "source": [
    "%load_ext autoreload\n",
    "%autoreload 2\n",
    "import hippo\n",
    "import pandas as pd\n",
    "import molparse as mp\n",
    "from rdkit.Chem import PandasTools, MolToMolFile\n",
    "from pathlib import Path"
   ]
  },
  {
   "cell_type": "code",
   "execution_count": 2,
   "id": "753907c2-da0f-4244-b61b-49e114854be8",
   "metadata": {},
   "outputs": [
    {
     "data": {
      "text/html": [
       "<pre style=\"white-space:pre;overflow-x:auto;line-height:normal;font-family:Menlo,'DejaVu Sans Mono',consolas,'Courier New',monospace\"><span style=\"font-weight: bold\"> Creating HIPPO animal</span>\n",
       "</pre>\n"
      ],
      "text/plain": [
       "\u001b[1m Creating HIPPO animal\u001b[0m\n"
      ]
     },
     "metadata": {},
     "output_type": "display_data"
    },
    {
     "data": {
      "text/html": [
       "<pre style=\"white-space:pre;overflow-x:auto;line-height:normal;font-family:Menlo,'DejaVu Sans Mono',consolas,'Courier New',monospace\"><span style=\"color: #008080; text-decoration-color: #008080; font-weight: bold\">name</span> = <span style=\"color: #00d7af; text-decoration-color: #00d7af\">Bulkdock</span>\n",
       "</pre>\n"
      ],
      "text/plain": [
       "\u001b[1;36mname\u001b[0m = \u001b[38;5;43mBulkdock\u001b[0m\n"
      ]
     },
     "metadata": {},
     "output_type": "display_data"
    },
    {
     "data": {
      "text/html": [
       "<pre style=\"white-space:pre;overflow-x:auto;line-height:normal;font-family:Menlo,'DejaVu Sans Mono',consolas,'Courier New',monospace\"><span style=\"color: #008080; text-decoration-color: #008080; font-weight: bold\">db_path</span> = <span style=\"color: #d7af00; text-decoration-color: #d7af00\">../../BulkDock/TARGETS/Flavi_NS5_RdRp/Flavi_NS5_RdRp.sqlite</span>\n",
       "</pre>\n"
      ],
      "text/plain": [
       "\u001b[1;36mdb_path\u001b[0m = \u001b[38;5;178m../../BulkDock/TARGETS/Flavi_NS5_RdRp/Flavi_NS5_RdRp.sqlite\u001b[0m\n"
      ]
     },
     "metadata": {},
     "output_type": "display_data"
    },
    {
     "data": {
      "text/html": [
       "<pre style=\"white-space:pre;overflow-x:auto;line-height:normal;font-family:Menlo,'DejaVu Sans Mono',consolas,'Courier New',monospace\"><span style=\"color: #808080; text-decoration-color: #808080\">DEBUG: hippo.Database.__init__()</span>\n",
       "</pre>\n"
      ],
      "text/plain": [
       "\u001b[90mDEBUG: hippo.Database.__init__()\u001b[0m\n"
      ]
     },
     "metadata": {},
     "output_type": "display_data"
    },
    {
     "data": {
      "text/html": [
       "<pre style=\"white-space:pre;overflow-x:auto;line-height:normal;font-family:Menlo,'DejaVu Sans Mono',consolas,'Courier New',monospace\"><span style=\"color: #808080; text-decoration-color: #808080\">DEBUG: Database.path = ../../BulkDock/TARGETS/Flavi_NS5_RdRp/Flavi_NS5_RdRp.sqlite</span>\n",
       "</pre>\n"
      ],
      "text/plain": [
       "\u001b[90mDEBUG: Database.path = ../../BulkDock/TARGETS/Flavi_NS5_RdRp/Flavi_NS5_RdRp.sqlite\u001b[0m\n"
      ]
     },
     "metadata": {},
     "output_type": "display_data"
    },
    {
     "data": {
      "text/html": [
       "<pre style=\"white-space:pre;overflow-x:auto;line-height:normal;font-family:Menlo,'DejaVu Sans Mono',consolas,'Courier New',monospace\"><span style=\"color: #808080; text-decoration-color: #808080\">DEBUG: hippo.Database.connect()</span>\n",
       "</pre>\n"
      ],
      "text/plain": [
       "\u001b[90mDEBUG: hippo.Database.connect()\u001b[0m\n"
      ]
     },
     "metadata": {},
     "output_type": "display_data"
    },
    {
     "data": {
      "text/html": [
       "<pre style=\"white-space:pre;overflow-x:auto;line-height:normal;font-family:Menlo,'DejaVu Sans Mono',consolas,'Courier New',monospace\"><span style=\"color: #808080; text-decoration-color: #808080\">DEBUG: sqlite3.version='2.6.0'</span>\n",
       "</pre>\n"
      ],
      "text/plain": [
       "\u001b[90mDEBUG: sqlite3.version='2.6.0'\u001b[0m\n"
      ]
     },
     "metadata": {},
     "output_type": "display_data"
    },
    {
     "data": {
      "text/html": [
       "<pre style=\"white-space:pre;overflow-x:auto;line-height:normal;font-family:Menlo,'DejaVu Sans Mono',consolas,'Courier New',monospace\"><span style=\"background-color: #008000; font-weight: bold\"> Success </span><span style=\"color: #008000; text-decoration-color: #008000; font-weight: bold\"> Database connected @</span><span style=\"color: #d7af00; text-decoration-color: #d7af00; font-weight: bold\"> ../../BulkDock/TARGETS/Flavi_NS5_RdRp/Flavi_NS5_RdRp.sqlite!</span>\n",
       "</pre>\n"
      ],
      "text/plain": [
       "\u001b[1;7;32m Success \u001b[0m\u001b[1;32m Database connected @\u001b[0m\u001b[1;38;5;178m ../../BulkDock/TARGETS/Flavi_NS5_RdRp/Flavi_NS5_RdRp.sqlite!\u001b[0m\n"
      ]
     },
     "metadata": {},
     "output_type": "display_data"
    },
    {
     "data": {
      "text/html": [
       "<pre style=\"white-space:pre;overflow-x:auto;line-height:normal;font-family:Menlo,'DejaVu Sans Mono',consolas,'Courier New',monospace\"><span style=\"background-color: #008000; font-weight: bold\"> Success </span><span style=\"color: #008000; text-decoration-color: #008000; font-weight: bold\"> Initialised animal</span><span style=\"color: #008080; text-decoration-color: #008080; font-weight: bold\"> HIPPO(\"Bulkdock\")!</span>\n",
       "</pre>\n"
      ],
      "text/plain": [
       "\u001b[1;7;32m Success \u001b[0m\u001b[1;32m Initialised animal\u001b[0m\u001b[1;36m HIPPO(\"Bulkdock\")!\u001b[0m\n"
      ]
     },
     "metadata": {},
     "output_type": "display_data"
    }
   ],
   "source": [
    "animal = hippo.HIPPO(\"Bulkdock\", \"../../BulkDock/TARGETS/Flavi_NS5_RdRp/Flavi_NS5_RdRp.sqlite\")"
   ]
  },
  {
   "cell_type": "code",
   "execution_count": 21,
   "id": "c9e6d577-20ec-49a3-8f8d-e94cb305a7d0",
   "metadata": {},
   "outputs": [],
   "source": [
    "sdf = \"JA_primergrip_seesar/fragmentmergesprimergrip.sdf\"\n",
    "csv = \"JA_primergrip_seesar/Primergrip_JA_SeeSar_to_bulkdock.csv\"\n",
    "\n",
    "sdf = \"JA_primergrip_seesar/fragmentmergesprimergrip_2.sdf\"\n",
    "csv = \"JA_primergrip_seesar/Primergrip_JA_SeeSar_2_to_bulkdock.csv\"\n",
    "\n",
    "sdf = \"JA_green_seesar/20241217_green-site.sdf\"\n",
    "csv = \"JA_green_seesar/Green_JA_SeeSar_to_bulkdock.csv\"\n",
    "\n",
    "sdf = \"DF_npocket/DF-RdRp-NP1.sdf\"\n",
    "csv = \"DF_npocket/DF_npocket_to_bulkdock.csv\"\n",
    "\n",
    "sdf = \"DF_npocket/DF-RdRp-NP2.sdf\"\n",
    "csv = \"DF_npocket/DF_npocket_to_bulkdock.csv\""
   ]
  },
  {
   "cell_type": "code",
   "execution_count": 22,
   "id": "0463d20a-0b5f-4475-921b-250723509d00",
   "metadata": {},
   "outputs": [],
   "source": [
    "out_dir = Path(csv).parent / Path(csv).name.removesuffix(\"_to_bulkdock.csv\")\n",
    "out_dir.mkdir(exist_ok=True)"
   ]
  },
  {
   "cell_type": "code",
   "execution_count": 23,
   "id": "d08ccbea-832a-4373-b100-ddaa5a2c6483",
   "metadata": {},
   "outputs": [
    {
     "name": "stderr",
     "output_type": "stream",
     "text": [
      "[14:04:31] Warning: molecule is tagged as 2D, but at least one Z coordinate is not zero. Marking the mol as 3D.\n",
      "[14:04:31] Warning: molecule is tagged as 2D, but at least one Z coordinate is not zero. Marking the mol as 3D.\n",
      "[14:04:31] Warning: molecule is tagged as 2D, but at least one Z coordinate is not zero. Marking the mol as 3D.\n",
      "[14:04:31] Warning: molecule is tagged as 2D, but at least one Z coordinate is not zero. Marking the mol as 3D.\n",
      "[14:04:31] Warning: molecule is tagged as 2D, but at least one Z coordinate is not zero. Marking the mol as 3D.\n",
      "[14:04:31] Warning: molecule is tagged as 2D, but at least one Z coordinate is not zero. Marking the mol as 3D.\n",
      "[14:04:31] Warning: molecule is tagged as 2D, but at least one Z coordinate is not zero. Marking the mol as 3D.\n",
      "[14:04:31] Warning: molecule is tagged as 2D, but at least one Z coordinate is not zero. Marking the mol as 3D.\n",
      "[14:04:31] Warning: molecule is tagged as 2D, but at least one Z coordinate is not zero. Marking the mol as 3D.\n",
      "[14:04:31] Warning: molecule is tagged as 2D, but at least one Z coordinate is not zero. Marking the mol as 3D.\n",
      "[14:04:31] Warning: molecule is tagged as 2D, but at least one Z coordinate is not zero. Marking the mol as 3D.\n",
      "[14:04:31] Warning: molecule is tagged as 2D, but at least one Z coordinate is not zero. Marking the mol as 3D.\n",
      "[14:04:31] Warning: molecule is tagged as 2D, but at least one Z coordinate is not zero. Marking the mol as 3D.\n",
      "[14:04:31] Warning: molecule is tagged as 2D, but at least one Z coordinate is not zero. Marking the mol as 3D.\n",
      "[14:04:31] Warning: molecule is tagged as 2D, but at least one Z coordinate is not zero. Marking the mol as 3D.\n",
      "[14:04:31] Warning: molecule is tagged as 2D, but at least one Z coordinate is not zero. Marking the mol as 3D.\n",
      "[14:04:31] Warning: molecule is tagged as 2D, but at least one Z coordinate is not zero. Marking the mol as 3D.\n",
      "[14:04:31] Warning: molecule is tagged as 2D, but at least one Z coordinate is not zero. Marking the mol as 3D.\n",
      "[14:04:31] Warning: molecule is tagged as 2D, but at least one Z coordinate is not zero. Marking the mol as 3D.\n",
      "[14:04:31] Warning: molecule is tagged as 2D, but at least one Z coordinate is not zero. Marking the mol as 3D.\n",
      "[14:04:31] Warning: molecule is tagged as 2D, but at least one Z coordinate is not zero. Marking the mol as 3D.\n",
      "[14:04:31] Warning: molecule is tagged as 2D, but at least one Z coordinate is not zero. Marking the mol as 3D.\n",
      "[14:04:31] Warning: molecule is tagged as 2D, but at least one Z coordinate is not zero. Marking the mol as 3D.\n",
      "[14:04:31] Warning: molecule is tagged as 2D, but at least one Z coordinate is not zero. Marking the mol as 3D.\n"
     ]
    }
   ],
   "source": [
    "df_csv = pd.read_csv(csv)\n",
    "df_sdf = PandasTools.LoadSDF(sdf)\n",
    "# df_csv"
   ]
  },
  {
   "cell_type": "code",
   "execution_count": 24,
   "id": "64072f2d-1b82-4b2e-8550-108ccca267eb",
   "metadata": {},
   "outputs": [
    {
     "data": {
      "text/plain": [
       "{70811: ['d0472a', '5hmz-a'],\n",
       " 70812: ['d0472a', '5hmz-a'],\n",
       " 70813: ['d0472a', '5hmz-a'],\n",
       " 70814: ['d0472a', '5hmy-a'],\n",
       " 70815: ['d0472a', '5hmz-a'],\n",
       " 70816: ['d0472a', '5hmz-a'],\n",
       " 70817: ['d0472a', '5hmz-a'],\n",
       " 70818: ['d0472a', '5i3q-a'],\n",
       " 70819: ['d0472a', '5i3q-a'],\n",
       " 70820: ['d0472a', '5i3q-a'],\n",
       " 70821: ['d0472a', '5i3q-a'],\n",
       " 70822: ['d0472a', '5hmz-a'],\n",
       " 70823: ['d0472a', '5hmz-a'],\n",
       " 70824: ['d0472a', '5hmz-a'],\n",
       " 70825: ['d0472a', '5hmz-a', 'd0160a'],\n",
       " 70826: ['d0472a', '5hmz-a', 'd0160a'],\n",
       " 70827: ['d0472a', '5hmz-a', 'd0160a'],\n",
       " 70828: ['d0472a', '5hmz-a', 'd0191a'],\n",
       " 70829: ['d0472a', '5hmz-a', 'd0191a'],\n",
       " 70830: ['d0472a', '5hmz-a', 'd0191a'],\n",
       " 70831: ['d0472a', 'z0875c'],\n",
       " 70832: ['d0472a', 'd0612a'],\n",
       " 67403: ['d0254a', 'd0191a'],\n",
       " 70833: ['d0472a', 'd0612a'],\n",
       " 70834: ['d0472a', 'd0612a'],\n",
       " 70835: ['d0472a', 'd0612a'],\n",
       " 70836: ['d0472a', 'd0612a'],\n",
       " 67424: ['d0254a', 'd0191a'],\n",
       " 67427: ['d0254a', 'd0615b'],\n",
       " 70837: ['d0472a', 'd0612a'],\n",
       " 70838: ['d0160a', 'd0472a', 'z0875c'],\n",
       " 70839: ['d0191a', 'd0472a'],\n",
       " 70840: ['d0160a', 'd0472a', 'z0875c'],\n",
       " 70841: ['d0472a', 'd0612a'],\n",
       " 70842: ['d0472a', 'd0612a'],\n",
       " 70843: ['d0160a', 'd0472a'],\n",
       " 70844: ['d0160a', 'd0472a'],\n",
       " 70845: ['d0160a', 'd0472a'],\n",
       " 67405: ['d0191a', 'd0472a'],\n",
       " 70846: ['d0160a', 'd0472a'],\n",
       " 70847: ['d0160a', 'd0472a'],\n",
       " 70848: ['d0160a', 'd0472a'],\n",
       " 70849: ['d0160a', 'd0472a'],\n",
       " 70850: ['d0174a', 'd0279a', 'd0615a'],\n",
       " 70851: ['d0174a', 'd0279a', 'd0615a'],\n",
       " 70852: ['d0174a', 'd0279a', 'd0615a'],\n",
       " 70853: ['d0174a', 'd0279a', 'd0615a'],\n",
       " 70854: ['v495a'],\n",
       " 70855: ['v511a']}"
      ]
     },
     "execution_count": 24,
     "metadata": {},
     "output_type": "execute_result"
    }
   ],
   "source": [
    "lookup = {}\n",
    "for i,row in df_csv.iterrows():\n",
    "    compound = animal.compounds(smiles=row.smiles)\n",
    "    lookup[compound.id] = [v for v in row.values[1:] if not pd.isna(v)]\n",
    "lookup"
   ]
  },
  {
   "cell_type": "code",
   "execution_count": 25,
   "id": "e456bc25-f08b-4ad0-acaf-a4feb2ab1a9a",
   "metadata": {},
   "outputs": [
    {
     "name": "stdout",
     "output_type": "stream",
     "text": [
      "DF-RdRp-NP021;  <rdkit.Chem.rdchem.Mol object at 0x7f80ebdc6570>\n",
      "DF-RdRp-NP022 <rdkit.Chem.rdchem.Mol object at 0x7f80ebdc7ca0>\n",
      "DF-RdRp-NP023 <rdkit.Chem.rdchem.Mol object at 0x7f80ed223220>\n",
      "DF-RdRp-NP024 <rdkit.Chem.rdchem.Mol object at 0x7f80ebb8fed0>\n",
      "DF-RdRp-NP025 <rdkit.Chem.rdchem.Mol object at 0x7f80ebb8d380>\n",
      "DF-RdRp-NP026 <rdkit.Chem.rdchem.Mol object at 0x7f80ebb8c430>\n",
      "DF-RdRp-NP027 <rdkit.Chem.rdchem.Mol object at 0x7f80ebb8e7a0>\n",
      "DF-RdRp-NP028 <rdkit.Chem.rdchem.Mol object at 0x7f80ebb8f3e0>\n",
      "DF-RdRp-NP029 <rdkit.Chem.rdchem.Mol object at 0x7f80ebb8ff40>\n",
      "DF-RdRp-NP030 <rdkit.Chem.rdchem.Mol object at 0x7f80ebb8c4a0>\n",
      "DF-RdRp-NP031 <rdkit.Chem.rdchem.Mol object at 0x7f80ebb8d000>\n",
      "DF-RdRp-NP032 <rdkit.Chem.rdchem.Mol object at 0x7f80ebb8c200>\n",
      "DF-RdRp-NP033 <rdkit.Chem.rdchem.Mol object at 0x7f80ebb8f7d0>\n",
      "DF-RdRp-NP034 <rdkit.Chem.rdchem.Mol object at 0x7f80ebb8ee30>\n",
      "DF-RdRp-NP035 <rdkit.Chem.rdchem.Mol object at 0x7f80ebb8ef10>\n",
      "DF-RdRp-NP036 <rdkit.Chem.rdchem.Mol object at 0x7f80ebb8f610>\n",
      "DF-RdRp-NP037 <rdkit.Chem.rdchem.Mol object at 0x7f80ebb44e40>\n",
      "DF-RdRp-NP038 <rdkit.Chem.rdchem.Mol object at 0x7f80ebb453f0>\n",
      "DF-RdRp-NP039 <rdkit.Chem.rdchem.Mol object at 0x7f80ebb46490>\n",
      "DF-RdRp-NP040 <rdkit.Chem.rdchem.Mol object at 0x7f80ebb47060>\n",
      "DF-RdRp-NP041 <rdkit.Chem.rdchem.Mol object at 0x7f80ebb47d80>\n",
      "DF-RdRp-NP042 <rdkit.Chem.rdchem.Mol object at 0x7f80ebb45070>\n",
      "DF-RdRp-NP043 <rdkit.Chem.rdchem.Mol object at 0x7f80ebb46180>\n",
      "DF-RdRp-NP044 <rdkit.Chem.rdchem.Mol object at 0x7f80ebb473e0>\n"
     ]
    }
   ],
   "source": [
    "# create mol files\n",
    "for i,row in df_sdf.iterrows():\n",
    "    if not row.ID.startswith(\"DF\"):\n",
    "        continue\n",
    "    print(row.ID, row.ROMol)\n",
    "    MolToMolFile(row.ROMol, out_dir / f\"{row.ID}.mol\")"
   ]
  },
  {
   "cell_type": "code",
   "execution_count": 26,
   "id": "4a1c7489-21c3-4c6e-abee-e9b60d979d93",
   "metadata": {},
   "outputs": [
    {
     "name": "stdout",
     "output_type": "stream",
     "text": [
      "DF-RdRp-NP021;  C70831 [42, 170] DF_npocket/DF_npocket/DF-RdRp-NP021; .mol\n",
      "P220526\n",
      "DF-RdRp-NP022 C70832 [42, 49] DF_npocket/DF_npocket/DF-RdRp-NP022.mol\n",
      "P220527\n",
      "DF-RdRp-NP023 C70832 [42, 49] DF_npocket/DF_npocket/DF-RdRp-NP023.mol\n",
      "P220528\n",
      "DF-RdRp-NP024 C67403 [19, 26] DF_npocket/DF_npocket/DF-RdRp-NP024.mol\n",
      "P220529\n",
      "DF-RdRp-NP025 C70833 [42, 49] DF_npocket/DF_npocket/DF-RdRp-NP025.mol\n",
      "P220530\n",
      "DF-RdRp-NP026 C70834 [42, 49] DF_npocket/DF_npocket/DF-RdRp-NP026.mol\n",
      "P220531\n",
      "DF-RdRp-NP027 C70835 [42, 49] DF_npocket/DF_npocket/DF-RdRp-NP027.mol\n",
      "P220532\n",
      "DF-RdRp-NP028 C70836 [42, 49] DF_npocket/DF_npocket/DF-RdRp-NP028.mol\n",
      "P220533\n",
      "DF-RdRp-NP029 C67424 [19, 26] DF_npocket/DF_npocket/DF-RdRp-NP029.mol\n",
      "P220534\n",
      "DF-RdRp-NP030 C67427 [26, 51] DF_npocket/DF_npocket/DF-RdRp-NP030.mol\n",
      "P220535\n",
      "DF-RdRp-NP031 C70837 [42, 49] DF_npocket/DF_npocket/DF-RdRp-NP031.mol\n",
      "P220536\n",
      "DF-RdRp-NP032 C70838 [12, 42, 170] DF_npocket/DF_npocket/DF-RdRp-NP032.mol\n",
      "P220537\n",
      "DF-RdRp-NP033 C70839 [19, 42] DF_npocket/DF_npocket/DF-RdRp-NP033.mol\n",
      "P220538\n",
      "DF-RdRp-NP034 C70840 [12, 42, 170] DF_npocket/DF_npocket/DF-RdRp-NP034.mol\n",
      "P220539\n",
      "DF-RdRp-NP035 C70841 [42, 49] DF_npocket/DF_npocket/DF-RdRp-NP035.mol\n",
      "P220540\n",
      "DF-RdRp-NP036 C70842 [42, 49] DF_npocket/DF_npocket/DF-RdRp-NP036.mol\n",
      "P220541\n",
      "DF-RdRp-NP037 C70843 [12, 42] DF_npocket/DF_npocket/DF-RdRp-NP037.mol\n",
      "P220542\n",
      "DF-RdRp-NP038 C70844 [12, 42] DF_npocket/DF_npocket/DF-RdRp-NP038.mol\n",
      "P220543\n",
      "DF-RdRp-NP039 C70845 [12, 42] DF_npocket/DF_npocket/DF-RdRp-NP039.mol\n",
      "P220544\n",
      "DF-RdRp-NP040 C67405 [19, 42] DF_npocket/DF_npocket/DF-RdRp-NP040.mol\n",
      "P220545\n",
      "DF-RdRp-NP041 C70846 [12, 42] DF_npocket/DF_npocket/DF-RdRp-NP041.mol\n",
      "P220546\n",
      "DF-RdRp-NP042 C70847 [12, 42] DF_npocket/DF_npocket/DF-RdRp-NP042.mol\n",
      "P220547\n",
      "DF-RdRp-NP043 C70848 [12, 42] DF_npocket/DF_npocket/DF-RdRp-NP043.mol\n",
      "P220548\n",
      "DF-RdRp-NP044 C70849 [12, 42] DF_npocket/DF_npocket/DF-RdRp-NP044.mol\n",
      "P220549\n"
     ]
    }
   ],
   "source": [
    "for i,row in df_sdf.iterrows():\n",
    "\n",
    "    # if i < 2:\n",
    "    #     continue\n",
    "    \n",
    "    alias = row.ID\n",
    "    path = out_dir / f\"{row.ID}.mol\"\n",
    "    smiles = mp.rdkit.mol_to_smiles(row.ROMol)\n",
    "    compound = animal.compounds(smiles=smiles)\n",
    "\n",
    "    # print(alias)\n",
    "    if not alias.startswith(\"DF\"):\n",
    "        continue\n",
    "    \n",
    "    if not compound:\n",
    "        continue\n",
    "    \n",
    "    inspirations = animal.poses[lookup[compound.id]]\n",
    "    print(alias, compound, inspirations.ids, path)\n",
    "    pose = animal.register_pose(compound=compound,\n",
    "                        target=\"Flavi_NS5_RdRp\",\n",
    "                        alias=alias,\n",
    "                        inspirations=inspirations,\n",
    "                        tags=[\"SeeSAR\", \"DF\"],\n",
    "                         path=path,\n",
    "                    )\n",
    "    print(pose)"
   ]
  },
  {
   "cell_type": "code",
   "execution_count": null,
   "id": "22b02806-d149-4aa2-bcf1-655e98e9a25c",
   "metadata": {},
   "outputs": [],
   "source": []
  },
  {
   "cell_type": "code",
   "execution_count": null,
   "id": "e7f1a4fc-ab27-4686-b0e5-019b65900f58",
   "metadata": {},
   "outputs": [],
   "source": []
  }
 ],
 "metadata": {
  "kernelspec": {
   "display_name": "Python [conda env:base] *",
   "language": "python",
   "name": "conda-base-py"
  },
  "language_info": {
   "codemirror_mode": {
    "name": "ipython",
    "version": 3
   },
   "file_extension": ".py",
   "mimetype": "text/x-python",
   "name": "python",
   "nbconvert_exporter": "python",
   "pygments_lexer": "ipython3",
   "version": "3.11.6"
  }
 },
 "nbformat": 4,
 "nbformat_minor": 5
}
