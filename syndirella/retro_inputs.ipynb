{
 "cells": [
  {
   "cell_type": "code",
   "execution_count": 1,
   "id": "d5685e54-4b25-4869-9b41-817b19d7af7c",
   "metadata": {},
   "outputs": [],
   "source": [
    "%load_ext autoreload\n",
    "%autoreload 2\n",
    "import hippo\n",
    "from rdkit.Chem import PandasTools\n",
    "from pandas import DataFrame"
   ]
  },
  {
   "cell_type": "code",
   "execution_count": 2,
   "id": "e14722d2-d58f-4378-a3fb-b128ee367684",
   "metadata": {},
   "outputs": [
    {
     "data": {
      "text/html": [
       "<pre style=\"white-space:pre;overflow-x:auto;line-height:normal;font-family:Menlo,'DejaVu Sans Mono',consolas,'Courier New',monospace\"><span style=\"font-weight: bold\"> Creating HIPPO animal</span>\n",
       "</pre>\n"
      ],
      "text/plain": [
       "\u001b[1m Creating HIPPO animal\u001b[0m\n"
      ]
     },
     "metadata": {},
     "output_type": "display_data"
    },
    {
     "data": {
      "text/html": [
       "<pre style=\"white-space:pre;overflow-x:auto;line-height:normal;font-family:Menlo,'DejaVu Sans Mono',consolas,'Courier New',monospace\"><span style=\"color: #008080; text-decoration-color: #008080; font-weight: bold\">name</span> = <span style=\"color: #00d7af; text-decoration-color: #00d7af\">RdRp_FFF</span>\n",
       "</pre>\n"
      ],
      "text/plain": [
       "\u001b[1;36mname\u001b[0m = \u001b[38;5;43mRdRp_FFF\u001b[0m\n"
      ]
     },
     "metadata": {},
     "output_type": "display_data"
    },
    {
     "data": {
      "text/html": [
       "<pre style=\"white-space:pre;overflow-x:auto;line-height:normal;font-family:Menlo,'DejaVu Sans Mono',consolas,'Courier New',monospace\"><span style=\"color: #008080; text-decoration-color: #008080; font-weight: bold\">db_path</span> = <span style=\"color: #d7af00; text-decoration-color: #d7af00\">bulkdock_snapshot.sqlite</span>\n",
       "</pre>\n"
      ],
      "text/plain": [
       "\u001b[1;36mdb_path\u001b[0m = \u001b[38;5;178mbulkdock_snapshot.sqlite\u001b[0m\n"
      ]
     },
     "metadata": {},
     "output_type": "display_data"
    },
    {
     "data": {
      "text/html": [
       "<pre style=\"white-space:pre;overflow-x:auto;line-height:normal;font-family:Menlo,'DejaVu Sans Mono',consolas,'Courier New',monospace\"><span style=\"color: #808080; text-decoration-color: #808080\">DEBUG: hippo.Database.__init__()</span>\n",
       "</pre>\n"
      ],
      "text/plain": [
       "\u001b[90mDEBUG: hippo.Database.__init__()\u001b[0m\n"
      ]
     },
     "metadata": {},
     "output_type": "display_data"
    },
    {
     "data": {
      "text/html": [
       "<pre style=\"white-space:pre;overflow-x:auto;line-height:normal;font-family:Menlo,'DejaVu Sans Mono',consolas,'Courier New',monospace\"><span style=\"color: #808080; text-decoration-color: #808080\">DEBUG: Database.path = bulkdock_snapshot.sqlite</span>\n",
       "</pre>\n"
      ],
      "text/plain": [
       "\u001b[90mDEBUG: Database.path = bulkdock_snapshot.sqlite\u001b[0m\n"
      ]
     },
     "metadata": {},
     "output_type": "display_data"
    },
    {
     "data": {
      "text/html": [
       "<pre style=\"white-space:pre;overflow-x:auto;line-height:normal;font-family:Menlo,'DejaVu Sans Mono',consolas,'Courier New',monospace\"><span style=\"color: #808080; text-decoration-color: #808080\">DEBUG: hippo.Database.connect()</span>\n",
       "</pre>\n"
      ],
      "text/plain": [
       "\u001b[90mDEBUG: hippo.Database.connect()\u001b[0m\n"
      ]
     },
     "metadata": {},
     "output_type": "display_data"
    },
    {
     "data": {
      "text/html": [
       "<pre style=\"white-space:pre;overflow-x:auto;line-height:normal;font-family:Menlo,'DejaVu Sans Mono',consolas,'Courier New',monospace\"><span style=\"color: #808080; text-decoration-color: #808080\">DEBUG: sqlite3.version='2.6.0'</span>\n",
       "</pre>\n"
      ],
      "text/plain": [
       "\u001b[90mDEBUG: sqlite3.version='2.6.0'\u001b[0m\n"
      ]
     },
     "metadata": {},
     "output_type": "display_data"
    },
    {
     "data": {
      "text/html": [
       "<pre style=\"white-space:pre;overflow-x:auto;line-height:normal;font-family:Menlo,'DejaVu Sans Mono',consolas,'Courier New',monospace\"><span style=\"background-color: #008000; font-weight: bold\"> Success </span><span style=\"color: #008000; text-decoration-color: #008000; font-weight: bold\"> Database connected @</span><span style=\"color: #d7af00; text-decoration-color: #d7af00; font-weight: bold\"> bulkdock_snapshot.sqlite!</span>\n",
       "</pre>\n"
      ],
      "text/plain": [
       "\u001b[1;7;32m Success \u001b[0m\u001b[1;32m Database connected @\u001b[0m\u001b[1;38;5;178m bulkdock_snapshot.sqlite!\u001b[0m\n"
      ]
     },
     "metadata": {},
     "output_type": "display_data"
    },
    {
     "data": {
      "text/html": [
       "<pre style=\"white-space:pre;overflow-x:auto;line-height:normal;font-family:Menlo,'DejaVu Sans Mono',consolas,'Courier New',monospace\"><span style=\"background-color: #008000; font-weight: bold\"> Success </span><span style=\"color: #008000; text-decoration-color: #008000; font-weight: bold\"> Initialised animal</span><span style=\"color: #008080; text-decoration-color: #008080; font-weight: bold\"> HIPPO(\"RdRp_FFF\")!</span>\n",
       "</pre>\n"
      ],
      "text/plain": [
       "\u001b[1;7;32m Success \u001b[0m\u001b[1;32m Initialised animal\u001b[0m\u001b[1;36m HIPPO(\"RdRp_FFF\")!\u001b[0m\n"
      ]
     },
     "metadata": {},
     "output_type": "display_data"
    }
   ],
   "source": [
    "animal = hippo.HIPPO(\"RdRp_FFF\", \"bulkdock_snapshot.sqlite\")#, copy_from=\"../../BulkDock/TARGETS/Flavi_NS5_RdRp/Flavi_NS5_RdRp.sqlite\", overwrite_existing=True)"
   ]
  },
  {
   "cell_type": "code",
   "execution_count": 4,
   "id": "65fc40b4-0943-44a4-bf90-fd2bc059e7cf",
   "metadata": {},
   "outputs": [],
   "source": [
    "name = \"fstein_cavity_b\"\n",
    "sdf = \"../fragmenstein/RdRp_fstein_cavity_b_split1000_batch000_216971_fragalysis.sdf\"\n",
    "\n",
    "name = \"fstein_primer_grip_n_pocket\"\n",
    "sdf = \"../fragmenstein/RdRp_primer_grip_n_pocket_fstein_bulkdock_input_split1000_batch000_217912_fragalysis.sdf\"\n",
    "\n",
    "name = \"fstein_thumb_site_2\"\n",
    "sdf = \"../fragmenstein/RdRp_thumb_site_2_fstein_bulkdock_input_split1000_batch000_217914_fragalysis.sdf\"\n",
    "\n",
    "name = \"fstein_green_site_rna_tunnel\"\n",
    "sdf = \"../fragmenstein/RdRp_green_site_rna_tunnel_fstein_bulkdock_input_fragalysis.sdf\"\n",
    "\n",
    "name = \"knitwork_cavity_b_impure\"\n",
    "sdf = \"../knitwork/RdRp_knitwork_cavity_b_impure_split4000_batch000_211008_fragalysis.sdf\"\n",
    "\n",
    "name = \"knitwork_cavity_b_pure\"\n",
    "sdf = \"../knitwork/RdRp_knitwork_cavity_b_pure_split4000_batch000_211006_fragalysis.sdf\"\n",
    "\n",
    "name = \"knitwork_primer_grip_n_pocket_impure\"\n",
    "sdf = \"../knitwork/RdRp_knitwork_primer_grip_n_pocket_impure_fragalysis.sdf\"\n",
    "\n",
    "name = \"knitwork_primer_grip_n_pocket_pure\"\n",
    "sdf = \"../knitwork/RdRp_knitwork_primer_grip_n_pocket_pure_fragalysis.sdf\"\n",
    "\n",
    "name = \"knitwork_thumb_site_2_impure\"\n",
    "sdf = \"../knitwork/RdRp_knitwork_thumb_site_2_impure_fragalysis.sdf\"\n",
    "\n",
    "name = \"knitwork_thumb_site_2_pure\"\n",
    "sdf = \"../knitwork/RdRp_knitwork_thumb_site_2_pure_fragalysis.sdf\"\n",
    "\n",
    "name = \"knitwork_green_site_pure\"\n",
    "sdf = \"../knitwork/RdRp_knitwork_green_site_rna_tunnel_pure_fragalysis.sdf\""
   ]
  },
  {
   "cell_type": "code",
   "execution_count": 11,
   "id": "7d4ac8dd-b1f3-4d90-9e94-03f73c8d9bba",
   "metadata": {},
   "outputs": [
    {
     "data": {
      "text/plain": [
       "\u001b[1m\u001b[4mposes tagged \"SeeSAR\": {P × 29}\u001b[22m\u001b[24m"
      ]
     },
     "execution_count": 11,
     "metadata": {},
     "output_type": "execute_result"
    }
   ],
   "source": [
    "# # JA manual\n",
    "# name = \"SeeSAR_manual\"\n",
    "# derivatives = animal.poses(tag=\"SeeSAR\")\n",
    "# for pose in derivatives:\n",
    "#     pose.reference = animal.poses[\"6izx-a\"]\n",
    "# derivatives"
   ]
  },
  {
   "cell_type": "code",
   "execution_count": 5,
   "id": "21b9a78e-fdac-4409-9a59-1ca99c1156b2",
   "metadata": {},
   "outputs": [
    {
     "data": {
      "text/plain": [
       "\u001b[1m\u001b[4m{P × 505}\u001b[22m\u001b[24m"
      ]
     },
     "execution_count": 5,
     "metadata": {},
     "output_type": "execute_result"
    }
   ],
   "source": [
    "df = PandasTools.LoadSDF(sdf)\n",
    "derivative_ids = set([int(i) for i in df[\"ID\"].values[1:]])\n",
    "derivatives = animal.poses[derivative_ids]\n",
    "derivatives"
   ]
  },
  {
   "cell_type": "code",
   "execution_count": 6,
   "id": "cd686f53-126d-470c-80f9-0d121afd4d36",
   "metadata": {},
   "outputs": [
    {
     "data": {
      "text/html": [
       "<pre style=\"white-space:pre;overflow-x:auto;line-height:normal;font-family:Menlo,'DejaVu Sans Mono',consolas,'Courier New',monospace\"><span style=\"color: #008080; text-decoration-color: #008080; font-weight: bold\">out_key</span> = knitwork_green_site_pure\n",
       "</pre>\n"
      ],
      "text/plain": [
       "\u001b[1;36mout_key\u001b[0m = knitwork_green_site_pure\n"
      ]
     },
     "metadata": {},
     "output_type": "display_data"
    },
    {
     "data": {
      "text/html": [
       "<pre style=\"white-space:pre;overflow-x:auto;line-height:normal;font-family:Menlo,'DejaVu Sans Mono',consolas,'Courier New',monospace\"><span style=\"color: #008080; text-decoration-color: #008080; font-weight: bold\">#poses</span> = <span style=\"color: #008080; text-decoration-color: #008080; font-weight: bold\">505</span>\n",
       "</pre>\n"
      ],
      "text/plain": [
       "\u001b[1;36m#poses\u001b[0m = \u001b[1;36m505\u001b[0m\n"
      ]
     },
     "metadata": {},
     "output_type": "display_data"
    },
    {
     "data": {
      "application/vnd.jupyter.widget-view+json": {
       "model_id": "dc4e1091a8324227a96c533a886bd7b7",
       "version_major": 2,
       "version_minor": 0
      },
      "text/plain": [
       "Output()"
      ]
     },
     "metadata": {},
     "output_type": "display_data"
    },
    {
     "data": {
      "text/html": [
       "<pre style=\"white-space:pre;overflow-x:auto;line-height:normal;font-family:Menlo,'DejaVu Sans Mono',consolas,'Courier New',monospace\"></pre>\n"
      ],
      "text/plain": []
     },
     "metadata": {},
     "output_type": "display_data"
    },
    {
     "data": {
      "text/html": [
       "<pre style=\"white-space:pre;overflow-x:auto;line-height:normal;font-family:Menlo,'DejaVu Sans Mono',consolas,'Courier New',monospace\"><span style=\"background-color: #d7af00; font-weight: bold\"> DISK </span> Writing <span style=\"color: #d7af00; text-decoration-color: #d7af00\">knitwork_green_site_pure/knitwork_green_site_pure_syndirella_input.csv</span>...\n",
       "</pre>\n"
      ],
      "text/plain": [
       "\u001b[1;7;38;5;178m DISK \u001b[0m Writing \u001b[38;5;178mknitwork_green_site_pure/knitwork_green_site_pure_syndirella_input.csv\u001b[0m...\n"
      ]
     },
     "metadata": {},
     "output_type": "display_data"
    },
    {
     "data": {
      "text/html": [
       "<pre style=\"white-space:pre;overflow-x:auto;line-height:normal;font-family:Menlo,'DejaVu Sans Mono',consolas,'Courier New',monospace\"><span style=\"background-color: #d7af00; font-weight: bold\"> DISK </span> Writing <span style=\"color: #d7af00; text-decoration-color: #d7af00\">knitwork_green_site_pure/knitwork_green_site_pure_syndirella_inspiration_hits.sdf</span>...\n",
       "</pre>\n"
      ],
      "text/plain": [
       "\u001b[1;7;38;5;178m DISK \u001b[0m Writing \u001b[38;5;178mknitwork_green_site_pure/knitwork_green_site_pure_syndirella_inspiration_hits.sdf\u001b[0m...\n"
      ]
     },
     "metadata": {},
     "output_type": "display_data"
    },
    {
     "name": "stdout",
     "output_type": "stream",
     "text": [
      "CPU times: user 13.6 s, sys: 12.6 s, total: 26.2 s\n",
      "Wall time: 4min 11s\n"
     ]
    },
    {
     "data": {
      "text/html": [
       "<div>\n",
       "<style scoped>\n",
       "    .dataframe tbody tr th:only-of-type {\n",
       "        vertical-align: middle;\n",
       "    }\n",
       "\n",
       "    .dataframe tbody tr th {\n",
       "        vertical-align: top;\n",
       "    }\n",
       "\n",
       "    .dataframe thead th {\n",
       "        text-align: right;\n",
       "    }\n",
       "</style>\n",
       "<table border=\"1\" class=\"dataframe\">\n",
       "  <thead>\n",
       "    <tr style=\"text-align: right;\">\n",
       "      <th></th>\n",
       "      <th>smiles</th>\n",
       "      <th>template</th>\n",
       "      <th>compound_set</th>\n",
       "      <th>hit1</th>\n",
       "      <th>hit2</th>\n",
       "      <th>hit3</th>\n",
       "    </tr>\n",
       "  </thead>\n",
       "  <tbody>\n",
       "    <tr>\n",
       "      <th>0</th>\n",
       "      <td>COc1ccc2c(c1)C(c1ccncc1)CCN2</td>\n",
       "      <td>z0364a</td>\n",
       "      <td>knitwork_green_site_pure</td>\n",
       "      <td>z0364a</td>\n",
       "      <td>z0386a</td>\n",
       "      <td>NaN</td>\n",
       "    </tr>\n",
       "    <tr>\n",
       "      <th>1</th>\n",
       "      <td>CCSc1cc(CNc2ccnc3ncnn23)ccn1</td>\n",
       "      <td>z0521a</td>\n",
       "      <td>knitwork_green_site_pure</td>\n",
       "      <td>z0521a</td>\n",
       "      <td>z0637a</td>\n",
       "      <td>NaN</td>\n",
       "    </tr>\n",
       "    <tr>\n",
       "      <th>2</th>\n",
       "      <td>CCSc1cc(CNc2ccnc3ncnn23)ccn1</td>\n",
       "      <td>z0637a</td>\n",
       "      <td>knitwork_green_site_pure</td>\n",
       "      <td>z0521a</td>\n",
       "      <td>z0637a</td>\n",
       "      <td>NaN</td>\n",
       "    </tr>\n",
       "    <tr>\n",
       "      <th>3</th>\n",
       "      <td>CC(O)CNC(=O)Nc1cccc2cccnc12</td>\n",
       "      <td>z0881a</td>\n",
       "      <td>knitwork_green_site_pure</td>\n",
       "      <td>z0211a</td>\n",
       "      <td>z0881a</td>\n",
       "      <td>NaN</td>\n",
       "    </tr>\n",
       "    <tr>\n",
       "      <th>4</th>\n",
       "      <td>NS(=O)(=O)c1ccc2c(c1)N(CCCn1ccnc1)CCC2</td>\n",
       "      <td>z0165a</td>\n",
       "      <td>knitwork_green_site_pure</td>\n",
       "      <td>d0378a</td>\n",
       "      <td>z0165a</td>\n",
       "      <td>NaN</td>\n",
       "    </tr>\n",
       "    <tr>\n",
       "      <th>...</th>\n",
       "      <td>...</td>\n",
       "      <td>...</td>\n",
       "      <td>...</td>\n",
       "      <td>...</td>\n",
       "      <td>...</td>\n",
       "      <td>...</td>\n",
       "    </tr>\n",
       "    <tr>\n",
       "      <th>500</th>\n",
       "      <td>COCc1nc(CN2CCCc3ccccc32)c[nH]1</td>\n",
       "      <td>d0378a</td>\n",
       "      <td>knitwork_green_site_pure</td>\n",
       "      <td>d0378a</td>\n",
       "      <td>z0165a</td>\n",
       "      <td>NaN</td>\n",
       "    </tr>\n",
       "    <tr>\n",
       "      <th>501</th>\n",
       "      <td>c1ccc(-c2nc(CN3CCCc4ccccc43)c[nH]2)cc1</td>\n",
       "      <td>d0378a</td>\n",
       "      <td>knitwork_green_site_pure</td>\n",
       "      <td>d0378a</td>\n",
       "      <td>z0165a</td>\n",
       "      <td>NaN</td>\n",
       "    </tr>\n",
       "    <tr>\n",
       "      <th>502</th>\n",
       "      <td>c1ccc(-c2nc(CN3CCCc4ccccc43)c[nH]2)cc1</td>\n",
       "      <td>z0165a</td>\n",
       "      <td>knitwork_green_site_pure</td>\n",
       "      <td>d0378a</td>\n",
       "      <td>z0165a</td>\n",
       "      <td>NaN</td>\n",
       "    </tr>\n",
       "    <tr>\n",
       "      <th>503</th>\n",
       "      <td>CN(CCNC(=O)c1ccccn1)Cc1ccc(F)cn1</td>\n",
       "      <td>z0221a</td>\n",
       "      <td>knitwork_green_site_pure</td>\n",
       "      <td>d0472b</td>\n",
       "      <td>z0221a</td>\n",
       "      <td>NaN</td>\n",
       "    </tr>\n",
       "    <tr>\n",
       "      <th>504</th>\n",
       "      <td>Cc1cc2ccccc2c(N2CCCC2c2ccccn2)n1</td>\n",
       "      <td>d0472b</td>\n",
       "      <td>knitwork_green_site_pure</td>\n",
       "      <td>d0472b</td>\n",
       "      <td>z0111a</td>\n",
       "      <td>NaN</td>\n",
       "    </tr>\n",
       "  </tbody>\n",
       "</table>\n",
       "<p>505 rows × 6 columns</p>\n",
       "</div>"
      ],
      "text/plain": [
       "                                     smiles template  \\\n",
       "0              COc1ccc2c(c1)C(c1ccncc1)CCN2   z0364a   \n",
       "1              CCSc1cc(CNc2ccnc3ncnn23)ccn1   z0521a   \n",
       "2              CCSc1cc(CNc2ccnc3ncnn23)ccn1   z0637a   \n",
       "3               CC(O)CNC(=O)Nc1cccc2cccnc12   z0881a   \n",
       "4    NS(=O)(=O)c1ccc2c(c1)N(CCCn1ccnc1)CCC2   z0165a   \n",
       "..                                      ...      ...   \n",
       "500          COCc1nc(CN2CCCc3ccccc32)c[nH]1   d0378a   \n",
       "501  c1ccc(-c2nc(CN3CCCc4ccccc43)c[nH]2)cc1   d0378a   \n",
       "502  c1ccc(-c2nc(CN3CCCc4ccccc43)c[nH]2)cc1   z0165a   \n",
       "503        CN(CCNC(=O)c1ccccn1)Cc1ccc(F)cn1   z0221a   \n",
       "504        Cc1cc2ccccc2c(N2CCCC2c2ccccn2)n1   d0472b   \n",
       "\n",
       "                 compound_set    hit1    hit2 hit3  \n",
       "0    knitwork_green_site_pure  z0364a  z0386a  NaN  \n",
       "1    knitwork_green_site_pure  z0521a  z0637a  NaN  \n",
       "2    knitwork_green_site_pure  z0521a  z0637a  NaN  \n",
       "3    knitwork_green_site_pure  z0211a  z0881a  NaN  \n",
       "4    knitwork_green_site_pure  d0378a  z0165a  NaN  \n",
       "..                        ...     ...     ...  ...  \n",
       "500  knitwork_green_site_pure  d0378a  z0165a  NaN  \n",
       "501  knitwork_green_site_pure  d0378a  z0165a  NaN  \n",
       "502  knitwork_green_site_pure  d0378a  z0165a  NaN  \n",
       "503  knitwork_green_site_pure  d0472b  z0221a  NaN  \n",
       "504  knitwork_green_site_pure  d0472b  z0111a  NaN  \n",
       "\n",
       "[505 rows x 6 columns]"
      ]
     },
     "execution_count": 6,
     "metadata": {},
     "output_type": "execute_result"
    }
   ],
   "source": [
    "%%time\n",
    "derivatives.to_syndirella(f\"{name}/{name}\")"
   ]
  },
  {
   "cell_type": "code",
   "execution_count": null,
   "id": "4e9c6324-3e97-45cf-a990-95fe678c425f",
   "metadata": {},
   "outputs": [],
   "source": []
  }
 ],
 "metadata": {
  "kernelspec": {
   "display_name": "Python [conda env:base] *",
   "language": "python",
   "name": "conda-base-py"
  },
  "language_info": {
   "codemirror_mode": {
    "name": "ipython",
    "version": 3
   },
   "file_extension": ".py",
   "mimetype": "text/x-python",
   "name": "python",
   "nbconvert_exporter": "python",
   "pygments_lexer": "ipython3",
   "version": "3.11.6"
  }
 },
 "nbformat": 4,
 "nbformat_minor": 5
}
