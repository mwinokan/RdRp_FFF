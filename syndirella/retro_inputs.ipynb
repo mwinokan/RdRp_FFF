{
 "cells": [
  {
   "cell_type": "code",
   "execution_count": 7,
   "id": "d5685e54-4b25-4869-9b41-817b19d7af7c",
   "metadata": {},
   "outputs": [
    {
     "name": "stdout",
     "output_type": "stream",
     "text": [
      "The autoreload extension is already loaded. To reload it, use:\n",
      "  %reload_ext autoreload\n"
     ]
    }
   ],
   "source": [
    "%load_ext autoreload\n",
    "%autoreload 2\n",
    "import hippo\n",
    "from rdkit.Chem import PandasTools\n",
    "from pandas import DataFrame"
   ]
  },
  {
   "cell_type": "code",
   "execution_count": 8,
   "id": "e14722d2-d58f-4378-a3fb-b128ee367684",
   "metadata": {},
   "outputs": [
    {
     "data": {
      "text/html": [
       "<pre style=\"white-space:pre;overflow-x:auto;line-height:normal;font-family:Menlo,'DejaVu Sans Mono',consolas,'Courier New',monospace\"><span style=\"font-weight: bold\"> Creating HIPPO animal</span>\n",
       "</pre>\n"
      ],
      "text/plain": [
       "\u001b[1m Creating HIPPO animal\u001b[0m\n"
      ]
     },
     "metadata": {},
     "output_type": "display_data"
    },
    {
     "data": {
      "text/html": [
       "<pre style=\"white-space:pre;overflow-x:auto;line-height:normal;font-family:Menlo,'DejaVu Sans Mono',consolas,'Courier New',monospace\"><span style=\"color: #008080; text-decoration-color: #008080; font-weight: bold\">name</span> = <span style=\"color: #00d7af; text-decoration-color: #00d7af\">RdRp_FFF</span>\n",
       "</pre>\n"
      ],
      "text/plain": [
       "\u001b[1;36mname\u001b[0m = \u001b[38;5;43mRdRp_FFF\u001b[0m\n"
      ]
     },
     "metadata": {},
     "output_type": "display_data"
    },
    {
     "data": {
      "text/html": [
       "<pre style=\"white-space:pre;overflow-x:auto;line-height:normal;font-family:Menlo,'DejaVu Sans Mono',consolas,'Courier New',monospace\"><span style=\"color: #008080; text-decoration-color: #008080; font-weight: bold\">db_path</span> = <span style=\"color: #d7af00; text-decoration-color: #d7af00\">../../BulkDock/TARGETS/Flavi_NS5_RdRp/Flavi_NS5_RdRp.sqlite</span>\n",
       "</pre>\n"
      ],
      "text/plain": [
       "\u001b[1;36mdb_path\u001b[0m = \u001b[38;5;178m../../BulkDock/TARGETS/Flavi_NS5_RdRp/Flavi_NS5_RdRp.sqlite\u001b[0m\n"
      ]
     },
     "metadata": {},
     "output_type": "display_data"
    },
    {
     "data": {
      "text/html": [
       "<pre style=\"white-space:pre;overflow-x:auto;line-height:normal;font-family:Menlo,'DejaVu Sans Mono',consolas,'Courier New',monospace\"><span style=\"color: #808080; text-decoration-color: #808080\">DEBUG: hippo.Database.__init__()</span>\n",
       "</pre>\n"
      ],
      "text/plain": [
       "\u001b[90mDEBUG: hippo.Database.__init__()\u001b[0m\n"
      ]
     },
     "metadata": {},
     "output_type": "display_data"
    },
    {
     "data": {
      "text/html": [
       "<pre style=\"white-space:pre;overflow-x:auto;line-height:normal;font-family:Menlo,'DejaVu Sans Mono',consolas,'Courier New',monospace\"><span style=\"color: #808080; text-decoration-color: #808080\">DEBUG: Database.path = ../../BulkDock/TARGETS/Flavi_NS5_RdRp/Flavi_NS5_RdRp.sqlite</span>\n",
       "</pre>\n"
      ],
      "text/plain": [
       "\u001b[90mDEBUG: Database.path = ../../BulkDock/TARGETS/Flavi_NS5_RdRp/Flavi_NS5_RdRp.sqlite\u001b[0m\n"
      ]
     },
     "metadata": {},
     "output_type": "display_data"
    },
    {
     "data": {
      "text/html": [
       "<pre style=\"white-space:pre;overflow-x:auto;line-height:normal;font-family:Menlo,'DejaVu Sans Mono',consolas,'Courier New',monospace\"><span style=\"color: #808080; text-decoration-color: #808080\">DEBUG: hippo.Database.connect()</span>\n",
       "</pre>\n"
      ],
      "text/plain": [
       "\u001b[90mDEBUG: hippo.Database.connect()\u001b[0m\n"
      ]
     },
     "metadata": {},
     "output_type": "display_data"
    },
    {
     "data": {
      "text/html": [
       "<pre style=\"white-space:pre;overflow-x:auto;line-height:normal;font-family:Menlo,'DejaVu Sans Mono',consolas,'Courier New',monospace\"><span style=\"color: #808080; text-decoration-color: #808080\">DEBUG: sqlite3.version='2.6.0'</span>\n",
       "</pre>\n"
      ],
      "text/plain": [
       "\u001b[90mDEBUG: sqlite3.version='2.6.0'\u001b[0m\n"
      ]
     },
     "metadata": {},
     "output_type": "display_data"
    },
    {
     "data": {
      "text/html": [
       "<pre style=\"white-space:pre;overflow-x:auto;line-height:normal;font-family:Menlo,'DejaVu Sans Mono',consolas,'Courier New',monospace\"><span style=\"background-color: #008000; font-weight: bold\"> Success </span><span style=\"color: #008000; text-decoration-color: #008000; font-weight: bold\"> Database connected @</span><span style=\"color: #d7af00; text-decoration-color: #d7af00; font-weight: bold\"> ../../BulkDock/TARGETS/Flavi_NS5_RdRp/Flavi_NS5_RdRp.sqlite!</span>\n",
       "</pre>\n"
      ],
      "text/plain": [
       "\u001b[1;7;32m Success \u001b[0m\u001b[1;32m Database connected @\u001b[0m\u001b[1;38;5;178m ../../BulkDock/TARGETS/Flavi_NS5_RdRp/Flavi_NS5_RdRp.sqlite!\u001b[0m\n"
      ]
     },
     "metadata": {},
     "output_type": "display_data"
    },
    {
     "data": {
      "text/html": [
       "<pre style=\"white-space:pre;overflow-x:auto;line-height:normal;font-family:Menlo,'DejaVu Sans Mono',consolas,'Courier New',monospace\"><span style=\"background-color: #008000; font-weight: bold\"> Success </span><span style=\"color: #008000; text-decoration-color: #008000; font-weight: bold\"> Initialised animal</span><span style=\"color: #008080; text-decoration-color: #008080; font-weight: bold\"> HIPPO(\"RdRp_FFF\")!</span>\n",
       "</pre>\n"
      ],
      "text/plain": [
       "\u001b[1;7;32m Success \u001b[0m\u001b[1;32m Initialised animal\u001b[0m\u001b[1;36m HIPPO(\"RdRp_FFF\")!\u001b[0m\n"
      ]
     },
     "metadata": {},
     "output_type": "display_data"
    }
   ],
   "source": [
    "# animal = hippo.HIPPO(\"RdRp_FFF\", \"bulkdock_snapshot.sqlite\")#, copy_from=\"../../BulkDock/TARGETS/Flavi_NS5_RdRp/Flavi_NS5_RdRp.sqlite\", overwrite_existing=True)\n",
    "animal = hippo.HIPPO(\"RdRp_FFF\", \"../../BulkDock/TARGETS/Flavi_NS5_RdRp/Flavi_NS5_RdRp.sqlite\")"
   ]
  },
  {
   "cell_type": "code",
   "execution_count": 9,
   "id": "65fc40b4-0943-44a4-bf90-fd2bc059e7cf",
   "metadata": {},
   "outputs": [],
   "source": [
    "name = \"fstein_cavity_b\"\n",
    "sdf = \"../fragmenstein/RdRp_fstein_cavity_b_split1000_batch000_216971_fragalysis.sdf\"\n",
    "\n",
    "name = \"fstein_primer_grip_n_pocket\"\n",
    "sdf = \"../fragmenstein/RdRp_primer_grip_n_pocket_fstein_bulkdock_input_split1000_batch000_217912_fragalysis.sdf\"\n",
    "\n",
    "name = \"fstein_thumb_site_2\"\n",
    "sdf = \"../fragmenstein/RdRp_thumb_site_2_fstein_bulkdock_input_split1000_batch000_217914_fragalysis.sdf\"\n",
    "\n",
    "name = \"fstein_green_site_rna_tunnel\"\n",
    "sdf = \"../fragmenstein/RdRp_green_site_rna_tunnel_fstein_bulkdock_input_fragalysis.sdf\"\n",
    "\n",
    "name = \"knitwork_cavity_b_impure\"\n",
    "sdf = \"../knitwork/RdRp_knitwork_cavity_b_impure_split4000_batch000_211008_fragalysis.sdf\"\n",
    "\n",
    "name = \"knitwork_cavity_b_pure\"\n",
    "sdf = \"../knitwork/RdRp_knitwork_cavity_b_pure_split4000_batch000_211006_fragalysis.sdf\"\n",
    "\n",
    "name = \"knitwork_primer_grip_n_pocket_impure\"\n",
    "sdf = \"../knitwork/RdRp_knitwork_primer_grip_n_pocket_impure_fragalysis.sdf\"\n",
    "\n",
    "name = \"knitwork_primer_grip_n_pocket_pure\"\n",
    "sdf = \"../knitwork/RdRp_knitwork_primer_grip_n_pocket_pure_fragalysis.sdf\"\n",
    "\n",
    "name = \"knitwork_thumb_site_2_impure\"\n",
    "sdf = \"../knitwork/RdRp_knitwork_thumb_site_2_impure_fragalysis.sdf\"\n",
    "\n",
    "name = \"knitwork_thumb_site_2_pure\"\n",
    "sdf = \"../knitwork/RdRp_knitwork_thumb_site_2_pure_fragalysis.sdf\"\n",
    "\n",
    "name = \"knitwork_green_site_pure\"\n",
    "sdf = \"../knitwork/RdRp_knitwork_green_site_rna_tunnel_pure_fragalysis.sdf\"\n",
    "\n",
    "name = \"knitwork_green_site_impure\"\n",
    "sdf = \"../knitwork/RdRp_knitwork_green_site_rna_tunnel_impure_fragalysis.sdf\""
   ]
  },
  {
   "cell_type": "code",
   "execution_count": 11,
   "id": "7d4ac8dd-b1f3-4d90-9e94-03f73c8d9bba",
   "metadata": {},
   "outputs": [
    {
     "data": {
      "text/plain": [
       "\u001b[1m\u001b[4mposes tagged \"SeeSAR\": {P × 29}\u001b[22m\u001b[24m"
      ]
     },
     "execution_count": 11,
     "metadata": {},
     "output_type": "execute_result"
    }
   ],
   "source": [
    "# # JA manual\n",
    "# name = \"SeeSAR_manual\"\n",
    "# derivatives = animal.poses(tag=\"SeeSAR\")\n",
    "# for pose in derivatives:\n",
    "#     pose.reference = animal.poses[\"6izx-a\"]\n",
    "# derivatives"
   ]
  },
  {
   "cell_type": "code",
   "execution_count": 10,
   "id": "21b9a78e-fdac-4409-9a59-1ca99c1156b2",
   "metadata": {},
   "outputs": [
    {
     "data": {
      "text/plain": [
       "\u001b[1m\u001b[4m{P × 484}\u001b[22m\u001b[24m"
      ]
     },
     "execution_count": 10,
     "metadata": {},
     "output_type": "execute_result"
    }
   ],
   "source": [
    "df = PandasTools.LoadSDF(sdf)\n",
    "derivative_ids = set([int(i) for i in df[\"ID\"].values[1:]])\n",
    "derivatives = animal.poses[derivative_ids]\n",
    "derivatives"
   ]
  },
  {
   "cell_type": "code",
   "execution_count": 11,
   "id": "cd686f53-126d-470c-80f9-0d121afd4d36",
   "metadata": {},
   "outputs": [
    {
     "data": {
      "text/html": [
       "<pre style=\"white-space:pre;overflow-x:auto;line-height:normal;font-family:Menlo,'DejaVu Sans Mono',consolas,'Courier New',monospace\"><span style=\"color: #008080; text-decoration-color: #008080; font-weight: bold\">out_key</span> = knitwork_green_site_impure\n",
       "</pre>\n"
      ],
      "text/plain": [
       "\u001b[1;36mout_key\u001b[0m = knitwork_green_site_impure\n"
      ]
     },
     "metadata": {},
     "output_type": "display_data"
    },
    {
     "data": {
      "text/html": [
       "<pre style=\"white-space:pre;overflow-x:auto;line-height:normal;font-family:Menlo,'DejaVu Sans Mono',consolas,'Courier New',monospace\"><span style=\"color: #008080; text-decoration-color: #008080; font-weight: bold\">#poses</span> = <span style=\"color: #008080; text-decoration-color: #008080; font-weight: bold\">484</span>\n",
       "</pre>\n"
      ],
      "text/plain": [
       "\u001b[1;36m#poses\u001b[0m = \u001b[1;36m484\u001b[0m\n"
      ]
     },
     "metadata": {},
     "output_type": "display_data"
    },
    {
     "data": {
      "application/vnd.jupyter.widget-view+json": {
       "model_id": "ab7d4cd760ac492b824f797178bd0e9d",
       "version_major": 2,
       "version_minor": 0
      },
      "text/plain": [
       "Output()"
      ]
     },
     "metadata": {},
     "output_type": "display_data"
    },
    {
     "data": {
      "text/html": [
       "<pre style=\"white-space:pre;overflow-x:auto;line-height:normal;font-family:Menlo,'DejaVu Sans Mono',consolas,'Courier New',monospace\"></pre>\n"
      ],
      "text/plain": []
     },
     "metadata": {},
     "output_type": "display_data"
    },
    {
     "data": {
      "text/html": [
       "<pre style=\"white-space:pre;overflow-x:auto;line-height:normal;font-family:Menlo,'DejaVu Sans Mono',consolas,'Courier New',monospace\"><span style=\"background-color: #d7af00; font-weight: bold\"> DISK </span> Writing <span style=\"color: #d7af00; text-decoration-color: #d7af00\">knitwork_green_site_impure/knitwork_green_site_impure_syndirella_input.csv</span>...\n",
       "</pre>\n"
      ],
      "text/plain": [
       "\u001b[1;7;38;5;178m DISK \u001b[0m Writing \u001b[38;5;178mknitwork_green_site_impure/knitwork_green_site_impure_syndirella_input.csv\u001b[0m...\n"
      ]
     },
     "metadata": {},
     "output_type": "display_data"
    },
    {
     "data": {
      "text/html": [
       "<pre style=\"white-space:pre;overflow-x:auto;line-height:normal;font-family:Menlo,'DejaVu Sans Mono',consolas,'Courier New',monospace\"><span style=\"background-color: #d7af00; font-weight: bold\"> DISK </span> Writing <span style=\"color: #d7af00; text-decoration-color: #d7af00\">knitwork_green_site_impure/knitwork_green_site_impure_syndirella_inspiration_hits.sdf</span>...\n",
       "</pre>\n"
      ],
      "text/plain": [
       "\u001b[1;7;38;5;178m DISK \u001b[0m Writing \u001b[38;5;178mknitwork_green_site_impure/knitwork_green_site_impure_syndirella_inspiration_hits.sdf\u001b[0m...\n"
      ]
     },
     "metadata": {},
     "output_type": "display_data"
    },
    {
     "name": "stdout",
     "output_type": "stream",
     "text": [
      "CPU times: user 16.1 s, sys: 14.2 s, total: 30.3 s\n",
      "Wall time: 4min 56s\n"
     ]
    },
    {
     "data": {
      "text/html": [
       "<div>\n",
       "<style scoped>\n",
       "    .dataframe tbody tr th:only-of-type {\n",
       "        vertical-align: middle;\n",
       "    }\n",
       "\n",
       "    .dataframe tbody tr th {\n",
       "        vertical-align: top;\n",
       "    }\n",
       "\n",
       "    .dataframe thead th {\n",
       "        text-align: right;\n",
       "    }\n",
       "</style>\n",
       "<table border=\"1\" class=\"dataframe\">\n",
       "  <thead>\n",
       "    <tr style=\"text-align: right;\">\n",
       "      <th></th>\n",
       "      <th>smiles</th>\n",
       "      <th>template</th>\n",
       "      <th>compound_set</th>\n",
       "      <th>hit1</th>\n",
       "      <th>hit2</th>\n",
       "      <th>hit3</th>\n",
       "    </tr>\n",
       "  </thead>\n",
       "  <tbody>\n",
       "    <tr>\n",
       "      <th>0</th>\n",
       "      <td>COc1cccc2c(CC(=O)NCC(O)c3ccncc3)coc12</td>\n",
       "      <td>z0215a</td>\n",
       "      <td>knitwork_green_site_impure</td>\n",
       "      <td>z0215a</td>\n",
       "      <td>3vws-a</td>\n",
       "      <td>NaN</td>\n",
       "    </tr>\n",
       "    <tr>\n",
       "      <th>1</th>\n",
       "      <td>CC(CF)Nc1ccc2ccccc2n1</td>\n",
       "      <td>z0384a</td>\n",
       "      <td>knitwork_green_site_impure</td>\n",
       "      <td>z0384a</td>\n",
       "      <td>z1040a</td>\n",
       "      <td>NaN</td>\n",
       "    </tr>\n",
       "    <tr>\n",
       "      <th>2</th>\n",
       "      <td>CC(CF)Nc1ccc2ccccc2n1</td>\n",
       "      <td>z1040a</td>\n",
       "      <td>knitwork_green_site_impure</td>\n",
       "      <td>z0384a</td>\n",
       "      <td>z1040a</td>\n",
       "      <td>NaN</td>\n",
       "    </tr>\n",
       "    <tr>\n",
       "      <th>3</th>\n",
       "      <td>c1cc2cc(-c3cnoc3)ccc2[nH]1</td>\n",
       "      <td>z0496a</td>\n",
       "      <td>knitwork_green_site_impure</td>\n",
       "      <td>z0041a</td>\n",
       "      <td>z0496a</td>\n",
       "      <td>NaN</td>\n",
       "    </tr>\n",
       "    <tr>\n",
       "      <th>4</th>\n",
       "      <td>CC(NCc1cnsc1)c1coc2ccccc12</td>\n",
       "      <td>z0215a</td>\n",
       "      <td>knitwork_green_site_impure</td>\n",
       "      <td>z0215a</td>\n",
       "      <td>3vws-b</td>\n",
       "      <td>NaN</td>\n",
       "    </tr>\n",
       "    <tr>\n",
       "      <th>...</th>\n",
       "      <td>...</td>\n",
       "      <td>...</td>\n",
       "      <td>...</td>\n",
       "      <td>...</td>\n",
       "      <td>...</td>\n",
       "      <td>...</td>\n",
       "    </tr>\n",
       "    <tr>\n",
       "      <th>479</th>\n",
       "      <td>COc1ccc2c(CC(=O)Nc3cccc4ncccc34)coc2c1</td>\n",
       "      <td>z0881a</td>\n",
       "      <td>knitwork_green_site_impure</td>\n",
       "      <td>z0881a</td>\n",
       "      <td>3vws-b</td>\n",
       "      <td>NaN</td>\n",
       "    </tr>\n",
       "    <tr>\n",
       "      <th>480</th>\n",
       "      <td>O=C1CCCCC1c1coc2ccccc12</td>\n",
       "      <td>z1018a</td>\n",
       "      <td>knitwork_green_site_impure</td>\n",
       "      <td>z1018a</td>\n",
       "      <td>3vws-b</td>\n",
       "      <td>NaN</td>\n",
       "    </tr>\n",
       "    <tr>\n",
       "      <th>481</th>\n",
       "      <td>CC(NCc1cnsc1)c1coc2ccccc12</td>\n",
       "      <td>z0215a</td>\n",
       "      <td>knitwork_green_site_impure</td>\n",
       "      <td>z0215a</td>\n",
       "      <td>3vws-b</td>\n",
       "      <td>NaN</td>\n",
       "    </tr>\n",
       "    <tr>\n",
       "      <th>482</th>\n",
       "      <td>CC(NCc1ccns1)c1coc2c(F)cccc12</td>\n",
       "      <td>z0215a</td>\n",
       "      <td>knitwork_green_site_impure</td>\n",
       "      <td>z0215a</td>\n",
       "      <td>3vws-b</td>\n",
       "      <td>NaN</td>\n",
       "    </tr>\n",
       "    <tr>\n",
       "      <th>483</th>\n",
       "      <td>CC(NCc1cnsc1)c1coc2c(F)cccc12</td>\n",
       "      <td>z0215a</td>\n",
       "      <td>knitwork_green_site_impure</td>\n",
       "      <td>z0215a</td>\n",
       "      <td>3vws-b</td>\n",
       "      <td>NaN</td>\n",
       "    </tr>\n",
       "  </tbody>\n",
       "</table>\n",
       "<p>484 rows × 6 columns</p>\n",
       "</div>"
      ],
      "text/plain": [
       "                                     smiles template  \\\n",
       "0     COc1cccc2c(CC(=O)NCC(O)c3ccncc3)coc12   z0215a   \n",
       "1                     CC(CF)Nc1ccc2ccccc2n1   z0384a   \n",
       "2                     CC(CF)Nc1ccc2ccccc2n1   z1040a   \n",
       "3                c1cc2cc(-c3cnoc3)ccc2[nH]1   z0496a   \n",
       "4                CC(NCc1cnsc1)c1coc2ccccc12   z0215a   \n",
       "..                                      ...      ...   \n",
       "479  COc1ccc2c(CC(=O)Nc3cccc4ncccc34)coc2c1   z0881a   \n",
       "480                 O=C1CCCCC1c1coc2ccccc12   z1018a   \n",
       "481              CC(NCc1cnsc1)c1coc2ccccc12   z0215a   \n",
       "482           CC(NCc1ccns1)c1coc2c(F)cccc12   z0215a   \n",
       "483           CC(NCc1cnsc1)c1coc2c(F)cccc12   z0215a   \n",
       "\n",
       "                   compound_set    hit1    hit2 hit3  \n",
       "0    knitwork_green_site_impure  z0215a  3vws-a  NaN  \n",
       "1    knitwork_green_site_impure  z0384a  z1040a  NaN  \n",
       "2    knitwork_green_site_impure  z0384a  z1040a  NaN  \n",
       "3    knitwork_green_site_impure  z0041a  z0496a  NaN  \n",
       "4    knitwork_green_site_impure  z0215a  3vws-b  NaN  \n",
       "..                          ...     ...     ...  ...  \n",
       "479  knitwork_green_site_impure  z0881a  3vws-b  NaN  \n",
       "480  knitwork_green_site_impure  z1018a  3vws-b  NaN  \n",
       "481  knitwork_green_site_impure  z0215a  3vws-b  NaN  \n",
       "482  knitwork_green_site_impure  z0215a  3vws-b  NaN  \n",
       "483  knitwork_green_site_impure  z0215a  3vws-b  NaN  \n",
       "\n",
       "[484 rows x 6 columns]"
      ]
     },
     "execution_count": 11,
     "metadata": {},
     "output_type": "execute_result"
    }
   ],
   "source": [
    "%%time\n",
    "derivatives.to_syndirella(f\"{name}/{name}\")"
   ]
  },
  {
   "cell_type": "code",
   "execution_count": null,
   "id": "4e9c6324-3e97-45cf-a990-95fe678c425f",
   "metadata": {},
   "outputs": [],
   "source": []
  }
 ],
 "metadata": {
  "kernelspec": {
   "display_name": "Python [conda env:base] *",
   "language": "python",
   "name": "conda-base-py"
  },
  "language_info": {
   "codemirror_mode": {
    "name": "ipython",
    "version": 3
   },
   "file_extension": ".py",
   "mimetype": "text/x-python",
   "name": "python",
   "nbconvert_exporter": "python",
   "pygments_lexer": "ipython3",
   "version": "3.11.6"
  }
 },
 "nbformat": 4,
 "nbformat_minor": 5
}
