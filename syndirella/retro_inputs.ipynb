{
 "cells": [
  {
   "cell_type": "code",
   "execution_count": 1,
   "id": "d5685e54-4b25-4869-9b41-817b19d7af7c",
   "metadata": {},
   "outputs": [],
   "source": [
    "%load_ext autoreload\n",
    "%autoreload 2\n",
    "import hippo\n",
    "from rdkit.Chem import PandasTools\n",
    "from pandas import DataFrame"
   ]
  },
  {
   "cell_type": "code",
   "execution_count": 2,
   "id": "e14722d2-d58f-4378-a3fb-b128ee367684",
   "metadata": {},
   "outputs": [
    {
     "data": {
      "text/html": [
       "<pre style=\"white-space:pre;overflow-x:auto;line-height:normal;font-family:Menlo,'DejaVu Sans Mono',consolas,'Courier New',monospace\"><span style=\"font-weight: bold\"> Creating HIPPO animal</span>\n",
       "</pre>\n"
      ],
      "text/plain": [
       "\u001b[1m Creating HIPPO animal\u001b[0m\n"
      ]
     },
     "metadata": {},
     "output_type": "display_data"
    },
    {
     "data": {
      "text/html": [
       "<pre style=\"white-space:pre;overflow-x:auto;line-height:normal;font-family:Menlo,'DejaVu Sans Mono',consolas,'Courier New',monospace\"><span style=\"color: #008080; text-decoration-color: #008080; font-weight: bold\">name</span> = <span style=\"color: #00d7af; text-decoration-color: #00d7af\">RdRp_FFF</span>\n",
       "</pre>\n"
      ],
      "text/plain": [
       "\u001b[1;36mname\u001b[0m = \u001b[38;5;43mRdRp_FFF\u001b[0m\n"
      ]
     },
     "metadata": {},
     "output_type": "display_data"
    },
    {
     "data": {
      "text/html": [
       "<pre style=\"white-space:pre;overflow-x:auto;line-height:normal;font-family:Menlo,'DejaVu Sans Mono',consolas,'Courier New',monospace\"><span style=\"color: #008080; text-decoration-color: #008080; font-weight: bold\">db_path</span> = <span style=\"color: #d7af00; text-decoration-color: #d7af00\">bulkdock_snapshot.sqlite</span>\n",
       "</pre>\n"
      ],
      "text/plain": [
       "\u001b[1;36mdb_path\u001b[0m = \u001b[38;5;178mbulkdock_snapshot.sqlite\u001b[0m\n"
      ]
     },
     "metadata": {},
     "output_type": "display_data"
    },
    {
     "data": {
      "text/html": [
       "<pre style=\"white-space:pre;overflow-x:auto;line-height:normal;font-family:Menlo,'DejaVu Sans Mono',consolas,'Courier New',monospace\"><span style=\"color: #808080; text-decoration-color: #808080\">DEBUG: hippo.Database.__init__()</span>\n",
       "</pre>\n"
      ],
      "text/plain": [
       "\u001b[90mDEBUG: hippo.Database.__init__()\u001b[0m\n"
      ]
     },
     "metadata": {},
     "output_type": "display_data"
    },
    {
     "data": {
      "text/html": [
       "<pre style=\"white-space:pre;overflow-x:auto;line-height:normal;font-family:Menlo,'DejaVu Sans Mono',consolas,'Courier New',monospace\"><span style=\"color: #808080; text-decoration-color: #808080\">DEBUG: Database.path = bulkdock_snapshot.sqlite</span>\n",
       "</pre>\n"
      ],
      "text/plain": [
       "\u001b[90mDEBUG: Database.path = bulkdock_snapshot.sqlite\u001b[0m\n"
      ]
     },
     "metadata": {},
     "output_type": "display_data"
    },
    {
     "data": {
      "text/html": [
       "<pre style=\"white-space:pre;overflow-x:auto;line-height:normal;font-family:Menlo,'DejaVu Sans Mono',consolas,'Courier New',monospace\"><span style=\"color: #808080; text-decoration-color: #808080\">DEBUG: hippo.Database.connect()</span>\n",
       "</pre>\n"
      ],
      "text/plain": [
       "\u001b[90mDEBUG: hippo.Database.connect()\u001b[0m\n"
      ]
     },
     "metadata": {},
     "output_type": "display_data"
    },
    {
     "data": {
      "text/html": [
       "<pre style=\"white-space:pre;overflow-x:auto;line-height:normal;font-family:Menlo,'DejaVu Sans Mono',consolas,'Courier New',monospace\"><span style=\"color: #808080; text-decoration-color: #808080\">DEBUG: sqlite3.version='2.6.0'</span>\n",
       "</pre>\n"
      ],
      "text/plain": [
       "\u001b[90mDEBUG: sqlite3.version='2.6.0'\u001b[0m\n"
      ]
     },
     "metadata": {},
     "output_type": "display_data"
    },
    {
     "data": {
      "text/html": [
       "<pre style=\"white-space:pre;overflow-x:auto;line-height:normal;font-family:Menlo,'DejaVu Sans Mono',consolas,'Courier New',monospace\"><span style=\"background-color: #008000; font-weight: bold\"> Success </span><span style=\"color: #008000; text-decoration-color: #008000; font-weight: bold\"> Database connected @</span><span style=\"color: #d7af00; text-decoration-color: #d7af00; font-weight: bold\"> bulkdock_snapshot.sqlite!</span>\n",
       "</pre>\n"
      ],
      "text/plain": [
       "\u001b[1;7;32m Success \u001b[0m\u001b[1;32m Database connected @\u001b[0m\u001b[1;38;5;178m bulkdock_snapshot.sqlite!\u001b[0m\n"
      ]
     },
     "metadata": {},
     "output_type": "display_data"
    },
    {
     "data": {
      "text/html": [
       "<pre style=\"white-space:pre;overflow-x:auto;line-height:normal;font-family:Menlo,'DejaVu Sans Mono',consolas,'Courier New',monospace\"><span style=\"background-color: #008000; font-weight: bold\"> Success </span><span style=\"color: #008000; text-decoration-color: #008000; font-weight: bold\"> Initialised animal</span><span style=\"color: #008080; text-decoration-color: #008080; font-weight: bold\"> HIPPO(\"RdRp_FFF\")!</span>\n",
       "</pre>\n"
      ],
      "text/plain": [
       "\u001b[1;7;32m Success \u001b[0m\u001b[1;32m Initialised animal\u001b[0m\u001b[1;36m HIPPO(\"RdRp_FFF\")!\u001b[0m\n"
      ]
     },
     "metadata": {},
     "output_type": "display_data"
    }
   ],
   "source": [
    "animal = hippo.HIPPO(\"RdRp_FFF\", \"bulkdock_snapshot.sqlite\") #, copy_from=\"../../BulkDock/TARGETS/Flavi_NS5_RdRp/Flavi_NS5_RdRp.sqlite\", overwrite_existing=True)"
   ]
  },
  {
   "cell_type": "code",
   "execution_count": 46,
   "id": "65fc40b4-0943-44a4-bf90-fd2bc059e7cf",
   "metadata": {},
   "outputs": [],
   "source": [
    "name = \"fstein_cavity_b\"\n",
    "sdf = \"../fragmenstein/RdRp_fstein_cavity_b_split1000_batch000_216971_fragalysis.sdf\"\n",
    "\n",
    "name = \"fstein_primer_grip_n_pocket\"\n",
    "sdf = \"../fragmenstein/RdRp_primer_grip_n_pocket_fstein_bulkdock_input_split1000_batch000_217912_fragalysis.sdf\"\n",
    "\n",
    "name = \"fstein_thumb_site_2\"\n",
    "sdf = \"../fragmenstein/RdRp_thumb_site_2_fstein_bulkdock_input_split1000_batch000_217914_fragalysis.sdf\"\n",
    "\n",
    "name = \"fstein_green_site_rna_tunnel\"\n",
    "sdf = \"../fragmenstein/RdRp_green_site_rna_tunnel_fstein_bulkdock_input_fragalysis.sdf\"\n",
    "\n",
    "name = \"knitwork_cavity_b_impure\"\n",
    "sdf = \"../knitwork/RdRp_knitwork_cavity_b_impure_split4000_batch000_211008_fragalysis.sdf\"\n",
    "\n",
    "name = \"knitwork_cavity_b_pure\"\n",
    "sdf = \"../knitwork/RdRp_knitwork_cavity_b_pure_split4000_batch000_211006_fragalysis.sdf\"\n",
    "\n",
    "name = \"knitwork_primer_grip_n_pocket_impure\"\n",
    "sdf = \"../knitwork/RdRp_knitwork_primer_grip_n_pocket_impure_fragalysis.sdf\"\n",
    "\n",
    "name = \"knitwork_primer_grip_n_pocket_pure\"\n",
    "sdf = \"../knitwork/RdRp_knitwork_primer_grip_n_pocket_pure_fragalysis.sdf\"\n",
    "\n",
    "name = \"knitwork_thumb_site_2_impure\"\n",
    "sdf = \"../knitwork/RdRp_knitwork_thumb_site_2_impure_fragalysis.sdf\"\n",
    "\n",
    "name = \"knitwork_thumb_site_2_pure\"\n",
    "sdf = \"../knitwork/RdRp_knitwork_thumb_site_2_pure_fragalysis.sdf\""
   ]
  },
  {
   "cell_type": "code",
   "execution_count": 47,
   "id": "21b9a78e-fdac-4409-9a59-1ca99c1156b2",
   "metadata": {
    "scrolled": true
   },
   "outputs": [
    {
     "data": {
      "text/plain": [
       "\u001b[1m\u001b[4m{P × 88}\u001b[22m\u001b[24m"
      ]
     },
     "execution_count": 47,
     "metadata": {},
     "output_type": "execute_result"
    }
   ],
   "source": [
    "df = PandasTools.LoadSDF(sdf)\n",
    "derivative_ids = set([int(i) for i in df[\"ID\"].values[1:]])\n",
    "derivatives = animal.poses[derivative_ids]\n",
    "derivatives"
   ]
  },
  {
   "cell_type": "code",
   "execution_count": 48,
   "id": "cd686f53-126d-470c-80f9-0d121afd4d36",
   "metadata": {},
   "outputs": [
    {
     "data": {
      "text/html": [
       "<pre style=\"white-space:pre;overflow-x:auto;line-height:normal;font-family:Menlo,'DejaVu Sans Mono',consolas,'Courier New',monospace\"><span style=\"color: #008080; text-decoration-color: #008080; font-weight: bold\">out_key</span> = knitwork_thumb_site_2_pure\n",
       "</pre>\n"
      ],
      "text/plain": [
       "\u001b[1;36mout_key\u001b[0m = knitwork_thumb_site_2_pure\n"
      ]
     },
     "metadata": {},
     "output_type": "display_data"
    },
    {
     "data": {
      "text/html": [
       "<pre style=\"white-space:pre;overflow-x:auto;line-height:normal;font-family:Menlo,'DejaVu Sans Mono',consolas,'Courier New',monospace\"><span style=\"color: #008080; text-decoration-color: #008080; font-weight: bold\">#poses</span> = <span style=\"color: #008080; text-decoration-color: #008080; font-weight: bold\">88</span>\n",
       "</pre>\n"
      ],
      "text/plain": [
       "\u001b[1;36m#poses\u001b[0m = \u001b[1;36m88\u001b[0m\n"
      ]
     },
     "metadata": {},
     "output_type": "display_data"
    },
    {
     "data": {
      "application/vnd.jupyter.widget-view+json": {
       "model_id": "5dacafedb0b748fc8b2ef33177a3d44d",
       "version_major": 2,
       "version_minor": 0
      },
      "text/plain": [
       "Output()"
      ]
     },
     "metadata": {},
     "output_type": "display_data"
    },
    {
     "data": {
      "text/html": [
       "<pre style=\"white-space:pre;overflow-x:auto;line-height:normal;font-family:Menlo,'DejaVu Sans Mono',consolas,'Courier New',monospace\"></pre>\n"
      ],
      "text/plain": []
     },
     "metadata": {},
     "output_type": "display_data"
    },
    {
     "data": {
      "text/html": [
       "<pre style=\"white-space:pre;overflow-x:auto;line-height:normal;font-family:Menlo,'DejaVu Sans Mono',consolas,'Courier New',monospace\"><span style=\"background-color: #d7af00; font-weight: bold\"> DISK </span> Writing <span style=\"color: #d7af00; text-decoration-color: #d7af00\">knitwork_thumb_site_2_pure/knitwork_thumb_site_2_pure_syndirella_input.csv</span>...\n",
       "</pre>\n"
      ],
      "text/plain": [
       "\u001b[1;7;38;5;178m DISK \u001b[0m Writing \u001b[38;5;178mknitwork_thumb_site_2_pure/knitwork_thumb_site_2_pure_syndirella_input.csv\u001b[0m...\n"
      ]
     },
     "metadata": {},
     "output_type": "display_data"
    },
    {
     "data": {
      "text/html": [
       "<pre style=\"white-space:pre;overflow-x:auto;line-height:normal;font-family:Menlo,'DejaVu Sans Mono',consolas,'Courier New',monospace\"><span style=\"background-color: #d7af00; font-weight: bold\"> DISK </span> Writing <span style=\"color: #d7af00; text-decoration-color: #d7af00\">knitwork_thumb_site_2_pure/knitwork_thumb_site_2_pure_syndirella_inspiration_hits.sdf</span>...\n",
       "</pre>\n"
      ],
      "text/plain": [
       "\u001b[1;7;38;5;178m DISK \u001b[0m Writing \u001b[38;5;178mknitwork_thumb_site_2_pure/knitwork_thumb_site_2_pure_syndirella_inspiration_hits.sdf\u001b[0m...\n"
      ]
     },
     "metadata": {},
     "output_type": "display_data"
    },
    {
     "name": "stdout",
     "output_type": "stream",
     "text": [
      "CPU times: user 2.5 s, sys: 3 s, total: 5.5 s\n",
      "Wall time: 51.6 s\n"
     ]
    },
    {
     "data": {
      "text/html": [
       "<div>\n",
       "<style scoped>\n",
       "    .dataframe tbody tr th:only-of-type {\n",
       "        vertical-align: middle;\n",
       "    }\n",
       "\n",
       "    .dataframe tbody tr th {\n",
       "        vertical-align: top;\n",
       "    }\n",
       "\n",
       "    .dataframe thead th {\n",
       "        text-align: right;\n",
       "    }\n",
       "</style>\n",
       "<table border=\"1\" class=\"dataframe\">\n",
       "  <thead>\n",
       "    <tr style=\"text-align: right;\">\n",
       "      <th></th>\n",
       "      <th>smiles</th>\n",
       "      <th>template</th>\n",
       "      <th>compound_set</th>\n",
       "      <th>hit1</th>\n",
       "      <th>hit2</th>\n",
       "      <th>hit3</th>\n",
       "    </tr>\n",
       "  </thead>\n",
       "  <tbody>\n",
       "    <tr>\n",
       "      <th>0</th>\n",
       "      <td>CN(c1cccnc1)S(=O)(=O)CCC1Cc2ccccc2C1</td>\n",
       "      <td>/opt/xchem-fragalysis-2/maxwin/BulkDock/TARGET...</td>\n",
       "      <td>knitwork_thumb_site_2_pure</td>\n",
       "      <td>d0174a</td>\n",
       "      <td>d0279a</td>\n",
       "      <td>NaN</td>\n",
       "    </tr>\n",
       "    <tr>\n",
       "      <th>1</th>\n",
       "      <td>CCS(=O)(=O)NCc1ccc(N2CCCc3ccccc32)nc1</td>\n",
       "      <td>/opt/xchem-fragalysis-2/maxwin/BulkDock/TARGET...</td>\n",
       "      <td>knitwork_thumb_site_2_pure</td>\n",
       "      <td>d0174a</td>\n",
       "      <td>d0279a</td>\n",
       "      <td>d0615a</td>\n",
       "    </tr>\n",
       "    <tr>\n",
       "      <th>2</th>\n",
       "      <td>CCS(=O)(=O)NCc1ccc(N2CCCc3ccccc32)nc1</td>\n",
       "      <td>/opt/xchem-fragalysis-2/maxwin/BulkDock/TARGET...</td>\n",
       "      <td>knitwork_thumb_site_2_pure</td>\n",
       "      <td>d0174a</td>\n",
       "      <td>d0279a</td>\n",
       "      <td>NaN</td>\n",
       "    </tr>\n",
       "    <tr>\n",
       "      <th>3</th>\n",
       "      <td>CCS(=O)(=O)NCc1ncccc1F</td>\n",
       "      <td>/opt/xchem-fragalysis-2/maxwin/BulkDock/TARGET...</td>\n",
       "      <td>knitwork_thumb_site_2_pure</td>\n",
       "      <td>d0174a</td>\n",
       "      <td>d0279a</td>\n",
       "      <td>d0615a</td>\n",
       "    </tr>\n",
       "    <tr>\n",
       "      <th>4</th>\n",
       "      <td>CCS(=O)(=O)NCc1ncccc1F</td>\n",
       "      <td>/opt/xchem-fragalysis-2/maxwin/BulkDock/TARGET...</td>\n",
       "      <td>knitwork_thumb_site_2_pure</td>\n",
       "      <td>d0174a</td>\n",
       "      <td>d0279a</td>\n",
       "      <td>NaN</td>\n",
       "    </tr>\n",
       "    <tr>\n",
       "      <th>...</th>\n",
       "      <td>...</td>\n",
       "      <td>...</td>\n",
       "      <td>...</td>\n",
       "      <td>...</td>\n",
       "      <td>...</td>\n",
       "      <td>...</td>\n",
       "    </tr>\n",
       "    <tr>\n",
       "      <th>83</th>\n",
       "      <td>CCS(=O)(=O)NCc1cnccc1C</td>\n",
       "      <td>/opt/xchem-fragalysis-2/maxwin/BulkDock/TARGET...</td>\n",
       "      <td>knitwork_thumb_site_2_pure</td>\n",
       "      <td>d0174a</td>\n",
       "      <td>d0615a</td>\n",
       "      <td>NaN</td>\n",
       "    </tr>\n",
       "    <tr>\n",
       "      <th>84</th>\n",
       "      <td>CCS(=O)(=O)NCc1nc(C=Cc2ccccn2)no1</td>\n",
       "      <td>/opt/xchem-fragalysis-2/maxwin/BulkDock/TARGET...</td>\n",
       "      <td>knitwork_thumb_site_2_pure</td>\n",
       "      <td>d0174a</td>\n",
       "      <td>d0279a</td>\n",
       "      <td>NaN</td>\n",
       "    </tr>\n",
       "    <tr>\n",
       "      <th>85</th>\n",
       "      <td>CCS(=O)(=O)NCc1nc(C=Cc2ccccn2)no1</td>\n",
       "      <td>/opt/xchem-fragalysis-2/maxwin/BulkDock/TARGET...</td>\n",
       "      <td>knitwork_thumb_site_2_pure</td>\n",
       "      <td>d0174a</td>\n",
       "      <td>d0279a</td>\n",
       "      <td>NaN</td>\n",
       "    </tr>\n",
       "    <tr>\n",
       "      <th>86</th>\n",
       "      <td>CCS(=O)(=O)N(C)c1ccc(Oc2ccccn2)cc1</td>\n",
       "      <td>/opt/xchem-fragalysis-2/maxwin/BulkDock/TARGET...</td>\n",
       "      <td>knitwork_thumb_site_2_pure</td>\n",
       "      <td>d0174a</td>\n",
       "      <td>d0279a</td>\n",
       "      <td>NaN</td>\n",
       "    </tr>\n",
       "    <tr>\n",
       "      <th>87</th>\n",
       "      <td>CCS(=O)(=O)N(C)c1cccnc1</td>\n",
       "      <td>/opt/xchem-fragalysis-2/maxwin/BulkDock/TARGET...</td>\n",
       "      <td>knitwork_thumb_site_2_pure</td>\n",
       "      <td>d0174a</td>\n",
       "      <td>d0279a</td>\n",
       "      <td>NaN</td>\n",
       "    </tr>\n",
       "  </tbody>\n",
       "</table>\n",
       "<p>88 rows × 6 columns</p>\n",
       "</div>"
      ],
      "text/plain": [
       "                                   smiles  \\\n",
       "0    CN(c1cccnc1)S(=O)(=O)CCC1Cc2ccccc2C1   \n",
       "1   CCS(=O)(=O)NCc1ccc(N2CCCc3ccccc32)nc1   \n",
       "2   CCS(=O)(=O)NCc1ccc(N2CCCc3ccccc32)nc1   \n",
       "3                  CCS(=O)(=O)NCc1ncccc1F   \n",
       "4                  CCS(=O)(=O)NCc1ncccc1F   \n",
       "..                                    ...   \n",
       "83                 CCS(=O)(=O)NCc1cnccc1C   \n",
       "84      CCS(=O)(=O)NCc1nc(C=Cc2ccccn2)no1   \n",
       "85      CCS(=O)(=O)NCc1nc(C=Cc2ccccn2)no1   \n",
       "86     CCS(=O)(=O)N(C)c1ccc(Oc2ccccn2)cc1   \n",
       "87                CCS(=O)(=O)N(C)c1cccnc1   \n",
       "\n",
       "                                             template  \\\n",
       "0   /opt/xchem-fragalysis-2/maxwin/BulkDock/TARGET...   \n",
       "1   /opt/xchem-fragalysis-2/maxwin/BulkDock/TARGET...   \n",
       "2   /opt/xchem-fragalysis-2/maxwin/BulkDock/TARGET...   \n",
       "3   /opt/xchem-fragalysis-2/maxwin/BulkDock/TARGET...   \n",
       "4   /opt/xchem-fragalysis-2/maxwin/BulkDock/TARGET...   \n",
       "..                                                ...   \n",
       "83  /opt/xchem-fragalysis-2/maxwin/BulkDock/TARGET...   \n",
       "84  /opt/xchem-fragalysis-2/maxwin/BulkDock/TARGET...   \n",
       "85  /opt/xchem-fragalysis-2/maxwin/BulkDock/TARGET...   \n",
       "86  /opt/xchem-fragalysis-2/maxwin/BulkDock/TARGET...   \n",
       "87  /opt/xchem-fragalysis-2/maxwin/BulkDock/TARGET...   \n",
       "\n",
       "                  compound_set    hit1    hit2    hit3  \n",
       "0   knitwork_thumb_site_2_pure  d0174a  d0279a     NaN  \n",
       "1   knitwork_thumb_site_2_pure  d0174a  d0279a  d0615a  \n",
       "2   knitwork_thumb_site_2_pure  d0174a  d0279a     NaN  \n",
       "3   knitwork_thumb_site_2_pure  d0174a  d0279a  d0615a  \n",
       "4   knitwork_thumb_site_2_pure  d0174a  d0279a     NaN  \n",
       "..                         ...     ...     ...     ...  \n",
       "83  knitwork_thumb_site_2_pure  d0174a  d0615a     NaN  \n",
       "84  knitwork_thumb_site_2_pure  d0174a  d0279a     NaN  \n",
       "85  knitwork_thumb_site_2_pure  d0174a  d0279a     NaN  \n",
       "86  knitwork_thumb_site_2_pure  d0174a  d0279a     NaN  \n",
       "87  knitwork_thumb_site_2_pure  d0174a  d0279a     NaN  \n",
       "\n",
       "[88 rows x 6 columns]"
      ]
     },
     "execution_count": 48,
     "metadata": {},
     "output_type": "execute_result"
    }
   ],
   "source": [
    "%%time\n",
    "derivatives.to_syndirella(f\"{name}/{name}\")"
   ]
  },
  {
   "cell_type": "code",
   "execution_count": null,
   "id": "bb53d57e-abda-4e9e-b6bf-ba390007959f",
   "metadata": {},
   "outputs": [],
   "source": []
  }
 ],
 "metadata": {
  "kernelspec": {
   "display_name": "Python [conda env:base] *",
   "language": "python",
   "name": "conda-base-py"
  },
  "language_info": {
   "codemirror_mode": {
    "name": "ipython",
    "version": 3
   },
   "file_extension": ".py",
   "mimetype": "text/x-python",
   "name": "python",
   "nbconvert_exporter": "python",
   "pygments_lexer": "ipython3",
   "version": "3.11.6"
  }
 },
 "nbformat": 4,
 "nbformat_minor": 5
}
