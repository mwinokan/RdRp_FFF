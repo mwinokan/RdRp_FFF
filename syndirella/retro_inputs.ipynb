{
 "cells": [
  {
   "cell_type": "code",
   "execution_count": 1,
   "id": "d5685e54-4b25-4869-9b41-817b19d7af7c",
   "metadata": {},
   "outputs": [],
   "source": [
    "%load_ext autoreload\n",
    "%autoreload 2\n",
    "import hippo\n",
    "from rdkit.Chem import PandasTools\n",
    "from pandas import DataFrame"
   ]
  },
  {
   "cell_type": "code",
   "execution_count": 2,
   "id": "e14722d2-d58f-4378-a3fb-b128ee367684",
   "metadata": {},
   "outputs": [
    {
     "data": {
      "text/html": [
       "<pre style=\"white-space:pre;overflow-x:auto;line-height:normal;font-family:Menlo,'DejaVu Sans Mono',consolas,'Courier New',monospace\"><span style=\"font-weight: bold\"> Creating HIPPO animal</span>\n",
       "</pre>\n"
      ],
      "text/plain": [
       "\u001b[1m Creating HIPPO animal\u001b[0m\n"
      ]
     },
     "metadata": {},
     "output_type": "display_data"
    },
    {
     "data": {
      "text/html": [
       "<pre style=\"white-space:pre;overflow-x:auto;line-height:normal;font-family:Menlo,'DejaVu Sans Mono',consolas,'Courier New',monospace\"><span style=\"color: #008080; text-decoration-color: #008080; font-weight: bold\">name</span> = <span style=\"color: #00d7af; text-decoration-color: #00d7af\">RdRp_FFF</span>\n",
       "</pre>\n"
      ],
      "text/plain": [
       "\u001b[1;36mname\u001b[0m = \u001b[38;5;43mRdRp_FFF\u001b[0m\n"
      ]
     },
     "metadata": {},
     "output_type": "display_data"
    },
    {
     "data": {
      "text/html": [
       "<pre style=\"white-space:pre;overflow-x:auto;line-height:normal;font-family:Menlo,'DejaVu Sans Mono',consolas,'Courier New',monospace\"><span style=\"color: #008080; text-decoration-color: #008080; font-weight: bold\">db_path</span> = <span style=\"color: #d7af00; text-decoration-color: #d7af00\">bulkdock_snapshot.sqlite</span>\n",
       "</pre>\n"
      ],
      "text/plain": [
       "\u001b[1;36mdb_path\u001b[0m = \u001b[38;5;178mbulkdock_snapshot.sqlite\u001b[0m\n"
      ]
     },
     "metadata": {},
     "output_type": "display_data"
    },
    {
     "data": {
      "text/html": [
       "<pre style=\"white-space:pre;overflow-x:auto;line-height:normal;font-family:Menlo,'DejaVu Sans Mono',consolas,'Courier New',monospace\"><span style=\"color: #808080; text-decoration-color: #808080\">DEBUG: hippo.Database.__init__()</span>\n",
       "</pre>\n"
      ],
      "text/plain": [
       "\u001b[90mDEBUG: hippo.Database.__init__()\u001b[0m\n"
      ]
     },
     "metadata": {},
     "output_type": "display_data"
    },
    {
     "data": {
      "text/html": [
       "<pre style=\"white-space:pre;overflow-x:auto;line-height:normal;font-family:Menlo,'DejaVu Sans Mono',consolas,'Courier New',monospace\"><span style=\"color: #808080; text-decoration-color: #808080\">DEBUG: Database.path = bulkdock_snapshot.sqlite</span>\n",
       "</pre>\n"
      ],
      "text/plain": [
       "\u001b[90mDEBUG: Database.path = bulkdock_snapshot.sqlite\u001b[0m\n"
      ]
     },
     "metadata": {},
     "output_type": "display_data"
    },
    {
     "data": {
      "text/html": [
       "<pre style=\"white-space:pre;overflow-x:auto;line-height:normal;font-family:Menlo,'DejaVu Sans Mono',consolas,'Courier New',monospace\"><span style=\"color: #808080; text-decoration-color: #808080\">DEBUG: hippo.Database.connect()</span>\n",
       "</pre>\n"
      ],
      "text/plain": [
       "\u001b[90mDEBUG: hippo.Database.connect()\u001b[0m\n"
      ]
     },
     "metadata": {},
     "output_type": "display_data"
    },
    {
     "data": {
      "text/html": [
       "<pre style=\"white-space:pre;overflow-x:auto;line-height:normal;font-family:Menlo,'DejaVu Sans Mono',consolas,'Courier New',monospace\"><span style=\"color: #808080; text-decoration-color: #808080\">DEBUG: sqlite3.version='2.6.0'</span>\n",
       "</pre>\n"
      ],
      "text/plain": [
       "\u001b[90mDEBUG: sqlite3.version='2.6.0'\u001b[0m\n"
      ]
     },
     "metadata": {},
     "output_type": "display_data"
    },
    {
     "data": {
      "text/html": [
       "<pre style=\"white-space:pre;overflow-x:auto;line-height:normal;font-family:Menlo,'DejaVu Sans Mono',consolas,'Courier New',monospace\"><span style=\"background-color: #008000; font-weight: bold\"> Success </span><span style=\"color: #008000; text-decoration-color: #008000; font-weight: bold\"> Database connected @</span><span style=\"color: #d7af00; text-decoration-color: #d7af00; font-weight: bold\"> bulkdock_snapshot.sqlite!</span>\n",
       "</pre>\n"
      ],
      "text/plain": [
       "\u001b[1;7;32m Success \u001b[0m\u001b[1;32m Database connected @\u001b[0m\u001b[1;38;5;178m bulkdock_snapshot.sqlite!\u001b[0m\n"
      ]
     },
     "metadata": {},
     "output_type": "display_data"
    },
    {
     "data": {
      "text/html": [
       "<pre style=\"white-space:pre;overflow-x:auto;line-height:normal;font-family:Menlo,'DejaVu Sans Mono',consolas,'Courier New',monospace\"><span style=\"background-color: #008000; font-weight: bold\"> Success </span><span style=\"color: #008000; text-decoration-color: #008000; font-weight: bold\"> Initialised animal</span><span style=\"color: #008080; text-decoration-color: #008080; font-weight: bold\"> HIPPO(\"RdRp_FFF\")!</span>\n",
       "</pre>\n"
      ],
      "text/plain": [
       "\u001b[1;7;32m Success \u001b[0m\u001b[1;32m Initialised animal\u001b[0m\u001b[1;36m HIPPO(\"RdRp_FFF\")!\u001b[0m\n"
      ]
     },
     "metadata": {},
     "output_type": "display_data"
    }
   ],
   "source": [
    "animal = hippo.HIPPO(\"RdRp_FFF\", \"bulkdock_snapshot.sqlite\") #, copy_from=\"../../BulkDock/TARGETS/Flavi_NS5_RdRp/Flavi_NS5_RdRp.sqlite\", overwrite_existing=True)"
   ]
  },
  {
   "cell_type": "code",
   "execution_count": 34,
   "id": "65fc40b4-0943-44a4-bf90-fd2bc059e7cf",
   "metadata": {},
   "outputs": [],
   "source": [
    "name = \"fstein_cavity_b\"\n",
    "sdf = \"../fragmenstein/RdRp_fstein_cavity_b_split1000_batch000_216971_fragalysis.sdf\"\n",
    "\n",
    "name = \"fstein_primer_grip_n_pocket\"\n",
    "sdf = \"../fragmenstein/RdRp_primer_grip_n_pocket_fstein_bulkdock_input_split1000_batch000_217912_fragalysis.sdf\"\n",
    "\n",
    "name = \"fstein_thumb_site_2\"\n",
    "sdf = \"../fragmenstein/RdRp_thumb_site_2_fstein_bulkdock_input_split1000_batch000_217914_fragalysis.sdf\"\n",
    "\n",
    "name = \"fstein_green_site_rna_tunnel\"\n",
    "sdf = \"../fragmenstein/RdRp_green_site_rna_tunnel_fstein_bulkdock_input_fragalysis.sdf\"\n",
    "\n",
    "name = \"knitwork_cavity_b_impure\"\n",
    "sdf = \"../knitwork/RdRp_knitwork_cavity_b_impure_split4000_batch000_211008_fragalysis.sdf\"\n",
    "\n",
    "name = \"knitwork_cavity_b_pure\"\n",
    "sdf = \"../knitwork/RdRp_knitwork_cavity_b_pure_split4000_batch000_211006_fragalysis.sdf\"\n",
    "\n",
    "name = \"kntiwork_primer_grip_n_pocket_impure\"\n",
    "sdf = \"../knitwork/RdRp_knitwork_primer_grip_n_pocket_impure_fragalysis.sdf\"\n",
    "\n",
    "name = \"kntiwork_primer_grip_n_pocket_pure\"\n",
    "sdf = \"../knitwork/RdRp_knitwork_primer_grip_n_pocket_pure_fragalysis.sdf\"\n",
    "\n",
    "name = \"kntiwork_primer_thumb_site_2_impure\"\n",
    "sdf = \"../knitwork/RdRp_knitwork_thumb_site_2_impure_fragalysis.sdf\"\n",
    "\n",
    "name = \"kntiwork_primer_thumb_site_2_pure\"\n",
    "sdf = \"../knitwork/RdRp_knitwork_thumb_site_2_pure_fragalysis.sdf\""
   ]
  },
  {
   "cell_type": "code",
   "execution_count": 35,
   "id": "21b9a78e-fdac-4409-9a59-1ca99c1156b2",
   "metadata": {
    "scrolled": true
   },
   "outputs": [
    {
     "data": {
      "text/plain": [
       "\u001b[1m\u001b[4m{P × 88}\u001b[22m\u001b[24m"
      ]
     },
     "execution_count": 35,
     "metadata": {},
     "output_type": "execute_result"
    }
   ],
   "source": [
    "df = PandasTools.LoadSDF(sdf)\n",
    "derivative_ids = set([int(i) for i in df[\"ID\"].values[1:]])\n",
    "derivatives = animal.poses[derivative_ids]\n",
    "derivatives"
   ]
  },
  {
   "cell_type": "code",
   "execution_count": null,
   "id": "cd686f53-126d-470c-80f9-0d121afd4d36",
   "metadata": {},
   "outputs": [
    {
     "data": {
      "text/html": [
       "<pre style=\"white-space:pre;overflow-x:auto;line-height:normal;font-family:Menlo,'DejaVu Sans Mono',consolas,'Courier New',monospace\"><span style=\"color: #008080; text-decoration-color: #008080; font-weight: bold\">out_key</span> = kntiwork_primer_thumb_site_2_pure\n",
       "</pre>\n"
      ],
      "text/plain": [
       "\u001b[1;36mout_key\u001b[0m = kntiwork_primer_thumb_site_2_pure\n"
      ]
     },
     "metadata": {},
     "output_type": "display_data"
    },
    {
     "data": {
      "text/html": [
       "<pre style=\"white-space:pre;overflow-x:auto;line-height:normal;font-family:Menlo,'DejaVu Sans Mono',consolas,'Courier New',monospace\"><span style=\"color: #008080; text-decoration-color: #008080; font-weight: bold\">#poses</span> = <span style=\"color: #008080; text-decoration-color: #008080; font-weight: bold\">88</span>\n",
       "</pre>\n"
      ],
      "text/plain": [
       "\u001b[1;36m#poses\u001b[0m = \u001b[1;36m88\u001b[0m\n"
      ]
     },
     "metadata": {},
     "output_type": "display_data"
    },
    {
     "data": {
      "application/vnd.jupyter.widget-view+json": {
       "model_id": "311d31f04b754e66a3a271ec9fef9359",
       "version_major": 2,
       "version_minor": 0
      },
      "text/plain": [
       "Output()"
      ]
     },
     "metadata": {},
     "output_type": "display_data"
    }
   ],
   "source": [
    "%%time\n",
    "derivatives.to_syndirella(f\"{name}/{name}\")"
   ]
  },
  {
   "cell_type": "code",
   "execution_count": null,
   "id": "bb53d57e-abda-4e9e-b6bf-ba390007959f",
   "metadata": {},
   "outputs": [],
   "source": []
  }
 ],
 "metadata": {
  "kernelspec": {
   "display_name": "Python [conda env:base] *",
   "language": "python",
   "name": "conda-base-py"
  },
  "language_info": {
   "codemirror_mode": {
    "name": "ipython",
    "version": 3
   },
   "file_extension": ".py",
   "mimetype": "text/x-python",
   "name": "python",
   "nbconvert_exporter": "python",
   "pygments_lexer": "ipython3",
   "version": "3.11.6"
  }
 },
 "nbformat": 4,
 "nbformat_minor": 5
}
